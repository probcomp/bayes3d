{
 "cells": [
  {
   "cell_type": "code",
   "execution_count": 1,
   "metadata": {},
   "outputs": [],
   "source": [
    "gimport bayes3d as b\n",
    "import jax.numpy as jnp\n",
    "import jax\n",
    "import os\n",
    "import matplotlib.pyplot as plt\n",
    "import matplotlib"
   ]
  },
  {
   "cell_type": "code",
   "execution_count": 2,
   "metadata": {},
   "outputs": [
    {
     "data": {
      "text/plain": [
       "<function bayes3d.renderer.setup_renderer(intrinsics, num_layers=1024)>"
      ]
     },
     "execution_count": 2,
     "metadata": {},
     "output_type": "execute_result"
    }
   ],
   "source": [
    "b.setup_renderer"
   ]
  },
  {
   "cell_type": "code",
   "execution_count": 24,
   "metadata": {},
   "outputs": [
    {
     "name": "stderr",
     "output_type": "stream",
     "text": [
      "[E rasterize_gl.cpp:121] OpenGL version reported as 4.6\n"
     ]
    },
    {
     "name": "stdout",
     "output_type": "stream",
     "text": [
      "Increasing frame buffer size to (width, height, depth) = (320, 320, 1024)\n"
     ]
    }
   ],
   "source": [
    "\n",
    "intrinsics = b.Intrinsics(\n",
    "    height=310,\n",
    "    width=300,\n",
    "    fx=500.0, fy=500.0,\n",
    "    cx=150.0, cy=155.0,\n",
    "    near=0.01, far=10.0\n",
    ")\n",
    "\n",
    "b.setup_renderer(intrinsics)\n",
    "model_dir = os.path.join(b.utils.get_assets_dir(),\"bop/ycbv/models\")\n",
    "meshes = []\n",
    "for idx in range(1,22):\n",
    "    mesh_path = os.path.join(model_dir,\"obj_\" + \"{}\".format(idx).rjust(6, '0') + \".ply\")\n",
    "    b.RENDERER.add_mesh_from_file(mesh_path, scaling_factor=3.0/1000.0)\n",
    "\n",
    "# b.RENDERER.add_mesh_from_file(os.path.join(b.utils.get_assets_dir(), \"sample_objs/cube.obj\"), scaling_factor=1.0/10000000000.0)"
   ]
  },
  {
   "cell_type": "code",
   "execution_count": 4,
   "metadata": {},
   "outputs": [
    {
     "name": "stdout",
     "output_type": "stream",
     "text": [
      "You can open the visualizer by visiting the following URL:\n",
      "http://127.0.0.1:7004/static/\n"
     ]
    }
   ],
   "source": [
    "b.setup_visualizer()"
   ]
  },
  {
   "cell_type": "code",
   "execution_count": 109,
   "metadata": {},
   "outputs": [
    {
     "data": {
      "text/plain": [
       "'024_bowl'"
      ]
     },
     "execution_count": 109,
     "metadata": {},
     "output_type": "execute_result"
    }
   ],
   "source": [
    "b.ycb_loader.MODEL_NAMES[12]"
   ]
  },
  {
   "cell_type": "code",
   "execution_count": 124,
   "metadata": {},
   "outputs": [
    {
     "name": "stdout",
     "output_type": "stream",
     "text": [
      "(20, 150, 3)\n"
     ]
    }
   ],
   "source": [
    "IDX = 12\n",
    "frames = 20\n",
    "dots = 150\n",
    "pc = jnp.array(b.RENDERER.meshes[IDX].vertices)\n",
    "lifetime = 5 #keep 1-1/5 of the dots after every frame update\n",
    "\n",
    "pc_subsample_start = pc[jax.random.choice(jax.random.PRNGKey(10), jnp.arange(pc.shape[0]), shape=(dots,) )] #want 1000 dots total\n",
    "pc_replacements = pc[jax.random.choice(jax.random.PRNGKey(0), jnp.arange(pc.shape[0]), shape=(frames,dots//lifetime) )]\n",
    "\n",
    "pc_subsamples = jnp.zeros((frames,*pc_subsample_start.shape))\n",
    "pc_subsamples = pc_subsamples.at[0,...].set(pc_subsample_start)\n",
    "for i in range(1,frames):\n",
    "    pc_subsamples = pc_subsamples.at[i,...].set(pc_subsamples[i-1,...])\n",
    "    sampled_indices = jax.random.choice(jax.random.PRNGKey(i), jnp.arange(dots), shape=(dots//lifetime,) )\n",
    "    pc_subsamples = pc_subsamples.at[i,sampled_indices,...].set(pc_replacements[i,...])\n",
    "\n",
    "print(pc_subsamples.shape)\n",
    "    "
   ]
  },
  {
   "cell_type": "code",
   "execution_count": 125,
   "metadata": {},
   "outputs": [],
   "source": [
    "b.show_cloud(\"1\", pc_subsamples[0])"
   ]
  },
  {
   "cell_type": "code",
   "execution_count": 126,
   "metadata": {},
   "outputs": [
    {
     "name": "stdout",
     "output_type": "stream",
     "text": [
      "(20, 4, 4)\n"
     ]
    }
   ],
   "source": [
    "poses = jnp.array([b.t3d.inverse_pose(b.t3d.transform_from_pos_target_up(\n",
    "        jnp.array([0.0, 2.0, 0.0]),\n",
    "        jnp.array([0.0, 0.0, 0.0]),\n",
    "        jnp.array([0.0, 0.0, 1.0]),\n",
    ")) @ b.t3d.transform_from_axis_angle(jnp.array([0.0, 0.0, 1.0]), angle) for angle in jnp.linspace(0.0, 4*jnp.pi, frames)])\n",
    "\n",
    "print(poses.shape)"
   ]
  },
  {
   "cell_type": "code",
   "execution_count": 127,
   "metadata": {},
   "outputs": [],
   "source": [
    "def circles_(flips_xy, radius):\n",
    "    centers = jnp.array((flips_xy>0).nonzero(size=5000,fill_value=jnp.inf))\n",
    "    x,y = jnp.meshgrid(jnp.arange(flips_xy.shape[1]),jnp.arange(flips_xy.shape[0]))\n",
    "    xymesh = jnp.array([y,x])\n",
    "    distances_to_keypoints = (\n",
    "        jnp.linalg.norm(xymesh[:, :,:,None] - centers[:,None, None,:],\n",
    "        axis=0\n",
    "    ))\n",
    "    index_of_nearest_keypoint = distances_to_keypoints.argmin(2)\n",
    "    distance_to_nearest_keypoints = distances_to_keypoints.min(2)\n",
    "    DISTANCE_THRESHOLD = radius\n",
    "    valid_match_mask = (distance_to_nearest_keypoints < DISTANCE_THRESHOLD)[...,None]\n",
    "    return valid_match_mask\n",
    "\n",
    "def render_point_light(pose, pc_to_render, key):\n",
    "    pc_in_camera_frame = b.t3d.apply_transform(pc_to_render, pose)\n",
    "    img = b.render_point_cloud(pc_in_camera_frame, intrinsics)\n",
    "    rendered_image = point_cloud_img = b.RENDERER.render_single_object(pose,  jnp.int32(IDX))[:,:,:3]\n",
    "    mask = (rendered_image[:,:,2] < intrinsics.far)\n",
    "    \n",
    "    matches = (jnp.abs(img[:,:,2] - rendered_image[:,:,2]) < 0.05)\n",
    "    \n",
    "    flips = (jax.random.uniform(key,shape=matches.shape) < 0.005)\n",
    "    \n",
    "    final_no_noise = mask * matches + (1.0 - mask) * flips\n",
    "    \n",
    "    final_with_noise = circles_(final_no_noise, 2)\n",
    "    return final_no_noise, final_with_noise\n",
    "\n",
    "render_point_light_parallel_jit = jax.jit(jax.vmap(render_point_light, in_axes=(0,0, 0)))"
   ]
  },
  {
   "cell_type": "code",
   "execution_count": 128,
   "metadata": {},
   "outputs": [],
   "source": [
    "key = jax.random.PRNGKey(100)\n",
    "keys = jax.random.split(jax.random.PRNGKey(100), poses.shape[0])\n",
    "images_no_noise, images = render_point_light_parallel_jit(poses, pc_subsamples, keys)"
   ]
  },
  {
   "cell_type": "code",
   "execution_count": 129,
   "metadata": {},
   "outputs": [],
   "source": [
    "viz = [b.get_depth_image(1.0 - point_light_image * 1.0, cmap=matplotlib.colormaps['Greys']) for point_light_image in images ]\n",
    "b.make_gif_from_pil_images(viz, \"out_merge.gif\")"
   ]
  },
  {
   "cell_type": "code",
   "execution_count": 130,
   "metadata": {},
   "outputs": [
    {
     "data": {
      "image/png": "[encoded data removed]",
      "text/plain": [
       "<PIL.Image.Image image mode=RGBA size=300x310 at 0x7FF8405809D0>"
      ]
     },
     "execution_count": 130,
     "metadata": {},
     "output_type": "execute_result"
    }
   ],
   "source": [
    "viz[0]"
   ]
  },
  {
   "cell_type": "code",
   "execution_count": null,
   "metadata": {},
   "outputs": [],
   "source": []
  }
 ],
 "metadata": {
  "kernelspec": {
   "display_name": "Python 3 (ipykernel)",
   "language": "python",
   "name": "python3"
  },
  "language_info": {
   "codemirror_mode": {
    "name": "ipython",
    "version": 3
   },
   "file_extension": ".py",
   "mimetype": "text/x-python",
   "name": "python",
   "nbconvert_exporter": "python",
   "pygments_lexer": "ipython3",
   "version": "3.8.16"
  }
 },
 "nbformat": 4,
 "nbformat_minor": 4
}
