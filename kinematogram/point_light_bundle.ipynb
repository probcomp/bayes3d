{
 "cells": [
  {
   "cell_type": "code",
   "execution_count": 1,
   "metadata": {},
   "outputs": [],
   "source": [
    "import bayes3d as b\n",
    "import jax.numpy as jnp\n",
    "import jax\n",
    "import os\n",
    "import matplotlib.pyplot as plt\n",
    "import matplotlib\n",
    "import numpy as np"
   ]
  },
  {
   "cell_type": "code",
   "execution_count": 2,
   "metadata": {},
   "outputs": [],
   "source": [
    "import cv2"
   ]
  },
  {
   "cell_type": "code",
   "execution_count": 3,
   "metadata": {},
   "outputs": [
    {
     "name": "stderr",
     "output_type": "stream",
     "text": [
      "[E rasterize_gl.cpp:121] OpenGL version reported as 4.6\n"
     ]
    },
    {
     "name": "stdout",
     "output_type": "stream",
     "text": [
      "Increasing frame buffer size to (width, height, depth) = (320, 320, 1024)\n"
     ]
    }
   ],
   "source": [
    "\n",
    "intrinsics = b.Intrinsics(\n",
    "    height=300,\n",
    "    width=300,\n",
    "    fx=500.0, fy=500.0,\n",
    "    cx=150.0, cy=150.0,\n",
    "    near=0.01, far=10.0\n",
    ")\n",
    "\n",
    "b.setup_renderer(intrinsics)\n",
    "model_dir = os.path.join(b.utils.get_assets_dir(),\"bop/ycbv/models\")\n",
    "meshes = []\n",
    "for idx in range(1,22):\n",
    "    mesh_path = os.path.join(model_dir,\"obj_\" + \"{}\".format(idx).rjust(6, '0') + \".ply\")\n",
    "    b.RENDERER.add_mesh_from_file(mesh_path, scaling_factor=10.0/1000.0)\n",
    "\n",
    "# b.RENDERER.add_mesh_from_file(os.path.join(b.utils.get_assets_dir(), \"sample_objs/cube.obj\"), scaling_factor=1.0/10000000000.0)"
   ]
  },
  {
   "cell_type": "code",
   "execution_count": 10,
   "metadata": {},
   "outputs": [],
   "source": [
    "IDX = 11\n",
    "frames = 40\n",
    "dots = 25\n",
    "pc = jnp.array(b.RENDERER.meshes[IDX].vertices)\n",
    "point_rad = 5\n",
    "\n",
    "\n",
    "pc_subsamples = pc[jax.random.choice(jax.random.PRNGKey(10), jnp.arange(pc.shape[0]), shape=(frames, dots) )]\n",
    "\n",
    "    "
   ]
  },
  {
   "attachments": {},
   "cell_type": "markdown",
   "metadata": {},
   "source": [
    "#### Use noisy points since RANSAC is robust to outlier features\n",
    "\n",
    "turn off noise for RANSAC to check correctness first"
   ]
  },
  {
   "cell_type": "code",
   "execution_count": 15,
   "metadata": {},
   "outputs": [],
   "source": [
    "pix_subsample0 = b.project_cloud_to_pixels(pc_subsamples[0], intrinsics)\n",
    "pix_subsample1 = b.project_cloud_to_pixels(pc_subsamples[1], intrinsics)"
   ]
  },
  {
   "cell_type": "code",
   "execution_count": 16,
   "metadata": {},
   "outputs": [],
   "source": [
    "poses = jnp.array([b.t3d.inverse_pose(b.t3d.transform_from_pos_target_up(\n",
    "        jnp.array([0.0, 2.0, 0.0]),\n",
    "        jnp.array([0.0, 0.0, 0.0]),\n",
    "        jnp.array([0.0, 0.0, 1.0]),\n",
    ")) @ b.t3d.transform_from_axis_angle(jnp.array([1.0, 0.0, 1.0]), angle) for angle in jnp.linspace(0.0, 4*jnp.pi, frames)])\n",
    "\n"
   ]
  },
  {
   "cell_type": "code",
   "execution_count": 18,
   "metadata": {},
   "outputs": [
    {
     "name": "stdout",
     "output_type": "stream",
     "text": [
      "[[ 8.09728575  3.86596448 -0.70009635]\n",
      " [ 2.63025152 -1.39547989  0.93329349]\n",
      " [-0.62575189  0.31024501 -0.21251489]]\n"
     ]
    }
   ],
   "source": [
    "# find fundamental matrix\n",
    "# essential matrix generates point in im1 given a corresponding point in im0\n",
    "\n",
    "pix_subsample0 = np.asarray(pix_subsample0)\n",
    "pix_subsample1 = np.asarray(pix_subsample1)\n",
    "\n",
    "out = cv2.findFundamentalMat(points1 = pix_subsample0, points2 = pix_subsample1, method = cv2.FM_RANSAC, ransacReprojThreshold=3, confidence = 0.99)\n",
    "F = out[0]\n",
    "K = np.array([[intrinsics.fx, 0, intrinsics.cx],[0, intrinsics.fy, intrinsics.cy],[0,0,1]])\n",
    "\n",
    "#E = K' * F * K\n",
    "E = K.T @ F @ K\n",
    "print(E)"
   ]
  },
  {
   "cell_type": "code",
   "execution_count": 21,
   "metadata": {},
   "outputs": [
    {
     "name": "stdout",
     "output_type": "stream",
     "text": [
      "(40, 25, 3)\n",
      "(25, 2)\n"
     ]
    }
   ],
   "source": [
    "pix_subsample0 = b.project_cloud_to_pixels(pc_subsamples[0], intrinsics)\n",
    "print(pc_subsamples.shape)\n",
    "print(pix_subsample0.shape)"
   ]
  },
  {
   "cell_type": "code",
   "execution_count": 23,
   "metadata": {},
   "outputs": [
    {
     "name": "stdout",
     "output_type": "stream",
     "text": [
      "(40, 25, 2)\n"
     ]
    }
   ],
   "source": [
    "# need camera_params, points_3d, camera_indices, point_indices, points_2d\n",
    "\n",
    "proj_cloud = lambda pc_sample: b.project_cloud_to_pixels(pc_sample, intrinsics)\n",
    "pcloud_parallel_jit = jax.jit(jax.vmap(proj_cloud))\n",
    "\n",
    "\n",
    "\n",
    "points_3d = pc_subsamples\n",
    "points_2d = pcloud_parallel_jit(points_3d)\n",
    "print(points_2d.shape)\n",
    "camera_params = intrinsics\n",
    "\n",
    "d, f = np.meshgrid(range(dots), range(frames))\n",
    "camera_indices = f.flatten()\n",
    "point_indices = d.flatten()\n",
    "\n",
    "#assert (points_3d[camera_indices[1]*dots+point_indices[0],:] == pc_subsamples[camera_indices[1],point_indices[0],:]).all()"
   ]
  },
  {
   "cell_type": "code",
   "execution_count": 22,
   "metadata": {},
   "outputs": [
    {
     "name": "stdout",
     "output_type": "stream",
     "text": [
      "n_cameras: 49\n",
      "n_points: 7776\n",
      "Total number of parameters: 23769\n",
      "Total number of residuals: 63686\n"
     ]
    }
   ],
   "source": [
    "n_cameras = points_3d.shape[0]\n",
    "n_points = points_3d.shape[1]\n",
    "\n",
    "# K = np.array([[intrinsics.fx, 0, intrinsics.cx],[0, intrinsics.fy, intrinsics.cy],[0,0,1]])\n",
    "\n",
    "n = 9 * n_cameras + 3 * n_points\n",
    "m = 2 * points_2d.shape[0]\n",
    "\n",
    "print(\"n_cameras: {}\".format(n_cameras))\n",
    "print(\"n_points: {}\".format(n_points))\n",
    "print(\"Total number of parameters: {}\".format(n))\n",
    "print(\"Total number of residuals: {}\".format(m))"
   ]
  },
  {
   "cell_type": "code",
   "execution_count": 71,
   "metadata": {},
   "outputs": [],
   "source": [
    "def rotate(points, rot_vecs):\n",
    "    \"\"\"Rotate points by given rotation vectors.\n",
    "    \n",
    "    Rodrigues' rotation formula is used.\n",
    "    \"\"\"\n",
    "    theta = np.linalg.norm(rot_vecs, axis=1)[:, np.newaxis]\n",
    "    with np.errstate(invalid='ignore'):\n",
    "        v = rot_vecs / theta\n",
    "        v = np.nan_to_num(v)\n",
    "    dot = np.sum(points * v, axis=1)[:, np.newaxis]\n",
    "    cos_theta = np.cos(theta)\n",
    "    sin_theta = np.sin(theta)\n",
    "\n",
    "    return cos_theta * points + sin_theta * np.cross(v, points) + dot * (1 - cos_theta) * v\n"
   ]
  },
  {
   "cell_type": "code",
   "execution_count": 69,
   "metadata": {},
   "outputs": [],
   "source": [
    "# def project(points, camera_params):\n",
    "#     \"\"\"Convert 3-D points to 2-D by projecting onto images.\"\"\"\n",
    "#     points_proj = rotate(points, camera_params[:, :3])\n",
    "#     points_proj += camera_params[:, 3:6]\n",
    "#     points_proj = -points_proj[:, :2] / points_proj[:, 2, np.newaxis]\n",
    "#     f = camera_params[:, 6]\n",
    "#     k1 = camera_params[:, 7]\n",
    "#     k2 = camera_params[:, 8]\n",
    "#     n = np.sum(points_proj**2, axis=1)\n",
    "#     r = 1 + k1 * n + k2 * n**2\n",
    "#     points_proj *= (r * f)[:, np.newaxis]\n",
    "#     return points_proj\n",
    "\n",
    "def project(points, intrinsics):\n",
    "    return b.project_cloud_to_pixels(points, intrinsics)"
   ]
  },
  {
   "cell_type": "code",
   "execution_count": 25,
   "metadata": {},
   "outputs": [],
   "source": [
    "def fun(params, n_cameras, n_points, camera_indices, point_indices, points_2d):\n",
    "    \"\"\"Compute residuals.\n",
    "    \n",
    "    `params` contains camera parameters and 3-D coordinates.\n",
    "    \"\"\"\n",
    "    # camera_params = params[:n_cameras * 9].reshape((n_cameras, 9))\n",
    "    points_3d = params[n_cameras * 9:].reshape((n_points, 3))\n",
    "    points_proj = project(points_3d[point_indices], intrinsics[camera_indices])\n",
    "    return (points_proj - points_2d).ravel()"
   ]
  },
  {
   "cell_type": "code",
   "execution_count": 26,
   "metadata": {},
   "outputs": [],
   "source": [
    "from scipy.sparse import lil_matrix\n"
   ]
  },
  {
   "cell_type": "code",
   "execution_count": 27,
   "metadata": {},
   "outputs": [],
   "source": [
    "def bundle_adjustment_sparsity(n_cameras, n_points, camera_indices, point_indices):\n",
    "    m = camera_indices.size * 2\n",
    "    n = n_cameras * 9 + n_points * 3\n",
    "    A = lil_matrix((m, n), dtype=int)\n",
    "\n",
    "    i = np.arange(camera_indices.size)\n",
    "    for s in range(9):\n",
    "        A[2 * i, camera_indices * 9 + s] = 1\n",
    "        A[2 * i + 1, camera_indices * 9 + s] = 1\n",
    "\n",
    "    for s in range(3):\n",
    "        A[2 * i, n_cameras * 9 + point_indices * 3 + s] = 1\n",
    "        A[2 * i + 1, n_cameras * 9 + point_indices * 3 + s] = 1\n",
    "\n",
    "    return A"
   ]
  },
  {
   "cell_type": "code",
   "execution_count": 77,
   "metadata": {},
   "outputs": [
    {
     "ename": "TypeError",
     "evalue": "'int' object is not subscriptable",
     "output_type": "error",
     "traceback": [
      "\u001b[0;31m---------------------------------------------------------------------------\u001b[0m",
      "\u001b[0;31mTypeError\u001b[0m                                 Traceback (most recent call last)",
      "\u001b[1;32m/data/vision/billf/scratch/esli/bayes3d/kinematogram/point_light_bundle.ipynb Cell 33\u001b[0m in \u001b[0;36m<cell line: 1>\u001b[0;34m()\u001b[0m\n\u001b[0;32m----> <a href='vscode-notebook-cell://ssh-remote%2B7b22686f73744e616d65223a22764750553534227d/data/vision/billf/scratch/esli/bayes3d/kinematogram/point_light_bundle.ipynb#Y104sdnNjb2RlLXJlbW90ZQ%3D%3D?line=0'>1</a>\u001b[0m pix \u001b[39m=\u001b[39m b\u001b[39m.\u001b[39;49mproject_cloud_to_pixels(\u001b[39m1\u001b[39;49m,\u001b[39m2\u001b[39;49m)\n",
      "File \u001b[0;32m/data/vision/billf/scratch/esli/bayes3d/bayes3d/renderer.py:382\u001b[0m, in \u001b[0;36mproject_cloud_to_pixels\u001b[0;34m(point_cloud, intrinsics)\u001b[0m\n\u001b[1;32m    381\u001b[0m \u001b[39mdef\u001b[39;00m \u001b[39mproject_cloud_to_pixels\u001b[39m(point_cloud, intrinsics):\n\u001b[0;32m--> 382\u001b[0m     point_cloud_normalized \u001b[39m=\u001b[39m point_cloud \u001b[39m/\u001b[39m point_cloud[:, \u001b[39m2\u001b[39;49m]\u001b[39m.\u001b[39mreshape(\u001b[39m-\u001b[39m\u001b[39m1\u001b[39m, \u001b[39m1\u001b[39m)\n\u001b[1;32m    383\u001b[0m     temp1 \u001b[39m=\u001b[39m point_cloud_normalized[:, :\u001b[39m2\u001b[39m] \u001b[39m*\u001b[39m jnp\u001b[39m.\u001b[39marray([intrinsics\u001b[39m.\u001b[39mfx,intrinsics\u001b[39m.\u001b[39mfy])\n\u001b[1;32m    384\u001b[0m     temp2 \u001b[39m=\u001b[39m temp1 \u001b[39m+\u001b[39m jnp\u001b[39m.\u001b[39marray([intrinsics\u001b[39m.\u001b[39mcx, intrinsics\u001b[39m.\u001b[39mcy])\n",
      "\u001b[0;31mTypeError\u001b[0m: 'int' object is not subscriptable"
     ]
    }
   ],
   "source": [
    "for i in cameras\n",
    "pix = b.project_cloud_to_pixels(pc_est,int_est)"
   ]
  },
  {
   "cell_type": "code",
   "execution_count": 28,
   "metadata": {},
   "outputs": [],
   "source": [
    "import matplotlib.pyplot as plt\n"
   ]
  },
  {
   "cell_type": "code",
   "execution_count": 29,
   "metadata": {},
   "outputs": [],
   "source": [
    "x0 = np.hstack((camera_params.ravel(), points_3d.ravel()))\n"
   ]
  },
  {
   "cell_type": "code",
   "execution_count": 30,
   "metadata": {},
   "outputs": [],
   "source": [
    "f0 = fun(x0, n_cameras, n_points, camera_indices, point_indices, points_2d)\n"
   ]
  },
  {
   "cell_type": "code",
   "execution_count": 31,
   "metadata": {},
   "outputs": [
    {
     "data": {
      "text/plain": [
       "[<matplotlib.lines.Line2D at 0x7f378c091eb0>]"
      ]
     },
     "execution_count": 31,
     "metadata": {},
     "output_type": "execute_result"
    },
    {
     "data": {
      "image/png": "[encoded data removed]",
      "text/plain": [
       "<Figure size 640x480 with 1 Axes>"
      ]
     },
     "metadata": {},
     "output_type": "display_data"
    }
   ],
   "source": [
    "plt.plot(f0)\n"
   ]
  },
  {
   "cell_type": "code",
   "execution_count": 32,
   "metadata": {},
   "outputs": [],
   "source": [
    "A = bundle_adjustment_sparsity(n_cameras, n_points, camera_indices, point_indices)\n"
   ]
  },
  {
   "cell_type": "code",
   "execution_count": 33,
   "metadata": {},
   "outputs": [],
   "source": [
    "import time\n",
    "from scipy.optimize import least_squares\n"
   ]
  },
  {
   "attachments": {},
   "cell_type": "markdown",
   "metadata": {},
   "source": [
    "### CUDA-compatible least squares solver?"
   ]
  },
  {
   "cell_type": "code",
   "execution_count": 34,
   "metadata": {},
   "outputs": [
    {
     "name": "stdout",
     "output_type": "stream",
     "text": [
      "   Iteration     Total nfev        Cost      Cost reduction    Step norm     Optimality   \n",
      "       0              1         8.5091e+05                                    8.57e+06    \n",
      "       1              3         5.0985e+04      8.00e+05       1.46e+02       1.15e+06    \n",
      "       2              4         1.6077e+04      3.49e+04       2.59e+01       2.43e+05    \n",
      "       3              5         1.4163e+04      1.91e+03       2.86e+02       1.21e+05    \n",
      "       4              7         1.3695e+04      4.67e+02       1.32e+02       2.51e+04    \n",
      "       5              8         1.3481e+04      2.14e+02       2.24e+02       1.54e+04    \n",
      "       6              9         1.3436e+04      4.54e+01       3.18e+02       2.73e+04    \n",
      "       7             10         1.3422e+04      1.37e+01       6.83e+01       2.20e+03    \n",
      "       8             11         1.3418e+04      3.70e+00       1.28e+02       7.90e+03    \n",
      "       9             12         1.3414e+04      4.20e+00       2.64e+01       6.22e+02    \n",
      "      10             13         1.3412e+04      1.88e+00       7.57e+01       2.62e+03    \n",
      "      11             14         1.3410e+04      2.10e+00       1.77e+01       4.98e+02    \n",
      "      12             15         1.3409e+04      1.03e+00       3.98e+01       1.32e+03    \n",
      "`ftol` termination condition is satisfied.\n",
      "Function evaluations 15, initial cost 8.5091e+05, final cost 1.3409e+04, first-order optimality 1.32e+03.\n"
     ]
    }
   ],
   "source": [
    "t0 = time.time()\n",
    "res = least_squares(fun, x0, jac_sparsity=A, verbose=2, x_scale='jac', ftol=1e-4, method='trf',\n",
    "                    args=(n_cameras, n_points, camera_indices, point_indices, points_2d))\n",
    "t1 = time.time()\n"
   ]
  },
  {
   "cell_type": "code",
   "execution_count": 35,
   "metadata": {},
   "outputs": [
    {
     "name": "stdout",
     "output_type": "stream",
     "text": [
      "Optimization took 23 seconds\n"
     ]
    }
   ],
   "source": [
    "print(\"Optimization took {0:.0f} seconds\".format(t1 - t0))\n"
   ]
  },
  {
   "cell_type": "code",
   "execution_count": 36,
   "metadata": {},
   "outputs": [
    {
     "data": {
      "text/plain": [
       "[<matplotlib.lines.Line2D at 0x7f38637679d0>]"
      ]
     },
     "execution_count": 36,
     "metadata": {},
     "output_type": "execute_result"
    },
    {
     "data": {
      "image/png": "[encoded data removed]",
      "text/plain": [
       "<Figure size 640x480 with 1 Axes>"
      ]
     },
     "metadata": {},
     "output_type": "display_data"
    }
   ],
   "source": [
    "plt.plot(res.fun)\n"
   ]
  },
  {
   "cell_type": "code",
   "execution_count": 2,
   "metadata": {},
   "outputs": [],
   "source": [
    "R = b.t3d.rotation_from_axis_angle(jnp.array([1/jnp.sqrt(3),-1/jnp.sqrt(3),1/jnp.sqrt(3)]),-jnp.pi/3)\n",
    "ax, ang = b.t3d.axis_angle_from_rotation(R)"
   ]
  },
  {
   "cell_type": "code",
   "execution_count": 3,
   "metadata": {},
   "outputs": [
    {
     "data": {
      "text/plain": [
       "(Array([-0.57734394,  0.577363  , -0.57734394], dtype=float32),\n",
       " Array(1.0471919, dtype=float32))"
      ]
     },
     "execution_count": 3,
     "metadata": {},
     "output_type": "execute_result"
    }
   ],
   "source": [
    "ax, ang"
   ]
  },
  {
   "cell_type": "code",
   "execution_count": 11,
   "metadata": {},
   "outputs": [
    {
     "data": {
      "text/plain": [
       "Array([-1.9359153e-05, -1.9359153e-05,  0.0000000e+00], dtype=float32)"
      ]
     },
     "execution_count": 11,
     "metadata": {},
     "output_type": "execute_result"
    }
   ],
   "source": [
    "b.t3d.rodrigues_from_rotation(R)"
   ]
  },
  {
   "cell_type": "code",
   "execution_count": 12,
   "metadata": {},
   "outputs": [
    {
     "data": {
      "text/plain": [
       "Array(2.7377977e-05, dtype=float32)"
      ]
     },
     "execution_count": 12,
     "metadata": {},
     "output_type": "execute_result"
    }
   ],
   "source": [
    "jnp.linalg.norm(b.t3d.rodrigues_from_rotation(R))"
   ]
  },
  {
   "cell_type": "code",
   "execution_count": 13,
   "metadata": {},
   "outputs": [
    {
     "data": {
      "text/plain": [
       "[Array(0.57735026, dtype=float32, weak_type=True),\n",
       " Array(-0.57735026, dtype=float32, weak_type=True),\n",
       " Array(0.57735026, dtype=float32, weak_type=True)]"
      ]
     },
     "execution_count": 13,
     "metadata": {},
     "output_type": "execute_result"
    }
   ],
   "source": [
    "[1/jnp.sqrt(3),-1/jnp.sqrt(3),1/jnp.sqrt(3)]"
   ]
  },
  {
   "cell_type": "code",
   "execution_count": 14,
   "metadata": {},
   "outputs": [
    {
     "data": {
      "text/plain": [
       "Array([-1.9359153e-05, -1.9359153e-05,  0.0000000e+00], dtype=float32)"
      ]
     },
     "execution_count": 14,
     "metadata": {},
     "output_type": "execute_result"
    }
   ],
   "source": [
    "b.t3d.rodrigues_from_rotation(R)"
   ]
  },
  {
   "cell_type": "code",
   "execution_count": 15,
   "metadata": {},
   "outputs": [
    {
     "data": {
      "text/plain": [
       "1.0471975511965976"
      ]
     },
     "execution_count": 15,
     "metadata": {},
     "output_type": "execute_result"
    }
   ],
   "source": [
    "jnp.pi/3"
   ]
  },
  {
   "cell_type": "code",
   "execution_count": 10,
   "metadata": {},
   "outputs": [],
   "source": [
    "tarr = jnp.array([[1/jnp.sqrt(3),-1/jnp.sqrt(3),1/jnp.sqrt(3)], [1,1,0],[1,1,0], [1,-1,1]])\n",
    "tang = jnp.array([-jnp.pi/3, jnp.pi, 0, jnp.pi-0.0001])"
   ]
  },
  {
   "cell_type": "code",
   "execution_count": 11,
   "metadata": {},
   "outputs": [],
   "source": [
    "ax_ang_p_jit = jax.jit(jax.vmap(b.t3d.axis_angle_from_rotation))\n",
    "rot_jit = jax.jit(jax.vmap(b.t3d.rotation_from_axis_angle))"
   ]
  },
  {
   "cell_type": "code",
   "execution_count": 12,
   "metadata": {},
   "outputs": [
    {
     "data": {
      "text/plain": [
       "Array([[[ 6.6666669e-01,  3.3333337e-01,  6.6666675e-01],\n",
       "        [-6.6666675e-01,  6.6666669e-01,  3.3333337e-01],\n",
       "        [-3.3333337e-01, -6.6666675e-01,  6.6666669e-01]],\n",
       "\n",
       "       [[-5.9604645e-08,  9.9999994e-01, -6.1817239e-08],\n",
       "        [ 9.9999994e-01, -5.9604645e-08,  6.1817239e-08],\n",
       "        [ 6.1817239e-08, -6.1817239e-08, -1.0000000e+00]],\n",
       "\n",
       "       [[ 1.0000000e+00,  0.0000000e+00,  0.0000000e+00],\n",
       "        [ 0.0000000e+00,  1.0000000e+00,  0.0000000e+00],\n",
       "        [ 0.0000000e+00,  0.0000000e+00,  1.0000000e+00]],\n",
       "\n",
       "       [[-3.3333308e-01, -6.6724384e-01,  6.6608906e-01],\n",
       "        [-6.6608906e-01, -3.3333308e-01, -6.6724384e-01],\n",
       "        [ 6.6724384e-01, -6.6608906e-01, -3.3333308e-01]]], dtype=float32)"
      ]
     },
     "execution_count": 12,
     "metadata": {},
     "output_type": "execute_result"
    }
   ],
   "source": [
    "Rs = rot_jit(tarr, tang)\n",
    "Rs\n"
   ]
  },
  {
   "cell_type": "code",
   "execution_count": 13,
   "metadata": {},
   "outputs": [
    {
     "name": "stdout",
     "output_type": "stream",
     "text": [
      "[[-5.7735032e-01  5.7735032e-01 -5.7735032e-01]\n",
      " [ 7.0710677e-01  7.0710677e-01  3.1830986e-11]\n",
      " [ 5.7735026e-01  5.7735026e-01  5.7735026e-01]\n",
      " [ 5.7735026e-01 -5.7735026e-01  5.7735026e-01]]\n",
      "[1.0471976e+00 3.1415932e+00 1.7320509e-10 3.7145543e+00]\n"
     ]
    }
   ],
   "source": [
    "ax, ang = ax_ang_p_jit(Rs)\n",
    "print(ax)\n",
    "print(ang)"
   ]
  },
  {
   "cell_type": "code",
   "execution_count": 20,
   "metadata": {},
   "outputs": [],
   "source": [
    "def axis_angle_from_rotation_stable(R):\n",
    "    rvec = rodrigues_from_rotation_stable(R)\n",
    "    if not jnp.any(rvec):\n",
    "        return jnp.array([1,0,0]), 0\n",
    "    return rvec/jnp.linalg.norm(rvec), jnp.linalg.norm(rvec)\n",
    "\n",
    "def rodrigues_from_rotation_stable(R):\n",
    "    #formula from http://motion.pratt.duke.edu/RoboticSystems/3DRotations.html\n",
    "    theta = jnp.arccos((jnp.trace(R)-1)/2)\n",
    "    if jnp.isclose(theta, 0):\n",
    "        rvec = jnp.array([0,0,0])\n",
    "    elif jnp.isclose(theta, jnp.pi):\n",
    "        eval, evec = jnp.linalg.eigh(R)\n",
    "        rvec = evec[:,jnp.isclose(eval,1)].reshape(-1)\n",
    "        #take positive first value\n",
    "        rvec = theta * jnp.sign(rvec[0])/jnp.linalg.norm(rvec) * rvec\n",
    "    else:\n",
    "        #set sign based on angle\n",
    "        rvec = jnp.array([(R[2,1]-R[1,2])/(2*jnp.sin(theta)), (R[0,2]-R[2,0])/(2*jnp.sin(theta)), (R[1,0]-R[0,1])/(2*jnp.sin(theta))]) * theta\n",
    "    return rvec.reshape(-1)"
   ]
  },
  {
   "cell_type": "code",
   "execution_count": null,
   "metadata": {},
   "outputs": [],
   "source": []
  }
 ],
 "metadata": {
  "kernelspec": {
   "display_name": "Python 3 (ipykernel)",
   "language": "python",
   "name": "python3"
  },
  "language_info": {
   "codemirror_mode": {
    "name": "ipython",
    "version": 3
   },
   "file_extension": ".py",
   "mimetype": "text/x-python",
   "name": "python",
   "nbconvert_exporter": "python",
   "pygments_lexer": "ipython3",
   "version": "3.9.16"
  }
 },
 "nbformat": 4,
 "nbformat_minor": 4
}
