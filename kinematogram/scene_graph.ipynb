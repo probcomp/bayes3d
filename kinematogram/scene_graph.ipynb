{
 "cells": [
  {
   "cell_type": "code",
   "execution_count": 1,
   "metadata": {},
   "outputs": [],
   "source": [
    "import jax.numpy as jnp\n",
    "import bayes3d as b\n",
    "import trimesh\n",
    "import os\n",
    "import matplotlib"
   ]
  },
  {
   "cell_type": "code",
   "execution_count": 2,
   "metadata": {},
   "outputs": [],
   "source": [
    "mesh_names = [\"bunny\", \"sphere\", \"pyramid\", \"cube\"]\n",
    "\n",
    "meshes = [trimesh.load(os.path.join(b.utils.get_assets_dir(), f\"sample_objs/{name}.obj\")) for name in mesh_names]\n",
    "meshes = [b.mesh.center_mesh(mesh) for mesh in meshes]\n",
    "mesh_dims = [b.utils.aabb(mesh.vertices)[0] for mesh in meshes]\n",
    "\n",
    "table_dims = jnp.array([10.0, 10.0, 0.1])\n",
    "meshes = [b.mesh.make_cuboid_mesh(table_dims), *meshes]\n"
   ]
  },
  {
   "cell_type": "code",
   "execution_count": 3,
   "metadata": {},
   "outputs": [
    {
     "name": "stderr",
     "output_type": "stream",
     "text": [
      "[E rasterize_gl.cpp:121] OpenGL version reported as 4.6\n"
     ]
    },
    {
     "name": "stdout",
     "output_type": "stream",
     "text": [
      "Increasing frame buffer size to (width, height, depth) = (224, 224, 1024)\n"
     ]
    }
   ],
   "source": [
    "\n",
    "intrinsics = b.Intrinsics(\n",
    "    200,\n",
    "    200,\n",
    "    400.0,\n",
    "    400.0,\n",
    "    100.0,\n",
    "    100.0,\n",
    "    0.02,\n",
    "    30.0\n",
    ")\n",
    "b.setup_renderer(intrinsics)\n",
    "for mesh in meshes:\n",
    "    b.RENDERER.add_mesh(mesh)\n",
    "\n"
   ]
  },
  {
   "cell_type": "code",
   "execution_count": 4,
   "metadata": {},
   "outputs": [],
   "source": [
    "box_dims = [b.utils.aabb(m.vertices)[0] for m in meshes]\n",
    "box_dims = jnp.array(box_dims)\n",
    "\n",
    "absolute_poses = jnp.array([\n",
    "    jnp.eye(4),\n",
    "    jnp.eye(4),\n",
    "    jnp.eye(4),\n",
    "    jnp.eye(4),\n",
    "    jnp.eye(4),\n",
    "])\n",
    "\n",
    "parents = jnp.array([\n",
    "    -1, 0, 0, 0, 0\n",
    "])\n",
    "\n",
    "contact_params = jnp.array(\n",
    "    [\n",
    "        [0.0, 0.0, jnp.pi/4],\n",
    "        [-1.0, -0.5, jnp.pi/4],\n",
    "        [-0.2, 0.1, jnp.pi/2],\n",
    "        [2.0, -1.0, jnp.pi/2],\n",
    "        [1.0, -4.0, jnp.pi/2],\n",
    "    ]\n",
    ")\n",
    "\n",
    "face_parents = jnp.array([2,2,2,2,2])\n",
    "face_child = jnp.array([0,0,0,0,0])\n",
    "\n",
    "poses = b.scene_graph.poses_from_scene_graph_jit(\n",
    "    absolute_poses, box_dims, parents, contact_params, face_parents, face_child\n",
    ")\n",
    "\n",
    "pos = jnp.array([[10.0, -15.0, 5.0]])\n",
    "target = jnp.array([0.0, 0.0, 0.0])\n",
    "up = jnp.array([0.0, 0.0, 1.0])\n",
    "\n",
    "camera_pose = b.t3d.transform_from_pos_target_up(pos, target, up)\n",
    "\n",
    "\n",
    "\n",
    "poses_in_camera_frame = b.t3d.inverse_pose(camera_pose) @ poses\n",
    "\n"
   ]
  },
  {
   "cell_type": "code",
   "execution_count": 5,
   "metadata": {},
   "outputs": [],
   "source": [
    "img = b.RENDERER.render_jax(b.t3d.inverse_pose(camera_pose) @ poses, jnp.arange(len(poses)))\n",
    "b.get_depth_image(img[:,:,2],cmap=matplotlib.colormaps['Greys']).save(\"test_scene_graph.png\")\n",
    "\n",
    "#from IPython import embed; embed()\n"
   ]
  },
  {
   "cell_type": "code",
   "execution_count": null,
   "metadata": {},
   "outputs": [],
   "source": []
  }
 ],
 "metadata": {
  "kernelspec": {
   "display_name": "bayes3d",
   "language": "python",
   "name": "python3"
  },
  "language_info": {
   "codemirror_mode": {
    "name": "ipython",
    "version": 3
   },
   "file_extension": ".py",
   "mimetype": "text/x-python",
   "name": "python",
   "nbconvert_exporter": "python",
   "pygments_lexer": "ipython3",
   "version": "3.8.16"
  },
  "orig_nbformat": 4
 },
 "nbformat": 4,
 "nbformat_minor": 2
}
