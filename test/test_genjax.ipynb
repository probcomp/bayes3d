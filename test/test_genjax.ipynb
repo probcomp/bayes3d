{
 "cells": [
  {
   "cell_type": "code",
   "execution_count": 19,
   "metadata": {
    "tags": []
   },
   "outputs": [],
   "source": [
    "import bayes3d as b\n",
    "import genjax\n",
    "import jax.numpy as jnp\n",
    "import jax\n",
    "import os\n",
    "\n",
    "console = genjax.pretty(show_locals=False)"
   ]
  },
  {
   "cell_type": "code",
   "execution_count": 20,
   "metadata": {
    "tags": []
   },
   "outputs": [
    {
     "name": "stdout",
     "output_type": "stream",
     "text": [
      "Increasing frame buffer size to (width, height, depth) = (128, 128, 1024)\n"
     ]
    },
    {
     "name": "stderr",
     "output_type": "stream",
     "text": [
      "[E rasterize_gl.cpp:121] OpenGL version reported as 4.6\n"
     ]
    }
   ],
   "source": [
    "intrinsics = b.Intrinsics(\n",
    "    height=100,\n",
    "    width=100,\n",
    "    fx=50.0, fy=50.0,\n",
    "    cx=50.0, cy=50.0,\n",
    "    near=0.001, far=6.0\n",
    ")\n",
    "\n",
    "b.setup_renderer(intrinsics)\n",
    "# b.RENDERER.add_mesh_from_file(os.path.join(b.utils.get_assets_dir(),\"sample_objs/cube.obj\"))\n",
    "model_dir = os.path.join(b.utils.get_assets_dir(), \"bop/ycbv/models\")\n",
    "IDX = 13\n",
    "mesh_path_ply = os.path.join(model_dir,\"obj_\" + \"{}\".format(IDX+1).rjust(6, '0') + \".ply\")\n",
    "b.RENDERER.add_mesh_from_file(mesh_path_ply, scaling_factor=1.0/100.0)\n"
   ]
  },
  {
   "cell_type": "code",
   "execution_count": 29,
   "metadata": {
    "tags": []
   },
   "outputs": [],
   "source": [
    "from dataclasses import dataclass\n",
    "from math import pi\n",
    "\n",
    "import jax\n",
    "import jax.numpy as jnp\n",
    "\n",
    "from genjax._src.generative_functions.distributions.distribution import ExactDensity\n",
    "\n",
    "\n",
    "@dataclass\n",
    "class GaussianVMFPose(ExactDensity):\n",
    "    def sample(self, key, pose_mean, var, concentration, **kwargs):\n",
    "        return b.distributions.gaussian_vmf_sample(key, pose_mean, var, concentration)\n",
    "\n",
    "    def logpdf(self, pose, pose_mean, var, concentration, **kwargs):\n",
    "        return b.distributions.gaussian_vmf_logpdf(pose, pose_mean, var, concentration)\n",
    "\n",
    "@dataclass\n",
    "class ImageLikelihood(ExactDensity):\n",
    "    def sample(self, key, rendered_image, variance, outlier_prob, outlier_volume, **kwargs):\n",
    "        return rendered_image\n",
    "\n",
    "    def logpdf(self, image, rendered_image, variance, outlier_prob, outlier_volume, **kwargs):\n",
    "        return b.threedp3_likelihood(image, rendered_image, variance, outlier_prob, outlier_volume,5)\n",
    "\n",
    "gaussian_vmf_pose = GaussianVMFPose()\n",
    "image_likelihood = ImageLikelihood()"
   ]
  },
  {
   "cell_type": "code",
   "execution_count": 30,
   "metadata": {
    "tags": []
   },
   "outputs": [],
   "source": [
    "@genjax.gen\n",
    "def single_object_floating_pose_model():\n",
    "    center_pose = b.t3d.transform_from_pos(jnp.array([0.0, 0.0, 1.5]))\n",
    "    pose = genjax.trace(\"pose\", gaussian_vmf_pose)(center_pose, 0.1, 0.00001)\n",
    "    rendered_img = b.RENDERER.render_single_object(pose, 0)[:,:,:3]\n",
    "\n",
    "    variance = genjax.distributions.tfp_uniform(0.00001, 0.1) @ \"variance\"\n",
    "    outlier_prob  = genjax.distributions.tfp_uniform(0.00001, 0.001) @ \"outlier_prob\"\n",
    "    image = genjax.trace(\"image\", image_likelihood)(rendered_img, variance, outlier_prob, 100.0)\n",
    "    return rendered_img\n",
    "\n",
    "simulate_jit = jax.jit(single_object_floating_pose_model.simulate)\n",
    "importance_jit = jax.jit(single_object_floating_pose_model.importance)\n",
    "importance_parallel_jit = jax.jit(jax.vmap(single_object_floating_pose_model.importance, in_axes=(0, None, None)))"
   ]
  },
  {
   "cell_type": "code",
   "execution_count": 32,
   "metadata": {},
   "outputs": [],
   "source": [
    "key = jax.random.PRNGKey(100)"
   ]
  },
  {
   "cell_type": "code",
   "execution_count": 50,
   "metadata": {
    "tags": []
   },
   "outputs": [
    {
     "data": {
      "image/png": "[encoded data removed]"
     },
     "execution_count": 50,
     "metadata": {},
     "output_type": "execute_result"
    }
   ],
   "source": [
    "key, gt_trace= simulate_jit(key, ())\n",
    "observed_image = gt_trace.get_retval()\n",
    "observation = genjax.choice_map({\"image\": observed_image})\n",
    "# print(gt_trace.get_choices())\n",
    "b.get_depth_image(observed_image[:,:,2])"
   ]
  },
  {
   "cell_type": "code",
   "execution_count": 62,
   "metadata": {
    "tags": []
   },
   "outputs": [
    {
     "name": "stdout",
     "output_type": "stream",
     "text": [
      "[7339 7339 7339 7339 7339 7339 7339 7339 7339 7339]\n",
      "[17874.074 17874.074 17874.074 17874.074 17874.074 17874.074 17874.074\n",
      " 17874.074 17874.074 17874.074]\n"
     ]
    },
    {
     "data": {
      "image/png": "[encoded data removed]"
     },
     "execution_count": 62,
     "metadata": {},
     "output_type": "execute_result"
    }
   ],
   "source": [
    "num_samples = 8000\n",
    "keys = jax.random.split(key, num_samples)\n",
    "key = keys[0]\n",
    "keys, (weights, traces) = importance_parallel_jit(keys, observation, ())\n",
    "sampled_indices = jax.random.categorical(key, weights, shape=(10,))\n",
    "print(sampled_indices)\n",
    "print(weights[sampled_indices])\n",
    "images = [b.get_depth_image(img[:,:,2]) for img in traces.get_retval()[sampled_indices]]\n",
    "b.multi_panel(images,title=\"10 Posterior Samples\", title_fontsize=20)"
   ]
  },
  {
   "cell_type": "code",
   "execution_count": 56,
   "metadata": {},
   "outputs": [
    {
     "name": "stdout",
     "output_type": "stream",
     "text": [
      "[1629 1629 1629 1629 1629 1629 1629 1629 1629 1629]\n",
      "[27338.492 27338.492 27338.492 27338.492 27338.492 27338.492 27338.492\n",
      " 27338.492 27338.492 27338.492]\n"
     ]
    },
    {
     "data": {
      "image/png": "[encoded data removed]"
     },
     "execution_count": 56,
     "metadata": {},
     "output_type": "execute_result"
    }
   ],
   "source": []
  },
  {
   "cell_type": "code",
   "execution_count": null,
   "metadata": {},
   "outputs": [],
   "source": []
  }
 ],
 "metadata": {
  "kernelspec": {
   "display_name": "Python 3 (ipykernel)",
   "language": "python",
   "name": "python3"
  },
  "language_info": {
   "codemirror_mode": {
    "name": "ipython",
    "version": 3
   },
   "file_extension": ".py",
   "mimetype": "text/x-python",
   "name": "python",
   "nbconvert_exporter": "python",
   "pygments_lexer": "ipython3",
   "version": "3.8.16"
  }
 },
 "nbformat": 4,
 "nbformat_minor": 4
}
