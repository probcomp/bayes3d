{
 "cells": [
  {
   "cell_type": "code",
   "execution_count": 1,
   "metadata": {},
   "outputs": [],
   "source": [
    "import jax.numpy as jnp\n",
    "import bayes3d as b\n",
    "import trimesh\n",
    "import os\n",
    "import numpy as np\n",
    "import trimesh\n",
    "from tqdm import tqdm\n"
   ]
  },
  {
   "cell_type": "code",
   "execution_count": 4,
   "metadata": {},
   "outputs": [
    {
     "name": "stdout",
     "output_type": "stream",
     "text": [
      "[[[ 0.94905835  0.02788146  0.31386635  0.06933129]\n",
      "  [ 0.11728816  0.8932457  -0.43400028 -0.09377632]\n",
      "  [-0.29246086  0.44870442  0.8444708   1.025182  ]\n",
      "  [ 0.          0.          0.          1.        ]]\n",
      "\n",
      " [[-0.6896261  -0.7234281  -0.03267294  0.12436341]\n",
      "  [-0.2806556   0.30858916 -0.9088489  -0.02746224]\n",
      "  [ 0.6675695  -0.61759585 -0.41584536  0.9460713 ]\n",
      "  [ 0.          0.          0.          1.        ]]\n",
      "\n",
      " [[-0.50055104 -0.86509585 -0.03252145  0.10813791]\n",
      "  [-0.37298378  0.24940766 -0.89368886 -0.01423071]\n",
      "  [ 0.781237   -0.43520668 -0.44750842  0.8369227 ]\n",
      "  [ 0.          0.          0.          1.        ]]\n",
      "\n",
      " [[ 0.348734   -0.9341079  -0.07633073  0.00694173]\n",
      "  [-0.4790473  -0.10765725 -0.87116253  0.07595585]\n",
      "  [ 0.8055425   0.34037006 -0.48502573  0.8338654 ]\n",
      "  [ 0.          0.          0.          1.        ]]\n",
      "\n",
      " [[-0.64011514  0.76583797  0.06120402 -0.08747824]\n",
      "  [-0.27533382 -0.3030458   0.9123353   0.03121561]\n",
      "  [ 0.7172477   0.5671472   0.40484545  0.91173226]\n",
      "  [ 0.          0.          0.          1.        ]]]\n"
     ]
    },
    {
     "name": "stderr",
     "output_type": "stream",
     "text": [
      " 20%|██        | 1/5 [00:02<00:11,  2.94s/it]"
     ]
    },
    {
     "name": "stdout",
     "output_type": "stream",
     "text": [
      "[[ 1.0000000e+00  0.0000000e+00  0.0000000e+00 -5.7250075e-04]\n",
      " [ 0.0000000e+00  1.0000000e+00  0.0000000e+00 -1.7089993e-03]\n",
      " [ 0.0000000e+00  0.0000000e+00  1.0000000e+00 -4.8364997e-03]\n",
      " [ 0.0000000e+00  0.0000000e+00  0.0000000e+00  1.0000000e+00]]\n"
     ]
    },
    {
     "name": "stderr",
     "output_type": "stream",
     "text": [
      " 40%|████      | 2/5 [00:05<00:08,  2.69s/it]"
     ]
    },
    {
     "name": "stdout",
     "output_type": "stream",
     "text": [
      "[[ 1.0000000e+00  0.0000000e+00  0.0000000e+00 -2.6250072e-04]\n",
      " [ 0.0000000e+00  1.0000000e+00  0.0000000e+00  1.6014986e-03]\n",
      " [ 0.0000000e+00  0.0000000e+00  1.0000000e+00 -8.3454996e-03]\n",
      " [ 0.0000000e+00  0.0000000e+00  0.0000000e+00  1.0000000e+00]]\n"
     ]
    },
    {
     "name": "stderr",
     "output_type": "stream",
     "text": [
      " 60%|██████    | 3/5 [00:08<00:05,  2.72s/it]"
     ]
    },
    {
     "name": "stdout",
     "output_type": "stream",
     "text": [
      "[[ 1.         0.         0.        -0.0012635]\n",
      " [ 0.         1.         0.        -0.002471 ]\n",
      " [ 0.         0.         1.         0.011849 ]\n",
      " [ 0.         0.         0.         1.       ]]\n"
     ]
    },
    {
     "name": "stderr",
     "output_type": "stream",
     "text": [
      " 80%|████████  | 4/5 [00:10<00:02,  2.63s/it]"
     ]
    },
    {
     "name": "stdout",
     "output_type": "stream",
     "text": [
      "[[ 1.         0.         0.         0.0187095]\n",
      " [ 0.         1.         0.        -0.012222 ]\n",
      " [ 0.         0.         1.         0.0014165]\n",
      " [ 0.         0.         0.         1.       ]]\n"
     ]
    },
    {
     "name": "stderr",
     "output_type": "stream",
     "text": [
      "100%|██████████| 5/5 [00:13<00:00,  2.73s/it]"
     ]
    },
    {
     "name": "stdout",
     "output_type": "stream",
     "text": [
      "[[ 1.         0.         0.        -0.0090165]\n",
      " [ 0.         1.         0.        -0.020988 ]\n",
      " [ 0.         0.         1.         0.0021475]\n",
      " [ 0.         0.         0.         1.       ]]\n",
      "Intrinsics(height=480, width=640, fx=1066.778, fy=1066.778, cx=320.0, cy=240.0, near=0.01, far=2.0)\n",
      "[[[-0.94905835 -0.31386635 -0.02788146  0.699173  ]\n",
      "  [-0.11728816  0.43400028 -0.8932457  -0.96228224]\n",
      "  [ 0.29246086 -0.8444708  -0.44870442  2.7188072 ]\n",
      "  [ 0.          0.          0.          1.        ]]\n",
      "\n",
      " [[ 0.6896261   0.03267294  0.7234281   0.05972242]\n",
      "  [ 0.2806556   0.9088489  -0.30858916 -1.8533127 ]\n",
      "  [-0.6675695   0.41584536  0.61759585  0.11207449]\n",
      "  [ 0.          0.          0.          1.        ]]\n",
      "\n",
      " [[ 0.50055104  0.03252145  0.86509585  0.04071026]\n",
      "  [ 0.37298378  0.89368886 -0.24940766 -1.7908741 ]\n",
      "  [-0.781237    0.44750842  0.43520668 -0.05287987]\n",
      "  [ 0.          0.          0.          1.        ]]\n",
      "\n",
      " [[-0.348734    0.07633073  0.9341079  -0.16355291]\n",
      "  [ 0.4790473   0.87116253  0.10765725 -1.6574882 ]\n",
      "  [-0.8055425   0.48502573 -0.34037006 -0.14641029]\n",
      "  [ 0.          0.          0.          1.        ]]\n",
      "\n",
      " [[ 0.64011514 -0.06120402 -0.76583797  0.04510018]\n",
      "  [ 0.27533382 -0.9123353   0.3030458   1.8450841 ]\n",
      "  [-0.7172477  -0.40484545 -0.5671472   1.738924  ]\n",
      "  [ 0.          0.          0.          1.        ]]]\n"
     ]
    },
    {
     "name": "stderr",
     "output_type": "stream",
     "text": [
      "\n"
     ]
    }
   ],
   "source": [
    "\n",
    "# --- creating the ycb dir from the working directory\n",
    "bop_ycb_dir = os.path.join(b.utils.get_assets_dir(), \"bop/ycbv\")\n",
    "\n",
    "rgbd, gt_ids, gt_poses, masks = b.utils.ycb_loader.get_test_img('50', '640', bop_ycb_dir)\n",
    "\n",
    "\n",
    "# is ground truth poses for an image gt_poses\n",
    "print(gt_poses)\n",
    "\n",
    "\n",
    "mesh_paths = []\n",
    "offset_poses = []\n",
    "model_dir = os.path.join(b.utils.get_assets_dir(), \"ycb_video_models/models\")\n",
    "for i in tqdm(gt_ids):\n",
    "    mesh_path = os.path.join(model_dir, b.utils.ycb_loader.MODEL_NAMES[i],\"textured.obj\")\n",
    "    _, pose = b.utils.mesh.center_mesh(trimesh.load(mesh_path), return_pose=True)\n",
    "    print(pose)\n",
    "    offset_poses.append(pose)\n",
    "    mesh_paths.append(\n",
    "        mesh_path\n",
    "    )\n",
    "\n",
    "intrinsics = b.Intrinsics(\n",
    "    rgbd.intrinsics.height, rgbd.intrinsics.width,\n",
    "    rgbd.intrinsics.fx, rgbd.intrinsics.fx,\n",
    "    rgbd.intrinsics.width/2, rgbd.intrinsics.height/2,\n",
    "    rgbd.intrinsics.near, rgbd.intrinsics.far\n",
    ")\n",
    "\n",
    "print(intrinsics)\n",
    "\n",
    "poses = []\n",
    "for i in range(len(gt_ids)):\n",
    "    poses.append(\n",
    "        gt_poses[i] @ b.t3d.inverse_pose(offset_poses[i])\n",
    "    )\n",
    "poses = jnp.array(poses)\n",
    "\n",
    "frames=5\n",
    "# pose modifications are in object space\n",
    "poses_m = jnp.array([b.t3d.inverse_pose(b.t3d.transform_from_pos_target_up(\n",
    "        jnp.array([0.0, 2.0, 0.0]),\n",
    "        jnp.array([0.0, 0.0, 0.0]),\n",
    "        jnp.array([0.0, 0.0, 1.0]),\n",
    ")) @ b.t3d.transform_from_axis_angle(jnp.array([1.0, 0.0, 1.0]), angle) for angle in jnp.linspace(0.0, 4*jnp.pi, frames)])\n",
    "\n",
    "\n",
    "#need to engineer a better way to get camera trajectories rather than repeatedly rerendering\n",
    "\n",
    "poses_t = jnp.einsum('ijk,lmj->ilmk',poses_m,poses)\n",
    "# print(poses[0,...])\n",
    "# print(poses[-1,...])\n",
    "\n",
    "poses_t=poses_t[0]\n",
    "print(poses_t)\n",
    "\n",
    "# rgbds = render_many(mesh_paths, poses, intrinsics, scaling_factor=1.0, lighting=5.0)\n",
    "# b.get_rgb_image(rgbds[0].rgb).save(\"test_ku.png\")\n",
    "# b.get_rgb_image(rgbds[2].rgb).save(\"test_ku2.png\")"
   ]
  },
  {
   "cell_type": "code",
   "execution_count": 5,
   "metadata": {},
   "outputs": [
    {
     "name": "stdout",
     "output_type": "stream",
     "text": [
      "[[[ 0.94905835  0.02788146  0.31386635  0.06933129]\n",
      "  [ 0.11728816  0.8932457  -0.43400028 -0.09377632]\n",
      "  [-0.29246086  0.44870442  0.8444708   1.025182  ]\n",
      "  [ 0.          0.          0.          1.        ]]\n",
      "\n",
      " [[-0.6896261  -0.7234281  -0.03267294  0.12436341]\n",
      "  [-0.2806556   0.30858916 -0.9088489  -0.02746224]\n",
      "  [ 0.6675695  -0.61759585 -0.41584536  0.9460713 ]\n",
      "  [ 0.          0.          0.          1.        ]]\n",
      "\n",
      " [[-0.50055104 -0.86509585 -0.03252145  0.10813791]\n",
      "  [-0.37298378  0.24940766 -0.89368886 -0.01423071]\n",
      "  [ 0.781237   -0.43520668 -0.44750842  0.8369227 ]\n",
      "  [ 0.          0.          0.          1.        ]]\n",
      "\n",
      " [[ 0.348734   -0.9341079  -0.07633073  0.00694173]\n",
      "  [-0.4790473  -0.10765725 -0.87116253  0.07595585]\n",
      "  [ 0.8055425   0.34037006 -0.48502573  0.8338654 ]\n",
      "  [ 0.          0.          0.          1.        ]]\n",
      "\n",
      " [[-0.64011514  0.76583797  0.06120402 -0.08747824]\n",
      "  [-0.27533382 -0.3030458   0.9123353   0.03121561]\n",
      "  [ 0.7172477   0.5671472   0.40484545  0.91173226]\n",
      "  [ 0.          0.          0.          1.        ]]]\n"
     ]
    }
   ],
   "source": [
    "print(gt_poses)"
   ]
  },
  {
   "cell_type": "code",
   "execution_count": 6,
   "metadata": {},
   "outputs": [
    {
     "data": {
      "text/plain": [
       "(5, 4, 4)"
      ]
     },
     "execution_count": 6,
     "metadata": {},
     "output_type": "execute_result"
    }
   ],
   "source": [
    "poses.shape"
   ]
  },
  {
   "cell_type": "code",
   "execution_count": 7,
   "metadata": {},
   "outputs": [
    {
     "name": "stderr",
     "output_type": "stream",
     "text": [
      "[E rasterize_gl.cpp:121] OpenGL version reported as 4.6\n"
     ]
    },
    {
     "name": "stdout",
     "output_type": "stream",
     "text": [
      "Increasing frame buffer size to (width, height, depth) = (640, 480, 1024)\n"
     ]
    },
    {
     "ename": "RuntimeError",
     "evalue": "Cuda error: 801[cudaGraphicsGLRegisterImage(&s.cudaColorBuffer[i], s.glColorBuffer[i], GL_TEXTURE_3D, cudaGraphicsRegisterFlagsReadOnly);]",
     "output_type": "error",
     "traceback": [
      "\u001b[0;31m---------------------------------------------------------------------------\u001b[0m",
      "\u001b[0;31mRuntimeError\u001b[0m                              Traceback (most recent call last)",
      "Cell \u001b[0;32mIn[7], line 1\u001b[0m\n\u001b[0;32m----> 1\u001b[0m b\u001b[39m.\u001b[39;49msetup_renderer(intrinsics)\n\u001b[1;32m      2\u001b[0m model_dir \u001b[39m=\u001b[39m os\u001b[39m.\u001b[39mpath\u001b[39m.\u001b[39mjoin(b\u001b[39m.\u001b[39mutils\u001b[39m.\u001b[39mget_assets_dir(),\u001b[39m\"\u001b[39m\u001b[39mbop/ycbv/models\u001b[39m\u001b[39m\"\u001b[39m)\n\u001b[1;32m      3\u001b[0m meshes \u001b[39m=\u001b[39m []\n",
      "File \u001b[0;32m/data/vision/billf/scratch/esli/bayes3d/bayes3d/renderer.py:41\u001b[0m, in \u001b[0;36msetup_renderer\u001b[0;34m(intrinsics, num_layers)\u001b[0m\n\u001b[1;32m     36\u001b[0m \u001b[39mdef\u001b[39;00m \u001b[39msetup_renderer\u001b[39m(intrinsics, num_layers\u001b[39m=\u001b[39m\u001b[39m1024\u001b[39m):\n\u001b[1;32m     37\u001b[0m \u001b[39m    \u001b[39m\u001b[39m\"\"\"Setup the renderer.\u001b[39;00m\n\u001b[1;32m     38\u001b[0m \u001b[39m    Args:\u001b[39;00m\n\u001b[1;32m     39\u001b[0m \u001b[39m        intrinsics (bayes3d.camera.Intrinsics): The camera intrinsics.    \u001b[39;00m\n\u001b[1;32m     40\u001b[0m \u001b[39m    \"\"\"\u001b[39;00m\n\u001b[0;32m---> 41\u001b[0m     b\u001b[39m.\u001b[39mRENDERER \u001b[39m=\u001b[39m Renderer(intrinsics, num_layers\u001b[39m=\u001b[39;49mnum_layers)\n",
      "File \u001b[0;32m/data/vision/billf/scratch/esli/bayes3d/bayes3d/renderer.py:60\u001b[0m, in \u001b[0;36mRenderer.__init__\u001b[0;34m(self, intrinsics, num_layers)\u001b[0m\n\u001b[1;32m     52\u001b[0m \u001b[39mself\u001b[39m\u001b[39m.\u001b[39mrenderer_env \u001b[39m=\u001b[39m dr\u001b[39m.\u001b[39mRasterizeGLContext(intrinsics\u001b[39m.\u001b[39mheight, intrinsics\u001b[39m.\u001b[39mwidth, output_db\u001b[39m=\u001b[39m\u001b[39mFalse\u001b[39;00m)\n\u001b[1;32m     53\u001b[0m \u001b[39mself\u001b[39m\u001b[39m.\u001b[39mproj_list \u001b[39m=\u001b[39m \u001b[39mlist\u001b[39m(bayes3d\u001b[39m.\u001b[39mcamera\u001b[39m.\u001b[39m_open_gl_projection_matrix(\n\u001b[1;32m     54\u001b[0m     intrinsics\u001b[39m.\u001b[39mheight, intrinsics\u001b[39m.\u001b[39mwidth, \n\u001b[1;32m     55\u001b[0m     intrinsics\u001b[39m.\u001b[39mfx, intrinsics\u001b[39m.\u001b[39mfy, \n\u001b[1;32m     56\u001b[0m     intrinsics\u001b[39m.\u001b[39mcx, intrinsics\u001b[39m.\u001b[39mcy, \n\u001b[1;32m     57\u001b[0m     intrinsics\u001b[39m.\u001b[39mnear, intrinsics\u001b[39m.\u001b[39mfar\n\u001b[1;32m     58\u001b[0m )\u001b[39m.\u001b[39mreshape(\u001b[39m-\u001b[39m\u001b[39m1\u001b[39m))\n\u001b[0;32m---> 60\u001b[0m dr\u001b[39m.\u001b[39;49m_get_plugin(gl\u001b[39m=\u001b[39;49m\u001b[39mTrue\u001b[39;49;00m)\u001b[39m.\u001b[39;49msetup(\n\u001b[1;32m     61\u001b[0m     \u001b[39mself\u001b[39;49m\u001b[39m.\u001b[39;49mrenderer_env\u001b[39m.\u001b[39;49mcpp_wrapper,\n\u001b[1;32m     62\u001b[0m     intrinsics\u001b[39m.\u001b[39;49mheight, intrinsics\u001b[39m.\u001b[39;49mwidth, num_layers\n\u001b[1;32m     63\u001b[0m )\n\u001b[1;32m     65\u001b[0m \u001b[39mself\u001b[39m\u001b[39m.\u001b[39mmeshes \u001b[39m=\u001b[39m[]\n\u001b[1;32m     66\u001b[0m \u001b[39mself\u001b[39m\u001b[39m.\u001b[39mmesh_names \u001b[39m=\u001b[39m[]\n",
      "\u001b[0;31mRuntimeError\u001b[0m: Cuda error: 801[cudaGraphicsGLRegisterImage(&s.cudaColorBuffer[i], s.glColorBuffer[i], GL_TEXTURE_3D, cudaGraphicsRegisterFlagsReadOnly);]"
     ]
    }
   ],
   "source": [
    "b.setup_renderer(intrinsics)\n",
    "model_dir = os.path.join(b.utils.get_assets_dir(),\"bop/ycbv/models\")\n",
    "meshes = []\n",
    "for idx in range(1,22):\n",
    "    mesh_path = os.path.join(model_dir,\"obj_\" + \"{}\".format(idx).rjust(6, '0') + \".ply\")\n",
    "    b.RENDERER.add_mesh_from_file(mesh_path, scaling_factor=10.0/1000.0) "
   ]
  },
  {
   "cell_type": "code",
   "execution_count": null,
   "metadata": {},
   "outputs": [
    {
     "name": "stdout",
     "output_type": "stream",
     "text": [
      "You can open the visualizer by visiting the following URL:\n",
      "http://127.0.0.1:7000/static/\n"
     ]
    }
   ],
   "source": [
    "b.setup_visualizer()"
   ]
  },
  {
   "cell_type": "code",
   "execution_count": 9,
   "metadata": {},
   "outputs": [],
   "source": []
  },
  {
   "cell_type": "code",
   "execution_count": 37,
   "metadata": {},
   "outputs": [
    {
     "name": "stderr",
     "output_type": "stream",
     "text": [
      "100%|██████████| 5/5 [00:10<00:00,  2.07s/it]\n"
     ]
    }
   ],
   "source": [
    "poses = []\n",
    "for i in range(len(gt_ids)):\n",
    "    poses.append(\n",
    "        gt_poses[i] @ b.t3d.inverse_pose(offset_poses[i])\n",
    "    )\n",
    "poses = jnp.array(poses)\n",
    "\n",
    "for count, i in enumerate(tqdm(gt_ids)):\n",
    "    mesh_path = os.path.join(model_dir, b.utils.ycb_loader.MODEL_NAMES[i],\"textured.obj\")\n",
    "    mesh = trimesh.load(mesh_path)\n",
    "    b.show_trimesh(str(i), mesh)\n",
    "    b.show_pose(str(i), poses[count])"
   ]
  },
  {
   "cell_type": "code",
   "execution_count": 36,
   "metadata": {},
   "outputs": [],
   "source": [
    "b.clear()"
   ]
  },
  {
   "cell_type": "code",
   "execution_count": 32,
   "metadata": {},
   "outputs": [
    {
     "name": "stderr",
     "output_type": "stream",
     "text": [
      "100%|██████████| 5/5 [00:00<00:00, 79.41it/s]\n"
     ]
    }
   ],
   "source": [
    "for count, i in enumerate(tqdm(gt_ids)):\n",
    "    pc = jnp.array(b.RENDERER.meshes[i].vertices)\n",
    "    b.show_cloud(str(i),b.t3d.apply_transform(pc, b.t3d.inverse_pose(gt_poses[count])))"
   ]
  },
  {
   "cell_type": "code",
   "execution_count": 28,
   "metadata": {},
   "outputs": [
    {
     "name": "stdout",
     "output_type": "stream",
     "text": [
      "(5, 4, 4)\n"
     ]
    }
   ],
   "source": [
    "print(gt_poses.shape)"
   ]
  },
  {
   "cell_type": "code",
   "execution_count": 30,
   "metadata": {},
   "outputs": [
    {
     "data": {
      "text/plain": [
       "[1, 3, 4, 9, 14]"
      ]
     },
     "execution_count": 30,
     "metadata": {},
     "output_type": "execute_result"
    }
   ],
   "source": [
    "gt_ids"
   ]
  },
  {
   "cell_type": "code",
   "execution_count": null,
   "metadata": {},
   "outputs": [],
   "source": []
  }
 ],
 "metadata": {
  "kernelspec": {
   "display_name": "Python 3",
   "language": "python",
   "name": "python3"
  },
  "language_info": {
   "codemirror_mode": {
    "name": "ipython",
    "version": 3
   },
   "file_extension": ".py",
   "mimetype": "text/x-python",
   "name": "python",
   "nbconvert_exporter": "python",
   "pygments_lexer": "ipython3",
   "version": "3.9.16"
  },
  "orig_nbformat": 4
 },
 "nbformat": 4,
 "nbformat_minor": 2
}
