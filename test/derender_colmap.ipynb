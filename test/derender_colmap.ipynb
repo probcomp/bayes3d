{
 "cells": [
  {
   "cell_type": "code",
   "execution_count": 1,
   "metadata": {},
   "outputs": [],
   "source": [
    "import bayes3d as b\n",
    "import jax.numpy as jnp\n",
    "import numpy as np\n",
    "import jax\n",
    "import os\n",
    "import matplotlib.pyplot as plt\n",
    "import matplotlib\n",
    "import trimesh\n",
    "from tqdm import tqdm\n",
    "from collections import namedtuple\n",
    "import cv2"
   ]
  },
  {
   "cell_type": "code",
   "execution_count": 2,
   "metadata": {},
   "outputs": [],
   "source": [
    "# MASTER_SCALE = 0.2 #1 - this needs to be downscaled\n",
    "MASTER_SCALE = 0.15"
   ]
  },
  {
   "cell_type": "code",
   "execution_count": 3,
   "metadata": {},
   "outputs": [
    {
     "name": "stderr",
     "output_type": "stream",
     "text": [
      "/data/vision/billf/scratch/esli/.conda/envs/bayes3d/lib/python3.9/site-packages/jax/_src/numpy/lax_numpy.py:3492: UserWarning: 'kind' argument to argsort is ignored; only 'stable' sorts are supported.\n",
      "  warnings.warn(\"'kind' argument to argsort is ignored; only 'stable' sorts \"\n"
     ]
    }
   ],
   "source": [
    "# TODO: Fix object scaling\n",
    "\n",
    "positions = np.loadtxt('ku_scene_vids_linear_54/cam_pos_ori1.txt')\n",
    "positions.shape\n",
    "\n",
    "with open(\"ku_scene_vids_linear_54/frames1/dense/0/sparse/images.txt\", 'r') as file:\n",
    "    data_array = []\n",
    "    for line in file:\n",
    "        # Split each line into a list of floats using spaces as the delimiter\n",
    "        if line[0] == \"#\":\n",
    "            continue\n",
    "        float_list = [float(item) for item in line.strip().split()[:-1]]\n",
    "        data_array.append(float_list)\n",
    "\n",
    "# ordering by both colmap output image index and default order in file are incorrectly shuffled!\n",
    "\n",
    "## DUE TO ORDER SHUFFLING, THIS GETS MESSED UP!\n",
    "\n",
    "posevecs = jnp.array(data_array[::2])[:,:-1]\n",
    "ind=np.argsort(posevecs[:,0])\n",
    "#posevecs=posevecs[ind]\n",
    "posevecs=posevecs[:,1:]\n",
    "\n",
    "pose1 = posevecs[:,4:] # these two arrays have opposite conventions (quat, translation)\n",
    "pose2 = positions[:,:3] #translation, quat\n",
    "\n",
    "#scaling is still wrong ...\n",
    "\n",
    "#sf = np.linalg.norm(pose2[1]-pose2[0])/np.linalg.norm(pose1[1]-pose1[0])\n",
    "# TODO: scaling factor is still probably wrong due to uneven distances when calculating the sphere trajectories for comparison between reference and COLMAP camera poses\n",
    "# switch to linear to avoid issue, but fix sphere trajectories to be equidistant eventually\n"
   ]
  },
  {
   "cell_type": "code",
   "execution_count": 4,
   "metadata": {},
   "outputs": [
    {
     "name": "stdout",
     "output_type": "stream",
     "text": [
      "0.11722683149481375\n"
     ]
    }
   ],
   "source": [
    "# sf_v = []\n",
    "# for i in range(len(pose2)-1):\n",
    "#     sf_v.append(np.linalg.norm(pose2[i+1]-pose2[i])/np.linalg.norm(pose1[i+1]-pose1[i]))\n",
    "\n",
    "# # scale HACK\n",
    "# sf = max(sf_v)\n",
    "\n",
    "dists1 = []\n",
    "dists2 = []\n",
    "\n",
    "for i in pose1:\n",
    "    for j in pose1:\n",
    "        dists1.append(np.linalg.norm(i-j))\n",
    "dists1 = np.array(dists1)\n",
    "dists1.sort()\n",
    "\n",
    "for i in pose2:\n",
    "    for j in pose2:\n",
    "        dists2.append(np.linalg.norm(i-j))\n",
    "dists2 = np.array(dists2)\n",
    "dists2.sort()\n",
    "\n",
    "sf = min(dists2[dists2>0])/min(dists1[dists1>0]) # this scale factor extracted by colmap is quite noisy, affects reconstruction quality\n",
    "print(sf)"
   ]
  },
  {
   "cell_type": "code",
   "execution_count": 5,
   "metadata": {},
   "outputs": [
    {
     "name": "stdout",
     "output_type": "stream",
     "text": [
      "0.11718590553891785\n"
     ]
    }
   ],
   "source": [
    "## take mean of 19 least numbers? (20 frames)\n",
    "frames = len(posevecs)\n",
    "sum1 = sum(dists1[frames:2*frames-1])\n",
    "sum2 = sum(dists2[frames:2*frames-1])\n",
    "sf1 = sum2/sum1\n",
    "print(sf1)"
   ]
  },
  {
   "cell_type": "code",
   "execution_count": 6,
   "metadata": {},
   "outputs": [
    {
     "name": "stdout",
     "output_type": "stream",
     "text": [
      "0.11668872748401184\n"
     ]
    }
   ],
   "source": [
    "## take mean of 19 least numbers? (20 frames)\n",
    "sum1 = sum(dists1)\n",
    "sum2 = sum(dists2)\n",
    "sf1 = sum2/sum1\n",
    "print(sf1)"
   ]
  },
  {
   "cell_type": "code",
   "execution_count": 7,
   "metadata": {},
   "outputs": [],
   "source": [
    "sf = sf1\n",
    "#sf=.11"
   ]
  },
  {
   "attachments": {},
   "cell_type": "markdown",
   "metadata": {},
   "source": [
    "### Visualize poses"
   ]
  },
  {
   "cell_type": "code",
   "execution_count": 8,
   "metadata": {},
   "outputs": [
    {
     "name": "stdout",
     "output_type": "stream",
     "text": [
      "You can open the visualizer by visiting the following URL:\n",
      "http://127.0.0.1:7017/static/\n"
     ]
    }
   ],
   "source": [
    "b.setup_visualizer()\n",
    "\n",
    "for i in range(len(posevecs)):\n",
    "    quat, translation = posevecs[i,:4], posevecs[i,4:]\n",
    "    pose = b.t3d.transform_from_rot_and_pos(b.t3d.quaternion_to_rotation_matrix(quat), translation)\n",
    "    b.show_pose(str(i), pose)\n",
    "\n",
    "for i in range(len(positions)):\n",
    "    translation, quat = positions[i,:3], positions[i,3:]\n",
    "    pose = b.t3d.transform_from_rot_and_pos(b.t3d.quaternion_to_rotation_matrix(quat), translation)\n",
    "    b.show_pose('p'+str(i), pose)\n",
    "\n"
   ]
  },
  {
   "cell_type": "code",
   "execution_count": 10,
   "metadata": {},
   "outputs": [],
   "source": [
    "scene_mesh = trimesh.load('ku_scene_vids_linear_54/frames1/dense/meshed_delaunay.ply')\n",
    "b.show_trimesh('1234',scene_mesh)"
   ]
  },
  {
   "cell_type": "code",
   "execution_count": 11,
   "metadata": {},
   "outputs": [
    {
     "name": "stdout",
     "output_type": "stream",
     "text": [
      "(400,)\n"
     ]
    },
    {
     "data": {
      "text/plain": [
       "<matplotlib.colorbar.Colorbar at 0x7f3cd406ae50>"
      ]
     },
     "execution_count": 11,
     "metadata": {},
     "output_type": "execute_result"
    },
    {
     "data": {
      "image/png": "[encoded data removed]",
      "text/plain": [
       "<Figure size 640x480 with 2 Axes>"
      ]
     },
     "metadata": {},
     "output_type": "display_data"
    }
   ],
   "source": [
    "diff = dists1*sf - dists2\n",
    "print(diff.shape)\n",
    "import matplotlib.pyplot as plt\n",
    "plt.imshow(diff.reshape((20,-1)))\n",
    "plt.colorbar()"
   ]
  },
  {
   "cell_type": "code",
   "execution_count": 12,
   "metadata": {},
   "outputs": [
    {
     "data": {
      "text/plain": [
       "array([[ 0.75549477,  0.92006522,  0.77504045],\n",
       "       [ 0.72401708,  0.97003615,  0.74351138],\n",
       "       [ 0.68903917,  1.01833987,  0.71146953],\n",
       "       [ 0.65067625,  1.06472766,  0.67893696],\n",
       "       [ 0.60906112,  1.10895944,  0.64593619],\n",
       "       [ 0.56434363,  1.15080512,  0.61248994],\n",
       "       [ 0.51669008,  1.19004571,  0.57862127],\n",
       "       [ 0.46628198,  1.22647476,  0.54435349],\n",
       "       [ 0.41331556,  1.25989902,  0.50971037],\n",
       "       [ 0.35800049,  1.29013979,  0.47471565],\n",
       "       [ 0.30055887,  1.31703365,  0.43939355],\n",
       "       [ 0.24122402,  1.3404336 ,  0.40376842],\n",
       "       [ 0.1802395 ,  1.36020923,  0.36786482],\n",
       "       [ 0.11785761,  1.37624848,  0.33170748],\n",
       "       [ 0.05433819,  1.38845694,  0.2953214 ],\n",
       "       [-0.0100527 ,  1.39675939,  0.25873166],\n",
       "       [-0.07504416,  1.4010998 ,  0.22196345],\n",
       "       [-0.14036191,  1.40144134,  0.18504217],\n",
       "       [-0.20572963,  1.39776731,  0.14799327],\n",
       "       [-0.27087042,  1.39008033,  0.1108423 ]])"
      ]
     },
     "execution_count": 12,
     "metadata": {},
     "output_type": "execute_result"
    }
   ],
   "source": [
    "pose2"
   ]
  },
  {
   "cell_type": "code",
   "execution_count": 13,
   "metadata": {},
   "outputs": [],
   "source": [
    "\n",
    "# how to fix small scaling errors?"
   ]
  },
  {
   "cell_type": "code",
   "execution_count": 14,
   "metadata": {},
   "outputs": [
    {
     "data": {
      "text/plain": [
       "array([[ 0.75549477,  0.92006522,  0.77504045, -0.15551046,  0.27215382,\n",
       "         0.82449555, -0.47112212],\n",
       "       [ 0.72401708,  0.97003615,  0.74351138, -0.14778808,  0.24989107,\n",
       "         0.82366484, -0.48712361],\n",
       "       [ 0.68903917,  1.01833987,  0.71146953, -0.13937815,  0.22785366,\n",
       "         0.82206494, -0.50285745],\n",
       "       [ 0.65067625,  1.06472766,  0.67893696, -0.13029227,  0.20606692,\n",
       "         0.8197161 , -0.51829118],\n",
       "       [ 0.60906112,  1.10895944,  0.64593619, -0.12054367,  0.18455559,\n",
       "         0.81663948, -0.53339338],\n",
       "       [ 0.56434363,  1.15080512,  0.61248994, -0.11014721,  0.1633431 ,\n",
       "         0.81285661, -0.54813385],\n",
       "       [ 0.51669008,  1.19004571,  0.57862127, -0.0991192 ,  0.14245208,\n",
       "         0.8083902 , -0.56248391],\n",
       "       [ 0.46628198,  1.22647476,  0.54435349, -0.08747731,  0.12190372,\n",
       "         0.80326307, -0.57641631],\n",
       "       [ 0.41331556,  1.25989902,  0.50971037, -0.07524047,  0.1017183 ,\n",
       "         0.7974987 , -0.58990538],\n",
       "       [ 0.35800049,  1.29013979,  0.47471565, -0.06242871,  0.08191482,\n",
       "         0.79112071, -0.60292685],\n",
       "       [ 0.30055887,  1.31703365,  0.43939355, -0.04906307,  0.06251109,\n",
       "         0.78415328, -0.61545825],\n",
       "       [ 0.24122402,  1.3404336 ,  0.40376842, -0.03516544,  0.0435237 ,\n",
       "         0.77662057, -0.62747884],\n",
       "       [ 0.1802395 ,  1.36020923,  0.36786482, -0.02075847,  0.02496811,\n",
       "         0.7685467 , -0.63896924],\n",
       "       [ 0.11785761,  1.37624848,  0.33170748, -0.00586544,  0.00685858,\n",
       "         0.75995588, -0.649912  ],\n",
       "       [ 0.05433819,  1.38845694,  0.2953214 ,  0.00948988, -0.01079174,\n",
       "         0.75087237, -0.66029114],\n",
       "       [-0.0100527 ,  1.39675939,  0.25873166,  0.0252833 , -0.0279708 ,\n",
       "         0.74131984, -0.67009205],\n",
       "       [-0.07504416,  1.4010998 ,  0.22196345,  0.04149033, -0.04466758,\n",
       "         0.73132193, -0.67930222],\n",
       "       [-0.14036191,  1.40144134,  0.18504217,  0.05808631, -0.0608721 ,\n",
       "         0.72090226, -0.68791038],\n",
       "       [-0.20572963,  1.39776731,  0.14799327,  0.07504641, -0.07657528,\n",
       "         0.71008366, -0.69590634],\n",
       "       [-0.27087042,  1.39008033,  0.1108423 , -0.0923458 ,  0.09176894,\n",
       "        -0.69888872,  0.70328182]])"
      ]
     },
     "execution_count": 14,
     "metadata": {},
     "output_type": "execute_result"
    }
   ],
   "source": [
    "positions"
   ]
  },
  {
   "cell_type": "code",
   "execution_count": 15,
   "metadata": {},
   "outputs": [
    {
     "name": "stdout",
     "output_type": "stream",
     "text": [
      "Intrinsics(height=480, width=640, fx=1066.778, fy=1066.778, cx=320.0, cy=240.0, near=0.01, far=200)\n",
      "Intrinsics(height=72, width=96, fx=160.01669311523438, fy=160.01669311523438, cx=48.0, cy=36.0, near=0.01, far=200)\n"
     ]
    }
   ],
   "source": [
    "bop_ycb_dir = os.path.join(b.utils.get_assets_dir(), \"bop/ycbv\")\n",
    "rgbd, gt_ids, gt_poses, masks = b.utils.ycb_loader.get_test_img('54', '1', bop_ycb_dir)\n",
    "\n",
    "intrinsics = b.Intrinsics(\n",
    "    height=rgbd.intrinsics.height, width=rgbd.intrinsics.width,\n",
    "    fx=rgbd.intrinsics.fx, fy=rgbd.intrinsics.fx,\n",
    "    cx=rgbd.intrinsics.width/2, cy=rgbd.intrinsics.height/2,\n",
    "    near=rgbd.intrinsics.near, far= 200 #rgbd.intrinsics.far\n",
    ")\n",
    "\n",
    "print(intrinsics)\n",
    "\n",
    "# True scaling factor needs to be turned back on\n",
    "\n",
    "# original render has intrinsics that capture true sizes, we modify to fix scaling\n",
    "\n",
    "scaling_factor = sf # this reciprocal of this number is only used for scaling objects, not used for scaling mesh itself\n",
    "\n",
    "intrinsics = b.camera.scale_camera_parameters(intrinsics, MASTER_SCALE)\n",
    "print(intrinsics)"
   ]
  },
  {
   "cell_type": "code",
   "execution_count": 16,
   "metadata": {},
   "outputs": [
    {
     "name": "stderr",
     "output_type": "stream",
     "text": [
      "[E rasterize_gl.cpp:121] OpenGL version reported as 4.6\n"
     ]
    },
    {
     "name": "stdout",
     "output_type": "stream",
     "text": [
      "Increasing frame buffer size to (width, height, depth) = (96, 96, 1024)\n"
     ]
    },
    {
     "name": "stderr",
     "output_type": "stream",
     "text": [
      " 20%|██        | 1/5 [00:05<00:21,  5.29s/it]"
     ]
    },
    {
     "name": "stdout",
     "output_type": "stream",
     "text": [
      "Centering mesh with translation [-0.00490622 -0.01464581 -0.04144788]\n"
     ]
    },
    {
     "name": "stderr",
     "output_type": "stream",
     "text": [
      " 40%|████      | 2/5 [00:11<00:16,  5.60s/it]"
     ]
    },
    {
     "name": "stdout",
     "output_type": "stream",
     "text": [
      "Centering mesh with translation [-0.03734723 -0.0125462  -0.00755429]\n"
     ]
    },
    {
     "name": "stderr",
     "output_type": "stream",
     "text": [
      " 60%|██████    | 3/5 [00:15<00:10,  5.22s/it]"
     ]
    },
    {
     "name": "stdout",
     "output_type": "stream",
     "text": [
      "Centering mesh with translation [-0.0428876   0.02094889  0.11394414]\n"
     ]
    },
    {
     "name": "stderr",
     "output_type": "stream",
     "text": [
      " 80%|████████  | 4/5 [00:20<00:04,  4.99s/it]"
     ]
    },
    {
     "name": "stdout",
     "output_type": "stream",
     "text": [
      "Centering mesh with translation [-0.07726967 -0.01840366 -0.17986313]\n"
     ]
    },
    {
     "name": "stderr",
     "output_type": "stream",
     "text": [
      "100%|██████████| 5/5 [00:25<00:00,  5.04s/it]"
     ]
    },
    {
     "name": "stdout",
     "output_type": "stream",
     "text": [
      "Centering mesh with translation [-0.08905314  0.01576415  0.003775  ]\n",
      "[<trimesh.Trimesh(vertices.shape=(263475, 3), faces.shape=(524288, 3))>, <trimesh.Trimesh(vertices.shape=(263515, 3), faces.shape=(524288, 3))>, <trimesh.Trimesh(vertices.shape=(263409, 3), faces.shape=(524288, 3))>, <trimesh.Trimesh(vertices.shape=(266303, 3), faces.shape=(524288, 3))>, <trimesh.Trimesh(vertices.shape=(267953, 3), faces.shape=(524288, 3))>]\n"
     ]
    },
    {
     "name": "stderr",
     "output_type": "stream",
     "text": [
      "\n"
     ]
    }
   ],
   "source": [
    "b.setup_renderer(intrinsics)\n",
    "renderer = b.RENDERER\n",
    "\n",
    "\n",
    "model_dir = os.path.join(b.utils.get_assets_dir(), \"ycb_video_models/models\")\n",
    "mesh_paths = []\n",
    "for i in tqdm(gt_ids):\n",
    "    mesh_path = os.path.join(model_dir, b.utils.ycb_loader.MODEL_NAMES[i],\"textured.obj\")\n",
    "    m, pose = b.utils.mesh.center_mesh(trimesh.load(mesh_path), return_pose=True)\n",
    "    bbox, _ = b.utils.aabb(m.vertices)\n",
    "    mesh_paths.append(\n",
    "        mesh_path\n",
    "    ) \n",
    "    # objects in the renderer don't need to be rescaled if only intrinsics are being shifted \n",
    "    # (the camera is being made shorter and less pixels, but no change to the 3D world model)\n",
    "    \n",
    "\n",
    "    # make this a principled lookup table?\n",
    "    # TODO: scene-specific\n",
    "    if i == 2: # this is the transform for object 2 in scene 54\n",
    "        temp_mesh = trimesh.load(mesh_path)\n",
    "        temp_mesh.apply_transform(b.t3d.transform_from_axis_angle(np.array([0,1,0]),np.pi/2))\n",
    "        b.RENDERER.add_mesh(temp_mesh, scaling_factor=1/scaling_factor)\n",
    "    elif i == 14: # this is the transform for object 14 in scene 54\n",
    "        temp_mesh = trimesh.load(mesh_path)\n",
    "        temp_mesh.apply_transform(b.t3d.transform_from_axis_angle(np.array([1,0,0]),np.pi/2))\n",
    "        b.RENDERER.add_mesh(temp_mesh, scaling_factor=1/scaling_factor)\n",
    "    else:\n",
    "        b.RENDERER.add_mesh_from_file(mesh_path, scaling_factor=1/scaling_factor)\n",
    "\n",
    "print(b.RENDERER.meshes)"
   ]
  },
  {
   "cell_type": "code",
   "execution_count": 17,
   "metadata": {},
   "outputs": [
    {
     "name": "stdout",
     "output_type": "stream",
     "text": [
      "You can open the visualizer by visiting the following URL:\n",
      "http://127.0.0.1:7018/static/\n"
     ]
    }
   ],
   "source": [
    "b.setup_visualizer()"
   ]
  },
  {
   "cell_type": "code",
   "execution_count": null,
   "metadata": {},
   "outputs": [],
   "source": []
  },
  {
   "cell_type": "code",
   "execution_count": 18,
   "metadata": {},
   "outputs": [],
   "source": [
    "orig_scale_pc = jnp.load('depth_im_pc_colmap_frames1.npy').reshape(-1,3)\n",
    "orig_scale_pc_c = orig_scale_pc - jnp.average(orig_scale_pc,axis=0)\n",
    "#b.show_cloud('34',orig_scale_pc_c)"
   ]
  },
  {
   "cell_type": "code",
   "execution_count": 19,
   "metadata": {},
   "outputs": [],
   "source": [
    "## instead of scaling the camera parameters down, scale the object meshes up!\n",
    "\n",
    "## this throws off the pose estimates relative to the ground truth, but this can be connected later\n",
    "\n",
    "\n",
    "b.show_trimesh('1234',b.RENDERER.meshes[0]) # shows a point cloud box to validate scale\n"
   ]
  },
  {
   "cell_type": "code",
   "execution_count": 20,
   "metadata": {},
   "outputs": [],
   "source": [
    "w,h = intrinsics.width, intrinsics.height\n",
    "\n",
    "original_depth = jnp.load('depth_im_colmap_frames1.npy')\n",
    "scaled_depth = cv2.resize(\n",
    "    np.asarray(original_depth, dtype=original_depth.dtype), (w,h),interpolation=0).astype(\n",
    "    original_depth.dtype)\n",
    "\n",
    "\n",
    "observed_point_cloud_image = b.t3d.unproject_depth(scaled_depth, intrinsics)#.reshape(-1,3)\n",
    "\n",
    "#b.show_cloud('12',observed_point_cloud_image.reshape(-1,3))"
   ]
  },
  {
   "cell_type": "code",
   "execution_count": 21,
   "metadata": {},
   "outputs": [
    {
     "data": {
      "text/plain": [
       "Intrinsics(height=72, width=96, fx=160.01669311523438, fy=160.01669311523438, cx=48.0, cy=36.0, near=0.01, far=200)"
      ]
     },
     "execution_count": 21,
     "metadata": {},
     "output_type": "execute_result"
    }
   ],
   "source": [
    "intrinsics"
   ]
  },
  {
   "cell_type": "code",
   "execution_count": 22,
   "metadata": {},
   "outputs": [
    {
     "name": "stdout",
     "output_type": "stream",
     "text": [
      "[[-2.5694576e-01 -9.6642560e-01  5.8338302e-04  9.4525772e-01]\n",
      " [-4.6424329e-01  1.2289993e-01 -8.7713957e-01 -1.2757397e-01]\n",
      " [ 8.4761834e-01 -2.2564811e-01 -4.8023531e-01  1.3895199e+01]\n",
      " [ 0.0000000e+00  0.0000000e+00  0.0000000e+00  1.0000000e+00]]\n"
     ]
    }
   ],
   "source": [
    "#this needs to be rescaled?\n",
    "\n",
    "plane_pose, plane_dims = b.utils.find_plane_and_dims(orig_scale_pc.reshape(-1,3), # mesh.vertices\n",
    "    ransac_threshold=0.001, inlier_threshold=0.001, segmentation_threshold=1#0.1\n",
    ")\n",
    "\n",
    "# ransac threshold makes this sensitive too! is there a way to fix the ransac randomness?\n",
    "\n",
    "if plane_pose[:3,2][2] > 0:\n",
    "    plane_pose = plane_pose @ b.t3d.transform_from_axis_angle(jnp.array([1.0, 0.0, 0.0]), jnp.pi)\n",
    "\n",
    "b.show_pose(\"plane_pose\", plane_pose)\n",
    "\n",
    "print(plane_pose)\n",
    "\n",
    "# plane_pose\n",
    "# table_mesh = b.utils.make_cuboid_mesh(MASTER_SCALE*plane_dims)\n",
    "# renderer.add_mesh(table_mesh)"
   ]
  },
  {
   "attachments": {},
   "cell_type": "markdown",
   "metadata": {},
   "source": [
    "## Mesh flips?"
   ]
  },
  {
   "cell_type": "code",
   "execution_count": 23,
   "metadata": {},
   "outputs": [
    {
     "name": "stdout",
     "output_type": "stream",
     "text": [
      "pc min coordinates: [-59.993744 -44.995308   9.644669]\n",
      "pc max coordinates: [ 58.74387   43.745438 200.      ]\n"
     ]
    }
   ],
   "source": [
    "print('pc min coordinates: ' + str(jnp.min(observed_point_cloud_image.reshape(-1,3), axis=0)))\n",
    "print('pc max coordinates: ' + str(jnp.max(observed_point_cloud_image.reshape(-1,3), axis=0)))"
   ]
  },
  {
   "cell_type": "code",
   "execution_count": 24,
   "metadata": {},
   "outputs": [],
   "source": [
    "# pc = jnp.array(b.RENDERER.meshes[0].vertices)\n",
    "# centroid = jnp.mean(pc, axis=0)\n",
    "# pc_centered = pc - centroid\n",
    "\n",
    "# b.show_cloud(\"123\", pc_centered) # UNCENTERED poses"
   ]
  },
  {
   "cell_type": "code",
   "execution_count": null,
   "metadata": {},
   "outputs": [],
   "source": []
  },
  {
   "cell_type": "code",
   "execution_count": 25,
   "metadata": {},
   "outputs": [],
   "source": [
    "threedp3_likelihood_jit = jax.jit(jax.vmap(jax.vmap(\n",
    "        b.threedp3_likelihood,\n",
    "       in_axes=(None, None, None, 0, None, None)),\n",
    "       in_axes=(None, 0, None, None, None, None)\n",
    "), static_argnames=('filter_size',))\n",
    "\n",
    "\n",
    "def score_trace(trace):\n",
    "    reconstruction = renderer.render_many(\n",
    "        trace.poses[None,...] , jnp.array(trace.ids)\n",
    "    )\n",
    "\n",
    "    p = b.threedp3_likelihood_jit(\n",
    "        trace.observation, reconstruction[0,:,:,:3],\n",
    "        trace.variance, trace.outlier_prob, OUTLIER_VOLUME,\n",
    "        5\n",
    "    )\n",
    "    return p\n",
    "\n",
    "def render_image(trace):\n",
    "    reconstruction = renderer.render_many(\n",
    "        trace.poses , jnp.array(trace.ids)\n",
    "    )\n",
    "    return reconstruction\n",
    "\n",
    "def score_traces(traces, renderer):\n",
    "    reconstruction = renderer.render_many(\n",
    "        traces.all_poses , jnp.array(traces.ids)\n",
    "    )\n",
    "    p = threedp3_likelihood_jit(\n",
    "        traces.observation, reconstruction[:,:,:,:3],\n",
    "        traces.variance, traces.all_outlier_prob, OUTLIER_VOLUME,\n",
    "        5\n",
    "    )\n",
    "    return p\n",
    "\n",
    "\n",
    "def viz_trace(trace):\n",
    "    b.clear()\n",
    "    key = jax.random.PRNGKey(10)\n",
    "    b.show_cloud(\"1\", trace.observation.reshape(-1,3))\n",
    "    noisy_point_cloud_image = jax.random.multivariate_normal(\n",
    "        key, trace.observation[:,:3].reshape(-1,3), jnp.eye(3)*trace.variance\n",
    "    )\n",
    "    b.show_cloud(\"2\", noisy_point_cloud_image.reshape(-1,3), color=b.RED)\n",
    "\n",
    "    colors = b.viz.distinct_colors(10)\n",
    "    for i in range(len(trace.ids)):\n",
    "        b.show_trimesh(f\"obj_{i}\", renderer.meshes[trace.ids[i]],color=colors[i])\n",
    "        b.set_pose(f\"obj_{i}\", trace.poses[i])\n",
    "\n",
    "\n",
    "def viz_trace_centered(trace):\n",
    "    b.clear()\n",
    "    key = jax.random.PRNGKey(10)\n",
    "    b.show_cloud(\"1\",  b.t3d.apply_transform(trace.observation.reshape(-1,3), b.t3d.inverse_pose(plane_pose)), color=b.RED, size=0.1)\n",
    "    noisy_point_cloud_image = jax.random.multivariate_normal(\n",
    "        key, trace.observation[:,:3].reshape(-1,3), jnp.eye(3)*trace.variance\n",
    "    )\n",
    "    \n",
    "    # b.show_cloud(\"2\", b.t3d.apply_transform(noisy_point_cloud_image.reshape(-1,3), b.t3d.inverse_pose(contact_plane)), color=b.RED, size=0.1)\n",
    "\n",
    "    colors = b.viz.distinct_colors(10)\n",
    "    for i in range(len(trace.ids)):\n",
    "        b.show_trimesh(f\"obj_{i}\", renderer.meshes[trace.ids[i]],color=colors[i])\n",
    "        b.set_pose(f\"obj_{i}\", b.t3d.inverse_pose(plane_pose) @ trace.poses[i])\n",
    "\n",
    "\n",
    "Trace = namedtuple('Trace', ['poses', 'ids', 'variance', 'outlier_prob', 'observation'])\n",
    "Traces = namedtuple('Traces', ['all_poses', 'ids', 'variance', 'all_outlier_prob', 'observation'])"
   ]
  },
  {
   "cell_type": "code",
   "execution_count": 26,
   "metadata": {},
   "outputs": [],
   "source": [
    "VARIANCE = 0.01 #000\n",
    "# VARIANCE_GRID = jnp.array([0.0001]).reshape(-1,1)\n",
    "OUTLIER_GRID = jnp.linspace(0.01, 0.3, 3)\n",
    "OUTLIER_VOLUME = 10.0**3\n",
    "\n",
    "# what are outlier grid and volume parameters?\n",
    "\n",
    "grid_params = [\n",
    "    (5, jnp.pi, (11,11,11)), # length scale is about 5\n",
    "    (2, jnp.pi/3, (11,11,11)), \n",
    "    (0.5, jnp.pi, (1,1,11)), # why does this mess up the reconstruction?\n",
    "    (1, jnp.pi/5, (11,11,11)),\n",
    "    #(0.5, jnp.pi, (1,1,11)), # why does this mess up the reconstruction?\n",
    "    (0.1, jnp.pi/5, (11,11,11)), \n",
    "    (0.05, 0.0, (16,16,1))\n",
    "]\n",
    "\n",
    "\n",
    "\n",
    "## better pose initialization?\n",
    "\n",
    "contact_param_gridding_schedule = [\n",
    "    b.utils.make_translation_grid_enumeration_3d(\n",
    "        -x, -x, -ang,\n",
    "        x, x, ang,\n",
    "        *nums\n",
    "    )\n",
    "    for (x,ang,nums) in grid_params\n",
    "]\n",
    "\n",
    "contact_poses_jit = jax.jit(jax.vmap(b.scene_graph.relative_pose_from_edge, in_axes=(0,None, None)))\n",
    "\n",
    "contact_plane = plane_pose \n"
   ]
  },
  {
   "cell_type": "code",
   "execution_count": 27,
   "metadata": {},
   "outputs": [
    {
     "data": {
      "text/plain": [
       "(1331, 3)"
      ]
     },
     "execution_count": 27,
     "metadata": {},
     "output_type": "execute_result"
    }
   ],
   "source": [
    "contact_param_gridding_schedule[0].shape"
   ]
  },
  {
   "cell_type": "code",
   "execution_count": 28,
   "metadata": {},
   "outputs": [],
   "source": [
    "# ## Testing block\n",
    "# potential_new_object_poses = contact_plane @ contact_poses_jit(\n",
    "#                 contact_param_grid,\n",
    "#                 3,\n",
    "#                 renderer.model_box_dims[0],\n",
    "#             )\n",
    "# print(potential_new_object_poses.shape)\n",
    "\n",
    "# for i in range(len(potential_new_object_poses)):\n",
    "#     b.show_pose(str(i+4),potential_new_object_poses[i,:,:])\n",
    "\n",
    "# for c in contact_param_gridding_schedule:\n",
    "#     print(c.shape)"
   ]
  },
  {
   "cell_type": "code",
   "execution_count": null,
   "metadata": {},
   "outputs": [],
   "source": [
    "\n",
    "\n"
   ]
  },
  {
   "cell_type": "code",
   "execution_count": 45,
   "metadata": {},
   "outputs": [],
   "source": [
    "# add table to the renderer\n",
    "table_mesh = b.utils.make_cuboid_mesh(plane_dims)\n",
    "b.RENDERER.add_mesh(table_mesh)\n",
    "\n",
    "# initialize trace with just the ground plane\n",
    "trace = Trace(plane_pose[None,:,:], [len(b.RENDERER.meshes)-1], VARIANCE, 0.01, observed_point_cloud_image)\n",
    "viz_trace_centered(trace) "
   ]
  },
  {
   "cell_type": "code",
   "execution_count": 46,
   "metadata": {},
   "outputs": [
    {
     "name": "stderr",
     "output_type": "stream",
     "text": [
      "  0%|          | 0/7 [00:00<?, ?it/s]"
     ]
    },
    {
     "name": "stdout",
     "output_type": "stream",
     "text": [
      "[7, 0]\n",
      "[7, 0]\n",
      "[7, 0]\n",
      "[7, 0]\n",
      "[7, 0]\n",
      "[7, 0]\n"
     ]
    },
    {
     "name": "stderr",
     "output_type": "stream",
     "text": [
      " 14%|█▍        | 1/7 [00:04<00:27,  4.55s/it]"
     ]
    },
    {
     "name": "stdout",
     "output_type": "stream",
     "text": [
      "166\n",
      "[7, 1]\n",
      "[7, 1]\n",
      "[7, 1]\n",
      "[7, 1]\n"
     ]
    },
    {
     "name": "stderr",
     "output_type": "stream",
     "text": [
      " 29%|██▊       | 2/7 [00:04<00:10,  2.09s/it]"
     ]
    },
    {
     "name": "stdout",
     "output_type": "stream",
     "text": [
      "[7, 1]\n",
      "[7, 1]\n",
      "135\n",
      "[7, 2]\n",
      "[7, 2]\n",
      "[7, 2]\n",
      "[7, 2]\n",
      "[7, 2]\n",
      "[7, 2]\n"
     ]
    },
    {
     "name": "stderr",
     "output_type": "stream",
     "text": [
      " 43%|████▎     | 3/7 [00:05<00:05,  1.31s/it]"
     ]
    },
    {
     "name": "stdout",
     "output_type": "stream",
     "text": [
      "122\n",
      "[7, 3]\n",
      "[7, 3]\n",
      "[7, 3]\n",
      "[7, 3]\n"
     ]
    },
    {
     "name": "stderr",
     "output_type": "stream",
     "text": [
      " 57%|█████▋    | 4/7 [00:05<00:02,  1.06it/s]"
     ]
    },
    {
     "name": "stdout",
     "output_type": "stream",
     "text": [
      "[7, 3]\n",
      "[7, 3]\n",
      "104\n",
      "[7, 4]\n",
      "[7, 4]\n",
      "[7, 4]\n",
      "[7, 4]\n",
      "[7, 4]\n"
     ]
    },
    {
     "name": "stderr",
     "output_type": "stream",
     "text": [
      " 71%|███████▏  | 5/7 [00:06<00:01,  1.36it/s]"
     ]
    },
    {
     "name": "stdout",
     "output_type": "stream",
     "text": [
      "[7, 4]\n",
      "135\n",
      "[7, 5]\n",
      "[7, 5]\n",
      "[7, 5]\n",
      "[7, 5]\n",
      "[7, 5]\n"
     ]
    },
    {
     "name": "stderr",
     "output_type": "stream",
     "text": [
      " 86%|████████▌ | 6/7 [00:06<00:00,  1.81it/s]"
     ]
    },
    {
     "name": "stdout",
     "output_type": "stream",
     "text": [
      "[7, 5]\n",
      "246\n",
      "[7, 6]\n",
      "[7, 6]\n",
      "[7, 6]\n",
      "[7, 6]\n",
      "[7, 6]\n",
      "[7, 6]\n"
     ]
    },
    {
     "name": "stderr",
     "output_type": "stream",
     "text": [
      "100%|██████████| 7/7 [00:06<00:00,  1.09it/s]\n"
     ]
    },
    {
     "name": "stdout",
     "output_type": "stream",
     "text": [
      "246\n",
      "7\n",
      "[1. 0. 0. 0. 0. 0. 0.]\n",
      "[0 2 3 1 4 5 6]\n",
      "[7, 0]\n"
     ]
    },
    {
     "name": "stderr",
     "output_type": "stream",
     "text": [
      "  0%|          | 0/7 [00:00<?, ?it/s]"
     ]
    },
    {
     "name": "stdout",
     "output_type": "stream",
     "text": [
      "[7, 0, 0]\n",
      "[7, 0, 0]\n",
      "[7, 0, 0]\n",
      "[7, 0, 0]\n",
      "[7, 0, 0]\n"
     ]
    },
    {
     "name": "stderr",
     "output_type": "stream",
     "text": [
      " 14%|█▍        | 1/7 [00:00<00:04,  1.24it/s]"
     ]
    },
    {
     "name": "stdout",
     "output_type": "stream",
     "text": [
      "[7, 0, 0]\n",
      "134\n",
      "[7, 0, 1]\n",
      "[7, 0, 1]\n",
      "[7, 0, 1]\n",
      "[7, 0, 1]\n",
      "[7, 0, 1]\n"
     ]
    },
    {
     "name": "stderr",
     "output_type": "stream",
     "text": [
      " 29%|██▊       | 2/7 [00:01<00:03,  1.54it/s]"
     ]
    },
    {
     "name": "stdout",
     "output_type": "stream",
     "text": [
      "[7, 0, 1]\n",
      "134\n",
      "[7, 0, 2]\n",
      "[7, 0, 2]\n",
      "[7, 0, 2]\n",
      "[7, 0, 2]\n",
      "[7, 0, 2]\n"
     ]
    },
    {
     "name": "stderr",
     "output_type": "stream",
     "text": [
      " 43%|████▎     | 3/7 [00:01<00:02,  1.64it/s]"
     ]
    },
    {
     "name": "stdout",
     "output_type": "stream",
     "text": [
      "[7, 0, 2]\n",
      "107\n",
      "[7, 0, 3]\n",
      "[7, 0, 3]\n",
      "[7, 0, 3]\n",
      "[7, 0, 3]\n",
      "[7, 0, 3]\n"
     ]
    },
    {
     "name": "stderr",
     "output_type": "stream",
     "text": [
      " 57%|█████▋    | 4/7 [00:02<00:01,  1.70it/s]"
     ]
    },
    {
     "name": "stdout",
     "output_type": "stream",
     "text": [
      "[7, 0, 3]\n",
      "3\n",
      "[7, 0, 4]\n",
      "[7, 0, 4]\n",
      "[7, 0, 4]\n",
      "[7, 0, 4]\n",
      "[7, 0, 4]\n"
     ]
    },
    {
     "name": "stderr",
     "output_type": "stream",
     "text": [
      " 71%|███████▏  | 5/7 [00:03<00:01,  1.73it/s]"
     ]
    },
    {
     "name": "stdout",
     "output_type": "stream",
     "text": [
      "[7, 0, 4]\n",
      "119\n",
      "[7, 0, 5]\n",
      "[7, 0, 5]\n",
      "[7, 0, 5]\n",
      "[7, 0, 5]\n",
      "[7, 0, 5]\n",
      "[7, 0, 5]\n"
     ]
    },
    {
     "name": "stderr",
     "output_type": "stream",
     "text": [
      " 86%|████████▌ | 6/7 [00:03<00:00,  1.97it/s]"
     ]
    },
    {
     "name": "stdout",
     "output_type": "stream",
     "text": [
      "246\n",
      "[7, 0, 6]\n",
      "[7, 0, 6]\n",
      "[7, 0, 6]\n",
      "[7, 0, 6]\n"
     ]
    },
    {
     "name": "stderr",
     "output_type": "stream",
     "text": [
      "100%|██████████| 7/7 [00:03<00:00,  1.86it/s]"
     ]
    },
    {
     "name": "stdout",
     "output_type": "stream",
     "text": [
      "[7, 0, 6]\n",
      "[7, 0, 6]\n",
      "246\n",
      "7\n"
     ]
    },
    {
     "name": "stderr",
     "output_type": "stream",
     "text": [
      "\n"
     ]
    },
    {
     "name": "stdout",
     "output_type": "stream",
     "text": [
      "[0. 0. 0. 1. 0. 0. 0.]\n",
      "[3 0 1 2 4 5 6]\n",
      "[7, 0, 3]\n"
     ]
    },
    {
     "name": "stderr",
     "output_type": "stream",
     "text": [
      "  0%|          | 0/7 [00:00<?, ?it/s]"
     ]
    },
    {
     "name": "stdout",
     "output_type": "stream",
     "text": [
      "[7, 0, 3, 0]\n",
      "[7, 0, 3, 0]\n",
      "[7, 0, 3, 0]\n",
      "[7, 0, 3, 0]\n",
      "[7, 0, 3, 0]\n",
      "[7, 0, 3, 0]\n"
     ]
    },
    {
     "name": "stderr",
     "output_type": "stream",
     "text": [
      " 14%|█▍        | 1/7 [00:01<00:06,  1.07s/it]"
     ]
    },
    {
     "name": "stdout",
     "output_type": "stream",
     "text": [
      "136\n",
      "[7, 0, 3, 1]\n",
      "[7, 0, 3, 1]\n",
      "[7, 0, 3, 1]\n",
      "[7, 0, 3, 1]\n",
      "[7, 0, 3, 1]\n"
     ]
    },
    {
     "name": "stderr",
     "output_type": "stream",
     "text": [
      " 29%|██▊       | 2/7 [00:01<00:04,  1.15it/s]"
     ]
    },
    {
     "name": "stdout",
     "output_type": "stream",
     "text": [
      "[7, 0, 3, 1]\n",
      "151\n",
      "[7, 0, 3, 2]\n",
      "[7, 0, 3, 2]\n",
      "[7, 0, 3, 2]\n",
      "[7, 0, 3, 2]\n",
      "[7, 0, 3, 2]\n"
     ]
    },
    {
     "name": "stderr",
     "output_type": "stream",
     "text": [
      " 43%|████▎     | 3/7 [00:02<00:03,  1.24it/s]"
     ]
    },
    {
     "name": "stdout",
     "output_type": "stream",
     "text": [
      "[7, 0, 3, 2]\n",
      "137\n",
      "[7, 0, 3, 3]\n",
      "[7, 0, 3, 3]\n",
      "[7, 0, 3, 3]\n",
      "[7, 0, 3, 3]\n",
      "[7, 0, 3, 3]\n"
     ]
    },
    {
     "name": "stderr",
     "output_type": "stream",
     "text": [
      " 57%|█████▋    | 4/7 [00:03<00:02,  1.28it/s]"
     ]
    },
    {
     "name": "stdout",
     "output_type": "stream",
     "text": [
      "[7, 0, 3, 3]\n",
      "106\n",
      "[7, 0, 3, 4]\n",
      "[7, 0, 3, 4]\n",
      "[7, 0, 3, 4]\n",
      "[7, 0, 3, 4]\n",
      "[7, 0, 3, 4]\n"
     ]
    },
    {
     "name": "stderr",
     "output_type": "stream",
     "text": [
      " 71%|███████▏  | 5/7 [00:04<00:01,  1.30it/s]"
     ]
    },
    {
     "name": "stdout",
     "output_type": "stream",
     "text": [
      "[7, 0, 3, 4]\n",
      "135\n",
      "[7, 0, 3, 5]\n",
      "[7, 0, 3, 5]\n",
      "[7, 0, 3, 5]\n",
      "[7, 0, 3, 5]\n",
      "[7, 0, 3, 5]\n"
     ]
    },
    {
     "name": "stderr",
     "output_type": "stream",
     "text": [
      " 86%|████████▌ | 6/7 [00:04<00:00,  1.44it/s]"
     ]
    },
    {
     "name": "stdout",
     "output_type": "stream",
     "text": [
      "[7, 0, 3, 5]\n",
      "246\n",
      "[7, 0, 3, 6]\n",
      "[7, 0, 3, 6]\n",
      "[7, 0, 3, 6]\n",
      "[7, 0, 3, 6]\n",
      "[7, 0, 3, 6]\n"
     ]
    },
    {
     "name": "stderr",
     "output_type": "stream",
     "text": [
      "100%|██████████| 7/7 [00:05<00:00,  1.36it/s]"
     ]
    },
    {
     "name": "stdout",
     "output_type": "stream",
     "text": [
      "[7, 0, 3, 6]\n",
      "246\n",
      "7\n",
      "[0. 1. 0. 0. 0. 0. 0.]\n",
      "[1 4 0 2 3 5 6]\n",
      "[7, 0, 3, 1]\n"
     ]
    },
    {
     "name": "stderr",
     "output_type": "stream",
     "text": [
      "\n",
      "  0%|          | 0/7 [00:00<?, ?it/s]"
     ]
    },
    {
     "name": "stdout",
     "output_type": "stream",
     "text": [
      "[7, 0, 3, 1, 0]\n",
      "[7, 0, 3, 1, 0]\n",
      "[7, 0, 3, 1, 0]\n",
      "[7, 0, 3, 1, 0]\n",
      "[7, 0, 3, 1, 0]\n"
     ]
    },
    {
     "name": "stderr",
     "output_type": "stream",
     "text": [
      " 14%|█▍        | 1/7 [00:01<00:07,  1.17s/it]"
     ]
    },
    {
     "name": "stdout",
     "output_type": "stream",
     "text": [
      "[7, 0, 3, 1, 0]\n",
      "136\n",
      "[7, 0, 3, 1, 1]\n",
      "[7, 0, 3, 1, 1]\n",
      "[7, 0, 3, 1, 1]\n",
      "[7, 0, 3, 1, 1]\n",
      "[7, 0, 3, 1, 1]\n"
     ]
    },
    {
     "name": "stderr",
     "output_type": "stream",
     "text": [
      " 29%|██▊       | 2/7 [00:02<00:05,  1.01s/it]"
     ]
    },
    {
     "name": "stdout",
     "output_type": "stream",
     "text": [
      "[7, 0, 3, 1, 1]\n",
      "104\n",
      "[7, 0, 3, 1, 2]\n",
      "[7, 0, 3, 1, 2]\n",
      "[7, 0, 3, 1, 2]\n",
      "[7, 0, 3, 1, 2]\n",
      "[7, 0, 3, 1, 2]\n"
     ]
    },
    {
     "name": "stderr",
     "output_type": "stream",
     "text": [
      " 43%|████▎     | 3/7 [00:02<00:03,  1.04it/s]"
     ]
    },
    {
     "name": "stdout",
     "output_type": "stream",
     "text": [
      "[7, 0, 3, 1, 2]\n",
      "137\n",
      "[7, 0, 3, 1, 3]\n",
      "[7, 0, 3, 1, 3]\n",
      "[7, 0, 3, 1, 3]\n",
      "[7, 0, 3, 1, 3]\n",
      "[7, 0, 3, 1, 3]\n"
     ]
    },
    {
     "name": "stderr",
     "output_type": "stream",
     "text": [
      " 57%|█████▋    | 4/7 [00:03<00:02,  1.06it/s]"
     ]
    },
    {
     "name": "stdout",
     "output_type": "stream",
     "text": [
      "[7, 0, 3, 1, 3]\n",
      "152\n",
      "[7, 0, 3, 1, 4]\n",
      "[7, 0, 3, 1, 4]\n",
      "[7, 0, 3, 1, 4]\n",
      "[7, 0, 3, 1, 4]\n",
      "[7, 0, 3, 1, 4]\n"
     ]
    },
    {
     "name": "stderr",
     "output_type": "stream",
     "text": [
      " 71%|███████▏  | 5/7 [00:04<00:01,  1.06it/s]"
     ]
    },
    {
     "name": "stdout",
     "output_type": "stream",
     "text": [
      "[7, 0, 3, 1, 4]\n",
      "120\n",
      "[7, 0, 3, 1, 5]\n",
      "[7, 0, 3, 1, 5]\n",
      "[7, 0, 3, 1, 5]\n",
      "[7, 0, 3, 1, 5]\n",
      "[7, 0, 3, 1, 5]\n"
     ]
    },
    {
     "name": "stderr",
     "output_type": "stream",
     "text": [
      " 86%|████████▌ | 6/7 [00:05<00:00,  1.12it/s]"
     ]
    },
    {
     "name": "stdout",
     "output_type": "stream",
     "text": [
      "[7, 0, 3, 1, 5]\n",
      "246\n",
      "[7, 0, 3, 1, 6]\n",
      "[7, 0, 3, 1, 6]\n",
      "[7, 0, 3, 1, 6]\n",
      "[7, 0, 3, 1, 6]\n",
      "[7, 0, 3, 1, 6]\n"
     ]
    },
    {
     "name": "stderr",
     "output_type": "stream",
     "text": [
      "100%|██████████| 7/7 [00:06<00:00,  1.10it/s]"
     ]
    },
    {
     "name": "stdout",
     "output_type": "stream",
     "text": [
      "[7, 0, 3, 1, 6]\n",
      "246\n",
      "7\n",
      "[1.0000000e+00 7.5006103e-37 6.5760520e-22 0.0000000e+00 0.0000000e+00\n",
      " 0.0000000e+00 0.0000000e+00]\n",
      "[0 2 1 4 3 5 6]\n",
      "[7, 0, 3, 1, 0]\n"
     ]
    },
    {
     "name": "stderr",
     "output_type": "stream",
     "text": [
      "\n",
      "  0%|          | 0/7 [00:00<?, ?it/s]"
     ]
    },
    {
     "name": "stdout",
     "output_type": "stream",
     "text": [
      "[7, 0, 3, 1, 0, 0]\n",
      "[7, 0, 3, 1, 0, 0]\n",
      "[7, 0, 3, 1, 0, 0]\n",
      "[7, 0, 3, 1, 0, 0]\n",
      "[7, 0, 3, 1, 0, 0]\n"
     ]
    },
    {
     "name": "stderr",
     "output_type": "stream",
     "text": [
      " 14%|█▍        | 1/7 [00:01<00:08,  1.39s/it]"
     ]
    },
    {
     "name": "stdout",
     "output_type": "stream",
     "text": [
      "[7, 0, 3, 1, 0, 0]\n",
      "153\n",
      "[7, 0, 3, 1, 0, 1]\n",
      "[7, 0, 3, 1, 0, 1]\n",
      "[7, 0, 3, 1, 0, 1]\n",
      "[7, 0, 3, 1, 0, 1]\n",
      "[7, 0, 3, 1, 0, 1]\n"
     ]
    },
    {
     "name": "stderr",
     "output_type": "stream",
     "text": [
      " 29%|██▊       | 2/7 [00:02<00:06,  1.20s/it]"
     ]
    },
    {
     "name": "stdout",
     "output_type": "stream",
     "text": [
      "[7, 0, 3, 1, 0, 1]\n",
      "104\n",
      "[7, 0, 3, 1, 0, 2]\n",
      "[7, 0, 3, 1, 0, 2]\n",
      "[7, 0, 3, 1, 0, 2]\n",
      "[7, 0, 3, 1, 0, 2]\n",
      "[7, 0, 3, 1, 0, 2]\n"
     ]
    },
    {
     "name": "stderr",
     "output_type": "stream",
     "text": [
      " 43%|████▎     | 3/7 [00:03<00:04,  1.15s/it]"
     ]
    },
    {
     "name": "stdout",
     "output_type": "stream",
     "text": [
      "[7, 0, 3, 1, 0, 2]\n",
      "130\n",
      "[7, 0, 3, 1, 0, 3]\n",
      "[7, 0, 3, 1, 0, 3]\n",
      "[7, 0, 3, 1, 0, 3]\n",
      "[7, 0, 3, 1, 0, 3]\n",
      "[7, 0, 3, 1, 0, 3]\n"
     ]
    },
    {
     "name": "stderr",
     "output_type": "stream",
     "text": [
      " 57%|█████▋    | 4/7 [00:04<00:03,  1.13s/it]"
     ]
    },
    {
     "name": "stdout",
     "output_type": "stream",
     "text": [
      "[7, 0, 3, 1, 0, 3]\n",
      "144\n",
      "[7, 0, 3, 1, 0, 4]\n",
      "[7, 0, 3, 1, 0, 4]\n",
      "[7, 0, 3, 1, 0, 4]\n",
      "[7, 0, 3, 1, 0, 4]\n",
      "[7, 0, 3, 1, 0, 4]\n"
     ]
    },
    {
     "name": "stderr",
     "output_type": "stream",
     "text": [
      " 71%|███████▏  | 5/7 [00:05<00:02,  1.11s/it]"
     ]
    },
    {
     "name": "stdout",
     "output_type": "stream",
     "text": [
      "[7, 0, 3, 1, 0, 4]\n",
      "120\n",
      "[7, 0, 3, 1, 0, 5]\n",
      "[7, 0, 3, 1, 0, 5]\n",
      "[7, 0, 3, 1, 0, 5]\n",
      "[7, 0, 3, 1, 0, 5]\n",
      "[7, 0, 3, 1, 0, 5]\n"
     ]
    },
    {
     "name": "stderr",
     "output_type": "stream",
     "text": [
      " 86%|████████▌ | 6/7 [00:06<00:01,  1.04s/it]"
     ]
    },
    {
     "name": "stdout",
     "output_type": "stream",
     "text": [
      "[7, 0, 3, 1, 0, 5]\n",
      "246\n",
      "[7, 0, 3, 1, 0, 6]\n",
      "[7, 0, 3, 1, 0, 6]\n",
      "[7, 0, 3, 1, 0, 6]\n",
      "[7, 0, 3, 1, 0, 6]\n",
      "[7, 0, 3, 1, 0, 6]\n"
     ]
    },
    {
     "name": "stderr",
     "output_type": "stream",
     "text": [
      "100%|██████████| 7/7 [00:07<00:00,  1.08s/it]"
     ]
    },
    {
     "name": "stdout",
     "output_type": "stream",
     "text": [
      "[7, 0, 3, 1, 0, 6]\n",
      "246\n",
      "7\n",
      "[0.000000e+00 1.000000e+00 0.000000e+00 0.000000e+00 4.974915e-30\n",
      " 0.000000e+00 0.000000e+00]\n",
      "[1 4 2 0 3 5 6]\n",
      "[7, 0, 3, 1, 0, 1]\n"
     ]
    },
    {
     "name": "stderr",
     "output_type": "stream",
     "text": [
      "\n"
     ]
    }
   ],
   "source": [
    "for _ in range(5): # number objects in scene\n",
    "    all_traces = []\n",
    "    for obj_id in tqdm(range(len(b.RENDERER.meshes)-1)): # only add the background once\n",
    "        contact_param = jnp.zeros(3)\n",
    "        p = None\n",
    "        traces = None\n",
    "        for c2f_iter in range(len(contact_param_gridding_schedule)):\n",
    "            contact_param_grid = contact_param_gridding_schedule[c2f_iter] + contact_param\n",
    "\n",
    "            potential_new_object_poses = contact_plane @ contact_poses_jit(\n",
    "                contact_param_grid,\n",
    "                3,\n",
    "                renderer.model_box_dims[obj_id],\n",
    "            )\n",
    "\n",
    "            potential_poses = jnp.concatenate(\n",
    "                [\n",
    "                    jnp.tile(trace.poses[:,None,...], (1,potential_new_object_poses.shape[0],1,1)),\n",
    "                    potential_new_object_poses[None,...]\n",
    "                ]\n",
    "            )\n",
    "\n",
    "            # swap axes for compatibility\n",
    "            potential_poses = jnp.swapaxes(potential_poses, 0, 1)\n",
    "\n",
    "            traces = Traces(\n",
    "                potential_poses, trace.ids + [obj_id], trace.variance, OUTLIER_GRID, trace.observation\n",
    "            )\n",
    "\n",
    "            #print(traces)\n",
    "            print(traces.ids)\n",
    "            p = score_traces(traces, renderer)     \n",
    "            #print(p.shape) \n",
    "\n",
    "            ii,kk = jnp.unravel_index(p.argmax(), p.shape)\n",
    "            contact_param = contact_param_grid[ii]\n",
    "\n",
    "        best_trace = Trace(\n",
    "            traces.all_poses[ii], traces.ids, traces.variance, traces.all_outlier_prob[kk], traces.observation\n",
    "        )\n",
    "\n",
    "        print(ii)\n",
    "\n",
    "        all_traces.append(\n",
    "            best_trace\n",
    "        )\n",
    "\n",
    "    print(len(all_traces))\n",
    "    #[print(t.ids) for t in all_traces]\n",
    "    #[print(t.poses.shape) for t in all_traces]\n",
    "\n",
    "    scores = jnp.array([score_trace(t) for t in all_traces])\n",
    "\n",
    "    print(b.utils.normalize_log_scores(scores))\n",
    "    order = jnp.argsort(-scores)\n",
    "    print(order)\n",
    "    trace = all_traces[jnp.argmax(scores)]\n",
    "    print(trace.ids)\n",
    "    viz_trace(trace)\n"
   ]
  },
  {
   "cell_type": "code",
   "execution_count": 47,
   "metadata": {},
   "outputs": [],
   "source": [
    "viz_trace_centered(trace)\n",
    "## add a ground plane"
   ]
  },
  {
   "cell_type": "code",
   "execution_count": null,
   "metadata": {},
   "outputs": [],
   "source": []
  },
  {
   "cell_type": "code",
   "execution_count": 31,
   "metadata": {},
   "outputs": [],
   "source": [
    "## not gridding over orientations! only xy location and theta, but these orientations might be incorrect - go back and fix!\n",
    "# hard coded the orientations, need to make general "
   ]
  },
  {
   "attachments": {},
   "cell_type": "markdown",
   "metadata": {},
   "source": [
    "### Debug"
   ]
  },
  {
   "cell_type": "code",
   "execution_count": 32,
   "metadata": {},
   "outputs": [
    {
     "name": "stdout",
     "output_type": "stream",
     "text": [
      "[1.0332865e+01 9.9197426e+00 1.0000000e-10]\n"
     ]
    }
   ],
   "source": [
    "b.clear()\n",
    "b.show_cloud(\"6\", b.t3d.apply_transform(trace.observation.reshape(-1,3), b.t3d.inverse_pose(contact_plane)), color=b.RED, size=0.1)\n",
    "print(plane_dims)\n",
    "b.show_trimesh('12',b.utils.make_cuboid_mesh(plane_dims))"
   ]
  },
  {
   "cell_type": "code",
   "execution_count": null,
   "metadata": {},
   "outputs": [],
   "source": []
  },
  {
   "cell_type": "code",
   "execution_count": 30,
   "metadata": {},
   "outputs": [],
   "source": [
    "### todo: downscale all of the inference and try more enumeration?"
   ]
  },
  {
   "cell_type": "code",
   "execution_count": null,
   "metadata": {},
   "outputs": [],
   "source": []
  },
  {
   "cell_type": "code",
   "execution_count": null,
   "metadata": {},
   "outputs": [],
   "source": []
  },
  {
   "cell_type": "code",
   "execution_count": null,
   "metadata": {},
   "outputs": [],
   "source": []
  }
 ],
 "metadata": {
  "kernelspec": {
   "display_name": "bayes3d",
   "language": "python",
   "name": "python3"
  },
  "language_info": {
   "codemirror_mode": {
    "name": "ipython",
    "version": 3
   },
   "file_extension": ".py",
   "mimetype": "text/x-python",
   "name": "python",
   "nbconvert_exporter": "python",
   "pygments_lexer": "ipython3",
   "version": "3.9.16"
  },
  "orig_nbformat": 4
 },
 "nbformat": 4,
 "nbformat_minor": 2
}
