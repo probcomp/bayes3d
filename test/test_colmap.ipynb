{
 "cells": [
  {
   "cell_type": "code",
   "execution_count": 3,
   "metadata": {},
   "outputs": [],
   "source": [
    "import bayes3d as b\n",
    "import bayes3d.colmap\n",
    "import glob\n",
    "from pathlib import Path\n",
    "import argparse"
   ]
  },
  {
   "cell_type": "code",
   "execution_count": 14,
   "metadata": {},
   "outputs": [
    {
     "name": "stdout",
     "output_type": "stream",
     "text": [
      "You can open the visualizer by visiting the following URL:\n",
      "http://127.0.0.1:7047/static/\n"
     ]
    }
   ],
   "source": [
    "b.setup_visualizer()"
   ]
  },
  {
   "cell_type": "code",
   "execution_count": 11,
   "metadata": {},
   "outputs": [],
   "source": [
    "movie_file_path = Path(\"/home/nishadgothoskar/bayes3d/assets/can.MOV\")\n",
    "dataset_path = Path(b.utils.get_assets_dir()) / Path(movie_file_path.name + \"_colmap_dataset\")\n",
    "input_path = dataset_path / Path(\"input\")\n",
    "input_path.mkdir(parents=True, exist_ok=True)"
   ]
  },
  {
   "cell_type": "code",
   "execution_count": 13,
   "metadata": {},
   "outputs": [
    {
     "name": "stdout",
     "output_type": "stream",
     "text": [
      "116\n",
      "Reading camera 116/116\n"
     ]
    }
   ],
   "source": [
    "image_paths = sorted(glob.glob(str(input_path / Path(\"*.jpg\"))))\n",
    "print(len(image_paths))\n",
    "images = [b.viz.load_image_from_file(f) for f in image_paths]\n",
    "# b.make_gif_from_pil_images(images, \"input.gif\")\n",
    "(positions, colors, normals), train_cam_infos = b.colmap.readColmapSceneInfo(\n",
    "    dataset_path,\n",
    "    \"images\",\n",
    "    False\n",
    ")\n"
   ]
  },
  {
   "cell_type": "code",
   "execution_count": 20,
   "metadata": {},
   "outputs": [
    {
     "data": {
      "text/plain": [
       "CameraInfo(uid=1, R=array([[ 0.99940869,  0.0324869 , -0.01126347],\n",
       "       [-0.03231082,  0.99935802,  0.01547751],\n",
       "       [ 0.01175906, -0.01510442,  0.99981677]]), T=array([ 4.20197337, -1.16268327,  2.56358941]), FovY=1.0340336694578816, FovX=0.6074671245132257, image=<PIL.JpegImagePlugin.JpegImageFile image mode=RGB size=711x1263 at 0x7F3380E37DF0>, image_path='/home/nishadgothoskar/bayes3d/assets/can.MOV_colmap_dataset/images/frame_00000.jpg', image_name='frame_00000', width=711, height=1263)"
      ]
     },
     "execution_count": 20,
     "metadata": {},
     "output_type": "execute_result"
    }
   ],
   "source": [
    "train_cam_infos[0]"
   ]
  },
  {
   "cell_type": "code",
   "execution_count": 18,
   "metadata": {},
   "outputs": [],
   "source": [
    "b.clear()\n",
    "scaling_factor = 0.1\n",
    "poses = [\n",
    "    b.transform_from_rot_and_pos(i.R, i.T * scaling_factor) for i in train_cam_infos\n",
    "]\n",
    "\n",
    "b.show_cloud(\"cloud\", positions * scaling_factor)\n",
    "for (i,p) in enumerate(poses):\n",
    "    b.show_pose(f\"{i}\", p)\n"
   ]
  },
  {
   "cell_type": "code",
   "execution_count": null,
   "metadata": {},
   "outputs": [],
   "source": []
  },
  {
   "cell_type": "code",
   "execution_count": null,
   "metadata": {},
   "outputs": [],
   "source": []
  },
  {
   "cell_type": "code",
   "execution_count": null,
   "metadata": {},
   "outputs": [],
   "source": []
  },
  {
   "cell_type": "code",
   "execution_count": 16,
   "metadata": {},
   "outputs": [
    {
     "data": {
      "text/plain": [
       "array([[ -5.4287624 ,   0.60774845,  15.205759  ],\n",
       "       [ -4.23066   ,  -0.21861188,  13.815317  ],\n",
       "       [ -7.1026063 ,  -0.37139958,  16.19536   ],\n",
       "       ...,\n",
       "       [ -8.210933  ,  23.862793  ,  38.236504  ],\n",
       "       [ -5.8396096 , -24.020311  ,  43.34986   ],\n",
       "       [ -4.4760084 ,  -3.6244013 ,  12.572575  ]], dtype=float32)"
      ]
     },
     "execution_count": 16,
     "metadata": {},
     "output_type": "execute_result"
    }
   ],
   "source": [
    "positions"
   ]
  },
  {
   "cell_type": "code",
   "execution_count": null,
   "metadata": {},
   "outputs": [],
   "source": []
  }
 ],
 "metadata": {
  "kernelspec": {
   "display_name": "bayes3d",
   "language": "python",
   "name": "python3"
  },
  "language_info": {
   "codemirror_mode": {
    "name": "ipython",
    "version": 3
   },
   "file_extension": ".py",
   "mimetype": "text/x-python",
   "name": "python",
   "nbconvert_exporter": "python",
   "pygments_lexer": "ipython3",
   "version": "3.9.18"
  }
 },
 "nbformat": 4,
 "nbformat_minor": 2
}
