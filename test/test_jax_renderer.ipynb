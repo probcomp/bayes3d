{
 "cells": [
  {
   "cell_type": "code",
   "execution_count": 1,
   "metadata": {},
   "outputs": [
    {
     "name": "stdout",
     "output_type": "stream",
     "text": [
      "GenJAX not installed. Importing bayes3d without genjax dependencies.\n"
     ]
    }
   ],
   "source": [
    "from collections import namedtuple\n",
    "import jax\n",
    "import jax.numpy as jnp\n",
    "import numpy as np\n",
    "import os, argparse\n",
    "import time\n",
    "import torch\n",
    "import bayes3d as b\n",
    "from bayes3d.rendering.nvdiffrast_jax.jax_renderer import Renderer as JaxRenderer\n",
    "\n",
    "intrinsics = b.Intrinsics(\n",
    "    height=100,\n",
    "    width=100,\n",
    "    fx=75.0, fy=75.0,\n",
    "    cx=50.0, cy=50.0,\n",
    "    near=0.001, far=16.0\n",
    ")\n",
    "from bayes3d.rendering.nvdiffrast_jax.jax_renderer import Renderer as JaxRenderer\n",
    "jax_renderer = JaxRenderer(intrinsics)\n",
    "\n",
    "\n",
    "model_dir = os.path.join(b.utils.get_assets_dir(),\"bop/ycbv/models\")\n",
    "idx = 17\n",
    "mesh_path = os.path.join(model_dir,\"obj_\" + \"{}\".format(idx).rjust(6, '0') + \".ply\")\n",
    "m = b.utils.load_mesh(mesh_path)\n",
    "m = b.utils.scale_mesh(m, 1.0/100.0)\n",
    "\n",
    "vertices = jnp.array(m.vertices.astype(np.float32))\n",
    "faces = jnp.array(m.faces.astype(np.int32))\n",
    "\n",
    "pose = b.transform_from_pos(jnp.array([0.0, 0.0, 2.0]))\n",
    "poses = jnp.array([pose, pose, pose, pose, pose])"
   ]
  },
  {
   "cell_type": "code",
   "execution_count": 5,
   "metadata": {},
   "outputs": [
    {
     "name": "stderr",
     "output_type": "stream",
     "text": [
      "2023-11-29 05:12:37.898566: W external/xla/xla/service/gpu/runtime/support.cc:58] Intercepted XLA runtime error:\n",
      "UNKNOWN: jax_rasterize_fwd_gl XLA extension have thrown an exception: Cuda error: 2[cudaGraphicsGLRegisterBuffer(&s.cudaPosBuffer, s.glPosBuffer, cudaGraphicsRegisterFlagsWriteDiscard);]\n",
      "Exception raised from rasterizeResizeBuffers at /home/nishadgothoskar/bayes3d/bayes3d/rendering/nvdiffrast_jax/nvdiffrast/common/rasterize_gl.cpp:371 (most recent call first):\n",
      "frame #0: c10::Error::Error(c10::SourceLocation, std::string) + 0x57 (0x7fd6207e7617 in /home/nishadgothoskar/.local/lib/python3.9/site-packages/torch/lib/libc10.so)\n",
      "frame #1: c10::detail::torchCheckFail(char const*, char const*, unsigned int, std::string const&) + 0x64 (0x7fd6207a298d in /home/nishadgothoskar/.local/lib/python3.9/site-packages/torch/lib/libc10.so)\n",
      "frame #2: rasterizeResizeBuffers(int, RasterizeGLState&, bool&, int, int, int, int, int) + 0x332 (0x7fd5d8950a49 in /home/nishadgothoskar/.cache/torch_extensions/py39_cu118/nvdiffrast_plugin_differentiable_gl/nvdiffrast_plugin_differentiable_gl.so)\n",
      "frame #3: _rasterize_fwd_gl(CUstream_st*, RasterizeGLStateWrapper&, float const*, int const*, std::vector<int, std::allocator<int> >, std::vector<int, std::allocator<int> >, float*, float*) + 0x1a4 (0x7fd5d896c23a in /home/nishadgothoskar/.cache/torch_extensions/py39_cu118/nvdiffrast_plugin_differentiable_gl/nvdiffrast_plugin_differentiable_gl.so)\n",
      "frame #4: jax_rasterize_fwd_gl(CUstream_st*, void**, char const*, unsigned long) + 0x286 (0x7fd5d896c5b9 in /home/nishadgothoskar/.cache/torch_extensions/py39_cu118/nvdiffrast_plugin_differentiable_gl/nvdiffrast_plugin_differentiable_gl.so)\n",
      "frame #5: <unknown function> + 0x2fe1121 (0x7fd6d5f01121 in /opt/conda/envs/bayes3d/lib/python3.9/site-packages/jaxlib/xla_extension.so)\n",
      "frame #6: <unknown function> + 0x2fe1e32 (0x7fd6d5f01e32 in /opt/conda/envs/bayes3d/lib/python3.9/site-packages/jaxlib/xla_extension.so)\n",
      "frame #7: [0x7fd5d4a072f6]\n",
      "\n",
      "2023-11-29 05:12:37.898646: E external/xla/xla/pjrt/pjrt_stream_executor_client.cc:2716] Execution of replica 0 failed: INTERNAL: Failed to execute XLA Runtime executable: run time error: custom call 'xla.gpu.custom_call' failed: jax_rasterize_fwd_gl XLA extension have thrown an exception: Cuda error: 2[cudaGraphicsGLRegisterBuffer(&s.cudaPosBuffer, s.glPosBuffer, cudaGraphicsRegisterFlagsWriteDiscard);]\n",
      "Exception raised from rasterizeResizeBuffers at /home/nishadgothoskar/bayes3d/bayes3d/rendering/nvdiffrast_jax/nvdiffrast/common/rasterize_gl.cpp:371 (most recent call first):\n",
      "frame #0: c10::Error::Error(c10::SourceLocation, std::string) + 0x57 (0x7fd6207e7617 in /home/nishadgothoskar/.local/lib/python3.9/site-packages/torch/lib/libc10.so)\n",
      "frame #1: c10::detail::torchCheckFail(char const*, char const*, unsigned int, std::string const&) + 0x64 (0x7fd6207a298d in /home/nishadgothoskar/.local/lib/python3.9/site-packages/torch/lib/libc10.so)\n",
      "frame #2: rasterizeResizeBuffers(int, RasterizeGLState&, bool&, int, int, int, int, int) + 0x332 (0x7fd5d8950a49 in /home/nishadgothoskar/.cache/torch_extensions/py39_cu118/nvdiffrast_plugin_differentiable_gl/nvdiffrast_plugin_differentiable_gl.so)\n",
      "frame #3: _rasterize_fwd_gl(CUstream_st*, RasterizeGLStateWrapper&, float const*, int const*, std::vector<int, std::allocator<int> >, std::vector<int, std::allocator<int> >, float*, float*) + 0x1a4 (0x7fd5d896c23a in /home/nishadgothoskar/.cache/torch_extensions/py39_cu118/nvdiffrast_plugin_differentiable_gl/nvdiffrast_plugin_differentiable_gl.so)\n",
      "frame #4: jax_rasterize_fwd_gl(CUstream_st*, void**, char const*, unsigned long) + 0x286 (0x7fd5d896c5b9 in /home/nishadgothoskar/.cache/torch_extensions/py39_cu118/nvdiffrast_plugin_differentiable_gl/nvdiffrast_plugin_differentiable_gl.so)\n",
      "frame #5: <unknown function> + 0x2fe1121 (0x7fd6d5f01121 in /opt/conda/envs/bayes3d/lib/python3.9/site-packages/jaxlib/xla_extension.so)\n",
      "frame #6: <unknown function> + 0x2fe1e32 (0x7fd6d5f01e32 in /opt/conda/envs/bayes3d/lib/python3.9/site-packages/jaxlib/xla_extension.so)\n",
      "frame #7: [0x7fd5d4a072f6]\n",
      "; current tracing scope: custom-call.4; current profiling annotation: XlaModule:#hlo_module=jit_rasterize_multiple_fwd_140557556960992,program_id=65#.\n"
     ]
    },
    {
     "ename": "XlaRuntimeError",
     "evalue": "INTERNAL: Failed to execute XLA Runtime executable: run time error: custom call 'xla.gpu.custom_call' failed: jax_rasterize_fwd_gl XLA extension have thrown an exception: Cuda error: 2[cudaGraphicsGLRegisterBuffer(&s.cudaPosBuffer, s.glPosBuffer, cudaGraphicsRegisterFlagsWriteDiscard);]\nException raised from rasterizeResizeBuffers at /home/nishadgothoskar/bayes3d/bayes3d/rendering/nvdiffrast_jax/nvdiffrast/common/rasterize_gl.cpp:371 (most recent call first):\nframe #0: c10::Error::Error(c10::SourceLocation, std::string) + 0x57 (0x7fd6207e7617 in /home/nishadgothoskar/.local/lib/python3.9/site-packages/torch/lib/libc10.so)\nframe #1: c10::detail::torchCheckFail(char const*, char const*, unsigned int, std::string const&) + 0x64 (0x7fd6207a298d in /home/nishadgothoskar/.local/lib/python3.9/site-packages/torch/lib/libc10.so)\nframe #2: rasterizeResizeBuffers(int, RasterizeGLState&, bool&, int, int, int, int, int) + 0x332 (0x7fd5d8950a49 in /home/nishadgothoskar/.cache/torch_extensions/py39_cu118/nvdiffrast_plugin_differentiable_gl/nvdiffrast_plugin_differentiable_gl.so)\nframe #3: _rasterize_fwd_gl(CUstream_st*, RasterizeGLStateWrapper&, float const*, int const*, std::vector<int, std::allocator<int> >, std::vector<int, std::allocator<int> >, float*, float*) + 0x1a4 (0x7fd5d896c23a in /home/nishadgothoskar/.cache/torch_extensions/py39_cu118/nvdiffrast_plugin_differentiable_gl/nvdiffrast_plugin_differentiable_gl.so)\nframe #4: jax_rasterize_fwd_gl(CUstream_st*, void**, char const*, unsigned long) + 0x286 (0x7fd5d896c5b9 in /home/nishadgothoskar/.cache/torch_extensions/py39_cu118/nvdiffrast_plugin_differentiable_gl/nvdiffrast_plugin_differentiable_gl.so)\nframe #5: <unknown function> + 0x2fe1121 (0x7fd6d5f01121 in /opt/conda/envs/bayes3d/lib/python3.9/site-packages/jaxlib/xla_extension.so)\nframe #6: <unknown function> + 0x2fe1e32 (0x7fd6d5f01e32 in /opt/conda/envs/bayes3d/lib/python3.9/site-packages/jaxlib/xla_extension.so)\nframe #7: [0x7fd5d4a072f6]\n; current tracing scope: custom-call.4; current profiling annotation: XlaModule:#hlo_module=jit_rasterize_multiple_fwd_140557556960992,program_id=65#.",
     "output_type": "error",
     "traceback": [
      "\u001b[0;31m---------------------------------------------------------------------------\u001b[0m",
      "\u001b[0;31mXlaRuntimeError\u001b[0m                           Traceback (most recent call last)",
      "\u001b[1;32m/home/nishadgothoskar/bayes3d/test/test_jax_renderer.ipynb Cell 2\u001b[0m line \u001b[0;36m1\n\u001b[0;32m----> <a href='vscode-notebook-cell://ssh-remote%2B34.70.144.22/home/nishadgothoskar/bayes3d/test/test_jax_renderer.ipynb#X13sdnNjb2RlLXJlbW90ZQ%3D%3D?line=0'>1</a>\u001b[0m imgs \u001b[39m=\u001b[39m jax_renderer\u001b[39m.\u001b[39;49mrender_many(vertices, faces, jnp\u001b[39m.\u001b[39;49mtile(pose[\u001b[39mNone\u001b[39;49;00m,\u001b[39m.\u001b[39;49m\u001b[39m.\u001b[39;49m\u001b[39m.\u001b[39;49m], (\u001b[39m1000\u001b[39;49m,\u001b[39m1\u001b[39;49m,\u001b[39m1\u001b[39;49m)), intrinsics)\n\u001b[1;32m      <a href='vscode-notebook-cell://ssh-remote%2B34.70.144.22/home/nishadgothoskar/bayes3d/test/test_jax_renderer.ipynb#X13sdnNjb2RlLXJlbW90ZQ%3D%3D?line=1'>2</a>\u001b[0m \u001b[39mprint\u001b[39m(imgs\u001b[39m.\u001b[39mshape)\n",
      "File \u001b[0;32m~/bayes3d/bayes3d/rendering/nvdiffrast_jax/jax_renderer.py:99\u001b[0m, in \u001b[0;36mRenderer.render_many\u001b[0;34m(self, vertices, faces, poses, intrinsics)\u001b[0m\n\u001b[1;32m     97\u001b[0m vertices_homogenous \u001b[39m=\u001b[39m jnp\u001b[39m.\u001b[39mconcatenate([vertices, jnp\u001b[39m.\u001b[39mones((\u001b[39m*\u001b[39mvertices\u001b[39m.\u001b[39mshape[:\u001b[39m-\u001b[39m\u001b[39m1\u001b[39m],\u001b[39m1\u001b[39m))], axis\u001b[39m=\u001b[39m\u001b[39m-\u001b[39m\u001b[39m1\u001b[39m)\n\u001b[1;32m     98\u001b[0m clip_spaces_projected_vertices \u001b[39m=\u001b[39m jnp\u001b[39m.\u001b[39meinsum(\u001b[39m\"\u001b[39m\u001b[39mnij,mj->nmi\u001b[39m\u001b[39m\"\u001b[39m, composed_projection, vertices_homogenous)\n\u001b[0;32m---> 99\u001b[0m rast_out, rast_out_db \u001b[39m=\u001b[39m jax_renderer\u001b[39m.\u001b[39;49mrasterize(clip_spaces_projected_vertices, faces, jnp\u001b[39m.\u001b[39;49marray([intrinsics\u001b[39m.\u001b[39;49mheight, intrinsics\u001b[39m.\u001b[39;49mwidth]))\n\u001b[1;32m    100\u001b[0m interpolated_collided_vertices_clip, _ \u001b[39m=\u001b[39m jax_renderer\u001b[39m.\u001b[39minterpolate(jnp\u001b[39m.\u001b[39mtile(vertices_homogenous[\u001b[39mNone\u001b[39;00m,\u001b[39m.\u001b[39m\u001b[39m.\u001b[39m\u001b[39m.\u001b[39m],(poses\u001b[39m.\u001b[39mshape[\u001b[39m0\u001b[39m],\u001b[39m1\u001b[39m,\u001b[39m1\u001b[39m)), rast_out, faces, rast_out_db, jnp\u001b[39m.\u001b[39marray([\u001b[39m0\u001b[39m,\u001b[39m1\u001b[39m,\u001b[39m2\u001b[39m,\u001b[39m3\u001b[39m]))\n\u001b[1;32m    101\u001b[0m interpolated_collided_vertices \u001b[39m=\u001b[39m jnp\u001b[39m.\u001b[39meinsum(\u001b[39m\"\u001b[39m\u001b[39ma...ij,a...j->a...i\u001b[39m\u001b[39m\"\u001b[39m, poses, interpolated_collided_vertices_clip)\n",
      "    \u001b[0;31m[... skipping hidden 5 frame]\u001b[0m\n",
      "File \u001b[0;32m~/bayes3d/bayes3d/rendering/nvdiffrast_jax/jax_renderer.py:41\u001b[0m, in \u001b[0;36mRenderer._rasterize\u001b[0;34m(self, pos, tri, resolution)\u001b[0m\n\u001b[1;32m     39\u001b[0m \u001b[39m@functools\u001b[39m\u001b[39m.\u001b[39mpartial(jax\u001b[39m.\u001b[39mcustom_vjp, nondiff_argnums\u001b[39m=\u001b[39m(\u001b[39m0\u001b[39m,))\n\u001b[1;32m     40\u001b[0m \u001b[39mdef\u001b[39;00m \u001b[39m_rasterize\u001b[39m(\u001b[39mself\u001b[39m, pos, tri, resolution):\n\u001b[0;32m---> 41\u001b[0m     \u001b[39mreturn\u001b[39;00m _rasterize_fwd_custom_call(\u001b[39mself\u001b[39;49m, pos, tri, resolution)\n",
      "File \u001b[0;32m~/bayes3d/bayes3d/rendering/nvdiffrast_jax/jax_renderer.py:153\u001b[0m, in \u001b[0;36m_rasterize_fwd_custom_call\u001b[0;34m(r, pos, tri, resolution)\u001b[0m\n\u001b[1;32m    152\u001b[0m \u001b[39mdef\u001b[39;00m \u001b[39m_rasterize_fwd_custom_call\u001b[39m(r: \u001b[39m\"\u001b[39m\u001b[39mRenderer\u001b[39m\u001b[39m\"\u001b[39m, pos, tri, resolution):\n\u001b[0;32m--> 153\u001b[0m     \u001b[39mreturn\u001b[39;00m _build_rasterize_fwd_primitive(r)\u001b[39m.\u001b[39;49mbind(pos, tri, resolution)\n",
      "    \u001b[0;31m[... skipping hidden 6 frame]\u001b[0m\n",
      "File \u001b[0;32m/opt/conda/envs/bayes3d/lib/python3.9/site-packages/jax/_src/interpreters/pxla.py:1152\u001b[0m, in \u001b[0;36mExecuteReplicated.__call__\u001b[0;34m(self, *args)\u001b[0m\n\u001b[1;32m   1150\u001b[0m   \u001b[39mself\u001b[39m\u001b[39m.\u001b[39m_handle_token_bufs(result_token_bufs, sharded_runtime_token)\n\u001b[1;32m   1151\u001b[0m \u001b[39melse\u001b[39;00m:\n\u001b[0;32m-> 1152\u001b[0m   results \u001b[39m=\u001b[39m \u001b[39mself\u001b[39;49m\u001b[39m.\u001b[39;49mxla_executable\u001b[39m.\u001b[39;49mexecute_sharded(input_bufs)\n\u001b[1;32m   1153\u001b[0m \u001b[39mif\u001b[39;00m dispatch\u001b[39m.\u001b[39mneeds_check_special():\n\u001b[1;32m   1154\u001b[0m   out_arrays \u001b[39m=\u001b[39m results\u001b[39m.\u001b[39mdisassemble_into_single_device_arrays()\n",
      "\u001b[0;31mXlaRuntimeError\u001b[0m: INTERNAL: Failed to execute XLA Runtime executable: run time error: custom call 'xla.gpu.custom_call' failed: jax_rasterize_fwd_gl XLA extension have thrown an exception: Cuda error: 2[cudaGraphicsGLRegisterBuffer(&s.cudaPosBuffer, s.glPosBuffer, cudaGraphicsRegisterFlagsWriteDiscard);]\nException raised from rasterizeResizeBuffers at /home/nishadgothoskar/bayes3d/bayes3d/rendering/nvdiffrast_jax/nvdiffrast/common/rasterize_gl.cpp:371 (most recent call first):\nframe #0: c10::Error::Error(c10::SourceLocation, std::string) + 0x57 (0x7fd6207e7617 in /home/nishadgothoskar/.local/lib/python3.9/site-packages/torch/lib/libc10.so)\nframe #1: c10::detail::torchCheckFail(char const*, char const*, unsigned int, std::string const&) + 0x64 (0x7fd6207a298d in /home/nishadgothoskar/.local/lib/python3.9/site-packages/torch/lib/libc10.so)\nframe #2: rasterizeResizeBuffers(int, RasterizeGLState&, bool&, int, int, int, int, int) + 0x332 (0x7fd5d8950a49 in /home/nishadgothoskar/.cache/torch_extensions/py39_cu118/nvdiffrast_plugin_differentiable_gl/nvdiffrast_plugin_differentiable_gl.so)\nframe #3: _rasterize_fwd_gl(CUstream_st*, RasterizeGLStateWrapper&, float const*, int const*, std::vector<int, std::allocator<int> >, std::vector<int, std::allocator<int> >, float*, float*) + 0x1a4 (0x7fd5d896c23a in /home/nishadgothoskar/.cache/torch_extensions/py39_cu118/nvdiffrast_plugin_differentiable_gl/nvdiffrast_plugin_differentiable_gl.so)\nframe #4: jax_rasterize_fwd_gl(CUstream_st*, void**, char const*, unsigned long) + 0x286 (0x7fd5d896c5b9 in /home/nishadgothoskar/.cache/torch_extensions/py39_cu118/nvdiffrast_plugin_differentiable_gl/nvdiffrast_plugin_differentiable_gl.so)\nframe #5: <unknown function> + 0x2fe1121 (0x7fd6d5f01121 in /opt/conda/envs/bayes3d/lib/python3.9/site-packages/jaxlib/xla_extension.so)\nframe #6: <unknown function> + 0x2fe1e32 (0x7fd6d5f01e32 in /opt/conda/envs/bayes3d/lib/python3.9/site-packages/jaxlib/xla_extension.so)\nframe #7: [0x7fd5d4a072f6]\n; current tracing scope: custom-call.4; current profiling annotation: XlaModule:#hlo_module=jit_rasterize_multiple_fwd_140557556960992,program_id=65#."
     ]
    }
   ],
   "source": [
    "imgs = jax_renderer.render_many(vertices, faces, jnp.tile(pose[None,...], (1000,1,1)), intrinsics)\n",
    "print(imgs.shape)"
   ]
  },
  {
   "cell_type": "code",
   "execution_count": 40,
   "metadata": {},
   "outputs": [
    {
     "data": {
      "image/png": "[encoded data removed]",
      "text/plain": [
       "<PIL.Image.Image image mode=RGB size=100x100>"
      ]
     },
     "execution_count": 40,
     "metadata": {},
     "output_type": "execute_result"
    }
   ],
   "source": [
    "depth, _ = jax_renderer.render(vertices, faces, pose, intrinsics)\n",
    "b.get_depth_image(depth[0])"
   ]
  },
  {
   "cell_type": "code",
   "execution_count": 46,
   "metadata": {},
   "outputs": [
    {
     "name": "stdout",
     "output_type": "stream",
     "text": [
      "(5, 100, 100)\n"
     ]
    },
    {
     "data": {
      "image/png": "[encoded data removed]",
      "text/plain": [
       "<PIL.Image.Image image mode=RGB size=100x100>"
      ]
     },
     "execution_count": 46,
     "metadata": {},
     "output_type": "execute_result"
    }
   ],
   "source": [
    "projection_matrix = b.camera._open_gl_projection_matrix(\n",
    "    intrinsics.height, intrinsics.width, \n",
    "    intrinsics.fx, intrinsics.fy, \n",
    "    intrinsics.cx, intrinsics.cy, \n",
    "    intrinsics.near, intrinsics.far\n",
    ")\n",
    "composed_projection = projection_matrix @ poses\n",
    "vertices_homogenous = jnp.concatenate([vertices, jnp.ones((*vertices.shape[:-1],1))], axis=-1)\n",
    "clip_spaces_projected_vertices = jnp.einsum(\"nij,mj->nmi\", composed_projection, vertices_homogenous)\n",
    "rast_out, rast_out_db = jax_renderer.rasterize(clip_spaces_projected_vertices, faces, jnp.array([intrinsics.height, intrinsics.width]))\n",
    "interpolated_collided_vertices_clip, _ = jax_renderer.interpolate(jnp.tile(vertices_homogenous[None,...],(poses.shape[0],1,1)), rast_out, faces, rast_out_db, jnp.array([0,1,2,3]))\n",
    "interpolated_collided_vertices = jnp.einsum(\"a...ij,a...j->a...i\", poses, interpolated_collided_vertices_clip)\n",
    "mask = rast_out[...,-1] > 0\n",
    "depth = interpolated_collided_vertices[...,2] * mask\n",
    "print(depth.shape)\n",
    "b.get_depth_image(depth[0])"
   ]
  },
  {
   "cell_type": "code",
   "execution_count": 36,
   "metadata": {},
   "outputs": [
    {
     "data": {
      "text/plain": [
       "(3, 100, 100, 4)"
      ]
     },
     "execution_count": 36,
     "metadata": {},
     "output_type": "execute_result"
    }
   ],
   "source": [
    "interpolated_collided_vertices.shape"
   ]
  },
  {
   "cell_type": "code",
   "execution_count": 32,
   "metadata": {},
   "outputs": [
    {
     "data": {
      "text/plain": [
       "Array([[[[0., 0., 0., 0.],\n",
       "         [0., 0., 0., 0.],\n",
       "         [0., 0., 0., 0.],\n",
       "         ...,\n",
       "         [0., 0., 0., 0.],\n",
       "         [0., 0., 0., 0.],\n",
       "         [0., 0., 0., 0.]],\n",
       "\n",
       "        [[0., 0., 0., 0.],\n",
       "         [0., 0., 0., 0.],\n",
       "         [0., 0., 0., 0.],\n",
       "         ...,\n",
       "         [0., 0., 0., 0.],\n",
       "         [0., 0., 0., 0.],\n",
       "         [0., 0., 0., 0.]],\n",
       "\n",
       "        [[0., 0., 0., 0.],\n",
       "         [0., 0., 0., 0.],\n",
       "         [0., 0., 0., 0.],\n",
       "         ...,\n",
       "         [0., 0., 0., 0.],\n",
       "         [0., 0., 0., 0.],\n",
       "         [0., 0., 0., 0.]],\n",
       "\n",
       "        ...,\n",
       "\n",
       "        [[0., 0., 0., 0.],\n",
       "         [0., 0., 0., 0.],\n",
       "         [0., 0., 0., 0.],\n",
       "         ...,\n",
       "         [0., 0., 0., 0.],\n",
       "         [0., 0., 0., 0.],\n",
       "         [0., 0., 0., 0.]],\n",
       "\n",
       "        [[0., 0., 0., 0.],\n",
       "         [0., 0., 0., 0.],\n",
       "         [0., 0., 0., 0.],\n",
       "         ...,\n",
       "         [0., 0., 0., 0.],\n",
       "         [0., 0., 0., 0.],\n",
       "         [0., 0., 0., 0.]],\n",
       "\n",
       "        [[0., 0., 0., 0.],\n",
       "         [0., 0., 0., 0.],\n",
       "         [0., 0., 0., 0.],\n",
       "         ...,\n",
       "         [0., 0., 0., 0.],\n",
       "         [0., 0., 0., 0.],\n",
       "         [0., 0., 0., 0.]]],\n",
       "\n",
       "\n",
       "       [[[0., 0., 0., 0.],\n",
       "         [0., 0., 0., 0.],\n",
       "         [0., 0., 0., 0.],\n",
       "         ...,\n",
       "         [0., 0., 0., 0.],\n",
       "         [0., 0., 0., 0.],\n",
       "         [0., 0., 0., 0.]],\n",
       "\n",
       "        [[0., 0., 0., 0.],\n",
       "         [0., 0., 0., 0.],\n",
       "         [0., 0., 0., 0.],\n",
       "         ...,\n",
       "         [0., 0., 0., 0.],\n",
       "         [0., 0., 0., 0.],\n",
       "         [0., 0., 0., 0.]],\n",
       "\n",
       "        [[0., 0., 0., 0.],\n",
       "         [0., 0., 0., 0.],\n",
       "         [0., 0., 0., 0.],\n",
       "         ...,\n",
       "         [0., 0., 0., 0.],\n",
       "         [0., 0., 0., 0.],\n",
       "         [0., 0., 0., 0.]],\n",
       "\n",
       "        ...,\n",
       "\n",
       "        [[0., 0., 0., 0.],\n",
       "         [0., 0., 0., 0.],\n",
       "         [0., 0., 0., 0.],\n",
       "         ...,\n",
       "         [0., 0., 0., 0.],\n",
       "         [0., 0., 0., 0.],\n",
       "         [0., 0., 0., 0.]],\n",
       "\n",
       "        [[0., 0., 0., 0.],\n",
       "         [0., 0., 0., 0.],\n",
       "         [0., 0., 0., 0.],\n",
       "         ...,\n",
       "         [0., 0., 0., 0.],\n",
       "         [0., 0., 0., 0.],\n",
       "         [0., 0., 0., 0.]],\n",
       "\n",
       "        [[0., 0., 0., 0.],\n",
       "         [0., 0., 0., 0.],\n",
       "         [0., 0., 0., 0.],\n",
       "         ...,\n",
       "         [0., 0., 0., 0.],\n",
       "         [0., 0., 0., 0.],\n",
       "         [0., 0., 0., 0.]]],\n",
       "\n",
       "\n",
       "       [[[0., 0., 0., 0.],\n",
       "         [0., 0., 0., 0.],\n",
       "         [0., 0., 0., 0.],\n",
       "         ...,\n",
       "         [0., 0., 0., 0.],\n",
       "         [0., 0., 0., 0.],\n",
       "         [0., 0., 0., 0.]],\n",
       "\n",
       "        [[0., 0., 0., 0.],\n",
       "         [0., 0., 0., 0.],\n",
       "         [0., 0., 0., 0.],\n",
       "         ...,\n",
       "         [0., 0., 0., 0.],\n",
       "         [0., 0., 0., 0.],\n",
       "         [0., 0., 0., 0.]],\n",
       "\n",
       "        [[0., 0., 0., 0.],\n",
       "         [0., 0., 0., 0.],\n",
       "         [0., 0., 0., 0.],\n",
       "         ...,\n",
       "         [0., 0., 0., 0.],\n",
       "         [0., 0., 0., 0.],\n",
       "         [0., 0., 0., 0.]],\n",
       "\n",
       "        ...,\n",
       "\n",
       "        [[0., 0., 0., 0.],\n",
       "         [0., 0., 0., 0.],\n",
       "         [0., 0., 0., 0.],\n",
       "         ...,\n",
       "         [0., 0., 0., 0.],\n",
       "         [0., 0., 0., 0.],\n",
       "         [0., 0., 0., 0.]],\n",
       "\n",
       "        [[0., 0., 0., 0.],\n",
       "         [0., 0., 0., 0.],\n",
       "         [0., 0., 0., 0.],\n",
       "         ...,\n",
       "         [0., 0., 0., 0.],\n",
       "         [0., 0., 0., 0.],\n",
       "         [0., 0., 0., 0.]],\n",
       "\n",
       "        [[0., 0., 0., 0.],\n",
       "         [0., 0., 0., 0.],\n",
       "         [0., 0., 0., 0.],\n",
       "         ...,\n",
       "         [0., 0., 0., 0.],\n",
       "         [0., 0., 0., 0.],\n",
       "         [0., 0., 0., 0.]]]], dtype=float32)"
      ]
     },
     "execution_count": 32,
     "metadata": {},
     "output_type": "execute_result"
    }
   ],
   "source": []
  },
  {
   "cell_type": "code",
   "execution_count": null,
   "metadata": {},
   "outputs": [],
   "source": []
  }
 ],
 "metadata": {
  "kernelspec": {
   "display_name": "bayes3d",
   "language": "python",
   "name": "python3"
  },
  "language_info": {
   "codemirror_mode": {
    "name": "ipython",
    "version": 3
   },
   "file_extension": ".py",
   "mimetype": "text/x-python",
   "name": "python",
   "nbconvert_exporter": "python",
   "pygments_lexer": "ipython3",
   "version": "3.9.18"
  }
 },
 "nbformat": 4,
 "nbformat_minor": 2
}
