{
 "cells": [
  {
   "cell_type": "code",
   "execution_count": 1,
   "metadata": {
    "tags": []
   },
   "outputs": [
    {
     "name": "stderr",
     "output_type": "stream",
     "text": [
      "2023-06-16 16:57:50.512383: W tensorflow/compiler/tf2tensorrt/utils/py_utils.cc:38] TF-TRT Warning: Could not find TensorRT\n"
     ]
    }
   ],
   "source": [
    "import bayes3d as b\n",
    "import genjax\n",
    "import jax.numpy as jnp\n",
    "import jax\n",
    "import os\n",
    "import matplotlib.pyplot as plt\n",
    "\n",
    "console = genjax.pretty(show_locals=False)"
   ]
  },
  {
   "cell_type": "code",
   "execution_count": 2,
   "metadata": {},
   "outputs": [
    {
     "name": "stdout",
     "output_type": "stream",
     "text": [
      "You can open the visualizer by visiting the following URL:\n",
      "http://127.0.0.1:7003/static/\n"
     ]
    }
   ],
   "source": [
    "b.setup_visualizer()"
   ]
  },
  {
   "cell_type": "code",
   "execution_count": 3,
   "metadata": {
    "tags": []
   },
   "outputs": [
    {
     "name": "stderr",
     "output_type": "stream",
     "text": [
      "[E rasterize_gl.cpp:121] OpenGL version reported as 4.6\n"
     ]
    },
    {
     "name": "stdout",
     "output_type": "stream",
     "text": [
      "Increasing frame buffer size to (width, height, depth) = (128, 128, 1024)\n"
     ]
    }
   ],
   "source": [
    "intrinsics = b.Intrinsics(\n",
    "    height=100,\n",
    "    width=100,\n",
    "    fx=500.0, fy=500.0,\n",
    "    cx=50.0, cy=50.0,\n",
    "    near=0.01, far=5.0\n",
    ")\n",
    "\n",
    "b.setup_renderer(intrinsics)\n",
    "model_dir = os.path.join(b.utils.get_assets_dir(),\"bop/ycbv/models\")\n",
    "meshes = []\n",
    "for idx in range(1,22):\n",
    "    mesh_path = os.path.join(model_dir,\"obj_\" + \"{}\".format(idx).rjust(6, '0') + \".ply\")\n",
    "    b.RENDERER.add_mesh_from_file(mesh_path, scaling_factor=1.0/1000.0)\n",
    "\n",
    "b.RENDERER.add_mesh_from_file(os.path.join(b.utils.get_assets_dir(), \"sample_objs/cube.obj\"), scaling_factor=1.0/10000000000.0)"
   ]
  },
  {
   "cell_type": "code",
   "execution_count": 4,
   "metadata": {
    "tags": []
   },
   "outputs": [],
   "source": [
    "from dataclasses import dataclass\n",
    "from math import pi\n",
    "\n",
    "import jax\n",
    "import jax.numpy as jnp\n",
    "\n",
    "from genjax._src.generative_functions.distributions.distribution import ExactDensity\n",
    "\n",
    "\n",
    "@dataclass\n",
    "class GaussianVMFPose(ExactDensity):\n",
    "    def sample(self, key, pose_mean, var, concentration, **kwargs):\n",
    "        return b.distributions.gaussian_vmf_sample(key, pose_mean, var, concentration)\n",
    "\n",
    "    def logpdf(self, pose, pose_mean, var, concentration, **kwargs):\n",
    "        return b.distributions.gaussian_vmf_logpdf(pose, pose_mean, var, concentration)\n",
    "\n",
    "@dataclass\n",
    "class ImageLikelihood(ExactDensity):\n",
    "    def sample(self, key, rendered_image, variance, outlier_prob, outlier_volume, **kwargs):\n",
    "        return rendered_image\n",
    "\n",
    "    def logpdf(self, image, rendered_image, variance, outlier_prob, outlier_volume, **kwargs):\n",
    "        return b.threedp3_likelihood(image, rendered_image, variance, outlier_prob, outlier_volume,5)\n",
    "\n",
    "@dataclass\n",
    "class ContactParamsUniform(ExactDensity):\n",
    "\n",
    "    def sample(self, key, low, high):\n",
    "        return jax.random.uniform(key, shape=(3,)).reshape(-1,1) * (high - low) + low\n",
    "\n",
    "    def logpdf(self, sampled_val, low, high, **kwargs):\n",
    "        valid = ((low < sampled_val) & (sampled_val < high))\n",
    "        log_probs = jnp.log((valid * 1.0) * (jnp.ones_like(sampled_val) / (high-low)))\n",
    "        return log_probs.sum()\n",
    "\n",
    "@dataclass\n",
    "class ContactParamsUniform(ExactDensity):\n",
    "    def sample(self, key, low, high, arr):\n",
    "        return jax.random.uniform(key, shape=arr.shape).reshape(-1,1) * (high - low) + low\n",
    "\n",
    "    def logpdf(self, sampled_val, low, high, arr,**kwargs):\n",
    "        valid = ((low < sampled_val) & (sampled_val < high))\n",
    "        log_probs = jnp.log((valid * 1.0) * (jnp.ones_like(sampled_val) / (high-low)))\n",
    "        return log_probs.sum()\n",
    "\n",
    "@dataclass\n",
    "class UniformDiscrete(ExactDensity):\n",
    "    def sample(self, key, vals, arr):\n",
    "        return jax.random.choice(key, vals, shape=arr.shape)\n",
    "\n",
    "    def logpdf(self, sampled_val, vals, arr,**kwargs):\n",
    "        return jnp.log(1.0 / (vals.shape[0])) * arr.shape[0]\n",
    "\n",
    "\n",
    "gaussian_vmf_pose = GaussianVMFPose()\n",
    "image_likelihood = ImageLikelihood()\n",
    "contact_params_uniform = ContactParamsUniform()\n",
    "uniform_discrete = UniformDiscrete()"
   ]
  },
  {
   "cell_type": "code",
   "execution_count": 5,
   "metadata": {},
   "outputs": [],
   "source": [
    "key = jax.random.PRNGKey(10000)\n"
   ]
  },
  {
   "cell_type": "code",
   "execution_count": 9,
   "metadata": {
    "tags": []
   },
   "outputs": [],
   "source": [
    "contact_plane = b.t3d.inverse_pose(\n",
    "    b.t3d.transform_from_pos_target_up(\n",
    "        jnp.array([0.0, 2.0, 1.20]),\n",
    "        jnp.array([0.0, 0.0, 0.0]),\n",
    "        jnp.array([0.0, 0.0, 1.0]),\n",
    "    )\n",
    ")\n",
    "root_poses = jnp.tile(contact_plane[None, ...],(4,1,1))\n",
    "contact_poses_parallel = jax.vmap(\n",
    "    b.scene_graph.poses_from_scene_graph,\n",
    "    in_axes=(None, None, None, 0, None, None), out_axes=1\n",
    ")\n",
    "\n",
    "all_box_dims = b.RENDERER.model_box_dims\n",
    "\n",
    "@genjax.gen\n",
    "def tabletop_model():\n",
    "    N = 4\n",
    "    contact_params = contact_params_uniform(jnp.array([[-0.2,-0.2, 0.0]]), jnp.array([[0.2,0.2, 2*jnp.pi]]), jnp.arange(N)) @ \"contact_params\"\n",
    "    indices = uniform_discrete(jnp.arange(0,22), jnp.arange(N)) @ \"indices\"\n",
    "    parents = uniform_discrete(jnp.arange(0,1), jnp.arange(N)) @ \"parents\"\n",
    "    face_parent = uniform_discrete(jnp.arange(2,3), jnp.arange(N)) @ \"face_parent\"\n",
    "    face_child = uniform_discrete(jnp.arange(3,4), jnp.arange(N)) @ \"face_child\"\n",
    "    box_dims = all_box_dims[indices]\n",
    "    poses = b.scene_graph.poses_from_scene_graph(root_poses, box_dims, parents, contact_params, face_parent, face_child)\n",
    "    rendered_img = b.RENDERER.render_multiobject(\n",
    "        poses , indices\n",
    "    )[:,:,:3]\n",
    "\n",
    "    variance = genjax.distributions.tfp_uniform(0.00001, 0.1) @ \"variance\"\n",
    "    outlier_prob  = genjax.distributions.tfp_uniform(0.00001, 0.001) @ \"outlier_prob\"\n",
    "    image = image_likelihood(rendered_img, variance, outlier_prob, 100.0) @ \"image\"\n",
    "    return poses\n",
    "\n",
    "simulate_jit = jax.jit(tabletop_model.simulate)\n",
    "update_jit = jax.jit(tabletop_model.update)\n",
    "importance_jit = jax.jit(tabletop_model.importance)\n",
    "importance_parallel_jit = jax.jit(jax.vmap(tabletop_model.importance, in_axes=(0, None, None)))"
   ]
  },
  {
   "cell_type": "code",
   "execution_count": 10,
   "metadata": {},
   "outputs": [],
   "source": [
    "def viz_trace_meshcat(trace, colors=None):\n",
    "    b.clear()\n",
    "    key = jax.random.PRNGKey(10)\n",
    "    b.show_cloud(\"1\", trace[\"image\"].reshape(-1,3))\n",
    "    # noisy_point_cloud_image = jax.random.multivariate_normal(\n",
    "    #     key, trace.observation[:,:,:3].reshape(-1,3), jnp.eye(3)*trace.variance\n",
    "    # )\n",
    "    # b.show_cloud(\"2\", noisy_point_cloud_image.reshape(-1,3), color=b.RED)\n",
    "    if colors is None:\n",
    "        colors = b.viz.distinct_colors(max(10, len(trace[\"indices\"])))\n",
    "    for i in range(len(trace[\"indices\"])):\n",
    "        b.show_trimesh(f\"obj_{i}\", b.RENDERER.meshes[trace[\"indices\"][i]],color=colors[i])\n",
    "        b.set_pose(f\"obj_{i}\", trace.get_retval()[i])"
   ]
  },
  {
   "cell_type": "code",
   "execution_count": 11,
   "metadata": {},
   "outputs": [
    {
     "name": "stderr",
     "output_type": "stream",
     "text": [
      "2023-06-16 16:59:18.854288: E external/xla/xla/pjrt/pjrt_stream_executor_client.cc:2432] Execution of replica 0 failed: INTERNAL: Failed to load in-memory CUBIN: CUDA_ERROR_OUT_OF_MEMORY: out of memory\n"
     ]
    },
    {
     "data": {
      "text/html": [
       "<pre style=\"white-space:pre;overflow-x:auto;line-height:normal;font-family:Menlo,'DejaVu Sans Mono',consolas,'Courier New',monospace\"><span style=\"color: #800000; text-decoration-color: #800000\">╭─────────────────────────────── </span><span style=\"color: #800000; text-decoration-color: #800000; font-weight: bold\">Traceback </span><span style=\"color: #bf7f7f; text-decoration-color: #bf7f7f; font-weight: bold\">(most recent call last)</span><span style=\"color: #800000; text-decoration-color: #800000\"> ────────────────────────────────╮</span>\n",
       "<span style=\"color: #800000; text-decoration-color: #800000\">│</span> <span style=\"color: #bfbf7f; text-decoration-color: #bfbf7f\">/tmp/ipykernel_79388/</span><span style=\"color: #808000; text-decoration-color: #808000; font-weight: bold\">4240840769.py</span>:<span style=\"color: #0000ff; text-decoration-color: #0000ff\">1</span> in <span style=\"color: #00ff00; text-decoration-color: #00ff00\">&lt;module&gt;</span>                                                 <span style=\"color: #800000; text-decoration-color: #800000\">│</span>\n",
       "<span style=\"color: #800000; text-decoration-color: #800000\">│</span>                                                                                                  <span style=\"color: #800000; text-decoration-color: #800000\">│</span>\n",
       "<span style=\"color: #800000; text-decoration-color: #800000\">│</span> <span style=\"color: #800000; text-decoration-color: #800000; font-style: italic\">[Errno 2] No such file or directory: '/tmp/ipykernel_79388/4240840769.py'</span>                        <span style=\"color: #800000; text-decoration-color: #800000\">│</span>\n",
       "<span style=\"color: #800000; text-decoration-color: #800000\">│</span>                                                                                                  <span style=\"color: #800000; text-decoration-color: #800000\">│</span>\n",
       "<span style=\"color: #800000; text-decoration-color: #800000\">│</span> <span style=\"color: #bfbf7f; text-decoration-color: #bfbf7f\">/opt/conda/envs/bayes3d/lib/python3.8/site-packages/jax/_src/</span><span style=\"color: #808000; text-decoration-color: #808000; font-weight: bold\">traceback_util.py</span>:<span style=\"color: #0000ff; text-decoration-color: #0000ff\">166</span> in            <span style=\"color: #800000; text-decoration-color: #800000\">│</span>\n",
       "<span style=\"color: #800000; text-decoration-color: #800000\">│</span> <span style=\"color: #00ff00; text-decoration-color: #00ff00\">reraise_with_filtered_traceback</span>                                                                  <span style=\"color: #800000; text-decoration-color: #800000\">│</span>\n",
       "<span style=\"color: #800000; text-decoration-color: #800000\">│</span>                                                                                                  <span style=\"color: #800000; text-decoration-color: #800000\">│</span>\n",
       "<span style=\"color: #800000; text-decoration-color: #800000\">│</span> <span style=\"color: #bfbf7f; text-decoration-color: #bfbf7f\">/opt/conda/envs/bayes3d/lib/python3.8/site-packages/jax/_src/</span><span style=\"color: #808000; text-decoration-color: #808000; font-weight: bold\">pjit.py</span>:<span style=\"color: #0000ff; text-decoration-color: #0000ff\">238</span> in <span style=\"color: #00ff00; text-decoration-color: #00ff00\">cache_miss</span>           <span style=\"color: #800000; text-decoration-color: #800000\">│</span>\n",
       "<span style=\"color: #800000; text-decoration-color: #800000\">│</span>                                                                                                  <span style=\"color: #800000; text-decoration-color: #800000\">│</span>\n",
       "<span style=\"color: #800000; text-decoration-color: #800000\">│</span> <span style=\"color: #bfbf7f; text-decoration-color: #bfbf7f\">/opt/conda/envs/bayes3d/lib/python3.8/site-packages/jax/_src/</span><span style=\"color: #808000; text-decoration-color: #808000; font-weight: bold\">pjit.py</span>:<span style=\"color: #0000ff; text-decoration-color: #0000ff\">185</span> in <span style=\"color: #00ff00; text-decoration-color: #00ff00\">_python_pjit_helper</span>  <span style=\"color: #800000; text-decoration-color: #800000\">│</span>\n",
       "<span style=\"color: #800000; text-decoration-color: #800000\">│</span>                                                                                                  <span style=\"color: #800000; text-decoration-color: #800000\">│</span>\n",
       "<span style=\"color: #800000; text-decoration-color: #800000\">│</span> <span style=\"color: #bfbf7f; text-decoration-color: #bfbf7f\">/opt/conda/envs/bayes3d/lib/python3.8/site-packages/jax/_src/</span><span style=\"color: #808000; text-decoration-color: #808000; font-weight: bold\">core.py</span>:<span style=\"color: #0000ff; text-decoration-color: #0000ff\">2592</span> in <span style=\"color: #00ff00; text-decoration-color: #00ff00\">bind</span>                <span style=\"color: #800000; text-decoration-color: #800000\">│</span>\n",
       "<span style=\"color: #800000; text-decoration-color: #800000\">│</span>                                                                                                  <span style=\"color: #800000; text-decoration-color: #800000\">│</span>\n",
       "<span style=\"color: #800000; text-decoration-color: #800000\">│</span> <span style=\"color: #bfbf7f; text-decoration-color: #bfbf7f\">/opt/conda/envs/bayes3d/lib/python3.8/site-packages/jax/_src/</span><span style=\"color: #808000; text-decoration-color: #808000; font-weight: bold\">core.py</span>:<span style=\"color: #0000ff; text-decoration-color: #0000ff\">363</span> in <span style=\"color: #00ff00; text-decoration-color: #00ff00\">bind_with_trace</span>      <span style=\"color: #800000; text-decoration-color: #800000\">│</span>\n",
       "<span style=\"color: #800000; text-decoration-color: #800000\">│</span>                                                                                                  <span style=\"color: #800000; text-decoration-color: #800000\">│</span>\n",
       "<span style=\"color: #800000; text-decoration-color: #800000\">│</span> <span style=\"color: #bfbf7f; text-decoration-color: #bfbf7f\">/opt/conda/envs/bayes3d/lib/python3.8/site-packages/jax/_src/</span><span style=\"color: #808000; text-decoration-color: #808000; font-weight: bold\">core.py</span>:<span style=\"color: #0000ff; text-decoration-color: #0000ff\">817</span> in <span style=\"color: #00ff00; text-decoration-color: #00ff00\">process_primitive</span>    <span style=\"color: #800000; text-decoration-color: #800000\">│</span>\n",
       "<span style=\"color: #800000; text-decoration-color: #800000\">│</span>                                                                                                  <span style=\"color: #800000; text-decoration-color: #800000\">│</span>\n",
       "<span style=\"color: #800000; text-decoration-color: #800000\">│</span> <span style=\"color: #bfbf7f; text-decoration-color: #bfbf7f\">/opt/conda/envs/bayes3d/lib/python3.8/site-packages/jax/_src/</span><span style=\"color: #808000; text-decoration-color: #808000; font-weight: bold\">pjit.py</span>:<span style=\"color: #0000ff; text-decoration-color: #0000ff\">1252</span> in <span style=\"color: #00ff00; text-decoration-color: #00ff00\">_pjit_call_impl</span>     <span style=\"color: #800000; text-decoration-color: #800000\">│</span>\n",
       "<span style=\"color: #800000; text-decoration-color: #800000\">│</span>                                                                                                  <span style=\"color: #800000; text-decoration-color: #800000\">│</span>\n",
       "<span style=\"color: #800000; text-decoration-color: #800000\">│</span> <span style=\"color: #bfbf7f; text-decoration-color: #bfbf7f\">/opt/conda/envs/bayes3d/lib/python3.8/site-packages/jax/_src/</span><span style=\"color: #808000; text-decoration-color: #808000; font-weight: bold\">profiler.py</span>:<span style=\"color: #0000ff; text-decoration-color: #0000ff\">314</span> in <span style=\"color: #00ff00; text-decoration-color: #00ff00\">wrapper</span>          <span style=\"color: #800000; text-decoration-color: #800000\">│</span>\n",
       "<span style=\"color: #800000; text-decoration-color: #800000\">│</span>                                                                                                  <span style=\"color: #800000; text-decoration-color: #800000\">│</span>\n",
       "<span style=\"color: #800000; text-decoration-color: #800000\">│</span> <span style=\"color: #bfbf7f; text-decoration-color: #bfbf7f\">/opt/conda/envs/bayes3d/lib/python3.8/site-packages/jax/_src/interpreters/</span><span style=\"color: #808000; text-decoration-color: #808000; font-weight: bold\">pxla.py</span>:<span style=\"color: #0000ff; text-decoration-color: #0000ff\">1916</span> in        <span style=\"color: #800000; text-decoration-color: #800000\">│</span>\n",
       "<span style=\"color: #800000; text-decoration-color: #800000\">│</span> <span style=\"color: #00ff00; text-decoration-color: #00ff00\">__call__</span>                                                                                         <span style=\"color: #800000; text-decoration-color: #800000\">│</span>\n",
       "<span style=\"color: #800000; text-decoration-color: #800000\">╰──────────────────────────────────────────────────────────────────────────────────────────────────╯</span>\n",
       "<span style=\"color: #ff0000; text-decoration-color: #ff0000; font-weight: bold\">XlaRuntimeError: </span>INTERNAL: Failed to load in-memory CUBIN: CUDA_ERROR_OUT_OF_MEMORY: out of memory\n",
       "</pre>\n"
      ],
      "text/plain": [
       "\u001b[31m╭─\u001b[0m\u001b[31m──────────────────────────────\u001b[0m\u001b[31m \u001b[0m\u001b[1;31mTraceback \u001b[0m\u001b[1;2;31m(most recent call last)\u001b[0m\u001b[31m \u001b[0m\u001b[31m───────────────────────────────\u001b[0m\u001b[31m─╮\u001b[0m\n",
       "\u001b[31m│\u001b[0m \u001b[2;33m/tmp/ipykernel_79388/\u001b[0m\u001b[1;33m4240840769.py\u001b[0m:\u001b[94m1\u001b[0m in \u001b[92m<module>\u001b[0m                                                 \u001b[31m│\u001b[0m\n",
       "\u001b[31m│\u001b[0m                                                                                                  \u001b[31m│\u001b[0m\n",
       "\u001b[31m│\u001b[0m \u001b[3;31m[Errno 2] No such file or directory: '/tmp/ipykernel_79388/4240840769.py'\u001b[0m                        \u001b[31m│\u001b[0m\n",
       "\u001b[31m│\u001b[0m                                                                                                  \u001b[31m│\u001b[0m\n",
       "\u001b[31m│\u001b[0m \u001b[2;33m/opt/conda/envs/bayes3d/lib/python3.8/site-packages/jax/_src/\u001b[0m\u001b[1;33mtraceback_util.py\u001b[0m:\u001b[94m166\u001b[0m in            \u001b[31m│\u001b[0m\n",
       "\u001b[31m│\u001b[0m \u001b[92mreraise_with_filtered_traceback\u001b[0m                                                                  \u001b[31m│\u001b[0m\n",
       "\u001b[31m│\u001b[0m                                                                                                  \u001b[31m│\u001b[0m\n",
       "\u001b[31m│\u001b[0m \u001b[2;33m/opt/conda/envs/bayes3d/lib/python3.8/site-packages/jax/_src/\u001b[0m\u001b[1;33mpjit.py\u001b[0m:\u001b[94m238\u001b[0m in \u001b[92mcache_miss\u001b[0m           \u001b[31m│\u001b[0m\n",
       "\u001b[31m│\u001b[0m                                                                                                  \u001b[31m│\u001b[0m\n",
       "\u001b[31m│\u001b[0m \u001b[2;33m/opt/conda/envs/bayes3d/lib/python3.8/site-packages/jax/_src/\u001b[0m\u001b[1;33mpjit.py\u001b[0m:\u001b[94m185\u001b[0m in \u001b[92m_python_pjit_helper\u001b[0m  \u001b[31m│\u001b[0m\n",
       "\u001b[31m│\u001b[0m                                                                                                  \u001b[31m│\u001b[0m\n",
       "\u001b[31m│\u001b[0m \u001b[2;33m/opt/conda/envs/bayes3d/lib/python3.8/site-packages/jax/_src/\u001b[0m\u001b[1;33mcore.py\u001b[0m:\u001b[94m2592\u001b[0m in \u001b[92mbind\u001b[0m                \u001b[31m│\u001b[0m\n",
       "\u001b[31m│\u001b[0m                                                                                                  \u001b[31m│\u001b[0m\n",
       "\u001b[31m│\u001b[0m \u001b[2;33m/opt/conda/envs/bayes3d/lib/python3.8/site-packages/jax/_src/\u001b[0m\u001b[1;33mcore.py\u001b[0m:\u001b[94m363\u001b[0m in \u001b[92mbind_with_trace\u001b[0m      \u001b[31m│\u001b[0m\n",
       "\u001b[31m│\u001b[0m                                                                                                  \u001b[31m│\u001b[0m\n",
       "\u001b[31m│\u001b[0m \u001b[2;33m/opt/conda/envs/bayes3d/lib/python3.8/site-packages/jax/_src/\u001b[0m\u001b[1;33mcore.py\u001b[0m:\u001b[94m817\u001b[0m in \u001b[92mprocess_primitive\u001b[0m    \u001b[31m│\u001b[0m\n",
       "\u001b[31m│\u001b[0m                                                                                                  \u001b[31m│\u001b[0m\n",
       "\u001b[31m│\u001b[0m \u001b[2;33m/opt/conda/envs/bayes3d/lib/python3.8/site-packages/jax/_src/\u001b[0m\u001b[1;33mpjit.py\u001b[0m:\u001b[94m1252\u001b[0m in \u001b[92m_pjit_call_impl\u001b[0m     \u001b[31m│\u001b[0m\n",
       "\u001b[31m│\u001b[0m                                                                                                  \u001b[31m│\u001b[0m\n",
       "\u001b[31m│\u001b[0m \u001b[2;33m/opt/conda/envs/bayes3d/lib/python3.8/site-packages/jax/_src/\u001b[0m\u001b[1;33mprofiler.py\u001b[0m:\u001b[94m314\u001b[0m in \u001b[92mwrapper\u001b[0m          \u001b[31m│\u001b[0m\n",
       "\u001b[31m│\u001b[0m                                                                                                  \u001b[31m│\u001b[0m\n",
       "\u001b[31m│\u001b[0m \u001b[2;33m/opt/conda/envs/bayes3d/lib/python3.8/site-packages/jax/_src/interpreters/\u001b[0m\u001b[1;33mpxla.py\u001b[0m:\u001b[94m1916\u001b[0m in        \u001b[31m│\u001b[0m\n",
       "\u001b[31m│\u001b[0m \u001b[92m__call__\u001b[0m                                                                                         \u001b[31m│\u001b[0m\n",
       "\u001b[31m╰──────────────────────────────────────────────────────────────────────────────────────────────────╯\u001b[0m\n",
       "\u001b[1;91mXlaRuntimeError: \u001b[0mINTERNAL: Failed to load in-memory CUBIN: CUDA_ERROR_OUT_OF_MEMORY: out of memory\n"
      ]
     },
     "metadata": {},
     "output_type": "display_data"
    }
   ],
   "source": [
    "key, trace = simulate_jit(key, ())\n",
    "key, (_,_,trace,_) = update_jit(key, trace, genjax.choice_map({\"parents\": jnp.array([-1, 0, 0, 0]), }), ())\n",
    "print(trace[\"contact_params\"])\n",
    "print(trace[\"indices\"])\n",
    "print(trace[\"parents\"])\n",
    "b.get_depth_image(trace[\"image\"][...,2])\n"
   ]
  },
  {
   "cell_type": "code",
   "execution_count": 10,
   "metadata": {},
   "outputs": [
    {
     "data": {
      "text/html": [
       "<pre style=\"white-space:pre;overflow-x:auto;line-height:normal;font-family:Menlo,'DejaVu Sans Mono',consolas,'Courier New',monospace\"><span style=\"color: #800000; text-decoration-color: #800000\">╭─────────────────────────────── </span><span style=\"color: #800000; text-decoration-color: #800000; font-weight: bold\">Traceback </span><span style=\"color: #bf7f7f; text-decoration-color: #bf7f7f; font-weight: bold\">(most recent call last)</span><span style=\"color: #800000; text-decoration-color: #800000\"> ────────────────────────────────╮</span>\n",
       "<span style=\"color: #800000; text-decoration-color: #800000\">│</span> <span style=\"color: #bfbf7f; text-decoration-color: #bfbf7f\">/tmp/ipykernel_77737/</span><span style=\"color: #808000; text-decoration-color: #808000; font-weight: bold\">3951240132.py</span>:<span style=\"color: #0000ff; text-decoration-color: #0000ff\">1</span> in <span style=\"color: #00ff00; text-decoration-color: #00ff00\">&lt;module&gt;</span>                                                 <span style=\"color: #800000; text-decoration-color: #800000\">│</span>\n",
       "<span style=\"color: #800000; text-decoration-color: #800000\">│</span>                                                                                                  <span style=\"color: #800000; text-decoration-color: #800000\">│</span>\n",
       "<span style=\"color: #800000; text-decoration-color: #800000\">│</span> <span style=\"color: #800000; text-decoration-color: #800000; font-style: italic\">[Errno 2] No such file or directory: '/tmp/ipykernel_77737/3951240132.py'</span>                        <span style=\"color: #800000; text-decoration-color: #800000\">│</span>\n",
       "<span style=\"color: #800000; text-decoration-color: #800000\">╰──────────────────────────────────────────────────────────────────────────────────────────────────╯</span>\n",
       "<span style=\"color: #ff0000; text-decoration-color: #ff0000; font-weight: bold\">NameError: </span>name <span style=\"color: #008000; text-decoration-color: #008000\">'trace'</span> is not defined\n",
       "</pre>\n"
      ],
      "text/plain": [
       "\u001b[31m╭─\u001b[0m\u001b[31m──────────────────────────────\u001b[0m\u001b[31m \u001b[0m\u001b[1;31mTraceback \u001b[0m\u001b[1;2;31m(most recent call last)\u001b[0m\u001b[31m \u001b[0m\u001b[31m───────────────────────────────\u001b[0m\u001b[31m─╮\u001b[0m\n",
       "\u001b[31m│\u001b[0m \u001b[2;33m/tmp/ipykernel_77737/\u001b[0m\u001b[1;33m3951240132.py\u001b[0m:\u001b[94m1\u001b[0m in \u001b[92m<module>\u001b[0m                                                 \u001b[31m│\u001b[0m\n",
       "\u001b[31m│\u001b[0m                                                                                                  \u001b[31m│\u001b[0m\n",
       "\u001b[31m│\u001b[0m \u001b[3;31m[Errno 2] No such file or directory: '/tmp/ipykernel_77737/3951240132.py'\u001b[0m                        \u001b[31m│\u001b[0m\n",
       "\u001b[31m╰──────────────────────────────────────────────────────────────────────────────────────────────────╯\u001b[0m\n",
       "\u001b[1;91mNameError: \u001b[0mname \u001b[32m'trace'\u001b[0m is not defined\n"
      ]
     },
     "metadata": {},
     "output_type": "display_data"
    }
   ],
   "source": [
    "viz_trace_meshcat(trace)"
   ]
  },
  {
   "cell_type": "code",
   "execution_count": 31,
   "metadata": {},
   "outputs": [
    {
     "data": {
      "text/html": [
       "<pre style=\"white-space:pre;overflow-x:auto;line-height:normal;font-family:Menlo,'DejaVu Sans Mono',consolas,'Courier New',monospace\">\n",
       "<span style=\"color: #800080; text-decoration-color: #800080; font-weight: bold\">Array</span><span style=\"font-weight: bold\">([[</span><span style=\"color: #008080; text-decoration-color: #008080; font-weight: bold\">-1.0000000e+00</span>, <span style=\"color: #008080; text-decoration-color: #008080; font-weight: bold\">-0.0000000e+00</span>, <span style=\"color: #008080; text-decoration-color: #008080; font-weight: bold\">-0.0000000e+00</span>, <span style=\"color: #008080; text-decoration-color: #008080; font-weight: bold\">-0.0000000e+00</span><span style=\"font-weight: bold\">]</span>,\n",
       "       <span style=\"font-weight: bold\">[</span><span style=\"color: #008080; text-decoration-color: #008080; font-weight: bold\">-0.0000000e+00</span>,  <span style=\"color: #008080; text-decoration-color: #008080; font-weight: bold\">5.1449579e-01</span>, <span style=\"color: #008080; text-decoration-color: #008080; font-weight: bold\">-8.5749292e-01</span>, <span style=\"color: #008080; text-decoration-color: #008080; font-weight: bold\">-4.6661011e-08</span><span style=\"font-weight: bold\">]</span>,\n",
       "       <span style=\"font-weight: bold\">[</span><span style=\"color: #008080; text-decoration-color: #008080; font-weight: bold\">-0.0000000e+00</span>, <span style=\"color: #008080; text-decoration-color: #008080; font-weight: bold\">-8.5749292e-01</span>, <span style=\"color: #008080; text-decoration-color: #008080; font-weight: bold\">-5.1449579e-01</span>,  <span style=\"color: #008080; text-decoration-color: #008080; font-weight: bold\">2.3323808e+00</span><span style=\"font-weight: bold\">]</span>,\n",
       "       <span style=\"font-weight: bold\">[</span> <span style=\"color: #008080; text-decoration-color: #008080; font-weight: bold\">0.0000000e+00</span>,  <span style=\"color: #008080; text-decoration-color: #008080; font-weight: bold\">0.0000000e+00</span>,  <span style=\"color: #008080; text-decoration-color: #008080; font-weight: bold\">0.0000000e+00</span>,  <span style=\"color: #008080; text-decoration-color: #008080; font-weight: bold\">1.0000000e+00</span><span style=\"font-weight: bold\">]]</span>,      <span style=\"color: #808000; text-decoration-color: #808000\">dtype</span>=<span style=\"color: #800080; text-decoration-color: #800080\">float32</span><span style=\"font-weight: bold\">)</span>\n",
       "</pre>\n"
      ],
      "text/plain": [
       "\n",
       "\u001b[1;35mArray\u001b[0m\u001b[1m(\u001b[0m\u001b[1m[\u001b[0m\u001b[1m[\u001b[0m\u001b[1;36m-1.0000000e+00\u001b[0m, \u001b[1;36m-0.0000000e+00\u001b[0m, \u001b[1;36m-0.0000000e+00\u001b[0m, \u001b[1;36m-0.0000000e+00\u001b[0m\u001b[1m]\u001b[0m,\n",
       "       \u001b[1m[\u001b[0m\u001b[1;36m-0.0000000e+00\u001b[0m,  \u001b[1;36m5.1449579e-01\u001b[0m, \u001b[1;36m-8.5749292e-01\u001b[0m, \u001b[1;36m-4.6661011e-08\u001b[0m\u001b[1m]\u001b[0m,\n",
       "       \u001b[1m[\u001b[0m\u001b[1;36m-0.0000000e+00\u001b[0m, \u001b[1;36m-8.5749292e-01\u001b[0m, \u001b[1;36m-5.1449579e-01\u001b[0m,  \u001b[1;36m2.3323808e+00\u001b[0m\u001b[1m]\u001b[0m,\n",
       "       \u001b[1m[\u001b[0m \u001b[1;36m0.0000000e+00\u001b[0m,  \u001b[1;36m0.0000000e+00\u001b[0m,  \u001b[1;36m0.0000000e+00\u001b[0m,  \u001b[1;36m1.0000000e+00\u001b[0m\u001b[1m]\u001b[0m\u001b[1m]\u001b[0m,      \u001b[33mdtype\u001b[0m=\u001b[35mfloat32\u001b[0m\u001b[1m)\u001b[0m\n"
      ]
     },
     "metadata": {},
     "output_type": "display_data"
    }
   ],
   "source": [
    "contact_plane"
   ]
  },
  {
   "cell_type": "code",
   "execution_count": 30,
   "metadata": {},
   "outputs": [
    {
     "data": {
      "text/html": [
       "<pre style=\"white-space:pre;overflow-x:auto;line-height:normal;font-family:Menlo,'DejaVu Sans Mono',consolas,'Courier New',monospace\">\n",
       "<span style=\"color: #800080; text-decoration-color: #800080; font-weight: bold\">Array</span><span style=\"font-weight: bold\">([[[</span><span style=\"color: #008080; text-decoration-color: #008080; font-weight: bold\">-1.0000000e+00</span>, <span style=\"color: #008080; text-decoration-color: #008080; font-weight: bold\">-0.0000000e+00</span>, <span style=\"color: #008080; text-decoration-color: #008080; font-weight: bold\">-0.0000000e+00</span>,  <span style=\"color: #008080; text-decoration-color: #008080; font-weight: bold\">0.0000000e+00</span><span style=\"font-weight: bold\">]</span>,\n",
       "        <span style=\"font-weight: bold\">[</span><span style=\"color: #008080; text-decoration-color: #008080; font-weight: bold\">-0.0000000e+00</span>,  <span style=\"color: #008080; text-decoration-color: #008080; font-weight: bold\">5.1449579e-01</span>, <span style=\"color: #008080; text-decoration-color: #008080; font-weight: bold\">-8.5749292e-01</span>, <span style=\"color: #008080; text-decoration-color: #008080; font-weight: bold\">-4.6661011e-08</span><span style=\"font-weight: bold\">]</span>,\n",
       "        <span style=\"font-weight: bold\">[</span> <span style=\"color: #008080; text-decoration-color: #008080; font-weight: bold\">0.0000000e+00</span>, <span style=\"color: #008080; text-decoration-color: #008080; font-weight: bold\">-8.5749292e-01</span>, <span style=\"color: #008080; text-decoration-color: #008080; font-weight: bold\">-5.1449579e-01</span>,  <span style=\"color: #008080; text-decoration-color: #008080; font-weight: bold\">2.3323808e+00</span><span style=\"font-weight: bold\">]</span>,\n",
       "        <span style=\"font-weight: bold\">[</span> <span style=\"color: #008080; text-decoration-color: #008080; font-weight: bold\">0.0000000e+00</span>,  <span style=\"color: #008080; text-decoration-color: #008080; font-weight: bold\">0.0000000e+00</span>,  <span style=\"color: #008080; text-decoration-color: #008080; font-weight: bold\">0.0000000e+00</span>,  <span style=\"color: #008080; text-decoration-color: #008080; font-weight: bold\">1.0000000e+00</span><span style=\"font-weight: bold\">]]</span>,\n",
       "\n",
       "       <span style=\"font-weight: bold\">[[</span> <span style=\"color: #008080; text-decoration-color: #008080; font-weight: bold\">5.3425068e-01</span>, <span style=\"color: #008080; text-decoration-color: #008080; font-weight: bold\">-8.4532613e-01</span>, <span style=\"color: #008080; text-decoration-color: #008080; font-weight: bold\">-1.3571800e-07</span>, <span style=\"color: #008080; text-decoration-color: #008080; font-weight: bold\">-3.5881244e-02</span><span style=\"font-weight: bold\">]</span>,\n",
       "        <span style=\"font-weight: bold\">[</span><span style=\"color: #008080; text-decoration-color: #008080; font-weight: bold\">-4.3491665e-01</span>, <span style=\"color: #008080; text-decoration-color: #008080; font-weight: bold\">-2.7486959e-01</span>, <span style=\"color: #008080; text-decoration-color: #008080; font-weight: bold\">-8.5749298e-01</span>, <span style=\"color: #008080; text-decoration-color: #008080; font-weight: bold\">-4.0864956e-02</span><span style=\"font-weight: bold\">]</span>,\n",
       "        <span style=\"font-weight: bold\">[</span> <span style=\"color: #008080; text-decoration-color: #008080; font-weight: bold\">7.2486109e-01</span>,  <span style=\"color: #008080; text-decoration-color: #008080; font-weight: bold\">4.5811632e-01</span>, <span style=\"color: #008080; text-decoration-color: #008080; font-weight: bold\">-5.1449567e-01</span>,  <span style=\"color: #008080; text-decoration-color: #008080; font-weight: bold\">2.2660174e+00</span><span style=\"font-weight: bold\">]</span>,\n",
       "        <span style=\"font-weight: bold\">[</span> <span style=\"color: #008080; text-decoration-color: #008080; font-weight: bold\">0.0000000e+00</span>,  <span style=\"color: #008080; text-decoration-color: #008080; font-weight: bold\">0.0000000e+00</span>,  <span style=\"color: #008080; text-decoration-color: #008080; font-weight: bold\">0.0000000e+00</span>,  <span style=\"color: #008080; text-decoration-color: #008080; font-weight: bold\">1.0000000e+00</span><span style=\"font-weight: bold\">]]</span>,\n",
       "\n",
       "       <span style=\"font-weight: bold\">[[</span> <span style=\"color: #008080; text-decoration-color: #008080; font-weight: bold\">9.0792716e-01</span>,  <span style=\"color: #008080; text-decoration-color: #008080; font-weight: bold\">4.1912785e-01</span>, <span style=\"color: #008080; text-decoration-color: #008080; font-weight: bold\">-2.5175918e-08</span>, <span style=\"color: #008080; text-decoration-color: #008080; font-weight: bold\">-1.2753282e-01</span><span style=\"font-weight: bold\">]</span>,\n",
       "        <span style=\"font-weight: bold\">[</span> <span style=\"color: #008080; text-decoration-color: #008080; font-weight: bold\">2.1563950e-01</span>, <span style=\"color: #008080; text-decoration-color: #008080; font-weight: bold\">-4.6712458e-01</span>, <span style=\"color: #008080; text-decoration-color: #008080; font-weight: bold\">-8.5749298e-01</span>,  <span style=\"color: #008080; text-decoration-color: #008080; font-weight: bold\">4.1943964e-02</span><span style=\"font-weight: bold\">]</span>,\n",
       "        <span style=\"font-weight: bold\">[</span><span style=\"color: #008080; text-decoration-color: #008080; font-weight: bold\">-3.5939929e-01</span>,  <span style=\"color: #008080; text-decoration-color: #008080; font-weight: bold\">7.7854115e-01</span>, <span style=\"color: #008080; text-decoration-color: #008080; font-weight: bold\">-5.1449567e-01</span>,  <span style=\"color: #008080; text-decoration-color: #008080; font-weight: bold\">2.2088196e+00</span><span style=\"font-weight: bold\">]</span>,\n",
       "        <span style=\"font-weight: bold\">[</span> <span style=\"color: #008080; text-decoration-color: #008080; font-weight: bold\">0.0000000e+00</span>,  <span style=\"color: #008080; text-decoration-color: #008080; font-weight: bold\">0.0000000e+00</span>,  <span style=\"color: #008080; text-decoration-color: #008080; font-weight: bold\">0.0000000e+00</span>,  <span style=\"color: #008080; text-decoration-color: #008080; font-weight: bold\">1.0000000e+00</span><span style=\"font-weight: bold\">]]</span>,\n",
       "\n",
       "       <span style=\"font-weight: bold\">[[</span><span style=\"color: #008080; text-decoration-color: #008080; font-weight: bold\">-9.8011255e-01</span>, <span style=\"color: #008080; text-decoration-color: #008080; font-weight: bold\">-1.9844198e-01</span>, <span style=\"color: #008080; text-decoration-color: #008080; font-weight: bold\">-7.9165588e-08</span>,  <span style=\"color: #008080; text-decoration-color: #008080; font-weight: bold\">8.7282367e-02</span><span style=\"font-weight: bold\">]</span>,\n",
       "        <span style=\"font-weight: bold\">[</span><span style=\"color: #008080; text-decoration-color: #008080; font-weight: bold\">-1.0209756e-01</span>,  <span style=\"color: #008080; text-decoration-color: #008080; font-weight: bold\">5.0426382e-01</span>, <span style=\"color: #008080; text-decoration-color: #008080; font-weight: bold\">-8.5749292e-01</span>, <span style=\"color: #008080; text-decoration-color: #008080; font-weight: bold\">-1.0423212e-01</span><span style=\"font-weight: bold\">]</span>,\n",
       "        <span style=\"font-weight: bold\">[</span> <span style=\"color: #008080; text-decoration-color: #008080; font-weight: bold\">1.7016274e-01</span>, <span style=\"color: #008080; text-decoration-color: #008080; font-weight: bold\">-8.4043956e-01</span>, <span style=\"color: #008080; text-decoration-color: #008080; font-weight: bold\">-5.1449579e-01</span>,  <span style=\"color: #008080; text-decoration-color: #008080; font-weight: bold\">2.3716295e+00</span><span style=\"font-weight: bold\">]</span>,\n",
       "        <span style=\"font-weight: bold\">[</span> <span style=\"color: #008080; text-decoration-color: #008080; font-weight: bold\">0.0000000e+00</span>,  <span style=\"color: #008080; text-decoration-color: #008080; font-weight: bold\">0.0000000e+00</span>,  <span style=\"color: #008080; text-decoration-color: #008080; font-weight: bold\">0.0000000e+00</span>,  <span style=\"color: #008080; text-decoration-color: #008080; font-weight: bold\">1.0000000e+00</span><span style=\"font-weight: bold\">]]]</span>,      <span style=\"color: #808000; text-decoration-color: #808000\">dtype</span>=<span style=\"color: #800080; text-decoration-color: #800080\">float32</span><span style=\"font-weight: bold\">)</span>\n",
       "</pre>\n"
      ],
      "text/plain": [
       "\n",
       "\u001b[1;35mArray\u001b[0m\u001b[1m(\u001b[0m\u001b[1m[\u001b[0m\u001b[1m[\u001b[0m\u001b[1m[\u001b[0m\u001b[1;36m-1.0000000e+00\u001b[0m, \u001b[1;36m-0.0000000e+00\u001b[0m, \u001b[1;36m-0.0000000e+00\u001b[0m,  \u001b[1;36m0.0000000e+00\u001b[0m\u001b[1m]\u001b[0m,\n",
       "        \u001b[1m[\u001b[0m\u001b[1;36m-0.0000000e+00\u001b[0m,  \u001b[1;36m5.1449579e-01\u001b[0m, \u001b[1;36m-8.5749292e-01\u001b[0m, \u001b[1;36m-4.6661011e-08\u001b[0m\u001b[1m]\u001b[0m,\n",
       "        \u001b[1m[\u001b[0m \u001b[1;36m0.0000000e+00\u001b[0m, \u001b[1;36m-8.5749292e-01\u001b[0m, \u001b[1;36m-5.1449579e-01\u001b[0m,  \u001b[1;36m2.3323808e+00\u001b[0m\u001b[1m]\u001b[0m,\n",
       "        \u001b[1m[\u001b[0m \u001b[1;36m0.0000000e+00\u001b[0m,  \u001b[1;36m0.0000000e+00\u001b[0m,  \u001b[1;36m0.0000000e+00\u001b[0m,  \u001b[1;36m1.0000000e+00\u001b[0m\u001b[1m]\u001b[0m\u001b[1m]\u001b[0m,\n",
       "\n",
       "       \u001b[1m[\u001b[0m\u001b[1m[\u001b[0m \u001b[1;36m5.3425068e-01\u001b[0m, \u001b[1;36m-8.4532613e-01\u001b[0m, \u001b[1;36m-1.3571800e-07\u001b[0m, \u001b[1;36m-3.5881244e-02\u001b[0m\u001b[1m]\u001b[0m,\n",
       "        \u001b[1m[\u001b[0m\u001b[1;36m-4.3491665e-01\u001b[0m, \u001b[1;36m-2.7486959e-01\u001b[0m, \u001b[1;36m-8.5749298e-01\u001b[0m, \u001b[1;36m-4.0864956e-02\u001b[0m\u001b[1m]\u001b[0m,\n",
       "        \u001b[1m[\u001b[0m \u001b[1;36m7.2486109e-01\u001b[0m,  \u001b[1;36m4.5811632e-01\u001b[0m, \u001b[1;36m-5.1449567e-01\u001b[0m,  \u001b[1;36m2.2660174e+00\u001b[0m\u001b[1m]\u001b[0m,\n",
       "        \u001b[1m[\u001b[0m \u001b[1;36m0.0000000e+00\u001b[0m,  \u001b[1;36m0.0000000e+00\u001b[0m,  \u001b[1;36m0.0000000e+00\u001b[0m,  \u001b[1;36m1.0000000e+00\u001b[0m\u001b[1m]\u001b[0m\u001b[1m]\u001b[0m,\n",
       "\n",
       "       \u001b[1m[\u001b[0m\u001b[1m[\u001b[0m \u001b[1;36m9.0792716e-01\u001b[0m,  \u001b[1;36m4.1912785e-01\u001b[0m, \u001b[1;36m-2.5175918e-08\u001b[0m, \u001b[1;36m-1.2753282e-01\u001b[0m\u001b[1m]\u001b[0m,\n",
       "        \u001b[1m[\u001b[0m \u001b[1;36m2.1563950e-01\u001b[0m, \u001b[1;36m-4.6712458e-01\u001b[0m, \u001b[1;36m-8.5749298e-01\u001b[0m,  \u001b[1;36m4.1943964e-02\u001b[0m\u001b[1m]\u001b[0m,\n",
       "        \u001b[1m[\u001b[0m\u001b[1;36m-3.5939929e-01\u001b[0m,  \u001b[1;36m7.7854115e-01\u001b[0m, \u001b[1;36m-5.1449567e-01\u001b[0m,  \u001b[1;36m2.2088196e+00\u001b[0m\u001b[1m]\u001b[0m,\n",
       "        \u001b[1m[\u001b[0m \u001b[1;36m0.0000000e+00\u001b[0m,  \u001b[1;36m0.0000000e+00\u001b[0m,  \u001b[1;36m0.0000000e+00\u001b[0m,  \u001b[1;36m1.0000000e+00\u001b[0m\u001b[1m]\u001b[0m\u001b[1m]\u001b[0m,\n",
       "\n",
       "       \u001b[1m[\u001b[0m\u001b[1m[\u001b[0m\u001b[1;36m-9.8011255e-01\u001b[0m, \u001b[1;36m-1.9844198e-01\u001b[0m, \u001b[1;36m-7.9165588e-08\u001b[0m,  \u001b[1;36m8.7282367e-02\u001b[0m\u001b[1m]\u001b[0m,\n",
       "        \u001b[1m[\u001b[0m\u001b[1;36m-1.0209756e-01\u001b[0m,  \u001b[1;36m5.0426382e-01\u001b[0m, \u001b[1;36m-8.5749292e-01\u001b[0m, \u001b[1;36m-1.0423212e-01\u001b[0m\u001b[1m]\u001b[0m,\n",
       "        \u001b[1m[\u001b[0m \u001b[1;36m1.7016274e-01\u001b[0m, \u001b[1;36m-8.4043956e-01\u001b[0m, \u001b[1;36m-5.1449579e-01\u001b[0m,  \u001b[1;36m2.3716295e+00\u001b[0m\u001b[1m]\u001b[0m,\n",
       "        \u001b[1m[\u001b[0m \u001b[1;36m0.0000000e+00\u001b[0m,  \u001b[1;36m0.0000000e+00\u001b[0m,  \u001b[1;36m0.0000000e+00\u001b[0m,  \u001b[1;36m1.0000000e+00\u001b[0m\u001b[1m]\u001b[0m\u001b[1m]\u001b[0m\u001b[1m]\u001b[0m,      \u001b[33mdtype\u001b[0m=\u001b[35mfloat32\u001b[0m\u001b[1m)\u001b[0m\n"
      ]
     },
     "metadata": {},
     "output_type": "display_data"
    }
   ],
   "source": [
    "trace.get_retval()"
   ]
  },
  {
   "cell_type": "code",
   "execution_count": 262,
   "metadata": {},
   "outputs": [],
   "source": [
    "poses = b.scene_graph.poses_from_scene_graph(root_poses, all_box_dims[trace[\"indices\"]], trace[\"parents\"], trace[\"contact_params\"], trace[\"face_parent\"], trace[\"face_child\"])"
   ]
  },
  {
   "cell_type": "code",
   "execution_count": 33,
   "metadata": {},
   "outputs": [],
   "source": [
    "update_jit = jax.jit(single_object_floating_pose_model.update)"
   ]
  },
  {
   "cell_type": "code",
   "execution_count": 37,
   "metadata": {
    "tags": []
   },
   "outputs": [
    {
     "data": {
      "image/png": "[encoded data removed]"
     },
     "execution_count": 37,
     "metadata": {},
     "output_type": "execute_result"
    }
   ],
   "source": [
    "key = jax.random.PRNGKey(10000)\n",
    "trace = simulate_jit(key, ())[1]\n",
    "observed_image = trace.get_retval()\n",
    "noisy_observed_image = observed_image + jax.random.normal(jax.random.PRNGKey(10), observed_image.shape) * 1.0\n",
    "gt_trace = update_jit(key, trace, genjax.choice_map({\"image\": noisy_observed_image}), ())[1][2]\n",
    "b.get_depth_image(gt_trace[\"image\"][:,:,2])\n"
   ]
  },
  {
   "cell_type": "code",
   "execution_count": 38,
   "metadata": {},
   "outputs": [],
   "source": [
    "key = jax.random.PRNGKey(1)\n",
    "score_variance_outlier_prob = lambda trace, v, o: trace.update(key, genjax.choice_map({\"variance\": v, \"outlier_prob\" : o}), ())[1][2].get_score()\n",
    "enumerate_variance_outlier_prob = jax.jit(jax.vmap(jax.vmap(score_variance_outlier_prob, in_axes=(None, None, 0)), in_axes=(None,0, None) ))"
   ]
  },
  {
   "cell_type": "code",
   "execution_count": 40,
   "metadata": {},
   "outputs": [
    {
     "name": "stdout",
     "output_type": "stream",
     "text": [
      "(200, 50)\n",
      "(Array(199, dtype=int32), Array(49, dtype=int32))\n"
     ]
    },
    {
     "data": {
      "image/png": "[encoded data removed]"
     },
     "metadata": {},
     "output_type": "display_data"
    }
   ],
   "source": [
    "scores = enumerate_variance_outlier_prob(gt_trace, jnp.linspace(0.000001, 0.001, 200),jnp.linspace(0.00001, 0.001, 50))\n",
    "print(scores.shape)\n",
    "print(jnp.unravel_index(scores.argmax(), scores.shape))\n",
    "plt.matshow(scores)"
   ]
  },
  {
   "cell_type": "code",
   "execution_count": 97,
   "metadata": {},
   "outputs": [
    {
     "data": {
      "text/html": [
       "<pre style=\"white-space:pre;overflow-x:auto;line-height:normal;font-family:Menlo,'DejaVu Sans Mono',consolas,'Courier New',monospace\">\n",
       "<span style=\"font-weight: bold\">[</span>\n",
       "    <span style=\"color: #008000; text-decoration-color: #008000\">'__abstractmethods__'</span>,\n",
       "    <span style=\"color: #008000; text-decoration-color: #008000\">'__annotations__'</span>,\n",
       "    <span style=\"color: #008000; text-decoration-color: #008000\">'__class__'</span>,\n",
       "    <span style=\"color: #008000; text-decoration-color: #008000\">'__dataclass_fields__'</span>,\n",
       "    <span style=\"color: #008000; text-decoration-color: #008000\">'__dataclass_params__'</span>,\n",
       "    <span style=\"color: #008000; text-decoration-color: #008000\">'__delattr__'</span>,\n",
       "    <span style=\"color: #008000; text-decoration-color: #008000\">'__dict__'</span>,\n",
       "    <span style=\"color: #008000; text-decoration-color: #008000\">'__dir__'</span>,\n",
       "    <span style=\"color: #008000; text-decoration-color: #008000\">'__doc__'</span>,\n",
       "    <span style=\"color: #008000; text-decoration-color: #008000\">'__eq__'</span>,\n",
       "    <span style=\"color: #008000; text-decoration-color: #008000\">'__format__'</span>,\n",
       "    <span style=\"color: #008000; text-decoration-color: #008000\">'__ge__'</span>,\n",
       "    <span style=\"color: #008000; text-decoration-color: #008000\">'__getattribute__'</span>,\n",
       "    <span style=\"color: #008000; text-decoration-color: #008000\">'__gt__'</span>,\n",
       "    <span style=\"color: #008000; text-decoration-color: #008000\">'__hash__'</span>,\n",
       "    <span style=\"color: #008000; text-decoration-color: #008000\">'__init__'</span>,\n",
       "    <span style=\"color: #008000; text-decoration-color: #008000\">'__init_subclass__'</span>,\n",
       "    <span style=\"color: #008000; text-decoration-color: #008000\">'__le__'</span>,\n",
       "    <span style=\"color: #008000; text-decoration-color: #008000\">'__lt__'</span>,\n",
       "    <span style=\"color: #008000; text-decoration-color: #008000\">'__module__'</span>,\n",
       "    <span style=\"color: #008000; text-decoration-color: #008000\">'__ne__'</span>,\n",
       "    <span style=\"color: #008000; text-decoration-color: #008000\">'__new__'</span>,\n",
       "    <span style=\"color: #008000; text-decoration-color: #008000\">'__reduce__'</span>,\n",
       "    <span style=\"color: #008000; text-decoration-color: #008000\">'__reduce_ex__'</span>,\n",
       "    <span style=\"color: #008000; text-decoration-color: #008000\">'__repr__'</span>,\n",
       "    <span style=\"color: #008000; text-decoration-color: #008000\">'__rich_console__'</span>,\n",
       "    <span style=\"color: #008000; text-decoration-color: #008000\">'__rich_repr__'</span>,\n",
       "    <span style=\"color: #008000; text-decoration-color: #008000\">'__setattr__'</span>,\n",
       "    <span style=\"color: #008000; text-decoration-color: #008000\">'__sizeof__'</span>,\n",
       "    <span style=\"color: #008000; text-decoration-color: #008000\">'__str__'</span>,\n",
       "    <span style=\"color: #008000; text-decoration-color: #008000\">'__subclasshook__'</span>,\n",
       "    <span style=\"color: #008000; text-decoration-color: #008000\">'__weakref__'</span>,\n",
       "    <span style=\"color: #008000; text-decoration-color: #008000\">'_abc_impl'</span>,\n",
       "    <span style=\"color: #008000; text-decoration-color: #008000\">'flatten'</span>,\n",
       "    <span style=\"color: #008000; text-decoration-color: #008000\">'from_tracer'</span>,\n",
       "    <span style=\"color: #008000; text-decoration-color: #008000\">'get_primal'</span>,\n",
       "    <span style=\"color: #008000; text-decoration-color: #008000\">'get_tracers'</span>,\n",
       "    <span style=\"color: #008000; text-decoration-color: #008000\">'inflate'</span>,\n",
       "    <span style=\"color: #008000; text-decoration-color: #008000\">'new'</span>,\n",
       "    <span style=\"color: #008000; text-decoration-color: #008000\">'slice'</span>,\n",
       "    <span style=\"color: #008000; text-decoration-color: #008000\">'stack'</span>,\n",
       "    <span style=\"color: #008000; text-decoration-color: #008000\">'sum'</span>,\n",
       "    <span style=\"color: #008000; text-decoration-color: #008000\">'unflatten'</span>,\n",
       "    <span style=\"color: #008000; text-decoration-color: #008000\">'unstack'</span>\n",
       "<span style=\"font-weight: bold\">]</span>\n",
       "</pre>\n"
      ],
      "text/plain": [
       "\n",
       "\u001b[1m[\u001b[0m\n",
       "    \u001b[32m'__abstractmethods__'\u001b[0m,\n",
       "    \u001b[32m'__annotations__'\u001b[0m,\n",
       "    \u001b[32m'__class__'\u001b[0m,\n",
       "    \u001b[32m'__dataclass_fields__'\u001b[0m,\n",
       "    \u001b[32m'__dataclass_params__'\u001b[0m,\n",
       "    \u001b[32m'__delattr__'\u001b[0m,\n",
       "    \u001b[32m'__dict__'\u001b[0m,\n",
       "    \u001b[32m'__dir__'\u001b[0m,\n",
       "    \u001b[32m'__doc__'\u001b[0m,\n",
       "    \u001b[32m'__eq__'\u001b[0m,\n",
       "    \u001b[32m'__format__'\u001b[0m,\n",
       "    \u001b[32m'__ge__'\u001b[0m,\n",
       "    \u001b[32m'__getattribute__'\u001b[0m,\n",
       "    \u001b[32m'__gt__'\u001b[0m,\n",
       "    \u001b[32m'__hash__'\u001b[0m,\n",
       "    \u001b[32m'__init__'\u001b[0m,\n",
       "    \u001b[32m'__init_subclass__'\u001b[0m,\n",
       "    \u001b[32m'__le__'\u001b[0m,\n",
       "    \u001b[32m'__lt__'\u001b[0m,\n",
       "    \u001b[32m'__module__'\u001b[0m,\n",
       "    \u001b[32m'__ne__'\u001b[0m,\n",
       "    \u001b[32m'__new__'\u001b[0m,\n",
       "    \u001b[32m'__reduce__'\u001b[0m,\n",
       "    \u001b[32m'__reduce_ex__'\u001b[0m,\n",
       "    \u001b[32m'__repr__'\u001b[0m,\n",
       "    \u001b[32m'__rich_console__'\u001b[0m,\n",
       "    \u001b[32m'__rich_repr__'\u001b[0m,\n",
       "    \u001b[32m'__setattr__'\u001b[0m,\n",
       "    \u001b[32m'__sizeof__'\u001b[0m,\n",
       "    \u001b[32m'__str__'\u001b[0m,\n",
       "    \u001b[32m'__subclasshook__'\u001b[0m,\n",
       "    \u001b[32m'__weakref__'\u001b[0m,\n",
       "    \u001b[32m'_abc_impl'\u001b[0m,\n",
       "    \u001b[32m'flatten'\u001b[0m,\n",
       "    \u001b[32m'from_tracer'\u001b[0m,\n",
       "    \u001b[32m'get_primal'\u001b[0m,\n",
       "    \u001b[32m'get_tracers'\u001b[0m,\n",
       "    \u001b[32m'inflate'\u001b[0m,\n",
       "    \u001b[32m'new'\u001b[0m,\n",
       "    \u001b[32m'slice'\u001b[0m,\n",
       "    \u001b[32m'stack'\u001b[0m,\n",
       "    \u001b[32m'sum'\u001b[0m,\n",
       "    \u001b[32m'unflatten'\u001b[0m,\n",
       "    \u001b[32m'unstack'\u001b[0m\n",
       "\u001b[1m]\u001b[0m\n"
      ]
     },
     "metadata": {},
     "output_type": "display_data"
    }
   ],
   "source": [
    "dir(Diff)"
   ]
  },
  {
   "cell_type": "code",
   "execution_count": 58,
   "metadata": {},
   "outputs": [
    {
     "data": {
      "image/png": "[encoded data removed]"
     },
     "metadata": {},
     "output_type": "display_data"
    }
   ],
   "source": []
  },
  {
   "cell_type": "code",
   "execution_count": 38,
   "metadata": {},
   "outputs": [
    {
     "data": {
      "image/png": "[encoded data removed]"
     },
     "metadata": {},
     "output_type": "display_data"
    }
   ],
   "source": []
  },
  {
   "cell_type": "code",
   "execution_count": 9,
   "metadata": {
    "tags": []
   },
   "outputs": [],
   "source": [
    "num_samples = 12000\n",
    "keys = jax.random.split(key, num_samples)\n",
    "key = keys[0]"
   ]
  },
  {
   "cell_type": "code",
   "execution_count": 10,
   "metadata": {},
   "outputs": [
    {
     "name": "stdout",
     "output_type": "stream",
     "text": [
      "[5885 5885 5885 5885 5885 5885 5885 5885 5885 5885]\n",
      "[-7526.6133 -7526.6133 -7526.6133 -7526.6133 -7526.6133 -7526.6133\n",
      " -7526.6133 -7526.6133 -7526.6133 -7526.6133]\n"
     ]
    },
    {
     "data": {
      "image/png": "[encoded data removed]"
     },
     "execution_count": 10,
     "metadata": {},
     "output_type": "execute_result"
    }
   ],
   "source": [
    "keys, (weights, traces) = importance_parallel_jit(keys, observations, (0.1,0.01, 1.0,))\n",
    "sampled_indices = jax.random.categorical(key, weights, shape=(10,))\n",
    "print(sampled_indices)\n",
    "print(weights[sampled_indices])\n",
    "images = [b.get_depth_image(img[:,:,2]) for img in traces.get_retval()[sampled_indices]]\n",
    "b.multi_panel(images,title=\"10 Posterior Samples\", title_fontsize=20)"
   ]
  },
  {
   "cell_type": "code",
   "execution_count": null,
   "metadata": {},
   "outputs": [],
   "source": []
  }
 ],
 "metadata": {
  "kernelspec": {
   "display_name": "Python 3 (ipykernel)",
   "language": "python",
   "name": "python3"
  },
  "language_info": {
   "codemirror_mode": {
    "name": "ipython",
    "version": 3
   },
   "file_extension": ".py",
   "mimetype": "text/x-python",
   "name": "python",
   "nbconvert_exporter": "python",
   "pygments_lexer": "ipython3",
   "version": "3.8.16"
  }
 },
 "nbformat": 4,
 "nbformat_minor": 4
}
