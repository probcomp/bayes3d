{
 "cells": [
  {
   "cell_type": "code",
   "execution_count": 23,
   "metadata": {},
   "outputs": [
    {
     "name": "stdout",
     "output_type": "stream",
     "text": [
      "The autoreload extension is already loaded. To reload it, use:\n",
      "  %reload_ext autoreload\n"
     ]
    }
   ],
   "source": [
    "%load_ext autoreload\n",
    "%autoreload 2"
   ]
  },
  {
   "cell_type": "markdown",
   "metadata": {},
   "source": [
    "# Simple Likelihood"
   ]
  },
  {
   "cell_type": "code",
   "execution_count": 24,
   "metadata": {},
   "outputs": [],
   "source": [
    "#|default_exp simple_likelihood"
   ]
  },
  {
   "cell_type": "code",
   "execution_count": 25,
   "metadata": {},
   "outputs": [],
   "source": [
    "#|export\n",
    "import jax\n",
    "import jax.numpy as jnp\n",
    "from   jax import jit, vmap\n",
    "import genjax\n",
    "from   genjax import gen, choice_map, vector_choice_map\n",
    "import matplotlib.pyplot as plt\n",
    "import numpy as np\n",
    "import bayes3d\n",
    "from bayes3d._mkl.utils import *\n",
    "\n",
    "key = jax.random.PRNGKey(0)"
   ]
  },
  {
   "cell_type": "code",
   "execution_count": 26,
   "metadata": {},
   "outputs": [],
   "source": [
    "#|export\n",
    "import genjax._src.generative_functions.distributions.tensorflow_probability as gentfp\n",
    "import tensorflow_probability.substrates.jax as tfp\n",
    "tfd = tfp.distributions\n",
    "\n",
    "uniform = genjax.tfp_uniform\n",
    "\n",
    "truncnormal = gentfp.TFPDistribution(\n",
    "    lambda mu, sig, low, high: tfd.TruncatedNormal(mu, sig, low, high));\n",
    "\n",
    "normal = gentfp.TFPDistribution(\n",
    "    lambda mu, sig: tfd.Normal(mu, sig));\n",
    "\n",
    "diagnormal = gentfp.TFPDistribution(\n",
    "    lambda mus, sigs: tfd.MultivariateNormalDiag(mus, sigs));\n",
    "\n",
    "\n",
    "mixture_of_diagnormals = gentfp.TFPDistribution(\n",
    "    lambda ws, mus, sig: tfd.MixtureSameFamily(\n",
    "        tfd.Categorical(ws),\n",
    "        tfd.MultivariateNormalDiag(mus, sig * jnp.ones_like(mus))))\n",
    "\n",
    "mixture_of_normals = gentfp.TFPDistribution(\n",
    "    lambda ws, mus, sig: tfd.MixtureSameFamily(\n",
    "        tfd.Categorical(ws),\n",
    "        tfd.Normal(mus, sig * jnp.ones_like(mus))))\n",
    "\n",
    "\n",
    "mixture_of_truncnormals = gentfp.TFPDistribution(\n",
    "    lambda ws, mus, sigs, lows, highs: tfd.MixtureSameFamily(\n",
    "        tfd.Categorical(ws),\n",
    "        tfd.TruncatedNormal(mus, sigs, lows, highs)))"
   ]
  },
  {
   "cell_type": "code",
   "execution_count": 27,
   "metadata": {},
   "outputs": [],
   "source": [
    "#|export\n",
    "from scipy.stats import truncnorm as scipy_truncnormal\n",
    "\n",
    "normal_logpdf    = jax.scipy.stats.norm.logpdf\n",
    "truncnorm_logpdf = jax.scipy.stats.truncnorm.logpdf\n",
    "truncnorm_pdf    = jax.scipy.stats.truncnorm.pdf\n"
   ]
  },
  {
   "cell_type": "code",
   "execution_count": 42,
   "metadata": {},
   "outputs": [],
   "source": [
    "#|export\n",
    "# TODO: The input Y should be an array only containing range measruements as well. \n",
    "#       For this to work we need to have the pixel vectors (the rays through each pixel)\n",
    "\n",
    "def make_simple_sensor_model(zmax):\n",
    "    \"\"\"Returns an simple sensor model marginalized over outliers.\"\"\"    \n",
    "\n",
    "    @genjax.drop_arguments\n",
    "    @genjax.gen\n",
    "    def _sensor_model(y, sig, outlier):\n",
    "        \n",
    "        z_ = jnp.linalg.norm(y)\n",
    "\n",
    "    \n",
    "        # NOTE: To compare to baseline one should set: `zmax_ = zmax``\n",
    "        zmax_ = z_/y[2]*zmax\n",
    "\n",
    "        inlier_outlier_mix = genjax.tfp_mixture(genjax.tfp_categorical, [truncnormal, genjax.tfp_uniform])\n",
    "        z = inlier_outlier_mix([jnp.log(1.0-outlier), jnp.log(outlier)], (\n",
    "                                    (z_, sig, 0.0, zmax_), \n",
    "                                    (0.0, zmax_))) @ \"measurement\"\n",
    "\n",
    "        z = jnp.clip(z, 0.0, zmax_)\n",
    "\n",
    "        return z * y/z_\n",
    "\n",
    "        \n",
    "    @genjax.gen\n",
    "    def sensor_model(Y, sig, out):   \n",
    "        \"\"\"\n",
    "        Simplest sensor model that returns a vector of range measurements conditioned on \n",
    "        an image, noise level, and outlier probability.\n",
    "        \"\"\"\n",
    "                \n",
    "        X = genjax.Map(_sensor_model, (0,None,None))(Y[...,:3].reshape(-1,3), sig, out) @ \"X\"\n",
    "        X = X.reshape(Y.shape)\n",
    "\n",
    "        return X\n",
    "\n",
    "    return sensor_model"
   ]
  },
  {
   "cell_type": "code",
   "execution_count": 43,
   "metadata": {},
   "outputs": [
    {
     "data": {
      "text/plain": [
       "Array([[1, 2],\n",
       "       [3, 4]], dtype=int32)"
      ]
     },
     "execution_count": 43,
     "metadata": {},
     "output_type": "execute_result"
    }
   ],
   "source": [
    "model = make_simple_sensor_model(5.0)\n",
    "\n",
    "Y= jnp.array([\n",
    "    [\n",
    "            [0,0,1],\n",
    "            [0,1,2],\n",
    "    ],\n",
    "    [\n",
    "            [1,1,3],\n",
    "            [1,0,4]\n",
    "    ]\n",
    "])\n",
    "Y.shape\n",
    "Y[...,2]"
   ]
  },
  {
   "cell_type": "code",
   "execution_count": 44,
   "metadata": {},
   "outputs": [
    {
     "data": {
      "text/plain": [
       "Array([[[0.       , 0.       , 0.8403682],\n",
       "        [0.       , 2.1522202, 4.3044405]],\n",
       "\n",
       "       [[0.4997248, 0.4997248, 1.4991744],\n",
       "        [0.997259 , 0.       , 3.989036 ]]], dtype=float32)"
      ]
     },
     "execution_count": 44,
     "metadata": {},
     "output_type": "execute_result"
    }
   ],
   "source": [
    "key = keysplit(key)\n",
    "model(Y,0.1,0.1)(key)"
   ]
  },
  {
   "cell_type": "code",
   "execution_count": null,
   "metadata": {},
   "outputs": [],
   "source": []
  }
 ],
 "metadata": {
  "kernelspec": {
   "display_name": "bayes3d",
   "language": "python",
   "name": "python3"
  },
  "language_info": {
   "codemirror_mode": {
    "name": "ipython",
    "version": 3
   },
   "file_extension": ".py",
   "mimetype": "text/x-python",
   "name": "python",
   "nbconvert_exporter": "python",
   "pygments_lexer": "ipython3",
   "version": "3.10.13"
  },
  "orig_nbformat": 4
 },
 "nbformat": 4,
 "nbformat_minor": 2
}
