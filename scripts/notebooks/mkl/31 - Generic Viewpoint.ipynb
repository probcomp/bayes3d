{
 "cells": [
  {
   "cell_type": "code",
   "execution_count": 10,
   "metadata": {},
   "outputs": [],
   "source": [
    "#|default_exp generic"
   ]
  },
  {
   "cell_type": "code",
   "execution_count": 6,
   "metadata": {},
   "outputs": [],
   "source": [
    "#|export\n",
    "import jax\n",
    "from bayes3d._mkl.utils import keysplit\n",
    "from bayes3d._mkl.pose import pack_pose\n",
    "from jax import jit, vmap\n",
    "from jax import numpy as jnp\n",
    "from jax.scipy.spatial.transform import Rotation\n",
    "from scipy.stats import truncnorm as scipy_truncnormal\n",
    "\n",
    "normal_logpdf    = jax.scipy.stats.norm.logpdf\n",
    "normal_pdf       = jax.scipy.stats.norm.pdf\n",
    "truncnorm_logpdf = jax.scipy.stats.truncnorm.logpdf\n",
    "truncnorm_pdf    = jax.scipy.stats.truncnorm.pdf\n",
    "\n",
    "inv       = jnp.linalg.inv\n",
    "logaddexp = jnp.logaddexp\n",
    "logsumexp = jax.scipy.special.logsumexp"
   ]
  },
  {
   "cell_type": "code",
   "execution_count": 7,
   "metadata": {},
   "outputs": [],
   "source": [
    "#|export\n",
    "def generic_viewpoint(key, cam, n, sig_x, sig_hd):\n",
    "    \"\"\"Generates generix camera poses by varying its xy-coordinates and angle (in the xy-plane).\"\"\"\n",
    "    \n",
    "    # TODO: Make a version that varies rot and pitch and potentially roll.\n",
    "    \n",
    "    _, keys = keysplit(key,1,2)\n",
    "\n",
    "    # Generic position\n",
    "    xs = sig_x*jax.random.normal(keys[1], (n,3))\n",
    "    xs = xs.at[0,:].set(0.0)\n",
    "    xs = xs.at[:,2].set(0.0)\n",
    "\n",
    "    # Generic rotation\n",
    "    hds = sig_hd*jax.random.normal(keys[0], (n,))\n",
    "    hds = hds.at[0].set(0.0)\n",
    "    rs = vmap(Rotation.from_euler, (None,0))(\"y\", hds)\n",
    "    rs = Rotation.as_matrix(rs)\n",
    "    \n",
    "    # Generic camera poses\n",
    "    ps = vmap(pack_pose)(xs, rs)\n",
    "    ps = cam@ps\n",
    "\n",
    "    # Generic weights\n",
    "    logps_hd = normal_logpdf(hds, loc=0.0, scale=sig_hd)\n",
    "    logps_x  = normal_logpdf( xs, loc=0.0, scale=sig_x).sum(-1)\n",
    "    logps    = logps_hd + logps_x\n",
    "\n",
    "    return ps, logps\n"
   ]
  },
  {
   "cell_type": "code",
   "execution_count": 8,
   "metadata": {},
   "outputs": [],
   "source": [
    "#|export\n",
    "def generic_contact(key, p0, n, sig_x, sig_hd):\n",
    "\n",
    "    _, keys = keysplit(key,1,2)\n",
    "\n",
    "    # Generic contact-pose vector\n",
    "    xs  = sig_x*jax.random.normal(keys[1], (n,3))\n",
    "    xs  = xs.at[:,2].set(0.0)\n",
    "    xs  = xs.at[0,:].set(0.0)\n",
    "\n",
    "    hds = sig_hd*jax.random.normal(keys[0], (n,1))\n",
    "    hds = hds.at[0,:].set(0.0)\n",
    "    rs = vmap(Rotation.from_euler, (None,0))(\"z\", hds)\n",
    "    rs = Rotation.as_matrix(rs)\n",
    "    \n",
    "    # Generic camera poses\n",
    "    ps = vmap(pack_pose)(xs, rs)\n",
    "    # vs  = jnp.concatenate([xs, hds], axis=1)\n",
    "\n",
    "    # Generic weights\n",
    "    logps_hd = normal_logpdf(hds[:,0], loc=0.0, scale=sig_hd)\n",
    "    logps_x  = normal_logpdf (xs, loc=0.0, scale=sig_x).sum(-1)\n",
    "    logps    = logps_hd + logps_x\n",
    "\n",
    "    # Generic object pose\n",
    "    generic_ps = p0@ps\n",
    "\n",
    "    return generic_ps, logps\n",
    "\n"
   ]
  },
  {
   "cell_type": "code",
   "execution_count": 9,
   "metadata": {},
   "outputs": [],
   "source": [
    "#|export\n",
    "def _contact_from_grid(v, p0=jnp.eye(4), sig_x=1.0, sig_hd=1.0):\n",
    "    x = jnp.array([*v[:2],0.0])\n",
    "    hd = v[2]\n",
    "\n",
    "    r = Rotation.from_euler(\"z\", hd)\n",
    "    r = Rotation.as_matrix(r)\n",
    "    p = pack_pose(x, r)\n",
    "\n",
    "    logp_hd = normal_logpdf(hd, loc=0.0, scale=sig_hd)\n",
    "    logp_x  = normal_logpdf (x, loc=0.0, scale=sig_x).sum(-1)\n",
    "    logp    = logp_hd + logp_x\n",
    "\n",
    "    return p0@p, logp\n",
    "\n",
    "contact_from_grid = vmap(_contact_from_grid, (0,None,None,None))"
   ]
  },
  {
   "cell_type": "code",
   "execution_count": null,
   "metadata": {},
   "outputs": [],
   "source": []
  }
 ],
 "metadata": {
  "kernelspec": {
   "display_name": "chi",
   "language": "python",
   "name": "python3"
  },
  "language_info": {
   "codemirror_mode": {
    "name": "ipython",
    "version": 3
   },
   "file_extension": ".py",
   "mimetype": "text/x-python",
   "name": "python",
   "nbconvert_exporter": "python",
   "pygments_lexer": "ipython3",
   "version": "3.10.13"
  }
 },
 "nbformat": 4,
 "nbformat_minor": 2
}
