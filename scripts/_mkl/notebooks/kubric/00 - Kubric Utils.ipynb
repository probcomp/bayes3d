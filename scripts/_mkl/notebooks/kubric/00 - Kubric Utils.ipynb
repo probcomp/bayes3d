{
 "cells": [
  {
   "cell_type": "markdown",
   "metadata": {},
   "source": [
    "# Kubric Utils"
   ]
  },
  {
   "cell_type": "code",
   "execution_count": 1,
   "metadata": {},
   "outputs": [
    {
     "name": "stderr",
     "output_type": "stream",
     "text": [
      "pybullet build time: Mar 26 2022 03:01:35\n",
      "/usr/local/lib/python3.9/dist-packages/tqdm/auto.py:22: TqdmWarning: IProgress not found. Please update jupyter and ipywidgets. See https://ipywidgets.readthedocs.io/en/stable/user_install.html\n",
      "  from .autonotebook import tqdm as notebook_tqdm\n"
     ]
    }
   ],
   "source": [
    "import logging\n",
    "\n",
    "import bpy\n",
    "import kubric as kb\n",
    "from kubric.simulator import PyBullet\n",
    "from kubric.renderer import Blender\n",
    "import numpy as np"
   ]
  },
  {
   "cell_type": "code",
   "execution_count": null,
   "metadata": {},
   "outputs": [],
   "source": [
    "# Copyright 2023 The Kubric Authors.\n",
    "#\n",
    "# Licensed under the Apache License, Version 2.0 (the \"License\");\n",
    "# you may not use this file except in compliance with the License.\n",
    "# You may obtain a copy of the License at\n",
    "#\n",
    "#     http://www.apache.org/licenses/LICENSE-2.0\n",
    "#\n",
    "# Unless required by applicable law or agreed to in writing, software\n",
    "# distributed under the License is distributed on an \"AS IS\" BASIS,\n",
    "# WITHOUT WARRANTIES OR CONDITIONS OF ANY KIND, either express or implied.\n",
    "# See the License for the specific language governing permissions and\n",
    "# limitations under the License.\n",
    "\n",
    "# This method is from the Kubric repo: \n",
    "#  > kubricchallenges/movi/movi_c_worker.py\n",
    "def get_linear_camera_motion_start_end(\n",
    "    movement_speed: float,\n",
    "    inner_radius: float = 8.,\n",
    "    outer_radius: float = 12.,\n",
    "    z_offset: float = 0.1,\n",
    "):\n",
    "  \"\"\"Sample a linear path which starts and ends within a half-sphere shell.\"\"\"\n",
    "  while True:\n",
    "    camera_start = np.array(kb.sample_point_in_half_sphere_shell(inner_radius,\n",
    "                                                                 outer_radius,\n",
    "                                                                 z_offset))\n",
    "    direction = rng.rand(3) - 0.5\n",
    "    movement = direction / np.linalg.norm(direction) * movement_speed\n",
    "    camera_end = camera_start + movement\n",
    "    if (inner_radius <= np.linalg.norm(camera_end) <= outer_radius and\n",
    "        camera_end[2] > z_offset):\n",
    "      return camera_start, camera_end\n",
    "\n"
   ]
  },
  {
   "cell_type": "code",
   "execution_count": null,
   "metadata": {},
   "outputs": [],
   "source": [
    "# Kubric works with \"normalized\" image coordinates $u,v \\in [0,1]$\n",
    "# The intrinsic matrix is given by\n",
    "# ```\n",
    "#       K =[[f/W   0  -0.5 ]\n",
    "#           [ 0  -f/H -0.5 ]\n",
    "#           [ 0    0  -1.0 ]]\n",
    "# ```\n",
    "# where W,H are the sensor width and height and f is the focal length. \n",
    "# Image coordinates (u,v) and Camera coordinates (x,y,z) are related as follows:\n",
    "# ```\n",
    "#       -z  * (u,v,1)^T =  K * (x,y,z)^T\n",
    "# ```\n",
    "# ...\n",
    "# > https://github.com/google-research/kubric/blob/main/kubric/core/cameras.py#L23\n",
    "def z_to_xyz(z, img_shape, K):\n",
    "    h, w, _ = z.shape[-3:] \n",
    "    uv  = np.stack(np.meshgrid(np.linspace(1,0, w), np.linspace(0,1, h), indexing=\"ij\"), axis=0)\n",
    "    uv1 = np.concatenate([uv, np.ones((1,w,h))], axis=0)\n",
    "    z   = data_stack[\"depth\"][t].T\n",
    "    xyz = np.linalg.inv(K)@(-z*uv1).reshape(3,-1)\n",
    "    return xyz.reshape(3,w,h).T"
   ]
  }
 ],
 "metadata": {
  "kernelspec": {
   "display_name": "Python 3",
   "language": "python",
   "name": "python3"
  },
  "language_info": {
   "codemirror_mode": {
    "name": "ipython",
    "version": 3
   },
   "file_extension": ".py",
   "mimetype": "text/x-python",
   "name": "python",
   "nbconvert_exporter": "python",
   "pygments_lexer": "ipython3",
   "version": "3.9.5"
  }
 },
 "nbformat": 4,
 "nbformat_minor": 2
}
