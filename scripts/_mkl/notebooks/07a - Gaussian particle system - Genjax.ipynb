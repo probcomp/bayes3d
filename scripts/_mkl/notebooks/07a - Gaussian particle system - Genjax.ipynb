{
 "cells": [
  {
   "cell_type": "code",
   "execution_count": 2,
   "metadata": {},
   "outputs": [],
   "source": [
    "%load_ext autoreload\n",
    "%autoreload 2"
   ]
  },
  {
   "cell_type": "code",
   "execution_count": 3,
   "metadata": {},
   "outputs": [],
   "source": [
    "#|default_exp gaussian_particle_system_genjax"
   ]
  },
  {
   "cell_type": "code",
   "execution_count": 4,
   "metadata": {},
   "outputs": [
    {
     "name": "stdout",
     "output_type": "stream",
     "text": [
      "GenJAX not installed. Importing bayes3d without genjax dependencies.\n"
     ]
    }
   ],
   "source": [
    "#|export\n",
    "import bayes3d as b3d\n",
    "import trimesh\n",
    "import os\n",
    "from bayes3d._mkl.utils import *\n",
    "import matplotlib.pyplot as plt\n",
    "import numpy as np\n",
    "import jax\n",
    "from jax import jit, vmap\n",
    "import jax.numpy as jnp\n",
    "from jax.scipy.spatial.transform import Rotation as Rot\n",
    "from functools import partial\n",
    "import genjax\n",
    "from bayes3d.camera import Intrinsics, K_from_intrinsics, camera_rays_from_intrinsics\n",
    "from bayes3d.transforms_3d import transform_from_pos_target_up, add_homogenous_ones, unproject_depth\n",
    "import tensorflow_probability as tfp\n",
    "from tensorflow_probability.substrates.jax.math import lambertw\n",
    "\n",
    "\n",
    "normal_cdf    = jax.scipy.stats.norm.cdf\n",
    "normal_pdf    = jax.scipy.stats.norm.pdf\n",
    "normal_logpdf = jax.scipy.stats.norm.logpdf\n",
    "inv = jnp.linalg.inv\n",
    "concat = jnp.concatenate\n",
    "\n",
    "key = jax.random.PRNGKey(0)"
   ]
  },
  {
   "cell_type": "code",
   "execution_count": 5,
   "metadata": {},
   "outputs": [],
   "source": [
    "#|export\n",
    "from typing import Any, NamedTuple\n",
    "import numpy as np\n",
    "import jax\n",
    "import jaxlib\n",
    "\n",
    "Array = np.ndarray | jax.Array\n",
    "Shape = int | tuple[int, ...]\n",
    "Bool = Array\n",
    "Float = Array\n",
    "Int = Array\n",
    "\n",
    "Pose = tuple[jnp.ndarray, jnp.ndarray]\n",
    "\n",
    "\n",
    "class Pose(NamedTuple):\n",
    "    quat: jnp.ndarray\n",
    "    position: jnp.ndarray"
   ]
  },
  {
   "cell_type": "code",
   "execution_count": 6,
   "metadata": {},
   "outputs": [],
   "source": [
    "def logit(x):\n",
    "    return jnp.log(x/(1-x))\n",
    "\n",
    "    \n",
    "def pack_homogenous_matrix(x,q):\n",
    "    r = Rot.from_quat(q).as_matrix()\n",
    "    return concat([concat([r, x.reshape(-1,1)], axis=-1), jnp.array([[0.,0.,0.,1.]])])\n"
   ]
  },
  {
   "cell_type": "code",
   "execution_count": 7,
   "metadata": {},
   "outputs": [],
   "source": [
    "@genjax.Static\n",
    "def motion_model():\n",
    "    q = genjax.normal(jnp.zeros(4), jnp.ones(4)) @ \"q\"\n",
    "    q = q.at[3].set(1.0)\n",
    "    q = q/jnp.linalg.norm(q)\n",
    "    x = genjax.normal(jnp.zeros(3), jnp.ones(3)) @ \"x\"\n",
    "    return pack_homogenous_matrix(x,q)\n",
    "\n",
    "\n",
    "@genjax.Static\n",
    "def coordinate_frame_prior(Q):\n",
    "    q = genjax.normal(jnp.zeros(4), jnp.ones(4)) @ \"q\"\n",
    "    q = q.at[3].set(1.0)\n",
    "    q = q/jnp.linalg.norm(q)\n",
    "    x = genjax.normal(jnp.zeros(3), jnp.ones(3)) @ \"x\"\n",
    "    return Q@pack_homogenous_matrix(x,q)"
   ]
  },
  {
   "cell_type": "code",
   "execution_count": 8,
   "metadata": {},
   "outputs": [
    {
     "name": "stdout",
     "output_type": "stream",
     "text": [
      "[[-0.21356526 -0.22192055 -0.9513892  -1.8099072 ]\n",
      " [ 0.97607225 -0.00769535 -0.217311    0.40000528]\n",
      " [ 0.04090449 -0.9750345   0.21825388 -0.88583   ]\n",
      " [ 0.          0.          0.          1.        ]]\n",
      "[[-0.20991647  0.9767395   0.04376509 -0.6693742 ]\n",
      " [-0.22485533 -0.00466556 -0.97438127 -1.1771727 ]\n",
      " [-0.9515123  -0.21437937  0.22060438 -1.5432181 ]\n",
      " [ 0.          0.          0.          1.        ]]\n"
     ]
    }
   ],
   "source": [
    "key = keysplit(key)\n",
    "tr = motion_model.simulate(key,())\n",
    "Q = tr.retval\n",
    "print(Q)\n",
    "tr = coordinate_frame_prior.simulate(key,(Q,))\n",
    "print(tr.retval)"
   ]
  },
  {
   "cell_type": "code",
   "execution_count": 9,
   "metadata": {},
   "outputs": [],
   "source": [
    "class GaussianParticleSystem(NamedTuple):\n",
    "    mus: Array\n",
    "    covariances: Array\n",
    "    colors: Array\n",
    "\n",
    "class HierachicalGaussianParticleSystem(NamedTuple):\n",
    "    particles:  GaussianParticleSystem\n",
    "    coordinate_frames: Array\n",
    "    assignments: Array\n",
    "    max_systems: Array"
   ]
  },
  {
   "cell_type": "code",
   "execution_count": 10,
   "metadata": {},
   "outputs": [
    {
     "data": {
      "text/plain": [
       "(10, 4, 4)"
      ]
     },
     "execution_count": 10,
     "metadata": {},
     "output_type": "execute_result"
    }
   ],
   "source": [
    "banana = jnp.load(\"data/gaussians_examples/gaussians_banana_150.npz\")\n",
    "scissors = jnp.load(\"data/gaussians_examples/gaussians_scissors_550.npz\")\n",
    "\n",
    "mus  = concat([banana[\"mus\"],scissors[\"mus\"]])\n",
    "covs = concat([banana[\"covs\"],scissors[\"covs\"]])\n",
    "embs = concat([banana[\"choleskys\"],scissors[\"choleskys\"]])\n",
    "cols = concat([banana[\"mean_colors\"],scissors[\"mean_colors\"]])\n",
    "# zs   = concat([jnp.zeros(150),jnp.ones(550)])\n",
    "zs = jnp.zeros(mus.shape[0])\n",
    "\n",
    "Qs = jnp.tile(jnp.eye(4,4), (10,1,1))\n",
    "Qs.shape"
   ]
  },
  {
   "cell_type": "code",
   "execution_count": 11,
   "metadata": {},
   "outputs": [],
   "source": [
    "hgps = HierachicalGaussianParticleSystem(\n",
    "    particles = GaussianParticleSystem(mus, covs, cols),\n",
    "    coordinate_frames=Qs,\n",
    "    assignments=zs,\n",
    "    max_systems= jnp.array([10])\n",
    ")"
   ]
  },
  {
   "cell_type": "code",
   "execution_count": 12,
   "metadata": {},
   "outputs": [],
   "source": [
    "@genjax.Static\n",
    "def constant_model(x):\n",
    "    _ = genjax.bernoulli(jnp.inf) @ \"void\"\n",
    "    return x"
   ]
  },
  {
   "cell_type": "code",
   "execution_count": null,
   "metadata": {},
   "outputs": [],
   "source": [
    "def make_split_model(max_cluster):\n",
    "\n",
    "    @genjax.Static\n",
    "    def split_model(zs: \"Cluster Assignments\", \n",
    "                    Qs: \"Cluster Poses\", \n",
    "                    split_probs: \"Cluster Split Probabilities\"):\n",
    "        \"\"\"Splits clusters and migrates particles to new clusters.\"\"\"\n",
    "\n",
    "        slots_taken = jnp.isin(jnp.arange(max_clusters), zs)\n",
    "        slots_free  = slots_taken == False\n",
    "        free_ids    = jnp.nonzero(slots_free , size=max_clusters, fill_value=-1)[0]\n",
    "\n",
    "        # -----------------------\n",
    "        # Split clusters\n",
    "        # -----------------------\n",
    "        # TODO: genjax's masked combinator?\n",
    "        # TODO: Make sure enough free ids are available !!!  \n",
    "        split_probs *= slots_taken\n",
    "        split_decisions = genjax.bernoulli(\n",
    "                            logit(split_probs)) @ \"split_decisions\"\n",
    "\n",
    "        # The first sum(split_decisions) indices contain the \n",
    "        # ids of clusters that spun out new clusters\n",
    "        split_ids = jnp.nonzero(split_decisions, size=max_clusters, fill_value=-1)[0]\n",
    "        cluster_splits = jnp.arange(max_clusters+1).at[split_ids].set(free_ids)[:-1]\n",
    "\n",
    "        # ----------------------------------------------------\n",
    "        # Migrate particles from old clusters to new clusters\n",
    "        # ----------------------------------------------------\n",
    "        migration_probs = jnp.where(zs == cluster_splits[zs], logit(0.0), logit(0.5))\n",
    "        migration_decisions = genjax.Map(genjax.bernoulli, in_axes=(0,))(\n",
    "                                migration_probs) @ \"migration_decisions\"\n",
    "\n",
    "        zs_new = jnp.where(migration_decisions, cluster_splits[zs], zs)\n",
    "\n",
    "        # -----------------------\n",
    "        # Poses for new clusters\n",
    "        # -----------------------\n",
    "        # TODO: genjax's masked combinator?\n",
    "        switcher = genjax.Switch(constant_model, coordinate_frame_prior)\n",
    "        Q_spinoff = genjax.Map(switcher, in_axes=(0,0))(\n",
    "                            split_decisions.astype(jnp.int32), Qs) @ \"split_poses\"\n",
    "                            \n",
    "        cluster_destination = cluster_splits[split_ids]\n",
    "        Qs_new = Qs.at[cluster_destination].set(\n",
    "            jnp.where((split_ids != -1)[:,None,None], Q_spinoff, Qs)[split_ids]\n",
    "        )\n",
    "\n",
    "        return zs_new, Qs_new, (split_probs, slots_taken, split_decisions)\n",
    "\n",
    "    return split_model\n",
    "\n",
    "\n",
    "\n",
    "\n",
    "\n",
    "key = keysplit(key)\n",
    "max_clusters  = 20\n",
    "num_particles = 100\n",
    "zs = jnp.zeros(num_particles).astype(jnp.int32)\n",
    "zs = zs.at[:50].set(1)\n",
    "Qs = jnp.tile(jnp.eye(4,4), (max_clusters,1,1))\n",
    "split_probs = jnp.ones(max_clusters)*0.5\n",
    "\n",
    "model = make_split_model(max_clusters)\n",
    "tr = model.simulate(key, (zs, Qs, split_probs))\n",
    "tr.strip()"
   ]
  },
  {
   "cell_type": "code",
   "execution_count": 78,
   "metadata": {},
   "outputs": [
    {
     "name": "stdout",
     "output_type": "stream",
     "text": [
      "1\n"
     ]
    },
    {
     "data": {
      "text/plain": [
       "[<matplotlib.lines.Line2D at 0x7fc45111f250>]"
      ]
     },
     "execution_count": 78,
     "metadata": {},
     "output_type": "execute_result"
    },
    {
     "data": {
      "image/png": "[encoded data removed]",
      "text/plain": [
       "<Figure size 640x480 with 1 Axes>"
      ]
     },
     "metadata": {},
     "output_type": "display_data"
    }
   ],
   "source": [
    "zs_, Qs_, (split_probs, slots_taken, split_decisions) = tr.retval\n",
    "\n",
    "\n",
    "print(split_decisions.sum())\n",
    "plt.plot(zs, marker=\"o\")\n",
    "plt.plot(zs_, marker=\"o\")\n"
   ]
  },
  {
   "cell_type": "code",
   "execution_count": null,
   "metadata": {},
   "outputs": [],
   "source": []
  }
 ],
 "metadata": {
  "kernelspec": {
   "display_name": "dcolmap",
   "language": "python",
   "name": "python3"
  },
  "language_info": {
   "codemirror_mode": {
    "name": "ipython",
    "version": 3
   },
   "file_extension": ".py",
   "mimetype": "text/x-python",
   "name": "python",
   "nbconvert_exporter": "python",
   "pygments_lexer": "ipython3",
   "version": "3.11.6"
  }
 },
 "nbformat": 4,
 "nbformat_minor": 2
}
