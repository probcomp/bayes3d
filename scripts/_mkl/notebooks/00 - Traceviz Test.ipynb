{
 "cells": [
  {
   "cell_type": "code",
   "execution_count": 1,
   "metadata": {},
   "outputs": [],
   "source": [
    "import traceviz.client\n",
    "import numpy as np\n",
    "from traceviz.proto import  viz_pb2\n",
    "import json\n",
    "# ---\n",
    "from bayes3d._mkl.utils import keysplit\n",
    "import os\n",
    "import matplotlib.pyplot as plt\n",
    "import numpy as np\n",
    "import jax\n",
    "from jax import jit, vmap\n",
    "import jax.numpy as jnp\n",
    "\n",
    "key = jax.random.PRNGKey(0)"
   ]
  },
  {
   "cell_type": "markdown",
   "metadata": {},
   "source": [
    "## Spheres"
   ]
  },
  {
   "cell_type": "code",
   "execution_count": 119,
   "metadata": {},
   "outputs": [
    {
     "data": {
      "text/plain": [
       "((100, 100, 3), (100, 100, 4))"
      ]
     },
     "execution_count": 119,
     "metadata": {},
     "output_type": "execute_result"
    }
   ],
   "source": [
    "t = 100\n",
    "n = 100\n",
    "key, keys = keysplit(key, 1, 3)\n",
    "x0 = jax.random.normal(keys[0], (1,n,3))\n",
    "xs = x0 + jnp.cumsum(0.03*jax.random.uniform(keys[0], (t,n,3)), axis=0)\n",
    "cs = jnp.tile( jax.random.uniform(keys[1], (n,4)), (t,1,1))\n",
    "ss = 0.1*jnp.tile( jax.random.uniform(keys[2], (n,4)), (t,1,1))\n",
    "\n",
    "xs.shape, cs.shape"
   ]
  },
  {
   "cell_type": "code",
   "execution_count": 120,
   "metadata": {},
   "outputs": [
    {
     "name": "stdout",
     "output_type": "stream",
     "text": [
      "response:  listener_identifiers: \"2023-11-30T16:28:31.217097 :: ipv4:127.0.0.1:36214\"\n",
      "\n",
      "response:  listener_identifiers: \"2023-11-30T16:28:31.217097 :: ipv4:127.0.0.1:36214\"\n",
      "\n"
     ]
    }
   ],
   "source": [
    "msg = viz_pb2.Message()\n",
    "msg.payload.json = json.dumps({\"type\": \"setup\"})\n",
    "msg.payload.data.MergeFrom(traceviz.client.to_pytree_msg([]))\n",
    "stub = traceviz.client.connect()\n",
    "print('response: ', stub.Broadcast(msg))\n",
    "msg = viz_pb2.Message()\n",
    "msg.payload.json = json.dumps({\"type\": \"animated spheres\"})\n",
    "msg.payload.data.MergeFrom(traceviz.client.to_pytree_msg({\n",
    "        'centers': np.array(xs), \n",
    "        'colors':  np.array(cs),\n",
    "        'scales':  np.array(ss)\n",
    "}))\n",
    "stub = traceviz.client.connect()\n",
    "print('response: ', stub.Broadcast(msg))"
   ]
  },
  {
   "cell_type": "markdown",
   "metadata": {},
   "source": [
    "## I Phone video data"
   ]
  },
  {
   "cell_type": "code",
   "execution_count": 157,
   "metadata": {},
   "outputs": [
    {
     "data": {
      "text/plain": [
       "(56,\n",
       " 49152,\n",
       " (56, 256, 192),\n",
       " (56, 960, 720, 3),\n",
       " (56, 256, 192, 3),\n",
       " (56, 256, 192, 4))"
      ]
     },
     "execution_count": 157,
     "metadata": {},
     "output_type": "execute_result"
    }
   ],
   "source": [
    "import bayes3d\n",
    "\n",
    "\n",
    "data = np.load(\"data/ramen.npz\")\n",
    "depths = data[\"depths\"]\n",
    "colors= data[\"colors\"]\n",
    "\n",
    "intrinsics = bayes3d.Intrinsics(*data[\"intrinsics\"])\n",
    "\n",
    "xs = np.array([bayes3d.transforms_3d.unproject_depth(depths[i], intrinsics) for i in range(len(colors))])\n",
    "cs = np.array([bayes3d.utils.resize(colors[i], int(intrinsics.height), int(intrinsics.width)) for i in range(len(colors))])\n",
    "cs = np.concatenate([cs, np.ones((*cs.shape[:3], 1))], axis=-1)/255\n",
    "ss = np.ones(xs.shape[:3] + (1,))\n",
    "\n",
    "xs[:, :, :, 1] *= -1\n",
    "\n",
    "T = xs.shape[0]\n",
    "N = xs.shape[1]*xs.shape[2] \n",
    "T, N, depths.shape, colors.shape, xs.shape, cs.shape"
   ]
  },
  {
   "cell_type": "code",
   "execution_count": 153,
   "metadata": {},
   "outputs": [],
   "source": [
    "xs = xs - np.mean(xs, axis=(0,1,2))"
   ]
  },
  {
   "cell_type": "code",
   "execution_count": 160,
   "metadata": {},
   "outputs": [
    {
     "name": "stdout",
     "output_type": "stream",
     "text": [
      "response:  listener_identifiers: \"2023-11-30T16:54:34.639417 :: ipv4:127.0.0.1:57890\"\n",
      "\n",
      "response:  listener_identifiers: \"2023-11-30T16:54:34.639417 :: ipv4:127.0.0.1:57890\"\n",
      "\n"
     ]
    }
   ],
   "source": [
    "k = -1\n",
    "msg = viz_pb2.Message()\n",
    "msg.payload.json = json.dumps({\"type\": \"setup\"})\n",
    "msg.payload.data.MergeFrom(traceviz.client.to_pytree_msg([]))\n",
    "stub = traceviz.client.connect()\n",
    "print('response: ', stub.Broadcast(msg))\n",
    "msg = viz_pb2.Message()\n",
    "msg.payload.json = json.dumps({\"type\": \"spheres\"})\n",
    "msg.payload.data.MergeFrom(traceviz.client.to_pytree_msg({\n",
    "        'centers': xs.reshape(T,N,3)[0,:k], \n",
    "        'colors':  cs.reshape(T,N,4)[0,:k], \n",
    "        'scales':  0.001*ss.reshape(T,N,1)[0,:k], \n",
    "}))\n",
    "stub = traceviz.client.connect()\n",
    "print('response: ', stub.Broadcast(msg))"
   ]
  },
  {
   "cell_type": "code",
   "execution_count": null,
   "metadata": {},
   "outputs": [],
   "source": []
  },
  {
   "cell_type": "code",
   "execution_count": 161,
   "metadata": {},
   "outputs": [
    {
     "name": "stdout",
     "output_type": "stream",
     "text": [
      "response:  listener_identifiers: \"2023-11-30T16:54:34.639417 :: ipv4:127.0.0.1:57890\"\n",
      "\n",
      "response:  listener_identifiers: \"2023-11-30T16:54:34.639417 :: ipv4:127.0.0.1:57890\"\n",
      "\n"
     ]
    }
   ],
   "source": [
    "k = -1\n",
    "msg = viz_pb2.Message()\n",
    "msg.payload.json = json.dumps({\"type\": \"setup\"})\n",
    "msg.payload.data.MergeFrom(traceviz.client.to_pytree_msg([]))\n",
    "stub = traceviz.client.connect()\n",
    "print('response: ', stub.Broadcast(msg))\n",
    "msg = viz_pb2.Message()\n",
    "msg.payload.json = json.dumps({\"type\": \"animated spheres\"})\n",
    "msg.payload.data.MergeFrom(traceviz.client.to_pytree_msg({\n",
    "        'centers': xs.reshape(T,N,3)[:,:k], \n",
    "        'colors':  cs.reshape(T,N,4)[:,:k], \n",
    "        'scales':  0.001*ss.reshape(T,N,1)[:,:k], \n",
    "}))\n",
    "stub = traceviz.client.connect()\n",
    "print('response: ', stub.Broadcast(msg))"
   ]
  },
  {
   "cell_type": "code",
   "execution_count": null,
   "metadata": {},
   "outputs": [],
   "source": [
    "msg = viz_pb2.Message()\n",
    "msg.payload.json = json.dumps({\"type\": \"setup\"})\n",
    "msg.payload.data.MergeFrom(traceviz.client.to_pytree_msg({\n",
    "    \"test\": \"I am a test string\"\n",
    "}))\n",
    "stub = traceviz.client.connect()\n",
    "print('response: ', stub.Broadcast(msg))\n",
    "msg = viz_pb2.Message()\n",
    "msg.payload.json = json.dumps({\"type\": \"animated gaussians\"})\n",
    "msg.payload.data.MergeFrom(traceviz.client.to_pytree_msg({\n",
    "        'transforms': np.array(transforms[:]), \n",
    "        'colors':  np.array(cs[:])\n",
    "}))\n",
    "stub = traceviz.client.connect()\n",
    "print('response: ', stub.Broadcast(msg))"
   ]
  },
  {
   "cell_type": "code",
   "execution_count": 53,
   "metadata": {},
   "outputs": [
    {
     "data": {
      "text/plain": [
       "((100, 100, 4, 4), (100, 100, 3, 3))"
      ]
     },
     "execution_count": 53,
     "metadata": {},
     "output_type": "execute_result"
    }
   ],
   "source": [
    "from bayes3d._mkl.trimesh_to_gaussians import pack_transform, ellipsoid_embedding\n",
    "\n",
    "t = 100\n",
    "n = 100\n",
    "key, keys = keysplit(key, 1, 3)\n",
    "x0 = jax.random.normal(keys[0], (1,n,3))\n",
    "xs = x0 + jnp.cumsum(0.03*jax.random.uniform(keys[0], (t,n,3)), axis=0)\n",
    "cs = jnp.tile( jax.random.uniform(keys[1], (n,4)), (t,1,1))\n",
    "ss = 0.1*jnp.tile( jax.random.uniform(keys[2], (n,4)), (t,1,1))\n",
    "\n",
    "\n",
    "choleskys = jax.random.normal(key, (n,3,3))\n",
    "choleskys = jnp.tile(choleskys, (t,1,1,1))\n",
    "transforms = vmap(pack_transform, (0,0,None))(xs.reshape(-1,3), choleskys.reshape(-1,3,3), 0.26)\n",
    "transforms = transforms.reshape(t,n,4,4)\n",
    "transforms.shape, choleskys.shape"
   ]
  },
  {
   "cell_type": "code",
   "execution_count": 58,
   "metadata": {},
   "outputs": [
    {
     "ename": "ValueError",
     "evalue": "Unhandled pytree input type: <class 'str'>. Value:\nI am a test string",
     "output_type": "error",
     "traceback": [
      "\u001b[0;31m---------------------------------------------------------------------------\u001b[0m",
      "\u001b[0;31mValueError\u001b[0m                                Traceback (most recent call last)",
      "\u001b[1;32m/home/mirko/workspace/bayes3d/scripts/_mkl/notebooks/00 - Traceviz Test.ipynb Cell 9\u001b[0m line \u001b[0;36m3\n\u001b[1;32m      <a href='vscode-notebook-cell://ssh-remote%2Bchi-sight-instance-1.us-west1-b.chi-sight-mkl/home/mirko/workspace/bayes3d/scripts/_mkl/notebooks/00%20-%20Traceviz%20Test.ipynb#W4sdnNjb2RlLXJlbW90ZQ%3D%3D?line=0'>1</a>\u001b[0m msg \u001b[39m=\u001b[39m viz_pb2\u001b[39m.\u001b[39mMessage()\n\u001b[1;32m      <a href='vscode-notebook-cell://ssh-remote%2Bchi-sight-instance-1.us-west1-b.chi-sight-mkl/home/mirko/workspace/bayes3d/scripts/_mkl/notebooks/00%20-%20Traceviz%20Test.ipynb#W4sdnNjb2RlLXJlbW90ZQ%3D%3D?line=1'>2</a>\u001b[0m msg\u001b[39m.\u001b[39mpayload\u001b[39m.\u001b[39mjson \u001b[39m=\u001b[39m json\u001b[39m.\u001b[39mdumps({\u001b[39m\"\u001b[39m\u001b[39mtype\u001b[39m\u001b[39m\"\u001b[39m: \u001b[39m\"\u001b[39m\u001b[39msetup\u001b[39m\u001b[39m\"\u001b[39m})\n\u001b[0;32m----> <a href='vscode-notebook-cell://ssh-remote%2Bchi-sight-instance-1.us-west1-b.chi-sight-mkl/home/mirko/workspace/bayes3d/scripts/_mkl/notebooks/00%20-%20Traceviz%20Test.ipynb#W4sdnNjb2RlLXJlbW90ZQ%3D%3D?line=2'>3</a>\u001b[0m msg\u001b[39m.\u001b[39mpayload\u001b[39m.\u001b[39mdata\u001b[39m.\u001b[39mMergeFrom(traceviz\u001b[39m.\u001b[39mclient\u001b[39m.\u001b[39mto_pytree_msg({\n\u001b[1;32m      <a href='vscode-notebook-cell://ssh-remote%2Bchi-sight-instance-1.us-west1-b.chi-sight-mkl/home/mirko/workspace/bayes3d/scripts/_mkl/notebooks/00%20-%20Traceviz%20Test.ipynb#W4sdnNjb2RlLXJlbW90ZQ%3D%3D?line=3'>4</a>\u001b[0m     \u001b[39m\"\u001b[39m\u001b[39mtest\u001b[39m\u001b[39m\"\u001b[39m: \u001b[39m\"\u001b[39m\u001b[39mI am a test string\u001b[39m\u001b[39m\"\u001b[39m\n\u001b[1;32m      <a href='vscode-notebook-cell://ssh-remote%2Bchi-sight-instance-1.us-west1-b.chi-sight-mkl/home/mirko/workspace/bayes3d/scripts/_mkl/notebooks/00%20-%20Traceviz%20Test.ipynb#W4sdnNjb2RlLXJlbW90ZQ%3D%3D?line=4'>5</a>\u001b[0m }))\n\u001b[1;32m      <a href='vscode-notebook-cell://ssh-remote%2Bchi-sight-instance-1.us-west1-b.chi-sight-mkl/home/mirko/workspace/bayes3d/scripts/_mkl/notebooks/00%20-%20Traceviz%20Test.ipynb#W4sdnNjb2RlLXJlbW90ZQ%3D%3D?line=5'>6</a>\u001b[0m stub \u001b[39m=\u001b[39m traceviz\u001b[39m.\u001b[39mclient\u001b[39m.\u001b[39mconnect()\n\u001b[1;32m      <a href='vscode-notebook-cell://ssh-remote%2Bchi-sight-instance-1.us-west1-b.chi-sight-mkl/home/mirko/workspace/bayes3d/scripts/_mkl/notebooks/00%20-%20Traceviz%20Test.ipynb#W4sdnNjb2RlLXJlbW90ZQ%3D%3D?line=6'>7</a>\u001b[0m \u001b[39mprint\u001b[39m(\u001b[39m'\u001b[39m\u001b[39mresponse: \u001b[39m\u001b[39m'\u001b[39m, stub\u001b[39m.\u001b[39mBroadcast(msg))\n",
      "File \u001b[0;32m~/workspace/traceviz/src/traceviz/client.py:64\u001b[0m, in \u001b[0;36mto_pytree_msg\u001b[0;34m(pytree)\u001b[0m\n\u001b[1;32m     61\u001b[0m     \u001b[39mraise\u001b[39;00m \u001b[39mValueError\u001b[39;00m(\u001b[39mf\u001b[39m\u001b[39m'\u001b[39m\u001b[39mUnhandled pytree input type: \u001b[39m\u001b[39m{\u001b[39;00m\u001b[39mtype\u001b[39m(pytree)\u001b[39m}\u001b[39;00m\u001b[39m. \u001b[39m\u001b[39m'\u001b[39m\n\u001b[1;32m     62\u001b[0m                      \u001b[39mf\u001b[39m\u001b[39m'\u001b[39m\u001b[39mValue:\u001b[39m\u001b[39m\\n\u001b[39;00m\u001b[39m{\u001b[39;00mpytree\u001b[39m}\u001b[39;00m\u001b[39m'\u001b[39m)\n\u001b[1;32m     63\u001b[0m   \u001b[39mreturn\u001b[39;00m result\n\u001b[0;32m---> 64\u001b[0m \u001b[39mreturn\u001b[39;00m _rec(pytree)\n",
      "File \u001b[0;32m~/workspace/traceviz/src/traceviz/client.py:43\u001b[0m, in \u001b[0;36mto_pytree_msg.<locals>._rec\u001b[0;34m(pytree)\u001b[0m\n\u001b[1;32m     41\u001b[0m \u001b[39mif\u001b[39;00m \u001b[39misinstance\u001b[39m(pytree, \u001b[39mdict\u001b[39m):\n\u001b[1;32m     42\u001b[0m   \u001b[39mfor\u001b[39;00m f, v \u001b[39min\u001b[39;00m pytree\u001b[39m.\u001b[39mitems():\n\u001b[0;32m---> 43\u001b[0m     result\u001b[39m.\u001b[39mmap\u001b[39m.\u001b[39mdata[f]\u001b[39m.\u001b[39mCopyFrom(_rec(v))\n\u001b[1;32m     44\u001b[0m \u001b[39melif\u001b[39;00m _isnamedtuple(pytree):\n\u001b[1;32m     45\u001b[0m   \u001b[39mfor\u001b[39;00m f, v \u001b[39min\u001b[39;00m \u001b[39mzip\u001b[39m(pytree\u001b[39m.\u001b[39m_fields, pytree\u001b[39m.\u001b[39mvalues):\n",
      "File \u001b[0;32m~/workspace/traceviz/src/traceviz/client.py:61\u001b[0m, in \u001b[0;36mto_pytree_msg.<locals>._rec\u001b[0;34m(pytree)\u001b[0m\n\u001b[1;32m     59\u001b[0m   _get_data_list(result\u001b[39m.\u001b[39marray)\u001b[39m.\u001b[39mdata\u001b[39m.\u001b[39mextend(pytree\u001b[39m.\u001b[39mflatten()\u001b[39m.\u001b[39mtolist())\n\u001b[1;32m     60\u001b[0m \u001b[39melse\u001b[39;00m:\n\u001b[0;32m---> 61\u001b[0m   \u001b[39mraise\u001b[39;00m \u001b[39mValueError\u001b[39;00m(\u001b[39mf\u001b[39m\u001b[39m'\u001b[39m\u001b[39mUnhandled pytree input type: \u001b[39m\u001b[39m{\u001b[39;00m\u001b[39mtype\u001b[39m(pytree)\u001b[39m}\u001b[39;00m\u001b[39m. \u001b[39m\u001b[39m'\u001b[39m\n\u001b[1;32m     62\u001b[0m                    \u001b[39mf\u001b[39m\u001b[39m'\u001b[39m\u001b[39mValue:\u001b[39m\u001b[39m\\n\u001b[39;00m\u001b[39m{\u001b[39;00mpytree\u001b[39m}\u001b[39;00m\u001b[39m'\u001b[39m)\n\u001b[1;32m     63\u001b[0m \u001b[39mreturn\u001b[39;00m result\n",
      "\u001b[0;31mValueError\u001b[0m: Unhandled pytree input type: <class 'str'>. Value:\nI am a test string"
     ]
    }
   ],
   "source": [
    "msg = viz_pb2.Message()\n",
    "msg.payload.json = json.dumps({\"type\": \"setup\"})\n",
    "msg.payload.data.MergeFrom(traceviz.client.to_pytree_msg({\n",
    "    \"test\": \"I am a test string\"\n",
    "}))\n",
    "stub = traceviz.client.connect()\n",
    "print('response: ', stub.Broadcast(msg))\n",
    "msg = viz_pb2.Message()\n",
    "msg.payload.json = json.dumps({\"type\": \"animated gaussians\"})\n",
    "msg.payload.data.MergeFrom(traceviz.client.to_pytree_msg({\n",
    "        'transforms': np.array(transforms[:]), \n",
    "        'colors':  np.array(cs[:])\n",
    "}))\n",
    "stub = traceviz.client.connect()\n",
    "print('response: ', stub.Broadcast(msg))"
   ]
  },
  {
   "cell_type": "code",
   "execution_count": null,
   "metadata": {},
   "outputs": [],
   "source": []
  }
 ],
 "metadata": {
  "kernelspec": {
   "display_name": "dcolmap",
   "language": "python",
   "name": "python3"
  },
  "language_info": {
   "codemirror_mode": {
    "name": "ipython",
    "version": 3
   },
   "file_extension": ".py",
   "mimetype": "text/x-python",
   "name": "python",
   "nbconvert_exporter": "python",
   "pygments_lexer": "ipython3",
   "version": "3.11.6"
  }
 },
 "nbformat": 4,
 "nbformat_minor": 2
}
