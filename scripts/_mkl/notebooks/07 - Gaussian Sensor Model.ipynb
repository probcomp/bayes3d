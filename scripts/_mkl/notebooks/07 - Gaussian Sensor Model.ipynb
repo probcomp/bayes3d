{
 "cells": [
  {
   "cell_type": "code",
   "execution_count": 1,
   "metadata": {},
   "outputs": [],
   "source": [
    "%load_ext autoreload\n",
    "%autoreload 2"
   ]
  },
  {
   "cell_type": "code",
   "execution_count": 2,
   "metadata": {},
   "outputs": [],
   "source": [
    "#|default_exp gaussian_sensor_model"
   ]
  },
  {
   "cell_type": "markdown",
   "metadata": {},
   "source": [
    "# Gaussian Renderer"
   ]
  },
  {
   "cell_type": "code",
   "execution_count": 3,
   "metadata": {},
   "outputs": [
    {
     "name": "stdout",
     "output_type": "stream",
     "text": [
      "GenJAX not installed. Importing bayes3d without genjax dependencies.\n"
     ]
    }
   ],
   "source": [
    "#|export\n",
    "import bayes3d as b3d\n",
    "import trimesh\n",
    "import os\n",
    "from bayes3d._mkl.utils import *\n",
    "import matplotlib.pyplot as plt\n",
    "import numpy as np\n",
    "import jax\n",
    "from jax import jit, vmap\n",
    "import jax.numpy as jnp\n",
    "from functools import partial\n",
    "from bayes3d.camera import Intrinsics, K_from_intrinsics, camera_rays_from_intrinsics\n",
    "from bayes3d.transforms_3d import transform_from_pos_target_up, add_homogenous_ones, unproject_depth\n",
    "import tensorflow_probability as tfp\n",
    "from tensorflow_probability.substrates.jax.math import lambertw\n",
    "\n",
    "normal_cdf    = jax.scipy.stats.norm.cdf\n",
    "normal_pdf    = jax.scipy.stats.norm.pdf\n",
    "normal_logpdf = jax.scipy.stats.norm.logpdf\n",
    "inv = jnp.linalg.inv\n",
    "\n",
    "key = jax.random.PRNGKey(0)"
   ]
  },
  {
   "cell_type": "code",
   "execution_count": 4,
   "metadata": {},
   "outputs": [],
   "source": [
    "import traceviz.client\n",
    "from traceviz.proto import  viz_pb2\n",
    "import json\n",
    "import inspect\n",
    "from IPython.display import Markdown as md\n",
    "from bayes3d._mkl.plotting import *"
   ]
  },
  {
   "cell_type": "code",
   "execution_count": 5,
   "metadata": {},
   "outputs": [],
   "source": [
    "#|export\n",
    "from bayes3d._mkl.types import *"
   ]
  },
  {
   "cell_type": "code",
   "execution_count": 6,
   "metadata": {},
   "outputs": [],
   "source": [
    "#|export\n",
    "def ellipsoid_embedding(cov:CovarianceMatrix) -> Matrix:\n",
    "    \"\"\"Returns A with cov = A@A.T\"\"\"\n",
    "    sigma, U = jnp.linalg.eigh(cov)\n",
    "    D = jnp.diag(jnp.sqrt(sigma))\n",
    "    return U @ D @ U.T"
   ]
  },
  {
   "cell_type": "code",
   "execution_count": 7,
   "metadata": {},
   "outputs": [],
   "source": [
    "#|export\n",
    "def bilinear(x:Array, y:Array, A:Matrix) -> Float:\n",
    "    return x.T @ A @ y"
   ]
  },
  {
   "cell_type": "code",
   "execution_count": 8,
   "metadata": {},
   "outputs": [],
   "source": [
    "#|export\n",
    "def log_gaussian(x:Vector, mu:Vector, P:PrecisionMatrix) -> Float:\n",
    "    \"\"\"Evaluate an **unnormalized** gaussian at a given point.\"\"\"\n",
    "    return -0.5 * bilinear(x-mu, x-mu, P)\n",
    "\n",
    "\n",
    "def gaussian(x:Vector, mu:Vector, P:PrecisionMatrix) -> Float:\n",
    "    \"\"\"Evaluate an **unnormalized** gaussian at a given point.\"\"\"\n",
    "    return jnp.exp(-0.5 * bilinear(x-mu, x-mu, P))\n",
    "\n",
    "\n",
    "def gaussian_normalizing_constant(P:PrecisionMatrix) -> Float:\n",
    "    \"\"\"Returns the normalizing constant of an unnormalized gaussian.\"\"\"\n",
    "    n = P.shape[0]\n",
    "    return jnp.sqrt(jnp.linalg.det(P)/(2*jnp.pi)**n)"
   ]
  },
  {
   "cell_type": "code",
   "execution_count": 9,
   "metadata": {},
   "outputs": [],
   "source": [
    "#|export\n",
    "def gaussian_restriction_to_ray(loc:Vector, P:PrecisionMatrix, A:CholeskyMatrix, x:Vector, v:Direction):\n",
    "    \"\"\"\n",
    "    Restricts a gaussian to a ray and returns \n",
    "    the mean `mu` and standard deviation `std`, s.t. we have \n",
    "    $$\n",
    "        P(x + t*v | loc, cov) = P(x + mu*v | loc, cov) * N(t | mu, std)\n",
    "    $$\n",
    "    \"\"\"\n",
    "    mu  = bilinear(loc - x, v, P)/bilinear(v, v, P)\n",
    "    std = 1/jnp.linalg.norm(inv(A)@v)\n",
    "    return mu, std"
   ]
  },
  {
   "cell_type": "markdown",
   "metadata": {},
   "source": [
    "## Time of first arrival"
   ]
  },
  {
   "cell_type": "code",
   "execution_count": 10,
   "metadata": {},
   "outputs": [],
   "source": [
    "#|export\n",
    "def discrete_arrival_probabilities(occupancy_probs:Vector):\n",
    "    \"\"\"\n",
    "    Given an vector of `n` occupancy probabilities of neighbouring pixels, \n",
    "    it returns a vector of length `n+1` containing the probabilities of stopping \n",
    "    at a each pixel (while traversing them left to right) or not stopping at all.\n",
    "\n",
    "    The return array is given by:\n",
    "    $$\n",
    "        q_i = p_i \\cdot \\prod_{j=0}^{i-1} (1 - p_j)\n",
    "        \n",
    "    $$\n",
    "    for $i=0,...,n-1$, and\n",
    "    $$\n",
    "        q_n = \\prod_{j=1}^{n-1} (1 - p_j) = 1 - \\sum_{i=0}^{n-1} q_i.\n",
    "    $$\n",
    "\n",
    "    This is basically the discrete version of time of first arrival $X$ for an imhomogenous poisson processes\n",
    "    with rate function $\\sigma(t)$:\n",
    "    $$\n",
    "        X(T) = \\sigma(T)*\\exp(- \\int_0^T \\sigma(t) \\ dt).\n",
    "    $$\n",
    "    \"\"\"\n",
    "    transmittances       = jnp.concatenate([jnp.array([1.0]), jnp.cumprod(1-occupancy_probs)])\n",
    "    extended_occupancies = jnp.concatenate([occupancy_probs, jnp.array([1.0])])\n",
    "    return extended_occupancies * transmittances"
   ]
  },
  {
   "cell_type": "code",
   "execution_count": 11,
   "metadata": {},
   "outputs": [
    {
     "data": {
      "image/png": "[encoded data removed]",
      "text/plain": [
       "<Figure size 300x100 with 1 Axes>"
      ]
     },
     "metadata": {},
     "output_type": "display_data"
    }
   ],
   "source": [
    "key = keysplit(key)\n",
    "occupancy_probs = 0.3*jax.random.uniform(key, (10,))\n",
    "arrival_probs   = discrete_arrival_probabilities(occupancy_probs)\n",
    "\n",
    "assert jnp.isclose(arrival_probs.sum(), 1.0)\n",
    "\n",
    "# =======================\n",
    "plt.figure(figsize=(3,1))\n",
    "plt.plot(jnp.arange(len(occupancy_probs)), occupancy_probs)\n",
    "plt.plot(jnp.arange(len(occupancy_probs)+1), arrival_probs);"
   ]
  },
  {
   "cell_type": "code",
   "execution_count": 12,
   "metadata": {},
   "outputs": [],
   "source": [
    "#|export\n",
    "def gaussian_time_of_arrival(xs, mu, sig, w=1.0):\n",
    "    \"\"\"\n",
    "    Time of first arrival for a **single** weighted 1-dimensional Gaussian, i.e. returns an array of\n",
    "    with entries\n",
    "    $$\n",
    "        Y(T) = w*g(T | \\mu, \\sigma)*\\exp(- \\int_0^T w*g(t | \\mu, \\sigma) \\ dt).\n",
    "    $$\n",
    "    \"\"\"\n",
    "    ys = w*normal_pdf(xs, loc=mu, scale=sig) * jnp.exp(\n",
    "            - w*normal_cdf(xs, loc=mu, scale=sig) \n",
    "            + w*normal_cdf(0.0, loc=mu, scale=sig))\n",
    "    return ys \n",
    "\n",
    "\n",
    "def gaussian_most_likely_time_of_arrival(mu, sig, w=1.):\n",
    "    \"\"\"\n",
    "    Returns the most likely time of first arrival\n",
    "    for a single weighted 1-dimensional Gaussian, i.e. the argmax of \n",
    "    $$\n",
    "        Y(T) = w*g(T | \\mu, \\sigma)*\\exp(- \\int_0^T w*g(t | \\mu, \\sigma) \\ dt).\n",
    "    $$\n",
    "    \"\"\"\n",
    "    # TODO: Check if this is correct, cf. my notes.\n",
    "    Z = jnp.sqrt(lambertw(1/(2*jnp.pi) * w**2))\n",
    "    return mu - Z*sig"
   ]
  },
  {
   "cell_type": "code",
   "execution_count": 13,
   "metadata": {},
   "outputs": [
    {
     "name": "stdout",
     "output_type": "stream",
     "text": [
      "\n",
      "    mu:  7.582\n",
      "    sig: 0.864\n",
      "    w:   0.535  \n",
      "    t:   7.402\n",
      "\n"
     ]
    },
    {
     "data": {
      "image/png": "[encoded data removed]",
      "text/plain": [
       "<Figure size 1000x100 with 1 Axes>"
      ]
     },
     "metadata": {},
     "output_type": "display_data"
    }
   ],
   "source": [
    "key, keys = keysplit(key,1,3)\n",
    "\n",
    "xs = jnp.linspace(0,11,20_000)\n",
    "mu  = jax.random.uniform(keys[0],(), float, 3.0,8.0)\n",
    "sig = jax.random.uniform(keys[1],(), float, 0.1,2.0)\n",
    "w   = jax.random.uniform(keys[2],(), float, 0.1,1.0)\n",
    "t   = gaussian_most_likely_time_of_arrival(mu, sig, w=w)\n",
    "\n",
    "print(f\"\"\"\n",
    "    mu:  {mu:0.3f}\n",
    "    sig: {sig:0.3f}\n",
    "    w:   {w:0.3f}  \n",
    "    t:   {t:0.3f}\n",
    "\"\"\")\n",
    "\n",
    "# =======================\n",
    "plt.figure(figsize=(10,1))\n",
    "plt.gca().spines['right'].set_visible(False)\n",
    "plt.gca().spines['top'].set_visible(False)\n",
    "plt.plot(xs, gaussian_time_of_arrival(xs, mu, sig, w), c=\"C1\", alpha=1., label=\"Time of first Arrival\")\n",
    "plt.fill_between(xs, gaussian_time_of_arrival(xs, mu, sig, w), color=\"C1\", alpha=0.1)\n",
    "plt.vlines(t, 0, gaussian_time_of_arrival(t, mu, sig, w), color=\"C1\", alpha=.5)\n",
    "plt.scatter(t, gaussian_time_of_arrival(t, mu, sig, w), c=\"C1\")\n",
    "plt.plot(xs, w*normal_pdf(xs, loc=mu, scale=sig), c=\"C0\", alpha=1., label=\"Weighted Gaussian\")\n",
    "plt.vlines(mu, 0, w*normal_pdf(mu, loc=mu, scale=sig), color=\"C0\", alpha=.5)\n",
    "plt.scatter(mu, w*normal_pdf(mu, loc=mu, scale=sig), c=\"C0\")\n",
    "plt.legend();"
   ]
  },
  {
   "cell_type": "markdown",
   "metadata": {},
   "source": [
    "## Fuzzy Intersections"
   ]
  },
  {
   "cell_type": "code",
   "execution_count": 14,
   "metadata": {},
   "outputs": [],
   "source": [
    "#|export\n",
    "def weighted_arrival_intersection(mu:Vector, P:PrecisionMatrix, A:CholeskyMatrix, w:Float, x:Vector, v:Direction):\n",
    "    \"\"\"\n",
    "    Returns the \"intersection\" of a ray with a gaussian which we define as\n",
    "    the mode of the gaussian restricted to the ray.\n",
    "    \"\"\"\n",
    "    t0, sig0 = gaussian_restriction_to_ray(mu, P, A, x, v)\n",
    "    w0 = w*gaussian(t0*v, mu, P)\n",
    "    Z = w0/gaussian_normalizing_constant(P)\n",
    "    t = gaussian_most_likely_time_of_arrival(t0, sig0, Z)\n",
    "    return t, w0"
   ]
  },
  {
   "cell_type": "code",
   "execution_count": 15,
   "metadata": {},
   "outputs": [],
   "source": [
    "#|export\n",
    "def weighted_argmax_intersection(mu:Vector, P:PrecisionMatrix, w:Float, x:Vector, v:Direction):\n",
    "    \"\"\"\n",
    "    Returns the \"intersection\" of a ray with a gaussian which we define as\n",
    "    the mode of the gaussian restricted to the ray.\n",
    "    \"\"\"\n",
    "    t = bilinear(mu - x, v, P)/bilinear(v, v, P)\n",
    "    return t, w*gaussian(x + t*v, mu, P)"
   ]
  },
  {
   "cell_type": "markdown",
   "metadata": {},
   "source": [
    "## Particle arrival probs"
   ]
  },
  {
   "cell_type": "code",
   "execution_count": 16,
   "metadata": {},
   "outputs": [],
   "source": [
    "THRESH_99 = gaussian(jnp.array([4,0,0]), jnp.zeros(3), jnp.eye(3))\n",
    "THRESH_97 = gaussian(jnp.array([3,0,0]), jnp.zeros(3), jnp.eye(3))\n",
    "THRESH_73 = gaussian(jnp.array([2,0,0]), jnp.zeros(3), jnp.eye(3))"
   ]
  },
  {
   "cell_type": "code",
   "execution_count": 17,
   "metadata": {},
   "outputs": [
    {
     "data": {
      "text/plain": [
       "Array([1, 3, 0, 2], dtype=int32)"
      ]
     },
     "execution_count": 17,
     "metadata": {},
     "output_type": "execute_result"
    }
   ],
   "source": [
    "order = jnp.array([2,0,3,1])\n",
    "jnp.arange(4)[order]\n",
    "jnp.argsort(order)"
   ]
  },
  {
   "cell_type": "code",
   "execution_count": 18,
   "metadata": {},
   "outputs": [],
   "source": [
    "#|export\n",
    "def _particle_arrival_probs(\n",
    "        v: \"Ray direction\", \n",
    "        particle_positions, \n",
    "        precisions, \n",
    "        embeddings, \n",
    "        weights): \n",
    "    \"\"\"\n",
    "    Returns the arrival particles for each particles along a ray \n",
    "    (in the order of the particles).\n",
    "    \"\"\"\n",
    "    # TODO: Deal with negative intersections behind the camera\n",
    "    # TODO: Maybe switch to log probs?\n",
    "\n",
    "    # Compute fuzzy intersections `xs` with Gaussians and \n",
    "    # their function values `sigmas`\n",
    "    origin = jnp.zeros(3)\n",
    "    ts, sigmas = vmap(weighted_arrival_intersection, (0,0,0,0,None,None))(\n",
    "                        particle_positions, precisions, embeddings, weights, origin, v)\n",
    "\n",
    "    order  = jnp.argsort(ts)\n",
    "    \n",
    "    ts     = ts[order]\n",
    "    sigmas = sigmas[order]\n",
    "    xs     = ts[:,None]*v[None,:]\n",
    "\n",
    "    # TODO: Ensure that alphas are in [0,1]\n",
    "    # TODO: Should we reset the color opacity to `op`?\n",
    "    # Alternatively we can set `alphas = (1 - jnp.exp(-sigmas*1.0))` -- cf. Fuzzy Metaballs paper\n",
    "    alphas = sigmas * (ts > 0)\n",
    "    arrival_probs = discrete_arrival_probabilities(alphas)\n",
    "    op = 1 - arrival_probs[-1] # Opacity\n",
    "    inverse_order = jnp.concatenate([jnp.argsort(order), jnp.array([len(order)])])\n",
    "\n",
    "    return arrival_probs[inverse_order]\n",
    "\n",
    "\n",
    "particle_arrival_probs = jit(vmap(_particle_arrival_probs, (0,None,None,None,None,)))"
   ]
  },
  {
   "cell_type": "markdown",
   "metadata": {},
   "source": [
    "## Model"
   ]
  },
  {
   "cell_type": "code",
   "execution_count": 19,
   "metadata": {},
   "outputs": [],
   "source": [
    "#|export\n",
    "def make_sensor_model(rays):\n",
    "\n",
    "    @genjax.Static\n",
    "    def sensor_model(\n",
    "            cam_K, \n",
    "            particle_positions, \n",
    "            precisions, \n",
    "            embeddings, \n",
    "            weights, \n",
    "            colors, \n",
    "            mask, \n",
    "            bg_color=jnp.array([1.,1.,1.,1.])):\n",
    "\n",
    "        R = cam_K[:3,:3]\n",
    "        x = cam_K[:3,3]\n",
    "        positions  = (particle_positions - x) @ R # same as mapping `mu -> inv(cam_pose) @ mu`\n",
    "        precisions = vmap(lambda P: R.T @ P @ R)(precisions)\n",
    "        embeddings = vmap(lambda E: R.T @ E @ R)(embeddings)\n",
    "       \n",
    "        probs = particle_arrival_probs(\n",
    "            rays.reshape(-1,3),\n",
    "            positions, \n",
    "            precisions, \n",
    "            embeddings, \n",
    "            weights)\n",
    "\n",
    "        \n",
    "\n",
    "\n",
    "\n",
    "    return sensor_model"
   ]
  },
  {
   "cell_type": "code",
   "execution_count": 20,
   "metadata": {},
   "outputs": [],
   "source": [
    "w = 100\n",
    "h = 100\n",
    "f = 300\n",
    "intr = Intrinsics(width = w, height = h,fx = f, fy = f,\n",
    "            cx = w/2 - 0.5, cy = h/2 - 0.5, near = 1e-6, far = 5.0)\n",
    "\n",
    "cam_pose = transform_from_pos_target_up(.5*jnp.array([.1, 0., 1.5]), jnp.array([0,0.0,0]), jnp.array([0,1,0]))\n",
    "cam_K    = K_from_intrinsics(intr)\n",
    "rays     = camera_rays_from_intrinsics(intr)"
   ]
  },
  {
   "cell_type": "code",
   "execution_count": 21,
   "metadata": {},
   "outputs": [],
   "source": [
    "from sklearn.mixture import GaussianMixture\n",
    "\n",
    "name = [\"banana\", \"scissors\"][1]\n",
    "num_components = 1000\n",
    "data = jnp.load(f\"data/gaussian_examples/gaussians_{name}_{num_components}.npz\")\n",
    "\n",
    "\n",
    "mus    = data[\"mus\"]\n",
    "covs   = data[\"covs\"]\n",
    "cols = data[\"colors\"]\n"
   ]
  },
  {
   "cell_type": "code",
   "execution_count": 30,
   "metadata": {},
   "outputs": [
    {
     "name": "stderr",
     "output_type": "stream",
     "text": [
      "Clipping input data to the valid range for imshow with RGB data ([0..1] for floats or [0..255] for integers).\n"
     ]
    },
    {
     "data": {
      "text/plain": [
       "(10000, 558)"
      ]
     },
     "execution_count": 30,
     "metadata": {},
     "output_type": "execute_result"
    },
    {
     "data": {
      "image/png": "[encoded data removed]",
      "text/plain": [
       "<Figure size 1000x500 with 2 Axes>"
      ]
     },
     "metadata": {},
     "output_type": "display_data"
    }
   ],
   "source": [
    "positions   = (mus - cam_pose[:3,3]) @ cam_pose[:3,:3] # same as mapping `mu -> inv(cam_pose) @ mu`\n",
    "covariances = 2.**2*vmap(lambda cov: cam_pose[:3,:3].T@cov@cam_pose[:3,:3])(covs)\n",
    "embeddings  = vmap(ellipsoid_embedding)(covariances)\n",
    "precisions  = vmap(inv)(covariances)\n",
    "weights     = .25*jnp.ones(len(positions))\n",
    "bg_color    = jnp.array([1.,1.,1.,1.])\n",
    "\n",
    "\n",
    "colors = jnp.concatenate([cols, bg_color[None]], axis=0)\n",
    "\n",
    "probs = particle_arrival_probs(\n",
    "        rays.reshape(-1,3),\n",
    "        positions, \n",
    "        precisions, \n",
    "        embeddings, \n",
    "        weights)\n",
    "\n",
    "\n",
    "I = jnp.argmax(probs, axis=-1)\n",
    "\n",
    "avg  = (probs[:,:,None] * colors[None]).sum(-2)\n",
    "\n",
    "fig, axs = plt.subplots(1,2, figsize=(10,5))\n",
    "axs[0].imshow(colors[I].reshape(h,w,-1))\n",
    "axs[1].imshow(avg.reshape(h,w,-1))\n",
    "probs.shape"
   ]
  },
  {
   "cell_type": "code",
   "execution_count": 33,
   "metadata": {},
   "outputs": [
    {
     "name": "stdout",
     "output_type": "stream",
     "text": [
      "response:  listener_identifiers: \"2023-12-13T17:44:18.513763 :: ipv4:127.0.0.1:42448\"\n",
      "\n",
      "response:  listener_identifiers: \"2023-12-13T17:44:18.513763 :: ipv4:127.0.0.1:42448\"\n",
      "\n"
     ]
    }
   ],
   "source": [
    "from bayes3d._mkl.trimesh_to_gaussians import pack_transform, ellipsoid_embedding\n",
    "import traceviz.client\n",
    "import numpy as np\n",
    "from traceviz.proto import  viz_pb2\n",
    "import json\n",
    "\n",
    "\n",
    "transforms = vmap(pack_transform, (0,0,None))(\n",
    "    positions - positions.mean(axis=0,keepdims=True), \n",
    "    embeddings, \n",
    "    1.0)\n",
    "\n",
    "\n",
    "msg = viz_pb2.Message()\n",
    "msg.pytree.MergeFrom(traceviz.client.to_pytree_msg({\"type\": \"setup\",}))\n",
    "stub = traceviz.client.connect()\n",
    "print('response: ', stub.Broadcast(msg))\n",
    "\n",
    "msg = viz_pb2.Message()\n",
    "msg.pytree.MergeFrom(traceviz.client.to_pytree_msg({\n",
    "        \"type\": \"gaussians\",\n",
    "        \"data\": {\n",
    "            \"transforms\": np.array(transforms[None]),\n",
    "            'colors':  np.array(cols[None])\n",
    "        }\n",
    "    }))\n",
    "stub = traceviz.client.connect()\n",
    "print('response: ', stub.Broadcast(msg))\n"
   ]
  },
  {
   "cell_type": "code",
   "execution_count": 34,
   "metadata": {},
   "outputs": [],
   "source": [
    "def logit(x):\n",
    "    return jnp.log(x/(1-x))"
   ]
  },
  {
   "cell_type": "code",
   "execution_count": 40,
   "metadata": {},
   "outputs": [],
   "source": []
  },
  {
   "cell_type": "code",
   "execution_count": 41,
   "metadata": {},
   "outputs": [],
   "source": [
    "import matplotlib.pyplot as plt\n",
    "import numpy as np\n",
    "from PIL import Image\n",
    "import io\n",
    "\n",
    "def fig_to_image(fig):\n",
    "    \"\"\"Convert a Matplotlib figure to a PIL Image and return it\"\"\"\n",
    "    buf = io.BytesIO()\n",
    "    fig.savefig(buf, format='png')\n",
    "    buf.seek(0)\n",
    "    img = Image.open(buf)\n",
    "    return img\n",
    "\n",
    "    \n",
    "images = []\n",
    "\n",
    "avg = jnp.zeros((h,w,4))\n",
    "\n",
    "num_samples = 40\n",
    "for t in range(num_samples):\n",
    "\n",
    "    key = keysplit(key)\n",
    "    I = jax.random.categorical(key, logit(probs))\n",
    "    im = colors[I].reshape(h,w,-1)\n",
    "    avg += im\n",
    "\n",
    "\n",
    "    fig, axs = plt.subplots(1,2)\n",
    "    axs[0].set_title(f\"Sample ({t+1}/{num_samples})\")\n",
    "    axs[0].imshow(im)\n",
    "\n",
    "    axs[1].set_title(\"Sample mean\")\n",
    "    axs[1].imshow(avg/(t+1))\n",
    "\n",
    "    axs[0].axis(\"off\")\n",
    "    axs[1].axis(\"off\")\n",
    "    # Convert figure to image and store\n",
    "    images.append(fig_to_image(fig))\n",
    "    plt.close(fig)\n"
   ]
  },
  {
   "cell_type": "code",
   "execution_count": 42,
   "metadata": {},
   "outputs": [
    {
     "data": {
      "text/html": [
       "<img src=\"_outputs/ani_scissors.gif\"/>"
      ],
      "text/plain": [
       "<IPython.core.display.Image object>"
      ]
     },
     "metadata": {},
     "output_type": "display_data"
    }
   ],
   "source": [
    "import imageio\n",
    "from IPython.display import Image, display\n",
    "\n",
    "# Convert PIL Images to NumPy arrays as required by imageio\n",
    "np_images = [np.array(img) for img in images]\n",
    "\n",
    "# Save as GIF in memory\n",
    "gif_io = io.BytesIO()\n",
    "imageio.mimsave(gif_io, np_images, format='gif', fps=10, loop=1)\n",
    "gif_io.seek(0)\n",
    "\n",
    "# Display the GIF in the notebook\n",
    "# display(Image(data=gif_io.read(), format='png'))\n",
    "\n",
    "# Save the GIF to disk\n",
    "gif_filename = f\"_outputs/ani_{name}_2.gif\"\n",
    "with open(gif_filename, 'wb') as f:\n",
    "    f.write(gif_io.getbuffer())\n",
    "\n",
    "display(Image(url=gif_filename))"
   ]
  },
  {
   "cell_type": "code",
   "execution_count": null,
   "metadata": {},
   "outputs": [],
   "source": []
  }
 ],
 "metadata": {
  "kernelspec": {
   "display_name": "dcolmap",
   "language": "python",
   "name": "python3"
  },
  "language_info": {
   "codemirror_mode": {
    "name": "ipython",
    "version": 3
   },
   "file_extension": ".py",
   "mimetype": "text/x-python",
   "name": "python",
   "nbconvert_exporter": "python",
   "pygments_lexer": "ipython3",
   "version": "3.11.6"
  }
 },
 "nbformat": 4,
 "nbformat_minor": 2
}
