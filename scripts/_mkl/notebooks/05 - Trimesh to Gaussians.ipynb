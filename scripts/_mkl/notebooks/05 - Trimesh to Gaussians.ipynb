{
 "cells": [
  {
   "cell_type": "code",
   "execution_count": 1,
   "metadata": {},
   "outputs": [],
   "source": [
    "%load_ext autoreload\n",
    "%autoreload 2"
   ]
  },
  {
   "cell_type": "code",
   "execution_count": 2,
   "metadata": {},
   "outputs": [],
   "source": [
    "#|default_exp trimesh_to_gaussians"
   ]
  },
  {
   "cell_type": "code",
   "execution_count": 3,
   "metadata": {},
   "outputs": [],
   "source": [
    "#|export\n",
    "_doc_ = \"\"\"\n",
    "# Trimesh to Gaussians\n",
    "> Pretty much self-explanatory\n",
    "\n",
    "**Example:**\n",
    "```python\n",
    "from bayes3d._mkl.trimesh_to_gaussians import (\n",
    "    patch_trimesh, \n",
    "    uniformly_sample_from_mesh, \n",
    "    ellipsoid_embedding, \n",
    "    get_mean_colors, \n",
    "    pack_transform,\n",
    "    transform_from_gaussian\n",
    ")\n",
    "import trimesh\n",
    "import numpy as np\n",
    "import jax.numpy as jnp\n",
    "import jax\n",
    "from jax import jit, vmap\n",
    "from sklearn.mixture import GaussianMixture\n",
    "from bayes3d._mkl.utils import keysplit\n",
    "\n",
    "# SEED\n",
    "key = jax.random.PRNGKey(0)\n",
    "\n",
    "# LOAD MESH\n",
    "# -------------------\n",
    "mesh = load_mesh(...)\n",
    "mesh = patch_trimesh(mesh)\n",
    "\n",
    "# SAMPLE FROM MESH\n",
    "# ----------------\n",
    "key = keysplit(key)\n",
    "n = 20_000\n",
    "xs, cs = uniformly_sample_from_mesh(key, n, mesh, with_color=True)\n",
    "\n",
    "# GMM CONFIG\n",
    "# ----------\n",
    "key = keysplit(key)\n",
    "n_components = 150\n",
    "noise        = 0.0; \n",
    "X            = xs + np.random.randn(*xs.shape)*noise\n",
    "means_init   = np.array(uniformly_sample_from_mesh(key, n_components, mesh, with_color=False)[0]);\n",
    "\n",
    "# FIT THE GMM\n",
    "# -----------\n",
    "gm = GaussianMixture(n_components=n_components, \n",
    "                     tol=1e-3, max_iter=100, \n",
    "                     covariance_type=\"full\", \n",
    "                     means_init=means_init).fit(X)\n",
    "\n",
    "mus        = gm.means_\n",
    "covs       = gm.covariances_\n",
    "labels     = gm.predict(X)\n",
    "choleskys  = vmap(ellipsoid_embedding)(covs)\n",
    "transforms = vmap(transform_from_gaussian, (0,0,None))(mus, covs, 2.0)\n",
    "mean_colors, nums = get_mean_colors(cs, gm.n_components, labels)\n",
    "```\n",
    "\"\"\""
   ]
  },
  {
   "cell_type": "code",
   "execution_count": 4,
   "metadata": {},
   "outputs": [],
   "source": [
    "#|export\n",
    "import bayes3d as b3d\n",
    "import trimesh\n",
    "from bayes3d._mkl.utils import *\n",
    "import os\n",
    "import matplotlib.pyplot as plt\n",
    "import numpy as np\n",
    "import jax\n",
    "from jax import jit, vmap\n",
    "import jax.numpy as jnp\n",
    "from typing import Any, NamedTuple\n",
    "import jaxlib\n",
    "\n",
    "Array = np.ndarray | jax.Array\n",
    "Shape = int | tuple[int, ...]\n",
    "FaceIndex = int\n",
    "FaceIndices = Array\n",
    "Array3      = Array\n",
    "Array2      = Array\n",
    "ArrayNx2    = Array\n",
    "ArrayNx3    = Array\n",
    "Matrix      = jaxlib.xla_extension.ArrayImpl\n",
    "PrecisionMatrix  = Matrix\n",
    "CovarianceMatrix = Matrix\n",
    "SquareMatrix     = Matrix\n",
    "Vector = Array"
   ]
  },
  {
   "cell_type": "code",
   "execution_count": 5,
   "metadata": {},
   "outputs": [],
   "source": [
    "key = jax.random.PRNGKey(0)"
   ]
  },
  {
   "cell_type": "code",
   "execution_count": 6,
   "metadata": {},
   "outputs": [],
   "source": [
    "#|export\n",
    "def area_of_triangle(a:Array3, b:Array3, c:Array3=jnp.zeros(3)):\n",
    "    \"\"\"Computes the area of a triangle spanned by a,b[,c].\"\"\"\n",
    "    x = a-c\n",
    "    y = b-c\n",
    "    w = jnp.linalg.norm(x)\n",
    "    h = jnp.linalg.norm(y - jnp.dot(x, y)/w**2 * x)\n",
    "    area = w*h/2\n",
    "\n",
    "    return area\n",
    "\n",
    "\n",
    "def _compute_area_and_normal(f, vertices):\n",
    "    a = vertices[f[1]] - vertices[f[0]]\n",
    "    b = vertices[f[2]] - vertices[f[0]]\n",
    "    area = area_of_triangle(a, b)\n",
    "    normal = jnp.cross(a,b)\n",
    "    return area, normal\n",
    "\n",
    "\n",
    "compute_area_and_normals = jit(vmap(_compute_area_and_normal, (0,None)))"
   ]
  },
  {
   "cell_type": "code",
   "execution_count": 7,
   "metadata": {},
   "outputs": [],
   "source": [
    "#|export\n",
    "def patch_trimesh(mesh:trimesh.base.Trimesh):\n",
    "    \"\"\"\n",
    "    Return a patched copy of a trimesh object, and \n",
    "    ensure it to have a texture and the following attributes:\n",
    "     - `mesh.visual.uv`\n",
    "     - `copy.visual.material.to_color`\n",
    "    \"\"\"\n",
    "    patched_mesh = mesh.copy()\n",
    "    if isinstance(mesh.visual, trimesh.visual.color.ColorVisuals):\n",
    "        patched_mesh.visual = mesh.visual.to_texture()\n",
    "    elif isinstance(mesh.visual, trimesh.visual.texture.TextureVisuals):\n",
    "        pass\n",
    "\n",
    "    return patched_mesh\n",
    "\n",
    "\n",
    "def texture_uv_basis(face_idx:Array, mesh):\n",
    "    \"\"\"\n",
    "    Takes a face index and returns the three uv-vectors \n",
    "    spanning the face in texture space.\n",
    "    \"\"\"\n",
    "    return mesh.visual.uv[mesh.faces[face_idx]]\n",
    "\n",
    "\n",
    "def uv_to_color(uv:ArrayNx2, mesh):\n",
    "    \"\"\"Takes texture-uv coordinates and returns the corresponding color.\"\"\"\n",
    "    return mesh.visual.material.to_color(uv)"
   ]
  },
  {
   "cell_type": "code",
   "execution_count": 8,
   "metadata": {},
   "outputs": [],
   "source": [
    "#|export\n",
    "def barycentric_to_mesh(p:Array3, i:FaceIndex, mesh):\n",
    "    \"\"\"Converts a point in barycentric coordinates `p` on a face `i` to a 3d point on the mesh.\"\"\"\n",
    "    x = jnp.sum(p[:,None]*mesh.vertices[mesh.faces[i]], axis=0)\n",
    "    return x\n",
    "\n",
    "\n",
    "def sample_from_face(key, n, i, mesh):\n",
    "    \"\"\"\n",
    "    Sample random points `xs`, barycentric coordinates `ps`, and \n",
    "    face indices `fs` from a mesh.\n",
    "    \"\"\"\n",
    "    _, key = keysplit(key,1,1)\n",
    "    ps = jax.random.dirichlet(key, jnp.ones(3), (n,)).reshape((n,3,1))\n",
    "    xs = jnp.sum(ps*mesh.vertices[mesh.faces[i]], axis=1)\n",
    "    return xs, ps\n",
    "\n",
    "\n",
    "def sample_from_mesh(key, n, mesh):\n",
    "    \"\"\"\n",
    "    Returns random points `xs`, barycentric coordinates `ps`, and \n",
    "    face indices `fs` from a mesh.\n",
    "    \"\"\"\n",
    "    _, keys = keysplit(key,1,2)\n",
    "\n",
    "    # Sample `n` faces from the mesh with \n",
    "    # probability proportional to their area. \n",
    "    areas, _ = compute_area_and_normals(mesh.faces, mesh.vertices)\n",
    "    fs = jax.random.categorical(keys[0], jnp.log(areas), shape=(n,))\n",
    "\n",
    "    # Sample barycentric coordinates `bs` for each sampled face\n",
    "    # and compute the corresponding world coordinates `xs`.\n",
    "    ps = jax.random.dirichlet(keys[1], jnp.ones(3), (n,)).reshape((n,3,1))\n",
    "    xs = jnp.sum(ps*mesh.vertices[mesh.faces[fs]], axis=1)\n",
    "    return xs, ps, fs\n",
    "    \n",
    "\n",
    "def get_colors_from_mesh(ps:ArrayNx3, fs:FaceIndices, mesh):\n",
    "    \"\"\"\n",
    "    Returns the colors of the points on the mesh given \n",
    "    their barycentric coordinates `ps` and face indices `fs`.\n",
    "    \"\"\"\n",
    "    uvs = jnp.sum(ps * texture_uv_basis(fs, mesh), axis=1)\n",
    "    cs  = uv_to_color(uvs, mesh)/255\n",
    "    return cs"
   ]
  },
  {
   "cell_type": "code",
   "execution_count": 9,
   "metadata": {},
   "outputs": [
    {
     "name": "stdout",
     "output_type": "stream",
     "text": [
      "Help on function sample_from_mesh in module __main__:\n",
      "\n",
      "sample_from_mesh(key, n, mesh)\n",
      "    Returns random points `xs`, barycentric coordinates `ps`, and \n",
      "    face indices `fs` from a mesh.\n",
      "\n"
     ]
    }
   ],
   "source": [
    "help(sample_from_mesh)"
   ]
  },
  {
   "cell_type": "code",
   "execution_count": 10,
   "metadata": {},
   "outputs": [],
   "source": [
    "#|export\n",
    "def uniformly_sample_from_mesh(key, n, mesh, with_color=True):\n",
    "    \"\"\"Uniformly sample `n` points and optionally their color on the surface from a mesh.\"\"\"\n",
    "    xs, ps, fs = sample_from_mesh(key, n, mesh)\n",
    "\n",
    "    if with_color:\n",
    "        cs = get_colors_from_mesh(ps, fs, mesh)\n",
    "    else:\n",
    "        cs = jnp.full((n,3), 0.5)\n",
    "\n",
    "    return xs, cs"
   ]
  },
  {
   "cell_type": "code",
   "execution_count": 11,
   "metadata": {},
   "outputs": [],
   "source": [
    "#|export\n",
    "def get_cluster_counts(m, labels):\n",
    "    nums = []\n",
    "    for label in range(m):\n",
    "        nums.append(np.sum(labels == label))\n",
    "    return np.array(nums)\n",
    "\n",
    "\n",
    "#|export\n",
    "def get_cluster_colors(cs, m, labels):\n",
    "    colors = []\n",
    "    for label in range(m):\n",
    "        colors.append(cs[labels == label])\n",
    "    return colors"
   ]
  },
  {
   "cell_type": "code",
   "execution_count": 12,
   "metadata": {},
   "outputs": [],
   "source": [
    "#|export\n",
    "def get_mean_colors(cs, n, labels):\n",
    "    mean_colors = []\n",
    "    nums        = []\n",
    "    for label in range(n):\n",
    "        idx = labels == label\n",
    "        num = np.sum(idx)\n",
    "        if num == 0: \n",
    "            c = np.array([0.5, 0.5, 0.5, 0.0])\n",
    "        else: \n",
    "            c = np.mean(cs[idx], axis=0)\n",
    "        nums.append(num)\n",
    "        mean_colors.append(c)\n",
    "\n",
    "    return np.array(mean_colors), np.array(nums)\n",
    "    "
   ]
  },
  {
   "cell_type": "code",
   "execution_count": 13,
   "metadata": {},
   "outputs": [],
   "source": [
    "#|export\n",
    "def ellipsoid_embedding(cov:CovarianceMatrix) -> Matrix:\n",
    "    \"\"\"Returns A with cov = A@A.T\"\"\"\n",
    "    sigma, U = jnp.linalg.eigh(cov)\n",
    "    D = jnp.diag(jnp.sqrt(sigma))\n",
    "    return U @ D @ jnp.linalg.inv(U)\n"
   ]
  },
  {
   "cell_type": "code",
   "execution_count": 14,
   "metadata": {},
   "outputs": [],
   "source": [
    "#|export\n",
    "def pack_transform(x, A, scale=1.0):\n",
    "    B = scale*A\n",
    "    return jnp.array([\n",
    "        [B[0,0], B[0,1], B[0,2], x[0]], \n",
    "        [B[1,0], B[1,1], B[1,2], x[1]],\n",
    "        [B[2,0], B[2,1], B[2,2], x[2]],\n",
    "        [0.0, 0.0, 0.0, 1.0]\n",
    "    ]).T\n",
    "\n",
    "\n",
    "def transform_from_gaussian(mu:Vector, cov:CovarianceMatrix=jnp.eye(3), scale=1.0) -> Matrix:\n",
    "    \"\"\"Returns an affine linear transformation 4x4 matrix from a Gaussian.\"\"\"\n",
    "    A = ellipsoid_embedding(cov)\n",
    "    B = scale * A\n",
    "    return jnp.array([\n",
    "        [B[0,0], B[0,1], B[0,2], mu[0]], \n",
    "        [B[1,0], B[1,1], B[1,2], mu[1]],\n",
    "        [B[2,0], B[2,1], B[2,2], mu[2]],\n",
    "        [0.0, 0.0, 0.0, 1.0]\n",
    "    ]).T"
   ]
  },
  {
   "cell_type": "code",
   "execution_count": 15,
   "metadata": {},
   "outputs": [],
   "source": [
    "#|export\n",
    "def create_ellipsoid_trimesh(covariance_matrix, num_points=10, scale=0.02):\n",
    "    # Create a sphere\n",
    "    u = np.linspace(0, 2 * np.pi, num_points)\n",
    "    v = np.linspace(0, np.pi, num_points)\n",
    "    x = np.outer(np.cos(u), np.sin(v))\n",
    "    y = np.outer(np.sin(u), np.sin(v))\n",
    "    z = np.outer(np.ones(np.size(u)), np.cos(v))\n",
    "\n",
    "    # Transform the sphere to the ellipsoid\n",
    "    sigma, U = np.linalg.eig(covariance_matrix)\n",
    "    D = np.diag(np.sqrt(sigma))\n",
    "    ellipsoid = U @ D @ np.linalg.inv(U) @ np.vstack([x.flatten(), y.flatten(), z.flatten()])\n",
    "\n",
    "    # Reshape the ellipsoid to match the shape of the original sphere vertices\n",
    "    ellipsoid = ellipsoid.T.reshape(num_points, num_points, 3)\n",
    "\n",
    "    # Create mesh data\n",
    "    mesh_vertices = scale*ellipsoid.reshape(-1, 3)\n",
    "    mesh_faces = []\n",
    "    for i in range(num_points - 1):\n",
    "        for j in range(num_points - 1):\n",
    "            v1 = i * num_points + j\n",
    "            v2 = v1 + 1\n",
    "            v3 = (i + 1) * num_points + j\n",
    "            v4 = v3 + 1\n",
    "            mesh_faces.append([v1, v2, v3])\n",
    "            mesh_faces.append([v2, v4, v3])\n",
    "\n",
    "    mesh_faces = np.array(mesh_faces)\n",
    "\n",
    "    # Create a trimesh object\n",
    "    trimesh_mesh = trimesh.Trimesh(vertices=mesh_vertices, faces=mesh_faces)\n",
    "\n",
    "    return trimesh_mesh"
   ]
  },
  {
   "cell_type": "markdown",
   "metadata": {},
   "source": [
    "## Load Mesh\n",
    "\n",
    "Source for all sorts of 3d meshes:\n",
    "- https://sketchfab.com/3d-models/walking-astronaut-896d68114e70422d8a2ebc1be6eed4a7\n",
    "- https://sketchfab.com/3d-models/eyeball-kid-d99d9181b1fe40fe993dadfa2c0fd691\n",
    "- https://sketchfab.com/search?features=animated&q=tree&type=models\n",
    "- https://sketchfab.com/3d-models/rigged-animated-cinematic-quality-tree-4-544329bb254d4e45b5eae96ccc5bacf6"
   ]
  },
  {
   "cell_type": "code",
   "execution_count": 17,
   "metadata": {},
   "outputs": [],
   "source": [
    "t=0\n",
    "fname = f\"data/flag_objs/flag_t_{t}.obj\"\n",
    "mesh  = trimesh.load(fname)\n",
    "mesh = patch_trimesh(mesh)"
   ]
  },
  {
   "cell_type": "code",
   "execution_count": 16,
   "metadata": {},
   "outputs": [],
   "source": [
    "idx = 10 # banana 10, scissors 17\n",
    "\n",
    "\n",
    "_scaling  = 1e-3\n",
    "model_dir = os.path.join(b3d.utils.get_assets_dir(),\"bop/ycbv/models\")\n",
    "mesh_path = os.path.join(model_dir,\"obj_\" + \"{}\".format(idx).rjust(6, '0') + \".ply\")\n",
    "mesh = trimesh.load(mesh_path)\n",
    "mesh.vertices *= _scaling \n",
    "\n",
    "\n",
    "mesh = patch_trimesh(mesh)"
   ]
  },
  {
   "cell_type": "code",
   "execution_count": 17,
   "metadata": {},
   "outputs": [
    {
     "data": {
      "text/plain": [
       "('/home/mirko/workspace/bayes3d/assets/bop/ycbv/models/obj_000010.ply',\n",
       " 'obj_000010.ply')"
      ]
     },
     "execution_count": 17,
     "metadata": {},
     "output_type": "execute_result"
    }
   ],
   "source": [
    "(\n",
    "    mesh.metadata[\"file_path\"],\n",
    "    mesh.metadata[\"file_name\"],\n",
    ")"
   ]
  },
  {
   "cell_type": "markdown",
   "metadata": {},
   "source": [
    "## Fit GMM"
   ]
  },
  {
   "cell_type": "code",
   "execution_count": 18,
   "metadata": {},
   "outputs": [
    {
     "name": "stdout",
     "output_type": "stream",
     "text": [
      "\n",
      "    mesh.vertices: (10710, 3)\n",
      "    mesh.faces   : (15728, 3)\n",
      "    mesh.uv      : (10710, 2)\n",
      "\n"
     ]
    }
   ],
   "source": [
    "mesh = patch_trimesh(mesh)\n",
    "\n",
    "print(f\"\"\"\n",
    "    mesh.vertices: {mesh.vertices.shape}\n",
    "    mesh.faces   : {mesh.faces.shape}\n",
    "    mesh.uv      : {mesh.visual.uv.shape}\n",
    "\"\"\")"
   ]
  },
  {
   "cell_type": "code",
   "execution_count": 22,
   "metadata": {},
   "outputs": [
    {
     "name": "stderr",
     "output_type": "stream",
     "text": [
      "2023-11-29 11:05:40.029194: W external/xla/xla/service/gpu/runtime/support.cc:58] Intercepted XLA runtime error:\n",
      "INTERNAL: jaxlib/gpu/solver_kernels.cc:45: operation gpusolverDnCreate(&handle) failed: cuSolver internal error\n",
      "2023-11-29 11:05:40.029262: E external/xla/xla/pjrt/pjrt_stream_executor_client.cc:2716] Execution of replica 0 failed: INTERNAL: Failed to execute XLA Runtime executable: run time error: custom call 'xla.gpu.custom_call' failed: jaxlib/gpu/solver_kernels.cc:45: operation gpusolverDnCreate(&handle) failed: cuSolver internal error; current tracing scope: custom-call.13; current profiling annotation: XlaModule:#hlo_module=jit_eigh,program_id=39#.\n"
     ]
    },
    {
     "ename": "XlaRuntimeError",
     "evalue": "INTERNAL: Failed to execute XLA Runtime executable: run time error: custom call 'xla.gpu.custom_call' failed: jaxlib/gpu/solver_kernels.cc:45: operation gpusolverDnCreate(&handle) failed: cuSolver internal error; current tracing scope: custom-call.13; current profiling annotation: XlaModule:#hlo_module=jit_eigh,program_id=39#.",
     "output_type": "error",
     "traceback": [
      "\u001b[0;31m---------------------------------------------------------------------------\u001b[0m",
      "\u001b[0;31mXlaRuntimeError\u001b[0m                           Traceback (most recent call last)",
      "\u001b[1;32m/home/mirko/workspace/bayes3d/scripts/_mkl/notebooks/05 - Trimesh to Gaussians.ipynb Cell 22\u001b[0m line \u001b[0;36m3\n\u001b[1;32m     <a href='vscode-notebook-cell://ssh-remote%2Bchi-sight-instance-1.us-west1-b.chi-sight-mkl/home/mirko/workspace/bayes3d/scripts/_mkl/notebooks/05%20-%20Trimesh%20to%20Gaussians.ipynb#X30sdnNjb2RlLXJlbW90ZQ%3D%3D?line=33'>34</a>\u001b[0m covs       \u001b[39m=\u001b[39m gm\u001b[39m.\u001b[39mcovariances_\n\u001b[1;32m     <a href='vscode-notebook-cell://ssh-remote%2Bchi-sight-instance-1.us-west1-b.chi-sight-mkl/home/mirko/workspace/bayes3d/scripts/_mkl/notebooks/05%20-%20Trimesh%20to%20Gaussians.ipynb#X30sdnNjb2RlLXJlbW90ZQ%3D%3D?line=34'>35</a>\u001b[0m labels     \u001b[39m=\u001b[39m gm\u001b[39m.\u001b[39mpredict(X)\n\u001b[0;32m---> <a href='vscode-notebook-cell://ssh-remote%2Bchi-sight-instance-1.us-west1-b.chi-sight-mkl/home/mirko/workspace/bayes3d/scripts/_mkl/notebooks/05%20-%20Trimesh%20to%20Gaussians.ipynb#X30sdnNjb2RlLXJlbW90ZQ%3D%3D?line=35'>36</a>\u001b[0m choleskys  \u001b[39m=\u001b[39m vmap(ellipsoid_embedding)(covs)\n\u001b[1;32m     <a href='vscode-notebook-cell://ssh-remote%2Bchi-sight-instance-1.us-west1-b.chi-sight-mkl/home/mirko/workspace/bayes3d/scripts/_mkl/notebooks/05%20-%20Trimesh%20to%20Gaussians.ipynb#X30sdnNjb2RlLXJlbW90ZQ%3D%3D?line=36'>37</a>\u001b[0m transforms \u001b[39m=\u001b[39m vmap(pack_transform, (\u001b[39m0\u001b[39m,\u001b[39m0\u001b[39m,\u001b[39mNone\u001b[39;00m))(mus, choleskys, \u001b[39m2.0\u001b[39m)\n\u001b[1;32m     <a href='vscode-notebook-cell://ssh-remote%2Bchi-sight-instance-1.us-west1-b.chi-sight-mkl/home/mirko/workspace/bayes3d/scripts/_mkl/notebooks/05%20-%20Trimesh%20to%20Gaussians.ipynb#X30sdnNjb2RlLXJlbW90ZQ%3D%3D?line=37'>38</a>\u001b[0m mean_colors, nums \u001b[39m=\u001b[39m get_mean_colors(cs, gm\u001b[39m.\u001b[39mn_components, labels)\n",
      "    \u001b[0;31m[... skipping hidden 3 frame]\u001b[0m\n",
      "\u001b[1;32m/home/mirko/workspace/bayes3d/scripts/_mkl/notebooks/05 - Trimesh to Gaussians.ipynb Cell 22\u001b[0m line \u001b[0;36m4\n\u001b[1;32m      <a href='vscode-notebook-cell://ssh-remote%2Bchi-sight-instance-1.us-west1-b.chi-sight-mkl/home/mirko/workspace/bayes3d/scripts/_mkl/notebooks/05%20-%20Trimesh%20to%20Gaussians.ipynb#X30sdnNjb2RlLXJlbW90ZQ%3D%3D?line=1'>2</a>\u001b[0m \u001b[39mdef\u001b[39;00m \u001b[39mellipsoid_embedding\u001b[39m(cov:CovarianceMatrix) \u001b[39m-\u001b[39m\u001b[39m>\u001b[39m Matrix:\n\u001b[1;32m      <a href='vscode-notebook-cell://ssh-remote%2Bchi-sight-instance-1.us-west1-b.chi-sight-mkl/home/mirko/workspace/bayes3d/scripts/_mkl/notebooks/05%20-%20Trimesh%20to%20Gaussians.ipynb#X30sdnNjb2RlLXJlbW90ZQ%3D%3D?line=2'>3</a>\u001b[0m \u001b[39m    \u001b[39m\u001b[39m\"\"\"Returns A with cov = A@A.T\"\"\"\u001b[39;00m\n\u001b[0;32m----> <a href='vscode-notebook-cell://ssh-remote%2Bchi-sight-instance-1.us-west1-b.chi-sight-mkl/home/mirko/workspace/bayes3d/scripts/_mkl/notebooks/05%20-%20Trimesh%20to%20Gaussians.ipynb#X30sdnNjb2RlLXJlbW90ZQ%3D%3D?line=3'>4</a>\u001b[0m     sigma, U \u001b[39m=\u001b[39m jnp\u001b[39m.\u001b[39mlinalg\u001b[39m.\u001b[39meigh(cov)\n\u001b[1;32m      <a href='vscode-notebook-cell://ssh-remote%2Bchi-sight-instance-1.us-west1-b.chi-sight-mkl/home/mirko/workspace/bayes3d/scripts/_mkl/notebooks/05%20-%20Trimesh%20to%20Gaussians.ipynb#X30sdnNjb2RlLXJlbW90ZQ%3D%3D?line=4'>5</a>\u001b[0m     D \u001b[39m=\u001b[39m jnp\u001b[39m.\u001b[39mdiag(jnp\u001b[39m.\u001b[39msqrt(sigma))\n\u001b[1;32m      <a href='vscode-notebook-cell://ssh-remote%2Bchi-sight-instance-1.us-west1-b.chi-sight-mkl/home/mirko/workspace/bayes3d/scripts/_mkl/notebooks/05%20-%20Trimesh%20to%20Gaussians.ipynb#X30sdnNjb2RlLXJlbW90ZQ%3D%3D?line=5'>6</a>\u001b[0m     \u001b[39mreturn\u001b[39;00m U \u001b[39m@\u001b[39m D \u001b[39m@\u001b[39m jnp\u001b[39m.\u001b[39mlinalg\u001b[39m.\u001b[39minv(U)\n",
      "    \u001b[0;31m[... skipping hidden 14 frame]\u001b[0m\n",
      "File \u001b[0;32m/opt/conda/envs/dcolmap/lib/python3.11/site-packages/jax/_src/interpreters/pxla.py:1152\u001b[0m, in \u001b[0;36mExecuteReplicated.__call__\u001b[0;34m(self, *args)\u001b[0m\n\u001b[1;32m   1150\u001b[0m   \u001b[39mself\u001b[39m\u001b[39m.\u001b[39m_handle_token_bufs(result_token_bufs, sharded_runtime_token)\n\u001b[1;32m   1151\u001b[0m \u001b[39melse\u001b[39;00m:\n\u001b[0;32m-> 1152\u001b[0m   results \u001b[39m=\u001b[39m \u001b[39mself\u001b[39m\u001b[39m.\u001b[39mxla_executable\u001b[39m.\u001b[39mexecute_sharded(input_bufs)\n\u001b[1;32m   1153\u001b[0m \u001b[39mif\u001b[39;00m dispatch\u001b[39m.\u001b[39mneeds_check_special():\n\u001b[1;32m   1154\u001b[0m   out_arrays \u001b[39m=\u001b[39m results\u001b[39m.\u001b[39mdisassemble_into_single_device_arrays()\n",
      "\u001b[0;31mXlaRuntimeError\u001b[0m: INTERNAL: Failed to execute XLA Runtime executable: run time error: custom call 'xla.gpu.custom_call' failed: jaxlib/gpu/solver_kernels.cc:45: operation gpusolverDnCreate(&handle) failed: cuSolver internal error; current tracing scope: custom-call.13; current profiling annotation: XlaModule:#hlo_module=jit_eigh,program_id=39#."
     ]
    }
   ],
   "source": [
    "from sklearn.mixture import GaussianMixture\n",
    "\n",
    "\n",
    "# Patch mesh\n",
    "# ----------\n",
    "mesh = patch_trimesh(mesh)\n",
    "\n",
    "\n",
    "# Sample from mesh\n",
    "# ----------------\n",
    "key = keysplit(key)\n",
    "n = 10_00\n",
    "xs, cs = uniformly_sample_from_mesh(key, n, mesh, with_color=True)\n",
    "\n",
    "\n",
    "# GMM config\n",
    "# ----------\n",
    "key = keysplit(key)\n",
    "n_components = 100\n",
    "noise        = 0.0; \n",
    "X            = xs + np.random.randn(*xs.shape)*noise\n",
    "means_init   = np.array(uniformly_sample_from_mesh(key, n_components, mesh, with_color=False)[0]);\n",
    "\n",
    "\n",
    "# Fit the GMM\n",
    "# -----------\n",
    "gm = GaussianMixture(n_components=n_components, \n",
    "                     tol=1e-3, max_iter=100, \n",
    "                     covariance_type=\"full\", \n",
    "                     means_init=means_init).fit(X)\n",
    "\n",
    "\n",
    "mus        = gm.means_\n",
    "covs       = gm.covariances_\n",
    "labels     = gm.predict(X)\n",
    "choleskys  = vmap(ellipsoid_embedding)(covs)\n",
    "transforms = vmap(pack_transform, (0,0,None))(mus, choleskys, 2.0)\n",
    "mean_colors, nums = get_mean_colors(cs, gm.n_components, labels)\n",
    "valid = nums > 0"
   ]
  },
  {
   "cell_type": "code",
   "execution_count": 42,
   "metadata": {},
   "outputs": [
    {
     "data": {
      "text/plain": [
       "'data/gaussians_100.npz'"
      ]
     },
     "execution_count": 42,
     "metadata": {},
     "output_type": "execute_result"
    }
   ],
   "source": [
    "fname = f\"data/gaussians_{n_components}.npz\"\n",
    "jnp.savez(fname, mus=mus[valid], covs=covs[valid], colors=mean_colors[valid], choleskys=choleskys[valid])\n",
    "fname"
   ]
  },
  {
   "cell_type": "markdown",
   "metadata": {},
   "source": [
    "## Visualize"
   ]
  },
  {
   "cell_type": "code",
   "execution_count": 115,
   "metadata": {},
   "outputs": [],
   "source": [
    "import traceviz.client\n",
    "import numpy as np\n",
    "from traceviz.proto import  viz_pb2\n",
    "import json\n"
   ]
  },
  {
   "cell_type": "code",
   "execution_count": 117,
   "metadata": {},
   "outputs": [
    {
     "name": "stdout",
     "output_type": "stream",
     "text": [
      "response:  listener_identifiers: \"2023-11-24T16:34:56.251992 :: ipv4:127.0.0.1:42676\"\n",
      "\n",
      "response:  listener_identifiers: \"2023-11-24T16:34:56.251992 :: ipv4:127.0.0.1:42676\"\n",
      "\n"
     ]
    }
   ],
   "source": [
    "msg = viz_pb2.Message()\n",
    "msg.payload.json = json.dumps({\"type\": \"setup\"})\n",
    "msg.payload.data.MergeFrom(traceviz.client.to_pytree_msg([]))\n",
    "stub = traceviz.client.connect()\n",
    "print('response: ', stub.Broadcast(msg))\n",
    "msg = viz_pb2.Message()\n",
    "msg.payload.json = json.dumps({\"type\": \"gaussians\"})\n",
    "msg.payload.data.MergeFrom(traceviz.client.to_pytree_msg({\n",
    "        'transforms': np.array(transforms )[nums>0], \n",
    "        'colors':     np.array(mean_colors)[nums>0]  \n",
    "}))\n",
    "stub = traceviz.client.connect()\n",
    "print('response: ', stub.Broadcast(msg))\n"
   ]
  },
  {
   "cell_type": "markdown",
   "metadata": {},
   "source": [
    "## Save"
   ]
  },
  {
   "cell_type": "code",
   "execution_count": null,
   "metadata": {},
   "outputs": [],
   "source": [
    "jnp.savez(f\"data/gaussians_scissors_{mus.shape[0]}.npz\", mus=mus, covs=covs, choleskys=choleskys, mean_colors=mean_colors, nums=nums)"
   ]
  },
  {
   "cell_type": "code",
   "execution_count": 168,
   "metadata": {},
   "outputs": [],
   "source": [
    "key = keysplit(key)\n",
    "\n",
    "n = 10_000\n",
    "xs, cs = uniformly_sample_from_mesh(key, n, mesh, with_color=True)\n",
    "covs = jnp.tile(jnp.eye(3), (n,1,1))\n",
    "\n",
    "# jnp.savez(f\"data/gaussians_test.npz\", mus=xs, covs=covs, colors=cs)"
   ]
  },
  {
   "cell_type": "code",
   "execution_count": 170,
   "metadata": {},
   "outputs": [
    {
     "name": "stdout",
     "output_type": "stream",
     "text": [
      "response:  listener_identifiers: \"2023-11-24T16:43:08.164712 :: ipv4:127.0.0.1:56284\"\n",
      "\n",
      "response:  listener_identifiers: \"2023-11-24T16:43:08.164712 :: ipv4:127.0.0.1:56284\"\n",
      "\n"
     ]
    }
   ],
   "source": [
    "msg = viz_pb2.Message()\n",
    "msg.payload.json = json.dumps({\"type\": \"setup\"})\n",
    "msg.payload.data.MergeFrom(traceviz.client.to_pytree_msg([]))\n",
    "stub = traceviz.client.connect()\n",
    "print('response: ', stub.Broadcast(msg))\n",
    "msg = viz_pb2.Message()\n",
    "msg.payload.json = json.dumps({\"type\": \"spheres\"})\n",
    "msg.payload.data.MergeFrom(traceviz.client.to_pytree_msg({\n",
    "        'centers': np.array(xs), \n",
    "        'colors':  np.array(cs),\n",
    "        'scales':  np.ones(n)*0.01,\n",
    "}))\n",
    "stub = traceviz.client.connect()\n",
    "print('response: ', stub.Broadcast(msg))"
   ]
  },
  {
   "cell_type": "code",
   "execution_count": 64,
   "metadata": {},
   "outputs": [
    {
     "data": {
      "text/plain": [
       "((10, 10000, 3), (10, 10000, 4))"
      ]
     },
     "execution_count": 64,
     "metadata": {},
     "output_type": "execute_result"
    }
   ],
   "source": [
    "Xs = []\n",
    "Cs = []\n",
    "for t in range(10):\n",
    "    n = 10_000\n",
    "    key = keysplit(key)\n",
    "    xs, cs = uniformly_sample_from_mesh(key, n, mesh, with_color=True)\n",
    "    Xs.append(xs)\n",
    "    Cs.append(cs)\n",
    "\n",
    "Xs = np.array(Xs)\n",
    "Cs = np.array(Cs)\n",
    "\n",
    "Xs.shape, Cs.shape"
   ]
  },
  {
   "cell_type": "code",
   "execution_count": 65,
   "metadata": {},
   "outputs": [
    {
     "name": "stdout",
     "output_type": "stream",
     "text": [
      "response:  listener_identifiers: \"2023-11-24T13:36:43.417848 :: ipv4:127.0.0.1:58790\"\n",
      "\n",
      "response:  listener_identifiers: \"2023-11-24T13:36:43.417848 :: ipv4:127.0.0.1:58790\"\n",
      "\n"
     ]
    }
   ],
   "source": [
    "msg = viz_pb2.Message()\n",
    "msg.payload.json = json.dumps({\"type\": \"setup\"})\n",
    "msg.payload.data.MergeFrom(traceviz.client.to_pytree_msg([]))\n",
    "stub = traceviz.client.connect()\n",
    "print('response: ', stub.Broadcast(msg))\n",
    "msg = viz_pb2.Message()\n",
    "msg.payload.json = json.dumps({\"type\": \"animated spheres\"})\n",
    "msg.payload.data.MergeFrom(traceviz.client.to_pytree_msg({\n",
    "        'centers': np.array(Xs), \n",
    "        'colors':  np.array(Cs),\n",
    "        'scales':  np.ones((len(Xs),n))*0.004,\n",
    "}))\n",
    "stub = traceviz.client.connect()\n",
    "print('response: ', stub.Broadcast(msg))"
   ]
  },
  {
   "cell_type": "code",
   "execution_count": 32,
   "metadata": {},
   "outputs": [
    {
     "name": "stdout",
     "output_type": "stream",
     "text": [
      "response:  listener_identifiers: \"2023-11-22T12:12:24.738319 :: ipv4:127.0.0.1:48720\"\n",
      "\n",
      "response:  listener_identifiers: \"2023-11-22T12:12:24.738319 :: ipv4:127.0.0.1:48720\"\n",
      "\n"
     ]
    }
   ],
   "source": [
    "transforms = vmap(transform_from_gaussian, (0,0,None))(xs, covs, .02)\n",
    "\n",
    "\n",
    "msg = viz_pb2.Message()\n",
    "msg.payload.json = json.dumps({\"type\": \"setup\"})\n",
    "msg.payload.data.MergeFrom(traceviz.client.to_pytree_msg([]))\n",
    "stub = traceviz.client.connect()\n",
    "print('response: ', stub.Broadcast(msg))\n",
    "msg = viz_pb2.Message()\n",
    "msg.payload.json = json.dumps({\"type\": \"Gaussians2\"})\n",
    "msg.payload.data.MergeFrom(traceviz.client.to_pytree_msg({\n",
    "        'transforms': np.array(transforms ), \n",
    "        'colors':     np.array(cs)\n",
    "}))\n",
    "stub = traceviz.client.connect()\n",
    "print('response: ', stub.Broadcast(msg))\n"
   ]
  },
  {
   "cell_type": "markdown",
   "metadata": {},
   "source": [
    "## Appendix"
   ]
  },
  {
   "cell_type": "code",
   "execution_count": 232,
   "metadata": {},
   "outputs": [
    {
     "name": "stdout",
     "output_type": "stream",
     "text": [
      "response:  listener_identifiers: \"2023-11-15T14:39:07.745000 :: ipv4:127.0.0.1:48652\"\n",
      "\n"
     ]
    }
   ],
   "source": [
    "msg = viz_pb2.Message()\n",
    "msg.payload.json = json.dumps({\"type\": \"setup\"})\n",
    "msg.payload.data.MergeFrom(traceviz.client.to_pytree_msg([]))\n",
    "stub = traceviz.client.connect()\n",
    "print('response: ', stub.Broadcast(msg))\n"
   ]
  },
  {
   "cell_type": "code",
   "execution_count": 233,
   "metadata": {},
   "outputs": [
    {
     "data": {
      "image/png": "[encoded data removed]",
      "text/html": [
       "<div style=\"vertical-align: middle;\"><strong>cool</strong> </div><div class=\"cmap\"><img alt=\"cool colormap\" title=\"cool\" style=\"border: 1px solid #555;\" src=\"data:image/png;base64,iVBORw0KGgoAAAANSUhEUgAAAgAAAABACAYAAABsv8+/AAAAE3RFWHRUaXRsZQBjb29sIGNvbG9ybWFwN9+MxQAAABl0RVh0RGVzY3JpcHRpb24AY29vbCBjb2xvcm1hcLxtHF0AAAAwdEVYdEF1dGhvcgBNYXRwbG90bGliIHYzLjguMSwgaHR0cHM6Ly9tYXRwbG90bGliLm9yZzr4aEEAAAAydEVYdFNvZnR3YXJlAE1hdHBsb3RsaWIgdjMuOC4xLCBodHRwczovL21hdHBsb3RsaWIub3JnFF73ZgAAAWBJREFUeJzt1rEKg0AURcGn///NbhorKwWFwJlplhB2LyTN2WatNTOzrZnyOee5v/X9cZ7z0fsv79/duf07Xvbf+h/sf7v/+nvH5fPD+/b/bP/pO9d7D+/b/3Z/HwAgRwAAQJAAAIAgAQAAQQIAAIIEAAAECQAACBIAABAkAAAgSAAAQJAAAIAgAQAAQQIAAIIEAAAECQAACBIAABAkAAAgSAAAQJAAAIAgAQAAQQIAAIIEAAAECQAACBIAABAkAAAgSAAAQJAAAIAgAQAAQQIAAIIEAAAECQAACBIAABAkAAAgSAAAQJAAAIAgAQAAQQIAAIIEAAAECQAACBIAABAkAAAgSAAAQJAAAIAgAQAAQQIAAIIEAAAECQAACBIAABAkAAAgSAAAQJAAAIAgAQAAQQIAAIIEAAAECQAACBIAABAkAAAgSAAAQJAAAIAgAQAAQQIAAIIEAAAECQAACPoBsqPsfeghrZ0AAAAASUVORK5CYII=\"></div><div style=\"vertical-align: middle; max-width: 514px; display: flex; justify-content: space-between;\"><div style=\"float: left;\"><div title=\"#00ffffff\" style=\"display: inline-block; width: 1em; height: 1em; margin: 0; vertical-align: middle; border: 1px solid #555; background-color: #00ffffff;\"></div> under</div><div style=\"margin: 0 auto; display: inline-block;\">bad <div title=\"#00000000\" style=\"display: inline-block; width: 1em; height: 1em; margin: 0; vertical-align: middle; border: 1px solid #555; background-color: #00000000;\"></div></div><div style=\"float: right;\">over <div title=\"#ff00ffff\" style=\"display: inline-block; width: 1em; height: 1em; margin: 0; vertical-align: middle; border: 1px solid #555; background-color: #ff00ffff;\"></div></div>"
      ],
      "text/plain": [
       "<matplotlib.colors.LinearSegmentedColormap at 0x7fbf52349bd0>"
      ]
     },
     "execution_count": 233,
     "metadata": {},
     "output_type": "execute_result"
    }
   ],
   "source": [
    "\n",
    "\n",
    "cm  = getattr(plt.cm, \"cool\")\n",
    "# cs  = cm(plt.Normalize()(vs_))\n",
    "cm"
   ]
  },
  {
   "cell_type": "code",
   "execution_count": 171,
   "metadata": {},
   "outputs": [
    {
     "ename": "NameError",
     "evalue": "name 'texvis' is not defined",
     "output_type": "error",
     "traceback": [
      "\u001b[0;31m---------------------------------------------------------------------------\u001b[0m",
      "\u001b[0;31mNameError\u001b[0m                                 Traceback (most recent call last)",
      "\u001b[1;32m/home/mirko/workspace/bayes3d/scripts/_mkl/notebooks/05 - Trimesh to Gaussians.ipynb Cell 30\u001b[0m line \u001b[0;36m3\n\u001b[1;32m      <a href='vscode-notebook-cell://ssh-remote%2Bchi-sight-instance-1.us-west1-b.chi-sight-mkl/home/mirko/workspace/bayes3d/scripts/_mkl/notebooks/05%20-%20Trimesh%20to%20Gaussians.ipynb#X54sdnNjb2RlLXJlbW90ZQ%3D%3D?line=0'>1</a>\u001b[0m key \u001b[39m=\u001b[39m keysplit(key)\n\u001b[1;32m      <a href='vscode-notebook-cell://ssh-remote%2Bchi-sight-instance-1.us-west1-b.chi-sight-mkl/home/mirko/workspace/bayes3d/scripts/_mkl/notebooks/05%20-%20Trimesh%20to%20Gaussians.ipynb#X54sdnNjb2RlLXJlbW90ZQ%3D%3D?line=1'>2</a>\u001b[0m xs_, cs_, _ \u001b[39m=\u001b[39m uniformly_sample_from_mesh(key, \u001b[39m15_000\u001b[39m, mesh\u001b[39m.\u001b[39mfaces, mesh\u001b[39m.\u001b[39mvertices, \n\u001b[0;32m----> <a href='vscode-notebook-cell://ssh-remote%2Bchi-sight-instance-1.us-west1-b.chi-sight-mkl/home/mirko/workspace/bayes3d/scripts/_mkl/notebooks/05%20-%20Trimesh%20to%20Gaussians.ipynb#X54sdnNjb2RlLXJlbW90ZQ%3D%3D?line=2'>3</a>\u001b[0m                 texture_uv\u001b[39m=\u001b[39mtexvis\u001b[39m.\u001b[39muv, uv_to_color\u001b[39m=\u001b[39mtexvis\u001b[39m.\u001b[39mmaterial\u001b[39m.\u001b[39mto_color)\n",
      "\u001b[0;31mNameError\u001b[0m: name 'texvis' is not defined"
     ]
    }
   ],
   "source": [
    "key = keysplit(key)\n",
    "xs_, cs_, _ = uniformly_sample_from_mesh(key, 15_000, mesh.faces, mesh.vertices, \n",
    "                texture_uv=texvis.uv, uv_to_color=texvis.material.to_color)\n",
    "\n",
    "# labels_ = gm.predict(xs_)\n",
    "# cols_ = mean_colors[labels_]\n",
    "# cs_.shape, cols_.shape\n",
    "\n",
    "\n",
    "\n",
    "# distances = np.linalg.norm(cs_ - cols_, axis=1)\n",
    "# print(distances.shape)\n",
    "# print(np.min(distances), np.max(distances))\n",
    "# cs_  = cm(plt.Normalize()(distances))\n",
    "# cs_.shape"
   ]
  },
  {
   "cell_type": "code",
   "execution_count": 148,
   "metadata": {},
   "outputs": [
    {
     "ename": "NameError",
     "evalue": "name 'xs_' is not defined",
     "output_type": "error",
     "traceback": [
      "\u001b[0;31m---------------------------------------------------------------------------\u001b[0m",
      "\u001b[0;31mNameError\u001b[0m                                 Traceback (most recent call last)",
      "\u001b[1;32m/home/mirko/workspace/bayes3d/scripts/_mkl/notebooks/05 - Trimesh to Gaussians.ipynb Cell 31\u001b[0m line \u001b[0;36m1\n\u001b[0;32m----> <a href='vscode-notebook-cell://ssh-remote%2Bchi-sight-instance-1.us-west1-b.chi-sight-mkl/home/mirko/workspace/bayes3d/scripts/_mkl/notebooks/05%20-%20Trimesh%20to%20Gaussians.ipynb#X55sdnNjb2RlLXJlbW90ZQ%3D%3D?line=0'>1</a>\u001b[0m \u001b[39mprint\u001b[39m(xs_\u001b[39m.\u001b[39mshape, cs_\u001b[39m.\u001b[39mshape)\n\u001b[1;32m      <a href='vscode-notebook-cell://ssh-remote%2Bchi-sight-instance-1.us-west1-b.chi-sight-mkl/home/mirko/workspace/bayes3d/scripts/_mkl/notebooks/05%20-%20Trimesh%20to%20Gaussians.ipynb#X55sdnNjb2RlLXJlbW90ZQ%3D%3D?line=3'>4</a>\u001b[0m msg \u001b[39m=\u001b[39m viz_pb2\u001b[39m.\u001b[39mMessage()\n\u001b[1;32m      <a href='vscode-notebook-cell://ssh-remote%2Bchi-sight-instance-1.us-west1-b.chi-sight-mkl/home/mirko/workspace/bayes3d/scripts/_mkl/notebooks/05%20-%20Trimesh%20to%20Gaussians.ipynb#X55sdnNjb2RlLXJlbW90ZQ%3D%3D?line=4'>5</a>\u001b[0m msg\u001b[39m.\u001b[39mpayload\u001b[39m.\u001b[39mjson \u001b[39m=\u001b[39m json\u001b[39m.\u001b[39mdumps({\u001b[39m\"\u001b[39m\u001b[39mtype\u001b[39m\u001b[39m\"\u001b[39m: \u001b[39m\"\u001b[39m\u001b[39mSpheres\u001b[39m\u001b[39m\"\u001b[39m})\n",
      "\u001b[0;31mNameError\u001b[0m: name 'xs_' is not defined"
     ]
    }
   ],
   "source": [
    "\n",
    "\n",
    "print(xs_.shape, cs_.shape)\n",
    "\n",
    "\n",
    "msg = viz_pb2.Message()\n",
    "msg.payload.json = json.dumps({\"type\": \"Spheres\"})\n",
    "msg.payload.data.MergeFrom(\n",
    "    traceviz.client.to_pytree_msg({\n",
    "        'centers': np.array(xs_), \n",
    "        'colors': np.array(cs_), \n",
    "        \"scales\": 0.025*np.ones(len(xs_))\n",
    "    })\n",
    ")\n",
    "    \n",
    "\n",
    "stub = traceviz.client.connect()\n",
    "print('response: ', stub.Broadcast(msg))\n"
   ]
  },
  {
   "cell_type": "markdown",
   "metadata": {},
   "source": [
    "\n"
   ]
  }
 ],
 "metadata": {
  "kernelspec": {
   "display_name": "bayes3d",
   "language": "python",
   "name": "python3"
  },
  "language_info": {
   "codemirror_mode": {
    "name": "ipython",
    "version": 3
   },
   "file_extension": ".py",
   "mimetype": "text/x-python",
   "name": "python",
   "nbconvert_exporter": "python",
   "pygments_lexer": "ipython3",
   "version": "3.11.6"
  },
  "orig_nbformat": 4
 },
 "nbformat": 4,
 "nbformat_minor": 2
}
