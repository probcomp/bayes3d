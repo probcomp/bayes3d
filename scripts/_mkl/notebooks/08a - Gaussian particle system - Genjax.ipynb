{
 "cells": [
  {
   "cell_type": "code",
   "execution_count": null,
   "metadata": {},
   "outputs": [],
   "source": [
    "%load_ext autoreload\n",
    "%autoreload 2"
   ]
  },
  {
   "cell_type": "code",
   "execution_count": 1,
   "metadata": {},
   "outputs": [],
   "source": [
    "#|default_exp gaussian_particle_system_genjax"
   ]
  },
  {
   "cell_type": "code",
   "execution_count": 2,
   "metadata": {},
   "outputs": [
    {
     "name": "stdout",
     "output_type": "stream",
     "text": [
      "GenJAX not installed. Importing bayes3d without genjax dependencies.\n"
     ]
    }
   ],
   "source": [
    "#|export\n",
    "import bayes3d as b3d\n",
    "import trimesh\n",
    "import os\n",
    "from bayes3d._mkl.utils import *\n",
    "import matplotlib.pyplot as plt\n",
    "import numpy as np\n",
    "import jax\n",
    "from jax import jit, vmap\n",
    "import jax.numpy as jnp\n",
    "from jax.scipy.spatial.transform import Rotation as Rot\n",
    "from functools import partial\n",
    "import genjax\n",
    "from bayes3d.camera import Intrinsics, K_from_intrinsics, camera_rays_from_intrinsics\n",
    "from bayes3d.transforms_3d import transform_from_pos_target_up, add_homogenous_ones, unproject_depth\n",
    "import tensorflow_probability as tfp\n",
    "from tensorflow_probability.substrates.jax.math import lambertw\n",
    "\n",
    "\n",
    "normal_cdf    = jax.scipy.stats.norm.cdf\n",
    "normal_pdf    = jax.scipy.stats.norm.pdf\n",
    "normal_logpdf = jax.scipy.stats.norm.logpdf\n",
    "inv = jnp.linalg.inv\n",
    "concat = jnp.concatenate\n",
    "\n",
    "key = jax.random.PRNGKey(0)"
   ]
  },
  {
   "cell_type": "code",
   "execution_count": 3,
   "metadata": {},
   "outputs": [],
   "source": [
    "#|export\n",
    "from typing import Any, NamedTuple\n",
    "import numpy as np\n",
    "import jax\n",
    "import jaxlib\n",
    "\n",
    "Array = np.ndarray | jax.Array\n",
    "Shape = int | tuple[int, ...]\n",
    "Bool = Array\n",
    "Float = Array\n",
    "Int = Array\n",
    "\n",
    "Pose = tuple[jnp.ndarray, jnp.ndarray]\n",
    "\n",
    "\n",
    "class Pose(NamedTuple):\n",
    "    quat: jnp.ndarray\n",
    "    position: jnp.ndarray"
   ]
  },
  {
   "cell_type": "code",
   "execution_count": 4,
   "metadata": {},
   "outputs": [],
   "source": [
    "def logit(x):\n",
    "    return jnp.log(x/(1-x))\n",
    "\n",
    "    \n",
    "def pack_homogenous_matrix(x,q):\n",
    "    r = Rot.from_quat(q).as_matrix()\n",
    "    return concat([concat([r, x.reshape(-1,1)], axis=-1), jnp.array([[0.,0.,0.,1.]])])"
   ]
  },
  {
   "cell_type": "code",
   "execution_count": 5,
   "metadata": {},
   "outputs": [],
   "source": [
    "def multiply_quaternions(q1, q2):\n",
    "\n",
    "    w1, x1, y1, z1 = q1[3], q1[0], q1[1], q1[2]\n",
    "    w2, x2, y2, z2 = q2[3], q2[0], q2[1], q2[2]\n",
    "\n",
    "    w = w1 * w2 - x1 * x2 - y1 * y2 - z1 * z2\n",
    "    x = w1 * x2 + x1 * w2 + y1 * z2 - z1 * y2\n",
    "    y = w1 * y2 - x1 * z2 + y1 * w2 + z1 * x2\n",
    "    z = w1 * z2 + x1 * y2 - y1 * x2 + z1 * w2\n",
    "\n",
    "    return jnp.array([x, y, z, w])"
   ]
  },
  {
   "cell_type": "code",
   "execution_count": 6,
   "metadata": {},
   "outputs": [],
   "source": [
    "@genjax.Static\n",
    "def motion_model(*args):\n",
    "    q = genjax.normal(jnp.zeros(4), jnp.ones(4)) @ \"q\"\n",
    "    q = q.at[3].set(1.0)\n",
    "    q = q/jnp.linalg.norm(q)\n",
    "    x = genjax.normal(jnp.zeros(3), jnp.ones(3)) @ \"x\"\n",
    "    return pack_homogenous_matrix(x,q)\n",
    "\n",
    "\n",
    "@genjax.Static\n",
    "def coordinate_frame_prior(Q):\n",
    "    q = genjax.normal(jnp.zeros(4), jnp.ones(4)) @ \"q\"\n",
    "    q = q.at[3].set(1.0)\n",
    "    q = q/jnp.linalg.norm(q)\n",
    "    x = genjax.normal(jnp.zeros(3), jnp.ones(3)) @ \"x\"\n",
    "    return Q@pack_homogenous_matrix(x,q)"
   ]
  },
  {
   "cell_type": "code",
   "execution_count": 7,
   "metadata": {},
   "outputs": [
    {
     "name": "stdout",
     "output_type": "stream",
     "text": [
      "[[-0.21356526 -0.22192055 -0.9513892  -1.8099072 ]\n",
      " [ 0.97607225 -0.00769535 -0.217311    0.40000528]\n",
      " [ 0.04090449 -0.9750345   0.21825388 -0.88583   ]\n",
      " [ 0.          0.          0.          1.        ]]\n",
      "[[-0.20991647  0.9767395   0.04376509 -0.6693742 ]\n",
      " [-0.22485533 -0.00466556 -0.97438127 -1.1771727 ]\n",
      " [-0.9515123  -0.21437937  0.22060438 -1.5432181 ]\n",
      " [ 0.          0.          0.          1.        ]]\n"
     ]
    }
   ],
   "source": [
    "key = keysplit(key)\n",
    "tr = motion_model.simulate(key,())\n",
    "Q = tr.retval\n",
    "print(Q)\n",
    "tr = coordinate_frame_prior.simulate(key,(Q,))\n",
    "print(tr.retval)"
   ]
  },
  {
   "cell_type": "code",
   "execution_count": 8,
   "metadata": {},
   "outputs": [],
   "source": [
    "class GaussianParticleSystem(NamedTuple):\n",
    "    mus: Array\n",
    "    covariances: Array\n",
    "    colors: Array\n",
    "\n",
    "class HierachicalGaussianParticleSystem(NamedTuple):\n",
    "    particles:  GaussianParticleSystem\n",
    "    coordinate_frames: Array\n",
    "    assignments: Array\n",
    "    max_systems: Array"
   ]
  },
  {
   "cell_type": "code",
   "execution_count": 9,
   "metadata": {},
   "outputs": [
    {
     "data": {
      "text/plain": [
       "(10, 4, 4)"
      ]
     },
     "execution_count": 9,
     "metadata": {},
     "output_type": "execute_result"
    }
   ],
   "source": [
    "banana = jnp.load(\"data/gaussians_examples/gaussians_banana_150.npz\")\n",
    "scissors = jnp.load(\"data/gaussians_examples/gaussians_scissors_550.npz\")\n",
    "\n",
    "mus  = concat([banana[\"mus\"],scissors[\"mus\"]])\n",
    "covs = concat([banana[\"covs\"],scissors[\"covs\"]])\n",
    "embs = concat([banana[\"choleskys\"],scissors[\"choleskys\"]])\n",
    "cols = concat([banana[\"mean_colors\"],scissors[\"mean_colors\"]])\n",
    "# zs   = concat([jnp.zeros(150),jnp.ones(550)])\n",
    "zs = jnp.zeros(mus.shape[0])\n",
    "\n",
    "Qs = jnp.tile(jnp.eye(4,4), (10,1,1))\n",
    "Qs.shape"
   ]
  },
  {
   "cell_type": "code",
   "execution_count": 10,
   "metadata": {},
   "outputs": [],
   "source": [
    "hgps = HierachicalGaussianParticleSystem(\n",
    "    particles = GaussianParticleSystem(mus, covs, cols),\n",
    "    coordinate_frames=Qs,\n",
    "    assignments=zs,\n",
    "    max_systems= jnp.array([10])\n",
    ")"
   ]
  },
  {
   "cell_type": "code",
   "execution_count": 11,
   "metadata": {},
   "outputs": [],
   "source": [
    "def make_constant_model(x):\n",
    "\n",
    "    @genjax.Static\n",
    "    def constant_model(*args):\n",
    "        _ = genjax.bernoulli(jnp.inf) @ \"void\"\n",
    "        return x\n",
    "        \n",
    "    return constant_model"
   ]
  },
  {
   "cell_type": "code",
   "execution_count": 12,
   "metadata": {},
   "outputs": [],
   "source": [
    "def replacer(v, a, b):\n",
    "    i = jnp.searchsorted(a, v)\n",
    "    return b[i]\n"
   ]
  },
  {
   "cell_type": "code",
   "execution_count": 13,
   "metadata": {},
   "outputs": [
    {
     "ename": "NameError",
     "evalue": "name 'const_zero' is not defined",
     "output_type": "error",
     "traceback": [
      "\u001b[0;31m---------------------------------------------------------------------------\u001b[0m",
      "\u001b[0;31mNameError\u001b[0m                                 Traceback (most recent call last)",
      "Cell \u001b[0;32mIn[13], line 4\u001b[0m\n\u001b[1;32m      1\u001b[0m split_decisions \u001b[38;5;241m=\u001b[39m jnp\u001b[38;5;241m.\u001b[39marray([\u001b[38;5;241m1\u001b[39m,\u001b[38;5;241m1\u001b[39m,\u001b[38;5;241m0\u001b[39m])\n\u001b[1;32m      3\u001b[0m key \u001b[38;5;241m=\u001b[39m keysplit(key)\n\u001b[0;32m----> 4\u001b[0m genjax\u001b[38;5;241m.\u001b[39mMap(genjax\u001b[38;5;241m.\u001b[39mSwitch(const_zero, genjax\u001b[38;5;241m.\u001b[39muniform), in_axes\u001b[38;5;241m=\u001b[39m(\u001b[38;5;241m0\u001b[39m,\u001b[38;5;241m0\u001b[39m,\u001b[38;5;241m0\u001b[39m))\u001b[38;5;241m.\u001b[39msimulate(key, (\n\u001b[1;32m      5\u001b[0m                                 split_decisions, \n\u001b[1;32m      6\u001b[0m                                 \u001b[38;5;241m-\u001b[39mjnp\u001b[38;5;241m.\u001b[39mones(\u001b[38;5;241m3\u001b[39m), jnp\u001b[38;5;241m.\u001b[39mones(\u001b[38;5;241m3\u001b[39m)\n\u001b[1;32m      7\u001b[0m ))\u001b[38;5;241m.\u001b[39mget_retval()\n",
      "\u001b[0;31mNameError\u001b[0m: name 'const_zero' is not defined"
     ]
    }
   ],
   "source": [
    "split_decisions = jnp.array([1,1,0])\n",
    "\n",
    "key = keysplit(key)\n",
    "genjax.Map(genjax.Switch(const_zero, genjax.uniform), in_axes=(0,0,0)).simulate(key, (\n",
    "                                split_decisions, \n",
    "                                -jnp.ones(3), jnp.ones(3)\n",
    ")).get_retval()"
   ]
  },
  {
   "cell_type": "code",
   "execution_count": null,
   "metadata": {},
   "outputs": [
    {
     "data": {
      "text/plain": [
       "Mask(mask=1, value=Array(0.79532576, dtype=float32))"
      ]
     },
     "execution_count": 16,
     "metadata": {},
     "output_type": "execute_result"
    }
   ],
   "source": [
    "genjax.Map(genjax.uniform, in_axes=(0,0)).simulate(key, (-jnp.ones(3), jnp.ones(3))).retval\n",
    "genjax.masking_combinator(genjax.uniform).simulate(key, (1, (-1., 1.))).get_retval()"
   ]
  },
  {
   "cell_type": "code",
   "execution_count": null,
   "metadata": {},
   "outputs": [
    {
     "data": {
      "text/plain": [
       "MaskingTrace(mask_combinator=MaskingCombinator(inner=TFPDistribution(make_distribution=<function <lambda> at 0x7f650d353a60>)), inner=DistributionTrace(gen_fn=TFPDistribution(make_distribution=<function <lambda> at 0x7f650d353a60>), args=(Array([0.5], dtype=float32),), value=Array([0], dtype=int32), score=Array(-0.974077, dtype=float32)), check=Array([1], dtype=int32))"
      ]
     },
     "execution_count": 17,
     "metadata": {},
     "output_type": "execute_result"
    }
   ],
   "source": [
    "masked = genjax.masking_combinator(genjax.bernoulli)\n",
    "masked.simulate(key, (\n",
    "    1, (0.5,)\n",
    "))\n",
    "masked.simulate(key, (\n",
    "    jnp.array([1]), (jnp.array([0.5]),)\n",
    "))"
   ]
  },
  {
   "cell_type": "code",
   "execution_count": null,
   "metadata": {},
   "outputs": [
    {
     "data": {
      "text/plain": [
       "Array([1, 1, 0], dtype=int32)"
      ]
     },
     "execution_count": 18,
     "metadata": {},
     "output_type": "execute_result"
    }
   ],
   "source": [
    "key = keysplit(key)\n",
    "tr = genjax.Map(genjax.bernoulli, in_axes=(0,)).simulate(key, (\n",
    "    jnp.array([.5,.5,.5]),\n",
    "))\n",
    "tr.get_retval()"
   ]
  },
  {
   "cell_type": "code",
   "execution_count": null,
   "metadata": {},
   "outputs": [
    {
     "data": {
      "text/plain": [
       "(Mask(mask=Array([ True, False], dtype=bool), value=Array([1, 1], dtype=int32)),\n",
       " Array([0.25, 1.  ], dtype=float32))"
      ]
     },
     "execution_count": 19,
     "metadata": {},
     "output_type": "execute_result"
    }
   ],
   "source": [
    "key = keysplit(key)\n",
    "mapped_bernoulli        = genjax.Map(genjax.bernoulli, in_axes=(0,))\n",
    "masked_mapped_bernoulli = genjax.masking_combinator(mapped_bernoulli)\n",
    "tr = masked_mapped_bernoulli.simulate(key, \n",
    "    (\n",
    "        jnp.array([True, False]), \n",
    "        (jnp.array([logit(0.5),logit(0.5)]),)\n",
    "    )\n",
    ")\n",
    "tr.get_retval(), jnp.exp(tr.get_score())"
   ]
  },
  {
   "cell_type": "code",
   "execution_count": null,
   "metadata": {},
   "outputs": [
    {
     "data": {
      "text/plain": [
       "(Mask(mask=Array([1, 1, 0], dtype=int32), value=Array([1, 1, 0], dtype=int32)),\n",
       " Array([0.5, 0.5, 1. ], dtype=float32))"
      ]
     },
     "execution_count": 20,
     "metadata": {},
     "output_type": "execute_result"
    }
   ],
   "source": [
    "key, keys = keysplit(key, 1, 3)\n",
    "masked = genjax.masking_combinator(genjax.bernoulli)\n",
    "tr = vmap(masked.simulate, in_axes=(0, (0,(0,))) )(keys, ( \n",
    "    jnp.array([1,1,0]), \n",
    "    (logit(jnp.array([0.5,0.5,0.5])),),\n",
    "))\n",
    "tr.get_retval(), jnp.exp(tr.get_score())"
   ]
  },
  {
   "cell_type": "code",
   "execution_count": null,
   "metadata": {},
   "outputs": [
    {
     "data": {
      "text/plain": [
       "MapTrace(gen_fn=MapCombinator(in_axes=(0, (0,)), kernel=MaskingCombinator(inner=TFPDistribution(make_distribution=<function <lambda> at 0x7f650d353a60>))), inner=MaskingTrace(mask_combinator=MaskingCombinator(inner=TFPDistribution(make_distribution=<function <lambda> at 0x7f650d353a60>)), inner=DistributionTrace(gen_fn=TFPDistribution(make_distribution=<function <lambda> at 0x7f650d353a60>), args=(Array([0., 0., 0.], dtype=float32),), value=Array([0, 1, 0], dtype=int32), score=Array([-0.6931472, -0.6931472, -0.6931472], dtype=float32)), check=Array([1, 1, 0], dtype=int32)), args=(Array([1, 1, 0], dtype=int32), (Array([0., 0., 0.], dtype=float32),)), retval=Mask(mask=Array([1, 1, 0], dtype=int32), value=Array([0, 1, 0], dtype=int32)), score=Array(-1.3862944, dtype=float32))"
      ]
     },
     "execution_count": 21,
     "metadata": {},
     "output_type": "execute_result"
    }
   ],
   "source": [
    "key = keysplit(key)\n",
    "masked = genjax.masking_combinator(genjax.bernoulli)\n",
    "genjax.Map(masked, in_axes=(0,(0,))).simulate(key, ( \n",
    "    jnp.array([1,1,0]), \n",
    "    (logit(jnp.array([0.5,0.5,0.5])),),\n",
    "))"
   ]
  },
  {
   "cell_type": "markdown",
   "metadata": {},
   "source": [
    "## Particle system prior"
   ]
  },
  {
   "cell_type": "code",
   "execution_count": 14,
   "metadata": {},
   "outputs": [],
   "source": [
    "@genjax.Static\n",
    "def gaussian_embedding_prior(size_bounds):\n",
    "    emb = genjax.uniform(*jnp.tile(size_bounds, (1, 3, 3))) @ \"embedding_matrix\"\n",
    "    return emb"
   ]
  },
  {
   "cell_type": "code",
   "execution_count": 15,
   "metadata": {},
   "outputs": [],
   "source": [
    "def make_gaussian_particle_system_prior(max_particles: int):\n",
    "\n",
    "    @genjax.Static\n",
    "    def gaussian_embedding_prior(size_bounds):\n",
    "        \"\"\"Samples and embedding matrix.\"\"\"\n",
    "        emb = genjax.uniform(*jnp.tile(size_bounds, (1, 3,3))) @ \"embedding_matrix\"\n",
    "        return emb\n",
    "\n",
    "\n",
    "    @genjax.Static\n",
    "    def gaussian_particle_system_prior(particle_bounds, embedding_bounds):\n",
    "        \"\"\"Naive prior over Gaussian particle systems.\"\"\"\n",
    "\n",
    "        N = genjax.categorical(jnp.ones(max_particles)) @ \"N\" \n",
    "        particle_mask = jnp.arange(max_particles) < N\n",
    "        mus = genjax.Map(genjax.uniform, in_axes=(0,))(\n",
    "                    jnp.tile(particle_bounds, (max_particles,1,1))) @ \"centers\"\n",
    "        embs = genjax.Map(gaussian_embedding_prior, in_axes=(0,))(\n",
    "                    jnp.tile(embedding_bounds, (max_particles,1))) @ \"embedding_matrices\"\n",
    "        cols = genjax.Map(genjax.uniform, in_axes=(0,0))(\n",
    "                    jnp.zeros((max_particles, 3)), jnp.ones((max_particles, 3))) @ \"colors\"\n",
    "        alphas = genjax.Map(genjax.uniform, in_axes=(0,0))(\n",
    "                    jnp.zeros(max_particles), jnp.ones(max_particles)) @ \"transparencies\"\n",
    "\n",
    "        return mus, embs, cols, alphas, particle_mask\n",
    "\n",
    "\n",
    "    return gaussian_particle_system_prior\n"
   ]
  },
  {
   "cell_type": "code",
   "execution_count": 16,
   "metadata": {},
   "outputs": [],
   "source": [
    "key = keysplit(key)\n",
    "max_particles = 20\n",
    "\n",
    "particle_bounds  = jnp.array([[0.,0.,0.],[1.,1.,1.]])\n",
    "embedding_bounds = jnp.array([-5., 5.]) \n",
    "maker_args = (max_particles,)\n",
    "model_args = (\n",
    "    particle_bounds,\n",
    "    embedding_bounds\n",
    ")\n",
    "model = make_gaussian_particle_system_prior(*maker_args)\n",
    "tr = model.simulate(key, model_args)\n",
    "\n",
    "mus, embs, cols, alphas, particle_mask = tr.get_retval()"
   ]
  },
  {
   "cell_type": "markdown",
   "metadata": {},
   "source": [
    "## Split clustering model\n",
    "\n",
    "### Model structure\n",
    "- Should the structure rather be, decision to potentially split (or re-evalutate) and then re-cluster? This is more like make a decision first and then spend the time and compute to re-cluster. \n",
    "- Or is at each time re-cluster everything basically?\n",
    "- We could make re-evaluation decisions more general, ie., pick a subset of clusters and re-evaluate their structure."
   ]
  },
  {
   "cell_type": "markdown",
   "metadata": {},
   "source": [
    "\n",
    "```python\n",
    "cluster_splits = jnp.arange(max_clusters+1).at[split_ids].set(free_ids)[:-1]\n",
    "```"
   ]
  },
  {
   "cell_type": "code",
   "execution_count": 17,
   "metadata": {},
   "outputs": [],
   "source": [
    "def make_split_model(max_cluster):\n",
    "\n",
    "    \n",
    "    const_eye  = make_constant_model(jnp.eye(4))\n",
    "    const_zero = make_constant_model(jnp.array(0.0))\n",
    "\n",
    "\n",
    "    @genjax.Static\n",
    "    def split_model(state, particle_mask, split_probs):\n",
    "        \"\"\"Splits clusters and migrates particles to new clusters.\"\"\"\n",
    "        t, zs, Qs = state\n",
    "\n",
    "\n",
    "        slots_taken = jnp.isin(jnp.arange(max_clusters), zs)\n",
    "        slots_free  = slots_taken == False\n",
    "        free_ids    = jnp.nonzero(slots_free , size=max_clusters, fill_value=max_clusters-1)[0]\n",
    "\n",
    "        # -----------------------\n",
    "        # Split clusters\n",
    "        # -----------------------\n",
    "        # TODO: genjax's masked combinator?\n",
    "        # TODO: Make sure enough free ids are available, ie., \n",
    "        #   ensure that `sum(split_decisions) < sum(slots_free)`\n",
    "        # TODO: What if we allow to split into more than 2 clusters? Ask Ben.\n",
    "        split_probs *= slots_taken\n",
    "        split_decisions = genjax.bernoulli(\n",
    "                            logit(split_probs)) @ \"split_decisions\"\n",
    "\n",
    "        # The first sum(split_decisions) indices contain the \n",
    "        # ids of clusters that spun out new clusters\n",
    "        split_ids   = jnp.nonzero(split_decisions, size=max_clusters, fill_value=max_clusters-1)[0]\n",
    "        spinoff_ids = jnp.where(split_ids != max_clusters-1, free_ids, max_clusters-1)\n",
    "\n",
    "        # ----------------------------------------------------\n",
    "        # Re-cluster/Migrate particles \n",
    "        # from old clusters to new clusters\n",
    "        # ----------------------------------------------------\n",
    "        # TODO: genjax's masked combinator?\n",
    "        # TODO: Replace by a dirichlet distribution\n",
    "        cluster_probs = genjax.Map(genjax.Switch(const_zero, genjax.uniform), in_axes=(0,0,0))(\n",
    "                                split_decisions.astype(jnp.int32), \n",
    "                                jnp.zeros(max_clusters), jnp.ones(max_clusters)\n",
    "                            )  @ \"cluster_probs\"\n",
    "\n",
    "        migration_probs     = cluster_probs[zs]\n",
    "        migration_decisions = genjax.Map(genjax.bernoulli, in_axes=(0,))(\n",
    "                                logit(migration_probs)) @ \"migration_decisions\"\n",
    "\n",
    "        zs_new = jnp.where(migration_decisions, \n",
    "                    vmap(lambda z: spinoff_ids[jnp.searchsorted(split_ids, z)])(zs),\n",
    "                    zs)\n",
    "\n",
    "        # -------------------------------\n",
    "        # Create poses for new clusters\n",
    "        # -------------------------------\n",
    "        # TODO: genjax's masked combinator?\n",
    "        switcher = genjax.Switch(const_eye, coordinate_frame_prior)\n",
    "        Qs_spinoff = genjax.Map(switcher, in_axes=(0,0))(\n",
    "                            split_decisions.astype(jnp.int32), Qs) @ \"split_poses\"\n",
    "                            \n",
    "        Qs_new = jnp.where(jnp.isin(jnp.arange(max_clusters), spinoff_ids)[:,None,None], Qs_spinoff, Qs)\n",
    "\n",
    "        # -----------------------\n",
    "        # Dynamics\n",
    "        # -----------------------\n",
    "        dQs = genjax.Map(motion_model, in_axes=(0,))(Qs_new) @ \"motion_updates\"\n",
    "        Qs_new = Qs_new @ dQs\n",
    "\n",
    "        return (t+1, zs_new, Qs_new)\n",
    "\n",
    "    return split_model"
   ]
  },
  {
   "cell_type": "code",
   "execution_count": 18,
   "metadata": {},
   "outputs": [
    {
     "name": "stdout",
     "output_type": "stream",
     "text": [
      "(20, 4, 4)\n",
      "2\n"
     ]
    },
    {
     "data": {
      "text/plain": [
       "[<matplotlib.lines.Line2D at 0x7f5a0dc9bcd0>]"
      ]
     },
     "execution_count": 18,
     "metadata": {},
     "output_type": "execute_result"
    },
    {
     "data": {
      "image/png": "[encoded data removed]",
      "text/plain": [
       "<Figure size 640x480 with 1 Axes>"
      ]
     },
     "metadata": {},
     "output_type": "display_data"
    }
   ],
   "source": [
    "key = keysplit(key)\n",
    "max_clusters  = 20\n",
    "num_particles = 100\n",
    "zs = jnp.zeros(num_particles).astype(jnp.int32)\n",
    "zs = zs.at[:50].set(1)\n",
    "Qs = jnp.tile(jnp.eye(4,4), (max_clusters,1,1))\n",
    "split_probs = jnp.ones(max_clusters)*0.5\n",
    "\n",
    "model  = make_split_model(max_clusters)\n",
    "tr = model.simulate(key, ((0, zs, Qs),jnp.ones(num_particles),  split_probs));\n",
    "\n",
    "\n",
    "_, zs_, Qs_ = tr.retval\n",
    "\n",
    "print(Qs_.shape)\n",
    "\n",
    "print(split_decisions.sum())\n",
    "plt.plot(zs, marker=\"o\")\n",
    "plt.plot(zs_, marker=\"o\")\n"
   ]
  },
  {
   "cell_type": "code",
   "execution_count": 19,
   "metadata": {},
   "outputs": [
    {
     "name": "stdout",
     "output_type": "stream",
     "text": [
      "177 ms ± 0 ns per loop (mean ± std. dev. of 1 run, 1 loop each)\n",
      "132 ms ± 0 ns per loop (mean ± std. dev. of 1 run, 1 loop each)\n",
      "81 ms ± 0 ns per loop (mean ± std. dev. of 1 run, 1 loop each)\n"
     ]
    }
   ],
   "source": [
    "%timeit -n 1 -r 1 jnp.repeat(2.0, 10_000).block_until_ready();\n",
    "%timeit -n 1 -r 1 2.0*jnp.ones(10_000).block_until_ready();\n",
    "%timeit -n 1 -r 1 jnp.tile(2.0, (10_000,)).block_until_ready();"
   ]
  },
  {
   "cell_type": "code",
   "execution_count": 23,
   "metadata": {},
   "outputs": [],
   "source": [
    "class ParticleSystem(NamedTuple):\n",
    "    poses: tuple[Array, Array]\n",
    "    covariances: Array\n",
    "    colors: Array\n",
    "    weights: Array\n",
    "    mask: Array\n",
    "\n",
    "\n",
    "def make_gaussian_particle_system_prior(max_particles: int):\n",
    "\n",
    "\n",
    "    @genjax.Static\n",
    "    def gaussian_embedding_prior(size_bounds):\n",
    "        \"\"\"Samples and embedding matrix.\"\"\"\n",
    "        emb = genjax.uniform(*jnp.tile(size_bounds, (1, 3,3))) @ \"embedding_matrix\"\n",
    "        return emb\n",
    "\n",
    "\n",
    "    @genjax.Static\n",
    "    def gaussian_particle_system_prior(particle_bounds, embedding_bounds):\n",
    "        \"\"\"Naive prior over Gaussian particle systems.\"\"\"\n",
    "\n",
    "        # TODO: N is off by one!\n",
    "        N = genjax.categorical(jnp.ones(max_particles)) @ \"num_active\" \n",
    "        particle_mask = jnp.arange(max_particles) < N\n",
    "\n",
    "        poses = genjax.Map(particle_pose_prior, in_axes=(0,))(\n",
    "                    jnp.tile(particle_bounds, (max_particles,1,1))) @ \"poses\"\n",
    "\n",
    "        embs = genjax.Map(gaussian_embedding_prior, in_axes=(0,))(\n",
    "                    jnp.tile(embedding_bounds, (max_particles,1))) @ \"embedding_matrices\"\n",
    "        covs = vmap(lambda emb: emb@emb.T)(embs)\n",
    "        cols = genjax.Map(genjax.uniform, in_axes=(0,0))(\n",
    "                    jnp.zeros((max_particles, 3)), jnp.ones((max_particles, 3))) @ \"colors\"\n",
    "        alphas = genjax.Map(genjax.uniform, in_axes=(0,0))(\n",
    "                    jnp.zeros(max_particles), jnp.ones(max_particles)) @ \"transparencies\"\n",
    "\n",
    "        return ParticleSystem(poses, covs, cols, alphas, particle_mask), \n",
    "\n",
    "\n",
    "    return gaussian_particle_system_prior\n"
   ]
  },
  {
   "cell_type": "code",
   "execution_count": 24,
   "metadata": {},
   "outputs": [],
   "source": [
    "class Pose(NamedTuple):\n",
    "    pos:  jnp.ndarray\n",
    "    quat: jnp.ndarray\n",
    "\n",
    "\n",
    "class Cam(NamedTuple):\n",
    "    pose: Pose\n",
    "    intrinsics: Array\n",
    "\n",
    "\n",
    "\n",
    "class Clustering(NamedTuple):\n",
    "    poses: tuple[Array, Array]\n",
    "    assignments: Array\n",
    "\n",
    "\n",
    "\n",
    "def make_hierarchical_gaussian_particle_model(max_clusters, max_particles):\n",
    "    \n",
    "    \n",
    "    split_model = make_split_model(max_clusters)\n",
    "    split_chain = genjax.Unfold(split_model, 10)\n",
    "    gaussian_particle_system_prior = make_gaussian_particle_system_prior(max_particles)\n",
    "\n",
    "\n",
    "    @genjax.Static\n",
    "    def motion_model(p: Pose, sig: tuple[Array, Array]):\n",
    "        \"\"\"Hacked motion model for elements in SE(3).\"\"\"\n",
    "        x = genjax.normal(p.pos, sig[0]) @ \"x\"\n",
    "        q = genjax.normal(p.quat, sig[1]) @ \"q\"\n",
    "        q = q/jnp.linalg.norm(q)\n",
    "        return Pose(x,q)\n",
    "\n",
    "    \n",
    "    @genjax.Static\n",
    "    def kernel(state):\n",
    "        t, gps, clustering, cam = state\n",
    "\n",
    "        new_cam_pose       = motion_model(cam.pose, (jnp.ones(3), jnp.ones(4))) @ \"camera_pose\"\n",
    "        new_cluster_poses  = genjax.Map(motion_model, in_axes=(0,0,None,None))(\n",
    "                                    clustering.poses, (jnp.ones(3), jnp.ones(4))) @ \"cluster_poses\"\n",
    "        new_particle_poses = genjax.Map(motion_model, in_axes=(0,0,None,None))(\n",
    "                                    gps.poses, (jnp.ones(3), jnp.ones(4))) @ \"relative_particle_poses\"\n",
    "\n",
    "        cam        = cam._replace(pose=new_cam_pose)\n",
    "        gps        = gps._replace(poses=new_particle_poses)\n",
    "        clustering = clustering._replace(poses=new_cluster_poses)\n",
    "\n",
    "        observation = observation_model(cam, gps, clustering) @ \"observation\"\n",
    "\n",
    "\n",
    "        return (t+1, gps, clustering, cam)\n",
    "\n",
    "\n",
    "\n",
    "\n",
    "    @genjax.Static\n",
    "    def hierarchical_gaussian_particle_model(T, particle_bounds, embedding_bounds, split_probs):\n",
    "\n",
    "        mus, embs, cols, alphas, particle_mask = gaussian_particle_system_prior(particle_bounds, embedding_bounds) @ \"particles\"\n",
    "\n",
    "        # # TODO: genjax's masked combinator?\n",
    "        zs = genjax.Map(genjax.categorical, in_axes=(0,))(\n",
    "                        jnp.tile(jnp.ones(max_clusters), (max_particles, 1) ) ) @ \"initial_assignments\"\n",
    "        Qs = genjax.Map(coordinate_frame_prior, in_axes=(0,))(\n",
    "                        jnp.tile(jnp.eye(4,4), (max_clusters,1,1))) @ \"initial_coordinate_frames\"\n",
    "\n",
    "\n",
    "        chain = split_chain(T, (0, zs, Qs), particle_mask, split_probs) @ \"split_chain\"\n",
    "\n",
    "        return zs, Qs, chain\n",
    "        \n",
    "\n",
    "    return hierarchical_gaussian_particle_model"
   ]
  },
  {
   "cell_type": "code",
   "execution_count": 34,
   "metadata": {},
   "outputs": [],
   "source": [
    "\n",
    "max_clusters  = 10\n",
    "max_particles = 100 \n",
    "particle_bounds  = jnp.array([[0.,0.,0.],[1.,1.,1.]])\n",
    "embedding_bounds = jnp.array([-5., 5.]) \n",
    "split_probs = jnp.ones(max_clusters)*0.5\n",
    "\n",
    "\n",
    "model = make_hierarchical_gaussian_particle_model(max_clusters, max_particles)\n",
    "tr,w = model.importance(key, \n",
    "genjax.choice_map({\n",
    "    \"initial_assignments\": genjax.vector_choice_map(genjax.choice_value(jnp.zeros(max_particles).astype(jnp.int32)))\n",
    "}),\n",
    "(10, particle_bounds, embedding_bounds, split_probs))\n"
   ]
  },
  {
   "cell_type": "code",
   "execution_count": 35,
   "metadata": {},
   "outputs": [
    {
     "data": {
      "text/plain": [
       "((10,), (10, 100), (10, 10, 4, 4))"
      ]
     },
     "execution_count": 35,
     "metadata": {},
     "output_type": "execute_result"
    }
   ],
   "source": [
    "zs0, Qs0, (ts, zs, qs) = tr.retval\n",
    "ts.shape, zs.shape, qs.shape"
   ]
  },
  {
   "cell_type": "code",
   "execution_count": 36,
   "metadata": {},
   "outputs": [
    {
     "data": {
      "text/plain": [
       "(100,)"
      ]
     },
     "execution_count": 36,
     "metadata": {},
     "output_type": "execute_result"
    }
   ],
   "source": [
    "zs0.shape"
   ]
  },
  {
   "cell_type": "code",
   "execution_count": 37,
   "metadata": {},
   "outputs": [
    {
     "data": {
      "text/plain": [
       "[<matplotlib.lines.Line2D at 0x7f6439f70950>]"
      ]
     },
     "execution_count": 37,
     "metadata": {},
     "output_type": "execute_result"
    },
    {
     "data": {
      "image/png": "[encoded data removed]",
      "text/plain": [
       "<Figure size 640x480 with 1 Axes>"
      ]
     },
     "metadata": {},
     "output_type": "display_data"
    }
   ],
   "source": [
    "plt.plot(zs0[:20])\n",
    "# plt.plot(zs[:,:20])"
   ]
  },
  {
   "cell_type": "code",
   "execution_count": null,
   "metadata": {},
   "outputs": [],
   "source": []
  }
 ],
 "metadata": {
  "kernelspec": {
   "display_name": "dcolmap",
   "language": "python",
   "name": "python3"
  },
  "language_info": {
   "codemirror_mode": {
    "name": "ipython",
    "version": 3
   },
   "file_extension": ".py",
   "mimetype": "text/x-python",
   "name": "python",
   "nbconvert_exporter": "python",
   "pygments_lexer": "ipython3",
   "version": "3.11.6"
  }
 },
 "nbformat": 4,
 "nbformat_minor": 2
}
