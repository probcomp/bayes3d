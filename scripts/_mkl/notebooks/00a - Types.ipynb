{
 "cells": [
  {
   "cell_type": "code",
   "execution_count": 2,
   "metadata": {},
   "outputs": [],
   "source": [
    "#|default_exp types"
   ]
  },
  {
   "cell_type": "code",
   "execution_count": 5,
   "metadata": {},
   "outputs": [],
   "source": [
    "#|export\n",
    "from typing import Any, NamedTuple\n",
    "import numpy as np\n",
    "import jax\n",
    "import jaxlib\n",
    "\n",
    "\n",
    "Array = np.ndarray | jax.Array\n",
    "Shape = int | tuple[int, ...]\n",
    "Bool = Array\n",
    "Float = Array\n",
    "Int = Array\n",
    "FaceIndex = int\n",
    "FaceIndices = Array\n",
    "ArrayN      = Array\n",
    "Array3      = Array\n",
    "Array2      = Array\n",
    "ArrayNx2    = Array\n",
    "ArrayNx3    = Array\n",
    "Matrix      = jaxlib.xla_extension.ArrayImpl\n",
    "PrecisionMatrix  = Matrix\n",
    "CovarianceMatrix = Matrix\n",
    "CholeskyMatrix   = Matrix\n",
    "SquareMatrix     = Matrix\n",
    "Vector     = Array\n",
    "Direction  = Vector\n",
    "BaseVector = Vector"
   ]
  },
  {
   "cell_type": "code",
   "execution_count": null,
   "metadata": {},
   "outputs": [],
   "source": []
  }
 ],
 "metadata": {
  "kernelspec": {
   "display_name": "dcolmap",
   "language": "python",
   "name": "python3"
  },
  "language_info": {
   "codemirror_mode": {
    "name": "ipython",
    "version": 3
   },
   "file_extension": ".py",
   "mimetype": "text/x-python",
   "name": "python",
   "nbconvert_exporter": "python",
   "pygments_lexer": "ipython3",
   "version": "3.11.6"
  }
 },
 "nbformat": 4,
 "nbformat_minor": 2
}
