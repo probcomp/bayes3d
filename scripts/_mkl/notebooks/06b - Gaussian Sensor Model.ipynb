{
 "cells": [
  {
   "cell_type": "code",
   "execution_count": 1,
   "metadata": {},
   "outputs": [],
   "source": [
    "%load_ext autoreload\n",
    "%autoreload 2"
   ]
  },
  {
   "cell_type": "code",
   "execution_count": 1,
   "metadata": {},
   "outputs": [],
   "source": [
    "#|default_exp gaussian_sensor_model"
   ]
  },
  {
   "cell_type": "markdown",
   "metadata": {},
   "source": [
    "# Gaussian Renderer"
   ]
  },
  {
   "cell_type": "code",
   "execution_count": 2,
   "metadata": {},
   "outputs": [],
   "source": [
    "#|export\n",
    "import bayes3d as b3d\n",
    "import trimesh\n",
    "import os\n",
    "from bayes3d._mkl.utils import *\n",
    "import matplotlib.pyplot as plt\n",
    "import numpy as np\n",
    "import jax\n",
    "from jax import jit, vmap\n",
    "import jax.numpy as jnp\n",
    "from functools import partial\n",
    "from bayes3d.camera import Intrinsics, K_from_intrinsics, camera_rays_from_intrinsics\n",
    "from bayes3d.transforms_3d import transform_from_pos_target_up, add_homogenous_ones, unproject_depth\n",
    "import tensorflow_probability as tfp\n",
    "from tensorflow_probability.substrates.jax.math import lambertw\n"
   ]
  },
  {
   "cell_type": "code",
   "execution_count": 5,
   "metadata": {},
   "outputs": [],
   "source": [
    "#|export\n",
    "from bayes3d._mkl.types import *\n",
    "from bayes3d._mkl.gaussian_renderer import (\n",
    "    weighted_arrival_intersection, \n",
    "    weighted_argmax_intersection,\n",
    "    discrete_arrival_probabilities\n",
    ")\n"
   ]
  },
  {
   "cell_type": "code",
   "execution_count": 6,
   "metadata": {},
   "outputs": [],
   "source": [
    "#|export\n",
    "normal_cdf    = jax.scipy.stats.norm.cdf\n",
    "normal_pdf    = jax.scipy.stats.norm.pdf\n",
    "normal_logpdf = jax.scipy.stats.norm.logpdf\n",
    "inv = jnp.linalg.inv\n",
    "\n",
    "key = jax.random.PRNGKey(0)"
   ]
  },
  {
   "cell_type": "markdown",
   "metadata": {},
   "source": [
    "From \n",
    "> `_mkl.gaussian_renderer.py`\n",
    "```python\n",
    "    def _cast_ray(v, mus, precisions, colors, weights, zmax=2.0, bg_color=jnp.array([1.,1.,1.,1.])):\n",
    "        # TODO: Deal with negative intersections behind the camera\n",
    "        # TODO: Maybe switch to log probs?\n",
    "\n",
    "        # Compute fuzzy intersections `xs` with Gaussians and \n",
    "        # their function values `sigmas`\n",
    "        ts, sigmas = vmap(weighted_argmax_intersection, (0,0,0,None,None))(\n",
    "                            mus, precisions, weights, jnp.zeros(3), v)\n",
    "        order  = jnp.argsort(ts)\n",
    "        ts     = ts[order]\n",
    "        sigmas = sigmas[order]\n",
    "        xs     = ts[:,None]*v[None,:]\n",
    "\n",
    "        # TODO: Ensure that alphas are in [0,1]\n",
    "        # TODO: Should we reset the color opacity to `op`?\n",
    "        # Alternatively we can set `alphas = (1 - jnp.exp(-sigmas*1.0))` -- cf. Fuzzy Metaballs paper\n",
    "        alphas = sigmas * (ts > 0)\n",
    "        arrival_probs = discrete_arrival_probabilities(alphas)\n",
    "        op = 1 - arrival_probs[-1] # Opacity\n",
    "        mean_depth = jnp.sum(arrival_probs[:-1]*xs[:,2]) \\\n",
    "                        + arrival_probs[-1]*zmax\n",
    "        mean_color = jnp.sum(arrival_probs[:-1,None]*colors[order], axis=0) \\\n",
    "                        + arrival_probs[-1]*bg_color    \n",
    "\n",
    "        return mean_depth, mean_color, op\n",
    "\n",
    "\n",
    "    cast_rays = jit(vmap(_cast_ray, (0,None,None,None,None,None,None)))\n",
    "```"
   ]
  },
  {
   "cell_type": "markdown",
   "metadata": {},
   "source": []
  }
 ],
 "metadata": {
  "kernelspec": {
   "display_name": "dcolmap",
   "language": "python",
   "name": "python3"
  },
  "language_info": {
   "codemirror_mode": {
    "name": "ipython",
    "version": 3
   },
   "file_extension": ".py",
   "mimetype": "text/x-python",
   "name": "python",
   "nbconvert_exporter": "python",
   "pygments_lexer": "ipython3",
   "version": "3.11.6"
  }
 },
 "nbformat": 4,
 "nbformat_minor": 2
}
