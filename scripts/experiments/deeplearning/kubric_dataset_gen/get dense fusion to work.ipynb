{
 "cells": [
  {
   "cell_type": "code",
   "execution_count": null,
   "id": "174486d7",
   "metadata": {},
   "outputs": [],
   "source": [
    "import sys\n",
    "sys.path.insert(0,'/home/nishadgothoskar/jax3dp3/jax3dp3/posecnn-pytorch/PoseCNN-PyTorch/')\n",
    "import jax.numpy as jnp\n",
    "import bayes3d as b\n",
    "import trimesh\n",
    "import os\n",
    "import numpy as np\n",
    "import trimesh\n",
    "import jax\n",
    "\n",
    "\n",
    "# --- creating the model dir from the working directory\n",
    "model_dir = os.path.join(j.utils.get_assets_dir(), \"ycb_video_models/models\")\n",
    "print(f\"{model_dir} exists: {os.path.exists(model_dir)}\")\n",
    "model_names = j.ycb_loader.MODEL_NAMES\n",
    "IDX = 13\n",
    "name = model_names[IDX]\n",
    "print(name)\n",
    "\n",
    "\n",
    "bop_ycb_dir = os.path.join(j.utils.get_assets_dir(), \"bop/ycbv\")\n",
    "rgbd, gt_ids, gt_poses, masks = j.ycb_loader.get_test_img('52', '1', bop_ycb_dir)\n",
    "intrinsics = j.Intrinsics(\n",
    "    height=rgbd.intrinsics.height,\n",
    "    width=rgbd.intrinsics.width,\n",
    "    fx=rgbd.intrinsics.fx, fy=rgbd.intrinsics.fx,\n",
    "    cx=rgbd.intrinsics.width/2.0, cy=rgbd.intrinsics.height/2.0,\n",
    "    near=0.001, far=1.0\n",
    ")"
   ]
  },
  {
   "cell_type": "code",
   "execution_count": null,
   "id": "e5c8e755",
   "metadata": {},
   "outputs": [],
   "source": [
    "import bayes3d.posecnn_densefusion\n",
    "densefusion = jax3dp3.posecnn_densefusion.DenseFusion()\n"
   ]
  },
  {
   "cell_type": "code",
   "execution_count": null,
   "id": "7af16153",
   "metadata": {},
   "outputs": [],
   "source": [
    "\n",
    "mesh_path = os.path.join(model_dir,name,\"textured.obj\")\n",
    "print(mesh_path)\n",
    "mesh = j.mesh.load_mesh(mesh_path)"
   ]
  },
  {
   "cell_type": "code",
   "execution_count": null,
   "id": "a5177f7d",
   "metadata": {},
   "outputs": [],
   "source": [
    "NUM_IMAGES_PER_ITER = 1\n",
    "key = jax.random.PRNGKey(41)\n",
    "object_poses = jax.vmap(lambda key: j.distributions.gaussian_vmf(key, 0.00001, 0.001))(\n",
    "    jax.random.split(key, NUM_IMAGES_PER_ITER)\n",
    ")\n",
    "# object_poses = jnp.array([jnp.eye(4)])\n",
    "# object_poses = object_poses.at[:,:3,3].set(jnp.array([0.0, 0.0, 1.0]))\n",
    "object_poses = object_poses.at[:,:3,3].set(jnp.array([0.083, 0.08324493,  1.0084537 ]))"
   ]
  },
  {
   "cell_type": "code",
   "execution_count": null,
   "id": "271366a7",
   "metadata": {},
   "outputs": [],
   "source": [
    "all_data = j.kubric_interface.render_multiobject_parallel([mesh_path], object_poses[None,...],\n",
    "                                                          intrinsics, scaling_factor=1.0, lighting=2.0) # multi img singleobj\n",
    "\n",
    "rgbd = all_data[0]"
   ]
  },
  {
   "cell_type": "code",
   "execution_count": null,
   "id": "cf48478f",
   "metadata": {},
   "outputs": [],
   "source": [
    "rgb = rgbd.rgb\n",
    "# rgb[rgb[:,:,0] < 2.0,:] = 255.0\n",
    "j.get_rgb_image(rgb)"
   ]
  },
  {
   "cell_type": "code",
   "execution_count": null,
   "id": "14ce1811",
   "metadata": {},
   "outputs": [],
   "source": [
    "results = densefusion.get_densefusion_results(rgb, rgbd.depth, rgbd.intrinsics, scene_name=\"1\")"
   ]
  },
  {
   "cell_type": "code",
   "execution_count": null,
   "id": "f3fc9bf6",
   "metadata": {},
   "outputs": [],
   "source": []
  },
  {
   "cell_type": "code",
   "execution_count": null,
   "id": "c274ca6f",
   "metadata": {},
   "outputs": [],
   "source": []
  }
 ],
 "metadata": {
  "kernelspec": {
   "display_name": "Python 3 (ipykernel)",
   "language": "python",
   "name": "python3"
  },
  "language_info": {
   "codemirror_mode": {
    "name": "ipython",
    "version": 3
   },
   "file_extension": ".py",
   "mimetype": "text/x-python",
   "name": "python",
   "nbconvert_exporter": "python",
   "pygments_lexer": "ipython3",
   "version": "3.8.16"
  }
 },
 "nbformat": 4,
 "nbformat_minor": 5
}
