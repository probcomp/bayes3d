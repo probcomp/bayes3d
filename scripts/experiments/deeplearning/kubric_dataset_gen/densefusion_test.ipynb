{
 "cells": [
  {
   "cell_type": "code",
   "execution_count": null,
   "id": "174486d7",
   "metadata": {},
   "outputs": [],
   "source": [
    "import jax.numpy as jnp\n",
    "import bayes3d as b\n",
    "import trimesh\n",
    "import os\n",
    "import numpy as np\n",
    "import trimesh\n",
    "import jax\n",
    "\n",
    "\n",
    "# --- creating the model dir from the working directory\n",
    "model_dir = os.path.join(j.utils.get_assets_dir(), \"ycb_video_models/models\")\n",
    "print(f\"{model_dir} exists: {os.path.exists(model_dir)}\")\n",
    "model_names = j.ycb_loader.MODEL_NAMES\n",
    "IDX = 13\n",
    "name = model_names[IDX]\n",
    "print(name)\n",
    "\n",
    "\n",
    "bop_ycb_dir = os.path.join(j.utils.get_assets_dir(), \"bop/ycbv\")\n",
    "rgbd, gt_ids, gt_poses, masks = j.ycb_loader.get_test_img('52', '1', bop_ycb_dir)\n",
    "intrinsics = j.Intrinsics(\n",
    "    height=rgbd.intrinsics.height,\n",
    "    width=rgbd.intrinsics.width,\n",
    "    fx=rgbd.intrinsics.fx, fy=rgbd.intrinsics.fx,\n",
    "    cx=rgbd.intrinsics.width/2.0, cy=rgbd.intrinsics.height/2.0,\n",
    "    near=0.001, far=2.0\n",
    ")"
   ]
  },
  {
   "cell_type": "code",
   "execution_count": null,
   "id": "e5c8e755",
   "metadata": {},
   "outputs": [],
   "source": [
    "import bayes3d.posecnn_densefusion\n",
    "densefusion = jax3dp3.posecnn_densefusion.DenseFusion()"
   ]
  },
  {
   "cell_type": "code",
   "execution_count": null,
   "id": "7af16153",
   "metadata": {},
   "outputs": [],
   "source": [
    "mesh_path = os.path.join(model_dir,name,\"textured.obj\")\n",
    "print(mesh_path)\n",
    "mesh = j.mesh.load_mesh(mesh_path)"
   ]
  },
  {
   "cell_type": "code",
   "execution_count": null,
   "id": "a5177f7d",
   "metadata": {},
   "outputs": [],
   "source": [
    "NUM_IMAGES_PER_ITER = 5\n",
    "FIXED_TRANSLATION = jnp.array([0.0, 0.08324493, 1.0084537])\n",
    "_seed = 1222\n",
    "key = jax.random.PRNGKey(_seed) \n",
    "object_poses = jax.vmap(lambda key: j.distributions.gaussian_vmf(key, 0.00001, 0.001))(\n",
    "    jax.random.split(key, NUM_IMAGES_PER_ITER)\n",
    ")\n",
    "object_poses = object_poses.at[:,:3,3].set(FIXED_TRANSLATION)"
   ]
  },
  {
   "cell_type": "code",
   "execution_count": null,
   "id": "67f86489",
   "metadata": {},
   "outputs": [],
   "source": [
    "## fetch dataset\n",
    "DATASET_FILENAME = f\"dataset_{_seed}_{NUM_IMAGES_PER_ITER}.npz\"  # npz file\n",
    "DATASET_FILE = os.path.join(j.utils.get_assets_dir(), f\"datasets/{DATASET_FILENAME}\")\n",
    "\n",
    "load_from_existing = False\n",
    "\n",
    "# generate and save the dataset\n",
    "if not load_from_existing:\n",
    "    rgbds = j.kubric_interface.render_multiobject_parallel([mesh_path], object_poses[None,...],\n",
    "                                                          intrinsics, scaling_factor=1.0, lighting=1.0) # multi img singleobj\n",
    "    np.savez(DATASET_FILE, rgbds=rgbds, poses=object_poses, id=IDX, name=model_names[IDX], intrinsics=intrinsics, mesh_path=mesh_path)\n",
    "\n",
    "# or load preexisting dataset\n",
    "else:\n",
    "    data = np.load(DATASET_FILE,allow_pickle=True)\n",
    "    rgbds = data[\"rgbds\"]\n",
    "    object_poses = data[\"poses\"]\n",
    "    id = data[\"id\"].item()\n",
    "\n",
    "rgb_images = j.hvstack_images([j.get_rgb_image(r.rgb) for r in rgbds], 1, 5)\n",
    "rgb_images.show()\n",
    "rgb_images.save(f\"dataset_{NUM_IMAGES_PER_ITER}_seed_{_seed}.png\")\n"
   ]
  },
  {
   "cell_type": "code",
   "execution_count": null,
   "id": "14ce1811",
   "metadata": {},
   "outputs": [],
   "source": [
    "# run densefusion on dataset\n",
    "all_results = []\n",
    "for scene_idx, rgbd in enumerate(rgbds):\n",
    "    results = densefusion.get_densefusion_results(rgbd.rgb, rgbd.depth, rgbd.intrinsics, scene_name=str(scene_idx))\n",
    "    all_results.extend(results)"
   ]
  },
  {
   "cell_type": "code",
   "execution_count": null,
   "id": "54826e1f",
   "metadata": {},
   "outputs": [],
   "source": [
    "# process densefusion results\n",
    "import pickle\n",
    "with open(f\"dataset_{NUM_IMAGES_PER_ITER}_seed_{_seed}.pkl\", 'wb') as f:\n",
    "    pickle.dump(all_results, f)\n",
    "\n",
    "translation_err = jnp.zeros((1,3))\n",
    "for results in all_results:\n",
    "    pred_rot = results[name]['rot_q']\n",
    "    pred_transl = results[name]['tr']\n",
    "    translation_err += pred_transl\n",
    "\n",
    "avg_translation_err = translation_err / len(all_results)\n",
    "avg_translation_err"
   ]
  },
  {
   "cell_type": "code",
   "execution_count": null,
   "id": "c274ca6f",
   "metadata": {},
   "outputs": [],
   "source": [
    "## Visualize densefusion outputs\n",
    "\n",
    "from PIL import Image\n",
    "\n",
    "VIZ_DIR = os.path.join(os.getcwd(), \"Densefusion_iterative_result/\")\n",
    "\n",
    "densefusion_vizs = []\n",
    "\n",
    "for scene_idx, _ in enumerate(rgbds):\n",
    "    im = Image.open(os.path.join(VIZ_DIR, f\"{scene_idx}.png\"))\n",
    "    densefusion_vizs.append(im)\n",
    "densefusion_result_viz = j.hvstack_images(densefusion_vizs, 1, 5)\n",
    "densefusion_result_viz.show()"
   ]
  },
  {
   "cell_type": "code",
   "execution_count": null,
   "id": "7a9fa0d0",
   "metadata": {},
   "outputs": [],
   "source": [
    "rgb_images.show()  # original dataset for comparison"
   ]
  },
  {
   "cell_type": "code",
   "execution_count": null,
   "id": "c1d77b45",
   "metadata": {},
   "outputs": [],
   "source": []
  }
 ],
 "metadata": {
  "kernelspec": {
   "display_name": "Python 3 (ipykernel)",
   "language": "python",
   "name": "python3"
  },
  "language_info": {
   "codemirror_mode": {
    "name": "ipython",
    "version": 3
   },
   "file_extension": ".py",
   "mimetype": "text/x-python",
   "name": "python",
   "nbconvert_exporter": "python",
   "pygments_lexer": "ipython3",
   "version": "3.8.16"
  }
 },
 "nbformat": 4,
 "nbformat_minor": 5
}
