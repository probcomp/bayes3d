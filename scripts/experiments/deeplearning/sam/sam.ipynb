{
 "cells": [
  {
   "cell_type": "code",
   "execution_count": null,
   "id": "b4a1a76f",
   "metadata": {},
   "outputs": [],
   "source": [
    "import bayes3d as b\n",
    "import jax.numpy as jnp\n",
    "import os\n",
    "import torch\n",
    "import numpy as np\n",
    "import pickle\n",
    "import warnings\n",
    "from segment_anything import SamAutomaticMaskGenerator, sam_model_registry, build_sam\n",
    "import sys\n",
    "sys.path.extend([\"/home/nishadgothoskar/ptamp/pybullet_planning\"])\n",
    "sys.path.extend([\"/home/nishadgothoskar/ptamp\"])\n",
    "warnings.filterwarnings(\"ignore\")\n",
    "\n",
    "\n",
    "bop_ycb_dir = os.path.join(j.utils.get_assets_dir(), \"bop/ycbv\")\n",
    "rgbd, gt_ids, gt_poses, masks = j.ycb_loader.get_test_img('52', '1', bop_ycb_dir)\n",
    "\n",
    "test_pkl_file = os.path.join(j.utils.get_assets_dir(),\"sample_imgs/strawberry_error.pkl\")\n",
    "test_pkl_file = os.path.join(j.utils.get_assets_dir(),\"sample_imgs/knife_spoon_box_real.pkl\")\n",
    "test_pkl_file = os.path.join(j.utils.get_assets_dir(),\"sample_imgs/red_lego_multi.pkl\")\n",
    "test_pkl_file = os.path.join(j.utils.get_assets_dir(),\"sample_imgs/demo2_nolight.pkl\")\n",
    "\n",
    "file = open(test_pkl_file,'rb')\n",
    "camera_images = pickle.load(file)[\"camera_images\"]\n",
    "images = [j.RGBD.construct_from_camera_image(c) for c in camera_images]\n",
    "rgbd = images[0]\n"
   ]
  },
  {
   "cell_type": "code",
   "execution_count": null,
   "id": "a0b37680",
   "metadata": {},
   "outputs": [],
   "source": [
    "j.get_rgb_image(rgbd.rgb).save(\"rgb.png\")\n"
   ]
  },
  {
   "cell_type": "code",
   "execution_count": null,
   "id": "239a3fe8",
   "metadata": {},
   "outputs": [],
   "source": [
    "\n",
    "sam = build_sam(checkpoint=\"/home/nishadgothoskar/jax3dp3/assets/sam/sam_vit_h_4b8939.pth\")\n",
    "sam.to(device=\"cuda\")\n"
   ]
  },
  {
   "cell_type": "code",
   "execution_count": null,
   "id": "c4b4285f",
   "metadata": {},
   "outputs": [],
   "source": [
    "mask_generator = SamAutomaticMaskGenerator(\n",
    "    model=sam,\n",
    "#     points_per_side=32,\n",
    "#     pred_iou_thresh=0.90,\n",
    "#     stability_score_thresh=0.95,\n",
    "#     crop_n_layers=0,\n",
    "#     crop_n_points_downscale_factor=1,\n",
    "#     min_mask_region_area=200,  # Requires open-cv to run post-processing\n",
    ")"
   ]
  },
  {
   "cell_type": "code",
   "execution_count": null,
   "id": "6209414b",
   "metadata": {},
   "outputs": [],
   "source": [
    "image = np.array(rgbd.rgb)\n",
    "masks = mask_generator.generate(image)\n"
   ]
  },
  {
   "cell_type": "code",
   "execution_count": null,
   "id": "db43359b",
   "metadata": {},
   "outputs": [],
   "source": [
    "def show_anns(anns):\n",
    "    if len(anns) == 0:\n",
    "        return\n",
    "    sorted_anns = sorted(anns, key=(lambda x: x['area']), reverse=True)\n",
    "    ax = plt.gca()\n",
    "    ax.set_autoscale_on(False)\n",
    "    polygons = []\n",
    "    color = []\n",
    "    for ann in sorted_anns:\n",
    "        m = ann['segmentation']\n",
    "        img = np.ones((m.shape[0], m.shape[1], 3))\n",
    "        color_mask = np.random.random((1, 3)).tolist()[0]\n",
    "        for i in range(3):\n",
    "            img[:,:,i] = color_mask[i]\n",
    "        ax.imshow(np.dstack((img, m*0.35)))\n",
    "import matplotlib.pyplot as plt\n",
    "plt.figure(figsize=(20,20))\n",
    "plt.imshow(image)\n",
    "show_anns(masks)\n",
    "plt.axis('off')\n",
    "plt.show() "
   ]
  },
  {
   "cell_type": "code",
   "execution_count": null,
   "id": "cb8c48b5",
   "metadata": {},
   "outputs": [],
   "source": [
    "viz_images = []\n",
    "full_segmentation = jnp.ones(rgbd.rgb.shape[:2]) * -1.0\n",
    "num_objects_so_far = 0\n",
    "for i in range(len(masks)):\n",
    "    seg_mask = jnp.array(masks[i][\"segmentation\"])\n",
    "\n",
    "    matched = False\n",
    "    for jj in range(num_objects_so_far):\n",
    "        seg_mask_existing_object = (full_segmentation == jj)\n",
    "        \n",
    "        intersection = seg_mask * seg_mask_existing_object\n",
    "        if intersection[seg_mask].mean() > 0.9:\n",
    "            matched = True\n",
    "    \n",
    "    if not matched:\n",
    "        full_segmentation = full_segmentation.at[seg_mask].set(num_objects_so_far)\n",
    "        num_objects_so_far += 1\n",
    "\n",
    "    segmentation_image = j.get_depth_image(full_segmentation + 1,max=full_segmentation.max() + 2)\n",
    "    seg_viz = j.get_depth_image(seg_mask)\n",
    "    viz_images.append(j.hstack_images([segmentation_image, seg_viz]))"
   ]
  },
  {
   "cell_type": "code",
   "execution_count": null,
   "id": "ad9eaf0b",
   "metadata": {},
   "outputs": [],
   "source": [
    "viz_images[-21]"
   ]
  },
  {
   "cell_type": "code",
   "execution_count": null,
   "id": "cd53a524",
   "metadata": {},
   "outputs": [],
   "source": []
  }
 ],
 "metadata": {
  "kernelspec": {
   "display_name": "Python 3 (ipykernel)",
   "language": "python",
   "name": "python3"
  },
  "language_info": {
   "codemirror_mode": {
    "name": "ipython",
    "version": 3
   },
   "file_extension": ".py",
   "mimetype": "text/x-python",
   "name": "python",
   "nbconvert_exporter": "python",
   "pygments_lexer": "ipython3",
   "version": "3.8.16"
  }
 },
 "nbformat": 4,
 "nbformat_minor": 5
}
