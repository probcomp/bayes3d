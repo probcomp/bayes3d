{
 "cells": [
  {
   "cell_type": "markdown",
   "metadata": {},
   "source": [
    "# "
   ]
  },
  {
   "cell_type": "code",
   "execution_count": 6,
   "metadata": {},
   "outputs": [],
   "source": [
    "import numpy as np\n",
    "import bayes3d as b\n",
    "from tqdm import tqdm\n",
    "import jax\n",
    "import jax.numpy as jnp\n",
    "from bayes3d.rendering.nvdiffrast_jax.jax_renderer import Renderer as JaxRenderer\n",
    "import matplotlib.pyplot as plt\n",
    "import os\n",
    "from functools import partial\n",
    "\n",
    "from mpl_toolkits.axes_grid1 import make_axes_locatable\n",
    "\n",
    "\n",
    "\n",
    "import jaxopt\n",
    "from jaxopt import OptaxSolver\n",
    "import optax"
   ]
  },
  {
   "cell_type": "code",
   "execution_count": 7,
   "metadata": {},
   "outputs": [
    {
     "name": "stdout",
     "output_type": "stream",
     "text": [
      "You can open the visualizer by visiting the following URL:\n",
      "http://127.0.0.1:7070/static/\n"
     ]
    }
   ],
   "source": [
    "b.setup_visualizer()"
   ]
  },
  {
   "cell_type": "code",
   "execution_count": 8,
   "metadata": {},
   "outputs": [],
   "source": [
    "def projection(x=0.1, n=1.0, f=50.0):\n",
    "    return jnp.array([[n/x,    0,            0,              0],\n",
    "                      [  0,  n/x,            0,              0],\n",
    "                      [  0,    0, -(f+n)/(f-n), -(2*f*n)/(f-n)],\n",
    "                      [  0,    0,           -1,              0]])\n",
    "\n",
    "def translate(x, y, z):\n",
    "    return jnp.array([[1.0, 0, 0, x],\n",
    "                      [0, 1, 0, y],\n",
    "                      [0, 0, 1, z],\n",
    "                      [0, 0, 0, 1]])\n",
    "\n",
    "def xfm_points(points, matrix):\n",
    "    points = jnp.concatenate([points, jnp.ones((*points.shape[:-1],1))], axis=-1)\n",
    "    return jnp.matmul(points, matrix.T)\n",
    "\n",
    "def random_angles(key):\n",
    "    theta_key, phi_key, omega_key = jax.random.split(key, 3)\n",
    "    theta = jax.random.choice(theta_key, jnp.linspace(0, 2*jnp.pi, 100))\n",
    "    phi   = jax.random.choice(phi_key, jnp.linspace(0, 2*jnp.pi, 100))\n",
    "    omega = jax.random.choice(omega_key, jnp.linspace(0, 2*jnp.pi, 100))\n",
    "    return theta, phi, omega\n",
    "\n",
    "def random_translation(key, bbox_len):\n",
    "    x_key, y_key, z_key = jax.random.split(key, 3)\n",
    "    translation = jnp.array([0.0, 0.0, -3.2])\n",
    "    x_del = jax.random.choice(x_key, jnp.linspace(-bbox_len, bbox_len, 100))\n",
    "    y_del = jax.random.choice(y_key, jnp.linspace(-bbox_len, bbox_len, 100))\n",
    "    z_del = jax.random.choice(z_key, jnp.linspace(-bbox_len, bbox_len, 100))\n",
    "    return translation + jnp.array([x_del, y_del, z_del])\n",
    "\n",
    "def spherical_to_cartesian(theta, phi):\n",
    "    return jnp.array([jnp.sin(phi)*jnp.cos(theta),\n",
    "                      jnp.sin(phi)*jnp.sin(theta),\n",
    "                      jnp.cos(phi)])\n",
    "\n",
    "def stereo_to_rot(stereo):\n",
    "    q0, q1, q2, q3 = stereo_to_cartesian(stereo)\n",
    "     \n",
    "    # First row of the rotation matrix\n",
    "    r00 = 2 * (q0 * q0 + q1 * q1) - 1\n",
    "    r01 = 2 * (q1 * q2 - q0 * q3)\n",
    "    r02 = 2 * (q1 * q3 + q0 * q2)\n",
    "     \n",
    "    # Second row of the rotation matrix\n",
    "    r10 = 2 * (q1 * q2 + q0 * q3)\n",
    "    r11 = 2 * (q0 * q0 + q2 * q2) - 1\n",
    "    r12 = 2 * (q2 * q3 - q0 * q1)\n",
    "     \n",
    "    # Third row of the rotation matrix\n",
    "    r20 = 2 * (q1 * q3 - q0 * q2)\n",
    "    r21 = 2 * (q2 * q3 + q0 * q1)\n",
    "    r22 = 2 * (q0 * q0 + q3 * q3) - 1\n",
    "     \n",
    "    return jnp.array([[r00, r01, r02],\n",
    "                      [r10, r11, r12],\n",
    "                      [r20, r21, r22]])\n",
    "\n",
    "def get_verts_and_faces(id):\n",
    "    model_dir = os.path.join(b.utils.get_assets_dir(),\"bop/ycbv/models\")\n",
    "    mesh_path = os.path.join(model_dir,\"obj_\" + \"{}\".format(id).rjust(6, '0') + \".ply\")\n",
    "    mesh = b.utils.scale_mesh(b.utils.load_mesh(mesh_path), 1.0)\n",
    "    verts, faces = map(jnp.array, (mesh.vertices, mesh.faces))\n",
    "    return verts, faces"
   ]
  },
  {
   "cell_type": "code",
   "execution_count": 36,
   "metadata": {},
   "outputs": [],
   "source": [
    "intrinsics = b.Intrinsics(\n",
    "    height=240,\n",
    "    width=424,\n",
    "    fx=216.0, fy=216.0,\n",
    "    cx=424.0/2, cy=240.0/2,\n",
    "    near=0.01, far=2000.5\n",
    ")\n",
    "jax_renderer = JaxRenderer(intrinsics)\n",
    "\n",
    "verts_and_faces_list = [get_verts_and_faces(i) for i in range(10,15)]\n",
    "num_objs = len(verts_and_faces_list)\n",
    "banana_idx, pitcher_idx, dishsoap_idx, bowl_idx, mug_idx = range(num_objs)"
   ]
  },
  {
   "cell_type": "code",
   "execution_count": 18,
   "metadata": {},
   "outputs": [],
   "source": [
    "key = jax.random.PRNGKey(2)"
   ]
  },
  {
   "cell_type": "code",
   "execution_count": 19,
   "metadata": {},
   "outputs": [
    {
     "data": {
      "text/plain": [
       "(Array([[-47.551, -60.295,   5.166],\n",
       "        [-49.817,  -5.815,  -8.504],\n",
       "        [-30.09 , -85.954, -12.587],\n",
       "        ...,\n",
       "        [  9.81 ,  80.452,  11.273],\n",
       "        [  7.996,  84.863,   9.165],\n",
       "        [ 10.651,  83.125,  10.057]], dtype=float32),\n",
       " Array([[4039,    1, 1769],\n",
       "        [1767,    1, 4039],\n",
       "        [  35, 1427, 1424],\n",
       "        ...,\n",
       "        [6504, 7864, 7863],\n",
       "        [6470, 7865, 7842],\n",
       "        [6470, 6483, 7865]], dtype=int32))"
      ]
     },
     "execution_count": 19,
     "metadata": {},
     "output_type": "execute_result"
    }
   ],
   "source": [
    "verts_and_faces_list[banana_idx]\n"
   ]
  },
  {
   "cell_type": "code",
   "execution_count": 47,
   "metadata": {},
   "outputs": [
    {
     "name": "stdout",
     "output_type": "stream",
     "text": [
      "(240, 424)\n"
     ]
    }
   ],
   "source": [
    "import trimesh\n",
    "input_file = \"realsense_opt_proj_data_v2/bowl_Depth.raw\"\n",
    "npimg = np.fromfile(input_file, dtype=np.uint16)\n",
    "imageSize = (240, 424)\n",
    "npimg = npimg.reshape(imageSize)\n",
    "print(npimg.shape)\n",
    "b.get_depth_image(npimg * 1.0)\n",
    "point_cloud_image = b.unproject_depth_jit(npimg, intrinsics)\n",
    "b.show_cloud(\"1\", point_cloud_image.reshape(-1,3) / 1000.0)\n",
    "mesh = trimesh.Trimesh(vertices=verts_and_faces_list[bowl_idx][0] / 1000.0, faces=verts_and_faces_list[bowl_idx][1])\n",
    "b.show_trimesh(\"mesh\", mesh)"
   ]
  },
  {
   "cell_type": "code",
   "execution_count": 53,
   "metadata": {},
   "outputs": [
    {
     "data": {
      "image/png": "[encoded data removed]",
      "text/plain": [
       "<PIL.Image.Image image mode=RGB size=424x240>"
      ]
     },
     "execution_count": 53,
     "metadata": {},
     "output_type": "execute_result"
    }
   ],
   "source": [
    "verts_and_faces_list[bowl_idx]\n",
    "img = jax_renderer.render(*verts_and_faces_list[bowl_idx], b.transform_from_pos(jnp.array([100.0, 100.0, 300.0])), intrinsics)[0][0,...]\n",
    "b.get_depth_image(img)"
   ]
  },
  {
   "cell_type": "code",
   "execution_count": 51,
   "metadata": {},
   "outputs": [],
   "source": [
    "b.set_pose(\"mesh\", b.transform_from_pos(jnp.array([0.0, 0.0, 0.5])))"
   ]
  },
  {
   "cell_type": "code",
   "execution_count": null,
   "metadata": {},
   "outputs": [],
   "source": []
  },
  {
   "cell_type": "code",
   "execution_count": 44,
   "metadata": {},
   "outputs": [],
   "source": [
    "b.show_trimesh(\"mesh\", mesh)"
   ]
  },
  {
   "cell_type": "code",
   "execution_count": 22,
   "metadata": {},
   "outputs": [],
   "source": [
    "grid_size = 3\n",
    "thetas = jnp.linspace(0, 2*jnp.pi, grid_size)\n",
    "phis   = jnp.linspace(0, jnp.pi/2, grid_size)\n",
    "omegas = jnp.linspace(0, 2*jnp.pi, grid_size)"
   ]
  },
  {
   "cell_type": "code",
   "execution_count": 23,
   "metadata": {},
   "outputs": [],
   "source": [
    "base_translation = jnp.array([0.0, 0.0, -3.2])\n",
    "bbox_len = 0.05\n",
    "xs = jnp.linspace(-bbox_len, bbox_len, 1) + base_translation[0]\n",
    "ys = jnp.linspace(-bbox_len, bbox_len, 1) + base_translation[1]\n",
    "zs = jnp.linspace(-bbox_len, bbox_len, 1) + base_translation[2]\n",
    "init_params_meshgrid = jnp.meshgrid(thetas, phis, omegas, xs,ys,zs, indexing='ij')\n",
    "init_params_meshgrid = jnp.array(init_params_meshgrid).reshape(6,-1)\n",
    "init_params_array = init_params_meshgrid.T"
   ]
  },
  {
   "cell_type": "code",
   "execution_count": 21,
   "metadata": {},
   "outputs": [],
   "source": [
    "def loss_fn_axis_angle(params, verts, faces, gt_img):\n",
    "    theta, phi, omega, t_x, t_y, t_z = params\n",
    "    translation = jnp.array([t_x, t_y, t_z])\n",
    "    img = render_obj_axis_angle(translation, theta, phi, omega, verts, faces)\n",
    "    return jnp.mean(jnp.abs(gt_img - img))"
   ]
  },
  {
   "cell_type": "code",
   "execution_count": 22,
   "metadata": {},
   "outputs": [],
   "source": [
    "lr = 1e-3\n",
    "num_steps = 1000\n",
    "num_inits = len(init_params_array)\n",
    "\n",
    "def estimate_pose(gt_img, init_params_array):\n",
    "    def optimize(verts, faces, init_params):\n",
    "        opt = optax.adam(lr)\n",
    "        solver = OptaxSolver(opt=opt, fun=loss_fn_axis_angle, maxiter=10000)\n",
    "        init_state = solver.init_state(init_params, verts=verts, faces=faces, gt_img=gt_img)\n",
    "        def opt_step(i, loop_state):\n",
    "            params, state, losses = loop_state\n",
    "            params, state = solver.update(params, state, gt_img=gt_img, verts=verts, faces=faces)\n",
    "            losses = losses.at[i].set(state.value)\n",
    "            return params, state, losses \n",
    "        params, _, losses = jax.lax.fori_loop(0, num_steps, opt_step, (init_params, init_state, jnp.zeros(num_steps)))\n",
    "        return losses, params\n",
    "        \n",
    "    def optimize_all(i, loop_state):\n",
    "        jax.debug.print('{i}', i=i)\n",
    "        loss_trajs, final_losses, final_params = loop_state\n",
    "        for (obj_id, (verts, faces)) in enumerate(verts_and_faces_list):\n",
    "            init_params = jax.lax.dynamic_slice(init_params_array, (i, 0), (1, 6)).flatten()\n",
    "            losses, params = optimize(verts, faces, init_params)\n",
    "            loss_trajs = loss_trajs.at[i, obj_id, :].set(losses)\n",
    "            final_losses = final_losses.at[i, obj_id].set(losses[-1])\n",
    "            final_params = final_params.at[i, obj_id, :].set(params)\n",
    "        return loss_trajs, final_losses, final_params\n",
    "        \n",
    "    final_losses = jnp.zeros((num_inits, num_objs))\n",
    "    loss_trajs = jnp.zeros((num_inits, num_objs, num_steps))\n",
    "    final_params = jnp.zeros((num_inits, num_objs, 6))\n",
    "\n",
    "    return jax.lax.fori_loop(0, len(init_params_array), optimize_all, (loss_trajs, final_losses, final_params))"
   ]
  },
  {
   "cell_type": "code",
   "execution_count": 24,
   "metadata": {},
   "outputs": [
    {
     "name": "stdout",
     "output_type": "stream",
     "text": [
      "0\n",
      "1\n",
      "2\n",
      "3\n",
      "4\n",
      "5\n",
      "6\n",
      "7\n",
      "8\n",
      "9\n",
      "10\n",
      "11\n",
      "12\n",
      "13\n",
      "14\n",
      "15\n",
      "16\n",
      "17\n",
      "18\n",
      "19\n",
      "20\n",
      "21\n",
      "22\n",
      "23\n",
      "24\n",
      "25\n",
      "26\n"
     ]
    },
    {
     "data": {
      "text/plain": [
       "[(27, 5, 1000), (27, 5), (27, 5, 6)]"
      ]
     },
     "execution_count": 24,
     "metadata": {},
     "output_type": "execute_result"
    }
   ],
   "source": [
    "loss_trajs, final_losses, final_params =jax.jit(estimate_pose)(gt_img, init_params_array)\n",
    "list(map(lambda x:x.shape, (loss_trajs, final_losses, final_params)))"
   ]
  },
  {
   "cell_type": "code",
   "execution_count": 25,
   "metadata": {},
   "outputs": [],
   "source": [
    "best_init_idx, best_obj_idx = jnp.unravel_index(jnp.argmin(final_losses), final_losses.shape)\n",
    "best_final_params = final_params[best_init_idx, best_obj_idx, :]\n",
    "best_loss_traj = loss_trajs[best_init_idx, best_obj_idx, :]\n",
    "best_init_params = init_params_array[best_init_idx, :]\n",
    "\n",
    "best_init_translation = best_init_params[3:]\n",
    "best_init_angles = best_init_params[:3]\n",
    "\n",
    "best_final_translation = best_final_params[3:]\n",
    "best_final_angles = best_final_params[:3]"
   ]
  },
  {
   "cell_type": "code",
   "execution_count": 26,
   "metadata": {},
   "outputs": [
    {
     "data": {
      "text/plain": [
       "[<matplotlib.lines.Line2D at 0x7fa779aadb50>]"
      ]
     },
     "execution_count": 26,
     "metadata": {},
     "output_type": "execute_result"
    },
    {
     "data": {
      "image/png": "[encoded data removed]",
      "text/plain": [
       "<Figure size 600x350 with 4 Axes>"
      ]
     },
     "metadata": {},
     "output_type": "display_data"
    }
   ],
   "source": [
    "fig, axd = plt.subplot_mosaic([['gt',   'losses'],\n",
    "                               ['init', 'losses'],\n",
    "                               ['fin',  'losses']],\n",
    "                              figsize=(6.0, 3.5), layout=\"constrained\")\n",
    "axd['gt'].imshow(gt_img[0,...])\n",
    "axd['init'].imshow(render_obj_axis_angle(best_init_translation, *best_init_angles, *verts_and_faces_list[best_obj_idx])[0,...])\n",
    "axd['fin'].imshow(render_obj_axis_angle(best_final_translation, *best_final_angles, *verts_and_faces_list[best_obj_idx])[0,...])\n",
    "axd['losses'].plot(best_loss_traj)"
   ]
  }
 ],
 "metadata": {
  "kernelspec": {
   "display_name": "Python 3 (ipykernel)",
   "language": "python",
   "name": "python3"
  },
  "language_info": {
   "codemirror_mode": {
    "name": "ipython",
    "version": 3
   },
   "file_extension": ".py",
   "mimetype": "text/x-python",
   "name": "python",
   "nbconvert_exporter": "python",
   "pygments_lexer": "ipython3",
   "version": "3.9.18"
  }
 },
 "nbformat": 4,
 "nbformat_minor": 4
}
