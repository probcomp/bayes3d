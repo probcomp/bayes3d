{
 "cells": [
  {
   "cell_type": "code",
   "execution_count": 2,
   "metadata": {},
   "outputs": [],
   "source": [
    "import bayes3d as b\n",
    "import numpy as np\n",
    "import jax.numpy as jnp\n",
    "import jax\n",
    "\n",
    "import utils"
   ]
  },
  {
   "cell_type": "code",
   "execution_count": 3,
   "metadata": {},
   "outputs": [],
   "source": [
    "import importlib\n",
    "importlib.reload(utils)\n",
    "from utils import load_img, scale_remove_and_setup_renderer, add_meshes_to_renderer, c2f_jit, cps_to_pose, get_grids"
   ]
  },
  {
   "cell_type": "code",
   "execution_count": null,
   "metadata": {},
   "outputs": [],
   "source": []
  },
  {
   "cell_type": "code",
   "execution_count": 4,
   "metadata": {},
   "outputs": [
    {
     "name": "stdout",
     "output_type": "stream",
     "text": [
      "You can open the visualizer by visiting the following URL:\n",
      "http://127.0.0.1:7000/static/\n"
     ]
    }
   ],
   "source": [
    "b.setup_visualizer()"
   ]
  },
  {
   "cell_type": "code",
   "execution_count": 5,
   "metadata": {},
   "outputs": [
    {
     "data": {
      "image/jpeg": "[encoded data removed]",
      "image/png": "[encoded data removed]",
      "text/plain": [
       "<PIL.Image.Image image mode=RGB size=320x240>"
      ]
     },
     "execution_count": 5,
     "metadata": {},
     "output_type": "execute_result"
    }
   ],
   "source": [
    "rgbd = load_img(\"problems/img3.pickle\")\n",
    "b.get_rgb_image(rgbd.rgb)"
   ]
  },
  {
   "cell_type": "code",
   "execution_count": 6,
   "metadata": {},
   "outputs": [
    {
     "name": "stderr",
     "output_type": "stream",
     "text": [
      "[E rasterize_gl.cpp:121] OpenGL version reported as 4.6\n"
     ]
    },
    {
     "name": "stdout",
     "output_type": "stream",
     "text": [
      "Increasing frame buffer size to (width, height, depth) = (96, 96, 1024)\n"
     ]
    }
   ],
   "source": [
    "rgbd_scaled_down, obs_img, table_pose, cloud, depth_im = scale_remove_and_setup_renderer(rgbd, scaling_factor=0.3)\n",
    "\n",
    "b.clear()\n",
    "b.show_cloud(\"1\", cloud)\n",
    "b.show_pose(\"table\", table_pose)"
   ]
  },
  {
   "cell_type": "code",
   "execution_count": 7,
   "metadata": {},
   "outputs": [],
   "source": [
    "b.clear()\n",
    "b.show_cloud(\"Obs without table or too-far points\", obs_img.reshape(-1,3))\n",
    "b.show_pose(\"table\", table_pose)"
   ]
  },
  {
   "cell_type": "code",
   "execution_count": 8,
   "metadata": {},
   "outputs": [],
   "source": [
    "add_meshes_to_renderer()"
   ]
  },
  {
   "cell_type": "code",
   "execution_count": 9,
   "metadata": {},
   "outputs": [],
   "source": [
    "grid_param_sequence = [\n",
    "    (2.0, jnp.pi, (15, 15, 15)),\n",
    "    (0.5, jnp.pi * 3/4, (15, 15, 15)),\n",
    "    (0.4, jnp.pi * 1/2, (15, 15, 15)),\n",
    "    (0.05, jnp.pi * 1/3, (15,15,15)),\n",
    "    (0.02, jnp.pi * 1/4, (9,9,51)),\n",
    "    (0.01, jnp.pi * 1/5, (15,15,15)),\n",
    "    (0.01, 0.0, (31,31,1)),\n",
    "    (0.05, 0.0, (31,31,1))\n",
    "]"
   ]
  },
  {
   "cell_type": "code",
   "execution_count": 13,
   "metadata": {},
   "outputs": [],
   "source": [
    "key = jax.random.PRNGKey(30)\n",
    "cps = jnp.zeros((0,3))\n",
    "indices = jnp.array([], dtype=jnp.int32)"
   ]
  },
  {
   "cell_type": "code",
   "execution_count": 16,
   "metadata": {},
   "outputs": [
    {
     "name": "stdout",
     "output_type": "stream",
     "text": [
      "46.614582\n",
      "46.614582\n",
      "46.614582\n",
      "46.614582\n",
      "46.614582\n",
      "46.614582\n",
      "46.614582\n",
      "46.614582\n",
      "46.614582\n",
      "46.614582\n",
      "46.614582\n",
      "46.614582\n",
      "46.614582\n",
      "46.614582\n",
      "46.614582\n",
      "46.614582\n",
      "46.614582\n",
      "46.614582\n",
      "46.614582\n",
      "46.614582\n",
      "46.614582\n",
      "46.614582\n",
      "46.614582\n",
      "46.614582\n",
      "46.614582\n",
      "46.614582\n",
      "46.614582\n",
      "46.614582\n",
      "46.614582\n",
      "46.614582\n",
      "46.614582\n",
      "46.614582\n",
      "46.614582\n",
      "46.614582\n",
      "46.614582\n",
      "46.614582\n",
      "46.614582\n",
      "46.614582\n",
      "46.614582\n",
      "46.614582\n",
      "46.614582\n",
      "46.614582\n",
      "46.614582\n",
      "46.614582\n",
      "46.614582\n",
      "46.614582\n",
      "46.614582\n",
      "46.614582\n",
      "46.614582\n",
      "46.614582\n",
      "46.614582\n",
      "46.614582\n",
      "46.614582\n",
      "46.614582\n",
      "46.614582\n",
      "46.614582\n",
      "46.614582\n",
      "46.614582\n",
      "46.614582\n",
      "46.614582\n",
      "46.614582\n",
      "46.614582\n",
      "46.614582\n",
      "46.614582\n",
      "46.614582\n",
      "46.614582\n",
      "46.614582\n",
      "46.614582\n",
      "46.614582\n",
      "46.614582\n",
      "46.614582\n",
      "46.614582\n",
      "46.614582\n",
      "46.614582\n",
      "46.614582\n",
      "46.614582\n",
      "46.614582\n",
      "46.614582\n",
      "46.614582\n",
      "46.614582\n",
      "46.614582\n",
      "46.614582\n",
      "46.614582\n",
      "46.614582\n",
      "46.614582\n",
      "46.614582\n",
      "46.614582\n",
      "46.614582\n",
      "46.614582\n",
      "46.614582\n",
      "46.614582\n",
      "46.614582\n",
      "46.614582\n",
      "46.614582\n",
      "46.614582\n",
      "46.614582\n",
      "46.614582\n",
      "46.614582\n",
      "46.614582\n",
      "46.614582\n",
      "46.614582\n",
      "46.614582\n",
      "46.614582\n",
      "46.614582\n",
      "46.614582\n",
      "46.614582\n",
      "46.614582\n",
      "46.614582\n",
      "46.614582\n",
      "46.614582\n",
      "46.614582\n",
      "46.614582\n",
      "46.614582\n",
      "46.614582\n",
      "46.614582\n",
      "46.614582\n",
      "46.614582\n",
      "46.614582\n",
      "46.614582\n",
      "46.614582\n",
      "46.614582\n",
      "46.614582\n",
      "46.614582\n",
      "46.614582\n",
      "46.614582\n",
      "46.614582\n"
     ]
    }
   ],
   "source": [
    "best_score = -np.inf\n",
    "best_index = -1\n",
    "best_cps = None\n",
    "best_indices = None\n",
    "key = jax.random.split(key,2)[0]\n",
    "low, high = jnp.array([-0.4, -0.4, -jnp.pi]), jnp.array([0.4, 0.4, jnp.pi])\n",
    "\n",
    "for i in range(6):\n",
    "    for next_index in range(len(b.RENDERER.model_box_dims)):\n",
    "        potential_indices = jnp.concatenate([indices, jnp.array([next_index])])\n",
    "        potential_cps = jnp.concatenate([cps, jax.random.uniform(key, shape=(1,3,),minval=low, maxval=high)])\n",
    "        potential_cps, score, _ = c2f_jit(table_pose, potential_cps, potential_indices, len(potential_indices) - 1, get_grids(grid_param_sequence), obs_img)\n",
    "        print(score)\n",
    "        if score > best_score:\n",
    "            best_index = next_index\n",
    "            best_score = score\n",
    "            best_cps = potential_cps\n",
    "            best_indices = potential_indices\n",
    "    cps = best_cps\n",
    "    indices = best_indices\n",
    "\n",
    "b.clear()\n",
    "b.show_cloud(\"obs\", obs_img.reshape(-1,3))\n",
    "b.show_pose(\"table\", table_pose)\n",
    "poses = cps_to_pose(cps, indices, table_pose)\n",
    "for i in range(len(poses)):\n",
    "    b.show_trimesh(f\"{i}\", b.RENDERER.meshes[best_indices[i]])\n",
    "    b.set_pose(f\"{i}\", poses[i])"
   ]
  },
  {
   "cell_type": "code",
   "execution_count": null,
   "metadata": {},
   "outputs": [],
   "source": []
  },
  {
   "cell_type": "code",
   "execution_count": 128,
   "metadata": {},
   "outputs": [],
   "source": [
    "best_score = 0.0\n",
    "best_index = -1\n",
    "best_cps = None\n",
    "best_indices = None\n",
    "key = jax.random.split(key,2)[0]\n",
    "low, high = jnp.array([-0.4, -0.4, -jnp.pi]), jnp.array([0.4, 0.4, jnp.pi])\n",
    "next_index = 18\n",
    "\n",
    "potential_indices = jnp.concatenate([indices, jnp.array([next_index])])\n",
    "potential_cps = jnp.concatenate([cps, jax.random.uniform(key, shape=(1,3,),minval=low, maxval=high)])\n",
    "\n",
    "importlib.reload(utils)\n",
    "from utils import cps_to_pose_parallel, score_vmap\n",
    "cps = potential_cps\n",
    "indices = potential_indices\n",
    "grid = get_grids(grid_param_sequence)[0]\n",
    "cps_expanded = jnp.repeat(cps[None,...], grid.shape[0], axis=0)\n",
    "cp_poses = cps_to_pose_parallel(cps_expanded, indices, table_pose) # (g, n, 4, 4)\n",
    "rendered_images = b.RENDERER.render_many(cp_poses, indices)[...,:3] # (g, h, w, 3)\n",
    "scores = jax.jit(score_vmap)(rendered_images, obs_img)\n",
    "idx = jnp.argmax(scores)\n",
    "\n",
    "b.clear()\n",
    "b.show_cloud(\"obs\", obs_img.reshape(-1,3))\n",
    "b.show_cloud(\"rendered0\", rendered_images[idx, ...].reshape(-1, 3))\n"
   ]
  },
  {
   "cell_type": "code",
   "execution_count": 144,
   "metadata": {},
   "outputs": [
    {
     "ename": "XlaRuntimeError",
     "evalue": "UNKNOWN: <unknown>:0: error: expected 1 dynamic stride values\n<unknown>:0: note: see current operation: %2 = \"memref.reinterpret_cast\"(%1) <{operandSegmentSizes = array<i32: 1, 0, 0, 0>, static_offsets = array<i64: 0>, static_sizes = array<i64: 3375, 0, 4, 4>, static_strides = array<i64: -9223372036854775808, 16, 4, 1>}> : (memref<0x3375x4x4xf32>) -> memref<3375x0x4x4xf32>\n",
     "output_type": "error",
     "traceback": [
      "\u001b[0;31m---------------------------------------------------------------------------\u001b[0m",
      "\u001b[0;31mXlaRuntimeError\u001b[0m                           Traceback (most recent call last)",
      "\u001b[1;32m/home/georgematheos/bayes3d/scripts/experiments/tampura/tampura7.ipynb Cell 18\u001b[0m line \u001b[0;36m2\n\u001b[1;32m      <a href='vscode-notebook-cell://ssh-remote%2B34.148.112.108/home/georgematheos/bayes3d/scripts/experiments/tampura/tampura7.ipynb#X53sdnNjb2RlLXJlbW90ZQ%3D%3D?line=0'>1</a>\u001b[0m \u001b[39m# b.RENDERER.render_many(cp_poses, indices)[...,:3]\u001b[39;00m\n\u001b[0;32m----> <a href='vscode-notebook-cell://ssh-remote%2B34.148.112.108/home/georgematheos/bayes3d/scripts/experiments/tampura/tampura7.ipynb#X53sdnNjb2RlLXJlbW90ZQ%3D%3D?line=1'>2</a>\u001b[0m b\u001b[39m.\u001b[39;49mRENDERER\u001b[39m.\u001b[39;49mrender_many(\n\u001b[1;32m      <a href='vscode-notebook-cell://ssh-remote%2B34.148.112.108/home/georgematheos/bayes3d/scripts/experiments/tampura/tampura7.ipynb#X53sdnNjb2RlLXJlbW90ZQ%3D%3D?line=2'>3</a>\u001b[0m     jnp\u001b[39m.\u001b[39;49mzeros((\u001b[39m3375\u001b[39;49m, \u001b[39m0\u001b[39;49m, \u001b[39m4\u001b[39;49m, \u001b[39m4\u001b[39;49m)),\n\u001b[1;32m      <a href='vscode-notebook-cell://ssh-remote%2B34.148.112.108/home/georgematheos/bayes3d/scripts/experiments/tampura/tampura7.ipynb#X53sdnNjb2RlLXJlbW90ZQ%3D%3D?line=3'>4</a>\u001b[0m     jnp\u001b[39m.\u001b[39;49mzeros((\u001b[39m0\u001b[39;49m,))\u001b[39m.\u001b[39;49mastype(\u001b[39mint\u001b[39;49m)\n\u001b[1;32m      <a href='vscode-notebook-cell://ssh-remote%2B34.148.112.108/home/georgematheos/bayes3d/scripts/experiments/tampura/tampura7.ipynb#X53sdnNjb2RlLXJlbW90ZQ%3D%3D?line=4'>5</a>\u001b[0m )\n",
      "File \u001b[0;32m~/bayes3d/bayes3d/renderer.py:141\u001b[0m, in \u001b[0;36mRenderer.render_many\u001b[0;34m(self, poses, indices)\u001b[0m\n\u001b[1;32m    128\u001b[0m \u001b[39mdef\u001b[39;00m \u001b[39mrender_many\u001b[39m(\u001b[39mself\u001b[39m, poses, indices):\n\u001b[1;32m    129\u001b[0m \u001b[39m    \u001b[39m\u001b[39m\"\"\"Render many scenes in parallel.\u001b[39;00m\n\u001b[1;32m    130\u001b[0m \u001b[39m    \u001b[39;00m\n\u001b[1;32m    131\u001b[0m \u001b[39m    Args:\u001b[39;00m\n\u001b[0;32m   (...)\u001b[0m\n\u001b[1;32m    139\u001b[0m \u001b[39m                     the final dimension is the segmentation image.\u001b[39;00m\n\u001b[1;32m    140\u001b[0m \u001b[39m    \"\"\"\u001b[39;00m\n\u001b[0;32m--> 141\u001b[0m     \u001b[39mreturn\u001b[39;00m \u001b[39mself\u001b[39;49m\u001b[39m.\u001b[39;49mrender_many_custom_intrinsics(poses, indices, \u001b[39mself\u001b[39;49m\u001b[39m.\u001b[39;49mintrinsics)\n",
      "File \u001b[0;32m~/bayes3d/bayes3d/renderer.py:125\u001b[0m, in \u001b[0;36mRenderer.render_many_custom_intrinsics\u001b[0;34m(self, poses, indices, intrinsics)\u001b[0m\n\u001b[1;32m    118\u001b[0m \u001b[39mdef\u001b[39;00m \u001b[39mrender_many_custom_intrinsics\u001b[39m(\u001b[39mself\u001b[39m, poses, indices, intrinsics):\n\u001b[1;32m    119\u001b[0m     proj_matrix \u001b[39m=\u001b[39m b\u001b[39m.\u001b[39mcamera\u001b[39m.\u001b[39m_open_gl_projection_matrix(\n\u001b[1;32m    120\u001b[0m         intrinsics\u001b[39m.\u001b[39mheight, intrinsics\u001b[39m.\u001b[39mwidth, \n\u001b[1;32m    121\u001b[0m         intrinsics\u001b[39m.\u001b[39mfx, intrinsics\u001b[39m.\u001b[39mfy, \n\u001b[1;32m    122\u001b[0m         intrinsics\u001b[39m.\u001b[39mcx, intrinsics\u001b[39m.\u001b[39mcy, \n\u001b[1;32m    123\u001b[0m         intrinsics\u001b[39m.\u001b[39mnear, intrinsics\u001b[39m.\u001b[39mfar\n\u001b[1;32m    124\u001b[0m     )\n\u001b[0;32m--> 125\u001b[0m     images_jnp \u001b[39m=\u001b[39m _render_custom_call(\u001b[39mself\u001b[39;49m, poses, indices, proj_matrix)[\u001b[39m0\u001b[39m]\n\u001b[1;32m    126\u001b[0m     \u001b[39mreturn\u001b[39;00m _transform_image_zeros_parallel(images_jnp, intrinsics)\n",
      "    \u001b[0;31m[... skipping hidden 14 frame]\u001b[0m\n",
      "File \u001b[0;32m/opt/conda/envs/bayes3d-3/lib/python3.9/site-packages/jax/_src/compiler.py:255\u001b[0m, in \u001b[0;36mbackend_compile\u001b[0;34m(backend, module, options, host_callbacks)\u001b[0m\n\u001b[1;32m    250\u001b[0m   \u001b[39mreturn\u001b[39;00m backend\u001b[39m.\u001b[39mcompile(built_c, compile_options\u001b[39m=\u001b[39moptions,\n\u001b[1;32m    251\u001b[0m                          host_callbacks\u001b[39m=\u001b[39mhost_callbacks)\n\u001b[1;32m    252\u001b[0m \u001b[39m# Some backends don't have `host_callbacks` option yet\u001b[39;00m\n\u001b[1;32m    253\u001b[0m \u001b[39m# TODO(sharadmv): remove this fallback when all backends allow `compile`\u001b[39;00m\n\u001b[1;32m    254\u001b[0m \u001b[39m# to take in `host_callbacks`\u001b[39;00m\n\u001b[0;32m--> 255\u001b[0m \u001b[39mreturn\u001b[39;00m backend\u001b[39m.\u001b[39;49mcompile(built_c, compile_options\u001b[39m=\u001b[39;49moptions)\n",
      "\u001b[0;31mXlaRuntimeError\u001b[0m: UNKNOWN: <unknown>:0: error: expected 1 dynamic stride values\n<unknown>:0: note: see current operation: %2 = \"memref.reinterpret_cast\"(%1) <{operandSegmentSizes = array<i32: 1, 0, 0, 0>, static_offsets = array<i64: 0>, static_sizes = array<i64: 3375, 0, 4, 4>, static_strides = array<i64: -9223372036854775808, 16, 4, 1>}> : (memref<0x3375x4x4xf32>) -> memref<3375x0x4x4xf32>\n"
     ]
    }
   ],
   "source": [
    "# b.RENDERER.render_many(cp_poses, indices)[...,:3]\n",
    "b.RENDERER.render_many(\n",
    "    jnp.zeros((3375, 0, 4, 4)),\n",
    "    jnp.zeros((0,)).astype(int)\n",
    ")"
   ]
  },
  {
   "cell_type": "code",
   "execution_count": null,
   "metadata": {},
   "outputs": [],
   "source": []
  },
  {
   "cell_type": "code",
   "execution_count": 120,
   "metadata": {},
   "outputs": [],
   "source": [
    "near_rendered_pts = (np.linalg.norm(rendered_images[idx, ...], axis=-1) < 1000.)"
   ]
  },
  {
   "cell_type": "code",
   "execution_count": 121,
   "metadata": {},
   "outputs": [],
   "source": [
    "distances = jnp.linalg.norm(obs_img - rendered_images[idx, ...], axis=-1)\n",
    "width = 0.02"
   ]
  },
  {
   "cell_type": "code",
   "execution_count": 122,
   "metadata": {},
   "outputs": [],
   "source": [
    "vals = (distances < width/2) / width"
   ]
  },
  {
   "cell_type": "code",
   "execution_count": 124,
   "metadata": {},
   "outputs": [
    {
     "data": {
      "text/plain": [
       "Array(0.07957176, dtype=float32)"
      ]
     },
     "execution_count": 124,
     "metadata": {},
     "output_type": "execute_result"
    }
   ],
   "source": [
    "vals.mean()"
   ]
  },
  {
   "cell_type": "code",
   "execution_count": 125,
   "metadata": {},
   "outputs": [],
   "source": [
    "penalties = ( (distances > 2*width) * near_rendered_pts  / width )"
   ]
  },
  {
   "cell_type": "code",
   "execution_count": 126,
   "metadata": {},
   "outputs": [
    {
     "data": {
      "text/plain": [
       "Array(1.0778357, dtype=float32)"
      ]
     },
     "execution_count": 126,
     "metadata": {},
     "output_type": "execute_result"
    }
   ],
   "source": [
    "penalties.mean()"
   ]
  },
  {
   "cell_type": "code",
   "execution_count": 127,
   "metadata": {},
   "outputs": [
    {
     "data": {
      "text/plain": [
       "Array(-0.9982639, dtype=float32)"
      ]
     },
     "execution_count": 127,
     "metadata": {},
     "output_type": "execute_result"
    }
   ],
   "source": [
    "(vals - penalties).mean()"
   ]
  },
  {
   "cell_type": "code",
   "execution_count": null,
   "metadata": {},
   "outputs": [],
   "source": []
  }
 ],
 "metadata": {
  "kernelspec": {
   "display_name": "bayes3d-3",
   "language": "python",
   "name": "python3"
  },
  "language_info": {
   "codemirror_mode": {
    "name": "ipython",
    "version": 3
   },
   "file_extension": ".py",
   "mimetype": "text/x-python",
   "name": "python",
   "nbconvert_exporter": "python",
   "pygments_lexer": "ipython3",
   "version": "3.9.18"
  }
 },
 "nbformat": 4,
 "nbformat_minor": 2
}
