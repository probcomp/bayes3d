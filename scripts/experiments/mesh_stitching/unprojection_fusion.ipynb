{
 "cells": [
  {
   "cell_type": "code",
   "execution_count": 1,
   "metadata": {},
   "outputs": [
    {
     "name": "stdout",
     "output_type": "stream",
     "text": [
      "Jupyter environment detected. Enabling Open3D WebVisualizer.\n",
      "[Open3D INFO] WebRTC GUI backend enabled.\n",
      "[Open3D INFO] WebRTCWindowSystem: HTTP handshake server disabled.\n"
     ]
    }
   ],
   "source": [
    "import open3d as o3d\n",
    "import copy\n",
    "import numpy as np\n",
    "import pickle \n",
    "import matplotlib.pyplot as plt\n",
    "import os\n",
    "from transforms import quaternion_to_rotation_matrix, transform_from_rot_and_pos, xyzw_to_rotation_matrix\n",
    "import bayes3d as b\n",
    "import jax.numpy as jnp"
   ]
  },
  {
   "cell_type": "code",
   "execution_count": 2,
   "metadata": {},
   "outputs": [
    {
     "name": "stdout",
     "output_type": "stream",
     "text": [
      "You can open the visualizer by visiting the following URL:\n",
      "http://127.0.0.1:7000/static/\n"
     ]
    }
   ],
   "source": [
    "b.setup_visualizer()"
   ]
  },
  {
   "cell_type": "code",
   "execution_count": 3,
   "metadata": {},
   "outputs": [],
   "source": [
    "folder = 'panda_scans_v7'\n",
    "data_list = []\n",
    "for scan in os.listdir(folder):\n",
    "\n",
    "    with open(folder+'/'+scan, 'rb') as pickle_file:\n",
    "        data_list.append(pickle.load(pickle_file))\n",
    "\n",
    "\n",
    "data = data_list[0] # 0 is cheezit, 1 is LEGO\n",
    "\n",
    "colors = []\n",
    "depths = []\n",
    "poses = []\n",
    "\n",
    "#for i in range(len(data)):\n",
    "\n",
    "\n",
    "\n",
    "for i in range(8): # frame 8 of lego and after of lego have calibration issues\n",
    "    colors.append(data[i]['camera_image']['rgbPixels'])\n",
    "    depths.append(data[i]['camera_image']['depthPixels'])\n",
    "    translation, quat = data[i]['camera_image']['camera_pose'] #quaternion_to_rotation_matrix, xyzw_to_rotation_matrix\n",
    "    poses.append(transform_from_rot_and_pos(xyzw_to_rotation_matrix(np.array(quat)), np.array(translation)))\n"
   ]
  },
  {
   "cell_type": "code",
   "execution_count": 5,
   "metadata": {},
   "outputs": [],
   "source": [
    "intrinsics= np.zeros((4,4))\n",
    "intrinsics[:3,:3] = data[0]['camera_image']['camera_matrix'][0]\n",
    "intrinsics[3,3] = 1\n",
    "intrinsics[1,1] *= 1 #-1\n",
    "#intrinsics = np.linalg.inv(intrinsics)\n",
    "intrinsics = np.array(intrinsics)\n",
    "intrinsics = b.Intrinsics(depths[0].shape[1], depths[0].shape[0],intrinsics[0,0],intrinsics[1,1],intrinsics[0,2],intrinsics[1,2],0,20)\n",
    "\n",
    "HIINTERFACE = None\n",
    "def carvekit_get_foreground_mask(image: b.RGBD):\n",
    "    global HIINTERFACE\n",
    "    if HIINTERFACE is None:\n",
    "        from carvekit.api.high import HiInterface\n",
    "        import torch\n",
    "        HIINTERFACE = HiInterface(\n",
    "            object_type=\"object\",  # Can be \"object\" or \"hairs-like\".\n",
    "            batch_size_seg=5,\n",
    "            batch_size_matting=1,\n",
    "            device='cuda' if torch.cuda.is_available() else 'cpu',\n",
    "            seg_mask_size=640,  # Use 640 for Tracer B7 and 320 for U2Net\n",
    "            matting_mask_size=2048,\n",
    "            trimap_prob_threshold=220,#231,\n",
    "            trimap_dilation=15,\n",
    "            trimap_erosion_iters=20,\n",
    "            fp16=False\n",
    "        )\n",
    "    imgs = HIINTERFACE([b.get_rgb_image(image.rgb)])\n",
    "    mask = jnp.array(imgs[0])[...,-1] > 0.5\n",
    "    return mask\n",
    "\n",
    "\n"
   ]
  },
  {
   "cell_type": "code",
   "execution_count": 6,
   "metadata": {},
   "outputs": [],
   "source": [
    "pc = b.t3d.unproject_depth(depths[0], intrinsics)\n",
    "\n",
    "b.clear()\n",
    "b.show_cloud('1',pc.reshape(-1,3))"
   ]
  },
  {
   "cell_type": "code",
   "execution_count": 7,
   "metadata": {},
   "outputs": [],
   "source": [
    "\n",
    "\n",
    "pcs = []\n",
    "pcs_color = []\n",
    "\n",
    "pcs_carved = []\n",
    "pcs_color_carved = []\n",
    "\n",
    "b.clear()\n",
    "\n",
    "for i in range(len(colors)):\n",
    "    pc = b.t3d.unproject_depth(depths[i], intrinsics)\n",
    "\n",
    "    # plane_pose, plane_dims = b.utils.find_plane_and_dims(pc.reshape(-1,3), \n",
    "    # ransac_threshold=0.001, inlier_threshold=0.001, segmentation_threshold=1) #0.1)\n",
    "\n",
    "    # if plane_pose[:3,2][2] > 0:\n",
    "    #     plane_pose = plane_pose @ b.t3d.transform_from_axis_angle(jnp.array([1.0, 0.0, 0.0]), jnp.pi)\n",
    "\n",
    "    # pc = b.t3d.apply_transform(pc, b.t3d.inverse_pose(plane_pose))\n",
    "    \n",
    "\n",
    "\n",
    "    indices = carvekit_get_foreground_mask(b.RGBD(colors[i], depths[i],np.linalg.inv(poses[i]),intrinsics))\n",
    "    pcs_carved.append(pc[indices])\n",
    "    pcs_color_carved.append(colors[i][indices]/255.0)\n",
    "\n",
    "    pcs.append(pc.reshape(-1,3))\n",
    "    pcs_color.append(colors[i].reshape(-1,3)/255.0)"
   ]
  },
  {
   "cell_type": "code",
   "execution_count": 8,
   "metadata": {},
   "outputs": [],
   "source": [
    "pcs_reoriented = []\n",
    "pcs_reoriented_carved = []\n",
    "\n",
    "for i in range(len(pcs)):\n",
    "    #b.show_cloud(str(i),b.t3d.apply_transform(pcs[i], np.linalg.inv(poses[i]) @ poses[0]) *10)\n",
    "    pc_reoriented = b.t3d.apply_transform(pcs[i], poses[i])\n",
    "    pcs_reoriented.append(pc_reoriented)\n",
    "    pc_reoriented_carved = b.t3d.apply_transform(pcs_carved[i], poses[i])\n",
    "    pcs_reoriented_carved.append(pc_reoriented_carved)\n",
    "    b.show_cloud(str(i), pc_reoriented_carved*10)"
   ]
  },
  {
   "cell_type": "code",
   "execution_count": 9,
   "metadata": {},
   "outputs": [],
   "source": [
    "## merge cloud and clean up with open3d\n",
    "merged = np.concatenate(pcs_reoriented)\n",
    "merged_carved = np.concatenate(pcs_reoriented_carved)"
   ]
  },
  {
   "cell_type": "code",
   "execution_count": 10,
   "metadata": {},
   "outputs": [],
   "source": [
    "b.clear()"
   ]
  },
  {
   "cell_type": "code",
   "execution_count": 11,
   "metadata": {},
   "outputs": [],
   "source": [
    "rand = np.random.RandomState(1234)\n",
    "\n",
    "random_subsample = rand.choice(len(merged),20000)\n",
    "\n",
    "plane_pose, plane_dims = b.utils.find_plane_and_dims(merged[random_subsample,:].reshape(-1,3), \n",
    "ransac_threshold=0.001, inlier_threshold=0.001, segmentation_threshold=0.1) #0.1)\n",
    "\n",
    "if plane_pose[:3,2][2] > 0:\n",
    "    print('flip')\n",
    "    plane_pose = plane_pose @ b.t3d.transform_from_axis_angle(jnp.array([1.0, 0.0, 0.0]), jnp.pi)"
   ]
  },
  {
   "cell_type": "code",
   "execution_count": 12,
   "metadata": {},
   "outputs": [],
   "source": [
    "b.show_pose('2',plane_pose)\n",
    "b.show_cloud('1',merged[random_subsample,:])"
   ]
  },
  {
   "cell_type": "code",
   "execution_count": 13,
   "metadata": {},
   "outputs": [],
   "source": [
    "b.clear()\n",
    "\n",
    "\n",
    "    \n",
    "merged_carved_reoriented = b.t3d.apply_transform(merged_carved, b.t3d.inverse_pose(plane_pose @ b.t3d.transform_from_axis_angle(jnp.array([1.0, 0.0, 0.0]), jnp.pi)))\n"
   ]
  },
  {
   "cell_type": "code",
   "execution_count": 14,
   "metadata": {},
   "outputs": [],
   "source": [
    "b.show_cloud('1',merged_carved_reoriented)"
   ]
  },
  {
   "cell_type": "code",
   "execution_count": 16,
   "metadata": {},
   "outputs": [],
   "source": [
    "### clean up points near plane\n",
    "merged_carved_reoriented_threshold = merged_carved_reoriented[merged_carved_reoriented[:,2]>0.01]\n",
    "\n",
    "# quck and dirty centering, preserves z axis\n",
    "merged_carved_reoriented_threshold = np.array(merged_carved_reoriented_threshold)\n",
    "merged_carved_reoriented_threshold[:,0] -= b.utils.aabb(merged_carved_reoriented_threshold)[1][0,4]\n",
    "merged_carved_reoriented_threshold[:,1] -= b.utils.aabb(merged_carved_reoriented_threshold)[1][1,4]\n",
    "\n",
    "\n",
    "### clean up an artifact\n",
    "merged_carved_reoriented_threshold = merged_carved_reoriented_threshold[merged_carved_reoriented_threshold[:,1]>0.015]"
   ]
  },
  {
   "cell_type": "code",
   "execution_count": 17,
   "metadata": {},
   "outputs": [],
   "source": [
    "b.show_cloud('1',merged_carved_reoriented_threshold)"
   ]
  },
  {
   "cell_type": "code",
   "execution_count": 18,
   "metadata": {},
   "outputs": [],
   "source": [
    "mesh_threshold = 0.002\n",
    "merged_carved_reoriented_threshold_voxelized = b.utils.voxelize(merged_carved_reoriented_threshold, mesh_threshold)\n",
    "b.show_cloud('1',merged_carved_reoriented_threshold_voxelized)"
   ]
  },
  {
   "cell_type": "code",
   "execution_count": 21,
   "metadata": {},
   "outputs": [],
   "source": [
    "segmented = b.utils.segment_point_cloud(merged_carved_reoriented_threshold_voxelized,threshold=0.02, min_points_in_cluster=5)\n",
    "b.show_cloud('1',merged_carved_reoriented_threshold_voxelized[segmented == 0,:])"
   ]
  },
  {
   "cell_type": "code",
   "execution_count": 22,
   "metadata": {},
   "outputs": [],
   "source": [
    "b.show_cloud('2',merged_carved_reoriented_threshold_voxelized[segmented == 1,:])"
   ]
  },
  {
   "cell_type": "code",
   "execution_count": 23,
   "metadata": {},
   "outputs": [],
   "source": [
    "merged = jnp.concatenate([merged_carved_reoriented_threshold_voxelized[segmented == 0,:],merged_carved_reoriented_threshold_voxelized[segmented == 1,:]])\n",
    "merged -= np.mean(merged,axis=0)"
   ]
  },
  {
   "cell_type": "code",
   "execution_count": 24,
   "metadata": {},
   "outputs": [],
   "source": [
    "b.clear()\n",
    "b.show_cloud('1',merged)"
   ]
  },
  {
   "cell_type": "code",
   "execution_count": 25,
   "metadata": {},
   "outputs": [],
   "source": [
    "np.save('plane_pc_video_capture_hi_res', merged)"
   ]
  },
  {
   "cell_type": "code",
   "execution_count": 26,
   "metadata": {},
   "outputs": [],
   "source": [
    "# merged_carved_reoriented_threshold = np.array(merged_carved_reoriented_threshold)\n",
    "# merged_carved_reoriented_threshold[:,0] -= b.utils.aabb(merged_carved_reoriented_threshold)[1][0,4]\n",
    "# merged_carved_reoriented_threshold[:,1] -= b.utils.aabb(merged_carved_reoriented_threshold)[1][1,4]\n",
    "# b.show_cloud('1',merged_carved_reoriented_threshold)"
   ]
  },
  {
   "cell_type": "code",
   "execution_count": 27,
   "metadata": {},
   "outputs": [],
   "source": [
    "mesh = b.utils.make_voxel_mesh_from_point_cloud(merged, mesh_threshold)\n",
    "mesh = b.utils.center_mesh(mesh)"
   ]
  },
  {
   "cell_type": "code",
   "execution_count": 28,
   "metadata": {},
   "outputs": [],
   "source": [
    "\n",
    "b.show_trimesh('1',mesh)"
   ]
  },
  {
   "cell_type": "code",
   "execution_count": null,
   "metadata": {},
   "outputs": [],
   "source": []
  },
  {
   "cell_type": "code",
   "execution_count": 29,
   "metadata": {},
   "outputs": [
    {
     "name": "stdout",
     "output_type": "stream",
     "text": [
      "write mesh files: toy_plane_video_capture_hi_res\n"
     ]
    }
   ],
   "source": [
    "## write out files\n",
    "name = 'toy_plane_video_capture_hi_res'\n",
    "mesh.export(name+'.obj')\n",
    "mesh.export(name+'.ply')\n",
    "print('write mesh files: ' + name)"
   ]
  },
  {
   "cell_type": "code",
   "execution_count": null,
   "metadata": {},
   "outputs": [],
   "source": []
  },
  {
   "cell_type": "code",
   "execution_count": null,
   "metadata": {},
   "outputs": [],
   "source": []
  },
  {
   "cell_type": "code",
   "execution_count": null,
   "metadata": {},
   "outputs": [],
   "source": []
  },
  {
   "attachments": {},
   "cell_type": "markdown",
   "metadata": {},
   "source": [
    "#### Open3D Remove Radius Outlier Carving"
   ]
  },
  {
   "cell_type": "code",
   "execution_count": null,
   "metadata": {},
   "outputs": [],
   "source": [
    "random_subsample = np.random.choice(len(merged),20000)\n",
    "\n",
    "pcd = o3d.geometry.PointCloud()\n",
    "pcd.points = o3d.utility.Vector3dVector(merged[random_subsample,:])"
   ]
  },
  {
   "cell_type": "code",
   "execution_count": null,
   "metadata": {},
   "outputs": [],
   "source": [
    "b.show_cloud('1',np.asarray(pcd.points))"
   ]
  },
  {
   "cell_type": "code",
   "execution_count": null,
   "metadata": {},
   "outputs": [],
   "source": [
    "scanned_pc = np.asarray(pcd.remove_radius_outlier(nb_points=200, radius=0.1)[0].points) # num = 50, rad = 0.025 for cheezit / nb_points=200, radius=0.015 for lego\n",
    "scanned_pc = b.t3d.apply_transform(scanned_pc, b.t3d.inverse_pose(b.utils.aabb(scanned_pc)[1]))\n",
    "\n",
    "b.show_cloud('1',scanned_pc*10)"
   ]
  },
  {
   "cell_type": "code",
   "execution_count": null,
   "metadata": {},
   "outputs": [],
   "source": [
    "mesh = b.utils.make_voxel_mesh_from_point_cloud(scanned_pc, 0.01) # is this 2.5mm?, 0.0025 for lego\n",
    "b.clear()\n",
    "b.show_trimesh('1',mesh)"
   ]
  },
  {
   "cell_type": "code",
   "execution_count": null,
   "metadata": {},
   "outputs": [],
   "source": []
  },
  {
   "cell_type": "code",
   "execution_count": null,
   "metadata": {},
   "outputs": [],
   "source": []
  }
 ],
 "metadata": {
  "kernelspec": {
   "display_name": "bayes3d",
   "language": "python",
   "name": "python3"
  },
  "language_info": {
   "codemirror_mode": {
    "name": "ipython",
    "version": 3
   },
   "file_extension": ".py",
   "mimetype": "text/x-python",
   "name": "python",
   "nbconvert_exporter": "python",
   "pygments_lexer": "ipython3",
   "version": "3.9.18"
  },
  "orig_nbformat": 4
 },
 "nbformat": 4,
 "nbformat_minor": 2
}
