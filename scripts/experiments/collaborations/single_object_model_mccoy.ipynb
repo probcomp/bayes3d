{
 "cells": [
  {
   "cell_type": "code",
   "execution_count": null,
   "id": "b3cb3225-745f-4ea6-8fc3-f77ab92f4527",
   "metadata": {},
   "outputs": [],
   "source": [
    "import bayes3d as b\n",
    "import bayes3d.genjax\n",
    "import genjax\n",
    "import jax.numpy as jnp\n",
    "import jax\n",
    "import os\n",
    "from tqdm import tqdm\n",
    "console = genjax.pretty(show_locals=False)\n",
    "from genjax._src.core.transforms.incremental import NoChange\n",
    "from genjax._src.core.transforms.incremental import UnknownChange\n",
    "from genjax._src.core.transforms.incremental import Diff"
   ]
  },
  {
   "cell_type": "code",
   "execution_count": null,
   "id": "e734033e-eb89-4bba-aad3-29136134d40c",
   "metadata": {},
   "outputs": [],
   "source": [
    "b.setup_visualizer()"
   ]
  },
  {
   "cell_type": "code",
   "execution_count": null,
   "id": "ebf28c17-c582-4ae1-8bcc-1a6ed21f6ee1",
   "metadata": {},
   "outputs": [],
   "source": [
    "intrinsics = b.Intrinsics(\n",
    "    height=100,\n",
    "    width=100,\n",
    "    fx=500.0, fy=500.0,\n",
    "    cx=50.0, cy=50.0,\n",
    "    near=0.01, far=20.0\n",
    ")\n",
    "\n",
    "b.setup_renderer(intrinsics)\n",
    "model_dir = os.path.join(b.utils.get_assets_dir(),\"bop/ycbv/models\")\n",
    "meshes = []\n",
    "for idx in range(1,22):\n",
    "    mesh_path = os.path.join(model_dir,\"obj_\" + \"{}\".format(idx).rjust(6, '0') + \".ply\")\n",
    "    b.RENDERER.add_mesh_from_file(mesh_path, scaling_factor=1.0/1000.0)\n",
    "\n",
    "# b.RENDERER.add_mesh_from_file(os.path.join(b.utils.get_assets_dir(), \"sample_objs/cube.obj\"), scaling_factor=1.0/1000000000.0)"
   ]
  },
  {
   "cell_type": "code",
   "execution_count": null,
   "id": "a1fedc2d-1a9e-4949-939f-22184c69d6b5",
   "metadata": {},
   "outputs": [],
   "source": [
    "# del importance_jit\n",
    "importance_jit = jax.jit(b.genjax.model.importance)\n",
    "key = jax.random.PRNGKey(5)"
   ]
  },
  {
   "cell_type": "code",
   "execution_count": null,
   "id": "20d7a5fd-6e64-4c9f-9e64-cccfb4cd130e",
   "metadata": {},
   "outputs": [],
   "source": [
    "@genjax.gen\n",
    "def single_object_model():\n",
    "    pose = b.genjax.uniform_pose(jnp.array([-0.01,-0.01,1.5]), jnp.array([0.01,0.01,3.5])) @ \"pose\"\n",
    "    obj_id = 0\n",
    "    rendered = b.RENDERER.render(\n",
    "        pose[None,...] , jnp.array([obj_id])\n",
    "    )[...,:3]\n",
    "    image = b.genjax.image_likelihood(rendered, 0.01, 0.01, 1.0) @ \"image\"\n",
    "    return rendered\n",
    "\n",
    "importance_jit = jax.jit(single_object_model.importance)\n",
    "key = jax.random.PRNGKey(5)"
   ]
  },
  {
   "cell_type": "code",
   "execution_count": null,
   "id": "bc33db1b-bc2d-4170-a483-87322b0247a6",
   "metadata": {},
   "outputs": [],
   "source": [
    "key, (_,gt_trace) = importance_jit(key, genjax.choice_map({}), ())\n",
    "print(gt_trace.get_score())\n",
    "b.get_depth_image(gt_trace[\"image\"][...,2])"
   ]
  },
  {
   "cell_type": "code",
   "execution_count": null,
   "id": "99bb1a90-ffe7-4433-a69a-88ff4368b5ba",
   "metadata": {},
   "outputs": [],
   "source": [
    "importance_parallel = jax.jit(jax.vmap(single_object_model.importance, in_axes=(0, None, None)))"
   ]
  },
  {
   "cell_type": "code",
   "execution_count": null,
   "id": "fcf2bb62-415e-4ed3-adf9-e1f5852706c1",
   "metadata": {},
   "outputs": [],
   "source": [
    "keys = jax.random.split(key, 1000)\n",
    "keys, (weights, traces) = importance_parallel(keys, genjax.choice_map({\"image\": gt_trace[\"image\"]}), ());"
   ]
  },
  {
   "cell_type": "code",
   "execution_count": null,
   "id": "681fcd35-90a5-4b9b-8f45-4ac55e799f80",
   "metadata": {},
   "outputs": [],
   "source": [
    "traces.get_retval().shape"
   ]
  },
  {
   "cell_type": "code",
   "execution_count": null,
   "id": "48355479-d847-4243-acef-f039963ad8b9",
   "metadata": {},
   "outputs": [],
   "source": [
    "sampled_indices = jax.random.categorical(key, weights, shape=(10,))\n",
    "print(sampled_indices)\n",
    "print(weights[sampled_indices])\n",
    "images = [b.get_depth_image(img[:,:,2]) for img in traces.get_retval()[sampled_indices]]"
   ]
  },
  {
   "cell_type": "code",
   "execution_count": null,
   "id": "025b426c-2471-4ec6-9cd0-a9fffa6c4b8e",
   "metadata": {},
   "outputs": [],
   "source": [
    "b.multi_panel(images,title=\"10 Posterior Samples\", title_fontsize=20).convert(\"RGB\")"
   ]
  },
  {
   "cell_type": "code",
   "execution_count": null,
   "id": "bf3409d1-251e-445e-9c83-af4ed85d0e4d",
   "metadata": {},
   "outputs": [],
   "source": []
  },
  {
   "cell_type": "code",
   "execution_count": null,
   "id": "782af0f4-52d1-43bf-b3f2-0ed8855704d4",
   "metadata": {},
   "outputs": [],
   "source": []
  },
  {
   "cell_type": "code",
   "execution_count": null,
   "id": "fcfc7fcb-dce1-4df3-bd44-9709e01f742d",
   "metadata": {},
   "outputs": [],
   "source": [
    "variance, concentration = 0.001, 0.001"
   ]
  },
  {
   "cell_type": "code",
   "execution_count": null,
   "id": "e5b63961-fc2a-4fc4-b874-b9a324a0a04b",
   "metadata": {},
   "outputs": [],
   "source": [
    "def importance_sampling_with_proposal(key, trace, variance, concentration):\n",
    "    pose_mean = b.transform_from_pos(jnp.array([0.0, 0.0, 1.0]))\n",
    "    pose = b.distributions.gaussian_vmf_jit(key, pose_mean, variance, concentration)\n",
    "    proposal_weight = b.distributions.gaussian_vmf_logpdf_jit(pose, pose_mean, variance, concentration)\n",
    "    new_trace = trace.update(key, genjax.choice_map({\"root_pose_0\": pose}), \n",
    "                             b.genjax.make_unknown_change_argdiffs(trace))[1][2]\n",
    "    return new_trace,new_trace.get_score() - proposal_weight\n",
    "importance_sampling_with_proposal_vmap = jax.vmap(importance_sampling_with_proposal, in_axes=(0, None, None, None))"
   ]
  },
  {
   "cell_type": "code",
   "execution_count": null,
   "id": "3acdff6d-fd7a-4687-bf30-d8636d0f1bc1",
   "metadata": {},
   "outputs": [],
   "source": [
    "traces, weights = importance_sampling_with_proposal_vmap(jax.random.split(key, 100), gt_trace, 0.001, 0.001)"
   ]
  },
  {
   "cell_type": "code",
   "execution_count": null,
   "id": "c9063746-298b-48a3-a80e-440a26f0e598",
   "metadata": {},
   "outputs": [],
   "source": [
    "sampled_indices = jax.random.categorical(key, weights, shape=(10,))\n",
    "print(sampled_indices)\n",
    "print(weights[sampled_indices])\n",
    "images = [b.get_depth_image(img[:,:,2]) for img in b.genjax.get_rendered_image(traces)[sampled_indices]]\n",
    "b.multi_panel(images,title=\"10 Posterior Samples\", title_fontsize=20).convert(\"RGB\")"
   ]
  },
  {
   "cell_type": "code",
   "execution_count": null,
   "id": "7d8d0d4b-f87e-458b-9385-50e48c63998e",
   "metadata": {},
   "outputs": [],
   "source": []
  }
 ],
 "metadata": {
  "kernelspec": {
   "display_name": "Python 3 (ipykernel)",
   "language": "python",
   "name": "python3"
  },
  "language_info": {
   "codemirror_mode": {
    "name": "ipython",
    "version": 3
   },
   "file_extension": ".py",
   "mimetype": "text/x-python",
   "name": "python",
   "nbconvert_exporter": "python",
   "pygments_lexer": "ipython3",
   "version": "3.9.16"
  }
 },
 "nbformat": 4,
 "nbformat_minor": 5
}
