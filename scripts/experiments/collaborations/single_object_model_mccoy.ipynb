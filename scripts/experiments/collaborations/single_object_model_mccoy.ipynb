{
 "cells": [
  {
   "cell_type": "code",
   "execution_count": 1,
   "id": "b3cb3225-745f-4ea6-8fc3-f77ab92f4527",
   "metadata": {},
   "outputs": [],
   "source": [
    "import bayes3d as b\n",
    "import bayes3d.genjax\n",
    "import genjax\n",
    "import jax.numpy as jnp\n",
    "import jax\n",
    "import os\n",
    "from tqdm import tqdm\n",
    "console = genjax.pretty(show_locals=False)\n",
    "from genjax._src.core.transforms.incremental import NoChange\n",
    "from genjax._src.core.transforms.incremental import UnknownChange\n",
    "from genjax._src.core.transforms.incremental import Diff"
   ]
  },
  {
   "cell_type": "code",
   "execution_count": 2,
   "id": "e734033e-eb89-4bba-aad3-29136134d40c",
   "metadata": {},
   "outputs": [
    {
     "name": "stdout",
     "output_type": "stream",
     "text": [
      "You can open the visualizer by visiting the following URL:\n",
      "http://127.0.0.1:7017/static/\n"
     ]
    }
   ],
   "source": [
    "b.setup_visualizer()"
   ]
  },
  {
   "cell_type": "code",
   "execution_count": 140,
   "id": "ebf28c17-c582-4ae1-8bcc-1a6ed21f6ee1",
   "metadata": {},
   "outputs": [
    {
     "name": "stderr",
     "output_type": "stream",
     "text": [
      "[E rasterize_gl.cpp:121] OpenGL version reported as 4.6\n"
     ]
    },
    {
     "name": "stdout",
     "output_type": "stream",
     "text": [
      "Increasing frame buffer size to (width, height, depth) = (128, 128, 1024)\n"
     ]
    }
   ],
   "source": [
    "intrinsics = b.Intrinsics(\n",
    "    height=100,\n",
    "    width=100,\n",
    "    fx=500.0, fy=500.0,\n",
    "    cx=50.0, cy=50.0,\n",
    "    near=0.01, far=20.0\n",
    ")\n",
    "\n",
    "b.setup_renderer(intrinsics)\n",
    "model_dir = os.path.join(b.utils.get_assets_dir(),\"bop/ycbv/models\")\n",
    "meshes = []\n",
    "for idx in range(1,22):\n",
    "    mesh_path = os.path.join(model_dir,\"obj_\" + \"{}\".format(idx).rjust(6, '0') + \".ply\")\n",
    "    b.RENDERER.add_mesh_from_file(mesh_path, scaling_factor=1.0/1000.0)\n",
    "\n",
    "# b.RENDERER.add_mesh_from_file(os.path.join(b.utils.get_assets_dir(), \"sample_objs/cube.obj\"), scaling_factor=1.0/1000000000.0)"
   ]
  },
  {
   "cell_type": "code",
   "execution_count": 141,
   "id": "a1fedc2d-1a9e-4949-939f-22184c69d6b5",
   "metadata": {},
   "outputs": [],
   "source": [
    "# del importance_jit\n",
    "importance_jit = jax.jit(b.genjax.model.importance)\n",
    "key = jax.random.PRNGKey(5)"
   ]
  },
  {
   "cell_type": "code",
   "execution_count": 142,
   "id": "20d7a5fd-6e64-4c9f-9e64-cccfb4cd130e",
   "metadata": {},
   "outputs": [],
   "source": [
    "@genjax.gen\n",
    "def single_object_model():\n",
    "    pose = b.genjax.uniform_pose(jnp.array([-0.01,-0.01,1.5]), jnp.array([0.01,0.01,3.5])) @ \"pose\"\n",
    "    obj_id = 0\n",
    "    rendered = b.RENDERER.render(\n",
    "        pose[None,...] , jnp.array([obj_id])\n",
    "    )[...,:3]\n",
    "    image = b.genjax.image_likelihood(rendered, 0.01, 0.01, 1.0) @ \"image\"\n",
    "    return rendered\n",
    "\n",
    "importance_jit = jax.jit(single_object_model.importance)\n",
    "key = jax.random.PRNGKey(5)"
   ]
  },
  {
   "cell_type": "code",
   "execution_count": 143,
   "id": "bc33db1b-bc2d-4170-a483-87322b0247a6",
   "metadata": {},
   "outputs": [
    {
     "name": "stdout",
     "output_type": "stream",
     "text": [
      "38329.45\n"
     ]
    },
    {
     "data": {
      "image/jpeg": "[encoded data removed]",
      "image/png": "[encoded data removed]"
     },
     "execution_count": 143,
     "metadata": {},
     "output_type": "execute_result"
    }
   ],
   "source": [
    "key, (_,gt_trace) = importance_jit(key, genjax.choice_map({}), ())\n",
    "print(gt_trace.get_score())\n",
    "b.get_depth_image(gt_trace[\"image\"][...,2])"
   ]
  },
  {
   "cell_type": "code",
   "execution_count": 144,
   "id": "99bb1a90-ffe7-4433-a69a-88ff4368b5ba",
   "metadata": {},
   "outputs": [],
   "source": [
    "importance_parallel = jax.jit(jax.vmap(single_object_model.importance, in_axes=(0, None, None)))"
   ]
  },
  {
   "cell_type": "code",
   "execution_count": 145,
   "id": "fcf2bb62-415e-4ed3-adf9-e1f5852706c1",
   "metadata": {},
   "outputs": [],
   "source": [
    "keys = jax.random.split(key, 1000)\n",
    "keys, (weights, traces) = importance_parallel(keys, genjax.choice_map({\"image\": gt_trace[\"image\"]}), ());"
   ]
  },
  {
   "cell_type": "code",
   "execution_count": 146,
   "id": "681fcd35-90a5-4b9b-8f45-4ac55e799f80",
   "metadata": {},
   "outputs": [
    {
     "data": {
      "text/html": [
       "<pre style=\"white-space:pre;overflow-x:auto;line-height:normal;font-family:Menlo,'DejaVu Sans Mono',consolas,'Courier New',monospace\"><span style=\"font-weight: bold\">(</span><span style=\"color: #008080; text-decoration-color: #008080; font-weight: bold\">1000</span>, <span style=\"color: #008080; text-decoration-color: #008080; font-weight: bold\">100</span>, <span style=\"color: #008080; text-decoration-color: #008080; font-weight: bold\">100</span>, <span style=\"color: #008080; text-decoration-color: #008080; font-weight: bold\">3</span><span style=\"font-weight: bold\">)</span>\n",
       "</pre>\n"
      ],
      "text/plain": [
       "\u001b[1m(\u001b[0m\u001b[1;36m1000\u001b[0m, \u001b[1;36m100\u001b[0m, \u001b[1;36m100\u001b[0m, \u001b[1;36m3\u001b[0m\u001b[1m)\u001b[0m\n"
      ]
     },
     "metadata": {},
     "output_type": "display_data"
    }
   ],
   "source": [
    "traces.get_retval().shape"
   ]
  },
  {
   "cell_type": "code",
   "execution_count": 147,
   "id": "48355479-d847-4243-acef-f039963ad8b9",
   "metadata": {},
   "outputs": [
    {
     "name": "stdout",
     "output_type": "stream",
     "text": [
      "[362 362 362 362 362 362 362 362 362 362]\n",
      "[37816.703 37816.703 37816.703 37816.703 37816.703 37816.703 37816.703\n",
      " 37816.703 37816.703 37816.703]\n"
     ]
    }
   ],
   "source": [
    "sampled_indices = jax.random.categorical(key, weights, shape=(10,))\n",
    "print(sampled_indices)\n",
    "print(weights[sampled_indices])\n",
    "images = [b.get_depth_image(img[:,:,2]) for img in traces.get_retval()[sampled_indices]]"
   ]
  },
  {
   "cell_type": "code",
   "execution_count": 148,
   "id": "025b426c-2471-4ec6-9cd0-a9fffa6c4b8e",
   "metadata": {},
   "outputs": [
    {
     "data": {
      "image/jpeg": "[encoded data removed]",
      "image/png": "[encoded data removed]"
     },
     "execution_count": 148,
     "metadata": {},
     "output_type": "execute_result"
    }
   ],
   "source": [
    "b.multi_panel(images,title=\"10 Posterior Samples\", title_fontsize=20).convert(\"RGB\")"
   ]
  },
  {
   "cell_type": "code",
   "execution_count": null,
   "id": "bf3409d1-251e-445e-9c83-af4ed85d0e4d",
   "metadata": {},
   "outputs": [],
   "source": []
  },
  {
   "cell_type": "code",
   "execution_count": null,
   "id": "782af0f4-52d1-43bf-b3f2-0ed8855704d4",
   "metadata": {},
   "outputs": [],
   "source": []
  },
  {
   "cell_type": "code",
   "execution_count": 26,
   "id": "fcfc7fcb-dce1-4df3-bd44-9709e01f742d",
   "metadata": {},
   "outputs": [
    {
     "data": {
      "text/html": [
       "<pre style=\"white-space:pre;overflow-x:auto;line-height:normal;font-family:Menlo,'DejaVu Sans Mono',consolas,'Courier New',monospace\">\n",
       "<span style=\"color: #800080; text-decoration-color: #800080; font-weight: bold\">Array</span><span style=\"font-weight: bold\">([[</span> <span style=\"color: #008080; text-decoration-color: #008080; font-weight: bold\">7.2428358e-01</span>, <span style=\"color: #008080; text-decoration-color: #008080; font-weight: bold\">-5.3898275e-01</span>, <span style=\"color: #008080; text-decoration-color: #008080; font-weight: bold\">-4.3001282e-01</span>, <span style=\"color: #008080; text-decoration-color: #008080; font-weight: bold\">-8.8510322e-05</span><span style=\"font-weight: bold\">]</span>,\n",
       "       <span style=\"font-weight: bold\">[</span> <span style=\"color: #008080; text-decoration-color: #008080; font-weight: bold\">2.4983856e-01</span>, <span style=\"color: #008080; text-decoration-color: #008080; font-weight: bold\">-3.7612528e-01</span>,  <span style=\"color: #008080; text-decoration-color: #008080; font-weight: bold\">8.9225030e-01</span>, <span style=\"color: #008080; text-decoration-color: #008080; font-weight: bold\">-7.5911818e-04</span><span style=\"font-weight: bold\">]</span>,\n",
       "       <span style=\"font-weight: bold\">[</span><span style=\"color: #008080; text-decoration-color: #008080; font-weight: bold\">-6.4264619e-01</span>, <span style=\"color: #008080; text-decoration-color: #008080; font-weight: bold\">-7.5367594e-01</span>, <span style=\"color: #008080; text-decoration-color: #008080; font-weight: bold\">-1.3776267e-01</span>,  <span style=\"color: #008080; text-decoration-color: #008080; font-weight: bold\">1.0006614e+00</span><span style=\"font-weight: bold\">]</span>,\n",
       "       <span style=\"font-weight: bold\">[</span> <span style=\"color: #008080; text-decoration-color: #008080; font-weight: bold\">0.0000000e+00</span>,  <span style=\"color: #008080; text-decoration-color: #008080; font-weight: bold\">0.0000000e+00</span>,  <span style=\"color: #008080; text-decoration-color: #008080; font-weight: bold\">0.0000000e+00</span>,  <span style=\"color: #008080; text-decoration-color: #008080; font-weight: bold\">1.0000000e+00</span><span style=\"font-weight: bold\">]]</span>,      <span style=\"color: #808000; text-decoration-color: #808000\">dtype</span>=<span style=\"color: #800080; text-decoration-color: #800080\">float32</span><span style=\"font-weight: bold\">)</span>\n",
       "</pre>\n"
      ],
      "text/plain": [
       "\n",
       "\u001b[1;35mArray\u001b[0m\u001b[1m(\u001b[0m\u001b[1m[\u001b[0m\u001b[1m[\u001b[0m \u001b[1;36m7.2428358e-01\u001b[0m, \u001b[1;36m-5.3898275e-01\u001b[0m, \u001b[1;36m-4.3001282e-01\u001b[0m, \u001b[1;36m-8.8510322e-05\u001b[0m\u001b[1m]\u001b[0m,\n",
       "       \u001b[1m[\u001b[0m \u001b[1;36m2.4983856e-01\u001b[0m, \u001b[1;36m-3.7612528e-01\u001b[0m,  \u001b[1;36m8.9225030e-01\u001b[0m, \u001b[1;36m-7.5911818e-04\u001b[0m\u001b[1m]\u001b[0m,\n",
       "       \u001b[1m[\u001b[0m\u001b[1;36m-6.4264619e-01\u001b[0m, \u001b[1;36m-7.5367594e-01\u001b[0m, \u001b[1;36m-1.3776267e-01\u001b[0m,  \u001b[1;36m1.0006614e+00\u001b[0m\u001b[1m]\u001b[0m,\n",
       "       \u001b[1m[\u001b[0m \u001b[1;36m0.0000000e+00\u001b[0m,  \u001b[1;36m0.0000000e+00\u001b[0m,  \u001b[1;36m0.0000000e+00\u001b[0m,  \u001b[1;36m1.0000000e+00\u001b[0m\u001b[1m]\u001b[0m\u001b[1m]\u001b[0m,      \u001b[33mdtype\u001b[0m=\u001b[35mfloat32\u001b[0m\u001b[1m)\u001b[0m\n"
      ]
     },
     "metadata": {},
     "output_type": "display_data"
    }
   ],
   "source": [
    "variance, concentration = 0.001, 0.001"
   ]
  },
  {
   "cell_type": "code",
   "execution_count": 37,
   "id": "e5b63961-fc2a-4fc4-b874-b9a324a0a04b",
   "metadata": {},
   "outputs": [],
   "source": [
    "def importance_sampling_with_proposal(key, trace, variance, concentration):\n",
    "    pose_mean = b.transform_from_pos(jnp.array([0.0, 0.0, 1.0]))\n",
    "    pose = b.distributions.gaussian_vmf_jit(key, pose_mean, variance, concentration)\n",
    "    proposal_weight = b.distributions.gaussian_vmf_logpdf_jit(pose, pose_mean, variance, concentration)\n",
    "    new_trace = trace.update(key, genjax.choice_map({\"root_pose_0\": pose}), \n",
    "                             b.genjax.make_unknown_change_argdiffs(trace))[1][2]\n",
    "    return new_trace,new_trace.get_score() - proposal_weight\n",
    "importance_sampling_with_proposal_vmap = jax.vmap(importance_sampling_with_proposal, in_axes=(0, None, None, None))"
   ]
  },
  {
   "cell_type": "code",
   "execution_count": 46,
   "id": "3acdff6d-fd7a-4687-bf30-d8636d0f1bc1",
   "metadata": {},
   "outputs": [],
   "source": [
    "traces, weights = importance_sampling_with_proposal_vmap(jax.random.split(key, 100), gt_trace, 0.001, 0.001)"
   ]
  },
  {
   "cell_type": "code",
   "execution_count": 47,
   "id": "c9063746-298b-48a3-a80e-440a26f0e598",
   "metadata": {},
   "outputs": [
    {
     "name": "stdout",
     "output_type": "stream",
     "text": [
      "[13 13 13 13 13 13 13 13 13 13]\n",
      "[16898.512 16898.512 16898.512 16898.512 16898.512 16898.512 16898.512\n",
      " 16898.512 16898.512 16898.512]\n"
     ]
    },
    {
     "data": {
      "image/jpeg": "[encoded data removed]",
      "image/png": "[encoded data removed]"
     },
     "execution_count": 47,
     "metadata": {},
     "output_type": "execute_result"
    }
   ],
   "source": [
    "sampled_indices = jax.random.categorical(key, weights, shape=(10,))\n",
    "print(sampled_indices)\n",
    "print(weights[sampled_indices])\n",
    "images = [b.get_depth_image(img[:,:,2]) for img in b.genjax.get_rendered_image(traces)[sampled_indices]]\n",
    "b.multi_panel(images,title=\"10 Posterior Samples\", title_fontsize=20).convert(\"RGB\")"
   ]
  },
  {
   "cell_type": "code",
   "execution_count": null,
   "id": "7d8d0d4b-f87e-458b-9385-50e48c63998e",
   "metadata": {},
   "outputs": [],
   "source": []
  }
 ],
 "metadata": {
  "kernelspec": {
   "display_name": "Python 3 (ipykernel)",
   "language": "python",
   "name": "python3"
  },
  "language_info": {
   "codemirror_mode": {
    "name": "ipython",
    "version": 3
   },
   "file_extension": ".py",
   "mimetype": "text/x-python",
   "name": "python",
   "nbconvert_exporter": "python",
   "pygments_lexer": "ipython3",
   "version": "3.9.16"
  }
 },
 "nbformat": 4,
 "nbformat_minor": 5
}
