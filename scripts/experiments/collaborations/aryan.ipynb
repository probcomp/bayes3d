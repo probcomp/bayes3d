{
 "cells": [
  {
   "cell_type": "code",
   "execution_count": 1,
   "metadata": {
    "tags": []
   },
   "outputs": [
    {
     "name": "stdout",
     "output_type": "stream",
     "text": [
      "Jupyter environment detected. Enabling Open3D WebVisualizer.\n",
      "[Open3D INFO] WebRTC GUI backend enabled.\n",
      "[Open3D INFO] WebRTCWindowSystem: HTTP handshake server disabled.\n"
     ]
    }
   ],
   "source": [
    "import bayes3d as b\n",
    "import jax.numpy as jnp\n",
    "import jax\n",
    "import os\n",
    "import matplotlib.pyplot as plt\n",
    "import jax.tree_util as jtu\n",
    "from tqdm import tqdm\n",
    "import json\n",
    "import numpy as np\n",
    "from scipy.spatial.transform import Rotation as R"
   ]
  },
  {
   "cell_type": "code",
   "execution_count": 2,
   "metadata": {},
   "outputs": [
    {
     "name": "stdout",
     "output_type": "stream",
     "text": [
      "You can open the visualizer by visiting the following URL:\n",
      "http://127.0.0.1:7014/static/\n"
     ]
    }
   ],
   "source": [
    "b.setup_visualizer()"
   ]
  },
  {
   "cell_type": "code",
   "execution_count": 4,
   "metadata": {},
   "outputs": [],
   "source": [
    "data = json.load( open('trial_96.json'))\n",
    "table_data = json.load(open('table_stats.json'))"
   ]
  },
  {
   "cell_type": "code",
   "execution_count": null,
   "metadata": {},
   "outputs": [],
   "source": [
    "data[\"head_info\"][100]"
   ]
  },
  {
   "cell_type": "code",
   "execution_count": null,
   "metadata": {},
   "outputs": [],
   "source": [
    "# Outputs\n",
    "\n",
    "# All positions on the table that the orange could be\n",
    "\n"
   ]
  },
  {
   "cell_type": "code",
   "execution_count": 5,
   "metadata": {},
   "outputs": [],
   "source": [
    "def xyz_dict_to_array(xyz_dict):\n",
    "    return jnp.array([xyz_dict[\"x\"], xyz_dict[\"y\"], xyz_dict[\"z\"]])\n",
    "    \n",
    "def get_pose_from_aryan_dict(data):\n",
    "    left_position = xyz_dict_to_array(data[\"position\"])\n",
    "    left_rotation = R.from_euler(\"xyz\", np.array(xyz_dict_to_array(data[\"orientation\"])),degrees=True).as_matrix()\n",
    "    left_pose = b.transform_from_rot_and_pos(left_rotation, left_position)\n",
    "    return left_pose"
   ]
  },
  {
   "cell_type": "code",
   "execution_count": 6,
   "metadata": {},
   "outputs": [],
   "source": [
    "table_data\n",
    "table_pose = b.transform_from_pos(xyz_dict_to_array(table_data[\"pos\"]))\n",
    "table_scale = xyz_dict_to_array(table_data[\"scale\"])"
   ]
  },
  {
   "cell_type": "code",
   "execution_count": 16,
   "metadata": {},
   "outputs": [
    {
     "name": "stdout",
     "output_type": "stream",
     "text": [
      "[[ 1.          0.          0.         -0.21589041]\n",
      " [ 0.          1.          0.          1.0262454 ]\n",
      " [ 0.          0.          1.          0.25      ]\n",
      " [ 0.          0.          0.          1.        ]]\n",
      "[[-1.0000000e+00  0.0000000e+00  1.2246469e-16  2.4317198e-01]\n",
      " [ 0.0000000e+00  1.0000000e+00  0.0000000e+00  1.0262454e+00]\n",
      " [-1.2246469e-16  0.0000000e+00 -1.0000000e+00  2.4993148e-01]\n",
      " [ 0.0000000e+00  0.0000000e+00  0.0000000e+00  1.0000000e+00]]\n",
      "[0.85 2.2  0.08] [1.05 2.2  0.08]\n",
      "[[[-9.9999887e-01  1.3803721e-03 -6.4199069e-04  0.0000000e+00]\n",
      "  [-1.3786094e-03 -9.9999529e-01 -2.7379515e-03  1.5920370e+00]\n",
      "  [-6.4576708e-04 -2.7370632e-03  9.9999607e-01 -4.0000001e-01]\n",
      "  [ 0.0000000e+00  0.0000000e+00  0.0000000e+00  1.0000000e+00]]\n",
      "\n",
      " [[-9.9999887e-01  1.3670156e-03 -6.4203388e-04  5.4258853e-05]\n",
      "  [-1.3652587e-03 -9.9999535e-01 -2.7290795e-03  1.5927780e+00]\n",
      "  [-6.4576155e-04 -2.7281998e-03  9.9999607e-01 -4.0043533e-01]\n",
      "  [ 0.0000000e+00  0.0000000e+00  0.0000000e+00  1.0000000e+00]]\n",
      "\n",
      " [[-9.9999887e-01  1.3545159e-03 -6.4101000e-04  1.1920929e-04]\n",
      "  [-1.3527682e-03 -9.9999541e-01 -2.7191308e-03  1.5930140e+00]\n",
      "  [-6.4469018e-04 -2.7182607e-03  9.9999613e-01 -4.0080151e-01]\n",
      "  [ 0.0000000e+00  0.0000000e+00  0.0000000e+00  1.0000000e+00]]\n",
      "\n",
      " ...\n",
      "\n",
      " [[-9.9999911e-01  3.6480208e-04 -1.2722274e-03  1.4513199e-01]\n",
      "  [-3.6089393e-04 -9.9999523e-01 -3.0707833e-03  1.5840809e+00]\n",
      "  [-1.2733415e-03 -3.0703216e-03  9.9999446e-01 -3.3192021e-01]\n",
      "  [ 0.0000000e+00  0.0000000e+00  0.0000000e+00  1.0000000e+00]]\n",
      "\n",
      " [[-9.9999911e-01  3.9240651e-04 -1.2928875e-03  1.4269954e-01]\n",
      "  [-3.8846344e-04 -9.9999529e-01 -3.0486551e-03  1.5845127e+00]\n",
      "  [-1.2940777e-03 -3.0481501e-03  9.9999452e-01 -3.3251086e-01]\n",
      "  [ 0.0000000e+00  0.0000000e+00  0.0000000e+00  1.0000000e+00]]\n",
      "\n",
      " [[-9.9999905e-01  4.1694485e-04 -1.3086477e-03  1.4024486e-01]\n",
      "  [-4.1298667e-04 -9.9999535e-01 -3.0234270e-03  1.5849223e+00]\n",
      "  [-1.3099022e-03 -3.0228838e-03  9.9999458e-01 -3.3321142e-01]\n",
      "  [ 0.0000000e+00  0.0000000e+00  0.0000000e+00  1.0000000e+00]]]\n"
     ]
    }
   ],
   "source": [
    "left_pose = get_pose_from_aryan_dict(data[\"objs_info\"][\"left\"])\n",
    "left_scale = xyz_dict_to_array(data[\"objs_info\"][\"left\"][\"scale\"])\n",
    "right_pose = get_pose_from_aryan_dict(data[\"objs_info\"][\"right\"])\n",
    "right_scale = xyz_dict_to_array(data[\"objs_info\"][\"right\"][\"scale\"])\n",
    "\n",
    "print(left_pose)\n",
    "print(right_pose)\n",
    "print(left_scale, right_scale)\n",
    "\n",
    "camera_offset = b.transform_from_axis_angle(jnp.array([0.0, 0.0, 1.0]), jnp.pi)\n",
    "camera_poses = jnp.array([get_pose_from_aryan_dict(d) @ camera_offset for d in data[\"head_info\"]])\n",
    "print(camera_poses)"
   ]
  },
  {
   "cell_type": "code",
   "execution_count": 8,
   "metadata": {},
   "outputs": [
    {
     "name": "stderr",
     "output_type": "stream",
     "text": [
      "[E rasterize_gl.cpp:121] OpenGL version reported as 4.6\n"
     ]
    },
    {
     "name": "stdout",
     "output_type": "stream",
     "text": [
      "Increasing frame buffer size to (width, height, depth) = (128, 128, 1024)\n"
     ]
    }
   ],
   "source": [
    "b.RENDERER = None\n",
    "intrinsics = b.Intrinsics(\n",
    "    height=100,\n",
    "    width=100,\n",
    "    fx=100.0, fy=100.0,\n",
    "    cx=50.0, cy=50.0,\n",
    "    near=0.01, far=50.0\n",
    ")\n",
    "\n",
    "b.setup_renderer(intrinsics)\n",
    "\n",
    "\n",
    "b.RENDERER.add_mesh_from_file(\"dining_room_table.obj\", scaling_factor=table_scale, center_mesh=False)\n",
    "b.RENDERER.add_mesh_from_file(\"shoebox_fused.obj\", scaling_factor=left_scale, center_mesh=False)\n",
    "b.RENDERER.add_mesh_from_file(\"shoebox_fused.obj\", scaling_factor=right_scale, center_mesh=False)"
   ]
  },
  {
   "cell_type": "code",
   "execution_count": 17,
   "metadata": {},
   "outputs": [],
   "source": [
    "b.clear()\n",
    "b.show_trimesh(\"table\", b.RENDERER.meshes[0])\n",
    "b.set_pose(\"table\", table_pose)\n",
    "\n",
    "b.show_trimesh(\"left\", b.RENDERER.meshes[1])\n",
    "b.set_pose(\"left\", left_pose)\n",
    "\n",
    "b.show_trimesh(\"right\", b.RENDERER.meshes[2])\n",
    "b.set_pose(\"right\", right_pose)\n",
    "\n",
    "for i in range(len(camera_poses)):\n",
    "    b.show_pose(f\"head_{i}\", camera_poses[i])"
   ]
  },
  {
   "cell_type": "code",
   "execution_count": 15,
   "metadata": {},
   "outputs": [],
   "source": [
    "table_dims, bbox_offset_pose = b.utils.aabb(b.RENDERER.meshes[0].vertices)\n",
    "table_plane = table_pose @ bbox_offset_pose @ b.scene_graph.get_contact_planes(table_dims)[0]\n",
    "b.show_pose(\"plane\", table_plane)"
   ]
  },
  {
   "cell_type": "code",
   "execution_count": 22,
   "metadata": {
    "tags": []
   },
   "outputs": [],
   "source": [
    "grid = b.utils.make_translation_grid_enumeration_3d(\n",
    "    -table_dims[0]/2, -table_dims[1]/2, -0.0,\n",
    "    table_dims[0]/2, table_dims[1]/2, 0.0,\n",
    "    50,50,1\n",
    ")\n",
    "relative_pose_from_edge_vmap = jax.jit(jax.vmap(b.scene_graph.relative_pose_from_edge, in_axes=(0, None, None)))\n",
    "orange_poses = table_plane @ relative_pose_from_edge_vmap(grid, 0, b.RENDERER.model_box_dims[2])\n",
    "\n",
    "# for (i,p) in enumerate(orange_poses):\n",
    "#     b.show_pose(f\"orange_{i}\", p)"
   ]
  },
  {
   "cell_type": "code",
   "execution_count": null,
   "metadata": {},
   "outputs": [],
   "source": []
  },
  {
   "cell_type": "code",
   "execution_count": 8,
   "metadata": {},
   "outputs": [],
   "source": [
    "def get_poses(ids, *args):\n",
    "    full_ids = jnp.concatenate([jnp.array([0]), ids])\n",
    "    root_poses = jnp.tile(table_pose[None,...], (ids.shape[0] + 1, 1,1))\n",
    "    return full_ids, b.scene_graph.poses_from_scene_graph(\n",
    "        root_poses,\n",
    "        b.RENDERER.model_box_dims[full_ids],\n",
    "        jnp.concatenate([jnp.array([-1]), jnp.full(ids.shape, 0)]),\n",
    "        jnp.stack([jnp.zeros((3,)), *args]),\n",
    "        jnp.full(full_ids.shape, 0),\n",
    "        jnp.full(full_ids.shape, 1),\n",
    "    )\n",
    "get_poses_jit = jax.jit(get_poses)\n",
    "get_poses_parallel = jax.jit(jax.vmap(\n",
    "    get_poses,\n",
    "    in_axes=(None, None, None, 0)\n",
    "))\n",
    "\n",
    "def render_depth(ids, *contact_params):\n",
    "    full_ids, poses = get_poses(ids, *contact_params)\n",
    "    return b.RENDERER.render(poses, full_ids)[:,:,:3]\n",
    "render_depth_jit = jax.jit(render_depth)\n",
    "\n",
    "def score_scene(observed_image, ids, variance, outlier_prob, *contact_params):\n",
    "    rendered = render_depth(ids, *contact_params)\n",
    "    return b.threedp3_likelihood(observed_image, rendered, variance, outlier_prob, OUTLIER_VOLUME, 1)\n",
    "score_scene_jit = jax.jit(score_scene)\n",
    "\n",
    "def viz_trace(ids, *contact_params):\n",
    "    all_ids, poses = get_poses_jit(ids, *contact_params)\n",
    "    colors = b.viz.distinct_colors(max(10, len(all_ids)))\n",
    "    b.clear()\n",
    "    for (i,(id,p)) in enumerate(zip(all_ids, poses)):\n",
    "        b.show_trimesh(f\"obj_{i}\", b.RENDERER.meshes[id],color=colors[i])\n",
    "        b.set_pose(f\"obj_{i}\", p)\n",
    "\n",
    "    depth = render_depth_jit(ids, *contact_params)\n",
    "    b.show_cloud(\"depth\", depth[:,:,:3].reshape(-1,3))\n",
    "\n",
    "parallel_scorer = jax.jit(jax.vmap(\n",
    "    score_scene,\n",
    "    in_axes=(None, None, None, None, None, None, 0)\n",
    "))\n",
    "\n",
    "contact_bounds = jnp.array([jnp.array([-2.5, -2.5, -2*jnp.pi]), jnp.array([2.5, 2.5, 2*jnp.pi])]),"
   ]
  },
  {
   "cell_type": "code",
   "execution_count": 26,
   "metadata": {},
   "outputs": [
    {
     "name": "stdout",
     "output_type": "stream",
     "text": [
      "19764.809\n"
     ]
    },
    {
     "data": {
      "image/jpeg": "[encoded data removed]",
      "image/png": "[encoded data removed]",
      "text/plain": [
       "<PIL.Image.Image image mode=RGB size=100x100>"
      ]
     },
     "execution_count": 26,
     "metadata": {},
     "output_type": "execute_result"
    }
   ],
   "source": [
    "N = 2\n",
    "gt_ids = jnp.array([1, 1])\n",
    "key = jax.random.PRNGKey(10)\n",
    "gt_contact_params = (jnp.array([0.0, 1.0, jnp.pi/3]), jnp.array([1.0, 0.0, jnp.pi/3]))\n",
    "observed_image = render_depth_jit(gt_ids, *gt_contact_params)\n",
    "viz_trace(gt_ids, *gt_contact_params)\n",
    "score = score_scene(observed_image, gt_ids, 0.0001, 0.0001, *gt_contact_params)\n",
    "print(score)\n",
    "b.get_depth_image(observed_image[:,:,2])"
   ]
  },
  {
   "cell_type": "code",
   "execution_count": 17,
   "metadata": {},
   "outputs": [],
   "source": [
    "bounds = 1.5\n",
    "grid = b.utils.make_translation_grid_enumeration_3d(\n",
    "    -bounds, -bounds, -0.0,\n",
    "    bounds, bounds, 0.0,\n",
    "    50,50,1\n",
    ")"
   ]
  },
  {
   "cell_type": "code",
   "execution_count": 19,
   "metadata": {},
   "outputs": [
    {
     "name": "stdout",
     "output_type": "stream",
     "text": [
      "19454.14 19768.008\n",
      "CPU times: user 76.5 ms, sys: 49.6 ms, total: 126 ms\n",
      "Wall time: 123 ms\n"
     ]
    }
   ],
   "source": [
    "%%time\n",
    "ids = jnp.array([1, 1, 2])\n",
    "scores = parallel_scorer(observed_image, ids, 0.0001, 0.0001, *gt_contact_params, grid)\n",
    "print(scores.min(), scores.max())"
   ]
  },
  {
   "cell_type": "code",
   "execution_count": 14,
   "metadata": {},
   "outputs": [],
   "source": [
    "sampled_indices = jax.random.categorical(key, scores, shape=(100,))\n",
    "sampled_poses = get_poses_parallel(ids, *gt_contact_params, grid[sampled_indices])[1][:,-1,...]"
   ]
  },
  {
   "cell_type": "code",
   "execution_count": 15,
   "metadata": {},
   "outputs": [
    {
     "data": {
      "image/jpeg": "[encoded data removed]",
      "image/png": "[encoded data removed]",
      "text/plain": [
       "<PIL.Image.Image image mode=RGB size=100x100>"
      ]
     },
     "execution_count": 15,
     "metadata": {},
     "output_type": "execute_result"
    }
   ],
   "source": [
    "img = b.RENDERER.render(sampled_poses, jnp.full(sampled_poses.shape[0], 2))\n",
    "b.get_depth_image(img[:,:,2])"
   ]
  },
  {
   "cell_type": "code",
   "execution_count": 16,
   "metadata": {},
   "outputs": [],
   "source": [
    "viz_trace(gt_ids, *gt_contact_params)\n",
    "final_id = ids[-1]\n",
    "for (i,p) in enumerate(sampled_poses):\n",
    "    b.show_trimesh(f\"target_obj_{i}\", b.RENDERER.meshes[final_id])\n",
    "    b.set_pose(f\"target_obj_{i}\", p)"
   ]
  },
  {
   "cell_type": "code",
   "execution_count": null,
   "metadata": {},
   "outputs": [],
   "source": [
    "# "
   ]
  },
  {
   "cell_type": "code",
   "execution_count": 21,
   "metadata": {},
   "outputs": [],
   "source": [
    "b.clear()"
   ]
  },
  {
   "cell_type": "code",
   "execution_count": null,
   "metadata": {},
   "outputs": [],
   "source": []
  }
 ],
 "metadata": {
  "kernelspec": {
   "display_name": "Python 3 (ipykernel)",
   "language": "python",
   "name": "python3"
  },
  "language_info": {
   "codemirror_mode": {
    "name": "ipython",
    "version": 3
   },
   "file_extension": ".py",
   "mimetype": "text/x-python",
   "name": "python",
   "nbconvert_exporter": "python",
   "pygments_lexer": "ipython3",
   "version": "3.9.16"
  }
 },
 "nbformat": 4,
 "nbformat_minor": 4
}
