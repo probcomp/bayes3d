{
 "cells": [
  {
   "cell_type": "code",
   "execution_count": null,
   "metadata": {
    "tags": []
   },
   "outputs": [],
   "source": [
    "import bayes3d as b\n",
    "import jax.numpy as jnp\n",
    "import jax\n",
    "import os\n",
    "import matplotlib.pyplot as plt\n",
    "import jax.tree_util as jtu\n",
    "from tqdm import tqdm\n",
    "import json\n",
    "import numpy as np\n",
    "from scipy.spatial.transform import Rotation as R\n",
    "import glob\n",
    "import pickle"
   ]
  },
  {
   "cell_type": "code",
   "execution_count": null,
   "metadata": {},
   "outputs": [],
   "source": [
    "b.setup_visualizer()"
   ]
  },
  {
   "cell_type": "markdown",
   "metadata": {},
   "source": [
    "# Load RGB, Depth, Intrinsics"
   ]
  },
  {
   "cell_type": "code",
   "execution_count": null,
   "metadata": {},
   "outputs": [],
   "source": [
    "paths[0]"
   ]
  },
  {
   "cell_type": "code",
   "execution_count": null,
   "metadata": {},
   "outputs": [],
   "source": [
    "\n",
    "paths = glob.glob(\n",
    "    \"*.pkl\"\n",
    ")\n",
    "all_data = pickle.load(open(paths[0], \"rb\"))\n",
    "IDX = 1\n",
    "data = all_data[IDX]\n",
    "\n",
    "print(data[\"camera_image\"].keys())\n",
    "K = data[\"camera_image\"]['camera_matrix'][0]\n",
    "rgb = data[\"camera_image\"]['rgbPixels']\n",
    "depth = data[\"camera_image\"]['depthPixels']\n",
    "camera_pose = data[\"camera_image\"]['camera_pose']\n",
    "camera_pose = b.t3d.pybullet_pose_to_transform(camera_pose)\n",
    "fx, fy, cx, cy = K[0,0],K[1,1],K[0,2],K[1,2]\n",
    "h,w = depth.shape\n",
    "near = 0.001\n",
    "far = 5.0\n",
    "depth[depth < near] = far\n",
    "rgbd_original = b.RGBD(rgb, depth, camera_pose, b.Intrinsics(h,w,fx,fy,cx,cy,near,far))\n",
    "b.get_rgb_image(rgbd_original.rgb)"
   ]
  },
  {
   "cell_type": "code",
   "execution_count": null,
   "metadata": {},
   "outputs": [],
   "source": [
    "!rm 09-15-2023-15:03:24.pkl"
   ]
  },
  {
   "cell_type": "code",
   "execution_count": null,
   "metadata": {},
   "outputs": [],
   "source": [
    "scaling_factor = 0.23\n",
    "rgbd_scaled_down = b.RGBD.scale_rgbd(rgbd_original, scaling_factor)"
   ]
  },
  {
   "cell_type": "code",
   "execution_count": null,
   "metadata": {},
   "outputs": [],
   "source": [
    "table_pose, table_dims = b.utils.infer_table_plane(\n",
    "    b.unproject_depth(rgbd_scaled_down.depth, rgbd_scaled_down.intrinsics), jnp.eye(4), rgbd_scaled_down.intrinsics,\n",
    "    ransac_threshold=0.001, inlier_threshold=0.001, segmentation_threshold=0.1\n",
    ")\n",
    "b.clear()\n",
    "b.show_cloud(\"1\", b.unproject_depth(rgbd_scaled_down.depth, rgbd_scaled_down.intrinsics).reshape(-1,3))\n",
    "b.show_pose(\"table\", table_pose)\n",
    "table_mesh = b.utils.make_cuboid_mesh(table_dims)\n",
    "b.show_trimesh(\"table_mesh\", table_mesh)\n",
    "b.set_pose(\"table_mesh\", table_pose)"
   ]
  },
  {
   "cell_type": "code",
   "execution_count": null,
   "metadata": {},
   "outputs": [],
   "source": [
    "b.setup_renderer(rgbd_scaled_down.intrinsics)\n",
    "b.RENDERER.add_mesh_from_file(os.path.join(b.utils.get_assets_dir(),\"sample_objs/sphere.obj\"), scaling_factor=1.0/30.0)\n",
    "b.show_trimesh(\"sphere_mesh\", b.RENDERER.meshes[0], color=(0.0, 1.0, 0.0))"
   ]
  },
  {
   "cell_type": "code",
   "execution_count": null,
   "metadata": {},
   "outputs": [],
   "source": [
    "def _contact_parameters_to_pose(cp, table_pose):\n",
    "    return table_pose @ b.scene_graph.relative_pose_from_edge(cp, 2, b.RENDERER.model_box_dims[0])\n",
    "contact_parameters_to_pose = jax.jit(_contact_parameters_to_pose)\n",
    "contact_parameters_to_pose_vmap = jax.jit(jax.vmap(_contact_parameters_to_pose, in_axes=(0,None)))\n",
    "\n",
    "def _compute_likelihood(rendered_depth):\n",
    "    return b.threedp3_likelihood_old(\n",
    "        b.unproject_depth(rgbd_scaled_down.depth, rgbd_scaled_down.intrinsics),\n",
    "        b.unproject_depth(rendered_depth, rgbd_scaled_down.intrinsics),\n",
    "        0.0001,\n",
    "        0.00001,\n",
    "        1.0,\n",
    "        1.0,\n",
    "        3\n",
    "    )\n",
    "compute_likelihood = jax.jit(_compute_likelihood)\n",
    "compute_likelihood_vmap = jax.jit(jax.vmap(_compute_likelihood))"
   ]
  },
  {
   "cell_type": "code",
   "execution_count": null,
   "metadata": {},
   "outputs": [],
   "source": [
    "contact_parameter_grid = b.utils.make_translation_grid_enumeration_3d(\n",
    "    -table_dims[0]/2.0, -table_dims[1]/2.0, 0.0,\n",
    "    table_dims[0]/2.0, table_dims[1]/2.0, 0.0,\n",
    "    50, 50, 1\n",
    ")\n",
    "orange_poses_full = contact_parameters_to_pose_vmap(contact_parameter_grid, table_pose)\n",
    "\n",
    "# for (i,p) in enumerate(orange_poses_full):\n",
    "#     b.show_pose(f\"{i}\", p)\n",
    "\n",
    "rendered_depth_orange_alone_all = b.RENDERER.render_many(orange_poses_full[:,None,...], jnp.array([0]))[...,2]\n",
    "poses_in_field_of_view = (rendered_depth_orange_alone_all < b.RENDERER.intrinsics.far).any(-1).any(-1)\n",
    "orange_poses = orange_poses_full[poses_in_field_of_view]\n",
    "rendered_depth_orange_alone = rendered_depth_orange_alone_all[poses_in_field_of_view]\n",
    "rendered_depth_spliced = jnp.minimum(rendered_depth_orange_alone, rgbd_scaled_down.depth[None, :,:])\n",
    "scores = compute_likelihood_vmap(rendered_depth_spliced)"
   ]
  },
  {
   "cell_type": "code",
   "execution_count": null,
   "metadata": {},
   "outputs": [],
   "source": [
    "rendered_depth_spliced.shape"
   ]
  },
  {
   "cell_type": "code",
   "execution_count": null,
   "metadata": {},
   "outputs": [],
   "source": [
    "IDX = 100\n",
    "b.show_pose(\"candidate_pose\", orange_poses[IDX])\n",
    "b.hstack_images([\n",
    "    b.get_depth_image(rendered_depth_orange_alone[IDX]),\n",
    "    b.get_depth_image(rendered_depth_spliced[IDX])\n",
    "])"
   ]
  },
  {
   "cell_type": "code",
   "execution_count": null,
   "metadata": {},
   "outputs": [],
   "source": [
    "b.clear()\n",
    "b.show_cloud(\"1\", b.unproject_depth(rgbd_scaled_down.depth, rgbd_scaled_down.intrinsics).reshape(-1,3))\n",
    "b.show_pose(\"table\", table_pose)\n",
    "b.show_trimesh(\"sphere_mesh\", b.RENDERER.meshes[0], color=(0.0, 1.0, 0.0))"
   ]
  },
  {
   "cell_type": "code",
   "execution_count": null,
   "metadata": {},
   "outputs": [],
   "source": [
    "key = jax.random.PRNGKey(10)"
   ]
  },
  {
   "cell_type": "code",
   "execution_count": null,
   "metadata": {},
   "outputs": [],
   "source": [
    "key = jax.random.split(key,2)[0]\n",
    "sampled_indices = jax.random.categorical(key, scores, shape=(2500,))\n",
    "sampled_poses = orange_poses[sampled_indices]\n",
    "idx = sampled_indices[0]\n",
    "b.set_pose(\"sphere_mesh\", orange_poses[idx])\n",
    "b.hstack_images([\n",
    "    b.get_depth_image(rendered_depth_orange_alone[idx]),\n",
    "    b.get_depth_image(rendered_depth_spliced[idx])\n",
    "])"
   ]
  },
  {
   "cell_type": "code",
   "execution_count": null,
   "metadata": {},
   "outputs": [],
   "source": [
    "overlay_img = b.RENDERER.render(sampled_poses, jnp.full(sampled_poses.shape[0], 0))[...,2]\n",
    "b.get_depth_image(overlay_img)"
   ]
  }
 ],
 "metadata": {
  "kernelspec": {
   "display_name": "Python 3 (ipykernel)",
   "language": "python",
   "name": "python3"
  },
  "language_info": {
   "codemirror_mode": {
    "name": "ipython",
    "version": 3
   },
   "file_extension": ".py",
   "mimetype": "text/x-python",
   "name": "python",
   "nbconvert_exporter": "python",
   "pygments_lexer": "ipython3",
   "version": "3.9.16"
  }
 },
 "nbformat": 4,
 "nbformat_minor": 4
}
