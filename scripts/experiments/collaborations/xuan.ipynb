{
 "cells": [
  {
   "cell_type": "code",
   "execution_count": null,
   "metadata": {
    "tags": []
   },
   "outputs": [],
   "source": [
    "%%time\n",
    "import bayes3d as b\n",
    "import jax.numpy as jnp\n",
    "import jax\n",
    "import numpy as np\n",
    "from tqdm import tqdm\n",
    "import bayes3d.o3d_viz\n",
    "import os"
   ]
  },
  {
   "cell_type": "code",
   "execution_count": null,
   "metadata": {
    "tags": []
   },
   "outputs": [],
   "source": [
    "b.setup_visualizer()"
   ]
  },
  {
   "cell_type": "code",
   "execution_count": null,
   "metadata": {
    "tags": []
   },
   "outputs": [],
   "source": [
    "original_intrinsics = b.Intrinsics(\n",
    "    height=500,\n",
    "    width=500,\n",
    "    fx=500.0, fy=500.0,\n",
    "    cx=250.0, cy=250.0,\n",
    "    near=0.001, far=6.0\n",
    ")\n",
    "\n",
    "meshes = []\n",
    "meshes.append(b.mesh.make_cuboid_mesh(jnp.array([0.1, 0.1, 0.1])))\n",
    "meshes.append(b.mesh.make_cuboid_mesh(jnp.array([0.5, 0.5, 0.02])))\n",
    "b.setup_renderer(original_intrinsics, num_layers=1024)\n",
    "for m in meshes:\n",
    "    b.RENDERER.add_mesh(m)\n",
    "table_mesh = b.mesh.make_cuboid_mesh(jnp.array([5.0, 5.0, 0.01]))"
   ]
  },
  {
   "cell_type": "code",
   "execution_count": null,
   "metadata": {
    "tags": []
   },
   "outputs": [],
   "source": [
    "viz = b.o3d_viz.O3DVis(original_intrinsics)"
   ]
  },
  {
   "cell_type": "code",
   "execution_count": null,
   "metadata": {
    "tags": []
   },
   "outputs": [],
   "source": [
    "contact_plane = b.t3d.inverse_pose(b.t3d.transform_from_pos_target_up(\n",
    "    jnp.array([0.0, 1.5, 1.0]),\n",
    "    jnp.array([0.0, 0.0, 0.0]),\n",
    "    jnp.array([0.0, 0.0, 1.0]),\n",
    "))\n",
    "\n",
    "contact_poses_parallel_jit = jax.jit(\n",
    "    jax.vmap(\n",
    "        b.scene_graph.relative_pose_from_edge,\n",
    "        in_axes=(0, None, 0),\n",
    "    )\n",
    ")\n",
    "contact_poses_jit = jax.jit(\n",
    "    jax.vmap(\n",
    "        b.scene_graph.relative_pose_from_edge,\n",
    "        in_axes=(0, None, None),\n",
    "    )\n",
    ")\n",
    "\n",
    "# TODO: Different shapes\n",
    "\n",
    "distinct_colors = b.distinct_colors(3)\n",
    "ids = jnp.array([1, 1, 1, 0, 0, 0, 0, 0, 0])\n",
    "color = jnp.array([0, 1, 2, 0, 1, 2,2,0,1])\n",
    "\n",
    "# Frame 1\n",
    "all_contact_params = jnp.array([\n",
    "[\n",
    "    [-0.3, -0.3, 0.0],\n",
    "    [0.3, -0.3, 0.0],\n",
    "    [0.3, 0.3, 0.0],\n",
    "    [-0.15, 0.2, 0.0],\n",
    "    [-0.3, 0.2, 0.0],\n",
    "    [-0.45, 0.2, 0.0],\n",
    "    [-0.15, 0.45, 0.0],\n",
    "    [-0.3, 0.45,0.0],\n",
    "    [-0.45, 0.45, 0.0],\n",
    "],\n",
    "# Frame 2\n",
    "[\n",
    "    [-0.3, -0.3, 0.0],\n",
    "    [0.3, -0.3, 0.0],\n",
    "    [0.3, 0.3, 0.0],\n",
    "    [-0.3, -0.3, 0.0],\n",
    "    [-0.3, 0.2, 0.0],\n",
    "    [-0.45, 0.2, 0.0],\n",
    "    [-0.15, 0.45, 0.0],\n",
    "    [-0.3, 0.45,0.0],\n",
    "    [-0.45, 0.45, 0.0],\n",
    "],\n",
    "[\n",
    "    [-0.3, -0.3, 0.0],\n",
    "    [0.3, -0.3, 0.0],\n",
    "    [0.3, 0.3, 0.0],\n",
    "    [-0.3, -0.3, 0.0],\n",
    "    [0.3, -0.3, 0.0],\n",
    "    [-0.45, 0.2, 0.0],\n",
    "    [-0.15, 0.45, 0.0],\n",
    "    [-0.3, 0.45,0.0],\n",
    "    [-0.45, 0.45, 0.0],\n",
    "],\n",
    "[\n",
    "    [-0.3, -0.3, 0.0],\n",
    "    [0.3, -0.3, 0.0],\n",
    "    [0.3, 0.3, 0.0],\n",
    "    [-0.3, -0.3, 0.0],\n",
    "    [0.3, -0.3, 0.0],\n",
    "    [0.3, 0.3, 0.0],\n",
    "    [-0.15, 0.45, 0.0],\n",
    "    [-0.3, 0.45,0.0],\n",
    "    [-0.45, 0.45, 0.0],\n",
    "]\n",
    "\n",
    "])\n",
    "\n",
    "rgbd_images = []\n",
    "all_poses = []\n",
    "for i in range(len(all_contact_params)):\n",
    "    contact_params = all_contact_params[i]\n",
    "    poses = contact_plane @ contact_poses_parallel_jit(\n",
    "        contact_params,\n",
    "        3,\n",
    "        b.RENDERER.model_box_dims[ids]\n",
    "    )\n",
    "    all_poses.append(poses)\n",
    "    viz.clear()\n",
    "\n",
    "    viz.make_trimesh(table_mesh, contact_plane, np.array([221, 174, 126, 255.0])/255.0)\n",
    "    for i in range(len(poses)):\n",
    "        viz.make_trimesh(b.RENDERER.meshes[ids[i]], poses[i], np.array([*distinct_colors[color[i]], 1.0]))\n",
    "\n",
    "    rgbd = viz.capture_image(original_intrinsics, jnp.eye(4))\n",
    "    rgbd_images.append(rgbd)\n",
    "\n"
   ]
  },
  {
   "cell_type": "code",
   "execution_count": null,
   "metadata": {
    "tags": []
   },
   "outputs": [],
   "source": [
    "np.savez(\"rgbd.npz\",rgbd_images[0])\n",
    "b.hstack_images([b.get_rgb_image(rgbd.rgb) for rgbd in rgbd_images])\n"
   ]
  },
  {
   "cell_type": "code",
   "execution_count": null,
   "metadata": {
    "tags": []
   },
   "outputs": [],
   "source": [
    "rgbd_original = np.load(\"rgbd.npz\",allow_pickle=True)[\"arr_0\"].item()\n",
    "SCALING_FACTOR = 0.3\n",
    "rgbd = b.scale_rgbd(rgbd_original, SCALING_FACTOR)"
   ]
  },
  {
   "cell_type": "code",
   "execution_count": null,
   "metadata": {
    "tags": []
   },
   "outputs": [],
   "source": [
    "# intrinsics = rgbd.intrinsics\n",
    "# observed_point_cloud_image = b.t3d.unproject_depth(rgbd.depth, intrinsics)[:,:,:3]\n",
    "# observed_point_cloud_image = (\n",
    "#     observed_point_cloud_image *\n",
    "#     (b.t3d.apply_transform(observed_point_cloud_image, b.t3d.inverse_pose(contact_plane))[:,:,2]>0.02)[...,None]\n",
    "# )\n",
    "# observed_point_cloud_image = b.t3d.unproject_depth(observed_point_cloud_image[:,:,2], intrinsics)\n",
    "\n",
    "\n",
    "# b.clear()\n",
    "# b.show_cloud(\"1\", observed_point_cloud_image[:,:,:3].reshape(-1,3))"
   ]
  },
  {
   "cell_type": "code",
   "execution_count": null,
   "metadata": {
    "tags": []
   },
   "outputs": [],
   "source": [
    "intrinsics = rgbd.intrinsics\n",
    "b.setup_renderer(intrinsics)\n",
    "for m in meshes:\n",
    "    b.RENDERER.add_mesh(m)\n",
    "    \n",
    "observed_point_cloud_image = b.RENDERER.render_multiobject(all_poses[0], ids)[:,:,:3]\n",
    "b.clear()\n",
    "b.show_cloud(\"1\", observed_point_cloud_image[:,:,:3].reshape(-1,3))\n",
    "b.get_depth_image(observed_point_cloud_image[:,:,2])\n"
   ]
  },
  {
   "cell_type": "code",
   "execution_count": null,
   "metadata": {
    "tags": []
   },
   "outputs": [],
   "source": [
    "grid_params = [\n",
    "    (0.5, jnp.pi, (11,11,11)), (0.2, jnp.pi/3, (11,11,11)), (0.1, jnp.pi/5, (11,11,1)),\n",
    "    (0.05, jnp.pi/5, (11,11,11)), \n",
    "]\n",
    "contact_param_gridding_schedule = [\n",
    "    b.make_translation_grid_enumeration_3d(\n",
    "        -x, -x, -ang,\n",
    "        x, x, ang,\n",
    "        *nums\n",
    "    )\n",
    "    for (x,ang,nums) in grid_params\n",
    "]\n",
    "\n"
   ]
  },
  {
   "cell_type": "code",
   "execution_count": null,
   "metadata": {
    "tags": []
   },
   "outputs": [],
   "source": [
    "threedp3_likelihood_full_hierarchical_bayes_per_pixel_jit = jax.jit(jax.vmap(jax.vmap(jax.vmap(\n",
    "    b.threedp3_likelihood_per_pixel_jit,\n",
    "       in_axes=(None, None, None, 0, None, None)),\n",
    "       in_axes=(None, None, 0, None, None, None)),\n",
    "       in_axes=(None, 0, None, None, None, None)\n",
    "), static_argnames=('filter_size',))"
   ]
  },
  {
   "cell_type": "code",
   "execution_count": null,
   "metadata": {
    "tags": []
   },
   "outputs": [],
   "source": [
    "VARIANCE_GRID = jnp.array([ 0.0001])\n",
    "OUTLIER_GRID = jnp.array([0.01])\n",
    "OUTLIER_VOLUME = 1000.0"
   ]
  },
  {
   "cell_type": "code",
   "execution_count": null,
   "metadata": {
    "tags": []
   },
   "outputs": [],
   "source": [
    "def refine(trace, init_contact_param, i, obj_id):\n",
    "    contact_param_grid = contact_param_gridding_schedule[i] + init_contact_param\n",
    "    potential_new_object_poses = contact_plane @ contact_poses_jit(\n",
    "        contact_param_grid,\n",
    "        3,\n",
    "        b.RENDERER.model_box_dims[obj_id],\n",
    "    )\n",
    "    potential_poses = jnp.concatenate(\n",
    "        [\n",
    "            jnp.tile(trace.poses[:,None,...], (1,potential_new_object_poses.shape[0],1,1)),\n",
    "            potential_new_object_poses[None,...]\n",
    "        ]\n",
    "    )\n",
    "    traces = b.Traces(\n",
    "        potential_poses, jnp.concatenate([trace.ids, jnp.array([obj_id])]), VARIANCE_GRID, OUTLIER_GRID,\n",
    "        trace.outlier_volume, trace.observation\n",
    "    )\n",
    "    p = b.score_traces(traces)\n",
    "\n",
    "    ii,jj,kk = jnp.unravel_index(p.argmax(), p.shape)\n",
    "    contact_param = contact_param_grid[ii]\n",
    "    return contact_param, traces[ii,jj,kk]\n",
    "\n",
    "refine_jit = jax.jit(refine, static_argnames=(\"i\", \"obj_id\",))"
   ]
  },
  {
   "cell_type": "code",
   "execution_count": null,
   "metadata": {
    "tags": []
   },
   "outputs": [],
   "source": [
    "# trace = Trace(\n",
    "#     plane_pose[None,...], [21],\n",
    "#     VARIANCE, 0.01,\n",
    "#     observed_point_cloud_image\n",
    "# )\n",
    "\n",
    "\n",
    "gt_trace = b.Trace(\n",
    "    poses, ids, VARIANCE_GRID[0], OUTLIER_GRID[0], OUTLIER_VOLUME,\n",
    "    observed_point_cloud_image\n",
    ")\n",
    "print(b.score_trace(gt_trace))\n",
    "b.show_cloud(\"rerender\", b.render_image(gt_trace)[:,:,:3].reshape(-1,3),color=b.RED)\n",
    "\n",
    "trace = b.Trace(\n",
    "    jnp.zeros((0,4,4)), jnp.array([],dtype=jnp.int32),\n",
    "    VARIANCE_GRID[0], OUTLIER_GRID[0], OUTLIER_VOLUME,\n",
    "    observed_point_cloud_image\n",
    ")\n",
    "b.viz_trace_meshcat(trace)"
   ]
  },
  {
   "cell_type": "code",
   "execution_count": null,
   "metadata": {
    "tags": []
   },
   "outputs": [],
   "source": [
    "%%time\n",
    "for _ in range(10):\n",
    "    all_paths = []\n",
    "    for obj_id in tqdm(range(len(b.RENDERER.meshes))):\n",
    "        contact_param = jnp.zeros(3)\n",
    "        p = None\n",
    "        trace_path = []\n",
    "        for c2f_iter in range(len(contact_param_gridding_schedule)):\n",
    "            contact_param, trace_ = refine_jit(trace, contact_param, c2f_iter, obj_id)\n",
    "            trace_path.append(trace_)\n",
    "\n",
    "        all_paths.append(\n",
    "            trace_path\n",
    "        )\n",
    "\n",
    "\n",
    "    scores = jnp.array([b.score_trace(t[-1]) for t in all_paths])\n",
    "    normalized_scores = b.utils.normalize_log_scores(scores)\n",
    "    # print([\"{:0.3f}\".format(n) for n in normalized_scores])\n",
    "    order = jnp.argsort(-scores)\n",
    "    # print(order)\n",
    "    new_trace = all_paths[jnp.argmax(scores)][-1]\n",
    "    trace = new_trace\n",
    "    b.viz_trace_meshcat(trace)\n"
   ]
  },
  {
   "cell_type": "code",
   "execution_count": null,
   "metadata": {},
   "outputs": [],
   "source": []
  },
  {
   "cell_type": "code",
   "execution_count": null,
   "metadata": {
    "tags": []
   },
   "outputs": [],
   "source": [
    "b.viz_trace_meshcat(new_trace, renderer)"
   ]
  },
  {
   "cell_type": "code",
   "execution_count": null,
   "metadata": {
    "tags": []
   },
   "outputs": [],
   "source": [
    "b.viz_trace_meshcat(trace, renderer)\n",
    "trace.ids"
   ]
  },
  {
   "cell_type": "code",
   "execution_count": null,
   "metadata": {
    "tags": []
   },
   "outputs": [],
   "source": [
    "t = all_paths[0][0]\n",
    "b.viz_trace_meshcat(t, renderer)\n",
    "b.score_trace(t, renderer)"
   ]
  },
  {
   "cell_type": "code",
   "execution_count": null,
   "metadata": {
    "tags": []
   },
   "outputs": [],
   "source": [
    "[(b.score_trace(t, renderer),t.variance, t.outlier_prob, t.outlier_volume) for t in all_paths[0]]"
   ]
  },
  {
   "cell_type": "code",
   "execution_count": null,
   "metadata": {
    "tags": []
   },
   "outputs": [],
   "source": [
    "print(all_paths[0][0])"
   ]
  },
  {
   "cell_type": "code",
   "execution_count": null,
   "metadata": {
    "tags": []
   },
   "outputs": [],
   "source": [
    "reconstruction = b.render_image(trace, renderer)\n",
    "b.get_depth_image(reconstruction[:,:,2])"
   ]
  },
  {
   "cell_type": "code",
   "execution_count": null,
   "metadata": {
    "tags": []
   },
   "outputs": [],
   "source": [
    "print(trace.variance, trace.outlier_prob, trace.outlier_volume)\n",
    "p = b.threedp3_likelihood_per_pixel_jit(\n",
    "    trace.observation, reconstruction[:,:,:3],\n",
    "    trace.variance, 0.0, 1.0,\n",
    "    3\n",
    ")\n",
    "outlier_density = jnp.log(trace.outlier_prob) - jnp.log(0.0005)\n",
    "b.get_depth_image(1.0 * (outlier_density > p), min=0.0, max=1.0)"
   ]
  },
  {
   "cell_type": "code",
   "execution_count": null,
   "metadata": {
    "tags": []
   },
   "outputs": [],
   "source": [
    "potential_new_trace = all_traces[0]\n",
    "potential_new_trace.poses = potential_new_trace.poses.at[-1].set(poses[4])\n",
    "b.viz_trace_meshcat(potential_new_trace, renderer)"
   ]
  },
  {
   "cell_type": "code",
   "execution_count": null,
   "metadata": {
    "tags": []
   },
   "outputs": [],
   "source": [
    "print(b.score_trace(trace, renderer))\n",
    "print(b.score_trace(potential_new_trace, renderer))"
   ]
  },
  {
   "cell_type": "code",
   "execution_count": null,
   "metadata": {
    "tags": []
   },
   "outputs": [],
   "source": [
    "b.viz_trace_meshcat(all_traces[1], renderer)"
   ]
  },
  {
   "cell_type": "code",
   "execution_count": null,
   "metadata": {
    "tags": []
   },
   "outputs": [],
   "source": [
    "b.clear()\n",
    "seg = b.render_image(trace, renderer)[:,:,3]\n",
    "# b.show_cloud(\"rerender\", b.render_image(trace,renderer)[:,:,:3].reshape(-1,3),color=b.RED)"
   ]
  },
  {
   "cell_type": "code",
   "execution_count": null,
   "metadata": {
    "tags": []
   },
   "outputs": [],
   "source": [
    "b.get_depth_image(seg)"
   ]
  },
  {
   "cell_type": "code",
   "execution_count": null,
   "metadata": {
    "tags": []
   },
   "outputs": [],
   "source": [
    "trace.variance"
   ]
  },
  {
   "cell_type": "code",
   "execution_count": null,
   "metadata": {
    "tags": []
   },
   "outputs": [],
   "source": [
    "inferred_colors = []\n",
    "distinct_colors = jnp.array(distinct_colors)\n",
    "for i in range(1,len(trace.ids)+1):\n",
    "    seg_colors = rgbd.rgb[seg == i ,:3]\n",
    "    distances = jnp.abs(seg_colors[:,None,:]/255.0 - distinct_colors[None,...]).sum(-1)\n",
    "    values, counts = np.unique(jnp.argmin(distances,axis=-1), return_counts=True)\n",
    "    inferred_colors.append(values[counts.argmax()])\n",
    "inferred_colors"
   ]
  },
  {
   "cell_type": "code",
   "execution_count": null,
   "metadata": {
    "tags": []
   },
   "outputs": [],
   "source": [
    "trace.ids"
   ]
  },
  {
   "cell_type": "code",
   "execution_count": null,
   "metadata": {
    "tags": []
   },
   "outputs": [],
   "source": [
    "color"
   ]
  },
  {
   "cell_type": "code",
   "execution_count": null,
   "metadata": {
    "tags": []
   },
   "outputs": [],
   "source": [
    "ids"
   ]
  },
  {
   "cell_type": "code",
   "execution_count": null,
   "metadata": {
    "tags": []
   },
   "outputs": [],
   "source": [
    "distinct_colors = jnp.array(distinct_colors)"
   ]
  },
  {
   "cell_type": "code",
   "execution_count": null,
   "metadata": {
    "tags": []
   },
   "outputs": [],
   "source": []
  },
  {
   "cell_type": "code",
   "execution_count": null,
   "metadata": {
    "tags": []
   },
   "outputs": [],
   "source": [
    "distances"
   ]
  },
  {
   "cell_type": "code",
   "execution_count": null,
   "metadata": {
    "tags": []
   },
   "outputs": [],
   "source": [
    "seg_colors"
   ]
  },
  {
   "cell_type": "code",
   "execution_count": null,
   "metadata": {
    "tags": []
   },
   "outputs": [],
   "source": [
    "## b.score_trace(gt_trace, renderer, filter_size=i)"
   ]
  },
  {
   "cell_type": "code",
   "execution_count": null,
   "metadata": {
    "tags": []
   },
   "outputs": [],
   "source": [
    "x = b.render_image(gt_trace, renderer)[:,:,:3]\n",
    "b.clear()\n",
    "b.show_cloud(\"1\", x.reshape(-1,3))"
   ]
  },
  {
   "cell_type": "code",
   "execution_count": null,
   "metadata": {
    "tags": []
   },
   "outputs": [],
   "source": [
    "b"
   ]
  },
  {
   "cell_type": "code",
   "execution_count": null,
   "metadata": {},
   "outputs": [],
   "source": [
    "scores"
   ]
  },
  {
   "cell_type": "code",
   "execution_count": null,
   "metadata": {
    "tags": []
   },
   "outputs": [],
   "source": []
  },
  {
   "cell_type": "code",
   "execution_count": null,
   "metadata": {},
   "outputs": [],
   "source": []
  },
  {
   "cell_type": "code",
   "execution_count": null,
   "metadata": {
    "tags": []
   },
   "outputs": [],
   "source": []
  },
  {
   "cell_type": "code",
   "execution_count": null,
   "metadata": {
    "tags": []
   },
   "outputs": [],
   "source": []
  },
  {
   "cell_type": "code",
   "execution_count": null,
   "metadata": {},
   "outputs": [],
   "source": [
    "# object_types: cube, sphere, pyramid, pad\n",
    "# Output\n",
    "# List of (object_type, color, contact_params)"
   ]
  }
 ],
 "metadata": {
  "kernelspec": {
   "display_name": "Python 3 (ipykernel)",
   "language": "python",
   "name": "python3"
  },
  "language_info": {
   "codemirror_mode": {
    "name": "ipython",
    "version": 3
   },
   "file_extension": ".py",
   "mimetype": "text/x-python",
   "name": "python",
   "nbconvert_exporter": "python",
   "pygments_lexer": "ipython3",
   "version": "3.8.16"
  }
 },
 "nbformat": 4,
 "nbformat_minor": 4
}
