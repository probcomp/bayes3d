{
 "cells": [
  {
   "cell_type": "code",
   "execution_count": 1,
   "metadata": {},
   "outputs": [
    {
     "name": "stdout",
     "output_type": "stream",
     "text": [
      "env: XLA_PYTHON_CLIENT_PREALLOCATE=False\n"
     ]
    }
   ],
   "source": [
    "%env XLA_PYTHON_CLIENT_PREALLOCATE = False\n",
    "import os\n",
    "import genjax\n",
    "import numpy as np\n",
    "import bayes3d as b\n",
    "from genjax.generative_functions.distributions import ExactDensity\n",
    "import jax.numpy as jnp\n",
    "import bayes3d.genjax\n",
    "import jax\n",
    "from jax.debug import print as jprint\n",
    "import matplotlib\n",
    "import matplotlib.animation as animation\n",
    "import matplotlib.pyplot as plt\n",
    "from IPython.display import HTML\n",
    "import PIL\n",
    "\n",
    "def display_video(frames, framerate=30):\n",
    "    if type(frames[0]) == PIL.Image.Image:\n",
    "      frames = [np.array(frames[i]) for i in range(len(frames))]\n",
    "    height, width, _ = frames[0].shape\n",
    "    dpi = 70\n",
    "    orig_backend = matplotlib.get_backend()\n",
    "    matplotlib.use('Agg')  # Switch to headless 'Agg' to inhibit figure rendering.\n",
    "    fig, ax = plt.subplots(1, 1, figsize=(width / dpi, height / dpi), dpi=dpi)\n",
    "    matplotlib.use(orig_backend)  # Switch back to the original backend.\n",
    "    ax.set_axis_off()\n",
    "    ax.set_aspect('equal')\n",
    "    ax.set_position([0, 0, 1, 1])\n",
    "    im = ax.imshow(frames[0])\n",
    "    def update(frame):\n",
    "      im.set_data(frame)\n",
    "      return [im]\n",
    "    interval = 1000/framerate\n",
    "    anim = animation.FuncAnimation(fig=fig, func=update, frames=frames,\n",
    "                                   interval=interval, blit=True, repeat=True)\n",
    "    return HTML(anim.to_html5_video())\n",
    "\n",
    "def video_from_trace(trace, scale = 8, use_retval = False):\n",
    "    if use_retval:\n",
    "        depths = trace.get_retval()[0]\n",
    "    else:\n",
    "        depths = trace[\"depths\", \"depths\"]\n",
    "    images = [b.scale_image(b.get_depth_image(depths[i,...,2]),scale) for i in range(depths.shape[0])]\n",
    "    return images\n",
    "\n",
    "console = genjax.pretty()"
   ]
  },
  {
   "cell_type": "code",
   "execution_count": 2,
   "metadata": {},
   "outputs": [
    {
     "name": "stdout",
     "output_type": "stream",
     "text": [
      "You can open the visualizer by visiting the following URL:\n",
      "http://127.0.0.1:7000/static/\n"
     ]
    }
   ],
   "source": [
    "b.setup_visualizer()"
   ]
  },
  {
   "cell_type": "code",
   "execution_count": 3,
   "metadata": {},
   "outputs": [
    {
     "name": "stderr",
     "output_type": "stream",
     "text": [
      "[E rasterize_gl.cpp:121] OpenGL version reported as 4.6\n"
     ]
    },
    {
     "name": "stdout",
     "output_type": "stream",
     "text": [
      "Increasing frame buffer size to (width, height, depth) = (64, 64, 1024)\n"
     ]
    }
   ],
   "source": [
    "intrinsics = b.Intrinsics(\n",
    "    height=50,\n",
    "    width=50,\n",
    "    fx=250.0, fy=250.0,\n",
    "    cx=25.0, cy=25.0,\n",
    "    near=0.01, far=20.0\n",
    ")\n",
    "\n",
    "b.setup_renderer(intrinsics)\n",
    "b.RENDERER.add_mesh_from_file(os.path.join(b.utils.get_assets_dir(), \"sample_objs/cube.obj\"), scaling_factor=0.1)"
   ]
  },
  {
   "cell_type": "code",
   "execution_count": 4,
   "metadata": {},
   "outputs": [],
   "source": [
    "T = 10\n",
    "\n",
    "@genjax.gen\n",
    "def dynamics_model_v1(prev):\n",
    "    (t, pose, velocity) = prev\n",
    "    velocity = b.gaussian_vmf_pose(velocity, 0.005, 10000.0)  @ f\"velocity\"\n",
    "    pose = b.gaussian_vmf_pose(pose @ velocity, 0.005, 10000.0)  @ f\"pose\"\n",
    "    return (t + 1, pose, velocity)\n",
    "\n",
    "dynamics_model_v1_unfold = genjax.UnfoldCombinator.new(dynamics_model_v1, T+1)\n",
    "image_likelihood_vmap = genjax.MapCombinator.new(genjax.gen(lambda *x: b.image_likelihood(*x) @ \"depths\"), in_axes=(0,None,None,None,None))"
   ]
  },
  {
   "cell_type": "code",
   "execution_count": 5,
   "metadata": {},
   "outputs": [],
   "source": [
    "@genjax.gen\n",
    "def model_single_object(T_vec, outlier_volume, focal_length):\n",
    "    T = T_vec.shape[0]\n",
    "    pose = b.uniform_pose(jnp.array([-0.1,-0.1,1.5]), jnp.array([0.1,0.1,2])) @ \"init_pose\"\n",
    "    velocity = b.gaussian_vmf_pose(jnp.eye(4), 0.01, 10000.0) @ \"init_velocity\"\n",
    "    dynamics = dynamics_model_v1_unfold(T,(0, pose, velocity)) @ \"dynamics\"\n",
    "    poses = jax.lax.slice_in_dim(dynamics[1], 0, T+1, axis = 0) \n",
    "\n",
    "    # poses = jax.lax.cond(poses.shape[0] < 4, lambda x: poses[:,None,...], lambda x: poses, (None,))\n",
    "    indices = jnp.array([0])\n",
    "\n",
    "    rendered_images = b.RENDERER.render_many(\n",
    "        poses[:,None,...], indices \n",
    "    )[...,:3]\n",
    "\n",
    "    variance = genjax.distributions.tfp_uniform(0.00000000001, 10000.0) @ \"variance\"\n",
    "    outlier_prob  = genjax.distributions.tfp_uniform(-0.01, 10000.0) @ \"outlier_prob\"\n",
    "    \n",
    "    # images = b.image_likelihood(rendered_images[0,...], variance, outlier_prob, outlier_volume, focal_length) @ \"images\"\n",
    "    images = image_likelihood_vmap(rendered_images, variance, outlier_prob, outlier_volume, focal_length) @ \"depths\"\n",
    "    return rendered_images, poses\n",
    "\n",
    "\n",
    "model_single_object_simulate_jit = jax.jit(model_single_object.simulate)\n",
    "model_single_object_importance_jit = jax.jit(model_single_object.importance)\n"
   ]
  },
  {
   "cell_type": "code",
   "execution_count": 6,
   "metadata": {},
   "outputs": [],
   "source": [
    "# key = jax.random.PRNGKey(31415)\n",
    "# gt_tr = model_single_object_simulate_jit(key, (jnp.zeros(T), jnp.float64(1000.0), jnp.float64(1.0)))\n",
    "# poses = tr[\"dynamics\"][\"pose\"]\n",
    "# for i in range(poses.shape[0]):\n",
    "#     b.show_pose(f\"{i}\", poses[i])\n",
    "# display_video(video_from_trace(gt_tr, 0.7),  framerate=24)\n",
    "\n",
    "# def c2f_pose_update(trace_, key,  number, contact_param_deltas, VARIANCE_GRID, OUTLIER_GRID):\n",
    "#     contact_param_grid = contact_param_deltas + trace_[f\"contact_params_{number}\"]\n",
    "#     scores = contact_enumerators[number][3](trace_, key, contact_param_grid, VARIANCE_GRID, OUTLIER_GRID)\n",
    "#     i,j,k = jnp.unravel_index(scores.argmax(), scores.shape)\n",
    "#     return contact_enumerators[number][0](\n",
    "#         trace_, key,\n",
    "#         contact_param_grid[i], VARIANCE_GRID[j], OUTLIER_GRID[k]\n",
    "#     )"
   ]
  },
  {
   "cell_type": "code",
   "execution_count": null,
   "metadata": {},
   "outputs": [],
   "source": []
  },
  {
   "cell_type": "code",
   "execution_count": null,
   "metadata": {},
   "outputs": [],
   "source": []
  },
  {
   "cell_type": "code",
   "execution_count": 6,
   "metadata": {},
   "outputs": [],
   "source": [
    "key = jax.random.PRNGKey(31415)\n",
    "subkey = jax.random.split(key, 1)[0]\n",
    "weight, gt_trace = model_single_object_importance_jit(subkey, genjax.choice_map({\n",
    "    \"variance\": 0.0001,\n",
    "    \"outlier_prob\": 0.0001,\n",
    "}), (jnp.zeros(T), jnp.float32(1000.0), jnp.float32(1.0)))"
   ]
  },
  {
   "cell_type": "code",
   "execution_count": 7,
   "metadata": {},
   "outputs": [
    {
     "name": "stderr",
     "output_type": "stream",
     "text": [
      "/tmp/ipykernel_2637/736626789.py:25: MatplotlibDeprecationWarning: Auto-close()ing of figures upon backend switching is deprecated since 3.8 and will be removed two minor releases later.  To suppress this warning, explicitly call plt.close('all') first.\n",
      "  matplotlib.use(orig_backend)  # Switch back to the original backend.\n"
     ]
    },
    {
     "data": {
      "text/html": [
       "<pre style=\"white-space:pre;overflow-x:auto;line-height:normal;font-family:Menlo,'DejaVu Sans Mono',consolas,'Courier New',monospace\"></pre>\n"
      ],
      "text/plain": []
     },
     "metadata": {},
     "output_type": "display_data"
    },
    {
     "data": {
      "text/html": [
       "<video width=\"200\" height=\"200\" controls autoplay loop>\n",
       "  <source type=\"video/mp4\" src=\"data:video/mp4;base64,AAAAIGZ0eXBNNFYgAAACAE00ViBpc29taXNvMmF2YzEAAAAIZnJlZQAACyBtZGF0AAACrgYF//+q\n",
       "3EXpvebZSLeWLNgg2SPu73gyNjQgLSBjb3JlIDE2MCByMzAxMSBjZGU5YTkzIC0gSC4yNjQvTVBF\n",
       "Ry00IEFWQyBjb2RlYyAtIENvcHlsZWZ0IDIwMDMtMjAyMCAtIGh0dHA6Ly93d3cudmlkZW9sYW4u\n",
       "b3JnL3gyNjQuaHRtbCAtIG9wdGlvbnM6IGNhYmFjPTEgcmVmPTMgZGVibG9jaz0xOjA6MCBhbmFs\n",
       "eXNlPTB4MzoweDExMyBtZT1oZXggc3VibWU9NyBwc3k9MSBwc3lfcmQ9MS4wMDowLjAwIG1peGVk\n",
       "X3JlZj0xIG1lX3JhbmdlPTE2IGNocm9tYV9tZT0xIHRyZWxsaXM9MSA4eDhkY3Q9MSBjcW09MCBk\n",
       "ZWFkem9uZT0yMSwxMSBmYXN0X3Bza2lwPTEgY2hyb21hX3FwX29mZnNldD0tMiB0aHJlYWRzPTYg\n",
       "bG9va2FoZWFkX3RocmVhZHM9MSBzbGljZWRfdGhyZWFkcz0wIG5yPTAgZGVjaW1hdGU9MSBpbnRl\n",
       "cmxhY2VkPTAgYmx1cmF5X2NvbXBhdD0wIGNvbnN0cmFpbmVkX2ludHJhPTAgYmZyYW1lcz0zIGJf\n",
       "cHlyYW1pZD0yIGJfYWRhcHQ9MSBiX2JpYXM9MCBkaXJlY3Q9MSB3ZWlnaHRiPTEgb3Blbl9nb3A9\n",
       "MCB3ZWlnaHRwPTIga2V5aW50PTI1MCBrZXlpbnRfbWluPTI0IHNjZW5lY3V0PTQwIGludHJhX3Jl\n",
       "ZnJlc2g9MCByY19sb29rYWhlYWQ9NDAgcmM9Y3JmIG1idHJlZT0xIGNyZj0yMy4wIHFjb21wPTAu\n",
       "NjAgcXBtaW49MCBxcG1heD02OSBxcHN0ZXA9NCBpcF9yYXRpbz0xLjQwIGFxPTE6MS4wMACAAAAB\n",
       "gmWIhAA3//7hA/gU1pIeYk/hTgbJXLkbcSl0zZ85AYj10FhSbNEjbsphOv9H6oAAHSAIl//2CkAl\n",
       "d2U4cE7ObGx/UYJwS6JJusDy023ToPPFPM6dWgRezKWxmPcbhp5kRDrh3B9a34vBJ7FlNkQNjT0M\n",
       "ankAx93RhWRjpmfXUImu8VHZot2gBo/+XemnGuQcRbSclmW5GrM3lLNAG1TB23yf340hUP/o5ODU\n",
       "jcTlH4y9apXjYTqUABckykTmRBS4mFKLrc/VKI/dtADMa5tvaWOaH0/x1MtkK/NGtbeQFLm5yewe\n",
       "7auB1gVz0GfSTasGmks3oHm5d3wWPYjl6B/6o40u3kpF8VCkjQ10SJhAJhmlSA0Qhv/O0NY3K0Q7\n",
       "7e0GFcOx4yXOfgjjdPyMpUhRcgWXk7uVeu1//XKpnnj/r4WZivApbU2WXujzpwBh0hildsZqqCrz\n",
       "lMbGTBhtVXy1M2mnooaNurAqjlYZY/Qmqat/WqI3LV6vjhppIRYfKwwAAAr5AAAAtUGaImxDf/6n\n",
       "hAQvb9a2vPAydTgJtdOU1JgaV6tq27mFfdOduf8wmirsQR1mWaJ6HpdXjtsNSu9s3yGivu4QDaWm\n",
       "Z98apIzYVbLv/kEG71NXT4XvY97TxlyH2Q7aJmDlNOLsx7x/LcLEbc4LTohC63lvQGFY793K2LIs\n",
       "e6vuXIucvR5GAwm697wuG5nBTkonqYvF+yjTV4GrA62HXiOZTOkTdLA/DXi2uusQWresvDeIKLMW\n",
       "8tAAAACmAZ5BeQr/Ad6AdDjMQBvwlNNY6wfJ7V5ru4vsNzf2ySB8SCpw+WQ6YV0FoZKEKKjnl7VR\n",
       "mJVYfN02Nrkal3Cdi2TG89IdcU2FBP9iF+fgbaXMUcd0VPUq9s42Cvs38GLfZqfwUY0VYOdmIHcC\n",
       "Dxu9Bi9SnBQ9EDPSD/WCmC642fN3H6WdPXYK9hZ14KzRJcc/in72ELf3tA3TwrugwOqvzCimREcm\n",
       "PwAAAQlBmkU8IZMphDf//qJWUD+rwAaLQJ/8mYaQW3YmjpP9G7BFDn4RszS2Y98/3ghUl5jumy5r\n",
       "oHQouNkB/uOzZ/m7YG3eYxn/tYl0gYXNQHtJc9qxIL3/wScvLQkcH2vQrrJnB6rD1B5kx7XiAnEp\n",
       "9QLJLPeZH2d+WHddA/zYYklj/0lLRZbkVd/LBWEYEEau2rnXt14RyjOJVPMTKuxTbvZRLK+eXAlW\n",
       "DvON0l6zyoRkXObwyI0qM1XuaqW2nZtM8Yz05ZCy8RcaiiTTUlMNyvyxjkCzQklcVGf8lwKKqs87\n",
       "9/b0aDqkOEP80fFCfgJdnp1tuNhjHr7rGKSvJOREs2lvRT/TRTz0kQD8AAAAskGeY2pTwr8vEuBk\n",
       "UZRalBsy5gC+qwaiwXs27bhWJUjziMCTY43bdsJcgIP9Xl8Wz7OymSIf+JPBxCbH+KkVQKZ0UTlf\n",
       "cv+6tziLyVy5/nvLoAy+8a9389KFsek12zWx1oeJPXTSxGMG5fQKZektnTW7Gftm6X/3q/5M/BZT\n",
       "JR8XThxEojRqqKQib/olLZ8Xnxy6LjbHsGkJ2glPnZ0WmHoCsZtMEnxsgBKZNL1qftWDZYEAAAC5\n",
       "AZ6EakK/OareIIRtBTflaoBeAK1cAg0tXyOc13Gjx0wj4tMaUeH4ZXG3ugFX7WgtULGXQs5iSq01\n",
       "k9EWSexfPs/O7i5WpaEee8yMczcCGkWrR3wiWhUsWMkkedw7Gl4rGvN8UsxEC1jiulQzudG3KSRQ\n",
       "np/xV0l7X2YbZ2WBfYtz/dxT159NtLSEX/lwxYXwAi9+P+cRp3XhwQ44kxel/RKUh27tk2h3kUcH\n",
       "9kBoaQmQNApdX89EMl0AAADQQZqISahBaJlMCGf//koWuAJbwqqkfUrDMBBAz03V3/bvasx4kD/N\n",
       "U//+j97Kpkb+Mte7BJcEEWOpLkKzDV0YsW/BPA7UHGPT328hjYzY/SVUTP1zt2V7+JruKjCjc36X\n",
       "o6Rh28Y4/9XVC4CTEqb6FqcWunZC//u1MXvc+StdhhGkxaYSxZu3A5ApInd8j5xKl+fY/lEXka/c\n",
       "b1fNAtZEct85rrjwDmKXb5HACy09+Zm3NFXx5pBzb2wMIgvEM9RlX4Fxp16mAAsUtQLhYaNg/QAA\n",
       "AOJBnqZFESwr/0jm38pRYK76g3UlaTABWuSyhp1aVf/x2wLiF+TOI1FoJrduZNWa2sLq7wHKfJcr\n",
       "Se1I5hx2QF+svl8Xrh/mY621ospcPD3stztBr0LQvNzlKT5qCUtOImLTC+fg2fMHDPNBH35zu1Yo\n",
       "Cr+w/cAQ31R0H4wnx7yu1UR6h2bW1qTnDtVI6K3rU04vd/I/K1gImEXC+ZHSrN1eVZ/v1BnvUhbU\n",
       "G2d5RDhD/AfQ9GMRsvE2XacmkfNXf34Buwbw8Y0GCDxgM7itKlTP4W3c3322JH11ySaAGe3xGZ3B\n",
       "AAAAXQGex2pCvzhhEpHzgC62r9eTeoxnVuI3/dPZXqQj79ei1YJTTDDteRnYGvBMwUtGX52VV9YT\n",
       "W7UjrXf6UZgHU8PVURzvU8iTnaszjDD83rNKqmaSmLLtSpURUNP7mAAAAHxBmspJqEFsmUwUTCv/\n",
       "/cUF5ogoE8CrgadC5hrjI4+XYm2Wu+PLAEEBDBXhpWAvvX+sG6Uf+Hbc2PaPVpnM70tS2Z7Km24b\n",
       "4mj5TZKq0Cus3oXv6CjWxz6P8KhhdIs3sILw448N5JvCXvpLyDFCJU8O6re1zOhi4J+NogfcAAAA\n",
       "XgGe6WpCv0jqkAHDLGxEuC/RIt2Ox+V6kecxt/UXmPYA9ZXcQd1SPVT9mj+ZuHFS4S/Jb2ikQ4Dq\n",
       "3BmqrDsUz8UbhrFTCAKA3xMpu2wHjsC6MwY+vlFXngb1foZ/1IEAAAOnbW9vdgAAAGxtdmhkAAAA\n",
       "AAAAAAAAAAAAAAAD6AAAAcsAAQAAAQAAAAAAAAAAAAAAAAEAAAAAAAAAAAAAAAAAAAABAAAAAAAA\n",
       "AAAAAAAAAABAAAAAAAAAAAAAAAAAAAAAAAAAAAAAAAAAAAAAAAAAAgAAAtF0cmFrAAAAXHRraGQA\n",
       "AAADAAAAAAAAAAAAAAABAAAAAAAAAcsAAAAAAAAAAAAAAAAAAAAAAAEAAAAAAAAAAAAAAAAAAAAB\n",
       "AAAAAAAAAAAAAAAAAABAAAAAAMgAAADIAAAAAAAkZWR0cwAAABxlbHN0AAAAAAAAAAEAAAHLAAAE\n",
       "AAABAAAAAAJJbWRpYQAAACBtZGhkAAAAAAAAAAAAAAAAAAAwAAAAFgBVxAAAAAAALWhkbHIAAAAA\n",
       "AAAAAHZpZGUAAAAAAAAAAAAAAABWaWRlb0hhbmRsZXIAAAAB9G1pbmYAAAAUdm1oZAAAAAEAAAAA\n",
       "AAAAAAAAACRkaW5mAAAAHGRyZWYAAAAAAAAAAQAAAAx1cmwgAAAAAQAAAbRzdGJsAAAAuHN0c2QA\n",
       "AAAAAAAAAQAAAKhhdmMxAAAAAAAAAAEAAAAAAAAAAAAAAAAAAAAAAMgAyABIAAAASAAAAAAAAAAB\n",
       "AAAAAAAAAAAAAAAAAAAAAAAAAAAAAAAAAAAAAAAAAAAAGP//AAAANmF2Y0MBZAAM/+EAGWdkAAys\n",
       "2UNG+WWEAAADAAQAAAMAwDxQplgBAAZo6+PLIsD9+PgAAAAAHHV1aWRraEDyXyRPxbo5pRvPAyPz\n",
       "AAAAAAAAABhzdHRzAAAAAAAAAAEAAAALAAACAAAAABRzdHNzAAAAAAAAAAEAAAABAAAAWGN0dHMA\n",
       "AAAAAAAACQAAAAEAAAQAAAAAAQAABgAAAAABAAACAAAAAAEAAAgAAAAAAgAAAgAAAAABAAAIAAAA\n",
       "AAIAAAIAAAAAAQAABgAAAAABAAACAAAAABxzdHNjAAAAAAAAAAEAAAABAAAACwAAAAEAAABAc3Rz\n",
       "egAAAAAAAAAAAAAACwAABDgAAAC5AAAAqgAAAQ0AAAC2AAAAvQAAANQAAADmAAAAYQAAAIAAAABi\n",
       "AAAAFHN0Y28AAAAAAAAAAQAAADAAAABidWR0YQAAAFptZXRhAAAAAAAAACFoZGxyAAAAAAAAAABt\n",
       "ZGlyYXBwbAAAAAAAAAAAAAAAAC1pbHN0AAAAJal0b28AAAAdZGF0YQAAAAEAAAAATGF2ZjU4LjQ1\n",
       "LjEwMA==\n",
       "\">\n",
       "  Your browser does not support the video tag.\n",
       "</video>"
      ],
      "text/plain": [
       "\u001b[1m<\u001b[0m\u001b[1;95mIPython.core.display.HTML\u001b[0m\u001b[39m object\u001b[0m\u001b[1m>\u001b[0m"
      ]
     },
     "execution_count": 7,
     "metadata": {},
     "output_type": "execute_result"
    }
   ],
   "source": [
    "display_video(video_from_trace(gt_trace, 4, use_retval = True),  framerate=24)"
   ]
  },
  {
   "cell_type": "code",
   "execution_count": 8,
   "metadata": {},
   "outputs": [
    {
     "data": {
      "text/html": [
       "<pre style=\"white-space:pre;overflow-x:auto;line-height:normal;font-family:Menlo,'DejaVu Sans Mono',consolas,'Courier New',monospace\"></pre>\n"
      ],
      "text/plain": []
     },
     "metadata": {},
     "output_type": "display_data"
    },
    {
     "data": {
      "text/plain": [
       "\u001b[1;35mArray\u001b[0m\u001b[1m(\u001b[0m\u001b[1;36m89422.77\u001b[0m, \u001b[33mdtype\u001b[0m=\u001b[35mfloat32\u001b[0m\u001b[1m)\u001b[0m"
      ]
     },
     "execution_count": 8,
     "metadata": {},
     "output_type": "execute_result"
    }
   ],
   "source": [
    "gt_trace.get_score()"
   ]
  },
  {
   "cell_type": "code",
   "execution_count": 9,
   "metadata": {},
   "outputs": [
    {
     "data": {
      "text/html": [
       "<pre style=\"white-space:pre;overflow-x:auto;line-height:normal;font-family:Menlo,'DejaVu Sans Mono',consolas,'Courier New',monospace\"></pre>\n"
      ],
      "text/plain": []
     },
     "metadata": {},
     "output_type": "display_data"
    },
    {
     "data": {
      "text/plain": [
       "\u001b[1;35mArray\u001b[0m\u001b[1m(\u001b[0m\u001b[1;36m16312.931\u001b[0m, \u001b[33mdtype\u001b[0m=\u001b[35mfloat32\u001b[0m\u001b[1m)\u001b[0m"
      ]
     },
     "execution_count": 9,
     "metadata": {},
     "output_type": "execute_result"
    }
   ],
   "source": [
    "subkey = jax.random.split(subkey, 5446)[0]\n",
    "subkey = jax.random.PRNGKey(5436456)\n",
    "chm = genjax.choice_map(\n",
    "    {\"depths\" : genjax.vector_choice_map(\n",
    "        genjax.choice_map({\n",
    "            \"depths\":gt_trace.get_choices()[\"depths\", \"depths\"]\n",
    "        })\n",
    "    ),\n",
    "    \"variance\": 0.0001,\n",
    "    \"outlier_prob\": 0.0001}\n",
    ")\n",
    "# chm = genjax.vector_choice_map(genjax.choice_map({(\"depths\", \"depths\"):gt_trace.get_choices()[\"depths\", \"depths\"]}))\n",
    "w,trace = model_single_object_importance_jit(subkey, chm, (jnp.zeros(T), jnp.float32(1000.0), jnp.float32(1.0)))\n",
    "w"
   ]
  },
  {
   "cell_type": "code",
   "execution_count": 10,
   "metadata": {},
   "outputs": [
    {
     "name": "stderr",
     "output_type": "stream",
     "text": [
      "/tmp/ipykernel_2637/736626789.py:25: MatplotlibDeprecationWarning: Auto-close()ing of figures upon backend switching is deprecated since 3.8 and will be removed two minor releases later.  To suppress this warning, explicitly call plt.close('all') first.\n",
      "  matplotlib.use(orig_backend)  # Switch back to the original backend.\n"
     ]
    },
    {
     "data": {
      "text/html": [
       "<pre style=\"white-space:pre;overflow-x:auto;line-height:normal;font-family:Menlo,'DejaVu Sans Mono',consolas,'Courier New',monospace\"></pre>\n"
      ],
      "text/plain": []
     },
     "metadata": {},
     "output_type": "display_data"
    },
    {
     "data": {
      "text/html": [
       "<video width=\"200\" height=\"200\" controls autoplay loop>\n",
       "  <source type=\"video/mp4\" src=\"data:video/mp4;base64,AAAAIGZ0eXBNNFYgAAACAE00ViBpc29taXNvMmF2YzEAAAAIZnJlZQAACTJtZGF0AAACrgYF//+q\n",
       "3EXpvebZSLeWLNgg2SPu73gyNjQgLSBjb3JlIDE2MCByMzAxMSBjZGU5YTkzIC0gSC4yNjQvTVBF\n",
       "Ry00IEFWQyBjb2RlYyAtIENvcHlsZWZ0IDIwMDMtMjAyMCAtIGh0dHA6Ly93d3cudmlkZW9sYW4u\n",
       "b3JnL3gyNjQuaHRtbCAtIG9wdGlvbnM6IGNhYmFjPTEgcmVmPTMgZGVibG9jaz0xOjA6MCBhbmFs\n",
       "eXNlPTB4MzoweDExMyBtZT1oZXggc3VibWU9NyBwc3k9MSBwc3lfcmQ9MS4wMDowLjAwIG1peGVk\n",
       "X3JlZj0xIG1lX3JhbmdlPTE2IGNocm9tYV9tZT0xIHRyZWxsaXM9MSA4eDhkY3Q9MSBjcW09MCBk\n",
       "ZWFkem9uZT0yMSwxMSBmYXN0X3Bza2lwPTEgY2hyb21hX3FwX29mZnNldD0tMiB0aHJlYWRzPTYg\n",
       "bG9va2FoZWFkX3RocmVhZHM9MSBzbGljZWRfdGhyZWFkcz0wIG5yPTAgZGVjaW1hdGU9MSBpbnRl\n",
       "cmxhY2VkPTAgYmx1cmF5X2NvbXBhdD0wIGNvbnN0cmFpbmVkX2ludHJhPTAgYmZyYW1lcz0zIGJf\n",
       "cHlyYW1pZD0yIGJfYWRhcHQ9MSBiX2JpYXM9MCBkaXJlY3Q9MSB3ZWlnaHRiPTEgb3Blbl9nb3A9\n",
       "MCB3ZWlnaHRwPTIga2V5aW50PTI1MCBrZXlpbnRfbWluPTI0IHNjZW5lY3V0PTQwIGludHJhX3Jl\n",
       "ZnJlc2g9MCByY19sb29rYWhlYWQ9NDAgcmM9Y3JmIG1idHJlZT0xIGNyZj0yMy4wIHFjb21wPTAu\n",
       "NjAgcXBtaW49MCBxcG1heD02OSBxcHN0ZXA9NCBpcF9yYXRpbz0xLjQwIGFxPTE6MS4wMACAAAAB\n",
       "hGWIhAA7//7jq/gU13pccwiwTgx90Y0/PFJds8hM3HK/+B5E+55pDBQgkNHjLCAABRgBQC21+tCP\n",
       "AALnwi2NYrWHUKt9Pm0D05czj7ebfIUKQaZ2X3v1GYXlF/PAX20aX+bl9fblFoTsD6KtD00DoEYX\n",
       "kTuEdtSBYmBIiM7wb/UBcD/0BzbLrUv1zw6K3qxQkCpnUjIs3m7rAwfZTXQvPc+DI/6NdUp/9AVb\n",
       "c0CuxTmy0qMkaJdb6mDaNsOf1r7wt+EchxM99FiH8nS64mWsUz7wziz7akvCcVIlwsgybCf1aEgV\n",
       "BML5hizCOodMCpylGsD88zQP4BmXzNi8/1m8zf3nHU9E9C2rHq64jHROisaZMpagsEJLlkKsziqP\n",
       "rdiQOqgOd1RQHu+PTGavvrAYWw+BR7U9wxEk9wNP4uaJU8NQjvFVe5u1G/NfEFKb4RAxOHEm1G0G\n",
       "Uq9uoogdI40/RKIflV8FPG3t9DU18yn4eiXZYazBQQ0whMrIcCl85fx13du33SEAAACYQZokbEN/\n",
       "/qeEAa5BhEK1CAAVYjnSn0Un7dasd5dzA9lMv2mnKujqHH1LC1nMzcZyp5th/K8B59+/UzwQ9lq4\n",
       "Bv/u74M/zvjLnv4GmAAVVNd3+gjSEkQJSPUDiWDzJAr2Fr24wWRAuveuuW+P5r/rV2vL6I/TKvkd\n",
       "95Y/eEiFLu8PLTN/3OlCFJDN4DJcSKXgj1Yp1+jboGgAAADyQZ5CeIX/APMA8AluLCJtFmrkOUSd\n",
       "GqiQmVilblxXWe+02ZkolDBkccUvRBIuFp9HyEpDMWQRbC1chz3gj3MHRJKlWsfYh7wGTzILKJj/\n",
       "N4b+E7zicE2yJAafmmrooNUyMaA70nFM5j3eCRZuFdm27y9yRxL/CU9P18nksoWk+OOPKoJ/HaOW\n",
       "FOxxPfHWzzgXs/l5bARWZXI+AC6qmn02rPg0c9Eoew/c6zKgTwDfdbglF9KASbyoA2LrzYOf/Ddp\n",
       "Bk4/8mUjYGtYce2RdUKRVv2XHAg4MOm+ah/lYihj564vFMXu4976TSLRQy06+AN0wTEAAAChAZ5h\n",
       "dEK/AVHIYzypwA0AQBu8g10ENW2GI3DhqPhye+jgfz51QAYM1cQZKNSYTR1vg6X9PwYKySN1+Fid\n",
       "w21Vie1A2zpxjvge3NXvQVSSEleQCAmEzS+cgWWtxIgPx40VWJyKeOTUQFaG0kmYC7pyaUxXNlR3\n",
       "kNAeMSt0+3seXHHIwoGrMuaRNRZ5gUUVlXM6k8vO0OhYB7uWgINAIreN17MAAACLAZ5jakK/AVJC\n",
       "QE8//TL3zBaAYJ4MSDHSw/dcmLf/kJkDECwpnDDJYgxh5awK4+ZPMvn47A1dnbPCGsy5T3DhdG4h\n",
       "RwDLvOPc0THGpNqMuDzXua21zAxngyxdWM06+THGHw/wyhud5eQ4SHhB5pwUo4nvA4yTCiHweMh1\n",
       "TUghd9MC1/qu5v8b3yzeSQAAAFtBmmhJqEFomUwIZ//+nhAGh7vWbpxgF+QSpdD/iNzVRLL1KBwO\n",
       "oQvzbm/zPc1OIMVBkevTcWHESwWJrp8qbgBA5tJ0Yi9P9E74941tmNBXX0v4q0vPLD4hhVGpAAAA\n",
       "XUGehkURLC//AOz77tTUCmXEtneSSEIM9ju3vmBDSczdpxTUYakDbSxbRKS3Nwpv4lNpp+SoetMx\n",
       "K74o7OxtWuzuIcBq8OQSz7w/JZl5c2EYJ+VCgffYF7fMDJbIQQAAAFEBnqV0Qr8BSEti/5oIjfAc\n",
       "cs9m3bnZ5+Z6hX50hrcJMmESbn7h5F9YvhbeZbF/ZMMTxPs7UcCh/mFlRXxCLzVTKM3XNUU2AGwM\n",
       "g2sHgLeTQyUAAAApAZ6nakK/ATaQm7UoEAVOzVztl9r2ltLZL/+x9KoDI5n9DlH/UjPoedAAAAB9\n",
       "QZqqSahBbJlMFEwr//44QBgu4tsfxOESoDDZzgqf8+fFJLcD860SfzDP8PIRlDm9G5DmHgWsnD0E\n",
       "uSrMOqEAZiltwH2ZPsWXY3BM+cLz+FrFqgXiDdYVJiWU2YYFwWu9PQ37NkS5kuTYeNUBsrrZLEHl\n",
       "Ef+23HD66twMAXwAAABjAZ7JakK/AT9opOwIiy+myiyckpGhbAHZxtxYPuC7+KCZqBY4P+tIdIIP\n",
       "hmXcVxJqSiBUeuQW7l2n2YrFYcJuPMBnwrjwf0pEd1uqcleZiah2LFIzNx//voz/6tDQ6/sdA3aB\n",
       "AAADt21vb3YAAABsbXZoZAAAAAAAAAAAAAAAAAAAA+gAAAHLAAEAAAEAAAAAAAAAAAAAAAABAAAA\n",
       "AAAAAAAAAAAAAAAAAQAAAAAAAAAAAAAAAAAAQAAAAAAAAAAAAAAAAAAAAAAAAAAAAAAAAAAAAAAA\n",
       "AAIAAALhdHJhawAAAFx0a2hkAAAAAwAAAAAAAAAAAAAAAQAAAAAAAAHLAAAAAAAAAAAAAAAAAAAA\n",
       "AAABAAAAAAAAAAAAAAAAAAAAAQAAAAAAAAAAAAAAAAAAQAAAAADIAAAAyAAAAAAAJGVkdHMAAAAc\n",
       "ZWxzdAAAAAAAAAABAAABywAABAAAAQAAAAACWW1kaWEAAAAgbWRoZAAAAAAAAAAAAAAAAAAAMAAA\n",
       "ABYAVcQAAAAAAC1oZGxyAAAAAAAAAAB2aWRlAAAAAAAAAAAAAAAAVmlkZW9IYW5kbGVyAAAAAgRt\n",
       "aW5mAAAAFHZtaGQAAAABAAAAAAAAAAAAAAAkZGluZgAAABxkcmVmAAAAAAAAAAEAAAAMdXJsIAAA\n",
       "AAEAAAHEc3RibAAAALhzdHNkAAAAAAAAAAEAAACoYXZjMQAAAAAAAAABAAAAAAAAAAAAAAAAAAAA\n",
       "AADIAMgASAAAAEgAAAAAAAAAAQAAAAAAAAAAAAAAAAAAAAAAAAAAAAAAAAAAAAAAAAAAABj//wAA\n",
       "ADZhdmNDAWQADP/hABlnZAAMrNlDRvllhAAAAwAEAAADAMA8UKZYAQAGaOvjyyLA/fj4AAAAABx1\n",
       "dWlka2hA8l8kT8W6OaUbzwMj8wAAAAAAAAAYc3R0cwAAAAAAAAABAAAACwAAAgAAAAAUc3RzcwAA\n",
       "AAAAAAABAAAAAQAAAGhjdHRzAAAAAAAAAAsAAAABAAAEAAAAAAEAAAoAAAAAAQAABAAAAAABAAAA\n",
       "AAAAAAEAAAIAAAAAAQAACgAAAAABAAAEAAAAAAEAAAAAAAAAAQAAAgAAAAABAAAGAAAAAAEAAAIA\n",
       "AAAAHHN0c2MAAAAAAAAAAQAAAAEAAAALAAAAAQAAAEBzdHN6AAAAAAAAAAAAAAALAAAEOgAAAJwA\n",
       "AAD2AAAApQAAAI8AAABfAAAAYQAAAFUAAAAtAAAAgQAAAGcAAAAUc3RjbwAAAAAAAAABAAAAMAAA\n",
       "AGJ1ZHRhAAAAWm1ldGEAAAAAAAAAIWhkbHIAAAAAAAAAAG1kaXJhcHBsAAAAAAAAAAAAAAAALWls\n",
       "c3QAAAAlqXRvbwAAAB1kYXRhAAAAAQAAAABMYXZmNTguNDUuMTAw\n",
       "\">\n",
       "  Your browser does not support the video tag.\n",
       "</video>"
      ],
      "text/plain": [
       "\u001b[1m<\u001b[0m\u001b[1;95mIPython.core.display.HTML\u001b[0m\u001b[39m object\u001b[0m\u001b[1m>\u001b[0m"
      ]
     },
     "execution_count": 10,
     "metadata": {},
     "output_type": "execute_result"
    }
   ],
   "source": [
    "display_video(video_from_trace(trace, 4, use_retval = True),  framerate=24)"
   ]
  },
  {
   "cell_type": "code",
   "execution_count": 12,
   "metadata": {},
   "outputs": [],
   "source": [
    "# viz_images = []\n",
    "# max_depth = 10.0\n",
    "\n",
    "# # inferred_poses_with_occ = jnp.stack([inferred_poses, occ1_poses], axis = 1)\n",
    "# occ_image = b.viz.get_depth_image(b.RENDERER.render(occ1_pose[None,...], jnp.array([1]))[:,:,2])\n",
    "\n",
    "# pred_images = b.RENDERER.render_many(inferred_poses[:,None, ...], jnp.array([0]))\n",
    "\n",
    "# pred_with_occ_images = [b.overlay_image(b.viz.get_depth_image(pred_images[i,:,:,2]), \n",
    "# occ_image, alpha=0.4) for i in range(pred_images.shape[0])]\n",
    "\n",
    "# gt_images = b.RENDERER.render_many(gt_poses[:,None, ...], jnp.array([0]))\n",
    "# gt_with_occ_images = [b.overlay_image(b.viz.get_depth_image(gt_images[i,:,:,2]), \n",
    "# occ_image, alpha=0.5) for i in range(pred_images.shape[0])]\n",
    "\n",
    "# viz_images = [\n",
    "#     b.viz.multi_panel(\n",
    "#         [g, b.viz.get_depth_image(p[:,:,2]), po],\n",
    "#         labels = [\"Ground Truth\", \"Reconstruction w/o Occluder\", \"Reconstruction w Occluder\"],\n",
    "#         title = \"Scene 11A\",\n",
    "#         # bottom_text = \"3DP3 + Physics Prior v1\"\n",
    "#     )\n",
    "#     for (g, p, po) in zip(gt_with_occ_images, pred_images, pred_with_occ_images)\n",
    "# ]\n",
    "# display_video(viz_images)"
   ]
  },
  {
   "cell_type": "code",
   "execution_count": 11,
   "metadata": {},
   "outputs": [],
   "source": [
    "imp = genjax.inference.importance_sampling.sampling_importance_resampling(model_single_object, 100)\n",
    "(tr, lnw, log_ml_estimate) = imp.apply(subkey, chm, (jnp.zeros(T), jnp.float32(1000.0), jnp.float32(1.0)))"
   ]
  },
  {
   "cell_type": "code",
   "execution_count": 12,
   "metadata": {},
   "outputs": [
    {
     "name": "stderr",
     "output_type": "stream",
     "text": [
      "/tmp/ipykernel_2637/736626789.py:25: MatplotlibDeprecationWarning: Auto-close()ing of figures upon backend switching is deprecated since 3.8 and will be removed two minor releases later.  To suppress this warning, explicitly call plt.close('all') first.\n",
      "  matplotlib.use(orig_backend)  # Switch back to the original backend.\n"
     ]
    },
    {
     "data": {
      "text/html": [
       "<pre style=\"white-space:pre;overflow-x:auto;line-height:normal;font-family:Menlo,'DejaVu Sans Mono',consolas,'Courier New',monospace\"></pre>\n"
      ],
      "text/plain": []
     },
     "metadata": {},
     "output_type": "display_data"
    },
    {
     "data": {
      "text/html": [
       "<video width=\"200\" height=\"200\" controls autoplay loop>\n",
       "  <source type=\"video/mp4\" src=\"data:video/mp4;base64,AAAAIGZ0eXBNNFYgAAACAE00ViBpc29taXNvMmF2YzEAAAAIZnJlZQAACxhtZGF0AAACrgYF//+q\n",
       "3EXpvebZSLeWLNgg2SPu73gyNjQgLSBjb3JlIDE2MCByMzAxMSBjZGU5YTkzIC0gSC4yNjQvTVBF\n",
       "Ry00IEFWQyBjb2RlYyAtIENvcHlsZWZ0IDIwMDMtMjAyMCAtIGh0dHA6Ly93d3cudmlkZW9sYW4u\n",
       "b3JnL3gyNjQuaHRtbCAtIG9wdGlvbnM6IGNhYmFjPTEgcmVmPTMgZGVibG9jaz0xOjA6MCBhbmFs\n",
       "eXNlPTB4MzoweDExMyBtZT1oZXggc3VibWU9NyBwc3k9MSBwc3lfcmQ9MS4wMDowLjAwIG1peGVk\n",
       "X3JlZj0xIG1lX3JhbmdlPTE2IGNocm9tYV9tZT0xIHRyZWxsaXM9MSA4eDhkY3Q9MSBjcW09MCBk\n",
       "ZWFkem9uZT0yMSwxMSBmYXN0X3Bza2lwPTEgY2hyb21hX3FwX29mZnNldD0tMiB0aHJlYWRzPTYg\n",
       "bG9va2FoZWFkX3RocmVhZHM9MSBzbGljZWRfdGhyZWFkcz0wIG5yPTAgZGVjaW1hdGU9MSBpbnRl\n",
       "cmxhY2VkPTAgYmx1cmF5X2NvbXBhdD0wIGNvbnN0cmFpbmVkX2ludHJhPTAgYmZyYW1lcz0zIGJf\n",
       "cHlyYW1pZD0yIGJfYWRhcHQ9MSBiX2JpYXM9MCBkaXJlY3Q9MSB3ZWlnaHRiPTEgb3Blbl9nb3A9\n",
       "MCB3ZWlnaHRwPTIga2V5aW50PTI1MCBrZXlpbnRfbWluPTI0IHNjZW5lY3V0PTQwIGludHJhX3Jl\n",
       "ZnJlc2g9MCByY19sb29rYWhlYWQ9NDAgcmM9Y3JmIG1idHJlZT0xIGNyZj0yMy4wIHFjb21wPTAu\n",
       "NjAgcXBtaW49MCBxcG1heD02OSBxcHN0ZXA9NCBpcF9yYXRpbz0xLjQwIGFxPTE6MS4wMACAAAAB\n",
       "kGWIhAA7//7jq/gU13pccwiwTgx90Y0/PFJds8hM3HK/+B5E+55pDBTq/TbwB/l5VccTrewCOm1z\n",
       "HvttvVmwpT1yOm1yClAF/pledMYhzXIzvXybAZ1PuGM4KAneLt48fby1GHG9ixOtT+zOKNJI88EI\n",
       "2NltSeZdRnq9jVTDW6In+ZN7307spyvGPC8lMC/ItYw5VEN1ulDboSovV114uBl6eQv+IiralBkh\n",
       "QLKUs/7rLAorXav1gUFXdu7GqfPgh9m7li/7Rt1h1TqsWBuYKeqWJ4aCQgbtKpzWzLSqtL5SbXCo\n",
       "QIG5nmWLLTMiNSN5ODxohgDl3IGtoKDqybbYC8YQXxfMZBhMzy/4614HlTPXpGeqKMpBhjgyTj7p\n",
       "XfoB3hrGRK56kOQ97bfqh4eKVWo8/WuUU6Mz6Lsl7WGYryYQV6z+Fodniv4xyTM0gUppVvZTpqay\n",
       "m7LGxV+o6CXjNEW6xENl7eCdvZnBAxhtQBZC1klgNyh9eE/ilkF9AAHIQHUHBZFnvrB7zncAAAMA\n",
       "EtEAAADfQZokbEN//qeDFRhkt3yjAFPPwMtuHZgXZLyQAU2yaIT++LZ6g0f+Tbe+mp3DuZUS8Xl7\n",
       "Ng+l+wX075PE/b3lDEK013BZE8eFx67OvGNW95LJDar5PP3O0ddR3nTzrlDIR99ffHTF4fCMCDNV\n",
       "ioepUZtaSdHC5uizMhwuINKNyZ7tT6rRxan5xdRmX5xViIiLvr0qKGCHrgemufkizH7h7KBq4Bq4\n",
       "GWElHNE/rLUMX4MeZd9A5M4fujeZ/9EfHbMI48olNg5TcqTsqRdBniCufolUcdeYpxgylLyDyay9\n",
       "gAAAAIxBnkJ4hf8ZHj+PMfucgOtjUARY3EkotLlm+Yy8i5DowEQka/tQ88awZYrJvT7SXZXFF5yV\n",
       "US02Hzm7oP5emcdM2D84AxmxcG8vCFYo4aqgjHZ5O+Ju6XelNKCynPPrpsZv3+9o12BZyJxpUKtZ\n",
       "VyhHwuGwy1s0eTHG8iIx8HqbhNYbeAj+BCi2Au+KUwAAAI4BnmF0Qr8giY8ZLbTK+ALrU9OSOsdI\n",
       "zk2DftaSBJEoKJHWkHPSDfXbSTfvqJc/6IXvTglH+7S1XnKH3rxv2jPL/82YLH0dKa5T2ylg3XHC\n",
       "cxZSOvZh+d6ybNlABabK9AD0mC7eOxlH5RjIXEFSmLAD0WuCKBpBRSF98oHehiMWR3DG9R+2+Fb4\n",
       "Dw4he0jAAAAATgGeY2pCvyDVcUoZAWAIyL9WywX24hUTYGTU/cCdx7mQQDmhKrXuNrk1/zTv6duA\n",
       "OoB+bR6xZ4Gk9ZH5LEy0r7IhhYEl5kYyIydwKTugdQAAAN5BmmdJqEFomUwIZ//+k3tGgIrK1GQB\n",
       "9nMK8hGkjuHe44t+7vDIX22FkZmj6UAYaO/X35ISITj+jbbXkbPhMb5Fam3slwTmR461YytVkVzX\n",
       "ipoqyiVq7tBbgn9h1eW6Smnt/8nRiU1e1vkdQR7hZx8sZd1XEt/qrY6SWbriP3hxidX/mVAv7KPO\n",
       "eBYbWsn54jQMLvtZRIUqfp57mnEZtmB1Le2LzXVZILHoyFdedCT5iJvuy+JS10MQkJEm8RY20pGW\n",
       "4ecBrMIKuUHMERcFcghcRhcJHdXgg8QycmtBqm0AAAC8QZ6FRREsK/8vEuBkmMDuz/sQHWH9UDhn\n",
       "9kMtnm/esmkjrg2QkvZ7NyFtlXpSpABAyndOjKDaqxD2QqE49uWknvelZEiKkkvsUtnZ5xse8P8L\n",
       "RRdB1jyDE7xtF9kCPCivNRmNm05CKDZ/O1votu5wpYAZHJUf9vNETyGemqXgFxuRN+LGi+sbK5PS\n",
       "uYx1uHxQ4Hh9xWyRQztAyEM++ZwmL8gvgtkC5ydkj2MeUoUDtSUJf96c3B1HSKeZHXUAAACIAZ6m\n",
       "akK/JtqzszAYtmrwHZgIWJd/RYbkvXsTuVe6kvsz/68nR1+YAch9ZmCk4cptOpFYMYargS1SpLTg\n",
       "ZwQJA3q1RV+qNc6zfe3CGMYzGmLkowz5U9jdw8a6ri7ncO0U4p7pJuv3rgEjfbSLR4a0JehjLC+v\n",
       "hqD0LzbjckM2LC5nI+pGQ0FXgQAAAOpBmqpJqEFsmUwIV//95U/9tQAjU4WVwnEWICLC2Md2TyM0\n",
       "esfANPCzA6JNpkBQ/W2SwWEQ58Qfue4Ms6MW4oz92FE/4YR+8ji0/qeLIB8PHDtDDKYIr1ezcSOe\n",
       "Zm2F1di48RvS0RfalNfbMETeqshNh3S/Jz0fhLT9/i3FxjX8v6tj1v53sHK4RsGBmBtoIw/Nh2H3\n",
       "HdBGn4HovJTH0q8tnnSGwUiYJCc/4xPyqmz6MWCyJDGyoJy4MeS+vpve2Yu3gllOcYv65HUwVngp\n",
       "mTJAdjsZ08PHxS5fzcLRS8ho71D606qQdPAAvtAAAACmQZ7IRRUsK/9GxkVSIIZpIAAjU49melGZ\n",
       "siKr0iHcZzdJNXYOeU+t8HV2GYzc6SBO/tHojflUhWVkNZQGFVqhOc4+mFVlXQPJPL0pAznbkxwS\n",
       "61fXuLjDH/QViEM0hZGHWTPiFOvdAaTti1NSE/3IzJQDnGcMruvIQ9N0AAwpcue0fOJ1oDbjY65w\n",
       "MLm+3hLCmieEW8p/uZl9fOPA/hKqgw+57Xb8NgAAAKkBnulqQr9GxeehUWHEAluW05I9BHAAXvn3\n",
       "4JUBV40kfLWMha97t9Stb98yrp5XtdXtJCxIjNvZA5sE9LxH8mmBbyaOuDxL5Iz92YhKIaDPz2z7\n",
       "/OTFeBygV2XxAhPrzllVywqc+IdSQaRQVtLbCwAdXGXA0KzbqxxUO2zjhd8iqKUmveZIbTa8De5T\n",
       "SIIk2AW50Rzoj3MNWpWGZ4HLEg83WC49cKVAlgOBAAADp21vb3YAAABsbXZoZAAAAAAAAAAAAAAA\n",
       "AAAAA+gAAAHLAAEAAAEAAAAAAAAAAAAAAAABAAAAAAAAAAAAAAAAAAAAAQAAAAAAAAAAAAAAAAAA\n",
       "QAAAAAAAAAAAAAAAAAAAAAAAAAAAAAAAAAAAAAAAAAIAAALRdHJhawAAAFx0a2hkAAAAAwAAAAAA\n",
       "AAAAAAAAAQAAAAAAAAHLAAAAAAAAAAAAAAAAAAAAAAABAAAAAAAAAAAAAAAAAAAAAQAAAAAAAAAA\n",
       "AAAAAAAAQAAAAADIAAAAyAAAAAAAJGVkdHMAAAAcZWxzdAAAAAAAAAABAAABywAABAAAAQAAAAAC\n",
       "SW1kaWEAAAAgbWRoZAAAAAAAAAAAAAAAAAAAMAAAABYAVcQAAAAAAC1oZGxyAAAAAAAAAAB2aWRl\n",
       "AAAAAAAAAAAAAAAAVmlkZW9IYW5kbGVyAAAAAfRtaW5mAAAAFHZtaGQAAAABAAAAAAAAAAAAAAAk\n",
       "ZGluZgAAABxkcmVmAAAAAAAAAAEAAAAMdXJsIAAAAAEAAAG0c3RibAAAALhzdHNkAAAAAAAAAAEA\n",
       "AACoYXZjMQAAAAAAAAABAAAAAAAAAAAAAAAAAAAAAADIAMgASAAAAEgAAAAAAAAAAQAAAAAAAAAA\n",
       "AAAAAAAAAAAAAAAAAAAAAAAAAAAAAAAAABj//wAAADZhdmNDAWQADP/hABlnZAAMrNlDRvllhAAA\n",
       "AwAEAAADAMA8UKZYAQAGaOvjyyLA/fj4AAAAABx1dWlka2hA8l8kT8W6OaUbzwMj8wAAAAAAAAAY\n",
       "c3R0cwAAAAAAAAABAAAACwAAAgAAAAAUc3RzcwAAAAAAAAABAAAAAQAAAFhjdHRzAAAAAAAAAAkA\n",
       "AAABAAAEAAAAAAEAAAoAAAAAAQAABAAAAAABAAAAAAAAAAEAAAIAAAAAAQAACAAAAAACAAACAAAA\n",
       "AAEAAAgAAAAAAgAAAgAAAAAcc3RzYwAAAAAAAAABAAAAAQAAAAsAAAABAAAAQHN0c3oAAAAAAAAA\n",
       "AAAAAAsAAARGAAAA4wAAAJAAAACSAAAAUgAAAOIAAADAAAAAjAAAAO4AAACqAAAArQAAABRzdGNv\n",
       "AAAAAAAAAAEAAAAwAAAAYnVkdGEAAABabWV0YQAAAAAAAAAhaGRscgAAAAAAAAAAbWRpcmFwcGwA\n",
       "AAAAAAAAAAAAAAAtaWxzdAAAACWpdG9vAAAAHWRhdGEAAAABAAAAAExhdmY1OC40NS4xMDA=\n",
       "\">\n",
       "  Your browser does not support the video tag.\n",
       "</video>"
      ],
      "text/plain": [
       "\u001b[1m<\u001b[0m\u001b[1;95mIPython.core.display.HTML\u001b[0m\u001b[39m object\u001b[0m\u001b[1m>\u001b[0m"
      ]
     },
     "execution_count": 12,
     "metadata": {},
     "output_type": "execute_result"
    }
   ],
   "source": [
    "display_video(video_from_trace(tr, 4, use_retval = True),  framerate=24)"
   ]
  },
  {
   "cell_type": "code",
   "execution_count": 13,
   "metadata": {},
   "outputs": [
    {
     "data": {
      "text/html": [
       "<pre style=\"white-space:pre;overflow-x:auto;line-height:normal;font-family:Menlo,'DejaVu Sans Mono',consolas,'Courier New',monospace\"></pre>\n"
      ],
      "text/plain": []
     },
     "metadata": {},
     "output_type": "display_data"
    },
    {
     "data": {
      "text/plain": [
       "\u001b[1;35mArray\u001b[0m\u001b[1m(\u001b[0m\u001b[1;36m43208.86\u001b[0m, \u001b[33mdtype\u001b[0m=\u001b[35mfloat32\u001b[0m\u001b[1m)\u001b[0m"
      ]
     },
     "execution_count": 13,
     "metadata": {},
     "output_type": "execute_result"
    }
   ],
   "source": [
    "tr.get_score()"
   ]
  },
  {
   "cell_type": "code",
   "execution_count": 14,
   "metadata": {},
   "outputs": [
    {
     "data": {
      "text/html": [
       "<pre style=\"white-space:pre;overflow-x:auto;line-height:normal;font-family:Menlo,'DejaVu Sans Mono',consolas,'Courier New',monospace\"></pre>\n"
      ],
      "text/plain": []
     },
     "metadata": {},
     "output_type": "display_data"
    },
    {
     "data": {
      "text/plain": [
       "\u001b[1;35mArray\u001b[0m\u001b[1m(\u001b[0m\u001b[1;36m42709.805\u001b[0m, \u001b[33mdtype\u001b[0m=\u001b[35mfloat32\u001b[0m\u001b[1m)\u001b[0m"
      ]
     },
     "execution_count": 14,
     "metadata": {},
     "output_type": "execute_result"
    }
   ],
   "source": [
    "log_ml_estimate"
   ]
  },
  {
   "cell_type": "code",
   "execution_count": null,
   "metadata": {},
   "outputs": [],
   "source": []
  }
 ],
 "metadata": {
  "kernelspec": {
   "display_name": "bayes3d",
   "language": "python",
   "name": "python3"
  },
  "language_info": {
   "codemirror_mode": {
    "name": "ipython",
    "version": 3
   },
   "file_extension": ".py",
   "mimetype": "text/x-python",
   "name": "python",
   "nbconvert_exporter": "python",
   "pygments_lexer": "ipython3",
   "version": "3.9.18"
  },
  "orig_nbformat": 4
 },
 "nbformat": 4,
 "nbformat_minor": 2
}
