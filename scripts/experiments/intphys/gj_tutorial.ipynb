{
 "cells": [
  {
   "cell_type": "code",
   "execution_count": null,
   "metadata": {},
   "outputs": [],
   "source": [
    "%config InlineBackend.figure_format = 'svg'"
   ]
  },
  {
   "cell_type": "code",
   "execution_count": null,
   "metadata": {},
   "outputs": [],
   "source": [
    "import jax\n",
    "import jax.numpy as jnp\n",
    "import jax.tree_util as jtu\n",
    "import numpy as np\n",
    "import matplotlib.pyplot as plt\n",
    "import seaborn as sns\n",
    "import genjax\n",
    "from genjax import GenerativeFunction, ChoiceMap, Selection, trace\n",
    "\n",
    "sns.set_theme(style=\"white\")\n",
    "\n",
    "# Pretty printing.\n",
    "console = genjax.pretty(width=80)\n",
    "\n",
    "# Reproducibility.\n",
    "key = jax.random.PRNGKey(314159)"
   ]
  },
  {
   "cell_type": "code",
   "execution_count": null,
   "metadata": {},
   "outputs": [],
   "source": [
    "@genjax.gen\n",
    "def g(x):\n",
    "    m0 = genjax.trace(\"m0\", genjax.bernoulli)(x)  # unsweetened\n",
    "    return m0\n",
    "\n",
    "\n",
    "@genjax.gen\n",
    "def h(x):\n",
    "    m0 = g(x) @ \"sub\"  # sweetened\n",
    "    return m0"
   ]
  },
  {
   "cell_type": "code",
   "execution_count": null,
   "metadata": {},
   "outputs": [],
   "source": [
    "key, sub_key = jax.random.split(key)\n",
    "tr = genjax.simulate(h)(sub_key, (0.3,))\n",
    "print(tr.retval)\n",
    "np.exp(tr.score)\n"
   ]
  },
  {
   "cell_type": "code",
   "execution_count": null,
   "metadata": {},
   "outputs": [],
   "source": [
    "jaxpr = jax.make_jaxpr(genjax.simulate(h))(key, (0.3,))\n",
    "jaxpr"
   ]
  },
  {
   "cell_type": "code",
   "execution_count": null,
   "metadata": {},
   "outputs": [],
   "source": [
    "@genjax.gen\n",
    "def h(x):\n",
    "    m1 = genjax.bernoulli(x) @ \"m0\"\n",
    "    m2 = genjax.bernoulli(x) @ \"m1\"\n",
    "    return m1 + m2\n",
    "\n",
    "\n",
    "key, sub_key = jax.random.split(key)\n",
    "tr = genjax.simulate(h)(sub_key, (0.3,))\n",
    "selection = genjax.select(\"m1\")\n",
    "selected = tr.get_choices().filter(selection)\n",
    "selection"
   ]
  },
  {
   "cell_type": "code",
   "execution_count": 7,
   "metadata": {},
   "outputs": [],
   "source": [
    "# Two branches for a branching submodel.\n",
    "@genjax.gen\n",
    "def model_y(x, coefficients):\n",
    "    basis_value = jnp.array([1.0, x, x**2])\n",
    "    polynomial_value = jnp.sum(basis_value * coefficients)\n",
    "    y = genjax.tfp_normal(polynomial_value, 0.3) @ \"value\"\n",
    "    return y\n",
    "\n",
    "\n",
    "@genjax.gen\n",
    "def outlier_model(x, coefficients):\n",
    "    basis_value = jnp.array([1.0, x, x**2])\n",
    "    polynomial_value = jnp.sum(basis_value * coefficients)\n",
    "    y = genjax.tfp_normal(polynomial_value, 30.0) @ \"value\"\n",
    "    return y\n",
    "\n",
    "\n",
    "# The branching submodel.\n",
    "switch = genjax.Switch(model_y, outlier_model)\n",
    "\n",
    "# A mapped kernel function which calls the branching submodel.\n",
    "@genjax.gen(genjax.Map, in_axes=(0, None))\n",
    "def kernel(x, coefficients):\n",
    "    is_outlier = genjax.bernoulli(0.1) @ \"outlier\"\n",
    "    is_outlier = jnp.asarray(is_outlier, dtype=int)\n",
    "    y = switch(is_outlier, x, coefficients) @ \"y\"\n",
    "    return y\n",
    "\n",
    "\n",
    "@genjax.gen\n",
    "def model(xs):\n",
    "    coefficients = genjax.mv_normal(np.zeros(3), 2.0 * np.identity(3)) @ \"alpha\"\n",
    "    ys = kernel(xs, coefficients) @ \"ys\"\n",
    "    return ys\n"
   ]
  },
  {
   "cell_type": "code",
   "execution_count": 8,
   "metadata": {},
   "outputs": [
    {
     "data": {
      "text/html": [
       "<pre style=\"white-space:pre;overflow-x:auto;line-height:normal;font-family:Menlo,'DejaVu Sans Mono',consolas,'Courier New',monospace\"></pre>\n"
      ],
      "text/plain": []
     },
     "metadata": {},
     "output_type": "display_data"
    },
    {
     "data": {
      "text/plain": [
       "\n",
       "\n",
       "\n",
       "├── \u001b[1m:ys\u001b[0m\n",
       "│   └── \u001b[1m(Vector)\u001b[0m\n",
       "│       ├── \u001b[1m:outlier\u001b[0m\n",
       "│       │   └──  bool[20]\n",
       "│       └── \u001b[1m:y\u001b[0m\n",
       "│           └── \u001b[1m(Switch, i32[20])\u001b[0m\n",
       "│               ├── \n",
       "│               │   └── \u001b[1m:value\u001b[0m\n",
       "│               │       └──  f32[20]\n",
       "│               └── \n",
       "│                   └── \u001b[1m:value\u001b[0m\n",
       "│                       └──  f32[20]\n",
       "└── \u001b[1m:alpha\u001b[0m\n",
       "    └──  f32[3]"
      ]
     },
     "execution_count": 8,
     "metadata": {},
     "output_type": "execute_result"
    }
   ],
   "source": [
    "data = jnp.arange(0, 10, 0.5)\n",
    "key, sub_key = jax.random.split(key)\n",
    "tr = jax.jit(model.simulate)(sub_key, (data,))\n",
    "tr.strip()"
   ]
  },
  {
   "cell_type": "code",
   "execution_count": 9,
   "metadata": {},
   "outputs": [
    {
     "data": {
      "text/html": [
       "<pre style=\"white-space:pre;overflow-x:auto;line-height:normal;font-family:Menlo,'DejaVu Sans Mono',consolas,'Courier New',monospace\"></pre>\n"
      ],
      "text/plain": []
     },
     "metadata": {},
     "output_type": "display_data"
    },
    {
     "data": {
      "text/plain": [
       "\n",
       "\u001b[1;35mArray\u001b[0m\u001b[1m(\u001b[0m\u001b[1m[\u001b[0m \u001b[1;36m-2.9941075\u001b[0m ,  \u001b[1;36m-2.7835548\u001b[0m ,  \u001b[1;36m-1.1057514\u001b[0m ,   \u001b[1;36m0.32127208\u001b[0m,\n",
       "       \u001b[1;36m-50.07349\u001b[0m   ,   \u001b[1;36m5.217543\u001b[0m  ,   \u001b[1;36m8.73091\u001b[0m   ,  \u001b[1;36m11.922469\u001b[0m  ,\n",
       "        \u001b[1;36m16.383581\u001b[0m  ,  \u001b[1;36m21.863268\u001b[0m  ,  \u001b[1;36m27.054882\u001b[0m  ,  \u001b[1;36m32.550755\u001b[0m  ,\n",
       "        \u001b[1;36m38.68741\u001b[0m   ,  \u001b[1;36m45.95885\u001b[0m   ,  \u001b[1;36m52.816547\u001b[0m  ,  \u001b[1;36m60.52383\u001b[0m   ,\n",
       "        \u001b[1;36m69.170555\u001b[0m  ,  \u001b[1;36m78.65796\u001b[0m   ,  \u001b[1;36m87.955605\u001b[0m  ,  \u001b[1;36m97.73689\u001b[0m   \u001b[1m]\u001b[0m,      \u001b[33mdtype\u001b[0m=\u001b[35mfloat32\u001b[0m\u001b[1m)\u001b[0m"
      ]
     },
     "execution_count": 9,
     "metadata": {},
     "output_type": "execute_result"
    }
   ],
   "source": [
    "tr.get_retval()"
   ]
  },
  {
   "cell_type": "code",
   "execution_count": 12,
   "metadata": {},
   "outputs": [
    {
     "data": {
      "text/html": [
       "<pre style=\"white-space:pre;overflow-x:auto;line-height:normal;font-family:Menlo,'DejaVu Sans Mono',consolas,'Courier New',monospace\"></pre>\n"
      ],
      "text/plain": []
     },
     "metadata": {},
     "output_type": "display_data"
    },
    {
     "data": {
      "text/plain": [
       "\n",
       "\n",
       "\n",
       "└── \u001b[1m(Switch, i32[20])\u001b[0m\n",
       "    ├── \n",
       "    │   └── \u001b[1mBuiltinTrace\u001b[0m\n",
       "    │       ├── gen_fn\n",
       "    │       │   └── \u001b[1mBuiltinGenerativeFunction\u001b[0m\n",
       "    │       │       └── source\n",
       "    │       │           └── <function model_y>\n",
       "    │       ├── args\n",
       "    │       │   └── \u001b[1mtuple\u001b[0m\n",
       "    │       │       ├──  f32[20]\n",
       "    │       │       └──  f32[20,3]\n",
       "    │       ├── retval\n",
       "    │       │   └──  f32[20]\n",
       "    │       ├── choices\n",
       "    │       │   └── \u001b[1mTrie\u001b[0m\n",
       "    │       │       └── \u001b[1m:value\u001b[0m\n",
       "    │       │           └── \u001b[1mDistributionTrace\u001b[0m\n",
       "    │       │               ├── gen_fn\n",
       "    │       │               │   └── \u001b[1mTFPDistribution\u001b[0m\n",
       "    │       │               │       └── distribution\n",
       "    │       │               │           └── (const) <class \n",
       "    │       │               │               'tensorflow_probability.substrates.jax.distributions.normal.Normal'>\n",
       "    │       │               ├── args\n",
       "    │       │               │   └── \u001b[1mtuple\u001b[0m\n",
       "    │       │               │       ├──  f32[20]\n",
       "    │       │               │       └──  f32[20]\n",
       "    │       │               ├── value\n",
       "    │       │               │   └──  f32[20]\n",
       "    │       │               └── score\n",
       "    │       │                   └──  f32[20]\n",
       "    │       ├── cache\n",
       "    │       │   └── \u001b[1mTrie\u001b[0m\n",
       "    │       └── score\n",
       "    │           └──  f32[20]\n",
       "    └── \n",
       "        └── \u001b[1mBuiltinTrace\u001b[0m\n",
       "            ├── gen_fn\n",
       "            │   └── \u001b[1mBuiltinGenerativeFunction\u001b[0m\n",
       "            │       └── source\n",
       "            │           └── <function outlier_model>\n",
       "            ├── args\n",
       "            │   └── \u001b[1mtuple\u001b[0m\n",
       "            │       ├──  f32[20]\n",
       "            │       └──  f32[20,3]\n",
       "            ├── retval\n",
       "            │   └──  f32[20]\n",
       "            ├── choices\n",
       "            │   └── \u001b[1mTrie\u001b[0m\n",
       "            │       └── \u001b[1m:value\u001b[0m\n",
       "            │           └── \u001b[1mDistributionTrace\u001b[0m\n",
       "            │               ├── gen_fn\n",
       "            │               │   └── \u001b[1mTFPDistribution\u001b[0m\n",
       "            │               │       └── distribution\n",
       "            │               │           └── (const) <class \n",
       "            │               │               'tensorflow_probability.substrates.jax.distributions.normal.Normal'>\n",
       "            │               ├── args\n",
       "            │               │   └── \u001b[1mtuple\u001b[0m\n",
       "            │               │       ├──  f32[20]\n",
       "            │               │       └──  f32[20]\n",
       "            │               ├── value\n",
       "            │               │   └──  f32[20]\n",
       "            │               └── score\n",
       "            │                   └──  f32[20]\n",
       "            ├── cache\n",
       "            │   └── \u001b[1mTrie\u001b[0m\n",
       "            └── score\n",
       "                └──  f32[20]"
      ]
     },
     "execution_count": 12,
     "metadata": {},
     "output_type": "execute_result"
    }
   ],
   "source": [
    "chm = tr.get_choices()\n",
    "# values = chm[\"ys\", \"y\", \"value\"]\n",
    "values = chm[\"ys\", \"y\"]\n",
    "# values = chm[\"ys\"]\n",
    "\n",
    "values"
   ]
  },
  {
   "cell_type": "code",
   "execution_count": 13,
   "metadata": {},
   "outputs": [
    {
     "data": {
      "text/html": [
       "<pre style=\"white-space:pre;overflow-x:auto;line-height:normal;font-family:Menlo,'DejaVu Sans Mono',consolas,'Courier New',monospace\"><span style=\"color: #800000; text-decoration-color: #800000\">╭─────────────────────────────── </span><span style=\"color: #800000; text-decoration-color: #800000; font-weight: bold\">Traceback </span><span style=\"color: #bf7f7f; text-decoration-color: #bf7f7f; font-weight: bold\">(most recent call last)</span><span style=\"color: #800000; text-decoration-color: #800000\"> ────────────────────────────────╮</span>\n",
       "<span style=\"color: #800000; text-decoration-color: #800000\">│</span> in <span style=\"color: #00ff00; text-decoration-color: #00ff00\">&lt;module&gt;</span>:<span style=\"color: #0000ff; text-decoration-color: #0000ff\">2</span>                                                                                    <span style=\"color: #800000; text-decoration-color: #800000\">│</span>\n",
       "<span style=\"color: #800000; text-decoration-color: #800000\">│</span>                                                                                                  <span style=\"color: #800000; text-decoration-color: #800000\">│</span>\n",
       "<span style=\"color: #800000; text-decoration-color: #800000\">│</span>   <span style=\"color: #7f7f7f; text-decoration-color: #7f7f7f\">1 </span>observations = genjax.choice_map(                                                            <span style=\"color: #800000; text-decoration-color: #800000\">│</span>\n",
       "<span style=\"color: #800000; text-decoration-color: #800000\">│</span> <span style=\"color: #800000; text-decoration-color: #800000\">❱ </span>2 <span style=\"color: #7f7f7f; text-decoration-color: #7f7f7f\">│   </span>{<span style=\"color: #808000; text-decoration-color: #808000\">\"ys\"</span>: genjax.vector_choice_map(genjax.choice_map({(<span style=\"color: #808000; text-decoration-color: #808000\">\"y\"</span>, <span style=\"color: #808000; text-decoration-color: #808000\">\"value\"</span>): y}))}                 <span style=\"color: #800000; text-decoration-color: #800000\">│</span>\n",
       "<span style=\"color: #800000; text-decoration-color: #800000\">│</span>   <span style=\"color: #7f7f7f; text-decoration-color: #7f7f7f\">3 </span>)                                                                                            <span style=\"color: #800000; text-decoration-color: #800000\">│</span>\n",
       "<span style=\"color: #800000; text-decoration-color: #800000\">│</span>   <span style=\"color: #7f7f7f; text-decoration-color: #7f7f7f\">4 </span>key, sub_key = jax.random.split(key)                                                         <span style=\"color: #800000; text-decoration-color: #800000\">│</span>\n",
       "<span style=\"color: #800000; text-decoration-color: #800000\">│</span>   <span style=\"color: #7f7f7f; text-decoration-color: #7f7f7f\">5 </span>(w, tr) = model.importance(sub_key, observations, (x,))                                      <span style=\"color: #800000; text-decoration-color: #800000\">│</span>\n",
       "<span style=\"color: #800000; text-decoration-color: #800000\">╰──────────────────────────────────────────────────────────────────────────────────────────────────╯</span>\n",
       "<span style=\"color: #ff0000; text-decoration-color: #ff0000; font-weight: bold\">NameError: </span>name <span style=\"color: #008000; text-decoration-color: #008000\">'y'</span> is not defined\n",
       "</pre>\n"
      ],
      "text/plain": [
       "\u001b[31m╭─\u001b[0m\u001b[31m──────────────────────────────\u001b[0m\u001b[31m \u001b[0m\u001b[1;31mTraceback \u001b[0m\u001b[1;2;31m(most recent call last)\u001b[0m\u001b[31m \u001b[0m\u001b[31m───────────────────────────────\u001b[0m\u001b[31m─╮\u001b[0m\n",
       "\u001b[31m│\u001b[0m in \u001b[92m<module>\u001b[0m:\u001b[94m2\u001b[0m                                                                                    \u001b[31m│\u001b[0m\n",
       "\u001b[31m│\u001b[0m                                                                                                  \u001b[31m│\u001b[0m\n",
       "\u001b[31m│\u001b[0m   \u001b[2m1 \u001b[0mobservations = genjax.choice_map(                                                            \u001b[31m│\u001b[0m\n",
       "\u001b[31m│\u001b[0m \u001b[31m❱ \u001b[0m2 \u001b[2m│   \u001b[0m{\u001b[33m\"\u001b[0m\u001b[33mys\u001b[0m\u001b[33m\"\u001b[0m: genjax.vector_choice_map(genjax.choice_map({(\u001b[33m\"\u001b[0m\u001b[33my\u001b[0m\u001b[33m\"\u001b[0m, \u001b[33m\"\u001b[0m\u001b[33mvalue\u001b[0m\u001b[33m\"\u001b[0m): y}))}                 \u001b[31m│\u001b[0m\n",
       "\u001b[31m│\u001b[0m   \u001b[2m3 \u001b[0m)                                                                                            \u001b[31m│\u001b[0m\n",
       "\u001b[31m│\u001b[0m   \u001b[2m4 \u001b[0mkey, sub_key = jax.random.split(key)                                                         \u001b[31m│\u001b[0m\n",
       "\u001b[31m│\u001b[0m   \u001b[2m5 \u001b[0m(w, tr) = model.importance(sub_key, observations, (x,))                                      \u001b[31m│\u001b[0m\n",
       "\u001b[31m╰──────────────────────────────────────────────────────────────────────────────────────────────────╯\u001b[0m\n",
       "\u001b[1;91mNameError: \u001b[0mname \u001b[32m'y'\u001b[0m is not defined\n"
      ]
     },
     "metadata": {},
     "output_type": "display_data"
    }
   ],
   "source": [
    "x = np.array([0.3, 0.7, 1.1, 1.4, 2.3, 2.5, 3.0, 4.0, 5.0])\n",
    "y = 2.0 * x + 1.5 + x**2\n",
    "y[2] = 50.0\n",
    "\n",
    "observations = genjax.choice_map(\n",
    "    {\"ys\": genjax.vector_choice_map(genjax.choice_map({(\"y\", \"value\"): y}))}\n",
    ")\n",
    "key, sub_key = jax.random.split(key)\n",
    "(w, tr) = model.importance(sub_key, observations, (x,))"
   ]
  },
  {
   "cell_type": "code",
   "execution_count": null,
   "metadata": {},
   "outputs": [],
   "source": []
  }
 ],
 "metadata": {
  "kernelspec": {
   "display_name": "bayes3d",
   "language": "python",
   "name": "python3"
  },
  "language_info": {
   "codemirror_mode": {
    "name": "ipython",
    "version": 3
   },
   "file_extension": ".py",
   "mimetype": "text/x-python",
   "name": "python",
   "nbconvert_exporter": "python",
   "pygments_lexer": "ipython3",
   "version": "3.9.18"
  },
  "orig_nbformat": 4
 },
 "nbformat": 4,
 "nbformat_minor": 2
}
