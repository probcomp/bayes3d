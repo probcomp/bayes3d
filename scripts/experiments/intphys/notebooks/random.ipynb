{
 "cells": [
  {
   "cell_type": "code",
   "execution_count": 11,
   "metadata": {},
   "outputs": [
    {
     "name": "stdout",
     "output_type": "stream",
     "text": [
      "env: XLA_PYTHON_CLIENT_PREALLOCATE=False\n"
     ]
    }
   ],
   "source": [
    "%env XLA_PYTHON_CLIENT_PREALLOCATE = False\n",
    "import os\n",
    "import genjax\n",
    "import numpy as np\n",
    "import bayes3d as b\n",
    "from genjax.generative_functions.distributions import ExactDensity\n",
    "import jax.numpy as jnp\n",
    "import bayes3d.genjax\n",
    "import jax\n",
    "from jax.debug import print as jprint\n",
    "import matplotlib\n",
    "import matplotlib.animation as animation\n",
    "import matplotlib.pyplot as plt\n",
    "from IPython.display import HTML\n",
    "import PIL\n",
    "\n",
    "def display_video(frames, framerate=30):\n",
    "    if type(frames[0]) == PIL.Image.Image:\n",
    "      frames = [np.array(frames[i]) for i in range(len(frames))]\n",
    "      print(frames[0].shape)\n",
    "    height, width, _ = frames[0].shape\n",
    "    dpi = 70\n",
    "    orig_backend = matplotlib.get_backend()\n",
    "    matplotlib.use('Agg')  # Switch to headless 'Agg' to inhibit figure rendering.\n",
    "    fig, ax = plt.subplots(1, 1, figsize=(width / dpi, height / dpi), dpi=dpi)\n",
    "    matplotlib.use(orig_backend)  # Switch back to the original backend.\n",
    "    ax.set_axis_off()\n",
    "    ax.set_aspect('equal')\n",
    "    ax.set_position([0, 0, 1, 1])\n",
    "    im = ax.imshow(frames[0])\n",
    "    def update(frame):\n",
    "      im.set_data(frame)\n",
    "      return [im]\n",
    "    interval = 1000/framerate\n",
    "    anim = animation.FuncAnimation(fig=fig, func=update, frames=frames,\n",
    "                                   interval=interval, blit=True, repeat=True)\n",
    "    return HTML(anim.to_html5_video())\n",
    "\n",
    "def video_from_trace(trace, scale = 8, use_retval = False):\n",
    "    if use_retval:\n",
    "        depths = trace.get_retval()[0]\n",
    "    else:\n",
    "        depths = trace[\"depths\", \"depths\"]\n",
    "    images = [b.scale_image(b.get_depth_image(depths[i,...,2]),scale) for i in range(depths.shape[0])]\n",
    "    return images\n",
    "\n",
    "console = genjax.pretty()"
   ]
  },
  {
   "cell_type": "code",
   "execution_count": 3,
   "metadata": {},
   "outputs": [
    {
     "name": "stdout",
     "output_type": "stream",
     "text": [
      "You can open the visualizer by visiting the following URL:\n",
      "http://127.0.0.1:7001/static/\n"
     ]
    }
   ],
   "source": [
    "b.setup_visualizer()"
   ]
  },
  {
   "cell_type": "code",
   "execution_count": 4,
   "metadata": {},
   "outputs": [
    {
     "name": "stderr",
     "output_type": "stream",
     "text": [
      "[E rasterize_gl.cpp:121] OpenGL version reported as 4.6\n"
     ]
    },
    {
     "name": "stdout",
     "output_type": "stream",
     "text": [
      "Increasing frame buffer size to (width, height, depth) = (64, 64, 1024)\n"
     ]
    }
   ],
   "source": [
    "intrinsics = b.Intrinsics(\n",
    "    height=50,\n",
    "    width=50,\n",
    "    fx=250.0, fy=250.0,\n",
    "    cx=25.0, cy=25.0,\n",
    "    near=0.01, far=20.0\n",
    ")\n",
    "\n",
    "b.setup_renderer(intrinsics)\n",
    "b.RENDERER.add_mesh_from_file(os.path.join(b.utils.get_assets_dir(), \"sample_objs/cube.obj\"), scaling_factor=0.1)"
   ]
  },
  {
   "cell_type": "code",
   "execution_count": 5,
   "metadata": {},
   "outputs": [],
   "source": [
    "T = 10\n",
    "\n",
    "@genjax.gen\n",
    "def dynamics_model_v1(prev):\n",
    "    (t, pose, velocity) = prev\n",
    "    velocity = b.gaussian_vmf_pose(velocity, 0.005, 10000.0)  @ f\"velocity\"\n",
    "    pose = b.gaussian_vmf_pose(pose @ velocity, 0.005, 10000.0)  @ f\"pose\"\n",
    "    return (t + 1, pose, velocity)\n",
    "\n",
    "dynamics_model_v1_unfold = genjax.UnfoldCombinator.new(dynamics_model_v1, T+1)\n",
    "image_likelihood_vmap = genjax.MapCombinator.new(genjax.gen(lambda *x: b.image_likelihood(*x) @ \"depths\"), in_axes=(0,None,None,None,None))"
   ]
  },
  {
   "cell_type": "code",
   "execution_count": 6,
   "metadata": {},
   "outputs": [],
   "source": [
    "@genjax.gen\n",
    "def model_single_object(T_vec, outlier_volume, focal_length):\n",
    "    T = T_vec.shape[0]\n",
    "    pose = b.uniform_pose(jnp.array([-0.1,-0.1,1.5]), jnp.array([0.1,0.1,2])) @ \"init_pose\"\n",
    "    velocity = b.gaussian_vmf_pose(jnp.eye(4), 0.01, 10000.0) @ \"init_velocity\"\n",
    "    dynamics = dynamics_model_v1_unfold(T,(0, pose, velocity)) @ \"dynamics\"\n",
    "    poses = jax.lax.slice_in_dim(dynamics[1], 0, T+1, axis = 0) \n",
    "\n",
    "    # poses = jax.lax.cond(poses.shape[0] < 4, lambda x: poses[:,None,...], lambda x: poses, (None,))\n",
    "    indices = jnp.array([0])\n",
    "\n",
    "    rendered_images = b.RENDERER.render_many(\n",
    "        poses[:,None,...], indices \n",
    "    )[...,:3]\n",
    "\n",
    "    variance = genjax.distributions.tfp_uniform(0.00000000001, 10000.0) @ \"variance\"\n",
    "    outlier_prob  = genjax.distributions.tfp_uniform(-0.01, 10000.0) @ \"outlier_prob\"\n",
    "    \n",
    "    # images = b.image_likelihood(rendered_images[0,...], variance, outlier_prob, outlier_volume, focal_length) @ \"images\"\n",
    "    images = image_likelihood_vmap(rendered_images, variance, outlier_prob, outlier_volume, focal_length) @ \"depths\"\n",
    "    return rendered_images, poses\n",
    "\n",
    "\n",
    "model_single_object_simulate_jit = jax.jit(model_single_object.simulate)\n",
    "model_single_object_importance_jit = jax.jit(model_single_object.importance)\n"
   ]
  },
  {
   "cell_type": "code",
   "execution_count": 7,
   "metadata": {},
   "outputs": [],
   "source": [
    "# key = jax.random.PRNGKey(31415)\n",
    "# gt_tr = model_single_object_simulate_jit(key, (jnp.zeros(T), jnp.float64(1000.0), jnp.float64(1.0)))\n",
    "# poses = tr[\"dynamics\"][\"pose\"]\n",
    "# for i in range(poses.shape[0]):\n",
    "#     b.show_pose(f\"{i}\", poses[i])\n",
    "# display_video(video_from_trace(gt_tr, 0.7),  framerate=24)\n",
    "\n",
    "# def c2f_pose_update(trace_, key,  number, contact_param_deltas, VARIANCE_GRID, OUTLIER_GRID):\n",
    "#     contact_param_grid = contact_param_deltas + trace_[f\"contact_params_{number}\"]\n",
    "#     scores = contact_enumerators[number][3](trace_, key, contact_param_grid, VARIANCE_GRID, OUTLIER_GRID)\n",
    "#     i,j,k = jnp.unravel_index(scores.argmax(), scores.shape)\n",
    "#     return contact_enumerators[number][0](\n",
    "#         trace_, key,\n",
    "#         contact_param_grid[i], VARIANCE_GRID[j], OUTLIER_GRID[k]\n",
    "#     )"
   ]
  },
  {
   "cell_type": "code",
   "execution_count": null,
   "metadata": {},
   "outputs": [],
   "source": []
  },
  {
   "cell_type": "code",
   "execution_count": null,
   "metadata": {},
   "outputs": [],
   "source": []
  },
  {
   "cell_type": "code",
   "execution_count": 8,
   "metadata": {},
   "outputs": [],
   "source": [
    "key = jax.random.PRNGKey(31415)\n",
    "subkey = jax.random.split(key, 1)[0]\n",
    "weight, gt_trace = model_single_object_importance_jit(subkey, genjax.choice_map({\n",
    "    \"variance\": 0.0001,\n",
    "    \"outlier_prob\": 0.0001,\n",
    "}), (jnp.zeros(T), jnp.float32(1000.0), jnp.float32(1.0)))"
   ]
  },
  {
   "cell_type": "code",
   "execution_count": 14,
   "metadata": {},
   "outputs": [
    {
     "name": "stdout",
     "output_type": "stream",
     "text": [
      "(200, 200, 3)\n"
     ]
    },
    {
     "name": "stderr",
     "output_type": "stream",
     "text": [
      "/tmp/ipykernel_71886/4150747562.py:26: MatplotlibDeprecationWarning: Auto-close()ing of figures upon backend switching is deprecated since 3.8 and will be removed two minor releases later.  To suppress this warning, explicitly call plt.close('all') first.\n",
      "  matplotlib.use(orig_backend)  # Switch back to the original backend.\n"
     ]
    },
    {
     "data": {
      "text/html": [
       "<pre style=\"white-space:pre;overflow-x:auto;line-height:normal;font-family:Menlo,'DejaVu Sans Mono',consolas,'Courier New',monospace\"></pre>\n"
      ],
      "text/plain": []
     },
     "metadata": {},
     "output_type": "display_data"
    },
    {
     "data": {
      "text/html": [
       "<video width=\"200\" height=\"200\" controls autoplay loop>\n",
       "  <source type=\"video/mp4\" src=\"data:video/mp4;base64,AAAAIGZ0eXBNNFYgAAACAE00ViBpc29taXNvMmF2YzEAAAAIZnJlZQAAExxtZGF0AAACrgYF//+q\n",
       "3EXpvebZSLeWLNgg2SPu73gyNjQgLSBjb3JlIDE2MCByMzAxMSBjZGU5YTkzIC0gSC4yNjQvTVBF\n",
       "Ry00IEFWQyBjb2RlYyAtIENvcHlsZWZ0IDIwMDMtMjAyMCAtIGh0dHA6Ly93d3cudmlkZW9sYW4u\n",
       "b3JnL3gyNjQuaHRtbCAtIG9wdGlvbnM6IGNhYmFjPTEgcmVmPTMgZGVibG9jaz0xOjA6MCBhbmFs\n",
       "eXNlPTB4MzoweDExMyBtZT1oZXggc3VibWU9NyBwc3k9MSBwc3lfcmQ9MS4wMDowLjAwIG1peGVk\n",
       "X3JlZj0xIG1lX3JhbmdlPTE2IGNocm9tYV9tZT0xIHRyZWxsaXM9MSA4eDhkY3Q9MSBjcW09MCBk\n",
       "ZWFkem9uZT0yMSwxMSBmYXN0X3Bza2lwPTEgY2hyb21hX3FwX29mZnNldD0tMiB0aHJlYWRzPTYg\n",
       "bG9va2FoZWFkX3RocmVhZHM9MSBzbGljZWRfdGhyZWFkcz0wIG5yPTAgZGVjaW1hdGU9MSBpbnRl\n",
       "cmxhY2VkPTAgYmx1cmF5X2NvbXBhdD0wIGNvbnN0cmFpbmVkX2ludHJhPTAgYmZyYW1lcz0zIGJf\n",
       "cHlyYW1pZD0yIGJfYWRhcHQ9MSBiX2JpYXM9MCBkaXJlY3Q9MSB3ZWlnaHRiPTEgb3Blbl9nb3A9\n",
       "MCB3ZWlnaHRwPTIga2V5aW50PTI1MCBrZXlpbnRfbWluPTI0IHNjZW5lY3V0PTQwIGludHJhX3Jl\n",
       "ZnJlc2g9MCByY19sb29rYWhlYWQ9NDAgcmM9Y3JmIG1idHJlZT0xIGNyZj0yMy4wIHFjb21wPTAu\n",
       "NjAgcXBtaW49MCBxcG1heD02OSBxcHN0ZXA9NCBpcF9yYXRpbz0xLjQwIGFxPTE6MS4wMACAAAAD\n",
       "mWWIhAA3//728P4FNjuY0JcRzeidMx+/Fbi6NDiMDJSUZ8h1nVslAAADADHgDwtIkHg5lfuAoYK2\n",
       "yAVS2afHZxdI3Ou0N4j9C15D8ccIYcRCPPm0EMYxNQKwYD/S2yN3p+bL3y21tzxQ4wFJID8hJduA\n",
       "lA6u0PlzurJjI1Up8zG1kFk8pDu4tkux3KypDETGzYDoFVeE2DSA6Nawd4MSJwyrrKZAb0+BbWO+\n",
       "dSmE/v4QP/idexd/4zyKVP/lj0ZzswG92N3cGH0QQb2MaJ5YqcNvQF7NtMiBB2SbeexJT2UdAmZf\n",
       "h26tcY0eCGJb7z1CiGD0mXYPkZN3/XgvLbdPVwWWh2rZleCB0J9cPLeRmDU5rM22y6bSkrjs0s1L\n",
       "YvvCJ6KyGXAsReCrItiPPTkeVDt0/lQYJkHIEq2wAxS0Q+sN0ETDZwV9CyPEvV6me5OeIWwA4ROf\n",
       "/yKp0+8EjUiYEQ9lCFD2dqAuCtQc5fP8+wSAmRY9qbukRSQNfdsiGDAJs4ISdtqljfEqEcvF+96K\n",
       "TZABA+rsSWd5xQeFbM6m/5P5mTF5kScJJUs5sf5u/BMwuuDHmTDkIX0R7qqUD7LwOvSPzFYdLjuN\n",
       "c+bVNPV6/L2lMyDyIohBtzwr3LQZVkD+TWv8k5zDzY2Xdfi6qLz+HM6ANHfUqd3INMAtVQmzMGgw\n",
       "OzHNP34XrYzHXnm8cB/S4PzJjLdGnNVMc3pvzFWtVDXiOR9WWFhClar5xqCd9mh4XbErxDXU/VEe\n",
       "9iEcdxOorCb0wvC4sjzSqAcTbJRtOTqVnIL+disYc5Bi3VFnzQNewzFUK049bgacDj8T39BN8fs1\n",
       "RRkmXotGu98UrBR8OGo7dUssuivyiUA4HZ9FRvwV6HloWE7v24MQe6gMkAGimXb07IrVMwH3MZSA\n",
       "h0uQz/x3JqiSwDXL8njKWW03geZKMucU5m/FdLc3DDnIW6pkhuMtIdwfPMuxnwmXq80WKv+9ykV/\n",
       "xbfeINMYPS3SZRGZ+Vi5xchJam0ImjNHi0jP8VKVOOxF8xLSBfb1NVTto9YtFg07knljY8GPCuRw\n",
       "NrTnNlSGKWUALAkz6jEbkwOn3/4R8dCg1Vk8RBR0VtJ2djRXIAAFx54rnW6QaWaakZpIdl74Wchu\n",
       "nMjvFGPY8yoB0qXXX77Hg3zgBcfpOWMuOR+xiCTHl8ZoVWGfmKoYGpCSl/3oxL7XrSCTWR5qVNrl\n",
       "JF5KnOzyzWFXCQAAAQpBmiJsQ3/+p4QElW0QGNwSc89AQHuFduKdpab/7qxEPmg/RralS+J+aCbo\n",
       "ydwyCtYsAlKPr3kRwf69+GBPndoyCNSpVcZCv70KJdsrQC1J1F55rV8Tr5sq6LnmYuOoIlNbJF1S\n",
       "Bn/HIUPqiN3BkQwAz6u8yfqumy05D1YwsLALB4IIs+5Z9/Bb9wBtHkL3kef04tWTuzYKtmLWKo4l\n",
       "h/tFmwCFA3InWw1mw+ULXqXDWgk6Zvm0cgWRKzmuQApJke/lwtzeqIDhqBU4/MFR8cODxxOt94n8\n",
       "tKX/EQZLvqzjm8zx20gyfhPtqRFdsgmVs54AkMgIRSJyw2r3h6tAHJ+hXD6Zemkurnpc2AAAAQMB\n",
       "nkF5Cv8Cr8ZfLW+VVw4ZCAGpT2sHvBEAA8SGkS9uXxi75+ei/7XOLDEj9dfntPiw1rXHK8GsGUwE\n",
       "/vX3Az76b5uBofI9pA9taH16cBG7kONgtympR/SxOtHdTlbTEHmO/pJH0z6E6s/nB9Y/Nyiu+yjE\n",
       "+FIxiF+YlbIAT3LTvg9diw8/u/QZ3GK8RNsA0D0WzJAVEqRcrWqdxJB+XYrTN6cFCDrjjlewru+P\n",
       "Ij7qdiCg4qnC43q2lWR+2cDZ4KHHqmAaL5wUFNc491NoMWA2JWae+1vJA0EMFM63pIpPEOlaSEah\n",
       "yCCx7Kmoyggi8dJ1rSLHQfDlxTi42xu2EBJ73SllAAACe0GaRjwhkymEN//+mmah0aAAzbFa2C/g\n",
       "p8RksMmHa6A0k/8GMlzXqSZAf9gMqsn32P5yWN5+udjdvvrZVR/cDHHtaA5eVD4xGLb907b84WGr\n",
       "WSikziJbS48xi+7AuDkcwGrgNRPWKGEB6BVPo1wSJV4xwkxc3vEky6ynS8DQHWFmRNXIX4S9Y0pY\n",
       "VNC1etUj2p/4XsHD8k5LmaViZLEeT0dZs1WNIKWiF1oxFQ8S6hks+cVV2CmkYxOx7ZlNmtScWkeQ\n",
       "fTXjNQGhpgRW8CSWxDqBp7NL1SocvlG4uytanOs6mIXG2He2Z+CWockqL9jXWuwldgTTRRlAbruo\n",
       "anU7eIj7xI+q2+WLK3VJt8yWiHg0ye1irI9tqI4x9UgEf5EwD6B5wYykGRXl5JoaS0bt3RHosBzt\n",
       "pSjLck+IOTuJ231xf3HS58xBcM/nXxpf0a7pW0mRd7RNNw0YRgNW91rkBE4N+nXeTgpGs0N7gfdx\n",
       "R5fuocfDkK7PagrqnKyvDWykaV2oyaJmzEx5TOECbwE3krZC2u2uFnogF22BJkJk0HUL7ubrZXD2\n",
       "o07u3PHMFcX+/10ehhFVx2zOSoN8QZjKwgn8XccSJS8ujSxD9QxTEeyHabCnysGf4ezthwGvE0Ml\n",
       "n0HNK7fvl7oA9Sb2mgwfhT0jMwgn/fbYifwShe47jPOnuQWRtawUpuTIfRfl3a3tfs72Ye+ecDsW\n",
       "tk0pXZwoz7GRbi7I0ceOASZ4UdrF6/gC6rkzDJBLDkcFCJMq0KOLASM9RhiB1POqB9aXMMvmEbFt\n",
       "/s5LKxyigIunF93p/IVDeOQCx1z+qGJzja5lJAMa3k6YxBdc4qMkAMPQAAAB20GeZGpTwv8zCy6b\n",
       "r0I8o5dHtQgARkEX2CW1152ckGyC6ryQezBd4DinqMkLl87fGP69scVN5ZRDNY6nv/87HbZUeE9Y\n",
       "VfymZ2gZvy5uiXqOdcioahJvTC2QPMXWoCfAUNNKQvAFyj5vtXvlF/ThkHX3xtTNIYNdYkHi+/En\n",
       "ZJ7Wp/j5eGQupc1G9d5jJv3NG+2ojuH5FXTiM70KbfFshqM212PDANCaHHNZBWszAvrR3OEIes9e\n",
       "z+ZYWV9mwAkNgc1wRZuDK5s7IU+qUL/GQVgjErCiGsYzfBIHPA71cYWlFRaRGQhPj/+RlsRUMxIW\n",
       "C2kRgfT4gkT2SvPdl5WnDRJly9h7CKQbhJPrSmfJCJNgD0t+99IhJT9DLWXEkRJ2aH+OjoArcEwX\n",
       "6aQCFeVdH/A9963XN77rN7nUsHFZhaZ6+fFeSiELeDCjP4mKOvXOQz5BukgpJBKcDWAHjDJjlxoK\n",
       "OiPjqVsPZRxJilpFpi9a3QjMxSo5JCXwL9kCXqECb2IzjAr7iN5WHhutWDoWEsnxz0YCjLUqn1vk\n",
       "yZYO8ZD/3PtbLtHJ6+1BNSTiEHswfOXh6W6JN9Mxj/dImNPkA0+qXi4AMtndWnksLfu/frfkf0Xz\n",
       "stkdpXZYd9cAAADiAZ6DdEK/B8PuNu0iN6NvPdzXtACPCJ41Yxs2vDe+/aD500Yj1fDpXaymC3is\n",
       "8aIyma7wYlOCFzfAroNGYtR0YbOwl2JyadlDudBJ2Vx4rizh9dnsBdNAQzMSHM/z0IfMQ9TkfG/s\n",
       "ZF/DcZQl3z9wMbgntkQqjmVvdpDG0YPMHzBzbyrPJ4JTozJvQ0PC2jens2noAP0q3fUC85KTI+k4\n",
       "qiPl+KIsUP9PVuX46JfvBKFyhO3lYlkg7k+ZBNw00eX1EtyA6KpV9SRXaBTMjjjz6w3XAxnXWCgt\n",
       "WKsbDkfzztP2twAAAR0BnoVqQr85qs0v/lfWXQAqBNPi6jlW2coq6loevUArCU8Eo+4g7fdz9hbz\n",
       "kP7SJprwVWOjtfPfJGR1xJ8a7qzGLQP9s9vt9j6ZqeMQSlSjOqZwFBed1g+NFzn2x9i201Zw7N/l\n",
       "WRfdEcokZgnBlweiMyjeYKJ2Xj1xhSo7IOwbozhZm/op3OpuMUMO3sLFC13w/0p5UprEL+N8w8ct\n",
       "1uQKcGwAyxrOh5EoNO6ydnqVd/26Sd8aEJHS3SuZPwgC1GDpeieLlnFMwjwUNh0MnDJzYgvaxwgK\n",
       "o5CP3e7Xd3GgpXtJAoavhgs2DQoQS8r4GoQf9FX1y5hKcev/BQqVOxNd0Pog6WyT/A8pdswTPBcA\n",
       "cosjeCmASdOaWI+jHcEAAAHMQZqJSahBaJlMCF///kxkWDgADN2B5ZQ09kA0bj6gXO95qb7mB8Nt\n",
       "M5jpprKfnfzWrGRHMuo6oS23QqhfiBuE4S8NzkA/uceHZIbGWOz17ttvWAG9FUi/QDif+B4RkGgH\n",
       "o9Yo9xyRchSG7Ykx7VJYwRvttzg4DwNCtM9MkSUqg8Odl8FdmFKCAbFh5OiL01sdyOXPNDQQvt4t\n",
       "cqSNqW8AYjAbYLvzTPCMq/lnqsAoQzaxvZ+8HLvlUlvTC1qKFM4D0PrudE8nSaugB/NdBNfAU/8u\n",
       "vPfdWigYpM6Prhk1strxNigR/X4/s1uFnbq0fjfsTzS31BulFNWQ3iXwEyq9W3VSTEjD4rC3Cqu/\n",
       "WGcsVfK07i2qX5oiOvccywuCOKGS2NjjJmz81GVksZFF5sVGw4s+CNNQASZk0skN1vA2JLvs8pU3\n",
       "xTWIbyCf6175qSteMELibONsIBjAdLMN3L2HlPZ6aJnEk7cfVP0rgd6X6ExVd9FKCPLtllc7o9XY\n",
       "UKW/VV2qp295lJiCP5DDfyfF+lVeEqrPkwdTJy0jD9RwKJJggfMFwJ7cueX5Nx2n8NreI6dMH5bV\n",
       "b2rnaRaYM4J/SPfys5NG2g1+12vJ+wAAAPVBnqdFESwr/0aYFlRwK96XQAeLIkgTxZxn+yFR96uq\n",
       "pGb+vyKxGxR8ZFAyvXuIO8n3kZG1Pl+fpVCnN2YSMr2AP2HseV/nesN0bjZAgMA+aSDWhZMJQj1i\n",
       "JAqdssrZ3cHPxXdCOUw1QQK9xXxEE2yCvNdWuWr9SfxsXm2dhqLCrb4Het5G4bnO5XjHzFMFOKqM\n",
       "Hj90L5QPdLGxzxL1RQPZYpCxExq5edKEqMGEEc4MroEwHLjiuhDakme28Zp5yR6q0RWXznMkUrDI\n",
       "cR6VvE4pW794aJ075I1LiYVRBu22tkYwY6OSbAWoGPh6O0kOUP6PFb30VAAAAKcBnshqQr9FaROq\n",
       "BT0AArB5f+6Y2aqhcKjVRWb7geZ0x39hh4gcaK0STMvBTarzW2uuuaiZZmR11QDI4zzBtM5e7zR0\n",
       "GT/U7T9jq0XIMRnz9PHaDR59WsZpClzGp2KJETxaSXjwTueQXp/cGGA97ZNFZ+P5CyzN1nbKk0Iu\n",
       "Ikq853vOeOwwcrUOtRfl4L8NyIFVfXJpSOOoiWZRRysnnxSSYbJIgRgGwAAAANNBmspJqEFsmUwI\n",
       "V//9u6pu9AB6ecqV5wXrJCiHumocGm8bbvFltcWKZMsCbCtfaj49LJSzZ4KQM2DUta467GLL8b/7\n",
       "yCzhHbF+i2x+R5nGZIiA6MrKJNCjHnL0AZ087VNcipoDmj5IWroUfjGBURBZbtGN0Vzzyzd1wxAn\n",
       "Wr6UYn1Ukr4PtWESrey+ypbQeD94MaHj2Z26fDzBIFwWF6+5o2Jn1/qQ6jUS4H22BxliD1VswKOk\n",
       "YYpH/ObYEH14CMtnLPl8yeVmgqaCAh4C/6R9PQCBAAADr21vb3YAAABsbXZoZAAAAAAAAAAAAAAA\n",
       "AAAAA+gAAAHLAAEAAAEAAAAAAAAAAAAAAAABAAAAAAAAAAAAAAAAAAAAAQAAAAAAAAAAAAAAAAAA\n",
       "QAAAAAAAAAAAAAAAAAAAAAAAAAAAAAAAAAAAAAAAAAIAAALZdHJhawAAAFx0a2hkAAAAAwAAAAAA\n",
       "AAAAAAAAAQAAAAAAAAHLAAAAAAAAAAAAAAAAAAAAAAABAAAAAAAAAAAAAAAAAAAAAQAAAAAAAAAA\n",
       "AAAAAAAAQAAAAADIAAAAyAAAAAAAJGVkdHMAAAAcZWxzdAAAAAAAAAABAAABywAABAAAAQAAAAAC\n",
       "UW1kaWEAAAAgbWRoZAAAAAAAAAAAAAAAAAAAMAAAABYAVcQAAAAAAC1oZGxyAAAAAAAAAAB2aWRl\n",
       "AAAAAAAAAAAAAAAAVmlkZW9IYW5kbGVyAAAAAfxtaW5mAAAAFHZtaGQAAAABAAAAAAAAAAAAAAAk\n",
       "ZGluZgAAABxkcmVmAAAAAAAAAAEAAAAMdXJsIAAAAAEAAAG8c3RibAAAALhzdHNkAAAAAAAAAAEA\n",
       "AACoYXZjMQAAAAAAAAABAAAAAAAAAAAAAAAAAAAAAADIAMgASAAAAEgAAAAAAAAAAQAAAAAAAAAA\n",
       "AAAAAAAAAAAAAAAAAAAAAAAAAAAAAAAAABj//wAAADZhdmNDAWQADP/hABlnZAAMrNlDRvllhAAA\n",
       "AwAEAAADAMA8UKZYAQAGaOvjyyLA/fj4AAAAABx1dWlka2hA8l8kT8W6OaUbzwMj8wAAAAAAAAAY\n",
       "c3R0cwAAAAAAAAABAAAACwAAAgAAAAAUc3RzcwAAAAAAAAABAAAAAQAAAGBjdHRzAAAAAAAAAAoA\n",
       "AAABAAAEAAAAAAEAAAYAAAAAAQAAAgAAAAABAAAKAAAAAAEAAAQAAAAAAQAAAAAAAAABAAACAAAA\n",
       "AAEAAAgAAAAAAgAAAgAAAAABAAAEAAAAABxzdHNjAAAAAAAAAAEAAAABAAAACwAAAAEAAABAc3Rz\n",
       "egAAAAAAAAAAAAAACwAABk8AAAEOAAABBwAAAn8AAAHfAAAA5gAAASEAAAHQAAAA+QAAAKsAAADX\n",
       "AAAAFHN0Y28AAAAAAAAAAQAAADAAAABidWR0YQAAAFptZXRhAAAAAAAAACFoZGxyAAAAAAAAAABt\n",
       "ZGlyYXBwbAAAAAAAAAAAAAAAAC1pbHN0AAAAJal0b28AAAAdZGF0YQAAAAEAAAAATGF2ZjU4LjQ1\n",
       "LjEwMA==\n",
       "\">\n",
       "  Your browser does not support the video tag.\n",
       "</video>"
      ],
      "text/plain": [
       "\u001b[1m<\u001b[0m\u001b[1;95mIPython.core.display.HTML\u001b[0m\u001b[39m object\u001b[0m\u001b[1m>\u001b[0m"
      ]
     },
     "execution_count": 14,
     "metadata": {},
     "output_type": "execute_result"
    }
   ],
   "source": [
    "display_video(video_from_trace(gt_trace, 4, use_retval = True),  framerate=24)"
   ]
  },
  {
   "cell_type": "code",
   "execution_count": 8,
   "metadata": {},
   "outputs": [
    {
     "data": {
      "text/html": [
       "<pre style=\"white-space:pre;overflow-x:auto;line-height:normal;font-family:Menlo,'DejaVu Sans Mono',consolas,'Courier New',monospace\"></pre>\n"
      ],
      "text/plain": []
     },
     "metadata": {},
     "output_type": "display_data"
    },
    {
     "data": {
      "text/plain": [
       "\u001b[1;35mArray\u001b[0m\u001b[1m(\u001b[0m\u001b[1;36m89422.77\u001b[0m, \u001b[33mdtype\u001b[0m=\u001b[35mfloat32\u001b[0m\u001b[1m)\u001b[0m"
      ]
     },
     "execution_count": 8,
     "metadata": {},
     "output_type": "execute_result"
    }
   ],
   "source": [
    "gt_trace.get_score()"
   ]
  },
  {
   "cell_type": "code",
   "execution_count": 13,
   "metadata": {},
   "outputs": [
    {
     "data": {
      "text/html": [
       "<pre style=\"white-space:pre;overflow-x:auto;line-height:normal;font-family:Menlo,'DejaVu Sans Mono',consolas,'Courier New',monospace\"><span style=\"color: #800000; text-decoration-color: #800000\">╭─────────────────────────────── </span><span style=\"color: #800000; text-decoration-color: #800000; font-weight: bold\">Traceback </span><span style=\"color: #bf7f7f; text-decoration-color: #bf7f7f; font-weight: bold\">(most recent call last)</span><span style=\"color: #800000; text-decoration-color: #800000\"> ────────────────────────────────╮</span>\n",
       "<span style=\"color: #800000; text-decoration-color: #800000\">│</span> in <span style=\"color: #00ff00; text-decoration-color: #00ff00\">&lt;module&gt;</span>:<span style=\"color: #0000ff; text-decoration-color: #0000ff\">13</span>                                                                                   <span style=\"color: #800000; text-decoration-color: #800000\">│</span>\n",
       "<span style=\"color: #800000; text-decoration-color: #800000\">│</span>                                                                                                  <span style=\"color: #800000; text-decoration-color: #800000\">│</span>\n",
       "<span style=\"color: #800000; text-decoration-color: #800000\">│</span>   <span style=\"color: #7f7f7f; text-decoration-color: #7f7f7f\">10 </span><span style=\"color: #7f7f7f; text-decoration-color: #7f7f7f\">│   </span><span style=\"color: #808000; text-decoration-color: #808000\">\"outlier_prob\"</span>: <span style=\"color: #0000ff; text-decoration-color: #0000ff\">0.0001</span>}                                                                 <span style=\"color: #800000; text-decoration-color: #800000\">│</span>\n",
       "<span style=\"color: #800000; text-decoration-color: #800000\">│</span>   <span style=\"color: #7f7f7f; text-decoration-color: #7f7f7f\">11 </span>)                                                                                           <span style=\"color: #800000; text-decoration-color: #800000\">│</span>\n",
       "<span style=\"color: #800000; text-decoration-color: #800000\">│</span>   <span style=\"color: #7f7f7f; text-decoration-color: #7f7f7f\">12 # chm = genjax.vector_choice_map(genjax.choice_map({(\"depths\", \"depths\"):gt_trace.get_ch</span>    <span style=\"color: #800000; text-decoration-color: #800000\">│</span>\n",
       "<span style=\"color: #800000; text-decoration-color: #800000\">│</span> <span style=\"color: #800000; text-decoration-color: #800000\">❱ </span>13 w,trace = model_single_object_importance_jit(subkey, chm, (jnp.zeros(T), jnp.float32(<span style=\"color: #0000ff; text-decoration-color: #0000ff\">100</span>    <span style=\"color: #800000; text-decoration-color: #800000\">│</span>\n",
       "<span style=\"color: #800000; text-decoration-color: #800000\">│</span>   <span style=\"color: #7f7f7f; text-decoration-color: #7f7f7f\">14 </span>w                                                                                           <span style=\"color: #800000; text-decoration-color: #800000\">│</span>\n",
       "<span style=\"color: #800000; text-decoration-color: #800000\">│</span>   <span style=\"color: #7f7f7f; text-decoration-color: #7f7f7f\">15 </span>                                                                                            <span style=\"color: #800000; text-decoration-color: #800000\">│</span>\n",
       "<span style=\"color: #800000; text-decoration-color: #800000\">│</span>                                                                                                  <span style=\"color: #800000; text-decoration-color: #800000\">│</span>\n",
       "<span style=\"color: #800000; text-decoration-color: #800000\">│</span> <span style=\"color: #bfbf7f; text-decoration-color: #bfbf7f\">/opt/conda/envs/bayes3d/lib/python3.9/site-packages/jax/_src/</span><span style=\"color: #808000; text-decoration-color: #808000; font-weight: bold\">traceback_util.py</span>:<span style=\"color: #0000ff; text-decoration-color: #0000ff\">177</span> in            <span style=\"color: #800000; text-decoration-color: #800000\">│</span>\n",
       "<span style=\"color: #800000; text-decoration-color: #800000\">│</span> <span style=\"color: #00ff00; text-decoration-color: #00ff00\">reraise_with_filtered_traceback</span>                                                                  <span style=\"color: #800000; text-decoration-color: #800000\">│</span>\n",
       "<span style=\"color: #800000; text-decoration-color: #800000\">│</span>                                                                                                  <span style=\"color: #800000; text-decoration-color: #800000\">│</span>\n",
       "<span style=\"color: #800000; text-decoration-color: #800000\">│</span> <span style=\"color: #bfbf7f; text-decoration-color: #bfbf7f\">/opt/conda/envs/bayes3d/lib/python3.9/site-packages/jax/_src/</span><span style=\"color: #808000; text-decoration-color: #808000; font-weight: bold\">pjit.py</span>:<span style=\"color: #0000ff; text-decoration-color: #0000ff\">256</span> in <span style=\"color: #00ff00; text-decoration-color: #00ff00\">cache_miss</span>           <span style=\"color: #800000; text-decoration-color: #800000\">│</span>\n",
       "<span style=\"color: #800000; text-decoration-color: #800000\">│</span>                                                                                                  <span style=\"color: #800000; text-decoration-color: #800000\">│</span>\n",
       "<span style=\"color: #800000; text-decoration-color: #800000\">│</span> <span style=\"color: #bfbf7f; text-decoration-color: #bfbf7f\">/opt/conda/envs/bayes3d/lib/python3.9/site-packages/jax/_src/</span><span style=\"color: #808000; text-decoration-color: #808000; font-weight: bold\">pjit.py</span>:<span style=\"color: #0000ff; text-decoration-color: #0000ff\">167</span> in <span style=\"color: #00ff00; text-decoration-color: #00ff00\">_python_pjit_helper</span>  <span style=\"color: #800000; text-decoration-color: #800000\">│</span>\n",
       "<span style=\"color: #800000; text-decoration-color: #800000\">│</span>                                                                                                  <span style=\"color: #800000; text-decoration-color: #800000\">│</span>\n",
       "<span style=\"color: #800000; text-decoration-color: #800000\">│</span> <span style=\"color: #bfbf7f; text-decoration-color: #bfbf7f\">/opt/conda/envs/bayes3d/lib/python3.9/site-packages/jax/_src/</span><span style=\"color: #808000; text-decoration-color: #808000; font-weight: bold\">core.py</span>:<span style=\"color: #0000ff; text-decoration-color: #0000ff\">2656</span> in <span style=\"color: #00ff00; text-decoration-color: #00ff00\">bind</span>                <span style=\"color: #800000; text-decoration-color: #800000\">│</span>\n",
       "<span style=\"color: #800000; text-decoration-color: #800000\">│</span>                                                                                                  <span style=\"color: #800000; text-decoration-color: #800000\">│</span>\n",
       "<span style=\"color: #800000; text-decoration-color: #800000\">│</span> <span style=\"color: #bfbf7f; text-decoration-color: #bfbf7f\">/opt/conda/envs/bayes3d/lib/python3.9/site-packages/jax/_src/</span><span style=\"color: #808000; text-decoration-color: #808000; font-weight: bold\">core.py</span>:<span style=\"color: #0000ff; text-decoration-color: #0000ff\">388</span> in <span style=\"color: #00ff00; text-decoration-color: #00ff00\">bind_with_trace</span>      <span style=\"color: #800000; text-decoration-color: #800000\">│</span>\n",
       "<span style=\"color: #800000; text-decoration-color: #800000\">│</span>                                                                                                  <span style=\"color: #800000; text-decoration-color: #800000\">│</span>\n",
       "<span style=\"color: #800000; text-decoration-color: #800000\">│</span> <span style=\"color: #bfbf7f; text-decoration-color: #bfbf7f\">/opt/conda/envs/bayes3d/lib/python3.9/site-packages/jax/_src/</span><span style=\"color: #808000; text-decoration-color: #808000; font-weight: bold\">core.py</span>:<span style=\"color: #0000ff; text-decoration-color: #0000ff\">868</span> in <span style=\"color: #00ff00; text-decoration-color: #00ff00\">process_primitive</span>    <span style=\"color: #800000; text-decoration-color: #800000\">│</span>\n",
       "<span style=\"color: #800000; text-decoration-color: #800000\">│</span>                                                                                                  <span style=\"color: #800000; text-decoration-color: #800000\">│</span>\n",
       "<span style=\"color: #800000; text-decoration-color: #800000\">│</span> <span style=\"color: #bfbf7f; text-decoration-color: #bfbf7f\">/opt/conda/envs/bayes3d/lib/python3.9/site-packages/jax/_src/</span><span style=\"color: #808000; text-decoration-color: #808000; font-weight: bold\">pjit.py</span>:<span style=\"color: #0000ff; text-decoration-color: #0000ff\">1212</span> in <span style=\"color: #00ff00; text-decoration-color: #00ff00\">_pjit_call_impl</span>     <span style=\"color: #800000; text-decoration-color: #800000\">│</span>\n",
       "<span style=\"color: #800000; text-decoration-color: #800000\">│</span>                                                                                                  <span style=\"color: #800000; text-decoration-color: #800000\">│</span>\n",
       "<span style=\"color: #800000; text-decoration-color: #800000\">│</span> <span style=\"color: #bfbf7f; text-decoration-color: #bfbf7f\">/opt/conda/envs/bayes3d/lib/python3.9/site-packages/jax/_src/</span><span style=\"color: #808000; text-decoration-color: #808000; font-weight: bold\">pjit.py</span>:<span style=\"color: #0000ff; text-decoration-color: #0000ff\">1196</span> in                     <span style=\"color: #800000; text-decoration-color: #800000\">│</span>\n",
       "<span style=\"color: #800000; text-decoration-color: #800000\">│</span> <span style=\"color: #00ff00; text-decoration-color: #00ff00\">call_impl_cache_miss</span>                                                                             <span style=\"color: #800000; text-decoration-color: #800000\">│</span>\n",
       "<span style=\"color: #800000; text-decoration-color: #800000\">│</span>                                                                                                  <span style=\"color: #800000; text-decoration-color: #800000\">│</span>\n",
       "<span style=\"color: #800000; text-decoration-color: #800000\">│</span> <span style=\"color: #bfbf7f; text-decoration-color: #bfbf7f\">/opt/conda/envs/bayes3d/lib/python3.9/site-packages/jax/_src/</span><span style=\"color: #808000; text-decoration-color: #808000; font-weight: bold\">pjit.py</span>:<span style=\"color: #0000ff; text-decoration-color: #0000ff\">1129</span> in                     <span style=\"color: #800000; text-decoration-color: #800000\">│</span>\n",
       "<span style=\"color: #800000; text-decoration-color: #800000\">│</span> <span style=\"color: #00ff00; text-decoration-color: #00ff00\">_pjit_call_impl_python</span>                                                                           <span style=\"color: #800000; text-decoration-color: #800000\">│</span>\n",
       "<span style=\"color: #800000; text-decoration-color: #800000\">│</span>                                                                                                  <span style=\"color: #800000; text-decoration-color: #800000\">│</span>\n",
       "<span style=\"color: #800000; text-decoration-color: #800000\">│</span> <span style=\"color: #bfbf7f; text-decoration-color: #bfbf7f\">/opt/conda/envs/bayes3d/lib/python3.9/site-packages/jax/_src/</span><span style=\"color: #808000; text-decoration-color: #808000; font-weight: bold\">pjit.py</span>:<span style=\"color: #0000ff; text-decoration-color: #0000ff\">1260</span> in <span style=\"color: #00ff00; text-decoration-color: #00ff00\">_pjit_lower</span>         <span style=\"color: #800000; text-decoration-color: #800000\">│</span>\n",
       "<span style=\"color: #800000; text-decoration-color: #800000\">│</span>                                                                                                  <span style=\"color: #800000; text-decoration-color: #800000\">│</span>\n",
       "<span style=\"color: #800000; text-decoration-color: #800000\">│</span> <span style=\"color: #bfbf7f; text-decoration-color: #bfbf7f\">/opt/conda/envs/bayes3d/lib/python3.9/site-packages/jax/_src/</span><span style=\"color: #808000; text-decoration-color: #808000; font-weight: bold\">pjit.py</span>:<span style=\"color: #0000ff; text-decoration-color: #0000ff\">1299</span> in <span style=\"color: #00ff00; text-decoration-color: #00ff00\">_pjit_lower_cached</span>  <span style=\"color: #800000; text-decoration-color: #800000\">│</span>\n",
       "<span style=\"color: #800000; text-decoration-color: #800000\">│</span>                                                                                                  <span style=\"color: #800000; text-decoration-color: #800000\">│</span>\n",
       "<span style=\"color: #800000; text-decoration-color: #800000\">│</span> <span style=\"color: #bfbf7f; text-decoration-color: #bfbf7f\">/opt/conda/envs/bayes3d/lib/python3.9/site-packages/jax/_src/</span><span style=\"color: #808000; text-decoration-color: #808000; font-weight: bold\">profiler.py</span>:<span style=\"color: #0000ff; text-decoration-color: #0000ff\">340</span> in <span style=\"color: #00ff00; text-decoration-color: #00ff00\">wrapper</span>          <span style=\"color: #800000; text-decoration-color: #800000\">│</span>\n",
       "<span style=\"color: #800000; text-decoration-color: #800000\">│</span>                                                                                                  <span style=\"color: #800000; text-decoration-color: #800000\">│</span>\n",
       "<span style=\"color: #800000; text-decoration-color: #800000\">│</span> <span style=\"color: #bfbf7f; text-decoration-color: #bfbf7f\">/opt/conda/envs/bayes3d/lib/python3.9/site-packages/jax/_src/interpreters/</span><span style=\"color: #808000; text-decoration-color: #808000; font-weight: bold\">pxla.py</span>:<span style=\"color: #0000ff; text-decoration-color: #0000ff\">2031</span> in        <span style=\"color: #800000; text-decoration-color: #800000\">│</span>\n",
       "<span style=\"color: #800000; text-decoration-color: #800000\">│</span> <span style=\"color: #00ff00; text-decoration-color: #00ff00\">lower_sharding_computation</span>                                                                       <span style=\"color: #800000; text-decoration-color: #800000\">│</span>\n",
       "<span style=\"color: #800000; text-decoration-color: #800000\">│</span>                                                                                                  <span style=\"color: #800000; text-decoration-color: #800000\">│</span>\n",
       "<span style=\"color: #800000; text-decoration-color: #800000\">│</span> <span style=\"color: #bfbf7f; text-decoration-color: #bfbf7f\">/opt/conda/envs/bayes3d/lib/python3.9/site-packages/jax/_src/interpreters/</span><span style=\"color: #808000; text-decoration-color: #808000; font-weight: bold\">pxla.py</span>:<span style=\"color: #0000ff; text-decoration-color: #0000ff\">1832</span> in        <span style=\"color: #800000; text-decoration-color: #800000\">│</span>\n",
       "<span style=\"color: #800000; text-decoration-color: #800000\">│</span> <span style=\"color: #00ff00; text-decoration-color: #00ff00\">_cached_lowering_to_hlo</span>                                                                          <span style=\"color: #800000; text-decoration-color: #800000\">│</span>\n",
       "<span style=\"color: #800000; text-decoration-color: #800000\">│</span>                                                                                                  <span style=\"color: #800000; text-decoration-color: #800000\">│</span>\n",
       "<span style=\"color: #800000; text-decoration-color: #800000\">│</span> <span style=\"color: #bfbf7f; text-decoration-color: #bfbf7f\">/opt/conda/envs/bayes3d/lib/python3.9/site-packages/jax/_src/interpreters/</span><span style=\"color: #808000; text-decoration-color: #808000; font-weight: bold\">mlir.py</span>:<span style=\"color: #0000ff; text-decoration-color: #0000ff\">810</span> in         <span style=\"color: #800000; text-decoration-color: #800000\">│</span>\n",
       "<span style=\"color: #800000; text-decoration-color: #800000\">│</span> <span style=\"color: #00ff00; text-decoration-color: #00ff00\">lower_jaxpr_to_module</span>                                                                            <span style=\"color: #800000; text-decoration-color: #800000\">│</span>\n",
       "<span style=\"color: #800000; text-decoration-color: #800000\">│</span>                                                                                                  <span style=\"color: #800000; text-decoration-color: #800000\">│</span>\n",
       "<span style=\"color: #800000; text-decoration-color: #800000\">│</span> <span style=\"color: #bfbf7f; text-decoration-color: #bfbf7f\">/opt/conda/envs/bayes3d/lib/python3.9/site-packages/jax/_src/interpreters/</span><span style=\"color: #808000; text-decoration-color: #808000; font-weight: bold\">mlir.py</span>:<span style=\"color: #0000ff; text-decoration-color: #0000ff\">1216</span> in        <span style=\"color: #800000; text-decoration-color: #800000\">│</span>\n",
       "<span style=\"color: #800000; text-decoration-color: #800000\">│</span> <span style=\"color: #00ff00; text-decoration-color: #00ff00\">lower_jaxpr_to_fun</span>                                                                               <span style=\"color: #800000; text-decoration-color: #800000\">│</span>\n",
       "<span style=\"color: #800000; text-decoration-color: #800000\">│</span>                                                                                                  <span style=\"color: #800000; text-decoration-color: #800000\">│</span>\n",
       "<span style=\"color: #800000; text-decoration-color: #800000\">│</span> <span style=\"color: #bfbf7f; text-decoration-color: #bfbf7f\">/opt/conda/envs/bayes3d/lib/python3.9/site-packages/jax/_src/interpreters/</span><span style=\"color: #808000; text-decoration-color: #808000; font-weight: bold\">mlir.py</span>:<span style=\"color: #0000ff; text-decoration-color: #0000ff\">1433</span> in        <span style=\"color: #800000; text-decoration-color: #800000\">│</span>\n",
       "<span style=\"color: #800000; text-decoration-color: #800000\">│</span> <span style=\"color: #00ff00; text-decoration-color: #00ff00\">jaxpr_subcomp</span>                                                                                    <span style=\"color: #800000; text-decoration-color: #800000\">│</span>\n",
       "<span style=\"color: #800000; text-decoration-color: #800000\">│</span>                                                                                                  <span style=\"color: #800000; text-decoration-color: #800000\">│</span>\n",
       "<span style=\"color: #800000; text-decoration-color: #800000\">│</span> <span style=\"color: #bfbf7f; text-decoration-color: #bfbf7f\">/opt/conda/envs/bayes3d/lib/python3.9/site-packages/jax/_src/interpreters/</span><span style=\"color: #808000; text-decoration-color: #808000; font-weight: bold\">mlir.py</span>:<span style=\"color: #0000ff; text-decoration-color: #0000ff\">1618</span> in        <span style=\"color: #800000; text-decoration-color: #800000\">│</span>\n",
       "<span style=\"color: #800000; text-decoration-color: #800000\">│</span> <span style=\"color: #00ff00; text-decoration-color: #00ff00\">f_lowered</span>                                                                                        <span style=\"color: #800000; text-decoration-color: #800000\">│</span>\n",
       "<span style=\"color: #800000; text-decoration-color: #800000\">│</span>                                                                                                  <span style=\"color: #800000; text-decoration-color: #800000\">│</span>\n",
       "<span style=\"color: #800000; text-decoration-color: #800000\">│</span> <span style=\"color: #bfbf7f; text-decoration-color: #bfbf7f\">/opt/conda/envs/bayes3d/lib/python3.9/site-packages/jax/_src/interpreters/</span><span style=\"color: #808000; text-decoration-color: #808000; font-weight: bold\">mlir.py</span>:<span style=\"color: #0000ff; text-decoration-color: #0000ff\">1433</span> in        <span style=\"color: #800000; text-decoration-color: #800000\">│</span>\n",
       "<span style=\"color: #800000; text-decoration-color: #800000\">│</span> <span style=\"color: #00ff00; text-decoration-color: #00ff00\">jaxpr_subcomp</span>                                                                                    <span style=\"color: #800000; text-decoration-color: #800000\">│</span>\n",
       "<span style=\"color: #800000; text-decoration-color: #800000\">│</span>                                                                                                  <span style=\"color: #800000; text-decoration-color: #800000\">│</span>\n",
       "<span style=\"color: #800000; text-decoration-color: #800000\">│</span> <span style=\"color: #bfbf7f; text-decoration-color: #bfbf7f\">/opt/conda/envs/bayes3d/lib/python3.9/site-packages/jax/_src/lax/control_flow/</span><span style=\"color: #808000; text-decoration-color: #808000; font-weight: bold\">loops.py</span>:<span style=\"color: #0000ff; text-decoration-color: #0000ff\">1672</span> in   <span style=\"color: #800000; text-decoration-color: #800000\">│</span>\n",
       "<span style=\"color: #800000; text-decoration-color: #800000\">│</span> <span style=\"color: #00ff00; text-decoration-color: #00ff00\">_while_lowering</span>                                                                                  <span style=\"color: #800000; text-decoration-color: #800000\">│</span>\n",
       "<span style=\"color: #800000; text-decoration-color: #800000\">│</span>                                                                                                  <span style=\"color: #800000; text-decoration-color: #800000\">│</span>\n",
       "<span style=\"color: #800000; text-decoration-color: #800000\">│</span> <span style=\"color: #bfbf7f; text-decoration-color: #bfbf7f\">/opt/conda/envs/bayes3d/lib/python3.9/site-packages/jax/_src/interpreters/</span><span style=\"color: #808000; text-decoration-color: #808000; font-weight: bold\">mlir.py</span>:<span style=\"color: #0000ff; text-decoration-color: #0000ff\">1433</span> in        <span style=\"color: #800000; text-decoration-color: #800000\">│</span>\n",
       "<span style=\"color: #800000; text-decoration-color: #800000\">│</span> <span style=\"color: #00ff00; text-decoration-color: #00ff00\">jaxpr_subcomp</span>                                                                                    <span style=\"color: #800000; text-decoration-color: #800000\">│</span>\n",
       "<span style=\"color: #800000; text-decoration-color: #800000\">│</span>                                                                                                  <span style=\"color: #800000; text-decoration-color: #800000\">│</span>\n",
       "<span style=\"color: #800000; text-decoration-color: #800000\">│</span> <span style=\"color: #bfbf7f; text-decoration-color: #bfbf7f\">/opt/conda/envs/bayes3d/lib/python3.9/site-packages/jax/_src/lax/</span><span style=\"color: #808000; text-decoration-color: #808000; font-weight: bold\">lax.py</span>:<span style=\"color: #0000ff; text-decoration-color: #0000ff\">2287</span> in                  <span style=\"color: #800000; text-decoration-color: #800000\">│</span>\n",
       "<span style=\"color: #800000; text-decoration-color: #800000\">│</span> <span style=\"color: #00ff00; text-decoration-color: #00ff00\">_compare_lower_hlo</span>                                                                               <span style=\"color: #800000; text-decoration-color: #800000\">│</span>\n",
       "<span style=\"color: #800000; text-decoration-color: #800000\">│</span>                                                                                                  <span style=\"color: #800000; text-decoration-color: #800000\">│</span>\n",
       "<span style=\"color: #800000; text-decoration-color: #800000\">│</span> <span style=\"color: #bfbf7f; text-decoration-color: #bfbf7f\">/opt/conda/envs/bayes3d/lib/python3.9/site-packages/jax/_src/interpreters/</span><span style=\"color: #808000; text-decoration-color: #808000; font-weight: bold\">mlir.py</span>:<span style=\"color: #0000ff; text-decoration-color: #0000ff\">1890</span> in        <span style=\"color: #800000; text-decoration-color: #800000\">│</span>\n",
       "<span style=\"color: #800000; text-decoration-color: #800000\">│</span> <span style=\"color: #00ff00; text-decoration-color: #00ff00\">compare_hlo</span>                                                                                      <span style=\"color: #800000; text-decoration-color: #800000\">│</span>\n",
       "<span style=\"color: #800000; text-decoration-color: #800000\">╰──────────────────────────────────────────────────────────────────────────────────────────────────╯</span>\n",
       "<span style=\"color: #ff0000; text-decoration-color: #ff0000; font-weight: bold\">KeyboardInterrupt</span>\n",
       "</pre>\n"
      ],
      "text/plain": [
       "\u001b[31m╭─\u001b[0m\u001b[31m──────────────────────────────\u001b[0m\u001b[31m \u001b[0m\u001b[1;31mTraceback \u001b[0m\u001b[1;2;31m(most recent call last)\u001b[0m\u001b[31m \u001b[0m\u001b[31m───────────────────────────────\u001b[0m\u001b[31m─╮\u001b[0m\n",
       "\u001b[31m│\u001b[0m in \u001b[92m<module>\u001b[0m:\u001b[94m13\u001b[0m                                                                                   \u001b[31m│\u001b[0m\n",
       "\u001b[31m│\u001b[0m                                                                                                  \u001b[31m│\u001b[0m\n",
       "\u001b[31m│\u001b[0m   \u001b[2m10 \u001b[0m\u001b[2m│   \u001b[0m\u001b[33m\"\u001b[0m\u001b[33moutlier_prob\u001b[0m\u001b[33m\"\u001b[0m: \u001b[94m0.0001\u001b[0m}                                                                 \u001b[31m│\u001b[0m\n",
       "\u001b[31m│\u001b[0m   \u001b[2m11 \u001b[0m)                                                                                           \u001b[31m│\u001b[0m\n",
       "\u001b[31m│\u001b[0m   \u001b[2m12 \u001b[0m\u001b[2m# chm = genjax.vector_choice_map(genjax.choice_map({(\"depths\", \"depths\"):gt_trace.get_ch\u001b[0m    \u001b[31m│\u001b[0m\n",
       "\u001b[31m│\u001b[0m \u001b[31m❱ \u001b[0m13 w,trace = model_single_object_importance_jit(subkey, chm, (jnp.zeros(T), jnp.float32(\u001b[94m100\u001b[0m    \u001b[31m│\u001b[0m\n",
       "\u001b[31m│\u001b[0m   \u001b[2m14 \u001b[0mw                                                                                           \u001b[31m│\u001b[0m\n",
       "\u001b[31m│\u001b[0m   \u001b[2m15 \u001b[0m                                                                                            \u001b[31m│\u001b[0m\n",
       "\u001b[31m│\u001b[0m                                                                                                  \u001b[31m│\u001b[0m\n",
       "\u001b[31m│\u001b[0m \u001b[2;33m/opt/conda/envs/bayes3d/lib/python3.9/site-packages/jax/_src/\u001b[0m\u001b[1;33mtraceback_util.py\u001b[0m:\u001b[94m177\u001b[0m in            \u001b[31m│\u001b[0m\n",
       "\u001b[31m│\u001b[0m \u001b[92mreraise_with_filtered_traceback\u001b[0m                                                                  \u001b[31m│\u001b[0m\n",
       "\u001b[31m│\u001b[0m                                                                                                  \u001b[31m│\u001b[0m\n",
       "\u001b[31m│\u001b[0m \u001b[2;33m/opt/conda/envs/bayes3d/lib/python3.9/site-packages/jax/_src/\u001b[0m\u001b[1;33mpjit.py\u001b[0m:\u001b[94m256\u001b[0m in \u001b[92mcache_miss\u001b[0m           \u001b[31m│\u001b[0m\n",
       "\u001b[31m│\u001b[0m                                                                                                  \u001b[31m│\u001b[0m\n",
       "\u001b[31m│\u001b[0m \u001b[2;33m/opt/conda/envs/bayes3d/lib/python3.9/site-packages/jax/_src/\u001b[0m\u001b[1;33mpjit.py\u001b[0m:\u001b[94m167\u001b[0m in \u001b[92m_python_pjit_helper\u001b[0m  \u001b[31m│\u001b[0m\n",
       "\u001b[31m│\u001b[0m                                                                                                  \u001b[31m│\u001b[0m\n",
       "\u001b[31m│\u001b[0m \u001b[2;33m/opt/conda/envs/bayes3d/lib/python3.9/site-packages/jax/_src/\u001b[0m\u001b[1;33mcore.py\u001b[0m:\u001b[94m2656\u001b[0m in \u001b[92mbind\u001b[0m                \u001b[31m│\u001b[0m\n",
       "\u001b[31m│\u001b[0m                                                                                                  \u001b[31m│\u001b[0m\n",
       "\u001b[31m│\u001b[0m \u001b[2;33m/opt/conda/envs/bayes3d/lib/python3.9/site-packages/jax/_src/\u001b[0m\u001b[1;33mcore.py\u001b[0m:\u001b[94m388\u001b[0m in \u001b[92mbind_with_trace\u001b[0m      \u001b[31m│\u001b[0m\n",
       "\u001b[31m│\u001b[0m                                                                                                  \u001b[31m│\u001b[0m\n",
       "\u001b[31m│\u001b[0m \u001b[2;33m/opt/conda/envs/bayes3d/lib/python3.9/site-packages/jax/_src/\u001b[0m\u001b[1;33mcore.py\u001b[0m:\u001b[94m868\u001b[0m in \u001b[92mprocess_primitive\u001b[0m    \u001b[31m│\u001b[0m\n",
       "\u001b[31m│\u001b[0m                                                                                                  \u001b[31m│\u001b[0m\n",
       "\u001b[31m│\u001b[0m \u001b[2;33m/opt/conda/envs/bayes3d/lib/python3.9/site-packages/jax/_src/\u001b[0m\u001b[1;33mpjit.py\u001b[0m:\u001b[94m1212\u001b[0m in \u001b[92m_pjit_call_impl\u001b[0m     \u001b[31m│\u001b[0m\n",
       "\u001b[31m│\u001b[0m                                                                                                  \u001b[31m│\u001b[0m\n",
       "\u001b[31m│\u001b[0m \u001b[2;33m/opt/conda/envs/bayes3d/lib/python3.9/site-packages/jax/_src/\u001b[0m\u001b[1;33mpjit.py\u001b[0m:\u001b[94m1196\u001b[0m in                     \u001b[31m│\u001b[0m\n",
       "\u001b[31m│\u001b[0m \u001b[92mcall_impl_cache_miss\u001b[0m                                                                             \u001b[31m│\u001b[0m\n",
       "\u001b[31m│\u001b[0m                                                                                                  \u001b[31m│\u001b[0m\n",
       "\u001b[31m│\u001b[0m \u001b[2;33m/opt/conda/envs/bayes3d/lib/python3.9/site-packages/jax/_src/\u001b[0m\u001b[1;33mpjit.py\u001b[0m:\u001b[94m1129\u001b[0m in                     \u001b[31m│\u001b[0m\n",
       "\u001b[31m│\u001b[0m \u001b[92m_pjit_call_impl_python\u001b[0m                                                                           \u001b[31m│\u001b[0m\n",
       "\u001b[31m│\u001b[0m                                                                                                  \u001b[31m│\u001b[0m\n",
       "\u001b[31m│\u001b[0m \u001b[2;33m/opt/conda/envs/bayes3d/lib/python3.9/site-packages/jax/_src/\u001b[0m\u001b[1;33mpjit.py\u001b[0m:\u001b[94m1260\u001b[0m in \u001b[92m_pjit_lower\u001b[0m         \u001b[31m│\u001b[0m\n",
       "\u001b[31m│\u001b[0m                                                                                                  \u001b[31m│\u001b[0m\n",
       "\u001b[31m│\u001b[0m \u001b[2;33m/opt/conda/envs/bayes3d/lib/python3.9/site-packages/jax/_src/\u001b[0m\u001b[1;33mpjit.py\u001b[0m:\u001b[94m1299\u001b[0m in \u001b[92m_pjit_lower_cached\u001b[0m  \u001b[31m│\u001b[0m\n",
       "\u001b[31m│\u001b[0m                                                                                                  \u001b[31m│\u001b[0m\n",
       "\u001b[31m│\u001b[0m \u001b[2;33m/opt/conda/envs/bayes3d/lib/python3.9/site-packages/jax/_src/\u001b[0m\u001b[1;33mprofiler.py\u001b[0m:\u001b[94m340\u001b[0m in \u001b[92mwrapper\u001b[0m          \u001b[31m│\u001b[0m\n",
       "\u001b[31m│\u001b[0m                                                                                                  \u001b[31m│\u001b[0m\n",
       "\u001b[31m│\u001b[0m \u001b[2;33m/opt/conda/envs/bayes3d/lib/python3.9/site-packages/jax/_src/interpreters/\u001b[0m\u001b[1;33mpxla.py\u001b[0m:\u001b[94m2031\u001b[0m in        \u001b[31m│\u001b[0m\n",
       "\u001b[31m│\u001b[0m \u001b[92mlower_sharding_computation\u001b[0m                                                                       \u001b[31m│\u001b[0m\n",
       "\u001b[31m│\u001b[0m                                                                                                  \u001b[31m│\u001b[0m\n",
       "\u001b[31m│\u001b[0m \u001b[2;33m/opt/conda/envs/bayes3d/lib/python3.9/site-packages/jax/_src/interpreters/\u001b[0m\u001b[1;33mpxla.py\u001b[0m:\u001b[94m1832\u001b[0m in        \u001b[31m│\u001b[0m\n",
       "\u001b[31m│\u001b[0m \u001b[92m_cached_lowering_to_hlo\u001b[0m                                                                          \u001b[31m│\u001b[0m\n",
       "\u001b[31m│\u001b[0m                                                                                                  \u001b[31m│\u001b[0m\n",
       "\u001b[31m│\u001b[0m \u001b[2;33m/opt/conda/envs/bayes3d/lib/python3.9/site-packages/jax/_src/interpreters/\u001b[0m\u001b[1;33mmlir.py\u001b[0m:\u001b[94m810\u001b[0m in         \u001b[31m│\u001b[0m\n",
       "\u001b[31m│\u001b[0m \u001b[92mlower_jaxpr_to_module\u001b[0m                                                                            \u001b[31m│\u001b[0m\n",
       "\u001b[31m│\u001b[0m                                                                                                  \u001b[31m│\u001b[0m\n",
       "\u001b[31m│\u001b[0m \u001b[2;33m/opt/conda/envs/bayes3d/lib/python3.9/site-packages/jax/_src/interpreters/\u001b[0m\u001b[1;33mmlir.py\u001b[0m:\u001b[94m1216\u001b[0m in        \u001b[31m│\u001b[0m\n",
       "\u001b[31m│\u001b[0m \u001b[92mlower_jaxpr_to_fun\u001b[0m                                                                               \u001b[31m│\u001b[0m\n",
       "\u001b[31m│\u001b[0m                                                                                                  \u001b[31m│\u001b[0m\n",
       "\u001b[31m│\u001b[0m \u001b[2;33m/opt/conda/envs/bayes3d/lib/python3.9/site-packages/jax/_src/interpreters/\u001b[0m\u001b[1;33mmlir.py\u001b[0m:\u001b[94m1433\u001b[0m in        \u001b[31m│\u001b[0m\n",
       "\u001b[31m│\u001b[0m \u001b[92mjaxpr_subcomp\u001b[0m                                                                                    \u001b[31m│\u001b[0m\n",
       "\u001b[31m│\u001b[0m                                                                                                  \u001b[31m│\u001b[0m\n",
       "\u001b[31m│\u001b[0m \u001b[2;33m/opt/conda/envs/bayes3d/lib/python3.9/site-packages/jax/_src/interpreters/\u001b[0m\u001b[1;33mmlir.py\u001b[0m:\u001b[94m1618\u001b[0m in        \u001b[31m│\u001b[0m\n",
       "\u001b[31m│\u001b[0m \u001b[92mf_lowered\u001b[0m                                                                                        \u001b[31m│\u001b[0m\n",
       "\u001b[31m│\u001b[0m                                                                                                  \u001b[31m│\u001b[0m\n",
       "\u001b[31m│\u001b[0m \u001b[2;33m/opt/conda/envs/bayes3d/lib/python3.9/site-packages/jax/_src/interpreters/\u001b[0m\u001b[1;33mmlir.py\u001b[0m:\u001b[94m1433\u001b[0m in        \u001b[31m│\u001b[0m\n",
       "\u001b[31m│\u001b[0m \u001b[92mjaxpr_subcomp\u001b[0m                                                                                    \u001b[31m│\u001b[0m\n",
       "\u001b[31m│\u001b[0m                                                                                                  \u001b[31m│\u001b[0m\n",
       "\u001b[31m│\u001b[0m \u001b[2;33m/opt/conda/envs/bayes3d/lib/python3.9/site-packages/jax/_src/lax/control_flow/\u001b[0m\u001b[1;33mloops.py\u001b[0m:\u001b[94m1672\u001b[0m in   \u001b[31m│\u001b[0m\n",
       "\u001b[31m│\u001b[0m \u001b[92m_while_lowering\u001b[0m                                                                                  \u001b[31m│\u001b[0m\n",
       "\u001b[31m│\u001b[0m                                                                                                  \u001b[31m│\u001b[0m\n",
       "\u001b[31m│\u001b[0m \u001b[2;33m/opt/conda/envs/bayes3d/lib/python3.9/site-packages/jax/_src/interpreters/\u001b[0m\u001b[1;33mmlir.py\u001b[0m:\u001b[94m1433\u001b[0m in        \u001b[31m│\u001b[0m\n",
       "\u001b[31m│\u001b[0m \u001b[92mjaxpr_subcomp\u001b[0m                                                                                    \u001b[31m│\u001b[0m\n",
       "\u001b[31m│\u001b[0m                                                                                                  \u001b[31m│\u001b[0m\n",
       "\u001b[31m│\u001b[0m \u001b[2;33m/opt/conda/envs/bayes3d/lib/python3.9/site-packages/jax/_src/lax/\u001b[0m\u001b[1;33mlax.py\u001b[0m:\u001b[94m2287\u001b[0m in                  \u001b[31m│\u001b[0m\n",
       "\u001b[31m│\u001b[0m \u001b[92m_compare_lower_hlo\u001b[0m                                                                               \u001b[31m│\u001b[0m\n",
       "\u001b[31m│\u001b[0m                                                                                                  \u001b[31m│\u001b[0m\n",
       "\u001b[31m│\u001b[0m \u001b[2;33m/opt/conda/envs/bayes3d/lib/python3.9/site-packages/jax/_src/interpreters/\u001b[0m\u001b[1;33mmlir.py\u001b[0m:\u001b[94m1890\u001b[0m in        \u001b[31m│\u001b[0m\n",
       "\u001b[31m│\u001b[0m \u001b[92mcompare_hlo\u001b[0m                                                                                      \u001b[31m│\u001b[0m\n",
       "\u001b[31m╰──────────────────────────────────────────────────────────────────────────────────────────────────╯\u001b[0m\n",
       "\u001b[1;91mKeyboardInterrupt\u001b[0m\n"
      ]
     },
     "metadata": {},
     "output_type": "display_data"
    }
   ],
   "source": [
    "subkey = jax.random.split(subkey, 5446)[0]\n",
    "subkey = jax.random.PRNGKey(5436456)\n",
    "chm = genjax.choice_map(\n",
    "    {\"depths\" : genjax.vector_choice_map(\n",
    "        genjax.choice_map({\n",
    "            \"depths\":gt_trace.get_choices()[\"depths\", \"depths\"]\n",
    "        })\n",
    "    ),\n",
    "    \"variance\": 0.0001,\n",
    "    \"outlier_prob\": 0.0001}\n",
    ")\n",
    "# chm = genjax.vector_choice_map(genjax.choice_map({(\"depths\", \"depths\"):gt_trace.get_choices()[\"depths\", \"depths\"]}))\n",
    "w,trace = model_single_object_importance_jit(subkey, chm, (jnp.zeros(T), jnp.float32(1000.0), jnp.float32(1.0)))\n",
    "w"
   ]
  },
  {
   "cell_type": "code",
   "execution_count": 12,
   "metadata": {},
   "outputs": [
    {
     "data": {
      "text/html": [
       "<pre style=\"white-space:pre;overflow-x:auto;line-height:normal;font-family:Menlo,'DejaVu Sans Mono',consolas,'Courier New',monospace\"><span style=\"color: #800000; text-decoration-color: #800000\">╭─────────────────────────────── </span><span style=\"color: #800000; text-decoration-color: #800000; font-weight: bold\">Traceback </span><span style=\"color: #bf7f7f; text-decoration-color: #bf7f7f; font-weight: bold\">(most recent call last)</span><span style=\"color: #800000; text-decoration-color: #800000\"> ────────────────────────────────╮</span>\n",
       "<span style=\"color: #800000; text-decoration-color: #800000\">│</span> in <span style=\"color: #00ff00; text-decoration-color: #00ff00\">&lt;module&gt;</span>:<span style=\"color: #0000ff; text-decoration-color: #0000ff\">1</span>                                                                                    <span style=\"color: #800000; text-decoration-color: #800000\">│</span>\n",
       "<span style=\"color: #800000; text-decoration-color: #800000\">│</span>                                                                                                  <span style=\"color: #800000; text-decoration-color: #800000\">│</span>\n",
       "<span style=\"color: #800000; text-decoration-color: #800000\">│</span> <span style=\"color: #800000; text-decoration-color: #800000\">❱ </span>1 display_video(video_from_trace(trace, <span style=\"color: #0000ff; text-decoration-color: #0000ff\">4</span>, use_retval = <span style=\"color: #0000ff; text-decoration-color: #0000ff\">True</span>),  framerate=<span style=\"color: #0000ff; text-decoration-color: #0000ff\">24</span>)                  <span style=\"color: #800000; text-decoration-color: #800000\">│</span>\n",
       "<span style=\"color: #800000; text-decoration-color: #800000\">│</span>   <span style=\"color: #7f7f7f; text-decoration-color: #7f7f7f\">2 </span>                                                                                             <span style=\"color: #800000; text-decoration-color: #800000\">│</span>\n",
       "<span style=\"color: #800000; text-decoration-color: #800000\">╰──────────────────────────────────────────────────────────────────────────────────────────────────╯</span>\n",
       "<span style=\"color: #ff0000; text-decoration-color: #ff0000; font-weight: bold\">NameError: </span>name <span style=\"color: #008000; text-decoration-color: #008000\">'trace'</span> is not defined\n",
       "</pre>\n"
      ],
      "text/plain": [
       "\u001b[31m╭─\u001b[0m\u001b[31m──────────────────────────────\u001b[0m\u001b[31m \u001b[0m\u001b[1;31mTraceback \u001b[0m\u001b[1;2;31m(most recent call last)\u001b[0m\u001b[31m \u001b[0m\u001b[31m───────────────────────────────\u001b[0m\u001b[31m─╮\u001b[0m\n",
       "\u001b[31m│\u001b[0m in \u001b[92m<module>\u001b[0m:\u001b[94m1\u001b[0m                                                                                    \u001b[31m│\u001b[0m\n",
       "\u001b[31m│\u001b[0m                                                                                                  \u001b[31m│\u001b[0m\n",
       "\u001b[31m│\u001b[0m \u001b[31m❱ \u001b[0m1 display_video(video_from_trace(trace, \u001b[94m4\u001b[0m, use_retval = \u001b[94mTrue\u001b[0m),  framerate=\u001b[94m24\u001b[0m)                  \u001b[31m│\u001b[0m\n",
       "\u001b[31m│\u001b[0m   \u001b[2m2 \u001b[0m                                                                                             \u001b[31m│\u001b[0m\n",
       "\u001b[31m╰──────────────────────────────────────────────────────────────────────────────────────────────────╯\u001b[0m\n",
       "\u001b[1;91mNameError: \u001b[0mname \u001b[32m'trace'\u001b[0m is not defined\n"
      ]
     },
     "metadata": {},
     "output_type": "display_data"
    }
   ],
   "source": [
    "display_video(video_from_trace(trace, 4, use_retval = True),  framerate=24)"
   ]
  },
  {
   "cell_type": "code",
   "execution_count": 12,
   "metadata": {},
   "outputs": [],
   "source": [
    "# viz_images = []\n",
    "# max_depth = 10.0\n",
    "\n",
    "# # inferred_poses_with_occ = jnp.stack([inferred_poses, occ1_poses], axis = 1)\n",
    "# occ_image = b.viz.get_depth_image(b.RENDERER.render(occ1_pose[None,...], jnp.array([1]))[:,:,2])\n",
    "\n",
    "# pred_images = b.RENDERER.render_many(inferred_poses[:,None, ...], jnp.array([0]))\n",
    "\n",
    "# pred_with_occ_images = [b.overlay_image(b.viz.get_depth_image(pred_images[i,:,:,2]), \n",
    "# occ_image, alpha=0.4) for i in range(pred_images.shape[0])]\n",
    "\n",
    "# gt_images = b.RENDERER.render_many(gt_poses[:,None, ...], jnp.array([0]))\n",
    "# gt_with_occ_images = [b.overlay_image(b.viz.get_depth_image(gt_images[i,:,:,2]), \n",
    "# occ_image, alpha=0.5) for i in range(pred_images.shape[0])]\n",
    "\n",
    "# viz_images = [\n",
    "#     b.viz.multi_panel(\n",
    "#         [g, b.viz.get_depth_image(p[:,:,2]), po],\n",
    "#         labels = [\"Ground Truth\", \"Reconstruction w/o Occluder\", \"Reconstruction w Occluder\"],\n",
    "#         title = \"Scene 11A\",\n",
    "#         # bottom_text = \"3DP3 + Physics Prior v1\"\n",
    "#     )\n",
    "#     for (g, p, po) in zip(gt_with_occ_images, pred_images, pred_with_occ_images)\n",
    "# ]\n",
    "# display_video(viz_images)"
   ]
  },
  {
   "cell_type": "code",
   "execution_count": 11,
   "metadata": {},
   "outputs": [],
   "source": [
    "imp = genjax.inference.importance_sampling.sampling_importance_resampling(model_single_object, 100)\n",
    "(tr, lnw, log_ml_estimate) = imp.apply(subkey, chm, (jnp.zeros(T), jnp.float32(1000.0), jnp.float32(1.0)))"
   ]
  },
  {
   "cell_type": "code",
   "execution_count": 12,
   "metadata": {},
   "outputs": [
    {
     "name": "stderr",
     "output_type": "stream",
     "text": [
      "/tmp/ipykernel_2637/736626789.py:25: MatplotlibDeprecationWarning: Auto-close()ing of figures upon backend switching is deprecated since 3.8 and will be removed two minor releases later.  To suppress this warning, explicitly call plt.close('all') first.\n",
      "  matplotlib.use(orig_backend)  # Switch back to the original backend.\n"
     ]
    },
    {
     "data": {
      "text/html": [
       "<pre style=\"white-space:pre;overflow-x:auto;line-height:normal;font-family:Menlo,'DejaVu Sans Mono',consolas,'Courier New',monospace\"></pre>\n"
      ],
      "text/plain": []
     },
     "metadata": {},
     "output_type": "display_data"
    },
    {
     "data": {
      "text/html": [
       "<video width=\"200\" height=\"200\" controls autoplay loop>\n",
       "  <source type=\"video/mp4\" src=\"data:video/mp4;base64,AAAAIGZ0eXBNNFYgAAACAE00ViBpc29taXNvMmF2YzEAAAAIZnJlZQAACxhtZGF0AAACrgYF//+q\n",
       "3EXpvebZSLeWLNgg2SPu73gyNjQgLSBjb3JlIDE2MCByMzAxMSBjZGU5YTkzIC0gSC4yNjQvTVBF\n",
       "Ry00IEFWQyBjb2RlYyAtIENvcHlsZWZ0IDIwMDMtMjAyMCAtIGh0dHA6Ly93d3cudmlkZW9sYW4u\n",
       "b3JnL3gyNjQuaHRtbCAtIG9wdGlvbnM6IGNhYmFjPTEgcmVmPTMgZGVibG9jaz0xOjA6MCBhbmFs\n",
       "eXNlPTB4MzoweDExMyBtZT1oZXggc3VibWU9NyBwc3k9MSBwc3lfcmQ9MS4wMDowLjAwIG1peGVk\n",
       "X3JlZj0xIG1lX3JhbmdlPTE2IGNocm9tYV9tZT0xIHRyZWxsaXM9MSA4eDhkY3Q9MSBjcW09MCBk\n",
       "ZWFkem9uZT0yMSwxMSBmYXN0X3Bza2lwPTEgY2hyb21hX3FwX29mZnNldD0tMiB0aHJlYWRzPTYg\n",
       "bG9va2FoZWFkX3RocmVhZHM9MSBzbGljZWRfdGhyZWFkcz0wIG5yPTAgZGVjaW1hdGU9MSBpbnRl\n",
       "cmxhY2VkPTAgYmx1cmF5X2NvbXBhdD0wIGNvbnN0cmFpbmVkX2ludHJhPTAgYmZyYW1lcz0zIGJf\n",
       "cHlyYW1pZD0yIGJfYWRhcHQ9MSBiX2JpYXM9MCBkaXJlY3Q9MSB3ZWlnaHRiPTEgb3Blbl9nb3A9\n",
       "MCB3ZWlnaHRwPTIga2V5aW50PTI1MCBrZXlpbnRfbWluPTI0IHNjZW5lY3V0PTQwIGludHJhX3Jl\n",
       "ZnJlc2g9MCByY19sb29rYWhlYWQ9NDAgcmM9Y3JmIG1idHJlZT0xIGNyZj0yMy4wIHFjb21wPTAu\n",
       "NjAgcXBtaW49MCBxcG1heD02OSBxcHN0ZXA9NCBpcF9yYXRpbz0xLjQwIGFxPTE6MS4wMACAAAAB\n",
       "kGWIhAA7//7jq/gU13pccwiwTgx90Y0/PFJds8hM3HK/+B5E+55pDBTq/TbwB/l5VccTrewCOm1z\n",
       "HvttvVmwpT1yOm1yClAF/pledMYhzXIzvXybAZ1PuGM4KAneLt48fby1GHG9ixOtT+zOKNJI88EI\n",
       "2NltSeZdRnq9jVTDW6In+ZN7307spyvGPC8lMC/ItYw5VEN1ulDboSovV114uBl6eQv+IiralBkh\n",
       "QLKUs/7rLAorXav1gUFXdu7GqfPgh9m7li/7Rt1h1TqsWBuYKeqWJ4aCQgbtKpzWzLSqtL5SbXCo\n",
       "QIG5nmWLLTMiNSN5ODxohgDl3IGtoKDqybbYC8YQXxfMZBhMzy/4614HlTPXpGeqKMpBhjgyTj7p\n",
       "XfoB3hrGRK56kOQ97bfqh4eKVWo8/WuUU6Mz6Lsl7WGYryYQV6z+Fodniv4xyTM0gUppVvZTpqay\n",
       "m7LGxV+o6CXjNEW6xENl7eCdvZnBAxhtQBZC1klgNyh9eE/ilkF9AAHIQHUHBZFnvrB7zncAAAMA\n",
       "EtEAAADfQZokbEN//qeDFRhkt3yjAFPPwMtuHZgXZLyQAU2yaIT++LZ6g0f+Tbe+mp3DuZUS8Xl7\n",
       "Ng+l+wX075PE/b3lDEK013BZE8eFx67OvGNW95LJDar5PP3O0ddR3nTzrlDIR99ffHTF4fCMCDNV\n",
       "ioepUZtaSdHC5uizMhwuINKNyZ7tT6rRxan5xdRmX5xViIiLvr0qKGCHrgemufkizH7h7KBq4Bq4\n",
       "GWElHNE/rLUMX4MeZd9A5M4fujeZ/9EfHbMI48olNg5TcqTsqRdBniCufolUcdeYpxgylLyDyay9\n",
       "gAAAAIxBnkJ4hf8ZHj+PMfucgOtjUARY3EkotLlm+Yy8i5DowEQka/tQ88awZYrJvT7SXZXFF5yV\n",
       "US02Hzm7oP5emcdM2D84AxmxcG8vCFYo4aqgjHZ5O+Ju6XelNKCynPPrpsZv3+9o12BZyJxpUKtZ\n",
       "VyhHwuGwy1s0eTHG8iIx8HqbhNYbeAj+BCi2Au+KUwAAAI4BnmF0Qr8giY8ZLbTK+ALrU9OSOsdI\n",
       "zk2DftaSBJEoKJHWkHPSDfXbSTfvqJc/6IXvTglH+7S1XnKH3rxv2jPL/82YLH0dKa5T2ylg3XHC\n",
       "cxZSOvZh+d6ybNlABabK9AD0mC7eOxlH5RjIXEFSmLAD0WuCKBpBRSF98oHehiMWR3DG9R+2+Fb4\n",
       "Dw4he0jAAAAATgGeY2pCvyDVcUoZAWAIyL9WywX24hUTYGTU/cCdx7mQQDmhKrXuNrk1/zTv6duA\n",
       "OoB+bR6xZ4Gk9ZH5LEy0r7IhhYEl5kYyIydwKTugdQAAAN5BmmdJqEFomUwIZ//+k3tGgIrK1GQB\n",
       "9nMK8hGkjuHe44t+7vDIX22FkZmj6UAYaO/X35ISITj+jbbXkbPhMb5Fam3slwTmR461YytVkVzX\n",
       "ipoqyiVq7tBbgn9h1eW6Smnt/8nRiU1e1vkdQR7hZx8sZd1XEt/qrY6SWbriP3hxidX/mVAv7KPO\n",
       "eBYbWsn54jQMLvtZRIUqfp57mnEZtmB1Le2LzXVZILHoyFdedCT5iJvuy+JS10MQkJEm8RY20pGW\n",
       "4ecBrMIKuUHMERcFcghcRhcJHdXgg8QycmtBqm0AAAC8QZ6FRREsK/8vEuBkmMDuz/sQHWH9UDhn\n",
       "9kMtnm/esmkjrg2QkvZ7NyFtlXpSpABAyndOjKDaqxD2QqE49uWknvelZEiKkkvsUtnZ5xse8P8L\n",
       "RRdB1jyDE7xtF9kCPCivNRmNm05CKDZ/O1votu5wpYAZHJUf9vNETyGemqXgFxuRN+LGi+sbK5PS\n",
       "uYx1uHxQ4Hh9xWyRQztAyEM++ZwmL8gvgtkC5ydkj2MeUoUDtSUJf96c3B1HSKeZHXUAAACIAZ6m\n",
       "akK/JtqzszAYtmrwHZgIWJd/RYbkvXsTuVe6kvsz/68nR1+YAch9ZmCk4cptOpFYMYargS1SpLTg\n",
       "ZwQJA3q1RV+qNc6zfe3CGMYzGmLkowz5U9jdw8a6ri7ncO0U4p7pJuv3rgEjfbSLR4a0JehjLC+v\n",
       "hqD0LzbjckM2LC5nI+pGQ0FXgQAAAOpBmqpJqEFsmUwIV//95U/9tQAjU4WVwnEWICLC2Md2TyM0\n",
       "esfANPCzA6JNpkBQ/W2SwWEQ58Qfue4Ms6MW4oz92FE/4YR+8ji0/qeLIB8PHDtDDKYIr1ezcSOe\n",
       "Zm2F1di48RvS0RfalNfbMETeqshNh3S/Jz0fhLT9/i3FxjX8v6tj1v53sHK4RsGBmBtoIw/Nh2H3\n",
       "HdBGn4HovJTH0q8tnnSGwUiYJCc/4xPyqmz6MWCyJDGyoJy4MeS+vpve2Yu3gllOcYv65HUwVngp\n",
       "mTJAdjsZ08PHxS5fzcLRS8ho71D606qQdPAAvtAAAACmQZ7IRRUsK/9GxkVSIIZpIAAjU49melGZ\n",
       "siKr0iHcZzdJNXYOeU+t8HV2GYzc6SBO/tHojflUhWVkNZQGFVqhOc4+mFVlXQPJPL0pAznbkxwS\n",
       "61fXuLjDH/QViEM0hZGHWTPiFOvdAaTti1NSE/3IzJQDnGcMruvIQ9N0AAwpcue0fOJ1oDbjY65w\n",
       "MLm+3hLCmieEW8p/uZl9fOPA/hKqgw+57Xb8NgAAAKkBnulqQr9GxeehUWHEAluW05I9BHAAXvn3\n",
       "4JUBV40kfLWMha97t9Stb98yrp5XtdXtJCxIjNvZA5sE9LxH8mmBbyaOuDxL5Iz92YhKIaDPz2z7\n",
       "/OTFeBygV2XxAhPrzllVywqc+IdSQaRQVtLbCwAdXGXA0KzbqxxUO2zjhd8iqKUmveZIbTa8De5T\n",
       "SIIk2AW50Rzoj3MNWpWGZ4HLEg83WC49cKVAlgOBAAADp21vb3YAAABsbXZoZAAAAAAAAAAAAAAA\n",
       "AAAAA+gAAAHLAAEAAAEAAAAAAAAAAAAAAAABAAAAAAAAAAAAAAAAAAAAAQAAAAAAAAAAAAAAAAAA\n",
       "QAAAAAAAAAAAAAAAAAAAAAAAAAAAAAAAAAAAAAAAAAIAAALRdHJhawAAAFx0a2hkAAAAAwAAAAAA\n",
       "AAAAAAAAAQAAAAAAAAHLAAAAAAAAAAAAAAAAAAAAAAABAAAAAAAAAAAAAAAAAAAAAQAAAAAAAAAA\n",
       "AAAAAAAAQAAAAADIAAAAyAAAAAAAJGVkdHMAAAAcZWxzdAAAAAAAAAABAAABywAABAAAAQAAAAAC\n",
       "SW1kaWEAAAAgbWRoZAAAAAAAAAAAAAAAAAAAMAAAABYAVcQAAAAAAC1oZGxyAAAAAAAAAAB2aWRl\n",
       "AAAAAAAAAAAAAAAAVmlkZW9IYW5kbGVyAAAAAfRtaW5mAAAAFHZtaGQAAAABAAAAAAAAAAAAAAAk\n",
       "ZGluZgAAABxkcmVmAAAAAAAAAAEAAAAMdXJsIAAAAAEAAAG0c3RibAAAALhzdHNkAAAAAAAAAAEA\n",
       "AACoYXZjMQAAAAAAAAABAAAAAAAAAAAAAAAAAAAAAADIAMgASAAAAEgAAAAAAAAAAQAAAAAAAAAA\n",
       "AAAAAAAAAAAAAAAAAAAAAAAAAAAAAAAAABj//wAAADZhdmNDAWQADP/hABlnZAAMrNlDRvllhAAA\n",
       "AwAEAAADAMA8UKZYAQAGaOvjyyLA/fj4AAAAABx1dWlka2hA8l8kT8W6OaUbzwMj8wAAAAAAAAAY\n",
       "c3R0cwAAAAAAAAABAAAACwAAAgAAAAAUc3RzcwAAAAAAAAABAAAAAQAAAFhjdHRzAAAAAAAAAAkA\n",
       "AAABAAAEAAAAAAEAAAoAAAAAAQAABAAAAAABAAAAAAAAAAEAAAIAAAAAAQAACAAAAAACAAACAAAA\n",
       "AAEAAAgAAAAAAgAAAgAAAAAcc3RzYwAAAAAAAAABAAAAAQAAAAsAAAABAAAAQHN0c3oAAAAAAAAA\n",
       "AAAAAAsAAARGAAAA4wAAAJAAAACSAAAAUgAAAOIAAADAAAAAjAAAAO4AAACqAAAArQAAABRzdGNv\n",
       "AAAAAAAAAAEAAAAwAAAAYnVkdGEAAABabWV0YQAAAAAAAAAhaGRscgAAAAAAAAAAbWRpcmFwcGwA\n",
       "AAAAAAAAAAAAAAAtaWxzdAAAACWpdG9vAAAAHWRhdGEAAAABAAAAAExhdmY1OC40NS4xMDA=\n",
       "\">\n",
       "  Your browser does not support the video tag.\n",
       "</video>"
      ],
      "text/plain": [
       "\u001b[1m<\u001b[0m\u001b[1;95mIPython.core.display.HTML\u001b[0m\u001b[39m object\u001b[0m\u001b[1m>\u001b[0m"
      ]
     },
     "execution_count": 12,
     "metadata": {},
     "output_type": "execute_result"
    }
   ],
   "source": [
    "display_video(video_from_trace(tr, 4, use_retval = True),  framerate=24)"
   ]
  },
  {
   "cell_type": "code",
   "execution_count": 13,
   "metadata": {},
   "outputs": [
    {
     "data": {
      "text/html": [
       "<pre style=\"white-space:pre;overflow-x:auto;line-height:normal;font-family:Menlo,'DejaVu Sans Mono',consolas,'Courier New',monospace\"></pre>\n"
      ],
      "text/plain": []
     },
     "metadata": {},
     "output_type": "display_data"
    },
    {
     "data": {
      "text/plain": [
       "\u001b[1;35mArray\u001b[0m\u001b[1m(\u001b[0m\u001b[1;36m43208.86\u001b[0m, \u001b[33mdtype\u001b[0m=\u001b[35mfloat32\u001b[0m\u001b[1m)\u001b[0m"
      ]
     },
     "execution_count": 13,
     "metadata": {},
     "output_type": "execute_result"
    }
   ],
   "source": [
    "tr.get_score()"
   ]
  },
  {
   "cell_type": "code",
   "execution_count": 14,
   "metadata": {},
   "outputs": [
    {
     "data": {
      "text/html": [
       "<pre style=\"white-space:pre;overflow-x:auto;line-height:normal;font-family:Menlo,'DejaVu Sans Mono',consolas,'Courier New',monospace\"></pre>\n"
      ],
      "text/plain": []
     },
     "metadata": {},
     "output_type": "display_data"
    },
    {
     "data": {
      "text/plain": [
       "\u001b[1;35mArray\u001b[0m\u001b[1m(\u001b[0m\u001b[1;36m42709.805\u001b[0m, \u001b[33mdtype\u001b[0m=\u001b[35mfloat32\u001b[0m\u001b[1m)\u001b[0m"
      ]
     },
     "execution_count": 14,
     "metadata": {},
     "output_type": "execute_result"
    }
   ],
   "source": [
    "T = 5\n",
    "pose_bounds = jnp.array([[-0.1,-0.1,1.5],[0.1,0.1,2]])\n",
    "key = jax.random.PRNGKey(31415)\n",
    "weight, gt_trace = model_v1_importance_jit(key, genjax.choice_map({\n",
    "    \"variance\": 0.0001,\n",
    "    \"outlier_prob\": 0.0001,\n",
    "    \"indices\" : jnp.array([23])\n",
    "}), (jnp.zeros(T), jnp.arange(len(b.RENDERER.meshes)), jnp.zeros(1),\n",
    "b.RENDERER.model_box_dims, pose_bounds, jnp.float32(1000.0), jnp.float32(1.0)))"
   ]
  },
  {
   "cell_type": "code",
   "execution_count": null,
   "metadata": {},
   "outputs": [],
   "source": [
    "model_simulate_jit = eval(\"model_v{}_simulate_jit\".format(metadata[\"model_version\"]))\n",
    "model_importance_jit = eval(\"model_v{}_importance_jit\".format(metadata[\"model_version\"]))"
   ]
  }
 ],
 "metadata": {
  "kernelspec": {
   "display_name": "bayes3d",
   "language": "python",
   "name": "python3"
  },
  "language_info": {
   "codemirror_mode": {
    "name": "ipython",
    "version": 3
   },
   "file_extension": ".py",
   "mimetype": "text/x-python",
   "name": "python",
   "nbconvert_exporter": "python",
   "pygments_lexer": "ipython3",
   "version": "3.9.18"
  },
  "orig_nbformat": 4
 },
 "nbformat": 4,
 "nbformat_minor": 2
}
