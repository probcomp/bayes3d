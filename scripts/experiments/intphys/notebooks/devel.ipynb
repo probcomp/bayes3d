{
 "cells": [
  {
   "cell_type": "code",
   "execution_count": 1,
   "metadata": {},
   "outputs": [],
   "source": [
    "import sys\n",
    "from functools import partial\n",
    "sys.path.append(\"../\")\n",
    "import genjax\n",
    "import numpy as np\n",
    "import bayes3d as b\n",
    "import jax.numpy as jnp\n",
    "import bayes3d.genjax\n",
    "import jax\n",
    "from utils import *\n",
    "from viz import *\n",
    "from models import *\n",
    "from renderer_setup import *\n",
    "from genjax.inference.importance_sampling import sampling_importance_resampling\n",
    "from genjax._src.core.transforms.incremental import NoChange\n",
    "from genjax._src.core.transforms.incremental import UnknownChange\n",
    "from genjax._src.core.transforms.incremental import Diff\n",
    "\n",
    "console = genjax.pretty()"
   ]
  },
  {
   "cell_type": "code",
   "execution_count": 2,
   "metadata": {},
   "outputs": [
    {
     "name": "stderr",
     "output_type": "stream",
     "text": [
      "[E rasterize_gl.cpp:121] OpenGL version reported as 4.6\n"
     ]
    },
    {
     "name": "stdout",
     "output_type": "stream",
     "text": [
      "Increasing frame buffer size to (width, height, depth) = (64, 64, 1024)\n"
     ]
    }
   ],
   "source": [
    "gt_path = \"../ground_truths/genjax_generated/scene_6.pkl\"\n",
    "metadata = load_metadata(gt_path)\n",
    "gt_images = metadata[\"rendered\"]\n",
    "model = eval(\"model_v{}\".format(metadata[\"model_version\"]))\n",
    "RENDERER_ARGS = metadata[\"RENDERER_ARGS\"]\n",
    "setup_renderer_and_meshes = eval(\"setup_renderer_and_meshes_v{}\".format(metadata[\"renderer_setup_version\"]))\n",
    "setup_renderer_and_meshes(**RENDERER_ARGS)"
   ]
  },
  {
   "cell_type": "code",
   "execution_count": 3,
   "metadata": {},
   "outputs": [],
   "source": [
    "def c2f_pose_update_v2(trace_, key, pose_grid, enumerator):\n",
    "    \n",
    "    scores = enumerator.enumerate_choices_get_scores(trace_, key, pose_grid)\n",
    "    return enumerator.update_choices(\n",
    "        trace_, key,\n",
    "        pose_grid[scores.argmax()]\n",
    "    )\n",
    "c2f_pose_update_v2_jit = jax.jit(c2f_pose_update_v2, static_argnames=(\"enumerator\",))"
   ]
  },
  {
   "cell_type": "code",
   "execution_count": 25,
   "metadata": {},
   "outputs": [],
   "source": [
    "def inference_approach_F(model, gt, metadata):\n",
    "    \"\"\"\n",
    "    2-step model with NO unfold\n",
    "    HMM-style\n",
    "    \"\"\"\n",
    "    # Use 3d translation and rotation grid\n",
    "    grid_widths = [0.2,0.1,0.05, 0.025, 0.0125]\n",
    "    grid_nums = [(3,3,3),(3,3,3),(3,3,3),(3,3,3),(3,3,3)]\n",
    "    gridding_schedule = make_schedule_3d(grid_widths,grid_nums, [-jnp.pi/12, jnp.pi/12],10,10,jnp.pi/40)\n",
    "\n",
    "    key = jax.random.PRNGKey(metadata[\"key_number\"]+71)\n",
    "    base_chm = genjax.choice_map(metadata[\"CHOICE_MAP_ARGS\"])\n",
    "    enumerator = b.make_enumerator([\"velocity\"])\n",
    "    pose = metadata[\"INIT_POSE\"]\n",
    "    velocity = metadata[\"INIT_VELOCITY\"]\n",
    "    T = metadata[\"T\"]\n",
    "    traces = []\n",
    "    model_args = metadata[\"MODEL_ARGS\"]\n",
    "\n",
    "    for t in range(1,T+1):\n",
    "        print(\"t = \", t)\n",
    "        # force new constaints values to take over\n",
    "        chm = base_chm.unsafe_merge(genjax.choice_map({\n",
    "            \"depth\" : gt[t]\n",
    "        }))\n",
    "\n",
    "        model_args[\"pose\"] = pose\n",
    "        model_args[\"velocity\"] = velocity\n",
    "        # RESORTING to model.importance as I am having issues with update and choicemaps with unfolds &/or maps\n",
    "        _, trace = model.importance(key, chm, tuple(model_args.values()))\n",
    "\n",
    "        # then update trace over all the proposals\n",
    "        for i, grid in enumerate(gridding_schedule):\n",
    "            # print(\"Grid #\",i+1)\n",
    "            trace = c2f_pose_update_v2_jit(trace, key, grid, enumerator)\n",
    "        pose, velocity = trace.get_retval()[1]\n",
    "        traces.append(trace)\n",
    "\n",
    "    # first gt image can be assumed to be known as we have the init pose\n",
    "    rendered = jnp.stack([gt[0]]+[tr.get_retval()[0] for tr in traces])\n",
    "    return traces, rendered"
   ]
  },
  {
   "cell_type": "code",
   "execution_count": 26,
   "metadata": {},
   "outputs": [
    {
     "name": "stdout",
     "output_type": "stream",
     "text": [
      "t =  1\n",
      "t =  2\n",
      "t =  3\n",
      "t =  4\n",
      "t =  5\n"
     ]
    }
   ],
   "source": [
    "trs, rendered = inference_approach_F(model, gt_images, metadata)"
   ]
  },
  {
   "cell_type": "code",
   "execution_count": 27,
   "metadata": {},
   "outputs": [
    {
     "name": "stdout",
     "output_type": "stream",
     "text": [
      "40454.742\n",
      "32882.62\n"
     ]
    }
   ],
   "source": [
    "print(np.sum(metadata[\"scores\"]))\n",
    "print(np.sum([tr.get_score() for tr in trs]))"
   ]
  },
  {
   "cell_type": "code",
   "execution_count": 28,
   "metadata": {},
   "outputs": [
    {
     "data": {
      "text/html": [
       "<pre style=\"white-space:pre;overflow-x:auto;line-height:normal;font-family:Menlo,'DejaVu Sans Mono',consolas,'Courier New',monospace\"></pre>\n"
      ],
      "text/plain": []
     },
     "metadata": {},
     "output_type": "display_data"
    },
    {
     "data": {
      "text/html": [
       "<video width=\"410\" height=\"260\" controls autoplay loop>\n",
       "  <source type=\"video/mp4\" src=\"data:video/mp4;base64,AAAAIGZ0eXBNNFYgAAACAE00ViBpc29taXNvMmF2YzEAAAAIZnJlZQAALoxtZGF0AAACrQYF//+p\n",
       "3EXpvebZSLeWLNgg2SPu73gyNjQgLSBjb3JlIDE2MCByMzAxMSBjZGU5YTkzIC0gSC4yNjQvTVBF\n",
       "Ry00IEFWQyBjb2RlYyAtIENvcHlsZWZ0IDIwMDMtMjAyMCAtIGh0dHA6Ly93d3cudmlkZW9sYW4u\n",
       "b3JnL3gyNjQuaHRtbCAtIG9wdGlvbnM6IGNhYmFjPTEgcmVmPTMgZGVibG9jaz0xOjA6MCBhbmFs\n",
       "eXNlPTB4MzoweDExMyBtZT1oZXggc3VibWU9NyBwc3k9MSBwc3lfcmQ9MS4wMDowLjAwIG1peGVk\n",
       "X3JlZj0xIG1lX3JhbmdlPTE2IGNocm9tYV9tZT0xIHRyZWxsaXM9MSA4eDhkY3Q9MSBjcW09MCBk\n",
       "ZWFkem9uZT0yMSwxMSBmYXN0X3Bza2lwPTEgY2hyb21hX3FwX29mZnNldD0tMiB0aHJlYWRzPTgg\n",
       "bG9va2FoZWFkX3RocmVhZHM9MSBzbGljZWRfdGhyZWFkcz0wIG5yPTAgZGVjaW1hdGU9MSBpbnRl\n",
       "cmxhY2VkPTAgYmx1cmF5X2NvbXBhdD0wIGNvbnN0cmFpbmVkX2ludHJhPTAgYmZyYW1lcz0zIGJf\n",
       "cHlyYW1pZD0yIGJfYWRhcHQ9MSBiX2JpYXM9MCBkaXJlY3Q9MSB3ZWlnaHRiPTEgb3Blbl9nb3A9\n",
       "MCB3ZWlnaHRwPTIga2V5aW50PTI1MCBrZXlpbnRfbWluPTUgc2NlbmVjdXQ9NDAgaW50cmFfcmVm\n",
       "cmVzaD0wIHJjX2xvb2thaGVhZD00MCByYz1jcmYgbWJ0cmVlPTEgY3JmPTIzLjAgcWNvbXA9MC42\n",
       "MCBxcG1pbj0wIHFwbWF4PTY5IHFwc3RlcD00IGlwX3JhdGlvPTEuNDAgYXE9MToxLjAwAIAAAA7G\n",
       "ZYiEABL//vet34FNwEDta7pXOLTLq5Q0PVH2lKZ4tkgAAAMAE9SWGMwofqu0GkAAa+Zf8RRN/iAa\n",
       "kZHr4S08u2Pc1WgxyA/rjRrAefiqFetlPky7FLBnuvwR3nA3fQABNvXsZyuYNHepOTQlyM03ImnR\n",
       "8Eue56CIhFAM/BowoNX96pbw/68KJ/FF/KSJ3Cesl7xaZ8MIw677jJI2DMra9reXd6pmb/kBNBb1\n",
       "gyP0GGSvjNaDdxXpNzupg1JKES/oreZH1TKAMGJhb30bzgmBnQmye8znePCj2hrq3Vbw+/v0LPvn\n",
       "0WKSE/vzUDlhA0fmPeow6u5a7+yFO+rNarUKiYfPHSp0H4HPaNrfwzLqFHxHX6UzoZsH9j93cJki\n",
       "grA814KaYMOeme2ol3EOqlpDds/JL6csxo83Zg/oMPuYlERZwsggWpTfwv/7dq7Q2H2Gg4iqrwgc\n",
       "G3teVYFUSLz+9HPW7WNljECVXaGMBBxIcZJ/uciyjuo4M5yLMv35zjsZXUeHXvAvypVtPIe2t4Kr\n",
       "lOh6r5EyQwrie4vGVi4mwMJVk/b2ZM4wMRsowsNzcB6q4wFp4Pdnwjz79AkBrBtCc+r884xOFB6r\n",
       "38keVAyICXclohhDuVVORelNfy+thrTJ96gfc0fe/ST2goQaPmxWDTYUpG/OK0EFwdWUnS0VUXrw\n",
       "VNeS2jHJCnUHe//B+DnrLk6EyhgE4sZWIjrFBYOjQjtUibJWukCrw1JhyfJPRCjCEDQbRlXqh4R2\n",
       "qHt+RC657LqGYB8QtYBs7I+XVfF9lCfpzd+2uWmuQtjc320DVQx23TaFtRD9ikWUJlzWAHoNEnJ9\n",
       "Lfor/d9+Wd5u0TROrl1pUZ7+zHRpnIiu2tQcv/+JDMFygao4hp81ArA9vQLpiJjXW8cVVk2z28Q3\n",
       "+MEBosDelN46LmK+ldKQohawwWok1e9KfBHHJe36umkq0FW19D/u9YsD1JqqxhrIoJjULjKFMFGu\n",
       "0wEKq2hxZDBWNieXtmLhBtLs44wUW2rOZRZ8/lktU6dHY0BMxzTnRmTf5Z7JxA6pAguULYpDR24g\n",
       "0BBjO94Nbfgyrun++slALaKX/9QzXbSsEtluIQee0aBldLNpEHrHYQWfyr9BIPx0yNhPUQAsxea7\n",
       "ZY7CRLwy6+HGcKhcwfLykiXvdam7A4R+IEXh8o8ezF3RkYJdbwNreIY1Lb2pzJz3XvuX6Jaa7iiY\n",
       "hLJrNbdaeKvvquxqs16jXeXipa0CZvlMQvkgKNFHfk7IzCaApI7ocpQPwAXzhGXZBHR3vMFRdVS1\n",
       "y/Ru1jr95bcgkz1ZGezgI2kw8rRB1QzMRacNyHZKFQ/2e7qtk3J+hA5iNV5zODhDghfRqqEM+ckJ\n",
       "v3kK0ck+Slrar28YTbF5MCNrZJlyA7TRaFLWs9TWYZJgzdSFQYw4MN+R0P2wYm53tZGKHLWoh+q9\n",
       "4i0UAtYFVr2P8R0pE2Ay4RlZbpml1ZkxzjwuPCeuBN/CiOW0HrYbS1Gi2ipSQz0ed9IT3HkySQEe\n",
       "Ts8AAkDwTSdPbaTjXJ16+6gEoB/tiiloMpFpzkCmJo0Ts19HKCanj2u2TLV4jJrk7X8IoMYrJeVs\n",
       "zqTvw1dQji7sV1tlE3f7kgYf4m/hGKIB5NR35bhPGzZRJdG+HY+d5Y7QHAHbzQORkuAZW2PGJflc\n",
       "8KOU+u1ViAOohyAsCvmIK/6RBvabH16TVH2n8GhOyNp//6EmEpr7zqhIXu7na36Wjo6OeaTBKS+p\n",
       "Nrb49Y5JqHjFmrKKPhPVazftAbqfOuXnfAZ1qQmI/cnj8SwdeE/oAMc0fxlY7JSTTeijt3EIm5w+\n",
       "Tff6hw1ZdAChQ4DcwpGGITXO+TgCHaCx89vQt4gpEheEJucSayWeZkYhywtyoRjo3mf4NyEkTHz2\n",
       "aIMM+r5keTG9Mh29FS3bggK63gzFseouJk2rVME5jjBtvbeiI+JulBeLoAQ3ChXHQwi9PfBnKKI+\n",
       "/1iDOE0YxrXB8Nk7RFMMtGl9y0blMkNcWkC/QcqzkkajBxFtJ02wc252PQVspZTbwTrQJZgzrLIU\n",
       "td/LyUPet2WHBXQFQ5AuF0ektgKiPEQtGBMLgMr1dg4AyHHDL5kE6U1CRX1A8+OBkJfdZ/cwH6Kp\n",
       "YS6yLjgqkR2PP4mlhuvb4T72VKPLTXSG4OFHTpYE5FzB9qLqrfhTiiFethNo5S1RDqH8VGWEY7D6\n",
       "m10hQqSIjcPXcxzCQKRNg0H4dgebltA4yGw3qaj15SonfJpSp7LidlpuOwN3dma3Cagg39fd/Hy5\n",
       "B4o6oGmfEuKjl2ipOf6OnZroBeqSQ9E40GS+NTbZBXuEn28ZjvkvVqOxqwWdQnXOpCguU3AVH3fY\n",
       "0LskfYLQt1sO/nSIy88WHgP64La0phswPsAicXhoRKGygIClxkLk34/rCDSAdLJvW1c2hZ86kNw7\n",
       "OzeN8LzP0feOTWgM8IOynXyLpV/tGFJEOCFZf3pBRPkLYeFqOK15mZ1frGFn3Fh3mXgKGGptIeLe\n",
       "vnVX0INrFiWkSgWroRtPS7Hb6CbD2HF4ce9AFm2Qa4rJyDa5A75c+rrEvzK2ruvUjBWaecf8A5VD\n",
       "sac5ABVk/BFGY1vYXNf89RJX9DTO651otYtBTylos95i3K5tBnFfLJbTzFzrDb+Jg/efUU68vtHP\n",
       "jkL8qh0Zq+VIw0JDCZc9H/K/7WnFAT6bdKo3dpI1npM1ZjB/9r2909q3twdrw/Dp0xbzWGi2GsDQ\n",
       "oYAn+/AKEsDSFS0UE2mhbnVee+PZYZC1xM4RK6C3W0hbgPc4CnxqbWOmGZrWcgGgLaDeXNnQ/L7M\n",
       "36I7Jq3oacFFm3SbYfOmtj/XPCbT9yvIGJYZ6uHK5j3MGyDRjIeVAA8enP7dLKw4+dJLRKtbSMfm\n",
       "M+KA04kebtE/6xJ4J7DQ2pTVNXI56lzWyy9F/8YqdWaPwDdXBQoctLcHGKO19CDhTHNYQCf6EeOG\n",
       "UdgQdb8aA9+Qe7fgMeNoJJ8yTko2d+fOXSfJHqeCI3jsAttZy7rK3lSOvA/NY2yJtSDBPRNBCczm\n",
       "H9FagJ/pfPLYI7Rdw4gOKEyEAXUnj9uGu/WP7Tfo8n7XUU9huXQ8mfyRY0sZVX7+MHQqDYulXHj+\n",
       "52nO0vbgsOod/Wz3tzBeXHaGX/PWUcqUbDZ2ZaxEuXYmhkO8nXpKiveGyW5eDUv4biC8r3c4pqPD\n",
       "EIxaItIoaZPkwQdzlXVBkEFfzp0Uwjslpm9BeL+DduOJu2iSlXEIw/6w3DX0iAcY3c9qyug7jC1i\n",
       "pWk6xDil25K20jznhADHqTTJbQ6wpafCcRK+28GcYy57Rs72wda5sj9dht8DDzpyBRZ5Ax7nKDkV\n",
       "n5t5yq+0dMWTd3GnhSNlDTf/cxk2/w1zoq5Gn03GB3AUXtGTyzF5+AKpivj5lsZJRKfKJXEhRnUE\n",
       "CiJ1REj3HFDEwvQs67jI3e+5vnwn0bfMiTVUlHCqwOSR1GY/uSYK0WCT7MQPj1pPX+WMDshHhvwl\n",
       "ofVN1wQl/UgGp2lVBaLX3rhxCuJZ2E0Bjw7J74jYH2x3w2k1hGEMiwYc+U1XB5O5jr2ISLx1Lglq\n",
       "3/PLheFBvLBZzH3aFz3hKycgP0q4YV43DV+26bK9G86RUqAtCubbZf80DLxxB9s3LzEx1UeK5AMa\n",
       "ZpfFtk3OweeycfeCBLgIsGZDaahcvHt21fzgSKTgB1nDMrkzFmMQKaHsrtJj4SB2+BGYnizpTkTC\n",
       "3Bed1JeM9ZluJaEsvGpu9of69bHrtTrTTXKLaWaF9z0ce0tFV/c5S3XFuhJjWrJsSGPCihtM70mx\n",
       "lpKzphOcSZ00o3q45YeE3kcRiifyH+CbpAkDdgwEj1hQiGiprIVRY/kNH2WyRUxBenA5Ws2ET761\n",
       "PT2RVlm4tLRzi7dto/GJWCzIVgsRw9NkBfS/Vt+SQ9DSNc8qRvtUb8AT8jOfeAe3gbOJGtmsmIzz\n",
       "80QZsceAgkEcZTKwptwLJf0svuencf+QQiYDGhy15DhwJZC93HiJFSYuX/xRiwJ9VYbJEDL9zOmN\n",
       "AqmF5DGo5M1goFgIENJO3N6egz8wrEzBY98b40nlZvUfqPTdpHW/CqNfhebBW6qIBWp5axknL+1m\n",
       "7ipYIJ5H7j3k96Xeo7BFgKssAk1nlnpWBuXXmODJsKm49f6Qw5E7faSW3tbigMxMkrfPN8MalHSg\n",
       "1zOLNMi0aXxU/M1F9y44hjnqiFbrAkp1EOBidwfoehJcn62LpdvApTGt2fpCSM+DMmerbgfgsmhy\n",
       "45SpziFhbNBuzKjRN4COWJ+yhBQE88HhgzFL8swY19aHL0HNrEx4ksoA2nTpU5dapfMwWiPARxN0\n",
       "RCz7lumOZxsFVyth2+ZvkOMeG1UX2ZoI01yIrvqdy/Q0G72Inr0F3iEPBJ8Y9XC5RRg5y5PoAhlB\n",
       "xOQXOF06ObV5o904BdGHeC5S3uaRC4X1c4VijbSv3EvtUsdIM9tV8WpPEVzKIHPD+ZFHxY0Weobk\n",
       "xHBx1SqEP4pOayweaiAArPWKHyvuETXT86c8Nnj2YSgJBMWFFyzIKNNtdVoKUxjv0FQmHes3epOA\n",
       "dkMHe9U/JP5hO/2bTzZWqBNHQJ10dPGrSayUt/HMno1w/dPMLtzzYiDKroRQlb9LJsR+hUI2Bk60\n",
       "YLSdKdP/8wp/m3likWqzzHd2Sqdv8P8WqNL+IwhWiCwIVBqxhg2dVE4RF2dxtltvoilwMo+e2QlC\n",
       "M7tIR+nJaJeBC7rLxNf4TjA8d8OuG8/6PqA9AXKfHCbRn93eoBjal33FJJOqFcAu2uiNWF7gpeTz\n",
       "ZVCBcfrHQ2FbNrm4z8HzieNlQd19nUOwRkhWHl0ibF50l+AXqgjnJNRxZjCdD+ujFTkW5ogbalkv\n",
       "w1SpMkgYuvyDyT658QROT791cZDMXcTgrfIz8Uogu8PEiqf5bQW6Uf1gVSlqgUhxmJcAQ70GEpt7\n",
       "tQADXurxTQUOoHuiD0H/f2nPJCwcDECO4FU/bBhlKwTI6aztejJGN+prAuQU2wcQ/ENvREsxw7NB\n",
       "HWwp1GfwxDlyu4UTJztk5FVVfZkAAAelQZojbEEf/rUqgA7rk4QALLMQBErXwL9nV8h9kdn45KRg\n",
       "vrMA3jMv/8PfbdzNcC4jHA2hMeCuUuVrNdXh52zBUarDXbp9CNaDVD4fDLh3XnANXtCRDKVH3BIq\n",
       "LfKwXZQPtBUGSLwARp8UJAvZuR1EXfibvjZClUUbXmvCp0ZcyV0fBYSKBvXO9jZksBA02hrYx+c2\n",
       "Ue9M4tjj/U7Ikxe7ZP3By8MpShSmRruZuPBEwWUBfn0jIF4rwmGbpEUKEVCELVszaX6BwrtP6PQX\n",
       "99NS9rz+xMtsFTCV9TAcxzZUA9x15IeFPsqY0mftTmi/4HBLPpFsXSg7r8Dwe12VTgfdw2Dlsrfr\n",
       "SwJf62c1qhpKzxH/iL9GJwnmVhtF7FFZKlQgpUpjklpy/Z5X6clIaMRZtPFc9s3CR7HIFinBCL07\n",
       "kt2IewXlGAC6dCIQVipgWXgXh/6CaWiYqQ3R7QzQiKwrWIysB1Vxdtmqk2x+u5zuwfb1LiOw4ddx\n",
       "vBn/QAGfY3iTpcB4CwwD34V+h1KJ9O4FBFAYP7lPBS2q+O9+ot2uVMUpUfVq0EEqCIw+M3iKM/P5\n",
       "DOJsQhngtrpt7z4vJb5Oz+uU0mOd86q/g4WOtD1xX2WYZNANGWbK3K4NhRwue40voPilZFdbuhVO\n",
       "SxAL2pRhsmkojRqsleAavo3xIFFityiipyB6XDPTk6vDiPsjnRZiCVeLZPwIntk6QmJqhgSaVP2G\n",
       "JKM2rT+CjsiWtB5LRgePMUljfi6gaJvCxvuc8BYgYnJCASMIHdGMcrKrFpzkZmO9L3Vh7Av5jXbI\n",
       "vqH5kblc08+HnYb2uVNdA+1rDVVF+7LvPOx7CO3jC90d8cq6VKo6N2aTzLIO1Xo0WYrIEJiXvlfw\n",
       "r4JiaTVzXvty8DQQkegL3UVHTdJOKUkCgJPRik1+QUcomfDbPIThrB8BZ+e4t3bkEFgHgFJyesxF\n",
       "HA044NAXUeK1ktY+2pEWzgxO923hBlN4t9bKSc9J1dXGpGK/h9kk1CuKjCrg7AybKjjKh7JlnSeH\n",
       "gqrrTob0slq6cAOGFGAoGP+BR0mRkxZvr4Nw1ZD65IvdBHmWaFYvg4yHKa5XOCFkvr0LKYjVNxiz\n",
       "ajAV/9yRDQ9rTth6BVXvnJGGg1dtwqDrY3aQSMKbpeAtQSx6Bo6l8r+uwAemitNBSi6ivIthAhNh\n",
       "gOKQE8vJzs/X0n7p0xGRH+MaoYdIBmbf5b2Su4FWvAZ7beuu+6xRJ3lWmhoG3mdSqaSKXWK0vGWq\n",
       "4Td/E9zOvPAm75PfQvjSiJB40pxFvvoTQQtbiXmwjIvwWintvfWffghHtrg7HBwLcARFuqMxOU2+\n",
       "aL7yWbUElsIW4MLmMGLtJzB84+wo+6BVZG2a+FLTF9oKXxSdLGkuWLacpIZotq6bOfYzKG6n2dwV\n",
       "/2Y7YVWLuBR963Jd8HS7+mxJefWQ9yvr3lbpPc5eR+VAeRvDiQgrcBlmtFDPnhpnhLLMfDw9+CpV\n",
       "WdJSYk/Sf+zuXllfJBBjk9+fwTGjfVA8ES9dWuTZDijwxWxOdo/wVdeI6Oe5Lf5DtDfhd12yDonO\n",
       "2eT0bvWwg9D40U0r29GUL1IZ0yQgLk317dOD+PB1awQIKPZTRIj2s/r/oq6vciQK1bEJgJCt68YA\n",
       "J7MoVGh9lnmkixzx7NVltzlKl46a2Fsgkhf/fNXQ7aStM8cBvjSyFo+jinN7PT5q+AGnjdXuYqQr\n",
       "ASJXZzqaVFqZA/zIow9XOcm9xtWJirjPNB7KFiDe+riqADgfsuZdMSzw3zAqrP3xqCj4tIfpenGg\n",
       "1eCSTZsN6r6ecviyVCuckDlVAH/XM4pgG2YiqwnfdDdpljIHxGv3N6GAmSMJnSd03PYCGYFUyVxM\n",
       "GYFAhaoVQs/8Kf614IoSTYKgjNr/8baETrFwFdLH6t44DohpE/m9OP71G6ulsT8uHznM+/s+CrEJ\n",
       "+S3/ZnM+9zu8XrUiVXXEozF/1K3a3kKKfkPw1qyd58eYedA+2OfCzHwnxF4picypeDkOzFlGhvBv\n",
       "YEddIFU+hya+m1i8GFxvDxXYwJ5el67XaqjfdTphpA44aGNSL12Lx9bpE38u3eMxqB5OC+QNJtrN\n",
       "OUtTN37jy6EPqRbLuND6XVYhwLJVffAddUNUa4Chu+dvhL+bTefBtNMvOoC1XZkqWpIc0gpgFbks\n",
       "5sCE4v7a223cGxmT30PfpZGZ60vELmoya8Q0Fw9O/+vQWF9wjOQn90KJGJ0tUZnN6y3wqXQbnPIr\n",
       "JIrSzjuqDG+PHJme0k8/M+vyy5akAMPuN6iHKg2H4QdbvylBAiMcC61nLkesHRxAa7P1/A8YKKsd\n",
       "J23P+czDrb8NEYFJZk4wL6iorHt+ul+T0wlIve/bHrEbz6Jd/gaObHof9r/x9J6JYPftjPNCpIxJ\n",
       "njaV0oYWzfR7csBcPvGF5ZGRqCxnwGkY6w0/OGwo6R6CqkMgO95363KrpHM+fdko3M/ICW2cHahq\n",
       "KNoQulWD6hwwcW2/0xnCUeTIxN/rHrRcsRZHLBowJ82LoDhj2qXSgt56xG1JVKvF+zir4Juxb0Yk\n",
       "QO0YG/Y462FFdcA71zM3nkVddQ3BOeN7LtGr0gQ4B4WO0lVX2E483frHFgAABR5BnkF4gh8AEtQ9\n",
       "23KfETvmL8E/MyT9W4Q7/09yXQJN80gux+jM+47+UJ4rfpsjawfcdzUMdR2C6LtutHzTzTrh69sZ\n",
       "LocyKakT2qk5bj8lNx0GtFZVgLviy+qQpYjiw2XIhpsCHJvcNdYvCDc0Pc9VAnHIJQ1Hi+CwMkAk\n",
       "00gT40I4dLWbshXsrXbIUheCd7rzfiGnCYR4L+/VcACYvqljiJqC+XQW92+0B47mXlZB9c26s0Jf\n",
       "uLD8M5DWvI52djj0lI4Xg7GMJs+UOXzECKw0fDc7WU//vhkWlTxfUhwH5mYRLTMmx1VklmEP+1jr\n",
       "c1OW+s4fkPd+d0KSeJNYpoo/swQw6BR6ZZor33h50oLLUi8sHpq5UsUWQ5x2ZuFLcIxmBUcIEGat\n",
       "q+54I5XkKNWA1U5Q4JpgJymIKJiscVXZAIDSi2m6ukbxE6oeClpihSj0/xDKfRS6503DB9oPf+i+\n",
       "MTQyOj8+dD5Nu1ZwL43TTyG7VZrhEAYKg/72vJ8icO/AmZV5BcB2aaR/s1DvGoDJRTHvm/2MsRSZ\n",
       "p880jlgrkxQ2GSQTw7qzXDPLwc4zWZOBQmBfvB8wi0+Ar6wEjuovp66O0WFN0RR+30A1q8GDcg+6\n",
       "ad+SeFeeQYIFBVXXQviuEQDt5a0+oHY0DjUcqlTJsbo+HsmKhHlLI4CDDO1LMSh/KkT59PM+fn3j\n",
       "IOk0IlQb6BigL2gpdewPNjR5zE4i3pY0+SnIkrP+WFckGhZL5rVrCZ+LHBSXIEaIzTtywxsLrS4I\n",
       "0PTF7/NSDUcr3V0qWnZHnIsK7r0M8oc9eK9/Lg8wBM+N6iLWgn9k6PNpd8DyLIAGG5hAwPJ+kpwT\n",
       "ahLoTvXVdIHe1NMQmIFQBJ85EI/1/XMz7oQBcqrgtFeQGg+/HcYBDg/lvWPtYb8HGSzGrfmOT0H/\n",
       "eJeleqYnTgxyScSRaHY3WASSna61zzhquQZUKjlCMh5uTDzSp4y9h49SUUbTlcp81dGj0L8uLWqF\n",
       "c+zBY3FWXnHzsqxvDhmWu2wpYEH7O5GM6C3fUW2aHEVLvXa1S+wbzpALYBzUgilqbpoGiep2M8y7\n",
       "Q088w+dbcf+ZTTCU0TplLjdBlu7VeiTFVA6qq809kVckqPxWGAOvJR2+6BrwAxZAGSZtxhPq3tEM\n",
       "j1n7QL1i/O+g6zF33k6qDsVTWuEhGu3uVhxCuPa7MNzW9Kfhn+z46dXIYzMnKrdExAAlg1887koX\n",
       "Td6jNvdnGFYJagmrsUAfbZ3WbnppamoKaqi0vA7vUYnKXB+AfLPGaOgVYDs/ylSePCYD6B4br0dc\n",
       "l3jRn19b/VNmYXpVafjg43c2dFeFSSMVlp/XqILRPnesDH00iBN+C+i1BsWVCINGmbRNKry5WOIt\n",
       "392IGpWnOciR/SiiXN/rHB3PALQNf90Juvk7lPc0B3l55eq4YY26S7CWGTMi7KMYbW9O4M6Gd8iK\n",
       "4OEB1pPWPpZgB3jF8Ex3cSY1Ll3pYMv/1BfIVC5acKrZV0hrQ/Kq7j6Q7yeTURX/E1fiwlq+epMa\n",
       "/T7vIYPtIKtBt38V6a4aTbhMve5u+ZE46d0J18Ey7OSk4c5Bj7LLr5srMHHpWDjOWT/+uCbxseeH\n",
       "VRKkn1TXrM2NJFYxq2V+gTZtwAoT4IGrMn+7O0C+sqxKYHfGxtm7zgb8J16B0N4l4VrYpckMe7lo\n",
       "+8iuEc2HN8mZ3TluGEjBcBs6uxHlJ29BaQN8QlAhYBZqbD5Cq6RWnWRB3YAd0QAABD8BnmJqQ/8A\n",
       "E+Jz7EONtMtiS14CbqcGAKpR7IqVdTPi7aS+lpVImYuSHcATX5slUF+2Ho3AXaE2tbrzJZGGu7FR\n",
       "HV0L9kj8Pnm0iHaoGd+vqlUcP0EW64UgNwOmrAmrIF+57gxE5X5wacwSyiHH9Pims/22mdkHG29A\n",
       "7syer8jEgp6PG73gmU5hmmgtR+8KmRzyrhrO2JKpPSe8CRLtDYn+zwFRS9xhoEm+kAZ/zVhrOyNs\n",
       "YzuW26zkF8pKEZChwoNWJd0iVVCPGH+upLuY2zqbov9gHYB9O2pNWSxNstuTSbgTN1s8RTSJJcgA\n",
       "9cWKYZeyIhhFb4Az98sGN8DKGzxa3OZnKcaECqx3TsVXT5p4hHMitLoYjggEif6zSttP+2SbgnyY\n",
       "iat2GZ2xyuSekqsgzTn7F7uUVaiCzhKkKX1KTxL+nDVUuLnpzogvcJ9U+OAbfsGXkDhdtKY5HhzC\n",
       "8/QxYl0geOacbgtwHYFLBbDieasQInN5tEpVoh55jyMWIJuSKrF9EANrORMfaOk6v3g1mHqIInOK\n",
       "lTikXHir5u3/BKUhUSkMb/yefuBHI9O2XqYxmxqrTisJafITZZJ140TthEb6o1iGXgcrVotv3IFi\n",
       "xCnbgOC8kSrQ8CGBhOKuJuLfJwaYdU1610OYwqk9gjoSQ0X6GcKE1PgbVIsrCXpv7o6i5ibEqMUW\n",
       "wTwNBK9iV2fos10Ub1IZrhtOG659gif07NzAsjN4xjlkKFQBSprQsuxRIweWR6Ryw4b0q2/OUoGD\n",
       "uIJQyIkJDzM6WZLqA+ezzg9X6IZi0byDuMuphgycGIpqL5UOB6i8BO4SY15ymaxnz77TadjyqQ60\n",
       "FUpdU7nsATQtklGT270uZJxEkGaSaB4crNHS3afWnsNqn7pDWq5m+KccvhfVHGthuuBh1IMWtik2\n",
       "11kkGLjrNqs/kbMl/aCyaktcvGxRrrdXTiAqgAn5kE+KvPoZW16eDVlFhFAV3XSmymPE66GBhwS7\n",
       "FfYLvUGIIfLZ0BsVI2z/+kb0dwVZDCTWj3j8XdHmWnyrN92j7a60QAurBMbQkX/PB4pHrXbZsHmx\n",
       "ajJQWe9IuscjkgCxK2LbKA1zVSg2CD+Deynnm32zsS54Tnu1Va/FbQ6zIAv3LbbcZh/CQmosxaKy\n",
       "naJbFJq7xNFUoHahxbBvlVeX6wwGCYZmDv1vDGzi+HUAQE6xHFgDbXKaK9RLX78N5/NcT7oEwC6Y\n",
       "dn53FeShmPg9mCAjiGwL/Luac0/zn6Lv4MrWvXwoCBFpsN9rxx6Zn6sbGahfkSFofCih0bIUtffg\n",
       "erygvXVVTBFFrdmXCb6tUt/vqbJ3PRnd7QlM08bdLtFEauHes+EcO78O1dKxybsXHl+pquOIVMYs\n",
       "1FouxGDGLhLxLC9soJZgQGclZdkbFqBggz8OpoLJpNcbI9OOQ4V+fBLAg4QbAUBfzWL7rhBQAAAG\n",
       "gkGaZUmoQWiZTBTw//6plgAO/7pRzP1BNHeV50hzwgnkZN4xufx0nKQEKtrWnFDsdHsHVteGlmOU\n",
       "MmKsdC+V30BMyPcjU7cDbfjTEgOdRzT3vaJE9P4n2WlDbQdNLgb/gN7lPghOkR/8aWy5JNm80Kuv\n",
       "vtlcOGz+YTek/qTfd8Jf9OU+BE3WwUWSgjt9oH7iuiy8wX0HTTxtS+Eiwwd8yN/D4VSObub48DsW\n",
       "YYz5ABfZHiWMkEzCkUpN9kAkWWh4gGF0Mh+cbUv0QuX2fs0blg6TsV4uOspKjZWY5VcuBYMtD6jf\n",
       "m/eLdpPaALKqJ3f2rabObYbwH4Zn1bncxaScg7YGjBmyluZNIdSxgo63mKQumcOj6T0bnjj2A9jY\n",
       "4G4hERF4aejkSxEzvQ7QiEs/yHU7402/x03VQN5N3abiXQuqTHzsi0hOYn1SXi4/lGZ7+j3EnEul\n",
       "CctC92ICDGk/vJvBke+srPGiooEOSoxdSiUakMtBx0crGIVUunnzETvHFYzcUBILwkuHXGlq1sLB\n",
       "ChuNktBwS3HeloQkhluMTQRXH0FUIm3F2gFMmEbrBWw2k0sffCz5MGzrzEbF6bVl+553cc3O2Wl+\n",
       "ZFstSWEJrdDtqisFUiRrKsZ4Ry5MnBx32EzMessarZ78CXZhYaCiXU4lNdNN50x/WAWy+aFcQNMP\n",
       "P/nWH/CGqfXHwzVwRric/OCUThY2rmj+IxEUsi6Fz5VIjLCYbnF5clcD7OKY/MuDBUCgvHw8QY1g\n",
       "iffzSwT4bebh3N3e0NgJhgRkeFc8A0TvlysK5SyHy6KhKw0Nr0GKLKDEB7qwqwj/0RuSCpKUaDJ5\n",
       "sQqeZ/vyjZDDGc1FMwwmLDPRfAp/TxEhiXEFkIQTTsbvDyfzR+gTe/w2aHiuM+tlPKxc7cdgSrfE\n",
       "jvOVV5sDnEaPX/Aqh0CjpFs4hc7VeG0Qx2Er0ZKrheUnlGTtjtbvb0chOfIBuuZhb3UQkEcj186s\n",
       "RfdlJz0TtrCXvh2672vkM2Z2BrYwsW8fbd/Y3vipHwqOSSd3ZNCAg/fMrkwwrRS3LX+BSnuqGRkZ\n",
       "gepFKHAeP1M4C/5cVekqIqgynVbSddzp8SDZdK3bB3/Z+0DXeuIVc9uQZ2g38TlEmEi8JuhatLfo\n",
       "Jtl8U0F/sHzvptfbsV2QpTvBOl5qNN3kTtXPIPmDTZeyOx9WZQVQy6JWQd5SgfXlWvm3fdCgC/JY\n",
       "Yvm5sd+rv3qKPzGl2tx0WxFtrSfs2C4MRJQZIjMOUrEBvjKCHAig1SOr3SnPep/UXDwWIZNgjI87\n",
       "4WAtdeN+kw/pwNq0YWbu9CcRyjCgw7dK2z4EA4kn+qfclgkYbmo5BksmyfvzyxBHZdamhaIHe8ZZ\n",
       "Hf1oVhPCGD4/zMm+KtOrGgq8R7vec9gHfuYmACG+zZYJkF4OSItFfsydF+7Ed0zzNrwzyC9pGpVF\n",
       "AB/wp3WaRtZKzQBcAMW3ExRDxqXEo4vkbZiUZM4MrgbNWdkuk3WHO6g2s9VrnOpovHlh09Vr9IDV\n",
       "LUO1wRdMyMF1lGCjd2s7bZSm19KphStuSeYFEvatncXEQAhCZPgwR3K9t5/u0WYBY/o2mYALQ1Yc\n",
       "Mk5HvxIgreoqLK4JPVXrVYbdVKmZEe2WWC3IRsupHIyokLg1njdIFY5KSoZgJJ5UYVF655Xf2Tq2\n",
       "V0B1sT3wbJRvVRV9UmeObOc0PF4ORaoql9rn4/TorDgjssC6bAKRN3PoKAisY95IN7tRcbyqsvp1\n",
       "GYZBIO/Z20jrJ9iVCOzPi2nm3QNuIpFUAb7SECsHgjkuCQTGDFqYASm4FuNIAIqCUYfHHQwR43qf\n",
       "kpJtOw8VH/6S+N1id04ItAuq0GXJUeL1BDAy0MUVcZu38AFVK9NX+XzH58aSSCO0IetWfLLj0nkW\n",
       "N2PXZcIiO/QqUEDmNDY0CQjMxPhM6UGMPBipSYdnWK+mNCs1GZkGj8EPzf8M1kFDWho3Z+xo3IQF\n",
       "pyDY5WpzDEb2Csvwc09rmxlJ8kGZNjVld6kJiwyWgCEs/92Tgq9gtKKxQLlHf+w/+L+0sOb+1JKg\n",
       "Z0PT1vdJ03WVTkNLZxYNTVBMRD8ZQKSF00IiPRNwXpEsMPMy3HB3xcdY7tPgaIZElR/KvLzcvaAV\n",
       "g/rLBlBlLsjO4HBFkW5F+pndk/SgIqB4gSypp5k5T6gfKXv8VcCZkQ064OwO51CSfxzNM91vwweB\n",
       "yBCjE6cAuko78K/S7kEAAAVxAZ6EakP/AAVknPsP6YrKSPzKzvoCAEzjJctH5yEUMdwAaCNVi9Jm\n",
       "PaX6xM9/eN1Ltnx1MPblfiZUn8x9jjX7YMHx3SAFMzoDUP6yumjDIDy3pKAnwlpku19WwghKloKq\n",
       "KCeGOBF2kkfTN/zY3zhARvunPyPO42q3m1nm38AFXC0b+NWbl7tFWrFZ8lT9YhaHSzEWTa/UNun0\n",
       "EgA9zVIXjLNXklPEjmnuGKmzvC694JyZqgpFRsHettuGPg453gy2jmhufDCgFyiOOLc2U1KiVBlR\n",
       "6CsMuaCQQ+QzpS6af0knAJ0gCEyeRhe6cGAcFI8QDDQ3iy8WaCHkxxYnh+wwvadLGv9LGOKlXYpl\n",
       "bnevbBDKtCk9mtPcchtliEVuh5l8XDmDwz/R095UqwD5kal4COQ6IUrewsCjao0jovAGpHaxUCg3\n",
       "Kb49QR6dB2HUBRaG73NMM/zLyYoT9VNr7DoHVoPFhYCS5ZmZOOF9CYf+pyTubfdMu17zbW5ji+AC\n",
       "kTZK+s5bJXWqu5s3Jk2MX+OS+tORdD9NNadXzOF7qsesXS6dQUPQSX9r51k4WlVjKi7kDi6RO8yW\n",
       "tiBkKC0+DNQn+NqGqsHTEdN0+Rgfvjqycgxe6QJdHyQ8jDIGaqnU+05wtDLupmzqe5e+JUjD/WgS\n",
       "FcXY7Bzoxpkhd0IyNpAbcpoxbmJ1IWucl/leGUnF6uJRCcsC2gauuoAOYAH6ca3/lc+xB6QgjucN\n",
       "s4nYQXyBT/b10QJy0ZIsoopkBT9CVAsJ0bUtMhFmUUOoI+IGAxwhZWwc0hwlXcIvRTE595u92pvz\n",
       "I68hch8FPvxxgt9fGssBdkbiENZfqdvoSQm7DARm+7ZwhAORjJFot/ArzE7lGQXsJ3TPi8jFx3pY\n",
       "IEJCZxXYL/l5gsdRsDQav8C5ryDlSCvf9WF9xerryusCJ0dec7v3fhnC7jdFwHZEvCD3fOsEkuAa\n",
       "zbqyBnGTno55jA+GkcGa5BF68uGanRansFSdeaIEZ04DJ8RbRqZVPFq0NimgdWNFeJRb6A+GK8Cs\n",
       "9F9ZC02hNo/HWfDG/64jT3mcD7HIQweQamW9I5iCH1bQF1usFtnYf14UV3eoETfNbnDoc5pCyrcN\n",
       "MqTdWXOBaUS92kfZXCqGjKWEaNJDWIFcfTtsACsw7iC/4sUDmPZBGmE04AUNH4lILbWeHN63A2bg\n",
       "2jyO79YMKkvet0vdv0N5P9laiisRE+UnCSn2gC8MweNy5XiBD4+VLuDNuXo4enYsQhuGt/2ftA8s\n",
       "1nA8Q5ShjArdhpZv3s4E1tnMyAlZig6pmFgHLO7LLTYZvaN/dsq6/KPXYcprSF0PUz7lNOO+X3xy\n",
       "gqoPpgEPvWEu2a4U83qxB5Mee/AesBSRmcfWbwWJ1V5UlFTggIXfA3L3kGDNNpr6KWK2PAprP5Th\n",
       "szoEDfZP2bOoH9c2BsT4VvQDEV5QioAoMoSZesXC5dkGpqWEct7X9QTXyjioW+cOK9m8eEzkIhJ+\n",
       "wrBpHCHjj4e+nnMAb+DHaNACH/tFlPVVTh9qoHn6KJ1CltoxSw8I6Wj2YGz3fngErxJZrp22NjTp\n",
       "sZaMy7z/pwJDWdyc4X4mALE59lQW+aQ2jrUvSIOBdQuXtl610GluEcrQqcJf4OhbdbH9iLri+x9Z\n",
       "3V7Nc+OljqqcZMgX8Y3cuoQ1hL0oM52Wo8PQIicCkjz3IjZblcLQA/Lfxil+Te+2JrqIZE3FrAKM\n",
       "5ZWyzKjoWViI/0KrOmMzFe+mZoZlV9Q/AOaU5HabxM2Y56aDS0VsmEaYeWOvLRxKZLqmWDDYGBWM\n",
       "7bfgHxJ+t8GtHdmy4b8X690QvL0UDYHqfUn1T19nFQkxmtAQ/lRS1+cMqQAAA3Rtb292AAAAbG12\n",
       "aGQAAAAAAAAAAAAAAAAAAAPoAAAEsAABAAABAAAAAAAAAAAAAAAAAQAAAAAAAAAAAAAAAAAAAAEA\n",
       "AAAAAAAAAAAAAAAAAEAAAAAAAAAAAAAAAAAAAAAAAAAAAAAAAAAAAAAAAAACAAACnnRyYWsAAABc\n",
       "dGtoZAAAAAMAAAAAAAAAAAAAAAEAAAAAAAAEsAAAAAAAAAAAAAAAAAAAAAAAAQAAAAAAAAAAAAAA\n",
       "AAAAAAEAAAAAAAAAAAAAAAAAAEAAAAABmgAAAQQAAAAAACRlZHRzAAAAHGVsc3QAAAAAAAAAAQAA\n",
       "BLAAABAAAAEAAAAAAhZtZGlhAAAAIG1kaGQAAAAAAAAAAAAAAAAAACgAAAAwAFXEAAAAAAAtaGRs\n",
       "cgAAAAAAAAAAdmlkZQAAAAAAAAAAAAAAAFZpZGVvSGFuZGxlcgAAAAHBbWluZgAAABR2bWhkAAAA\n",
       "AQAAAAAAAAAAAAAAJGRpbmYAAAAcZHJlZgAAAAAAAAABAAAADHVybCAAAAABAAABgXN0YmwAAAC5\n",
       "c3RzZAAAAAAAAAABAAAAqWF2YzEAAAAAAAAAAQAAAAAAAAAAAAAAAAAAAAABmgEEAEgAAABIAAAA\n",
       "AAAAAAEAAAAAAAAAAAAAAAAAAAAAAAAAAAAAAAAAAAAAAAAAAAAY//8AAAA3YXZjQwFkABX/4QAa\n",
       "Z2QAFazZQaCPknhAAAADAEAAAAMCg8WLZYABAAZo6+PLIsD9+PgAAAAAHHV1aWRraEDyXyRPxbo5\n",
       "pRvPAyPzAAAAAAAAABhzdHRzAAAAAAAAAAEAAAAGAAAIAAAAABRzdHNzAAAAAAAAAAEAAAABAAAA\n",
       "OGN0dHMAAAAAAAAABQAAAAEAABAAAAAAAQAAIAAAAAACAAAIAAAAAAEAABgAAAAAAQAACAAAAAAc\n",
       "c3RzYwAAAAAAAAABAAAAAQAAAAYAAAABAAAALHN0c3oAAAAAAAAAAAAAAAYAABF7AAAHqQAABSIA\n",
       "AARDAAAGhgAABXUAAAAUc3RjbwAAAAAAAAABAAAAMAAAAGJ1ZHRhAAAAWm1ldGEAAAAAAAAAIWhk\n",
       "bHIAAAAAAAAAAG1kaXJhcHBsAAAAAAAAAAAAAAAALWlsc3QAAAAlqXRvbwAAAB1kYXRhAAAAAQAA\n",
       "AABMYXZmNTguNDUuMTAw\n",
       "\">\n",
       "  Your browser does not support the video tag.\n",
       "</video>"
      ],
      "text/plain": [
       "\u001b[1m<\u001b[0m\u001b[1;95mIPython.core.display.HTML\u001b[0m\u001b[39m object\u001b[0m\u001b[1m>\u001b[0m"
      ]
     },
     "execution_count": 28,
     "metadata": {},
     "output_type": "execute_result"
    }
   ],
   "source": [
    "# video_from_trace(tr, framerate=5, use_retval=True)\n",
    "# video_from_rendered(gt_images, framerate=5,)\n",
    "# video_comparison_from_trace(tr,framerate = 5, scale = 4)\n",
    "video_comparison_from_images(rendered, gt_images,framerate = 5, scale = 4)"
   ]
  },
  {
   "cell_type": "code",
   "execution_count": 20,
   "metadata": {},
   "outputs": [
    {
     "data": {
      "text/html": [
       "<pre style=\"white-space:pre;overflow-x:auto;line-height:normal;font-family:Menlo,'DejaVu Sans Mono',consolas,'Courier New',monospace\"></pre>\n"
      ],
      "text/plain": []
     },
     "metadata": {},
     "output_type": "display_data"
    },
    {
     "data": {
      "text/plain": []
     },
     "execution_count": 20,
     "metadata": {},
     "output_type": "execute_result"
    }
   ],
   "source": [
    "chm[2]"
   ]
  },
  {
   "cell_type": "code",
   "execution_count": null,
   "metadata": {},
   "outputs": [],
   "source": []
  }
 ],
 "metadata": {
  "kernelspec": {
   "display_name": "bayes3d",
   "language": "python",
   "name": "python3"
  },
  "language_info": {
   "codemirror_mode": {
    "name": "ipython",
    "version": 3
   },
   "file_extension": ".py",
   "mimetype": "text/x-python",
   "name": "python",
   "nbconvert_exporter": "python",
   "pygments_lexer": "ipython3",
   "version": "3.9.18"
  },
  "orig_nbformat": 4
 },
 "nbformat": 4,
 "nbformat_minor": 2
}
