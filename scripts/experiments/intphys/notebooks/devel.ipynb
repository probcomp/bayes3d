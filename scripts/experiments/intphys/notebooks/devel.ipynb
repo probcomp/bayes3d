{
 "cells": [
  {
   "cell_type": "code",
   "execution_count": 1,
   "metadata": {},
   "outputs": [],
   "source": [
    "import sys\n",
    "sys.path.append(\"../\")\n",
    "import genjax\n",
    "import numpy as np\n",
    "import bayes3d as b\n",
    "import jax.numpy as jnp\n",
    "import bayes3d.genjax\n",
    "import jax\n",
    "from utils import *\n",
    "from viz import *\n",
    "from models import *\n",
    "from renderer_setup import *\n",
    "from genjax.inference.importance_sampling import sampling_importance_resampling\n",
    "from genjax._src.core.transforms.incremental import NoChange\n",
    "from genjax._src.core.transforms.incremental import UnknownChange\n",
    "from genjax._src.core.transforms.incremental import Diff\n",
    "\n",
    "console = genjax.pretty()"
   ]
  },
  {
   "cell_type": "code",
   "execution_count": 2,
   "metadata": {},
   "outputs": [
    {
     "name": "stderr",
     "output_type": "stream",
     "text": [
      "[E rasterize_gl.cpp:121] OpenGL version reported as 4.6\n"
     ]
    },
    {
     "name": "stdout",
     "output_type": "stream",
     "text": [
      "Increasing frame buffer size to (width, height, depth) = (64, 64, 1024)\n",
      "Centering mesh with translation [ 8.9965761e-07  2.3238501e-02 -3.4500263e-06]\n",
      "Centering mesh with translation [0.        0.0063132 0.       ]\n",
      "Centering mesh with translation [ 5.9977174e-07  2.3238501e-02 -3.4500263e-06]\n",
      "Centering mesh with translation [0.         0.05167415 0.        ]\n"
     ]
    }
   ],
   "source": [
    "gt_path = \"../ground_truths/genjax_generated/scene_2.pkl\"\n",
    "metadata = load_metadata(gt_path)\n",
    "gt_images = metadata[\"rendered\"]\n",
    "model = eval(\"model_v{}\".format(metadata[\"model_version\"]))\n",
    "RENDERER_ARGS = metadata[\"RENDERER_ARGS\"]\n",
    "setup_renderer_and_meshes = eval(\"setup_renderer_and_meshes_v{}\".format(metadata[\"renderer_setup_version\"]))\n",
    "setup_renderer_and_meshes(**RENDERER_ARGS)"
   ]
  },
  {
   "cell_type": "code",
   "execution_count": 3,
   "metadata": {},
   "outputs": [],
   "source": [
    "def make_schedule_translation_3d(grid_widths, grid_nums):\n",
    "    sched = []\n",
    "\n",
    "    for (grid_width, grid_num) in zip(grid_widths, grid_nums):\n",
    "        grid = b.utils.make_translation_grid_enumeration(\n",
    "            -grid_width, -grid_width, -grid_width, \n",
    "            +grid_width, +grid_width, +grid_width, \n",
    "            *grid_num,  # *grid_num is num_x, num_y, num_z\n",
    "        )\n",
    "        sched.append(grid)\n",
    "    return sched\n",
    "\n",
    "grid_widths = [0.2,0.1,0.05]\n",
    "grid_nums = [(3,3,3),(3,3,3),(3,3,3)]\n",
    "gridding_schedule = make_schedule_translation_3d(grid_widths, grid_nums)\n",
    "\n"
   ]
  },
  {
   "cell_type": "code",
   "execution_count": 10,
   "metadata": {},
   "outputs": [],
   "source": [
    "def unfold_with_proposals(T, proposal, unfold_vector):\n",
    "    \"\"\"\n",
    "    Note that T starts from 1, where 0 is before the first run of \n",
    "    proposals: N x 4 x 4 of N proposed velocity vectors\n",
    "    \"\"\"\n",
    "    return unfold_vector.at[T,...].set(proposal)\n",
    "\n",
    "unfold_with_proposals_vmap = jax.jit(jax.vmap(unfold_with_proposals, in_axes = (None, 0, None)))\n",
    "    \n",
    "\n",
    "def c2f_pose_update(trace_, key, T, unfold_array, pose_grid, enumerator):\n",
    "    \n",
    "    proposed_unfold_vectors = unfold_with_proposals_vmap(T, pose_grid, unfold_array)\n",
    "    scores = enumerator.score_vmap(trace_, key, proposed_unfold_vectors)\n",
    "    return enumerator.enum_f(\n",
    "        trace_, key,\n",
    "        proposed_unfold_vectors[scores.argmax()]\n",
    "    )\n",
    "c2f_pose_update_jit = jax.jit(c2f_pose_update, static_argnames=(\"enumerator\",))"
   ]
  },
  {
   "cell_type": "code",
   "execution_count": 11,
   "metadata": {},
   "outputs": [],
   "source": [
    "def velocity_chm_builder(addresses, args):\n",
    "    print(addresses, args)\n",
    "    chm = genjax.choice_map({\n",
    "                addresses[0][0]:genjax.index_choice_map(\n",
    "                    jnp.arange(2),genjax.choice_map({\n",
    "                        addresses[0][1]: args[0][:2]\n",
    "            }))\n",
    "        })\n",
    "    return chm\n",
    "    \n",
    "\n",
    "def inference_approach_C(model, gt, metadata):\n",
    "    \"\"\"\n",
    "    Greedy Grid Enumeration of T=0 to T=1\n",
    "    \"\"\"\n",
    "    chm = genjax.choice_map(metadata[\"CHOICE_MAP_ARGS\"])\n",
    "    # force new constaints values to take over\n",
    "    chm = chm.unsafe_merge(genjax.choice_map(\n",
    "        {\"depths\" : genjax.vector_choice_map(genjax.choice_map({\n",
    "                \"depths\": gt\n",
    "        })),\n",
    "        \"init_pose\" : metadata[\"init_pose\"] # assume init pose is known\n",
    "        }) \n",
    "    )\n",
    "    \n",
    "    # make 3d translation grid: list of N x 4 x 4 poses\n",
    "    grid_widths = [0.1,0.05,0.025]\n",
    "    grid_nums = [(3,3,3),(3,3,3),(3,3,3)]\n",
    "    gridding_schedule = make_schedule_translation_3d(grid_widths, grid_nums)\n",
    "\n",
    "    # make initial sample:\n",
    "    key = jax.random.PRNGKey(metadata[\"key_number\"])\n",
    "    _, trace = model.importance(key, chm, tuple(metadata[\"MODEL_ARGS\"].values()))\n",
    "    # return trace\n",
    "\n",
    "    # do inference by updating the T=1 slice of the velocity address\n",
    "    # first make the chm builder:\n",
    "\n",
    "    enumerator = b.make_enumerator([(\"dynamics_1\", \"velocity\")], chm_builder = velocity_chm_builder)\n",
    "    # then update trace over all the proposals\n",
    "    velocity_vector = trace[\"dynamics_1\", \"velocity\"]\n",
    "    for grid in gridding_schedule:\n",
    "        trace = c2f_pose_update_jit(trace, key, 1, velocity_vector, grid, enumerator)\n",
    "    return trace"
   ]
  },
  {
   "cell_type": "code",
   "execution_count": 13,
   "metadata": {},
   "outputs": [
    {
     "name": "stdout",
     "output_type": "stream",
     "text": [
      "[('dynamics_1', 'velocity')] (Traced<ShapedArray(float32[100,4,4])>with<BatchTrace(level=3/0)> with\n",
      "  val = Traced<ShapedArray(float32[27,100,4,4])>with<DynamicJaxprTrace(level=2/0)>\n",
      "  batch_dim = 0,)\n",
      "[('dynamics_1', 'velocity')] (Traced<ShapedArray(float32[100,4,4])>with<DynamicJaxprTrace(level=2/0)>,)\n",
      "[('dynamics_1', 'velocity')] (Traced<ShapedArray(float32[100,4,4])>with<BatchTrace(level=3/0)> with\n",
      "  val = Traced<ShapedArray(float32[27,100,4,4])>with<DynamicJaxprTrace(level=2/0)>\n",
      "  batch_dim = 0,)\n",
      "[('dynamics_1', 'velocity')] (Traced<ShapedArray(float32[100,4,4])>with<DynamicJaxprTrace(level=2/0)>,)\n"
     ]
    }
   ],
   "source": [
    "tr = inference_approach_C(model, gt_images, metadata)"
   ]
  },
  {
   "cell_type": "code",
   "execution_count": 15,
   "metadata": {},
   "outputs": [
    {
     "data": {
      "text/html": [
       "<pre style=\"white-space:pre;overflow-x:auto;line-height:normal;font-family:Menlo,'DejaVu Sans Mono',consolas,'Courier New',monospace\"></pre>\n"
      ],
      "text/plain": []
     },
     "metadata": {},
     "output_type": "display_data"
    },
    {
     "data": {
      "text/html": [
       "<video width=\"400\" height=\"400\" controls autoplay loop>\n",
       "  <source type=\"video/mp4\" src=\"data:video/mp4;base64,AAAAIGZ0eXBNNFYgAAACAE00ViBpc29taXNvMmF2YzEAAAAIZnJlZQAAFm1tZGF0AAACrgYF//+q\n",
       "3EXpvebZSLeWLNgg2SPu73gyNjQgLSBjb3JlIDE2MCByMzAxMSBjZGU5YTkzIC0gSC4yNjQvTVBF\n",
       "Ry00IEFWQyBjb2RlYyAtIENvcHlsZWZ0IDIwMDMtMjAyMCAtIGh0dHA6Ly93d3cudmlkZW9sYW4u\n",
       "b3JnL3gyNjQuaHRtbCAtIG9wdGlvbnM6IGNhYmFjPTEgcmVmPTMgZGVibG9jaz0xOjA6MCBhbmFs\n",
       "eXNlPTB4MzoweDExMyBtZT1oZXggc3VibWU9NyBwc3k9MSBwc3lfcmQ9MS4wMDowLjAwIG1peGVk\n",
       "X3JlZj0xIG1lX3JhbmdlPTE2IGNocm9tYV9tZT0xIHRyZWxsaXM9MSA4eDhkY3Q9MSBjcW09MCBk\n",
       "ZWFkem9uZT0yMSwxMSBmYXN0X3Bza2lwPTEgY2hyb21hX3FwX29mZnNldD0tMiB0aHJlYWRzPTEy\n",
       "IGxvb2thaGVhZF90aHJlYWRzPTIgc2xpY2VkX3RocmVhZHM9MCBucj0wIGRlY2ltYXRlPTEgaW50\n",
       "ZXJsYWNlZD0wIGJsdXJheV9jb21wYXQ9MCBjb25zdHJhaW5lZF9pbnRyYT0wIGJmcmFtZXM9MyBi\n",
       "X3B5cmFtaWQ9MiBiX2FkYXB0PTEgYl9iaWFzPTAgZGlyZWN0PTEgd2VpZ2h0Yj0xIG9wZW5fZ29w\n",
       "PTAgd2VpZ2h0cD0yIGtleWludD0yNTAga2V5aW50X21pbj01IHNjZW5lY3V0PTQwIGludHJhX3Jl\n",
       "ZnJlc2g9MCByY19sb29rYWhlYWQ9NDAgcmM9Y3JmIG1idHJlZT0xIGNyZj0yMy4wIHFjb21wPTAu\n",
       "NjAgcXBtaW49MCBxcG1heD02OSBxcHN0ZXA9NCBpcF9yYXRpbz0xLjQwIGFxPTE6MS4wMACAAAAL\n",
       "7WWIhAA///73aJ8Cm1pDeoDklcUl20+B/6tncHyP6QMAAAMAFSFlCEjavfr0vSABGgABNxtalZQG\n",
       "DP4LNXEB+tR+I38zhVzXlUsWr+hi5U4zQZJ7DEVu4ztW3op1ihoozZKcc0JGeEeJsWWTUzQYLqy9\n",
       "zR1L0d8hLy4xcZ0Jo4hQLr9DDK211ayQpGacjRju9pcaxcww2GNXx2vH1EYbpHPS56AoxtyPEqCw\n",
       "TE2hKo0Krp1ETdcOaL0Qz7c85ahVQIvkns3svN4G6+A2ERPOefqsWPp24rrhGUbYSv+bF1jRNfBB\n",
       "VriOma0KqnbkJxPG9evDGAASrI/EHRM3SvB5u726AbfgYXgtG8GekBPtQn4J2X9KrcWyVcbyNcQG\n",
       "A8I8XPOUY09NOXnjgvf4Z9RGPBSlmd6fXSo+D7+k4ruwMM+xH6EZVOriq1pupOlSP9p5wJfXydCF\n",
       "ITdo0B6C1kQTh9Fdbp8UjAh6kRl/ICzRkpqb1OWFyhJ5cDa6AqDmLUKPKqkF4687K5B4Yq6Y8ZM4\n",
       "LIDNjZ5zcXy1VbIsce1NGuqEENocBZRbY1gHqorsQ3ZMF/NaaaeoeT6bNTm8lYhAS+yZsKTQjmY3\n",
       "oOdVluM2SMjOQApX0BXBlhaHfobMg6IlP4e5p0/ocWKLSycxyjBMLCvzJPezilFgoYXlAaY6y8ak\n",
       "BhXDrEkVNzLAP8PuqosGAwH4Z9Mebsc/rHDLUR8TYMgY5BCwMZeefdyTOUeJeez6IXUvp56fF4vU\n",
       "DV0wVsh8ojlXPcK0WYNnXmumz2eIry1uFf91ZheC8CNKk2e8U63nZ1Kee4AZJDDKRVHuq5YDcAJg\n",
       "AFvIOmFBbP5uNSWic6vDkfRoSbW2KaRJDaQFY/EJ771fTDtkG3b2DRMnnntteNxY7gldbvzKDBIl\n",
       "AC9g2KRvqku1cxBomdeGa+I2NE83ba9E8vi2Fg25wokemE2g6KyxcCa7J7NCEr29GhMOFAMbI8e4\n",
       "VCHkEwvPjAex8PkGCIWkIDz1rzKmuR6nXO80E/mYKCR2nRucY5m507+JtXAnD1QOytFOVUv06wdi\n",
       "xosuc3QTgUFnQVYiKGXgTKpHw9tK1YU1xsSWaYcsJNPB5S8lXxa/CwHnSflxqf36WOOBKNSieqr4\n",
       "LWpt4m0ImIYAH9T5HbbZ5EJLMBqXP2JG8xLvcGIYhRS2umC4wPstBjMY0dVB1AFU+DpAUwKXfei9\n",
       "zxh60hqgWkg0fMARhxrOG2CyiriKg5Ob9LcQqZDr9DbfNc2AaGn2GFxgCpOGNxnQkOTXcFIHFiAS\n",
       "eCVSEGuzWYHdeNrL/lbwiq4SBmKjyzw4bMoXLMFJNpWOFatZ5PaWV0rmkDEjHtibjWiNTOWxeRCG\n",
       "uBZCqLrL2MRcFUW76mNQZaXesA1bbon0fiRc+Fx5yBakbUpz+tq1cSGIEfOZFOhdsXL2vBGfLLSV\n",
       "nOuFKghkBt1loRAnhQVBKr4GEOFousU9T2+CGB1onqIC22SD4TTZBKcCefjLQVfQQBGaTd0kiSHr\n",
       "aOiCII+VYxS1avSfQ8iv0jZk3sicNR6hXC2WreZ7MVUVw/CAC8dwFNhbkjhzYySn+oGCNavPS/5U\n",
       "+goKeRHDTY3CxQ5rfZ1N/qBl5/wtdXe1oHpcs2PELiDY9bP5xZeEOytqo/MKODBXhK0ZXYYeO52q\n",
       "dk7RdG6KNFk2PX9MbsofFJtymcKq8CYc+GPwUPS4891IYRiaQ1FkykTDU3SCQLEEZd6mvmlWpkjP\n",
       "VJC2iLWZEROAJG0MuaJSiQqHEMK5n73hV4Gbi9qWR0vBh3aKBz0tqVx86lY9JDFOb9k2d/WzoCUs\n",
       "XS6tU0WmpqV4IousnYL0bREeDeyOjGAiPrRoluBBi9Gq1E7JQswjJfmytfqK7WJTud9fiT7pOBxd\n",
       "3ET68NBdogI7FibIw5HvonJNs9a6IVRJ0NHlVOpozNCKVMCipf4umwpRJXvZ9w0ktQfw3mGOYaPl\n",
       "1q07/DXahBoX+V0Y/tVqe9gZEGbFNUMXVGbtlC3cQ7ZNJW2EQvFF1P+w9dQutUKN2F1Xl04tqG4u\n",
       "gJ7zWFbrO4SsQXLq8EI9bm4Yu+AbMpw0+rWsAoIM6WigfbxjHGs7FDPujr4g+tcBDx62/xgIotyI\n",
       "7hwBbYeAjJbLD+9h2emC3WaQne50u0RvBEUj7ygpFXKQKPhajG6wE+i4C2oAWq71wGoNt/xVmukA\n",
       "w/7pAD7haaSJEXn8Oeou6P1Gd9Iae97hdMJjMRI6MJfB8LIKFHd29Etab0SShyI8MpTi1xMhSSUt\n",
       "epwFe60WSeyQ6t83WQRcqRI2Sh02bWMG+eFaAaEoti0N1ATDlJHwPSM745qCoSXxG2RDBCdQNrtj\n",
       "9Lx2VeVRN/HND0Hz8EKzot7tG958IMVQHR/tVyc5FjL9d5fqO0CDO8KkGH45/u3HOGPsehkXkqyR\n",
       "KcCXIlJfSLQ+o0tRbo9sKaA/SqEU19xi79VHiKsznBfaDbjQZFdTaeKxAYJ9TVEtjAMleO0Ce1qo\n",
       "O9e9ZF9EJ370V5HFMISgYfi8Xss9cy4C0t4XcQjrqI1/iiuVqKUr9JOntnEOX/o9vxbsrfmpe3nu\n",
       "UujvDI431TLRkNcJIh3yVsfSKcmeZWJKuHkbRgX7YfkKEdcszhXmr47fJ5sQ1gn4LGFn7LBXLklp\n",
       "N6I+llu1RmrCvHridy6OweCclSyyjVvA5SdpIpVRfE8MuIqjNq0O3iIw9k37NWAS412RxV/ZedOJ\n",
       "lsAqs03SoJDxcKM4b+e9CDmnjX2BR93HBO/BrHUwammWfC433VrRCBZRoVYTPWOrBXIGcHxx3wG/\n",
       "CHe11mkZfR2yd30/XD98THzLlujyP5GuSO8J/zL17vfzHPJXhwwXye1bCiGMmwwMytHiHLfQV9ul\n",
       "UhVkfs2atYAO4hcDNikquMjBlc591gFJ6/xfdDwqw6AGC2zzPwuWQ8YMGxER51z0OX+huApYrdtA\n",
       "5JLFEuY03qGfPhoZdTUCsPAK98VzI0n5huyErHz/2EPNJwPjIJOUcGGoG8TBMkc1P0M2Dr/7/AV7\n",
       "9Xto6l4L1gd/yKiSSCHgS/uQ6POG6/isWvuSyxBlit2C3yuDg4EOi+FifucyPhMStQJN59X6WlcF\n",
       "pSi1cdBGHu2lyG1BppDfbs15BPROVuczKflCBj8lXSZVr7WchXquWKXWbEn3StU8JrFSIfx2aOSK\n",
       "OMgLyYJU0GC6cVc1OdJ+9E+wJQDVsBlm5SOQLzdr5HIOdSxzXXSwDlWV/DpGH849XbMMO6Uc4f3/\n",
       "MnEfpmVgCTveUolGk388+YfU11ZNu+wAbAEI1dD/OSQhP94Ul+2QJAzaacpPgSjbrLgAimAFMn96\n",
       "2onspZDViR5+bzb205VEvSnhW7vWqKDGXNXqID0j67YttbG9fT7kUhnWMLQdSvaa0bjvvubqiY6X\n",
       "ErYEJkb3zIhq+yKvvFuamOEb9rSKJuUULDyEpDOm34E4ZSfaJ9L0muVdOiMD8/pMFp8ay9L2l9r1\n",
       "XRMZC/eqAfF7DT0Lz3NGJ4Gwo2KN/k2ayVtxVATsR5JPpQdk72qUw5u6l/y4mR5bEaBD7qfKYTMj\n",
       "bvzDgBnf8QO7IKQ1/z/tmgdDaRD11glaQciqDpHrRtgBjqZKZ4kpNIUt+YVcO1ys1sMKeI3ZoaNM\n",
       "qoMi8JJlynCAfmiG+9rDjvBddK44j8n5qPCkTBk9ET2+f0ZrAeS1T/G640WeZpwEpH8E64CP3vMF\n",
       "YaaEyB9XVmMfPFMR5PX1rysPIxWluNz8JnNyT92qNmZ9MlXv3A3TYeE7ldUrymy8DQ2hCVtloaE+\n",
       "1Fo6LqxHcVf38TipFz3vSsV6Uwv8A+/1lkS29fNnYR4eRB468yb+yN16pwGVtcGZduomhDqmWjpm\n",
       "RyjHHizJrTRC74YaYL+Tt/3X9VEF5aSCSQSZt0t0r3ISnzOZdMhXo2NMBcSqAkjwdS7HtwEoD/Hr\n",
       "Hx4xF6cCUCvivI9HVt2B1DoarEa5YsLQW4z9tQjGFPjUEHSsr+Y/VYZQHluI/RJ3p/ZwbSYtnsvA\n",
       "vN6ja84NWnIxiSMk0O9DeZ/g8bzibQBAheAAAAMAAPqBAAAHvkGaIWxD//6plgAIwjaUgG0v4od7\n",
       "jX+7IjvuoABCCXpyqjtFf/tVI2Zs/wnAxmDsrxKqN0Sb3OWWnjVl9j3F3n+rfCfrTM4cApD+DYQX\n",
       "ZGtg7CvHGlrxYl9njKbuw2YrVUVt33W2LU3SJBBlII2cYKmov+bXHGqKzhJYkaZ/gDuG34Nw4716\n",
       "k4TzjuYYsvpe1vP68pYUMIYaxZs7SsZqSsyzQrraOBk1O4RVLW7/iA6j/rOcdfLTSnkdKQbPDQ0D\n",
       "9GKYWjoe+U9C7hf8dvKsZ8bm+Z4vIIykmLEdMpg2hjk/qr18NEsr4OToCnq+KQOy0CG5SbniEg9J\n",
       "17UQhzFNWMmUYrpayTjf6cTSxmFbIwuG6I0Gy+MM2vM9TzZmvuZg3x4KXOnrscaqvDdx8h6+DbeJ\n",
       "gBwdJG0VL4IprXXaU07CtfPwdnHxHWFGsUU2UIXY2JVBYcjjkto96dJuEjurMX7N9bRU3mPBPMuw\n",
       "D3/zKH2Bn+I2556JSl4iR9nOAOD9263iVJGV1ADIa9Qzev9qy6FARe3t5pboW/yIkb8rI9MxRTkN\n",
       "KLrIvhuDiLQaohL534iQSn6KIZ3N0l0qiZGtXnyXcGPB+VCryi+orxhYBqE1wgk6nr8l5g8Hgyal\n",
       "xsgL7knnEuL9VtTlk5B/DddDzCG7/IDuA5P/uUV96QZSgyPoR6eaq/l8vrI/GDYeJl704c5wv51i\n",
       "7gZB+Z8+08P2AA32IcsnnCriCZOV3MdYWOAH+8IVpieJKhjq4z7Vi39RBtvatWsT0uhgf4+iZAFZ\n",
       "EbFGqZxzG+Ewi+wJSuDJxbEwL7zT6tNi0R336YJ7Khhbh3aVe9KtsjHxXHQXjhcM8GyzQ7VuA4O5\n",
       "GsGLXgpplsC7GEoE58oQtHgFWn35isvoqH1hFykHmY8wCAzu4fBLr9lCfNTrO5SN5h759hH84Y58\n",
       "oB8PkJOJnAOsYq9E1U7lNbdNN0ECbAPx5tiFIFqO6gjW+o/pXMTXtCCV2yBSPkaEAWoTb5wOZHq/\n",
       "pzxP/RsQ1EXeTUcCkOKjxzx7FOTWeadsjz2CY0kfzMbPHsrIRlOYsnDez5j340AceqaapG3KUwMg\n",
       "Iiku48vIDRN0O2z2e73Kxke+uT35tu8GjitrkknJ99oHsGSmP2KeKZHeDY6VuYXUgZWHh3xXIG5C\n",
       "H12fnAKtyjwetApy9pB+FjRY1uFTBSTvIRGey6HX+1JLRwYUbtpAeYmvGEidwbzpr/Bf0qE+Vf1q\n",
       "4oJVI/vtQRv+WbChdQGDnGA24iezP6shahNKwZ5IyInQM412fRJ/iucnP+LasQZpIfz170Flug5w\n",
       "xJZAdz6IS94vwEm8pR1pt0Xe8sToGWZeJfMMSJr7zaE98xVHxFZs3nXFcg5T+YguegxXjTUffH1M\n",
       "+NV7zyi3V7uzl9py/9N68dAwnhiMGDOzV5I87xOZOAXu3+1DYwzz8iB702sVp7tn9Mc7/ajyjswY\n",
       "xAjsE/XHBG5cWTgV6/kqtqS0Dd6mflI4AX7MbifHgQ/SZqUSld+n630aRYHVsHJghwGApuQS9oq9\n",
       "9R6nogITTE187r/gk0fn6rHUfXjFq9UF40xtLTq4s/uoOaIyCSUP9bzxJHiSiBIbmQcRBkS6i2DX\n",
       "yfhKmcXeVUt0Cv7DeiN6qTjWiT6mTXOCojJ7fUiHpe/IWy1BZnt0B3uvC8Ao3KKDTjcGFKk3Uh1M\n",
       "eoD53JG3/+1qeHRprF6nLg2zXe2M5oxJCCKTLwAQOlp+JVolbXs70MkQykEsMSc5R+af/4Ttug8o\n",
       "O6RCV6Px3axJdMT9UKba/voIY9ISBFfVB/cvG3vmyHnrvteAhOkAfRZNTPq4NVZZyyg7YcN4dzD6\n",
       "6ySN/aSzx9e6HWYPnQ4NnT4KbeV/XY66oQYMYLUePQ+0Ecqwedy5T/KDuKQz7zuBJXzeNnD8h39h\n",
       "G4CucA+zbd/xqiBaHvvZhlI8tFKs1VVlfzeQDUnsnFo0JS6jy/Z4ROS5OFvUuBWI4NZBqFP6C2wy\n",
       "JIHFTCgAPoCa0e5I/ixF1xIeO3BiXe8DM4kRx5AxUfGPSvFqh4mfQk74WeoQ7FgJcyNRKplAEZ9m\n",
       "Mrsm0vSZTyk+a7ltIb45OFBZrSu1bmWcdg8FMDGqNTd5xL6i/G/Ea7ICbmWe1miKgmEhsgGy8LVm\n",
       "dKM9gM1Gm+mwU6YiMJXIAiZvAV+XF9nZ8V9b+KfoXak59nxUjINbcr9EXteQICVv0sC6/ra2R1my\n",
       "hHecWh0PwU3FZUPcDOXNGmzIDHiK09tHmeJahybJrl7I0+oA7bRknCqBiO9I4mvIvwfZRREOIe/b\n",
       "9tnAlgq+4ZbVyREtFtlBMR6LdukANbJb9zaet0Q9eKZS+Nu+YB6GIZp1g8UCS4XyxfH3KR/ZsJqG\n",
       "nFB0FXvWl057QvpkYS4d2/kB9Mm8/seG89Avhr4z/4BU8hgQLS/b6MCFcAcjJ3Yi/PsEkQBLc344\n",
       "6/QrL490Zx5EICXvkG+JyYAB3HDL3udRuYYsPoxjaRML5145dR5zKrqRrmkz8mA7ov/4jydDeHLu\n",
       "/ZuqcIEFLe+6Wv6K/VI+jnO+oqveh+KG1Rq31P6OuO1bP/hg8uFjvmj7hn8Ce9c3Vru5dYLR3rKd\n",
       "M1b7UiDVcknpDgOz2Gv8BXsWouz4qc+AAAADKm1vb3YAAABsbXZoZAAAAAAAAAAAAAAAAAAAA+gA\n",
       "AAGQAAEAAAEAAAAAAAAAAAAAAAABAAAAAAAAAAAAAAAAAAAAAQAAAAAAAAAAAAAAAAAAQAAAAAAA\n",
       "AAAAAAAAAAAAAAAAAAAAAAAAAAAAAAAAAAIAAAJUdHJhawAAAFx0a2hkAAAAAwAAAAAAAAAAAAAA\n",
       "AQAAAAAAAAGQAAAAAAAAAAAAAAAAAAAAAAABAAAAAAAAAAAAAAAAAAAAAQAAAAAAAAAAAAAAAAAA\n",
       "QAAAAAGQAAABkAAAAAAAJGVkdHMAAAAcZWxzdAAAAAAAAAABAAABkAAAAAAAAQAAAAABzG1kaWEA\n",
       "AAAgbWRoZAAAAAAAAAAAAAAAAAAAKAAAABAAVcQAAAAAAC1oZGxyAAAAAAAAAAB2aWRlAAAAAAAA\n",
       "AAAAAAAAVmlkZW9IYW5kbGVyAAAAAXdtaW5mAAAAFHZtaGQAAAABAAAAAAAAAAAAAAAkZGluZgAA\n",
       "ABxkcmVmAAAAAAAAAAEAAAAMdXJsIAAAAAEAAAE3c3RibAAAALdzdHNkAAAAAAAAAAEAAACnYXZj\n",
       "MQAAAAAAAAABAAAAAAAAAAAAAAAAAAAAAAGQAZAASAAAAEgAAAAAAAAAAQAAAAAAAAAAAAAAAAAA\n",
       "AAAAAAAAAAAAAAAAAAAAAAAAABj//wAAADVhdmNDAWQAFf/hABhnZAAVrNlBkM6EAAADAAQAAAMA\n",
       "KDxYtlgBAAZo6+PLIsD9+PgAAAAAHHV1aWRraEDyXyRPxbo5pRvPAyPzAAAAAAAAABhzdHRzAAAA\n",
       "AAAAAAEAAAACAAAIAAAAABRzdHNzAAAAAAAAAAEAAAABAAAAHHN0c2MAAAAAAAAAAQAAAAEAAAAC\n",
       "AAAAAQAAABxzdHN6AAAAAAAAAAAAAAACAAAOowAAB8IAAAAUc3RjbwAAAAAAAAABAAAAMAAAAGJ1\n",
       "ZHRhAAAAWm1ldGEAAAAAAAAAIWhkbHIAAAAAAAAAAG1kaXJhcHBsAAAAAAAAAAAAAAAALWlsc3QA\n",
       "AAAlqXRvbwAAAB1kYXRhAAAAAQAAAABMYXZmNTguNDUuMTAw\n",
       "\">\n",
       "  Your browser does not support the video tag.\n",
       "</video>"
      ],
      "text/plain": [
       "\u001b[1m<\u001b[0m\u001b[1;95mIPython.core.display.HTML\u001b[0m\u001b[39m object\u001b[0m\u001b[1m>\u001b[0m"
      ]
     },
     "execution_count": 15,
     "metadata": {},
     "output_type": "execute_result"
    }
   ],
   "source": [
    "# video_from_trace(tr, framerate=5, use_retval=True)\n",
    "video_from_rendered(gt_images, framerate=5,)"
   ]
  },
  {
   "cell_type": "code",
   "execution_count": 13,
   "metadata": {},
   "outputs": [],
   "source": [
    "gt_vel = tr[\"dynamics_1\",\"velocity\"]\n",
    "en = b.make_enumerator([(\"dynamics_1\", \"velocity\")], chm_builder = velocity_chm_builder)"
   ]
  },
  {
   "cell_type": "code",
   "execution_count": 8,
   "metadata": {},
   "outputs": [
    {
     "name": "stdout",
     "output_type": "stream",
     "text": [
      "[('dynamics_1', 'velocity')] [[[ 9.9868363e-01  4.6832435e-02  2.0925160e-02  1.2540886e-02]\n",
      "  [-4.6936616e-02  9.9888760e-01  4.5154467e-03 -7.2484016e-03]\n",
      "  [-2.0690415e-02 -5.4916586e-03  9.9977082e-01  1.3298560e-03]\n",
      "  [ 0.0000000e+00  0.0000000e+00  0.0000000e+00  1.0000000e+00]]\n",
      "\n",
      " [[ 9.9697751e-01  5.9375841e-02  5.0104488e-02  1.5674656e-02]\n",
      "  [-5.9408851e-02  9.9823326e-01 -8.3156227e-04 -8.8680061e-03]\n",
      "  [-5.0065342e-02 -2.1476008e-03  9.9874353e-01  3.8148614e-03]\n",
      "  [ 0.0000000e+00  0.0000000e+00  0.0000000e+00  1.0000000e+00]]\n",
      "\n",
      " [[ 0.0000000e+00  0.0000000e+00  0.0000000e+00  0.0000000e+00]\n",
      "  [ 0.0000000e+00  0.0000000e+00  0.0000000e+00  0.0000000e+00]\n",
      "  [ 0.0000000e+00  0.0000000e+00  0.0000000e+00  0.0000000e+00]\n",
      "  [ 0.0000000e+00  0.0000000e+00  0.0000000e+00  0.0000000e+00]]\n",
      "\n",
      " ...\n",
      "\n",
      " [[ 0.0000000e+00  0.0000000e+00  0.0000000e+00  0.0000000e+00]\n",
      "  [ 0.0000000e+00  0.0000000e+00  0.0000000e+00  0.0000000e+00]\n",
      "  [ 0.0000000e+00  0.0000000e+00  0.0000000e+00  0.0000000e+00]\n",
      "  [ 0.0000000e+00  0.0000000e+00  0.0000000e+00  0.0000000e+00]]\n",
      "\n",
      " [[ 0.0000000e+00  0.0000000e+00  0.0000000e+00  0.0000000e+00]\n",
      "  [ 0.0000000e+00  0.0000000e+00  0.0000000e+00  0.0000000e+00]\n",
      "  [ 0.0000000e+00  0.0000000e+00  0.0000000e+00  0.0000000e+00]\n",
      "  [ 0.0000000e+00  0.0000000e+00  0.0000000e+00  0.0000000e+00]]\n",
      "\n",
      " [[ 0.0000000e+00  0.0000000e+00  0.0000000e+00  0.0000000e+00]\n",
      "  [ 0.0000000e+00  0.0000000e+00  0.0000000e+00  0.0000000e+00]\n",
      "  [ 0.0000000e+00  0.0000000e+00  0.0000000e+00  0.0000000e+00]\n",
      "  [ 0.0000000e+00  0.0000000e+00  0.0000000e+00  0.0000000e+00]]]\n"
     ]
    }
   ],
   "source": [
    "key = jax.random.PRNGKey(234523)\n",
    "chm = velocity_chm_builder([('dynamics_1', 'velocity')], gt_vel)"
   ]
  },
  {
   "cell_type": "code",
   "execution_count": 26,
   "metadata": {},
   "outputs": [],
   "source": [
    "# genjax.choice_map({\"variance\": 0.01})\n",
    "# x = tr.update(key, chm, b.make_unknown_change_argdiffs(tr))\n",
    "ichm = genjax.choice_map({\n",
    "            \"dynamics_1\":genjax.index_choice_map(jnp.arange(gt_vel.shape[0]),genjax.choice_map({\n",
    "                \"velocity\": gt_vel\n",
    "        }))\n",
    "    })\n",
    "\n",
    "x = tr.update(key, ichm, tuple(map(lambda v: Diff(v, NoChange), tr.args)))\n",
    "# x = tr.update(key, genjax.choice_map({\"init_velocity\": jnp.eye(4)}), tuple(map(lambda v: Diff(v, NoChange), tr.args)))\n",
    "\n"
   ]
  },
  {
   "cell_type": "code",
   "execution_count": 20,
   "metadata": {},
   "outputs": [
    {
     "data": {
      "text/html": [
       "<pre style=\"white-space:pre;overflow-x:auto;line-height:normal;font-family:Menlo,'DejaVu Sans Mono',consolas,'Courier New',monospace\"></pre>\n"
      ],
      "text/plain": []
     },
     "metadata": {},
     "output_type": "display_data"
    },
    {
     "data": {
      "text/plain": [
       "\u001b[1;35mArray\u001b[0m\u001b[1m(\u001b[0m\u001b[1;36m16228.155\u001b[0m, \u001b[33mdtype\u001b[0m=\u001b[35mfloat32\u001b[0m\u001b[1m)\u001b[0m"
      ]
     },
     "execution_count": 20,
     "metadata": {},
     "output_type": "execute_result"
    }
   ],
   "source": [
    "x[2].score"
   ]
  },
  {
   "cell_type": "code",
   "execution_count": 15,
   "metadata": {},
   "outputs": [],
   "source": [
    "argdiff = b.make_unknown_change_argdiffs(tr)"
   ]
  },
  {
   "cell_type": "code",
   "execution_count": 16,
   "metadata": {},
   "outputs": [
    {
     "data": {
      "text/html": [
       "<pre style=\"white-space:pre;overflow-x:auto;line-height:normal;font-family:Menlo,'DejaVu Sans Mono',consolas,'Courier New',monospace\"></pre>\n"
      ],
      "text/plain": []
     },
     "metadata": {},
     "output_type": "display_data"
    },
    {
     "data": {
      "text/plain": [
       "\n",
       "\u001b[1m(\u001b[0m\n",
       "    \u001b[1;35mDiff\u001b[0m\u001b[1m(\u001b[0m\u001b[33mprimal\u001b[0m=\u001b[1;35mArray\u001b[0m\u001b[1m(\u001b[0m\u001b[1m[\u001b[0m\u001b[1;36m0\u001b[0m.\u001b[1m]\u001b[0m, \u001b[33mdtype\u001b[0m=\u001b[35mfloat32\u001b[0m\u001b[1m)\u001b[0m, \u001b[33mtangent\u001b[0m=\u001b[1;35m_UnknownChange\u001b[0m\u001b[1m(\u001b[0m\u001b[1m)\u001b[0m\u001b[1m)\u001b[0m,\n",
       "    \u001b[1;35mDiff\u001b[0m\u001b[1m(\u001b[0m\n",
       "        \u001b[33mprimal\u001b[0m=\u001b[1;35mArray\u001b[0m\u001b[1m(\u001b[0m\u001b[1m[\u001b[0m \u001b[1;36m0\u001b[0m,  \u001b[1;36m1\u001b[0m,  \u001b[1;36m2\u001b[0m,  \u001b[1;36m3\u001b[0m,  \u001b[1;36m4\u001b[0m,  \u001b[1;36m5\u001b[0m,  \u001b[1;36m6\u001b[0m,  \u001b[1;36m7\u001b[0m,  \u001b[1;36m8\u001b[0m,  \u001b[1;36m9\u001b[0m, \u001b[1;36m10\u001b[0m, \u001b[1;36m11\u001b[0m, \u001b[1;36m12\u001b[0m, \u001b[1;36m13\u001b[0m, \u001b[1;36m14\u001b[0m, \u001b[1;36m15\u001b[0m, \u001b[1;36m16\u001b[0m,\n",
       "       \u001b[1;36m17\u001b[0m, \u001b[1;36m18\u001b[0m, \u001b[1;36m19\u001b[0m, \u001b[1;36m20\u001b[0m, \u001b[1;36m21\u001b[0m, \u001b[1;36m22\u001b[0m, \u001b[1;36m23\u001b[0m, \u001b[1;36m24\u001b[0m, \u001b[1;36m25\u001b[0m, \u001b[1;36m26\u001b[0m, \u001b[1;36m27\u001b[0m, \u001b[1;36m28\u001b[0m, \u001b[1;36m29\u001b[0m, \u001b[1;36m30\u001b[0m, \u001b[1;36m31\u001b[0m\u001b[1m]\u001b[0m,      \u001b[33mdtype\u001b[0m=\u001b[35mint32\u001b[0m\u001b[1m)\u001b[0m,\n",
       "        \u001b[33mtangent\u001b[0m=\u001b[1;35m_UnknownChange\u001b[0m\u001b[1m(\u001b[0m\u001b[1m)\u001b[0m\n",
       "    \u001b[1m)\u001b[0m,\n",
       "    \u001b[1;35mDiff\u001b[0m\u001b[1m(\u001b[0m\u001b[33mprimal\u001b[0m=\u001b[1;35mArray\u001b[0m\u001b[1m(\u001b[0m\u001b[1m[\u001b[0m\u001b[1;36m0\u001b[0m.\u001b[1m]\u001b[0m, \u001b[33mdtype\u001b[0m=\u001b[35mfloat32\u001b[0m\u001b[1m)\u001b[0m, \u001b[33mtangent\u001b[0m=\u001b[1;35m_UnknownChange\u001b[0m\u001b[1m(\u001b[0m\u001b[1m)\u001b[0m\u001b[1m)\u001b[0m,\n",
       "    \u001b[1;35mDiff\u001b[0m\u001b[1m(\u001b[0m\n",
       "        \u001b[33mprimal\u001b[0m=\u001b[1;35mArray\u001b[0m\u001b[1m(\u001b[0m\u001b[1m[\u001b[0m\u001b[1m[\u001b[0m\u001b[1;36m0.102289\u001b[0m  , \u001b[1;36m0.102446\u001b[0m  , \u001b[1;36m0.14014399\u001b[0m\u001b[1m]\u001b[0m,\n",
       "       \u001b[1m[\u001b[0m\u001b[1;36m0.07173\u001b[0m   , \u001b[1;36m0.16397701\u001b[0m, \u001b[1;36m0.21348599\u001b[0m\u001b[1m]\u001b[0m,\n",
       "       \u001b[1m[\u001b[0m\u001b[1;36m0.049544\u001b[0m  , \u001b[1;36m0.09404799\u001b[0m, \u001b[1;36m0.176015\u001b[0m  \u001b[1m]\u001b[0m,\n",
       "       \u001b[1m[\u001b[0m\u001b[1;36m0.06785399\u001b[0m, \u001b[1;36m0.06775\u001b[0m   , \u001b[1;36m0.10203701\u001b[0m\u001b[1m]\u001b[0m,\n",
       "       \u001b[1m[\u001b[0m\u001b[1;36m0.09715\u001b[0m   , \u001b[1;36m0.06662\u001b[0m   , \u001b[1;36m0.19140801\u001b[0m\u001b[1m]\u001b[0m,\n",
       "       \u001b[1m[\u001b[0m\u001b[1;36m0.08551\u001b[0m   , \u001b[1;36m0.085614\u001b[0m  , \u001b[1;36m0.033511\u001b[0m  \u001b[1m]\u001b[0m,\n",
       "       \u001b[1m[\u001b[0m\u001b[1;36m0.137848\u001b[0m  , \u001b[1;36m0.128791\u001b[0m  , \u001b[1;36m0.038828\u001b[0m  \u001b[1m]\u001b[0m,\n",
       "       \u001b[1m[\u001b[0m\u001b[1;36m0.08935501\u001b[0m, \u001b[1;36m0.101109\u001b[0m  , \u001b[1;36m0.03012\u001b[0m   \u001b[1m]\u001b[0m,\n",
       "       \u001b[1m[\u001b[0m\u001b[1;36m0.102123\u001b[0m  , \u001b[1;36m0.060322\u001b[0m  , \u001b[1;36m0.083637\u001b[0m  \u001b[1m]\u001b[0m,\n",
       "       \u001b[1m[\u001b[0m\u001b[1;36m0.108888\u001b[0m  , \u001b[1;36m0.178412\u001b[0m  , \u001b[1;36m0.03667\u001b[0m   \u001b[1m]\u001b[0m,\n",
       "       \u001b[1m[\u001b[0m\u001b[1;36m0.148997\u001b[0m  , \u001b[1;36m0.144769\u001b[0m  , \u001b[1;36m0.24264\u001b[0m   \u001b[1m]\u001b[0m,\n",
       "       \u001b[1m[\u001b[0m\u001b[1;36m0.102406\u001b[0m  , \u001b[1;36m0.067712\u001b[0m  , \u001b[1;36m0.25064\u001b[0m   \u001b[1m]\u001b[0m,\n",
       "       \u001b[1m[\u001b[0m\u001b[1;36m0.161444\u001b[0m  , \u001b[1;36m0.16111301\u001b[0m, \u001b[1;36m0.05497\u001b[0m   \u001b[1m]\u001b[0m,\n",
       "       \u001b[1m[\u001b[0m\u001b[1;36m0.116966\u001b[0m  , \u001b[1;36m0.093075\u001b[0m  , \u001b[1;36m0.081384\u001b[0m  \u001b[1m]\u001b[0m,\n",
       "       \u001b[1m[\u001b[0m\u001b[1;36m0.184241\u001b[0m  , \u001b[1;36m0.187434\u001b[0m  , \u001b[1;36m0.057317\u001b[0m  \u001b[1m]\u001b[0m,\n",
       "       \u001b[1m[\u001b[0m\u001b[1;36m0.103951\u001b[0m  , \u001b[1;36m0.103548\u001b[0m  , \u001b[1;36m0.20589\u001b[0m   \u001b[1m]\u001b[0m,\n",
       "       \u001b[1m[\u001b[0m\u001b[1;36m0.09608001\u001b[0m, \u001b[1;36m0.201544\u001b[0m  , \u001b[1;36m0.015716\u001b[0m  \u001b[1m]\u001b[0m,\n",
       "       \u001b[1m[\u001b[0m\u001b[1;36m0.021039\u001b[0m  , \u001b[1;36m0.120845\u001b[0m  , \u001b[1;36m0.018877\u001b[0m  \u001b[1m]\u001b[0m,\n",
       "       \u001b[1m[\u001b[0m\u001b[1;36m0.119956\u001b[0m  , \u001b[1;36m0.171278\u001b[0m  , \u001b[1;36m0.03915\u001b[0m   \u001b[1m]\u001b[0m,\n",
       "       \u001b[1m[\u001b[0m\u001b[1;36m0.209794\u001b[0m  , \u001b[1;36m0.16436\u001b[0m   , \u001b[1;36m0.036333\u001b[0m  \u001b[1m]\u001b[0m,\n",
       "       \u001b[1m[\u001b[0m\u001b[1;36m0.05263\u001b[0m   , \u001b[1;36m0.077842\u001b[0m  , \u001b[1;36m0.051131\u001b[0m  \u001b[1m]\u001b[0m,\n",
       "       \u001b[1m[\u001b[0m\u001b[1;36m0.5\u001b[0m       , \u001b[1;36m0.01\u001b[0m      , \u001b[1;36m0.3\u001b[0m       \u001b[1m]\u001b[0m,\n",
       "       \u001b[1m[\u001b[0m\u001b[1;36m0.1\u001b[0m       , \u001b[1;36m0.1\u001b[0m       , \u001b[1;36m0.16\u001b[0m      \u001b[1m]\u001b[0m,\n",
       "       \u001b[1m[\u001b[0m\u001b[1;36m0.15515922\u001b[0m, \u001b[1;36m0.1536861\u001b[0m , \u001b[1;36m0.12039381\u001b[0m\u001b[1m]\u001b[0m,\n",
       "       \u001b[1m[\u001b[0m\u001b[1;36m0.1\u001b[0m       , \u001b[1;36m0.1\u001b[0m       , \u001b[1;36m0.1\u001b[0m       \u001b[1m]\u001b[0m,\n",
       "       \u001b[1m[\u001b[0m\u001b[1;36m0.1701302\u001b[0m , \u001b[1;36m0.1701302\u001b[0m , \u001b[1;36m0.1701302\u001b[0m \u001b[1m]\u001b[0m,\n",
       "       \u001b[1m[\u001b[0m\u001b[1;36m0.0368122\u001b[0m , \u001b[1;36m0.046477\u001b[0m  , \u001b[1;36m0.0033915\u001b[0m \u001b[1m]\u001b[0m,\n",
       "       \u001b[1m[\u001b[0m\u001b[1;36m0.045\u001b[0m     , \u001b[1;36m0.045\u001b[0m     , \u001b[1;36m0.078\u001b[0m     \u001b[1m]\u001b[0m,\n",
       "       \u001b[1m[\u001b[0m\u001b[1;36m0.1272792\u001b[0m , \u001b[1;36m0.1272792\u001b[0m , \u001b[1;36m0.1272792\u001b[0m \u001b[1m]\u001b[0m,\n",
       "       \u001b[1m[\u001b[0m\u001b[1;36m0.0127872\u001b[0m , \u001b[1;36m0.0126264\u001b[0m , \u001b[1;36m0.0124158\u001b[0m \u001b[1m]\u001b[0m,\n",
       "       \u001b[1m[\u001b[0m\u001b[1;36m0.0245414\u001b[0m , \u001b[1;36m0.046477\u001b[0m  , \u001b[1;36m0.0033915\u001b[0m \u001b[1m]\u001b[0m,\n",
       "       \u001b[1m[\u001b[0m\u001b[1;36m0.5461\u001b[0m    , \u001b[1;36m0.1024919\u001b[0m , \u001b[1;36m0.43688\u001b[0m   \u001b[1m]\u001b[0m\u001b[1m]\u001b[0m, \u001b[33mdtype\u001b[0m=\u001b[35mfloat32\u001b[0m\u001b[1m)\u001b[0m,\n",
       "        \u001b[33mtangent\u001b[0m=\u001b[1;35m_UnknownChange\u001b[0m\u001b[1m(\u001b[0m\u001b[1m)\u001b[0m\n",
       "    \u001b[1m)\u001b[0m,\n",
       "    \u001b[1;35mDiff\u001b[0m\u001b[1m(\u001b[0m\n",
       "        \u001b[33mprimal\u001b[0m=\u001b[1;35mArray\u001b[0m\u001b[1m(\u001b[0m\u001b[1m[\u001b[0m\u001b[1m[\u001b[0m\u001b[1;36m-0.1\u001b[0m, \u001b[1;36m-0.1\u001b[0m,  \u001b[1;36m1.5\u001b[0m\u001b[1m]\u001b[0m,\n",
       "       \u001b[1m[\u001b[0m \u001b[1;36m0.1\u001b[0m,  \u001b[1;36m0.1\u001b[0m,  \u001b[1;36m2\u001b[0m. \u001b[1m]\u001b[0m\u001b[1m]\u001b[0m, \u001b[33mdtype\u001b[0m=\u001b[35mfloat32\u001b[0m\u001b[1m)\u001b[0m,\n",
       "        \u001b[33mtangent\u001b[0m=\u001b[1;35m_UnknownChange\u001b[0m\u001b[1m(\u001b[0m\u001b[1m)\u001b[0m\n",
       "    \u001b[1m)\u001b[0m,\n",
       "    \u001b[1;35mDiff\u001b[0m\u001b[1m(\u001b[0m\u001b[33mprimal\u001b[0m=\u001b[1;35mArray\u001b[0m\u001b[1m(\u001b[0m\u001b[1;36m1000\u001b[0m., \u001b[33mdtype\u001b[0m=\u001b[35mfloat32\u001b[0m\u001b[1m)\u001b[0m, \u001b[33mtangent\u001b[0m=\u001b[1;35m_UnknownChange\u001b[0m\u001b[1m(\u001b[0m\u001b[1m)\u001b[0m\u001b[1m)\u001b[0m,\n",
       "    \u001b[1;35mDiff\u001b[0m\u001b[1m(\u001b[0m\u001b[33mprimal\u001b[0m=\u001b[1;35mArray\u001b[0m\u001b[1m(\u001b[0m\u001b[1m[\u001b[0m\u001b[1;36m1.e-02\u001b[0m, \u001b[1;36m1.e+04\u001b[0m\u001b[1m]\u001b[0m, \u001b[33mdtype\u001b[0m=\u001b[35mfloat32\u001b[0m\u001b[1m)\u001b[0m, \u001b[33mtangent\u001b[0m=\u001b[1;35m_UnknownChange\u001b[0m\u001b[1m(\u001b[0m\u001b[1m)\u001b[0m\u001b[1m)\u001b[0m,\n",
       "    \u001b[1;35mDiff\u001b[0m\u001b[1m(\u001b[0m\n",
       "        \u001b[33mprimal\u001b[0m=\u001b[1;35mArray\u001b[0m\u001b[1m(\u001b[0m\u001b[1m[\u001b[0m\u001b[1m[\u001b[0m\u001b[1;36m5.e-03\u001b[0m, \u001b[1;36m1.e+04\u001b[0m\u001b[1m]\u001b[0m,\n",
       "       \u001b[1m[\u001b[0m\u001b[1;36m5.e-03\u001b[0m, \u001b[1;36m1.e+04\u001b[0m\u001b[1m]\u001b[0m\u001b[1m]\u001b[0m, \u001b[33mdtype\u001b[0m=\u001b[35mfloat32\u001b[0m\u001b[1m)\u001b[0m,\n",
       "        \u001b[33mtangent\u001b[0m=\u001b[1;35m_UnknownChange\u001b[0m\u001b[1m(\u001b[0m\u001b[1m)\u001b[0m\n",
       "    \u001b[1m)\u001b[0m,\n",
       "    \u001b[1;35mDiff\u001b[0m\u001b[1m(\u001b[0m\u001b[33mprimal\u001b[0m=\u001b[1;35mArray\u001b[0m\u001b[1m(\u001b[0m\u001b[1m[\u001b[0m\u001b[1;36m1.e-11\u001b[0m, \u001b[1;36m1.e+04\u001b[0m\u001b[1m]\u001b[0m, \u001b[33mdtype\u001b[0m=\u001b[35mfloat32\u001b[0m\u001b[1m)\u001b[0m, \u001b[33mtangent\u001b[0m=\u001b[1;35m_UnknownChange\u001b[0m\u001b[1m(\u001b[0m\u001b[1m)\u001b[0m\u001b[1m)\u001b[0m,\n",
       "    \u001b[1;35mDiff\u001b[0m\u001b[1m(\u001b[0m\u001b[33mprimal\u001b[0m=\u001b[1;35mArray\u001b[0m\u001b[1m(\u001b[0m\u001b[1m[\u001b[0m\u001b[1;36m-1.e-02\u001b[0m,  \u001b[1;36m1.e+04\u001b[0m\u001b[1m]\u001b[0m, \u001b[33mdtype\u001b[0m=\u001b[35mfloat32\u001b[0m\u001b[1m)\u001b[0m, \u001b[33mtangent\u001b[0m=\u001b[1;35m_UnknownChange\u001b[0m\u001b[1m(\u001b[0m\u001b[1m)\u001b[0m\u001b[1m)\u001b[0m\n",
       "\u001b[1m)\u001b[0m"
      ]
     },
     "execution_count": 16,
     "metadata": {},
     "output_type": "execute_result"
    }
   ],
   "source": [
    "argdiff"
   ]
  },
  {
   "cell_type": "code",
   "execution_count": 15,
   "metadata": {},
   "outputs": [
    {
     "data": {
      "text/html": [
       "<pre style=\"white-space:pre;overflow-x:auto;line-height:normal;font-family:Menlo,'DejaVu Sans Mono',consolas,'Courier New',monospace\"></pre>\n"
      ],
      "text/plain": []
     },
     "metadata": {},
     "output_type": "display_data"
    },
    {
     "data": {
      "text/plain": [
       "\n",
       "\u001b[1;35mArray\u001b[0m\u001b[1m(\u001b[0m\u001b[1m[\u001b[0m\u001b[1m[\u001b[0m \u001b[1;36m0.99992085\u001b[0m, \u001b[1;36m-0.00174896\u001b[0m,  \u001b[1;36m0.01246393\u001b[0m,  \u001b[1;36m0.0140807\u001b[0m \u001b[1m]\u001b[0m,\n",
       "       \u001b[1m[\u001b[0m \u001b[1;36m0.00168465\u001b[0m,  \u001b[1;36m0.9999852\u001b[0m ,  \u001b[1;36m0.00516792\u001b[0m, \u001b[1;36m-0.00165914\u001b[0m\u001b[1m]\u001b[0m,\n",
       "       \u001b[1m[\u001b[0m\u001b[1;36m-0.01247278\u001b[0m, \u001b[1;36m-0.00514652\u001b[0m,  \u001b[1;36m0.9999089\u001b[0m ,  \u001b[1;36m0.00492127\u001b[0m\u001b[1m]\u001b[0m,\n",
       "       \u001b[1m[\u001b[0m \u001b[1;36m0\u001b[0m.        ,  \u001b[1;36m0\u001b[0m.        ,  \u001b[1;36m0\u001b[0m.        ,  \u001b[1;36m1\u001b[0m.        \u001b[1m]\u001b[0m\u001b[1m]\u001b[0m,      \u001b[33mdtype\u001b[0m=\u001b[35mfloat32\u001b[0m\u001b[1m)\u001b[0m"
      ]
     },
     "execution_count": 15,
     "metadata": {},
     "output_type": "execute_result"
    }
   ],
   "source": [
    "tr[\"init_velocity\"]"
   ]
  },
  {
   "cell_type": "code",
   "execution_count": null,
   "metadata": {},
   "outputs": [],
   "source": []
  }
 ],
 "metadata": {
  "kernelspec": {
   "display_name": "bayes3d",
   "language": "python",
   "name": "python3"
  },
  "language_info": {
   "codemirror_mode": {
    "name": "ipython",
    "version": 3
   },
   "file_extension": ".py",
   "mimetype": "text/x-python",
   "name": "python",
   "nbconvert_exporter": "python",
   "pygments_lexer": "ipython3",
   "version": "3.9.18"
  },
  "orig_nbformat": 4
 },
 "nbformat": 4,
 "nbformat_minor": 2
}
