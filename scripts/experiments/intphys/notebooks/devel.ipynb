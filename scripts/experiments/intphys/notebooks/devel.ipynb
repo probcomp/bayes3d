{
 "cells": [
  {
   "cell_type": "code",
   "execution_count": 1,
   "metadata": {},
   "outputs": [],
   "source": [
    "import sys\n",
    "sys.path.append(\"../\")\n",
    "import genjax\n",
    "import numpy as np\n",
    "import bayes3d as b\n",
    "import jax.numpy as jnp\n",
    "import bayes3d.genjax\n",
    "import jax\n",
    "from utils import *\n",
    "from viz import *\n",
    "from models import *\n",
    "from renderer_setup import *\n",
    "\n",
    "console = genjax.pretty()"
   ]
  },
  {
   "cell_type": "code",
   "execution_count": 4,
   "metadata": {},
   "outputs": [
    {
     "name": "stderr",
     "output_type": "stream",
     "text": [
      "[E rasterize_gl.cpp:121] OpenGL version reported as 4.6\n"
     ]
    },
    {
     "name": "stdout",
     "output_type": "stream",
     "text": [
      "Increasing frame buffer size to (width, height, depth) = (64, 64, 1024)\n",
      "Centering mesh with translation [ 8.9965761e-07  2.3238501e-02 -3.4500263e-06]\n",
      "Centering mesh with translation [0.        0.0063132 0.       ]\n",
      "Centering mesh with translation [ 5.9977174e-07  2.3238501e-02 -3.4500263e-06]\n",
      "Centering mesh with translation [0.         0.05167415 0.        ]\n"
     ]
    }
   ],
   "source": [
    "gt_path = \"../ground_truths/genjax_generated/scene_1.pkl\"\n",
    "metadata = load_metadata(gt_path)\n",
    "gt_images = metadata[\"rendered\"]\n",
    "RENDERER_ARGS = metadata[\"RENDERER_ARGS\"]\n",
    "model = eval(\"model_v{}\".format(metadata[\"model_version\"]))\n",
    "setup_renderer_and_meshes = eval(\"setup_renderer_and_meshes_v{}\".format(metadata[\"renderer_setup_version\"]))\n",
    "model_importance_jit = eval(\"model_v{}_importance_jit\".format(metadata[\"model_version\"]))\n",
    "model_simulate_jit = eval(\"model_v{}_simulate_jit\".format(metadata[\"model_version\"]))\n",
    "\n",
    "setup_renderer_and_meshes(**RENDERER_ARGS)"
   ]
  },
  {
   "cell_type": "code",
   "execution_count": 20,
   "metadata": {},
   "outputs": [],
   "source": [
    "# renderer initialized outside this\n",
    "def inference_approach_A(model_fs, gt, metadata, num_particles):\n",
    "    (model, model_importance_jit, model_simulate_jit) = model_fs\n",
    "    chm = genjax.choice_map(metadata[\"CHOICE_MAP_ARGS\"])\n",
    "    # force new constaints values to take over\n",
    "    chm = chm.unsafe_merge(genjax.choice_map(\n",
    "        {\"depths\" : genjax.vector_choice_map(genjax.choice_map({\n",
    "                \"depths\": gt\n",
    "        }))}))\n",
    "    \n",
    "    \n"
   ]
  },
  {
   "cell_type": "code",
   "execution_count": null,
   "metadata": {},
   "outputs": [],
   "source": [
    "def intphys_experiment(scene, inference_approach):\n",
    "    pass"
   ]
  },
  {
   "cell_type": "code",
   "execution_count": null,
   "metadata": {},
   "outputs": [],
   "source": []
  }
 ],
 "metadata": {
  "kernelspec": {
   "display_name": "bayes3d",
   "language": "python",
   "name": "python3"
  },
  "language_info": {
   "codemirror_mode": {
    "name": "ipython",
    "version": 3
   },
   "file_extension": ".py",
   "mimetype": "text/x-python",
   "name": "python",
   "nbconvert_exporter": "python",
   "pygments_lexer": "ipython3",
   "version": "3.9.18"
  },
  "orig_nbformat": 4
 },
 "nbformat": 4,
 "nbformat_minor": 2
}
