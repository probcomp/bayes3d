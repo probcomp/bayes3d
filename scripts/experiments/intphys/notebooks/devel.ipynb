{
 "cells": [
  {
   "cell_type": "code",
   "execution_count": 9,
   "metadata": {},
   "outputs": [],
   "source": [
    "import sys\n",
    "from functools import partial\n",
    "sys.path.append(\"../\")\n",
    "import genjax\n",
    "import numpy as np\n",
    "import bayes3d as b\n",
    "import jax.numpy as jnp\n",
    "import bayes3d.genjax\n",
    "import jax\n",
    "from utils import *\n",
    "from viz import *\n",
    "from models import *\n",
    "from renderer_setup import *\n",
    "from inference import *\n",
    "from genjax.inference.importance_sampling import sampling_importance_resampling\n",
    "from genjax._src.core.transforms.incremental import NoChange\n",
    "from genjax._src.core.transforms.incremental import UnknownChange\n",
    "from genjax._src.core.transforms.incremental import Diff\n",
    "\n",
    "console = genjax.pretty()"
   ]
  },
  {
   "cell_type": "code",
   "execution_count": null,
   "metadata": {},
   "outputs": [],
   "source": [
    "gt_path = \"../ground_truths/genjax_generated/scene_6.pkl\"\n",
    "metadata = load_metadata(gt_path)\n",
    "gt_images = metadata[\"rendered\"]\n",
    "model = eval(\"model_v{}\".format(metadata[\"model_version\"]))\n",
    "RENDERER_ARGS = metadata[\"RENDERER_ARGS\"]\n",
    "setup_renderer_and_meshes = eval(\"setup_renderer_and_meshes_v{}\".format(metadata[\"renderer_setup_version\"]))\n",
    "setup_renderer_and_meshes(**RENDERER_ARGS)"
   ]
  },
  {
   "cell_type": "code",
   "execution_count": null,
   "metadata": {},
   "outputs": [],
   "source": [
    "def c2f_pose_update_v2(trace_, key, pose_grid, enumerator):\n",
    "    \n",
    "    scores = enumerator.enumerate_choices_get_scores(trace_, key, pose_grid)\n",
    "    return enumerator.update_choices(\n",
    "        trace_, key,\n",
    "        pose_grid[scores.argmax()]\n",
    "    )\n",
    "c2f_pose_update_v2_jit = jax.jit(c2f_pose_update_v2, static_argnames=(\"enumerator\",))\n",
    "\n"
   ]
  },
  {
   "cell_type": "code",
   "execution_count": null,
   "metadata": {},
   "outputs": [],
   "source": [
    "trs, rendered = inference_approach_F(model, gt_images, metadata)"
   ]
  },
  {
   "cell_type": "code",
   "execution_count": null,
   "metadata": {},
   "outputs": [],
   "source": [
    "print(np.sum(metadata[\"scores\"]))\n",
    "print(np.sum([tr.get_score() for tr in trs]))"
   ]
  },
  {
   "cell_type": "code",
   "execution_count": null,
   "metadata": {},
   "outputs": [],
   "source": [
    "# video_from_trace(tr, framerate=5, use_retval=True)\n",
    "# video_from_rendered(gt_images, framerate=5,)\n",
    "# video_comparison_from_trace(tr,framerate = 5, scale = 4)\n",
    "video_comparison_from_images(rendered, gt_images,framerate = 5, scale = 4)"
   ]
  }
 ],
 "metadata": {
  "kernelspec": {
   "display_name": "bayes3d",
   "language": "python",
   "name": "python3"
  },
  "language_info": {
   "codemirror_mode": {
    "name": "ipython",
    "version": 3
   },
   "file_extension": ".py",
   "mimetype": "text/x-python",
   "name": "python",
   "nbconvert_exporter": "python",
   "pygments_lexer": "ipython3",
   "version": "3.9.18"
  },
  "orig_nbformat": 4
 },
 "nbformat": 4,
 "nbformat_minor": 2
}
