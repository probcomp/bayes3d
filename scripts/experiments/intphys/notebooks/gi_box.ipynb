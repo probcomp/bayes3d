{
 "cells": [
  {
   "cell_type": "code",
   "execution_count": 1,
   "id": "eb39021b-57aa-401e-a21a-5fc55f321863",
   "metadata": {},
   "outputs": [],
   "source": [
    "import jax\n",
    "import jax.numpy as jnp\n",
    "import matplotlib.pyplot as plt\n",
    "from jax.scipy.stats import multivariate_normal\n",
    "from jax.scipy.special import logsumexp\n",
    "from jax.tree_util import tree_structure"
   ]
  },
  {
   "cell_type": "code",
   "execution_count": 2,
   "id": "8f4af44e-b5ee-4ba2-84cc-e4760a7c5a6d",
   "metadata": {
    "tags": []
   },
   "outputs": [],
   "source": [
    "import genjax\n",
    "console = genjax.pretty()"
   ]
  },
  {
   "cell_type": "code",
   "execution_count": 3,
   "id": "8ec342db-e9ab-4541-bbc7-b0e820f7f42a",
   "metadata": {},
   "outputs": [],
   "source": [
    "import gi"
   ]
  },
  {
   "cell_type": "code",
   "execution_count": 4,
   "id": "68bceb2b-5ed4-48d7-84eb-d2bda37231cd",
   "metadata": {},
   "outputs": [],
   "source": [
    "normalize = lambda xs: xs / xs.sum()\n",
    "normalize_logs = lambda lxs: lxs - logsumexp(lxs)\n",
    "log_normalize = lambda xs: jnp.log(xs) - jnp.log(xs.sum())"
   ]
  },
  {
   "cell_type": "code",
   "execution_count": 5,
   "id": "da091bcc-0c44-4813-83c1-a0fae5eb3623",
   "metadata": {
    "tags": []
   },
   "outputs": [
    {
     "name": "stderr",
     "output_type": "stream",
     "text": [
      "No GPU/TPU found, falling back to CPU. (Set TF_CPP_MIN_LOG_LEVEL=0 and rerun for more info.)\n"
     ]
    }
   ],
   "source": [
    "key = jax.random.PRNGKey(2718)"
   ]
  },
  {
   "cell_type": "code",
   "execution_count": 6,
   "id": "9f2ccb6d-388a-4c06-b282-3d10be9cd300",
   "metadata": {
    "tags": []
   },
   "outputs": [],
   "source": [
    "N = 5 # oy\n",
    "@genjax.gen\n",
    "def model_mv(xmean: float, ymean: float, posvar: float, obsvar: float):\n",
    "    #x = genjax.normal(xmean, posvar) @ 'x'\n",
    "    #y = genjax.normal(ymean, posvar) @ ('weirdness', 'y')\n",
    "    #obs_mean = jnp.array([x, y])\n",
    "    obs_mean = genjax.mv_normal(jnp.array([xmean, ymean]), posvar * jnp.eye(2)) @ 'obs_mean'\n",
    "    for i in range(N):\n",
    "        genjax.mv_normal(obs_mean, obsvar * jnp.eye(2)) @ ('obs', i)"
   ]
  },
  {
   "cell_type": "code",
   "execution_count": 7,
   "id": "709894c5-67e0-45f9-9ac0-2e8b55508ea8",
   "metadata": {
    "tags": []
   },
   "outputs": [],
   "source": [
    "XMEAN, YMEAN, POSVAR, OBSVAR =  0.0, 0.0, 10.0, 4.0"
   ]
  },
  {
   "cell_type": "code",
   "execution_count": 8,
   "id": "b3a9260d-0052-4d70-b6a7-1b9640d1375b",
   "metadata": {
    "tags": []
   },
   "outputs": [],
   "source": [
    "_, tr = model_mv.simulate(key, (XMEAN, YMEAN, POSVAR, OBSVAR))"
   ]
  },
  {
   "cell_type": "code",
   "execution_count": 9,
   "id": "2eba9475-5e84-4705-9eaf-f24a67d8259b",
   "metadata": {
    "tags": []
   },
   "outputs": [],
   "source": [
    "def viz_posterior(ax, obss, pos=None, show_obs=True):\n",
    "    var = POSVAR * OBSVAR / (OBSVAR + N*POSVAR)  # posterior var\n",
    "    mean = var * (jnp.array([XMEAN, YMEAN])/POSVAR + obss.sum(axis=0) / OBSVAR) # posterior mean\n",
    "    logpdf = gi.multivmap(lambda x, y: genjax.mv_normal.logpdf(jnp.array([x, y]), mean, var * jnp.eye(2)))\n",
    "    imxs = jnp.linspace(mean[0]-2*OBSVAR, mean[0]+2*OBSVAR, 100)\n",
    "    imys = jnp.linspace(mean[1]-2*OBSVAR, mean[1]+2*OBSVAR, 100)\n",
    "    x_min, x_max, y_min, y_max = mean[0]-2*OBSVAR, mean[0]+2*OBSVAR, mean[1]-2*OBSVAR, mean[1]+2*OBSVAR\n",
    "    ax.set_xlim(x_min, x_max)\n",
    "    ax.set_ylim(y_min, y_max)\n",
    "    img = jnp.exp(logpdf(imxs, imys))\n",
    "    ax.imshow(img, extent=(x_min, x_max, y_min, y_max), origin='lower')\n",
    "    if show_obs:\n",
    "        ax.scatter(obss[:, 0], obss[:, 1], marker='o', c='r')\n",
    "    if pos is not None:\n",
    "        ax.scatter([pos[0]], [pos[1]], marker='o', c='w')"
   ]
  },
  {
   "cell_type": "code",
   "execution_count": 10,
   "id": "443c6edf-4a5b-40c7-9dd0-5f671e14b7f9",
   "metadata": {
    "tags": []
   },
   "outputs": [],
   "source": [
    "obss = jnp.array([tr[('obs', i)] for i in range(N)])"
   ]
  },
  {
   "cell_type": "code",
   "execution_count": 11,
   "id": "8903b6a2-7b56-4307-ae5f-aff10165067b",
   "metadata": {
    "tags": []
   },
   "outputs": [
    {
     "data": {
      "image/png": "[encoded data removed]"
     },
     "metadata": {},
     "output_type": "display_data"
    }
   ],
   "source": [
    "fig, ax = plt.subplots(figsize=(5, 5))\n",
    "viz_posterior(ax, obss, pos=tr['obs_mean'])"
   ]
  },
  {
   "cell_type": "code",
   "execution_count": 12,
   "id": "73bd38f0-539b-488d-8bff-28797716a5bd",
   "metadata": {
    "tags": []
   },
   "outputs": [],
   "source": [
    "init_trp = gi.TracePartition.from_trace(tr,\n",
    "    {'obs_mean': gi.RegularIntervalPartition(-4, 12, 10) * gi.RegularIntervalPartition(-7, 9, 10)})\n",
    "\n",
    "scoring_strats = [\n",
    "    gi.TraceScoringStrategy({\n",
    "        'obs_mean': gi.EuclideanBoxQuadrature([gi.IntervalQuadrature(4),\n",
    "                                               gi.IntervalQuadrature(4)])\n",
    "    }),\n",
    "    \n",
    "    gi.TraceScoringStrategy({\n",
    "        'obs_mean': gi.EuclideanBoxQuadrature([gi.IntervalQuadrature(2),\n",
    "                                               gi.IntervalQuadrature(2)])\n",
    "    })\n",
    "]\n",
    "\n",
    "refinement_strats = [\n",
    "    gi.TraceRefinementStrategy({\n",
    "        'obs_mean': gi.EuclideanBoxEquidissection([gi.IntervalEquidissection(3), \n",
    "                                                   gi.IntervalEquidissection(3)])\n",
    "    })\n",
    "]"
   ]
  },
  {
   "cell_type": "code",
   "execution_count": 13,
   "id": "295fd1a9-b33a-4be0-85d2-d7ea845e4f54",
   "metadata": {
    "tags": []
   },
   "outputs": [],
   "source": [
    "strat = gi.C2FStrategy(init_trp, refinement_strats, scoring_strats)"
   ]
  },
  {
   "cell_type": "code",
   "execution_count": 14,
   "id": "e024b9cb-ac00-47ca-9d12-3a62b6fd907c",
   "metadata": {
    "tags": []
   },
   "outputs": [],
   "source": [
    "sampler = gi.C2FSampler(model_mv, (XMEAN, YMEAN, POSVAR, OBSVAR), strat) "
   ]
  },
  {
   "cell_type": "code",
   "execution_count": 15,
   "id": "b27567e8-675b-4370-b1d9-9831b086cca3",
   "metadata": {
    "tags": []
   },
   "outputs": [],
   "source": [
    "def viz_trp(ax, trp):\n",
    "    xpart, ypart = trp['obs_mean'].factors\n",
    "    ax.set_xticks(xpart.part_pts)\n",
    "    ax.set_yticks(ypart.part_pts)\n",
    "    ax.vlines(xpart.part_pts, ypart.left, ypart.right, color='grey')\n",
    "    ax.hlines(ypart.part_pts, xpart.left, xpart.right, color='grey')"
   ]
  },
  {
   "cell_type": "code",
   "execution_count": 16,
   "id": "91a72df1-0d28-40bd-b465-cb782450a9fb",
   "metadata": {
    "tags": []
   },
   "outputs": [],
   "source": [
    "def viz_scoring(ax, trp, scoring_strat):\n",
    "    viz_trp(ax, trp)\n",
    "    xsgrid, ysgrid = jnp.meshgrid(*scoring_strat.get_scoring_pts(trp)[0].T)\n",
    "    ax.scatter(xsgrid.flatten(), ysgrid.flatten(), color='r', marker='o', s=1)"
   ]
  },
  {
   "cell_type": "code",
   "execution_count": 17,
   "id": "6ce7fe51-a744-43a1-9186-ae6cb3595717",
   "metadata": {
    "tags": []
   },
   "outputs": [
    {
     "data": {
      "text/html": [
       "<pre style=\"white-space:pre;overflow-x:auto;line-height:normal;font-family:Menlo,'DejaVu Sans Mono',consolas,'Courier New',monospace\">\n",
       "</pre>\n"
      ],
      "text/plain": [
       "\n"
      ]
     },
     "metadata": {},
     "output_type": "display_data"
    },
    {
     "data": {
      "text/html": [
       "<pre style=\"white-space:pre;overflow-x:auto;line-height:normal;font-family:Menlo,'DejaVu Sans Mono',consolas,'Courier New',monospace\">\n",
       "<span style=\"font-weight: bold\">TracePartition</span>\n",
       "└── addprs\n",
       "    └── <span style=\"font-weight: bold\">Trie</span>\n",
       "        ├── <span style=\"font-weight: bold\">:obs</span>\n",
       "        │   └── <span style=\"font-weight: bold\">Trie</span>\n",
       "        │       ├── <span style=\"font-weight: bold\">:0</span>\n",
       "        │       │   └── <span style=\"font-weight: bold\">FixedCoordinate</span>\n",
       "        │       │       └── val\n",
       "        │       │           └──  f32[2]\n",
       "        │       ├── <span style=\"font-weight: bold\">:1</span>\n",
       "        │       │   └── <span style=\"font-weight: bold\">FixedCoordinate</span>\n",
       "        │       │       └── val\n",
       "        │       │           └──  f32[2]\n",
       "        │       ├── <span style=\"font-weight: bold\">:2</span>\n",
       "        │       │   └── <span style=\"font-weight: bold\">FixedCoordinate</span>\n",
       "        │       │       └── val\n",
       "        │       │           └──  f32[2]\n",
       "        │       ├── <span style=\"font-weight: bold\">:3</span>\n",
       "        │       │   └── <span style=\"font-weight: bold\">FixedCoordinate</span>\n",
       "        │       │       └── val\n",
       "        │       │           └──  f32[2]\n",
       "        │       └── <span style=\"font-weight: bold\">:4</span>\n",
       "        │           └── <span style=\"font-weight: bold\">FixedCoordinate</span>\n",
       "        │               └── val\n",
       "        │                   └──  f32[2]\n",
       "        └── <span style=\"font-weight: bold\">:obs_mean</span>\n",
       "            └── <span style=\"font-weight: bold\">EuclideanBoxPartition</span>\n",
       "                └── factors\n",
       "                    └── <span style=\"font-weight: bold\">tuple</span>\n",
       "                        ├── <span style=\"font-weight: bold\">RegularIntervalPartition</span>\n",
       "                        │   └── part_pts\n",
       "                        │       └──  f32[11]\n",
       "                        └── <span style=\"font-weight: bold\">RegularIntervalPartition</span>\n",
       "                            └── part_pts\n",
       "                                └──  f32[11]\n",
       "</pre>\n"
      ],
      "text/plain": [
       "\n",
       "\u001b[1mTracePartition\u001b[0m\n",
       "└── addprs\n",
       "    └── \u001b[1mTrie\u001b[0m\n",
       "        ├── \u001b[1m:obs\u001b[0m\n",
       "        │   └── \u001b[1mTrie\u001b[0m\n",
       "        │       ├── \u001b[1m:0\u001b[0m\n",
       "        │       │   └── \u001b[1mFixedCoordinate\u001b[0m\n",
       "        │       │       └── val\n",
       "        │       │           └──  f32[2]\n",
       "        │       ├── \u001b[1m:1\u001b[0m\n",
       "        │       │   └── \u001b[1mFixedCoordinate\u001b[0m\n",
       "        │       │       └── val\n",
       "        │       │           └──  f32[2]\n",
       "        │       ├── \u001b[1m:2\u001b[0m\n",
       "        │       │   └── \u001b[1mFixedCoordinate\u001b[0m\n",
       "        │       │       └── val\n",
       "        │       │           └──  f32[2]\n",
       "        │       ├── \u001b[1m:3\u001b[0m\n",
       "        │       │   └── \u001b[1mFixedCoordinate\u001b[0m\n",
       "        │       │       └── val\n",
       "        │       │           └──  f32[2]\n",
       "        │       └── \u001b[1m:4\u001b[0m\n",
       "        │           └── \u001b[1mFixedCoordinate\u001b[0m\n",
       "        │               └── val\n",
       "        │                   └──  f32[2]\n",
       "        └── \u001b[1m:obs_mean\u001b[0m\n",
       "            └── \u001b[1mEuclideanBoxPartition\u001b[0m\n",
       "                └── factors\n",
       "                    └── \u001b[1mtuple\u001b[0m\n",
       "                        ├── \u001b[1mRegularIntervalPartition\u001b[0m\n",
       "                        │   └── part_pts\n",
       "                        │       └──  f32[11]\n",
       "                        └── \u001b[1mRegularIntervalPartition\u001b[0m\n",
       "                            └── part_pts\n",
       "                                └──  f32[11]\n"
      ]
     },
     "metadata": {},
     "output_type": "display_data"
    }
   ],
   "source": [
    "init_trp"
   ]
  },
  {
   "cell_type": "code",
   "execution_count": 18,
   "id": "76eb2e10-df6e-4fab-81a7-c2c5c2822fa6",
   "metadata": {
    "tags": []
   },
   "outputs": [],
   "source": [
    "sampler_jit = jax.jit(sampler.sample)"
   ]
  },
  {
   "cell_type": "code",
   "execution_count": 33,
   "id": "2dedd029-c7b3-498b-a278-c395189ce61b",
   "metadata": {
    "tags": []
   },
   "outputs": [
    {
     "data": {
      "text/html": [
       "<pre style=\"white-space:pre;overflow-x:auto;line-height:normal;font-family:Menlo,'DejaVu Sans Mono',consolas,'Courier New',monospace\"><span style=\"color: #800080; text-decoration-color: #800080; font-weight: bold\">Array</span><span style=\"font-weight: bold\">([</span> <span style=\"color: #008080; text-decoration-color: #008080; font-weight: bold\">3.568723</span>  , <span style=\"color: #008080; text-decoration-color: #008080; font-weight: bold\">-0.39024907</span><span style=\"font-weight: bold\">]</span>, <span style=\"color: #808000; text-decoration-color: #808000\">dtype</span>=<span style=\"color: #800080; text-decoration-color: #800080\">float32</span><span style=\"font-weight: bold\">)</span>\n",
       "</pre>\n"
      ],
      "text/plain": [
       "\u001b[1;35mArray\u001b[0m\u001b[1m(\u001b[0m\u001b[1m[\u001b[0m \u001b[1;36m3.568723\u001b[0m  , \u001b[1;36m-0.39024907\u001b[0m\u001b[1m]\u001b[0m, \u001b[33mdtype\u001b[0m=\u001b[35mfloat32\u001b[0m\u001b[1m)\u001b[0m\n"
      ]
     },
     "metadata": {},
     "output_type": "display_data"
    }
   ],
   "source": [
    "ch = sampler_jit(key)\n",
    "key = jax.random.split(key, 1)[0]\n",
    "ch['obs_mean']"
   ]
  },
  {
   "cell_type": "code",
   "execution_count": 34,
   "id": "008f2b73-442a-455f-bc7d-06905f400669",
   "metadata": {
    "tags": []
   },
   "outputs": [
    {
     "data": {
      "image/png": "[encoded data removed]"
     },
     "metadata": {},
     "output_type": "display_data"
    }
   ],
   "source": [
    "fig, ax = plt.subplots(figsize=(10, 10))\n",
    "viz_posterior(ax, obss, show_obs=True, pos=ch['obs_mean'])\n",
    "viz_scoring(ax, init_trp, scoring_strats[0])"
   ]
  }
 ],
 "metadata": {
  "kernelspec": {
   "display_name": "Python 3 (ipykernel)",
   "language": "python",
   "name": "python3"
  },
  "language_info": {
   "codemirror_mode": {
    "name": "ipython",
    "version": 3
   },
   "file_extension": ".py",
   "mimetype": "text/x-python",
   "name": "python",
   "nbconvert_exporter": "python",
   "pygments_lexer": "ipython3",
   "version": "3.11.3"
  }
 },
 "nbformat": 4,
 "nbformat_minor": 5
}
