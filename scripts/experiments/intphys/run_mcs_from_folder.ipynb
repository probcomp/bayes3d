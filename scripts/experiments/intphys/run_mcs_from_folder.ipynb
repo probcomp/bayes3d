{
 "cells": [
  {
   "cell_type": "code",
   "execution_count": 1,
   "metadata": {},
   "outputs": [],
   "source": [
    "import machine_common_sense as mcs\n",
    "import pickle\n",
    "import numpy as np\n",
    "from tqdm import tqdm\n",
    "import glob\n",
    "import time\n",
    "import jax.numpy as jnp\n",
    "import PIL\n",
    "import jax\n",
    "from PIL import Image\n",
    "import matplotlib\n",
    "import matplotlib.pyplot as plt\n",
    "import matplotlib.animation as animation\n",
    "from IPython.display import HTML\n",
    "plt.rcParams['animation.ffmpeg_path'] = '/opt/homebrew/bin/ffmpeg'"
   ]
  },
  {
   "cell_type": "code",
   "execution_count": 7,
   "metadata": {},
   "outputs": [
    {
     "name": "stdout",
     "output_type": "stream",
     "text": [
      "Found path: /home/ubuntu/.mcs/0.7.3/MCS-AI2-THOR-Unity-App-v0.7.3.x86_64\n"
     ]
    },
    {
     "name": "stderr",
     "output_type": "stream",
     "text": [
      "99it [00:46,  2.11it/s]\n",
      "199it [01:32,  2.15it/s]\n"
     ]
    }
   ],
   "source": [
    "class MCS_Observation:\n",
    "    def __init__(self, rgb, depth, intrinsics, segmentation, cam_pose):\n",
    "        \"\"\"RGBD Image\n",
    "        \n",
    "        Args:\n",
    "            rgb (np.array): RGB image\n",
    "            depth (np.array): Depth image\n",
    "            camera_pose (np.array): Camera pose. 4x4 matrix\n",
    "            intrinsics (b.camera.Intrinsics): Camera intrinsics\n",
    "            segmentation (np.array): Segmentation image\n",
    "        \"\"\"\n",
    "        self.rgb = rgb\n",
    "        self.depth = depth\n",
    "        self.intrinsics = intrinsics\n",
    "        self.segmentation  = segmentation\n",
    "        self.cam_pose = cam_pose\n",
    "\n",
    "def get_obs_from_step_metadata(step_metadata, intrinsics, cam_pose):\n",
    "    rgb = np.array(list(step_metadata.image_list)[-1])\n",
    "    depth = np.array(list(step_metadata.depth_map_list)[-1])\n",
    "    seg = np.array(list(step_metadata.object_mask_list)[-1])\n",
    "    colors, seg_final_flat = np.unique(seg.reshape(-1,3), axis=0, return_inverse=True)\n",
    "    seg_final = seg_final_flat.reshape(seg.shape[:2])\n",
    "    observation = MCS_Observation(rgb, depth, intrinsics, seg_final, cam_pose)\n",
    "    return observation\n",
    "\n",
    "def cam_pose_from_step_metadata(step_metadata):\n",
    "    cam_pose_diff_orientation = np.array([\n",
    "        [ 1,0,0,0],\n",
    "        [0,0,-1,-4.5], # 4.5 is an arbitrary value\n",
    "        [ 0,1,0,step_metadata.camera_height],\n",
    "        [ 0,0,0,1]\n",
    "    ])\n",
    "    inv_cam_pose = np.linalg.inv(cam_pose_diff_orientation)\n",
    "    inv_cam_pose[1:3] *= -1\n",
    "    cam_pose = np.linalg.inv(inv_cam_pose)\n",
    "    return cam_pose\n",
    "\n",
    "def intrinsics_from_step_metadata(step_metadata):\n",
    "    width, height = step_metadata.camera_aspect_ratio\n",
    "    aspect_ratio = width / height\n",
    "    cx, cy = width / 2.0, height / 2.0\n",
    "    fov_y = np.deg2rad(step_metadata.camera_field_of_view)\n",
    "    fov_x = 2 * np.arctan(aspect_ratio * np.tan(fov_y / 2.0))\n",
    "    fx = cx / np.tan(fov_x / 2.0)\n",
    "    fy = cy / np.tan(fov_y / 2.0)\n",
    "    clipping_near, clipping_far = step_metadata.camera_clipping_planes\n",
    "    intrinsics = {\n",
    "        'width' : width,\n",
    "        'height' : height,\n",
    "        'cx' : cx,\n",
    "        'cy' : cy,\n",
    "        'fx' : fx,\n",
    "        'fy' : fy,\n",
    "        'near' : clipping_near,\n",
    "        'far' : clipping_far\n",
    "    }\n",
    "    return intrinsics\n",
    "\n",
    "scene_folder = 'mcs/val_7/*.json'\n",
    "files = sorted(glob.glob(scene_folder))\n",
    "controller = mcs.create_controller(\"mcs/config_level2.ini\")\n",
    "\n",
    "for i, file in enumerate(files):\n",
    "    scene_data = mcs.load_scene_json_file(file)\n",
    "    step_metadata = controller.start_scene(scene_data)\n",
    "    scene_intrinsics = intrinsics_from_step_metadata(step_metadata)\n",
    "    scene_cam_pose = cam_pose_from_step_metadata(step_metadata)\n",
    "    MCS_Observations = [get_obs_from_step_metadata(step_metadata, scene_intrinsics, scene_cam_pose)]\n",
    "\n",
    "    def MCS_stepper():\n",
    "        while True:\n",
    "            yield\n",
    "\n",
    "    for _ in tqdm(MCS_stepper()):\n",
    "        step_metadata = controller.step(\"Pass\")\n",
    "        if len(step_metadata.action_list) == 0:\n",
    "            break\n",
    "        MCS_Observations.append(get_obs_from_step_metadata(step_metadata, scene_intrinsics))  # Do stuff here\n"
   ]
  },
  {
   "cell_type": "code",
   "execution_count": 3,
   "metadata": {},
   "outputs": [],
   "source": [
    "with open(f\"final_result_48069476762.pkl\", \"rb\") as file:\n",
    "    final_result = pickle.load(file)"
   ]
  },
  {
   "cell_type": "code",
   "execution_count": 15,
   "metadata": {},
   "outputs": [
    {
     "ename": "KeyError",
     "evalue": "'score'",
     "output_type": "error",
     "traceback": [
      "\u001b[0;31m---------------------------------------------------------------------------\u001b[0m",
      "\u001b[0;31mKeyError\u001b[0m                                  Traceback (most recent call last)",
      "Cell \u001b[0;32mIn[15], line 1\u001b[0m\n\u001b[0;32m----> 1\u001b[0m \u001b[39mtype\u001b[39m(final_result[\u001b[39m'\u001b[39;49m\u001b[39mreport\u001b[39;49m\u001b[39m'\u001b[39;49m][\u001b[39m'\u001b[39;49m\u001b[39mscore\u001b[39;49m\u001b[39m'\u001b[39;49m])\n",
      "\u001b[0;31mKeyError\u001b[0m: 'score'"
     ]
    }
   ],
   "source": [
    "type(final_result['report']['score'])"
   ]
  },
  {
   "cell_type": "code",
   "execution_count": 20,
   "metadata": {},
   "outputs": [
    {
     "data": {
      "text/plain": [
       "{'rating': 1, 'score': 1.0}"
      ]
     },
     "execution_count": 20,
     "metadata": {},
     "output_type": "execute_result"
    }
   ],
   "source": [
    "final_result['report'][1]"
   ]
  },
  {
   "cell_type": "code",
   "execution_count": 17,
   "metadata": {},
   "outputs": [
    {
     "data": {
      "text/plain": [
       "float"
      ]
     },
     "execution_count": 17,
     "metadata": {},
     "output_type": "execute_result"
    }
   ],
   "source": [
    "type(final_result['report'][1]['score'])"
   ]
  },
  {
   "cell_type": "code",
   "execution_count": 30,
   "metadata": {},
   "outputs": [
    {
     "name": "stdout",
     "output_type": "stream",
     "text": [
      "1\n",
      "\n",
      "1.0\n",
      "\n",
      "{1: {'rating': 1, 'score': 1.0}, 2: {'rating': 1, 'score': 1.0}, 3: {'rating': 1, 'score': 1.0}, 4: {'rating': 1, 'score': 1.0}, 5: {'rating': 1, 'score': 1.0}, 6: {'rating': 1, 'score': 1.0}, 7: {'rating': 1, 'score': 1.0}, 8: {'rating': 1, 'score': 1.0}, 9: {'rating': 1, 'score': 1.0}, 10: {'rating': 1, 'score': 1.0}, 11: {'rating': 1, 'score': 1.0}, 12: {'rating': 1, 'score': 1.0}, 13: {'rating': 1, 'score': 1.0}, 14: {'rating': 1, 'score': 1.0}, 15: {'rating': 1, 'score': 1.0}, 16: {'rating': 1, 'score': 1.0}, 17: {'rating': 1, 'score': 1.0}, 18: {'rating': 1, 'score': 1.0}, 19: {'rating': 1, 'score': 1.0}, 20: {'rating': 1, 'score': 1.0}, 21: {'rating': 1, 'score': 1.0}, 22: {'rating': 1, 'score': 1.0}, 23: {'rating': 1, 'score': 1.0}, 24: {'rating': 1, 'score': 1.0}, 25: {'rating': 1, 'score': 1.0}, 26: {'rating': 1, 'score': 1.0}, 27: {'rating': 1, 'score': 1.0}, 28: {'rating': 1, 'score': 1.0}, 29: {'rating': 1, 'score': 1.0}, 30: {'rating': 1, 'score': 1.0}, 31: {'rating': 1, 'score': 1.0}, 32: {'rating': 1, 'score': 1.0}, 33: {'rating': 1, 'score': 1.0}, 34: {'rating': 1, 'score': 1.0}, 35: {'rating': 1, 'score': 1.0}, 36: {'rating': 1, 'score': 1.0}, 37: {'rating': 1, 'score': 1.0}, 38: {'rating': 1, 'score': 1.0}, 39: {'rating': 1, 'score': 1.0}, 40: {'rating': 1, 'score': 1.0}, 41: {'rating': 1, 'score': 1.0}, 42: {'rating': 1, 'score': 1.0}, 43: {'rating': 1, 'score': 1.0}, 44: {'rating': 1, 'score': 1.0}, 45: {'rating': 1, 'score': 1.0}, 46: {'rating': 1, 'score': 1.0}, 47: {'rating': 1, 'score': 1.0}, 48: {'rating': 1, 'score': 1.0}, 49: {'rating': 1, 'score': 1.0}, 50: {'rating': 1, 'score': 1.0}, 51: {'rating': 1, 'score': 1.0}, 52: {'rating': 1, 'score': 1.0}, 53: {'rating': 1, 'score': 1.0}, 54: {'rating': 1, 'score': 1.0}, 55: {'rating': 1, 'score': 1.0}, 56: {'rating': 1, 'score': 1.0}, 57: {'rating': 1, 'score': 1.0}, 58: {'rating': 1, 'score': 1.0}, 59: {'rating': 1, 'score': 1.0}, 60: {'rating': 1, 'score': 1.0}, 61: {'rating': 1, 'score': 1.0}, 62: {'rating': 1, 'score': 1.0}, 63: {'rating': 1, 'score': 1.0}, 64: {'rating': 1, 'score': 1.0}, 65: {'rating': 1, 'score': 1.0}, 66: {'rating': 1, 'score': 1.0}, 67: {'rating': 1, 'score': 1.0}, 68: {'rating': 1, 'score': 1.0}, 69: {'rating': 1, 'score': 1.0}, 70: {'rating': 1, 'score': 1.0}, 71: {'rating': 1, 'score': 1.0}, 72: {'rating': 1, 'score': 1.0}, 73: {'rating': 1, 'score': 1.0}, 74: {'rating': 1, 'score': 1.0}, 75: {'rating': 1, 'score': 1.0}, 76: {'rating': 1, 'score': 1.0}, 77: {'rating': 1, 'score': 1.0}, 78: {'rating': 1, 'score': 1.0}, 79: {'rating': 1, 'score': 1.0}, 80: {'rating': 1, 'score': 1.0}, 81: {'rating': 1, 'score': 1.0}, 82: {'rating': 1, 'score': 1.0}, 83: {'rating': 1, 'score': 1.0}, 84: {'rating': 1, 'score': 1.0}, 85: {'rating': 1, 'score': 1.0}, 86: {'rating': 1, 'score': 1.0}, 87: {'rating': 1, 'score': 1.0}, 88: {'rating': 1, 'score': 1.0}, 89: {'rating': 1, 'score': 1.0}, 90: {'rating': 1, 'score': 1.0}, 91: {'rating': 1, 'score': 1.0}, 92: {'rating': 1, 'score': 1.0}, 93: {'rating': 1, 'score': 1.0}, 94: {'rating': 1, 'score': 1.0}, 95: {'rating': 1, 'score': 1.0}, 96: {'rating': 1, 'score': 1.0}, 97: {'rating': 1, 'score': 1.0}, 98: {'rating': 1, 'score': 1.0}, 99: {'rating': 1, 'score': 1.0}, 100: {'rating': 1, 'score': 1.0}}\n"
     ]
    }
   ],
   "source": [
    "def haha(x,y,z):\n",
    "    print(x)\n",
    "    print()\n",
    "    print(y)\n",
    "    print()\n",
    "    print(z)\n",
    "haha(*final_result.values())"
   ]
  },
  {
   "cell_type": "code",
   "execution_count": 18,
   "metadata": {},
   "outputs": [
    {
     "data": {
      "text/plain": [
       "True"
      ]
     },
     "execution_count": 18,
     "metadata": {},
     "output_type": "execute_result"
    }
   ],
   "source": [
    "step_metadata.camera_height\n",
    "\n",
    "\n",
    "'camera_height' in dir(step_metadata)"
   ]
  },
  {
   "cell_type": "code",
   "execution_count": 17,
   "metadata": {},
   "outputs": [
    {
     "data": {
      "text/plain": [
       "array([[ 1. ,  0. ,  0. ,  0. ],\n",
       "       [ 0. ,  0. ,  1. , -4.5],\n",
       "       [-0. , -1. , -0. ,  1.5],\n",
       "       [ 0. ,  0. ,  0. ,  1. ]])"
      ]
     },
     "execution_count": 17,
     "metadata": {},
     "output_type": "execute_result"
    }
   ],
   "source": [
    "cam_pose_diff_orientation = np.array([\n",
    "    [ 1,0,0,0],\n",
    "    [0,0,-1,-4.5], # 4.5 is an arbitrary value\n",
    "    [ 0,1,0,step_metadata.camera_height],\n",
    "    [ 0,0,0,1]\n",
    "])\n",
    "inv_cam_pose = np.linalg.inv(cam_pose_diff_orientation)\n",
    "inv_cam_pose[1:3] *= -1\n",
    "cam_pose = np.linalg.inv(inv_cam_pose)\n",
    "cam_pose"
   ]
  },
  {
   "cell_type": "code",
   "execution_count": 26,
   "metadata": {},
   "outputs": [],
   "source": [
    "@jax.jit\n",
    "def tester(x,z):\n",
    "    y = jax.lax.cond(jnp.greater(x, 5),lambda:1, lambda:5)\n",
    "    if z.shape[0] == 3:\n",
    "        w = 3\n",
    "    else:\n",
    "        w = 9\n",
    "    return y,w\n",
    "\n"
   ]
  },
  {
   "cell_type": "code",
   "execution_count": 27,
   "metadata": {},
   "outputs": [
    {
     "data": {
      "text/plain": [
       "(Array(5, dtype=int32, weak_type=True), Array(9, dtype=int32, weak_type=True))"
      ]
     },
     "execution_count": 27,
     "metadata": {},
     "output_type": "execute_result"
    },
    {
     "name": "stderr",
     "output_type": "stream",
     "text": [
      "Exception in thread Thread-8:\n",
      "Traceback (most recent call last):\n",
      "  File \"/home/ubuntu/miniconda3/envs/physics_conda/lib/python3.9/threading.py\", line 980, in _bootstrap_inner\n",
      "    self.run()\n",
      "  File \"/home/ubuntu/miniconda3/envs/physics_conda/lib/python3.9/threading.py\", line 1306, in run\n",
      "    self.function(*self.args, **self.kwargs)\n",
      "  File \"/home/ubuntu/miniconda3/envs/physics_conda/lib/python3.9/site-packages/machine_common_sense/controller.py\", line 190, in _check_step_for_timeout\n",
      "    self.end_scene(rating=None, score=-1)\n",
      "  File \"/home/ubuntu/miniconda3/envs/physics_conda/lib/python3.9/site-packages/machine_common_sense/controller.py\", line 536, in end_scene\n",
      "    raise RuntimeError(\"end_scene called twice with the same scene\")\n",
      "RuntimeError: end_scene called twice with the same scene\n"
     ]
    },
    {
     "ename": "",
     "evalue": "",
     "output_type": "error",
     "traceback": [
      "\u001b[1;31mThe Kernel crashed while executing code in the the current cell or a previous cell. Please review the code in the cell(s) to identify a possible cause of the failure. Click <a href='https://aka.ms/vscodeJupyterKernelCrash'>here</a> for more info. View Jupyter <a href='command:jupyter.viewOutput'>log</a> for further details."
     ]
    }
   ],
   "source": [
    "tester(3,jnp.ones(43))"
   ]
  },
  {
   "cell_type": "code",
   "execution_count": null,
   "metadata": {},
   "outputs": [],
   "source": []
  }
 ],
 "metadata": {
  "kernelspec": {
   "display_name": "physics_conda",
   "language": "python",
   "name": "python3"
  },
  "language_info": {
   "codemirror_mode": {
    "name": "ipython",
    "version": 3
   },
   "file_extension": ".py",
   "mimetype": "text/x-python",
   "name": "python",
   "nbconvert_exporter": "python",
   "pygments_lexer": "ipython3",
   "version": "3.9.18"
  },
  "orig_nbformat": 4
 },
 "nbformat": 4,
 "nbformat_minor": 2
}
