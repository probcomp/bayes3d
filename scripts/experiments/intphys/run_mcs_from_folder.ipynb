{
 "cells": [
  {
   "cell_type": "code",
   "execution_count": 23,
   "metadata": {},
   "outputs": [],
   "source": [
    "import machine_common_sense as mcs\n",
    "import pickle\n",
    "import numpy as np\n",
    "from tqdm import tqdm\n",
    "import glob\n",
    "import time\n",
    "import jax.numpy as jnp\n",
    "import PIL\n",
    "import jax\n",
    "from PIL import Image\n",
    "import matplotlib\n",
    "import matplotlib.pyplot as plt\n",
    "import matplotlib.animation as animation\n",
    "from IPython.display import HTML\n",
    "plt.rcParams['animation.ffmpeg_path'] = '/opt/homebrew/bin/ffmpeg'"
   ]
  },
  {
   "cell_type": "code",
   "execution_count": 7,
   "metadata": {},
   "outputs": [
    {
     "name": "stdout",
     "output_type": "stream",
     "text": [
      "Found path: /home/ubuntu/.mcs/0.7.3/MCS-AI2-THOR-Unity-App-v0.7.3.x86_64\n"
     ]
    },
    {
     "name": "stderr",
     "output_type": "stream",
     "text": [
      "99it [00:46,  2.11it/s]\n",
      "199it [01:32,  2.15it/s]\n"
     ]
    }
   ],
   "source": [
    "class MCS_Observation:\n",
    "    def __init__(self, rgb, depth, intrinsics, segmentation, cam_pose):\n",
    "        \"\"\"RGBD Image\n",
    "        \n",
    "        Args:\n",
    "            rgb (np.array): RGB image\n",
    "            depth (np.array): Depth image\n",
    "            camera_pose (np.array): Camera pose. 4x4 matrix\n",
    "            intrinsics (b.camera.Intrinsics): Camera intrinsics\n",
    "            segmentation (np.array): Segmentation image\n",
    "        \"\"\"\n",
    "        self.rgb = rgb\n",
    "        self.depth = depth\n",
    "        self.intrinsics = intrinsics\n",
    "        self.segmentation  = segmentation\n",
    "        self.cam_pose = cam_pose\n",
    "\n",
    "def get_obs_from_step_metadata(step_metadata, intrinsics, cam_pose):\n",
    "    rgb = np.array(list(step_metadata.image_list)[-1])\n",
    "    depth = np.array(list(step_metadata.depth_map_list)[-1])\n",
    "    seg = np.array(list(step_metadata.object_mask_list)[-1])\n",
    "    colors, seg_final_flat = np.unique(seg.reshape(-1,3), axis=0, return_inverse=True)\n",
    "    seg_final = seg_final_flat.reshape(seg.shape[:2])\n",
    "    observation = MCS_Observation(rgb, depth, intrinsics, seg_final, cam_pose)\n",
    "    return observation\n",
    "\n",
    "def cam_pose_from_step_metadata(step_metadata):\n",
    "    cam_pose_diff_orientation = np.array([\n",
    "        [ 1,0,0,0],\n",
    "        [0,0,-1,-4.5], # 4.5 is an arbitrary value\n",
    "        [ 0,1,0,step_metadata.camera_height],\n",
    "        [ 0,0,0,1]\n",
    "    ])\n",
    "    inv_cam_pose = np.linalg.inv(cam_pose_diff_orientation)\n",
    "    inv_cam_pose[1:3] *= -1\n",
    "    cam_pose = np.linalg.inv(inv_cam_pose)\n",
    "    return cam_pose\n",
    "\n",
    "def intrinsics_from_step_metadata(step_metadata):\n",
    "    width, height = step_metadata.camera_aspect_ratio\n",
    "    aspect_ratio = width / height\n",
    "    cx, cy = width / 2.0, height / 2.0\n",
    "    fov_y = np.deg2rad(step_metadata.camera_field_of_view)\n",
    "    fov_x = 2 * np.arctan(aspect_ratio * np.tan(fov_y / 2.0))\n",
    "    fx = cx / np.tan(fov_x / 2.0)\n",
    "    fy = cy / np.tan(fov_y / 2.0)\n",
    "    clipping_near, clipping_far = step_metadata.camera_clipping_planes\n",
    "    intrinsics = {\n",
    "        'width' : width,\n",
    "        'height' : height,\n",
    "        'cx' : cx,\n",
    "        'cy' : cy,\n",
    "        'fx' : fx,\n",
    "        'fy' : fy,\n",
    "        'near' : clipping_near,\n",
    "        'far' : clipping_far\n",
    "    }\n",
    "    return intrinsics\n",
    "\n",
    "scene_folder = 'mcs/val_7/*.json'\n",
    "files = sorted(glob.glob(scene_folder))\n",
    "controller = mcs.create_controller(\"mcs/config_level2.ini\")\n",
    "\n",
    "for i, file in enumerate(files):\n",
    "    scene_data = mcs.load_scene_json_file(file)\n",
    "    step_metadata = controller.start_scene(scene_data)\n",
    "    scene_intrinsics = intrinsics_from_step_metadata(step_metadata)\n",
    "    scene_cam_pose = cam_pose_from_step_metadata(step_metadata)\n",
    "    MCS_Observations = [get_obs_from_step_metadata(step_metadata, scene_intrinsics, scene_cam_pose)]\n",
    "\n",
    "    def MCS_stepper():\n",
    "        while True:\n",
    "            yield\n",
    "\n",
    "    for _ in tqdm(MCS_stepper()):\n",
    "        step_metadata = controller.step(\"Pass\")\n",
    "        if len(step_metadata.action_list) == 0:\n",
    "            break\n",
    "        MCS_Observations.append(get_obs_from_step_metadata(step_metadata, scene_intrinsics))  # Do stuff here\n"
   ]
  },
  {
   "cell_type": "code",
   "execution_count": 12,
   "metadata": {},
   "outputs": [
    {
     "data": {
      "text/plain": [
       "['__class__',\n",
       " '__delattr__',\n",
       " '__dict__',\n",
       " '__dir__',\n",
       " '__doc__',\n",
       " '__eq__',\n",
       " '__format__',\n",
       " '__ge__',\n",
       " '__getattribute__',\n",
       " '__gt__',\n",
       " '__hash__',\n",
       " '__init__',\n",
       " '__init_subclass__',\n",
       " '__iter__',\n",
       " '__le__',\n",
       " '__lt__',\n",
       " '__module__',\n",
       " '__ne__',\n",
       " '__new__',\n",
       " '__reduce__',\n",
       " '__reduce_ex__',\n",
       " '__repr__',\n",
       " '__setattr__',\n",
       " '__sizeof__',\n",
       " '__str__',\n",
       " '__subclasshook__',\n",
       " '__weakref__',\n",
       " 'action_list',\n",
       " 'camera_aspect_ratio',\n",
       " 'camera_clipping_planes',\n",
       " 'camera_field_of_view',\n",
       " 'camera_height',\n",
       " 'check_list_none',\n",
       " 'copy_without_depth_or_images',\n",
       " 'depth_map_list',\n",
       " 'goal',\n",
       " 'habituation_trial',\n",
       " 'haptic_feedback',\n",
       " 'head_tilt',\n",
       " 'holes',\n",
       " 'image_list',\n",
       " 'lava',\n",
       " 'object_list',\n",
       " 'object_mask_list',\n",
       " 'performer_radius',\n",
       " 'performer_reach',\n",
       " 'physics_frames_per_second',\n",
       " 'position',\n",
       " 'resolved_object',\n",
       " 'resolved_receptacle',\n",
       " 'return_status',\n",
       " 'reward',\n",
       " 'room_dimensions',\n",
       " 'rotation',\n",
       " 'segmentation_colors',\n",
       " 'step_number',\n",
       " 'steps_on_lava',\n",
       " 'structural_object_list',\n",
       " 'triggered_by_sequence_incorrect']"
      ]
     },
     "execution_count": 12,
     "metadata": {},
     "output_type": "execute_result"
    }
   ],
   "source": [
    "dir(step_metadata)"
   ]
  },
  {
   "cell_type": "code",
   "execution_count": 18,
   "metadata": {},
   "outputs": [
    {
     "data": {
      "text/plain": [
       "True"
      ]
     },
     "execution_count": 18,
     "metadata": {},
     "output_type": "execute_result"
    }
   ],
   "source": [
    "step_metadata.camera_height\n",
    "\n",
    "\n",
    "'camera_height' in dir(step_metadata)"
   ]
  },
  {
   "cell_type": "code",
   "execution_count": 17,
   "metadata": {},
   "outputs": [
    {
     "data": {
      "text/plain": [
       "array([[ 1. ,  0. ,  0. ,  0. ],\n",
       "       [ 0. ,  0. ,  1. , -4.5],\n",
       "       [-0. , -1. , -0. ,  1.5],\n",
       "       [ 0. ,  0. ,  0. ,  1. ]])"
      ]
     },
     "execution_count": 17,
     "metadata": {},
     "output_type": "execute_result"
    }
   ],
   "source": [
    "cam_pose_diff_orientation = np.array([\n",
    "    [ 1,0,0,0],\n",
    "    [0,0,-1,-4.5], # 4.5 is an arbitrary value\n",
    "    [ 0,1,0,step_metadata.camera_height],\n",
    "    [ 0,0,0,1]\n",
    "])\n",
    "inv_cam_pose = np.linalg.inv(cam_pose_diff_orientation)\n",
    "inv_cam_pose[1:3] *= -1\n",
    "cam_pose = np.linalg.inv(inv_cam_pose)\n",
    "cam_pose"
   ]
  },
  {
   "cell_type": "code",
   "execution_count": 24,
   "metadata": {},
   "outputs": [],
   "source": [
    "@jax.jit\n",
    "def tester(x):\n",
    "    y = jax.lax.cond(jnp.greater(x, 5),lambda:1, lambda:5)\n",
    "    return y\n",
    "\n"
   ]
  },
  {
   "cell_type": "code",
   "execution_count": 25,
   "metadata": {},
   "outputs": [
    {
     "data": {
      "text/plain": [
       "Array(5, dtype=int32, weak_type=True)"
      ]
     },
     "execution_count": 25,
     "metadata": {},
     "output_type": "execute_result"
    }
   ],
   "source": [
    "tester(3)"
   ]
  },
  {
   "cell_type": "code",
   "execution_count": null,
   "metadata": {},
   "outputs": [],
   "source": []
  }
 ],
 "metadata": {
  "kernelspec": {
   "display_name": "physics_conda",
   "language": "python",
   "name": "python3"
  },
  "language_info": {
   "codemirror_mode": {
    "name": "ipython",
    "version": 3
   },
   "file_extension": ".py",
   "mimetype": "text/x-python",
   "name": "python",
   "nbconvert_exporter": "python",
   "pygments_lexer": "ipython3",
   "version": "3.9.18"
  },
  "orig_nbformat": 4
 },
 "nbformat": 4,
 "nbformat_minor": 2
}
