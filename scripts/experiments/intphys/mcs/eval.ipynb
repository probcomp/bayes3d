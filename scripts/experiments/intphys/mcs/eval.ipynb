{
 "cells": [
  {
   "cell_type": "code",
   "execution_count": 1,
   "metadata": {},
   "outputs": [
    {
     "name": "stdout",
     "output_type": "stream",
     "text": [
      "Jupyter environment detected. Enabling Open3D WebVisualizer.\n",
      "[Open3D INFO] WebRTC GUI backend enabled.\n",
      "[Open3D INFO] WebRTCWindowSystem: HTTP handshake server disabled.\n"
     ]
    }
   ],
   "source": [
    "import glob\n",
    "from tqdm import tqdm\n",
    "import pickle\n",
    "import os\n",
    "import numpy as np\n",
    "import jax.numpy as jnp\n",
    "import jax\n",
    "import bayes3d as b\n",
    "import matplotlib.pyplot as plt\n",
    "import subprocess\n",
    "paths = \"/home/arijitdasgupta/bayes3d/scripts/experiments/intphys/mcs/pickled_data/*pkl\"\n",
    "files = sorted(glob.glob(paths))\n",
    "import sys\n",
    "from genjax._src.core.pytree.utilities import *\n",
    "from genjax.generative_functions.distributions import ExactDensity\n",
    "import jax.tree_util as jtu\n",
    "from genjax._src.core.transforms.incremental import NoChange, UnknownChange, Diff\n",
    "import genjax\n",
    "from tensorflow_probability.substrates import jax as tfp\n",
    "sys.path.append(\"../\")\n",
    "from viz import *\n",
    "from utils import *\n",
    "from mcs_utils import *\n",
    "console = genjax.pretty()\n",
    "gt_bin = np.array([1, 1, 1, 1, 0, 0, 0, 0, 1, 1, 0, 0, 1, 1, 0, 0, 1, 1, 0, 0, 1, 1,\n",
    "       0, 0, 1, 0, 1, 0, 1, 0, 0, 0, 0, 0, 0, 0, 0, 0, 1, 1, 1, 1, 1, 1,\n",
    "       1, 1, 1, 0, 0, 0, 1, 1, 1, 0, 0, 0, 1, 1, 1, 0, 0, 0])"
   ]
  },
  {
   "cell_type": "code",
   "execution_count": null,
   "metadata": {},
   "outputs": [],
   "source": [
    "paths_results = \"/home/ubuntu/arijit/bayes3d/scripts/experiments/intphys/mcs/final_result_*\"\n",
    "files_results = glob.glob(paths_results)\n",
    "files_results.sort()\n",
    "for fl in files_results:\n",
    "   #  if '0001' not in fl:\n",
    "   #     continue\n",
    "    with open(fl, 'rb') as file:\n",
    "      results = pickle.load(file)\n",
    "      print(f\"{fl.split('/')[-1][13:]} \", results['rating'])"
   ]
  },
  {
   "cell_type": "code",
   "execution_count": null,
   "metadata": {},
   "outputs": [],
   "source": [
    "paths = \"/home/ubuntu/arijit/bayes3d/scripts/experiments/intphys/mcs/eval_7_npzs/*grav*\"\n",
    "files = sorted(glob.glob(paths))\n",
    "print(files)\n",
    "num_scenes = len(files)\n",
    "for i in tqdm(range(0,num_scenes,2)):\n",
    "    # file = files[i]\n",
    "    scene_name_1 = files[i].split(\"/\")[-1][:-4]\n",
    "    if len(files) > i+1:\n",
    "        scene_name_2 = files[i+1].split(\"/\")[-1][:-4]\n",
    "    else:\n",
    "        scene_name_2 = 'exit'\n",
    "    command = [\"./run_mcs_full.sh\", scene_name_1, scene_name_2]\n",
    "    try:\n",
    "        result = subprocess.run(command, stdout=subprocess.PIPE, stderr=subprocess.PIPE, text=True, check=True)\n",
    "        # The \"stdout\" attribute of the result object contains the command's standard output\n",
    "        print(\"Command Output:\")\n",
    "        print(result.stdout)\n",
    "    except subprocess.CalledProcessError as e:\n",
    "        # If the command returns a non-zero exit code, it will raise a CalledProcessError\n",
    "        print(f\"Command failed with exit code {e.returncode}\")\n",
    "        print(\"Error Output:\")\n",
    "        print(e.stderr)"
   ]
  },
  {
   "cell_type": "code",
   "execution_count": null,
   "metadata": {},
   "outputs": [],
   "source": [
    "paths_results = \"/home/ubuntu/arijit/bayes3d/scripts/experiments/intphys/mcs/final_result_*\"\n",
    "files_results = glob.glob(paths_results)\n",
    "files_results.sort()\n",
    "for fl in files_results:\n",
    "   #  if '0001' not in fl:\n",
    "   #     continue\n",
    "\n",
    "    with open(fl, 'rb') as file:\n",
    "      results = pickle.load(file)\n",
    "      print(f\"{fl.split('/')[-1][13:]} \", results['rating'])"
   ]
  },
  {
   "cell_type": "code",
   "execution_count": 17,
   "metadata": {},
   "outputs": [
    {
     "name": "stderr",
     "output_type": "stream",
     "text": [
      "100%|██████████| 407/407 [00:41<00:00,  9.76it/s]\n"
     ]
    }
   ],
   "source": [
    "# For shape constancy only\n",
    "paths_results = \"/home/ubuntu/arijit/bayes3d/scripts/experiments/intphys/mcs/shape_results/*\"\n",
    "files_results = glob.glob(paths_results)\n",
    "files_results.sort()\n",
    "plaus_r = []\n",
    "implaus_r = []\n",
    "all_r = []\n",
    "for fl in tqdm(files_results):\n",
    "    with open(fl, 'rb') as file:\n",
    "        results = pickle.load(file)\n",
    "        all_r.append(results)\n",
    "        # print(f\"{fl.split('/')[-1][13:]} \", results['fracs'][98])\n",
    "        # print(results[\"answer\"], results['fracs'][98])\n"
   ]
  },
  {
   "cell_type": "code",
   "execution_count": 18,
   "metadata": {},
   "outputs": [
    {
     "name": "stderr",
     "output_type": "stream",
     "text": [
      "407it [04:49,  1.41it/s]\n"
     ]
    }
   ],
   "source": [
    "def threedp3_likelihood_arijit(\n",
    "    observed_xyz: jnp.ndarray,\n",
    "    rendered_xyz: jnp.ndarray,\n",
    "    variance,\n",
    "    outlier_prob,\n",
    "):\n",
    "    distances = jnp.linalg.norm(observed_xyz - rendered_xyz, axis=-1)\n",
    "    probabilities_per_pixel = (distances < variance/2) / variance\n",
    "    average_probability = 1 * probabilities_per_pixel.mean()\n",
    "    return average_probability\n",
    "\n",
    "\n",
    "for idx,x in tqdm(enumerate(all_r)):\n",
    "    gt_image = x['gt_image']\n",
    "    gt_image_bg = x['gt_image_bg']\n",
    "    rend = x['rendered']\n",
    "    vars = []\n",
    "    fracs = []\n",
    "    \n",
    "    for var in np.linspace(0.002,5,100):\n",
    "        xx1 = threedp3_likelihood_arijit(gt_image,gt_image,var,None)\n",
    "        xx2 = np.max([threedp3_likelihood_arijit(gt_image,rend[i],var,None) for i in range(3)])\n",
    "        xx3 = threedp3_likelihood_arijit(gt_image,gt_image_bg,var,None)\n",
    "        frac = (xx2-xx3)/(xx1-xx3)\n",
    "        vars.append(var)\n",
    "        fracs.append(frac)\n",
    "\n",
    "    x['fracs'] = fracs\n",
    "    x['vars'] = vars\n",
    "    all_r[idx] = x\n",
    "\n",
    "\n",
    "for results in all_r:\n",
    "    if results['answer'] == 'plausible':# and results[num_objects'] == 1 and result['va']:\n",
    "        plaus_r.append(results)\n",
    "    elif results['answer'] == 'implausible':# and results['num_objects'] == 1:\n",
    "        implaus_r.append(results)"
   ]
  },
  {
   "cell_type": "code",
   "execution_count": null,
   "metadata": {},
   "outputs": [],
   "source": []
  },
  {
   "cell_type": "code",
   "execution_count": null,
   "metadata": {},
   "outputs": [],
   "source": []
  },
  {
   "cell_type": "code",
   "execution_count": 22,
   "metadata": {},
   "outputs": [
    {
     "name": "stderr",
     "output_type": "stream",
     "text": [
      "  6%|▌         | 6/100 [00:00<00:03, 24.91it/s]"
     ]
    },
    {
     "name": "stdout",
     "output_type": "stream",
     "text": [
      "var = {} 0.002\n",
      "optimal_threshold =  -0.3536553\n",
      "Implaus: 34/137\n",
      "plaus: 73/80\n",
      "Percentage :  58.033759124087595 %\n",
      "------------------------------\n",
      "var = {} 0.05248484848484849\n",
      "optimal_threshold =  0.2222256\n",
      "Implaus: 104/137\n",
      "plaus: 62/80\n",
      "Percentage :  76.70620437956204 %\n",
      "------------------------------\n",
      "var = {} 0.10296969696969697\n",
      "optimal_threshold =  0.44444793\n",
      "Implaus: 102/137\n",
      "plaus: 62/80\n",
      "Percentage :  75.97627737226279 %\n",
      "------------------------------\n",
      "var = {} 0.15345454545454545\n",
      "optimal_threshold =  0.5636367\n",
      "Implaus: 110/137\n",
      "plaus: 57/80\n",
      "Percentage :  75.77098540145985 %\n",
      "------------------------------\n",
      "var = {} 0.20393939393939395\n",
      "optimal_threshold =  0.606382\n",
      "Implaus: 107/137\n",
      "plaus: 57/80\n",
      "Percentage :  74.67609489051095 %\n",
      "------------------------------\n",
      "var = {} 0.25442424242424244\n",
      "optimal_threshold =  0.6042731\n",
      "Implaus: 99/137\n",
      "plaus: 61/80\n",
      "Percentage :  74.25638686131386 %\n",
      "------------------------------\n"
     ]
    },
    {
     "name": "stderr",
     "output_type": "stream",
     "text": [
      " 12%|█▏        | 12/100 [00:00<00:03, 25.24it/s]"
     ]
    },
    {
     "name": "stdout",
     "output_type": "stream",
     "text": [
      "var = {} 0.3049090909090909\n",
      "optimal_threshold =  0.6164414\n",
      "Implaus: 97/137\n",
      "plaus: 63/80\n",
      "Percentage :  74.7764598540146 %\n",
      "------------------------------\n",
      "var = {} 0.35539393939393943\n",
      "optimal_threshold =  0.6049398\n",
      "Implaus: 86/137\n",
      "plaus: 69/80\n",
      "Percentage :  74.51186131386862 %\n",
      "------------------------------\n",
      "var = {} 0.4058787878787879\n",
      "optimal_threshold =  0.6111076\n",
      "Implaus: 84/137\n",
      "plaus: 69/80\n",
      "Percentage :  73.78193430656934 %\n",
      "------------------------------\n",
      "var = {} 0.45636363636363636\n",
      "optimal_threshold =  0.72727084\n",
      "Implaus: 115/137\n",
      "plaus: 51/80\n",
      "Percentage :  73.84580291970802 %\n",
      "------------------------------\n",
      "var = {} 0.5068484848484849\n",
      "optimal_threshold =  0.73612934\n",
      "Implaus: 115/137\n",
      "plaus: 51/80\n",
      "Percentage :  73.84580291970802 %\n",
      "------------------------------\n",
      "var = {} 0.5573333333333333\n",
      "optimal_threshold =  0.67032534\n",
      "Implaus: 90/137\n",
      "plaus: 67/80\n",
      "Percentage :  74.72171532846716 %\n",
      "------------------------------\n"
     ]
    },
    {
     "name": "stderr",
     "output_type": "stream",
     "text": [
      " 18%|█▊        | 18/100 [00:00<00:03, 25.25it/s]"
     ]
    },
    {
     "name": "stdout",
     "output_type": "stream",
     "text": [
      "var = {} 0.6078181818181818\n",
      "optimal_threshold =  0.69343096\n",
      "Implaus: 95/137\n",
      "plaus: 64/80\n",
      "Percentage :  74.67153284671532 %\n",
      "------------------------------\n",
      "var = {} 0.6583030303030303\n",
      "optimal_threshold =  0.6923115\n",
      "Implaus: 94/137\n",
      "plaus: 67/80\n",
      "Percentage :  76.1815693430657 %\n",
      "------------------------------\n",
      "var = {} 0.7087878787878789\n",
      "optimal_threshold =  0.70987236\n",
      "Implaus: 97/137\n",
      "plaus: 65/80\n",
      "Percentage :  76.02645985401459 %\n",
      "------------------------------\n",
      "var = {} 0.7592727272727273\n",
      "optimal_threshold =  0.70803654\n",
      "Implaus: 97/137\n",
      "plaus: 67/80\n",
      "Percentage :  77.2764598540146 %\n",
      "------------------------------\n",
      "var = {} 0.8097575757575758\n",
      "optimal_threshold =  0.7076076\n",
      "Implaus: 97/137\n",
      "plaus: 68/80\n",
      "Percentage :  77.9014598540146 %\n",
      "------------------------------\n",
      "var = {} 0.8602424242424243\n",
      "optimal_threshold =  0.70329744\n",
      "Implaus: 93/137\n",
      "plaus: 70/80\n",
      "Percentage :  77.69160583941606 %\n",
      "------------------------------\n"
     ]
    },
    {
     "name": "stderr",
     "output_type": "stream",
     "text": [
      " 21%|██        | 21/100 [00:00<00:03, 25.13it/s]"
     ]
    },
    {
     "name": "stdout",
     "output_type": "stream",
     "text": [
      "var = {} 0.9107272727272727\n",
      "optimal_threshold =  0.70760477\n",
      "Implaus: 93/137\n",
      "plaus: 70/80\n",
      "Percentage :  77.69160583941606 %\n",
      "------------------------------\n",
      "var = {} 0.9612121212121213\n",
      "optimal_threshold =  0.7345692\n",
      "Implaus: 99/137\n",
      "plaus: 66/80\n",
      "Percentage :  77.38138686131386 %\n",
      "------------------------------\n",
      "var = {} 1.0116969696969698\n",
      "optimal_threshold =  0.72222495\n",
      "Implaus: 95/137\n",
      "plaus: 69/80\n",
      "Percentage :  77.79653284671532 %\n",
      "------------------------------\n",
      "var = {} 1.0621818181818181\n",
      "optimal_threshold =  0.7291686\n",
      "Implaus: 98/137\n",
      "plaus: 68/80\n",
      "Percentage :  78.26642335766422 %\n",
      "------------------------------\n",
      "var = {} 1.1126666666666667\n",
      "optimal_threshold =  0.7356337\n",
      "Implaus: 94/137\n",
      "plaus: 68/80\n",
      "Percentage :  76.80656934306569 %\n",
      "------------------------------\n"
     ]
    },
    {
     "name": "stderr",
     "output_type": "stream",
     "text": [
      " 27%|██▋       | 27/100 [00:01<00:02, 24.49it/s]"
     ]
    },
    {
     "name": "stdout",
     "output_type": "stream",
     "text": [
      "var = {} 1.1631515151515153\n",
      "optimal_threshold =  0.73611575\n",
      "Implaus: 94/137\n",
      "plaus: 68/80\n",
      "Percentage :  76.80656934306569 %\n",
      "------------------------------\n",
      "var = {} 1.2136363636363636\n",
      "optimal_threshold =  0.73610985\n",
      "Implaus: 94/137\n",
      "plaus: 68/80\n",
      "Percentage :  76.80656934306569 %\n",
      "------------------------------\n",
      "var = {} 1.2641212121212122\n",
      "optimal_threshold =  0.74545115\n",
      "Implaus: 96/137\n",
      "plaus: 67/80\n",
      "Percentage :  76.91149635036496 %\n",
      "------------------------------\n",
      "var = {} 1.3146060606060606\n",
      "optimal_threshold =  0.7430589\n",
      "Implaus: 94/137\n",
      "plaus: 68/80\n",
      "Percentage :  76.80656934306569 %\n",
      "------------------------------\n",
      "var = {} 1.3650909090909091\n",
      "optimal_threshold =  0.752872\n",
      "Implaus: 98/137\n",
      "plaus: 67/80\n",
      "Percentage :  77.64142335766424 %\n",
      "------------------------------\n",
      "var = {} 1.4155757575757577\n",
      "optimal_threshold =  0.7528804\n",
      "Implaus: 98/137\n",
      "plaus: 67/80\n",
      "Percentage :  77.64142335766424 %\n",
      "------------------------------\n"
     ]
    },
    {
     "name": "stderr",
     "output_type": "stream",
     "text": [
      " 33%|███▎      | 33/100 [00:01<00:02, 24.87it/s]"
     ]
    },
    {
     "name": "stdout",
     "output_type": "stream",
     "text": [
      "var = {} 1.466060606060606\n",
      "optimal_threshold =  0.75287104\n",
      "Implaus: 98/137\n",
      "plaus: 67/80\n",
      "Percentage :  77.64142335766424 %\n",
      "------------------------------\n",
      "var = {} 1.5165454545454546\n",
      "optimal_threshold =  0.7528739\n",
      "Implaus: 97/137\n",
      "plaus: 67/80\n",
      "Percentage :  77.2764598540146 %\n",
      "------------------------------\n",
      "var = {} 1.567030303030303\n",
      "optimal_threshold =  0.7528717\n",
      "Implaus: 96/137\n",
      "plaus: 67/80\n",
      "Percentage :  76.91149635036496 %\n",
      "------------------------------\n",
      "var = {} 1.6175151515151516\n",
      "optimal_threshold =  0.7346908\n",
      "Implaus: 89/137\n",
      "plaus: 70/80\n",
      "Percentage :  76.23175182481752 %\n",
      "------------------------------\n",
      "var = {} 1.6680000000000001\n",
      "optimal_threshold =  0.75823987\n",
      "Implaus: 94/137\n",
      "plaus: 67/80\n",
      "Percentage :  76.1815693430657 %\n",
      "------------------------------\n",
      "var = {} 1.7184848484848485\n",
      "optimal_threshold =  0.76373273\n",
      "Implaus: 96/137\n",
      "plaus: 66/80\n",
      "Percentage :  76.28649635036496 %\n",
      "------------------------------\n"
     ]
    },
    {
     "name": "stderr",
     "output_type": "stream",
     "text": [
      " 39%|███▉      | 39/100 [00:01<00:02, 25.52it/s]"
     ]
    },
    {
     "name": "stdout",
     "output_type": "stream",
     "text": [
      "var = {} 1.768969696969697\n",
      "optimal_threshold =  0.76811534\n",
      "Implaus: 98/137\n",
      "plaus: 66/80\n",
      "Percentage :  77.01642335766424 %\n",
      "------------------------------\n",
      "var = {} 1.8194545454545454\n",
      "optimal_threshold =  0.7681119\n",
      "Implaus: 96/137\n",
      "plaus: 67/80\n",
      "Percentage :  76.91149635036496 %\n",
      "------------------------------\n",
      "var = {} 1.869939393939394\n",
      "optimal_threshold =  0.7681066\n",
      "Implaus: 96/137\n",
      "plaus: 67/80\n",
      "Percentage :  76.91149635036496 %\n",
      "------------------------------\n",
      "var = {} 1.9204242424242426\n",
      "optimal_threshold =  0.76811165\n",
      "Implaus: 96/137\n",
      "plaus: 67/80\n",
      "Percentage :  76.91149635036496 %\n",
      "------------------------------\n",
      "var = {} 1.970909090909091\n",
      "optimal_threshold =  0.7681137\n",
      "Implaus: 96/137\n",
      "plaus: 67/80\n",
      "Percentage :  76.91149635036496 %\n",
      "------------------------------\n",
      "var = {} 2.0213939393939393\n",
      "optimal_threshold =  0.76811665\n",
      "Implaus: 96/137\n",
      "plaus: 67/80\n",
      "Percentage :  76.91149635036496 %\n",
      "------------------------------\n"
     ]
    },
    {
     "name": "stderr",
     "output_type": "stream",
     "text": [
      " 45%|████▌     | 45/100 [00:01<00:02, 25.66it/s]"
     ]
    },
    {
     "name": "stdout",
     "output_type": "stream",
     "text": [
      "var = {} 2.071878787878788\n",
      "optimal_threshold =  0.7681202\n",
      "Implaus: 94/137\n",
      "plaus: 67/80\n",
      "Percentage :  76.1815693430657 %\n",
      "------------------------------\n",
      "var = {} 2.122363636363636\n",
      "optimal_threshold =  0.7681151\n",
      "Implaus: 93/137\n",
      "plaus: 67/80\n",
      "Percentage :  75.81660583941606 %\n",
      "------------------------------\n",
      "var = {} 2.1728484848484846\n",
      "optimal_threshold =  0.7681226\n",
      "Implaus: 92/137\n",
      "plaus: 67/80\n",
      "Percentage :  75.45164233576642 %\n",
      "------------------------------\n",
      "var = {} 2.223333333333333\n",
      "optimal_threshold =  0.7938239\n",
      "Implaus: 100/137\n",
      "plaus: 62/80\n",
      "Percentage :  75.2463503649635 %\n",
      "------------------------------\n",
      "var = {} 2.2738181818181817\n",
      "optimal_threshold =  0.7938097\n",
      "Implaus: 100/137\n",
      "plaus: 62/80\n",
      "Percentage :  75.2463503649635 %\n",
      "------------------------------\n",
      "var = {} 2.3243030303030303\n",
      "optimal_threshold =  0.790909\n",
      "Implaus: 100/137\n",
      "plaus: 63/80\n",
      "Percentage :  75.8713503649635 %\n",
      "------------------------------\n"
     ]
    },
    {
     "name": "stderr",
     "output_type": "stream",
     "text": [
      " 52%|█████▏    | 52/100 [00:02<00:01, 26.92it/s]"
     ]
    },
    {
     "name": "stdout",
     "output_type": "stream",
     "text": [
      "var = {} 2.3747878787878784\n",
      "optimal_threshold =  0.79090667\n",
      "Implaus: 100/137\n",
      "plaus: 63/80\n",
      "Percentage :  75.8713503649635 %\n",
      "------------------------------\n",
      "var = {} 2.425272727272727\n",
      "optimal_threshold =  0.8041275\n",
      "Implaus: 100/137\n",
      "plaus: 62/80\n",
      "Percentage :  75.2463503649635 %\n",
      "------------------------------\n",
      "var = {} 2.4757575757575756\n",
      "optimal_threshold =  0.8135613\n",
      "Implaus: 104/137\n",
      "plaus: 61/80\n",
      "Percentage :  76.08120437956204 %\n",
      "------------------------------\n",
      "var = {} 2.526242424242424\n",
      "optimal_threshold =  0.8135524\n",
      "Implaus: 102/137\n",
      "plaus: 61/80\n",
      "Percentage :  75.35127737226277 %\n",
      "------------------------------\n",
      "var = {} 2.5767272727272728\n",
      "optimal_threshold =  0.8135621\n",
      "Implaus: 102/137\n",
      "plaus: 62/80\n",
      "Percentage :  75.97627737226279 %\n",
      "------------------------------\n",
      "var = {} 2.627212121212121\n",
      "optimal_threshold =  0.8135526\n",
      "Implaus: 102/137\n",
      "plaus: 62/80\n",
      "Percentage :  75.97627737226279 %\n",
      "------------------------------\n"
     ]
    },
    {
     "name": "stderr",
     "output_type": "stream",
     "text": [
      " 58%|█████▊    | 58/100 [00:02<00:01, 27.55it/s]"
     ]
    },
    {
     "name": "stdout",
     "output_type": "stream",
     "text": [
      "var = {} 2.6776969696969695\n",
      "optimal_threshold =  0.8194461\n",
      "Implaus: 103/137\n",
      "plaus: 61/80\n",
      "Percentage :  75.7162408759124 %\n",
      "------------------------------\n",
      "var = {} 2.728181818181818\n",
      "optimal_threshold =  0.81944627\n",
      "Implaus: 102/137\n",
      "plaus: 61/80\n",
      "Percentage :  75.35127737226277 %\n",
      "------------------------------\n",
      "var = {} 2.7786666666666666\n",
      "optimal_threshold =  0.81943953\n",
      "Implaus: 102/137\n",
      "plaus: 61/80\n",
      "Percentage :  75.35127737226277 %\n",
      "------------------------------\n",
      "var = {} 2.829151515151515\n",
      "optimal_threshold =  0.8194307\n",
      "Implaus: 102/137\n",
      "plaus: 61/80\n",
      "Percentage :  75.35127737226277 %\n",
      "------------------------------\n",
      "var = {} 2.8796363636363633\n",
      "optimal_threshold =  0.82475203\n",
      "Implaus: 103/137\n",
      "plaus: 60/80\n",
      "Percentage :  75.09124087591242 %\n",
      "------------------------------\n",
      "var = {} 2.930121212121212\n",
      "optimal_threshold =  0.8194467\n",
      "Implaus: 101/137\n",
      "plaus: 62/80\n",
      "Percentage :  75.61131386861314 %\n",
      "------------------------------\n"
     ]
    },
    {
     "name": "stderr",
     "output_type": "stream",
     "text": [
      " 64%|██████▍   | 64/100 [00:02<00:01, 27.98it/s]"
     ]
    },
    {
     "name": "stdout",
     "output_type": "stream",
     "text": [
      "var = {} 2.9806060606060605\n",
      "optimal_threshold =  0.8194523\n",
      "Implaus: 100/137\n",
      "plaus: 62/80\n",
      "Percentage :  75.2463503649635 %\n",
      "------------------------------\n",
      "var = {} 3.031090909090909\n",
      "optimal_threshold =  0.81944203\n",
      "Implaus: 98/137\n",
      "plaus: 62/80\n",
      "Percentage :  74.51642335766424 %\n",
      "------------------------------\n",
      "var = {} 3.0815757575757576\n",
      "optimal_threshold =  0.8297864\n",
      "Implaus: 99/137\n",
      "plaus: 60/80\n",
      "Percentage :  73.63138686131387 %\n",
      "------------------------------\n",
      "var = {} 3.1320606060606058\n",
      "optimal_threshold =  0.8297903\n",
      "Implaus: 99/137\n",
      "plaus: 60/80\n",
      "Percentage :  73.63138686131387 %\n",
      "------------------------------\n",
      "var = {} 3.1825454545454543\n",
      "optimal_threshold =  0.829788\n",
      "Implaus: 98/137\n",
      "plaus: 60/80\n",
      "Percentage :  73.26642335766424 %\n",
      "------------------------------\n",
      "var = {} 3.233030303030303\n",
      "optimal_threshold =  0.78948206\n",
      "Implaus: 84/137\n",
      "plaus: 68/80\n",
      "Percentage :  73.15693430656934 %\n",
      "------------------------------\n"
     ]
    },
    {
     "name": "stderr",
     "output_type": "stream",
     "text": [
      " 70%|███████   | 70/100 [00:02<00:01, 28.04it/s]"
     ]
    },
    {
     "name": "stdout",
     "output_type": "stream",
     "text": [
      "var = {} 3.2835151515151515\n",
      "optimal_threshold =  0.82183987\n",
      "Implaus: 95/137\n",
      "plaus: 62/80\n",
      "Percentage :  73.42153284671534 %\n",
      "------------------------------\n",
      "var = {} 3.334\n",
      "optimal_threshold =  0.82978684\n",
      "Implaus: 97/137\n",
      "plaus: 62/80\n",
      "Percentage :  74.1514598540146 %\n",
      "------------------------------\n",
      "var = {} 3.384484848484848\n",
      "optimal_threshold =  0.82979316\n",
      "Implaus: 96/137\n",
      "plaus: 62/80\n",
      "Percentage :  73.78649635036496 %\n",
      "------------------------------\n",
      "var = {} 3.434969696969697\n",
      "optimal_threshold =  0.8297857\n",
      "Implaus: 96/137\n",
      "plaus: 62/80\n",
      "Percentage :  73.78649635036496 %\n",
      "------------------------------\n",
      "var = {} 3.4854545454545454\n",
      "optimal_threshold =  0.82978654\n",
      "Implaus: 96/137\n",
      "plaus: 62/80\n",
      "Percentage :  73.78649635036496 %\n",
      "------------------------------\n",
      "var = {} 3.535939393939394\n",
      "optimal_threshold =  0.8297854\n",
      "Implaus: 96/137\n",
      "plaus: 62/80\n",
      "Percentage :  73.78649635036496 %\n",
      "------------------------------\n"
     ]
    },
    {
     "name": "stderr",
     "output_type": "stream",
     "text": [
      " 76%|███████▌  | 76/100 [00:02<00:00, 27.53it/s]"
     ]
    },
    {
     "name": "stdout",
     "output_type": "stream",
     "text": [
      "var = {} 3.5864242424242425\n",
      "optimal_threshold =  0.82980025\n",
      "Implaus: 96/137\n",
      "plaus: 62/80\n",
      "Percentage :  73.78649635036496 %\n",
      "------------------------------\n",
      "var = {} 3.6369090909090906\n",
      "optimal_threshold =  0.8297856\n",
      "Implaus: 95/137\n",
      "plaus: 62/80\n",
      "Percentage :  73.42153284671534 %\n",
      "------------------------------\n",
      "var = {} 3.6873939393939392\n",
      "optimal_threshold =  0.8297906\n",
      "Implaus: 94/137\n",
      "plaus: 62/80\n",
      "Percentage :  73.0565693430657 %\n",
      "------------------------------\n",
      "var = {} 3.737878787878788\n",
      "optimal_threshold =  0.8289501\n",
      "Implaus: 92/137\n",
      "plaus: 63/80\n",
      "Percentage :  72.95164233576642 %\n",
      "------------------------------\n",
      "var = {} 3.7883636363636364\n",
      "optimal_threshold =  0.8359946\n",
      "Implaus: 94/137\n",
      "plaus: 62/80\n",
      "Percentage :  73.0565693430657 %\n",
      "------------------------------\n",
      "var = {} 3.838848484848485\n",
      "optimal_threshold =  0.83600074\n",
      "Implaus: 94/137\n",
      "plaus: 62/80\n",
      "Percentage :  73.0565693430657 %\n",
      "------------------------------\n"
     ]
    },
    {
     "name": "stderr",
     "output_type": "stream",
     "text": [
      " 82%|████████▏ | 82/100 [00:03<00:00, 26.75it/s]"
     ]
    },
    {
     "name": "stdout",
     "output_type": "stream",
     "text": [
      "var = {} 3.889333333333333\n",
      "optimal_threshold =  0.8360032\n",
      "Implaus: 93/137\n",
      "plaus: 62/80\n",
      "Percentage :  72.69160583941606 %\n",
      "------------------------------\n",
      "var = {} 3.9398181818181817\n",
      "optimal_threshold =  0.8389932\n",
      "Implaus: 93/137\n",
      "plaus: 61/80\n",
      "Percentage :  72.06660583941606 %\n",
      "------------------------------\n",
      "var = {} 3.9903030303030302\n",
      "optimal_threshold =  0.81884104\n",
      "Implaus: 86/137\n",
      "plaus: 65/80\n",
      "Percentage :  72.01186131386861 %\n",
      "------------------------------\n",
      "var = {} 4.040787878787879\n",
      "optimal_threshold =  0.8360008\n",
      "Implaus: 89/137\n",
      "plaus: 63/80\n",
      "Percentage :  71.85675182481752 %\n",
      "------------------------------\n",
      "var = {} 4.091272727272727\n",
      "optimal_threshold =  0.8359959\n",
      "Implaus: 88/137\n",
      "plaus: 63/80\n",
      "Percentage :  71.49178832116789 %\n",
      "------------------------------\n",
      "var = {} 4.141757575757576\n",
      "optimal_threshold =  0.83332926\n",
      "Implaus: 88/137\n",
      "plaus: 64/80\n",
      "Percentage :  72.11678832116787 %\n",
      "------------------------------\n"
     ]
    },
    {
     "name": "stderr",
     "output_type": "stream",
     "text": [
      " 88%|████████▊ | 88/100 [00:03<00:00, 27.01it/s]"
     ]
    },
    {
     "name": "stdout",
     "output_type": "stream",
     "text": [
      "var = {} 4.1922424242424245\n",
      "optimal_threshold =  0.8333403\n",
      "Implaus: 88/137\n",
      "plaus: 64/80\n",
      "Percentage :  72.11678832116787 %\n",
      "------------------------------\n",
      "var = {} 4.242727272727272\n",
      "optimal_threshold =  0.83333194\n",
      "Implaus: 87/137\n",
      "plaus: 64/80\n",
      "Percentage :  71.75182481751825 %\n",
      "------------------------------\n",
      "var = {} 4.293212121212121\n",
      "optimal_threshold =  0.8333433\n",
      "Implaus: 88/137\n",
      "plaus: 64/80\n",
      "Percentage :  72.11678832116787 %\n",
      "------------------------------\n",
      "var = {} 4.343696969696969\n",
      "optimal_threshold =  0.833342\n",
      "Implaus: 87/137\n",
      "plaus: 64/80\n",
      "Percentage :  71.75182481751825 %\n",
      "------------------------------\n",
      "var = {} 4.394181818181818\n",
      "optimal_threshold =  0.83333474\n",
      "Implaus: 88/137\n",
      "plaus: 64/80\n",
      "Percentage :  72.11678832116787 %\n",
      "------------------------------\n",
      "var = {} 4.4446666666666665\n",
      "optimal_threshold =  0.83332896\n",
      "Implaus: 88/137\n",
      "plaus: 64/80\n",
      "Percentage :  72.11678832116787 %\n",
      "------------------------------\n"
     ]
    },
    {
     "name": "stderr",
     "output_type": "stream",
     "text": [
      " 95%|█████████▌| 95/100 [00:03<00:00, 28.51it/s]"
     ]
    },
    {
     "name": "stdout",
     "output_type": "stream",
     "text": [
      "var = {} 4.495151515151515\n",
      "optimal_threshold =  0.83333635\n",
      "Implaus: 88/137\n",
      "plaus: 64/80\n",
      "Percentage :  72.11678832116787 %\n",
      "------------------------------\n",
      "var = {} 4.545636363636364\n",
      "optimal_threshold =  0.83334386\n",
      "Implaus: 87/137\n",
      "plaus: 64/80\n",
      "Percentage :  71.75182481751825 %\n",
      "------------------------------\n",
      "var = {} 4.596121212121212\n",
      "optimal_threshold =  0.8333394\n",
      "Implaus: 87/137\n",
      "plaus: 64/80\n",
      "Percentage :  71.75182481751825 %\n",
      "------------------------------\n",
      "var = {} 4.646606060606061\n",
      "optimal_threshold =  0.79166996\n",
      "Implaus: 72/137\n",
      "plaus: 72/80\n",
      "Percentage :  71.27737226277372 %\n",
      "------------------------------\n",
      "var = {} 4.697090909090909\n",
      "optimal_threshold =  0.7916616\n",
      "Implaus: 72/137\n",
      "plaus: 72/80\n",
      "Percentage :  71.27737226277372 %\n",
      "------------------------------\n",
      "var = {} 4.747575757575757\n",
      "optimal_threshold =  0.8011724\n",
      "Implaus: 73/137\n",
      "plaus: 71/80\n",
      "Percentage :  71.01733576642334 %\n",
      "------------------------------\n",
      "var = {} 4.798060606060606\n",
      "optimal_threshold =  0.8011697\n",
      "Implaus: 73/137\n",
      "plaus: 71/80\n",
      "Percentage :  71.01733576642334 %\n",
      "------------------------------\n"
     ]
    },
    {
     "name": "stderr",
     "output_type": "stream",
     "text": [
      "100%|██████████| 100/100 [00:03<00:00, 26.45it/s]"
     ]
    },
    {
     "name": "stdout",
     "output_type": "stream",
     "text": [
      "var = {} 4.848545454545454\n",
      "optimal_threshold =  0.8011706\n",
      "Implaus: 73/137\n",
      "plaus: 71/80\n",
      "Percentage :  71.01733576642334 %\n",
      "------------------------------\n",
      "var = {} 4.899030303030303\n",
      "optimal_threshold =  0.8011738\n",
      "Implaus: 73/137\n",
      "plaus: 71/80\n",
      "Percentage :  71.01733576642334 %\n",
      "------------------------------\n",
      "var = {} 4.949515151515151\n",
      "optimal_threshold =  0.80198115\n",
      "Implaus: 72/137\n",
      "plaus: 72/80\n",
      "Percentage :  71.27737226277372 %\n",
      "------------------------------\n",
      "var = {} 5.0\n",
      "optimal_threshold =  0.8019801\n",
      "Implaus: 71/137\n",
      "plaus: 72/80\n",
      "Percentage :  70.91240875912409 %\n",
      "------------------------------\n"
     ]
    },
    {
     "name": "stderr",
     "output_type": "stream",
     "text": [
      "\n"
     ]
    },
    {
     "data": {
      "text/html": [
       "<pre style=\"white-space:pre;overflow-x:auto;line-height:normal;font-family:Menlo,'DejaVu Sans Mono',consolas,'Courier New',monospace\"></pre>\n"
      ],
      "text/plain": []
     },
     "metadata": {},
     "output_type": "display_data"
    },
    {
     "data": {
      "text/plain": [
       "\u001b[1m[\u001b[0m\u001b[1m<\u001b[0m\u001b[1;95mmatplotlib.lines.Line2D\u001b[0m\u001b[39m object at \u001b[0m\u001b[1;36m0x7f946b331c70\u001b[0m\u001b[1m>\u001b[0m\u001b[1m]\u001b[0m"
      ]
     },
     "execution_count": 22,
     "metadata": {},
     "output_type": "execute_result"
    },
    {
     "data": {
      "text/html": [
       "<pre style=\"white-space:pre;overflow-x:auto;line-height:normal;font-family:Menlo,'DejaVu Sans Mono',consolas,'Courier New',monospace\"></pre>\n"
      ],
      "text/plain": []
     },
     "metadata": {},
     "output_type": "display_data"
    },
    {
     "data": {
      "image/png": "[encoded data removed]",
      "text/plain": [
       "\u001b[1m<\u001b[0m\u001b[1;95mFigure\u001b[0m\u001b[39m size 64\u001b[0m\u001b[1;36m0x480\u001b[0m\u001b[39m with \u001b[0m\u001b[1;36m1\u001b[0m\u001b[39m Axes\u001b[0m\u001b[1m>\u001b[0m"
      ]
     },
     "metadata": {},
     "output_type": "display_data"
    }
   ],
   "source": [
    "from sklearn.metrics import roc_curve, roc_auc_score\n",
    "\n",
    "percs = []\n",
    "threshes = []\n",
    "for i in tqdm(range(len(implaus_r[0]['fracs']))):\n",
    "    implaus = []\n",
    "    plaus = []\n",
    "    for x in implaus_r:\n",
    "        # implaus.append(x['fracs'][i])\n",
    "        if x['plausibility'] and x['num_objects'] == 2:\n",
    "            implaus.append(x['fracs'][i])\n",
    "        # elif not x['plausibility'] and x['num_objects'] == 2:\n",
    "        #     implaus.append(0)\n",
    "        # if x['num_objects'] == 1:\n",
    "        #     implaus.append(x['fracs'][i])\n",
    "    for x in plaus_r:\n",
    "        # plaus.append(x['fracs'][i])\n",
    "        if x['plausibility'] and x['num_objects'] == 2:\n",
    "            plaus.append(x['fracs'][i])\n",
    "        # elif not x['plausibility'] and x['num_objects'] == 2:\n",
    "        #     plaus.append(0)\n",
    "        # if x['num_objects'] == 1:\n",
    "        #     plaus.append(x['fracs'][i])\n",
    "\n",
    "    implaus = np.array(implaus)\n",
    "    plaus = np.array(plaus)\n",
    "\n",
    "    all_scores = np.concatenate((implaus, plaus))\n",
    "    labels = np.concatenate((np.zeros(len(implaus)), np.ones(len(plaus))))\n",
    "    correction_factor = len(implaus)/len(plaus)\n",
    "    sample_weights = np.concatenate((np.ones(len(implaus)), np.ones(len(plaus))*correction_factor))\n",
    "    fpr, tpr, thresholds = roc_curve(labels, all_scores, sample_weight=sample_weights)\n",
    "    opt_t = thresholds[np.argmax(tpr - fpr)]\n",
    "    threshes.append(opt_t)\n",
    "    imp_score = np.sum(implaus < opt_t)\n",
    "    imp_total = implaus.shape[0]\n",
    "    pl_score = np.sum(plaus >= opt_t)\n",
    "    pl_total = plaus.shape[0]\n",
    "    perc = 100 * ((imp_score/imp_total) + (pl_score/pl_total)) * 0.5\n",
    "    percs.append(perc)\n",
    "    print(\"var = {}\", implaus_r[0]['vars'][i])\n",
    "    print(\"optimal_threshold = \", opt_t)\n",
    "    print(f\"Implaus: {imp_score}/{imp_total}\")\n",
    "    print(f\"plaus: {pl_score}/{pl_total}\")\n",
    "    print(\"Percentage : \", perc, \"%\")\n",
    "    print(\"------------------------------\")\n",
    "    # plt.figure(figsize=(8, 6))\n",
    "    # plt.plot(fpr, tpr, color='darkorange', lw=2, label=f'ROC curve (AUC = {roc_auc:.2f})')\n",
    "    # plt.plot([0, 1], [0, 1], color='navy', lw=2, linestyle='--')\n",
    "    # plt.xlim([0.0, 1.0])\n",
    "    # plt.ylim([0.0, 1.05])\n",
    "    # plt.xlabel('False Positive Rate (FPR)')\n",
    "    # plt.ylabel('True Positive Rate (TPR)')\n",
    "    # plt.title('Receiver Operating Characteristic (ROC) Curve')\n",
    "    # plt.legend(loc='lower right')\n",
    "    # plt.show()\n",
    "plt.plot(percs)\n",
    "plt.plot(np.array(threshes)*100)"
   ]
  },
  {
   "cell_type": "code",
   "execution_count": 23,
   "metadata": {},
   "outputs": [
    {
     "data": {
      "text/html": [
       "<pre style=\"white-space:pre;overflow-x:auto;line-height:normal;font-family:Menlo,'DejaVu Sans Mono',consolas,'Courier New',monospace\"></pre>\n"
      ],
      "text/plain": []
     },
     "metadata": {},
     "output_type": "display_data"
    },
    {
     "data": {
      "text/plain": [
       "\u001b[1;36m78.26642335766422\u001b[0m"
      ]
     },
     "metadata": {},
     "output_type": "display_data"
    },
    {
     "data": {
      "text/html": [
       "<pre style=\"white-space:pre;overflow-x:auto;line-height:normal;font-family:Menlo,'DejaVu Sans Mono',consolas,'Courier New',monospace\"></pre>\n"
      ],
      "text/plain": []
     },
     "metadata": {},
     "output_type": "display_data"
    },
    {
     "data": {
      "text/plain": [
       "\u001b[1;36m1.0621818181818181\u001b[0m"
      ]
     },
     "execution_count": 23,
     "metadata": {},
     "output_type": "execute_result"
    }
   ],
   "source": [
    "display(np.max(percs))\n",
    "implaus_r[0]['vars'][np.argmax(percs)]"
   ]
  },
  {
   "cell_type": "code",
   "execution_count": 24,
   "metadata": {},
   "outputs": [
    {
     "data": {
      "text/html": [
       "<pre style=\"white-space:pre;overflow-x:auto;line-height:normal;font-family:Menlo,'DejaVu Sans Mono',consolas,'Courier New',monospace\"></pre>\n"
      ],
      "text/plain": []
     },
     "metadata": {},
     "output_type": "display_data"
    },
    {
     "data": {
      "text/plain": [
       "\u001b[1;36m0.7291686\u001b[0m"
      ]
     },
     "execution_count": 24,
     "metadata": {},
     "output_type": "execute_result"
    }
   ],
   "source": [
    "threshes[np.argmax(percs)]"
   ]
  },
  {
   "cell_type": "code",
   "execution_count": 73,
   "metadata": {},
   "outputs": [],
   "source": [
    "import random \n",
    "def threedp3_likelihood_arijit(\n",
    "    observed_xyz: jnp.ndarray,\n",
    "    rendered_xyz: jnp.ndarray,\n",
    "    variance,\n",
    "    outlier_prob,\n",
    "):\n",
    "    distances = jnp.linalg.norm(observed_xyz - rendered_xyz, axis=-1)\n",
    "    probabilities_per_pixel = (distances < variance/2) / variance\n",
    "    average_probability = 1 * probabilities_per_pixel.mean()\n",
    "    return average_probability\n",
    "\n",
    "def outlier_gaussian(\n",
    "    observed_xyz: jnp.ndarray,\n",
    "    rendered_xyz: jnp.ndarray,\n",
    "    variance,\n",
    "    outlier_prob,\n",
    "):\n",
    "    distances = jnp.linalg.norm(observed_xyz - rendered_xyz, axis=-1)\n",
    "    probabilities_per_pixel = jax.scipy.stats.norm.pdf(\n",
    "        distances,\n",
    "        loc=0.0, \n",
    "        scale=variance\n",
    "    )\n",
    "    average_probability = 0.01 * probabilities_per_pixel.sum()\n",
    "    return average_probability\n",
    "\n",
    "\n",
    "def determine_shape_constancy_plausibility(num_objects, last_gt_image, last_gt_image_bg, last_rend):\n",
    "    # if not plausibility:\n",
    "    #     return 0\n",
    "    best_p_index = np.argmax([outlier_gaussian(last_gt_image, last_rend[i], 0.5, None) for i in range(3)])\n",
    "    # best_p_index = np.argmax([threedp3_likelihood_arijit(last_gt_image, last_rend[i], 0.5, None) for i in range(3)])\n",
    "    if num_objects == 2:\n",
    "        # var = 0.108\n",
    "        var = 1.0621818181818181\n",
    "        xx1 = threedp3_likelihood_arijit(last_gt_image,last_gt_image,var,None)\n",
    "        xx2 = threedp3_likelihood_arijit(last_gt_image,last_rend[best_p_index],var,None)\n",
    "        xx3 = threedp3_likelihood_arijit(last_gt_image,last_gt_image_bg,var,None)\n",
    "        frac = (xx2-xx3)/(xx1-xx3)\n",
    "        if frac < 0.7291686:\n",
    "        # if frac < 0.38143346:\n",
    "            return 0\n",
    "        else:\n",
    "            return 1\n",
    "    elif num_objects == 1:\n",
    "        var = 1.415\n",
    "        # var = 0.115\n",
    "        xx1 = threedp3_likelihood_arijit(last_gt_image,last_gt_image,var,None)\n",
    "        xx2 = threedp3_likelihood_arijit(last_gt_image,last_rend[best_p_index],var,None)\n",
    "        xx3 = threedp3_likelihood_arijit(last_gt_image,last_gt_image_bg,var,None)\n",
    "        frac = (xx2-xx3)/(xx1-xx3)\n",
    "        # if frac < 0.4827912:\n",
    "        if frac < 0.74286604:\n",
    "            return 0\n",
    "        else:\n",
    "            return 1\n",
    "    else:\n",
    "        return np.random.choice([0,1])\n",
    "    # xx1 = threedp3_likelihood_arijit(last_gt_image,last_gt_image,0.108,None)\n",
    "    # xx2 = threedp3_likelihood_arijit(last_gt_image,last_rend[best_p_index],0.108,None)\n",
    "    # xx3 = threedp3_likelihood_arijit(last_gt_image,last_gt_image_bg,0.108,None)\n",
    "    # frac = (xx2-xx3)/(xx1-xx3)\n",
    "    # if frac < 0.38405928:\n",
    "    #     return 0\n",
    "    # else:\n",
    "    #     return 1"
   ]
  },
  {
   "cell_type": "code",
   "execution_count": 74,
   "metadata": {},
   "outputs": [
    {
     "name": "stderr",
     "output_type": "stream",
     "text": [
      "100%|██████████| 407/407 [00:06<00:00, 62.07it/s]"
     ]
    },
    {
     "name": "stdout",
     "output_type": "stream",
     "text": [
      "Implausible Score: 187/245\n",
      "Implausible Perc: 76.3265306122449%\n",
      "Plausible Score: 134/162\n",
      "Plausible Perc: 82.71604938271605%\n",
      "Non-weighted Score : 321/407\n",
      "Non-weighted Perc : 78.86977886977887%\n",
      "Weighted Perc : 79.52128999748047%\n"
     ]
    },
    {
     "name": "stderr",
     "output_type": "stream",
     "text": [
      "\n"
     ]
    }
   ],
   "source": [
    "convert_dict = {'plausible':1,'implausible':0}\n",
    "imp_count = 0\n",
    "imp_total = 0\n",
    "pl_count = 0\n",
    "pl_total = 0\n",
    "sampled_r = random.sample(all_r,407)\n",
    "for r in tqdm(sampled_r):\n",
    "    pred = determine_shape_constancy_plausibility(r['num_objects'], r['gt_image'], r['gt_image_bg'], r['rendered'], r['plausibility'])\n",
    "    if convert_dict[r['answer']] == 1:\n",
    "        pl_total += 1\n",
    "        if pred == convert_dict[r['answer']]:\n",
    "            pl_count+=1\n",
    "    else:\n",
    "        imp_total += 1\n",
    "        if pred == convert_dict[r['answer']]:\n",
    "            imp_count +=1\n",
    "\n",
    "print(\"Implausible Score: {}/{}\".format(imp_count,imp_total))\n",
    "print(\"Implausible Perc: {}%\".format(100*imp_count/imp_total))\n",
    "print(\"Plausible Score: {}/{}\".format(pl_count,pl_total))\n",
    "print(\"Plausible Perc: {}%\".format(100*pl_count/pl_total))\n",
    "print(\"Non-weighted Score : {}/{}\".format(imp_count+pl_count,imp_total+pl_total))\n",
    "print(\"Non-weighted Perc : {}%\".format(100*(imp_count+pl_count)/(imp_total+pl_total)))\n",
    "print(\"Weighted Perc : {}%\".format((100*imp_count/imp_total + 100*pl_count/pl_total)*0.5))"
   ]
  },
  {
   "cell_type": "code",
   "execution_count": null,
   "metadata": {},
   "outputs": [],
   "source": [
    "all_r[0]"
   ]
  },
  {
   "cell_type": "code",
   "execution_count": null,
   "metadata": {},
   "outputs": [],
   "source": []
  },
  {
   "cell_type": "code",
   "execution_count": null,
   "metadata": {},
   "outputs": [],
   "source": []
  },
  {
   "cell_type": "code",
   "execution_count": null,
   "metadata": {},
   "outputs": [],
   "source": [
    "testing_files = files[:]\n",
    "# testing_files.remove(testing_files[5])\n",
    "for file in tqdm(testing_files):\n",
    "    scene_name = file.split(\"/\")[-1][:-4]\n",
    "    print(scene_name)\n",
    "    # with open(f\"/home/arijitdasgupta/bayes3d/scripts/experiments/intphys/mcs/results_4/results_{scene_name}.pkl\", 'rb') as file:\n",
    "    #     results = pickle.load(file)\n",
    "    # print(scene_name)\n",
    "    # display(display_video(results[\"viz\"]))"
   ]
  },
  {
   "cell_type": "code",
   "execution_count": null,
   "metadata": {},
   "outputs": [],
   "source": [
    "def load_path(scene_name):\n",
    "    with open(f\"/home/arijitdasgupta/bayes3d/scripts/experiments/intphys/mcs/results_4/results_{scene_name}.pkl\", 'rb') as file:\n",
    "        return pickle.load(file)"
   ]
  },
  {
   "cell_type": "code",
   "execution_count": null,
   "metadata": {},
   "outputs": [],
   "source": [
    "with open(f\"/home/arijitdasgupta/bayes3d/scripts/experiments/intphys/mcs/results_5/results_passive_physics_validation_shape_constancy_0001_05.pkl\", 'rb') as file:\n",
    "    results = pickle.load(file)\n",
    "display_video(results[\"viz\"])"
   ]
  },
  {
   "cell_type": "code",
   "execution_count": null,
   "metadata": {},
   "outputs": [],
   "source": [
    "from sklearn.metrics import roc_curve, roc_auc_score\n",
    "\n",
    "\n",
    "all_fracs = []\n",
    "\n",
    "\n",
    "    "
   ]
  },
  {
   "cell_type": "code",
   "execution_count": null,
   "metadata": {},
   "outputs": [],
   "source": [
    "opt_t"
   ]
  },
  {
   "cell_type": "code",
   "execution_count": null,
   "metadata": {},
   "outputs": [],
   "source": [
    "import csv\n",
    "\n",
    "# Replace 'yourfile.csv' with the path to your CSV file\n",
    "# Replace new_data list with the values you want to add\n",
    "new_data = ['value1', 'value2', 'value3']\n",
    "\n",
    "with open('yourfile.csv', 'a', newline='') as file:\n",
    "    writer = csv.writer(file)\n",
    "    writer.writerow(new_data)"
   ]
  },
  {
   "cell_type": "code",
   "execution_count": null,
   "metadata": {},
   "outputs": [],
   "source": [
    "observations = np.load(\"eval_7_npzs/{}.npz\".format(\"eval_7_passive_physics_gravity_support_0004_27_debug\"),allow_pickle=True)[\"arr_0\"]\n",
    "SCALE =0.2\n",
    "preprocessed_data = preprocess_mcs_physics_scene(observations, MIN_DIST_THRESH=0.6, scale=SCALE)\n",
    "# with open(f\"/home/arijitdasgupta/bayes3d/scripts/experiments/intphys/mcs/pickled_data/{scene_ID}.pkl\", 'rb') as file:\n",
    "#     preprocessed_data = pickle.load(file)\n",
    "\n",
    "(gt_images, gt_images_bg, gt_images_obj, intrinsics),\\\n",
    "(gt_images_orig, gt_images_bg_orig, gt_images_obj_orig, intrinsics_orig),\\\n",
    "registered_objects, obj_pixels, is_gravity, poses, cam_pose = preprocessed_data\n",
    "\n",
    "print(\"Gravity?: \", is_gravity)\n",
    "if is_gravity:\n",
    "    plausible, plausibility_list, _ = gravity_scene_plausible(poses, intrinsics_orig, cam_pose, observations)\n",
    "    display(plausible)"
   ]
  },
  {
   "cell_type": "code",
   "execution_count": null,
   "metadata": {},
   "outputs": [],
   "source": [
    "b.get_depth_image(gt_images_obj_orig[33,...,2])"
   ]
  },
  {
   "cell_type": "code",
   "execution_count": null,
   "metadata": {},
   "outputs": [],
   "source": []
  },
  {
   "cell_type": "code",
   "execution_count": null,
   "metadata": {},
   "outputs": [],
   "source": []
  },
  {
   "cell_type": "code",
   "execution_count": null,
   "metadata": {},
   "outputs": [],
   "source": []
  },
  {
   "cell_type": "code",
   "execution_count": null,
   "metadata": {},
   "outputs": [],
   "source": [
    "registered_objects"
   ]
  },
  {
   "cell_type": "code",
   "execution_count": null,
   "metadata": {},
   "outputs": [],
   "source": []
  },
  {
   "cell_type": "code",
   "execution_count": null,
   "metadata": {},
   "outputs": [],
   "source": []
  },
  {
   "cell_type": "code",
   "execution_count": null,
   "metadata": {},
   "outputs": [],
   "source": []
  },
  {
   "cell_type": "code",
   "execution_count": null,
   "metadata": {},
   "outputs": [],
   "source": []
  },
  {
   "cell_type": "code",
   "execution_count": null,
   "metadata": {},
   "outputs": [],
   "source": [
    "import matplotlib.pyplot as plt\n",
    "%matplotlib inline\n",
    "\n",
    "# TODO: this is code used to check if resampling happened\n",
    "n_particles = results['resampled_indices'].shape[1]\n",
    "jnp.all(results['resampled_indices'] == np.arange(n_particles), axis = 1)\n",
    "\n",
    "base_indices = np.arange(n_particles)\n",
    "for i in range(results['resampled_indices'].shape[0]):\n",
    "    base_indices = base_indices[results['resampled_indices'][i]]\n",
    "\n",
    "max_rend_ll = 9600*jax.scipy.stats.norm.pdf(\n",
    "        0.,\n",
    "        loc=0.0, \n",
    "        scale=0.1\n",
    "    ) * 0.01\n",
    "offst = 3\n",
    "# scene = implausible_perm_results[3]\n",
    "scene = results# implausible_perm_results[3]\n",
    "\n",
    "worst_rend = scene[\"worst_rend\"]\n",
    "\n",
    "data = scene[\"phy_ll\"][0][offst:]\n",
    "\n",
    "fig, axes = plt.subplots(6, 5, figsize=(15, 12))  # Adjust figsize as needed\n",
    "\n",
    "# Set global min and max for y-axis\n",
    "ymin, ymax = np.min(data), np.max(data)\n",
    "\n",
    "for i in range(30):\n",
    "    ax = axes[i//5, i%5]\n",
    "    ax.plot(data[:, base_indices[i]])\n",
    "    ax.set_ylim([-4.66, -4.57])  # Set the same y-axis limits for all plots\n",
    "    ax.set_title(f\"Particle {i+1}\")\n",
    "    # ax.set_yscale(\"log\")\n",
    "\n",
    "plt.tight_layout()\n",
    "plt.show()\n",
    "\n",
    "\n",
    "data = scene[\"rend_ll\"][offst:]\n",
    "\n",
    "fig, axes = plt.subplots(6, 5, figsize=(15, 12))  # Adjust figsize as needed\n",
    "\n",
    "# Set global min and max for y-axis\n",
    "ymin, ymax = np.min(data), np.max(data)\n",
    "\n",
    "for i in range(30):\n",
    "    ax = axes[i//5, i%5]\n",
    "    ax.plot(data[:, base_indices[i]])\n",
    "    ax.plot(worst_rend[offst:], linestyle=\"--\")\n",
    "    ax.set_ylim([worst_rend[offst:].min(),max_rend_ll + 0.1*(max_rend_ll - worst_rend[offst:].min())])\n",
    "    ax.set_title(f\"Particle {i+1}\")\n",
    "    # ax.set_yscale(\"log\")\n",
    "\n",
    "\n",
    "\n",
    "plt.tight_layout()\n",
    "plt.show()"
   ]
  },
  {
   "cell_type": "code",
   "execution_count": null,
   "metadata": {},
   "outputs": [],
   "source": [
    "# TODO: this is code used to check if resampling happened\n",
    "n_particles = results['resampled_indices'].shape[1]\n",
    "resampled_bool = jnp.all(results['resampled_indices'] == np.arange(n_particles), axis = 1)\n",
    "\n",
    "base_indices = np.arange(n_particles)\n",
    "for i in range(results['resampled_indices'].shape[0]):\n",
    "    base_indices = base_indices[results['resampled_indices'][i]]"
   ]
  },
  {
   "cell_type": "code",
   "execution_count": null,
   "metadata": {},
   "outputs": [],
   "source": [
    "resampled_bool"
   ]
  },
  {
   "cell_type": "code",
   "execution_count": null,
   "metadata": {},
   "outputs": [],
   "source": [
    "def load_path(scene_name):\n",
    "    with open(f\"/home/arijitdasgupta/bayes3d/scripts/experiments/intphys/mcs/results_5/results_{scene_name}.pkl\", 'rb') as file:\n",
    "        return pickle.load(file)\n",
    "\n",
    "plausible_scenes = [files[i].split(\"/\")[-1][:-4] for i in range(62) if gt_bin[i] == 1]\n",
    "implausible_scenes = [files[i].split(\"/\")[-1][:-4] for i in range(62) if gt_bin[i] == 0]\n",
    "\n",
    "plausible_scenes_perm = [x for x in plausible_scenes if \"permanence\" in x]\n",
    "implausible_scenes_perm = [x for x in implausible_scenes if \"permanence\" in x]\n",
    "\n",
    "plausible_perm_results = [determine_plausibility(load_path(x))[0] for x in plausible_scenes_perm]\n",
    "implausible_perm_results = [determine_plausibility(load_path(x))[0] for x in implausible_scenes_perm]\n",
    "\n",
    "plausible_scenes_shape = [x for x in plausible_scenes if \"shape\" in x]\n",
    "implausible_scenes_shape = [x for x in implausible_scenes if \"shape\" in x]\n",
    "\n",
    "plausible_shape_results = [determine_plausibility(load_path(x),3,0.75)[0] for x in plausible_scenes_shape]\n",
    "implausible_shape_results = [determine_plausibility(load_path(x),3,0.75)[0] for x in implausible_scenes_shape]\n",
    "\n",
    "plausible_scenes_cont = [x for x in plausible_scenes if \"continuity\" in x]\n",
    "implausible_scenes_cont = [x for x in implausible_scenes if \"continuity\" in x]\n",
    "\n",
    "plausible_cont_results = [determine_plausibility(load_path(x))[0] for x in plausible_scenes_cont]\n",
    "implausible_cont_results = [determine_plausibility(load_path(x))[0] for x in implausible_scenes_cont]"
   ]
  },
  {
   "cell_type": "code",
   "execution_count": null,
   "metadata": {},
   "outputs": [],
   "source": [
    "display(implausible_cont_results)\n",
    "display(implausible_perm_results)\n",
    "display(implausible_shape_results)\n",
    "display(plausible_cont_results)\n",
    "display(plausible_perm_results)\n",
    "display(plausible_shape_results)"
   ]
  },
  {
   "cell_type": "code",
   "execution_count": null,
   "metadata": {},
   "outputs": [],
   "source": []
  },
  {
   "cell_type": "code",
   "execution_count": null,
   "metadata": {},
   "outputs": [],
   "source": []
  },
  {
   "cell_type": "code",
   "execution_count": null,
   "metadata": {},
   "outputs": [],
   "source": []
  },
  {
   "cell_type": "code",
   "execution_count": null,
   "metadata": {},
   "outputs": [],
   "source": [
    "for x in plausible_scenes_perm:\n",
    "    print(x, determine_plausibility(load_path(x))[3])\n",
    "for x in implausible_scenes_perm:\n",
    "    print(x, determine_plausibility(load_path(x))[3])\n",
    "\n",
    "for x in plausible_scenes_cont:\n",
    "    print(x, determine_plausibility(load_path(x))[3])\n",
    "for x in implausible_scenes_cont:\n",
    "    print(x, determine_plausibility(load_path(x))[3])\n",
    "\n",
    "for x in plausible_scenes_shape:\n",
    "    print(x, determine_plausibility(load_path(x))[3])\n",
    "for x in implausible_scenes_shape:\n",
    "    print(x, determine_plausibility(load_path(x))[3])"
   ]
  },
  {
   "cell_type": "code",
   "execution_count": null,
   "metadata": {},
   "outputs": [],
   "source": []
  },
  {
   "cell_type": "code",
   "execution_count": null,
   "metadata": {},
   "outputs": [],
   "source": [
    "plausible_rend_markers = [np.min(np.max(x[\"rend_ll\"][3:,:],axis=1)) for x in plausible_perm_results]\n",
    "implausible_rend_markers = [np.min(np.max(x[\"rend_ll\"][3:,:],axis=1)) for x in implausible_perm_results]"
   ]
  },
  {
   "cell_type": "code",
   "execution_count": null,
   "metadata": {},
   "outputs": [],
   "source": [
    "plausible_rend_markers"
   ]
  },
  {
   "cell_type": "code",
   "execution_count": null,
   "metadata": {},
   "outputs": [],
   "source": [
    "implausible_rend_markers"
   ]
  },
  {
   "cell_type": "code",
   "execution_count": null,
   "metadata": {},
   "outputs": [],
   "source": [
    "plausible_phy_markers = [np.min(np.median(x[\"phy_ll\"][0][3:,:],axis=1)) for x in plausible_perm_results]\n",
    "implausible_phy_markers = [np.min(np.median(x[\"phy_ll\"][0][3:,:],axis=1)) for x in implausible_perm_results]"
   ]
  },
  {
   "cell_type": "code",
   "execution_count": null,
   "metadata": {},
   "outputs": [],
   "source": [
    "plausible_phy_markers, plausible_scenes_perm"
   ]
  },
  {
   "cell_type": "code",
   "execution_count": null,
   "metadata": {},
   "outputs": [],
   "source": [
    "implausible_phy_markers, implausible_scenes_perm"
   ]
  },
  {
   "cell_type": "code",
   "execution_count": null,
   "metadata": {},
   "outputs": [],
   "source": [
    "# Create a scatter plot for the first cluster (in blue)\n",
    "plt.scatter(plausible_phy_markers, plausible_rend_markers, c='blue', label='Plausible')\n",
    "\n",
    "# Create a scatter plot for the second cluster (in red)\n",
    "plt.scatter(implausible_phy_markers, implausible_rend_markers, c='red', label='Implausible')\n",
    "\n",
    "# Add labels and a title\n",
    "plt.xlabel('Physics LL')\n",
    "plt.ylabel('Rend LL')\n",
    "plt.title('Cluster Plot')\n",
    "\n",
    "# Add a legend to distinguish between clusters\n",
    "plt.legend()\n",
    "\n",
    "# Display the plot\n",
    "plt.show()"
   ]
  },
  {
   "cell_type": "code",
   "execution_count": null,
   "metadata": {},
   "outputs": [],
   "source": [
    "implausible_scenes_perm"
   ]
  },
  {
   "cell_type": "code",
   "execution_count": null,
   "metadata": {},
   "outputs": [],
   "source": [
    "params = (jnp.array([1e-0,1e-0,5e-1]), 5e-1)\n",
    "# params = (1e+20, 0)\n",
    "display(b.gaussian_vmf_pose.logpdf(jnp.eye(4), jnp.eye(4).at[:3,3].set([0,0,0]), *params))\n",
    "# display(b.gaussian_vmf_pose.logpdf(jnp.eye(4), jnp.eye(4).at[:3,3].set([0.005,0.0,0.0]), *params))\n",
    "display(b.gaussian_vmf_pose.logpdf(jnp.eye(4), jnp.eye(4).at[:3,3].set([0.0,1,0.0]), *params))\n",
    "display(b.gaussian_vmf_pose.logpdf(jnp.eye(4), jnp.eye(4).at[:3,3].set([0.0,0.0,1]), *params))\n",
    "# 0.02 ll diff for movement of away"
   ]
  },
  {
   "cell_type": "code",
   "execution_count": null,
   "metadata": {},
   "outputs": [],
   "source": [
    "display(b.gaussian_vmf_pose.logpdf(jnp.eye(4), jnp.eye(4).at[:3,3].set([1,0,0]), *(5e-0,5e-1)))"
   ]
  },
  {
   "cell_type": "code",
   "execution_count": null,
   "metadata": {},
   "outputs": [],
   "source": [
    "params = [1,1,1]\n",
    "display(genjax.tfp_mv_normal_diag.logpdf([0,0,0],[0,0,0],params))\n",
    "display(genjax.tfp_mv_normal_diag.logpdf([0.1,0.1,0.0],[0,0,0],params))\n",
    "display(genjax.tfp_mv_normal_diag.logpdf([0.0,0.1,0.1],[0,0,0],params))\n"
   ]
  },
  {
   "cell_type": "code",
   "execution_count": null,
   "metadata": {},
   "outputs": [],
   "source": [
    "qs = jnp.linspace(0.05,0.95,30)\n",
    "tfp.distributions.Normal(0.02,0.05).quantile(qs)"
   ]
  },
  {
   "cell_type": "code",
   "execution_count": null,
   "metadata": {},
   "outputs": [],
   "source": [
    "display(9600*jax.scipy.stats.norm.pdf(\n",
    "        np.array([0.]),\n",
    "        loc=0.0, \n",
    "        scale=0.1\n",
    "    ) * 0.01)\n",
    "\n",
    "9600*jax.scipy.stats.norm.pdf(\n",
    "        np.array([0.0001]),\n",
    "        loc=0.0, \n",
    "        scale=0.1\n",
    "    ) * 0.01\n",
    "\n"
   ]
  },
  {
   "cell_type": "code",
   "execution_count": null,
   "metadata": {},
   "outputs": [],
   "source": []
  },
  {
   "cell_type": "code",
   "execution_count": null,
   "metadata": {},
   "outputs": [],
   "source": [
    "3.9894223 * (2400-6) *0.01\n"
   ]
  },
  {
   "cell_type": "code",
   "execution_count": null,
   "metadata": {},
   "outputs": [],
   "source": []
  }
 ],
 "metadata": {
  "kernelspec": {
   "display_name": "bayes3d",
   "language": "python",
   "name": "python3"
  },
  "language_info": {
   "codemirror_mode": {
    "name": "ipython",
    "version": 3
   },
   "file_extension": ".py",
   "mimetype": "text/x-python",
   "name": "python",
   "nbconvert_exporter": "python",
   "pygments_lexer": "ipython3",
   "version": "3.9.18"
  },
  "orig_nbformat": 4
 },
 "nbformat": 4,
 "nbformat_minor": 2
}
