{
 "cells": [
  {
   "cell_type": "code",
   "execution_count": 1,
   "metadata": {},
   "outputs": [
    {
     "name": "stdout",
     "output_type": "stream",
     "text": [
      "Jupyter environment detected. Enabling Open3D WebVisualizer.\n",
      "[Open3D INFO] WebRTC GUI backend enabled.\n",
      "[Open3D INFO] WebRTCWindowSystem: HTTP handshake server disabled.\n"
     ]
    }
   ],
   "source": [
    "import glob\n",
    "from tqdm import tqdm\n",
    "import pickle\n",
    "import os\n",
    "import numpy as np\n",
    "import jax.numpy as jnp\n",
    "import jax\n",
    "import bayes3d as b\n",
    "import matplotlib.pyplot as plt\n",
    "import subprocess\n",
    "paths = \"/home/arijitdasgupta/bayes3d/scripts/experiments/intphys/mcs/pickled_data/*pkl\"\n",
    "files = sorted(glob.glob(paths))\n",
    "import sys\n",
    "from genjax._src.core.pytree.utilities import *\n",
    "from genjax.generative_functions.distributions import ExactDensity\n",
    "import jax.tree_util as jtu\n",
    "from genjax._src.core.transforms.incremental import NoChange, UnknownChange, Diff\n",
    "import genjax\n",
    "from tensorflow_probability.substrates import jax as tfp\n",
    "sys.path.append(\"../\")\n",
    "from viz import *\n",
    "from utils import *\n",
    "from mcs_utils import *\n",
    "console = genjax.pretty()\n",
    "gt_bin = np.array([1, 1, 1, 1, 0, 0, 0, 0, 1, 1, 0, 0, 1, 1, 0, 0, 1, 1, 0, 0, 1, 1,\n",
    "       0, 0, 1, 0, 1, 0, 1, 0, 0, 0, 0, 0, 0, 0, 0, 0, 1, 1, 1, 1, 1, 1,\n",
    "       1, 1, 1, 0, 0, 0, 1, 1, 1, 0, 0, 0, 1, 1, 1, 0, 0, 0])"
   ]
  },
  {
   "cell_type": "code",
   "execution_count": null,
   "metadata": {},
   "outputs": [],
   "source": [
    "paths_results = \"/home/ubuntu/arijit/bayes3d/scripts/experiments/intphys/mcs/final_result_*\"\n",
    "files_results = glob.glob(paths_results)\n",
    "files_results.sort()\n",
    "for fl in files_results:\n",
    "   #  if '0001' not in fl:\n",
    "   #     continue\n",
    "    with open(fl, 'rb') as file:\n",
    "      results = pickle.load(file)\n",
    "      print(f\"{fl.split('/')[-1][13:]} \", results['rating'])"
   ]
  },
  {
   "cell_type": "code",
   "execution_count": null,
   "metadata": {},
   "outputs": [],
   "source": [
    "paths = \"/home/ubuntu/arijit/bayes3d/scripts/experiments/intphys/mcs/eval_7_npzs/*grav*\"\n",
    "files = sorted(glob.glob(paths))\n",
    "print(files)\n",
    "num_scenes = len(files)\n",
    "for i in tqdm(range(0,num_scenes,2)):\n",
    "    # file = files[i]\n",
    "    scene_name_1 = files[i].split(\"/\")[-1][:-4]\n",
    "    if len(files) > i+1:\n",
    "        scene_name_2 = files[i+1].split(\"/\")[-1][:-4]\n",
    "    else:\n",
    "        scene_name_2 = 'exit'\n",
    "    command = [\"./run_mcs_full.sh\", scene_name_1, scene_name_2]\n",
    "    try:\n",
    "        result = subprocess.run(command, stdout=subprocess.PIPE, stderr=subprocess.PIPE, text=True, check=True)\n",
    "        # The \"stdout\" attribute of the result object contains the command's standard output\n",
    "        print(\"Command Output:\")\n",
    "        print(result.stdout)\n",
    "    except subprocess.CalledProcessError as e:\n",
    "        # If the command returns a non-zero exit code, it will raise a CalledProcessError\n",
    "        print(f\"Command failed with exit code {e.returncode}\")\n",
    "        print(\"Error Output:\")\n",
    "        print(e.stderr)"
   ]
  },
  {
   "cell_type": "code",
   "execution_count": null,
   "metadata": {},
   "outputs": [],
   "source": [
    "paths_results = \"/home/ubuntu/arijit/bayes3d/scripts/experiments/intphys/mcs/final_result_*\"\n",
    "files_results = glob.glob(paths_results)\n",
    "files_results.sort()\n",
    "for fl in files_results:\n",
    "   #  if '0001' not in fl:\n",
    "   #     continue\n",
    "\n",
    "    with open(fl, 'rb') as file:\n",
    "      results = pickle.load(file)\n",
    "      print(f\"{fl.split('/')[-1][13:]} \", results['rating'])"
   ]
  },
  {
   "cell_type": "code",
   "execution_count": 3,
   "metadata": {},
   "outputs": [
    {
     "name": "stderr",
     "output_type": "stream",
     "text": [
      "100%|██████████| 407/407 [02:28<00:00,  2.74it/s]\n"
     ]
    }
   ],
   "source": [
    "# For shape constancy only\n",
    "paths_results = \"/home/ubuntu/arijit/bayes3d/scripts/experiments/intphys/mcs/shape_results/*\"\n",
    "files_results = glob.glob(paths_results)\n",
    "files_results.sort()\n",
    "plaus_r = []\n",
    "implaus_r = []\n",
    "all_r = []\n",
    "for fl in tqdm(files_results):\n",
    "    with open(fl, 'rb') as file:\n",
    "        results = pickle.load(file)\n",
    "        all_r.append(results)\n",
    "        # print(f\"{fl.split('/')[-1][13:]} \", results['fracs'][98])\n",
    "        # print(results[\"answer\"], results['fracs'][98])\n",
    "        if results['answer'] == 'plausible':# and results[num_objects'] == 1 and result['va']:\n",
    "            plaus_r.append(results)\n",
    "        elif results['answer'] == 'implausible':# and results['num_objects'] == 1:\n",
    "            implaus_r.append(results)\n"
   ]
  },
  {
   "cell_type": "code",
   "execution_count": null,
   "metadata": {},
   "outputs": [],
   "source": [
    "def threedp3_likelihood_arijit(\n",
    "    observed_xyz: jnp.ndarray,\n",
    "    rendered_xyz: jnp.ndarray,\n",
    "    variance,\n",
    "    outlier_prob,\n",
    "):\n",
    "    distances = jnp.linalg.norm(observed_xyz - rendered_xyz, axis=-1)\n",
    "    probabilities_per_pixel = (distances < variance/2) / variance\n",
    "    average_probability = 1 * probabilities_per_pixel.mean()\n",
    "    return average_probability\n",
    "\n",
    "\n",
    "for idx,x in tqdm(enumerate(implaus_r)):\n",
    "    gt_image = x['gt_image']\n",
    "    gt_image_bg = x['gt_image_bg']\n",
    "    rend = x['rendered']\n",
    "    vars = []\n",
    "    fracs = []\n",
    "    \n",
    "    for var in np.linspace(0.002,1.001,1000):\n",
    "        xx1 = threedp3_likelihood_arijit(gt_image,gt_image,var,None)\n",
    "        xx2_arr = np.array([threedp3_likelihood_arijit(gt_image,rend[i],var,None) for i in range(3)])\n",
    "        print(np.all(xx2_arr == xx2_arr[0]))\n",
    "        xx2 = np.max(xx2_arr)\n",
    "        xx3 = threedp3_likelihood_arijit(gt_image,gt_image_bg,var,None)\n",
    "        frac = (xx2-xx3)/(xx1-xx3)\n",
    "        vars.append(var)\n",
    "        fracs.append(frac)\n",
    "\n",
    "    x['fracs'] = fracs\n",
    "    x['vars'] = vars\n",
    "    implaus_r[idx] = x\n",
    "    break\n",
    "\n",
    "for idx,x in tqdm(enumerate(plaus_r)):\n",
    "    gt_image = x['gt_image']\n",
    "    gt_image_bg = x['gt_image_bg']\n",
    "    rend = x['rendered']\n",
    "    vars = []\n",
    "    fracs = []\n",
    "    \n",
    "    for var in np.linspace(0.002,1.001,1000):\n",
    "        xx1 = threedp3_likelihood_arijit(gt_image,gt_image,var,None)\n",
    "        xx2 = np.max([threedp3_likelihood_arijit(gt_image,rend[i],var,None) for i in range(3)])\n",
    "        xx3 = threedp3_likelihood_arijit(gt_image,gt_image_bg,var,None)\n",
    "        frac = (xx2-xx3)/(xx1-xx3)\n",
    "        vars.append(var)\n",
    "        fracs.append(frac)\n",
    "\n",
    "    x['fracs'] = fracs\n",
    "    x['vars'] = vars\n",
    "    plaus_r[idx] = x"
   ]
  },
  {
   "cell_type": "code",
   "execution_count": null,
   "metadata": {},
   "outputs": [],
   "source": []
  },
  {
   "cell_type": "code",
   "execution_count": null,
   "metadata": {},
   "outputs": [],
   "source": []
  },
  {
   "cell_type": "code",
   "execution_count": null,
   "metadata": {},
   "outputs": [],
   "source": []
  },
  {
   "cell_type": "code",
   "execution_count": 11,
   "metadata": {},
   "outputs": [
    {
     "name": "stderr",
     "output_type": "stream",
     "text": [
      "  0%|          | 0/500 [00:00<?, ?it/s]"
     ]
    },
    {
     "name": "stderr",
     "output_type": "stream",
     "text": [
      "100%|██████████| 500/500 [00:43<00:00, 11.48it/s]\n"
     ]
    },
    {
     "data": {
      "text/html": [
       "<pre style=\"white-space:pre;overflow-x:auto;line-height:normal;font-family:Menlo,'DejaVu Sans Mono',consolas,'Courier New',monospace\"></pre>\n"
      ],
      "text/plain": []
     },
     "metadata": {},
     "output_type": "display_data"
    },
    {
     "data": {
      "text/plain": [
       "\u001b[1m[\u001b[0m\u001b[1m<\u001b[0m\u001b[1;95mmatplotlib.lines.Line2D\u001b[0m\u001b[39m object at \u001b[0m\u001b[1;36m0x7f1f45f4f7c0\u001b[0m\u001b[1m>\u001b[0m\u001b[1m]\u001b[0m"
      ]
     },
     "execution_count": 11,
     "metadata": {},
     "output_type": "execute_result"
    },
    {
     "data": {
      "text/html": [
       "<pre style=\"white-space:pre;overflow-x:auto;line-height:normal;font-family:Menlo,'DejaVu Sans Mono',consolas,'Courier New',monospace\"></pre>\n"
      ],
      "text/plain": []
     },
     "metadata": {},
     "output_type": "display_data"
    },
    {
     "data": {
      "image/png": "[encoded data removed]",
      "text/plain": [
       "\u001b[1m<\u001b[0m\u001b[1;95mFigure\u001b[0m\u001b[39m size 64\u001b[0m\u001b[1;36m0x480\u001b[0m\u001b[39m with \u001b[0m\u001b[1;36m1\u001b[0m\u001b[39m Axes\u001b[0m\u001b[1m>\u001b[0m"
      ]
     },
     "metadata": {},
     "output_type": "display_data"
    }
   ],
   "source": [
    "from sklearn.metrics import roc_curve, roc_auc_score\n",
    "\n",
    "percs = []\n",
    "threshes = []\n",
    "for i in tqdm(range(len(implaus_r[0]['fracs']))):\n",
    "    implaus = []\n",
    "    plaus = []\n",
    "    for x in implaus_r:\n",
    "        # implaus.append(x['fracs'][i])\n",
    "        if x['plausibility'] and x['num_objects'] == 1:\n",
    "            implaus.append(x['fracs'][i])\n",
    "        # elif not x['plausibility'] and x['num_objects'] == 2:\n",
    "        #     implaus.append(0)\n",
    "        # if x['num_objects'] == 1:\n",
    "        #     implaus.append(x['fracs'][i])\n",
    "    for x in plaus_r:\n",
    "        # plaus.append(x['fracs'][i])\n",
    "        if x['plausibility'] and x['num_objects'] == 1:\n",
    "            plaus.append(x['fracs'][i])\n",
    "        # elif not x['plausibility'] and x['num_objects'] == 2:\n",
    "        #     plaus.append(0)\n",
    "        # if x['num_objects'] == 1:\n",
    "        #     plaus.append(x['fracs'][i])\n",
    "\n",
    "    implaus = np.array(implaus)\n",
    "    plaus = np.array(plaus)\n",
    "\n",
    "    all_scores = np.concatenate((implaus, plaus))\n",
    "    labels = np.concatenate((np.zeros(len(implaus)), np.ones(len(plaus))))\n",
    "    correction_factor = len(implaus)/len(plaus)\n",
    "    sample_weights = np.concatenate((np.ones(len(implaus)), np.ones(len(plaus))*correction_factor))\n",
    "    fpr, tpr, thresholds = roc_curve(labels, all_scores, sample_weight=sample_weights)\n",
    "    opt_t = thresholds[np.argmax(tpr - fpr)]\n",
    "    threshes.append(opt_t)\n",
    "    imp_score = np.sum(implaus < opt_t)\n",
    "    imp_total = implaus.shape[0]\n",
    "    pl_score = np.sum(plaus >= opt_t)\n",
    "    pl_total = plaus.shape[0]\n",
    "    perc = 100 * ((imp_score/imp_total) + (pl_score/pl_total)) * 0.5\n",
    "    percs.append(perc)\n",
    "    # print(\"var = {}\", implaus_r[0]['vars'][i])\n",
    "    # print(\"optimal_threshold = \", opt_t)\n",
    "    # print(f\"Implaus: {imp_score}/{imp_total}\")\n",
    "    # print(f\"plaus: {pl_score}/{pl_total}\")\n",
    "    # print(\"Percentage : \", perc, \"%\")\n",
    "    # print(\"------------------------------\")\n",
    "    # plt.figure(figsize=(8, 6))\n",
    "    # plt.plot(fpr, tpr, color='darkorange', lw=2, label=f'ROC curve (AUC = {roc_auc:.2f})')\n",
    "    # plt.plot([0, 1], [0, 1], color='navy', lw=2, linestyle='--')\n",
    "    # plt.xlim([0.0, 1.0])\n",
    "    # plt.ylim([0.0, 1.05])\n",
    "    # plt.xlabel('False Positive Rate (FPR)')\n",
    "    # plt.ylabel('True Positive Rate (TPR)')\n",
    "    # plt.title('Receiver Operating Characteristic (ROC) Curve')\n",
    "    # plt.legend(loc='lower right')\n",
    "    # plt.show()\n",
    "plt.plot(percs)\n",
    "plt.plot(np.array(threshes)*100)"
   ]
  },
  {
   "cell_type": "code",
   "execution_count": 8,
   "metadata": {},
   "outputs": [
    {
     "data": {
      "text/html": [
       "<pre style=\"white-space:pre;overflow-x:auto;line-height:normal;font-family:Menlo,'DejaVu Sans Mono',consolas,'Courier New',monospace\"></pre>\n"
      ],
      "text/plain": []
     },
     "metadata": {},
     "output_type": "display_data"
    },
    {
     "data": {
      "text/plain": [
       "\u001b[1;36m77.33120437956205\u001b[0m"
      ]
     },
     "metadata": {},
     "output_type": "display_data"
    },
    {
     "data": {
      "text/html": [
       "<pre style=\"white-space:pre;overflow-x:auto;line-height:normal;font-family:Menlo,'DejaVu Sans Mono',consolas,'Courier New',monospace\"></pre>\n"
      ],
      "text/plain": []
     },
     "metadata": {},
     "output_type": "display_data"
    },
    {
     "data": {
      "text/plain": [
       "\u001b[1;36m0.059000000000000004\u001b[0m"
      ]
     },
     "execution_count": 8,
     "metadata": {},
     "output_type": "execute_result"
    }
   ],
   "source": [
    "display(np.max(percs))\n",
    "implaus_r[0]['vars'][np.argmax(percs)]"
   ]
  },
  {
   "cell_type": "code",
   "execution_count": 10,
   "metadata": {},
   "outputs": [
    {
     "data": {
      "text/html": [
       "<pre style=\"white-space:pre;overflow-x:auto;line-height:normal;font-family:Menlo,'DejaVu Sans Mono',consolas,'Courier New',monospace\"></pre>\n"
      ],
      "text/plain": []
     },
     "metadata": {},
     "output_type": "display_data"
    },
    {
     "data": {
      "text/plain": [
       "\u001b[1;36m0.2519629\u001b[0m"
      ]
     },
     "execution_count": 10,
     "metadata": {},
     "output_type": "execute_result"
    }
   ],
   "source": [
    "threshes[np.argmax(percs)]"
   ]
  },
  {
   "cell_type": "code",
   "execution_count": 5,
   "metadata": {},
   "outputs": [],
   "source": [
    "def threedp3_likelihood_arijit(\n",
    "    observed_xyz: jnp.ndarray,\n",
    "    rendered_xyz: jnp.ndarray,\n",
    "    variance,\n",
    "    outlier_prob,\n",
    "):\n",
    "    distances = jnp.linalg.norm(observed_xyz - rendered_xyz, axis=-1)\n",
    "    probabilities_per_pixel = (distances < variance/2) / variance\n",
    "    average_probability = 1 * probabilities_per_pixel.mean()\n",
    "    return average_probability\n",
    "\n",
    "def outlier_gaussian(\n",
    "    observed_xyz: jnp.ndarray,\n",
    "    rendered_xyz: jnp.ndarray,\n",
    "    variance,\n",
    "    outlier_prob,\n",
    "):\n",
    "    distances = jnp.linalg.norm(observed_xyz - rendered_xyz, axis=-1)\n",
    "    probabilities_per_pixel = jax.scipy.stats.norm.pdf(\n",
    "        distances,\n",
    "        loc=0.0, \n",
    "        scale=variance\n",
    "    )\n",
    "    average_probability = 0.01 * probabilities_per_pixel.sum()\n",
    "    return average_probability\n",
    "\n",
    "\n",
    "def determine_shape_constancy_plausibility(num_objects, last_gt_image, last_gt_image_bg, last_rend, plausibility):\n",
    "    # if not plausibility:\n",
    "    #     return 0\n",
    "    best_p_index = np.argmax([outlier_gaussian(last_gt_image, last_rend[i], 0.1, None) for i in range(3)])\n",
    "    # best_p_index = np.argmax([threedp3_likelihood_arijit(last_gt_image, last_rend[i], 0.5, None) for i in range(3)])\n",
    "    if num_objects == 2:\n",
    "        xx1 = threedp3_likelihood_arijit(last_gt_image,last_gt_image,0.108,None)\n",
    "        xx2 = threedp3_likelihood_arijit(last_gt_image,last_rend[best_p_index],0.108,None)\n",
    "        xx3 = threedp3_likelihood_arijit(last_gt_image,last_gt_image_bg,0.108,None)\n",
    "        frac = (xx2-xx3)/(xx1-xx3)\n",
    "        if frac < 0.38143346:\n",
    "            return 0\n",
    "        else:\n",
    "            return 1\n",
    "    elif num_objects == 1:\n",
    "        xx1 = threedp3_likelihood_arijit(last_gt_image,last_gt_image,0.115,None)\n",
    "        xx2 = threedp3_likelihood_arijit(last_gt_image,last_rend[best_p_index],0.115,None)\n",
    "        xx3 = threedp3_likelihood_arijit(last_gt_image,last_gt_image_bg,0.115,None)\n",
    "        frac = (xx2-xx3)/(xx1-xx3)\n",
    "        if frac < 0.4827912:\n",
    "            return 0\n",
    "        else:\n",
    "            return 1\n",
    "    else:\n",
    "        return np.random.choice([0,1])\n",
    "    # xx1 = threedp3_likelihood_arijit(last_gt_image,last_gt_image,0.108,None)\n",
    "    # xx2 = threedp3_likelihood_arijit(last_gt_image,last_rend[best_p_index],0.108,None)\n",
    "    # xx3 = threedp3_likelihood_arijit(last_gt_image,last_gt_image_bg,0.108,None)\n",
    "    # frac = (xx2-xx3)/(xx1-xx3)\n",
    "    # if frac < 0.38405928:\n",
    "    #     return 0\n",
    "    # else:\n",
    "    #     return 1"
   ]
  },
  {
   "cell_type": "code",
   "execution_count": 6,
   "metadata": {},
   "outputs": [
    {
     "name": "stderr",
     "output_type": "stream",
     "text": [
      "  0%|          | 0/407 [00:00<?, ?it/s]"
     ]
    },
    {
     "name": "stderr",
     "output_type": "stream",
     "text": [
      "100%|██████████| 407/407 [00:26<00:00, 15.30it/s]"
     ]
    },
    {
     "name": "stdout",
     "output_type": "stream",
     "text": [
      "Implausible Score: 185/245\n",
      "Implausible Perc: 75.51020408163265%\n",
      "Plausible Score: 131/162\n",
      "Plausible Perc: 80.8641975308642%\n",
      "Non-weighted Score : 316/407\n",
      "Non-weighted Perc : 77.64127764127764%\n",
      "Weighted Perc : 78.18720080624843%\n"
     ]
    },
    {
     "name": "stderr",
     "output_type": "stream",
     "text": [
      "\n"
     ]
    }
   ],
   "source": [
    "convert_dict = {'plausible':1,'implausible':0}\n",
    "imp_count = 0\n",
    "imp_total = 0\n",
    "pl_count = 0\n",
    "pl_total = 0\n",
    "for r in tqdm(all_r):\n",
    "    pred = determine_shape_constancy_plausibility(r['num_objects'], r['gt_image'], r['gt_image_bg'], r['rendered'], r['plausibility'])\n",
    "    if convert_dict[r['answer']] == 1:\n",
    "        pl_total += 1\n",
    "        if pred == convert_dict[r['answer']]:\n",
    "            pl_count+=1\n",
    "    else:\n",
    "        imp_total += 1\n",
    "        if pred == convert_dict[r['answer']]:\n",
    "            imp_count +=1\n",
    "\n",
    "print(\"Implausible Score: {}/{}\".format(imp_count,imp_total))\n",
    "print(\"Implausible Perc: {}%\".format(100*imp_count/imp_total))\n",
    "print(\"Plausible Score: {}/{}\".format(pl_count,pl_total))\n",
    "print(\"Plausible Perc: {}%\".format(100*pl_count/pl_total))\n",
    "print(\"Non-weighted Score : {}/{}\".format(imp_count+pl_count,imp_total+pl_total))\n",
    "print(\"Non-weighted Perc : {}%\".format(100*(imp_count+pl_count)/(imp_total+pl_total)))\n",
    "print(\"Weighted Perc : {}%\".format((100*imp_count/imp_total + 100*pl_count/pl_total)*0.5))"
   ]
  },
  {
   "cell_type": "code",
   "execution_count": null,
   "metadata": {},
   "outputs": [],
   "source": [
    "all_r[0]"
   ]
  },
  {
   "cell_type": "code",
   "execution_count": null,
   "metadata": {},
   "outputs": [],
   "source": []
  },
  {
   "cell_type": "code",
   "execution_count": null,
   "metadata": {},
   "outputs": [],
   "source": []
  },
  {
   "cell_type": "code",
   "execution_count": null,
   "metadata": {},
   "outputs": [],
   "source": [
    "testing_files = files[:]\n",
    "# testing_files.remove(testing_files[5])\n",
    "for file in tqdm(testing_files):\n",
    "    scene_name = file.split(\"/\")[-1][:-4]\n",
    "    print(scene_name)\n",
    "    # with open(f\"/home/arijitdasgupta/bayes3d/scripts/experiments/intphys/mcs/results_4/results_{scene_name}.pkl\", 'rb') as file:\n",
    "    #     results = pickle.load(file)\n",
    "    # print(scene_name)\n",
    "    # display(display_video(results[\"viz\"]))"
   ]
  },
  {
   "cell_type": "code",
   "execution_count": null,
   "metadata": {},
   "outputs": [],
   "source": [
    "def load_path(scene_name):\n",
    "    with open(f\"/home/arijitdasgupta/bayes3d/scripts/experiments/intphys/mcs/results_4/results_{scene_name}.pkl\", 'rb') as file:\n",
    "        return pickle.load(file)"
   ]
  },
  {
   "cell_type": "code",
   "execution_count": null,
   "metadata": {},
   "outputs": [],
   "source": [
    "with open(f\"/home/arijitdasgupta/bayes3d/scripts/experiments/intphys/mcs/results_5/results_passive_physics_validation_shape_constancy_0001_05.pkl\", 'rb') as file:\n",
    "    results = pickle.load(file)\n",
    "display_video(results[\"viz\"])"
   ]
  },
  {
   "cell_type": "code",
   "execution_count": null,
   "metadata": {},
   "outputs": [],
   "source": [
    "from sklearn.metrics import roc_curve, roc_auc_score\n",
    "\n",
    "\n",
    "all_fracs = []\n",
    "\n",
    "\n",
    "    "
   ]
  },
  {
   "cell_type": "code",
   "execution_count": null,
   "metadata": {},
   "outputs": [],
   "source": [
    "opt_t"
   ]
  },
  {
   "cell_type": "code",
   "execution_count": null,
   "metadata": {},
   "outputs": [],
   "source": [
    "import csv\n",
    "\n",
    "# Replace 'yourfile.csv' with the path to your CSV file\n",
    "# Replace new_data list with the values you want to add\n",
    "new_data = ['value1', 'value2', 'value3']\n",
    "\n",
    "with open('yourfile.csv', 'a', newline='') as file:\n",
    "    writer = csv.writer(file)\n",
    "    writer.writerow(new_data)"
   ]
  },
  {
   "cell_type": "code",
   "execution_count": null,
   "metadata": {},
   "outputs": [],
   "source": [
    "observations = np.load(\"eval_7_npzs/{}.npz\".format(\"eval_7_passive_physics_gravity_support_0004_27_debug\"),allow_pickle=True)[\"arr_0\"]\n",
    "SCALE =0.2\n",
    "preprocessed_data = preprocess_mcs_physics_scene(observations, MIN_DIST_THRESH=0.6, scale=SCALE)\n",
    "# with open(f\"/home/arijitdasgupta/bayes3d/scripts/experiments/intphys/mcs/pickled_data/{scene_ID}.pkl\", 'rb') as file:\n",
    "#     preprocessed_data = pickle.load(file)\n",
    "\n",
    "(gt_images, gt_images_bg, gt_images_obj, intrinsics),\\\n",
    "(gt_images_orig, gt_images_bg_orig, gt_images_obj_orig, intrinsics_orig),\\\n",
    "registered_objects, obj_pixels, is_gravity, poses, cam_pose = preprocessed_data\n",
    "\n",
    "print(\"Gravity?: \", is_gravity)\n",
    "if is_gravity:\n",
    "    plausible, plausibility_list, _ = gravity_scene_plausible(poses, intrinsics_orig, cam_pose, observations)\n",
    "    display(plausible)"
   ]
  },
  {
   "cell_type": "code",
   "execution_count": null,
   "metadata": {},
   "outputs": [],
   "source": [
    "b.get_depth_image(gt_images_obj_orig[33,...,2])"
   ]
  },
  {
   "cell_type": "code",
   "execution_count": null,
   "metadata": {},
   "outputs": [],
   "source": []
  },
  {
   "cell_type": "code",
   "execution_count": null,
   "metadata": {},
   "outputs": [],
   "source": []
  },
  {
   "cell_type": "code",
   "execution_count": null,
   "metadata": {},
   "outputs": [],
   "source": []
  },
  {
   "cell_type": "code",
   "execution_count": null,
   "metadata": {},
   "outputs": [],
   "source": [
    "registered_objects"
   ]
  },
  {
   "cell_type": "code",
   "execution_count": null,
   "metadata": {},
   "outputs": [],
   "source": []
  },
  {
   "cell_type": "code",
   "execution_count": null,
   "metadata": {},
   "outputs": [],
   "source": []
  },
  {
   "cell_type": "code",
   "execution_count": null,
   "metadata": {},
   "outputs": [],
   "source": []
  },
  {
   "cell_type": "code",
   "execution_count": null,
   "metadata": {},
   "outputs": [],
   "source": []
  },
  {
   "cell_type": "code",
   "execution_count": null,
   "metadata": {},
   "outputs": [],
   "source": [
    "import matplotlib.pyplot as plt\n",
    "%matplotlib inline\n",
    "\n",
    "# TODO: this is code used to check if resampling happened\n",
    "n_particles = results['resampled_indices'].shape[1]\n",
    "jnp.all(results['resampled_indices'] == np.arange(n_particles), axis = 1)\n",
    "\n",
    "base_indices = np.arange(n_particles)\n",
    "for i in range(results['resampled_indices'].shape[0]):\n",
    "    base_indices = base_indices[results['resampled_indices'][i]]\n",
    "\n",
    "max_rend_ll = 9600*jax.scipy.stats.norm.pdf(\n",
    "        0.,\n",
    "        loc=0.0, \n",
    "        scale=0.1\n",
    "    ) * 0.01\n",
    "offst = 3\n",
    "# scene = implausible_perm_results[3]\n",
    "scene = results# implausible_perm_results[3]\n",
    "\n",
    "worst_rend = scene[\"worst_rend\"]\n",
    "\n",
    "data = scene[\"phy_ll\"][0][offst:]\n",
    "\n",
    "fig, axes = plt.subplots(6, 5, figsize=(15, 12))  # Adjust figsize as needed\n",
    "\n",
    "# Set global min and max for y-axis\n",
    "ymin, ymax = np.min(data), np.max(data)\n",
    "\n",
    "for i in range(30):\n",
    "    ax = axes[i//5, i%5]\n",
    "    ax.plot(data[:, base_indices[i]])\n",
    "    ax.set_ylim([-4.66, -4.57])  # Set the same y-axis limits for all plots\n",
    "    ax.set_title(f\"Particle {i+1}\")\n",
    "    # ax.set_yscale(\"log\")\n",
    "\n",
    "plt.tight_layout()\n",
    "plt.show()\n",
    "\n",
    "\n",
    "data = scene[\"rend_ll\"][offst:]\n",
    "\n",
    "fig, axes = plt.subplots(6, 5, figsize=(15, 12))  # Adjust figsize as needed\n",
    "\n",
    "# Set global min and max for y-axis\n",
    "ymin, ymax = np.min(data), np.max(data)\n",
    "\n",
    "for i in range(30):\n",
    "    ax = axes[i//5, i%5]\n",
    "    ax.plot(data[:, base_indices[i]])\n",
    "    ax.plot(worst_rend[offst:], linestyle=\"--\")\n",
    "    ax.set_ylim([worst_rend[offst:].min(),max_rend_ll + 0.1*(max_rend_ll - worst_rend[offst:].min())])\n",
    "    ax.set_title(f\"Particle {i+1}\")\n",
    "    # ax.set_yscale(\"log\")\n",
    "\n",
    "\n",
    "\n",
    "plt.tight_layout()\n",
    "plt.show()"
   ]
  },
  {
   "cell_type": "code",
   "execution_count": null,
   "metadata": {},
   "outputs": [],
   "source": [
    "# TODO: this is code used to check if resampling happened\n",
    "n_particles = results['resampled_indices'].shape[1]\n",
    "resampled_bool = jnp.all(results['resampled_indices'] == np.arange(n_particles), axis = 1)\n",
    "\n",
    "base_indices = np.arange(n_particles)\n",
    "for i in range(results['resampled_indices'].shape[0]):\n",
    "    base_indices = base_indices[results['resampled_indices'][i]]"
   ]
  },
  {
   "cell_type": "code",
   "execution_count": null,
   "metadata": {},
   "outputs": [],
   "source": [
    "resampled_bool"
   ]
  },
  {
   "cell_type": "code",
   "execution_count": null,
   "metadata": {},
   "outputs": [],
   "source": [
    "def load_path(scene_name):\n",
    "    with open(f\"/home/arijitdasgupta/bayes3d/scripts/experiments/intphys/mcs/results_5/results_{scene_name}.pkl\", 'rb') as file:\n",
    "        return pickle.load(file)\n",
    "\n",
    "plausible_scenes = [files[i].split(\"/\")[-1][:-4] for i in range(62) if gt_bin[i] == 1]\n",
    "implausible_scenes = [files[i].split(\"/\")[-1][:-4] for i in range(62) if gt_bin[i] == 0]\n",
    "\n",
    "plausible_scenes_perm = [x for x in plausible_scenes if \"permanence\" in x]\n",
    "implausible_scenes_perm = [x for x in implausible_scenes if \"permanence\" in x]\n",
    "\n",
    "plausible_perm_results = [determine_plausibility(load_path(x))[0] for x in plausible_scenes_perm]\n",
    "implausible_perm_results = [determine_plausibility(load_path(x))[0] for x in implausible_scenes_perm]\n",
    "\n",
    "plausible_scenes_shape = [x for x in plausible_scenes if \"shape\" in x]\n",
    "implausible_scenes_shape = [x for x in implausible_scenes if \"shape\" in x]\n",
    "\n",
    "plausible_shape_results = [determine_plausibility(load_path(x),3,0.75)[0] for x in plausible_scenes_shape]\n",
    "implausible_shape_results = [determine_plausibility(load_path(x),3,0.75)[0] for x in implausible_scenes_shape]\n",
    "\n",
    "plausible_scenes_cont = [x for x in plausible_scenes if \"continuity\" in x]\n",
    "implausible_scenes_cont = [x for x in implausible_scenes if \"continuity\" in x]\n",
    "\n",
    "plausible_cont_results = [determine_plausibility(load_path(x))[0] for x in plausible_scenes_cont]\n",
    "implausible_cont_results = [determine_plausibility(load_path(x))[0] for x in implausible_scenes_cont]"
   ]
  },
  {
   "cell_type": "code",
   "execution_count": null,
   "metadata": {},
   "outputs": [],
   "source": [
    "display(implausible_cont_results)\n",
    "display(implausible_perm_results)\n",
    "display(implausible_shape_results)\n",
    "display(plausible_cont_results)\n",
    "display(plausible_perm_results)\n",
    "display(plausible_shape_results)"
   ]
  },
  {
   "cell_type": "code",
   "execution_count": null,
   "metadata": {},
   "outputs": [],
   "source": []
  },
  {
   "cell_type": "code",
   "execution_count": null,
   "metadata": {},
   "outputs": [],
   "source": []
  },
  {
   "cell_type": "code",
   "execution_count": null,
   "metadata": {},
   "outputs": [],
   "source": []
  },
  {
   "cell_type": "code",
   "execution_count": null,
   "metadata": {},
   "outputs": [],
   "source": [
    "for x in plausible_scenes_perm:\n",
    "    print(x, determine_plausibility(load_path(x))[3])\n",
    "for x in implausible_scenes_perm:\n",
    "    print(x, determine_plausibility(load_path(x))[3])\n",
    "\n",
    "for x in plausible_scenes_cont:\n",
    "    print(x, determine_plausibility(load_path(x))[3])\n",
    "for x in implausible_scenes_cont:\n",
    "    print(x, determine_plausibility(load_path(x))[3])\n",
    "\n",
    "for x in plausible_scenes_shape:\n",
    "    print(x, determine_plausibility(load_path(x))[3])\n",
    "for x in implausible_scenes_shape:\n",
    "    print(x, determine_plausibility(load_path(x))[3])"
   ]
  },
  {
   "cell_type": "code",
   "execution_count": null,
   "metadata": {},
   "outputs": [],
   "source": []
  },
  {
   "cell_type": "code",
   "execution_count": null,
   "metadata": {},
   "outputs": [],
   "source": [
    "plausible_rend_markers = [np.min(np.max(x[\"rend_ll\"][3:,:],axis=1)) for x in plausible_perm_results]\n",
    "implausible_rend_markers = [np.min(np.max(x[\"rend_ll\"][3:,:],axis=1)) for x in implausible_perm_results]"
   ]
  },
  {
   "cell_type": "code",
   "execution_count": null,
   "metadata": {},
   "outputs": [],
   "source": [
    "plausible_rend_markers"
   ]
  },
  {
   "cell_type": "code",
   "execution_count": null,
   "metadata": {},
   "outputs": [],
   "source": [
    "implausible_rend_markers"
   ]
  },
  {
   "cell_type": "code",
   "execution_count": null,
   "metadata": {},
   "outputs": [],
   "source": [
    "plausible_phy_markers = [np.min(np.median(x[\"phy_ll\"][0][3:,:],axis=1)) for x in plausible_perm_results]\n",
    "implausible_phy_markers = [np.min(np.median(x[\"phy_ll\"][0][3:,:],axis=1)) for x in implausible_perm_results]"
   ]
  },
  {
   "cell_type": "code",
   "execution_count": null,
   "metadata": {},
   "outputs": [],
   "source": [
    "plausible_phy_markers, plausible_scenes_perm"
   ]
  },
  {
   "cell_type": "code",
   "execution_count": null,
   "metadata": {},
   "outputs": [],
   "source": [
    "implausible_phy_markers, implausible_scenes_perm"
   ]
  },
  {
   "cell_type": "code",
   "execution_count": null,
   "metadata": {},
   "outputs": [],
   "source": [
    "# Create a scatter plot for the first cluster (in blue)\n",
    "plt.scatter(plausible_phy_markers, plausible_rend_markers, c='blue', label='Plausible')\n",
    "\n",
    "# Create a scatter plot for the second cluster (in red)\n",
    "plt.scatter(implausible_phy_markers, implausible_rend_markers, c='red', label='Implausible')\n",
    "\n",
    "# Add labels and a title\n",
    "plt.xlabel('Physics LL')\n",
    "plt.ylabel('Rend LL')\n",
    "plt.title('Cluster Plot')\n",
    "\n",
    "# Add a legend to distinguish between clusters\n",
    "plt.legend()\n",
    "\n",
    "# Display the plot\n",
    "plt.show()"
   ]
  },
  {
   "cell_type": "code",
   "execution_count": null,
   "metadata": {},
   "outputs": [],
   "source": [
    "implausible_scenes_perm"
   ]
  },
  {
   "cell_type": "code",
   "execution_count": null,
   "metadata": {},
   "outputs": [],
   "source": [
    "params = (jnp.array([1e-0,1e-0,5e-1]), 5e-1)\n",
    "# params = (1e+20, 0)\n",
    "display(b.gaussian_vmf_pose.logpdf(jnp.eye(4), jnp.eye(4).at[:3,3].set([0,0,0]), *params))\n",
    "# display(b.gaussian_vmf_pose.logpdf(jnp.eye(4), jnp.eye(4).at[:3,3].set([0.005,0.0,0.0]), *params))\n",
    "display(b.gaussian_vmf_pose.logpdf(jnp.eye(4), jnp.eye(4).at[:3,3].set([0.0,1,0.0]), *params))\n",
    "display(b.gaussian_vmf_pose.logpdf(jnp.eye(4), jnp.eye(4).at[:3,3].set([0.0,0.0,1]), *params))\n",
    "# 0.02 ll diff for movement of away"
   ]
  },
  {
   "cell_type": "code",
   "execution_count": null,
   "metadata": {},
   "outputs": [],
   "source": [
    "display(b.gaussian_vmf_pose.logpdf(jnp.eye(4), jnp.eye(4).at[:3,3].set([1,0,0]), *(5e-0,5e-1)))"
   ]
  },
  {
   "cell_type": "code",
   "execution_count": null,
   "metadata": {},
   "outputs": [],
   "source": [
    "params = [1,1,1]\n",
    "display(genjax.tfp_mv_normal_diag.logpdf([0,0,0],[0,0,0],params))\n",
    "display(genjax.tfp_mv_normal_diag.logpdf([0.1,0.1,0.0],[0,0,0],params))\n",
    "display(genjax.tfp_mv_normal_diag.logpdf([0.0,0.1,0.1],[0,0,0],params))\n"
   ]
  },
  {
   "cell_type": "code",
   "execution_count": null,
   "metadata": {},
   "outputs": [],
   "source": [
    "qs = jnp.linspace(0.05,0.95,30)\n",
    "tfp.distributions.Normal(0.02,0.05).quantile(qs)"
   ]
  },
  {
   "cell_type": "code",
   "execution_count": null,
   "metadata": {},
   "outputs": [],
   "source": [
    "display(9600*jax.scipy.stats.norm.pdf(\n",
    "        np.array([0.]),\n",
    "        loc=0.0, \n",
    "        scale=0.1\n",
    "    ) * 0.01)\n",
    "\n",
    "9600*jax.scipy.stats.norm.pdf(\n",
    "        np.array([0.0001]),\n",
    "        loc=0.0, \n",
    "        scale=0.1\n",
    "    ) * 0.01\n",
    "\n"
   ]
  },
  {
   "cell_type": "code",
   "execution_count": null,
   "metadata": {},
   "outputs": [],
   "source": []
  },
  {
   "cell_type": "code",
   "execution_count": null,
   "metadata": {},
   "outputs": [],
   "source": [
    "3.9894223 * (2400-6) *0.01\n"
   ]
  },
  {
   "cell_type": "code",
   "execution_count": null,
   "metadata": {},
   "outputs": [],
   "source": []
  }
 ],
 "metadata": {
  "kernelspec": {
   "display_name": "bayes3d",
   "language": "python",
   "name": "python3"
  },
  "language_info": {
   "codemirror_mode": {
    "name": "ipython",
    "version": 3
   },
   "file_extension": ".py",
   "mimetype": "text/x-python",
   "name": "python",
   "nbconvert_exporter": "python",
   "pygments_lexer": "ipython3",
   "version": "3.9.18"
  },
  "orig_nbformat": 4
 },
 "nbformat": 4,
 "nbformat_minor": 2
}
