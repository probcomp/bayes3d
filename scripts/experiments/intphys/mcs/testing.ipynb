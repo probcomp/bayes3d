{
 "cells": [
  {
   "cell_type": "code",
   "execution_count": 1,
   "metadata": {},
   "outputs": [],
   "source": [
    "import glob\n",
    "from tqdm import tqdm\n",
    "import pickle\n",
    "import subprocess\n",
    "paths = \"/home/arijitdasgupta/bayes3d/scripts/experiments/intphys/mcs/val7_physics_npzs/*npz\"\n",
    "files = sorted(glob.glob(paths))\n",
    "import sys\n",
    "sys.path.append(\"../\")\n",
    "from viz import *\n",
    "from utils import *\n"
   ]
  },
  {
   "cell_type": "code",
   "execution_count": 4,
   "metadata": {},
   "outputs": [
    {
     "name": "stderr",
     "output_type": "stream",
     "text": [
      "  6%|▋         | 1/16 [00:16<04:00, 16.06s/it]"
     ]
    },
    {
     "name": "stdout",
     "output_type": "stream",
     "text": [
      "Command Output:\n",
      "Running passive_physics_validation_object_permanence_0001_01\n",
      "Running passive_physics_validation_object_permanence_0001_02\n",
      "All processes have completed.\n",
      "\n"
     ]
    },
    {
     "name": "stderr",
     "output_type": "stream",
     "text": [
      " 12%|█▎        | 2/16 [00:31<03:43, 15.96s/it]"
     ]
    },
    {
     "name": "stdout",
     "output_type": "stream",
     "text": [
      "Command Output:\n",
      "Running passive_physics_validation_object_permanence_0001_03\n",
      "Running passive_physics_validation_object_permanence_0001_07\n",
      "All processes have completed.\n",
      "\n"
     ]
    },
    {
     "name": "stderr",
     "output_type": "stream",
     "text": [
      " 19%|█▉        | 3/16 [00:47<03:27, 16.00s/it]"
     ]
    },
    {
     "name": "stdout",
     "output_type": "stream",
     "text": [
      "Command Output:\n",
      "Running passive_physics_validation_object_permanence_0001_09\n",
      "Running passive_physics_validation_object_permanence_0001_08\n",
      "All processes have completed.\n",
      "\n"
     ]
    },
    {
     "name": "stderr",
     "output_type": "stream",
     "text": [
      " 25%|██▌       | 4/16 [01:03<03:11, 15.96s/it]"
     ]
    },
    {
     "name": "stdout",
     "output_type": "stream",
     "text": [
      "Command Output:\n",
      "Running passive_physics_validation_object_permanence_0001_13\n",
      "Running passive_physics_validation_object_permanence_0001_14\n",
      "All processes have completed.\n",
      "\n"
     ]
    },
    {
     "name": "stderr",
     "output_type": "stream",
     "text": [
      " 31%|███▏      | 5/16 [01:19<02:55, 15.98s/it]"
     ]
    },
    {
     "name": "stdout",
     "output_type": "stream",
     "text": [
      "Command Output:\n",
      "Running passive_physics_validation_object_permanence_0001_19\n",
      "Running passive_physics_validation_object_permanence_0001_15\n",
      "All processes have completed.\n",
      "\n"
     ]
    },
    {
     "name": "stderr",
     "output_type": "stream",
     "text": [
      " 38%|███▊      | 6/16 [01:36<02:40, 16.08s/it]"
     ]
    },
    {
     "name": "stdout",
     "output_type": "stream",
     "text": [
      "Command Output:\n",
      "Running passive_physics_validation_object_permanence_0001_20\n",
      "Running passive_physics_validation_object_permanence_0001_23\n",
      "All processes have completed.\n",
      "\n"
     ]
    },
    {
     "name": "stderr",
     "output_type": "stream",
     "text": [
      " 44%|████▍     | 7/16 [01:52<02:24, 16.10s/it]"
     ]
    },
    {
     "name": "stdout",
     "output_type": "stream",
     "text": [
      "Command Output:\n",
      "Running passive_physics_validation_object_permanence_0001_24\n",
      "Running passive_physics_validation_object_permanence_0001_27\n",
      "All processes have completed.\n",
      "\n"
     ]
    },
    {
     "name": "stderr",
     "output_type": "stream",
     "text": [
      " 50%|█████     | 8/16 [02:07<02:06, 15.83s/it]"
     ]
    },
    {
     "name": "stdout",
     "output_type": "stream",
     "text": [
      "Command Output:\n",
      "Running passive_physics_validation_object_permanence_0001_28\n",
      "Running passive_physics_validation_shape_constancy_0001_01\n",
      "All processes have completed.\n",
      "\n"
     ]
    },
    {
     "name": "stderr",
     "output_type": "stream",
     "text": [
      " 56%|█████▋    | 9/16 [02:22<01:48, 15.53s/it]"
     ]
    },
    {
     "name": "stdout",
     "output_type": "stream",
     "text": [
      "Command Output:\n",
      "Running passive_physics_validation_shape_constancy_0001_02\n",
      "Running passive_physics_validation_shape_constancy_0001_05\n",
      "All processes have completed.\n",
      "\n"
     ]
    },
    {
     "name": "stderr",
     "output_type": "stream",
     "text": [
      " 62%|██████▎   | 10/16 [02:38<01:34, 15.68s/it]"
     ]
    },
    {
     "name": "stdout",
     "output_type": "stream",
     "text": [
      "Command Output:\n",
      "Running passive_physics_validation_shape_constancy_0001_07\n",
      "Running passive_physics_validation_shape_constancy_0001_06\n",
      "All processes have completed.\n",
      "\n"
     ]
    },
    {
     "name": "stderr",
     "output_type": "stream",
     "text": [
      " 69%|██████▉   | 11/16 [02:53<01:17, 15.55s/it]"
     ]
    },
    {
     "name": "stdout",
     "output_type": "stream",
     "text": [
      "Command Output:\n",
      "Running passive_physics_validation_spatio_temporal_continuity_0001_02\n",
      "Running passive_physics_validation_spatio_temporal_continuity_0001_01\n",
      "All processes have completed.\n",
      "\n"
     ]
    },
    {
     "name": "stderr",
     "output_type": "stream",
     "text": [
      " 75%|███████▌  | 12/16 [03:08<01:01, 15.30s/it]"
     ]
    },
    {
     "name": "stdout",
     "output_type": "stream",
     "text": [
      "Command Output:\n",
      "Running passive_physics_validation_spatio_temporal_continuity_0001_07\n",
      "Running passive_physics_validation_spatio_temporal_continuity_0001_03\n",
      "All processes have completed.\n",
      "\n"
     ]
    },
    {
     "name": "stderr",
     "output_type": "stream",
     "text": [
      " 81%|████████▏ | 13/16 [03:23<00:45, 15.11s/it]"
     ]
    },
    {
     "name": "stdout",
     "output_type": "stream",
     "text": [
      "Command Output:\n",
      "Running passive_physics_validation_spatio_temporal_continuity_0001_09\n",
      "Running passive_physics_validation_spatio_temporal_continuity_0001_08\n",
      "All processes have completed.\n",
      "\n"
     ]
    },
    {
     "name": "stderr",
     "output_type": "stream",
     "text": [
      " 88%|████████▊ | 14/16 [03:38<00:30, 15.04s/it]"
     ]
    },
    {
     "name": "stdout",
     "output_type": "stream",
     "text": [
      "Command Output:\n",
      "Running passive_physics_validation_spatio_temporal_continuity_0001_13\n",
      "Running passive_physics_validation_spatio_temporal_continuity_0001_14\n",
      "All processes have completed.\n",
      "\n"
     ]
    },
    {
     "name": "stderr",
     "output_type": "stream",
     "text": [
      " 94%|█████████▍| 15/16 [03:52<00:15, 15.01s/it]"
     ]
    },
    {
     "name": "stdout",
     "output_type": "stream",
     "text": [
      "Command Output:\n",
      "Running passive_physics_validation_spatio_temporal_continuity_0001_19\n",
      "Running passive_physics_validation_spatio_temporal_continuity_0001_15\n",
      "All processes have completed.\n",
      "\n"
     ]
    },
    {
     "name": "stderr",
     "output_type": "stream",
     "text": [
      "100%|██████████| 16/16 [04:07<00:00, 15.49s/it]"
     ]
    },
    {
     "name": "stdout",
     "output_type": "stream",
     "text": [
      "Command Output:\n",
      "Running passive_physics_validation_spatio_temporal_continuity_0001_21\n",
      "Running passive_physics_validation_spatio_temporal_continuity_0001_20\n",
      "All processes have completed.\n",
      "\n"
     ]
    },
    {
     "name": "stderr",
     "output_type": "stream",
     "text": [
      "\n"
     ]
    }
   ],
   "source": [
    "num_scenes = len(files)\n",
    "for i in tqdm(range(30,num_scenes,2)):\n",
    "    # file = files[i]\n",
    "    scene_name_1 = files[i].split(\"/\")[-1][:-4]\n",
    "    scene_name_2 = files[i+1].split(\"/\")[-1][:-4]\n",
    "    command = [\"./run_mcs_full.sh\", scene_name_1, scene_name_2]\n",
    "    try:\n",
    "        result = subprocess.run(command, stdout=subprocess.PIPE, stderr=subprocess.PIPE, text=True, check=True)\n",
    "        # The \"stdout\" attribute of the result object contains the command's standard output\n",
    "        print(\"Command Output:\")\n",
    "        print(result.stdout)\n",
    "    except subprocess.CalledProcessError as e:\n",
    "        # If the command returns a non-zero exit code, it will raise a CalledProcessError\n",
    "        print(f\"Command failed with exit code {e.returncode}\")\n",
    "        print(\"Error Output:\")\n",
    "        print(e.stderr)"
   ]
  },
  {
   "cell_type": "code",
   "execution_count": null,
   "metadata": {},
   "outputs": [],
   "source": [
    "list(range(0,num_scenes))"
   ]
  },
  {
   "cell_type": "code",
   "execution_count": null,
   "metadata": {},
   "outputs": [],
   "source": [
    "with open(f\"/home/arijitdasgupta/bayes3d/scripts/experiments/\n",
    "          intphys/mcs/results/results_{scene_name}.pkl\", 'rb') as file:\n",
    "      results = pickle.load(file)"
   ]
  },
  {
   "cell_type": "code",
   "execution_count": null,
   "metadata": {},
   "outputs": [],
   "source": [
    "display_video(results[\"viz\"])"
   ]
  },
  {
   "cell_type": "code",
   "execution_count": null,
   "metadata": {},
   "outputs": [],
   "source": [
    "list(range(30,61+1,2))"
   ]
  },
  {
   "cell_type": "code",
   "execution_count": null,
   "metadata": {},
   "outputs": [],
   "source": [
    "files[58]"
   ]
  },
  {
   "cell_type": "code",
   "execution_count": null,
   "metadata": {},
   "outputs": [],
   "source": []
  },
  {
   "cell_type": "code",
   "execution_count": null,
   "metadata": {},
   "outputs": [],
   "source": [
    "for file in tqdm(files[30:45]):\n",
    "    scene_name = file.split(\"/\")[-1][:-4]\n",
    "    with open(f\"/home/arijitdasgupta/bayes3d/scripts/experiments/intphys/mcs/results_2/results_{scene_name}.pkl\", 'rb') as file:\n",
    "        results = pickle.load(file)\n",
    "    print(scene_name)\n",
    "    display(display_video(results[\"viz\"]))"
   ]
  },
  {
   "cell_type": "code",
   "execution_count": null,
   "metadata": {},
   "outputs": [],
   "source": []
  },
  {
   "cell_type": "code",
   "execution_count": null,
   "metadata": {},
   "outputs": [],
   "source": [
    "with open(f\"/home/arijitdasgupta/bayes3d/scripts/experiments/intphys/mcs/results_2/results_passive_physics_validation_object_permanence_0001_09.pkl\", 'rb') as file:\n",
    "    results = pickle.load(file)\n",
    "display_video(results[\"viz\"])"
   ]
  },
  {
   "cell_type": "code",
   "execution_count": null,
   "metadata": {},
   "outputs": [],
   "source": []
  },
  {
   "cell_type": "code",
   "execution_count": null,
   "metadata": {},
   "outputs": [],
   "source": []
  }
 ],
 "metadata": {
  "kernelspec": {
   "display_name": "bayes3d",
   "language": "python",
   "name": "python3"
  },
  "language_info": {
   "codemirror_mode": {
    "name": "ipython",
    "version": 3
   },
   "file_extension": ".py",
   "mimetype": "text/x-python",
   "name": "python",
   "nbconvert_exporter": "python",
   "pygments_lexer": "ipython3",
   "version": "3.9.18"
  },
  "orig_nbformat": 4
 },
 "nbformat": 4,
 "nbformat_minor": 2
}
