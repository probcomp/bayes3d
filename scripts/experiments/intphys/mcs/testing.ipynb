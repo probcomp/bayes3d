{
 "cells": [
  {
   "cell_type": "code",
   "execution_count": null,
   "metadata": {},
   "outputs": [],
   "source": [
    "import glob\n",
    "from tqdm import tqdm\n",
    "import pickle\n",
    "import subprocess\n",
    "paths = \"/home/arijitdasgupta/bayes3d/scripts/experiments/intphys/mcs/val7_physics_npzs/*npz\"\n",
    "files = sorted(glob.glob(paths))\n",
    "import sys\n",
    "sys.path.append(\"../\")\n",
    "from viz import *\n",
    "from utils import *\n"
   ]
  },
  {
   "cell_type": "code",
   "execution_count": null,
   "metadata": {},
   "outputs": [],
   "source": [
    "paths = \"/home/ubuntu/arijit/bayes3d/scripts/experiments/intphys/mcs/eval_7_npzs/*npz\"\n",
    "files = sorted(glob.glob(paths))\n",
    "files = files[:6] + files[22:34] + files[64:79] + files[84:96]\n",
    "files = files[:172]\n",
    "num_scenes = len(files)\n",
    "for i in tqdm(range(0,num_scenes,2)):\n",
    "    # file = files[i]\n",
    "    scene_name_1 = files[i].split(\"/\")[-1][:-4]\n",
    "    if len(files) > i+1:\n",
    "        scene_name_2 = files[i+1].split(\"/\")[-1][:-4]\n",
    "    else:\n",
    "        scene_name_2 = 'exit'\n",
    "    command = [\"./run_mcs_full.sh\", scene_name_1, scene_name_2]\n",
    "    print(\"running {} and {}\".format(scene_name_1, scene_name_2))\n",
    "    try:\n",
    "        result = subprocess.run(command, stdout=subprocess.PIPE, stderr=subprocess.PIPE, text=True, check=True)\n",
    "        # The \"stdout\" attribute of the result object contains the command's standard output\n",
    "        print(\"Command Output:\")\n",
    "        print(result.stdout)\n",
    "    except subprocess.CalledProcessError as e:\n",
    "        # If the command returns a non-zero exit code, it will raise a CalledProcessError\n",
    "        print(f\"Command failed with exit code {e.returncode}\")\n",
    "        print(\"Error Output:\")\n",
    "        print(e.stderr)"
   ]
  },
  {
   "cell_type": "code",
   "execution_count": null,
   "metadata": {},
   "outputs": [],
   "source": [
    "# NOTE: Shape constancy scenes\n",
    "paths = \"/home/ubuntu/arijit/bayes3d/scripts/experiments/intphys/mcs/eval_7/*shape*json\"\n",
    "files = sorted(glob.glob(paths))[408:454]\n",
    "num_scenes = len(files)\n",
    "for i in tqdm(range(0,num_scenes,4)):\n",
    "    # file = files[i]\n",
    "    scene_name_1 = files[i].split(\"/\")[-1][:-5]\n",
    "    scene_name_2 = files[i+1].split(\"/\")[-1][:-5]\n",
    "    scene_name_3 = files[i+2].split(\"/\")[-1][:-5]\n",
    "    scene_name_4 = files[i+3].split(\"/\")[-1][:-5]\n",
    "    # if len(files) > i+1:\n",
    "    #     scene_name_2 = files[i+1].split(\"/\")[-1][:-5]\n",
    "    # else:\n",
    "    #     scene_name_2 = 'exit'\n",
    "    # command = [\"./run_mcs_shape.sh\", scene_name_1, scene_name_2, scene_name_3, scene_name_4]\n",
    "    \n",
    "    print(\"running {} and {}\".format(scene_name_1, scene_name_2, scene_name_3,scene_name_4))\n",
    "    try:\n",
    "        result = subprocess.run(command, stdout=subprocess.PIPE, stderr=subprocess.PIPE, text=True, check=True)\n",
    "        # The \"stdout\" attribute of the result object contains the command's standard output\n",
    "        print(\"Command Output:\")\n",
    "        print(result.stdout)\n",
    "    except subprocess.CalledProcessError as e:\n",
    "        # If the command returns a non-zero exit code, it will raise a CalledProcessError\n",
    "        print(f\"Command failed with exit code {e.returncode}\")\n",
    "        print(\"Error Output:\")\n",
    "        print(e.stderr)"
   ]
  },
  {
   "cell_type": "code",
   "execution_count": null,
   "metadata": {},
   "outputs": [],
   "source": [
    "paths_results = \"/home/ubuntu/arijit/bayes3d/scripts/experiments/intphys/final_result_*\"\n",
    "files_results = glob.glob(paths_results)\n",
    "for f in files_results:\n",
    "    with open(f, 'rb') as file:\n",
    "      results = pickle.load(file)\n",
    "      print(f\"{f.split(\"/\")[-1][13:]} \", results['rating'])"
   ]
  },
  {
   "cell_type": "code",
   "execution_count": null,
   "metadata": {},
   "outputs": [],
   "source": [
    "with open(f\"/home/arijitdasgupta/bayes3d/scripts/experiments/\n",
    "          intphys/mcs/results/results_{scene_name}.pkl\", 'rb') as file:\n",
    "      results = pickle.load(file)"
   ]
  },
  {
   "cell_type": "code",
   "execution_count": null,
   "metadata": {},
   "outputs": [],
   "source": [
    "paths = \"/home/ubuntu/arijit/bayes3d/scripts/experiments/intphys/mcs/eval_7_npzs/*npz\"\n",
    "files = sorted(glob.glob(paths))"
   ]
  },
  {
   "cell_type": "code",
   "execution_count": null,
   "metadata": {},
   "outputs": [],
   "source": [
    "for x in custom_files:\n",
    "    print(x.split('/')[-1][:-4])"
   ]
  },
  {
   "cell_type": "code",
   "execution_count": null,
   "metadata": {},
   "outputs": [],
   "source": [
    "paths = \"/home/ubuntu/arijit/bayes3d/scripts/experiments/intphys/mcs/eval_7/*shape*json\"\n",
    "files = sorted(glob.glob(paths))"
   ]
  },
  {
   "cell_type": "code",
   "execution_count": null,
   "metadata": {},
   "outputs": [],
   "source": [
    "import glob\n",
    "import subprocess\n",
    "from concurrent.futures import ThreadPoolExecutor\n",
    "from tqdm import tqdm\n",
    "import os\n",
    "\n",
    "# Define a function to run the subprocess\n",
    "def run_subprocess(scene_name):\n",
    "    command = [\"python\", \"../shape_constancy_tester.py\", scene_name]\n",
    "    try:\n",
    "        result = subprocess.run(command, stdout=subprocess.PIPE, stderr=subprocess.PIPE, text=True, check=True)\n",
    "        # The \"stdout\" attribute of the result object contains the command's standard output\n",
    "        print(f\"Command Output for {scene_name}:\")\n",
    "        print(result.stdout)\n",
    "    except subprocess.CalledProcessError as e:\n",
    "        # If the command returns a non-zero exit code, it will raise a CalledProcessError\n",
    "        print(f\"Command for {scene_name} failed with exit code {e.returncode}\")\n",
    "        print(\"Error Output:\")\n",
    "        print(e.stderr)\n",
    "\n",
    "# Specify the paths to your JSON files\n",
    "paths = \"/home/ubuntu/arijit/bayes3d/scripts/experiments/intphys/mcs/eval_7/*shape*json\"\n",
    "files = sorted(glob.glob(paths))[408:454]\n",
    "num_scenes = len(files)\n",
    "\n",
    "# Get the number of available CPU cores\n",
    "num_cores = os.cpu_count()\n",
    "\n",
    "# Specify the desired number of threads (e.g., 2x the number of cores)\n",
    "desired_max_workers = 5#num_cores * 2\n",
    "\n",
    "# Create a ThreadPoolExecutor with the desired number of max workers\n",
    "with ThreadPoolExecutor(max_workers=desired_max_workers) as executor:\n",
    "    futures = [executor.submit(run_subprocess, files[i].split(\"/\")[-1][:-5]) for i in range(num_scenes)]\n",
    "\n",
    "# Wait for all subprocesses to complete\n",
    "for future in tqdm(futures, total=num_scenes):\n",
    "    future.result()\n"
   ]
  },
  {
   "cell_type": "code",
   "execution_count": null,
   "metadata": {},
   "outputs": [],
   "source": [
    "import os\n",
    "import multiprocessing\n",
    "\n",
    "# Method 1: Using the os module\n",
    "num_cores_os = os.cpu_count()\n",
    "print(f\"Number of CPU cores (os.cpu_count()): {num_cores_os}\")\n",
    "\n",
    "# Method 2: Using the multiprocessing module\n",
    "num_cores_multiprocessing = multiprocessing.cpu_count()\n",
    "print(f\"Number of CPU cores (multiprocessing.cpu_count()): {num_cores_multiprocessing}\")\n"
   ]
  },
  {
   "cell_type": "code",
   "execution_count": null,
   "metadata": {},
   "outputs": [],
   "source": []
  }
 ],
 "metadata": {
  "kernelspec": {
   "display_name": "bayes3d",
   "language": "python",
   "name": "python3"
  },
  "language_info": {
   "codemirror_mode": {
    "name": "ipython",
    "version": 3
   },
   "file_extension": ".py",
   "mimetype": "text/x-python",
   "name": "python",
   "nbconvert_exporter": "python",
   "pygments_lexer": "ipython3",
   "version": "3.9.18"
  },
  "orig_nbformat": 4
 },
 "nbformat": 4,
 "nbformat_minor": 2
}
