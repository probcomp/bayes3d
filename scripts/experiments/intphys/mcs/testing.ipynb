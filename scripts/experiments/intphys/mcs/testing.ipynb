{
 "cells": [
  {
   "cell_type": "code",
   "execution_count": 1,
   "metadata": {},
   "outputs": [],
   "source": [
    "import glob\n",
    "from tqdm import tqdm\n",
    "import pickle\n",
    "import subprocess\n",
    "paths = \"/home/arijitdasgupta/bayes3d/scripts/experiments/intphys/mcs/pickled_data/*pkl\"\n",
    "files = sorted(glob.glob(paths))\n",
    "import sys\n",
    "sys.path.append(\"../\")\n",
    "from viz import *\n",
    "from utils import *"
   ]
  },
  {
   "cell_type": "code",
   "execution_count": 3,
   "metadata": {},
   "outputs": [
    {
     "name": "stderr",
     "output_type": "stream",
     "text": [
      "  3%|▎         | 1/32 [05:12<2:41:24, 312.39s/it]"
     ]
    },
    {
     "name": "stdout",
     "output_type": "stream",
     "text": [
      "Command Output:\n",
      "Running passive_physics_validation_object_permanence_0001_01\n",
      "Increasing frame buffer size to (width, height, depth) = (64, 64, 1024)\n",
      "Centering mesh with translation [ 0.00250025  0.00499991 -0.00500049]\n",
      "jit compiling\n",
      "t = 135\n",
      "t = 136\n",
      "t = 137\n",
      "t = 138\n",
      "t = 139\n",
      "t = 140\n",
      "t = 141\n",
      "t = 142\n",
      "t = 143\n",
      "t = 144\n",
      "t = 145\n",
      "t = 146\n",
      "t = 147\n",
      "t = 148\n",
      "t = 149\n",
      "t = 150\n",
      "t = 151\n",
      "t = 152\n",
      "t = 153\n",
      "t = 154\n",
      "t = 155\n",
      "t = 156\n",
      "t = 157\n",
      "t = 158\n",
      "t = 159\n",
      "t = 160\n",
      "t = 161\n",
      "t = 162\n",
      "t = 163\n",
      "t = 164\n",
      "t = 165\n",
      "t = 166\n",
      "t = 167\n",
      "t = 168\n",
      "t = 169\n",
      "t = 170\n",
      "t = 171\n",
      "t = 172\n",
      "t = 173\n",
      "t = 174\n",
      "t = 175\n",
      "t = 176\n",
      "t = 177\n",
      "t = 178\n",
      "t = 179\n",
      "t = 180\n",
      "t = 181\n",
      "t = 182\n",
      "t = 183\n",
      "t = 184\n",
      "t = 185\n",
      "t = 186\n",
      "t = 187\n",
      "t = 188\n",
      "t = 189\n",
      "t = 190\n",
      "t = 191\n",
      "t = 192\n",
      "t = 193\n",
      "t = 194\n",
      "t = 195\n",
      "t = 196\n",
      "t = 197\n",
      "t = 198\n",
      "t = 199\n",
      "t = 200\n",
      "t = 201\n",
      "t = 202\n",
      "t = 203\n",
      "t = 204\n",
      "t = 205\n",
      "t = 206\n",
      "t = 207\n",
      "t = 208\n",
      "t = 209\n",
      "t = 210\n",
      "t = 211\n",
      "t = 212\n",
      "t = 213\n",
      "t = 214\n",
      "t = 215\n",
      "t = 216\n",
      "t = 217\n",
      "t = 218\n",
      "t = 219\n",
      "t = 220\n",
      "t = 221\n",
      "t = 222\n",
      "t = 223\n",
      "t = 224\n",
      "t = 225\n",
      "t = 226\n",
      "t = 227\n",
      "t = 228\n",
      "t = 229\n",
      "t = 230\n",
      "t = 231\n",
      "t = 232\n",
      "t = 233\n",
      "t = 234\n",
      "t = 235\n",
      "t = 236\n",
      "t = 237\n",
      "t = 238\n",
      "t = 239\n",
      "SCAN finished\n",
      "FPS: 0.5782416797569211\n",
      "finished run\n",
      "[Open3D INFO] EGL headless mode enabled.\n",
      "FEngine (64 bits) created at 0x5618f2cf2260 (threading is enabled)\n",
      "EGL(1.5)\n",
      "OpenGL(4.1)\n",
      "\n"
     ]
    }
   ],
   "source": [
    "for file in tqdm(files[30:]):\n",
    "    scene_name = file.split(\"/\")[-1][:-4]\n",
    "    command = [\"python\", \"../run_mcs.py\", scene_name]\n",
    "    try:\n",
    "        result = subprocess.run(command, stdout=subprocess.PIPE, stderr=subprocess.PIPE, text=True, check=True)\n",
    "        # The \"stdout\" attribute of the result object contains the command's standard output\n",
    "        print(\"Command Output:\")\n",
    "        print(result.stdout)\n",
    "    except subprocess.CalledProcessError as e:\n",
    "        # If the command returns a non-zero exit code, it will raise a CalledProcessError\n",
    "        print(f\"Command failed with exit code {e.returncode}\")\n",
    "        print(\"Error Output:\")\n",
    "        print(e.stderr)"
   ]
  },
  {
   "cell_type": "code",
   "execution_count": null,
   "metadata": {},
   "outputs": [],
   "source": [
    "with open(f\"/home/arijitdasgupta/bayes3d/scripts/experiments/\n",
    "          intphys/mcs/results/results_{scene_name}.pkl\", 'rb') as file:\n",
    "    results = pickle.load(file)"
   ]
  },
  {
   "cell_type": "code",
   "execution_count": null,
   "metadata": {},
   "outputs": [],
   "source": [
    "display_video(results[\"viz\"])"
   ]
  },
  {
   "cell_type": "code",
   "execution_count": null,
   "metadata": {},
   "outputs": [],
   "source": [
    "for file in tqdm(files[30:45]):\n",
    "    scene_name = file.split(\"/\")[-1][:-4]\n",
    "    with open(f\"/home/arijitdasgupta/bayes3d/scripts/experiments/intphys/mcs/results_2/results_{scene_name}.pkl\", 'rb') as file:\n",
    "        results = pickle.load(file)\n",
    "    print(scene_name)\n",
    "    display(display_video(results[\"viz\"]))"
   ]
  },
  {
   "cell_type": "code",
   "execution_count": null,
   "metadata": {},
   "outputs": [],
   "source": []
  },
  {
   "cell_type": "code",
   "execution_count": null,
   "metadata": {},
   "outputs": [],
   "source": [
    "with open(f\"/home/arijitdasgupta/bayes3d/scripts/experiments/intphys/mcs/results_2/results_passive_physics_validation_object_permanence_0001_09.pkl\", 'rb') as file:\n",
    "    results = pickle.load(file)\n",
    "display_video(results[\"viz\"])"
   ]
  },
  {
   "cell_type": "code",
   "execution_count": null,
   "metadata": {},
   "outputs": [],
   "source": []
  },
  {
   "cell_type": "code",
   "execution_count": null,
   "metadata": {},
   "outputs": [],
   "source": []
  }
 ],
 "metadata": {
  "kernelspec": {
   "display_name": "bayes3d",
   "language": "python",
   "name": "python3"
  },
  "language_info": {
   "codemirror_mode": {
    "name": "ipython",
    "version": 3
   },
   "file_extension": ".py",
   "mimetype": "text/x-python",
   "name": "python",
   "nbconvert_exporter": "python",
   "pygments_lexer": "ipython3",
   "version": "3.9.18"
  },
  "orig_nbformat": 4
 },
 "nbformat": 4,
 "nbformat_minor": 2
}
