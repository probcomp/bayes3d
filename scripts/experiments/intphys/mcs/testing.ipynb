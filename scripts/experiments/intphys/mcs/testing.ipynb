{
 "cells": [
  {
   "cell_type": "code",
   "execution_count": 1,
   "metadata": {},
   "outputs": [],
   "source": [
    "import glob\n",
    "from tqdm import tqdm\n",
    "import pickle\n",
    "import subprocess\n",
    "paths = \"/home/arijitdasgupta/bayes3d/scripts/experiments/intphys/mcs/val7_physics_npzs/*npz\"\n",
    "files = sorted(glob.glob(paths))\n",
    "import sys\n",
    "sys.path.append(\"../\")\n",
    "from viz import *\n",
    "from utils import *\n"
   ]
  },
  {
   "cell_type": "code",
   "execution_count": null,
   "metadata": {},
   "outputs": [],
   "source": [
    "paths = \"/home/ubuntu/arijit/bayes3d/scripts/experiments/intphys/mcs/eval_7_npzs/*npz\"\n",
    "files = sorted(glob.glob(paths))\n",
    "files = files[:6] + files[22:34] + files[64:79] + files[84:96]\n",
    "files = files[:172]\n",
    "num_scenes = len(files)\n",
    "for i in tqdm(range(0,num_scenes,2)):\n",
    "    # file = files[i]\n",
    "    scene_name_1 = files[i].split(\"/\")[-1][:-4]\n",
    "    if len(files) > i+1:\n",
    "        scene_name_2 = files[i+1].split(\"/\")[-1][:-4]\n",
    "    else:\n",
    "        scene_name_2 = 'exit'\n",
    "    command = [\"./run_mcs_full.sh\", scene_name_1, scene_name_2]\n",
    "    print(\"running {} and {}\".format(scene_name_1, scene_name_2))\n",
    "    try:\n",
    "        result = subprocess.run(command, stdout=subprocess.PIPE, stderr=subprocess.PIPE, text=True, check=True)\n",
    "        # The \"stdout\" attribute of the result object contains the command's standard output\n",
    "        print(\"Command Output:\")\n",
    "        print(result.stdout)\n",
    "    except subprocess.CalledProcessError as e:\n",
    "        # If the command returns a non-zero exit code, it will raise a CalledProcessError\n",
    "        print(f\"Command failed with exit code {e.returncode}\")\n",
    "        print(\"Error Output:\")\n",
    "        print(e.stderr)"
   ]
  },
  {
   "cell_type": "code",
   "execution_count": 2,
   "metadata": {},
   "outputs": [
    {
     "name": "stderr",
     "output_type": "stream",
     "text": [
      "  0%|          | 0/164 [00:00<?, ?it/s]"
     ]
    },
    {
     "name": "stdout",
     "output_type": "stream",
     "text": [
      "running eval_7_passive_physics_shape_constancy_0018_03_debug and eval_7_passive_physics_shape_constancy_0018_04_debug\n"
     ]
    }
   ],
   "source": [
    "# NOTE: Shape constancy scenes\n",
    "paths = \"/home/ubuntu/arijit/bayes3d/scripts/experiments/intphys/mcs/eval_7/*shape*json\"\n",
    "files = sorted(glob.glob(paths))[172:]\n",
    "num_scenes = len(files)\n",
    "for i in tqdm(range(0,num_scenes,2)):\n",
    "    # file = files[i]\n",
    "    scene_name_1 = files[i].split(\"/\")[-1][:-5]\n",
    "    if len(files) > i+1:\n",
    "        scene_name_2 = files[i+1].split(\"/\")[-1][:-5]\n",
    "    else:\n",
    "        scene_name_2 = 'exit'\n",
    "    command = [\"./run_mcs_shape.sh\", scene_name_1, scene_name_2]\n",
    "    print(\"running {} and {}\".format(scene_name_1, scene_name_2))\n",
    "    try:\n",
    "        result = subprocess.run(command, stdout=subprocess.PIPE, stderr=subprocess.PIPE, text=True, check=True)\n",
    "        # The \"stdout\" attribute of the result object contains the command's standard output\n",
    "        print(\"Command Output:\")\n",
    "        print(result.stdout)\n",
    "    except subprocess.CalledProcessError as e:\n",
    "        # If the command returns a non-zero exit code, it will raise a CalledProcessError\n",
    "        print(f\"Command failed with exit code {e.returncode}\")\n",
    "        print(\"Error Output:\")\n",
    "        print(e.stderr)"
   ]
  },
  {
   "cell_type": "code",
   "execution_count": null,
   "metadata": {},
   "outputs": [],
   "source": [
    "paths_results = \"/home/ubuntu/arijit/bayes3d/scripts/experiments/intphys/final_result_*\"\n",
    "files_results = glob.glob(paths_results)\n",
    "for f in files_results:\n",
    "    with open(f, 'rb') as file:\n",
    "      results = pickle.load(file)\n",
    "      print(f\"{f.split(\"/\")[-1][13:]} \", results['rating'])"
   ]
  },
  {
   "cell_type": "code",
   "execution_count": null,
   "metadata": {},
   "outputs": [],
   "source": [
    "with open(f\"/home/arijitdasgupta/bayes3d/scripts/experiments/\n",
    "          intphys/mcs/results/results_{scene_name}.pkl\", 'rb') as file:\n",
    "      results = pickle.load(file)"
   ]
  },
  {
   "cell_type": "code",
   "execution_count": null,
   "metadata": {},
   "outputs": [],
   "source": [
    "paths = \"/home/ubuntu/arijit/bayes3d/scripts/experiments/intphys/mcs/eval_7_npzs/*npz\"\n",
    "files = sorted(glob.glob(paths))"
   ]
  },
  {
   "cell_type": "code",
   "execution_count": null,
   "metadata": {},
   "outputs": [],
   "source": [
    "for x in custom_files:\n",
    "    print(x.split('/')[-1][:-4])"
   ]
  },
  {
   "cell_type": "code",
   "execution_count": null,
   "metadata": {},
   "outputs": [],
   "source": [
    "paths = \"/home/ubuntu/arijit/bayes3d/scripts/experiments/intphys/mcs/eval_7/*shape*json\"\n",
    "files = sorted(glob.glob(paths))"
   ]
  },
  {
   "cell_type": "code",
   "execution_count": null,
   "metadata": {},
   "outputs": [],
   "source": [
    "files[172:]"
   ]
  },
  {
   "cell_type": "code",
   "execution_count": null,
   "metadata": {},
   "outputs": [],
   "source": []
  }
 ],
 "metadata": {
  "kernelspec": {
   "display_name": "bayes3d",
   "language": "python",
   "name": "python3"
  },
  "language_info": {
   "codemirror_mode": {
    "name": "ipython",
    "version": 3
   },
   "file_extension": ".py",
   "mimetype": "text/x-python",
   "name": "python",
   "nbconvert_exporter": "python",
   "pygments_lexer": "ipython3",
   "version": "3.9.18"
  },
  "orig_nbformat": 4
 },
 "nbformat": 4,
 "nbformat_minor": 2
}
