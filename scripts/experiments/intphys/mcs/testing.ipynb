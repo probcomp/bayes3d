{
 "cells": [
  {
   "cell_type": "code",
   "execution_count": 1,
   "metadata": {},
   "outputs": [],
   "source": [
    "import glob\n",
    "from tqdm import tqdm\n",
    "import pickle\n",
    "import subprocess\n",
    "paths = \"/home/arijitdasgupta/bayes3d/scripts/experiments/intphys/mcs/val7_physics_npzs/*npz\"\n",
    "files = sorted(glob.glob(paths))\n",
    "import sys\n",
    "sys.path.append(\"../\")\n",
    "from viz import *\n",
    "from utils import *\n"
   ]
  },
  {
   "cell_type": "code",
   "execution_count": 2,
   "metadata": {},
   "outputs": [
    {
     "name": "stdout",
     "output_type": "stream",
     "text": [
      "['/home/ubuntu/arijit/bayes3d/scripts/experiments/intphys/mcs/eval_7_npzs/eval_7_passive_physics_gravity_support_0004_14_debug.npz', '/home/ubuntu/arijit/bayes3d/scripts/experiments/intphys/mcs/eval_7_npzs/eval_7_passive_physics_gravity_support_0004_27_debug.npz', '/home/ubuntu/arijit/bayes3d/scripts/experiments/intphys/mcs/eval_7_npzs/eval_7_passive_physics_gravity_support_0005_17_debug.npz', '/home/ubuntu/arijit/bayes3d/scripts/experiments/intphys/mcs/eval_7_npzs/eval_7_passive_physics_gravity_support_0006_15_debug.npz', '/home/ubuntu/arijit/bayes3d/scripts/experiments/intphys/mcs/eval_7_npzs/eval_7_passive_physics_gravity_support_0008_03_debug.npz', '/home/ubuntu/arijit/bayes3d/scripts/experiments/intphys/mcs/eval_7_npzs/eval_7_passive_physics_gravity_support_0008_16_debug.npz', '/home/ubuntu/arijit/bayes3d/scripts/experiments/intphys/mcs/eval_7_npzs/eval_7_passive_physics_gravity_support_0010_02_debug.npz', '/home/ubuntu/arijit/bayes3d/scripts/experiments/intphys/mcs/eval_7_npzs/eval_7_passive_physics_gravity_support_0010_25_debug.npz', '/home/ubuntu/arijit/bayes3d/scripts/experiments/intphys/mcs/eval_7_npzs/eval_7_passive_physics_gravity_support_0047_06_debug.npz', '/home/ubuntu/arijit/bayes3d/scripts/experiments/intphys/mcs/eval_7_npzs/eval_7_passive_physics_gravity_support_0049_18_debug.npz', '/home/ubuntu/arijit/bayes3d/scripts/experiments/intphys/mcs/eval_7_npzs/grav_0002_28.npz', '/home/ubuntu/arijit/bayes3d/scripts/experiments/intphys/mcs/eval_7_npzs/grav_0003_23.npz', '/home/ubuntu/arijit/bayes3d/scripts/experiments/intphys/mcs/eval_7_npzs/grav_0004_02.npz', '/home/ubuntu/arijit/bayes3d/scripts/experiments/intphys/mcs/eval_7_npzs/grav_0005_03.npz', '/home/ubuntu/arijit/bayes3d/scripts/experiments/intphys/mcs/eval_7_npzs/grav_0006_23.npz', '/home/ubuntu/arijit/bayes3d/scripts/experiments/intphys/mcs/eval_7_npzs/grav_0028_01.npz', '/home/ubuntu/arijit/bayes3d/scripts/experiments/intphys/mcs/eval_7_npzs/passive_physics_validation_gravity_support_0001_01.npz', '/home/ubuntu/arijit/bayes3d/scripts/experiments/intphys/mcs/eval_7_npzs/passive_physics_validation_gravity_support_0001_02.npz', '/home/ubuntu/arijit/bayes3d/scripts/experiments/intphys/mcs/eval_7_npzs/passive_physics_validation_gravity_support_0001_03.npz', '/home/ubuntu/arijit/bayes3d/scripts/experiments/intphys/mcs/eval_7_npzs/passive_physics_validation_gravity_support_0001_04.npz', '/home/ubuntu/arijit/bayes3d/scripts/experiments/intphys/mcs/eval_7_npzs/passive_physics_validation_gravity_support_0001_05.npz', '/home/ubuntu/arijit/bayes3d/scripts/experiments/intphys/mcs/eval_7_npzs/passive_physics_validation_gravity_support_0001_06.npz', '/home/ubuntu/arijit/bayes3d/scripts/experiments/intphys/mcs/eval_7_npzs/passive_physics_validation_gravity_support_0001_07.npz', '/home/ubuntu/arijit/bayes3d/scripts/experiments/intphys/mcs/eval_7_npzs/passive_physics_validation_gravity_support_0001_08.npz', '/home/ubuntu/arijit/bayes3d/scripts/experiments/intphys/mcs/eval_7_npzs/passive_physics_validation_gravity_support_0001_09.npz', '/home/ubuntu/arijit/bayes3d/scripts/experiments/intphys/mcs/eval_7_npzs/passive_physics_validation_gravity_support_0001_10.npz', '/home/ubuntu/arijit/bayes3d/scripts/experiments/intphys/mcs/eval_7_npzs/passive_physics_validation_gravity_support_0001_11.npz', '/home/ubuntu/arijit/bayes3d/scripts/experiments/intphys/mcs/eval_7_npzs/passive_physics_validation_gravity_support_0001_12.npz', '/home/ubuntu/arijit/bayes3d/scripts/experiments/intphys/mcs/eval_7_npzs/passive_physics_validation_gravity_support_0001_13.npz', '/home/ubuntu/arijit/bayes3d/scripts/experiments/intphys/mcs/eval_7_npzs/passive_physics_validation_gravity_support_0001_14.npz', '/home/ubuntu/arijit/bayes3d/scripts/experiments/intphys/mcs/eval_7_npzs/passive_physics_validation_gravity_support_0001_15.npz', '/home/ubuntu/arijit/bayes3d/scripts/experiments/intphys/mcs/eval_7_npzs/passive_physics_validation_gravity_support_0001_16.npz', '/home/ubuntu/arijit/bayes3d/scripts/experiments/intphys/mcs/eval_7_npzs/passive_physics_validation_gravity_support_0001_17.npz', '/home/ubuntu/arijit/bayes3d/scripts/experiments/intphys/mcs/eval_7_npzs/passive_physics_validation_gravity_support_0001_18.npz', '/home/ubuntu/arijit/bayes3d/scripts/experiments/intphys/mcs/eval_7_npzs/passive_physics_validation_gravity_support_0001_19.npz', '/home/ubuntu/arijit/bayes3d/scripts/experiments/intphys/mcs/eval_7_npzs/passive_physics_validation_gravity_support_0001_20.npz', '/home/ubuntu/arijit/bayes3d/scripts/experiments/intphys/mcs/eval_7_npzs/passive_physics_validation_gravity_support_0001_21.npz', '/home/ubuntu/arijit/bayes3d/scripts/experiments/intphys/mcs/eval_7_npzs/passive_physics_validation_gravity_support_0001_22.npz', '/home/ubuntu/arijit/bayes3d/scripts/experiments/intphys/mcs/eval_7_npzs/passive_physics_validation_gravity_support_0001_23.npz', '/home/ubuntu/arijit/bayes3d/scripts/experiments/intphys/mcs/eval_7_npzs/passive_physics_validation_gravity_support_0001_24.npz', '/home/ubuntu/arijit/bayes3d/scripts/experiments/intphys/mcs/eval_7_npzs/passive_physics_validation_gravity_support_0001_25.npz', '/home/ubuntu/arijit/bayes3d/scripts/experiments/intphys/mcs/eval_7_npzs/passive_physics_validation_gravity_support_0001_26.npz', '/home/ubuntu/arijit/bayes3d/scripts/experiments/intphys/mcs/eval_7_npzs/passive_physics_validation_gravity_support_0001_27.npz', '/home/ubuntu/arijit/bayes3d/scripts/experiments/intphys/mcs/eval_7_npzs/passive_physics_validation_gravity_support_0001_28.npz', '/home/ubuntu/arijit/bayes3d/scripts/experiments/intphys/mcs/eval_7_npzs/passive_physics_validation_gravity_support_0001_29.npz', '/home/ubuntu/arijit/bayes3d/scripts/experiments/intphys/mcs/eval_7_npzs/passive_physics_validation_gravity_support_0001_30.npz']\n"
     ]
    },
    {
     "name": "stderr",
     "output_type": "stream",
     "text": [
      "  0%|          | 0/23 [00:00<?, ?it/s]"
     ]
    }
   ],
   "source": [
    "paths = \"/home/ubuntu/arijit/bayes3d/scripts/experiments/intphys/mcs/eval_7_npzs/*grav*\"\n",
    "files = sorted(glob.glob(paths))\n",
    "print(files)\n",
    "num_scenes = len(files)\n",
    "for i in tqdm(range(0,num_scenes,2)):\n",
    "    # file = files[i]\n",
    "    scene_name_1 = files[i].split(\"/\")[-1][:-4]\n",
    "    if len(files) > i+1:\n",
    "        scene_name_2 = files[i+1].split(\"/\")[-1][:-4]\n",
    "    else:\n",
    "        scene_name_2 = 'exit'\n",
    "    command = [\"./run_mcs_full.sh\", scene_name_1, scene_name_2]\n",
    "    try:\n",
    "        result = subprocess.run(command, stdout=subprocess.PIPE, stderr=subprocess.PIPE, text=True, check=True)\n",
    "        # The \"stdout\" attribute of the result object contains the command's standard output\n",
    "        print(\"Command Output:\")\n",
    "        print(result.stdout)\n",
    "    except subprocess.CalledProcessError as e:\n",
    "        # If the command returns a non-zero exit code, it will raise a CalledProcessError\n",
    "        print(f\"Command failed with exit code {e.returncode}\")\n",
    "        print(\"Error Output:\")\n",
    "        print(e.stderr)"
   ]
  },
  {
   "cell_type": "code",
   "execution_count": null,
   "metadata": {},
   "outputs": [],
   "source": [
    "paths_results = \"/home/ubuntu/arijit/bayes3d/scripts/experiments/intphys/final_result_*\"\n",
    "files_results = glob.glob(paths_results)\n",
    "for f in files_results:\n",
    "    with open(f, 'rb') as file:\n",
    "      results = pickle.load(file)\n",
    "      print(f\"{f.split(\"/\")[-1][13:]} \", results['rating'])"
   ]
  },
  {
   "cell_type": "code",
   "execution_count": null,
   "metadata": {},
   "outputs": [],
   "source": [
    "with open(f\"/home/arijitdasgupta/bayes3d/scripts/experiments/\n",
    "          intphys/mcs/results/results_{scene_name}.pkl\", 'rb') as file:\n",
    "      results = pickle.load(file)"
   ]
  },
  {
   "cell_type": "code",
   "execution_count": null,
   "metadata": {},
   "outputs": [],
   "source": [
    "display_video(results[\"viz\"])"
   ]
  },
  {
   "cell_type": "code",
   "execution_count": null,
   "metadata": {},
   "outputs": [],
   "source": [
    "list(range(30,61+1,2))"
   ]
  },
  {
   "cell_type": "code",
   "execution_count": null,
   "metadata": {},
   "outputs": [],
   "source": [
    "files[58]"
   ]
  },
  {
   "cell_type": "code",
   "execution_count": null,
   "metadata": {},
   "outputs": [],
   "source": []
  },
  {
   "cell_type": "code",
   "execution_count": null,
   "metadata": {},
   "outputs": [],
   "source": [
    "for file in tqdm(files[30:45]):\n",
    "    scene_name = file.split(\"/\")[-1][:-4]\n",
    "    with open(f\"/home/arijitdasgupta/bayes3d/scripts/experiments/intphys/mcs/results_2/results_{scene_name}.pkl\", 'rb') as file:\n",
    "        results = pickle.load(file)\n",
    "    print(scene_name)\n",
    "    display(display_video(results[\"viz\"]))"
   ]
  },
  {
   "cell_type": "code",
   "execution_count": null,
   "metadata": {},
   "outputs": [],
   "source": []
  },
  {
   "cell_type": "code",
   "execution_count": null,
   "metadata": {},
   "outputs": [],
   "source": [
    "with open(f\"/home/arijitdasgupta/bayes3d/scripts/experiments/intphys/mcs/results_2/results_passive_physics_validation_object_permanence_0001_09.pkl\", 'rb') as file:\n",
    "    results = pickle.load(file)\n",
    "display_video(results[\"viz\"])"
   ]
  },
  {
   "cell_type": "code",
   "execution_count": null,
   "metadata": {},
   "outputs": [],
   "source": []
  },
  {
   "cell_type": "code",
   "execution_count": null,
   "metadata": {},
   "outputs": [],
   "source": []
  }
 ],
 "metadata": {
  "kernelspec": {
   "display_name": "bayes3d",
   "language": "python",
   "name": "python3"
  },
  "language_info": {
   "codemirror_mode": {
    "name": "ipython",
    "version": 3
   },
   "file_extension": ".py",
   "mimetype": "text/x-python",
   "name": "python",
   "nbconvert_exporter": "python",
   "pygments_lexer": "ipython3",
   "version": "3.9.18"
  },
  "orig_nbformat": 4
 },
 "nbformat": 4,
 "nbformat_minor": 2
}
