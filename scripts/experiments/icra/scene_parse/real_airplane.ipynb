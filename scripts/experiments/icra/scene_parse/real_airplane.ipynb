{
 "cells": [
  {
   "cell_type": "code",
   "execution_count": null,
   "id": "5300d4b8-7b89-492c-950f-3e56fa9d46f2",
   "metadata": {},
   "outputs": [],
   "source": [
    "import numpy as np\n",
    "import jax.numpy as jnp\n",
    "import jax\n",
    "import bayes3d as b\n",
    "import time\n",
    "from PIL import Image\n",
    "from scipy.spatial.transform import Rotation as R\n",
    "import matplotlib.pyplot as plt\n",
    "import cv2\n",
    "import trimesh\n",
    "import os\n",
    "import glob\n",
    "import bayes3d.neural\n",
    "import pickle\n",
    "# Can be helpful for debugging:\n",
    "# jax.config.update('jax_enable_checks', True) \n",
    "from bayes3d.neural.segmentation import carvekit_get_foreground_mask\n",
    "import genjax"
   ]
  },
  {
   "cell_type": "code",
   "execution_count": null,
   "id": "a3355a9e-80d6-4fcb-b242-fb5ba7e26503",
   "metadata": {},
   "outputs": [],
   "source": [
    "b.setup_visualizer()"
   ]
  },
  {
   "cell_type": "code",
   "execution_count": null,
   "id": "57e1fa42-9f39-437f-b408-7c9760a86413",
   "metadata": {},
   "outputs": [],
   "source": [
    "importance_jit = jax.jit(b.model.importance)\n",
    "key = jax.random.PRNGKey(10)"
   ]
  },
  {
   "cell_type": "code",
   "execution_count": null,
   "id": "ed42e5c3-be5d-420b-9a21-759247e5d7b7",
   "metadata": {},
   "outputs": [],
   "source": [
    "paths = glob.glob(\n",
    "    \"panda_scans_v5//*.pkl\"\n",
    ")\n",
    "all_data = pickle.load(open(paths[3], \"rb\"))\n",
    "IDX = 1\n",
    "data = all_data[IDX]"
   ]
  },
  {
   "cell_type": "code",
   "execution_count": null,
   "id": "89ca2963-c7bc-4c1f-9407-cf1d006435df",
   "metadata": {},
   "outputs": [],
   "source": [
    "print(data[\"camera_image\"].keys())\n",
    "K = data[\"camera_image\"]['camera_matrix'][0]\n",
    "rgb = data[\"camera_image\"]['rgbPixels']\n",
    "depth = data[\"camera_image\"]['depthPixels']\n",
    "camera_pose = data[\"camera_image\"]['camera_pose']\n",
    "camera_pose = b.t3d.pybullet_pose_to_transform(camera_pose)\n",
    "fx, fy, cx, cy = K[0,0],K[1,1],K[0,2],K[1,2]\n",
    "h,w = depth.shape\n",
    "near = 0.001\n",
    "rgbd_original = b.RGBD(rgb, depth, camera_pose, b.Intrinsics(h,w,fx,fy,cx,cy,0.001,10000.0))\n",
    "b.get_rgb_image(rgbd_original.rgb)"
   ]
  },
  {
   "cell_type": "code",
   "execution_count": null,
   "id": "542b4592-13b5-4513-b7d8-cb3d91690ce5",
   "metadata": {},
   "outputs": [],
   "source": [
    "enumerators = b.make_enumerator([f\"contact_params_1\"])"
   ]
  },
  {
   "cell_type": "code",
   "execution_count": null,
   "id": "c8b979de-735c-41a8-b924-fadfe4f538b0",
   "metadata": {},
   "outputs": [],
   "source": [
    "scaling_factor = 0.2\n",
    "rgbd_scaled_down = b.RGBD.scale_rgbd(rgbd_original, scaling_factor)"
   ]
  },
  {
   "cell_type": "code",
   "execution_count": null,
   "id": "432c5da8-eb91-408f-b2e4-501eef3cc221",
   "metadata": {},
   "outputs": [],
   "source": [
    "plane_pose, plane_dims = b.utils.find_plane_and_dims(\n",
    "    b.unproject_depth(rgbd_scaled_down.depth, rgbd_scaled_down.intrinsics).reshape(-1,3), \n",
    "    ransac_threshold=0.001, inlier_threshold=0.001, segmentation_threshold=1#0.1\n",
    ")"
   ]
  },
  {
   "cell_type": "code",
   "execution_count": null,
   "id": "a01436a6-4704-41a7-8962-96841f8769af",
   "metadata": {},
   "outputs": [],
   "source": [
    "b.clear()\n",
    "b.show_cloud(\"1\", b.unproject_depth(rgbd_scaled_down.depth, rgbd_scaled_down.intrinsics).reshape(-1,3))\n",
    "b.show_pose(\"table\", plane_pose)"
   ]
  },
  {
   "cell_type": "code",
   "execution_count": null,
   "id": "02f08cc3-bb8f-48ed-92c0-09693ec5e570",
   "metadata": {},
   "outputs": [],
   "source": [
    "mask = b.utils.scale(carvekit_get_foreground_mask(rgbd_original)*1.0, scaling_factor)"
   ]
  },
  {
   "cell_type": "code",
   "execution_count": null,
   "id": "a32cbcb6-5964-4459-ab60-c4b63884b124",
   "metadata": {},
   "outputs": [],
   "source": [
    "observed_depth = (rgbd_scaled_down.depth * mask) + (1.0 - mask)* rgbd_scaled_down.intrinsics.far"
   ]
  },
  {
   "cell_type": "code",
   "execution_count": null,
   "id": "6942718c-c8ec-46e0-9889-982d08478dca",
   "metadata": {},
   "outputs": [],
   "source": [
    "b.clear()\n",
    "b.show_cloud(\"1\", b.unproject_depth(observed_depth, rgbd_scaled_down.intrinsics).reshape(-1,3))\n",
    "b.show_pose(\"table\", plane_pose)"
   ]
  },
  {
   "cell_type": "code",
   "execution_count": null,
   "id": "89d55282-eb41-4c8e-97fe-1b9528f52481",
   "metadata": {},
   "outputs": [],
   "source": [
    "b.setup_renderer(rgbd_scaled_down.intrinsics)\n",
    "b.RENDERER.add_mesh_from_file(\"toy_plane.ply\")\n",
    "\n",
    "b.RENDERER.add_mesh_from_file(os.path.join(b.utils.get_assets_dir(), \"sample_objs/cube.obj\"), scaling_factor=1.0/1000000000.0)\n"
   ]
  },
  {
   "cell_type": "code",
   "execution_count": null,
   "id": "ff3daadb-9a72-4c85-bdf6-776ed97626e5",
   "metadata": {},
   "outputs": [],
   "source": [
    "b.show_trimesh(\"mesh\", b.RENDERER.meshes[0])"
   ]
  },
  {
   "cell_type": "code",
   "execution_count": null,
   "id": "6f948b21-66a8-400a-acec-93e08f05231f",
   "metadata": {},
   "outputs": [],
   "source": [
    "grid_params = [\n",
    "    (0.3, jnp.pi, (11,11,11)), (0.2, jnp.pi, (11,11,11)), (0.1, jnp.pi, (11,11,11)),\n",
    "    (0.05, jnp.pi/3, (11,11,11)), (0.02, jnp.pi, (5,5,51)), (0.01, jnp.pi/5, (11,11,11)), (0.01, 0.0, (21,21,1)),(0.05, 0.0, (21,21,1))\n",
    "]\n",
    "contact_param_gridding_schedule = [\n",
    "    b.utils.make_translation_grid_enumeration_3d(\n",
    "        -x, -x, -ang,\n",
    "        x, x, ang,\n",
    "        *nums\n",
    "    )\n",
    "    for (x,ang,nums) in grid_params\n",
    "]\n"
   ]
  },
  {
   "cell_type": "code",
   "execution_count": null,
   "id": "76d088e4-4333-41c7-b2be-6d6315471246",
   "metadata": {},
   "outputs": [],
   "source": [
    "weight, trace = importance_jit(key, genjax.choice_map({\n",
    "    \"parent_0\": -1,\n",
    "    \"parent_1\": 0,\n",
    "    \"id_0\": jnp.int32(1),\n",
    "    \"id_1\": jnp.int32(0),\n",
    "    \"camera_pose\": jnp.eye(4),\n",
    "    \"root_pose_0\": plane_pose,\n",
    "    \"face_parent_1\": 2,\n",
    "    \"face_child_1\": 3,\n",
    "    \"image\": b.unproject_depth(observed_depth, rgbd_scaled_down.intrinsics),\n",
    "    \"variance\": 0.0001,\n",
    "    \"outlier_prob\": 0.0001,\n",
    "    \"contact_params_1\": jnp.array([0.0, 0.0, 0.0])\n",
    "}), (\n",
    "    jnp.arange(2),\n",
    "    jnp.arange(22),\n",
    "    jnp.array([-jnp.ones(3)*100.0, jnp.ones(3)*100.0]),\n",
    "    jnp.array([jnp.array([-0.2, -0.2, -2*jnp.pi]), jnp.array([0.2, 0.2, 2*jnp.pi])]),\n",
    "    b.RENDERER.model_box_dims, 1.0, 1.0)\n",
    ")\n",
    "b.viz_trace_meshcat(trace)\n",
    "print(trace.get_score())"
   ]
  },
  {
   "cell_type": "code",
   "execution_count": null,
   "id": "c8df9fa4-d265-4436-bb54-0a9661b8b447",
   "metadata": {},
   "outputs": [],
   "source": [
    "for idx in range(len(contact_param_gridding_schedule)):\n",
    "    contact_param_deltas = contact_param_gridding_schedule[idx]\n",
    "    contact_param_grid = contact_param_deltas + trace[f\"contact_params_1\"]\n",
    "    scores = enumerators.enumerate_choices_get_scores(trace, key, contact_param_grid)\n",
    "    i= jnp.unravel_index(scores.argmax(), scores.shape)\n",
    "    trace = enumerators.update_choices(\n",
    "        trace, key,\n",
    "        contact_param_grid[i]\n",
    "    )\n",
    "    b.viz_trace_meshcat(trace)"
   ]
  },
  {
   "cell_type": "code",
   "execution_count": null,
   "id": "89063cae-c715-409c-8e52-41549041377c",
   "metadata": {},
   "outputs": [],
   "source": []
  }
 ],
 "metadata": {
  "kernelspec": {
   "display_name": "Python 3 (ipykernel)",
   "language": "python",
   "name": "python3"
  },
  "language_info": {
   "codemirror_mode": {
    "name": "ipython",
    "version": 3
   },
   "file_extension": ".py",
   "mimetype": "text/x-python",
   "name": "python",
   "nbconvert_exporter": "python",
   "pygments_lexer": "ipython3",
   "version": "3.9.18"
  }
 },
 "nbformat": 4,
 "nbformat_minor": 5
}
