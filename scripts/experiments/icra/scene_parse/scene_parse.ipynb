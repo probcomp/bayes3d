{
 "cells": [
  {
   "cell_type": "code",
   "execution_count": null,
   "id": "19225e38-aaf6-413e-a93d-f1dbb2ae787d",
   "metadata": {},
   "outputs": [],
   "source": [
    "import bayes3d as b\n",
    "import bayes3d.genjax\n",
    "import joblib\n",
    "from tqdm import tqdm\n",
    "import os\n",
    "import jax.numpy as jnp\n",
    "import jax\n",
    "import numpy as np\n",
    "import genjax"
   ]
  },
  {
   "cell_type": "code",
   "execution_count": null,
   "id": "3cdc9a4d-959d-4d29-8aad-28b660283697",
   "metadata": {},
   "outputs": [],
   "source": [
    "b.setup_visualizer()"
   ]
  },
  {
   "cell_type": "code",
   "execution_count": null,
   "id": "35510ba8-66b8-4335-aca8-b6583650f889",
   "metadata": {},
   "outputs": [],
   "source": [
    "intrinsics = b.Intrinsics(\n",
    "    height=50,\n",
    "    width=50,\n",
    "    fx=250.0, fy=250.0,\n",
    "    cx=25.0, cy=25.0,\n",
    "    near=0.01, far=20.0\n",
    ")\n",
    "\n",
    "b.setup_renderer(intrinsics)\n",
    "model_dir = os.path.join(b.utils.get_assets_dir(),\"bop/ycbv/models\")\n",
    "meshes = []\n",
    "for idx in range(1,22):\n",
    "    mesh_path = os.path.join(model_dir,\"obj_\" + \"{}\".format(idx).rjust(6, '0') + \".ply\")\n",
    "    b.RENDERER.add_mesh_from_file(mesh_path, scaling_factor=1.0/1000.0)\n",
    "\n",
    "b.RENDERER.add_mesh_from_file(os.path.join(b.utils.get_assets_dir(), \"sample_objs/cube.obj\"), scaling_factor=1.0/1000000000.0)\n"
   ]
  },
  {
   "cell_type": "code",
   "execution_count": null,
   "id": "a81e8aae-bf1d-43bd-905f-2e7f0a9e2265",
   "metadata": {},
   "outputs": [],
   "source": [
    "importance_jit = jax.jit(b.model.importance)\n",
    "\n",
    "contact_enumerators = [b.make_enumerator([f\"contact_params_{i}\", \"variance\", \"outlier_prob\"]) for i in range(5)]\n",
    "add_object_jit = jax.jit(b.add_object)\n",
    "\n",
    "def c2f_contact_update(trace_, key,  number, contact_param_deltas, VARIANCE_GRID, OUTLIER_GRID):\n",
    "    contact_param_grid = contact_param_deltas + trace_[f\"contact_params_{number}\"]\n",
    "    scores = contact_enumerators[number][3](trace_, key, contact_param_grid, VARIANCE_GRID, OUTLIER_GRID)\n",
    "    i,j,k = jnp.unravel_index(scores.argmax(), scores.shape)\n",
    "    return contact_enumerators[number][0](\n",
    "        trace_, key,\n",
    "        contact_param_grid[i], VARIANCE_GRID[j], OUTLIER_GRID[k]\n",
    "    )\n",
    "c2f_contact_update_jit = jax.jit(c2f_contact_update, static_argnames=(\"number\",))"
   ]
  },
  {
   "cell_type": "code",
   "execution_count": null,
   "id": "f1889814-d36e-4669-9991-36250112de14",
   "metadata": {},
   "outputs": [],
   "source": [
    "OUTLIER_VOLUME = 1000.0\n",
    "VARIANCE_GRID = jnp.array([0.0001, 0.001, 0.01])\n",
    "OUTLIER_GRID = jnp.array([0.00001, 0.0001, 0.001])\n",
    "\n",
    "grid_params = [\n",
    "    (0.3, jnp.pi, (11,11,11)), (0.2, jnp.pi, (11,11,11)), (0.1, jnp.pi, (11,11,11)),\n",
    "    (0.05, jnp.pi/3, (11,11,11)), (0.02, jnp.pi, (5,5,51)), (0.01, jnp.pi/5, (11,11,11)), (0.01, 0.0, (21,21,1)),(0.05, 0.0, (21,21,1))\n",
    "]\n",
    "contact_param_gridding_schedule = [\n",
    "    b.utils.make_translation_grid_enumeration_3d(\n",
    "        -x, -x, -ang,\n",
    "        x, x, ang,\n",
    "        *nums\n",
    "    )\n",
    "    for (x,ang,nums) in grid_params\n",
    "]\n"
   ]
  },
  {
   "cell_type": "code",
   "execution_count": null,
   "id": "053f2b8d-00dc-49ae-aa8b-98d4d7b69a42",
   "metadata": {},
   "outputs": [],
   "source": [
    "V_VARIANT = 0\n",
    "O_VARIANT = 0\n",
    "HIERARCHICAL_BAYES = True\n",
    "\n",
    "if HIERARCHICAL_BAYES:\n",
    "    V_GRID = VARIANCE_GRID\n",
    "    O_GRID = OUTLIER_GRID\n",
    "else:\n",
    "    V_GRID, O_GRID = jnp.array([VARIANCE_GRID[V_VARIANT]]), jnp.array([OUTLIER_GRID[O_VARIANT]])\n",
    "\n",
    "print(V_GRID, O_GRID)"
   ]
  },
  {
   "cell_type": "code",
   "execution_count": null,
   "id": "2ef3b356-f589-41eb-a66b-a8c20fba6ab8",
   "metadata": {},
   "outputs": [],
   "source": [
    "key = jax.random.PRNGKey(502)"
   ]
  },
  {
   "cell_type": "code",
   "execution_count": null,
   "id": "755cace7-fdae-4fa8-8d38-db4adb16b23b",
   "metadata": {},
   "outputs": [],
   "source": [
    "key = jax.random.split(key, 1)[0]\n",
    "table_pose = b.t3d.inverse_pose(\n",
    "    b.t3d.transform_from_pos_target_up(\n",
    "        jnp.array([0.0, 2.0, 1.20]),\n",
    "        jnp.array([0.0, 0.0, 0.0]),\n",
    "        jnp.array([0.0, 0.0, 1.0]),\n",
    "    )\n",
    ")\n",
    "\n",
    "weight, gt_trace = importance_jit(key, genjax.choice_map({\n",
    "    \"parent_0\": -1,\n",
    "    \"parent_1\": 0,\n",
    "    \"parent_2\": 0,\n",
    "    \"parent_3\": 0,\n",
    "    \"id_0\": jnp.int32(21),\n",
    "    \"camera_pose\": jnp.eye(4),\n",
    "    \"root_pose_0\": table_pose,\n",
    "    \"face_parent_1\": 2,\n",
    "    \"face_parent_2\": 2,\n",
    "    \"face_parent_3\": 2,\n",
    "    \"face_child_1\": 3,\n",
    "    \"face_child_2\": 3,\n",
    "    \"face_child_3\": 3,\n",
    "    \"variance\": 0.0001,\n",
    "    \"outlier_prob\": 0.0001,\n",
    "}), (\n",
    "    jnp.arange(4),\n",
    "    jnp.arange(22),\n",
    "    jnp.array([-jnp.ones(3)*100.0, jnp.ones(3)*100.0]),\n",
    "    jnp.array([jnp.array([-0.2, -0.2, -2*jnp.pi]), jnp.array([0.2, 0.2, 2*jnp.pi])]),\n",
    "    b.RENDERER.model_box_dims, OUTLIER_VOLUME, 1.0)\n",
    ")\n",
    "print(gt_trace.get_score())\n",
    "\n",
    "_,trace = importance_jit(key, gt_trace.get_choices(), (jnp.arange(1), jnp.arange(22), *gt_trace.get_args()[2:]))\n",
    "b.viz_trace_rendered_observed(trace)"
   ]
  },
  {
   "cell_type": "code",
   "execution_count": null,
   "id": "f3170ba3-d2af-4e10-b2e7-e535c50c0fb8",
   "metadata": {},
   "outputs": [],
   "source": [
    "all_all_paths = []\n",
    "for _ in range(3):\n",
    "    all_paths = []\n",
    "    for obj_id in tqdm(range(len(b.RENDERER.meshes)-1)):\n",
    "        path = []\n",
    "        trace_ = add_object_jit(trace, key, obj_id, 0, 2,3)\n",
    "        number = b.get_contact_params(trace_).shape[0] - 1\n",
    "        path.append(trace_)\n",
    "        for c2f_iter in range(len(contact_param_gridding_schedule)):\n",
    "            trace_ = c2f_contact_update_jit(trace_, key, number,\n",
    "                contact_param_gridding_schedule[c2f_iter], V_GRID, O_GRID)\n",
    "            path.append(trace_)\n",
    "        # for c2f_iter in range(len(contact_param_gridding_schedule)):\n",
    "        #     trace_ = c2f_contact_update_jit(trace_, key, number,\n",
    "        #         contact_param_gridding_schedule[c2f_iter], VARIANCE_GRID, OUTLIER_GRID)\n",
    "        all_paths.append(\n",
    "            path\n",
    "        )\n",
    "    all_all_paths.append(all_paths)\n",
    "    \n",
    "    scores = jnp.array([t[-1].get_score() for t in all_paths])\n",
    "    print(scores)\n",
    "    normalized_scores = b.utils.normalize_log_scores(scores)\n",
    "    trace = all_paths[jnp.argmax(scores)][-1]\n",
    "    b.viz_trace_meshcat(trace)"
   ]
  },
  {
   "cell_type": "code",
   "execution_count": null,
   "id": "0ba40b97-f402-4a00-bab4-369cadb3aa48",
   "metadata": {},
   "outputs": [],
   "source": [
    "print(b.get_indices(gt_trace))\n",
    "print(b.get_indices(trace))"
   ]
  },
  {
   "cell_type": "code",
   "execution_count": null,
   "id": "94c08be6-0143-4b91-914d-85702fa38525",
   "metadata": {},
   "outputs": [],
   "source": []
  }
 ],
 "metadata": {
  "kernelspec": {
   "display_name": "Python 3 (ipykernel)",
   "language": "python",
   "name": "python3"
  },
  "language_info": {
   "codemirror_mode": {
    "name": "ipython",
    "version": 3
   },
   "file_extension": ".py",
   "mimetype": "text/x-python",
   "name": "python",
   "nbconvert_exporter": "python",
   "pygments_lexer": "ipython3",
   "version": "3.9.18"
  }
 },
 "nbformat": 4,
 "nbformat_minor": 5
}
