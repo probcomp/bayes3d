{
 "cells": [
  {
   "cell_type": "code",
   "execution_count": null,
   "id": "5300d4b8-7b89-492c-950f-3e56fa9d46f2",
   "metadata": {},
   "outputs": [],
   "source": [
    "import numpy as np\n",
    "import jax.numpy as jnp\n",
    "import jax\n",
    "import bayes3d as b\n",
    "import time\n",
    "from PIL import Image\n",
    "from scipy.spatial.transform import Rotation as R\n",
    "import matplotlib.pyplot as plt\n",
    "import cv2\n",
    "import trimesh\n",
    "import os\n",
    "import glob\n",
    "import bayes3d.neural\n",
    "import pickle\n",
    "# Can be helpful for debugging:\n",
    "# jax.config.update('jax_enable_checks', True) \n",
    "from bayes3d.neural.segmentation import carvekit_get_foreground_mask\n",
    "import genjax"
   ]
  },
  {
   "cell_type": "code",
   "execution_count": null,
   "id": "a3355a9e-80d6-4fcb-b242-fb5ba7e26503",
   "metadata": {},
   "outputs": [],
   "source": [
    "b.setup_visualizer()"
   ]
  },
  {
   "cell_type": "code",
   "execution_count": null,
   "id": "57e1fa42-9f39-437f-b408-7c9760a86413",
   "metadata": {},
   "outputs": [],
   "source": [
    "importance_jit = jax.jit(b.model.importance)\n",
    "key = jax.random.PRNGKey(10)"
   ]
  },
  {
   "cell_type": "code",
   "execution_count": null,
   "id": "ed42e5c3-be5d-420b-9a21-759247e5d7b7",
   "metadata": {},
   "outputs": [],
   "source": [
    "paths = glob.glob(\n",
    "    \"panda_scans_v6/*.pkl\"\n",
    ")\n",
    "all_data = pickle.load(open(paths[0], \"rb\"))\n",
    "IDX = 1\n",
    "data = all_data[IDX]"
   ]
  },
  {
   "cell_type": "code",
   "execution_count": null,
   "id": "89ca2963-c7bc-4c1f-9407-cf1d006435df",
   "metadata": {},
   "outputs": [],
   "source": [
    "print(data[\"camera_image\"].keys())\n",
    "K = data[\"camera_image\"]['camera_matrix'][0]\n",
    "rgb = data[\"camera_image\"]['rgbPixels']\n",
    "depth = data[\"camera_image\"]['depthPixels']\n",
    "camera_pose = data[\"camera_image\"]['camera_pose']\n",
    "camera_pose = b.t3d.pybullet_pose_to_transform(camera_pose)\n",
    "fx, fy, cx, cy = K[0,0],K[1,1],K[0,2],K[1,2]\n",
    "h,w = depth.shape\n",
    "near = 0.001\n",
    "rgbd_original = b.RGBD(rgb, depth, camera_pose, b.Intrinsics(h,w,fx,fy,cx,cy,0.001,10000.0))\n",
    "b.get_rgb_image(rgbd_original.rgb)"
   ]
  },
  {
   "cell_type": "code",
   "execution_count": null,
   "id": "5d0aa1d4-340a-40fd-bc0e-04facea41a7a",
   "metadata": {},
   "outputs": [],
   "source": [
    "b.get_depth_image(rgbd_original.depth,max=1.5)"
   ]
  },
  {
   "cell_type": "code",
   "execution_count": null,
   "id": "c8b979de-735c-41a8-b924-fadfe4f538b0",
   "metadata": {},
   "outputs": [],
   "source": [
    "scaling_factor = 0.23\n",
    "rgbd_scaled_down = b.RGBD.scale_rgbd(rgbd_original, scaling_factor)\n"
   ]
  },
  {
   "cell_type": "code",
   "execution_count": null,
   "id": "37a2c785-37c3-4127-8798-564b64b4c3bc",
   "metadata": {},
   "outputs": [],
   "source": []
  },
  {
   "cell_type": "code",
   "execution_count": null,
   "id": "432c5da8-eb91-408f-b2e4-501eef3cc221",
   "metadata": {},
   "outputs": [],
   "source": [
    "plane_pose, plane_dims = b.utils.find_plane_and_dims(\n",
    "    b.unproject_depth(rgbd_scaled_down.depth, rgbd_scaled_down.intrinsics).reshape(-1,3), \n",
    "    ransac_threshold=0.001, inlier_threshold=0.001, segmentation_threshold=0.1\n",
    ")"
   ]
  },
  {
   "cell_type": "code",
   "execution_count": null,
   "id": "de36a9d0-e6b5-4630-ab69-712109f438fa",
   "metadata": {},
   "outputs": [],
   "source": [
    "plane_pose = plane_pose @ b.transform_from_axis_angle(jnp.array([1.0, 0.0, 0.0]), jnp.pi)"
   ]
  },
  {
   "cell_type": "code",
   "execution_count": null,
   "id": "a01436a6-4704-41a7-8962-96841f8769af",
   "metadata": {},
   "outputs": [],
   "source": [
    "b.clear()\n",
    "b.show_cloud(\"1\", b.unproject_depth(rgbd_scaled_down.depth, rgbd_scaled_down.intrinsics).reshape(-1,3))\n",
    "b.show_pose(\"table\", plane_pose)"
   ]
  },
  {
   "cell_type": "code",
   "execution_count": null,
   "id": "02f08cc3-bb8f-48ed-92c0-09693ec5e570",
   "metadata": {},
   "outputs": [],
   "source": [
    "mask = b.utils.scale(carvekit_get_foreground_mask(rgbd_original)*1.0, scaling_factor)"
   ]
  },
  {
   "cell_type": "code",
   "execution_count": null,
   "id": "a32cbcb6-5964-4459-ab60-c4b63884b124",
   "metadata": {},
   "outputs": [],
   "source": [
    "observed_depth = (rgbd_scaled_down.depth * mask) + (1.0 - mask)* rgbd_scaled_down.intrinsics.far"
   ]
  },
  {
   "cell_type": "code",
   "execution_count": null,
   "id": "6942718c-c8ec-46e0-9889-982d08478dca",
   "metadata": {},
   "outputs": [],
   "source": [
    "b.clear()\n",
    "b.show_cloud(\"1\", b.unproject_depth(observed_depth, rgbd_scaled_down.intrinsics).reshape(-1,3))\n",
    "b.show_pose(\"table\", plane_pose)"
   ]
  },
  {
   "cell_type": "code",
   "execution_count": null,
   "id": "53e22c87-628d-4752-b832-3c0a9f31e53c",
   "metadata": {},
   "outputs": [],
   "source": [
    "b.utils.ycb_loader.MODEL_NAMES[10]"
   ]
  },
  {
   "cell_type": "code",
   "execution_count": null,
   "id": "e55889dd-3751-46b0-86bb-a23d17359590",
   "metadata": {},
   "outputs": [],
   "source": [
    "b.utils.ycb_loader.MODEL_NAMES[9]"
   ]
  },
  {
   "cell_type": "code",
   "execution_count": null,
   "id": "89d55282-eb41-4c8e-97fe-1b9528f52481",
   "metadata": {},
   "outputs": [],
   "source": [
    "b.setup_renderer(rgbd_scaled_down.intrinsics)\n",
    "b.RENDERER.add_mesh_from_file(\"toy_plane.ply\")\n",
    "model_dir = os.path.join(b.utils.get_assets_dir(),\"bop/ycbv/models\")\n",
    "mesh_path = os.path.join(model_dir,\"obj_\" + \"{}\".format(13+1).rjust(6, '0') + \".ply\")\n",
    "b.RENDERER.add_mesh_from_file(mesh_path, scaling_factor=1.0/1000.0)\n",
    "mesh_path = os.path.join(model_dir,\"obj_\" + \"{}\".format(10+1).rjust(6, '0') + \".ply\")\n",
    "b.RENDERER.add_mesh_from_file(mesh_path, scaling_factor=1.0/1000.0)\n",
    "\n",
    "b.RENDERER.add_mesh_from_file(os.path.join(b.utils.get_assets_dir(), \"sample_objs/cube.obj\"), scaling_factor=1.0/1000000000.0)\n"
   ]
  },
  {
   "cell_type": "code",
   "execution_count": null,
   "id": "ff3daadb-9a72-4c85-bdf6-776ed97626e5",
   "metadata": {},
   "outputs": [],
   "source": [
    "for i in range(len(b.RENDERER.meshes)):\n",
    "    b.show_trimesh(f\"mesh_{i}\", b.RENDERER.meshes[i])"
   ]
  },
  {
   "cell_type": "code",
   "execution_count": null,
   "id": "6f948b21-66a8-400a-acec-93e08f05231f",
   "metadata": {},
   "outputs": [],
   "source": [
    "grid_params = [\n",
    "    (0.4, jnp.pi, (11,11,11)), (0.3, jnp.pi, (11,11,11)), (0.2, jnp.pi, (11,11,11)),\n",
    "    (0.05, jnp.pi/3, (11,11,11)), (0.02, jnp.pi, (5,5,51)), (0.01, jnp.pi/5, (11,11,11)), (0.01, 0.0, (21,21,1)),(0.01, 0.0, (21,21,1)),\n",
    "    (0.01, jnp.pi/10, (5,5,21)),(0.01, jnp.pi/20, (5,5,21))\n",
    "]\n",
    "contact_param_gridding_schedule = [\n",
    "    b.utils.make_translation_grid_enumeration_3d(\n",
    "        -x, -x, -ang,\n",
    "        x, x, ang,\n",
    "        *nums\n",
    "    )\n",
    "    for (x,ang,nums) in grid_params\n",
    "]\n"
   ]
  },
  {
   "cell_type": "code",
   "execution_count": null,
   "id": "76d088e4-4333-41c7-b2be-6d6315471246",
   "metadata": {},
   "outputs": [],
   "source": [
    "weight, trace = importance_jit(key, genjax.choice_map({\n",
    "    \"parent_0\": -1,\n",
    "    \"parent_1\": 0,\n",
    "    \"id_0\": jnp.int32(3),\n",
    "    \"camera_pose\": jnp.eye(4),\n",
    "    \"root_pose_0\": plane_pose,\n",
    "    \"face_parent_1\": 2,\n",
    "    \"face_child_1\": 3,\n",
    "    \"image\": b.unproject_depth(observed_depth, rgbd_scaled_down.intrinsics),\n",
    "    \"variance\": 0.001,\n",
    "    \"outlier_prob\": 0.0001,\n",
    "    \"contact_params_1\": jnp.array([0.0, 0.0, 0.0])\n",
    "}), (\n",
    "    jnp.arange(1),\n",
    "    jnp.arange(22),\n",
    "    jnp.array([-jnp.ones(3)*100.0, jnp.ones(3)*100.0]),\n",
    "    jnp.array([jnp.array([-0.6, -0.6, -4*jnp.pi]), jnp.array([0.6, 0.6, 4*jnp.pi])]),\n",
    "    b.RENDERER.model_box_dims, 1.0, 1.0)\n",
    ")\n",
    "b.viz_trace_meshcat(trace)\n",
    "print(trace.get_score())"
   ]
  },
  {
   "cell_type": "code",
   "execution_count": null,
   "id": "e493716e-9a9e-4308-b683-e06e32062352",
   "metadata": {},
   "outputs": [],
   "source": [
    "object_number_to_id = [None, 2, 1,0]\n",
    "# object_number_to_id = [None, 1]"
   ]
  },
  {
   "cell_type": "code",
   "execution_count": null,
   "id": "1faa9bf2-578f-4eb3-bc98-83fbf4c2a2ce",
   "metadata": {},
   "outputs": [],
   "source": [
    "OBJECT_NUMBER = 1"
   ]
  },
  {
   "cell_type": "code",
   "execution_count": null,
   "id": "074e06a5-2643-4dcd-b884-46f4418ad371",
   "metadata": {},
   "outputs": [],
   "source": [
    "address = f\"contact_params_{OBJECT_NUMBER}\"\n",
    "trace = b.add_object_jit(trace, key, object_number_to_id[OBJECT_NUMBER], 0, 2,3)\n",
    "enumerators = b.make_enumerator([address])\n",
    "b.viz_trace_meshcat(trace)"
   ]
  },
  {
   "cell_type": "code",
   "execution_count": null,
   "id": "4081fedc-07a7-40ae-b67b-30904c6e1a4a",
   "metadata": {},
   "outputs": [],
   "source": [
    "traces = []\n",
    "for idx in range(len(contact_param_gridding_schedule)):\n",
    "    contact_param_deltas = contact_param_gridding_schedule[idx]\n",
    "    contact_param_grid = contact_param_deltas + trace[address]\n",
    "    scores = enumerators[3](trace, key, contact_param_grid)\n",
    "    i= jnp.unravel_index(scores.argmax(), scores.shape)\n",
    "    trace = enumerators[0](\n",
    "        trace, key,\n",
    "        contact_param_grid[i]\n",
    "    )\n",
    "    traces.append(trace)\n",
    "    b.viz_trace_meshcat(trace)\n",
    "b.get_depth_image(b.get_rendered_image(trace)[...,2], max=1.0)"
   ]
  },
  {
   "cell_type": "code",
   "execution_count": null,
   "id": "a56648ce-0b50-41c8-aebd-0eb6518c054b",
   "metadata": {},
   "outputs": [],
   "source": [
    "OBJECT_NUMBER += 1"
   ]
  },
  {
   "cell_type": "code",
   "execution_count": null,
   "id": "39accf2f-84b8-4378-86d2-d64a12842cad",
   "metadata": {},
   "outputs": [],
   "source": [
    "depth_viz = b.viz.resize_image(b.get_depth_image(rgbd_original.depth,max=1.5), b.RENDERER.intrinsics.height, b.RENDERER.intrinsics.width)\n",
    "depth_reconstruction_viz = b.get_depth_image(b.get_rendered_image(trace)[...,2], max=1.0)\n",
    "seg_viz = b.get_depth_image(b.RENDERER.render(b.get_poses(trace), b.get_indices(trace))[:,:,3], max=5.0)\n",
    "rgb_viz = b.resize_image(b.get_rgb_image(rgbd_original.rgb), b.RENDERER.intrinsics.height, b.RENDERER.intrinsics.width)\n",
    "overlay_viz = b.overlay_image(b.viz.resize_image(depth_reconstruction_viz, rgb_viz.height,rgb_viz.width), rgb_viz)\n",
    "b.vstack_images([\n",
    "    depth_viz,\n",
    "    depth_reconstruction_viz,\n",
    "    seg_viz,\n",
    "    overlay_viz\n",
    "])\n",
    "    "
   ]
  },
  {
   "cell_type": "code",
   "execution_count": null,
   "id": "6b5db656-9fd6-4380-8cac-7e59027128dc",
   "metadata": {},
   "outputs": [],
   "source": [
    "depth_viz"
   ]
  },
  {
   "cell_type": "code",
   "execution_count": null,
   "id": "b6903264-c4ac-47c7-9e3f-26c4f787e944",
   "metadata": {},
   "outputs": [],
   "source": [
    "b.get_depth_image(b.RENDERER.render(b.get_poses(trace), b.get_indices(trace))[:,:,3], max=5.0)"
   ]
  },
  {
   "cell_type": "code",
   "execution_count": null,
   "id": "4d418d48-c7ba-4440-9472-bff8d2d3458f",
   "metadata": {},
   "outputs": [],
   "source": [
    "OBJECT_NUMBER += 1"
   ]
  },
  {
   "cell_type": "code",
   "execution_count": null,
   "id": "a964d312-8863-4820-9533-94c96554ae6b",
   "metadata": {},
   "outputs": [],
   "source": [
    "depth_reconstruction_viz = b.get_depth_image(b.get_rendered_image(trace)[...,2], max=1.0)\n",
    "rgb_viz = b.get_rgb_image(rgbd_original.rgb)"
   ]
  },
  {
   "cell_type": "code",
   "execution_count": null,
   "id": "b32498f6-4c92-485f-9297-99a7b18127fb",
   "metadata": {},
   "outputs": [],
   "source": [
    "b.overlay_image(b.viz.resize_image(depth_reconstruction_viz, rgb_viz.height,rgb_viz.width), rgb_viz)"
   ]
  },
  {
   "cell_type": "code",
   "execution_count": null,
   "id": "15327958-4b5d-4b17-9223-f48557000efb",
   "metadata": {},
   "outputs": [],
   "source": []
  },
  {
   "cell_type": "code",
   "execution_count": null,
   "id": "49f9eef1-321d-49e0-8c52-b57bc34e15bb",
   "metadata": {},
   "outputs": [],
   "source": [
    "b.viz.scale_image(depth_reconstruction_viz, 1/scaling_factor).size"
   ]
  },
  {
   "cell_type": "code",
   "execution_count": null,
   "id": "f7ea33c1-f8c9-47b5-9c73-da692e9fb953",
   "metadata": {},
   "outputs": [],
   "source": [
    "rgb_viz.size"
   ]
  },
  {
   "cell_type": "code",
   "execution_count": null,
   "id": "e4b94b3b-d4c4-483b-a7e6-ed30a76e9aa9",
   "metadata": {},
   "outputs": [],
   "source": [
    "OBJECT_NUMBER += 1"
   ]
  },
  {
   "cell_type": "code",
   "execution_count": null,
   "id": "003b36bd-4043-41d6-b6a2-74541b5fd8b5",
   "metadata": {},
   "outputs": [],
   "source": [
    "imgs = []"
   ]
  },
  {
   "cell_type": "code",
   "execution_count": null,
   "id": "894c4c63-aa0e-4672-977b-668d6057c59b",
   "metadata": {},
   "outputs": [],
   "source": [
    "idx = 0\n",
    "contact_param_deltas = contact_param_gridding_schedule[idx]\n",
    "contact_param_grid = contact_param_deltas + trace[address]\n"
   ]
  },
  {
   "cell_type": "code",
   "execution_count": null,
   "id": "82e1a6b6-d723-4e11-aead-1d09c0263971",
   "metadata": {},
   "outputs": [],
   "source": [
    "key = jax.random.split(key,2)[0]"
   ]
  },
  {
   "cell_type": "code",
   "execution_count": null,
   "id": "0e018261-581b-4688-a0cb-807581e6fddd",
   "metadata": {},
   "outputs": [],
   "source": [
    "contact_param_deltas = contact_param_gridding_schedule[idx]\n",
    "contact_param_grid = contact_param_deltas + trace[address]\n",
    "indices_in_contact_param_grid = jax.random.choice(key, contact_param_grid.shape[0], shape=(50,))"
   ]
  },
  {
   "cell_type": "code",
   "execution_count": null,
   "id": "82fda64b-28b8-4813-a1af-532324b893d9",
   "metadata": {},
   "outputs": [],
   "source": [
    "images = []\n",
    "for i in indices_in_contact_param_grid:\n",
    "    trace_ = enumerators[0](\n",
    "        trace, key,\n",
    "        contact_param_grid[i]\n",
    "    )\n",
    "    images.append(b.get_depth_image(b.get_rendered_image(trace_)[...,2], max=1.5))"
   ]
  },
  {
   "cell_type": "code",
   "execution_count": null,
   "id": "905a2bbd-2a18-4a78-a313-008db46e5127",
   "metadata": {},
   "outputs": [],
   "source": [
    "b.hvstack_images(images, 10,5)"
   ]
  },
  {
   "cell_type": "code",
   "execution_count": null,
   "id": "e8215de4-26cb-43bf-bf12-8749e3599425",
   "metadata": {},
   "outputs": [],
   "source": [
    "traces = []\n",
    "for idx in range(len(contact_param_gridding_schedule)):\n",
    "    contact_param_deltas = contact_param_gridding_schedule[idx]\n",
    "    contact_param_grid = contact_param_deltas + trace[address]\n",
    "    scores = enumerators[3](trace, key, contact_param_grid)\n",
    "    i= jnp.unravel_index(scores.argmax(), scores.shape)\n",
    "    trace = enumerators[0](\n",
    "        trace, key,\n",
    "        contact_param_grid[i]\n",
    "    )\n",
    "    traces.append(trace)\n",
    "    b.viz_trace_meshcat(trace)"
   ]
  },
  {
   "cell_type": "code",
   "execution_count": null,
   "id": "28f98d68-d6ab-4d65-9da6-1d2f7621a372",
   "metadata": {},
   "outputs": [],
   "source": [
    "b.viz.scale_image(b.get_depth_image(b.get_rendered_image(trace)[...,2], max=1.0),5)"
   ]
  },
  {
   "cell_type": "code",
   "execution_count": null,
   "id": "25991704-89c5-4162-b951-122b3eba9967",
   "metadata": {},
   "outputs": [],
   "source": [
    "OBJECT_NUMBER += 1"
   ]
  },
  {
   "cell_type": "code",
   "execution_count": null,
   "id": "aab8570f-deee-45fa-87a5-e1c145775b9b",
   "metadata": {},
   "outputs": [],
   "source": [
    "b.viz.scale_image(b.get_rgb_image(get_depth_image_alternate(b.get_rendered_image(traces[0])[...,2], 1.0)),5)"
   ]
  },
  {
   "cell_type": "code",
   "execution_count": null,
   "id": "7ea2d45f-d8be-46b0-bc3f-3d58aca6511c",
   "metadata": {},
   "outputs": [],
   "source": [
    "b.setup_renderer(rgbd_original.intrinsics)\n",
    "b.RENDERER.add_mesh_from_file(\"toy_plane.ply\")\n",
    "model_dir = os.path.join(b.utils.get_assets_dir(),\"bop/ycbv/models\")\n",
    "mesh_path = os.path.join(model_dir,\"obj_\" + \"{}\".format(13+1).rjust(6, '0') + \".ply\")\n",
    "b.RENDERER.add_mesh_from_file(mesh_path, scaling_factor=1.0/1000.0)\n",
    "mesh_path = os.path.join(model_dir,\"obj_\" + \"{}\".format(10+1).rjust(6, '0') + \".ply\")\n",
    "b.RENDERER.add_mesh_from_file(mesh_path, scaling_factor=1.0/1000.0)\n",
    "\n",
    "b.RENDERER.add_mesh_from_file(os.path.join(b.utils.get_assets_dir(), \"sample_objs/cube.obj\"), scaling_factor=1.0/1000000000.0)"
   ]
  },
  {
   "cell_type": "code",
   "execution_count": null,
   "id": "ca33fda7-3ed4-41b3-8c11-5e00429ff3c6",
   "metadata": {},
   "outputs": [],
   "source": []
  },
  {
   "cell_type": "code",
   "execution_count": null,
   "id": "a0a9f5d6-3785-438f-bb0e-dd9ad0a71e8f",
   "metadata": {},
   "outputs": [],
   "source": [
    "img = b.RENDERER.render(b.get_poses(trace), b.get_indices(trace))"
   ]
  },
  {
   "cell_type": "code",
   "execution_count": null,
   "id": "a92125a6-809b-4b4d-b032-457ec1deca94",
   "metadata": {},
   "outputs": [],
   "source": [
    "b.get_depth_image(img[:,:,2],max=1.5)"
   ]
  },
  {
   "cell_type": "code",
   "execution_count": null,
   "id": "d7a846f8-5d9a-4cf1-8570-264366151259",
   "metadata": {},
   "outputs": [],
   "source": []
  },
  {
   "cell_type": "code",
   "execution_count": null,
   "id": "2cc37a76-d1ce-421a-a7a5-83947a27f15d",
   "metadata": {},
   "outputs": [],
   "source": []
  },
  {
   "cell_type": "code",
   "execution_count": null,
   "id": "f3ec3706-2fbc-4e93-bff9-1954c5845c7b",
   "metadata": {},
   "outputs": [],
   "source": [
    "OBJECT_NUMBER += 1"
   ]
  },
  {
   "cell_type": "code",
   "execution_count": null,
   "id": "e493eaf9-6331-4a63-baee-6aa35aad14d5",
   "metadata": {},
   "outputs": [],
   "source": [
    "counter = 0"
   ]
  },
  {
   "cell_type": "code",
   "execution_count": null,
   "id": "aa7d5512-3e10-45e1-8b6b-83c4586679e1",
   "metadata": {},
   "outputs": [],
   "source": [
    "key = jax.random.split(key,1)[0]\n",
    "new_object_idx = jax.random.choice(key,3)\n",
    "contact_param_grid = contact_param_gridding_schedule[0] + jnp.zeros(3)\n",
    "key = jax.random.split(key,1)[0]\n",
    "contact_param_random = contact_param_grid[jax.random.choice(key, contact_param_grid.shape[0]),:]\n",
    "print(contact_param_random)\n",
    "trace_ = b.update_address(trace, key, address, contact_param_random)\n",
    "trace_ = b.update_address(trace_, key, f\"id_{OBJECT_NUMBER}\", new_object_idx)\n",
    "counter +=1\n",
    "b.get_rgb_image(get_depth_image_alternate(b.get_rendered_image(trace_)[...,2], 1.0)).save(f\"{counter}.png\")\n"
   ]
  },
  {
   "cell_type": "code",
   "execution_count": null,
   "id": "c2b6b5cd-c34a-400a-94e6-f826b87145a6",
   "metadata": {},
   "outputs": [],
   "source": [
    "trace_[address]"
   ]
  },
  {
   "cell_type": "code",
   "execution_count": null,
   "id": "c8df9fa4-d265-4436-bb54-0a9661b8b447",
   "metadata": {},
   "outputs": [],
   "source": [
    "for idx in range(len(contact_param_gridding_schedule)):\n",
    "    contact_param_deltas = contact_param_gridding_schedule[idx]\n",
    "    contact_param_grid = contact_param_deltas + trace[f\"contact_params_1\"]\n",
    "    scores = enumerators[3](trace, key, contact_param_grid)\n",
    "    i= jnp.unravel_index(scores.argmax(), scores.shape)\n",
    "    trace = enumerators[0](\n",
    "        trace, key,\n",
    "        contact_param_grid[i]\n",
    "    )\n",
    "    b.viz_trace_meshcat(trace)"
   ]
  },
  {
   "cell_type": "code",
   "execution_count": null,
   "id": "9be2f462-41af-488a-9001-329215bddfb1",
   "metadata": {},
   "outputs": [],
   "source": []
  },
  {
   "cell_type": "code",
   "execution_count": null,
   "id": "a87b021b-bde8-40d8-a5fc-69ed038ed7bc",
   "metadata": {},
   "outputs": [],
   "source": [
    "b.viz.scale_image(b.get_rgb_image(get_depth_image_alternate(b.get_rendered_image(trace)[...,2], 1.0)),5)"
   ]
  },
  {
   "cell_type": "code",
   "execution_count": null,
   "id": "89063cae-c715-409c-8e52-41549041377c",
   "metadata": {},
   "outputs": [],
   "source": [
    "enumerators = b.make_enumerator([f\"contact_params_2\"])\n",
    "trace = b.add_object_jit(trace, key, 1, 0, 2,3)\n",
    "b.viz_trace_meshcat(trace)"
   ]
  },
  {
   "cell_type": "code",
   "execution_count": null,
   "id": "3e904da7-1189-4373-9d93-012a2ffdb033",
   "metadata": {},
   "outputs": [],
   "source": [
    "for idx in range(len(contact_param_gridding_schedule)):\n",
    "    contact_param_deltas = contact_param_gridding_schedule[idx]\n",
    "    contact_param_grid = contact_param_deltas + trace[f\"contact_params_2\"]\n",
    "    scores = enumerators[3](trace, key, contact_param_grid)\n",
    "    i= jnp.unravel_index(scores.argmax(), scores.shape)\n",
    "    trace = enumerators[0](\n",
    "        trace, key,\n",
    "        contact_param_grid[i]\n",
    "    )\n",
    "    b.viz_trace_meshcat(trace)"
   ]
  },
  {
   "cell_type": "code",
   "execution_count": null,
   "id": "3c77c023-1935-42ac-bf2a-9a33e7652689",
   "metadata": {},
   "outputs": [],
   "source": [
    "enumerators = b.make_enumerator([f\"contact_params_3\"])\n",
    "trace = b.add_object_jit(trace, key, 0, 0, 2,3)\n",
    "b.viz_trace_meshcat(trace)"
   ]
  },
  {
   "cell_type": "code",
   "execution_count": null,
   "id": "5c6e8c2a-89c8-4a69-a386-bf7095a2a6ff",
   "metadata": {},
   "outputs": [],
   "source": [
    "for idx in range(len(contact_param_gridding_schedule)):\n",
    "    contact_param_deltas = contact_param_gridding_schedule[idx]\n",
    "    contact_param_grid = contact_param_deltas + trace[f\"contact_params_3\"]\n",
    "    scores = enumerators[3](trace, key, contact_param_grid)\n",
    "    i= jnp.unravel_index(scores.argmax(), scores.shape)\n",
    "    trace = enumerators[0](\n",
    "        trace, key,\n",
    "        contact_param_grid[i]\n",
    "    )\n",
    "    b.viz_trace_meshcat(trace)"
   ]
  },
  {
   "cell_type": "code",
   "execution_count": null,
   "id": "f8b2d29c-bd7e-476d-a820-f6b4a9ed50a7",
   "metadata": {},
   "outputs": [],
   "source": [
    "def get_depth_image_alternate(depth, maxval=None):\n",
    "    far = jnp.max(depth)\n",
    "    minval = jnp.min(depth[depth > jnp.min(depth)])\n",
    "    if maxval is None:\n",
    "        maxval = jnp.max(depth[depth < jnp.max(depth)])\n",
    "    depth = depth.at[depth >= far].set(jnp.nan)\n",
    "    viz_img = np.array(b.get_depth_image(\n",
    "       depth, min=minval,  max=maxval\n",
    "    ))\n",
    "    viz_img[viz_img.sum(-1) == 0,:] = 255.0\n",
    "    return viz_img"
   ]
  },
  {
   "cell_type": "code",
   "execution_count": null,
   "id": "93f3613a-94bb-4df6-b36d-886848457aaf",
   "metadata": {},
   "outputs": [],
   "source": [
    "b.viz.scale_image(b.get_rgb_image(get_depth_image_alternate(b.get_rendered_image(trace)[...,2], 1.0)),5)"
   ]
  },
  {
   "cell_type": "code",
   "execution_count": null,
   "id": "129cb8a0-3787-4fbb-ba72-00fb6d80739e",
   "metadata": {},
   "outputs": [],
   "source": [
    "b.get_rgb_image(get_depth_image_alternate(jnp.array(rgbd_original.depth),1.0))"
   ]
  },
  {
   "cell_type": "code",
   "execution_count": null,
   "id": "9e6b9481-1434-46a9-8c37-fee2d60a02a6",
   "metadata": {},
   "outputs": [],
   "source": []
  },
  {
   "cell_type": "code",
   "execution_count": null,
   "id": "e3268b81-eed9-4b91-94fc-392020ee5a23",
   "metadata": {},
   "outputs": [],
   "source": []
  }
 ],
 "metadata": {
  "kernelspec": {
   "display_name": "Python 3 (ipykernel)",
   "language": "python",
   "name": "python3"
  },
  "language_info": {
   "codemirror_mode": {
    "name": "ipython",
    "version": 3
   },
   "file_extension": ".py",
   "mimetype": "text/x-python",
   "name": "python",
   "nbconvert_exporter": "python",
   "pygments_lexer": "ipython3",
   "version": "3.9.18"
  }
 },
 "nbformat": 4,
 "nbformat_minor": 5
}
