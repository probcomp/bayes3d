{
 "cells": [
  {
   "cell_type": "code",
   "execution_count": null,
   "id": "7a5b4b5c-80b5-4270-8ff6-005f893adc4b",
   "metadata": {},
   "outputs": [],
   "source": [
    "import numpy as np\n",
    "import jax.numpy as jnp\n",
    "import jax\n",
    "import bayes3d as b\n",
    "import time\n",
    "from PIL import Image\n",
    "from scipy.spatial.transform import Rotation as R\n",
    "import matplotlib.pyplot as plt\n",
    "import cv2\n",
    "import trimesh\n",
    "import os\n",
    "import glob\n",
    "import bayes3d.neural\n",
    "import pickle\n",
    "# Can be helpful for debugging:\n",
    "# jax.config.update('jax_enable_checks', True) \n",
    "from bayes3d.neural.segmentation import carvekit_get_foreground_mask\n",
    "import genjax\n",
    "from bayes3d.viz.open3dviz import Open3DVisualizer\n"
   ]
  },
  {
   "cell_type": "code",
   "execution_count": null,
   "id": "caae8436-a9a9-403b-8c4f-2d3c88890aa0",
   "metadata": {},
   "outputs": [],
   "source": [
    "b.setup_visualizer()"
   ]
  },
  {
   "cell_type": "code",
   "execution_count": null,
   "id": "bb0d0cb8-e548-4812-aa75-afc1ffc2f814",
   "metadata": {},
   "outputs": [],
   "source": [
    "base_intrinsics = b.Intrinsics(\n",
    "    height=50,\n",
    "    width=50,\n",
    "    fx=250.0, fy=250.0,\n",
    "    cx=25.0, cy=25.0,\n",
    "    near=0.01, far=20.0\n",
    ")\n",
    "intrinsics = b.scale_camera_parameters(base_intrinsics, 10)"
   ]
  },
  {
   "cell_type": "code",
   "execution_count": null,
   "id": "de6b16e7-340c-47da-944f-540a235202da",
   "metadata": {},
   "outputs": [],
   "source": [
    "viz = Open3DVisualizer(intrinsics)"
   ]
  },
  {
   "cell_type": "code",
   "execution_count": null,
   "id": "d6b48f2a-1fed-4a18-8bc0-dd868b9d8e55",
   "metadata": {},
   "outputs": [],
   "source": [
    "mesh = trimesh.load(\"toy_plane.ply\")"
   ]
  },
  {
   "cell_type": "code",
   "execution_count": null,
   "id": "020ee02c-ab2b-448a-a5af-2397132c9f38",
   "metadata": {},
   "outputs": [],
   "source": [
    "viz.make_trimesh(mesh, jnp.eye(4), jnp.array([1.0, 0.0, 0.0, 1.0]))"
   ]
  },
  {
   "cell_type": "code",
   "execution_count": null,
   "id": "f682742a-a0e8-4ff1-9c68-62adcc4803cc",
   "metadata": {},
   "outputs": [],
   "source": [
    "camera_pose = b.t3d.transform_from_pos_target_up(\n",
    "        jnp.array([0.0, -1.5, 1.50]),\n",
    "        jnp.array([0.0, 0.0, 0.0]),\n",
    "        jnp.array([0.0, 0.0, 1.0]),\n",
    "    )\n",
    "\n"
   ]
  },
  {
   "cell_type": "code",
   "execution_count": null,
   "id": "8f0acc31-51c2-4d55-9f36-d2e85aa2b60c",
   "metadata": {},
   "outputs": [],
   "source": [
    "rgbd = viz.capture_image(intrinsics, camera_pose)\n",
    "b.get_rgb_image(rgbd.rgb)"
   ]
  },
  {
   "cell_type": "code",
   "execution_count": null,
   "id": "6d5025f2-2319-4b04-8e8c-1cc56a257409",
   "metadata": {},
   "outputs": [],
   "source": [
    "b.utils.ycb_loader.MODEL_NAMES[12]"
   ]
  },
  {
   "cell_type": "code",
   "execution_count": null,
   "id": "47021dbf-3bc7-4ca3-826c-56a1baffce63",
   "metadata": {},
   "outputs": [],
   "source": []
  },
  {
   "cell_type": "code",
   "execution_count": null,
   "id": "6fc5365d-602a-4264-a666-cbfdfb2685db",
   "metadata": {},
   "outputs": [],
   "source": [
    "vertices = mesh.vertices / 1000.0"
   ]
  },
  {
   "cell_type": "code",
   "execution_count": null,
   "id": "4fe9acc0-ef2a-486a-b0ca-54b3efcde010",
   "metadata": {},
   "outputs": [],
   "source": [
    "ids = [12,13,10]\n",
    "colors = b.distinct_colors(10)\n",
    "IDX = 0"
   ]
  },
  {
   "cell_type": "code",
   "execution_count": null,
   "id": "ee87ca38-cbfc-49d3-9aeb-511d70f0c654",
   "metadata": {},
   "outputs": [],
   "source": [
    "model_dir = os.path.join(b.utils.get_assets_dir(),\"bop/ycbv/models\")\n",
    "mesh_path = os.path.join(model_dir,\"obj_\" + \"{}\".format(ids[IDX]+1).rjust(6, '0') + \".ply\")\n",
    "mesh = trimesh.load(mesh_path)"
   ]
  },
  {
   "cell_type": "code",
   "execution_count": null,
   "id": "b95a8f4f-5d3c-46e9-a740-d718c05eea44",
   "metadata": {},
   "outputs": [],
   "source": [
    "resolution = 0.005\n",
    "v = b.utils.voxelize(vertices, resolution)\n",
    "new_mesh = b.utils.make_voxel_mesh_from_point_cloud(v, resolution)\n"
   ]
  },
  {
   "cell_type": "code",
   "execution_count": null,
   "id": "d1cc20d8-396d-48e1-b4e2-43cf4e8cef31",
   "metadata": {},
   "outputs": [],
   "source": [
    "# b.show_trimesh(\"1\", new_mesh, color=(0.2, 0.2, 0.5))\n",
    "b.show_trimesh(\"1\", new_mesh, color=colors[IDX][:3])"
   ]
  },
  {
   "cell_type": "code",
   "execution_count": null,
   "id": "6edb40a2-bbf8-4455-8e93-4ef483eab17f",
   "metadata": {},
   "outputs": [],
   "source": [
    "mesh = trimesh.load(\"toy_plane.ply\")\n",
    "b.show_trimesh(\"1\", mesh, color=(0.7, 0.1, 0.1))\n"
   ]
  },
  {
   "cell_type": "code",
   "execution_count": null,
   "id": "997ae941-fe7e-42bb-94f9-47f000195212",
   "metadata": {},
   "outputs": [],
   "source": []
  },
  {
   "cell_type": "code",
   "execution_count": null,
   "id": "03153d77-fc1b-4eed-8667-ed74693d15b2",
   "metadata": {},
   "outputs": [],
   "source": []
  }
 ],
 "metadata": {
  "kernelspec": {
   "display_name": "Python 3 (ipykernel)",
   "language": "python",
   "name": "python3"
  },
  "language_info": {
   "codemirror_mode": {
    "name": "ipython",
    "version": 3
   },
   "file_extension": ".py",
   "mimetype": "text/x-python",
   "name": "python",
   "nbconvert_exporter": "python",
   "pygments_lexer": "ipython3",
   "version": "3.9.18"
  }
 },
 "nbformat": 4,
 "nbformat_minor": 5
}
