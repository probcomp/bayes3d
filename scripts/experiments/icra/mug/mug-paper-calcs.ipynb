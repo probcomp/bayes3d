{
 "cells": [
  {
   "cell_type": "code",
   "execution_count": 1,
   "id": "c9a75992-9ded-4c10-bcbe-a68d4e817125",
   "metadata": {},
   "outputs": [],
   "source": [
    "import jax.numpy as jnp\n",
    "import bayes3d as b\n",
    "import os\n",
    "import jax\n",
    "import functools\n",
    "from jax.scipy.special import logsumexp\n",
    "from functools import partial\n",
    "from tqdm import tqdm\n",
    "import matplotlib.pyplot as plt\n",
    "import bayes3d.genjax\n",
    "import genjax\n",
    "import pathlib\n",
    "\n",
    "from tensorflow_probability.substrates import jax as tfp"
   ]
  },
  {
   "cell_type": "code",
   "execution_count": 2,
   "id": "1e9cc139-2449-4532-acf4-af71ccd6a24d",
   "metadata": {},
   "outputs": [
    {
     "name": "stdout",
     "output_type": "stream",
     "text": [
      "You can open the visualizer by visiting the following URL:\n",
      "http://127.0.0.1:7006/static/\n"
     ]
    }
   ],
   "source": [
    "b.setup_visualizer()"
   ]
  },
  {
   "cell_type": "code",
   "execution_count": 3,
   "id": "a42856ac-4db2-43cd-a4e7-6b93bc550f12",
   "metadata": {},
   "outputs": [
    {
     "ename": "RuntimeError",
     "evalue": "CUDA error: out of memory\nCUDA kernel errors might be asynchronously reported at some other API call, so the stacktrace below might be incorrect.\nFor debugging consider passing CUDA_LAUNCH_BLOCKING=1.\nCompile with `TORCH_USE_CUDA_DSA` to enable device-side assertions.\n",
     "output_type": "error",
     "traceback": [
      "\u001b[0;31m---------------------------------------------------------------------------\u001b[0m",
      "\u001b[0;31mRuntimeError\u001b[0m                              Traceback (most recent call last)",
      "Cell \u001b[0;32mIn[3], line 9\u001b[0m\n\u001b[1;32m      1\u001b[0m intrinsics \u001b[38;5;241m=\u001b[39m b\u001b[38;5;241m.\u001b[39mIntrinsics(\n\u001b[1;32m      2\u001b[0m     height\u001b[38;5;241m=\u001b[39m\u001b[38;5;241m100\u001b[39m,\n\u001b[1;32m      3\u001b[0m     width\u001b[38;5;241m=\u001b[39m\u001b[38;5;241m100\u001b[39m,\n\u001b[0;32m   (...)\u001b[0m\n\u001b[1;32m      6\u001b[0m     near\u001b[38;5;241m=\u001b[39m\u001b[38;5;241m0.0001\u001b[39m, far\u001b[38;5;241m=\u001b[39m\u001b[38;5;241m2.0\u001b[39m\n\u001b[1;32m      7\u001b[0m )\n\u001b[0;32m----> 9\u001b[0m \u001b[43mb\u001b[49m\u001b[38;5;241;43m.\u001b[39;49m\u001b[43msetup_renderer\u001b[49m\u001b[43m(\u001b[49m\u001b[43mintrinsics\u001b[49m\u001b[43m)\u001b[49m\n\u001b[1;32m     10\u001b[0m model_dir \u001b[38;5;241m=\u001b[39m os\u001b[38;5;241m.\u001b[39mpath\u001b[38;5;241m.\u001b[39mjoin(b\u001b[38;5;241m.\u001b[39mutils\u001b[38;5;241m.\u001b[39mget_assets_dir(),\u001b[38;5;124m\"\u001b[39m\u001b[38;5;124mbop/ycbv/models\u001b[39m\u001b[38;5;124m\"\u001b[39m)\n\u001b[1;32m     11\u001b[0m meshes \u001b[38;5;241m=\u001b[39m []\n",
      "File \u001b[0;32m~/bayes3d/bayes3d/renderer.py:38\u001b[0m, in \u001b[0;36msetup_renderer\u001b[0;34m(intrinsics, num_layers)\u001b[0m\n\u001b[1;32m     33\u001b[0m \u001b[38;5;28;01mdef\u001b[39;00m \u001b[38;5;21msetup_renderer\u001b[39m(intrinsics, num_layers\u001b[38;5;241m=\u001b[39m\u001b[38;5;241m1024\u001b[39m):\n\u001b[1;32m     34\u001b[0m \u001b[38;5;250m    \u001b[39m\u001b[38;5;124;03m\"\"\"Setup the renderer.\u001b[39;00m\n\u001b[1;32m     35\u001b[0m \u001b[38;5;124;03m    Args:\u001b[39;00m\n\u001b[1;32m     36\u001b[0m \u001b[38;5;124;03m        intrinsics (bayes3d.camera.Intrinsics): The camera intrinsics.    \u001b[39;00m\n\u001b[1;32m     37\u001b[0m \u001b[38;5;124;03m    \"\"\"\u001b[39;00m\n\u001b[0;32m---> 38\u001b[0m     b\u001b[38;5;241m.\u001b[39mRENDERER \u001b[38;5;241m=\u001b[39m \u001b[43mRenderer\u001b[49m\u001b[43m(\u001b[49m\u001b[43mintrinsics\u001b[49m\u001b[43m,\u001b[49m\u001b[43m \u001b[49m\u001b[43mnum_layers\u001b[49m\u001b[38;5;241;43m=\u001b[39;49m\u001b[43mnum_layers\u001b[49m\u001b[43m)\u001b[49m\n",
      "File \u001b[0;32m~/bayes3d/bayes3d/renderer.py:49\u001b[0m, in \u001b[0;36mRenderer.__init__\u001b[0;34m(self, intrinsics, num_layers)\u001b[0m\n\u001b[1;32m     42\u001b[0m \u001b[38;5;250m\u001b[39m\u001b[38;5;124;03m\"\"\"A renderer for rendering meshes.\u001b[39;00m\n\u001b[1;32m     43\u001b[0m \u001b[38;5;124;03m\u001b[39;00m\n\u001b[1;32m     44\u001b[0m \u001b[38;5;124;03mArgs:\u001b[39;00m\n\u001b[1;32m     45\u001b[0m \u001b[38;5;124;03m    intrinsics (bayes3d.camera.Intrinsics): The camera intrinsics.\u001b[39;00m\n\u001b[1;32m     46\u001b[0m \u001b[38;5;124;03m    num_layers (int, optional): The number of scenes to render in parallel. Defaults to 1024.\u001b[39;00m\n\u001b[1;32m     47\u001b[0m \u001b[38;5;124;03m\"\"\"\u001b[39;00m\n\u001b[1;32m     48\u001b[0m \u001b[38;5;28mself\u001b[39m\u001b[38;5;241m.\u001b[39mintrinsics \u001b[38;5;241m=\u001b[39m intrinsics\n\u001b[0;32m---> 49\u001b[0m \u001b[38;5;28mself\u001b[39m\u001b[38;5;241m.\u001b[39mrenderer_env \u001b[38;5;241m=\u001b[39m \u001b[43mdr\u001b[49m\u001b[38;5;241;43m.\u001b[39;49m\u001b[43mRasterizeGLContext\u001b[49m\u001b[43m(\u001b[49m\u001b[43mintrinsics\u001b[49m\u001b[38;5;241;43m.\u001b[39;49m\u001b[43mheight\u001b[49m\u001b[43m,\u001b[49m\u001b[43m \u001b[49m\u001b[43mintrinsics\u001b[49m\u001b[38;5;241;43m.\u001b[39;49m\u001b[43mwidth\u001b[49m\u001b[43m,\u001b[49m\u001b[43m \u001b[49m\u001b[43moutput_db\u001b[49m\u001b[38;5;241;43m=\u001b[39;49m\u001b[38;5;28;43;01mFalse\u001b[39;49;00m\u001b[43m)\u001b[49m\n\u001b[1;32m     50\u001b[0m \u001b[38;5;28mself\u001b[39m\u001b[38;5;241m.\u001b[39mproj_list \u001b[38;5;241m=\u001b[39m \u001b[38;5;28mlist\u001b[39m(bayes3d\u001b[38;5;241m.\u001b[39mcamera\u001b[38;5;241m.\u001b[39m_open_gl_projection_matrix(\n\u001b[1;32m     51\u001b[0m     intrinsics\u001b[38;5;241m.\u001b[39mheight, intrinsics\u001b[38;5;241m.\u001b[39mwidth, \n\u001b[1;32m     52\u001b[0m     intrinsics\u001b[38;5;241m.\u001b[39mfx, intrinsics\u001b[38;5;241m.\u001b[39mfy, \n\u001b[1;32m     53\u001b[0m     intrinsics\u001b[38;5;241m.\u001b[39mcx, intrinsics\u001b[38;5;241m.\u001b[39mcy, \n\u001b[1;32m     54\u001b[0m     intrinsics\u001b[38;5;241m.\u001b[39mnear, intrinsics\u001b[38;5;241m.\u001b[39mfar\n\u001b[1;32m     55\u001b[0m )\u001b[38;5;241m.\u001b[39mreshape(\u001b[38;5;241m-\u001b[39m\u001b[38;5;241m1\u001b[39m))\n\u001b[1;32m     57\u001b[0m build_setup_primitive(\u001b[38;5;28mself\u001b[39m,intrinsics\u001b[38;5;241m.\u001b[39mheight, intrinsics\u001b[38;5;241m.\u001b[39mwidth, num_layers)\u001b[38;5;241m.\u001b[39mbind()\n",
      "File \u001b[0;32m~/bayes3d/bayes3d/_rendering/nvdiffrast/common/ops.py:183\u001b[0m, in \u001b[0;36mRasterizeGLContext.__init__\u001b[0;34m(self, height, width, output_db, mode, device)\u001b[0m\n\u001b[1;32m    181\u001b[0m \u001b[38;5;28mself\u001b[39m\u001b[38;5;241m.\u001b[39mmode \u001b[38;5;241m=\u001b[39m mode\n\u001b[1;32m    182\u001b[0m \u001b[38;5;28;01mif\u001b[39;00m device \u001b[38;5;129;01mis\u001b[39;00m \u001b[38;5;28;01mNone\u001b[39;00m:\n\u001b[0;32m--> 183\u001b[0m     cuda_device_idx \u001b[38;5;241m=\u001b[39m \u001b[43mtorch\u001b[49m\u001b[38;5;241;43m.\u001b[39;49m\u001b[43mcuda\u001b[49m\u001b[38;5;241;43m.\u001b[39;49m\u001b[43mcurrent_device\u001b[49m\u001b[43m(\u001b[49m\u001b[43m)\u001b[49m\n\u001b[1;32m    184\u001b[0m \u001b[38;5;28;01melse\u001b[39;00m:\n\u001b[1;32m    185\u001b[0m     \u001b[38;5;28;01mwith\u001b[39;00m torch\u001b[38;5;241m.\u001b[39mcuda\u001b[38;5;241m.\u001b[39mdevice(device):\n",
      "File \u001b[0;32m/opt/conda/envs/bayes3d/lib/python3.9/site-packages/torch/cuda/__init__.py:674\u001b[0m, in \u001b[0;36mcurrent_device\u001b[0;34m()\u001b[0m\n\u001b[1;32m    672\u001b[0m \u001b[38;5;28;01mdef\u001b[39;00m \u001b[38;5;21mcurrent_device\u001b[39m() \u001b[38;5;241m-\u001b[39m\u001b[38;5;241m>\u001b[39m \u001b[38;5;28mint\u001b[39m:\n\u001b[1;32m    673\u001b[0m \u001b[38;5;250m    \u001b[39m\u001b[38;5;124mr\u001b[39m\u001b[38;5;124;03m\"\"\"Returns the index of a currently selected device.\"\"\"\u001b[39;00m\n\u001b[0;32m--> 674\u001b[0m     \u001b[43m_lazy_init\u001b[49m\u001b[43m(\u001b[49m\u001b[43m)\u001b[49m\n\u001b[1;32m    675\u001b[0m     \u001b[38;5;28;01mreturn\u001b[39;00m torch\u001b[38;5;241m.\u001b[39m_C\u001b[38;5;241m.\u001b[39m_cuda_getDevice()\n",
      "File \u001b[0;32m/opt/conda/envs/bayes3d/lib/python3.9/site-packages/torch/cuda/__init__.py:247\u001b[0m, in \u001b[0;36m_lazy_init\u001b[0;34m()\u001b[0m\n\u001b[1;32m    245\u001b[0m \u001b[38;5;28;01mif\u001b[39;00m \u001b[38;5;124m'\u001b[39m\u001b[38;5;124mCUDA_MODULE_LOADING\u001b[39m\u001b[38;5;124m'\u001b[39m \u001b[38;5;129;01mnot\u001b[39;00m \u001b[38;5;129;01min\u001b[39;00m os\u001b[38;5;241m.\u001b[39menviron:\n\u001b[1;32m    246\u001b[0m     os\u001b[38;5;241m.\u001b[39menviron[\u001b[38;5;124m'\u001b[39m\u001b[38;5;124mCUDA_MODULE_LOADING\u001b[39m\u001b[38;5;124m'\u001b[39m] \u001b[38;5;241m=\u001b[39m \u001b[38;5;124m'\u001b[39m\u001b[38;5;124mLAZY\u001b[39m\u001b[38;5;124m'\u001b[39m\n\u001b[0;32m--> 247\u001b[0m \u001b[43mtorch\u001b[49m\u001b[38;5;241;43m.\u001b[39;49m\u001b[43m_C\u001b[49m\u001b[38;5;241;43m.\u001b[39;49m\u001b[43m_cuda_init\u001b[49m\u001b[43m(\u001b[49m\u001b[43m)\u001b[49m\n\u001b[1;32m    248\u001b[0m \u001b[38;5;66;03m# Some of the queued calls may reentrantly call _lazy_init();\u001b[39;00m\n\u001b[1;32m    249\u001b[0m \u001b[38;5;66;03m# we need to just return without initializing in that case.\u001b[39;00m\n\u001b[1;32m    250\u001b[0m \u001b[38;5;66;03m# However, we must not let any *other* threads in!\u001b[39;00m\n\u001b[1;32m    251\u001b[0m _tls\u001b[38;5;241m.\u001b[39mis_initializing \u001b[38;5;241m=\u001b[39m \u001b[38;5;28;01mTrue\u001b[39;00m\n",
      "\u001b[0;31mRuntimeError\u001b[0m: CUDA error: out of memory\nCUDA kernel errors might be asynchronously reported at some other API call, so the stacktrace below might be incorrect.\nFor debugging consider passing CUDA_LAUNCH_BLOCKING=1.\nCompile with `TORCH_USE_CUDA_DSA` to enable device-side assertions.\n"
     ]
    }
   ],
   "source": [
    "intrinsics = b.Intrinsics(\n",
    "    height=100,\n",
    "    width=100,\n",
    "    fx=200.0, fy=200.0,\n",
    "    cx=50.0, cy=50.0,\n",
    "    near=0.0001, far=2.0\n",
    ")\n",
    "\n",
    "b.setup_renderer(intrinsics)\n",
    "model_dir = os.path.join(b.utils.get_assets_dir(),\"bop/ycbv/models\")\n",
    "meshes = []\n",
    "for idx in range(1,22):\n",
    "    mesh_path = os.path.join(model_dir,\"obj_\" + \"{}\".format(idx).rjust(6, '0') + \".ply\")\n",
    "    b.RENDERER.add_mesh_from_file(mesh_path, scaling_factor=1.0/1000.0)\n",
    "# b.RENDERER.add_mesh_from_file(os.path.join(b.utils.get_assets_dir(), \"sample_objs/cube.obj\"), scaling_factor=1.0/10.0)\n",
    "b.RENDERER.add_mesh_from_file(os.path.join(b.utils.get_assets_dir(), \"sample_objs/cube.obj\"), scaling_factor=1.0/1000000000.0)\n"
   ]
  },
  {
   "cell_type": "code",
   "execution_count": null,
   "id": "f4648f31-caf1-4792-bd83-9d652a8c5e4b",
   "metadata": {},
   "outputs": [],
   "source": [
    "table_pose = b.t3d.inverse_pose(\n",
    "    b.t3d.transform_from_pos_target_up(\n",
    "        jnp.array([0.0, 0.8, .15]),\n",
    "        jnp.array([0.0, 0.0, 0.0]),\n",
    "        jnp.array([0.0, 0.0, 1.0]),\n",
    "    )\n",
    ")\n",
    "importance_jit = jax.jit(b.model.importance)"
   ]
  },
  {
   "cell_type": "code",
   "execution_count": null,
   "id": "1c8cc54b-ca5e-4d04-a4c4-e512ae4a2a54",
   "metadata": {},
   "outputs": [],
   "source": [
    "width = 0.03\n",
    "ang = jnp.pi\n",
    "num_position_grids = 51\n",
    "num_angle_grids = 51\n",
    "contact_param_deltas = b.utils.make_translation_grid_enumeration_3d(\n",
    "    -width, -width, -ang,\n",
    "    width, width, ang,\n",
    "    num_position_grids,num_position_grids,num_angle_grids\n",
    ")"
   ]
  },
  {
   "cell_type": "code",
   "execution_count": null,
   "id": "ace7a300-da3b-4989-847d-a0ed3a859fbd",
   "metadata": {},
   "outputs": [],
   "source": [
    "enumerators = b.make_enumerator([\"contact_params_1\"])"
   ]
  },
  {
   "cell_type": "code",
   "execution_count": null,
   "id": "cd9a7faf-28d3-4a1b-8c12-4ca1ecebde9b",
   "metadata": {},
   "outputs": [],
   "source": [
    "key = jax.random.PRNGKey(100)"
   ]
  },
  {
   "cell_type": "code",
   "execution_count": null,
   "id": "4d71624f-441e-49e2-9113-87fb22ea2e80",
   "metadata": {},
   "outputs": [],
   "source": [
    "def make_orientation_posterior_viz(observation, gt_contact, sampled_contacts):\n",
    "    fig = plt.figure(constrained_layout=True)\n",
    "    # fig.suptitle(f\"Variance: {variance} Outlier Prob: {outlier_prob}\")\n",
    "    widths = [1, 1]\n",
    "    heights = [2]\n",
    "    spec = fig.add_gridspec(ncols=2, nrows=1, width_ratios=widths,\n",
    "                              height_ratios=heights)\n",
    "    \n",
    "    ax = fig.add_subplot(spec[0, 0])\n",
    "    ax.imshow(jnp.array(b.get_depth_image(observation[...,2],max=1.4)))\n",
    "    ax.get_xaxis().set_visible(False)\n",
    "    ax.get_yaxis().set_visible(False)\n",
    "    ax.set_title(f\"Observation (params {gt_contact[0]:0.2f}, {gt_contact[1]:0.2f} ,{gt_contact[2]:0.2f})\")\n",
    "    # ax.set_title(f\"Observed Depth\")\n",
    "    \n",
    "    \n",
    "    ax = fig.add_subplot(spec[0, 1])\n",
    "    ax.set_aspect(1.0)\n",
    "    circ = plt.Circle((0, 0), radius=1, edgecolor='black', facecolor='None', linestyle=\"--\", linewidth=0.5)\n",
    "    ax.add_patch(circ)\n",
    "    ax.set_xlim(-1.1, 1.1)\n",
    "    ax.set_ylim(-1.1, 1.1)\n",
    "    ax.get_xaxis().set_visible(False)\n",
    "    ax.get_yaxis().set_visible(False)\n",
    "    ax.scatter(-jnp.sin(sampled_contacts[:,2]),jnp.cos(sampled_contacts[:,2]), color='red',label=\"Posterior Samples\", alpha=0.5, s=30)\n",
    "    ax.scatter(-jnp.sin(gt_contact[2]),jnp.cos(gt_contact[2]), label=\"Actual\", alpha=0.9, s=25)\n",
    "    ax.set_title(\"Posterior on Orientation (top view)\")\n",
    "    # ax.legend(fontsize=9)\n",
    "    # plt.show()\n",
    "    return fig"
   ]
  },
  {
   "cell_type": "code",
   "execution_count": null,
   "id": "7f8acd91-b3f0-428c-8729-575d41b3b6bf",
   "metadata": {},
   "outputs": [],
   "source": [
    "def c2f_contact_update(trace_, key, contact_param_deltas):\n",
    "    contact_param_grid = contact_param_deltas + trace_[f\"contact_params_1\"]\n",
    "    scores = enumerators[3](trace_, key, contact_param_grid)\n",
    "    i = scores.argmax()\n",
    "    return enumerators[0](\n",
    "        trace_, key,\n",
    "        contact_param_grid[i]\n",
    "    )\n",
    "c2f_contact_update_jit = jax.jit(c2f_contact_update)"
   ]
  },
  {
   "cell_type": "code",
   "execution_count": null,
   "id": "66660e30-25ba-442a-9d55-f9a9ad45139c",
   "metadata": {},
   "outputs": [],
   "source": [
    "key = jax.random.PRNGKey(100)\n",
    "key2 = jax.random.PRNGKey(1000)"
   ]
  },
  {
   "cell_type": "code",
   "execution_count": null,
   "id": "04df8c91-4811-418e-adfc-8a022a41f913",
   "metadata": {},
   "outputs": [],
   "source": [
    "grid_params = [\n",
    "    (0.3, jnp.pi, (15,15,15)), (0.2, jnp.pi, (15,15,15)), (0.1, jnp.pi, (15,15,15)),\n",
    "    (0.05, jnp.pi/3, (15,15,15)), (0.02, jnp.pi, (9,9,51)), (0.01, jnp.pi/5, (15,15,15)), (0.01, 0.0, (31,31,1)),(0.05, 0.0, (31,31,1))\n",
    "]\n",
    "contact_param_gridding_schedule = [\n",
    "    b.utils.make_translation_grid_enumeration_3d(\n",
    "        -x, -x, -ang,\n",
    "        x, x, ang,\n",
    "        *nums\n",
    "    )\n",
    "    for (x,ang,nums) in grid_params\n",
    "]"
   ]
  },
  {
   "cell_type": "code",
   "execution_count": null,
   "id": "679e39d4-b423-49b1-9a2f-b06a6637ef47",
   "metadata": {},
   "outputs": [],
   "source": [
    "def get_init_trace(key, img):\n",
    "    weight, trace = importance_jit(key, genjax.choice_map({\n",
    "        \"parent_0\": -1,\n",
    "        \"parent_1\": 0,\n",
    "        \"id_0\": jnp.int32(21),\n",
    "        \"id_1\": jnp.int32(13),\n",
    "        \"camera_pose\": jnp.eye(4),\n",
    "        \"root_pose_0\": table_pose,\n",
    "        \"face_parent_1\": 2,\n",
    "        \"face_child_1\": 3,\n",
    "        \"variance\": 0.0001,\n",
    "        \"outlier_prob\": 0.001,\n",
    "        \"image\": b.unproject_depth(img, intrinsics),\n",
    "        \"contact_params_1\": jnp.zeros(3)#jax.random.uniform(key, shape=(3,),minval=low, maxval=high)\n",
    "    }), (\n",
    "        jnp.arange(2),\n",
    "        jnp.arange(22),\n",
    "        jnp.array([-jnp.ones(3)*100.0, jnp.ones(3)*100.0]),\n",
    "        jnp.array([jnp.array([-0.5, -0.5, -2*jnp.pi]), jnp.array([0.5, 0.5, 2*jnp.pi])]),\n",
    "        b.RENDERER.model_box_dims, 1.0, intrinsics.fx)\n",
    "    )\n",
    "    return trace"
   ]
  },
  {
   "cell_type": "code",
   "execution_count": null,
   "id": "ce9c4621-740f-4205-8f31-72b00596753b",
   "metadata": {},
   "outputs": [],
   "source": [
    "#train_data_file = jnp.load('train_data.npz')\n",
    "test_data_file = jnp.load('test_data_noxy.npz')\n",
    "test_imgs = test_data_file['arr_0']\n",
    "test_labels = test_data_file['arr_1']\n",
    "N_TEST = test_imgs.shape[0]"
   ]
  },
  {
   "cell_type": "code",
   "execution_count": null,
   "id": "83acb562-c720-4801-bfc2-da6831d5bd80",
   "metadata": {},
   "outputs": [],
   "source": [
    "#train_data_file = jnp.load('train_data.npz')\n",
    "test_data_file_noisy = jnp.load('test_data_noxy_noisy.npz')\n",
    "test_imgs_noisy = test_data_file_noisy['arr_0']\n",
    "test_labels_noisy = test_data_file_noisy['arr_1']"
   ]
  },
  {
   "cell_type": "code",
   "execution_count": null,
   "id": "6d594008-b03c-41cf-808c-0e251109bca9",
   "metadata": {},
   "outputs": [],
   "source": [
    "key = jax.random.PRNGKey(0)"
   ]
  },
  {
   "cell_type": "code",
   "execution_count": null,
   "id": "b867563b-d9c8-4a4e-bc40-708b774d7c8c",
   "metadata": {},
   "outputs": [],
   "source": [
    "def von_mises_cross_entropy(gt_theta, sampled_thetas):\n",
    "    von_mises = tfp.distributions.VonMises.experimental_fit(sampled_thetas)\n",
    "    return -von_mises.log_prob(gt_theta)"
   ]
  },
  {
   "cell_type": "code",
   "execution_count": null,
   "id": "250b0725-ab98-4bad-8ce5-78cfe0e33f24",
   "metadata": {},
   "outputs": [],
   "source": [
    "def fit_von_mises(thetas):\n",
    "    # https://www.jmlr.org/papers/volume6/banerjee05a/banerjee05a.pdf \n",
    "    n = thetas.shape[0]\n",
    "    unit_vecs = jax.vmap(lambda theta: jnp.array([jnp.cos(theta), jnp.sin(theta)]))(thetas)\n",
    "    r = unit_vecs.sum(axis=0)\n",
    "    normr = jnp.linalg.norm(r)\n",
    "    rbar = normr / n \n",
    "    vec_mean = r / normr\n",
    "    conc0 = 1.0\n",
    "    f = lambda x: jax.scipy.special.i1(x)/(jax.scipy.special.i0(x) + 1e-6) - rbar\n",
    "    df = jax.grad(f)\n",
    "    conc = jax.lax.fori_loop(0, 100,\n",
    "                             lambda i, conc: jnp.minimum(conc - f(conc)/(df(conc) + 1e-6), 1e8),\n",
    "                             conc0)\n",
    "    mean = jnp.arctan2(vec_mean[1], vec_mean[0])\n",
    "    return mean, conc, rbar"
   ]
  },
  {
   "cell_type": "code",
   "execution_count": null,
   "id": "260621dd-df25-4294-8cfb-9e4810b3cd48",
   "metadata": {},
   "outputs": [],
   "source": [
    "def get_posterior_samples(key, img):\n",
    "    img = img.reshape(100, 100)\n",
    "    tr = get_init_trace(key, img)\n",
    "    \n",
    "    key = jax.random.split(key, 1)[0]\n",
    "    path = []\n",
    "    path.append(tr)\n",
    "    for c2f_iter in range(len(contact_param_gridding_schedule)):\n",
    "        tr = c2f_contact_update_jit(tr, key, contact_param_gridding_schedule[c2f_iter])\n",
    "        path.append(tr)\n",
    "        key = jax.random.split(key, 1)[0]\n",
    "\n",
    "        \n",
    "    contact_param_grid = tr[\"contact_params_1\"] + contact_param_deltas\n",
    "    weights =  jnp.concatenate([\n",
    "        enumerators[3](tr, key, cp)\n",
    "        for cp in jnp.array_split(contact_param_grid, 60)\n",
    "    ],axis=0)\n",
    "    \n",
    "    key = jax.random.split(key, 1)[0]\n",
    "    normalized_weights = b.utils.normalize_log_scores(weights)\n",
    "    sampled_indices = jax.random.choice(key ,jnp.arange(normalized_weights.shape[0]), shape=(1000,), p=normalized_weights)\n",
    "    sampled_contact_params = contact_param_grid[sampled_indices]\n",
    "\n",
    "    thetas = sampled_contact_params[:, 2]\n",
    "\n",
    "    return thetas"
   ]
  },
  {
   "cell_type": "code",
   "execution_count": null,
   "id": "e7c0935f-7c2e-4086-a5dc-0a46ad8a3b5c",
   "metadata": {},
   "outputs": [],
   "source": [
    "thetass = jnp.empty((0, 1000))\n",
    "thetass_buffer = []\n",
    "for (i, key_) in tqdm(zip(range(N_TEST), jax.random.split(key, N_TEST))):\n",
    "    thetass_buffer.append(get_posterior_samples(key_, test_imgs[i, :, :, 0]))\n",
    "    if (i + 1) % 20 == 0:\n",
    "        thetass = jnp.vstack([thetass, *thetass_buffer])\n",
    "        jnp.save('thetass.npy', thetass)\n",
    "        thetass_buffer = []"
   ]
  },
  {
   "cell_type": "code",
   "execution_count": null,
   "id": "092c596d-9c2b-4f8a-8d96-648bcd9c5d9f",
   "metadata": {},
   "outputs": [],
   "source": [
    "thetass_noisy =  jnp.empty((0, 1000))\n",
    "thetass_noisy_buffer = []\n",
    "for (i, key_) in tqdm(zip(range(N_TEST), jax.random.split(key, N_TEST))):\n",
    "    thetass_noisy_buffer.append(get_posterior_samples(key_, test_imgs_noisy[i, :, :, 0]))\n",
    "    if (i + 1) % 20 == 0:\n",
    "        thetass_noisy = jnp.vstack([thetass_noisy, *thetass_noisy_buffer])\n",
    "        jnp.save('thetass_noisy.npy', thetass_noisy)\n",
    "        thetass_noisy_buffer = []"
   ]
  },
  {
   "cell_type": "code",
   "execution_count": null,
   "id": "935e4468-caef-403d-81c3-873c1a27a9aa",
   "metadata": {},
   "outputs": [],
   "source": [
    "means, concs, rbars = jax.jit(jax.vmap(fit_von_mises))(thetass)"
   ]
  },
  {
   "cell_type": "code",
   "execution_count": null,
   "id": "d02bd97a-ad94-4808-94df-573cb60566dd",
   "metadata": {},
   "outputs": [],
   "source": [
    "von_mises = tfp.distributions.VonMises\n",
    "calc_loss = jax.jit(jax.vmap(lambda mean, conc, label: -von_mises(loc=mean, concentration=conc).log_prob(label)))"
   ]
  },
  {
   "cell_type": "code",
   "execution_count": null,
   "id": "e476876a-5c07-4be4-a994-48cba2e86e6e",
   "metadata": {},
   "outputs": [],
   "source": [
    "test_loss = calc_loss(means, concs, test_labels.flatten()).sum()\n",
    "test_loss"
   ]
  },
  {
   "cell_type": "code",
   "execution_count": null,
   "id": "c41a8182-e94d-4161-99d0-ef9da9b1ecf8",
   "metadata": {},
   "outputs": [],
   "source": [
    "means, concs, rbars = jax.jit(jax.vmap(fit_von_mises))(thetass_noisy)\n",
    "test_loss_noisy = calc_loss(means, concs, test_labels_noisy.flatten()).sum()\n",
    "test_loss_noisy"
   ]
  }
 ],
 "metadata": {
  "kernelspec": {
   "display_name": "Python 3 (ipykernel)",
   "language": "python",
   "name": "python3"
  },
  "language_info": {
   "codemirror_mode": {
    "name": "ipython",
    "version": 3
   },
   "file_extension": ".py",
   "mimetype": "text/x-python",
   "name": "python",
   "nbconvert_exporter": "python",
   "pygments_lexer": "ipython3",
   "version": "3.9.17"
  }
 },
 "nbformat": 4,
 "nbformat_minor": 5
}
