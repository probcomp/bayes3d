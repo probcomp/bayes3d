{
 "cells": [
  {
   "cell_type": "code",
   "execution_count": 1,
   "id": "c9a75992-9ded-4c10-bcbe-a68d4e817125",
   "metadata": {},
   "outputs": [],
   "source": [
    "import jax.numpy as jnp\n",
    "import bayes3d as b\n",
    "import os\n",
    "import jax\n",
    "import functools\n",
    "from jax.scipy.special import logsumexp\n",
    "from functools import partial\n",
    "from tqdm import tqdm\n",
    "import matplotlib.pyplot as plt\n",
    "import bayes3d.genjax\n",
    "import genjax\n",
    "import pathlib\n",
    "\n",
    "from tensorflow_probability.substrates import jax as tfp"
   ]
  },
  {
   "cell_type": "code",
   "execution_count": 2,
   "id": "1e9cc139-2449-4532-acf4-af71ccd6a24d",
   "metadata": {},
   "outputs": [
    {
     "name": "stdout",
     "output_type": "stream",
     "text": [
      "You can open the visualizer by visiting the following URL:\n",
      "http://127.0.0.1:7005/static/\n"
     ]
    }
   ],
   "source": [
    "b.setup_visualizer()"
   ]
  },
  {
   "cell_type": "code",
   "execution_count": null,
   "id": "06d69e0e-071e-4de6-ac01-519c7cc9d28d",
   "metadata": {},
   "outputs": [],
   "source": []
  },
  {
   "cell_type": "code",
   "execution_count": 3,
   "id": "a42856ac-4db2-43cd-a4e7-6b93bc550f12",
   "metadata": {},
   "outputs": [
    {
     "name": "stderr",
     "output_type": "stream",
     "text": [
      "[E rasterize_gl.cpp:121] OpenGL version reported as 4.6\n"
     ]
    },
    {
     "name": "stdout",
     "output_type": "stream",
     "text": [
      "Increasing frame buffer size to (width, height, depth) = (128, 128, 1024)\n"
     ]
    }
   ],
   "source": [
    "intrinsics = b.Intrinsics(\n",
    "    height=100,\n",
    "    width=100,\n",
    "    fx=200.0, fy=200.0,\n",
    "    cx=50.0, cy=50.0,\n",
    "    near=0.0001, far=2.0\n",
    ")\n",
    "\n",
    "b.setup_renderer(intrinsics)\n",
    "model_dir = os.path.join(b.utils.get_assets_dir(),\"bop/ycbv/models\")\n",
    "meshes = []\n",
    "for idx in range(1,22):\n",
    "    mesh_path = os.path.join(model_dir,\"obj_\" + \"{}\".format(idx).rjust(6, '0') + \".ply\")\n",
    "    b.RENDERER.add_mesh_from_file(mesh_path, scaling_factor=1.0/1000.0)\n",
    "# b.RENDERER.add_mesh_from_file(os.path.join(b.utils.get_assets_dir(), \"sample_objs/cube.obj\"), scaling_factor=1.0/10.0)\n",
    "b.RENDERER.add_mesh_from_file(os.path.join(b.utils.get_assets_dir(), \"sample_objs/cube.obj\"), scaling_factor=1.0/1000000000.0)\n"
   ]
  },
  {
   "cell_type": "code",
   "execution_count": 4,
   "id": "f4648f31-caf1-4792-bd83-9d652a8c5e4b",
   "metadata": {},
   "outputs": [],
   "source": [
    "table_pose = b.t3d.inverse_pose(\n",
    "    b.t3d.transform_from_pos_target_up(\n",
    "        jnp.array([0.0, 0.8, .15]),\n",
    "        jnp.array([0.0, 0.0, 0.0]),\n",
    "        jnp.array([0.0, 0.0, 1.0]),\n",
    "    )\n",
    ")\n",
    "importance_jit = jax.jit(b.model.importance)"
   ]
  },
  {
   "cell_type": "code",
   "execution_count": 5,
   "id": "1c8cc54b-ca5e-4d04-a4c4-e512ae4a2a54",
   "metadata": {},
   "outputs": [],
   "source": [
    "width = 0.03\n",
    "ang = jnp.pi\n",
    "num_position_grids = 51\n",
    "num_angle_grids = 51\n",
    "contact_param_deltas = b.utils.make_translation_grid_enumeration_3d(\n",
    "    -width, -width, -ang,\n",
    "    width, width, ang,\n",
    "    num_position_grids,num_position_grids,num_angle_grids\n",
    ")"
   ]
  },
  {
   "cell_type": "code",
   "execution_count": 6,
   "id": "ace7a300-da3b-4989-847d-a0ed3a859fbd",
   "metadata": {},
   "outputs": [],
   "source": [
    "enumerators = b.make_enumerator([\"contact_params_1\"])"
   ]
  },
  {
   "cell_type": "code",
   "execution_count": 7,
   "id": "cd9a7faf-28d3-4a1b-8c12-4ca1ecebde9b",
   "metadata": {},
   "outputs": [],
   "source": [
    "key = jax.random.PRNGKey(100)"
   ]
  },
  {
   "cell_type": "code",
   "execution_count": 8,
   "id": "4d71624f-441e-49e2-9113-87fb22ea2e80",
   "metadata": {},
   "outputs": [],
   "source": [
    "def make_orientation_posterior_viz(observation, gt_contact, sampled_contacts):\n",
    "    fig = plt.figure(constrained_layout=True)\n",
    "    # fig.suptitle(f\"Variance: {variance} Outlier Prob: {outlier_prob}\")\n",
    "    widths = [1, 1]\n",
    "    heights = [2]\n",
    "    spec = fig.add_gridspec(ncols=2, nrows=1, width_ratios=widths,\n",
    "                              height_ratios=heights)\n",
    "    \n",
    "    ax = fig.add_subplot(spec[0, 0])\n",
    "    ax.imshow(jnp.array(b.get_depth_image(observation[...,2],max=1.4)))\n",
    "    ax.get_xaxis().set_visible(False)\n",
    "    ax.get_yaxis().set_visible(False)\n",
    "    ax.set_title(f\"Observation (params {gt_contact[0]:0.2f}, {gt_contact[1]:0.2f} ,{gt_contact[2]:0.2f})\")\n",
    "    # ax.set_title(f\"Observed Depth\")\n",
    "    \n",
    "    \n",
    "    ax = fig.add_subplot(spec[0, 1])\n",
    "    ax.set_aspect(1.0)\n",
    "    circ = plt.Circle((0, 0), radius=1, edgecolor='black', facecolor='None', linestyle=\"--\", linewidth=0.5)\n",
    "    ax.add_patch(circ)\n",
    "    ax.set_xlim(-1.1, 1.1)\n",
    "    ax.set_ylim(-1.1, 1.1)\n",
    "    ax.get_xaxis().set_visible(False)\n",
    "    ax.get_yaxis().set_visible(False)\n",
    "    ax.scatter(-jnp.sin(sampled_contacts[:,2]),jnp.cos(sampled_contacts[:,2]), color='red',label=\"Posterior Samples\", alpha=0.5, s=30)\n",
    "    ax.scatter(-jnp.sin(gt_contact[2]),jnp.cos(gt_contact[2]), label=\"Actual\", alpha=0.9, s=25)\n",
    "    ax.set_title(\"Posterior on Orientation (top view)\")\n",
    "    # ax.legend(fontsize=9)\n",
    "    # plt.show()\n",
    "    return fig"
   ]
  },
  {
   "cell_type": "code",
   "execution_count": 9,
   "id": "7f8acd91-b3f0-428c-8729-575d41b3b6bf",
   "metadata": {},
   "outputs": [],
   "source": [
    "def c2f_contact_update(trace_, key, contact_param_deltas):\n",
    "    contact_param_grid = contact_param_deltas + trace_[f\"contact_params_1\"]\n",
    "    scores = enumerators[3](trace_, key, contact_param_grid)\n",
    "    i = scores.argmax()\n",
    "    return enumerators[0](\n",
    "        trace_, key,\n",
    "        contact_param_grid[i]\n",
    "    )\n",
    "c2f_contact_update_jit = jax.jit(c2f_contact_update)"
   ]
  },
  {
   "cell_type": "code",
   "execution_count": 10,
   "id": "66660e30-25ba-442a-9d55-f9a9ad45139c",
   "metadata": {},
   "outputs": [],
   "source": [
    "key = jax.random.PRNGKey(100)\n",
    "key2 = jax.random.PRNGKey(1000)"
   ]
  },
  {
   "cell_type": "code",
   "execution_count": 11,
   "id": "04df8c91-4811-418e-adfc-8a022a41f913",
   "metadata": {},
   "outputs": [],
   "source": [
    "grid_params = [\n",
    "    (0.3, jnp.pi, (15,15,15)), (0.2, jnp.pi, (15,15,15)), (0.1, jnp.pi, (15,15,15)),\n",
    "    (0.05, jnp.pi/3, (15,15,15)), (0.02, jnp.pi, (9,9,51)), (0.01, jnp.pi/5, (15,15,15)), (0.01, 0.0, (31,31,1)),(0.05, 0.0, (31,31,1))\n",
    "]\n",
    "contact_param_gridding_schedule = [\n",
    "    b.utils.make_translation_grid_enumeration_3d(\n",
    "        -x, -x, -ang,\n",
    "        x, x, ang,\n",
    "        *nums\n",
    "    )\n",
    "    for (x,ang,nums) in grid_params\n",
    "]"
   ]
  },
  {
   "cell_type": "code",
   "execution_count": 12,
   "id": "679e39d4-b423-49b1-9a2f-b06a6637ef47",
   "metadata": {},
   "outputs": [],
   "source": [
    "def get_init_trace(key, img):\n",
    "    weight, trace = importance_jit(key, genjax.choice_map({\n",
    "        \"parent_0\": -1,\n",
    "        \"parent_1\": 0,\n",
    "        \"id_0\": jnp.int32(21),\n",
    "        \"id_1\": jnp.int32(13),\n",
    "        \"camera_pose\": jnp.eye(4),\n",
    "        \"root_pose_0\": table_pose,\n",
    "        \"face_parent_1\": 2,\n",
    "        \"face_child_1\": 3,\n",
    "        \"variance\": 0.0001,\n",
    "        \"outlier_prob\": 0.001,\n",
    "        \"image\": b.unproject_depth(img, intrinsics),\n",
    "        \"contact_params_1\": jnp.zeros(3)#jax.random.uniform(key, shape=(3,),minval=low, maxval=high)\n",
    "    }), (\n",
    "        jnp.arange(2),\n",
    "        jnp.arange(22),\n",
    "        jnp.array([-jnp.ones(3)*100.0, jnp.ones(3)*100.0]),\n",
    "        jnp.array([jnp.array([-0.5, -0.5, -2*jnp.pi]), jnp.array([0.5, 0.5, 2*jnp.pi])]),\n",
    "        b.RENDERER.model_box_dims, 1.0, intrinsics.fx)\n",
    "    )\n",
    "    return trace"
   ]
  },
  {
   "cell_type": "code",
   "execution_count": 13,
   "id": "ce9c4621-740f-4205-8f31-72b00596753b",
   "metadata": {},
   "outputs": [],
   "source": [
    "#train_data_file = jnp.load('train_data.npz')\n",
    "test_data_file = jnp.load('test_data_noxy.npz')\n",
    "test_imgs = test_data_file['arr_0']\n",
    "test_labels = test_data_file['arr_1']\n",
    "N_TEST = test_imgs.shape[0]"
   ]
  },
  {
   "cell_type": "code",
   "execution_count": 14,
   "id": "6d594008-b03c-41cf-808c-0e251109bca9",
   "metadata": {},
   "outputs": [],
   "source": [
    "key = jax.random.PRNGKey(0)"
   ]
  },
  {
   "cell_type": "code",
   "execution_count": 15,
   "id": "b867563b-d9c8-4a4e-bc40-708b774d7c8c",
   "metadata": {},
   "outputs": [],
   "source": [
    "def von_mises_cross_entropy(gt_theta, sampled_thetas):\n",
    "    von_mises = tfp.distributions.VonMises.experimental_fit(sampled_thetas)\n",
    "    return -von_mises.log_prob(gt_theta)"
   ]
  },
  {
   "cell_type": "code",
   "execution_count": 44,
   "id": "250b0725-ab98-4bad-8ce5-78cfe0e33f24",
   "metadata": {},
   "outputs": [],
   "source": [
    "def fit_von_mises(thetas):\n",
    "    # https://www.jmlr.org/papers/volume6/banerjee05a/banerjee05a.pdf \n",
    "    n = thetas.shape[0]\n",
    "    unit_vecs = jax.vmap(lambda theta: jnp.array([jnp.cos(theta), jnp.sin(theta)]))(thetas)\n",
    "    r = unit_vecs.sum(axis=0)\n",
    "    normr = jnp.linalg.norm(r)\n",
    "    rbar = normr / n \n",
    "    vec_mean = r / normr\n",
    "    conc0 = 1/(2 * (1 - rbar) + 1e-6)\n",
    "    f = lambda x: jax.scipy.special.i1(x)/(jax.scipy.special.i0(x) + 1e-6) - rbar\n",
    "    df = jax.grad(f)\n",
    "    conc = jax.lax.fori_loop(0, 1,\n",
    "                             lambda i, conc: conc - f(conc)/(df(conc) + 1e-6),\n",
    "                             conc0)\n",
    "    conc = conc0\n",
    "    mean = jnp.arctan2(vec_mean[1], vec_mean[0])\n",
    "    return mean, conc, rbar"
   ]
  },
  {
   "cell_type": "code",
   "execution_count": 17,
   "id": "260621dd-df25-4294-8cfb-9e4810b3cd48",
   "metadata": {},
   "outputs": [],
   "source": [
    "def get_posterior_samples(key, img):\n",
    "    img = img.reshape(100, 100)\n",
    "    tr = get_init_trace(key, img)\n",
    "    \n",
    "    key = jax.random.split(key, 1)[0]\n",
    "    path = []\n",
    "    path.append(tr)\n",
    "    for c2f_iter in range(len(contact_param_gridding_schedule)):\n",
    "        tr = c2f_contact_update_jit(tr, key, contact_param_gridding_schedule[c2f_iter])\n",
    "        path.append(tr)\n",
    "        key = jax.random.split(key, 1)[0]\n",
    "\n",
    "        \n",
    "    contact_param_grid = tr[\"contact_params_1\"] + contact_param_deltas\n",
    "    weights =  jnp.concatenate([\n",
    "        enumerators[3](tr, key, cp)\n",
    "        for cp in jnp.array_split(contact_param_grid, 60)\n",
    "    ],axis=0)\n",
    "    \n",
    "    key = jax.random.split(key, 1)[0]\n",
    "    normalized_weights = b.utils.normalize_log_scores(weights)\n",
    "    sampled_indices = jax.random.choice(key ,jnp.arange(normalized_weights.shape[0]), shape=(1000,), p=normalized_weights)\n",
    "    sampled_contact_params = contact_param_grid[sampled_indices]\n",
    "\n",
    "    thetas = sampled_contact_params[:, 2]\n",
    "\n",
    "    return thetas"
   ]
  },
  {
   "cell_type": "code",
   "execution_count": 18,
   "id": "e7c0935f-7c2e-4086-a5dc-0a46ad8a3b5c",
   "metadata": {},
   "outputs": [
    {
     "name": "stderr",
     "output_type": "stream",
     "text": [
      "296it [11:21,  2.30s/it]\n"
     ]
    },
    {
     "ename": "KeyboardInterrupt",
     "evalue": "",
     "output_type": "error",
     "traceback": [
      "\u001b[0;31m---------------------------------------------------------------------------\u001b[0m",
      "\u001b[0;31mKeyboardInterrupt\u001b[0m                         Traceback (most recent call last)",
      "Cell \u001b[0;32mIn[18], line 3\u001b[0m\n\u001b[1;32m      1\u001b[0m thetass \u001b[38;5;241m=\u001b[39m []\n\u001b[1;32m      2\u001b[0m \u001b[38;5;28;01mfor\u001b[39;00m (i, key_) \u001b[38;5;129;01min\u001b[39;00m tqdm(\u001b[38;5;28mzip\u001b[39m(\u001b[38;5;28mrange\u001b[39m(N_TEST), jax\u001b[38;5;241m.\u001b[39mrandom\u001b[38;5;241m.\u001b[39msplit(key, N_TEST))):\n\u001b[0;32m----> 3\u001b[0m     thetass\u001b[38;5;241m.\u001b[39mappend(\u001b[43mget_posterior_samples\u001b[49m\u001b[43m(\u001b[49m\u001b[43mkey_\u001b[49m\u001b[43m,\u001b[49m\u001b[43m \u001b[49m\u001b[43mtest_imgs\u001b[49m\u001b[43m[\u001b[49m\u001b[43mi\u001b[49m\u001b[43m,\u001b[49m\u001b[43m \u001b[49m\u001b[43m:\u001b[49m\u001b[43m,\u001b[49m\u001b[43m \u001b[49m\u001b[43m:\u001b[49m\u001b[43m,\u001b[49m\u001b[43m \u001b[49m\u001b[38;5;241;43m0\u001b[39;49m\u001b[43m]\u001b[49m\u001b[43m)\u001b[49m)\n\u001b[1;32m      4\u001b[0m thetass \u001b[38;5;241m=\u001b[39m jnp\u001b[38;5;241m.\u001b[39mvstack(thetas)\n",
      "Cell \u001b[0;32mIn[17], line 15\u001b[0m, in \u001b[0;36mget_posterior_samples\u001b[0;34m(key, img)\u001b[0m\n\u001b[1;32m     11\u001b[0m     key \u001b[38;5;241m=\u001b[39m jax\u001b[38;5;241m.\u001b[39mrandom\u001b[38;5;241m.\u001b[39msplit(key, \u001b[38;5;241m1\u001b[39m)[\u001b[38;5;241m0\u001b[39m]\n\u001b[1;32m     14\u001b[0m contact_param_grid \u001b[38;5;241m=\u001b[39m tr[\u001b[38;5;124m\"\u001b[39m\u001b[38;5;124mcontact_params_1\u001b[39m\u001b[38;5;124m\"\u001b[39m] \u001b[38;5;241m+\u001b[39m contact_param_deltas\n\u001b[0;32m---> 15\u001b[0m weights \u001b[38;5;241m=\u001b[39m  jnp\u001b[38;5;241m.\u001b[39mconcatenate([\n\u001b[1;32m     16\u001b[0m     enumerators[\u001b[38;5;241m3\u001b[39m](tr, key, cp)\n\u001b[1;32m     17\u001b[0m     \u001b[38;5;28;01mfor\u001b[39;00m cp \u001b[38;5;129;01min\u001b[39;00m jnp\u001b[38;5;241m.\u001b[39marray_split(contact_param_grid, \u001b[38;5;241m60\u001b[39m)\n\u001b[1;32m     18\u001b[0m ],axis\u001b[38;5;241m=\u001b[39m\u001b[38;5;241m0\u001b[39m)\n\u001b[1;32m     20\u001b[0m key \u001b[38;5;241m=\u001b[39m jax\u001b[38;5;241m.\u001b[39mrandom\u001b[38;5;241m.\u001b[39msplit(key, \u001b[38;5;241m1\u001b[39m)[\u001b[38;5;241m0\u001b[39m]\n\u001b[1;32m     21\u001b[0m normalized_weights \u001b[38;5;241m=\u001b[39m b\u001b[38;5;241m.\u001b[39mutils\u001b[38;5;241m.\u001b[39mnormalize_log_scores(weights)\n",
      "Cell \u001b[0;32mIn[17], line 16\u001b[0m, in \u001b[0;36m<listcomp>\u001b[0;34m(.0)\u001b[0m\n\u001b[1;32m     11\u001b[0m     key \u001b[38;5;241m=\u001b[39m jax\u001b[38;5;241m.\u001b[39mrandom\u001b[38;5;241m.\u001b[39msplit(key, \u001b[38;5;241m1\u001b[39m)[\u001b[38;5;241m0\u001b[39m]\n\u001b[1;32m     14\u001b[0m contact_param_grid \u001b[38;5;241m=\u001b[39m tr[\u001b[38;5;124m\"\u001b[39m\u001b[38;5;124mcontact_params_1\u001b[39m\u001b[38;5;124m\"\u001b[39m] \u001b[38;5;241m+\u001b[39m contact_param_deltas\n\u001b[1;32m     15\u001b[0m weights \u001b[38;5;241m=\u001b[39m  jnp\u001b[38;5;241m.\u001b[39mconcatenate([\n\u001b[0;32m---> 16\u001b[0m     \u001b[43menumerators\u001b[49m\u001b[43m[\u001b[49m\u001b[38;5;241;43m3\u001b[39;49m\u001b[43m]\u001b[49m\u001b[43m(\u001b[49m\u001b[43mtr\u001b[49m\u001b[43m,\u001b[49m\u001b[43m \u001b[49m\u001b[43mkey\u001b[49m\u001b[43m,\u001b[49m\u001b[43m \u001b[49m\u001b[43mcp\u001b[49m\u001b[43m)\u001b[49m\n\u001b[1;32m     17\u001b[0m     \u001b[38;5;28;01mfor\u001b[39;00m cp \u001b[38;5;129;01min\u001b[39;00m jnp\u001b[38;5;241m.\u001b[39marray_split(contact_param_grid, \u001b[38;5;241m60\u001b[39m)\n\u001b[1;32m     18\u001b[0m ],axis\u001b[38;5;241m=\u001b[39m\u001b[38;5;241m0\u001b[39m)\n\u001b[1;32m     20\u001b[0m key \u001b[38;5;241m=\u001b[39m jax\u001b[38;5;241m.\u001b[39mrandom\u001b[38;5;241m.\u001b[39msplit(key, \u001b[38;5;241m1\u001b[39m)[\u001b[38;5;241m0\u001b[39m]\n\u001b[1;32m     21\u001b[0m normalized_weights \u001b[38;5;241m=\u001b[39m b\u001b[38;5;241m.\u001b[39mutils\u001b[38;5;241m.\u001b[39mnormalize_log_scores(weights)\n",
      "\u001b[0;31mKeyboardInterrupt\u001b[0m: "
     ]
    }
   ],
   "source": [
    "thetass = []\n",
    "for (i, key_) in tqdm(zip(range(N_TEST), jax.random.split(key, N_TEST))):\n",
    "    thetass.append(get_posterior_samples(key_, test_imgs[i, :, :, 0]))\n",
    "thetass = jnp.vstack(thetass)"
   ]
  },
  {
   "cell_type": "code",
   "execution_count": 21,
   "id": "00ad5410-fca9-40bc-a8b6-1abe300737a9",
   "metadata": {},
   "outputs": [
    {
     "data": {
      "text/plain": [
       "(296, 1000)"
      ]
     },
     "execution_count": 21,
     "metadata": {},
     "output_type": "execute_result"
    }
   ],
   "source": [
    "thetass = jnp.vstack(thetass)\n",
    "thetass.shape"
   ]
  },
  {
   "cell_type": "code",
   "execution_count": 45,
   "id": "935e4468-caef-403d-81c3-873c1a27a9aa",
   "metadata": {},
   "outputs": [],
   "source": [
    "means, concs, rbars = jax.jit(jax.vmap(fit_von_mises))(thetass)"
   ]
  },
  {
   "cell_type": "code",
   "execution_count": 46,
   "id": "7d5c8a5c-fd67-4873-9b15-a4e9f76666ba",
   "metadata": {},
   "outputs": [
    {
     "data": {
      "text/plain": [
       "Array([8.21899033e+00, 1.00000000e+06, 7.33503723e+00, 3.06838242e+04,\n",
       "       1.00000000e+06, 1.00000000e+06, 1.91145075e+06, 5.78768750e+03,\n",
       "       5.24013424e+00, 1.31305725e+06, 1.00000000e+06, 1.04937793e+04,\n",
       "       8.52483177e+00, 3.22590552e+03, 7.36578875e+05, 1.26070811e+04,\n",
       "       1.00000000e+06, 1.14901514e+01, 5.97527695e+04, 7.57136011e+00,\n",
       "       1.00000000e+06, 8.81280041e+00, 1.31305725e+06, 7.06380320e+00,\n",
       "       1.08767185e+01, 1.00000000e+06, 1.58159658e+04, 3.06838242e+04,\n",
       "       6.01814453e+04, 5.89134766e+04, 7.83148861e+00, 1.00000000e+06,\n",
       "       3.11394297e+04, 2.59597607e+03, 1.56730089e+01, 7.94835986e+03,\n",
       "       8.93487938e+05, 1.04937793e+04, 1.18600025e+01, 5.89134766e+04,\n",
       "       7.14086723e+00, 8.93487938e+05, 1.31305725e+06, 6.01814453e+04,\n",
       "       1.25504951e+04, 1.15371656e+01, 1.00000000e+06, 6.10575195e+04,\n",
       "       1.31305725e+06, 5.80370459e+03, 4.91024609e+03, 1.00000000e+06,\n",
       "       3.10242656e+04, 9.06495703e+03, 8.93487938e+05, 1.14216290e+01,\n",
       "       1.33995752e+01, 6.06163164e+04, 2.07953516e+04, 1.00000000e+06,\n",
       "       7.07667383e+03, 1.00000000e+06, 8.93487938e+05, 8.69828987e+00,\n",
       "       1.00000000e+06, 8.93487938e+05, 1.00000000e+06, 1.10284653e+01,\n",
       "       3.07964707e+04, 8.93487938e+05, 1.00000000e+06, 6.80103350e+00,\n",
       "       1.31305725e+06, 1.31305725e+06, 8.07481438e+05, 7.36578875e+05,\n",
       "       7.74486017e+00, 3.39017383e+03, 7.91834863e+03, 1.31305725e+06,\n",
       "       5.93301562e+04, 1.00000000e+06, 5.97527695e+04, 1.00000000e+06,\n",
       "       1.07466707e+01, 1.00000000e+06, 5.89134766e+04, 1.22285347e+01,\n",
       "       1.31305725e+06, 1.00000000e+06, 8.71376801e+00, 1.00000000e+06,\n",
       "       1.31305725e+06, 1.00000000e+06, 1.31305725e+06, 8.93487938e+05,\n",
       "       1.91145075e+06, 7.05287451e+03, 1.91145075e+06, 1.00000000e+06,\n",
       "       7.36578875e+05, 7.36578875e+05, 9.13456059e+00, 3.12554551e+04,\n",
       "       1.00000000e+06, 1.31305725e+06, 3.57663867e+03, 2.49632080e+03,\n",
       "       9.79939365e+00, 1.00000000e+06, 1.01050234e+01, 7.36578875e+05,\n",
       "       6.36760352e+03, 1.31305725e+06, 3.22466528e+03, 8.93487938e+05,\n",
       "       1.00000000e+06, 1.31305725e+06, 6.06163164e+04, 2.07953516e+04,\n",
       "       2.00090656e+01, 1.00000000e+06, 6.01814453e+04, 1.31305725e+06,\n",
       "       5.89134766e+04, 1.00000000e+06, 8.93487938e+05, 1.00000000e+06,\n",
       "       7.84987593e+00, 1.31305725e+06, 9.57637119e+00, 8.93487938e+05,\n",
       "       1.00000000e+06, 1.13290615e+01, 5.89134766e+04, 9.18645763e+00,\n",
       "       3.11394297e+04, 1.04938488e+01, 7.92583008e+03, 1.73724537e+01,\n",
       "       2.06418379e+04, 8.07481438e+05, 2.10484058e+03, 8.93487938e+05,\n",
       "       1.26070811e+04, 7.93332617e+03, 1.31305725e+06, 6.01814453e+04,\n",
       "       8.20013332e+00, 5.89134766e+04, 3.06838242e+04, 9.04540723e+03,\n",
       "       1.00000000e+06, 7.04694971e+03, 1.25881621e+04, 1.00000000e+06,\n",
       "       1.04274654e+01, 2.32410767e+03, 1.00000000e+06, 1.31305725e+06,\n",
       "       2.06927578e+04, 1.17488766e+01, 1.77710107e+03, 2.81365796e+03,\n",
       "       5.93301562e+04, 3.06838242e+04, 9.73112488e+02, 1.10606747e+01,\n",
       "       1.31305725e+06, 1.31305725e+06, 8.93487938e+05, 1.31305725e+06,\n",
       "       1.31305725e+06, 8.93487938e+05, 1.23988867e+01, 5.93301562e+04,\n",
       "       3.12554551e+04, 1.14856529e+01, 8.93487938e+05, 1.30913801e+01,\n",
       "       1.00000000e+06, 1.00000000e+06, 1.31305725e+06, 6.01814453e+04,\n",
       "       6.01814453e+04, 5.93301562e+04, 4.27469287e+03, 5.97527695e+04,\n",
       "       2.06927578e+04, 8.93487938e+05, 1.31305725e+06, 8.45949554e+00,\n",
       "       1.00000000e+06, 1.91145075e+06, 2.06927578e+04, 1.31305725e+06,\n",
       "       7.94083545e+03, 1.31305725e+06, 1.45707808e+01, 8.93487938e+05,\n",
       "       5.79969189e+03, 9.03908443e+00, 5.32140869e+03, 1.00000000e+06,\n",
       "       5.97527695e+04, 8.93487938e+05, 8.93487938e+05, 1.05465527e+04,\n",
       "       1.31305725e+06, 1.31305725e+06, 6.10575195e+04, 7.74517488e+00,\n",
       "       8.07481438e+05, 9.50520992e+00, 1.31305725e+06, 1.00000000e+06,\n",
       "       1.00000000e+06, 5.97527695e+04, 1.25693008e+04, 9.09704590e+00,\n",
       "       1.92647205e+03, 7.08264844e+03, 8.07481438e+05, 9.21816540e+00,\n",
       "       2.08989688e+04, 1.05333096e+04, 9.02594238e+03, 3.22963135e+03,\n",
       "       1.00000000e+06, 1.00000000e+06, 8.93487938e+05, 1.31305725e+06,\n",
       "       4.96855713e+02, 5.18267870e+00, 1.00000000e+06, 9.30557632e+00,\n",
       "       5.93301562e+04, 1.31305725e+06, 2.81554688e+03, 1.00000000e+06,\n",
       "       6.67356586e+00, 3.06838242e+04, 1.31305725e+06, 5.93301562e+04,\n",
       "       1.00000000e+06, 1.00000000e+06, 1.31305725e+06, 1.00000000e+06,\n",
       "       1.00000000e+06, 6.80783319e+00, 9.92707253e+00, 1.00000000e+06,\n",
       "       1.00000000e+06, 5.31466602e+03, 2.59437036e+03, 9.98416328e+00,\n",
       "       1.99095268e+01, 3.06838242e+04, 1.00000000e+06, 8.93487938e+05,\n",
       "       8.07481438e+05, 1.08891010e+01, 1.91145075e+06, 1.00000000e+06,\n",
       "       5.78369727e+03, 6.37244092e+03, 8.93487938e+05, 1.00000000e+06,\n",
       "       9.18795681e+00, 1.31305725e+06, 1.31305725e+06, 5.93301562e+04,\n",
       "       1.91145075e+06, 6.01814453e+04, 7.36578875e+05, 1.05598291e+04,\n",
       "       8.07481438e+05, 7.05287451e+03, 8.93487938e+05, 8.93487938e+05,\n",
       "       7.36578875e+05, 1.07305183e+01, 1.00000000e+06, 7.87981319e+00,\n",
       "       1.91145075e+06, 1.06567965e+01, 8.93487938e+05, 6.10575195e+04,\n",
       "       5.71338074e+02, 1.00000000e+06, 1.31305725e+06, 8.07481438e+05,\n",
       "       8.93487938e+05, 1.00000000e+06, 1.00000000e+06, 7.36578875e+05],      dtype=float32)"
      ]
     },
     "execution_count": 46,
     "metadata": {},
     "output_type": "execute_result"
    }
   ],
   "source": [
    "concs"
   ]
  },
  {
   "cell_type": "code",
   "execution_count": 23,
   "id": "d02bd97a-ad94-4808-94df-573cb60566dd",
   "metadata": {},
   "outputs": [
    {
     "data": {
      "text/plain": [
       "Array(-271.65796, dtype=float32)"
      ]
     },
     "execution_count": 23,
     "metadata": {},
     "output_type": "execute_result"
    }
   ],
   "source": [
    "von_mises = tfp.distributions.VonMises\n",
    "jax.jit(jax.vmap(lambda mean, conc, label: -von_mises(loc=mean, concentration=conc).log_prob(label)))(means, concs, test_labels.flatten()[:296]).sum()"
   ]
  },
  {
   "cell_type": "code",
   "execution_count": 25,
   "id": "e476876a-5c07-4be4-a994-48cba2e86e6e",
   "metadata": {},
   "outputs": [],
   "source": [
    "aa = _"
   ]
  },
  {
   "cell_type": "code",
   "execution_count": 26,
   "id": "9901b1b5-db80-444f-af65-9ccec3814e2f",
   "metadata": {},
   "outputs": [
    {
     "data": {
      "text/plain": [
       "Array(-1835.5267, dtype=float32)"
      ]
     },
     "execution_count": 26,
     "metadata": {},
     "output_type": "execute_result"
    }
   ],
   "source": [
    "aa / 296 * 2000"
   ]
  },
  {
   "cell_type": "code",
   "execution_count": null,
   "id": "e5848059-257c-4836-a84e-8c6679f8bd21",
   "metadata": {},
   "outputs": [],
   "source": []
  }
 ],
 "metadata": {
  "kernelspec": {
   "display_name": "Python 3 (ipykernel)",
   "language": "python",
   "name": "python3"
  },
  "language_info": {
   "codemirror_mode": {
    "name": "ipython",
    "version": 3
   },
   "file_extension": ".py",
   "mimetype": "text/x-python",
   "name": "python",
   "nbconvert_exporter": "python",
   "pygments_lexer": "ipython3",
   "version": "3.9.17"
  }
 },
 "nbformat": 4,
 "nbformat_minor": 5
}
