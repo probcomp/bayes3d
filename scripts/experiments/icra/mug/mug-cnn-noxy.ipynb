{
 "cells": [
  {
   "cell_type": "code",
   "execution_count": 1,
   "id": "1477c737-919d-4445-bc46-c139b9a3febf",
   "metadata": {},
   "outputs": [],
   "source": [
    "import bayes3d as b\n",
    "import os\n",
    "import sys\n",
    "import jax.numpy as jnp\n",
    "import jax\n",
    "import bayes3d.genjax\n",
    "import genjax\n",
    "import matplotlib\n",
    "from tqdm import tqdm\n",
    "import matplotlib.pyplot as plt"
   ]
  },
  {
   "cell_type": "code",
   "execution_count": 2,
   "id": "d2db391b-3dfd-4b03-9e28-ae49df8839aa",
   "metadata": {},
   "outputs": [],
   "source": [
    "import flax.linen as nn\n",
    "from flax.training import train_state\n",
    "import flax\n",
    "import optax"
   ]
  },
  {
   "cell_type": "code",
   "execution_count": 3,
   "id": "af096265-4e27-4ac7-ac04-0d633c8bbe16",
   "metadata": {},
   "outputs": [],
   "source": [
    "import pickle\n",
    "from typing import Any, Union"
   ]
  },
  {
   "cell_type": "markdown",
   "id": "27824992-5bbb-4581-b5f5-43b8a2c73d5b",
   "metadata": {},
   "source": [
    "## CNN Inference"
   ]
  },
  {
   "cell_type": "code",
   "execution_count": 4,
   "id": "6ef7103a-c828-4b5e-806d-ee73ae10387f",
   "metadata": {},
   "outputs": [],
   "source": [
    "class BaseCNN(nn.Module):\n",
    "    range_min: Union[float, jnp.ndarray]\n",
    "    range_max: Union[float, jnp.ndarray]\n",
    "\n",
    "    @nn.compact\n",
    "    def __call__(self, imgs, train: bool): # XXX todo: make sure the sizes all line up\n",
    "        x = nn.Conv(64, (10, 10), strides=(3, 3), padding='VALID')(imgs)\n",
    "        x = nn.BatchNorm(use_running_average=not train)(x)\n",
    "        x = nn.activation.relu(x)\n",
    "        x = nn.max_pool(x, (3, 3), strides=(2, 2))\n",
    "        \n",
    "        x = nn.Conv(256, (5, 5), strides=(2, 2), padding='VALID')(x)\n",
    "        x = nn.BatchNorm(use_running_average=not train)(x)\n",
    "        x = nn.activation.relu(x)\n",
    "        x = nn.max_pool(x, (2, 2), strides=(2, 2))\n",
    "        \n",
    "        x = nn.Dense(1024)(x.reshape(imgs.shape[0], -1))\n",
    "        x = nn.BatchNorm(use_running_average=not train)(x)\n",
    "        x = nn.activation.relu(x)\n",
    "        \n",
    "        #x = nn.Dense(1024)(x)\n",
    "        #x = nn.BatchNorm(use_running_average=not train)(x)\n",
    "        #x = nn.activation.leaky_relu(x)\n",
    "\n",
    "        # x = nn.Dropout(rate=0.5, deterministic=not train)(x)\n",
    "        \n",
    "        # x = nn.Dense(1024)(x)\n",
    "        # x = nn.BatchNorm(use_running_average=not train)(x)\n",
    "        # x = nn.activation.leaky_relu(x)\n",
    "        \n",
    "        # x = nn.Dense(1024)(x)\n",
    "        # x = nn.BatchNorm(use_running_average=not train)(x)\n",
    "        # x = nn.activation.leaky_relu(x)\n",
    "        \n",
    "        # x = nn.Dropout(rate=0.5, deterministic=not train)(x)\n",
    "        \n",
    "        x = nn.Dense(576)(x)\n",
    "        x = nn.BatchNorm(use_running_average=not train)(x)\n",
    "        x = nn.activation.relu(x)\n",
    "        \n",
    "        # x = nn.Dropout(rate=0.5, deterministic=not train)(x)\n",
    "\n",
    "        x = nn.Dense(192)(x)\n",
    "        x = nn.BatchNorm(use_running_average=not train)(x)\n",
    "        x = nn.activation.relu(x)\n",
    "\n",
    "        x = nn.Dense(24)(x)\n",
    "        x = nn.BatchNorm(use_running_average=not train)(x)\n",
    "        x = nn.activation.relu(x)\n",
    "\n",
    "        x = nn.Dense(1)(x)\n",
    "        shift = (self.range_max + self.range_min) / 2\n",
    "        scale = (self.range_max - self.range_min) / 2\n",
    "        x = shift + scale * nn.soft_sign(x)\n",
    "        return x"
   ]
  },
  {
   "cell_type": "code",
   "execution_count": 5,
   "id": "093a3f0b-69b8-44cd-82d3-4ec20dd03a82",
   "metadata": {},
   "outputs": [],
   "source": [
    "class SceneModel(nn.Module):\n",
    "    mean_model: nn.Module\n",
    "    std_model: nn.Module\n",
    "\n",
    "    @nn.compact\n",
    "    def __call__(self, imgs, train: bool):\n",
    "        means = self.mean_model(imgs, train)\n",
    "        stds = self.std_model(imgs, train)\n",
    "        return means, stds"
   ]
  },
  {
   "cell_type": "code",
   "execution_count": 6,
   "id": "1bdf044e-ca96-444e-936c-12ba302d9132",
   "metadata": {},
   "outputs": [],
   "source": [
    "cnn = SceneModel(mean_model=BaseCNN(0, 2*jnp.pi), std_model=BaseCNN(0, 5))\n",
    "params_key = jax.random.PRNGKey(0)\n",
    "rngs = {'params': params_key} \n",
    "#cnn.tabulate(rngs, jnp.zeros((1, 100, 100, 1)), False, console_kwargs={'force_jupyter': True})"
   ]
  },
  {
   "cell_type": "code",
   "execution_count": 7,
   "id": "f85f9613-9a89-430c-ba5d-7deced36dbac",
   "metadata": {},
   "outputs": [],
   "source": [
    "class TrainState(train_state.TrainState):\n",
    "    batch_stats: Any"
   ]
  },
  {
   "cell_type": "code",
   "execution_count": 8,
   "id": "ed8dbb6c-96e4-4f05-89bb-37dfb597cd98",
   "metadata": {},
   "outputs": [],
   "source": [
    "def create_train_state(module, key, learning_rate, momentum):\n",
    "    \"\"\"Creates an initial `TrainState`.\"\"\"\n",
    "    #params_key, dropout_key = jax.random.split(key, 2)\n",
    "    # initialize parameters by passing a template image\n",
    "    variables = module.init(key,#, 'dropout': dropout_key},\n",
    "                            jnp.ones([BATCH_SIZE, 100, 100, 1]), train=False)\n",
    "    params, batch_stats = variables['params'], variables['batch_stats']\n",
    "    tx = optax.sgd(learning_rate, momentum)\n",
    "    return TrainState.create(apply_fn=module.apply, params=params, tx=tx,\n",
    "                             batch_stats=batch_stats)#, dropout_key=dropout_key)"
   ]
  },
  {
   "cell_type": "code",
   "execution_count": 9,
   "id": "ac76ed95-6321-4e22-bcab-38ca9c61e474",
   "metadata": {},
   "outputs": [],
   "source": [
    "normal_logpdf = jax.scipy.stats.norm.logpdf\n",
    "truncnormal_logpdf = jax.scipy.stats.truncnorm.logpdf\n",
    "beta_logpdf = jax.scipy.stats.beta.logpdf"
   ]
  },
  {
   "cell_type": "code",
   "execution_count": 10,
   "id": "d9d94c23-8182-4379-aba7-81ebc8a5fe39",
   "metadata": {},
   "outputs": [],
   "source": [
    "@jax.jit\n",
    "def train_step(state, img_batch, label_batch): \n",
    "    \"\"\"Train for a single step.\"\"\"\n",
    "    def loss_fn(params):\n",
    "        (means, stds), updates = state.apply_fn({'params': params, 'batch_stats': state.batch_stats},\n",
    "                                                img_batch,\n",
    "                                                train=True,\n",
    "                                                mutable=['batch_stats'])\n",
    "        loss = -normal_logpdf(label_batch, loc=means, scale=stds).sum()\n",
    "        #loss = jnp.sum((means - label_batch)**2)\n",
    "        return loss, updates\n",
    "    grad_fn = jax.value_and_grad(loss_fn, has_aux=True)\n",
    "    (loss, updates), grads = grad_fn(state.params)\n",
    "    state = state.apply_gradients(grads=grads)\n",
    "    state = state.replace(batch_stats=updates['batch_stats'])\n",
    "    return state, loss"
   ]
  },
  {
   "cell_type": "code",
   "execution_count": 11,
   "id": "7bf7de21-c52e-4a9d-8c90-a3bc74e34cef",
   "metadata": {},
   "outputs": [],
   "source": [
    "train_data_file = jnp.load('train_data_noxy_1e5.npz')\n",
    "test_data_file = jnp.load('test_data_noxy.npz')"
   ]
  },
  {
   "cell_type": "code",
   "execution_count": 12,
   "id": "c81a6966-7f35-4f6a-b77d-f4b1558d046f",
   "metadata": {},
   "outputs": [],
   "source": [
    "train_imgs = train_data_file['arr_0']\n",
    "train_labels = train_data_file['arr_1']"
   ]
  },
  {
   "cell_type": "code",
   "execution_count": 13,
   "id": "8718f500-0574-4627-8147-7115768531a6",
   "metadata": {},
   "outputs": [
    {
     "data": {
      "text/plain": [
       "((100000, 100, 100, 1), (100000, 1))"
      ]
     },
     "execution_count": 13,
     "metadata": {},
     "output_type": "execute_result"
    }
   ],
   "source": [
    "train_imgs.shape, train_labels.shape"
   ]
  },
  {
   "cell_type": "code",
   "execution_count": 14,
   "id": "59c49c57-5041-4dc3-aa11-6fc5b10a77ee",
   "metadata": {},
   "outputs": [],
   "source": [
    "test_imgs = test_data_file['arr_0']\n",
    "test_labels = test_data_file['arr_1']"
   ]
  },
  {
   "cell_type": "code",
   "execution_count": 15,
   "id": "4d78ebca-432e-40ca-9d66-1bafe84e8e2c",
   "metadata": {},
   "outputs": [
    {
     "data": {
      "text/plain": [
       "((2000, 100, 100, 1), (2000, 1))"
      ]
     },
     "execution_count": 15,
     "metadata": {},
     "output_type": "execute_result"
    }
   ],
   "source": [
    "test_imgs.shape, test_labels.shape"
   ]
  },
  {
   "cell_type": "code",
   "execution_count": 16,
   "id": "c764c89b-a127-4ccf-b731-3122c945e097",
   "metadata": {},
   "outputs": [],
   "source": [
    "N_TRAIN = train_imgs.shape[0]\n",
    "N_TEST = test_imgs.shape[0]\n",
    "N_EPOCHS = 50\n",
    "BATCH_SIZE = 10 #20\n",
    "LEARNING_RATE = 1e-6 #1e-8\n",
    "MOMENTUM = 0.9\n",
    "assert N_TRAIN % BATCH_SIZE == 0\n",
    "assert N_TEST % BATCH_SIZE == 0"
   ]
  },
  {
   "cell_type": "code",
   "execution_count": 17,
   "id": "d0d11caa-3935-4ba5-acf3-6fe685de7bca",
   "metadata": {},
   "outputs": [],
   "source": [
    "state = create_train_state(cnn, jax.random.PRNGKey(0), LEARNING_RATE, MOMENTUM)"
   ]
  },
  {
   "cell_type": "code",
   "execution_count": 18,
   "id": "2dc04fea-c89a-49f4-be30-eedc8ae10579",
   "metadata": {},
   "outputs": [],
   "source": [
    "shuffling_key = jax.random.PRNGKey(1)"
   ]
  },
  {
   "cell_type": "code",
   "execution_count": 19,
   "id": "58289c66-acac-4942-bf14-c503a66a911a",
   "metadata": {},
   "outputs": [],
   "source": [
    "training_losses = []"
   ]
  },
  {
   "cell_type": "code",
   "execution_count": 20,
   "id": "36c65902-e84b-4d87-937c-089ec9c3694b",
   "metadata": {},
   "outputs": [
    {
     "name": "stderr",
     "output_type": "stream",
     "text": [
      "100%|███████████████████████████████████████████████████████████████████████████████████████████████████████████████████████████████████████████████████| 10000/10000 [00:23<00:00, 427.03it/s]\n"
     ]
    },
    {
     "name": "stdout",
     "output_type": "stream",
     "text": [
      "epoch: 0, average loss: 12.786466598510742, train loss: not calculated, test loss: not calculated\n"
     ]
    },
    {
     "name": "stderr",
     "output_type": "stream",
     "text": [
      "100%|███████████████████████████████████████████████████████████████████████████████████████████████████████████████████████████████████████████████████| 10000/10000 [00:20<00:00, 490.76it/s]\n"
     ]
    },
    {
     "name": "stdout",
     "output_type": "stream",
     "text": [
      "epoch: 1, average loss: 8.318105697631836, train loss: not calculated, test loss: not calculated\n"
     ]
    },
    {
     "name": "stderr",
     "output_type": "stream",
     "text": [
      "100%|███████████████████████████████████████████████████████████████████████████████████████████████████████████████████████████████████████████████████| 10000/10000 [00:20<00:00, 488.60it/s]\n"
     ]
    },
    {
     "name": "stdout",
     "output_type": "stream",
     "text": [
      "epoch: 2, average loss: 5.633586406707764, train loss: not calculated, test loss: not calculated\n"
     ]
    },
    {
     "name": "stderr",
     "output_type": "stream",
     "text": [
      "100%|███████████████████████████████████████████████████████████████████████████████████████████████████████████████████████████████████████████████████| 10000/10000 [00:20<00:00, 486.17it/s]\n"
     ]
    },
    {
     "name": "stdout",
     "output_type": "stream",
     "text": [
      "epoch: 3, average loss: 3.544090509414673, train loss: not calculated, test loss: not calculated\n"
     ]
    },
    {
     "name": "stderr",
     "output_type": "stream",
     "text": [
      "100%|███████████████████████████████████████████████████████████████████████████████████████████████████████████████████████████████████████████████████| 10000/10000 [00:20<00:00, 487.76it/s]\n"
     ]
    },
    {
     "name": "stdout",
     "output_type": "stream",
     "text": [
      "epoch: 4, average loss: 2.0032870769500732, train loss: not calculated, test loss: not calculated\n"
     ]
    },
    {
     "name": "stderr",
     "output_type": "stream",
     "text": [
      "100%|███████████████████████████████████████████████████████████████████████████████████████████████████████████████████████████████████████████████████| 10000/10000 [00:20<00:00, 485.97it/s]\n"
     ]
    },
    {
     "name": "stdout",
     "output_type": "stream",
     "text": [
      "epoch: 5, average loss: 0.8313812017440796, train loss: not calculated, test loss: not calculated\n"
     ]
    },
    {
     "name": "stderr",
     "output_type": "stream",
     "text": [
      "100%|███████████████████████████████████████████████████████████████████████████████████████████████████████████████████████████████████████████████████| 10000/10000 [00:20<00:00, 488.58it/s]\n"
     ]
    },
    {
     "name": "stdout",
     "output_type": "stream",
     "text": [
      "epoch: 6, average loss: -0.3140430152416229, train loss: not calculated, test loss: not calculated\n"
     ]
    },
    {
     "name": "stderr",
     "output_type": "stream",
     "text": [
      "100%|███████████████████████████████████████████████████████████████████████████████████████████████████████████████████████████████████████████████████| 10000/10000 [00:20<00:00, 485.34it/s]\n"
     ]
    },
    {
     "name": "stdout",
     "output_type": "stream",
     "text": [
      "epoch: 7, average loss: -1.128063678741455, train loss: not calculated, test loss: not calculated\n"
     ]
    },
    {
     "name": "stderr",
     "output_type": "stream",
     "text": [
      "100%|███████████████████████████████████████████████████████████████████████████████████████████████████████████████████████████████████████████████████| 10000/10000 [00:20<00:00, 485.77it/s]\n"
     ]
    },
    {
     "name": "stdout",
     "output_type": "stream",
     "text": [
      "epoch: 8, average loss: -1.9109303951263428, train loss: not calculated, test loss: not calculated\n"
     ]
    },
    {
     "name": "stderr",
     "output_type": "stream",
     "text": [
      "100%|███████████████████████████████████████████████████████████████████████████████████████████████████████████████████████████████████████████████████| 10000/10000 [00:20<00:00, 480.02it/s]\n"
     ]
    },
    {
     "name": "stdout",
     "output_type": "stream",
     "text": [
      "epoch: 9, average loss: -2.612074136734009, train loss: not calculated, test loss: not calculated\n"
     ]
    },
    {
     "name": "stderr",
     "output_type": "stream",
     "text": [
      "100%|███████████████████████████████████████████████████████████████████████████████████████████████████████████████████████████████████████████████████| 10000/10000 [00:20<00:00, 489.73it/s]\n"
     ]
    },
    {
     "name": "stdout",
     "output_type": "stream",
     "text": [
      "epoch: 10, average loss: -3.253349781036377, train loss: not calculated, test loss: not calculated\n"
     ]
    },
    {
     "name": "stderr",
     "output_type": "stream",
     "text": [
      "100%|███████████████████████████████████████████████████████████████████████████████████████████████████████████████████████████████████████████████████| 10000/10000 [00:20<00:00, 491.16it/s]\n"
     ]
    },
    {
     "name": "stdout",
     "output_type": "stream",
     "text": [
      "epoch: 11, average loss: -3.9981064796447754, train loss: not calculated, test loss: not calculated\n"
     ]
    },
    {
     "name": "stderr",
     "output_type": "stream",
     "text": [
      "100%|███████████████████████████████████████████████████████████████████████████████████████████████████████████████████████████████████████████████████| 10000/10000 [00:20<00:00, 487.47it/s]\n"
     ]
    },
    {
     "name": "stdout",
     "output_type": "stream",
     "text": [
      "epoch: 12, average loss: -4.771317958831787, train loss: not calculated, test loss: not calculated\n"
     ]
    },
    {
     "name": "stderr",
     "output_type": "stream",
     "text": [
      "100%|███████████████████████████████████████████████████████████████████████████████████████████████████████████████████████████████████████████████████| 10000/10000 [00:20<00:00, 488.40it/s]\n"
     ]
    },
    {
     "name": "stdout",
     "output_type": "stream",
     "text": [
      "epoch: 13, average loss: -5.34658670425415, train loss: not calculated, test loss: not calculated\n"
     ]
    },
    {
     "name": "stderr",
     "output_type": "stream",
     "text": [
      "100%|███████████████████████████████████████████████████████████████████████████████████████████████████████████████████████████████████████████████████| 10000/10000 [00:20<00:00, 488.31it/s]\n"
     ]
    },
    {
     "name": "stdout",
     "output_type": "stream",
     "text": [
      "epoch: 14, average loss: -5.812661647796631, train loss: not calculated, test loss: not calculated\n"
     ]
    },
    {
     "name": "stderr",
     "output_type": "stream",
     "text": [
      "100%|███████████████████████████████████████████████████████████████████████████████████████████████████████████████████████████████████████████████████| 10000/10000 [00:20<00:00, 488.42it/s]\n"
     ]
    },
    {
     "name": "stdout",
     "output_type": "stream",
     "text": [
      "epoch: 15, average loss: -6.426959991455078, train loss: not calculated, test loss: not calculated\n"
     ]
    },
    {
     "name": "stderr",
     "output_type": "stream",
     "text": [
      "100%|███████████████████████████████████████████████████████████████████████████████████████████████████████████████████████████████████████████████████| 10000/10000 [00:20<00:00, 490.48it/s]\n"
     ]
    },
    {
     "name": "stdout",
     "output_type": "stream",
     "text": [
      "epoch: 16, average loss: -6.844470024108887, train loss: not calculated, test loss: not calculated\n"
     ]
    },
    {
     "name": "stderr",
     "output_type": "stream",
     "text": [
      "100%|███████████████████████████████████████████████████████████████████████████████████████████████████████████████████████████████████████████████████| 10000/10000 [00:20<00:00, 483.13it/s]\n"
     ]
    },
    {
     "name": "stdout",
     "output_type": "stream",
     "text": [
      "epoch: 17, average loss: -7.420637130737305, train loss: not calculated, test loss: not calculated\n"
     ]
    },
    {
     "name": "stderr",
     "output_type": "stream",
     "text": [
      "100%|███████████████████████████████████████████████████████████████████████████████████████████████████████████████████████████████████████████████████| 10000/10000 [00:20<00:00, 478.65it/s]\n"
     ]
    },
    {
     "name": "stdout",
     "output_type": "stream",
     "text": [
      "epoch: 18, average loss: -7.807016849517822, train loss: not calculated, test loss: not calculated\n"
     ]
    },
    {
     "name": "stderr",
     "output_type": "stream",
     "text": [
      "100%|███████████████████████████████████████████████████████████████████████████████████████████████████████████████████████████████████████████████████| 10000/10000 [00:20<00:00, 482.42it/s]\n"
     ]
    },
    {
     "name": "stdout",
     "output_type": "stream",
     "text": [
      "epoch: 19, average loss: -8.314796447753906, train loss: not calculated, test loss: not calculated\n"
     ]
    },
    {
     "name": "stderr",
     "output_type": "stream",
     "text": [
      "100%|███████████████████████████████████████████████████████████████████████████████████████████████████████████████████████████████████████████████████| 10000/10000 [00:20<00:00, 487.73it/s]\n"
     ]
    },
    {
     "name": "stdout",
     "output_type": "stream",
     "text": [
      "epoch: 20, average loss: -8.556757926940918, train loss: not calculated, test loss: not calculated\n"
     ]
    },
    {
     "name": "stderr",
     "output_type": "stream",
     "text": [
      "100%|███████████████████████████████████████████████████████████████████████████████████████████████████████████████████████████████████████████████████| 10000/10000 [00:20<00:00, 484.71it/s]\n"
     ]
    },
    {
     "name": "stdout",
     "output_type": "stream",
     "text": [
      "epoch: 21, average loss: -9.120683670043945, train loss: not calculated, test loss: not calculated\n"
     ]
    },
    {
     "name": "stderr",
     "output_type": "stream",
     "text": [
      "100%|███████████████████████████████████████████████████████████████████████████████████████████████████████████████████████████████████████████████████| 10000/10000 [00:20<00:00, 489.59it/s]\n"
     ]
    },
    {
     "name": "stdout",
     "output_type": "stream",
     "text": [
      "epoch: 22, average loss: -9.471298217773438, train loss: not calculated, test loss: not calculated\n"
     ]
    },
    {
     "name": "stderr",
     "output_type": "stream",
     "text": [
      "100%|███████████████████████████████████████████████████████████████████████████████████████████████████████████████████████████████████████████████████| 10000/10000 [00:20<00:00, 489.46it/s]\n"
     ]
    },
    {
     "name": "stdout",
     "output_type": "stream",
     "text": [
      "epoch: 23, average loss: -9.335675239562988, train loss: not calculated, test loss: not calculated\n"
     ]
    },
    {
     "name": "stderr",
     "output_type": "stream",
     "text": [
      "100%|███████████████████████████████████████████████████████████████████████████████████████████████████████████████████████████████████████████████████| 10000/10000 [00:20<00:00, 485.92it/s]\n"
     ]
    },
    {
     "name": "stdout",
     "output_type": "stream",
     "text": [
      "epoch: 24, average loss: -9.325236320495605, train loss: not calculated, test loss: not calculated\n"
     ]
    },
    {
     "name": "stderr",
     "output_type": "stream",
     "text": [
      "100%|███████████████████████████████████████████████████████████████████████████████████████████████████████████████████████████████████████████████████| 10000/10000 [00:20<00:00, 484.17it/s]\n"
     ]
    },
    {
     "name": "stdout",
     "output_type": "stream",
     "text": [
      "epoch: 25, average loss: -4.400239944458008, train loss: not calculated, test loss: not calculated\n"
     ]
    },
    {
     "name": "stderr",
     "output_type": "stream",
     "text": [
      "100%|███████████████████████████████████████████████████████████████████████████████████████████████████████████████████████████████████████████████████| 10000/10000 [00:20<00:00, 497.36it/s]\n"
     ]
    },
    {
     "name": "stdout",
     "output_type": "stream",
     "text": [
      "epoch: 26, average loss: -8.852842330932617, train loss: not calculated, test loss: not calculated\n"
     ]
    },
    {
     "name": "stderr",
     "output_type": "stream",
     "text": [
      "100%|███████████████████████████████████████████████████████████████████████████████████████████████████████████████████████████████████████████████████| 10000/10000 [00:20<00:00, 490.31it/s]\n"
     ]
    },
    {
     "name": "stdout",
     "output_type": "stream",
     "text": [
      "epoch: 27, average loss: -9.531240463256836, train loss: not calculated, test loss: not calculated\n"
     ]
    },
    {
     "name": "stderr",
     "output_type": "stream",
     "text": [
      "100%|███████████████████████████████████████████████████████████████████████████████████████████████████████████████████████████████████████████████████| 10000/10000 [00:20<00:00, 485.06it/s]\n"
     ]
    },
    {
     "name": "stdout",
     "output_type": "stream",
     "text": [
      "epoch: 28, average loss: -8.38174057006836, train loss: not calculated, test loss: not calculated\n"
     ]
    },
    {
     "name": "stderr",
     "output_type": "stream",
     "text": [
      "100%|███████████████████████████████████████████████████████████████████████████████████████████████████████████████████████████████████████████████████| 10000/10000 [00:20<00:00, 479.69it/s]\n"
     ]
    },
    {
     "name": "stdout",
     "output_type": "stream",
     "text": [
      "epoch: 29, average loss: -9.714644432067871, train loss: not calculated, test loss: not calculated\n"
     ]
    },
    {
     "name": "stderr",
     "output_type": "stream",
     "text": [
      "100%|███████████████████████████████████████████████████████████████████████████████████████████████████████████████████████████████████████████████████| 10000/10000 [00:20<00:00, 484.25it/s]\n"
     ]
    },
    {
     "name": "stdout",
     "output_type": "stream",
     "text": [
      "epoch: 30, average loss: -10.655740737915039, train loss: not calculated, test loss: not calculated\n"
     ]
    },
    {
     "name": "stderr",
     "output_type": "stream",
     "text": [
      "100%|███████████████████████████████████████████████████████████████████████████████████████████████████████████████████████████████████████████████████| 10000/10000 [00:20<00:00, 482.15it/s]\n"
     ]
    },
    {
     "name": "stdout",
     "output_type": "stream",
     "text": [
      "epoch: 31, average loss: -11.13688850402832, train loss: not calculated, test loss: not calculated\n"
     ]
    },
    {
     "name": "stderr",
     "output_type": "stream",
     "text": [
      "100%|███████████████████████████████████████████████████████████████████████████████████████████████████████████████████████████████████████████████████| 10000/10000 [00:20<00:00, 490.47it/s]\n"
     ]
    },
    {
     "name": "stdout",
     "output_type": "stream",
     "text": [
      "epoch: 32, average loss: -10.990516662597656, train loss: not calculated, test loss: not calculated\n"
     ]
    },
    {
     "name": "stderr",
     "output_type": "stream",
     "text": [
      "100%|███████████████████████████████████████████████████████████████████████████████████████████████████████████████████████████████████████████████████| 10000/10000 [00:20<00:00, 487.18it/s]\n"
     ]
    },
    {
     "name": "stdout",
     "output_type": "stream",
     "text": [
      "epoch: 33, average loss: -11.328801155090332, train loss: not calculated, test loss: not calculated\n"
     ]
    },
    {
     "name": "stderr",
     "output_type": "stream",
     "text": [
      "100%|███████████████████████████████████████████████████████████████████████████████████████████████████████████████████████████████████████████████████| 10000/10000 [00:20<00:00, 486.47it/s]\n"
     ]
    },
    {
     "name": "stdout",
     "output_type": "stream",
     "text": [
      "epoch: 34, average loss: -11.76373291015625, train loss: not calculated, test loss: not calculated\n"
     ]
    },
    {
     "name": "stderr",
     "output_type": "stream",
     "text": [
      "100%|███████████████████████████████████████████████████████████████████████████████████████████████████████████████████████████████████████████████████| 10000/10000 [00:20<00:00, 489.24it/s]\n"
     ]
    },
    {
     "name": "stdout",
     "output_type": "stream",
     "text": [
      "epoch: 35, average loss: -12.276812553405762, train loss: not calculated, test loss: not calculated\n"
     ]
    },
    {
     "name": "stderr",
     "output_type": "stream",
     "text": [
      "100%|███████████████████████████████████████████████████████████████████████████████████████████████████████████████████████████████████████████████████| 10000/10000 [00:20<00:00, 484.96it/s]\n"
     ]
    },
    {
     "name": "stdout",
     "output_type": "stream",
     "text": [
      "epoch: 36, average loss: -11.437596321105957, train loss: not calculated, test loss: not calculated\n"
     ]
    },
    {
     "name": "stderr",
     "output_type": "stream",
     "text": [
      "100%|███████████████████████████████████████████████████████████████████████████████████████████████████████████████████████████████████████████████████| 10000/10000 [00:20<00:00, 487.21it/s]\n"
     ]
    },
    {
     "name": "stdout",
     "output_type": "stream",
     "text": [
      "epoch: 37, average loss: -11.86627197265625, train loss: not calculated, test loss: not calculated\n"
     ]
    },
    {
     "name": "stderr",
     "output_type": "stream",
     "text": [
      "100%|███████████████████████████████████████████████████████████████████████████████████████████████████████████████████████████████████████████████████| 10000/10000 [00:20<00:00, 486.50it/s]\n"
     ]
    },
    {
     "name": "stdout",
     "output_type": "stream",
     "text": [
      "epoch: 38, average loss: -12.505624771118164, train loss: not calculated, test loss: not calculated\n"
     ]
    },
    {
     "name": "stderr",
     "output_type": "stream",
     "text": [
      "100%|███████████████████████████████████████████████████████████████████████████████████████████████████████████████████████████████████████████████████| 10000/10000 [00:20<00:00, 494.44it/s]\n"
     ]
    },
    {
     "name": "stdout",
     "output_type": "stream",
     "text": [
      "epoch: 39, average loss: -12.413527488708496, train loss: not calculated, test loss: not calculated\n"
     ]
    },
    {
     "name": "stderr",
     "output_type": "stream",
     "text": [
      "100%|███████████████████████████████████████████████████████████████████████████████████████████████████████████████████████████████████████████████████| 10000/10000 [00:20<00:00, 490.80it/s]\n"
     ]
    },
    {
     "name": "stdout",
     "output_type": "stream",
     "text": [
      "epoch: 40, average loss: -12.561355590820312, train loss: not calculated, test loss: not calculated\n"
     ]
    },
    {
     "name": "stderr",
     "output_type": "stream",
     "text": [
      "100%|███████████████████████████████████████████████████████████████████████████████████████████████████████████████████████████████████████████████████| 10000/10000 [00:20<00:00, 491.49it/s]\n"
     ]
    },
    {
     "name": "stdout",
     "output_type": "stream",
     "text": [
      "epoch: 41, average loss: -12.42411994934082, train loss: not calculated, test loss: not calculated\n"
     ]
    },
    {
     "name": "stderr",
     "output_type": "stream",
     "text": [
      "100%|███████████████████████████████████████████████████████████████████████████████████████████████████████████████████████████████████████████████████| 10000/10000 [00:20<00:00, 493.01it/s]\n"
     ]
    },
    {
     "name": "stdout",
     "output_type": "stream",
     "text": [
      "epoch: 42, average loss: -12.85122013092041, train loss: not calculated, test loss: not calculated\n"
     ]
    },
    {
     "name": "stderr",
     "output_type": "stream",
     "text": [
      "100%|███████████████████████████████████████████████████████████████████████████████████████████████████████████████████████████████████████████████████| 10000/10000 [00:20<00:00, 484.85it/s]\n"
     ]
    },
    {
     "name": "stdout",
     "output_type": "stream",
     "text": [
      "epoch: 43, average loss: -13.69515609741211, train loss: not calculated, test loss: not calculated\n"
     ]
    },
    {
     "name": "stderr",
     "output_type": "stream",
     "text": [
      "100%|███████████████████████████████████████████████████████████████████████████████████████████████████████████████████████████████████████████████████| 10000/10000 [00:20<00:00, 491.79it/s]\n"
     ]
    },
    {
     "name": "stdout",
     "output_type": "stream",
     "text": [
      "epoch: 44, average loss: -14.026291847229004, train loss: not calculated, test loss: not calculated\n"
     ]
    },
    {
     "name": "stderr",
     "output_type": "stream",
     "text": [
      "100%|███████████████████████████████████████████████████████████████████████████████████████████████████████████████████████████████████████████████████| 10000/10000 [00:20<00:00, 488.90it/s]\n"
     ]
    },
    {
     "name": "stdout",
     "output_type": "stream",
     "text": [
      "epoch: 45, average loss: -13.833370208740234, train loss: not calculated, test loss: not calculated\n"
     ]
    },
    {
     "name": "stderr",
     "output_type": "stream",
     "text": [
      "100%|███████████████████████████████████████████████████████████████████████████████████████████████████████████████████████████████████████████████████| 10000/10000 [00:20<00:00, 492.41it/s]\n"
     ]
    },
    {
     "name": "stdout",
     "output_type": "stream",
     "text": [
      "epoch: 46, average loss: -14.381555557250977, train loss: not calculated, test loss: not calculated\n"
     ]
    },
    {
     "name": "stderr",
     "output_type": "stream",
     "text": [
      "100%|███████████████████████████████████████████████████████████████████████████████████████████████████████████████████████████████████████████████████| 10000/10000 [00:20<00:00, 499.77it/s]\n"
     ]
    },
    {
     "name": "stdout",
     "output_type": "stream",
     "text": [
      "epoch: 47, average loss: -14.605154037475586, train loss: not calculated, test loss: not calculated\n"
     ]
    },
    {
     "name": "stderr",
     "output_type": "stream",
     "text": [
      "100%|███████████████████████████████████████████████████████████████████████████████████████████████████████████████████████████████████████████████████| 10000/10000 [00:20<00:00, 494.83it/s]\n"
     ]
    },
    {
     "name": "stdout",
     "output_type": "stream",
     "text": [
      "epoch: 48, average loss: -6.727396011352539, train loss: not calculated, test loss: not calculated\n"
     ]
    },
    {
     "name": "stderr",
     "output_type": "stream",
     "text": [
      "100%|███████████████████████████████████████████████████████████████████████████████████████████████████████████████████████████████████████████████████| 10000/10000 [00:20<00:00, 494.03it/s]\n"
     ]
    },
    {
     "name": "stdout",
     "output_type": "stream",
     "text": [
      "epoch: 49, average loss: -11.012609481811523, train loss: not calculated, test loss: not calculated\n"
     ]
    }
   ],
   "source": [
    "for epoch in range(N_EPOCHS):\n",
    "    training_losses.append([])\n",
    "    perm = jax.random.permutation(shuffling_key, N_TRAIN)\n",
    "    train_imgs = train_imgs[perm]\n",
    "    train_labels = train_labels[perm]\n",
    "    shuffling_key = jax.random.split(shuffling_key, 2)[1]\n",
    "\n",
    "    for step in tqdm(range(N_TRAIN // BATCH_SIZE)):\n",
    "        img_batch = train_imgs[step*BATCH_SIZE:(step+1)*BATCH_SIZE]\n",
    "        label_batch = train_labels[step*BATCH_SIZE:(step+1)*BATCH_SIZE]\n",
    "        \n",
    "        state, loss = train_step(state, img_batch, label_batch)\n",
    "        training_losses[-1].append(loss)\n",
    "        #print(loss)\n",
    "        #os.system('nvidia-smi')\n",
    "\n",
    "    epoch_loss = jnp.array(training_losses[-1]).mean()\n",
    "    #epoch_train_loss = calc_avg_loss_batched(state, train_imgs, train_labels)\n",
    "    #epoch_test_loss = calc_avg_loss_batched(state, test_imgs, test_labels)\n",
    "    epoch_train_loss = 'not calculated'\n",
    "    epoch_test_loss = 'not calculated'\n",
    "    print(f'epoch: {epoch}, average loss: {epoch_loss}, '\n",
    "          f'train loss: {epoch_train_loss}, '\n",
    "          f'test loss: {epoch_test_loss}')"
   ]
  },
  {
   "cell_type": "code",
   "execution_count": 21,
   "id": "d3fc54da-c346-4406-b934-034b4313eafe",
   "metadata": {},
   "outputs": [
    {
     "data": {
      "text/plain": [
       "[<matplotlib.lines.Line2D at 0x7f4877907b80>]"
      ]
     },
     "execution_count": 21,
     "metadata": {},
     "output_type": "execute_result"
    },
    {
     "data": {
      "image/png": "[encoded data removed]",
      "text/plain": [
       "<Figure size 640x480 with 1 Axes>"
      ]
     },
     "metadata": {},
     "output_type": "display_data"
    }
   ],
   "source": [
    "plt.plot([jnp.array(l).mean() for l in training_losses])"
   ]
  },
  {
   "cell_type": "code",
   "execution_count": 22,
   "id": "c785163f-a49f-47fa-ae20-23b90ca7ed68",
   "metadata": {},
   "outputs": [],
   "source": [
    "# with open('param_file_noxy.pkl', 'wb') as params_file:\n",
    "#     pickle.dump(state.params, params_file)"
   ]
  },
  {
   "cell_type": "code",
   "execution_count": 23,
   "id": "4a8702e8-0e42-4fb7-89ff-a2e23d2642aa",
   "metadata": {},
   "outputs": [
    {
     "name": "stderr",
     "output_type": "stream",
     "text": [
      "[E rasterize_gl.cpp:121] OpenGL version reported as 4.6\n"
     ]
    },
    {
     "name": "stdout",
     "output_type": "stream",
     "text": [
      "Increasing frame buffer size to (width, height, depth) = (128, 128, 1024)\n"
     ]
    }
   ],
   "source": [
    "intrinsics = b.Intrinsics(\n",
    "    height=100,\n",
    "    width=100,\n",
    "    fx=200.0, fy=200.0,\n",
    "    cx=50.0, cy=50.0,\n",
    "    near=0.0001, far=2.0\n",
    ")\n",
    "\n",
    "b.setup_renderer(intrinsics)\n",
    "model_dir = os.path.join(b.utils.get_assets_dir(),\"bop/ycbv/models\")\n",
    "b.RENDERER.add_mesh_from_file(model_dir + '/obj_000014.ply', scaling_factor=1e-3)\n",
    "b.RENDERER.add_mesh_from_file(os.path.join(b.utils.get_assets_dir(), \"sample_objs/cube.obj\"), scaling_factor=1.0/1000000000.0)\n",
    "\n",
    "table_pose = b.t3d.inverse_pose(\n",
    "    b.t3d.transform_from_pos_target_up(\n",
    "        jnp.array([0.0, 0.8, .15]),\n",
    "        jnp.array([0.0, 0.0, 0.0]),\n",
    "        jnp.array([0.0, 0.0, 1.0]),\n",
    "    )\n",
    ")"
   ]
  },
  {
   "cell_type": "code",
   "execution_count": 24,
   "id": "c82400b0-0f9b-4a0d-bb75-a304df1c81b2",
   "metadata": {},
   "outputs": [],
   "source": [
    "def get_poses_non_jit(contact_params, id_table, id):\n",
    "    sg = b.scene_graph.SceneGraph(\n",
    "        root_poses=jnp.array([table_pose, jnp.eye(4)]),\n",
    "        box_dimensions=jnp.array([b.RENDERER.model_box_dims[id_table], b.RENDERER.model_box_dims[id]]),\n",
    "        parents=jnp.array([-1, 0]),\n",
    "        contact_params=jnp.array([jnp.zeros(3), contact_params]),\n",
    "        face_parent=jnp.array([-1,2]),\n",
    "        face_child=jnp.array([-1,3]),\n",
    "    )\n",
    "    poses = sg.get_poses()\n",
    "    return poses\n",
    "get_poses = jax.jit(get_poses_non_jit)\n",
    "\n",
    "def render_image_non_jit(dx, dy, theta):\n",
    "    id_table = 1\n",
    "    id = 0\n",
    "    poses = get_poses_non_jit(jnp.array([dx, dy, theta]), id_table, id)\n",
    "    img = b.RENDERER.render(\n",
    "        poses , jnp.array([id_table, id])\n",
    "    )[...,:3]\n",
    "    return img\n",
    "    \n",
    "render_image = jax.jit(render_image_non_jit)"
   ]
  },
  {
   "cell_type": "code",
   "execution_count": 25,
   "id": "78040bd5-e535-4559-8299-d3b1e4fae184",
   "metadata": {},
   "outputs": [
    {
     "data": {
      "text/plain": [
       "array([4.1537757], dtype=float32)"
      ]
     },
     "execution_count": 25,
     "metadata": {},
     "output_type": "execute_result"
    }
   ],
   "source": [
    "i = 0\n",
    "b.viz.scale_image(b.get_depth_image(train_imgs[i, :, :, 0]), 2)\n",
    "train_labels[i]"
   ]
  },
  {
   "cell_type": "code",
   "execution_count": 26,
   "id": "5f6d676c-6078-4f55-ad23-03f38aee7bb5",
   "metadata": {},
   "outputs": [
    {
     "data": {
      "text/plain": [
       "Array([[4.155441]], dtype=float32)"
      ]
     },
     "execution_count": 26,
     "metadata": {},
     "output_type": "execute_result"
    }
   ],
   "source": [
    "means, _ = state.apply_fn({'params': state.params, 'batch_stats': state.batch_stats},\n",
    "                        train_imgs[i, :, :, 0].reshape((1, 100, 100, 1)), train=False, mutable=False)\n",
    "means"
   ]
  },
  {
   "cell_type": "code",
   "execution_count": 27,
   "id": "e35463ad-630b-439d-a9af-08cf83f7d7d7",
   "metadata": {},
   "outputs": [
    {
     "data": {
      "image/jpeg": "[encoded data removed]",
      "image/png": "[encoded data removed]",
      "text/plain": [
       "<PIL.Image.Image image mode=RGB size=420x200>"
      ]
     },
     "execution_count": 27,
     "metadata": {},
     "output_type": "execute_result"
    }
   ],
   "source": [
    "b.viz.scale_image(b.viz.hstack_images([b.get_depth_image(render_image(0, 0, means.flatten()[0])[:, :, 2]),\n",
    "                                       b.get_depth_image(train_imgs[i, :, :, 0])]), 2)"
   ]
  },
  {
   "cell_type": "code",
   "execution_count": 28,
   "id": "8e1fc299-1209-4b07-aa5b-80997d96dc6e",
   "metadata": {},
   "outputs": [],
   "source": [
    "def prediction_img(i):\n",
    "    means, stds = state.apply_fn({'params': state.params, 'batch_stats': state.batch_stats},\n",
    "                               test_imgs[i, :, :, 0].reshape((1, 100, 100, 1)), train=False, mutable=False)\n",
    "    return b.get_depth_image(render_image(0, 0, means.flatten()[0])[:, :, 2]), means, stds"
   ]
  },
  {
   "cell_type": "code",
   "execution_count": 29,
   "id": "388a2805-84db-4c29-bb8d-04c393b72a7a",
   "metadata": {},
   "outputs": [
    {
     "data": {
      "image/jpeg": "[encoded data removed]",
      "image/png": "[encoded data removed]",
      "text/plain": [
       "<PIL.Image.Image image mode=RGB size=1090x210>"
      ]
     },
     "execution_count": 29,
     "metadata": {},
     "output_type": "execute_result"
    }
   ],
   "source": [
    "idxs = jax.random.randint(jax.random.PRNGKey(3141), (10,), 0, N_TEST)\n",
    "imgs, means,stds = zip(*[prediction_img(i) for i in idxs])\n",
    "gt_imgs = [b.get_depth_image(test_imgs[i, :, :, 0]) for i in idxs]\n",
    "b.viz.vstack_images([b.viz.hstack_images(imgs),\n",
    "                     b.viz.hstack_images(gt_imgs)])"
   ]
  },
  {
   "cell_type": "code",
   "execution_count": 30,
   "id": "cfc68f2b-ee4f-4afb-bdea-1f9bb5faf5eb",
   "metadata": {},
   "outputs": [
    {
     "data": {
      "text/plain": [
       "(Array([[2.9461868]], dtype=float32),\n",
       " Array([[5.9572706]], dtype=float32),\n",
       " Array([[4.6689954]], dtype=float32),\n",
       " Array([[5.00897]], dtype=float32),\n",
       " Array([[0.44938946]], dtype=float32),\n",
       " Array([[0.7321472]], dtype=float32),\n",
       " Array([[2.8409042]], dtype=float32),\n",
       " Array([[4.233593]], dtype=float32),\n",
       " Array([[1.572598]], dtype=float32),\n",
       " Array([[1.2853731]], dtype=float32))"
      ]
     },
     "execution_count": 30,
     "metadata": {},
     "output_type": "execute_result"
    }
   ],
   "source": [
    "means"
   ]
  },
  {
   "cell_type": "code",
   "execution_count": 31,
   "id": "61baf9a1-e03c-4f38-80df-2b0a2746062b",
   "metadata": {},
   "outputs": [
    {
     "data": {
      "text/plain": [
       "(Array([[0.0374465]], dtype=float32),\n",
       " Array([[0.2628107]], dtype=float32),\n",
       " Array([[0.07119465]], dtype=float32),\n",
       " Array([[0.09877777]], dtype=float32),\n",
       " Array([[0.07179999]], dtype=float32),\n",
       " Array([[0.05451226]], dtype=float32),\n",
       " Array([[0.04867268]], dtype=float32),\n",
       " Array([[0.05444312]], dtype=float32),\n",
       " Array([[0.04798937]], dtype=float32),\n",
       " Array([[0.05204153]], dtype=float32))"
      ]
     },
     "execution_count": 31,
     "metadata": {},
     "output_type": "execute_result"
    }
   ],
   "source": [
    "stds"
   ]
  },
  {
   "cell_type": "code",
   "execution_count": 32,
   "id": "75dad030-6f48-4930-9004-0c8e5988a3c2",
   "metadata": {},
   "outputs": [
    {
     "data": {
      "text/plain": [
       "Array(-2975.792, dtype=float32)"
      ]
     },
     "execution_count": 32,
     "metadata": {},
     "output_type": "execute_result"
    }
   ],
   "source": [
    "means, stds = state.apply_fn({'params': state.params, 'batch_stats': state.batch_stats},\n",
    "                             test_imgs, train=False, mutable=False)\n",
    "-normal_logpdf(test_labels, loc=means, scale=stds).sum()"
   ]
  },
  {
   "cell_type": "code",
   "execution_count": null,
   "id": "37e42011-acdf-4ee4-bf92-5ee43f2f5d7b",
   "metadata": {},
   "outputs": [],
   "source": []
  }
 ],
 "metadata": {
  "kernelspec": {
   "display_name": "Python 3 (ipykernel)",
   "language": "python",
   "name": "python3"
  },
  "language_info": {
   "codemirror_mode": {
    "name": "ipython",
    "version": 3
   },
   "file_extension": ".py",
   "mimetype": "text/x-python",
   "name": "python",
   "nbconvert_exporter": "python",
   "pygments_lexer": "ipython3",
   "version": "3.9.17"
  }
 },
 "nbformat": 4,
 "nbformat_minor": 5
}
