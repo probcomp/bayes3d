{
 "cells": [
  {
   "cell_type": "code",
   "execution_count": 1,
   "id": "1477c737-919d-4445-bc46-c139b9a3febf",
   "metadata": {},
   "outputs": [],
   "source": [
    "import bayes3d as b\n",
    "import os\n",
    "import sys\n",
    "import jax.numpy as jnp\n",
    "import jax\n",
    "import bayes3d.genjax\n",
    "import genjax\n",
    "import matplotlib\n",
    "from tqdm import tqdm\n",
    "import matplotlib.pyplot as plt"
   ]
  },
  {
   "cell_type": "code",
   "execution_count": 2,
   "id": "d2db391b-3dfd-4b03-9e28-ae49df8839aa",
   "metadata": {},
   "outputs": [],
   "source": [
    "import flax.linen as nn\n",
    "from flax.training import train_state\n",
    "import flax\n",
    "import optax\n",
    "from tensorflow_probability.substrates import jax as tfp"
   ]
  },
  {
   "cell_type": "code",
   "execution_count": 3,
   "id": "af096265-4e27-4ac7-ac04-0d633c8bbe16",
   "metadata": {},
   "outputs": [],
   "source": [
    "import pickle\n",
    "from typing import Any, Union"
   ]
  },
  {
   "cell_type": "markdown",
   "id": "27824992-5bbb-4581-b5f5-43b8a2c73d5b",
   "metadata": {},
   "source": [
    "## CNN Inference"
   ]
  },
  {
   "cell_type": "markdown",
   "id": "bbebaaef-f32f-480e-a12e-58c9515065a9",
   "metadata": {},
   "source": [
    "## "
   ]
  },
  {
   "cell_type": "code",
   "execution_count": 4,
   "id": "2bad9cd5-72b4-4424-9b02-8e4a77d563ea",
   "metadata": {},
   "outputs": [],
   "source": [
    "NoneType = type(None)"
   ]
  },
  {
   "cell_type": "code",
   "execution_count": 5,
   "id": "6ef7103a-c828-4b5e-806d-ee73ae10387f",
   "metadata": {},
   "outputs": [],
   "source": [
    "class BaseCNN(nn.Module):\n",
    "    range_min: Union[float, jnp.ndarray]\n",
    "    range_max: Union[float, jnp.ndarray, NoneType]\n",
    "\n",
    "    @nn.compact\n",
    "    def __call__(self, imgs, train: bool): # XXX todo: make sure the sizes all line up\n",
    "        x = nn.Conv(64, (10, 10), strides=(3, 3), padding='VALID')(imgs)\n",
    "        x = nn.BatchNorm(use_running_average=not train)(x)\n",
    "        x = nn.activation.relu(x)\n",
    "        x = nn.max_pool(x, (3, 3), strides=(2, 2))\n",
    "        \n",
    "        x = nn.Conv(256, (5, 5), strides=(2, 2), padding='VALID')(x)\n",
    "        x = nn.BatchNorm(use_running_average=not train)(x)\n",
    "        x = nn.activation.relu(x)\n",
    "        x = nn.max_pool(x, (2, 2), strides=(2, 2))\n",
    "        \n",
    "        x = nn.Dense(1024)(x.reshape(imgs.shape[0], -1))\n",
    "        x = nn.BatchNorm(use_running_average=not train)(x)\n",
    "        x = nn.activation.relu(x)\n",
    "        \n",
    "        #x = nn.Dense(1024)(x)\n",
    "        #x = nn.BatchNorm(use_running_average=not train)(x)\n",
    "        #x = nn.activation.leaky_relu(x)\n",
    "\n",
    "        # x = nn.Dropout(rate=0.5, deterministic=not train)(x)\n",
    "        \n",
    "        # x = nn.Dense(1024)(x)\n",
    "        # x = nn.BatchNorm(use_running_average=not train)(x)\n",
    "        # x = nn.activation.leaky_relu(x)\n",
    "        \n",
    "        # x = nn.Dense(1024)(x)\n",
    "        # x = nn.BatchNorm(use_running_average=not train)(x)\n",
    "        # x = nn.activation.leaky_relu(x)\n",
    "        \n",
    "        # x = nn.Dropout(rate=0.5, deterministic=not train)(x)\n",
    "        \n",
    "        x = nn.Dense(576)(x)\n",
    "        x = nn.BatchNorm(use_running_average=not train)(x)\n",
    "        x = nn.activation.relu(x)\n",
    "        \n",
    "        # x = nn.Dropout(rate=0.5, deterministic=not train)(x)\n",
    "\n",
    "        x = nn.Dense(192)(x)\n",
    "        x = nn.BatchNorm(use_running_average=not train)(x)\n",
    "        x = nn.activation.relu(x)\n",
    "\n",
    "        x = nn.Dense(24)(x)\n",
    "        x = nn.BatchNorm(use_running_average=not train)(x)\n",
    "        x = nn.activation.relu(x)\n",
    "\n",
    "        x = nn.Dense(1)(x)\n",
    "        if self.range_max is not None:\n",
    "            shift = (self.range_max + self.range_min) / 2\n",
    "            scale = (self.range_max - self.range_min) / 2\n",
    "            x = shift + scale * nn.soft_sign(x)\n",
    "        else:\n",
    "            x = nn.activation.relu(x)\n",
    "        return x"
   ]
  },
  {
   "cell_type": "code",
   "execution_count": 6,
   "id": "093a3f0b-69b8-44cd-82d3-4ec20dd03a82",
   "metadata": {},
   "outputs": [],
   "source": [
    "class SceneModel(nn.Module):\n",
    "    mean_model: nn.Module\n",
    "    std_model: nn.Module\n",
    "\n",
    "    @nn.compact\n",
    "    def __call__(self, imgs, train: bool):\n",
    "        means = self.mean_model(imgs, train)\n",
    "        stds = self.std_model(imgs, train)\n",
    "        return means, stds"
   ]
  },
  {
   "cell_type": "code",
   "execution_count": 7,
   "id": "1bdf044e-ca96-444e-936c-12ba302d9132",
   "metadata": {},
   "outputs": [
    {
     "data": {
      "text/html": [
       "<pre style=\"white-space:pre;overflow-x:auto;line-height:normal;font-family:Menlo,'DejaVu Sans Mono',consolas,'Courier New',monospace\"><span style=\"font-style: italic\">                                                SceneModel Summary                                                 </span>\n",
       "┏━━━━━━━━━━━━━━━━━━━┳━━━━━━━━━━━━┳━━━━━━━━━━━━━━━━━━━┳━━━━━━━━━━━━━━━━━━━┳━━━━━━━━━━━━━━━━━━━┳━━━━━━━━━━━━━━━━━━━━┓\n",
       "┃<span style=\"font-weight: bold\"> path              </span>┃<span style=\"font-weight: bold\"> module     </span>┃<span style=\"font-weight: bold\"> inputs            </span>┃<span style=\"font-weight: bold\"> outputs           </span>┃<span style=\"font-weight: bold\"> params            </span>┃<span style=\"font-weight: bold\"> batch_stats        </span>┃\n",
       "┡━━━━━━━━━━━━━━━━━━━╇━━━━━━━━━━━━╇━━━━━━━━━━━━━━━━━━━╇━━━━━━━━━━━━━━━━━━━╇━━━━━━━━━━━━━━━━━━━╇━━━━━━━━━━━━━━━━━━━━┩\n",
       "│                   │ SceneModel │ -                 │ - <span style=\"color: #7f7f7f; text-decoration-color: #7f7f7f\">float32</span>[1,1]    │                   │                    │\n",
       "│                   │            │ <span style=\"color: #7f7f7f; text-decoration-color: #7f7f7f\">float32</span>[1,100,10… │ - <span style=\"color: #7f7f7f; text-decoration-color: #7f7f7f\">float32</span>[1,1]    │                   │                    │\n",
       "│                   │            │ - False           │                   │                   │                    │\n",
       "├───────────────────┼────────────┼───────────────────┼───────────────────┼───────────────────┼────────────────────┤\n",
       "│ mean_model        │ BaseCNN    │ -                 │ <span style=\"color: #7f7f7f; text-decoration-color: #7f7f7f\">float32</span>[1,1]      │                   │                    │\n",
       "│                   │            │ <span style=\"color: #7f7f7f; text-decoration-color: #7f7f7f\">float32</span>[1,100,10… │                   │                   │                    │\n",
       "│                   │            │ - False           │                   │                   │                    │\n",
       "├───────────────────┼────────────┼───────────────────┼───────────────────┼───────────────────┼────────────────────┤\n",
       "│ mean_model/Conv_0 │ Conv       │ <span style=\"color: #7f7f7f; text-decoration-color: #7f7f7f\">float32</span>[1,100,10… │ <span style=\"color: #7f7f7f; text-decoration-color: #7f7f7f\">float32</span>[1,31,31,… │ bias: <span style=\"color: #7f7f7f; text-decoration-color: #7f7f7f\">float32</span>[64] │                    │\n",
       "│                   │            │                   │                   │ kernel:           │                    │\n",
       "│                   │            │                   │                   │ <span style=\"color: #7f7f7f; text-decoration-color: #7f7f7f\">float32</span>[10,10,1,… │                    │\n",
       "│                   │            │                   │                   │                   │                    │\n",
       "│                   │            │                   │                   │ <span style=\"font-weight: bold\">6,464 </span><span style=\"color: #7f7f7f; text-decoration-color: #7f7f7f; font-weight: bold\">(25.9 KB)</span>   │                    │\n",
       "├───────────────────┼────────────┼───────────────────┼───────────────────┼───────────────────┼────────────────────┤\n",
       "│ mean_model/Batch… │ BatchNorm  │ <span style=\"color: #7f7f7f; text-decoration-color: #7f7f7f\">float32</span>[1,31,31,… │ <span style=\"color: #7f7f7f; text-decoration-color: #7f7f7f\">float32</span>[1,31,31,… │ bias: <span style=\"color: #7f7f7f; text-decoration-color: #7f7f7f\">float32</span>[64] │ mean: <span style=\"color: #7f7f7f; text-decoration-color: #7f7f7f\">float32</span>[64]  │\n",
       "│                   │            │                   │                   │ scale:            │ var: <span style=\"color: #7f7f7f; text-decoration-color: #7f7f7f\">float32</span>[64]   │\n",
       "│                   │            │                   │                   │ <span style=\"color: #7f7f7f; text-decoration-color: #7f7f7f\">float32</span>[64]       │                    │\n",
       "│                   │            │                   │                   │                   │ <span style=\"font-weight: bold\">128 </span><span style=\"color: #7f7f7f; text-decoration-color: #7f7f7f; font-weight: bold\">(512 B)</span>        │\n",
       "│                   │            │                   │                   │ <span style=\"font-weight: bold\">128 </span><span style=\"color: #7f7f7f; text-decoration-color: #7f7f7f; font-weight: bold\">(512 B)</span>       │                    │\n",
       "├───────────────────┼────────────┼───────────────────┼───────────────────┼───────────────────┼────────────────────┤\n",
       "│ mean_model/Conv_1 │ Conv       │ <span style=\"color: #7f7f7f; text-decoration-color: #7f7f7f\">float32</span>[1,15,15,… │ <span style=\"color: #7f7f7f; text-decoration-color: #7f7f7f\">float32</span>[1,6,6,25… │ bias:             │                    │\n",
       "│                   │            │                   │                   │ <span style=\"color: #7f7f7f; text-decoration-color: #7f7f7f\">float32</span>[256]      │                    │\n",
       "│                   │            │                   │                   │ kernel:           │                    │\n",
       "│                   │            │                   │                   │ <span style=\"color: #7f7f7f; text-decoration-color: #7f7f7f\">float32</span>[5,5,64,2… │                    │\n",
       "│                   │            │                   │                   │                   │                    │\n",
       "│                   │            │                   │                   │ <span style=\"font-weight: bold\">409,856 </span><span style=\"color: #7f7f7f; text-decoration-color: #7f7f7f; font-weight: bold\">(1.6 MB)</span>  │                    │\n",
       "├───────────────────┼────────────┼───────────────────┼───────────────────┼───────────────────┼────────────────────┤\n",
       "│ mean_model/Batch… │ BatchNorm  │ <span style=\"color: #7f7f7f; text-decoration-color: #7f7f7f\">float32</span>[1,6,6,25… │ <span style=\"color: #7f7f7f; text-decoration-color: #7f7f7f\">float32</span>[1,6,6,25… │ bias:             │ mean: <span style=\"color: #7f7f7f; text-decoration-color: #7f7f7f\">float32</span>[256] │\n",
       "│                   │            │                   │                   │ <span style=\"color: #7f7f7f; text-decoration-color: #7f7f7f\">float32</span>[256]      │ var: <span style=\"color: #7f7f7f; text-decoration-color: #7f7f7f\">float32</span>[256]  │\n",
       "│                   │            │                   │                   │ scale:            │                    │\n",
       "│                   │            │                   │                   │ <span style=\"color: #7f7f7f; text-decoration-color: #7f7f7f\">float32</span>[256]      │ <span style=\"font-weight: bold\">512 </span><span style=\"color: #7f7f7f; text-decoration-color: #7f7f7f; font-weight: bold\">(2.0 KB)</span>       │\n",
       "│                   │            │                   │                   │                   │                    │\n",
       "│                   │            │                   │                   │ <span style=\"font-weight: bold\">512 </span><span style=\"color: #7f7f7f; text-decoration-color: #7f7f7f; font-weight: bold\">(2.0 KB)</span>      │                    │\n",
       "├───────────────────┼────────────┼───────────────────┼───────────────────┼───────────────────┼────────────────────┤\n",
       "│ mean_model/Dense… │ Dense      │ <span style=\"color: #7f7f7f; text-decoration-color: #7f7f7f\">float32</span>[1,2304]   │ <span style=\"color: #7f7f7f; text-decoration-color: #7f7f7f\">float32</span>[1,1024]   │ bias:             │                    │\n",
       "│                   │            │                   │                   │ <span style=\"color: #7f7f7f; text-decoration-color: #7f7f7f\">float32</span>[1024]     │                    │\n",
       "│                   │            │                   │                   │ kernel:           │                    │\n",
       "│                   │            │                   │                   │ <span style=\"color: #7f7f7f; text-decoration-color: #7f7f7f\">float32</span>[2304,102… │                    │\n",
       "│                   │            │                   │                   │                   │                    │\n",
       "│                   │            │                   │                   │ <span style=\"font-weight: bold\">2,360,320 </span><span style=\"color: #7f7f7f; text-decoration-color: #7f7f7f; font-weight: bold\">(9.4 </span>   │                    │\n",
       "│                   │            │                   │                   │ <span style=\"color: #7f7f7f; text-decoration-color: #7f7f7f; font-weight: bold\">MB)</span>               │                    │\n",
       "├───────────────────┼────────────┼───────────────────┼───────────────────┼───────────────────┼────────────────────┤\n",
       "│ mean_model/Batch… │ BatchNorm  │ <span style=\"color: #7f7f7f; text-decoration-color: #7f7f7f\">float32</span>[1,1024]   │ <span style=\"color: #7f7f7f; text-decoration-color: #7f7f7f\">float32</span>[1,1024]   │ bias:             │ mean:              │\n",
       "│                   │            │                   │                   │ <span style=\"color: #7f7f7f; text-decoration-color: #7f7f7f\">float32</span>[1024]     │ <span style=\"color: #7f7f7f; text-decoration-color: #7f7f7f\">float32</span>[1024]      │\n",
       "│                   │            │                   │                   │ scale:            │ var: <span style=\"color: #7f7f7f; text-decoration-color: #7f7f7f\">float32</span>[1024] │\n",
       "│                   │            │                   │                   │ <span style=\"color: #7f7f7f; text-decoration-color: #7f7f7f\">float32</span>[1024]     │                    │\n",
       "│                   │            │                   │                   │                   │ <span style=\"font-weight: bold\">2,048 </span><span style=\"color: #7f7f7f; text-decoration-color: #7f7f7f; font-weight: bold\">(8.2 KB)</span>     │\n",
       "│                   │            │                   │                   │ <span style=\"font-weight: bold\">2,048 </span><span style=\"color: #7f7f7f; text-decoration-color: #7f7f7f; font-weight: bold\">(8.2 KB)</span>    │                    │\n",
       "├───────────────────┼────────────┼───────────────────┼───────────────────┼───────────────────┼────────────────────┤\n",
       "│ mean_model/Dense… │ Dense      │ <span style=\"color: #7f7f7f; text-decoration-color: #7f7f7f\">float32</span>[1,1024]   │ <span style=\"color: #7f7f7f; text-decoration-color: #7f7f7f\">float32</span>[1,576]    │ bias:             │                    │\n",
       "│                   │            │                   │                   │ <span style=\"color: #7f7f7f; text-decoration-color: #7f7f7f\">float32</span>[576]      │                    │\n",
       "│                   │            │                   │                   │ kernel:           │                    │\n",
       "│                   │            │                   │                   │ <span style=\"color: #7f7f7f; text-decoration-color: #7f7f7f\">float32</span>[1024,576] │                    │\n",
       "│                   │            │                   │                   │                   │                    │\n",
       "│                   │            │                   │                   │ <span style=\"font-weight: bold\">590,400 </span><span style=\"color: #7f7f7f; text-decoration-color: #7f7f7f; font-weight: bold\">(2.4 MB)</span>  │                    │\n",
       "├───────────────────┼────────────┼───────────────────┼───────────────────┼───────────────────┼────────────────────┤\n",
       "│ mean_model/Batch… │ BatchNorm  │ <span style=\"color: #7f7f7f; text-decoration-color: #7f7f7f\">float32</span>[1,576]    │ <span style=\"color: #7f7f7f; text-decoration-color: #7f7f7f\">float32</span>[1,576]    │ bias:             │ mean: <span style=\"color: #7f7f7f; text-decoration-color: #7f7f7f\">float32</span>[576] │\n",
       "│                   │            │                   │                   │ <span style=\"color: #7f7f7f; text-decoration-color: #7f7f7f\">float32</span>[576]      │ var: <span style=\"color: #7f7f7f; text-decoration-color: #7f7f7f\">float32</span>[576]  │\n",
       "│                   │            │                   │                   │ scale:            │                    │\n",
       "│                   │            │                   │                   │ <span style=\"color: #7f7f7f; text-decoration-color: #7f7f7f\">float32</span>[576]      │ <span style=\"font-weight: bold\">1,152 </span><span style=\"color: #7f7f7f; text-decoration-color: #7f7f7f; font-weight: bold\">(4.6 KB)</span>     │\n",
       "│                   │            │                   │                   │                   │                    │\n",
       "│                   │            │                   │                   │ <span style=\"font-weight: bold\">1,152 </span><span style=\"color: #7f7f7f; text-decoration-color: #7f7f7f; font-weight: bold\">(4.6 KB)</span>    │                    │\n",
       "├───────────────────┼────────────┼───────────────────┼───────────────────┼───────────────────┼────────────────────┤\n",
       "│ mean_model/Dense… │ Dense      │ <span style=\"color: #7f7f7f; text-decoration-color: #7f7f7f\">float32</span>[1,576]    │ <span style=\"color: #7f7f7f; text-decoration-color: #7f7f7f\">float32</span>[1,192]    │ bias:             │                    │\n",
       "│                   │            │                   │                   │ <span style=\"color: #7f7f7f; text-decoration-color: #7f7f7f\">float32</span>[192]      │                    │\n",
       "│                   │            │                   │                   │ kernel:           │                    │\n",
       "│                   │            │                   │                   │ <span style=\"color: #7f7f7f; text-decoration-color: #7f7f7f\">float32</span>[576,192]  │                    │\n",
       "│                   │            │                   │                   │                   │                    │\n",
       "│                   │            │                   │                   │ <span style=\"font-weight: bold\">110,784 </span><span style=\"color: #7f7f7f; text-decoration-color: #7f7f7f; font-weight: bold\">(443.1 </span>   │                    │\n",
       "│                   │            │                   │                   │ <span style=\"color: #7f7f7f; text-decoration-color: #7f7f7f; font-weight: bold\">KB)</span>               │                    │\n",
       "├───────────────────┼────────────┼───────────────────┼───────────────────┼───────────────────┼────────────────────┤\n",
       "│ mean_model/Batch… │ BatchNorm  │ <span style=\"color: #7f7f7f; text-decoration-color: #7f7f7f\">float32</span>[1,192]    │ <span style=\"color: #7f7f7f; text-decoration-color: #7f7f7f\">float32</span>[1,192]    │ bias:             │ mean: <span style=\"color: #7f7f7f; text-decoration-color: #7f7f7f\">float32</span>[192] │\n",
       "│                   │            │                   │                   │ <span style=\"color: #7f7f7f; text-decoration-color: #7f7f7f\">float32</span>[192]      │ var: <span style=\"color: #7f7f7f; text-decoration-color: #7f7f7f\">float32</span>[192]  │\n",
       "│                   │            │                   │                   │ scale:            │                    │\n",
       "│                   │            │                   │                   │ <span style=\"color: #7f7f7f; text-decoration-color: #7f7f7f\">float32</span>[192]      │ <span style=\"font-weight: bold\">384 </span><span style=\"color: #7f7f7f; text-decoration-color: #7f7f7f; font-weight: bold\">(1.5 KB)</span>       │\n",
       "│                   │            │                   │                   │                   │                    │\n",
       "│                   │            │                   │                   │ <span style=\"font-weight: bold\">384 </span><span style=\"color: #7f7f7f; text-decoration-color: #7f7f7f; font-weight: bold\">(1.5 KB)</span>      │                    │\n",
       "├───────────────────┼────────────┼───────────────────┼───────────────────┼───────────────────┼────────────────────┤\n",
       "│ mean_model/Dense… │ Dense      │ <span style=\"color: #7f7f7f; text-decoration-color: #7f7f7f\">float32</span>[1,192]    │ <span style=\"color: #7f7f7f; text-decoration-color: #7f7f7f\">float32</span>[1,24]     │ bias: <span style=\"color: #7f7f7f; text-decoration-color: #7f7f7f\">float32</span>[24] │                    │\n",
       "│                   │            │                   │                   │ kernel:           │                    │\n",
       "│                   │            │                   │                   │ <span style=\"color: #7f7f7f; text-decoration-color: #7f7f7f\">float32</span>[192,24]   │                    │\n",
       "│                   │            │                   │                   │                   │                    │\n",
       "│                   │            │                   │                   │ <span style=\"font-weight: bold\">4,632 </span><span style=\"color: #7f7f7f; text-decoration-color: #7f7f7f; font-weight: bold\">(18.5 KB)</span>   │                    │\n",
       "├───────────────────┼────────────┼───────────────────┼───────────────────┼───────────────────┼────────────────────┤\n",
       "│ mean_model/Batch… │ BatchNorm  │ <span style=\"color: #7f7f7f; text-decoration-color: #7f7f7f\">float32</span>[1,24]     │ <span style=\"color: #7f7f7f; text-decoration-color: #7f7f7f\">float32</span>[1,24]     │ bias: <span style=\"color: #7f7f7f; text-decoration-color: #7f7f7f\">float32</span>[24] │ mean: <span style=\"color: #7f7f7f; text-decoration-color: #7f7f7f\">float32</span>[24]  │\n",
       "│                   │            │                   │                   │ scale:            │ var: <span style=\"color: #7f7f7f; text-decoration-color: #7f7f7f\">float32</span>[24]   │\n",
       "│                   │            │                   │                   │ <span style=\"color: #7f7f7f; text-decoration-color: #7f7f7f\">float32</span>[24]       │                    │\n",
       "│                   │            │                   │                   │                   │ <span style=\"font-weight: bold\">48 </span><span style=\"color: #7f7f7f; text-decoration-color: #7f7f7f; font-weight: bold\">(192 B)</span>         │\n",
       "│                   │            │                   │                   │ <span style=\"font-weight: bold\">48 </span><span style=\"color: #7f7f7f; text-decoration-color: #7f7f7f; font-weight: bold\">(192 B)</span>        │                    │\n",
       "├───────────────────┼────────────┼───────────────────┼───────────────────┼───────────────────┼────────────────────┤\n",
       "│ mean_model/Dense… │ Dense      │ <span style=\"color: #7f7f7f; text-decoration-color: #7f7f7f\">float32</span>[1,24]     │ <span style=\"color: #7f7f7f; text-decoration-color: #7f7f7f\">float32</span>[1,1]      │ bias: <span style=\"color: #7f7f7f; text-decoration-color: #7f7f7f\">float32</span>[1]  │                    │\n",
       "│                   │            │                   │                   │ kernel:           │                    │\n",
       "│                   │            │                   │                   │ <span style=\"color: #7f7f7f; text-decoration-color: #7f7f7f\">float32</span>[24,1]     │                    │\n",
       "│                   │            │                   │                   │                   │                    │\n",
       "│                   │            │                   │                   │ <span style=\"font-weight: bold\">25 </span><span style=\"color: #7f7f7f; text-decoration-color: #7f7f7f; font-weight: bold\">(100 B)</span>        │                    │\n",
       "├───────────────────┼────────────┼───────────────────┼───────────────────┼───────────────────┼────────────────────┤\n",
       "│ std_model         │ BaseCNN    │ -                 │ <span style=\"color: #7f7f7f; text-decoration-color: #7f7f7f\">float32</span>[1,1]      │                   │                    │\n",
       "│                   │            │ <span style=\"color: #7f7f7f; text-decoration-color: #7f7f7f\">float32</span>[1,100,10… │                   │                   │                    │\n",
       "│                   │            │ - False           │                   │                   │                    │\n",
       "├───────────────────┼────────────┼───────────────────┼───────────────────┼───────────────────┼────────────────────┤\n",
       "│ std_model/Conv_0  │ Conv       │ <span style=\"color: #7f7f7f; text-decoration-color: #7f7f7f\">float32</span>[1,100,10… │ <span style=\"color: #7f7f7f; text-decoration-color: #7f7f7f\">float32</span>[1,31,31,… │ bias: <span style=\"color: #7f7f7f; text-decoration-color: #7f7f7f\">float32</span>[64] │                    │\n",
       "│                   │            │                   │                   │ kernel:           │                    │\n",
       "│                   │            │                   │                   │ <span style=\"color: #7f7f7f; text-decoration-color: #7f7f7f\">float32</span>[10,10,1,… │                    │\n",
       "│                   │            │                   │                   │                   │                    │\n",
       "│                   │            │                   │                   │ <span style=\"font-weight: bold\">6,464 </span><span style=\"color: #7f7f7f; text-decoration-color: #7f7f7f; font-weight: bold\">(25.9 KB)</span>   │                    │\n",
       "├───────────────────┼────────────┼───────────────────┼───────────────────┼───────────────────┼────────────────────┤\n",
       "│ std_model/BatchN… │ BatchNorm  │ <span style=\"color: #7f7f7f; text-decoration-color: #7f7f7f\">float32</span>[1,31,31,… │ <span style=\"color: #7f7f7f; text-decoration-color: #7f7f7f\">float32</span>[1,31,31,… │ bias: <span style=\"color: #7f7f7f; text-decoration-color: #7f7f7f\">float32</span>[64] │ mean: <span style=\"color: #7f7f7f; text-decoration-color: #7f7f7f\">float32</span>[64]  │\n",
       "│                   │            │                   │                   │ scale:            │ var: <span style=\"color: #7f7f7f; text-decoration-color: #7f7f7f\">float32</span>[64]   │\n",
       "│                   │            │                   │                   │ <span style=\"color: #7f7f7f; text-decoration-color: #7f7f7f\">float32</span>[64]       │                    │\n",
       "│                   │            │                   │                   │                   │ <span style=\"font-weight: bold\">128 </span><span style=\"color: #7f7f7f; text-decoration-color: #7f7f7f; font-weight: bold\">(512 B)</span>        │\n",
       "│                   │            │                   │                   │ <span style=\"font-weight: bold\">128 </span><span style=\"color: #7f7f7f; text-decoration-color: #7f7f7f; font-weight: bold\">(512 B)</span>       │                    │\n",
       "├───────────────────┼────────────┼───────────────────┼───────────────────┼───────────────────┼────────────────────┤\n",
       "│ std_model/Conv_1  │ Conv       │ <span style=\"color: #7f7f7f; text-decoration-color: #7f7f7f\">float32</span>[1,15,15,… │ <span style=\"color: #7f7f7f; text-decoration-color: #7f7f7f\">float32</span>[1,6,6,25… │ bias:             │                    │\n",
       "│                   │            │                   │                   │ <span style=\"color: #7f7f7f; text-decoration-color: #7f7f7f\">float32</span>[256]      │                    │\n",
       "│                   │            │                   │                   │ kernel:           │                    │\n",
       "│                   │            │                   │                   │ <span style=\"color: #7f7f7f; text-decoration-color: #7f7f7f\">float32</span>[5,5,64,2… │                    │\n",
       "│                   │            │                   │                   │                   │                    │\n",
       "│                   │            │                   │                   │ <span style=\"font-weight: bold\">409,856 </span><span style=\"color: #7f7f7f; text-decoration-color: #7f7f7f; font-weight: bold\">(1.6 MB)</span>  │                    │\n",
       "├───────────────────┼────────────┼───────────────────┼───────────────────┼───────────────────┼────────────────────┤\n",
       "│ std_model/BatchN… │ BatchNorm  │ <span style=\"color: #7f7f7f; text-decoration-color: #7f7f7f\">float32</span>[1,6,6,25… │ <span style=\"color: #7f7f7f; text-decoration-color: #7f7f7f\">float32</span>[1,6,6,25… │ bias:             │ mean: <span style=\"color: #7f7f7f; text-decoration-color: #7f7f7f\">float32</span>[256] │\n",
       "│                   │            │                   │                   │ <span style=\"color: #7f7f7f; text-decoration-color: #7f7f7f\">float32</span>[256]      │ var: <span style=\"color: #7f7f7f; text-decoration-color: #7f7f7f\">float32</span>[256]  │\n",
       "│                   │            │                   │                   │ scale:            │                    │\n",
       "│                   │            │                   │                   │ <span style=\"color: #7f7f7f; text-decoration-color: #7f7f7f\">float32</span>[256]      │ <span style=\"font-weight: bold\">512 </span><span style=\"color: #7f7f7f; text-decoration-color: #7f7f7f; font-weight: bold\">(2.0 KB)</span>       │\n",
       "│                   │            │                   │                   │                   │                    │\n",
       "│                   │            │                   │                   │ <span style=\"font-weight: bold\">512 </span><span style=\"color: #7f7f7f; text-decoration-color: #7f7f7f; font-weight: bold\">(2.0 KB)</span>      │                    │\n",
       "├───────────────────┼────────────┼───────────────────┼───────────────────┼───────────────────┼────────────────────┤\n",
       "│ std_model/Dense_0 │ Dense      │ <span style=\"color: #7f7f7f; text-decoration-color: #7f7f7f\">float32</span>[1,2304]   │ <span style=\"color: #7f7f7f; text-decoration-color: #7f7f7f\">float32</span>[1,1024]   │ bias:             │                    │\n",
       "│                   │            │                   │                   │ <span style=\"color: #7f7f7f; text-decoration-color: #7f7f7f\">float32</span>[1024]     │                    │\n",
       "│                   │            │                   │                   │ kernel:           │                    │\n",
       "│                   │            │                   │                   │ <span style=\"color: #7f7f7f; text-decoration-color: #7f7f7f\">float32</span>[2304,102… │                    │\n",
       "│                   │            │                   │                   │                   │                    │\n",
       "│                   │            │                   │                   │ <span style=\"font-weight: bold\">2,360,320 </span><span style=\"color: #7f7f7f; text-decoration-color: #7f7f7f; font-weight: bold\">(9.4 </span>   │                    │\n",
       "│                   │            │                   │                   │ <span style=\"color: #7f7f7f; text-decoration-color: #7f7f7f; font-weight: bold\">MB)</span>               │                    │\n",
       "├───────────────────┼────────────┼───────────────────┼───────────────────┼───────────────────┼────────────────────┤\n",
       "│ std_model/BatchN… │ BatchNorm  │ <span style=\"color: #7f7f7f; text-decoration-color: #7f7f7f\">float32</span>[1,1024]   │ <span style=\"color: #7f7f7f; text-decoration-color: #7f7f7f\">float32</span>[1,1024]   │ bias:             │ mean:              │\n",
       "│                   │            │                   │                   │ <span style=\"color: #7f7f7f; text-decoration-color: #7f7f7f\">float32</span>[1024]     │ <span style=\"color: #7f7f7f; text-decoration-color: #7f7f7f\">float32</span>[1024]      │\n",
       "│                   │            │                   │                   │ scale:            │ var: <span style=\"color: #7f7f7f; text-decoration-color: #7f7f7f\">float32</span>[1024] │\n",
       "│                   │            │                   │                   │ <span style=\"color: #7f7f7f; text-decoration-color: #7f7f7f\">float32</span>[1024]     │                    │\n",
       "│                   │            │                   │                   │                   │ <span style=\"font-weight: bold\">2,048 </span><span style=\"color: #7f7f7f; text-decoration-color: #7f7f7f; font-weight: bold\">(8.2 KB)</span>     │\n",
       "│                   │            │                   │                   │ <span style=\"font-weight: bold\">2,048 </span><span style=\"color: #7f7f7f; text-decoration-color: #7f7f7f; font-weight: bold\">(8.2 KB)</span>    │                    │\n",
       "├───────────────────┼────────────┼───────────────────┼───────────────────┼───────────────────┼────────────────────┤\n",
       "│ std_model/Dense_1 │ Dense      │ <span style=\"color: #7f7f7f; text-decoration-color: #7f7f7f\">float32</span>[1,1024]   │ <span style=\"color: #7f7f7f; text-decoration-color: #7f7f7f\">float32</span>[1,576]    │ bias:             │                    │\n",
       "│                   │            │                   │                   │ <span style=\"color: #7f7f7f; text-decoration-color: #7f7f7f\">float32</span>[576]      │                    │\n",
       "│                   │            │                   │                   │ kernel:           │                    │\n",
       "│                   │            │                   │                   │ <span style=\"color: #7f7f7f; text-decoration-color: #7f7f7f\">float32</span>[1024,576] │                    │\n",
       "│                   │            │                   │                   │                   │                    │\n",
       "│                   │            │                   │                   │ <span style=\"font-weight: bold\">590,400 </span><span style=\"color: #7f7f7f; text-decoration-color: #7f7f7f; font-weight: bold\">(2.4 MB)</span>  │                    │\n",
       "├───────────────────┼────────────┼───────────────────┼───────────────────┼───────────────────┼────────────────────┤\n",
       "│ std_model/BatchN… │ BatchNorm  │ <span style=\"color: #7f7f7f; text-decoration-color: #7f7f7f\">float32</span>[1,576]    │ <span style=\"color: #7f7f7f; text-decoration-color: #7f7f7f\">float32</span>[1,576]    │ bias:             │ mean: <span style=\"color: #7f7f7f; text-decoration-color: #7f7f7f\">float32</span>[576] │\n",
       "│                   │            │                   │                   │ <span style=\"color: #7f7f7f; text-decoration-color: #7f7f7f\">float32</span>[576]      │ var: <span style=\"color: #7f7f7f; text-decoration-color: #7f7f7f\">float32</span>[576]  │\n",
       "│                   │            │                   │                   │ scale:            │                    │\n",
       "│                   │            │                   │                   │ <span style=\"color: #7f7f7f; text-decoration-color: #7f7f7f\">float32</span>[576]      │ <span style=\"font-weight: bold\">1,152 </span><span style=\"color: #7f7f7f; text-decoration-color: #7f7f7f; font-weight: bold\">(4.6 KB)</span>     │\n",
       "│                   │            │                   │                   │                   │                    │\n",
       "│                   │            │                   │                   │ <span style=\"font-weight: bold\">1,152 </span><span style=\"color: #7f7f7f; text-decoration-color: #7f7f7f; font-weight: bold\">(4.6 KB)</span>    │                    │\n",
       "├───────────────────┼────────────┼───────────────────┼───────────────────┼───────────────────┼────────────────────┤\n",
       "│ std_model/Dense_2 │ Dense      │ <span style=\"color: #7f7f7f; text-decoration-color: #7f7f7f\">float32</span>[1,576]    │ <span style=\"color: #7f7f7f; text-decoration-color: #7f7f7f\">float32</span>[1,192]    │ bias:             │                    │\n",
       "│                   │            │                   │                   │ <span style=\"color: #7f7f7f; text-decoration-color: #7f7f7f\">float32</span>[192]      │                    │\n",
       "│                   │            │                   │                   │ kernel:           │                    │\n",
       "│                   │            │                   │                   │ <span style=\"color: #7f7f7f; text-decoration-color: #7f7f7f\">float32</span>[576,192]  │                    │\n",
       "│                   │            │                   │                   │                   │                    │\n",
       "│                   │            │                   │                   │ <span style=\"font-weight: bold\">110,784 </span><span style=\"color: #7f7f7f; text-decoration-color: #7f7f7f; font-weight: bold\">(443.1 </span>   │                    │\n",
       "│                   │            │                   │                   │ <span style=\"color: #7f7f7f; text-decoration-color: #7f7f7f; font-weight: bold\">KB)</span>               │                    │\n",
       "├───────────────────┼────────────┼───────────────────┼───────────────────┼───────────────────┼────────────────────┤\n",
       "│ std_model/BatchN… │ BatchNorm  │ <span style=\"color: #7f7f7f; text-decoration-color: #7f7f7f\">float32</span>[1,192]    │ <span style=\"color: #7f7f7f; text-decoration-color: #7f7f7f\">float32</span>[1,192]    │ bias:             │ mean: <span style=\"color: #7f7f7f; text-decoration-color: #7f7f7f\">float32</span>[192] │\n",
       "│                   │            │                   │                   │ <span style=\"color: #7f7f7f; text-decoration-color: #7f7f7f\">float32</span>[192]      │ var: <span style=\"color: #7f7f7f; text-decoration-color: #7f7f7f\">float32</span>[192]  │\n",
       "│                   │            │                   │                   │ scale:            │                    │\n",
       "│                   │            │                   │                   │ <span style=\"color: #7f7f7f; text-decoration-color: #7f7f7f\">float32</span>[192]      │ <span style=\"font-weight: bold\">384 </span><span style=\"color: #7f7f7f; text-decoration-color: #7f7f7f; font-weight: bold\">(1.5 KB)</span>       │\n",
       "│                   │            │                   │                   │                   │                    │\n",
       "│                   │            │                   │                   │ <span style=\"font-weight: bold\">384 </span><span style=\"color: #7f7f7f; text-decoration-color: #7f7f7f; font-weight: bold\">(1.5 KB)</span>      │                    │\n",
       "├───────────────────┼────────────┼───────────────────┼───────────────────┼───────────────────┼────────────────────┤\n",
       "│ std_model/Dense_3 │ Dense      │ <span style=\"color: #7f7f7f; text-decoration-color: #7f7f7f\">float32</span>[1,192]    │ <span style=\"color: #7f7f7f; text-decoration-color: #7f7f7f\">float32</span>[1,24]     │ bias: <span style=\"color: #7f7f7f; text-decoration-color: #7f7f7f\">float32</span>[24] │                    │\n",
       "│                   │            │                   │                   │ kernel:           │                    │\n",
       "│                   │            │                   │                   │ <span style=\"color: #7f7f7f; text-decoration-color: #7f7f7f\">float32</span>[192,24]   │                    │\n",
       "│                   │            │                   │                   │                   │                    │\n",
       "│                   │            │                   │                   │ <span style=\"font-weight: bold\">4,632 </span><span style=\"color: #7f7f7f; text-decoration-color: #7f7f7f; font-weight: bold\">(18.5 KB)</span>   │                    │\n",
       "├───────────────────┼────────────┼───────────────────┼───────────────────┼───────────────────┼────────────────────┤\n",
       "│ std_model/BatchN… │ BatchNorm  │ <span style=\"color: #7f7f7f; text-decoration-color: #7f7f7f\">float32</span>[1,24]     │ <span style=\"color: #7f7f7f; text-decoration-color: #7f7f7f\">float32</span>[1,24]     │ bias: <span style=\"color: #7f7f7f; text-decoration-color: #7f7f7f\">float32</span>[24] │ mean: <span style=\"color: #7f7f7f; text-decoration-color: #7f7f7f\">float32</span>[24]  │\n",
       "│                   │            │                   │                   │ scale:            │ var: <span style=\"color: #7f7f7f; text-decoration-color: #7f7f7f\">float32</span>[24]   │\n",
       "│                   │            │                   │                   │ <span style=\"color: #7f7f7f; text-decoration-color: #7f7f7f\">float32</span>[24]       │                    │\n",
       "│                   │            │                   │                   │                   │ <span style=\"font-weight: bold\">48 </span><span style=\"color: #7f7f7f; text-decoration-color: #7f7f7f; font-weight: bold\">(192 B)</span>         │\n",
       "│                   │            │                   │                   │ <span style=\"font-weight: bold\">48 </span><span style=\"color: #7f7f7f; text-decoration-color: #7f7f7f; font-weight: bold\">(192 B)</span>        │                    │\n",
       "├───────────────────┼────────────┼───────────────────┼───────────────────┼───────────────────┼────────────────────┤\n",
       "│ std_model/Dense_4 │ Dense      │ <span style=\"color: #7f7f7f; text-decoration-color: #7f7f7f\">float32</span>[1,24]     │ <span style=\"color: #7f7f7f; text-decoration-color: #7f7f7f\">float32</span>[1,1]      │ bias: <span style=\"color: #7f7f7f; text-decoration-color: #7f7f7f\">float32</span>[1]  │                    │\n",
       "│                   │            │                   │                   │ kernel:           │                    │\n",
       "│                   │            │                   │                   │ <span style=\"color: #7f7f7f; text-decoration-color: #7f7f7f\">float32</span>[24,1]     │                    │\n",
       "│                   │            │                   │                   │                   │                    │\n",
       "│                   │            │                   │                   │ <span style=\"font-weight: bold\">25 </span><span style=\"color: #7f7f7f; text-decoration-color: #7f7f7f; font-weight: bold\">(100 B)</span>        │                    │\n",
       "├───────────────────┼────────────┼───────────────────┼───────────────────┼───────────────────┼────────────────────┤\n",
       "│<span style=\"font-weight: bold\">                   </span>│<span style=\"font-weight: bold\">            </span>│<span style=\"font-weight: bold\">                   </span>│<span style=\"font-weight: bold\">             Total </span>│<span style=\"font-weight: bold\"> 6,973,506 </span><span style=\"color: #7f7f7f; text-decoration-color: #7f7f7f; font-weight: bold\">(27.9 </span><span style=\"font-weight: bold\">  </span>│<span style=\"font-weight: bold\"> 8,544 </span><span style=\"color: #7f7f7f; text-decoration-color: #7f7f7f; font-weight: bold\">(34.2 KB)</span><span style=\"font-weight: bold\">    </span>│\n",
       "│<span style=\"font-weight: bold\">                   </span>│<span style=\"font-weight: bold\">            </span>│<span style=\"font-weight: bold\">                   </span>│<span style=\"font-weight: bold\">                   </span>│<span style=\"font-weight: bold\"> </span><span style=\"color: #7f7f7f; text-decoration-color: #7f7f7f; font-weight: bold\">MB)</span><span style=\"font-weight: bold\">               </span>│<span style=\"font-weight: bold\">                    </span>│\n",
       "└───────────────────┴────────────┴───────────────────┴───────────────────┴───────────────────┴────────────────────┘\n",
       "<span style=\"font-weight: bold\">                                                                                                                   </span>\n",
       "<span style=\"font-weight: bold\">                                       Total Parameters: 6,982,050 </span><span style=\"color: #7f7f7f; text-decoration-color: #7f7f7f; font-weight: bold\">(27.9 MB)</span><span style=\"font-weight: bold\">                                       </span>\n",
       "</pre>\n"
      ],
      "text/plain": [
       "\u001b[3m                                                SceneModel Summary                                                 \u001b[0m\n",
       "┏━━━━━━━━━━━━━━━━━━━┳━━━━━━━━━━━━┳━━━━━━━━━━━━━━━━━━━┳━━━━━━━━━━━━━━━━━━━┳━━━━━━━━━━━━━━━━━━━┳━━━━━━━━━━━━━━━━━━━━┓\n",
       "┃\u001b[1m \u001b[0m\u001b[1mpath             \u001b[0m\u001b[1m \u001b[0m┃\u001b[1m \u001b[0m\u001b[1mmodule    \u001b[0m\u001b[1m \u001b[0m┃\u001b[1m \u001b[0m\u001b[1minputs           \u001b[0m\u001b[1m \u001b[0m┃\u001b[1m \u001b[0m\u001b[1moutputs          \u001b[0m\u001b[1m \u001b[0m┃\u001b[1m \u001b[0m\u001b[1mparams           \u001b[0m\u001b[1m \u001b[0m┃\u001b[1m \u001b[0m\u001b[1mbatch_stats       \u001b[0m\u001b[1m \u001b[0m┃\n",
       "┡━━━━━━━━━━━━━━━━━━━╇━━━━━━━━━━━━╇━━━━━━━━━━━━━━━━━━━╇━━━━━━━━━━━━━━━━━━━╇━━━━━━━━━━━━━━━━━━━╇━━━━━━━━━━━━━━━━━━━━┩\n",
       "│                   │ SceneModel │ -                 │ - \u001b[2mfloat32\u001b[0m[1,1]    │                   │                    │\n",
       "│                   │            │ \u001b[2mfloat32\u001b[0m[1,100,10… │ - \u001b[2mfloat32\u001b[0m[1,1]    │                   │                    │\n",
       "│                   │            │ - False           │                   │                   │                    │\n",
       "├───────────────────┼────────────┼───────────────────┼───────────────────┼───────────────────┼────────────────────┤\n",
       "│ mean_model        │ BaseCNN    │ -                 │ \u001b[2mfloat32\u001b[0m[1,1]      │                   │                    │\n",
       "│                   │            │ \u001b[2mfloat32\u001b[0m[1,100,10… │                   │                   │                    │\n",
       "│                   │            │ - False           │                   │                   │                    │\n",
       "├───────────────────┼────────────┼───────────────────┼───────────────────┼───────────────────┼────────────────────┤\n",
       "│ mean_model/Conv_0 │ Conv       │ \u001b[2mfloat32\u001b[0m[1,100,10… │ \u001b[2mfloat32\u001b[0m[1,31,31,… │ bias: \u001b[2mfloat32\u001b[0m[64] │                    │\n",
       "│                   │            │                   │                   │ kernel:           │                    │\n",
       "│                   │            │                   │                   │ \u001b[2mfloat32\u001b[0m[10,10,1,… │                    │\n",
       "│                   │            │                   │                   │                   │                    │\n",
       "│                   │            │                   │                   │ \u001b[1m6,464 \u001b[0m\u001b[1;2m(25.9 KB)\u001b[0m   │                    │\n",
       "├───────────────────┼────────────┼───────────────────┼───────────────────┼───────────────────┼────────────────────┤\n",
       "│ mean_model/Batch… │ BatchNorm  │ \u001b[2mfloat32\u001b[0m[1,31,31,… │ \u001b[2mfloat32\u001b[0m[1,31,31,… │ bias: \u001b[2mfloat32\u001b[0m[64] │ mean: \u001b[2mfloat32\u001b[0m[64]  │\n",
       "│                   │            │                   │                   │ scale:            │ var: \u001b[2mfloat32\u001b[0m[64]   │\n",
       "│                   │            │                   │                   │ \u001b[2mfloat32\u001b[0m[64]       │                    │\n",
       "│                   │            │                   │                   │                   │ \u001b[1m128 \u001b[0m\u001b[1;2m(512 B)\u001b[0m        │\n",
       "│                   │            │                   │                   │ \u001b[1m128 \u001b[0m\u001b[1;2m(512 B)\u001b[0m       │                    │\n",
       "├───────────────────┼────────────┼───────────────────┼───────────────────┼───────────────────┼────────────────────┤\n",
       "│ mean_model/Conv_1 │ Conv       │ \u001b[2mfloat32\u001b[0m[1,15,15,… │ \u001b[2mfloat32\u001b[0m[1,6,6,25… │ bias:             │                    │\n",
       "│                   │            │                   │                   │ \u001b[2mfloat32\u001b[0m[256]      │                    │\n",
       "│                   │            │                   │                   │ kernel:           │                    │\n",
       "│                   │            │                   │                   │ \u001b[2mfloat32\u001b[0m[5,5,64,2… │                    │\n",
       "│                   │            │                   │                   │                   │                    │\n",
       "│                   │            │                   │                   │ \u001b[1m409,856 \u001b[0m\u001b[1;2m(1.6 MB)\u001b[0m  │                    │\n",
       "├───────────────────┼────────────┼───────────────────┼───────────────────┼───────────────────┼────────────────────┤\n",
       "│ mean_model/Batch… │ BatchNorm  │ \u001b[2mfloat32\u001b[0m[1,6,6,25… │ \u001b[2mfloat32\u001b[0m[1,6,6,25… │ bias:             │ mean: \u001b[2mfloat32\u001b[0m[256] │\n",
       "│                   │            │                   │                   │ \u001b[2mfloat32\u001b[0m[256]      │ var: \u001b[2mfloat32\u001b[0m[256]  │\n",
       "│                   │            │                   │                   │ scale:            │                    │\n",
       "│                   │            │                   │                   │ \u001b[2mfloat32\u001b[0m[256]      │ \u001b[1m512 \u001b[0m\u001b[1;2m(2.0 KB)\u001b[0m       │\n",
       "│                   │            │                   │                   │                   │                    │\n",
       "│                   │            │                   │                   │ \u001b[1m512 \u001b[0m\u001b[1;2m(2.0 KB)\u001b[0m      │                    │\n",
       "├───────────────────┼────────────┼───────────────────┼───────────────────┼───────────────────┼────────────────────┤\n",
       "│ mean_model/Dense… │ Dense      │ \u001b[2mfloat32\u001b[0m[1,2304]   │ \u001b[2mfloat32\u001b[0m[1,1024]   │ bias:             │                    │\n",
       "│                   │            │                   │                   │ \u001b[2mfloat32\u001b[0m[1024]     │                    │\n",
       "│                   │            │                   │                   │ kernel:           │                    │\n",
       "│                   │            │                   │                   │ \u001b[2mfloat32\u001b[0m[2304,102… │                    │\n",
       "│                   │            │                   │                   │                   │                    │\n",
       "│                   │            │                   │                   │ \u001b[1m2,360,320 \u001b[0m\u001b[1;2m(9.4 \u001b[0m   │                    │\n",
       "│                   │            │                   │                   │ \u001b[1;2mMB)\u001b[0m               │                    │\n",
       "├───────────────────┼────────────┼───────────────────┼───────────────────┼───────────────────┼────────────────────┤\n",
       "│ mean_model/Batch… │ BatchNorm  │ \u001b[2mfloat32\u001b[0m[1,1024]   │ \u001b[2mfloat32\u001b[0m[1,1024]   │ bias:             │ mean:              │\n",
       "│                   │            │                   │                   │ \u001b[2mfloat32\u001b[0m[1024]     │ \u001b[2mfloat32\u001b[0m[1024]      │\n",
       "│                   │            │                   │                   │ scale:            │ var: \u001b[2mfloat32\u001b[0m[1024] │\n",
       "│                   │            │                   │                   │ \u001b[2mfloat32\u001b[0m[1024]     │                    │\n",
       "│                   │            │                   │                   │                   │ \u001b[1m2,048 \u001b[0m\u001b[1;2m(8.2 KB)\u001b[0m     │\n",
       "│                   │            │                   │                   │ \u001b[1m2,048 \u001b[0m\u001b[1;2m(8.2 KB)\u001b[0m    │                    │\n",
       "├───────────────────┼────────────┼───────────────────┼───────────────────┼───────────────────┼────────────────────┤\n",
       "│ mean_model/Dense… │ Dense      │ \u001b[2mfloat32\u001b[0m[1,1024]   │ \u001b[2mfloat32\u001b[0m[1,576]    │ bias:             │                    │\n",
       "│                   │            │                   │                   │ \u001b[2mfloat32\u001b[0m[576]      │                    │\n",
       "│                   │            │                   │                   │ kernel:           │                    │\n",
       "│                   │            │                   │                   │ \u001b[2mfloat32\u001b[0m[1024,576] │                    │\n",
       "│                   │            │                   │                   │                   │                    │\n",
       "│                   │            │                   │                   │ \u001b[1m590,400 \u001b[0m\u001b[1;2m(2.4 MB)\u001b[0m  │                    │\n",
       "├───────────────────┼────────────┼───────────────────┼───────────────────┼───────────────────┼────────────────────┤\n",
       "│ mean_model/Batch… │ BatchNorm  │ \u001b[2mfloat32\u001b[0m[1,576]    │ \u001b[2mfloat32\u001b[0m[1,576]    │ bias:             │ mean: \u001b[2mfloat32\u001b[0m[576] │\n",
       "│                   │            │                   │                   │ \u001b[2mfloat32\u001b[0m[576]      │ var: \u001b[2mfloat32\u001b[0m[576]  │\n",
       "│                   │            │                   │                   │ scale:            │                    │\n",
       "│                   │            │                   │                   │ \u001b[2mfloat32\u001b[0m[576]      │ \u001b[1m1,152 \u001b[0m\u001b[1;2m(4.6 KB)\u001b[0m     │\n",
       "│                   │            │                   │                   │                   │                    │\n",
       "│                   │            │                   │                   │ \u001b[1m1,152 \u001b[0m\u001b[1;2m(4.6 KB)\u001b[0m    │                    │\n",
       "├───────────────────┼────────────┼───────────────────┼───────────────────┼───────────────────┼────────────────────┤\n",
       "│ mean_model/Dense… │ Dense      │ \u001b[2mfloat32\u001b[0m[1,576]    │ \u001b[2mfloat32\u001b[0m[1,192]    │ bias:             │                    │\n",
       "│                   │            │                   │                   │ \u001b[2mfloat32\u001b[0m[192]      │                    │\n",
       "│                   │            │                   │                   │ kernel:           │                    │\n",
       "│                   │            │                   │                   │ \u001b[2mfloat32\u001b[0m[576,192]  │                    │\n",
       "│                   │            │                   │                   │                   │                    │\n",
       "│                   │            │                   │                   │ \u001b[1m110,784 \u001b[0m\u001b[1;2m(443.1 \u001b[0m   │                    │\n",
       "│                   │            │                   │                   │ \u001b[1;2mKB)\u001b[0m               │                    │\n",
       "├───────────────────┼────────────┼───────────────────┼───────────────────┼───────────────────┼────────────────────┤\n",
       "│ mean_model/Batch… │ BatchNorm  │ \u001b[2mfloat32\u001b[0m[1,192]    │ \u001b[2mfloat32\u001b[0m[1,192]    │ bias:             │ mean: \u001b[2mfloat32\u001b[0m[192] │\n",
       "│                   │            │                   │                   │ \u001b[2mfloat32\u001b[0m[192]      │ var: \u001b[2mfloat32\u001b[0m[192]  │\n",
       "│                   │            │                   │                   │ scale:            │                    │\n",
       "│                   │            │                   │                   │ \u001b[2mfloat32\u001b[0m[192]      │ \u001b[1m384 \u001b[0m\u001b[1;2m(1.5 KB)\u001b[0m       │\n",
       "│                   │            │                   │                   │                   │                    │\n",
       "│                   │            │                   │                   │ \u001b[1m384 \u001b[0m\u001b[1;2m(1.5 KB)\u001b[0m      │                    │\n",
       "├───────────────────┼────────────┼───────────────────┼───────────────────┼───────────────────┼────────────────────┤\n",
       "│ mean_model/Dense… │ Dense      │ \u001b[2mfloat32\u001b[0m[1,192]    │ \u001b[2mfloat32\u001b[0m[1,24]     │ bias: \u001b[2mfloat32\u001b[0m[24] │                    │\n",
       "│                   │            │                   │                   │ kernel:           │                    │\n",
       "│                   │            │                   │                   │ \u001b[2mfloat32\u001b[0m[192,24]   │                    │\n",
       "│                   │            │                   │                   │                   │                    │\n",
       "│                   │            │                   │                   │ \u001b[1m4,632 \u001b[0m\u001b[1;2m(18.5 KB)\u001b[0m   │                    │\n",
       "├───────────────────┼────────────┼───────────────────┼───────────────────┼───────────────────┼────────────────────┤\n",
       "│ mean_model/Batch… │ BatchNorm  │ \u001b[2mfloat32\u001b[0m[1,24]     │ \u001b[2mfloat32\u001b[0m[1,24]     │ bias: \u001b[2mfloat32\u001b[0m[24] │ mean: \u001b[2mfloat32\u001b[0m[24]  │\n",
       "│                   │            │                   │                   │ scale:            │ var: \u001b[2mfloat32\u001b[0m[24]   │\n",
       "│                   │            │                   │                   │ \u001b[2mfloat32\u001b[0m[24]       │                    │\n",
       "│                   │            │                   │                   │                   │ \u001b[1m48 \u001b[0m\u001b[1;2m(192 B)\u001b[0m         │\n",
       "│                   │            │                   │                   │ \u001b[1m48 \u001b[0m\u001b[1;2m(192 B)\u001b[0m        │                    │\n",
       "├───────────────────┼────────────┼───────────────────┼───────────────────┼───────────────────┼────────────────────┤\n",
       "│ mean_model/Dense… │ Dense      │ \u001b[2mfloat32\u001b[0m[1,24]     │ \u001b[2mfloat32\u001b[0m[1,1]      │ bias: \u001b[2mfloat32\u001b[0m[1]  │                    │\n",
       "│                   │            │                   │                   │ kernel:           │                    │\n",
       "│                   │            │                   │                   │ \u001b[2mfloat32\u001b[0m[24,1]     │                    │\n",
       "│                   │            │                   │                   │                   │                    │\n",
       "│                   │            │                   │                   │ \u001b[1m25 \u001b[0m\u001b[1;2m(100 B)\u001b[0m        │                    │\n",
       "├───────────────────┼────────────┼───────────────────┼───────────────────┼───────────────────┼────────────────────┤\n",
       "│ std_model         │ BaseCNN    │ -                 │ \u001b[2mfloat32\u001b[0m[1,1]      │                   │                    │\n",
       "│                   │            │ \u001b[2mfloat32\u001b[0m[1,100,10… │                   │                   │                    │\n",
       "│                   │            │ - False           │                   │                   │                    │\n",
       "├───────────────────┼────────────┼───────────────────┼───────────────────┼───────────────────┼────────────────────┤\n",
       "│ std_model/Conv_0  │ Conv       │ \u001b[2mfloat32\u001b[0m[1,100,10… │ \u001b[2mfloat32\u001b[0m[1,31,31,… │ bias: \u001b[2mfloat32\u001b[0m[64] │                    │\n",
       "│                   │            │                   │                   │ kernel:           │                    │\n",
       "│                   │            │                   │                   │ \u001b[2mfloat32\u001b[0m[10,10,1,… │                    │\n",
       "│                   │            │                   │                   │                   │                    │\n",
       "│                   │            │                   │                   │ \u001b[1m6,464 \u001b[0m\u001b[1;2m(25.9 KB)\u001b[0m   │                    │\n",
       "├───────────────────┼────────────┼───────────────────┼───────────────────┼───────────────────┼────────────────────┤\n",
       "│ std_model/BatchN… │ BatchNorm  │ \u001b[2mfloat32\u001b[0m[1,31,31,… │ \u001b[2mfloat32\u001b[0m[1,31,31,… │ bias: \u001b[2mfloat32\u001b[0m[64] │ mean: \u001b[2mfloat32\u001b[0m[64]  │\n",
       "│                   │            │                   │                   │ scale:            │ var: \u001b[2mfloat32\u001b[0m[64]   │\n",
       "│                   │            │                   │                   │ \u001b[2mfloat32\u001b[0m[64]       │                    │\n",
       "│                   │            │                   │                   │                   │ \u001b[1m128 \u001b[0m\u001b[1;2m(512 B)\u001b[0m        │\n",
       "│                   │            │                   │                   │ \u001b[1m128 \u001b[0m\u001b[1;2m(512 B)\u001b[0m       │                    │\n",
       "├───────────────────┼────────────┼───────────────────┼───────────────────┼───────────────────┼────────────────────┤\n",
       "│ std_model/Conv_1  │ Conv       │ \u001b[2mfloat32\u001b[0m[1,15,15,… │ \u001b[2mfloat32\u001b[0m[1,6,6,25… │ bias:             │                    │\n",
       "│                   │            │                   │                   │ \u001b[2mfloat32\u001b[0m[256]      │                    │\n",
       "│                   │            │                   │                   │ kernel:           │                    │\n",
       "│                   │            │                   │                   │ \u001b[2mfloat32\u001b[0m[5,5,64,2… │                    │\n",
       "│                   │            │                   │                   │                   │                    │\n",
       "│                   │            │                   │                   │ \u001b[1m409,856 \u001b[0m\u001b[1;2m(1.6 MB)\u001b[0m  │                    │\n",
       "├───────────────────┼────────────┼───────────────────┼───────────────────┼───────────────────┼────────────────────┤\n",
       "│ std_model/BatchN… │ BatchNorm  │ \u001b[2mfloat32\u001b[0m[1,6,6,25… │ \u001b[2mfloat32\u001b[0m[1,6,6,25… │ bias:             │ mean: \u001b[2mfloat32\u001b[0m[256] │\n",
       "│                   │            │                   │                   │ \u001b[2mfloat32\u001b[0m[256]      │ var: \u001b[2mfloat32\u001b[0m[256]  │\n",
       "│                   │            │                   │                   │ scale:            │                    │\n",
       "│                   │            │                   │                   │ \u001b[2mfloat32\u001b[0m[256]      │ \u001b[1m512 \u001b[0m\u001b[1;2m(2.0 KB)\u001b[0m       │\n",
       "│                   │            │                   │                   │                   │                    │\n",
       "│                   │            │                   │                   │ \u001b[1m512 \u001b[0m\u001b[1;2m(2.0 KB)\u001b[0m      │                    │\n",
       "├───────────────────┼────────────┼───────────────────┼───────────────────┼───────────────────┼────────────────────┤\n",
       "│ std_model/Dense_0 │ Dense      │ \u001b[2mfloat32\u001b[0m[1,2304]   │ \u001b[2mfloat32\u001b[0m[1,1024]   │ bias:             │                    │\n",
       "│                   │            │                   │                   │ \u001b[2mfloat32\u001b[0m[1024]     │                    │\n",
       "│                   │            │                   │                   │ kernel:           │                    │\n",
       "│                   │            │                   │                   │ \u001b[2mfloat32\u001b[0m[2304,102… │                    │\n",
       "│                   │            │                   │                   │                   │                    │\n",
       "│                   │            │                   │                   │ \u001b[1m2,360,320 \u001b[0m\u001b[1;2m(9.4 \u001b[0m   │                    │\n",
       "│                   │            │                   │                   │ \u001b[1;2mMB)\u001b[0m               │                    │\n",
       "├───────────────────┼────────────┼───────────────────┼───────────────────┼───────────────────┼────────────────────┤\n",
       "│ std_model/BatchN… │ BatchNorm  │ \u001b[2mfloat32\u001b[0m[1,1024]   │ \u001b[2mfloat32\u001b[0m[1,1024]   │ bias:             │ mean:              │\n",
       "│                   │            │                   │                   │ \u001b[2mfloat32\u001b[0m[1024]     │ \u001b[2mfloat32\u001b[0m[1024]      │\n",
       "│                   │            │                   │                   │ scale:            │ var: \u001b[2mfloat32\u001b[0m[1024] │\n",
       "│                   │            │                   │                   │ \u001b[2mfloat32\u001b[0m[1024]     │                    │\n",
       "│                   │            │                   │                   │                   │ \u001b[1m2,048 \u001b[0m\u001b[1;2m(8.2 KB)\u001b[0m     │\n",
       "│                   │            │                   │                   │ \u001b[1m2,048 \u001b[0m\u001b[1;2m(8.2 KB)\u001b[0m    │                    │\n",
       "├───────────────────┼────────────┼───────────────────┼───────────────────┼───────────────────┼────────────────────┤\n",
       "│ std_model/Dense_1 │ Dense      │ \u001b[2mfloat32\u001b[0m[1,1024]   │ \u001b[2mfloat32\u001b[0m[1,576]    │ bias:             │                    │\n",
       "│                   │            │                   │                   │ \u001b[2mfloat32\u001b[0m[576]      │                    │\n",
       "│                   │            │                   │                   │ kernel:           │                    │\n",
       "│                   │            │                   │                   │ \u001b[2mfloat32\u001b[0m[1024,576] │                    │\n",
       "│                   │            │                   │                   │                   │                    │\n",
       "│                   │            │                   │                   │ \u001b[1m590,400 \u001b[0m\u001b[1;2m(2.4 MB)\u001b[0m  │                    │\n",
       "├───────────────────┼────────────┼───────────────────┼───────────────────┼───────────────────┼────────────────────┤\n",
       "│ std_model/BatchN… │ BatchNorm  │ \u001b[2mfloat32\u001b[0m[1,576]    │ \u001b[2mfloat32\u001b[0m[1,576]    │ bias:             │ mean: \u001b[2mfloat32\u001b[0m[576] │\n",
       "│                   │            │                   │                   │ \u001b[2mfloat32\u001b[0m[576]      │ var: \u001b[2mfloat32\u001b[0m[576]  │\n",
       "│                   │            │                   │                   │ scale:            │                    │\n",
       "│                   │            │                   │                   │ \u001b[2mfloat32\u001b[0m[576]      │ \u001b[1m1,152 \u001b[0m\u001b[1;2m(4.6 KB)\u001b[0m     │\n",
       "│                   │            │                   │                   │                   │                    │\n",
       "│                   │            │                   │                   │ \u001b[1m1,152 \u001b[0m\u001b[1;2m(4.6 KB)\u001b[0m    │                    │\n",
       "├───────────────────┼────────────┼───────────────────┼───────────────────┼───────────────────┼────────────────────┤\n",
       "│ std_model/Dense_2 │ Dense      │ \u001b[2mfloat32\u001b[0m[1,576]    │ \u001b[2mfloat32\u001b[0m[1,192]    │ bias:             │                    │\n",
       "│                   │            │                   │                   │ \u001b[2mfloat32\u001b[0m[192]      │                    │\n",
       "│                   │            │                   │                   │ kernel:           │                    │\n",
       "│                   │            │                   │                   │ \u001b[2mfloat32\u001b[0m[576,192]  │                    │\n",
       "│                   │            │                   │                   │                   │                    │\n",
       "│                   │            │                   │                   │ \u001b[1m110,784 \u001b[0m\u001b[1;2m(443.1 \u001b[0m   │                    │\n",
       "│                   │            │                   │                   │ \u001b[1;2mKB)\u001b[0m               │                    │\n",
       "├───────────────────┼────────────┼───────────────────┼───────────────────┼───────────────────┼────────────────────┤\n",
       "│ std_model/BatchN… │ BatchNorm  │ \u001b[2mfloat32\u001b[0m[1,192]    │ \u001b[2mfloat32\u001b[0m[1,192]    │ bias:             │ mean: \u001b[2mfloat32\u001b[0m[192] │\n",
       "│                   │            │                   │                   │ \u001b[2mfloat32\u001b[0m[192]      │ var: \u001b[2mfloat32\u001b[0m[192]  │\n",
       "│                   │            │                   │                   │ scale:            │                    │\n",
       "│                   │            │                   │                   │ \u001b[2mfloat32\u001b[0m[192]      │ \u001b[1m384 \u001b[0m\u001b[1;2m(1.5 KB)\u001b[0m       │\n",
       "│                   │            │                   │                   │                   │                    │\n",
       "│                   │            │                   │                   │ \u001b[1m384 \u001b[0m\u001b[1;2m(1.5 KB)\u001b[0m      │                    │\n",
       "├───────────────────┼────────────┼───────────────────┼───────────────────┼───────────────────┼────────────────────┤\n",
       "│ std_model/Dense_3 │ Dense      │ \u001b[2mfloat32\u001b[0m[1,192]    │ \u001b[2mfloat32\u001b[0m[1,24]     │ bias: \u001b[2mfloat32\u001b[0m[24] │                    │\n",
       "│                   │            │                   │                   │ kernel:           │                    │\n",
       "│                   │            │                   │                   │ \u001b[2mfloat32\u001b[0m[192,24]   │                    │\n",
       "│                   │            │                   │                   │                   │                    │\n",
       "│                   │            │                   │                   │ \u001b[1m4,632 \u001b[0m\u001b[1;2m(18.5 KB)\u001b[0m   │                    │\n",
       "├───────────────────┼────────────┼───────────────────┼───────────────────┼───────────────────┼────────────────────┤\n",
       "│ std_model/BatchN… │ BatchNorm  │ \u001b[2mfloat32\u001b[0m[1,24]     │ \u001b[2mfloat32\u001b[0m[1,24]     │ bias: \u001b[2mfloat32\u001b[0m[24] │ mean: \u001b[2mfloat32\u001b[0m[24]  │\n",
       "│                   │            │                   │                   │ scale:            │ var: \u001b[2mfloat32\u001b[0m[24]   │\n",
       "│                   │            │                   │                   │ \u001b[2mfloat32\u001b[0m[24]       │                    │\n",
       "│                   │            │                   │                   │                   │ \u001b[1m48 \u001b[0m\u001b[1;2m(192 B)\u001b[0m         │\n",
       "│                   │            │                   │                   │ \u001b[1m48 \u001b[0m\u001b[1;2m(192 B)\u001b[0m        │                    │\n",
       "├───────────────────┼────────────┼───────────────────┼───────────────────┼───────────────────┼────────────────────┤\n",
       "│ std_model/Dense_4 │ Dense      │ \u001b[2mfloat32\u001b[0m[1,24]     │ \u001b[2mfloat32\u001b[0m[1,1]      │ bias: \u001b[2mfloat32\u001b[0m[1]  │                    │\n",
       "│                   │            │                   │                   │ kernel:           │                    │\n",
       "│                   │            │                   │                   │ \u001b[2mfloat32\u001b[0m[24,1]     │                    │\n",
       "│                   │            │                   │                   │                   │                    │\n",
       "│                   │            │                   │                   │ \u001b[1m25 \u001b[0m\u001b[1;2m(100 B)\u001b[0m        │                    │\n",
       "├───────────────────┼────────────┼───────────────────┼───────────────────┼───────────────────┼────────────────────┤\n",
       "│\u001b[1m \u001b[0m\u001b[1m                 \u001b[0m\u001b[1m \u001b[0m│\u001b[1m \u001b[0m\u001b[1m          \u001b[0m\u001b[1m \u001b[0m│\u001b[1m \u001b[0m\u001b[1m                 \u001b[0m\u001b[1m \u001b[0m│\u001b[1m \u001b[0m\u001b[1m            Total\u001b[0m\u001b[1m \u001b[0m│\u001b[1m \u001b[0m\u001b[1m6,973,506 \u001b[0m\u001b[1;2m(27.9 \u001b[0m\u001b[1m \u001b[0m\u001b[1m \u001b[0m│\u001b[1m \u001b[0m\u001b[1m8,544 \u001b[0m\u001b[1;2m(34.2 KB)\u001b[0m\u001b[1m   \u001b[0m\u001b[1m \u001b[0m│\n",
       "│\u001b[1m                   \u001b[0m│\u001b[1m            \u001b[0m│\u001b[1m                   \u001b[0m│\u001b[1m                   \u001b[0m│\u001b[1m \u001b[0m\u001b[1;2mMB)\u001b[0m\u001b[1m              \u001b[0m\u001b[1m \u001b[0m│\u001b[1m                    \u001b[0m│\n",
       "└───────────────────┴────────────┴───────────────────┴───────────────────┴───────────────────┴────────────────────┘\n",
       "\u001b[1m                                                                                                                   \u001b[0m\n",
       "\u001b[1m                                       Total Parameters: 6,982,050 \u001b[0m\u001b[1;2m(27.9 MB)\u001b[0m\u001b[1m                                       \u001b[0m\n"
      ]
     },
     "metadata": {},
     "output_type": "display_data"
    },
    {
     "data": {
      "text/plain": [
       "'\\n\\n'"
      ]
     },
     "execution_count": 7,
     "metadata": {},
     "output_type": "execute_result"
    }
   ],
   "source": [
    "cnn = SceneModel(mean_model=BaseCNN(0, 2*jnp.pi), std_model=BaseCNN(0, None))\n",
    "params_key = jax.random.PRNGKey(0)\n",
    "rngs = {'params': params_key} \n",
    "cnn.tabulate(rngs, jnp.zeros((1, 100, 100, 1)), False, console_kwargs={'force_jupyter': True})"
   ]
  },
  {
   "cell_type": "code",
   "execution_count": 8,
   "id": "f85f9613-9a89-430c-ba5d-7deced36dbac",
   "metadata": {},
   "outputs": [],
   "source": [
    "class TrainState(train_state.TrainState):\n",
    "    batch_stats: Any"
   ]
  },
  {
   "cell_type": "code",
   "execution_count": 9,
   "id": "ed8dbb6c-96e4-4f05-89bb-37dfb597cd98",
   "metadata": {},
   "outputs": [],
   "source": [
    "def create_train_state(module, key, learning_rate, momentum, params=None):\n",
    "    \"\"\"Creates an initial `TrainState`.\"\"\"\n",
    "    #params_key, dropout_key = jax.random.split(key, 2)\n",
    "    # initialize parameters by passing a template image\n",
    "    variables = module.init(key,#, 'dropout': dropout_key},\n",
    "                            jnp.ones([BATCH_SIZE, 100, 100, 1]), train=False)\n",
    "    if params is None:\n",
    "        params = variables['params']\n",
    "    batch_stats = variables['batch_stats']\n",
    "    tx = optax.sgd(learning_rate, momentum)\n",
    "    return TrainState.create(apply_fn=module.apply, params=params, tx=tx,\n",
    "                             batch_stats=batch_stats)#, dropout_key=dropout_key)"
   ]
  },
  {
   "cell_type": "code",
   "execution_count": 10,
   "id": "ac76ed95-6321-4e22-bcab-38ca9c61e474",
   "metadata": {},
   "outputs": [],
   "source": [
    "normal_logpdf = jax.scipy.stats.norm.logpdf\n",
    "truncnormal_logpdf = jax.scipy.stats.truncnorm.logpdf\n",
    "beta_logpdf = jax.scipy.stats.beta.logpdf\n",
    "vonmises = tfp.distributions.VonMises"
   ]
  },
  {
   "cell_type": "code",
   "execution_count": 11,
   "id": "d9d94c23-8182-4379-aba7-81ebc8a5fe39",
   "metadata": {},
   "outputs": [],
   "source": [
    "@jax.jit\n",
    "def train_step(state, img_batch, label_batch): \n",
    "    \"\"\"Train for a single step.\"\"\"\n",
    "    def loss_fn(params):\n",
    "        (means, stds), updates = state.apply_fn({'params': params, 'batch_stats': state.batch_stats},\n",
    "                                                img_batch,\n",
    "                                                train=True,\n",
    "                                                mutable=['batch_stats'])\n",
    "        #loss = -normal_logpdf(label_batch, loc=means, scale=stds).sum()\n",
    "        loss = -vonmises(loc=means, concentration=stds).log_prob(label_batch).sum()\n",
    "        #loss = jnp.sum((means - label_batch)**2)\n",
    "        return loss, updates\n",
    "    grad_fn = jax.value_and_grad(loss_fn, has_aux=True)\n",
    "    (loss, updates), grads = grad_fn(state.params)\n",
    "    state = state.apply_gradients(grads=grads)\n",
    "    state = state.replace(batch_stats=updates['batch_stats'])\n",
    "    return state, loss"
   ]
  },
  {
   "cell_type": "code",
   "execution_count": 109,
   "id": "7bf7de21-c52e-4a9d-8c90-a3bc74e34cef",
   "metadata": {},
   "outputs": [],
   "source": [
    "train_data_file = jnp.load('train_data_noxy_1e5.npz')\n",
    "test_data_file = jnp.load('test_data_noxy.npz')\n",
    "test_data_file_noisy = jnp.load('test_data_noxy_noisy.npz')"
   ]
  },
  {
   "cell_type": "code",
   "execution_count": 110,
   "id": "c81a6966-7f35-4f6a-b77d-f4b1558d046f",
   "metadata": {},
   "outputs": [],
   "source": [
    "train_imgs = train_data_file['arr_0'][:50000]\n",
    "train_labels = train_data_file['arr_1'][:50000]"
   ]
  },
  {
   "cell_type": "code",
   "execution_count": 111,
   "id": "8718f500-0574-4627-8147-7115768531a6",
   "metadata": {},
   "outputs": [
    {
     "data": {
      "text/plain": [
       "((50000, 100, 100, 1), (50000, 1))"
      ]
     },
     "execution_count": 111,
     "metadata": {},
     "output_type": "execute_result"
    }
   ],
   "source": [
    "train_imgs.shape, train_labels.shape"
   ]
  },
  {
   "cell_type": "code",
   "execution_count": 112,
   "id": "59c49c57-5041-4dc3-aa11-6fc5b10a77ee",
   "metadata": {},
   "outputs": [],
   "source": [
    "test_imgs = test_data_file['arr_0']\n",
    "test_labels = test_data_file['arr_1']"
   ]
  },
  {
   "cell_type": "code",
   "execution_count": 113,
   "id": "4d78ebca-432e-40ca-9d66-1bafe84e8e2c",
   "metadata": {},
   "outputs": [
    {
     "data": {
      "text/plain": [
       "((2000, 100, 100, 1), (2000, 1))"
      ]
     },
     "execution_count": 113,
     "metadata": {},
     "output_type": "execute_result"
    }
   ],
   "source": [
    "test_imgs.shape, test_labels.shape"
   ]
  },
  {
   "cell_type": "code",
   "execution_count": 114,
   "id": "1331d792-b4a9-49fd-9117-ed61ff57ab7f",
   "metadata": {},
   "outputs": [],
   "source": [
    "test_imgs_noisy = test_data_file_noisy['arr_0']\n",
    "test_labels_noisy = test_data_file_noisy['arr_1']"
   ]
  },
  {
   "cell_type": "code",
   "execution_count": 115,
   "id": "a2dbe494-2d18-4d83-97e6-c5aeea7c2dbd",
   "metadata": {},
   "outputs": [
    {
     "data": {
      "text/plain": [
       "((2000, 100, 100, 1), (2000, 1))"
      ]
     },
     "execution_count": 115,
     "metadata": {},
     "output_type": "execute_result"
    }
   ],
   "source": [
    "test_imgs.shape, test_labels.shape"
   ]
  },
  {
   "cell_type": "code",
   "execution_count": 138,
   "id": "c764c89b-a127-4ccf-b731-3122c945e097",
   "metadata": {},
   "outputs": [],
   "source": [
    "N_TRAIN = train_imgs.shape[0]\n",
    "N_TEST = test_imgs.shape[0]\n",
    "N_EPOCHS = 10\n",
    "BATCH_SIZE = 20 #20\n",
    "LEARNING_RATE = 1e-5 #1e-8\n",
    "MOMENTUM = 0.9\n",
    "assert N_TRAIN % BATCH_SIZE == 0\n",
    "assert N_TEST % BATCH_SIZE == 0"
   ]
  },
  {
   "cell_type": "code",
   "execution_count": 139,
   "id": "d0d11caa-3935-4ba5-acf3-6fe685de7bca",
   "metadata": {},
   "outputs": [],
   "source": [
    "state = create_train_state(cnn, jax.random.PRNGKey(0), LEARNING_RATE, MOMENTUM)"
   ]
  },
  {
   "cell_type": "code",
   "execution_count": 140,
   "id": "2dc04fea-c89a-49f4-be30-eedc8ae10579",
   "metadata": {},
   "outputs": [],
   "source": [
    "shuffling_key = jax.random.PRNGKey(1)"
   ]
  },
  {
   "cell_type": "code",
   "execution_count": 141,
   "id": "16ec17dc-a693-48b9-8461-a2322ae94ace",
   "metadata": {},
   "outputs": [],
   "source": [
    "# with open('param_file_noxy_1e5_50.pkl', 'rb') as params_file:\n",
    "#      loaded_params = pickle.load(params_file)\n",
    "# state = create_train_state(cnn, jax.random.PRNGKey(0), LEARNING_RATE, MOMENTUM, params=loaded_params)"
   ]
  },
  {
   "cell_type": "code",
   "execution_count": 142,
   "id": "58289c66-acac-4942-bf14-c503a66a911a",
   "metadata": {},
   "outputs": [],
   "source": [
    " training_losses = []"
   ]
  },
  {
   "cell_type": "code",
   "execution_count": 143,
   "id": "36c65902-e84b-4d87-937c-089ec9c3694b",
   "metadata": {},
   "outputs": [
    {
     "name": "stderr",
     "output_type": "stream",
     "text": [
      "100%|█████████████████████████████████████████████████████████████████████████████████████████████████████████████████████████████████████████████████████| 2500/2500 [00:09<00:00, 255.06it/s]\n"
     ]
    },
    {
     "name": "stdout",
     "output_type": "stream",
     "text": [
      "epoch: 0, average loss: 13.722162246704102, train loss: not calculated, test loss: not calculated\n"
     ]
    },
    {
     "name": "stderr",
     "output_type": "stream",
     "text": [
      "100%|█████████████████████████████████████████████████████████████████████████████████████████████████████████████████████████████████████████████████████| 2500/2500 [00:06<00:00, 409.08it/s]\n"
     ]
    },
    {
     "name": "stdout",
     "output_type": "stream",
     "text": [
      "epoch: 1, average loss: 2.9726874828338623, train loss: not calculated, test loss: not calculated\n"
     ]
    },
    {
     "name": "stderr",
     "output_type": "stream",
     "text": [
      "100%|█████████████████████████████████████████████████████████████████████████████████████████████████████████████████████████████████████████████████████| 2500/2500 [00:06<00:00, 408.62it/s]\n"
     ]
    },
    {
     "name": "stdout",
     "output_type": "stream",
     "text": [
      "epoch: 2, average loss: -1.716426968574524, train loss: not calculated, test loss: not calculated\n"
     ]
    },
    {
     "name": "stderr",
     "output_type": "stream",
     "text": [
      "100%|█████████████████████████████████████████████████████████████████████████████████████████████████████████████████████████████████████████████████████| 2500/2500 [00:06<00:00, 414.48it/s]\n"
     ]
    },
    {
     "name": "stdout",
     "output_type": "stream",
     "text": [
      "epoch: 3, average loss: -4.899789810180664, train loss: not calculated, test loss: not calculated\n"
     ]
    },
    {
     "name": "stderr",
     "output_type": "stream",
     "text": [
      "100%|█████████████████████████████████████████████████████████████████████████████████████████████████████████████████████████████████████████████████████| 2500/2500 [00:06<00:00, 413.18it/s]\n"
     ]
    },
    {
     "name": "stdout",
     "output_type": "stream",
     "text": [
      "epoch: 4, average loss: -7.172534942626953, train loss: not calculated, test loss: not calculated\n"
     ]
    },
    {
     "name": "stderr",
     "output_type": "stream",
     "text": [
      "100%|█████████████████████████████████████████████████████████████████████████████████████████████████████████████████████████████████████████████████████| 2500/2500 [00:06<00:00, 414.42it/s]\n"
     ]
    },
    {
     "name": "stdout",
     "output_type": "stream",
     "text": [
      "epoch: 5, average loss: -8.979629516601562, train loss: not calculated, test loss: not calculated\n"
     ]
    },
    {
     "name": "stderr",
     "output_type": "stream",
     "text": [
      "100%|█████████████████████████████████████████████████████████████████████████████████████████████████████████████████████████████████████████████████████| 2500/2500 [00:06<00:00, 413.62it/s]\n"
     ]
    },
    {
     "name": "stdout",
     "output_type": "stream",
     "text": [
      "epoch: 6, average loss: -10.331128120422363, train loss: not calculated, test loss: not calculated\n"
     ]
    },
    {
     "name": "stderr",
     "output_type": "stream",
     "text": [
      "100%|█████████████████████████████████████████████████████████████████████████████████████████████████████████████████████████████████████████████████████| 2500/2500 [00:05<00:00, 418.77it/s]\n"
     ]
    },
    {
     "name": "stdout",
     "output_type": "stream",
     "text": [
      "epoch: 7, average loss: -12.052774429321289, train loss: not calculated, test loss: not calculated\n"
     ]
    },
    {
     "name": "stderr",
     "output_type": "stream",
     "text": [
      "100%|█████████████████████████████████████████████████████████████████████████████████████████████████████████████████████████████████████████████████████| 2500/2500 [00:06<00:00, 415.33it/s]\n"
     ]
    },
    {
     "name": "stdout",
     "output_type": "stream",
     "text": [
      "epoch: 8, average loss: -12.625371932983398, train loss: not calculated, test loss: not calculated\n"
     ]
    },
    {
     "name": "stderr",
     "output_type": "stream",
     "text": [
      "100%|█████████████████████████████████████████████████████████████████████████████████████████████████████████████████████████████████████████████████████| 2500/2500 [00:05<00:00, 417.07it/s]\n"
     ]
    },
    {
     "name": "stdout",
     "output_type": "stream",
     "text": [
      "epoch: 9, average loss: -14.068185806274414, train loss: not calculated, test loss: not calculated\n"
     ]
    }
   ],
   "source": [
    "for epoch in range(N_EPOCHS):\n",
    "    training_losses.append([])\n",
    "    perm = jax.random.permutation(shuffling_key, N_TRAIN)\n",
    "    train_imgs = train_imgs[perm]\n",
    "    train_labels = train_labels[perm]\n",
    "    shuffling_key = jax.random.split(shuffling_key, 2)[1]\n",
    "\n",
    "    for step in tqdm(range(N_TRAIN // BATCH_SIZE)):\n",
    "        img_batch = train_imgs[step*BATCH_SIZE:(step+1)*BATCH_SIZE]\n",
    "        label_batch = train_labels[step*BATCH_SIZE:(step+1)*BATCH_SIZE]\n",
    "        \n",
    "        state, loss = train_step(state, img_batch, label_batch)\n",
    "        training_losses[-1].append(loss)\n",
    "        #print(loss)\n",
    "        #os.system('nvidia-smi')\n",
    "\n",
    "    epoch_loss = jnp.array(training_losses[-1]).mean()\n",
    "    #epoch_train_loss = calc_avg_loss_batched(state, train_imgs, train_labels)\n",
    "    #epoch_test_loss = calc_avg_loss_batched(state, test_imgs, test_labels)\n",
    "    \n",
    "    epoch_train_loss = 'not calculated'\n",
    "    epoch_test_loss = 'not calculated'\n",
    "    print(f'epoch: {epoch}, average loss: {epoch_loss}, '\n",
    "          f'train loss: {epoch_train_loss}, '\n",
    "          f'test loss: {epoch_test_loss}')"
   ]
  },
  {
   "cell_type": "code",
   "execution_count": 144,
   "id": "d3fc54da-c346-4406-b934-034b4313eafe",
   "metadata": {},
   "outputs": [
    {
     "data": {
      "text/plain": [
       "[<matplotlib.lines.Line2D at 0x7fc06c36c8b0>]"
      ]
     },
     "execution_count": 144,
     "metadata": {},
     "output_type": "execute_result"
    },
    {
     "data": {
      "image/png": "[encoded data removed]",
      "text/plain": [
       "<Figure size 640x480 with 1 Axes>"
      ]
     },
     "metadata": {},
     "output_type": "display_data"
    }
   ],
   "source": [
    "plt.plot([jnp.array(l).mean() for l in training_losses])"
   ]
  },
  {
   "cell_type": "code",
   "execution_count": 145,
   "id": "c785163f-a49f-47fa-ae20-23b90ca7ed68",
   "metadata": {},
   "outputs": [],
   "source": [
    "# with open('param_file_noxy_1e5_50.pkl', 'wb') as params_file:\n",
    "#      pickle.dump(state.params, params_file)"
   ]
  },
  {
   "cell_type": "code",
   "execution_count": 146,
   "id": "4a8702e8-0e42-4fb7-89ff-a2e23d2642aa",
   "metadata": {},
   "outputs": [
    {
     "name": "stderr",
     "output_type": "stream",
     "text": [
      "[E rasterize_gl.cpp:121] OpenGL version reported as 4.6\n"
     ]
    },
    {
     "name": "stdout",
     "output_type": "stream",
     "text": [
      "Increasing frame buffer size to (width, height, depth) = (128, 128, 1024)\n"
     ]
    }
   ],
   "source": [
    "intrinsics = b.Intrinsics(\n",
    "    height=100,\n",
    "    width=100,\n",
    "    fx=200.0, fy=200.0,\n",
    "    cx=50.0, cy=50.0,\n",
    "    near=0.0001, far=2.0\n",
    ")\n",
    "\n",
    "b.setup_renderer(intrinsics)\n",
    "model_dir = os.path.join(b.utils.get_assets_dir(),\"bop/ycbv/models\")\n",
    "b.RENDERER.add_mesh_from_file(model_dir + '/obj_000014.ply', scaling_factor=1e-3)\n",
    "b.RENDERER.add_mesh_from_file(os.path.join(b.utils.get_assets_dir(), \"sample_objs/cube.obj\"), scaling_factor=1.0/1000000000.0)\n",
    "\n",
    "table_pose = b.t3d.inverse_pose(\n",
    "    b.t3d.transform_from_pos_target_up(\n",
    "        jnp.array([0.0, 0.8, .15]),\n",
    "        jnp.array([0.0, 0.0, 0.0]),\n",
    "        jnp.array([0.0, 0.0, 1.0]),\n",
    "    )\n",
    ")"
   ]
  },
  {
   "cell_type": "code",
   "execution_count": 147,
   "id": "c82400b0-0f9b-4a0d-bb75-a304df1c81b2",
   "metadata": {},
   "outputs": [],
   "source": [
    "def get_poses_non_jit(contact_params, id_table, id):\n",
    "    sg = b.scene_graph.SceneGraph(\n",
    "        root_poses=jnp.array([table_pose, jnp.eye(4)]),\n",
    "        box_dimensions=jnp.array([b.RENDERER.model_box_dims[id_table], b.RENDERER.model_box_dims[id]]),\n",
    "        parents=jnp.array([-1, 0]),\n",
    "        contact_params=jnp.array([jnp.zeros(3), contact_params]),\n",
    "        face_parent=jnp.array([-1,2]),\n",
    "        face_child=jnp.array([-1,3]),\n",
    "    )\n",
    "    poses = sg.get_poses()\n",
    "    return poses\n",
    "get_poses = jax.jit(get_poses_non_jit)\n",
    "\n",
    "def render_image_non_jit(dx, dy, theta):\n",
    "    id_table = 1\n",
    "    id = 0\n",
    "    poses = get_poses_non_jit(jnp.array([dx, dy, theta]), id_table, id)\n",
    "    img = b.RENDERER.render(\n",
    "        poses , jnp.array([id_table, id])\n",
    "    )[...,:3]\n",
    "    return img\n",
    "    \n",
    "render_image = jax.jit(render_image_non_jit)"
   ]
  },
  {
   "cell_type": "code",
   "execution_count": 148,
   "id": "5f6d676c-6078-4f55-ad23-03f38aee7bb5",
   "metadata": {},
   "outputs": [
    {
     "data": {
      "text/plain": [
       "Array([[2.2245767]], dtype=float32)"
      ]
     },
     "execution_count": 148,
     "metadata": {},
     "output_type": "execute_result"
    }
   ],
   "source": [
    "i = 0\n",
    "means, _ = state.apply_fn({'params': state.params, 'batch_stats': state.batch_stats},\n",
    "                        train_imgs[i, :, :, 0].reshape((1, 100, 100, 1)), train=False, mutable=False)\n",
    "means"
   ]
  },
  {
   "cell_type": "code",
   "execution_count": 149,
   "id": "e35463ad-630b-439d-a9af-08cf83f7d7d7",
   "metadata": {},
   "outputs": [
    {
     "data": {
      "image/jpeg": "[encoded data removed]",
      "image/png": "[encoded data removed]",
      "text/plain": [
       "<PIL.Image.Image image mode=RGB size=420x200>"
      ]
     },
     "execution_count": 149,
     "metadata": {},
     "output_type": "execute_result"
    }
   ],
   "source": [
    "b.viz.scale_image(b.viz.hstack_images([b.get_depth_image(render_image(0, 0, means.flatten()[0])[:, :, 2]),\n",
    "                                       b.get_depth_image(train_imgs[i, :, :, 0])]), 2)"
   ]
  },
  {
   "cell_type": "code",
   "execution_count": 150,
   "id": "8e1fc299-1209-4b07-aa5b-80997d96dc6e",
   "metadata": {},
   "outputs": [],
   "source": [
    "def prediction_img(i, arr=test_imgs):\n",
    "    means, stds = state.apply_fn({'params': state.params, 'batch_stats': state.batch_stats},\n",
    "                               arr[i, :, :, 0].reshape((1, 100, 100, 1)), train=False, mutable=False)\n",
    "    return b.get_depth_image(render_image(0, 0, means.flatten()[0])[:, :, 2]), means, stds"
   ]
  },
  {
   "cell_type": "code",
   "execution_count": 151,
   "id": "388a2805-84db-4c29-bb8d-04c393b72a7a",
   "metadata": {},
   "outputs": [
    {
     "data": {
      "image/jpeg": "[encoded data removed]",
      "image/png": "[encoded data removed]",
      "text/plain": [
       "<PIL.Image.Image image mode=RGB size=1090x210>"
      ]
     },
     "execution_count": 151,
     "metadata": {},
     "output_type": "execute_result"
    }
   ],
   "source": [
    "idxs = jax.random.randint(jax.random.PRNGKey(3141), (10,), 0, N_TEST)\n",
    "imgs, means,stds = zip(*[prediction_img(i) for i in idxs])\n",
    "gt_imgs = [b.get_depth_image(test_imgs[i, :, :, 0]) for i in idxs]\n",
    "b.viz.vstack_images([b.viz.hstack_images(imgs),\n",
    "                     b.viz.hstack_images(gt_imgs)])"
   ]
  },
  {
   "cell_type": "code",
   "execution_count": 152,
   "id": "f83b2379-b6ed-4a98-9d04-e1df34a6d259",
   "metadata": {},
   "outputs": [
    {
     "data": {
      "image/jpeg": "[encoded data removed]",
      "image/png": "[encoded data removed]",
      "text/plain": [
       "<PIL.Image.Image image mode=RGB size=1090x210>"
      ]
     },
     "execution_count": 152,
     "metadata": {},
     "output_type": "execute_result"
    }
   ],
   "source": [
    "idxs = jax.random.randint(jax.random.PRNGKey(3141), (10,), 0, N_TEST)\n",
    "imgs, means,stds = zip(*[prediction_img(i, test_imgs_noisy) for i in idxs])\n",
    "gt_imgs = [b.get_depth_image(test_imgs_noisy[i, :, :, 0]) for i in idxs]\n",
    "b.viz.vstack_images([b.viz.hstack_images(imgs),\n",
    "                     b.viz.hstack_images(gt_imgs)])"
   ]
  },
  {
   "cell_type": "code",
   "execution_count": 153,
   "id": "75dad030-6f48-4930-9004-0c8e5988a3c2",
   "metadata": {},
   "outputs": [
    {
     "data": {
      "text/plain": [
       "Array(-1644.2332, dtype=float32)"
      ]
     },
     "execution_count": 153,
     "metadata": {},
     "output_type": "execute_result"
    }
   ],
   "source": [
    "means, stds = state.apply_fn({'params': state.params, 'batch_stats': state.batch_stats},\n",
    "                             test_imgs, train=False, mutable=False)\n",
    "-vonmises(loc=means, concentration=stds).log_prob(test_labels).sum()"
   ]
  },
  {
   "cell_type": "code",
   "execution_count": 154,
   "id": "37e42011-acdf-4ee4-bf92-5ee43f2f5d7b",
   "metadata": {},
   "outputs": [
    {
     "data": {
      "text/plain": [
       "Array(21349.191, dtype=float32)"
      ]
     },
     "execution_count": 154,
     "metadata": {},
     "output_type": "execute_result"
    }
   ],
   "source": [
    "means, stds = state.apply_fn({'params': state.params, 'batch_stats': state.batch_stats},\n",
    "                             test_imgs_noisy, train=False, mutable=False)\n",
    "-vonmises(loc=means, concentration=stds).log_prob(test_labels_noisy).sum()"
   ]
  },
  {
   "cell_type": "code",
   "execution_count": null,
   "id": "6701f88b-7476-462f-bc25-de02c583eeeb",
   "metadata": {},
   "outputs": [],
   "source": []
  },
  {
   "cell_type": "code",
   "execution_count": null,
   "id": "3a974e3e-88d1-4156-9d23-e24e272c848a",
   "metadata": {},
   "outputs": [],
   "source": []
  }
 ],
 "metadata": {
  "kernelspec": {
   "display_name": "Python 3 (ipykernel)",
   "language": "python",
   "name": "python3"
  },
  "language_info": {
   "codemirror_mode": {
    "name": "ipython",
    "version": 3
   },
   "file_extension": ".py",
   "mimetype": "text/x-python",
   "name": "python",
   "nbconvert_exporter": "python",
   "pygments_lexer": "ipython3",
   "version": "3.9.17"
  }
 },
 "nbformat": 4,
 "nbformat_minor": 5
}
