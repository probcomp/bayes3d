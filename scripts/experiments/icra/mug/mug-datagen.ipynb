{
 "cells": [
  {
   "cell_type": "code",
   "execution_count": 1,
   "id": "c9a75992-9ded-4c10-bcbe-a68d4e817125",
   "metadata": {},
   "outputs": [],
   "source": [
    "import jax.numpy as jnp\n",
    "import bayes3d as b\n",
    "import os\n",
    "import jax\n",
    "import functools\n",
    "from jax.scipy.special import logsumexp, erf\n",
    "from functools import partial\n",
    "from tqdm import tqdm\n",
    "import matplotlib.pyplot as plt\n",
    "import gc"
   ]
  },
  {
   "cell_type": "code",
   "execution_count": 2,
   "id": "1e9cc139-2449-4532-acf4-af71ccd6a24d",
   "metadata": {},
   "outputs": [
    {
     "name": "stdout",
     "output_type": "stream",
     "text": [
      "You can open the visualizer by visiting the following URL:\n",
      "http://127.0.0.1:7006/static/\n"
     ]
    }
   ],
   "source": [
    "b.setup_visualizer()"
   ]
  },
  {
   "cell_type": "code",
   "execution_count": 3,
   "id": "b201e1f5-f2db-4f52-95dc-04e592578b8c",
   "metadata": {},
   "outputs": [],
   "source": [
    "def single_patch_likelihood(p: jnp.ndarray,\n",
    "                            bottom_left: jnp.ndarray,\n",
    "                            top_right: jnp.ndarray,\n",
    "                            sigma: float):\n",
    "    x, y, z = bottom_left\n",
    "    X, Y, _ = top_right\n",
    "    C = (2*jnp.pi)**(-3/2)  * sigma**(-3)\n",
    "    z_term = jnp.exp(- (p[2] - z)**2/sigma**2)\n",
    "    x_term = jnp.sqrt(jnp.pi) * sigma / 2 * (erf((p[0] - 2*x) / sigma) + erf((- p[0] + x + X) / sigma))\n",
    "    y_term = jnp.sqrt(jnp.pi) * sigma / 2 * (erf((p[1] - 2*y) / sigma) + erf((- p[1] + y + Y) / sigma))\n",
    "    return C * x_term * y_term * z_term"
   ]
  },
  {
   "cell_type": "code",
   "execution_count": 4,
   "id": "a42856ac-4db2-43cd-a4e7-6b93bc550f12",
   "metadata": {},
   "outputs": [
    {
     "name": "stderr",
     "output_type": "stream",
     "text": [
      "[E rasterize_gl.cpp:121] OpenGL version reported as 4.6\n"
     ]
    },
    {
     "name": "stdout",
     "output_type": "stream",
     "text": [
      "Increasing frame buffer size to (width, height, depth) = (128, 128, 1024)\n"
     ]
    }
   ],
   "source": [
    "intrinsics = b.Intrinsics(\n",
    "    height=100,\n",
    "    width=100,\n",
    "    fx=200.0, fy=200.0,\n",
    "    cx=50.0, cy=50.0,\n",
    "    near=0.0001, far=2.0\n",
    ")\n",
    "\n",
    "b.setup_renderer(intrinsics)\n",
    "model_dir = os.path.join(b.utils.get_assets_dir(),\"bop/ycbv/models\")\n",
    "b.RENDERER.add_mesh_from_file(model_dir + '/obj_000014.ply', scaling_factor=1e-3)\n",
    "b.RENDERER.add_mesh_from_file(os.path.join(b.utils.get_assets_dir(), \"sample_objs/cube.obj\"), scaling_factor=1.0/1000000000.0)"
   ]
  },
  {
   "cell_type": "code",
   "execution_count": 5,
   "id": "f4648f31-caf1-4792-bd83-9d652a8c5e4b",
   "metadata": {},
   "outputs": [],
   "source": [
    "table_pose = b.t3d.inverse_pose(\n",
    "    b.t3d.transform_from_pos_target_up(\n",
    "        jnp.array([0.0, 0.8, .15]),\n",
    "        jnp.array([0.0, 0.0, 0.0]),\n",
    "        jnp.array([0.0, 0.0, 1.0]),\n",
    "    )\n",
    ")"
   ]
  },
  {
   "cell_type": "code",
   "execution_count": 6,
   "id": "772bb4b0-af42-4842-9af6-94752b30a707",
   "metadata": {},
   "outputs": [],
   "source": [
    "def get_poses_non_jit(contact_params, id_table, id):\n",
    "    sg = b.scene_graph.SceneGraph(\n",
    "        root_poses=jnp.array([table_pose, jnp.eye(4)]),\n",
    "        box_dimensions=jnp.array([b.RENDERER.model_box_dims[id_table], b.RENDERER.model_box_dims[id]]),\n",
    "        parents=jnp.array([-1, 0]),\n",
    "        contact_params=jnp.array([jnp.zeros(3), contact_params]),\n",
    "        face_parent=jnp.array([-1,2]),\n",
    "        face_child=jnp.array([-1,3]),\n",
    "    )\n",
    "    poses = sg.get_poses()\n",
    "    return poses\n",
    "get_poses = jax.jit(get_poses_non_jit)\n",
    "\n",
    "def render_image_non_jit(dx, dy, theta):\n",
    "    id_table = 1\n",
    "    id = 0\n",
    "    poses = get_poses_non_jit(jnp.array([dx, dy, theta]), id_table, id)\n",
    "    img = b.RENDERER.render(\n",
    "        poses , jnp.array([id_table, id])\n",
    "    )[...,:3]\n",
    "    return img\n",
    "    \n",
    "render_image = jax.jit(render_image_non_jit)"
   ]
  },
  {
   "cell_type": "code",
   "execution_count": 7,
   "id": "77a0938f-4872-46d2-858c-368402914095",
   "metadata": {},
   "outputs": [
    {
     "data": {
      "text/plain": [
       "Array([[1.00000e-09, 1.00000e-09, 1.00000e-09],\n",
       "       [1.16966e-01, 9.30750e-02, 8.13840e-02]], dtype=float32)"
      ]
     },
     "execution_count": 7,
     "metadata": {},
     "output_type": "execute_result"
    }
   ],
   "source": [
    "jnp.array([b.RENDERER.model_box_dims[1], b.RENDERER.model_box_dims[0]])"
   ]
  },
  {
   "cell_type": "code",
   "execution_count": 8,
   "id": "ad5faaa4-df40-4385-8bf5-8e9b873ff895",
   "metadata": {},
   "outputs": [],
   "source": [
    "DX_MEAN, DX_STD = 0.0, 0.1\n",
    "DY_MEAN, DY_STD = 0.0, 0.1\n",
    "THETA_MEAN, THETA_STD = 0.0, jnp.pi\n",
    "def sample_image_non_jit(key, noise=0):\n",
    "    dx_key, dy_key, theta_key = jax.random.split(key, 3)\n",
    "    dx = DX_MEAN + noise * jax.random.normal(dx_key)\n",
    "    dy = DY_MEAN + noise * jax.random.normal(dy_key)\n",
    "    theta = jax.random.uniform(theta_key) * 2 * jnp.pi\n",
    "    #THETA_MEAN + THETA_STD * jax.random.normal(theta_key)\n",
    "    return render_image_non_jit(dx, dy, theta), theta"
   ]
  },
  {
   "cell_type": "code",
   "execution_count": 9,
   "id": "86402149-e276-4c89-af7a-7b631232029f",
   "metadata": {},
   "outputs": [],
   "source": [
    "sample_image = jax.jit(sample_image_non_jit)"
   ]
  },
  {
   "cell_type": "code",
   "execution_count": 10,
   "id": "5efeac00-771e-4003-8914-b2e6796e9bc6",
   "metadata": {},
   "outputs": [
    {
     "data": {
      "image/jpeg": "[encoded data removed]",
      "image/png": "[encoded data removed]",
      "text/plain": [
       "<PIL.Image.Image image mode=RGB size=200x200>"
      ]
     },
     "execution_count": 10,
     "metadata": {},
     "output_type": "execute_result"
    }
   ],
   "source": [
    "b.viz.scale_image(b.get_depth_image(render_image(0.0, 0.0, jnp.pi/2)[:, :, 2]), 2)"
   ]
  },
  {
   "cell_type": "code",
   "execution_count": 11,
   "id": "4d4ad556-7e30-479f-b5a6-56a67040cea2",
   "metadata": {},
   "outputs": [],
   "source": [
    "key = jax.random.PRNGKey(0)"
   ]
  },
  {
   "cell_type": "code",
   "execution_count": 12,
   "id": "12f63b05-5947-4371-9bb9-ea5e29841dfb",
   "metadata": {},
   "outputs": [
    {
     "data": {
      "image/jpeg": "[encoded data removed]",
      "image/png": "[encoded data removed]",
      "text/plain": [
       "<PIL.Image.Image image mode=RGB size=200x200>"
      ]
     },
     "execution_count": 12,
     "metadata": {},
     "output_type": "execute_result"
    }
   ],
   "source": [
    "key = jax.random.split(key, 2)[0]\n",
    "b.viz.scale_image(b.get_depth_image(sample_image(key, 0.05)[0][:, :, 2]), 2)"
   ]
  },
  {
   "cell_type": "code",
   "execution_count": 13,
   "id": "b1411450-08d9-45df-a857-a70f3d4f387f",
   "metadata": {},
   "outputs": [],
   "source": [
    "@jax.jit\n",
    "def make_batch(batch_keys, noise):\n",
    "    batch_size = batch_keys.shape[0]\n",
    "    def loop_body(i, imgs_labels):\n",
    "        imgs, labels = imgs_labels\n",
    "        img, label = sample_image(batch_keys[i], noise)\n",
    "        return (imgs.at[i, :, :, 0].set(img[:, :, 2]),\n",
    "                labels.at[i, :].set(label))\n",
    "    return jax.lax.fori_loop(0, batch_keys.shape[0],\n",
    "                             loop_body,\n",
    "                             (jnp.zeros((batch_size, 100, 100,1)), jnp.zeros((batch_size, 1))))"
   ]
  },
  {
   "cell_type": "code",
   "execution_count": 14,
   "id": "b3781822-3fd5-4500-96f8-76424a48e3be",
   "metadata": {},
   "outputs": [],
   "source": [
    "N_TRAIN = 10 #60000 \n",
    "N_TEST = 2000"
   ]
  },
  {
   "cell_type": "code",
   "execution_count": 15,
   "id": "3e30bb4a-66c9-4ce0-af63-38edb4907d77",
   "metadata": {},
   "outputs": [],
   "source": [
    "#key1, key2 = jax.random.split(jax.random.PRNGKey(0), 2)\n",
    "#train_data_noxy1 = make_batch(jax.random.split(key1, N_TRAIN))\n",
    "#train_data_noxy2 = make_batch(jax.random.split(key2, N_TRAIN))"
   ]
  },
  {
   "cell_type": "code",
   "execution_count": 16,
   "id": "7d3c57af-c241-4b2b-b1f1-2e0b74cde642",
   "metadata": {},
   "outputs": [],
   "source": [
    "#jnp.savez('train_data_noxy1.npz', *train_data_noxy1)\n",
    "#jnp.savez('train_data_noxy2.npz', *train_data_noxy2)"
   ]
  },
  {
   "cell_type": "code",
   "execution_count": 17,
   "id": "410cf1b1-562c-4163-86d7-53fe7bb41eac",
   "metadata": {},
   "outputs": [],
   "source": [
    "# t1 = jnp.load('train_data_noxy1.npz')\n",
    "# t2 = jnp.load('train_data_noxy2.npz')"
   ]
  },
  {
   "cell_type": "code",
   "execution_count": 18,
   "id": "c270284d-2a38-4778-958b-463bfb622503",
   "metadata": {},
   "outputs": [],
   "source": [
    "#train_data_noxy_imgs = jnp.vstack([t1['arr_0'], t2['arr_0']])"
   ]
  },
  {
   "cell_type": "code",
   "execution_count": 19,
   "id": "71596f5c-6ec9-4d80-bd6b-37ad6ec7d5d5",
   "metadata": {},
   "outputs": [],
   "source": [
    "#train_data_noxy_labels = jnp.vstack([t1['arr_1'], t2['arr_1']])"
   ]
  },
  {
   "cell_type": "code",
   "execution_count": 20,
   "id": "219c398f-2ed5-4339-8b2a-282acfa441dc",
   "metadata": {},
   "outputs": [],
   "source": [
    "#train_data_noxy_imgs.shape, train_data_noxy_labels.shape"
   ]
  },
  {
   "cell_type": "code",
   "execution_count": 21,
   "id": "d64b755c-6ade-4d95-b69d-ed36b675209b",
   "metadata": {},
   "outputs": [],
   "source": [
    "#train_data_noxy = train_data_noxy_imgs, train_data_noxy_labels"
   ]
  },
  {
   "cell_type": "code",
   "execution_count": 22,
   "id": "601ab52f-8684-448d-a716-b04cf51ad959",
   "metadata": {},
   "outputs": [],
   "source": [
    "#train_data_noxy = make_batch(jax.random.split(jax.random.PRNGKey(0), N_TRAIN))"
   ]
  },
  {
   "cell_type": "code",
   "execution_count": 23,
   "id": "36949583-837b-499e-85ca-fdec294217d4",
   "metadata": {},
   "outputs": [],
   "source": [
    "#jnp.savez('train_data_noxy_1e1.npz', *train_data_noxy)"
   ]
  },
  {
   "cell_type": "code",
   "execution_count": 24,
   "id": "e655eb34-e78f-4221-92fa-5cfe493df5f4",
   "metadata": {},
   "outputs": [],
   "source": [
    "test_data_noxy = make_batch(jax.random.split(jax.random.PRNGKey(2718), N_TEST), 0.01)"
   ]
  },
  {
   "cell_type": "code",
   "execution_count": 25,
   "id": "6ff975b6-3ad4-4df5-b4f2-6919fd76cd93",
   "metadata": {},
   "outputs": [],
   "source": [
    "jnp.savez('test_data_noxy_noisy.npz', *test_data_noxy)"
   ]
  },
  {
   "cell_type": "code",
   "execution_count": null,
   "id": "55881cc0-487d-429e-94a9-68f7da589e43",
   "metadata": {},
   "outputs": [],
   "source": []
  },
  {
   "cell_type": "code",
   "execution_count": null,
   "id": "49e6b9d1-fa89-4517-9d00-7b6d7380a3cb",
   "metadata": {},
   "outputs": [],
   "source": []
  }
 ],
 "metadata": {
  "kernelspec": {
   "display_name": "Python 3 (ipykernel)",
   "language": "python",
   "name": "python3"
  },
  "language_info": {
   "codemirror_mode": {
    "name": "ipython",
    "version": 3
   },
   "file_extension": ".py",
   "mimetype": "text/x-python",
   "name": "python",
   "nbconvert_exporter": "python",
   "pygments_lexer": "ipython3",
   "version": "3.9.17"
  }
 },
 "nbformat": 4,
 "nbformat_minor": 5
}
