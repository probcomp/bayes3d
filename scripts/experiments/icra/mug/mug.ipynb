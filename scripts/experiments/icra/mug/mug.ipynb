{
 "cells": [
  {
   "cell_type": "code",
   "execution_count": 1,
   "id": "c9a75992-9ded-4c10-bcbe-a68d4e817125",
   "metadata": {},
   "outputs": [],
   "source": [
    "import jax.numpy as jnp\n",
    "import bayes3d as b\n",
    "import os\n",
    "import jax\n",
    "import functools\n",
    "from jax.scipy.special import logsumexp\n",
    "from functools import partial\n",
    "from tqdm import tqdm\n",
    "import matplotlib.pyplot as plt\n",
    "import bayes3d.genjax\n",
    "import genjax\n",
    "import pathlib\n"
   ]
  },
  {
   "cell_type": "code",
   "execution_count": 2,
   "id": "1e9cc139-2449-4532-acf4-af71ccd6a24d",
   "metadata": {},
   "outputs": [
    {
     "name": "stdout",
     "output_type": "stream",
     "text": [
      "You can open the visualizer by visiting the following URL:\n",
      "http://127.0.0.1:7032/static/\n"
     ]
    }
   ],
   "source": [
    "b.setup_visualizer()"
   ]
  },
  {
   "cell_type": "code",
   "execution_count": 3,
   "id": "b69eee55-2cd0-445e-9614-2087f381ed5a",
   "metadata": {},
   "outputs": [],
   "source": [
    "def get_filter_scores(\n",
    "    ij,\n",
    "    observed_xyz: jnp.ndarray,\n",
    "    rendered_xyz: jnp.ndarray,\n",
    "    variance,\n",
    "    outlier_prob,\n",
    "    outlier_volume,\n",
    "    focal_length,\n",
    "    filter_size\n",
    "):\n",
    "    rendered_xyz_padded = jax.lax.pad(rendered_xyz,  -100.0, ((filter_size,filter_size,0,),(filter_size,filter_size,0,),(0,0,0,)))\n",
    "\n",
    "    p = observed_xyz[ij[0], ij[1], :3]\n",
    "    filter_latent = jax.lax.dynamic_slice(rendered_xyz_padded, (ij[0], ij[1], 0), (2*filter_size + 1, 2*filter_size + 1, 3))\n",
    "\n",
    "    half_widths = (filter_latent[:,:,2] / focal_length) / 2.0\n",
    "\n",
    "    probabilities = b.compute_score(filter_latent, p, focal_length, variance)\n",
    "    probabilities_normalized = probabilities + jnp.log(((2*half_widths)**2)) - jnp.log(((2*half_widths)**2).sum())  + 2*jnp.log(width_observed)\n",
    "\n",
    "    return probabilities_normalized"
   ]
  },
  {
   "cell_type": "code",
   "execution_count": 4,
   "id": "a42856ac-4db2-43cd-a4e7-6b93bc550f12",
   "metadata": {},
   "outputs": [
    {
     "name": "stderr",
     "output_type": "stream",
     "text": [
      "[E rasterize_gl.cpp:121] OpenGL version reported as 4.6\n"
     ]
    },
    {
     "name": "stdout",
     "output_type": "stream",
     "text": [
      "Increasing frame buffer size to (width, height, depth) = (128, 128, 1024)\n"
     ]
    }
   ],
   "source": [
    "intrinsics = b.Intrinsics(\n",
    "    height=100,\n",
    "    width=100,\n",
    "    fx=200.0, fy=200.0,\n",
    "    cx=50.0, cy=50.0,\n",
    "    near=0.0001, far=2.0\n",
    ")\n",
    "\n",
    "b.setup_renderer(intrinsics)\n",
    "model_dir = os.path.join(b.utils.get_assets_dir(),\"bop/ycbv/models\")\n",
    "meshes = []\n",
    "for idx in range(1,22):\n",
    "    mesh_path = os.path.join(model_dir,\"obj_\" + \"{}\".format(idx).rjust(6, '0') + \".ply\")\n",
    "    b.RENDERER.add_mesh_from_file(mesh_path, scaling_factor=1.0/1000.0)\n",
    "# b.RENDERER.add_mesh_from_file(os.path.join(b.utils.get_assets_dir(), \"sample_objs/cube.obj\"), scaling_factor=1.0/10.0)\n",
    "b.RENDERER.add_mesh_from_file(os.path.join(b.utils.get_assets_dir(), \"sample_objs/cube.obj\"), scaling_factor=1.0/1000000000.0)\n",
    "\n"
   ]
  },
  {
   "cell_type": "code",
   "execution_count": 5,
   "id": "f4648f31-caf1-4792-bd83-9d652a8c5e4b",
   "metadata": {},
   "outputs": [],
   "source": [
    "table_pose = b.t3d.inverse_pose(\n",
    "    b.t3d.transform_from_pos_target_up(\n",
    "        jnp.array([0.0, 0.8, .15]),\n",
    "        jnp.array([0.0, 0.0, 0.0]),\n",
    "        jnp.array([0.0, 0.0, 1.0]),\n",
    "    )\n",
    ")\n",
    "importance_jit = jax.jit(b.model.importance)"
   ]
  },
  {
   "cell_type": "code",
   "execution_count": 6,
   "id": "1c8cc54b-ca5e-4d04-a4c4-e512ae4a2a54",
   "metadata": {},
   "outputs": [],
   "source": [
    "width = 0.015\n",
    "ang = jnp.pi\n",
    "contact_param_deltas = b.utils.make_translation_grid_enumeration_3d(\n",
    "    -width, -width, -ang,\n",
    "    width, width, ang,\n",
    "    17,17,101\n",
    ")"
   ]
  },
  {
   "cell_type": "code",
   "execution_count": 7,
   "id": "ace7a300-da3b-4989-847d-a0ed3a859fbd",
   "metadata": {},
   "outputs": [],
   "source": [
    "enumerators = b.make_enumerator([\"contact_params_1\"])"
   ]
  },
  {
   "cell_type": "code",
   "execution_count": 8,
   "id": "cd9a7faf-28d3-4a1b-8c12-4ca1ecebde9b",
   "metadata": {},
   "outputs": [],
   "source": [
    "key = jax.random.PRNGKey(100)"
   ]
  },
  {
   "cell_type": "code",
   "execution_count": 9,
   "id": "4d71624f-441e-49e2-9113-87fb22ea2e80",
   "metadata": {},
   "outputs": [],
   "source": [
    "def make_orientation_posterior_viz(observation, gt_contact, sampled_contacts):\n",
    "    fig = plt.figure(constrained_layout=True)\n",
    "    # fig.suptitle(f\"Variance: {variance} Outlier Prob: {outlier_prob}\")\n",
    "    widths = [1, 1]\n",
    "    heights = [2]\n",
    "    spec = fig.add_gridspec(ncols=2, nrows=1, width_ratios=widths,\n",
    "                              height_ratios=heights)\n",
    "    \n",
    "    ax = fig.add_subplot(spec[0, 0])\n",
    "    ax.imshow(jnp.array(b.get_depth_image(observation[...,2])))\n",
    "    ax.get_xaxis().set_visible(False)\n",
    "    ax.get_yaxis().set_visible(False)\n",
    "    ax.set_title(f\"Observation (params {gt_contact[0]:0.2f}, {gt_contact[1]:0.2f} ,{gt_contact[2]:0.2f})\")\n",
    "    # ax.set_title(f\"Observed Depth\")\n",
    "    \n",
    "    \n",
    "    ax = fig.add_subplot(spec[0, 1])\n",
    "    ax.set_aspect(1.0)\n",
    "    circ = plt.Circle((0, 0), radius=1, edgecolor='black', facecolor='None', linestyle=\"--\", linewidth=0.5)\n",
    "    ax.add_patch(circ)\n",
    "    ax.set_xlim(-2.0, 2.0)\n",
    "    ax.set_ylim(-2.0, 2.0)\n",
    "    ax.get_xaxis().set_visible(False)\n",
    "    ax.get_yaxis().set_visible(False)\n",
    "    ax.scatter(-jnp.sin(sampled_contacts[:,2]),jnp.cos(sampled_contacts[:,2]),label=\"Posterior Samples\", alpha=0.5, s=15)\n",
    "    ax.scatter(-jnp.sin(gt_contact[2]),jnp.cos(gt_contact[2]), color=(1.0, 0.0, 0.0),label=\"Actual\", alpha=0.9, s=10)\n",
    "    ax.set_title(\"Posterior on Orientation (top view)\")\n",
    "    ax.legend(fontsize=9)\n",
    "    # plt.show()\n",
    "    return fig"
   ]
  },
  {
   "cell_type": "code",
   "execution_count": 10,
   "id": "66660e30-25ba-442a-9d55-f9a9ad45139c",
   "metadata": {},
   "outputs": [],
   "source": [
    "key = jax.random.PRNGKey(100)\n",
    "key2 = jax.random.PRNGKey(1000)"
   ]
  },
  {
   "cell_type": "code",
   "execution_count": 12,
   "id": "9c7ca0b0-8acc-4415-9db7-78f8a637f679",
   "metadata": {},
   "outputs": [
    {
     "name": "stderr",
     "output_type": "stream",
     "text": [
      "  0%|                                                                                                                                                                                         | 0/1 [00:00<?, ?it/s]"
     ]
    },
    {
     "name": "stdout",
     "output_type": "stream",
     "text": [
      "[0.15 0.1  0.  ]\n"
     ]
    },
    {
     "name": "stderr",
     "output_type": "stream",
     "text": [
      "100%|█████████████████████████████████████████████████████████████████████████████████████████████████████████████████████████████████████████████████████████████████████████████████| 1/1 [00:06<00:00,  6.67s/it]\n"
     ]
    },
    {
     "data": {
      "image/png": "[encoded data removed]",
      "text/plain": [
       "<Figure size 640x480 with 2 Axes>"
      ]
     },
     "metadata": {},
     "output_type": "display_data"
    }
   ],
   "source": [
    "# key = jax.random.PRNGKey(100)\n",
    "pathlib.Path('mug_results').mkdir(parents=True, exist_ok=True) \n",
    "for experiment_iteration in tqdm(range(1)):\n",
    "    # key = jax.random.split(key, 1)[0]\n",
    "    weight, trace = importance_jit(key, genjax.choice_map({\n",
    "        \"parent_0\": -1,\n",
    "        \"parent_1\": 0,\n",
    "        \"id_0\": jnp.int32(21),\n",
    "        \"id_1\": jnp.int32(13),\n",
    "        \"camera_pose\": jnp.eye(4),\n",
    "        \"root_pose_0\": table_pose,\n",
    "        \"face_parent_1\": 3,\n",
    "        \"face_child_1\": 2,\n",
    "        \"variance\": 0.001,\n",
    "        \"outlier_prob\": 0.0,\n",
    "        \"contact_params_1\": jnp.array([0.15, 0.1, 0.0])\n",
    "    }), (\n",
    "        jnp.arange(2),\n",
    "        jnp.arange(22),\n",
    "        jnp.array([-jnp.ones(3)*100.0, jnp.ones(3)*100.0]),\n",
    "        jnp.array([jnp.array([-0.2, -0.2, -jnp.pi]), jnp.array([0.2, 0.2, jnp.pi])]),\n",
    "        b.RENDERER.model_box_dims, 1.0, intrinsics.fx)\n",
    "    )\n",
    "    b.show_trimesh(\"1\", b.RENDERER.meshes[13])\n",
    "    b.set_pose(\"1\", b.get_poses(trace)[1])\n",
    "    print(trace[\"contact_params_1\"])\n",
    "    contact_param_grid = trace[\"contact_params_1\"] + contact_param_deltas\n",
    "    weights =  jnp.concatenate([\n",
    "        enumerators[3](trace, key, cp)\n",
    "        for cp in jnp.array_split(contact_param_grid, 60)\n",
    "    ],axis=0)\n",
    "    \n",
    "    normalized_weights = b.utils.normalize_log_scores(weights)\n",
    "    sampled_indices = jax.random.choice(key2,jnp.arange(normalized_weights.shape[0]), shape=(100,), p=normalized_weights)\n",
    "    sampled_contact_params = contact_param_grid[sampled_indices]\n",
    "\n",
    "    fig = make_orientation_posterior_viz(trace[\"image\"], trace[\"contact_params_1\"], sampled_contact_params)\n",
    "    fig.savefig(f'mug_results/{experiment_iteration:05d}.png')\n"
   ]
  },
  {
   "cell_type": "code",
   "execution_count": 57,
   "id": "951d4055-1034-4b7b-8ca8-cca863e4b88c",
   "metadata": {},
   "outputs": [],
   "source": [
    "# import imageio\n",
    "# images = [imageio.imread(f'mug_results/{experiment_iteration:05d}.png') for experiment_iteration in tqdm(range(50))]\n",
    "# imageio.mimsave(\"mug_results.gif\", images, 'GIF', duration=1200)"
   ]
  },
  {
   "cell_type": "code",
   "execution_count": 14,
   "id": "289ec425-4a3a-44b1-9438-a002b41c6428",
   "metadata": {},
   "outputs": [
    {
     "data": {
      "text/plain": [
       "Array(52615.22, dtype=float32)"
      ]
     },
     "execution_count": 14,
     "metadata": {},
     "output_type": "execute_result"
    }
   ],
   "source": [
    "trace.get_score()"
   ]
  },
  {
   "cell_type": "code",
   "execution_count": 15,
   "id": "1924b0e2-d9e5-4bc0-add4-3f9becc0ee74",
   "metadata": {},
   "outputs": [
    {
     "name": "stdout",
     "output_type": "stream",
     "text": [
      "0.0\n",
      "52615.22\n",
      "52633.21\n",
      "[1.534943e-08 1.000000e+00]\n"
     ]
    },
    {
     "data": {
      "image/jpeg": "[encoded data removed]",
      "image/png": "[encoded data removed]",
      "text/plain": [
       "<PIL.Image.Image image mode=RGB size=410x200>"
      ]
     },
     "execution_count": 15,
     "metadata": {},
     "output_type": "execute_result"
    }
   ],
   "source": [
    "idx = sampled_contact_params[:,2].argmin()\n",
    "new_trace = enumerators[0](trace,key, sampled_contact_params[idx])\n",
    "normalized_weights = b.utils.normalize_log_scores(weights)\n",
    "print(normalized_weights[idx])\n",
    "print(trace.get_score())\n",
    "print(new_trace.get_score())\n",
    "print(b.utils.normalize_log_scores(jnp.array([trace.get_score(), new_trace.get_score()])))\n",
    "b.viz_trace_rendered_observed(new_trace)"
   ]
  },
  {
   "cell_type": "code",
   "execution_count": 18,
   "id": "da1d334a-155f-4f45-99b1-13749d763c42",
   "metadata": {},
   "outputs": [
    {
     "name": "stdout",
     "output_type": "stream",
     "text": [
      "False\n",
      "52666.46 52684.453\n",
      "number that are better  295\n",
      "total that are better  35.41522\n",
      "number that are worse  396\n",
      "total that are worse  -17.419804\n",
      "0.74521494\n",
      "56 24\n",
      "[-0.11529334  0.02660616  0.8868719 ]\n",
      "[-0.11529334  0.02660616  0.8868719 ]\n",
      "[-0.1164979   0.02688413  0.8961377 ]\n",
      "5.447435\n",
      "6.19265\n"
     ]
    },
    {
     "data": {
      "text/plain": [
       "<matplotlib.colorbar.Colorbar at 0x7f4c94697a30>"
      ]
     },
     "execution_count": 18,
     "metadata": {},
     "output_type": "execute_result"
    },
    {
     "data": {
      "image/png": "[encoded data removed]",
      "text/plain": [
       "<Figure size 480x480 with 2 Axes>"
      ]
     },
     "metadata": {},
     "output_type": "display_data"
    }
   ],
   "source": [
    "scores1 = b.get_pixelwise_scores(trace, 3)\n",
    "scores2 = b.get_pixelwise_scores(new_trace, 3)\n",
    "print(scores1.sum() > scores2.sum())\n",
    "print(scores1.sum(), scores2.sum())\n",
    "diff = (scores2 - scores1)\n",
    "plt.matshow(diff)\n",
    "\n",
    "\n",
    "print(\"number that are better \", (diff > 0).sum())\n",
    "print(\"total that are better \", diff[(diff > 0)].sum())\n",
    "print(\"number that are worse \", (diff < 0).sum())\n",
    "print(\"total that are worse \", diff[(diff < 0)].sum())\n",
    "\n",
    "i,j = jnp.unravel_index((scores2 - scores1).argmax(), scores2.shape)\n",
    "print((scores2 - scores1)[i,j])\n",
    "print(i,j)\n",
    "print(trace[\"image\"][i,j])\n",
    "print(b.get_rendered_image(trace)[i,j])\n",
    "print(b.get_rendered_image(new_trace)[i,j])\n",
    "print(scores1[i,j])\n",
    "print(scores2[i,j])\n",
    "plt.colorbar()"
   ]
  },
  {
   "cell_type": "code",
   "execution_count": 75,
   "id": "d7724cd8-0429-4878-aee3-5f87ef4efd66",
   "metadata": {},
   "outputs": [
    {
     "data": {
      "text/plain": [
       "<matplotlib.image.AxesImage at 0x7f8c884b7430>"
      ]
     },
     "execution_count": 75,
     "metadata": {},
     "output_type": "execute_result"
    },
    {
     "data": {
      "image/png": "[encoded data removed]",
      "text/plain": [
       "<Figure size 480x480 with 1 Axes>"
      ]
     },
     "metadata": {},
     "output_type": "display_data"
    }
   ],
   "source": [
    "plt.matshow(diff > 0 )"
   ]
  },
  {
   "cell_type": "code",
   "execution_count": 76,
   "id": "ef671c1b-e8b9-4917-a860-789ea8137b68",
   "metadata": {},
   "outputs": [
    {
     "data": {
      "text/plain": [
       "<matplotlib.image.AxesImage at 0x7f8c88420550>"
      ]
     },
     "execution_count": 76,
     "metadata": {},
     "output_type": "execute_result"
    },
    {
     "data": {
      "image/png": "[encoded data removed]",
      "text/plain": [
       "<Figure size 480x480 with 1 Axes>"
      ]
     },
     "metadata": {},
     "output_type": "display_data"
    }
   ],
   "source": [
    "plt.matshow(diff < 0 )"
   ]
  },
  {
   "cell_type": "code",
   "execution_count": 44,
   "id": "938393d2-11f8-46a7-acf3-e50f8ef50c5c",
   "metadata": {},
   "outputs": [
    {
     "ename": "NameError",
     "evalue": "name 'width_observed' is not defined",
     "output_type": "error",
     "traceback": [
      "\u001b[0;31m---------------------------------------------------------------------------\u001b[0m",
      "\u001b[0;31mNameError\u001b[0m                                 Traceback (most recent call last)",
      "Cell \u001b[0;32mIn[44], line 1\u001b[0m\n\u001b[0;32m----> 1\u001b[0m filter_scores \u001b[38;5;241m=\u001b[39m \u001b[43mget_filter_scores\u001b[49m\u001b[43m(\u001b[49m\n\u001b[1;32m      2\u001b[0m \u001b[43m    \u001b[49m\u001b[43mjnp\u001b[49m\u001b[38;5;241;43m.\u001b[39;49m\u001b[43marray\u001b[49m\u001b[43m(\u001b[49m\u001b[43m[\u001b[49m\u001b[43mi\u001b[49m\u001b[43m,\u001b[49m\u001b[43mj\u001b[49m\u001b[43m]\u001b[49m\u001b[43m)\u001b[49m\u001b[43m,\u001b[49m\n\u001b[1;32m      3\u001b[0m \u001b[43m    \u001b[49m\u001b[43mtrace\u001b[49m\u001b[43m[\u001b[49m\u001b[38;5;124;43m\"\u001b[39;49m\u001b[38;5;124;43mimage\u001b[39;49m\u001b[38;5;124;43m\"\u001b[39;49m\u001b[43m]\u001b[49m\u001b[43m,\u001b[49m\n\u001b[1;32m      4\u001b[0m \u001b[43m    \u001b[49m\u001b[43mb\u001b[49m\u001b[38;5;241;43m.\u001b[39;49m\u001b[43mget_rendered_image\u001b[49m\u001b[43m(\u001b[49m\u001b[43mtrace\u001b[49m\u001b[43m)\u001b[49m\u001b[43m,\u001b[49m\n\u001b[1;32m      5\u001b[0m \u001b[43m    \u001b[49m\u001b[43mtrace\u001b[49m\u001b[43m[\u001b[49m\u001b[38;5;124;43m\"\u001b[39;49m\u001b[38;5;124;43mvariance\u001b[39;49m\u001b[38;5;124;43m\"\u001b[39;49m\u001b[43m]\u001b[49m\u001b[43m,\u001b[49m\n\u001b[1;32m      6\u001b[0m \u001b[43m    \u001b[49m\u001b[43mtrace\u001b[49m\u001b[43m[\u001b[49m\u001b[38;5;124;43m\"\u001b[39;49m\u001b[38;5;124;43moutlier_prob\u001b[39;49m\u001b[38;5;124;43m\"\u001b[39;49m\u001b[43m]\u001b[49m\u001b[43m,\u001b[49m\n\u001b[1;32m      7\u001b[0m \u001b[43m    \u001b[49m\u001b[43mb\u001b[49m\u001b[38;5;241;43m.\u001b[39;49m\u001b[43mget_outlier_volume\u001b[49m\u001b[43m(\u001b[49m\u001b[43mtrace\u001b[49m\u001b[43m)\u001b[49m\u001b[43m,\u001b[49m\n\u001b[1;32m      8\u001b[0m \u001b[43m    \u001b[49m\u001b[43mb\u001b[49m\u001b[38;5;241;43m.\u001b[39;49m\u001b[43mget_focal_length\u001b[49m\u001b[43m(\u001b[49m\u001b[43mtrace\u001b[49m\u001b[43m)\u001b[49m\u001b[43m,\u001b[49m\n\u001b[1;32m      9\u001b[0m \u001b[43m    \u001b[49m\u001b[38;5;241;43m3\u001b[39;49m\n\u001b[1;32m     10\u001b[0m \u001b[43m)\u001b[49m\n\u001b[1;32m     12\u001b[0m filter_scores_new \u001b[38;5;241m=\u001b[39m get_filter_scores(\n\u001b[1;32m     13\u001b[0m     jnp\u001b[38;5;241m.\u001b[39marray([i,j]),\n\u001b[1;32m     14\u001b[0m     new_trace[\u001b[38;5;124m\"\u001b[39m\u001b[38;5;124mimage\u001b[39m\u001b[38;5;124m\"\u001b[39m],\n\u001b[0;32m   (...)\u001b[0m\n\u001b[1;32m     20\u001b[0m     \u001b[38;5;241m3\u001b[39m\n\u001b[1;32m     21\u001b[0m )\n\u001b[1;32m     23\u001b[0m \u001b[38;5;28mfilter\u001b[39m \u001b[38;5;241m=\u001b[39m get_latent_filter(    jnp\u001b[38;5;241m.\u001b[39marray([i,j]),\n\u001b[1;32m     24\u001b[0m     trace[\u001b[38;5;124m\"\u001b[39m\u001b[38;5;124mimage\u001b[39m\u001b[38;5;124m\"\u001b[39m],\n\u001b[1;32m     25\u001b[0m     b\u001b[38;5;241m.\u001b[39mget_rendered_image(trace),\u001b[38;5;241m3\u001b[39m)\n",
      "Cell \u001b[0;32mIn[42], line 19\u001b[0m, in \u001b[0;36mget_filter_scores\u001b[0;34m(ij, observed_xyz, rendered_xyz, variance, outlier_prob, outlier_volume, focal_length, filter_size)\u001b[0m\n\u001b[1;32m     16\u001b[0m half_widths \u001b[38;5;241m=\u001b[39m (filter_latent[:,:,\u001b[38;5;241m2\u001b[39m] \u001b[38;5;241m/\u001b[39m focal_length) \u001b[38;5;241m/\u001b[39m \u001b[38;5;241m2.0\u001b[39m\n\u001b[1;32m     18\u001b[0m probabilities \u001b[38;5;241m=\u001b[39m b\u001b[38;5;241m.\u001b[39mcompute_score(filter_latent, p, focal_length, variance)\n\u001b[0;32m---> 19\u001b[0m probabilities_normalized \u001b[38;5;241m=\u001b[39m probabilities \u001b[38;5;241m+\u001b[39m jnp\u001b[38;5;241m.\u001b[39mlog(((\u001b[38;5;241m2\u001b[39m\u001b[38;5;241m*\u001b[39mhalf_widths)\u001b[38;5;241m*\u001b[39m\u001b[38;5;241m*\u001b[39m\u001b[38;5;241m2\u001b[39m)) \u001b[38;5;241m-\u001b[39m jnp\u001b[38;5;241m.\u001b[39mlog(((\u001b[38;5;241m2\u001b[39m\u001b[38;5;241m*\u001b[39mhalf_widths)\u001b[38;5;241m*\u001b[39m\u001b[38;5;241m*\u001b[39m\u001b[38;5;241m2\u001b[39m)\u001b[38;5;241m.\u001b[39msum())  \u001b[38;5;241m+\u001b[39m \u001b[38;5;241m2\u001b[39m\u001b[38;5;241m*\u001b[39mjnp\u001b[38;5;241m.\u001b[39mlog(\u001b[43mwidth_observed\u001b[49m)\n\u001b[1;32m     21\u001b[0m \u001b[38;5;28;01mreturn\u001b[39;00m probabilities_normalized\n",
      "\u001b[0;31mNameError\u001b[0m: name 'width_observed' is not defined"
     ]
    }
   ],
   "source": [
    "filter_scores = convolutional_filter(\n",
    "    jnp.array([i,j]),\n",
    "    trace[\"image\"],\n",
    "    b.get_rendered_image(trace),\n",
    "    trace[\"variance\"],\n",
    "    trace[\"outlier_prob\"],\n",
    "    b.get_outlier_volume(trace),\n",
    "    b.get_focal_length(trace),\n",
    "    3\n",
    ")"
   ]
  },
  {
   "cell_type": "code",
   "execution_count": 2,
   "id": "4f4c61df-b998-4ac6-886e-5eb69ffff4ab",
   "metadata": {},
   "outputs": [
    {
     "ename": "NameError",
     "evalue": "name 'filter_scores' is not defined",
     "output_type": "error",
     "traceback": [
      "\u001b[0;31m---------------------------------------------------------------------------\u001b[0m",
      "\u001b[0;31mNameError\u001b[0m                                 Traceback (most recent call last)",
      "Cell \u001b[0;32mIn[2], line 1\u001b[0m\n\u001b[0;32m----> 1\u001b[0m \u001b[38;5;28mprint\u001b[39m(\u001b[43mfilter_scores\u001b[49m[\u001b[38;5;241m3\u001b[39m,\u001b[38;5;241m3\u001b[39m])\n\u001b[1;32m      2\u001b[0m \u001b[38;5;28mprint\u001b[39m(filter_scores_new[\u001b[38;5;241m0\u001b[39m,\u001b[38;5;241m6\u001b[39m])\n\u001b[1;32m      4\u001b[0m \u001b[38;5;28mprint\u001b[39m(trace[\u001b[38;5;124m\"\u001b[39m\u001b[38;5;124mimage\u001b[39m\u001b[38;5;124m\"\u001b[39m][i,j])\n",
      "\u001b[0;31mNameError\u001b[0m: name 'filter_scores' is not defined"
     ]
    }
   ],
   "source": [
    "print(filter_scores[3,3])\n",
    "print(filter_scores_new[0,6])\n",
    "\n",
    "print(trace[\"image\"][i,j])\n",
    "\n",
    "print(filter[3,3])\n",
    "print(filter_new[0,6])"
   ]
  },
  {
   "cell_type": "code",
   "execution_count": 105,
   "id": "5e95c88a-42f1-493d-b041-921932498472",
   "metadata": {},
   "outputs": [
    {
     "name": "stdout",
     "output_type": "stream",
     "text": [
      "p:  [-2.6e-01  6.0e-04  2.0e+00]\n",
      "0.006360888\n",
      "p:  [-2.6e-01  6.0e-04  2.0e+00]\n",
      "0.005824215\n"
     ]
    }
   ],
   "source": [
    "\n",
    "def score(p, latent, focal_length, variance):\n",
    "    print(\"p: \", p)\n",
    "    half_widths = latent[2] / focal_length /2.0\n",
    "    width_observed = (p[2] / focal_length)\n",
    "    delta = jnp.array([half_widths, half_widths, 0.0])\n",
    "    bottom_lefts = latent - delta\n",
    "    top_rights =  latent + delta\n",
    "    \n",
    "    x_term = jax.lax.erf(\n",
    "        (bottom_lefts[0] - p[0]) / (jnp.sqrt(2) * jnp.sqrt(variance))\n",
    "    ) - jax.lax.erf(\n",
    "        (top_rights[0] - p[0]) / (jnp.sqrt(2) * jnp.sqrt(variance))\n",
    "    )\n",
    "\n",
    "    y_term = jax.lax.erf(\n",
    "        (bottom_lefts[1] - p[1]) / (jnp.sqrt(2) * jnp.sqrt(variance))\n",
    "    ) - jax.lax.erf(\n",
    "        (top_rights[1] - p[1]) / (jnp.sqrt(2) * jnp.sqrt(variance))\n",
    "    )\n",
    "    return x_term * y_term\n",
    "\n",
    "p = jnp.array([-0.26  ,0.0006 , 2.  ])\n",
    "f1 = p\n",
    "f2 = jnp.array([-0.22999999  ,0.03      ,  2.        ])\n",
    "print(score(p, f1, 200.0, 0.01))\n",
    "print(score(p, f2, 200.0, 0.01))\n",
    "    "
   ]
  },
  {
   "cell_type": "code",
   "execution_count": 88,
   "id": "bc54ec50-43bc-4455-964e-32c53117aadd",
   "metadata": {},
   "outputs": [
    {
     "data": {
      "text/plain": [
       "Array(nan, dtype=float32, weak_type=True)"
      ]
     },
     "execution_count": 88,
     "metadata": {},
     "output_type": "execute_result"
    }
   ],
   "source": [
    "jnp.log()"
   ]
  },
  {
   "cell_type": "code",
   "execution_count": 68,
   "id": "9afc6528-4afa-4e03-b7dc-d7c5f5fbb2f2",
   "metadata": {},
   "outputs": [
    {
     "data": {
      "text/plain": [
       "(Array([-0.26,  0.06,  2.  ], dtype=float32),\n",
       " Array([-0.22999999,  0.03      ,  2.        ], dtype=float32))"
      ]
     },
     "execution_count": 68,
     "metadata": {},
     "output_type": "execute_result"
    }
   ],
   "source": [
    "trace[\"image\"][i,j], filter_new[0,6]"
   ]
  },
  {
   "cell_type": "code",
   "execution_count": 66,
   "id": "60adbdc8-c241-442c-8a8c-c300c26f1519",
   "metadata": {},
   "outputs": [
    {
     "data": {
      "text/plain": [
       "Array([-0.26,  0.06,  2.  ], dtype=float32)"
      ]
     },
     "execution_count": 66,
     "metadata": {},
     "output_type": "execute_result"
    }
   ],
   "source": [
    "filter[3,3]"
   ]
  },
  {
   "cell_type": "code",
   "execution_count": 54,
   "id": "f6794d0b-a227-4281-a56e-d3eb8ec8e4b5",
   "metadata": {},
   "outputs": [],
   "source": [
    "erf = jax.lax.erf\n",
    "def single_patch_likelihood(p: jnp.ndarray,\n",
    "                            latent,\n",
    "                            focal_length,\n",
    "                            sigma: float):\n",
    "    half_widths = latent[2] / focal_length /2.0\n",
    "    width_observed = (p[2] / focal_length)\n",
    "    delta = jnp.array([half_widths, half_widths, 0.0])\n",
    "    bottom_left = p - delta\n",
    "    top_right = p + delta\n",
    "    x, y, z = bottom_left\n",
    "    X, Y, _ = top_right\n",
    "    C = (2*jnp.pi)**(-3/2)  * sigma**(-3)\n",
    "    z_term = jnp.exp(- (p[2] - z)**2/sigma**2)\n",
    "    x_term = jnp.sqrt(jnp.pi) * sigma / 2 * (erf((p[0] - 2*x) / sigma) + erf((- p[0] + x + X) / sigma))\n",
    "    y_term = jnp.sqrt(jnp.pi) * sigma / 2 * (erf((p[1] - 2*y) / sigma) + erf((- p[1] + y + Y) / sigma))\n",
    "    print(x_term, y_term, z_term)\n",
    "    return C * x_term * y_term * z_term"
   ]
  },
  {
   "cell_type": "code",
   "execution_count": 64,
   "id": "02249c5a-04d4-4df3-ac2a-d62b0e4b83ce",
   "metadata": {},
   "outputs": [
    {
     "data": {
      "text/plain": [
       "<function jax._src.lax.special.erf(x: Union[jax.Array, numpy.ndarray, numpy.bool_, numpy.number, bool, int, float, complex]) -> jax.Array>"
      ]
     },
     "execution_count": 64,
     "metadata": {},
     "output_type": "execute_result"
    }
   ],
   "source": [
    "jax.lax.erf"
   ]
  },
  {
   "cell_type": "code",
   "execution_count": 62,
   "id": "2a8aee70-eb6d-487b-a779-c0c878259045",
   "metadata": {},
   "outputs": [
    {
     "name": "stdout",
     "output_type": "stream",
     "text": [
      "9.001081e-06 0.0073872516 1.0\n"
     ]
    },
    {
     "data": {
      "text/plain": [
       "Array(4.221898e-06, dtype=float32)"
      ]
     },
     "execution_count": 62,
     "metadata": {},
     "output_type": "execute_result"
    }
   ],
   "source": [
    "single_patch_likelihood(\n",
    "    trace[\"image\"][i,j],\n",
    "    filter[3,3],\n",
    "    b.get_focal_length(trace), 0.1\n",
    ")"
   ]
  },
  {
   "cell_type": "code",
   "execution_count": 48,
   "id": "4c3b5cf2-1b77-4a4a-8306-a5186d0f5b98",
   "metadata": {},
   "outputs": [
    {
     "data": {
      "text/plain": [
       "(Array([-0.26,  0.06,  2.  ], dtype=float32),\n",
       " Array([-0.26,  0.06,  2.  ], dtype=float32))"
      ]
     },
     "execution_count": 48,
     "metadata": {},
     "output_type": "execute_result"
    }
   ],
   "source": [
    "trace[\"image\"][i,j], filter[3,3]"
   ]
  },
  {
   "cell_type": "code",
   "execution_count": 33,
   "id": "6b8dc3fc-ea07-44aa-8082-4e5e1370b2c7",
   "metadata": {},
   "outputs": [
    {
     "data": {
      "text/plain": [
       "Array([-0.26,  0.06,  2.  ], dtype=float32)"
      ]
     },
     "execution_count": 33,
     "metadata": {},
     "output_type": "execute_result"
    }
   ],
   "source": [
    "trace[\"image\"][i,j]"
   ]
  },
  {
   "cell_type": "code",
   "execution_count": 45,
   "id": "f24cf323-df43-4add-bd75-549e8538fb23",
   "metadata": {},
   "outputs": [
    {
     "name": "stdout",
     "output_type": "stream",
     "text": [
      "-5.575178\n",
      "-151.78525\n"
     ]
    }
   ],
   "source": [
    "print(filter[3,3])\n",
    "print(filter_new[3,3])"
   ]
  },
  {
   "cell_type": "code",
   "execution_count": null,
   "id": "d7a73c52-741c-46a7-9fa7-396790e6e854",
   "metadata": {},
   "outputs": [],
   "source": [
    "latent"
   ]
  },
  {
   "cell_type": "code",
   "execution_count": 44,
   "id": "15590b50-475a-454b-854a-ef3640531488",
   "metadata": {},
   "outputs": [
    {
     "name": "stdout",
     "output_type": "stream",
     "text": [
      "[-0.26  0.06  2.  ]\n",
      "[-0.10228802  0.02360493  0.7868309 ]\n"
     ]
    }
   ],
   "source": [
    "print(get_latent_filter(    jnp.array([i,j]),\n",
    "    trace[\"image\"],\n",
    "    b.get_rendered_image(trace),3)[3,3])\n",
    "\n",
    "print(get_latent_filter(    jnp.array([i,j]),\n",
    "    new_trace[\"image\"],\n",
    "    b.get_rendered_image(new_trace),3)[3,3])"
   ]
  },
  {
   "cell_type": "code",
   "execution_count": 33,
   "id": "f5d601d9-e92f-41c2-b840-584fa5424d19",
   "metadata": {},
   "outputs": [
    {
     "data": {
      "text/plain": [
       "Array(-4.5982857, dtype=float32)"
      ]
     },
     "execution_count": 33,
     "metadata": {},
     "output_type": "execute_result"
    }
   ],
   "source": []
  },
  {
   "cell_type": "code",
   "execution_count": 31,
   "id": "34ace425-bc0c-4a36-b6bd-c58e718cc046",
   "metadata": {},
   "outputs": [
    {
     "data": {
      "image/png": "[encoded data removed]",
      "text/plain": [
       "<Figure size 640x480 with 3 Axes>"
      ]
     },
     "metadata": {},
     "output_type": "display_data"
    }
   ],
   "source": [
    "fig, axes = plt.subplots(nrows=1, ncols=2)\n",
    "im = axes[0].matshow(filter)\n",
    "im = axes[1].matshow(filter_new)\n",
    "fig.subplots_adjust(right=0.8)\n",
    "cbar_ax = fig.add_axes([0.85, 0.15, 0.05, 0.7])\n",
    "fig.colorbar(im, cax=cbar_ax)\n",
    "\n",
    "plt.show()"
   ]
  },
  {
   "cell_type": "code",
   "execution_count": 10,
   "id": "addf521f-04c2-4772-a12d-fc91dba82f27",
   "metadata": {},
   "outputs": [
    {
     "name": "stderr",
     "output_type": "stream",
     "text": [
      "  0%|                                                                 | 0/50 [00:00<?, ?it/s]/var/tmp/ipykernel_568436/2655208105.py:2: DeprecationWarning: Starting with ImageIO v3 the behavior of this function will switch to that of iio.v3.imread. To keep the current behavior (and make this warning disappear) use `import imageio.v2 as imageio` or call `imageio.v2.imread` directly.\n",
      "  images = [imageio.imread(f'results/{experiment_iteration:05d}.png') for experiment_iteration in tqdm(range(50))]\n"
     ]
    },
    {
     "ename": "FileNotFoundError",
     "evalue": "No such file: '/home/nishadgothoskar/bayes3d/scripts/experiments/icra/mug/results/00000.png'",
     "output_type": "error",
     "traceback": [
      "\u001b[0;31m---------------------------------------------------------------------------\u001b[0m",
      "\u001b[0;31mFileNotFoundError\u001b[0m                         Traceback (most recent call last)",
      "Cell \u001b[0;32mIn[10], line 2\u001b[0m\n\u001b[1;32m      1\u001b[0m \u001b[38;5;28;01mimport\u001b[39;00m \u001b[38;5;21;01mimageio\u001b[39;00m\n\u001b[0;32m----> 2\u001b[0m images \u001b[38;5;241m=\u001b[39m [imageio\u001b[38;5;241m.\u001b[39mimread(\u001b[38;5;124mf\u001b[39m\u001b[38;5;124m'\u001b[39m\u001b[38;5;124mresults/\u001b[39m\u001b[38;5;132;01m{\u001b[39;00mexperiment_iteration\u001b[38;5;132;01m:\u001b[39;00m\u001b[38;5;124m05d\u001b[39m\u001b[38;5;132;01m}\u001b[39;00m\u001b[38;5;124m.png\u001b[39m\u001b[38;5;124m'\u001b[39m) \u001b[38;5;28;01mfor\u001b[39;00m experiment_iteration \u001b[38;5;129;01min\u001b[39;00m tqdm(\u001b[38;5;28mrange\u001b[39m(\u001b[38;5;241m50\u001b[39m))]\n\u001b[1;32m      3\u001b[0m imageio\u001b[38;5;241m.\u001b[39mmimsave(\u001b[38;5;124m\"\u001b[39m\u001b[38;5;124mmug_results.gif\u001b[39m\u001b[38;5;124m\"\u001b[39m, images, \u001b[38;5;124m'\u001b[39m\u001b[38;5;124mGIF\u001b[39m\u001b[38;5;124m'\u001b[39m, duration\u001b[38;5;241m=\u001b[39m\u001b[38;5;241m1200\u001b[39m)\n",
      "Cell \u001b[0;32mIn[10], line 2\u001b[0m, in \u001b[0;36m<listcomp>\u001b[0;34m(.0)\u001b[0m\n\u001b[1;32m      1\u001b[0m \u001b[38;5;28;01mimport\u001b[39;00m \u001b[38;5;21;01mimageio\u001b[39;00m\n\u001b[0;32m----> 2\u001b[0m images \u001b[38;5;241m=\u001b[39m [\u001b[43mimageio\u001b[49m\u001b[38;5;241;43m.\u001b[39;49m\u001b[43mimread\u001b[49m\u001b[43m(\u001b[49m\u001b[38;5;124;43mf\u001b[39;49m\u001b[38;5;124;43m'\u001b[39;49m\u001b[38;5;124;43mresults/\u001b[39;49m\u001b[38;5;132;43;01m{\u001b[39;49;00m\u001b[43mexperiment_iteration\u001b[49m\u001b[38;5;132;43;01m:\u001b[39;49;00m\u001b[38;5;124;43m05d\u001b[39;49m\u001b[38;5;132;43;01m}\u001b[39;49;00m\u001b[38;5;124;43m.png\u001b[39;49m\u001b[38;5;124;43m'\u001b[39;49m\u001b[43m)\u001b[49m \u001b[38;5;28;01mfor\u001b[39;00m experiment_iteration \u001b[38;5;129;01min\u001b[39;00m tqdm(\u001b[38;5;28mrange\u001b[39m(\u001b[38;5;241m50\u001b[39m))]\n\u001b[1;32m      3\u001b[0m imageio\u001b[38;5;241m.\u001b[39mmimsave(\u001b[38;5;124m\"\u001b[39m\u001b[38;5;124mmug_results.gif\u001b[39m\u001b[38;5;124m\"\u001b[39m, images, \u001b[38;5;124m'\u001b[39m\u001b[38;5;124mGIF\u001b[39m\u001b[38;5;124m'\u001b[39m, duration\u001b[38;5;241m=\u001b[39m\u001b[38;5;241m1200\u001b[39m)\n",
      "File \u001b[0;32m/opt/conda/envs/bayes3d/lib/python3.9/site-packages/imageio/__init__.py:97\u001b[0m, in \u001b[0;36mimread\u001b[0;34m(uri, format, **kwargs)\u001b[0m\n\u001b[1;32m     68\u001b[0m \u001b[38;5;250m\u001b[39m\u001b[38;5;124;03m\"\"\"imread(uri, format=None, **kwargs)\u001b[39;00m\n\u001b[1;32m     69\u001b[0m \n\u001b[1;32m     70\u001b[0m \u001b[38;5;124;03mReads an image from the specified file. Returns a numpy array, which\u001b[39;00m\n\u001b[0;32m   (...)\u001b[0m\n\u001b[1;32m     86\u001b[0m \u001b[38;5;124;03m    to see what arguments are available for a particular format.\u001b[39;00m\n\u001b[1;32m     87\u001b[0m \u001b[38;5;124;03m\"\"\"\u001b[39;00m\n\u001b[1;32m     89\u001b[0m warnings\u001b[38;5;241m.\u001b[39mwarn(\n\u001b[1;32m     90\u001b[0m     \u001b[38;5;124m\"\u001b[39m\u001b[38;5;124mStarting with ImageIO v3 the behavior of this function will switch to that of\u001b[39m\u001b[38;5;124m\"\u001b[39m\n\u001b[1;32m     91\u001b[0m     \u001b[38;5;124m\"\u001b[39m\u001b[38;5;124m iio.v3.imread. To keep the current behavior (and make this warning disappear)\u001b[39m\u001b[38;5;124m\"\u001b[39m\n\u001b[0;32m   (...)\u001b[0m\n\u001b[1;32m     94\u001b[0m     stacklevel\u001b[38;5;241m=\u001b[39m\u001b[38;5;241m2\u001b[39m,\n\u001b[1;32m     95\u001b[0m )\n\u001b[0;32m---> 97\u001b[0m \u001b[38;5;28;01mreturn\u001b[39;00m \u001b[43mimread_v2\u001b[49m\u001b[43m(\u001b[49m\u001b[43muri\u001b[49m\u001b[43m,\u001b[49m\u001b[43m \u001b[49m\u001b[38;5;28;43mformat\u001b[39;49m\u001b[38;5;241;43m=\u001b[39;49m\u001b[38;5;28;43mformat\u001b[39;49m\u001b[43m,\u001b[49m\u001b[43m \u001b[49m\u001b[38;5;241;43m*\u001b[39;49m\u001b[38;5;241;43m*\u001b[39;49m\u001b[43mkwargs\u001b[49m\u001b[43m)\u001b[49m\n",
      "File \u001b[0;32m/opt/conda/envs/bayes3d/lib/python3.9/site-packages/imageio/v2.py:359\u001b[0m, in \u001b[0;36mimread\u001b[0;34m(uri, format, **kwargs)\u001b[0m\n\u001b[1;32m    356\u001b[0m imopen_args \u001b[38;5;241m=\u001b[39m decypher_format_arg(\u001b[38;5;28mformat\u001b[39m)\n\u001b[1;32m    357\u001b[0m imopen_args[\u001b[38;5;124m\"\u001b[39m\u001b[38;5;124mlegacy_mode\u001b[39m\u001b[38;5;124m\"\u001b[39m] \u001b[38;5;241m=\u001b[39m \u001b[38;5;28;01mTrue\u001b[39;00m\n\u001b[0;32m--> 359\u001b[0m \u001b[38;5;28;01mwith\u001b[39;00m \u001b[43mimopen\u001b[49m\u001b[43m(\u001b[49m\u001b[43muri\u001b[49m\u001b[43m,\u001b[49m\u001b[43m \u001b[49m\u001b[38;5;124;43m\"\u001b[39;49m\u001b[38;5;124;43mri\u001b[39;49m\u001b[38;5;124;43m\"\u001b[39;49m\u001b[43m,\u001b[49m\u001b[43m \u001b[49m\u001b[38;5;241;43m*\u001b[39;49m\u001b[38;5;241;43m*\u001b[39;49m\u001b[43mimopen_args\u001b[49m\u001b[43m)\u001b[49m \u001b[38;5;28;01mas\u001b[39;00m file:\n\u001b[1;32m    360\u001b[0m     result \u001b[38;5;241m=\u001b[39m file\u001b[38;5;241m.\u001b[39mread(index\u001b[38;5;241m=\u001b[39m\u001b[38;5;241m0\u001b[39m, \u001b[38;5;241m*\u001b[39m\u001b[38;5;241m*\u001b[39mkwargs)\n\u001b[1;32m    362\u001b[0m \u001b[38;5;28;01mreturn\u001b[39;00m result\n",
      "File \u001b[0;32m/opt/conda/envs/bayes3d/lib/python3.9/site-packages/imageio/core/imopen.py:113\u001b[0m, in \u001b[0;36mimopen\u001b[0;34m(uri, io_mode, plugin, extension, format_hint, legacy_mode, **kwargs)\u001b[0m\n\u001b[1;32m    111\u001b[0m     request\u001b[38;5;241m.\u001b[39mformat_hint \u001b[38;5;241m=\u001b[39m format_hint\n\u001b[1;32m    112\u001b[0m \u001b[38;5;28;01melse\u001b[39;00m:\n\u001b[0;32m--> 113\u001b[0m     request \u001b[38;5;241m=\u001b[39m \u001b[43mRequest\u001b[49m\u001b[43m(\u001b[49m\u001b[43muri\u001b[49m\u001b[43m,\u001b[49m\u001b[43m \u001b[49m\u001b[43mio_mode\u001b[49m\u001b[43m,\u001b[49m\u001b[43m \u001b[49m\u001b[43mformat_hint\u001b[49m\u001b[38;5;241;43m=\u001b[39;49m\u001b[43mformat_hint\u001b[49m\u001b[43m,\u001b[49m\u001b[43m \u001b[49m\u001b[43mextension\u001b[49m\u001b[38;5;241;43m=\u001b[39;49m\u001b[43mextension\u001b[49m\u001b[43m)\u001b[49m\n\u001b[1;32m    115\u001b[0m source \u001b[38;5;241m=\u001b[39m \u001b[38;5;124m\"\u001b[39m\u001b[38;5;124m<bytes>\u001b[39m\u001b[38;5;124m\"\u001b[39m \u001b[38;5;28;01mif\u001b[39;00m \u001b[38;5;28misinstance\u001b[39m(uri, \u001b[38;5;28mbytes\u001b[39m) \u001b[38;5;28;01melse\u001b[39;00m uri\n\u001b[1;32m    117\u001b[0m \u001b[38;5;66;03m# fast-path based on plugin\u001b[39;00m\n\u001b[1;32m    118\u001b[0m \u001b[38;5;66;03m# (except in legacy mode)\u001b[39;00m\n",
      "File \u001b[0;32m/opt/conda/envs/bayes3d/lib/python3.9/site-packages/imageio/core/request.py:247\u001b[0m, in \u001b[0;36mRequest.__init__\u001b[0;34m(self, uri, mode, extension, format_hint, **kwargs)\u001b[0m\n\u001b[1;32m    244\u001b[0m     \u001b[38;5;28;01mraise\u001b[39;00m \u001b[38;5;167;01mValueError\u001b[39;00m(\u001b[38;5;124mf\u001b[39m\u001b[38;5;124m\"\u001b[39m\u001b[38;5;124mInvalid Request.Mode: \u001b[39m\u001b[38;5;132;01m{\u001b[39;00mmode\u001b[38;5;132;01m}\u001b[39;00m\u001b[38;5;124m\"\u001b[39m)\n\u001b[1;32m    246\u001b[0m \u001b[38;5;66;03m# Parse what was given\u001b[39;00m\n\u001b[0;32m--> 247\u001b[0m \u001b[38;5;28;43mself\u001b[39;49m\u001b[38;5;241;43m.\u001b[39;49m\u001b[43m_parse_uri\u001b[49m\u001b[43m(\u001b[49m\u001b[43muri\u001b[49m\u001b[43m)\u001b[49m\n\u001b[1;32m    249\u001b[0m \u001b[38;5;66;03m# Set extension\u001b[39;00m\n\u001b[1;32m    250\u001b[0m \u001b[38;5;28;01mif\u001b[39;00m extension \u001b[38;5;129;01mis\u001b[39;00m \u001b[38;5;129;01mnot\u001b[39;00m \u001b[38;5;28;01mNone\u001b[39;00m:\n",
      "File \u001b[0;32m/opt/conda/envs/bayes3d/lib/python3.9/site-packages/imageio/core/request.py:407\u001b[0m, in \u001b[0;36mRequest._parse_uri\u001b[0;34m(self, uri)\u001b[0m\n\u001b[1;32m    404\u001b[0m \u001b[38;5;28;01mif\u001b[39;00m is_read_request:\n\u001b[1;32m    405\u001b[0m     \u001b[38;5;66;03m# Reading: check that the file exists (but is allowed a dir)\u001b[39;00m\n\u001b[1;32m    406\u001b[0m     \u001b[38;5;28;01mif\u001b[39;00m \u001b[38;5;129;01mnot\u001b[39;00m os\u001b[38;5;241m.\u001b[39mpath\u001b[38;5;241m.\u001b[39mexists(fn):\n\u001b[0;32m--> 407\u001b[0m         \u001b[38;5;28;01mraise\u001b[39;00m \u001b[38;5;167;01mFileNotFoundError\u001b[39;00m(\u001b[38;5;124m\"\u001b[39m\u001b[38;5;124mNo such file: \u001b[39m\u001b[38;5;124m'\u001b[39m\u001b[38;5;132;01m%s\u001b[39;00m\u001b[38;5;124m'\u001b[39m\u001b[38;5;124m\"\u001b[39m \u001b[38;5;241m%\u001b[39m fn)\n\u001b[1;32m    408\u001b[0m \u001b[38;5;28;01melse\u001b[39;00m:\n\u001b[1;32m    409\u001b[0m     \u001b[38;5;66;03m# Writing: check that the directory to write to does exist\u001b[39;00m\n\u001b[1;32m    410\u001b[0m     dn \u001b[38;5;241m=\u001b[39m os\u001b[38;5;241m.\u001b[39mpath\u001b[38;5;241m.\u001b[39mdirname(fn)\n",
      "\u001b[0;31mFileNotFoundError\u001b[0m: No such file: '/home/nishadgothoskar/bayes3d/scripts/experiments/icra/mug/results/00000.png'"
     ]
    }
   ],
   "source": [
    "import imageio\n",
    "images = [imageio.imread(f'results/{experiment_iteration:05d}.png') for experiment_iteration in tqdm(range(50))]\n",
    "imageio.mimsave(\"mug_results.gif\", images, 'GIF', duration=1200)"
   ]
  },
  {
   "cell_type": "code",
   "execution_count": null,
   "id": "b1e0b385-5797-4bd1-b176-4a572f69b39e",
   "metadata": {},
   "outputs": [],
   "source": []
  }
 ],
 "metadata": {
  "kernelspec": {
   "display_name": "Python 3 (ipykernel)",
   "language": "python",
   "name": "python3"
  },
  "language_info": {
   "codemirror_mode": {
    "name": "ipython",
    "version": 3
   },
   "file_extension": ".py",
   "mimetype": "text/x-python",
   "name": "python",
   "nbconvert_exporter": "python",
   "pygments_lexer": "ipython3",
   "version": "3.9.17"
  }
 },
 "nbformat": 4,
 "nbformat_minor": 5
}
