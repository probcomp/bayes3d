{
 "cells": [
  {
   "cell_type": "code",
   "execution_count": 2,
   "id": "c9a75992-9ded-4c10-bcbe-a68d4e817125",
   "metadata": {},
   "outputs": [],
   "source": [
    "import jax.numpy as jnp\n",
    "import bayes3d as b\n",
    "import os\n",
    "import jax\n",
    "import functools\n",
    "from jax.scipy.special import logsumexp\n",
    "from functools import partial\n",
    "from tqdm import tqdm\n",
    "import matplotlib.pyplot as plt\n",
    "import bayes3d.genjax\n",
    "import genjax\n",
    "import pathlib\n",
    "import numpy as np"
   ]
  },
  {
   "cell_type": "code",
   "execution_count": 3,
   "id": "1e9cc139-2449-4532-acf4-af71ccd6a24d",
   "metadata": {},
   "outputs": [
    {
     "name": "stdout",
     "output_type": "stream",
     "text": [
      "You can open the visualizer by visiting the following URL:\n",
      "http://127.0.0.1:7007/static/\n"
     ]
    }
   ],
   "source": [
    "b.setup_visualizer()"
   ]
  },
  {
   "cell_type": "code",
   "execution_count": 4,
   "id": "a42856ac-4db2-43cd-a4e7-6b93bc550f12",
   "metadata": {},
   "outputs": [
    {
     "name": "stderr",
     "output_type": "stream",
     "text": [
      "[E rasterize_gl.cpp:121] OpenGL version reported as 4.6\n"
     ]
    },
    {
     "name": "stdout",
     "output_type": "stream",
     "text": [
      "Increasing frame buffer size to (width, height, depth) = (128, 128, 1024)\n"
     ]
    }
   ],
   "source": [
    "intrinsics = b.Intrinsics(\n",
    "    height=100,\n",
    "    width=100,\n",
    "    fx=200.0, fy=200.0,\n",
    "    cx=50.0, cy=50.0,\n",
    "    near=0.0001, far=2.0\n",
    ")\n",
    "\n",
    "b.setup_renderer(intrinsics)\n",
    "model_dir = os.path.join(b.utils.get_assets_dir(),\"bop/ycbv/models\")\n",
    "meshes = []\n",
    "for idx in range(1,22):\n",
    "    mesh_path = os.path.join(model_dir,\"obj_\" + \"{}\".format(idx).rjust(6, '0') + \".ply\")\n",
    "    b.RENDERER.add_mesh_from_file(mesh_path, scaling_factor=1.0/1000.0)\n",
    "# b.RENDERER.add_mesh_from_file(os.path.join(b.utils.get_assets_dir(), \"sample_objs/cube.obj\"), scaling_factor=1.0/10.0)\n",
    "b.RENDERER.add_mesh_from_file(os.path.join(b.utils.get_assets_dir(), \"sample_objs/cube.obj\"), scaling_factor=1.0/1000000000.0)\n",
    "\n"
   ]
  },
  {
   "cell_type": "code",
   "execution_count": 5,
   "id": "f4648f31-caf1-4792-bd83-9d652a8c5e4b",
   "metadata": {},
   "outputs": [],
   "source": [
    "table_pose = b.t3d.inverse_pose(\n",
    "    b.t3d.transform_from_pos_target_up(\n",
    "        jnp.array([0.0, 0.8, .15]),\n",
    "        jnp.array([0.0, 0.0, 0.0]),\n",
    "        jnp.array([0.0, 0.0, 1.0]),\n",
    "    )\n",
    ")\n",
    "importance_jit = jax.jit(b.model.importance)"
   ]
  },
  {
   "cell_type": "code",
   "execution_count": 6,
   "id": "1c8cc54b-ca5e-4d04-a4c4-e512ae4a2a54",
   "metadata": {},
   "outputs": [],
   "source": [
    "width = 0.03\n",
    "ang = jnp.pi\n",
    "num_position_grids = 51\n",
    "num_angle_grids = 51\n",
    "contact_param_deltas = b.utils.make_translation_grid_enumeration_3d(\n",
    "    -width, -width, -ang,\n",
    "    width, width, ang,\n",
    "    num_position_grids,num_position_grids,num_angle_grids\n",
    ")"
   ]
  },
  {
   "cell_type": "code",
   "execution_count": 7,
   "id": "ace7a300-da3b-4989-847d-a0ed3a859fbd",
   "metadata": {},
   "outputs": [],
   "source": [
    "enumerators = b.make_enumerator([\"contact_params_1\"])"
   ]
  },
  {
   "cell_type": "code",
   "execution_count": 8,
   "id": "cd9a7faf-28d3-4a1b-8c12-4ca1ecebde9b",
   "metadata": {},
   "outputs": [],
   "source": [
    "key = jax.random.PRNGKey(100)"
   ]
  },
  {
   "cell_type": "code",
   "execution_count": 9,
   "id": "4d71624f-441e-49e2-9113-87fb22ea2e80",
   "metadata": {},
   "outputs": [],
   "source": [
    "def make_orientation_posterior_viz(observation, gt_contact, sampled_contacts):\n",
    "    fig = plt.figure(constrained_layout=True)\n",
    "    # fig.suptitle(f\"Variance: {variance} Outlier Prob: {outlier_prob}\")\n",
    "    widths = [1, 1]\n",
    "    heights = [2]\n",
    "    spec = fig.add_gridspec(ncols=2, nrows=1, width_ratios=widths,\n",
    "                              height_ratios=heights)\n",
    "    \n",
    "    ax = fig.add_subplot(spec[0, 0])\n",
    "    ax.imshow(jnp.array(b.get_depth_image(observation[...,2],max=1.4)))\n",
    "    ax.get_xaxis().set_visible(False)\n",
    "    ax.get_yaxis().set_visible(False)\n",
    "    ax.set_title(f\"Observation (params {gt_contact[0]:0.2f}, {gt_contact[1]:0.2f} ,{gt_contact[2]:0.2f})\")\n",
    "    # ax.set_title(f\"Observed Depth\")\n",
    "    \n",
    "    \n",
    "    ax = fig.add_subplot(spec[0, 1])\n",
    "    ax.set_aspect(1.0)\n",
    "    circ = plt.Circle((0, 0), radius=1, edgecolor='black', facecolor='None', linestyle=\"--\", linewidth=0.5)\n",
    "    ax.add_patch(circ)\n",
    "    ax.set_xlim(-1.1, 1.1)\n",
    "    ax.set_ylim(-1.1, 1.1)\n",
    "    ax.get_xaxis().set_visible(False)\n",
    "    ax.get_yaxis().set_visible(False)\n",
    "    ax.scatter(-jnp.sin(sampled_contacts[:,2]),jnp.cos(sampled_contacts[:,2]), color='red',label=\"Posterior Samples\", alpha=0.5, s=30)\n",
    "    ax.scatter(-jnp.sin(gt_contact[2]),jnp.cos(gt_contact[2]), label=\"Actual\", alpha=0.9, s=25)\n",
    "    ax.set_title(\"Posterior on Orientation (top view)\")\n",
    "    # ax.legend(fontsize=9)\n",
    "    # plt.show()\n",
    "    return fig"
   ]
  },
  {
   "cell_type": "code",
   "execution_count": 10,
   "id": "7f8acd91-b3f0-428c-8729-575d41b3b6bf",
   "metadata": {},
   "outputs": [],
   "source": [
    "def c2f_contact_update(trace_, key, contact_param_deltas):\n",
    "    contact_param_grid = contact_param_deltas + trace_[f\"contact_params_1\"]\n",
    "    scores = enumerators[3](trace_, key, contact_param_grid)\n",
    "    i = scores.argmax()\n",
    "    return enumerators[0](\n",
    "        trace_, key,\n",
    "        contact_param_grid[i]\n",
    "    )\n",
    "c2f_contact_update_jit = jax.jit(c2f_contact_update)"
   ]
  },
  {
   "cell_type": "code",
   "execution_count": 11,
   "id": "66660e30-25ba-442a-9d55-f9a9ad45139c",
   "metadata": {},
   "outputs": [],
   "source": [
    "key = jax.random.PRNGKey(100)\n",
    "key2 = jax.random.PRNGKey(1000)"
   ]
  },
  {
   "cell_type": "code",
   "execution_count": 12,
   "id": "04df8c91-4811-418e-adfc-8a022a41f913",
   "metadata": {},
   "outputs": [],
   "source": [
    "grid_params = [\n",
    "    (0.3, jnp.pi, (15,15,15)), (0.2, jnp.pi, (15,15,15)), (0.1, jnp.pi, (15,15,15)),\n",
    "    (0.05, jnp.pi/3, (15,15,15)), (0.02, jnp.pi, (9,9,51)), (0.01, jnp.pi/5, (15,15,15)), (0.01, 0.0, (31,31,1)),(0.05, 0.0, (31,31,1))\n",
    "]\n",
    "contact_param_gridding_schedule = [\n",
    "    b.utils.make_translation_grid_enumeration_3d(\n",
    "        -x, -x, -ang,\n",
    "        x, x, ang,\n",
    "        *nums\n",
    "    )\n",
    "    for (x,ang,nums) in grid_params\n",
    "]"
   ]
  },
  {
   "cell_type": "code",
   "execution_count": 13,
   "id": "9608e3a6-f546-4d32-b924-5be6b8df7156",
   "metadata": {},
   "outputs": [],
   "source": [
    "key = jax.random.split(key,2)[0]"
   ]
  },
  {
   "cell_type": "code",
   "execution_count": 14,
   "id": "774aab97-222a-4aa3-96cf-31db1d2dbf2a",
   "metadata": {},
   "outputs": [
    {
     "name": "stdout",
     "output_type": "stream",
     "text": [
      "[ 0.04660907 -0.12123723  0.5363271 ]\n"
     ]
    },
    {
     "data": {
      "image/png": "[encoded data removed]",
      "text/plain": [
       "<PIL.Image.Image image mode=RGB size=410x200>"
      ]
     },
     "execution_count": 14,
     "metadata": {},
     "output_type": "execute_result"
    }
   ],
   "source": [
    "low, high = jnp.array([-0.2, -0.2, -jnp.pi]), jnp.array([0.2, 0.2, jnp.pi])\n",
    "weight, trace = importance_jit(key, genjax.choice_map({\n",
    "    \"parent_0\": -1,\n",
    "    \"parent_1\": 0,\n",
    "    \"id_0\": jnp.int32(21),\n",
    "    \"id_1\": jnp.int32(13),\n",
    "    \"camera_pose\": jnp.eye(4),\n",
    "    \"root_pose_0\": table_pose,\n",
    "    \"face_parent_1\": 3,\n",
    "    \"face_child_1\": 2,\n",
    "    \"variance\": 0.0001,\n",
    "    \"outlier_prob\": 0.0001,\n",
    "    \"contact_params_1\": jax.random.uniform(key, shape=(3,),minval=low, maxval=high)\n",
    "}), (\n",
    "    jnp.arange(2),\n",
    "    jnp.arange(22),\n",
    "    jnp.array([-jnp.ones(3)*100.0, jnp.ones(3)*100.0]),\n",
    "    jnp.array([jnp.array([-0.5, -0.5, -2*jnp.pi]), jnp.array([0.5, 0.5, 2*jnp.pi])]),\n",
    "    b.RENDERER.model_box_dims, 1.0, intrinsics.fx)\n",
    ")\n",
    "gt_poses = b.get_poses(trace)\n",
    "gt_contact = trace[\"contact_params_1\"]\n",
    "print(gt_contact)\n",
    "trace = b.update_address(trace, key, \"contact_params_1\", jnp.zeros(3))\n",
    "b.viz_trace_rendered_observed(trace)"
   ]
  },
  {
   "cell_type": "code",
   "execution_count": null,
   "id": "9d2e962a-ff6e-4efb-a73b-e72274ab54eb",
   "metadata": {},
   "outputs": [],
   "source": [
    "%%time\n",
    "path = []\n",
    "path.append(trace)\n",
    "for c2f_iter in range(len(contact_param_gridding_schedule)):\n",
    "    trace = c2f_contact_update_jit(trace, key, contact_param_gridding_schedule[c2f_iter])\n",
    "    path.append(trace)\n",
    "print(trace[\"contact_params_1\"])\n",
    "b.viz_trace_rendered_observed(trace)"
   ]
  },
  {
   "cell_type": "code",
   "execution_count": null,
   "id": "edafa581-140e-4e5f-98e5-be30014a9026",
   "metadata": {},
   "outputs": [],
   "source": [
    "%%time\n",
    "contact_param_grid = trace[\"contact_params_1\"] + contact_param_deltas\n",
    "weights =  jnp.concatenate([\n",
    "    enumerators[3](trace, key, cp)\n",
    "    for cp in jnp.array_split(contact_param_grid, 15)\n",
    "],axis=0)"
   ]
  },
  {
   "cell_type": "code",
   "execution_count": null,
   "id": "9c32c9c1-ee91-4234-af5c-8ef1d14f8b79",
   "metadata": {},
   "outputs": [],
   "source": [
    "key2 = jax.random.split(key, 1)[0]\n",
    "normalized_weights = b.utils.normalize_log_scores(weights)\n",
    "sampled_indices = jax.random.choice(key2,jnp.arange(normalized_weights.shape[0]), shape=(2000,), p=normalized_weights)\n",
    "sampled_contact_params = contact_param_grid[sampled_indices]\n"
   ]
  },
  {
   "cell_type": "code",
   "execution_count": null,
   "id": "680db175-ede1-49fc-99ed-fbde0df6eed5",
   "metadata": {},
   "outputs": [],
   "source": [
    "fig = plt.figure()\n",
    "ax = fig.add_subplot(projection='3d')\n",
    "ax.xaxis.set_pane_color((1.0, 1.0, 1.0, 0.0))\n",
    "ax.yaxis.set_pane_color((1.0, 1.0, 1.0, 0.0))\n",
    "ax.zaxis.set_pane_color((1.0, 1.0, 1.0, 0.0))\n",
    "# make the grid lines transparent\n",
    "ax.xaxis._axinfo[\"grid\"]['color'] =  (1,1,1,0)\n",
    "ax.yaxis._axinfo[\"grid\"]['color'] =  (1,1,1,0)\n",
    "ax.zaxis._axinfo[\"grid\"]['color'] =  (1,1,1,0)\n",
    "u, v = np.mgrid[0:2*np.pi:21j, 0:np.pi:11j]\n",
    "x = np.cos(u)*np.sin(v)\n",
    "y = np.sin(u)*np.sin(v)\n",
    "z = np.cos(v)\n",
    "ax.axes.set_xlim3d(-1.1, 1.1) \n",
    "ax.axes.set_ylim3d(-1.1, 1.1) \n",
    "ax.axes.set_zlim3d(-1.1, 1.1) \n",
    "ax.set_aspect(\"equal\")\n",
    "ax.plot_wireframe(x, y, z, color=(0.0, 0.0, 0.0, 0.3), linewidths=0.5)\n",
    "\n",
    "\n",
    "ax.axes.set_zticks([])\n",
    "ax.axes.set_xticks([])\n",
    "ax.axes.set_yticks([])\n",
    "\n",
    "# points = []\n",
    "# NUM = 1\n",
    "# offset = jnp.pi/2\n",
    "scaling = 0.96\n",
    "# for i in sampled_contact_params:\n",
    "#     points.append(np.array([np.cos(i[2] + offset) * scaling, np.sin(i[2] + offset) * scaling,0.0]))\n",
    "# points = np.array(points)\n",
    "\n",
    "z = 0.1\n",
    "# for i in np.arange(.1,1.01,.1):\n",
    "#     ax.scatter(points[:,0], points[:,1],points[:,2], s=(40*i*(z*.9+.1))**2, color=(1,0,0,.3/i/10))\n",
    "offset = jnp.pi/2\n",
    "angle = jnp.pi/4 - jnp.pi/4 - jnp.pi/4 - jnp.pi/4\n",
    "for i in np.arange(.1,1.01,.1):\n",
    "    ax.scatter(np.cos(angle + offset) * scaling, np.sin(angle + offset), 0.0, s=(40*i*(z*.9+.1))**2, color=(1,0,0,.3))\n",
    "\n",
    "# plt.tight_layout()\n",
    "plt.savefig(\"sphere.pdf\")"
   ]
  },
  {
   "cell_type": "code",
   "execution_count": null,
   "id": "d8b115fb-b0ee-483c-b05f-0723ba33e1c1",
   "metadata": {},
   "outputs": [],
   "source": [
    "scaled_up_intrinsics = b.scale_camera_parameters(intrinsics, 4)\n",
    "\n",
    "b.setup_renderer(scaled_up_intrinsics)\n",
    "model_dir = os.path.join(b.utils.get_assets_dir(),\"bop/ycbv/models\")\n",
    "meshes = []\n",
    "for idx in range(1,22):\n",
    "    mesh_path = os.path.join(model_dir,\"obj_\" + \"{}\".format(idx).rjust(6, '0') + \".ply\")\n",
    "    b.RENDERER.add_mesh_from_file(mesh_path, scaling_factor=1.0/1000.0)\n",
    "# b.RENDERER.add_mesh_from_file(os.path.join(b.utils.get_assets_dir(), \"sample_objs/cube.obj\"), scaling_factor=1.0/10.0)\n",
    "b.RENDERER.add_mesh_from_file(os.path.join(b.utils.get_assets_dir(), \"sample_objs/cube.obj\"), scaling_factor=1.0/1000000000.0)"
   ]
  },
  {
   "cell_type": "code",
   "execution_count": null,
   "id": "07240743-befc-49c9-aafb-f023cc7e2647",
   "metadata": {},
   "outputs": [],
   "source": [
    "img = b.RENDERER.render(gt_poses, b.get_indices(trace))"
   ]
  },
  {
   "cell_type": "code",
   "execution_count": null,
   "id": "95cd9f45-cf9c-4754-9e16-ef3082eb49e7",
   "metadata": {},
   "outputs": [],
   "source": [
    "depth = img[...,2]\n",
    "minval = jnp.min(depth[depth > jnp.min(depth)])\n",
    "maxval = jnp.max(depth[depth < jnp.max(depth)])\n",
    "depth = depth.at[depth >= intrinsics.far].set(jnp.nan)\n",
    "viz_img = np.array(b.viz.scale_image(b.get_depth_image(\n",
    "   depth, min=minval,  max=maxval\n",
    "), 3))\n",
    "viz_img[viz_img.sum(-1) == 0,:] = 255.0\n",
    "plt.imshow(viz_img)\n",
    "plt.xticks([])\n",
    "plt.yticks([])\n",
    "plt.tight_layout()\n",
    "plt.savefig(\"mug.pdf\")"
   ]
  },
  {
   "cell_type": "code",
   "execution_count": null,
   "id": "5a87686f-4c7e-45f0-8b23-3e4c18330804",
   "metadata": {},
   "outputs": [],
   "source": [
    "sampled_contact_params"
   ]
  },
  {
   "cell_type": "code",
   "execution_count": null,
   "id": "e435256f-aa92-4cfb-bab6-fec49d7ac73c",
   "metadata": {},
   "outputs": [],
   "source": []
  },
  {
   "cell_type": "code",
   "execution_count": null,
   "id": "84cf6740-1010-4863-bd67-cdcc777b134f",
   "metadata": {},
   "outputs": [],
   "source": [
    "points"
   ]
  },
  {
   "cell_type": "code",
   "execution_count": null,
   "id": "2ebeb455-a37f-4cee-942d-f56e8aea85ae",
   "metadata": {},
   "outputs": [],
   "source": [
    "jnp.linalg.norm(points,axis=-1)"
   ]
  },
  {
   "cell_type": "code",
   "execution_count": null,
   "id": "ad4674b8-bd8f-400b-8051-005584d6d209",
   "metadata": {},
   "outputs": [],
   "source": [
    "points"
   ]
  },
  {
   "cell_type": "code",
   "execution_count": null,
   "id": "74d1509c-989f-49dc-a5c9-87d73451e725",
   "metadata": {},
   "outputs": [],
   "source": [
    "\n",
    "fig = plt.figure(constrained_layout=True)\n",
    "\n",
    "observation =  trace[\"image\"]\n",
    "\n",
    "# fig.suptitle(f\"Variance: {variance} Outlier Prob: {outlier_prob}\")\n",
    "widths = [1, 1]\n",
    "heights = [2]\n",
    "spec = fig.add_gridspec(ncols=2, nrows=1, width_ratios=widths,\n",
    "                          height_ratios=heights)\n",
    "\n",
    "ax = fig.add_subplot(spec[0, 0])\n",
    "ax.imshow(jnp.array(b.get_depth_image(observation[...,2],max=1.4)))\n",
    "ax.get_xaxis().set_visible(False)\n",
    "ax.get_yaxis().set_visible(False)\n",
    "ax.set_title(f\"Observation (params {gt_contact[0]:0.2f}, {gt_contact[1]:0.2f} ,{gt_contact[2]:0.2f})\")\n",
    "# ax.set_title(f\"Observed Depth\")\n",
    "\n",
    "\n",
    "dist = 0.6\n",
    "ax = fig.add_subplot(spec[0, 1])\n",
    "ax.quiver(\n",
    "    sampled_contact_params[:,0],sampled_contact_params[:,1],\n",
    "    -jnp.sin(sampled_contact_params[:,2]),jnp.cos(sampled_contact_params[:,2]),\n",
    "    scale=3.0,\n",
    "    alpha=0.1\n",
    "         )\n",
    "\n",
    "ax.quiver(\n",
    "    gt_contact[0],gt_contact[1],\n",
    "    -jnp.sin(gt_contact[2]), jnp.cos(gt_contact[2]),\n",
    "    scale=5.0,\n",
    "    alpha=0.8,\n",
    "    color=\"red\"\n",
    ")\n",
    "\n",
    "ax.set_aspect(1.0)\n",
    "from matplotlib.patches import Rectangle\n",
    "ax.add_patch(Rectangle((gt_contact[0]-width, gt_contact[1]-width), 2*width, 2*width,fill=None))\n",
    "\n",
    "ax.set_xlim(gt_contact[0]-width-0.02, gt_contact[0]+width+0.02)\n",
    "ax.set_ylim(gt_contact[1]-width-0.02, gt_contact[1]+width+0.02)"
   ]
  },
  {
   "cell_type": "code",
   "execution_count": null,
   "id": "1446adef-5868-43b5-82cd-799656b4bdd7",
   "metadata": {
    "jp-MarkdownHeadingCollapsed": true
   },
   "outputs": [],
   "source": [
    "best_cell_idx = jnp.abs(contact_param_grid - gt_contact).sum(1).argmin()\n",
    "print(gt_contact, contact_param_grid[best_cell_idx])\n",
    "normalize_log_weights = w1eights - b.logsumexp(weights)\n",
    "assert(weights.shape[0] == contact_param_grid.shape[0])\n",
    "volume = (width / num_position_grids)**2 * (2*jnp.pi / num_angle_grids)\n",
    "log_likelihood = normalize_log_weights[best_cell_idx] - jnp.log(volume)\n",
    "print(log_likelihood)"
   ]
  },
  {
   "cell_type": "code",
   "execution_count": null,
   "id": "b9704167-f8bb-488a-8e80-972276aaa096",
   "metadata": {},
   "outputs": [],
   "source": []
  },
  {
   "cell_type": "code",
   "execution_count": null,
   "id": "4cddd083-112f-44a3-a0c9-bff371ec4b99",
   "metadata": {},
   "outputs": [],
   "source": []
  }
 ],
 "metadata": {
  "kernelspec": {
   "display_name": "Python 3 (ipykernel)",
   "language": "python",
   "name": "python3"
  },
  "language_info": {
   "codemirror_mode": {
    "name": "ipython",
    "version": 3
   },
   "file_extension": ".py",
   "mimetype": "text/x-python",
   "name": "python",
   "nbconvert_exporter": "python",
   "pygments_lexer": "ipython3",
   "version": "3.9.18"
  }
 },
 "nbformat": 4,
 "nbformat_minor": 5
}
