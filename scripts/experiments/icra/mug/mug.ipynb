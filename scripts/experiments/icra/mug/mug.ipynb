{
 "cells": [
  {
   "cell_type": "code",
   "execution_count": 1,
   "id": "c9a75992-9ded-4c10-bcbe-a68d4e817125",
   "metadata": {},
   "outputs": [],
   "source": [
    "import jax.numpy as jnp\n",
    "import bayes3d as b\n",
    "import os\n",
    "import jax\n",
    "import functools\n",
    "from jax.scipy.special import logsumexp\n",
    "from functools import partial\n",
    "from tqdm import tqdm\n",
    "import matplotlib.pyplot as plt"
   ]
  },
  {
   "cell_type": "code",
   "execution_count": 2,
   "id": "1e9cc139-2449-4532-acf4-af71ccd6a24d",
   "metadata": {},
   "outputs": [
    {
     "name": "stdout",
     "output_type": "stream",
     "text": [
      "You can open the visualizer by visiting the following URL:\n",
      "http://127.0.0.1:7016/static/\n"
     ]
    }
   ],
   "source": [
    "b.setup_visualizer()"
   ]
  },
  {
   "cell_type": "code",
   "execution_count": 3,
   "id": "a42856ac-4db2-43cd-a4e7-6b93bc550f12",
   "metadata": {},
   "outputs": [
    {
     "name": "stderr",
     "output_type": "stream",
     "text": [
      "[E rasterize_gl.cpp:121] OpenGL version reported as 4.6\n"
     ]
    },
    {
     "name": "stdout",
     "output_type": "stream",
     "text": [
      "Increasing frame buffer size to (width, height, depth) = (128, 128, 1024)\n"
     ]
    }
   ],
   "source": [
    "intrinsics = b.Intrinsics(\n",
    "    height=100,\n",
    "    width=100,\n",
    "    fx=200.0, fy=200.0,\n",
    "    cx=50.0, cy=50.0,\n",
    "    near=0.0001, far=2.0\n",
    ")\n",
    "\n",
    "b.setup_renderer(intrinsics)\n",
    "model_dir = os.path.join(b.utils.get_assets_dir(),\"bop/ycbv/models\")\n",
    "meshes = []\n",
    "for idx in range(1,22):\n",
    "    mesh_path = os.path.join(model_dir,\"obj_\" + \"{}\".format(idx).rjust(6, '0') + \".ply\")\n",
    "    b.RENDERER.add_mesh_from_file(mesh_path, scaling_factor=1.0/1000.0)\n",
    "# b.RENDERER.add_mesh_from_file(os.path.join(b.utils.get_assets_dir(), \"sample_objs/cube.obj\"), scaling_factor=1.0/10.0)\n",
    "b.RENDERER.add_mesh_from_file(os.path.join(b.utils.get_assets_dir(), \"sample_objs/cube.obj\"), scaling_factor=1.0/1000000000.0)\n",
    "\n"
   ]
  },
  {
   "cell_type": "code",
   "execution_count": null,
   "id": "cd77205e-2735-4737-bc2a-512427f8aff9",
   "metadata": {},
   "outputs": [],
   "source": []
  },
  {
   "cell_type": "code",
   "execution_count": 4,
   "id": "f4648f31-caf1-4792-bd83-9d652a8c5e4b",
   "metadata": {},
   "outputs": [],
   "source": [
    "table_pose = b.t3d.inverse_pose(\n",
    "    b.t3d.transform_from_pos_target_up(\n",
    "        jnp.array([0.0, 0.8, .15]),\n",
    "        jnp.array([0.0, 0.0, 0.0]),\n",
    "        jnp.array([0.0, 0.0, 1.0]),\n",
    "    )\n",
    ")"
   ]
  },
  {
   "cell_type": "code",
   "execution_count": 5,
   "id": "3277a542-3698-40f7-a998-d7febb9591eb",
   "metadata": {},
   "outputs": [],
   "source": [
    "\n",
    "@functools.partial(\n",
    "    jnp.vectorize,\n",
    "    signature='(m)->()',\n",
    "    excluded=(1,2,3,4,5,6,),\n",
    ")\n",
    "def gausssian_mixture_vectorize(\n",
    "    ij,\n",
    "    observed_xyz: jnp.ndarray,\n",
    "    rendered_xyz_padded: jnp.ndarray,\n",
    "    variance,\n",
    "    outlier_prob: float,\n",
    "    outlier_volume: float,\n",
    "    filter_size: int,\n",
    "):\n",
    "    distances = (\n",
    "        observed_xyz[ij[0], ij[1], :3] - \n",
    "        jax.lax.dynamic_slice(rendered_xyz_padded, (ij[0], ij[1], 0), (2*filter_size + 1, 2*filter_size + 1, 3))\n",
    "    )\n",
    "    probability = jax.scipy.special.logsumexp(\n",
    "        jax.scipy.stats.norm.logpdf(\n",
    "            distances,\n",
    "            loc=0.0,\n",
    "            scale=jnp.sqrt(variance)\n",
    "        ).sum(-1) - jnp.log(observed_xyz.shape[0] * observed_xyz.shape[1])\n",
    "    )\n",
    "    return jnp.logaddexp(probability + jnp.log(1.0 - outlier_prob), jnp.log(outlier_prob) - jnp.log(outlier_volume))\n",
    "\n",
    "\n",
    "def threedp3_likelihood_per_pixel(\n",
    "    observed_xyz: jnp.ndarray,\n",
    "    rendered_xyz: jnp.ndarray,\n",
    "    variance,\n",
    "    outlier_prob,\n",
    "    outlier_volume,\n",
    "    filter_size\n",
    "):\n",
    "    rendered_xyz_padded = jax.lax.pad(rendered_xyz,  100.0, ((filter_size,filter_size,0,),(filter_size,filter_size,0,),(0,0,0,)))\n",
    "    jj, ii = jnp.meshgrid(jnp.arange(observed_xyz.shape[1]), jnp.arange(observed_xyz.shape[0]))\n",
    "    indices = jnp.stack([ii,jj],axis=-1)\n",
    "    log_probabilities = gausssian_mixture_vectorize(\n",
    "        indices, observed_xyz,\n",
    "        rendered_xyz_padded,\n",
    "        variance, outlier_prob, outlier_volume, filter_size\n",
    "    )\n",
    "    return log_probabilities\n",
    "\n",
    "threedp3_likelihood_per_pixel_jit = jax.jit(threedp3_likelihood_per_pixel, static_argnames=('filter_size',))\n",
    "\n",
    "def threedp3_likelihood_per_pixel_ij(\n",
    "    ij,\n",
    "    observed_xyz: jnp.ndarray,\n",
    "    rendered_xyz: jnp.ndarray,\n",
    "    variance,\n",
    "    outlier_prob,\n",
    "    outlier_volume,\n",
    "    filter_size\n",
    "):\n",
    "    rendered_xyz_padded = jax.lax.pad(rendered_xyz,  100.0, ((filter_size,filter_size,0,),(filter_size,filter_size,0,),(0,0,0,)))\n",
    "    \n",
    "    filter_data = jax.lax.dynamic_slice(rendered_xyz_padded, (ij[0], ij[1], 0), (2*filter_size + 1, 2*filter_size + 1, 3))\n",
    "    distances = jnp.linalg.norm(\n",
    "        observed_xyz[ij[0], ij[1], :3] - filter_data,\n",
    "        axis=-1\n",
    "    )\n",
    "    squared_filter_z = filter_data[:,:,2]**2\n",
    "    probability = jax.scipy.stats.norm.logpdf(\n",
    "        distances,\n",
    "        loc=0.0,\n",
    "        scale=jnp.sqrt(variance)\n",
    "    ) + jnp.log(squared_filter_z) - jnp.log(squared_filter_z.sum())\n",
    "    return distances, squared_filter_z, probability\n",
    "\n",
    "def threedp3_likelihood(\n",
    "    observed_xyz: jnp.ndarray,\n",
    "    rendered_xyz: jnp.ndarray,\n",
    "    variance,\n",
    "    outlier_prob,\n",
    "    outlier_volume,\n",
    "    filter_size\n",
    "):\n",
    "    log_probabilities_per_pixel = threedp3_likelihood_per_pixel(\n",
    "        observed_xyz, rendered_xyz, variance,\n",
    "        outlier_prob, outlier_volume, filter_size\n",
    "    )\n",
    "    return log_probabilities_per_pixel.sum()"
   ]
  },
  {
   "cell_type": "code",
   "execution_count": 6,
   "id": "4a64e88e-4df4-4ae4-bd21-24c04fdc7782",
   "metadata": {},
   "outputs": [
    {
     "data": {
      "text/plain": [
       "['002_master_chef_can',\n",
       " '003_cracker_box',\n",
       " '004_sugar_box',\n",
       " '005_tomato_soup_can',\n",
       " '006_mustard_bottle',\n",
       " '007_tuna_fish_can',\n",
       " '008_pudding_box',\n",
       " '009_gelatin_box',\n",
       " '010_potted_meat_can',\n",
       " '011_banana',\n",
       " '019_pitcher_base',\n",
       " '021_bleach_cleanser',\n",
       " '024_bowl',\n",
       " '025_mug',\n",
       " '035_power_drill',\n",
       " '036_wood_block',\n",
       " '037_scissors',\n",
       " '040_large_marker',\n",
       " '051_large_clamp',\n",
       " '052_extra_large_clamp',\n",
       " '061_foam_brick']"
      ]
     },
     "execution_count": 6,
     "metadata": {},
     "output_type": "execute_result"
    }
   ],
   "source": [
    "b.utils.ycb_loader.MODEL_NAMES"
   ]
  },
  {
   "cell_type": "code",
   "execution_count": 7,
   "id": "772bb4b0-af42-4842-9af6-94752b30a707",
   "metadata": {},
   "outputs": [],
   "source": [
    "def get_depth_image(image):\n",
    "    mval = image[image < image.max()].max()\n",
    "    return b.get_depth_image(image, max=mval)\n",
    "\n",
    "def get_poses_non_jit(contact_params, id_table, id):\n",
    "    sg = b.scene_graph.SceneGraph(\n",
    "        root_poses=jnp.array([table_pose, jnp.eye(4)]),\n",
    "        box_dimensions=jnp.array([b.RENDERER.model_box_dims[id_table], b.RENDERER.model_box_dims[id]]),\n",
    "        parents=jnp.array([-1, 0]),\n",
    "        contact_params=jnp.array([jnp.zeros(3), contact_params]),\n",
    "        face_parent=jnp.array([-1,2]),\n",
    "        face_child=jnp.array([-1,3]),\n",
    "    )\n",
    "    poses = sg.get_poses()\n",
    "    return poses\n",
    "get_poses = jax.jit(get_poses_non_jit)\n",
    "\n",
    "def render_image_non_jit(contact_params):\n",
    "    id_table = 21\n",
    "    id = 13\n",
    "    poses = get_poses_non_jit(contact_params, id_table, id)\n",
    "    img = b.RENDERER.render(\n",
    "        poses , jnp.array([id_table, id])\n",
    "    )[...,:3]\n",
    "    return img\n",
    "render_image = jax.jit(render_image_non_jit)\n",
    "\n",
    "scorer = lambda obs, c, var, outlier_prob, outlier_volume: threedp3_likelihood(\n",
    "    obs, render_image_non_jit(c), var, outlier_prob, outlier_volume, 3\n",
    ")\n",
    "scorer_jit = jax.jit(scorer)\n",
    "sweep_scorer = jax.jit(jax.vmap(\n",
    "    scorer \n",
    "    ,in_axes=(None, 0, None, None, None)))\n",
    "\n",
    "# sweep_scorer = jax.jit(jax.vmap(jax.vmap(jax.vmap(\n",
    "#     scorer, \n",
    "#     ,in_axes=(None, None, None, 0, None))\n",
    "#     ,in_axes=(None, None, 0, None, None))\n",
    "#     ,in_axes=(None, 0, None, None, None)))\n"
   ]
  },
  {
   "cell_type": "code",
   "execution_count": 16,
   "id": "fb05d62f-8b7f-4ed2-873c-530302c10964",
   "metadata": {},
   "outputs": [],
   "source": [
    "width = 0.015\n",
    "ang = jnp.pi\n",
    "contact_param_deltas = b.utils.make_translation_grid_enumeration_3d(\n",
    "    -width, -width, -ang,\n",
    "    width, width, ang,\n",
    "    17,17,100\n",
    ")"
   ]
  },
  {
   "cell_type": "code",
   "execution_count": 17,
   "id": "34bdcc5b-c781-4f35-bc8a-e89d35033465",
   "metadata": {},
   "outputs": [],
   "source": [
    "key = jax.random.PRNGKey(10)"
   ]
  },
  {
   "cell_type": "code",
   "execution_count": 18,
   "id": "02d80355-07ff-49af-8233-71d276f95303",
   "metadata": {},
   "outputs": [],
   "source": [
    "variance = 0.0001\n",
    "outlier_prob = 0.001\n",
    "outlier_volume = 1.0"
   ]
  },
  {
   "cell_type": "code",
   "execution_count": 19,
   "id": "cae7a753-e4f7-4cc3-beb5-5d149e37119c",
   "metadata": {},
   "outputs": [
    {
     "name": "stderr",
     "output_type": "stream",
     "text": [
      "  0%|                                                            | 0/50 [00:00<?, ?it/s]"
     ]
    },
    {
     "name": "stdout",
     "output_type": "stream",
     "text": [
      "37091.543\n"
     ]
    },
    {
     "name": "stderr",
     "output_type": "stream",
     "text": [
      "  2%|█                                                   | 1/50 [00:10<08:43, 10.68s/it]"
     ]
    },
    {
     "name": "stdout",
     "output_type": "stream",
     "text": [
      "37113.234\n"
     ]
    },
    {
     "name": "stderr",
     "output_type": "stream",
     "text": [
      "  4%|██                                                  | 2/50 [00:11<04:00,  5.01s/it]"
     ]
    },
    {
     "name": "stdout",
     "output_type": "stream",
     "text": [
      "37140.016\n"
     ]
    },
    {
     "name": "stderr",
     "output_type": "stream",
     "text": [
      "  6%|███                                                 | 3/50 [00:12<02:30,  3.20s/it]"
     ]
    },
    {
     "name": "stdout",
     "output_type": "stream",
     "text": [
      "37182.41\n"
     ]
    },
    {
     "name": "stderr",
     "output_type": "stream",
     "text": [
      "  8%|████▏                                               | 4/50 [00:13<01:48,  2.35s/it]"
     ]
    },
    {
     "name": "stdout",
     "output_type": "stream",
     "text": [
      "37120.953\n"
     ]
    },
    {
     "name": "stderr",
     "output_type": "stream",
     "text": [
      " 10%|█████▏                                              | 5/50 [00:14<01:24,  1.87s/it]"
     ]
    },
    {
     "name": "stdout",
     "output_type": "stream",
     "text": [
      "36992.89\n"
     ]
    },
    {
     "name": "stderr",
     "output_type": "stream",
     "text": [
      " 12%|██████▏                                             | 6/50 [00:15<01:10,  1.59s/it]"
     ]
    },
    {
     "name": "stdout",
     "output_type": "stream",
     "text": [
      "37059.883\n"
     ]
    },
    {
     "name": "stderr",
     "output_type": "stream",
     "text": [
      " 14%|███████▎                                            | 7/50 [00:16<01:00,  1.41s/it]"
     ]
    },
    {
     "name": "stdout",
     "output_type": "stream",
     "text": [
      "37271.01\n"
     ]
    },
    {
     "name": "stderr",
     "output_type": "stream",
     "text": [
      " 16%|████████▎                                           | 8/50 [00:17<00:53,  1.28s/it]"
     ]
    },
    {
     "name": "stdout",
     "output_type": "stream",
     "text": [
      "37184.707\n"
     ]
    },
    {
     "name": "stderr",
     "output_type": "stream",
     "text": [
      " 18%|█████████▎                                          | 9/50 [00:18<00:49,  1.20s/it]"
     ]
    },
    {
     "name": "stdout",
     "output_type": "stream",
     "text": [
      "37206.496\n"
     ]
    },
    {
     "name": "stderr",
     "output_type": "stream",
     "text": [
      " 20%|██████████▏                                        | 10/50 [00:19<00:46,  1.15s/it]"
     ]
    },
    {
     "name": "stdout",
     "output_type": "stream",
     "text": [
      "37379.594\n"
     ]
    },
    {
     "name": "stderr",
     "output_type": "stream",
     "text": [
      " 22%|███████████▏                                       | 11/50 [00:21<00:43,  1.11s/it]"
     ]
    },
    {
     "name": "stdout",
     "output_type": "stream",
     "text": [
      "37116.023\n"
     ]
    },
    {
     "name": "stderr",
     "output_type": "stream",
     "text": [
      " 24%|████████████▏                                      | 12/50 [00:22<00:41,  1.09s/it]"
     ]
    },
    {
     "name": "stdout",
     "output_type": "stream",
     "text": [
      "37066.914\n"
     ]
    },
    {
     "name": "stderr",
     "output_type": "stream",
     "text": [
      " 26%|█████████████▎                                     | 13/50 [00:23<00:39,  1.08s/it]"
     ]
    },
    {
     "name": "stdout",
     "output_type": "stream",
     "text": [
      "37056.92\n"
     ]
    },
    {
     "name": "stderr",
     "output_type": "stream",
     "text": [
      " 28%|██████████████▎                                    | 14/50 [00:24<00:38,  1.06s/it]"
     ]
    },
    {
     "name": "stdout",
     "output_type": "stream",
     "text": [
      "37113.008\n"
     ]
    },
    {
     "name": "stderr",
     "output_type": "stream",
     "text": [
      " 30%|███████████████▎                                   | 15/50 [00:25<00:36,  1.05s/it]"
     ]
    },
    {
     "name": "stdout",
     "output_type": "stream",
     "text": [
      "37096.46\n"
     ]
    },
    {
     "name": "stderr",
     "output_type": "stream",
     "text": [
      " 32%|████████████████▎                                  | 16/50 [00:26<00:35,  1.04s/it]"
     ]
    },
    {
     "name": "stdout",
     "output_type": "stream",
     "text": [
      "37369.363\n"
     ]
    },
    {
     "name": "stderr",
     "output_type": "stream",
     "text": [
      " 34%|█████████████████▎                                 | 17/50 [00:27<00:34,  1.04s/it]"
     ]
    },
    {
     "name": "stdout",
     "output_type": "stream",
     "text": [
      "37124.203\n"
     ]
    },
    {
     "name": "stderr",
     "output_type": "stream",
     "text": [
      " 36%|██████████████████▎                                | 18/50 [00:28<00:33,  1.04s/it]"
     ]
    },
    {
     "name": "stdout",
     "output_type": "stream",
     "text": [
      "36950.24\n"
     ]
    },
    {
     "name": "stderr",
     "output_type": "stream",
     "text": [
      " 38%|███████████████████▍                               | 19/50 [00:29<00:32,  1.04s/it]"
     ]
    },
    {
     "name": "stdout",
     "output_type": "stream",
     "text": [
      "37104.336\n"
     ]
    },
    {
     "name": "stderr",
     "output_type": "stream",
     "text": [
      " 40%|████████████████████▍                              | 20/50 [00:30<00:31,  1.04s/it]"
     ]
    },
    {
     "name": "stdout",
     "output_type": "stream",
     "text": [
      "37115.848\n"
     ]
    },
    {
     "name": "stderr",
     "output_type": "stream",
     "text": [
      "/var/tmp/ipykernel_813201/2689616434.py:26: RuntimeWarning: More than 20 figures have been opened. Figures created through the pyplot interface (`matplotlib.pyplot.figure`) are retained until explicitly closed and may consume too much memory. (To control this warning, see the rcParam `figure.max_open_warning`). Consider using `matplotlib.pyplot.close()`.\n",
      "  fig = plt.figure(constrained_layout=True)\n",
      " 42%|█████████████████████▍                             | 21/50 [00:31<00:30,  1.04s/it]"
     ]
    },
    {
     "name": "stdout",
     "output_type": "stream",
     "text": [
      "37206.098\n"
     ]
    },
    {
     "name": "stderr",
     "output_type": "stream",
     "text": [
      " 44%|██████████████████████▍                            | 22/50 [00:32<00:29,  1.04s/it]"
     ]
    },
    {
     "name": "stdout",
     "output_type": "stream",
     "text": [
      "37271.5\n"
     ]
    },
    {
     "name": "stderr",
     "output_type": "stream",
     "text": [
      " 46%|███████████████████████▍                           | 23/50 [00:33<00:28,  1.04s/it]"
     ]
    },
    {
     "name": "stdout",
     "output_type": "stream",
     "text": [
      "37252.484\n"
     ]
    },
    {
     "name": "stderr",
     "output_type": "stream",
     "text": [
      " 48%|████████████████████████▍                          | 24/50 [00:34<00:26,  1.04s/it]"
     ]
    },
    {
     "name": "stdout",
     "output_type": "stream",
     "text": [
      "37018.758\n"
     ]
    },
    {
     "name": "stderr",
     "output_type": "stream",
     "text": [
      " 50%|█████████████████████████▌                         | 25/50 [00:35<00:25,  1.03s/it]"
     ]
    },
    {
     "name": "stdout",
     "output_type": "stream",
     "text": [
      "37187.688\n"
     ]
    },
    {
     "name": "stderr",
     "output_type": "stream",
     "text": [
      " 52%|██████████████████████████▌                        | 26/50 [00:36<00:24,  1.03s/it]"
     ]
    },
    {
     "name": "stdout",
     "output_type": "stream",
     "text": [
      "37302.176\n"
     ]
    },
    {
     "name": "stderr",
     "output_type": "stream",
     "text": [
      " 54%|███████████████████████████▌                       | 27/50 [00:37<00:23,  1.02s/it]"
     ]
    },
    {
     "name": "stdout",
     "output_type": "stream",
     "text": [
      "37400.11\n"
     ]
    },
    {
     "name": "stderr",
     "output_type": "stream",
     "text": [
      " 56%|████████████████████████████▌                      | 28/50 [00:38<00:22,  1.03s/it]"
     ]
    },
    {
     "name": "stdout",
     "output_type": "stream",
     "text": [
      "37289.906\n"
     ]
    },
    {
     "name": "stderr",
     "output_type": "stream",
     "text": [
      " 58%|█████████████████████████████▌                     | 29/50 [00:39<00:23,  1.10s/it]"
     ]
    },
    {
     "name": "stdout",
     "output_type": "stream",
     "text": [
      "37259.047\n"
     ]
    },
    {
     "name": "stderr",
     "output_type": "stream",
     "text": [
      " 60%|██████████████████████████████▌                    | 30/50 [00:40<00:21,  1.08s/it]"
     ]
    },
    {
     "name": "stdout",
     "output_type": "stream",
     "text": [
      "37134.28\n"
     ]
    },
    {
     "name": "stderr",
     "output_type": "stream",
     "text": [
      " 62%|███████████████████████████████▌                   | 31/50 [00:41<00:20,  1.07s/it]"
     ]
    },
    {
     "name": "stdout",
     "output_type": "stream",
     "text": [
      "37064.5\n"
     ]
    },
    {
     "name": "stderr",
     "output_type": "stream",
     "text": [
      " 64%|████████████████████████████████▋                  | 32/50 [00:42<00:18,  1.05s/it]"
     ]
    },
    {
     "name": "stdout",
     "output_type": "stream",
     "text": [
      "37354.61\n"
     ]
    },
    {
     "name": "stderr",
     "output_type": "stream",
     "text": [
      " 66%|█████████████████████████████████▋                 | 33/50 [00:43<00:17,  1.04s/it]"
     ]
    },
    {
     "name": "stdout",
     "output_type": "stream",
     "text": [
      "37363.277\n"
     ]
    },
    {
     "name": "stderr",
     "output_type": "stream",
     "text": [
      " 68%|██████████████████████████████████▋                | 34/50 [00:44<00:16,  1.03s/it]"
     ]
    },
    {
     "name": "stdout",
     "output_type": "stream",
     "text": [
      "37063.695\n"
     ]
    },
    {
     "name": "stderr",
     "output_type": "stream",
     "text": [
      " 70%|███████████████████████████████████▋               | 35/50 [00:46<00:15,  1.04s/it]"
     ]
    },
    {
     "name": "stdout",
     "output_type": "stream",
     "text": [
      "36956.004\n"
     ]
    },
    {
     "name": "stderr",
     "output_type": "stream",
     "text": [
      " 72%|████████████████████████████████████▋              | 36/50 [00:47<00:14,  1.04s/it]"
     ]
    },
    {
     "name": "stdout",
     "output_type": "stream",
     "text": [
      "36942.914\n"
     ]
    },
    {
     "name": "stderr",
     "output_type": "stream",
     "text": [
      " 74%|█████████████████████████████████████▋             | 37/50 [00:48<00:13,  1.03s/it]"
     ]
    },
    {
     "name": "stdout",
     "output_type": "stream",
     "text": [
      "37123.758\n"
     ]
    },
    {
     "name": "stderr",
     "output_type": "stream",
     "text": [
      " 76%|██████████████████████████████████████▊            | 38/50 [00:49<00:12,  1.04s/it]"
     ]
    },
    {
     "name": "stdout",
     "output_type": "stream",
     "text": [
      "37085.445\n"
     ]
    },
    {
     "name": "stderr",
     "output_type": "stream",
     "text": [
      " 78%|███████████████████████████████████████▊           | 39/50 [00:50<00:11,  1.03s/it]"
     ]
    },
    {
     "name": "stdout",
     "output_type": "stream",
     "text": [
      "37291.316\n"
     ]
    },
    {
     "name": "stderr",
     "output_type": "stream",
     "text": [
      " 80%|████████████████████████████████████████▊          | 40/50 [00:51<00:10,  1.03s/it]"
     ]
    },
    {
     "name": "stdout",
     "output_type": "stream",
     "text": [
      "37064.703\n"
     ]
    },
    {
     "name": "stderr",
     "output_type": "stream",
     "text": [
      " 82%|█████████████████████████████████████████▊         | 41/50 [00:52<00:09,  1.02s/it]"
     ]
    },
    {
     "name": "stdout",
     "output_type": "stream",
     "text": [
      "36939.305\n"
     ]
    },
    {
     "name": "stderr",
     "output_type": "stream",
     "text": [
      " 84%|██████████████████████████████████████████▊        | 42/50 [00:53<00:08,  1.04s/it]"
     ]
    },
    {
     "name": "stdout",
     "output_type": "stream",
     "text": [
      "37308.234\n"
     ]
    },
    {
     "name": "stderr",
     "output_type": "stream",
     "text": [
      " 86%|███████████████████████████████████████████▊       | 43/50 [00:54<00:07,  1.04s/it]"
     ]
    },
    {
     "name": "stdout",
     "output_type": "stream",
     "text": [
      "37098.477\n"
     ]
    },
    {
     "name": "stderr",
     "output_type": "stream",
     "text": [
      " 88%|████████████████████████████████████████████▉      | 44/50 [00:55<00:06,  1.04s/it]"
     ]
    },
    {
     "name": "stdout",
     "output_type": "stream",
     "text": [
      "37105.867\n"
     ]
    },
    {
     "name": "stderr",
     "output_type": "stream",
     "text": [
      " 90%|█████████████████████████████████████████████▉     | 45/50 [00:56<00:05,  1.04s/it]"
     ]
    },
    {
     "name": "stdout",
     "output_type": "stream",
     "text": [
      "37218.32\n"
     ]
    },
    {
     "name": "stderr",
     "output_type": "stream",
     "text": [
      " 92%|██████████████████████████████████████████████▉    | 46/50 [00:57<00:04,  1.04s/it]"
     ]
    },
    {
     "name": "stdout",
     "output_type": "stream",
     "text": [
      "37022.867\n"
     ]
    },
    {
     "name": "stderr",
     "output_type": "stream",
     "text": [
      " 94%|███████████████████████████████████████████████▉   | 47/50 [00:58<00:03,  1.03s/it]"
     ]
    },
    {
     "name": "stdout",
     "output_type": "stream",
     "text": [
      "37269.11\n"
     ]
    },
    {
     "name": "stderr",
     "output_type": "stream",
     "text": [
      " 96%|████████████████████████████████████████████████▉  | 48/50 [00:59<00:02,  1.03s/it]"
     ]
    },
    {
     "name": "stdout",
     "output_type": "stream",
     "text": [
      "37156.082\n"
     ]
    },
    {
     "name": "stderr",
     "output_type": "stream",
     "text": [
      " 98%|█████████████████████████████████████████████████▉ | 49/50 [01:00<00:01,  1.03s/it]"
     ]
    },
    {
     "name": "stdout",
     "output_type": "stream",
     "text": [
      "37156.617\n"
     ]
    },
    {
     "name": "stderr",
     "output_type": "stream",
     "text": [
      "100%|███████████████████████████████████████████████████| 50/50 [01:01<00:00,  1.24s/it]\n"
     ]
    },
    {
     "data": {
      "text/plain": [
       "<Figure size 640x480 with 0 Axes>"
      ]
     },
     "metadata": {},
     "output_type": "display_data"
    },
    {
     "data": {
      "text/plain": [
       "<Figure size 640x480 with 0 Axes>"
      ]
     },
     "metadata": {},
     "output_type": "display_data"
    },
    {
     "data": {
      "text/plain": [
       "<Figure size 640x480 with 0 Axes>"
      ]
     },
     "metadata": {},
     "output_type": "display_data"
    },
    {
     "data": {
      "text/plain": [
       "<Figure size 640x480 with 0 Axes>"
      ]
     },
     "metadata": {},
     "output_type": "display_data"
    },
    {
     "data": {
      "text/plain": [
       "<Figure size 640x480 with 0 Axes>"
      ]
     },
     "metadata": {},
     "output_type": "display_data"
    },
    {
     "data": {
      "text/plain": [
       "<Figure size 640x480 with 0 Axes>"
      ]
     },
     "metadata": {},
     "output_type": "display_data"
    },
    {
     "data": {
      "text/plain": [
       "<Figure size 640x480 with 0 Axes>"
      ]
     },
     "metadata": {},
     "output_type": "display_data"
    },
    {
     "data": {
      "text/plain": [
       "<Figure size 640x480 with 0 Axes>"
      ]
     },
     "metadata": {},
     "output_type": "display_data"
    },
    {
     "data": {
      "text/plain": [
       "<Figure size 640x480 with 0 Axes>"
      ]
     },
     "metadata": {},
     "output_type": "display_data"
    },
    {
     "data": {
      "text/plain": [
       "<Figure size 640x480 with 0 Axes>"
      ]
     },
     "metadata": {},
     "output_type": "display_data"
    },
    {
     "data": {
      "text/plain": [
       "<Figure size 640x480 with 0 Axes>"
      ]
     },
     "metadata": {},
     "output_type": "display_data"
    },
    {
     "data": {
      "text/plain": [
       "<Figure size 640x480 with 0 Axes>"
      ]
     },
     "metadata": {},
     "output_type": "display_data"
    },
    {
     "data": {
      "text/plain": [
       "<Figure size 640x480 with 0 Axes>"
      ]
     },
     "metadata": {},
     "output_type": "display_data"
    },
    {
     "data": {
      "text/plain": [
       "<Figure size 640x480 with 0 Axes>"
      ]
     },
     "metadata": {},
     "output_type": "display_data"
    },
    {
     "data": {
      "text/plain": [
       "<Figure size 640x480 with 0 Axes>"
      ]
     },
     "metadata": {},
     "output_type": "display_data"
    },
    {
     "data": {
      "text/plain": [
       "<Figure size 640x480 with 0 Axes>"
      ]
     },
     "metadata": {},
     "output_type": "display_data"
    },
    {
     "data": {
      "text/plain": [
       "<Figure size 640x480 with 0 Axes>"
      ]
     },
     "metadata": {},
     "output_type": "display_data"
    },
    {
     "data": {
      "text/plain": [
       "<Figure size 640x480 with 0 Axes>"
      ]
     },
     "metadata": {},
     "output_type": "display_data"
    },
    {
     "data": {
      "text/plain": [
       "<Figure size 640x480 with 0 Axes>"
      ]
     },
     "metadata": {},
     "output_type": "display_data"
    },
    {
     "data": {
      "text/plain": [
       "<Figure size 640x480 with 0 Axes>"
      ]
     },
     "metadata": {},
     "output_type": "display_data"
    },
    {
     "data": {
      "text/plain": [
       "<Figure size 640x480 with 0 Axes>"
      ]
     },
     "metadata": {},
     "output_type": "display_data"
    },
    {
     "data": {
      "text/plain": [
       "<Figure size 640x480 with 0 Axes>"
      ]
     },
     "metadata": {},
     "output_type": "display_data"
    },
    {
     "data": {
      "text/plain": [
       "<Figure size 640x480 with 0 Axes>"
      ]
     },
     "metadata": {},
     "output_type": "display_data"
    },
    {
     "data": {
      "text/plain": [
       "<Figure size 640x480 with 0 Axes>"
      ]
     },
     "metadata": {},
     "output_type": "display_data"
    },
    {
     "data": {
      "text/plain": [
       "<Figure size 640x480 with 0 Axes>"
      ]
     },
     "metadata": {},
     "output_type": "display_data"
    },
    {
     "data": {
      "text/plain": [
       "<Figure size 640x480 with 0 Axes>"
      ]
     },
     "metadata": {},
     "output_type": "display_data"
    },
    {
     "data": {
      "text/plain": [
       "<Figure size 640x480 with 0 Axes>"
      ]
     },
     "metadata": {},
     "output_type": "display_data"
    },
    {
     "data": {
      "text/plain": [
       "<Figure size 640x480 with 0 Axes>"
      ]
     },
     "metadata": {},
     "output_type": "display_data"
    },
    {
     "data": {
      "text/plain": [
       "<Figure size 640x480 with 0 Axes>"
      ]
     },
     "metadata": {},
     "output_type": "display_data"
    },
    {
     "data": {
      "text/plain": [
       "<Figure size 640x480 with 0 Axes>"
      ]
     },
     "metadata": {},
     "output_type": "display_data"
    },
    {
     "data": {
      "text/plain": [
       "<Figure size 640x480 with 0 Axes>"
      ]
     },
     "metadata": {},
     "output_type": "display_data"
    },
    {
     "data": {
      "text/plain": [
       "<Figure size 640x480 with 0 Axes>"
      ]
     },
     "metadata": {},
     "output_type": "display_data"
    },
    {
     "data": {
      "text/plain": [
       "<Figure size 640x480 with 0 Axes>"
      ]
     },
     "metadata": {},
     "output_type": "display_data"
    },
    {
     "data": {
      "text/plain": [
       "<Figure size 640x480 with 0 Axes>"
      ]
     },
     "metadata": {},
     "output_type": "display_data"
    },
    {
     "data": {
      "text/plain": [
       "<Figure size 640x480 with 0 Axes>"
      ]
     },
     "metadata": {},
     "output_type": "display_data"
    },
    {
     "data": {
      "text/plain": [
       "<Figure size 640x480 with 0 Axes>"
      ]
     },
     "metadata": {},
     "output_type": "display_data"
    },
    {
     "data": {
      "text/plain": [
       "<Figure size 640x480 with 0 Axes>"
      ]
     },
     "metadata": {},
     "output_type": "display_data"
    },
    {
     "data": {
      "text/plain": [
       "<Figure size 640x480 with 0 Axes>"
      ]
     },
     "metadata": {},
     "output_type": "display_data"
    },
    {
     "data": {
      "text/plain": [
       "<Figure size 640x480 with 0 Axes>"
      ]
     },
     "metadata": {},
     "output_type": "display_data"
    },
    {
     "data": {
      "text/plain": [
       "<Figure size 640x480 with 0 Axes>"
      ]
     },
     "metadata": {},
     "output_type": "display_data"
    },
    {
     "data": {
      "text/plain": [
       "<Figure size 640x480 with 0 Axes>"
      ]
     },
     "metadata": {},
     "output_type": "display_data"
    },
    {
     "data": {
      "text/plain": [
       "<Figure size 640x480 with 0 Axes>"
      ]
     },
     "metadata": {},
     "output_type": "display_data"
    },
    {
     "data": {
      "text/plain": [
       "<Figure size 640x480 with 0 Axes>"
      ]
     },
     "metadata": {},
     "output_type": "display_data"
    },
    {
     "data": {
      "text/plain": [
       "<Figure size 640x480 with 0 Axes>"
      ]
     },
     "metadata": {},
     "output_type": "display_data"
    },
    {
     "data": {
      "text/plain": [
       "<Figure size 640x480 with 0 Axes>"
      ]
     },
     "metadata": {},
     "output_type": "display_data"
    },
    {
     "data": {
      "text/plain": [
       "<Figure size 640x480 with 0 Axes>"
      ]
     },
     "metadata": {},
     "output_type": "display_data"
    },
    {
     "data": {
      "text/plain": [
       "<Figure size 640x480 with 0 Axes>"
      ]
     },
     "metadata": {},
     "output_type": "display_data"
    },
    {
     "data": {
      "text/plain": [
       "<Figure size 640x480 with 0 Axes>"
      ]
     },
     "metadata": {},
     "output_type": "display_data"
    },
    {
     "data": {
      "text/plain": [
       "<Figure size 640x480 with 0 Axes>"
      ]
     },
     "metadata": {},
     "output_type": "display_data"
    },
    {
     "data": {
      "text/plain": [
       "<Figure size 640x480 with 0 Axes>"
      ]
     },
     "metadata": {},
     "output_type": "display_data"
    }
   ],
   "source": [
    "for experiment_iteration in tqdm(range(50)):\n",
    "    high = jnp.array([0.1, 0.1, jnp.pi])\n",
    "    low = jnp.array([-0.1, -0.1, -jnp.pi])\n",
    "    key = jax.random.split(key, 1)[0]\n",
    "    \n",
    "    gt_contact = jax.random.uniform(key, shape=(3,)) * (high - low) + low\n",
    "    # gt_contact = gt_contact.at[2].set(jnp.pi)\n",
    "    # gt_contact = jnp.array([-0.03, -0.09, -0.51 ])\n",
    "    # gt_contact = jnp.array([-0.03, -0.09, -0.51 + jnp.pi ])\n",
    "    observation = render_image(gt_contact)\n",
    "    get_depth_image(observation[...,2])\n",
    "    print(scorer_jit(observation, gt_contact, variance, outlier_prob, outlier_volume))\n",
    "    contact_param_grid = gt_contact + contact_param_deltas\n",
    "    \n",
    "    weights =  jnp.concatenate([\n",
    "        sweep_scorer(observation, cp, variance, outlier_prob, outlier_volume)\n",
    "        for cp in jnp.array_split(contact_param_grid, 100)\n",
    "    ],axis=0)\n",
    "    \n",
    "    key2 = jax.random.PRNGKey(0)\n",
    "    sampled_indices = jax.random.categorical(key2, weights.reshape(-1), shape=(1000,))\n",
    "    sampled_indices = jnp.unravel_index(sampled_indices, weights.shape)[0]\n",
    "    sampled_params = contact_param_grid[sampled_indices]\n",
    "    actual_params = gt_contact\n",
    "    \n",
    "    fig = plt.figure(constrained_layout=True)\n",
    "    widths = [1, 1]\n",
    "    heights = [2]\n",
    "    spec = fig.add_gridspec(ncols=2, nrows=1, width_ratios=widths,\n",
    "                              height_ratios=heights)\n",
    "    \n",
    "    ax = fig.add_subplot(spec[0, 0])\n",
    "    ax.imshow(jnp.array(get_depth_image(observation[...,2])))\n",
    "    ax.get_xaxis().set_visible(False)\n",
    "    ax.get_yaxis().set_visible(False)\n",
    "    ax.set_title(f\"Observation (params {gt_contact[0]:0.2f} {gt_contact[1]:0.2f} {gt_contact[2]:0.2f})\")\n",
    "    \n",
    "    \n",
    "    ax = fig.add_subplot(spec[0, 1])\n",
    "    ax.set_aspect(1.0)\n",
    "    circ = plt.Circle((0, 0), radius=1, edgecolor='black', facecolor='None', linestyle=\"--\", linewidth=0.5)\n",
    "    ax.add_patch(circ)\n",
    "    ax.set_xlim(-2.0, 2.0)\n",
    "    ax.set_ylim(-2.0, 2.0)\n",
    "    ax.get_xaxis().set_visible(False)\n",
    "    ax.get_yaxis().set_visible(False)\n",
    "    ax.scatter(-jnp.sin(sampled_params[:,2]),-jnp.cos(sampled_params[:,2]),label=\"Posterior Samples\", alpha=0.5, s=15)\n",
    "    ax.scatter(-jnp.sin(actual_params[2]),-jnp.cos(actual_params[2]), color=(1.0, 0.0, 0.0),label=\"Actual\", alpha=0.9, s=10)\n",
    "    ax.set_title(\"Posterior on Orientation (top view)\")\n",
    "    ax.legend(fontsize=7)\n",
    "    # plt.show()\n",
    "    plt.savefig(f'{experiment_iteration:05d}.png')\n",
    "    plt.clf()"
   ]
  },
  {
   "cell_type": "code",
   "execution_count": 20,
   "id": "49c9bee1-c81d-43a9-b720-244b9c16c892",
   "metadata": {},
   "outputs": [
    {
     "data": {
      "image/png": "[encoded data removed]",
      "text/plain": [
       "<Figure size 640x480 with 2 Axes>"
      ]
     },
     "metadata": {},
     "output_type": "display_data"
    }
   ],
   "source": [
    "high = jnp.array([0.1, 0.1, jnp.pi])\n",
    "low = jnp.array([-0.1, -0.1, -jnp.pi])\n",
    "key = jax.random.split(key, 1)[0]\n",
    "\n",
    "gt_contact = jax.random.uniform(key, shape=(3,)) * (high - low) + low\n",
    "gt_contact = jnp.array([-0.03, -0.09, -0.51 ])\n",
    "gt_contact = jnp.array([-0.05, 0.09,+ jnp.pi ])\n",
    "gt_contact = jnp.array([-0.03, 0.04,-0.51 ])\n",
    "# gt_contact = jnp.array([-0.03, 0.04,+jnp.pi])\n",
    "observation = render_image(gt_contact)\n",
    "get_depth_image(observation[...,2])\n",
    "\n",
    "contact_param_grid = gt_contact + contact_param_deltas\n",
    "\n",
    "weights =  jnp.concatenate([\n",
    "    sweep_scorer(observation, cp, variance, outlier_prob, outlier_volume)\n",
    "    for cp in jnp.array_split(contact_param_grid, 100)\n",
    "],axis=0)\n",
    "\n",
    "key2 = jax.random.PRNGKey(0)\n",
    "sampled_indices = jax.random.categorical(key2, weights.reshape(-1), shape=(100,))\n",
    "sampled_indices = jnp.unravel_index(sampled_indices, weights.shape)[0]\n",
    "sampled_params = contact_param_grid[sampled_indices]\n",
    "actual_params = gt_contact\n",
    "\n",
    "fig = plt.figure(constrained_layout=True)\n",
    "widths = [1, 1]\n",
    "heights = [2]\n",
    "spec = fig.add_gridspec(ncols=2, nrows=1, width_ratios=widths,\n",
    "                          height_ratios=heights)\n",
    "\n",
    "ax = fig.add_subplot(spec[0, 0])\n",
    "ax.imshow(jnp.array(get_depth_image(observation[...,2])))\n",
    "ax.get_xaxis().set_visible(False)\n",
    "ax.get_yaxis().set_visible(False)\n",
    "ax.set_title(f\"Observation (params {gt_contact[0]:0.2f} {gt_contact[1]:0.2f} {gt_contact[2]:0.2f})\")\n",
    "\n",
    "\n",
    "ax = fig.add_subplot(spec[0, 1])\n",
    "ax.set_aspect(1.0)\n",
    "circ = plt.Circle((0, 0), radius=1, edgecolor='black', facecolor='None', linestyle=\"--\", linewidth=0.5)\n",
    "ax.add_patch(circ)\n",
    "ax.set_xlim(-2.0, 2.0)\n",
    "ax.set_ylim(-2.0, 2.0)\n",
    "ax.get_xaxis().set_visible(False)\n",
    "ax.get_yaxis().set_visible(False)\n",
    "ax.scatter(-jnp.sin(sampled_params[:,2]),-jnp.cos(sampled_params[:,2]),label=\"Posterior Samples\", alpha=0.5, s=15)\n",
    "ax.scatter(-jnp.sin(actual_params[2]),-jnp.cos(actual_params[2]), color=(1.0, 0.0, 0.0),label=\"Actual\", alpha=0.9, s=10)\n",
    "ax.set_title(\"Posterior on Orientation (top view)\")\n",
    "ax.legend(fontsize=7)\n",
    "# plt.savefig(f'{experiment_iteration:05d}.png')\n",
    "# plt.clf()\n",
    "plt.show()"
   ]
  },
  {
   "cell_type": "code",
   "execution_count": null,
   "id": "e397b20d-889c-458a-be01-79cf19b509de",
   "metadata": {},
   "outputs": [],
   "source": [
    "b.utils.ycb_loader.MODEL_NAMES"
   ]
  },
  {
   "cell_type": "code",
   "execution_count": null,
   "id": "9c83ae6f-7f54-4ff1-a662-947ee4320768",
   "metadata": {},
   "outputs": [],
   "source": []
  },
  {
   "cell_type": "code",
   "execution_count": 140,
   "id": "61503053-3b57-4961-a344-914522650f0c",
   "metadata": {},
   "outputs": [
    {
     "name": "stdout",
     "output_type": "stream",
     "text": [
      "39120.23\n",
      "39120.23\n"
     ]
    }
   ],
   "source": [
    "print(scorer_jit(observation, sampled_params[0], variance, outlier_prob, outlier_volume))\n",
    "print(scorer_jit(observation, gt_contact, variance, outlier_prob, outlier_volume))"
   ]
  },
  {
   "cell_type": "code",
   "execution_count": 281,
   "id": "46767153-ec7f-4c09-b4d8-d391dfd8cfd3",
   "metadata": {},
   "outputs": [
    {
     "ename": "AssertionError",
     "evalue": "",
     "output_type": "error",
     "traceback": [
      "\u001b[0;31m---------------------------------------------------------------------------\u001b[0m",
      "\u001b[0;31mAssertionError\u001b[0m                            Traceback (most recent call last)",
      "Cell \u001b[0;32mIn[281], line 8\u001b[0m\n\u001b[1;32m      6\u001b[0m filter_size\u001b[38;5;241m=\u001b[39m \u001b[38;5;241m4\u001b[39m\n\u001b[1;32m      7\u001b[0m ij \u001b[38;5;241m=\u001b[39m jnp\u001b[38;5;241m.\u001b[39marray([\u001b[38;5;241m40\u001b[39m,\u001b[38;5;241m50\u001b[39m])\n\u001b[0;32m----> 8\u001b[0m \u001b[38;5;28;01massert\u001b[39;00m scores_good[ij[\u001b[38;5;241m0\u001b[39m], ij[\u001b[38;5;241m1\u001b[39m]] \u001b[38;5;241m<\u001b[39m scores_bad[ij[\u001b[38;5;241m0\u001b[39m], ij[\u001b[38;5;241m1\u001b[39m]]\n\u001b[1;32m      9\u001b[0m observation_edit \u001b[38;5;241m=\u001b[39m observation[\u001b[38;5;241m.\u001b[39m\u001b[38;5;241m.\u001b[39m\u001b[38;5;241m.\u001b[39m,\u001b[38;5;241m2\u001b[39m]\u001b[38;5;241m.\u001b[39mat[ij[\u001b[38;5;241m0\u001b[39m]\u001b[38;5;241m-\u001b[39mfilter_size:ij[\u001b[38;5;241m0\u001b[39m]\u001b[38;5;241m+\u001b[39mfilter_size,ij[\u001b[38;5;241m1\u001b[39m]\u001b[38;5;241m-\u001b[39mfilter_size:ij[\u001b[38;5;241m1\u001b[39m]\u001b[38;5;241m+\u001b[39mfilter_size]\u001b[38;5;241m.\u001b[39mset(\u001b[38;5;241m100.0\u001b[39m)\n\u001b[1;32m     10\u001b[0m b\u001b[38;5;241m.\u001b[39mviz\u001b[38;5;241m.\u001b[39mscale_image(b\u001b[38;5;241m.\u001b[39mget_depth_image(observation_edit),\u001b[38;5;241m4\u001b[39m)\n",
      "\u001b[0;31mAssertionError\u001b[0m: "
     ]
    }
   ],
   "source": [
    "latent_image_good = render_image(gt_contact)[...,:3]\n",
    "latent_image_bad = render_image(sampled_params[0])[...,:3]\n",
    "scores_good = threedp3_likelihood_per_pixel_jit(observation, latent_image_good, variance, outlier_prob, outlier_volume, 4)\n",
    "scores_bad = threedp3_likelihood_per_pixel_jit(observation, latent_image_bad, variance, outlier_prob, outlier_volume, 4)\n",
    "\n",
    "filter_size= 4\n",
    "ij = jnp.array([40,50])\n",
    "assert scores_good[ij[0], ij[1]] < scores_bad[ij[0], ij[1]]\n",
    "observation_edit = observation[...,2].at[ij[0]-filter_size:ij[0]+filter_size,ij[1]-filter_size:ij[1]+filter_size].set(100.0)\n",
    "b.viz.scale_image(b.get_depth_image(observation_edit),4)"
   ]
  },
  {
   "cell_type": "code",
   "execution_count": 282,
   "id": "c55e12bd-62ee-4f46-8557-455804febc76",
   "metadata": {},
   "outputs": [
    {
     "data": {
      "text/plain": [
       "<matplotlib.colorbar.Colorbar at 0x7fb3277565e0>"
      ]
     },
     "execution_count": 282,
     "metadata": {},
     "output_type": "execute_result"
    },
    {
     "data": {
      "image/png": "[encoded data removed]",
      "text/plain": [
       "<Figure size 480x480 with 2 Axes>"
      ]
     },
     "metadata": {},
     "output_type": "display_data"
    }
   ],
   "source": [
    "plt.matshow(scores > scores_gt)\n",
    "plt.colorbar()"
   ]
  },
  {
   "cell_type": "code",
   "execution_count": 283,
   "id": "f0148fc8-3b88-43af-913a-0f4a64e08770",
   "metadata": {},
   "outputs": [
    {
     "name": "stdout",
     "output_type": "stream",
     "text": [
      "-3.062764\n",
      "-3.0528426\n"
     ]
    }
   ],
   "source": [
    "distances_bad, squared_filter_bad, probability_bad = threedp3_likelihood_per_pixel_ij(ij, observation, latent_image_bad, variance, outlier_prob, outlier_volume,4)\n",
    "distances_good, squared_filter_good, probability_good  = threedp3_likelihood_per_pixel_ij(ij, observation, latent_image_good, variance, outlier_prob, outlier_volume,4)\n",
    "print(probability_bad.max())\n",
    "print(probability_good.max())"
   ]
  },
  {
   "cell_type": "code",
   "execution_count": 261,
   "id": "794e3a2f-bfe6-4d5b-830c-c8521c6de530",
   "metadata": {},
   "outputs": [
    {
     "name": "stdout",
     "output_type": "stream",
     "text": [
      "0.015138281 0.0\n"
     ]
    }
   ],
   "source": [
    "print(distances_bad[4,4],distances_good[4,4])"
   ]
  },
  {
   "cell_type": "code",
   "execution_count": 262,
   "id": "f304e1b5-5961-45dd-b64d-6919b673972c",
   "metadata": {},
   "outputs": [
    {
     "name": "stdout",
     "output_type": "stream",
     "text": [
      "-3.0477264 -6.5067205\n"
     ]
    }
   ],
   "source": [
    "print(probability_bad[4,4], probability_good[4,4])"
   ]
  },
  {
   "cell_type": "code",
   "execution_count": 263,
   "id": "950ed30e-25f1-4985-b684-0946a784f415",
   "metadata": {},
   "outputs": [
    {
     "name": "stdout",
     "output_type": "stream",
     "text": [
      "0.010578943 0.013852889\n"
     ]
    }
   ],
   "source": [
    "print(squared_filter_bad[4,4], squared_filter_good[4,4])"
   ]
  },
  {
   "cell_type": "code",
   "execution_count": 264,
   "id": "b06a4749-46ec-4f9c-8e35-d300175e8486",
   "metadata": {},
   "outputs": [
    {
     "name": "stdout",
     "output_type": "stream",
     "text": [
      "0.8789958 37.006935\n"
     ]
    }
   ],
   "source": [
    "print(squared_filter_bad.sum(), squared_filter_good.sum() )"
   ]
  },
  {
   "cell_type": "code",
   "execution_count": 269,
   "id": "66440d11-0de2-41f9-be38-35be45dd169c",
   "metadata": {},
   "outputs": [
    {
     "name": "stdout",
     "output_type": "stream",
     "text": [
      "[[0.01437394 0.0134089  0.01272168 0.01218773 0.01172397 0.01137495\n",
      "  0.01107647 0.01080908 0.01057336]\n",
      " [0.01455248 0.01348458 0.01278045 0.01225416 0.01182344 0.01144719\n",
      "  0.0111374  0.01086731 0.01063328]\n",
      " [0.01464109 0.01358145 0.01287223 0.01232456 0.01187292 0.01151115\n",
      "  0.01119879 0.0109259  0.01069097]\n",
      " [0.01475344 0.01370425 0.01294535 0.01239177 0.01195177 0.01157531\n",
      "  0.0112601  0.01098236 0.01073954]\n",
      " [0.01487285 0.01378962 0.01303841 0.01247846 0.01203526 0.0116611\n",
      "  0.0113215  0.01103763 0.01080074]\n",
      " [0.01500695 0.01387917 0.01313523 0.01256444 0.01210962 0.01172861\n",
      "  0.01140046 0.01109475 0.01087307]\n",
      " [0.01517794 0.01400389 0.0132296  0.01264631 0.01218248 0.01179992\n",
      "  0.01146931 0.01117395 0.01094169]\n",
      " [0.01527051 0.01410799 0.01332149 0.01273137 0.01225166 0.01185173\n",
      "  0.01152993 0.01125466 0.01100998]\n",
      " [0.01537207 0.01421431 0.01342074 0.01282284 0.01232773 0.01192176\n",
      "  0.01159493 0.01131388 0.01107619]]\n",
      "[[0.10808785 0.00044072 0.00040681 0.00038236 0.00036425 0.00035112\n",
      "  0.00034037 0.0003315  0.00032356]\n",
      " [0.10808785 0.00044487 0.00040889 0.00038459 0.00036606 0.000353\n",
      "  0.00034238 0.00033319 0.00032562]\n",
      " [0.10808785 0.00044781 0.00041225 0.00038751 0.00036946 0.00035522\n",
      "  0.00034457 0.00033569 0.00032766]\n",
      " [0.10808785 0.00044881 0.00041536 0.0003903  0.00037137 0.00035809\n",
      "  0.00034689 0.00033747 0.00032947]\n",
      " [0.10808785 0.00045106 0.00041783 0.00039333 0.00037433 0.00036052\n",
      "  0.00034914 0.00033984 0.00033197]\n",
      " [0.10808785 0.00045616 0.00042152 0.00039601 0.00037725 0.00036309\n",
      "  0.00035163 0.00034221 0.00033409]\n",
      " [0.10808785 0.00046131 0.00042498 0.00039906 0.00037987 0.0003658\n",
      "  0.00035462 0.000345   0.00033636]\n",
      " [0.10808785 0.00046765 0.00042833 0.00040206 0.0003826  0.00036803\n",
      "  0.00035645 0.00034688 0.00033873]\n",
      " [0.10808785 0.0004713  0.0004318  0.00040496 0.00038557 0.00037112\n",
      "  0.00035907 0.00034952 0.00034111]]\n"
     ]
    }
   ],
   "source": [
    "print(squared_filter_bad / squared_filter_bad.sum())\n",
    "print(squared_filter_good / squared_filter_good.sum() )"
   ]
  },
  {
   "cell_type": "code",
   "execution_count": 267,
   "id": "a9abd29a-6026-4666-bb1b-2698d0a66b6f",
   "metadata": {},
   "outputs": [
    {
     "data": {
      "text/plain": [
       "Array([[0.01263463, 0.01178637, 0.0111823 , 0.01071296, 0.01030532,\n",
       "        0.00999853, 0.00973617, 0.00950113, 0.00929394],\n",
       "       [0.01279157, 0.01185288, 0.01123396, 0.01077135, 0.01039275,\n",
       "        0.01006203, 0.00978972, 0.00955232, 0.0093466 ],\n",
       "       [0.01286945, 0.01193803, 0.01131464, 0.01083324, 0.01043625,\n",
       "        0.01011825, 0.00984369, 0.00960382, 0.00939732],\n",
       "       [0.01296821, 0.01204598, 0.0113789 , 0.01089232, 0.01050555,\n",
       "        0.01017465, 0.00989758, 0.00965345, 0.00944001],\n",
       "       [0.01307317, 0.01212102, 0.01146071, 0.01096852, 0.01057894,\n",
       "        0.01025006, 0.00995155, 0.00970203, 0.0094938 ],\n",
       "       [0.01319105, 0.01219973, 0.01154581, 0.01104409, 0.01064431,\n",
       "        0.0103094 , 0.01002095, 0.00975224, 0.00955738],\n",
       "       [0.01334134, 0.01230936, 0.01162876, 0.01111605, 0.01070835,\n",
       "        0.01037208, 0.01008148, 0.00982186, 0.0096177 ],\n",
       "       [0.01342271, 0.01240087, 0.01170953, 0.01119082, 0.01076916,\n",
       "        0.01041762, 0.01013476, 0.0098928 , 0.00967772],\n",
       "       [0.01351198, 0.01249432, 0.01179678, 0.01127122, 0.01083602,\n",
       "        0.01047918, 0.01019189, 0.00994485, 0.00973593]], dtype=float32)"
      ]
     },
     "execution_count": 267,
     "metadata": {},
     "output_type": "execute_result"
    }
   ],
   "source": [
    "squared_filter_bad"
   ]
  },
  {
   "cell_type": "code",
   "execution_count": 268,
   "id": "00d55335-37bb-4fc5-b633-05407d4b0a1d",
   "metadata": {},
   "outputs": [
    {
     "data": {
      "text/plain": [
       "Array([[4.        , 0.01630975, 0.01505469, 0.01415003, 0.01347992,\n",
       "        0.01299385, 0.01259597, 0.01226762, 0.01197407],\n",
       "       [4.        , 0.0164634 , 0.01513194, 0.01423254, 0.01354675,\n",
       "        0.01306352, 0.01267039, 0.01233044, 0.01205034],\n",
       "       [4.        , 0.01657224, 0.01525616, 0.01434041, 0.01367248,\n",
       "        0.01314547, 0.01275143, 0.01242279, 0.01212557],\n",
       "       [4.        , 0.01660917, 0.01537122, 0.01444397, 0.01374345,\n",
       "        0.01325164, 0.01283728, 0.01248859, 0.01219272],\n",
       "       [4.        , 0.01669234, 0.0154626 , 0.01455581, 0.01385289,\n",
       "        0.01334166, 0.01292048, 0.01257653, 0.01228522],\n",
       "       [4.        , 0.01688109, 0.0155992 , 0.01465496, 0.01396097,\n",
       "        0.01343701, 0.01301264, 0.01266417, 0.01236357],\n",
       "       [4.        , 0.01707154, 0.01572737, 0.01476815, 0.01405779,\n",
       "        0.0135373 , 0.01312331, 0.01276748, 0.01244781],\n",
       "       [4.        , 0.01730625, 0.01585109, 0.01487901, 0.01415898,\n",
       "        0.01361954, 0.01319114, 0.01283692, 0.01253544],\n",
       "       [4.        , 0.01744151, 0.01597974, 0.01498647, 0.01426865,\n",
       "        0.01373401, 0.01328808, 0.01293451, 0.01262332]], dtype=float32)"
      ]
     },
     "execution_count": 268,
     "metadata": {},
     "output_type": "execute_result"
    }
   ],
   "source": [
    "squared_filter_good"
   ]
  },
  {
   "cell_type": "code",
   "execution_count": 232,
   "id": "ead3a4f7-7673-463d-8b87-713bc76c16e5",
   "metadata": {},
   "outputs": [
    {
     "name": "stdout",
     "output_type": "stream",
     "text": [
      "[ 0.         -0.02360369  0.11801845] [ 0.         -0.02353966  0.1176983 ]\n"
     ]
    }
   ],
   "source": [
    "print(latent_image_bad[ij[0],ij[1]], latent_image_good[ij[0],ij[1]])"
   ]
  },
  {
   "cell_type": "code",
   "execution_count": 284,
   "id": "5103005c-7f99-464b-9d32-faf339dbf876",
   "metadata": {},
   "outputs": [],
   "source": [
    "b.clear()\n",
    "b.show_cloud(\"1\", latent_image_good.reshape(-1,3))\n",
    "b.show_cloud(\"bad\", latent_image_bad.reshape(-1,3), color=b.viz.RED)"
   ]
  },
  {
   "cell_type": "code",
   "execution_count": 234,
   "id": "9e05328e-f449-4b88-9a0a-cc290103b916",
   "metadata": {},
   "outputs": [
    {
     "name": "stdout",
     "output_type": "stream",
     "text": [
      "3.6856987 3.6862316\n"
     ]
    }
   ],
   "source": [
    "print(filter_bad[4,4], filter_good[4,4])"
   ]
  },
  {
   "cell_type": "code",
   "execution_count": 235,
   "id": "0d9e92d0-ab3e-452b-ba83-44f3a9fefa74",
   "metadata": {},
   "outputs": [
    {
     "data": {
      "image/jpeg": "[encoded data removed]",
      "image/png": "[encoded data removed]",
      "text/plain": [
       "<PIL.Image.Image image mode=RGB size=100x100>"
      ]
     },
     "execution_count": 235,
     "metadata": {},
     "output_type": "execute_result"
    }
   ],
   "source": [
    "observation_edit = observation[...,2].at[0:9,0:9].set(100.0)\n",
    "b.get_depth_image(observation_edit)\n"
   ]
  },
  {
   "cell_type": "code",
   "execution_count": 236,
   "id": "8f73835e-a9f3-44de-a9b2-7c5a55477eb2",
   "metadata": {},
   "outputs": [
    {
     "data": {
      "image/jpeg": "[encoded data removed]",
      "image/png": "[encoded data removed]",
      "text/plain": [
       "<PIL.Image.Image image mode=RGB size=210x100>"
      ]
     },
     "execution_count": 236,
     "metadata": {},
     "output_type": "execute_result"
    }
   ],
   "source": [
    "b.hstack_images(\n",
    "    [\n",
    "        get_depth_image(observation[...,2]),\n",
    "        get_depth_image(render_image(sampled_params[0])[...,2]),\n",
    "    ]\n",
    ")"
   ]
  },
  {
   "cell_type": "code",
   "execution_count": 237,
   "id": "d14fa3c3-9e0a-45da-80e6-7da9393291d4",
   "metadata": {},
   "outputs": [
    {
     "data": {
      "text/plain": [
       "<matplotlib.colorbar.Colorbar at 0x7fb33e8fb490>"
      ]
     },
     "execution_count": 237,
     "metadata": {},
     "output_type": "execute_result"
    },
    {
     "data": {
      "image/png": "[encoded data removed]",
      "text/plain": [
       "<Figure size 960x480 with 2 Axes>"
      ]
     },
     "metadata": {},
     "output_type": "display_data"
    }
   ],
   "source": [
    "scores = threedp3_likelihood_per_pixel_jit(observation, render_image(sampled_params[0]), variance, outlier_prob, outlier_volume, 4)\n",
    "scores_gt = threedp3_likelihood_per_pixel_jit(observation, render_image(gt_contact), variance, outlier_prob, outlier_volume, 4)\n",
    "plt.matshow(jnp.hstack([scores, scores_gt]))\n",
    "plt.colorbar()"
   ]
  },
  {
   "cell_type": "code",
   "execution_count": 166,
   "id": "3de1731c-7b8f-412e-ab97-b7502c72a782",
   "metadata": {},
   "outputs": [
    {
     "data": {
      "text/plain": [
       "Array(True, dtype=bool)"
      ]
     },
     "execution_count": 166,
     "metadata": {},
     "output_type": "execute_result"
    }
   ],
   "source": [
    "scores.sum() > scores_gt.sum()"
   ]
  },
  {
   "cell_type": "code",
   "execution_count": 188,
   "id": "f5496cc4-d4af-410a-a5d1-3799768b79cc",
   "metadata": {},
   "outputs": [
    {
     "data": {
      "text/plain": [
       "<matplotlib.colorbar.Colorbar at 0x7fb327c80a00>"
      ]
     },
     "execution_count": 188,
     "metadata": {},
     "output_type": "execute_result"
    },
    {
     "data": {
      "image/png": "[encoded data removed]",
      "text/plain": [
       "<Figure size 480x480 with 2 Axes>"
      ]
     },
     "metadata": {},
     "output_type": "display_data"
    }
   ],
   "source": [
    "plt.matshow((scores - scores_gt))\n",
    "plt.colorbar()"
   ]
  },
  {
   "cell_type": "code",
   "execution_count": 108,
   "id": "e3d174e7-4ffa-43e9-a106-deeafb4e2798",
   "metadata": {},
   "outputs": [
    {
     "name": "stdout",
     "output_type": "stream",
     "text": [
      "2\n"
     ]
    },
    {
     "data": {
      "text/plain": [
       "<matplotlib.colorbar.Colorbar at 0x7fb39d3957c0>"
      ]
     },
     "execution_count": 108,
     "metadata": {},
     "output_type": "execute_result"
    },
    {
     "data": {
      "image/png": "[encoded data removed]",
      "text/plain": [
       "<Figure size 480x480 with 2 Axes>"
      ]
     },
     "metadata": {},
     "output_type": "display_data"
    }
   ],
   "source": [
    "outlier_mask = threedp3_likelihood_per_pixel_jit(observation, render_image(sampled_params[0]), variance, 0.0, outlier_volume, 4) > threedp3_likelihood_per_pixel_jit(observation, render_image(sampled_params[0]), variance, 1.0, outlier_volume, 4)\n",
    "print(outlier_mask.sum())\n",
    "\n",
    "plt.matshow(outlier_mask)\n",
    "plt.colorbar()"
   ]
  },
  {
   "cell_type": "code",
   "execution_count": 73,
   "id": "8a6d645e-cef6-406b-a684-69ce52dcfcc6",
   "metadata": {},
   "outputs": [
    {
     "name": "stdout",
     "output_type": "stream",
     "text": [
      "3\n"
     ]
    },
    {
     "data": {
      "text/plain": [
       "<matplotlib.colorbar.Colorbar at 0x7fb3cf46fd60>"
      ]
     },
     "execution_count": 73,
     "metadata": {},
     "output_type": "execute_result"
    },
    {
     "data": {
      "image/png": "[encoded data removed]",
      "text/plain": [
       "<Figure size 480x480 with 2 Axes>"
      ]
     },
     "metadata": {},
     "output_type": "display_data"
    }
   ],
   "source": [
    "outlier_mask = threedp3_likelihood_per_pixel_jit(observation, render_image(gt_contact), variance, 0.0, outlier_volume, 4) > threedp3_likelihood_per_pixel_jit(observation, render_image(gt_contact), variance, 1.0, outlier_volume, 4)\n",
    "print(outlier_mask.sum())\n",
    "plt.matshow(outlier_mask)\n",
    "plt.colorbar()"
   ]
  },
  {
   "cell_type": "code",
   "execution_count": 285,
   "id": "acf11dec-844a-4ad4-b1e4-2e6d57600479",
   "metadata": {},
   "outputs": [
    {
     "data": {
      "text/plain": [
       "<matplotlib.image.AxesImage at 0x7fb327626a00>"
      ]
     },
     "execution_count": 285,
     "metadata": {},
     "output_type": "execute_result"
    },
    {
     "data": {
      "image/png": "[encoded data removed]",
      "text/plain": [
       "<Figure size 480x480 with 1 Axes>"
      ]
     },
     "metadata": {},
     "output_type": "display_data"
    }
   ],
   "source": [
    "plt.matshow(render_image(sampled_params[0])[...,2] < render_image(gt_contact)[...,2])"
   ]
  },
  {
   "cell_type": "code",
   "execution_count": 75,
   "id": "0e049a21-e505-4bf5-9191-a6018529dd7d",
   "metadata": {},
   "outputs": [
    {
     "data": {
      "text/plain": [
       "<matplotlib.colorbar.Colorbar at 0x7fb3cf0b1e80>"
      ]
     },
     "execution_count": 75,
     "metadata": {},
     "output_type": "execute_result"
    },
    {
     "data": {
      "image/png": "[encoded data removed]",
      "text/plain": [
       "<Figure size 480x480 with 2 Axes>"
      ]
     },
     "metadata": {},
     "output_type": "display_data"
    }
   ],
   "source": []
  },
  {
   "cell_type": "code",
   "execution_count": 44,
   "id": "944a0d95-4725-450d-b716-8f06b7c1bb73",
   "metadata": {},
   "outputs": [
    {
     "data": {
      "text/plain": [
       "<matplotlib.colorbar.Colorbar at 0x7fb73011b6d0>"
      ]
     },
     "execution_count": 44,
     "metadata": {},
     "output_type": "execute_result"
    },
    {
     "data": {
      "image/png": "[encoded data removed]",
      "text/plain": [
       "<Figure size 480x480 with 2 Axes>"
      ]
     },
     "metadata": {},
     "output_type": "display_data"
    }
   ],
   "source": [
    "plt.matshow(jnp.clip(render_image(sampled_params[0])[...,2], 0.0, 0.5))\n",
    "plt.colorbar()\n"
   ]
  },
  {
   "cell_type": "code",
   "execution_count": 41,
   "id": "e738e77f-61f8-4004-a6a0-1bf466b667a2",
   "metadata": {},
   "outputs": [],
   "source": [
    "b.clear()\n",
    "i = 1\n",
    "p = sampled_params[i]\n",
    "b.show_trimesh(f\"{i}\", b.RENDERER.meshes[13])\n",
    "b.set_pose(f\"{i}\", get_poses(p, 13)[1])\n",
    "\n",
    "cloud = render_image(p)[...,:3]\n",
    "b.show_cloud(f\"cloud\", cloud.reshape(-1,3))"
   ]
  },
  {
   "cell_type": "code",
   "execution_count": 43,
   "id": "2033fb73-9882-4d64-8d75-fae0e9e34a18",
   "metadata": {},
   "outputs": [
    {
     "data": {
      "image/jpeg": "[encoded data removed]",
      "image/png": "[encoded data removed]",
      "text/plain": [
       "<PIL.Image.Image image mode=RGB size=540x100>"
      ]
     },
     "execution_count": 43,
     "metadata": {},
     "output_type": "execute_result"
    }
   ],
   "source": [
    "b.hstack_images([\n",
    "    get_depth_image(render_image(c)[...,2]) for c in sampled_params[:5]\n",
    "])"
   ]
  },
  {
   "cell_type": "code",
   "execution_count": 35,
   "id": "bbd6e5ef-3453-4dd2-9ebc-0aea2467b7da",
   "metadata": {},
   "outputs": [
    {
     "data": {
      "text/plain": [
       "Array([0.35621294, 0.0417207 , 0.35621294, 0.23452449, 0.01115248],      dtype=float32)"
      ]
     },
     "execution_count": 35,
     "metadata": {},
     "output_type": "execute_result"
    }
   ],
   "source": [
    "b.utils.normalize_log_scores(\n",
    "    jnp.array([scorer_jit(observation, c, variance, outlier_prob, outlier_volume) for c in sampled_params[:5]])\n",
    ")"
   ]
  },
  {
   "cell_type": "code",
   "execution_count": 40,
   "id": "ee713de9-f2e2-44fe-8d84-8aff7e550d74",
   "metadata": {},
   "outputs": [],
   "source": [
    "b.clear()\n",
    "b.show_cloud(\"obs\", observation[...,:3].reshape(-1,3))\n",
    "b.show_cloud(\"render\", render_image(sampled_params[4])[...,:3].reshape(-1,3),color=b.viz.RED)\n"
   ]
  },
  {
   "cell_type": "code",
   "execution_count": 44,
   "id": "a74470e8-60f8-437c-a5b0-5643973a861b",
   "metadata": {},
   "outputs": [
    {
     "data": {
      "text/plain": [
       "<matplotlib.image.AxesImage at 0x7f36e45b3880>"
      ]
     },
     "execution_count": 44,
     "metadata": {},
     "output_type": "execute_result"
    },
    {
     "data": {
      "image/png": "[encoded data removed]",
      "text/plain": [
       "<Figure size 640x480 with 1 Axes>"
      ]
     },
     "metadata": {},
     "output_type": "display_data"
    }
   ],
   "source": [
    "image_scores = threedp3_likelihood_per_pixel(\n",
    "    observation, render_image(sampled_params[5]), variance, outlier_prob, outlier_volume, 4\n",
    ")\n",
    "plt.imshow(image_scores)"
   ]
  },
  {
   "cell_type": "code",
   "execution_count": null,
   "id": "16073f23-b750-4702-abed-6e278720f9f1",
   "metadata": {},
   "outputs": [],
   "source": []
  }
 ],
 "metadata": {
  "kernelspec": {
   "display_name": "Python 3 (ipykernel)",
   "language": "python",
   "name": "python3"
  },
  "language_info": {
   "codemirror_mode": {
    "name": "ipython",
    "version": 3
   },
   "file_extension": ".py",
   "mimetype": "text/x-python",
   "name": "python",
   "nbconvert_exporter": "python",
   "pygments_lexer": "ipython3",
   "version": "3.9.17"
  }
 },
 "nbformat": 4,
 "nbformat_minor": 5
}
