{
 "cells": [
  {
   "cell_type": "markdown",
   "id": "78a22a74-56b1-45d9-b6a1-17a633f6a4c5",
   "metadata": {},
   "source": [
    "# "
   ]
  },
  {
   "cell_type": "code",
   "execution_count": 1,
   "id": "a0b9feec-2513-4a8c-9976-7266568df8d2",
   "metadata": {},
   "outputs": [],
   "source": [
    "import os\n",
    "import sys\n",
    "import torch\n",
    "import matplotlib.pyplot as plt\n",
    "import numpy as np\n",
    "from tqdm.notebook import tqdm\n",
    "from dataclasses import dataclass\n",
    "\n",
    "import bayes3d as b3d\n",
    "\n",
    "need_pytorch3d=False\n",
    "try:\n",
    "    import pytorch3d as pt3d\n",
    "except ModuleNotFoundError:\n",
    "    need_pytorch3d=True"
   ]
  },
  {
   "cell_type": "code",
   "execution_count": 2,
   "id": "a655146a-e311-432b-b718-6e474644c690",
   "metadata": {},
   "outputs": [
    {
     "data": {
      "text/plain": [
       "False"
      ]
     },
     "execution_count": 2,
     "metadata": {},
     "output_type": "execute_result"
    }
   ],
   "source": [
    "need_pytorch3d"
   ]
  },
  {
   "cell_type": "code",
   "execution_count": 3,
   "id": "d611cfad-f2b0-4742-9d41-9ddff0f4d00e",
   "metadata": {},
   "outputs": [],
   "source": [
    "if need_pytorch3d:\n",
    "    if torch.__version__.startswith((\"1.13.\", \"2.0.\")) and sys.platform.startswith(\"linux\"):\n",
    "        # We try to install PyTorch3D via a released wheel.\n",
    "        pyt_version_str=torch.__version__.split(\"+\")[0].replace(\".\", \"\")\n",
    "        version_str=\"\".join([\n",
    "            f\"py3{sys.version_info.minor}_cu\",\n",
    "            torch.version.cuda.replace(\".\",\"\"),\n",
    "            f\"_pyt{pyt_version_str}\"\n",
    "        ])\n",
    "        !pip install fvcore iopath\n",
    "        !pip install --no-index --no-cache-dir pytorch3d -f https://dl.fbaipublicfiles.com/pytorch3d/packaging/wheels/{version_str}/download.html\n",
    "    else:\n",
    "        # We try to install PyTorch3D from source.\n",
    "        !pip install 'git+https://github.com/facebookresearch/pytorch3d.git@stable'"
   ]
  },
  {
   "cell_type": "code",
   "execution_count": 4,
   "id": "9676409e-21b2-4dd5-a36d-976e547e8d61",
   "metadata": {},
   "outputs": [
    {
     "data": {
      "text/plain": [
       "True"
      ]
     },
     "execution_count": 4,
     "metadata": {},
     "output_type": "execute_result"
    }
   ],
   "source": [
    "torch.cuda.is_available()"
   ]
  },
  {
   "cell_type": "code",
   "execution_count": 5,
   "id": "02bcdaa0-5ccd-406f-b10b-c226e7cfb6b2",
   "metadata": {},
   "outputs": [],
   "source": [
    "import pytorch3d as pt3d\n",
    "from pytorch3d.io import IO, load_objs_as_meshes\n",
    "from pytorch3d.structures import Meshes\n",
    "import pytorch3d.transforms as transforms\n",
    "from pytorch3d.renderer import (\n",
    "    look_at_view_transform,\n",
    "    FoVPerspectiveCameras, \n",
    "    RasterizationSettings, \n",
    "    MeshRenderer, \n",
    "    MeshRasterizer,  \n",
    "    SoftSilhouetteShader,\n",
    ")"
   ]
  },
  {
   "cell_type": "code",
   "execution_count": 6,
   "id": "d375db77-70d5-484b-87a1-d98e75e42049",
   "metadata": {},
   "outputs": [],
   "source": [
    "# Setup\n",
    "if torch.cuda.is_available():\n",
    "    device = torch.device(\"cuda:0\")\n",
    "    torch.cuda.set_device(device)\n",
    "else:\n",
    "    device = torch.device(\"cpu\")\n",
    "\n",
    "pt3dio = IO()"
   ]
  },
  {
   "cell_type": "code",
   "execution_count": 7,
   "id": "db2c369e-43cc-48e9-8ced-3987e0206b12",
   "metadata": {},
   "outputs": [
    {
     "data": {
      "text/plain": [
       "'/home/matin/bayes3d/assets'"
      ]
     },
     "execution_count": 7,
     "metadata": {},
     "output_type": "execute_result"
    }
   ],
   "source": [
    "b3d.utils.get_assets_dir()"
   ]
  },
  {
   "cell_type": "code",
   "execution_count": 8,
   "id": "aff49455-98f8-4ada-b523-c51f8076a41d",
   "metadata": {},
   "outputs": [],
   "source": [
    "def scale_and_center(mesh, scale=None):\n",
    "    verts = mesh.verts_packed()\n",
    "    center = verts.mean(0)\n",
    "    if scale is None:\n",
    "        scale = max((verts - center).abs().max(0)[0])\n",
    "    mesh.offset_verts_(-center)\n",
    "    mesh.scale_verts_((1.0 / float(scale)))"
   ]
  },
  {
   "cell_type": "code",
   "execution_count": 9,
   "id": "dc5fcb0a-e270-4027-858c-346e3ba49f90",
   "metadata": {},
   "outputs": [],
   "source": [
    "def extent(mesh):\n",
    "    verts = mesh.verts_packed()\n",
    "    return verts.max(0).values -  verts.min(0).values"
   ]
  },
  {
   "cell_type": "code",
   "execution_count": 10,
   "id": "de9a5aa5-201c-4908-8924-41945c15d92c",
   "metadata": {},
   "outputs": [],
   "source": [
    "model_dir = b3d.utils.get_assets_dir() + '/bop/ycbv/models'\n",
    "mug_mesh = pt3dio.load_mesh(model_dir + '/obj_000014.ply', include_textures=False, device=device)\n",
    "cube_mesh = load_objs_as_meshes([b3d.utils.get_assets_dir() + '/sample_objs/cube.obj'], load_textures=False, device=device)\n",
    "\n",
    "scale_and_center(mug_mesh, scale=1e2)\n",
    "scale_and_center(cube_mesh, scale=10000)"
   ]
  },
  {
   "cell_type": "code",
   "execution_count": 11,
   "id": "a6f88b72-daea-42c6-b833-0342527bcdb1",
   "metadata": {},
   "outputs": [
    {
     "data": {
      "text/plain": [
       "(tensor([1.1697, 0.9307, 0.8138], device='cuda:0'),\n",
       " tensor([1.0000e-04, 1.0000e-04, 1.0000e-04], device='cuda:0'))"
      ]
     },
     "execution_count": 11,
     "metadata": {},
     "output_type": "execute_result"
    }
   ],
   "source": [
    "extent(mug_mesh), extent(cube_mesh)"
   ]
  },
  {
   "cell_type": "code",
   "execution_count": 12,
   "id": "95b6d110-4cef-48b8-b669-bf0947db6887",
   "metadata": {},
   "outputs": [
    {
     "data": {
      "text/plain": [
       "torch.Tensor"
      ]
     },
     "execution_count": 12,
     "metadata": {},
     "output_type": "execute_result"
    }
   ],
   "source": [
    "type(extent(mug_mesh))"
   ]
  },
  {
   "cell_type": "code",
   "execution_count": 13,
   "id": "a014c555-85c6-46e7-8060-f281c59d5237",
   "metadata": {},
   "outputs": [],
   "source": [
    "@dataclass\n",
    "class SE3:\n",
    "    rot: torch.Tensor\n",
    "    tra: torch.Tensor\n",
    "\n",
    "    def __mul__(self, other):\n",
    "        new_rot = torch.matmul(self.rot, other.rot)\n",
    "        new_tra = self.tra + torch.matmul(self.rot, other.tra)\n",
    "        return SE3(new_rot, new_tra)\n",
    "\n",
    "    def inv(self):\n",
    "        rinv = torch.inverse(self.rot)\n",
    "        return SE3(rinv, -torch.matmul(rinv, self.tra))\n",
    "\n",
    "    def conj(self, other):\n",
    "        return other.inv() * self * other"
   ]
  },
  {
   "cell_type": "code",
   "execution_count": 14,
   "id": "be0b9e77-6e1d-4fdc-9f34-b4a5e5e6214a",
   "metadata": {},
   "outputs": [],
   "source": [
    "DIST = 2.7\n",
    "ELEV = 0.0 # 30\n",
    "AZIM = 0.0 \n",
    "def get_scene_transforms(obj_transforms):\n",
    "    R_0, T_0 = look_at_view_transform(dist=DIST, elev=ELEV, azim=AZIM)\n",
    "    cam_tr = SE3(R_0[0, ...].to(dtype=torch.float64), T_0[0, ...].to(dtype=torch.float64))\n",
    "    obj_tr = SE3(torch.from_numpy(np.eye(3)), torch.from_numpy(np.zeros(3)))\n",
    "    for new_tr in obj_transforms:\n",
    "        #obj_tr, cam_tr = new_tr * obj_tr, cam_tr * new_tr.conj(obj_tr)\n",
    "        obj_tr, cam_tr = obj_tr * new_tr, cam_tr * new_tr\n",
    "    return cam_tr.rot[None, ...], cam_tr.tra[None, ...]"
   ]
  },
  {
   "cell_type": "code",
   "execution_count": 15,
   "id": "15e57f58-804f-4dab-b027-4826a0b135df",
   "metadata": {},
   "outputs": [],
   "source": [
    "_obj_transforms = [ # left-handed around y\n",
    "    SE3(torch.from_numpy(np.eye(3)), torch.from_numpy(np.array([-0.2, 0.0, 0.3]))),\n",
    "    SE3(transforms.axis_angle_to_matrix(torch.from_numpy(-torch.pi/2 * np.array([1.0, 0.0, 0.0]))),\n",
    "        torch.from_numpy(np.array([0.0, 0.0, 0.0]))),\n",
    "    SE3(transforms.axis_angle_to_matrix(torch.from_numpy(torch.pi/3 * np.array([0.0, 0.0, 1.0]))),\n",
    "        torch.from_numpy(np.array([0.0, 0.0, 0.0]))),\n",
    "    #SE3(transforms.axis_angle_to_matrix(torch.from_numpy(-torch.pi/2 * np.array([1.0, 0.0, 0.0]))),\n",
    "        #torch.from_numpy(np.array([0.0, 0.0, 0.0]))),\n",
    "    #SE3(torch.from_numpy(np.eye(3)), torch.from_numpy(np.array([0.0, 0.5, 0.0]))),\n",
    "]"
   ]
  },
  {
   "cell_type": "code",
   "execution_count": 16,
   "id": "636796a2-307f-4e7c-a76d-2f369813ba32",
   "metadata": {},
   "outputs": [],
   "source": [
    "IMG_SIZE = 100\n",
    "def render_images(dists, elevs, azims): #dx, dy, theta):\n",
    "    batch_size = 1 if dists.shape == torch.Size([]) else dists.shape[0]\n",
    "    R, T = look_at_view_transform(dist=dists, elev=elevs, azim=azims, degrees=False)\n",
    "    cameras = FoVPerspectiveCameras(device=device, R=R, T=T)\n",
    "    raster_settings = RasterizationSettings(image_size=IMG_SIZE, blur_radius=0.0, faces_per_pixel=1, bin_size=0)\n",
    "    rasterizer = MeshRasterizer(cameras=cameras, raster_settings=raster_settings)\n",
    "    return rasterizer(mug_mesh.extend(batch_size)).zbuf"
   ]
  },
  {
   "cell_type": "code",
   "execution_count": 17,
   "id": "81014964-dec3-48e3-ae03-922e3d1fb43b",
   "metadata": {},
   "outputs": [
    {
     "data": {
      "text/plain": [
       "torch.Size([2, 100, 100, 1])"
      ]
     },
     "execution_count": 17,
     "metadata": {},
     "output_type": "execute_result"
    }
   ],
   "source": [
    "render_images(torch.tensor([2.7, 2.7]), \n",
    "              torch.tensor([torch.pi/2, 0.0]), \n",
    "              torch.tensor([0.0, 0.0])).shape"
   ]
  },
  {
   "cell_type": "code",
   "execution_count": 18,
   "id": "cb462d7a-4e06-49c8-ba05-57c5a8bb3a1e",
   "metadata": {},
   "outputs": [
    {
     "data": {
      "image/jpeg": "[encoded data removed]",
      "image/png": "[encoded data removed]",
      "text/plain": [
       "<PIL.Image.Image image mode=RGB size=100x100>"
      ]
     },
     "execution_count": 18,
     "metadata": {},
     "output_type": "execute_result"
    }
   ],
   "source": [
    "b3d.viz.get_depth_image(render_images(torch.tensor([2.7]),\n",
    "                                      torch.tensor([0]),\n",
    "                                      torch.tensor([1.0 * torch.pi/6])).reshape(IMG_SIZE, IMG_SIZE).cpu().numpy())"
   ]
  },
  {
   "cell_type": "code",
   "execution_count": 19,
   "id": "2a8820b7-6909-4dce-969b-c0699f3b7020",
   "metadata": {},
   "outputs": [],
   "source": [
    "DIST_MEAN = 2.7\n",
    "DIST_STD  = 2.0\n",
    "ELEV_MEAN = torch.pi\n",
    "ELEV_STD  = torch.pi/2\n",
    "AZIM_MEAN = torch.pi\n",
    "AZIM_STD  = torch.pi/2\n",
    "def generate_images(n):\n",
    "    z1, z2, z3 = torch.randn(3, n, device=device)\n",
    "    dists = DIST_MEAN + DIST_STD * z1\n",
    "    elevs = ELEV_MEAN + ELEV_STD * z2\n",
    "    azims = AZIM_MEAN + AZIM_STD * z3\n",
    "    return render_images(dists, elevs, azims)"
   ]
  },
  {
   "cell_type": "code",
   "execution_count": 20,
   "id": "17041f4e-b77e-4a16-93ad-a2bc9406d61b",
   "metadata": {},
   "outputs": [
    {
     "data": {
      "image/jpeg": "[encoded data removed]",
      "image/png": "[encoded data removed]",
      "text/plain": [
       "<PIL.Image.Image image mode=RGB size=100x100>"
      ]
     },
     "execution_count": 20,
     "metadata": {},
     "output_type": "execute_result"
    }
   ],
   "source": [
    "b3d.viz.get_depth_image(generate_images(1).reshape(IMG_SIZE, IMG_SIZE).cpu().numpy())"
   ]
  },
  {
   "cell_type": "markdown",
   "id": "e05ea981-e732-4237-b491-371689fb6db9",
   "metadata": {},
   "source": [
    "# VAE Inference"
   ]
  },
  {
   "cell_type": "code",
   "execution_count": 21,
   "id": "19af76a1-96f2-4ff4-9b1b-31f72d2b9ad0",
   "metadata": {},
   "outputs": [],
   "source": [
    "import torch.nn as nn\n",
    "from torch.optim import Adam"
   ]
  },
  {
   "cell_type": "code",
   "execution_count": 22,
   "id": "7777afed-68f2-4086-b69e-b9fe49b78328",
   "metadata": {},
   "outputs": [],
   "source": [
    "class Decoder(nn.Module):\n",
    "    def __init__(self, std: float):\n",
    "        super(Decoder, self).__init__()\n",
    "        self.std = std\n",
    "        self.pixelwise_dist = torch.distributions.normal.Normal(loc=0, scale=std)\n",
    "        \n",
    "    def forward(self, dists, elevs, azims):\n",
    "        n_batches = dists.shape[0]\n",
    "        noiseless_img = render_images(dists, elevs, azims)\n",
    "        #noise = std * torch.randn_like(noiseless_img, device=device)\n",
    "        return noiseless_img.reshape(n_batches, 1, IMG_SIZE, IMG_SIZE)\n",
    "        \n",
    "    def log_likelihood(self, gt_imgs, recon_imgs):\n",
    "        noises = recon_imgs - gt_imgs\n",
    "        return self.pixelwise_dist.log_prob(noises).sum(axis=(1, 2, 3))"
   ]
  },
  {
   "cell_type": "code",
   "execution_count": 23,
   "id": "5033fc9e-a55b-483b-9859-45d78e0a7298",
   "metadata": {},
   "outputs": [],
   "source": [
    "class Encoder(nn.Module):\n",
    "    def __init__(self):\n",
    "        super(Encoder, self).__init__()\n",
    "        self.conv1 = nn.Conv2d(in_channels=1, out_channels=64, kernel_size=10, stride=3)\n",
    "        self.conv2 = nn.Conv2d(in_channels=64, out_channels=128, kernel_size=5, stride=2)\n",
    "        self.linear1 = nn.Linear(1152, 1024)\n",
    "        self.linear2 = nn.Linear(1024, 1024)\n",
    "        self.linear3 = nn.Linear(1024, 576)\n",
    "        self.linear4 = nn.Linear(576, 192)\n",
    "        self.linear5 = nn.Linear(192, 24)\n",
    "        self.linear6 = nn.Linear(24, 6)\n",
    "\n",
    "        self.relu = nn.ReLU()\n",
    "        self.softplus = nn.Softplus()\n",
    "        self.maxpool1 = nn.MaxPool2d(kernel_size=3, stride=2)\n",
    "        self.maxpool2 = nn.MaxPool2d(kernel_size=2, stride=2)\n",
    "        \n",
    "    def forward(self, imgs):\n",
    "        x = self.conv1(imgs)\n",
    "        x = self.relu(x)\n",
    "        x = self.maxpool1(x)\n",
    "        \n",
    "        x = self.conv2(x)\n",
    "        x = self.relu(x)\n",
    "        x = self.maxpool2(x)\n",
    "        \n",
    "        x = self.linear1(x.reshape(imgs.shape[0], -1))\n",
    "        x = self.relu(x)\n",
    "        \n",
    "        x = self.linear2(x)\n",
    "        x = self.relu(x)\n",
    "        \n",
    "        x = self.linear3(x)\n",
    "        x = self.relu(x)\n",
    "\n",
    "        x = self.linear4(x)\n",
    "        x = self.relu(x)\n",
    "\n",
    "        x = self.linear5(x)\n",
    "        x = self.relu(x)\n",
    "\n",
    "        x = self.linear6(x)\n",
    "        means, vars = x[:3], self.softplus(x[3:])\n",
    "        return torch.cat((means, vars))"
   ]
  },
  {
   "cell_type": "code",
   "execution_count": 24,
   "id": "5457c50c-d8a9-45e7-8935-7118768237fa",
   "metadata": {},
   "outputs": [],
   "source": [
    "class VAE(nn.Module):\n",
    "    def __init__(self, encoder, decoder):\n",
    "        super(VAE, self).__init__()\n",
    "        self.encoder = encoder\n",
    "        self.decoder = decoder\n",
    "\n",
    "    def sample_scene_params(self, latentss):\n",
    "        batch_size = latentss.shape[0]\n",
    "        meanss, stdevss = latentss[:, :3], latentss[:, 3:]\n",
    "        z1, z2, z3 = torch.randn(3, batch_size, device=device)\n",
    "        dists = meanss[:, 0] + stdevss[:, 0]*z1\n",
    "        elevs = meanss[:, 1] + stdevss[:, 1]*z2\n",
    "        azims = meanss[:, 2] + stdevss[:, 2]*z3\n",
    "        return dists, elevs, azims\n",
    " \n",
    "    def forward(self, imgs):\n",
    "        latentss = self.encoder(imgs)\n",
    "        dists, elevs, azims = self.sample_scene_params(latentss)\n",
    "        reconstructions = self.decoder(dists, elevs, azims)\n",
    "        return reconstructions, latentss"
   ]
  },
  {
   "cell_type": "code",
   "execution_count": 25,
   "id": "aa1ba9fd-39ea-4835-8e42-2ba7d837c50e",
   "metadata": {},
   "outputs": [],
   "source": [
    "def gaussian_kl(mean1, std1, mean2, std2): # KL(N(mean1, std1**2) || N(mean2, std2**2))\n",
    "    var1, var2 = std1**2, std2**2\n",
    "    return 1/2 * (var1/var2 - 1 + torch.log(var2) - torch.log(var1) + (mean1 - mean2)**2/var2)"
   ]
  },
  {
   "cell_type": "code",
   "execution_count": 26,
   "id": "6643980a-24b8-4824-ba5e-9145f7f633a0",
   "metadata": {},
   "outputs": [],
   "source": [
    "def loss_fn(vae, gt_imgs, recon_imgs, latentss):\n",
    "    recon_loss = -vae.decoder.log_likelihood(gt_imgs, recon_imgs)\n",
    "    means, stdevs = latentss[:, :3], latentss[:, 3:]\n",
    "    prior_loss = gaussian_kl(means, stdevs, \n",
    "                             torch.tensor([DIST_MEAN, ELEV_MEAN, AZIM_MEAN], device=device),\n",
    "                             torch.tensor([DIST_STD, ELEV_STD, AZIM_STD], device=device)).sum()\n",
    "    return (recon_loss + prior_loss).sum()"
   ]
  },
  {
   "cell_type": "code",
   "execution_count": 36,
   "id": "c5b25dca-6a9d-49b6-a2cb-59808646b11f",
   "metadata": {},
   "outputs": [],
   "source": [
    "N = 30000"
   ]
  },
  {
   "cell_type": "code",
   "execution_count": 37,
   "id": "f59022ea-a7c7-4fe1-a1ac-5c9714e86e74",
   "metadata": {},
   "outputs": [
    {
     "ename": "OutOfMemoryError",
     "evalue": "CUDA out of memory. Tried to allocate 2.00 MiB (GPU 0; 15.77 GiB total capacity; 12.66 GiB already allocated; 2.12 MiB free; 13.84 GiB reserved in total by PyTorch) If reserved memory is >> allocated memory try setting max_split_size_mb to avoid fragmentation.  See documentation for Memory Management and PYTORCH_CUDA_ALLOC_CONF",
     "output_type": "error",
     "traceback": [
      "\u001b[0;31m---------------------------------------------------------------------------\u001b[0m",
      "\u001b[0;31mOutOfMemoryError\u001b[0m                          Traceback (most recent call last)",
      "Cell \u001b[0;32mIn[37], line 1\u001b[0m\n\u001b[0;32m----> 1\u001b[0m silly_dataset \u001b[38;5;241m=\u001b[39m \u001b[43mgenerate_images\u001b[49m\u001b[43m(\u001b[49m\u001b[43mN\u001b[49m\u001b[43m)\u001b[49m\n",
      "Cell \u001b[0;32mIn[19], line 12\u001b[0m, in \u001b[0;36mgenerate_images\u001b[0;34m(n)\u001b[0m\n\u001b[1;32m     10\u001b[0m elevs \u001b[38;5;241m=\u001b[39m ELEV_MEAN \u001b[38;5;241m+\u001b[39m ELEV_STD \u001b[38;5;241m*\u001b[39m z2\n\u001b[1;32m     11\u001b[0m azims \u001b[38;5;241m=\u001b[39m AZIM_MEAN \u001b[38;5;241m+\u001b[39m AZIM_STD \u001b[38;5;241m*\u001b[39m z3\n\u001b[0;32m---> 12\u001b[0m \u001b[38;5;28;01mreturn\u001b[39;00m \u001b[43mrender_images\u001b[49m\u001b[43m(\u001b[49m\u001b[43mdists\u001b[49m\u001b[43m,\u001b[49m\u001b[43m \u001b[49m\u001b[43melevs\u001b[49m\u001b[43m,\u001b[49m\u001b[43m \u001b[49m\u001b[43mazims\u001b[49m\u001b[43m)\u001b[49m\n",
      "Cell \u001b[0;32mIn[16], line 8\u001b[0m, in \u001b[0;36mrender_images\u001b[0;34m(dists, elevs, azims)\u001b[0m\n\u001b[1;32m      6\u001b[0m raster_settings \u001b[38;5;241m=\u001b[39m RasterizationSettings(image_size\u001b[38;5;241m=\u001b[39mIMG_SIZE, blur_radius\u001b[38;5;241m=\u001b[39m\u001b[38;5;241m0.0\u001b[39m, faces_per_pixel\u001b[38;5;241m=\u001b[39m\u001b[38;5;241m1\u001b[39m, bin_size\u001b[38;5;241m=\u001b[39m\u001b[38;5;241m0\u001b[39m)\n\u001b[1;32m      7\u001b[0m rasterizer \u001b[38;5;241m=\u001b[39m MeshRasterizer(cameras\u001b[38;5;241m=\u001b[39mcameras, raster_settings\u001b[38;5;241m=\u001b[39mraster_settings)\n\u001b[0;32m----> 8\u001b[0m \u001b[38;5;28;01mreturn\u001b[39;00m rasterizer(\u001b[43mmug_mesh\u001b[49m\u001b[38;5;241;43m.\u001b[39;49m\u001b[43mextend\u001b[49m\u001b[43m(\u001b[49m\u001b[43mbatch_size\u001b[49m\u001b[43m)\u001b[49m)\u001b[38;5;241m.\u001b[39mzbuf\n",
      "File \u001b[0;32m/opt/conda/envs/bayes3d/lib/python3.9/site-packages/pytorch3d/structures/meshes.py:1522\u001b[0m, in \u001b[0;36mMeshes.extend\u001b[0;34m(self, N)\u001b[0m\n\u001b[1;32m   1520\u001b[0m \u001b[38;5;28;01mfor\u001b[39;00m verts, faces \u001b[38;5;129;01min\u001b[39;00m \u001b[38;5;28mzip\u001b[39m(\u001b[38;5;28mself\u001b[39m\u001b[38;5;241m.\u001b[39mverts_list(), \u001b[38;5;28mself\u001b[39m\u001b[38;5;241m.\u001b[39mfaces_list()):\n\u001b[1;32m   1521\u001b[0m     new_verts_list\u001b[38;5;241m.\u001b[39mextend(verts\u001b[38;5;241m.\u001b[39mclone() \u001b[38;5;28;01mfor\u001b[39;00m _ \u001b[38;5;129;01min\u001b[39;00m \u001b[38;5;28mrange\u001b[39m(N))\n\u001b[0;32m-> 1522\u001b[0m     \u001b[43mnew_faces_list\u001b[49m\u001b[38;5;241;43m.\u001b[39;49m\u001b[43mextend\u001b[49m\u001b[43m(\u001b[49m\u001b[43mfaces\u001b[49m\u001b[38;5;241;43m.\u001b[39;49m\u001b[43mclone\u001b[49m\u001b[43m(\u001b[49m\u001b[43m)\u001b[49m\u001b[43m \u001b[49m\u001b[38;5;28;43;01mfor\u001b[39;49;00m\u001b[43m \u001b[49m\u001b[43m_\u001b[49m\u001b[43m \u001b[49m\u001b[38;5;129;43;01min\u001b[39;49;00m\u001b[43m \u001b[49m\u001b[38;5;28;43mrange\u001b[39;49m\u001b[43m(\u001b[49m\u001b[43mN\u001b[49m\u001b[43m)\u001b[49m\u001b[43m)\u001b[49m\n\u001b[1;32m   1524\u001b[0m tex \u001b[38;5;241m=\u001b[39m \u001b[38;5;28;01mNone\u001b[39;00m\n\u001b[1;32m   1525\u001b[0m \u001b[38;5;28;01mif\u001b[39;00m \u001b[38;5;28mself\u001b[39m\u001b[38;5;241m.\u001b[39mtextures \u001b[38;5;129;01mis\u001b[39;00m \u001b[38;5;129;01mnot\u001b[39;00m \u001b[38;5;28;01mNone\u001b[39;00m:\n",
      "File \u001b[0;32m/opt/conda/envs/bayes3d/lib/python3.9/site-packages/pytorch3d/structures/meshes.py:1522\u001b[0m, in \u001b[0;36m<genexpr>\u001b[0;34m(.0)\u001b[0m\n\u001b[1;32m   1520\u001b[0m \u001b[38;5;28;01mfor\u001b[39;00m verts, faces \u001b[38;5;129;01min\u001b[39;00m \u001b[38;5;28mzip\u001b[39m(\u001b[38;5;28mself\u001b[39m\u001b[38;5;241m.\u001b[39mverts_list(), \u001b[38;5;28mself\u001b[39m\u001b[38;5;241m.\u001b[39mfaces_list()):\n\u001b[1;32m   1521\u001b[0m     new_verts_list\u001b[38;5;241m.\u001b[39mextend(verts\u001b[38;5;241m.\u001b[39mclone() \u001b[38;5;28;01mfor\u001b[39;00m _ \u001b[38;5;129;01min\u001b[39;00m \u001b[38;5;28mrange\u001b[39m(N))\n\u001b[0;32m-> 1522\u001b[0m     new_faces_list\u001b[38;5;241m.\u001b[39mextend(\u001b[43mfaces\u001b[49m\u001b[38;5;241;43m.\u001b[39;49m\u001b[43mclone\u001b[49m\u001b[43m(\u001b[49m\u001b[43m)\u001b[49m \u001b[38;5;28;01mfor\u001b[39;00m _ \u001b[38;5;129;01min\u001b[39;00m \u001b[38;5;28mrange\u001b[39m(N))\n\u001b[1;32m   1524\u001b[0m tex \u001b[38;5;241m=\u001b[39m \u001b[38;5;28;01mNone\u001b[39;00m\n\u001b[1;32m   1525\u001b[0m \u001b[38;5;28;01mif\u001b[39;00m \u001b[38;5;28mself\u001b[39m\u001b[38;5;241m.\u001b[39mtextures \u001b[38;5;129;01mis\u001b[39;00m \u001b[38;5;129;01mnot\u001b[39;00m \u001b[38;5;28;01mNone\u001b[39;00m:\n",
      "\u001b[0;31mOutOfMemoryError\u001b[0m: CUDA out of memory. Tried to allocate 2.00 MiB (GPU 0; 15.77 GiB total capacity; 12.66 GiB already allocated; 2.12 MiB free; 13.84 GiB reserved in total by PyTorch) If reserved memory is >> allocated memory try setting max_split_size_mb to avoid fragmentation.  See documentation for Memory Management and PYTORCH_CUDA_ALLOC_CONF"
     ]
    }
   ],
   "source": [
    "silly_dataset = generate_images(N)"
   ]
  },
  {
   "cell_type": "code",
   "execution_count": null,
   "id": "6ef50967-84cc-4ce3-8343-7b22096c423f",
   "metadata": {},
   "outputs": [],
   "source": [
    "silly_dataset = silly_dataset.reshape([N, 1, 100, 100])"
   ]
  },
  {
   "cell_type": "code",
   "execution_count": null,
   "id": "93f8d7ae-65b5-465d-ad8c-b4a7da91b906",
   "metadata": {},
   "outputs": [],
   "source": [
    "vae = VAE(Encoder(), Decoder(std=0.05)).to(device)"
   ]
  },
  {
   "cell_type": "code",
   "execution_count": null,
   "id": "6b173ddb-fb6c-42d9-be05-a0132fdbebda",
   "metadata": {},
   "outputs": [],
   "source": [
    "optimizer = Adam(vae.parameters(), lr=1e-9)"
   ]
  },
  {
   "cell_type": "code",
   "execution_count": 38,
   "id": "db8b83be-5d03-46d3-9cfb-9db4c5a80866",
   "metadata": {},
   "outputs": [],
   "source": [
    "BATCH_SIZE = 1000\n",
    "assert N % BATCH_SIZE == 0\n",
    "n_batches = N // BATCH_SIZE"
   ]
  },
  {
   "cell_type": "code",
   "execution_count": 34,
   "id": "f4297c81-8b40-4a3f-aca4-e7d6f810eaaa",
   "metadata": {},
   "outputs": [
    {
     "name": "stdout",
     "output_type": "stream",
     "text": [
      "\tEpoch 1 complete! \tAverage Loss:  3786908.608\n",
      "\tEpoch 2 complete! \tAverage Loss:  3634465.664\n",
      "\tEpoch 3 complete! \tAverage Loss:  3668520.384\n",
      "\tEpoch 4 complete! \tAverage Loss:  3700517.824\n",
      "\tEpoch 5 complete! \tAverage Loss:  3752207.616\n",
      "\tEpoch 6 complete! \tAverage Loss:  3732335.68\n",
      "\tEpoch 7 complete! \tAverage Loss:  3651687.872\n",
      "\tEpoch 8 complete! \tAverage Loss:  3699321.984\n",
      "\tEpoch 9 complete! \tAverage Loss:  3710137.792\n",
      "\tEpoch 10 complete! \tAverage Loss:  3684436.224\n"
     ]
    }
   ],
   "source": [
    "losses = []\n",
    "vae.train()\n",
    "\n",
    "for epoch in range(10):\n",
    "    overall_loss = 0\n",
    "\n",
    "    batch_perm = np.random.permutation(1000)\n",
    "    \n",
    "    for batch_idx in range(1, 6):\n",
    "        batch_slice = batch_perm[(batch_idx-1)*200:batch_idx*200]\n",
    "        batch = silly_dataset[batch_slice, :, :, :]\n",
    "\n",
    "        optimizer.zero_grad()\n",
    "    \n",
    "        reconstructions, latentss = vae(batch)\n",
    "        loss = loss_fn(vae, batch, reconstructions, latentss)\n",
    "        \n",
    "        overall_loss += loss.item()\n",
    "        \n",
    "        loss.backward()\n",
    "        optimizer.step()\n",
    "\n",
    "    losses.append(overall_loss / 1000)\n",
    "    \n",
    "    print(\"\\tEpoch\", epoch + 1, \"complete!\", \"\\tAverage Loss: \", losses[-1])"
   ]
  },
  {
   "cell_type": "code",
   "execution_count": 35,
   "id": "f603f96c-0baa-4119-bb56-807ffde5f4dd",
   "metadata": {},
   "outputs": [
    {
     "data": {
      "text/plain": [
       "[<matplotlib.lines.Line2D at 0x7f17750c3c40>]"
      ]
     },
     "execution_count": 35,
     "metadata": {},
     "output_type": "execute_result"
    },
    {
     "data": {
      "image/png": "[encoded data removed]",
      "text/plain": [
       "<Figure size 640x480 with 1 Axes>"
      ]
     },
     "metadata": {},
     "output_type": "display_data"
    }
   ],
   "source": [
    "plt.plot(losses)"
   ]
  },
  {
   "cell_type": "code",
   "execution_count": null,
   "id": "4c393d19-5b2d-40b7-9280-3f5ccf31ce92",
   "metadata": {},
   "outputs": [],
   "source": []
  }
 ],
 "metadata": {
  "kernelspec": {
   "display_name": "Python 3 (ipykernel)",
   "language": "python",
   "name": "python3"
  },
  "language_info": {
   "codemirror_mode": {
    "name": "ipython",
    "version": 3
   },
   "file_extension": ".py",
   "mimetype": "text/x-python",
   "name": "python",
   "nbconvert_exporter": "python",
   "pygments_lexer": "ipython3",
   "version": "3.9.17"
  }
 },
 "nbformat": 4,
 "nbformat_minor": 5
}
