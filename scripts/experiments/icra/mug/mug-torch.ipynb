{
 "cells": [
  {
   "cell_type": "markdown",
   "id": "78a22a74-56b1-45d9-b6a1-17a633f6a4c5",
   "metadata": {},
   "source": [
    "# "
   ]
  },
  {
   "cell_type": "code",
   "execution_count": 1,
   "id": "a0b9feec-2513-4a8c-9976-7266568df8d2",
   "metadata": {},
   "outputs": [],
   "source": [
    "import os\n",
    "import sys\n",
    "import gc\n",
    "import torch\n",
    "import matplotlib.pyplot as plt\n",
    "import numpy as np\n",
    "from tqdm.notebook import tqdm\n",
    "from dataclasses import dataclass\n",
    "\n",
    "import bayes3d as b3d\n",
    "\n",
    "need_pytorch3d=False\n",
    "try:\n",
    "    import pytorch3d as pt3d\n",
    "except ModuleNotFoundError:\n",
    "    need_pytorch3d=True"
   ]
  },
  {
   "cell_type": "code",
   "execution_count": 2,
   "id": "a655146a-e311-432b-b718-6e474644c690",
   "metadata": {},
   "outputs": [
    {
     "data": {
      "text/plain": [
       "False"
      ]
     },
     "execution_count": 2,
     "metadata": {},
     "output_type": "execute_result"
    }
   ],
   "source": [
    "need_pytorch3d"
   ]
  },
  {
   "cell_type": "code",
   "execution_count": 3,
   "id": "d611cfad-f2b0-4742-9d41-9ddff0f4d00e",
   "metadata": {},
   "outputs": [],
   "source": [
    "if need_pytorch3d:\n",
    "    if torch.__version__.startswith((\"1.13.\", \"2.0.\")) and sys.platform.startswith(\"linux\"):\n",
    "        # We try to install PyTorch3D via a released wheel.\n",
    "        pyt_version_str=torch.__version__.split(\"+\")[0].replace(\".\", \"\")\n",
    "        version_str=\"\".join([\n",
    "            f\"py3{sys.version_info.minor}_cu\",\n",
    "            torch.version.cuda.replace(\".\",\"\"),\n",
    "            f\"_pyt{pyt_version_str}\"\n",
    "        ])\n",
    "        !pip install fvcore iopath\n",
    "        !pip install --no-index --no-cache-dir pytorch3d -f https://dl.fbaipublicfiles.com/pytorch3d/packaging/wheels/{version_str}/download.html\n",
    "    else:\n",
    "        # We try to install PyTorch3D from source.\n",
    "        !pip install 'git+https://github.com/facebookresearch/pytorch3d.git@stable'"
   ]
  },
  {
   "cell_type": "code",
   "execution_count": 4,
   "id": "9676409e-21b2-4dd5-a36d-976e547e8d61",
   "metadata": {},
   "outputs": [
    {
     "data": {
      "text/plain": [
       "True"
      ]
     },
     "execution_count": 4,
     "metadata": {},
     "output_type": "execute_result"
    }
   ],
   "source": [
    "torch.cuda.is_available()"
   ]
  },
  {
   "cell_type": "code",
   "execution_count": 5,
   "id": "02bcdaa0-5ccd-406f-b10b-c226e7cfb6b2",
   "metadata": {},
   "outputs": [],
   "source": [
    "import pytorch3d as pt3d\n",
    "from pytorch3d.io import IO, load_objs_as_meshes\n",
    "from pytorch3d.structures import Meshes\n",
    "import pytorch3d.transforms as transforms\n",
    "from pytorch3d.renderer import (\n",
    "    look_at_view_transform,\n",
    "    FoVPerspectiveCameras, \n",
    "    RasterizationSettings, \n",
    "    MeshRenderer, \n",
    "    MeshRasterizer,  \n",
    "    SoftSilhouetteShader,\n",
    ")"
   ]
  },
  {
   "cell_type": "code",
   "execution_count": 6,
   "id": "d375db77-70d5-484b-87a1-d98e75e42049",
   "metadata": {},
   "outputs": [],
   "source": [
    "# Setup\n",
    "if torch.cuda.is_available():\n",
    "    device = torch.device(\"cuda:0\")\n",
    "    torch.cuda.set_device(device)\n",
    "else:\n",
    "    device = torch.device(\"cpu\")\n",
    "\n",
    "pt3dio = IO()"
   ]
  },
  {
   "cell_type": "code",
   "execution_count": 7,
   "id": "db2c369e-43cc-48e9-8ced-3987e0206b12",
   "metadata": {},
   "outputs": [
    {
     "data": {
      "text/plain": [
       "'/home/matin/bayes3d/assets'"
      ]
     },
     "execution_count": 7,
     "metadata": {},
     "output_type": "execute_result"
    }
   ],
   "source": [
    "b3d.utils.get_assets_dir()"
   ]
  },
  {
   "cell_type": "code",
   "execution_count": 8,
   "id": "aff49455-98f8-4ada-b523-c51f8076a41d",
   "metadata": {},
   "outputs": [],
   "source": [
    "def scale_and_center(mesh, scale=None):\n",
    "    verts = mesh.verts_packed()\n",
    "    center = verts.mean(0)\n",
    "    if scale is None:\n",
    "        scale = max((verts - center).abs().max(0)[0])\n",
    "    mesh.offset_verts_(-center)\n",
    "    mesh.scale_verts_((1.0 / float(scale)))"
   ]
  },
  {
   "cell_type": "code",
   "execution_count": 9,
   "id": "dc5fcb0a-e270-4027-858c-346e3ba49f90",
   "metadata": {},
   "outputs": [],
   "source": [
    "def extent(mesh):\n",
    "    verts = mesh.verts_packed()\n",
    "    return verts.max(0).values -  verts.min(0).values"
   ]
  },
  {
   "cell_type": "code",
   "execution_count": 10,
   "id": "de9a5aa5-201c-4908-8924-41945c15d92c",
   "metadata": {},
   "outputs": [],
   "source": [
    "model_dir = b3d.utils.get_assets_dir() + '/bop/ycbv/models'\n",
    "mug_mesh = pt3dio.load_mesh(model_dir + '/obj_000014.ply', include_textures=False, device=device)\n",
    "cube_mesh = load_objs_as_meshes([b3d.utils.get_assets_dir() + '/sample_objs/cube.obj'], load_textures=False, device=device)\n",
    "\n",
    "scale_and_center(mug_mesh, scale=1e2)\n",
    "scale_and_center(cube_mesh, scale=10000)"
   ]
  },
  {
   "cell_type": "code",
   "execution_count": 11,
   "id": "a014c555-85c6-46e7-8060-f281c59d5237",
   "metadata": {},
   "outputs": [],
   "source": [
    "@dataclass\n",
    "class SE3:\n",
    "    rot: torch.Tensor\n",
    "    tra: torch.Tensor\n",
    "\n",
    "    def __mul__(self, other):\n",
    "        new_rot = torch.matmul(self.rot, other.rot)\n",
    "        new_tra = self.tra + torch.matmul(self.rot, other.tra)\n",
    "        return SE3(new_rot, new_tra)\n",
    "\n",
    "    def inv(self):\n",
    "        rinv = torch.inverse(self.rot)\n",
    "        return SE3(rinv, -torch.matmul(rinv, self.tra))\n",
    "\n",
    "    def conj(self, other):\n",
    "        return other.inv() * self * other"
   ]
  },
  {
   "cell_type": "code",
   "execution_count": 12,
   "id": "be0b9e77-6e1d-4fdc-9f34-b4a5e5e6214a",
   "metadata": {},
   "outputs": [],
   "source": [
    "DIST = 2.7\n",
    "ELEV = 0.0 # 30\n",
    "AZIM = 0.0 \n",
    "def get_scene_transforms(obj_transforms):\n",
    "    R_0, T_0 = look_at_view_transform(dist=DIST, elev=ELEV, azim=AZIM)\n",
    "    cam_tr = SE3(R_0[0, ...].to(dtype=torch.float64), T_0[0, ...].to(dtype=torch.float64))\n",
    "    obj_tr = SE3(torch.from_numpy(np.eye(3)), torch.from_numpy(np.zeros(3)))\n",
    "    for new_tr in obj_transforms:\n",
    "        #obj_tr, cam_tr = new_tr * obj_tr, cam_tr * new_tr.conj(obj_tr)\n",
    "        obj_tr, cam_tr = obj_tr * new_tr, cam_tr * new_tr\n",
    "    return cam_tr.rot[None, ...], cam_tr.tra[None, ...]"
   ]
  },
  {
   "cell_type": "code",
   "execution_count": 13,
   "id": "15e57f58-804f-4dab-b027-4826a0b135df",
   "metadata": {},
   "outputs": [],
   "source": [
    "# _obj_transforms = [ # left-handed around y\n",
    "#     SE3(torch.from_numpy(np.eye(3)), torch.from_numpy(np.array([-0.2, 0.0, 0.3]))),\n",
    "#     SE3(transforms.axis_angle_to_matrix(torch.from_numpy(-torch.pi/2 * np.array([1.0, 0.0, 0.0]))),\n",
    "#         torch.from_numpy(np.array([0.0, 0.0, 0.0]))),\n",
    "#     SE3(transforms.axis_angle_to_matrix(torch.from_numpy(torch.pi/3 * np.array([0.0, 0.0, 1.0]))),\n",
    "#         torch.from_numpy(np.array([0.0, 0.0, 0.0]))),\n",
    "#     #SE3(transforms.axis_angle_to_matrix(torch.from_numpy(-torch.pi/2 * np.array([1.0, 0.0, 0.0]))),\n",
    "#         #torch.from_numpy(np.array([0.0, 0.0, 0.0]))),\n",
    "#     #SE3(torch.from_numpy(np.eye(3)), torch.from_numpy(np.array([0.0, 0.5, 0.0]))),\n",
    "# ]"
   ]
  },
  {
   "cell_type": "code",
   "execution_count": 14,
   "id": "636796a2-307f-4e7c-a76d-2f369813ba32",
   "metadata": {},
   "outputs": [],
   "source": [
    "IMG_SIZE = 100\n",
    "def render_images(dists, elevs, azims): #dx, dy, theta):\n",
    "    batch_size = 1 if dists.shape == torch.Size([]) else dists.shape[0]\n",
    "    R, T = look_at_view_transform(dist=dists, elev=elevs, azim=azims, degrees=False)\n",
    "    cameras = FoVPerspectiveCameras(device=device, R=R, T=T)\n",
    "    raster_settings = RasterizationSettings(image_size=IMG_SIZE, blur_radius=0.0, faces_per_pixel=1, bin_size=0)\n",
    "    rasterizer = MeshRasterizer(cameras=cameras, raster_settings=raster_settings)\n",
    "    return rasterizer(mug_mesh.extend(batch_size), eps=1e-8).zbuf"
   ]
  },
  {
   "cell_type": "code",
   "execution_count": 31,
   "id": "cb462d7a-4e06-49c8-ba05-57c5a8bb3a1e",
   "metadata": {},
   "outputs": [
    {
     "data": {
      "image/jpeg": "[encoded data removed]",
      "image/png": "[encoded data removed]",
      "text/plain": [
       "<PIL.Image.Image image mode=RGB size=100x100>"
      ]
     },
     "execution_count": 31,
     "metadata": {},
     "output_type": "execute_result"
    }
   ],
   "source": [
    "img0 = render_images(torch.tensor([2.7]),\n",
    "                    torch.tensor([100]),\n",
    "                    torch.tensor([100.0]))\n",
    "b3d.viz.get_depth_image(img.reshape(IMG_SIZE, IMG_SIZE).cpu().numpy())"
   ]
  },
  {
   "cell_type": "code",
   "execution_count": 16,
   "id": "2a8820b7-6909-4dce-969b-c0699f3b7020",
   "metadata": {},
   "outputs": [],
   "source": [
    "DIST_MEAN = 2.7\n",
    "DIST_STD  = 2.0\n",
    "ELEV_MEAN = torch.pi\n",
    "ELEV_STD  = torch.pi/2\n",
    "AZIM_MEAN = torch.pi\n",
    "AZIM_STD  = torch.pi/2\n",
    "def generate_images(n):\n",
    "    z1, z2, z3 = torch.randn(3, n, device=device)\n",
    "    dists = DIST_MEAN + DIST_STD * z1\n",
    "    elevs = ELEV_MEAN + ELEV_STD * z2\n",
    "    azims = AZIM_MEAN + AZIM_STD * z3\n",
    "    return render_images(dists, elevs, azims)"
   ]
  },
  {
   "cell_type": "code",
   "execution_count": 73,
   "id": "a8d5f78c-ea00-4c79-87d8-6544881f34fa",
   "metadata": {},
   "outputs": [],
   "source": [
    "img0 = render_images(torch.tensor([2.7]),\n",
    "                    torch.tensor([100]),\n",
    "                    torch.tensor([100.0]))\n",
    "\n",
    "parameters = torch.tensor([2.1, 99.0, 98.0], requires_grad=True, device=device)"
   ]
  },
  {
   "cell_type": "code",
   "execution_count": 74,
   "id": "93a9d5d3-d11c-41a7-bdb3-52f1e1156fb9",
   "metadata": {},
   "outputs": [],
   "source": [
    "optimizer = torch.optim.Adam([parameters], betas=(0.9, 0.999), lr=1e-2)"
   ]
  },
  {
   "cell_type": "code",
   "execution_count": 75,
   "id": "f498372e-fa95-4e71-be1d-9cd7cb86f0b4",
   "metadata": {},
   "outputs": [],
   "source": [
    "img1 = render_images(parameters[0], parameters[1], parameters[2])"
   ]
  },
  {
   "cell_type": "code",
   "execution_count": 76,
   "id": "0a4bc449-a0b7-41b5-997b-9357238265e7",
   "metadata": {},
   "outputs": [],
   "source": [
    "loss = (img1 - img0).pow(2).sum()\n",
    "losses = []"
   ]
  },
  {
   "cell_type": "code",
   "execution_count": 77,
   "id": "e8b2036c-b56f-417e-b78d-6db25136adfd",
   "metadata": {},
   "outputs": [
    {
     "data": {
      "application/vnd.jupyter.widget-view+json": {
       "model_id": "6258af13954146f1a99e7af1f3cb126a",
       "version_major": 2,
       "version_minor": 0
      },
      "text/plain": [
       "  0%|          | 0/100 [00:00<?, ?it/s]"
      ]
     },
     "metadata": {},
     "output_type": "display_data"
    }
   ],
   "source": [
    "for _ in tqdm(range(100)):\n",
    "    optimizer.zero_grad()\n",
    "    img1 = render_images(parameters[0], parameters[1], parameters[2])\n",
    "    loss = (img1 - img0).pow(2).sum()\n",
    "    loss.backward()\n",
    "    losses.append(loss.item())\n",
    "    optimizer.step()"
   ]
  },
  {
   "cell_type": "code",
   "execution_count": 78,
   "id": "05a23a7e-149a-4202-b60f-83a4079dc4f1",
   "metadata": {},
   "outputs": [
    {
     "data": {
      "text/plain": [
       "[<matplotlib.lines.Line2D at 0x7f1e3034dd00>]"
      ]
     },
     "execution_count": 78,
     "metadata": {},
     "output_type": "execute_result"
    },
    {
     "data": {
      "image/png": "[encoded data removed]",
      "text/plain": [
       "<Figure size 640x480 with 1 Axes>"
      ]
     },
     "metadata": {},
     "output_type": "display_data"
    }
   ],
   "source": [
    "plt.plot(losses)"
   ]
  },
  {
   "cell_type": "code",
   "execution_count": 79,
   "id": "ba4b970d-385e-443a-9d62-08205d8d354c",
   "metadata": {},
   "outputs": [
    {
     "data": {
      "text/plain": [
       "tensor([ 0.7385, 97.9504, 97.9485], device='cuda:0', requires_grad=True)"
      ]
     },
     "execution_count": 79,
     "metadata": {},
     "output_type": "execute_result"
    }
   ],
   "source": [
    "parameters"
   ]
  },
  {
   "cell_type": "code",
   "execution_count": 17,
   "id": "17041f4e-b77e-4a16-93ad-a2bc9406d61b",
   "metadata": {},
   "outputs": [],
   "source": [
    "#b3d.viz.get_depth_image(generate_images(100).reshape(IMG_SIZE, IMG_SIZE).cpu().numpy())"
   ]
  },
  {
   "cell_type": "markdown",
   "id": "e05ea981-e732-4237-b491-371689fb6db9",
   "metadata": {},
   "source": [
    "# VAE Inference"
   ]
  },
  {
   "cell_type": "code",
   "execution_count": 18,
   "id": "19af76a1-96f2-4ff4-9b1b-31f72d2b9ad0",
   "metadata": {},
   "outputs": [],
   "source": [
    "import torch.nn as nn\n",
    "from torch.optim import Adam\n",
    "from torch import autograd"
   ]
  },
  {
   "cell_type": "code",
   "execution_count": 19,
   "id": "7777afed-68f2-4086-b69e-b9fe49b78328",
   "metadata": {},
   "outputs": [],
   "source": [
    "class Decoder(nn.Module):\n",
    "    def __init__(self, std: float):\n",
    "        super(Decoder, self).__init__()\n",
    "        self.std = std\n",
    "        \n",
    "    def forward(self, dists_normalized, elevs_normalized, azims_normalized):\n",
    "        dists = DIST_MEAN + DIST_STD * dists_normalized\n",
    "        elevs = ELEV_MEAN + ELEV_STD * elevs_normalized\n",
    "        azims = AZIM_MEAN + AZIM_STD * azims_normalized\n",
    "        n_batches = dists.shape[0]\n",
    "        noiseless_img = render_images(dists, elevs, azims)\n",
    "        #noise = std * torch.randn_like(noiseless_img, device=device)\n",
    "        return noiseless_img.reshape(n_batches, 1, IMG_SIZE, IMG_SIZE)\n",
    "        \n",
    "    def log_likelihood(self, gt_imgs, recon_imgs):\n",
    "        noises = recon_imgs - gt_imgs\n",
    "        pixelwise_dist = torch.distributions.normal.Normal(loc=0, scale=self.std)\n",
    "        return pixelwise_dist.log_prob(noises).sum(axis=(1, 2, 3))"
   ]
  },
  {
   "cell_type": "code",
   "execution_count": 20,
   "id": "5033fc9e-a55b-483b-9859-45d78e0a7298",
   "metadata": {},
   "outputs": [],
   "source": [
    "class Encoder(nn.Module):\n",
    "    def __init__(self):\n",
    "        super(Encoder, self).__init__()\n",
    "        self.conv1 = nn.Conv2d(in_channels=1, out_channels=64, kernel_size=10, stride=3)\n",
    "        self.conv2 = nn.Conv2d(in_channels=64, out_channels=128, kernel_size=5, stride=2)\n",
    "        self.linear1 = nn.Linear(1152, 1024)\n",
    "        self.linear2 = nn.Linear(1024, 1024)\n",
    "        self.linear3 = nn.Linear(1024, 576)\n",
    "        self.linear4 = nn.Linear(576, 192)\n",
    "        self.linear5 = nn.Linear(192, 24)\n",
    "        self.linear6 = nn.Linear(24, 6)\n",
    "\n",
    "        self.relu = nn.ReLU()\n",
    "        self.sigmoid = nn.Sigmoid()\n",
    "        self.maxpool1 = nn.MaxPool2d(kernel_size=3, stride=2)\n",
    "        self.maxpool2 = nn.MaxPool2d(kernel_size=2, stride=2)\n",
    "        \n",
    "    def forward(self, imgs):\n",
    "        x = self.conv1(imgs)\n",
    "        x = self.relu(x)\n",
    "        x = self.maxpool1(x)\n",
    "        \n",
    "        x = self.conv2(x)\n",
    "        x = self.relu(x)\n",
    "        x = self.maxpool2(x)\n",
    "        \n",
    "        x = self.linear1(x.reshape(imgs.shape[0], -1))\n",
    "        x = self.relu(x)\n",
    "        \n",
    "        x = self.linear2(x)\n",
    "        x = self.relu(x)\n",
    "        \n",
    "        x = self.linear3(x)\n",
    "        x = self.relu(x)\n",
    "\n",
    "        x = self.linear4(x)\n",
    "        x = self.relu(x)\n",
    "\n",
    "        x = self.linear5(x)\n",
    "        x = self.relu(x)\n",
    "\n",
    "        x = self.linear6(x)\n",
    "        unconstrained_means, unconstrained_logstds = x[:, :3], x[:, 3:]\n",
    "        means = -1e2 + 2e2 * self.sigmoid(unconstrained_means)\n",
    "        logstds = -5 + 10 * self.sigmoid(unconstrained_logstds)\n",
    "        return torch.cat((means, logstds), axis=1)"
   ]
  },
  {
   "cell_type": "code",
   "execution_count": 21,
   "id": "5457c50c-d8a9-45e7-8935-7118768237fa",
   "metadata": {},
   "outputs": [],
   "source": [
    "class VAE(nn.Module):\n",
    "    def __init__(self, encoder, decoder):\n",
    "        super(VAE, self).__init__()\n",
    "        self.encoder = encoder\n",
    "        self.decoder = decoder\n",
    "\n",
    "    def sample_scene_params(self, latentss):\n",
    "        batch_size = latentss.shape[0]\n",
    "        meanss, log_stdss = latentss[:, :3], latentss[:, 3:]\n",
    "        z1, z2, z3 = torch.randn(3, batch_size, device=device)\n",
    "        dists_normalized = meanss[:, 0] + torch.exp(log_stdss[:, 0])*z1\n",
    "        elevs_normalized = meanss[:, 1] + torch.exp(log_stdss[:, 1])*z2\n",
    "        azims_normalized = meanss[:, 2] + torch.exp(log_stdss[:, 2])*z3\n",
    "        return dists_normalized, elevs_normalized, azims_normalized\n",
    " \n",
    "    def forward(self, imgs):\n",
    "        latentss = self.encoder(imgs)\n",
    "        dists_normalized, elevs_normalized, azims_normalized = self.sample_scene_params(latentss)\n",
    "        reconstructions = self.decoder(dists_normalized, elevs_normalized, azims_normalized)\n",
    "        return reconstructions, latentss"
   ]
  },
  {
   "cell_type": "code",
   "execution_count": 22,
   "id": "aa1ba9fd-39ea-4835-8e42-2ba7d837c50e",
   "metadata": {},
   "outputs": [],
   "source": [
    "def gaussian_kl(mean, logstd): # KL(N(mean, std**2) || N(0, 1))\n",
    "    logvar = 2*logstd\n",
    "    # off by a mulitplicative 1/2 and additive -1/2 but doesn't matter\n",
    "    return torch.exp(logvar) - logvar + mean.pow(2)"
   ]
  },
  {
   "cell_type": "code",
   "execution_count": 23,
   "id": "6643980a-24b8-4824-ba5e-9145f7f633a0",
   "metadata": {},
   "outputs": [],
   "source": [
    "gnll = nn.GaussianNLLLoss()\n",
    "def loss_fn(std, gt_imgs, recon_imgs, latentss):\n",
    "    #torch.norm(gt_imgs - recon_imgs)#-vae.decoder.log_likelihood(gt_imgs, recon_imgs)\n",
    "    #recon_loss = nn.functional.gaussian_nll_loss(gt_imgs, recon_imgs, std**2 + torch.zeros_like(gt_imgs))\n",
    "    recon_loss =  gnll(recon_imgs, gt_imgs, std**2 + torch.zeros_like(gt_imgs))\n",
    "    means, logstds = latentss[:, :3], latentss[:, 3:]\n",
    "    prior_loss = gaussian_kl(means, logstds).sum()\n",
    "    return (recon_loss + prior_loss).sum()"
   ]
  },
  {
   "cell_type": "code",
   "execution_count": 24,
   "id": "c5b25dca-6a9d-49b6-a2cb-59808646b11f",
   "metadata": {},
   "outputs": [],
   "source": [
    "N = 30000"
   ]
  },
  {
   "cell_type": "code",
   "execution_count": 25,
   "id": "f59022ea-a7c7-4fe1-a1ac-5c9714e86e74",
   "metadata": {},
   "outputs": [],
   "source": [
    "# gc.collect()\n",
    "# sub_datasets = []\n",
    "# for _ in range(N // 500):\n",
    "#     sub_datasets.append(generate_images(500))\n",
    "#     print('.', end='')\n",
    "# silly_dataset = torch.cat(sub_datasets)\n",
    "# silly_dataset = silly_dataset.reshape([N, 1, 100, 100])\n",
    "# torch.save(silly_dataset, 'data.pt')"
   ]
  },
  {
   "cell_type": "code",
   "execution_count": 26,
   "id": "f9af735a-5a1b-4918-aad6-ba0ad92cc5df",
   "metadata": {},
   "outputs": [],
   "source": [
    "silly_dataset = torch.load('data.pt')"
   ]
  },
  {
   "cell_type": "code",
   "execution_count": 27,
   "id": "93f8d7ae-65b5-465d-ad8c-b4a7da91b906",
   "metadata": {},
   "outputs": [],
   "source": [
    "LOSS_STD = 0.05\n",
    "vae = VAE(Encoder(), Decoder(std=LOSS_STD)).to(device)"
   ]
  },
  {
   "cell_type": "code",
   "execution_count": 28,
   "id": "6b173ddb-fb6c-42d9-be05-a0132fdbebda",
   "metadata": {},
   "outputs": [],
   "source": [
    "optimizer = torch.optim.SGD(vae.parameters(), lr=1e-1)"
   ]
  },
  {
   "cell_type": "code",
   "execution_count": 29,
   "id": "dc7479b1-7380-4b4a-9272-328324f1272d",
   "metadata": {},
   "outputs": [],
   "source": [
    "BATCH_SIZE = 1000\n",
    "assert N % BATCH_SIZE == 0\n",
    "n_batches = N // BATCH_SIZE"
   ]
  },
  {
   "cell_type": "code",
   "execution_count": 30,
   "id": "f4297c81-8b40-4a3f-aca4-e7d6f810eaaa",
   "metadata": {},
   "outputs": [
    {
     "name": "stdout",
     "output_type": "stream",
     "text": [
      "epoch 0:\n",
      "\tbatch 1 loss: 133954.65625\n",
      "\tbatch 2 loss: 52036728.0\n",
      "\tbatch 3 loss: 52036724.0\n",
      "\tbatch 4 loss: 52036732.0\n",
      "\tbatch 5 loss: 52036724.0\n",
      "\tbatch 6 loss: 52036728.0\n",
      "\tbatch 7 loss: 52036724.0\n",
      "\tbatch 8 loss: 52036724.0\n",
      "\tbatch 9 loss: 52036728.0\n",
      "\tbatch 10 loss: 52036724.0\n",
      "\tbatch 11 loss: 52036720.0\n",
      "\tbatch 12 loss: 52036720.0\n",
      "\tbatch 13 loss: 52036728.0\n",
      "\tbatch 14 loss: 52036716.0\n",
      "\tbatch 15 loss: 52036728.0\n",
      "\tbatch 16 loss: 52036724.0\n",
      "\tbatch 17 loss: 52036720.0\n",
      "\tbatch 18 loss: 52036716.0\n",
      "\tbatch 19 loss: 52036720.0\n",
      "\tbatch 20 loss: 52036728.0\n",
      "\tbatch 21 loss: 52036720.0\n",
      "\tbatch 22 loss: 52036712.0\n",
      "\tbatch 23 loss: 52036728.0\n",
      "\tbatch 24 loss: 52036724.0\n",
      "\tbatch 25 loss: 52036728.0\n",
      "\tbatch 26 loss: 52036716.0\n",
      "\tbatch 27 loss: 52036720.0\n",
      "\tbatch 28 loss: 52036724.0\n",
      "\tbatch 29 loss: 52036720.0\n",
      "\tbatch 30 loss: 52036720.0\n",
      "\tepoch complete! average Loss: 1509198.92265625\n",
      "epoch 1:\n",
      "\tbatch 1 loss: 52036724.0\n",
      "\tbatch 2 loss: 52036724.0\n",
      "\tbatch 3 loss: 52036724.0\n",
      "\tbatch 4 loss: 52036724.0\n",
      "\tbatch 5 loss: 52036720.0\n",
      "\tbatch 6 loss: 52036720.0\n",
      "\tbatch 7 loss: 52036720.0\n",
      "\tbatch 8 loss: 52036728.0\n",
      "\tbatch 9 loss: 52036724.0\n",
      "\tbatch 10 loss: 52036724.0\n",
      "\tbatch 11 loss: 52036728.0\n",
      "\tbatch 12 loss: 52036720.0\n",
      "\tbatch 13 loss: 52036720.0\n",
      "\tbatch 14 loss: 52036720.0\n",
      "\tbatch 15 loss: 52036720.0\n",
      "\tbatch 16 loss: 52036720.0\n",
      "\tbatch 17 loss: 52036732.0\n",
      "\tbatch 18 loss: 52036724.0\n",
      "\tbatch 19 loss: 52036720.0\n",
      "\tbatch 20 loss: 52036720.0\n",
      "\tbatch 21 loss: 52036724.0\n",
      "\tbatch 22 loss: 52036724.0\n",
      "\tbatch 23 loss: 52036720.0\n",
      "\tbatch 24 loss: 52036720.0\n",
      "\tbatch 25 loss: 52036724.0\n",
      "\tbatch 26 loss: 52036720.0\n",
      "\tbatch 27 loss: 52036724.0\n",
      "\tbatch 28 loss: 52036724.0\n",
      "\tbatch 29 loss: 52036736.0\n",
      "\tbatch 30 loss: 52036720.0\n",
      "\tepoch complete! average Loss: 1561101.692\n",
      "epoch 2:\n",
      "\tbatch 1 loss: 52036728.0\n",
      "\tbatch 2 loss: 52036720.0\n",
      "\tbatch 3 loss: 52036724.0\n",
      "\tbatch 4 loss: 52036724.0\n",
      "\tbatch 5 loss: 52036728.0\n",
      "\tbatch 6 loss: 52036724.0\n",
      "\tbatch 7 loss: 52036724.0\n",
      "\tbatch 8 loss: 52036720.0\n",
      "\tbatch 9 loss: 52036716.0\n",
      "\tbatch 10 loss: 52036728.0\n",
      "\tbatch 11 loss: 52036720.0\n",
      "\tbatch 12 loss: 52036720.0\n",
      "\tbatch 13 loss: 52036720.0\n",
      "\tbatch 14 loss: 52036724.0\n",
      "\tbatch 15 loss: 52036720.0\n",
      "\tbatch 16 loss: 52036728.0\n",
      "\tbatch 17 loss: 52036724.0\n",
      "\tbatch 18 loss: 52036732.0\n",
      "\tbatch 19 loss: 52036720.0\n",
      "\tbatch 20 loss: 52036724.0\n",
      "\tbatch 21 loss: 52036720.0\n",
      "\tbatch 22 loss: 52036720.0\n",
      "\tbatch 23 loss: 52036720.0\n",
      "\tbatch 24 loss: 52036720.0\n",
      "\tbatch 25 loss: 52036724.0\n",
      "\tbatch 26 loss: 52036720.0\n",
      "\tbatch 27 loss: 52036728.0\n",
      "\tbatch 28 loss: 52036724.0\n",
      "\tbatch 29 loss: 52036724.0\n",
      "\tbatch 30 loss: 52036728.0\n",
      "\tepoch complete! average Loss: 1561101.696\n",
      "epoch 3:\n",
      "\tbatch 1 loss: 52036724.0\n",
      "\tbatch 2 loss: 52036728.0\n",
      "\tbatch 3 loss: 52036724.0\n",
      "\tbatch 4 loss: 52036728.0\n",
      "\tbatch 5 loss: 52036724.0\n",
      "\tbatch 6 loss: 52036720.0\n",
      "\tbatch 7 loss: 52036728.0\n",
      "\tbatch 8 loss: 52036724.0\n",
      "\tbatch 9 loss: 52036724.0\n",
      "\tbatch 10 loss: 52036732.0\n",
      "\tbatch 11 loss: 52036728.0\n",
      "\tbatch 12 loss: 52036716.0\n",
      "\tbatch 13 loss: 52036716.0\n",
      "\tbatch 14 loss: 52036716.0\n",
      "\tbatch 15 loss: 52036720.0\n",
      "\tbatch 16 loss: 52036716.0\n",
      "\tbatch 17 loss: 52036720.0\n",
      "\tbatch 18 loss: 52036724.0\n",
      "\tbatch 19 loss: 52036728.0\n",
      "\tbatch 20 loss: 52036728.0\n",
      "\tbatch 21 loss: 52036724.0\n",
      "\tbatch 22 loss: 52036720.0\n",
      "\tbatch 23 loss: 52036720.0\n",
      "\tbatch 24 loss: 52036720.0\n",
      "\tbatch 25 loss: 52036724.0\n",
      "\tbatch 26 loss: 52036720.0\n",
      "\tbatch 27 loss: 52036728.0\n",
      "\tbatch 28 loss: 52036724.0\n",
      "\tbatch 29 loss: 52036728.0\n",
      "\tbatch 30 loss: 52036724.0\n",
      "\tepoch complete! average Loss: 1561101.7\n",
      "epoch 4:\n",
      "\tbatch 1 loss: 52036724.0\n",
      "\tbatch 2 loss: 52036728.0\n",
      "\tbatch 3 loss: 52036720.0\n",
      "\tbatch 4 loss: 52036724.0\n",
      "\tbatch 5 loss: 52036724.0\n",
      "\tbatch 6 loss: 52036724.0\n",
      "\tbatch 7 loss: 52036728.0\n",
      "\tbatch 8 loss: 52036716.0\n",
      "\tbatch 9 loss: 52036724.0\n",
      "\tbatch 10 loss: 52036720.0\n",
      "\tbatch 11 loss: 52036724.0\n",
      "\tbatch 12 loss: 52036728.0\n",
      "\tbatch 13 loss: 52036724.0\n",
      "\tbatch 14 loss: 52036724.0\n",
      "\tbatch 15 loss: 52036728.0\n",
      "\tbatch 16 loss: 52036720.0\n",
      "\tbatch 17 loss: 52036724.0\n",
      "\tbatch 18 loss: 52036724.0\n",
      "\tbatch 19 loss: 52036720.0\n",
      "\tbatch 20 loss: 52036724.0\n",
      "\tbatch 21 loss: 52036720.0\n",
      "\tbatch 22 loss: 52036720.0\n",
      "\tbatch 23 loss: 52036728.0\n",
      "\tbatch 24 loss: 52036724.0\n",
      "\tbatch 25 loss: 52036724.0\n",
      "\tbatch 26 loss: 52036720.0\n",
      "\tbatch 27 loss: 52036720.0\n",
      "\tbatch 28 loss: 52036724.0\n",
      "\tbatch 29 loss: 52036724.0\n",
      "\tbatch 30 loss: 52036720.0\n",
      "\tepoch complete! average Loss: 1561101.696\n",
      "epoch 5:\n",
      "\tbatch 1 loss: 52036720.0\n",
      "\tbatch 2 loss: 52036728.0\n",
      "\tbatch 3 loss: 52036724.0\n",
      "\tbatch 4 loss: 52036716.0\n",
      "\tbatch 5 loss: 52036720.0\n",
      "\tbatch 6 loss: 52036720.0\n",
      "\tbatch 7 loss: 52036724.0\n",
      "\tbatch 8 loss: 52036724.0\n",
      "\tbatch 9 loss: 52036728.0\n",
      "\tbatch 10 loss: 52036724.0\n",
      "\tbatch 11 loss: 52036732.0\n",
      "\tbatch 12 loss: 52036724.0\n",
      "\tbatch 13 loss: 52036720.0\n",
      "\tbatch 14 loss: 52036724.0\n",
      "\tbatch 15 loss: 52036724.0\n",
      "\tbatch 16 loss: 52036724.0\n",
      "\tbatch 17 loss: 52036724.0\n",
      "\tbatch 18 loss: 52036728.0\n",
      "\tbatch 19 loss: 52036720.0\n",
      "\tbatch 20 loss: 52036728.0\n",
      "\tbatch 21 loss: 52036724.0\n",
      "\tbatch 22 loss: 52036720.0\n",
      "\tbatch 23 loss: 52036724.0\n",
      "\tbatch 24 loss: 52036716.0\n",
      "\tbatch 25 loss: 52036720.0\n",
      "\tbatch 26 loss: 52036716.0\n",
      "\tbatch 27 loss: 52036728.0\n",
      "\tbatch 28 loss: 52036724.0\n",
      "\tbatch 29 loss: 52036724.0\n",
      "\tbatch 30 loss: 52036728.0\n",
      "\tepoch complete! average Loss: 1561101.7\n",
      "epoch 6:\n",
      "\tbatch 1 loss: 52036720.0\n",
      "\tbatch 2 loss: 52036720.0\n",
      "\tbatch 3 loss: 52036720.0\n",
      "\tbatch 4 loss: 52036728.0\n",
      "\tbatch 5 loss: 52036728.0\n",
      "\tbatch 6 loss: 52036720.0\n",
      "\tbatch 7 loss: 52036724.0\n",
      "\tbatch 8 loss: 52036724.0\n",
      "\tbatch 9 loss: 52036716.0\n",
      "\tbatch 10 loss: 52036728.0\n",
      "\tbatch 11 loss: 52036728.0\n",
      "\tbatch 12 loss: 52036720.0\n",
      "\tbatch 13 loss: 52036724.0\n",
      "\tbatch 14 loss: 52036724.0\n",
      "\tbatch 15 loss: 52036724.0\n",
      "\tbatch 16 loss: 52036720.0\n",
      "\tbatch 17 loss: 52036720.0\n",
      "\tbatch 18 loss: 52036720.0\n",
      "\tbatch 19 loss: 52036716.0\n",
      "\tbatch 20 loss: 52036728.0\n",
      "\tbatch 21 loss: 52036720.0\n",
      "\tbatch 22 loss: 52036724.0\n",
      "\tbatch 23 loss: 52036720.0\n",
      "\tbatch 24 loss: 52036728.0\n",
      "\tbatch 25 loss: 52036720.0\n",
      "\tbatch 26 loss: 52036720.0\n",
      "\tbatch 27 loss: 52036736.0\n",
      "\tbatch 28 loss: 52036728.0\n",
      "\tbatch 29 loss: 52036728.0\n",
      "\tbatch 30 loss: 52036716.0\n",
      "\tepoch complete! average Loss: 1561101.692\n",
      "epoch 7:\n",
      "\tbatch 1 loss: 52036724.0\n",
      "\tbatch 2 loss: 52036720.0\n",
      "\tbatch 3 loss: 52036732.0\n",
      "\tbatch 4 loss: 52036724.0\n",
      "\tbatch 5 loss: 52036720.0\n",
      "\tbatch 6 loss: 52036728.0\n",
      "\tbatch 7 loss: 52036728.0\n",
      "\tbatch 8 loss: 52036720.0\n",
      "\tbatch 9 loss: 52036732.0\n",
      "\tbatch 10 loss: 52036724.0\n",
      "\tbatch 11 loss: 52036724.0\n",
      "\tbatch 12 loss: 52036732.0\n",
      "\tbatch 13 loss: 52036724.0\n",
      "\tbatch 14 loss: 52036724.0\n",
      "\tbatch 15 loss: 52036724.0\n",
      "\tbatch 16 loss: 52036720.0\n",
      "\tbatch 17 loss: 52036728.0\n",
      "\tbatch 18 loss: 52036724.0\n",
      "\tbatch 19 loss: 52036716.0\n",
      "\tbatch 20 loss: 52036716.0\n",
      "\tbatch 21 loss: 52036720.0\n",
      "\tbatch 22 loss: 52036720.0\n",
      "\tbatch 23 loss: 52036716.0\n",
      "\tbatch 24 loss: 52036716.0\n",
      "\tbatch 25 loss: 52036720.0\n",
      "\tbatch 26 loss: 52036728.0\n",
      "\tbatch 27 loss: 52036724.0\n",
      "\tbatch 28 loss: 52036728.0\n",
      "\tbatch 29 loss: 52036724.0\n",
      "\tbatch 30 loss: 52036728.0\n",
      "\tepoch complete! average Loss: 1561101.708\n",
      "epoch 8:\n",
      "\tbatch 1 loss: 52036724.0\n",
      "\tbatch 2 loss: 52036720.0\n",
      "\tbatch 3 loss: 52036724.0\n",
      "\tbatch 4 loss: 52036724.0\n",
      "\tbatch 5 loss: 52036720.0\n",
      "\tbatch 6 loss: 52036724.0\n",
      "\tbatch 7 loss: 52036724.0\n",
      "\tbatch 8 loss: 52036728.0\n",
      "\tbatch 9 loss: 52036724.0\n",
      "\tbatch 10 loss: 52036724.0\n",
      "\tbatch 11 loss: 52036716.0\n",
      "\tbatch 12 loss: 52036724.0\n",
      "\tbatch 13 loss: 52036732.0\n",
      "\tbatch 14 loss: 52036724.0\n",
      "\tbatch 15 loss: 52036728.0\n",
      "\tbatch 16 loss: 52036720.0\n",
      "\tbatch 17 loss: 52036728.0\n",
      "\tbatch 18 loss: 52036724.0\n",
      "\tbatch 19 loss: 52036724.0\n",
      "\tbatch 20 loss: 52036720.0\n",
      "\tbatch 21 loss: 52036720.0\n",
      "\tbatch 22 loss: 52036716.0\n"
     ]
    },
    {
     "name": "stderr",
     "output_type": "stream",
     "text": [
      "\n",
      "KeyboardInterrupt\n",
      "\n"
     ]
    }
   ],
   "source": [
    "losses = []\n",
    "vae.train()\n",
    "\n",
    "for epoch in range(10):\n",
    "    overall_loss = 0\n",
    "\n",
    "    batch_perm = np.random.permutation(N)\n",
    "    print(f'epoch {epoch}:')\n",
    "\n",
    "    for batch_idx in range(1, n_batches+1):\n",
    "        batch_slice = batch_perm[(batch_idx-1)*BATCH_SIZE:batch_idx*BATCH_SIZE]\n",
    "        batch = silly_dataset[batch_slice, :, :, :]\n",
    "\n",
    "        optimizer.zero_grad()\n",
    "    \n",
    "        reconstructions, latentss = vae(batch)\n",
    "        loss = loss_fn(LOSS_STD, batch, reconstructions, latentss)\n",
    "        loss_val = loss.item()\n",
    "        print(f'\\tbatch {batch_idx} loss: {loss_val}')\n",
    "        overall_loss += loss_val\n",
    "\n",
    "        loss.backward()\n",
    "        optimizer.step()\n",
    "\n",
    "    losses.append(overall_loss / BATCH_SIZE)\n",
    "    \n",
    "    print(f'\\tepoch complete! average Loss: {losses[-1]}')"
   ]
  },
  {
   "cell_type": "code",
   "execution_count": null,
   "id": "fd7f0d9a-e666-48af-a37b-44873f4ec7b6",
   "metadata": {},
   "outputs": [],
   "source": [
    "vae.encoder.linear1.grad"
   ]
  },
  {
   "cell_type": "code",
   "execution_count": null,
   "id": "f603f96c-0baa-4119-bb56-807ffde5f4dd",
   "metadata": {},
   "outputs": [],
   "source": [
    "plt.plot(losses)"
   ]
  },
  {
   "cell_type": "markdown",
   "id": "073df823-615e-44fa-8865-d6eb3dac7345",
   "metadata": {},
   "source": [
    "# "
   ]
  },
  {
   "cell_type": "markdown",
   "id": "da648b98-94a0-4245-88fe-6d7924588ea3",
   "metadata": {},
   "source": [
    "# "
   ]
  }
 ],
 "metadata": {
  "kernelspec": {
   "display_name": "Python 3 (ipykernel)",
   "language": "python",
   "name": "python3"
  },
  "language_info": {
   "codemirror_mode": {
    "name": "ipython",
    "version": 3
   },
   "file_extension": ".py",
   "mimetype": "text/x-python",
   "name": "python",
   "nbconvert_exporter": "python",
   "pygments_lexer": "ipython3",
   "version": "3.9.17"
  }
 },
 "nbformat": 4,
 "nbformat_minor": 5
}
