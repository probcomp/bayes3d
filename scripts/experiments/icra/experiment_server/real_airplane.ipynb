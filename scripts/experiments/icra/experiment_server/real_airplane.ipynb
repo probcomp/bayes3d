{
 "cells": [
  {
   "cell_type": "code",
   "execution_count": 5,
   "id": "5300d4b8-7b89-492c-950f-3e56fa9d46f2",
   "metadata": {},
   "outputs": [],
   "source": [
    "import numpy as np\n",
    "import jax.numpy as jnp\n",
    "import jax\n",
    "import bayes3d as b\n",
    "import time\n",
    "from PIL import Image\n",
    "from scipy.spatial.transform import Rotation as R\n",
    "import matplotlib.pyplot as plt\n",
    "import cv2\n",
    "import trimesh\n",
    "import os\n",
    "import glob\n",
    "import bayes3d.neural\n",
    "import pickle\n",
    "# Can be helpful for debugging:\n",
    "# jax.config.update('jax_enable_checks', True) \n",
    "from bayes3d.neural.segmentation import carvekit_get_foreground_mask\n",
    "import genjax"
   ]
  },
  {
   "cell_type": "code",
   "execution_count": 6,
   "id": "a3355a9e-80d6-4fcb-b242-fb5ba7e26503",
   "metadata": {},
   "outputs": [
    {
     "name": "stdout",
     "output_type": "stream",
     "text": [
      "You can open the visualizer by visiting the following URL:\n",
      "http://127.0.0.1:7007/static/\n"
     ]
    }
   ],
   "source": [
    "b.setup_visualizer()"
   ]
  },
  {
   "cell_type": "code",
   "execution_count": 7,
   "id": "8015ac25",
   "metadata": {},
   "outputs": [],
   "source": [
    "# cloud = np.load(\"plane_pc_video_capture.npy\")\n",
    "# b.show_cloud(\"1\", cloud)"
   ]
  },
  {
   "cell_type": "code",
   "execution_count": 8,
   "id": "57e1fa42-9f39-437f-b408-7c9760a86413",
   "metadata": {},
   "outputs": [],
   "source": [
    "importance_jit = jax.jit(b.model.importance)\n",
    "key = jax.random.PRNGKey(10)\n",
    "enumerators = b.make_enumerator([f\"contact_params_1\"])"
   ]
  },
  {
   "cell_type": "code",
   "execution_count": 9,
   "id": "1e809bd5",
   "metadata": {},
   "outputs": [],
   "source": [
    "grid_params = [\n",
    "    (0.5, jnp.pi, (11,11,21)), (0.4, jnp.pi/2, (11,11,21)), (0.1, jnp.pi/2, (11,11,11)),\n",
    "    (0.05, jnp.pi/3, (11,11,11)), (0.02, jnp.pi/3, (5,5,51)), (0.01, jnp.pi/5, (11,11,11)), (0.1, 0.0, (21,21,1)),(0.1, 0.0, (21,21,1))\n",
    "]\n",
    "contact_param_gridding_schedule = [\n",
    "    b.utils.make_translation_grid_enumeration_3d(\n",
    "        -x, -x, -ang,\n",
    "        x, x, ang,\n",
    "        *nums\n",
    "    )\n",
    "    for (x,ang,nums) in grid_params\n",
    "]"
   ]
  },
  {
   "cell_type": "code",
   "execution_count": 77,
   "id": "89ca2963-c7bc-4c1f-9407-cf1d006435df",
   "metadata": {},
   "outputs": [
    {
     "name": "stdout",
     "output_type": "stream",
     "text": [
      "['/home/nishadgothoskar/1695309847.223737.pkl', '/home/nishadgothoskar/1695309847.223737.pklresult.pkl', '/home/nishadgothoskar/1695309957.3550975.pkl', '/home/nishadgothoskar/1695309957.3550975.pklresult.pkl', '/home/nishadgothoskar/1695310026.53716.pkl', '/home/nishadgothoskar/1695310026.53716.pklresult.pkl', '/home/nishadgothoskar/1695310090.890176.pkl', '/home/nishadgothoskar/1695310090.890176.pklresult.pkl', '/home/nishadgothoskar/1695310137.9889367.pkl', '/home/nishadgothoskar/1695310137.9889367.pklresult.pkl', '/home/nishadgothoskar/1695310331.5396512.pkl', '/home/nishadgothoskar/1695310331.5396512.pklresult.pkl', '/home/nishadgothoskar/1695310465.8956923.pkl']\n"
     ]
    }
   ],
   "source": [
    "# paths = glob.glob(\n",
    "#     # \"panda_dataset/*.pkl\"\n",
    "#     \"panda_scans_v5/*.pkl\"\n",
    "# )\n",
    "# all_data = pickle.load(open(paths[2], \"rb\"))\n",
    "# IDX = 0\n",
    "# data = all_data[IDX]\n",
    "\n",
    "paths = glob.glob(\n",
    "    # \"panda_dataset/*.pkl\"\n",
    "    \"/home/nishadgothoskar/*.pkl\"\n",
    ")\n",
    "paths = sorted(paths)\n",
    "print(paths)\n",
    "input_path = paths[-1]\n",
    "output_path = input_path + \"result.pkl\"\n",
    "if os.path.exists(output_path):\n",
    "    print(\"result already exists for this input.\")\n",
    "all_data = pickle.load(open(input_path, \"rb\"))\n",
    "data = all_data[0]"
   ]
  },
  {
   "cell_type": "code",
   "execution_count": 78,
   "id": "08c634f1",
   "metadata": {},
   "outputs": [],
   "source": [
    "K = data[\"camera_image\"]['camera_matrix'][0]\n",
    "rgb = data[\"camera_image\"]['rgbPixels']\n",
    "depth = data[\"camera_image\"]['depthPixels']\n",
    "camera_pose = data[\"camera_image\"]['camera_pose']\n",
    "camera_pose = b.t3d.pybullet_pose_to_transform(camera_pose)\n",
    "fx, fy, cx, cy = K[0,0],K[1,1],K[0,2],K[1,2]\n",
    "h,w = depth.shape\n",
    "near = 0.001\n",
    "rgbd_original = b.RGBD(rgb, depth, camera_pose, b.Intrinsics(h,w,fx,fy,cx,cy,0.001,10000.0))"
   ]
  },
  {
   "cell_type": "code",
   "execution_count": 79,
   "id": "2291e2ad",
   "metadata": {},
   "outputs": [],
   "source": [
    "scaling_factor = 0.2\n",
    "rgbd_scaled_down = b.RGBD.scale_rgbd(rgbd_original, scaling_factor)\n",
    "# b.get_rgb_image(rgbd_original.rgb)"
   ]
  },
  {
   "cell_type": "code",
   "execution_count": 80,
   "id": "43fd07a9",
   "metadata": {},
   "outputs": [],
   "source": [
    "if b.RENDERER is None:\n",
    "    b.setup_renderer(rgbd_scaled_down.intrinsics)\n",
    "    # b.RENDERER.add_mesh_from_file(\"toy_final.ply\")\n",
    "    cloud = np.load(\"plane_pc_video_capture.npy\")\n",
    "    mesh  = b.utils.make_voxel_mesh_from_point_cloud(cloud, 0.007)\n",
    "    b.show_trimesh(\"2\", mesh)\n",
    "    b.RENDERER.add_mesh(mesh)\n",
    "\n",
    "    b.RENDERER.add_mesh_from_file(os.path.join(b.utils.get_assets_dir(), \"sample_objs/cube.obj\"), scaling_factor=1.0/1000000000.0)\n",
    "\n",
    "   "
   ]
  },
  {
   "cell_type": "code",
   "execution_count": 81,
   "id": "a110f884",
   "metadata": {},
   "outputs": [],
   "source": [
    "plane_pose, plane_dims = b.utils.infer_table_plane(\n",
    "    b.unproject_depth(rgbd_scaled_down.depth, rgbd_scaled_down.intrinsics), jnp.eye(4), rgbd_scaled_down.intrinsics, \n",
    "    ransac_threshold=0.001, inlier_threshold=0.001, segmentation_threshold=0.1\n",
    ")\n",
    "plane_pose = camera_pose @ plane_pose"
   ]
  },
  {
   "cell_type": "code",
   "execution_count": 82,
   "id": "77b1994f",
   "metadata": {},
   "outputs": [
    {
     "name": "stdout",
     "output_type": "stream",
     "text": [
      "-3828.0261\n",
      "[ 0.         -0.19999999  1.5707964 ]\n",
      "[ 1.4901161e-08 -1.9999997e-01  1.5707964e+00]\n",
      "[-0.01999998 -0.23999998  1.5707964 ]\n",
      "[-0.01999998 -0.23999998  1.5707964 ]\n",
      "[-0.02999998 -0.23999998  1.69646   ]\n",
      "[-0.02599998 -0.23799998  1.69646   ]\n",
      "[-0.02599998 -0.23799998  1.69646   ]\n",
      "[-0.02599997 -0.23799998  1.69646   ]\n"
     ]
    }
   ],
   "source": [
    "\n",
    "table_pose = b.inverse_pose(camera_pose) @ plane_pose\n",
    "mask = b.utils.scale(carvekit_get_foreground_mask(rgbd_original)*1.0, scaling_factor)\n",
    "observed_depth = (rgbd_scaled_down.depth * mask) + (1.0 - mask)* rgbd_scaled_down.intrinsics.far\n",
    "b.clear()\n",
    "b.show_cloud(\"1\", b.unproject_depth(observed_depth, rgbd_scaled_down.intrinsics).reshape(-1,3))\n",
    "b.show_pose(\"table\", table_pose)\n",
    "\n",
    "weight, trace = importance_jit(key, genjax.choice_map({\n",
    "    \"parent_0\": -1,\n",
    "    \"parent_1\": 0,\n",
    "    \"id_0\": jnp.int32(1),\n",
    "    \"id_1\": jnp.int32(0),\n",
    "    \"camera_pose\": jnp.eye(4),\n",
    "    \"root_pose_0\": table_pose,\n",
    "    \"face_parent_1\": 2,\n",
    "    \"face_child_1\": 3,\n",
    "    \"image\": b.unproject_depth(observed_depth, rgbd_scaled_down.intrinsics),\n",
    "    \"variance\": 0.0001,\n",
    "    \"outlier_prob\": 0.0001,\n",
    "    \"contact_params_1\": jnp.array([0.0, 0.0, jnp.pi/2])\n",
    "}), (\n",
    "    jnp.arange(2),\n",
    "    jnp.arange(22),\n",
    "    jnp.array([-jnp.ones(3)*100.0, jnp.ones(3)*100.0]),\n",
    "    jnp.array([jnp.array([-5.2, -5.2, -15*jnp.pi]), jnp.array([5.2, 5.2, 15*jnp.pi])]),\n",
    "    b.RENDERER.model_box_dims, 1.0, 1.0)\n",
    ")\n",
    "# b.viz_trace_meshcat(trace)\n",
    "print(trace.get_score())\n",
    "for idx in range(len(contact_param_gridding_schedule)):\n",
    "    contact_param_deltas = contact_param_gridding_schedule[idx]\n",
    "    contact_param_grid = contact_param_deltas + trace[f\"contact_params_1\"]\n",
    "    scores = enumerators[3](trace, key, contact_param_grid)\n",
    "    i= jnp.unravel_index(scores.argmax(), scores.shape)\n",
    "    trace = enumerators[0](\n",
    "        trace, key,\n",
    "        contact_param_grid[i]\n",
    "    )\n",
    "    print(trace[\"contact_params_1\"])"
   ]
  },
  {
   "cell_type": "code",
   "execution_count": 83,
   "id": "6f948b21-66a8-400a-acec-93e08f05231f",
   "metadata": {},
   "outputs": [],
   "source": [
    "b.viz_trace_meshcat(trace)\n",
    "b.show_pose(\"table\", table_pose)\n"
   ]
  },
  {
   "cell_type": "code",
   "execution_count": 84,
   "id": "102d3267",
   "metadata": {},
   "outputs": [],
   "source": [
    "output_pose = b.get_poses(trace)[1]\n",
    "output_pose_pybullet = b.transform_to_pybullet_pose(output_pose)\n",
    "\n",
    "with open(output_path, 'wb') as handle:\n",
    "    pickle.dump({\"pose\": [list(np.array(i)) for i in output_pose_pybullet]}, handle, protocol=pickle.HIGHEST_PROTOCOL)"
   ]
  },
  {
   "cell_type": "code",
   "execution_count": null,
   "id": "52dd0b6b",
   "metadata": {},
   "outputs": [],
   "source": [
    "output"
   ]
  },
  {
   "cell_type": "code",
   "execution_count": 20,
   "id": "2cc5dece",
   "metadata": {},
   "outputs": [
    {
     "data": {
      "text/plain": [
       "[[0.032561865, 0.11932532, 0.54254884],\n",
       " [0.9062123, 0.1890017, -0.057249494, 0.37338343]]"
      ]
     },
     "execution_count": 20,
     "metadata": {},
     "output_type": "execute_result"
    }
   ],
   "source": [
    "[list(np.array(i)) for i in output_pose_pybullet]"
   ]
  },
  {
   "cell_type": "code",
   "execution_count": 16,
   "id": "63d4b392",
   "metadata": {},
   "outputs": [],
   "source": [
    "bbox = b.RENDERER.model_box_dims[0]\n"
   ]
  },
  {
   "cell_type": "code",
   "execution_count": 15,
   "id": "c17273a1",
   "metadata": {},
   "outputs": [
    {
     "data": {
      "text/plain": [
       "(Array([ 0.18599698, -0.05460909,  0.829901  ], dtype=float32),\n",
       " Array([ 0.59193957, -0.56721324,  0.37157702,  0.43413743], dtype=float32))"
      ]
     },
     "execution_count": 15,
     "metadata": {},
     "output_type": "execute_result"
    }
   ],
   "source": [
    "output_pose = b.get_poses(trace)[1]\n",
    "b.transform_to_pybullet_pose(output_pose)"
   ]
  },
  {
   "cell_type": "code",
   "execution_count": null,
   "id": "30fb334f",
   "metadata": {},
   "outputs": [],
   "source": []
  },
  {
   "cell_type": "code",
   "execution_count": null,
   "id": "78e51adc",
   "metadata": {},
   "outputs": [],
   "source": []
  },
  {
   "cell_type": "code",
   "execution_count": null,
   "id": "b47b0820",
   "metadata": {},
   "outputs": [],
   "source": []
  },
  {
   "cell_type": "code",
   "execution_count": null,
   "id": "0de0c07b",
   "metadata": {},
   "outputs": [],
   "source": []
  },
  {
   "cell_type": "code",
   "execution_count": null,
   "id": "9e4052e1",
   "metadata": {},
   "outputs": [],
   "source": [
    "trace = b.update_address(trace, key, \"contact_params_1\", jnp.array([0.0, 0.0, jnp.pi]) + trace[\"contact_params_1\"])\n",
    "b.viz_trace_meshcat(trace)"
   ]
  },
  {
   "cell_type": "code",
   "execution_count": 106,
   "id": "76d088e4-4333-41c7-b2be-6d6315471246",
   "metadata": {},
   "outputs": [
    {
     "name": "stdout",
     "output_type": "stream",
     "text": [
      "-40490.67\n",
      "[-1.78      -1.78      -7.4351025]\n",
      "[-2.18     -2.18     -9.005898]\n",
      "[ -2.2        -2.2       -10.5766945]\n",
      "[ -2.2       -2.2      -11.623892]\n",
      "[ -2.2       -2.2      -12.671089]\n",
      "[ -2.2       -2.2      -13.299408]\n",
      "[ -2.2       -2.2      -13.299408]\n",
      "[ -2.2       -2.2      -13.299408]\n"
     ]
    }
   ],
   "source": [
    "\n",
    "print(trace.get_score())\n",
    "for idx in range(len(contact_param_gridding_schedule)):\n",
    "    contact_param_deltas = contact_param_gridding_schedule[idx]\n",
    "    contact_param_grid = contact_param_deltas + trace[f\"contact_params_1\"]\n",
    "    scores = enumerators[3](trace, key, contact_param_grid)\n",
    "    i= jnp.unravel_index(scores.argmax(), scores.shape)\n",
    "    trace = enumerators[0](\n",
    "        trace, key,\n",
    "        contact_param_grid[i]\n",
    "    )\n",
    "    print(trace[\"contact_params_1\"])\n",
    "    b.viz_trace_meshcat(trace)"
   ]
  },
  {
   "cell_type": "code",
   "execution_count": 98,
   "id": "5b831547",
   "metadata": {},
   "outputs": [
    {
     "data": {
      "text/plain": [
       "Array([ 0.202     , -0.17199998,  2.0839233 ], dtype=float32)"
      ]
     },
     "execution_count": 98,
     "metadata": {},
     "output_type": "execute_result"
    }
   ],
   "source": [
    "trace[\"contact_params_1\"]"
   ]
  },
  {
   "cell_type": "code",
   "execution_count": 20,
   "id": "d1d01c1a",
   "metadata": {},
   "outputs": [],
   "source": [
    "x = 0.01\n",
    "ang = 0.0\n",
    "nums = (21,21,1)\n",
    "contact_param_gridding_schedule = [\n",
    "     b.utils.make_translation_grid_enumeration_3d(\n",
    "        -x, -x, -ang,\n",
    "        x, x, ang,\n",
    "        *nums\n",
    "    )\n",
    "    for _ in range(5)\n",
    "]"
   ]
  },
  {
   "cell_type": "code",
   "execution_count": 21,
   "id": "2e93b97f",
   "metadata": {},
   "outputs": [
    {
     "name": "stdout",
     "output_type": "stream",
     "text": [
      "[0.01900001 0.03300001 0.62831867]\n",
      "[0.01900001 0.03300001 0.62831867]\n",
      "[0.01900001 0.03300001 0.62831867]\n",
      "[0.01900001 0.03300001 0.62831867]\n",
      "[0.01900001 0.03300001 0.62831867]\n"
     ]
    }
   ],
   "source": [
    "for idx in range(len(contact_param_gridding_schedule)):\n",
    "    contact_param_deltas = contact_param_gridding_schedule[idx]\n",
    "    contact_param_grid = contact_param_deltas + trace[f\"contact_params_1\"]\n",
    "    scores = enumerators[3](trace, key, contact_param_grid)\n",
    "    i= jnp.unravel_index(scores.argmax(), scores.shape)\n",
    "    trace = enumerators[0](\n",
    "        trace, key,\n",
    "        contact_param_grid[i]\n",
    "    )\n",
    "    print(trace[\"contact_params_1\"])\n",
    "    b.viz_trace_meshcat(trace)"
   ]
  },
  {
   "cell_type": "code",
   "execution_count": 86,
   "id": "c8df9fa4-d265-4436-bb54-0a9661b8b447",
   "metadata": {},
   "outputs": [
    {
     "data": {
      "text/plain": [
       "Array([[2.87e-01, 2.87e-01, 1.57e-01],\n",
       "       [1.00e-09, 1.00e-09, 1.00e-09]], dtype=float32)"
      ]
     },
     "execution_count": 86,
     "metadata": {},
     "output_type": "execute_result"
    }
   ],
   "source": [
    "b.RENDERER.model_box_dims"
   ]
  },
  {
   "cell_type": "code",
   "execution_count": 87,
   "id": "89063cae-c715-409c-8e52-41549041377c",
   "metadata": {},
   "outputs": [],
   "source": [
    "b.clear()"
   ]
  },
  {
   "cell_type": "code",
   "execution_count": 155,
   "id": "ba9affac",
   "metadata": {},
   "outputs": [],
   "source": [
    "b.show_trimesh(\"1\", b.RENDERER.meshes[0])"
   ]
  },
  {
   "cell_type": "code",
   "execution_count": 22,
   "id": "800808d7",
   "metadata": {},
   "outputs": [],
   "source": [
    "cloud = np.load(\"plane_pc_video_capture_hi_res.npy\")\n",
    "b.clear()\n",
    "b.show_cloud(\"1\", cloud)"
   ]
  },
  {
   "cell_type": "code",
   "execution_count": 35,
   "id": "d085f578",
   "metadata": {},
   "outputs": [],
   "source": [
    "cloud_voxelized = b.utils.voxelize(cloud, 0.007)"
   ]
  },
  {
   "cell_type": "code",
   "execution_count": 36,
   "id": "5743e618",
   "metadata": {},
   "outputs": [
    {
     "data": {
      "text/plain": [
       "(3447, 3)"
      ]
     },
     "execution_count": 36,
     "metadata": {},
     "output_type": "execute_result"
    }
   ],
   "source": [
    "cloud_voxelized.shape"
   ]
  },
  {
   "cell_type": "code",
   "execution_count": null,
   "id": "ea808124",
   "metadata": {},
   "outputs": [],
   "source": []
  }
 ],
 "metadata": {
  "kernelspec": {
   "display_name": "Python 3 (ipykernel)",
   "language": "python",
   "name": "python3"
  },
  "language_info": {
   "codemirror_mode": {
    "name": "ipython",
    "version": 3
   },
   "file_extension": ".py",
   "mimetype": "text/x-python",
   "name": "python",
   "nbconvert_exporter": "python",
   "pygments_lexer": "ipython3",
   "version": "3.9.16"
  }
 },
 "nbformat": 4,
 "nbformat_minor": 5
}
