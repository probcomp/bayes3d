{
 "cells": [
  {
   "cell_type": "code",
   "execution_count": 1,
   "id": "1477c737-919d-4445-bc46-c139b9a3febf",
   "metadata": {},
   "outputs": [],
   "source": [
    "import bayes3d as b\n",
    "import os\n",
    "import jax.numpy as jnp\n",
    "import jax\n",
    "import bayes3d.genjax\n",
    "import genjax\n",
    "import matplotlib\n",
    "from tqdm import tqdm\n",
    "import matplotlib.pyplot as plt"
   ]
  },
  {
   "cell_type": "code",
   "execution_count": 2,
   "id": "d2db391b-3dfd-4b03-9e28-ae49df8839aa",
   "metadata": {},
   "outputs": [],
   "source": [
    "import flax.linen as nn\n",
    "from flax.training.train_state import TrainState\n",
    "from clu import metrics\n",
    "import flax\n",
    "import optax"
   ]
  },
  {
   "cell_type": "code",
   "execution_count": 3,
   "id": "dcb009c9-5d15-477a-8c19-673085f12f9a",
   "metadata": {},
   "outputs": [
    {
     "name": "stdout",
     "output_type": "stream",
     "text": [
      "You can open the visualizer by visiting the following URL:\n",
      "http://127.0.0.1:7005/static/\n"
     ]
    }
   ],
   "source": [
    "b.setup_visualizer()"
   ]
  },
  {
   "cell_type": "code",
   "execution_count": 4,
   "id": "41b66139-aa4a-4164-8393-217fc059c772",
   "metadata": {},
   "outputs": [
    {
     "name": "stderr",
     "output_type": "stream",
     "text": [
      "[E rasterize_gl.cpp:121] OpenGL version reported as 4.6\n"
     ]
    },
    {
     "name": "stdout",
     "output_type": "stream",
     "text": [
      "Increasing frame buffer size to (width, height, depth) = (128, 128, 1024)\n"
     ]
    }
   ],
   "source": [
    "intrinsics = b.Intrinsics(\n",
    "    height=100,\n",
    "    width=100,\n",
    "    fx=200.0, fy=200.0,\n",
    "    cx=50.0, cy=50.0,\n",
    "    near=0.0001, far=2.0\n",
    ")\n",
    "\n",
    "b.setup_renderer(intrinsics)\n",
    "# model_dir = os.path.join(b.utils.get_assets_dir(),\"bop/ycbv/models\")\n",
    "# meshes = []\n",
    "# for idx in range(1,22):\n",
    "#     mesh_path = os.path.join(model_dir,\"obj_\" + \"{}\".format(idx).rjust(6, '0') + \".ply\")\n",
    "#     b.RENDERER.add_mesh_from_file(mesh_path, scaling_factor=1.0/1000.0)\n",
    "# b.RENDERER.add_mesh_from_file(os.path.join(b.utils.get_assets_dir(), \"sample_objs/cube.obj\"), scaling_factor=1.0/1000000000.0)\n"
   ]
  },
  {
   "cell_type": "code",
   "execution_count": 5,
   "id": "e288e29c-dc08-40fd-9601-6973c1929b76",
   "metadata": {},
   "outputs": [
    {
     "name": "stdout",
     "output_type": "stream",
     "text": [
      "Centering mesh with translation [-0.02541  -0.022295  0.007042]\n",
      "Centering mesh with translation [-0.019428  -0.0274155  0.003918 ]\n"
     ]
    }
   ],
   "source": [
    "fork_mesh_path = b.utils.get_assets_dir() + '/ycb_video_models/models/030_fork/nontextured.ply'\n",
    "knife_mesh_path = b.utils.get_assets_dir() + '/ycb_video_models/models/032_knife/nontextured.ply'\n",
    "box_mesh_path = b.utils.get_assets_dir() + '/bop/ycbv/models/obj_000002.ply'\n",
    "table_mesh_path = b.utils.get_assets_dir() + '/sample_objs/cube.obj'\n",
    "fork_scale = knife_scale = 1.0\n",
    "box_scale = 1e-3\n",
    "table_scale = 1e-6\n",
    "mesh_paths = (fork_mesh_path, knife_mesh_path, box_mesh_path, table_mesh_path)\n",
    "scales = (fork_scale, knife_scale, box_scale, table_scale)\n",
    "for mesh_path, scale in zip(mesh_paths, scales):\n",
    "    b.RENDERER.add_mesh_from_file(mesh_path, scaling_factor=scale)"
   ]
  },
  {
   "cell_type": "code",
   "execution_count": 6,
   "id": "ce5fb017-2bda-46a0-b7f0-78c9c321feab",
   "metadata": {},
   "outputs": [],
   "source": [
    "table_pose = b.t3d.inverse_pose(\n",
    "    b.t3d.transform_from_pos_target_up(\n",
    "        jnp.array([0.0, 0.7, 0.5]),\n",
    "        jnp.array([0.0, 0.0, 0.0]),\n",
    "        jnp.array([0.0, 0.0, 1.0]),\n",
    "    )\n",
    ")"
   ]
  },
  {
   "cell_type": "code",
   "execution_count": 7,
   "id": "51037ac1-bfab-4f67-8c70-d9a98c9c4e19",
   "metadata": {},
   "outputs": [],
   "source": [
    "FORK_IDX, KNIFE_IDX, CHEESEITZ_BOX_IDX, TABLE_IDX = 0, 1, 2, 3"
   ]
  },
  {
   "cell_type": "code",
   "execution_count": 8,
   "id": "de1ff76c-46cf-4117-a480-5457e26c5aee",
   "metadata": {},
   "outputs": [],
   "source": [
    "SHIFT_MIN = -0.2\n",
    "SHIFT_SCALE = 0.4\n",
    "CHEESEITZ_BOX_CONTACT_PARAMS = jnp.array([0.0, 0.1, 0.0])"
   ]
  },
  {
   "cell_type": "code",
   "execution_count": 9,
   "id": "bf61fb46-54bb-473e-9c05-770bd3083287",
   "metadata": {},
   "outputs": [],
   "source": [
    "def fork_spoon_from_known_params(is_fork, shift):\n",
    "    indices = jax.lax.cond(is_fork,\n",
    "                           lambda: jnp.array([TABLE_IDX, CHEESEITZ_BOX_IDX, FORK_IDX]),\n",
    "                           lambda: jnp.array([TABLE_IDX, CHEESEITZ_BOX_IDX, KNIFE_IDX]))\n",
    "\n",
    "    box_dims = b.RENDERER.model_box_dims[indices]\n",
    "    root_poses = jnp.array([table_pose, table_pose, table_pose])\n",
    "    parents = jnp.array([-1, 0, 0])\n",
    "    contact_params = jnp.array([[0.0, 0.0, 0.0],\n",
    "                                [*CHEESEITZ_BOX_CONTACT_PARAMS],\n",
    "                                [shift*jnp.cos(jnp.pi/12), -0.05 + shift*jnp.sin(jnp.pi/12), 10*jnp.pi/12]])\n",
    "    faces_parents = jnp.array([0, 2, 2])\n",
    "    faces_child = jnp.array([0, 3, 3])\n",
    "    poses = b.scene_graph.poses_from_scene_graph(\n",
    "        root_poses, box_dims, parents, contact_params, faces_parents, faces_child)\n",
    "    camera_pose = jnp.eye(4)\n",
    "    rendered = b.RENDERER.render(\n",
    "        jnp.linalg.inv(camera_pose) @ poses , indices\n",
    "    )[...,:3]\n",
    "    return (is_fork, rendered)"
   ]
  },
  {
   "cell_type": "code",
   "execution_count": 10,
   "id": "977487bb-3ebc-43bf-bb0e-20329adffeed",
   "metadata": {},
   "outputs": [
    {
     "data": {
      "image/jpeg": "[encoded data removed]",
      "image/png": "[encoded data removed]",
      "text/plain": [
       "<PIL.Image.Image image mode=RGB size=410x200>"
      ]
     },
     "execution_count": 10,
     "metadata": {},
     "output_type": "execute_result"
    }
   ],
   "source": [
    "ss = 0.06\n",
    "b.viz.hstack_images([b.viz.scale_image(b.get_depth_image(fork_spoon_from_known_params(True, ss)[1][...,2]), 2),\n",
    "                     b.viz.scale_image(b.get_depth_image(fork_spoon_from_known_params(False, ss)[1][...,2]), 2)])"
   ]
  },
  {
   "cell_type": "code",
   "execution_count": 11,
   "id": "64366773-62b9-4bea-8819-031eb453acd3",
   "metadata": {},
   "outputs": [],
   "source": [
    "def fork_spoon_generator(key):\n",
    "    is_fork_key, shift_key = jax.random.split(key, 2)\n",
    "    is_fork = jax.random.bernoulli(is_fork_key)\n",
    "    shift = SHIFT_MIN + SHIFT_SCALE * jax.random.uniform(shift_key)\n",
    "\n",
    "    return fork_spoon_from_known_params(is_fork, shift)"
   ]
  },
  {
   "cell_type": "code",
   "execution_count": 12,
   "id": "03d42b13-ed84-430b-b43e-acf409e7a492",
   "metadata": {},
   "outputs": [
    {
     "data": {
      "image/jpeg": "[encoded data removed]",
      "image/png": "[encoded data removed]",
      "text/plain": [
       "<PIL.Image.Image image mode=RGB size=200x200>"
      ]
     },
     "execution_count": 12,
     "metadata": {},
     "output_type": "execute_result"
    }
   ],
   "source": [
    "b.viz.scale_image(b.get_depth_image(fork_spoon_generator(jax.random.PRNGKey(0))[1][...,2]), 2)"
   ]
  },
  {
   "cell_type": "markdown",
   "id": "27824992-5bbb-4581-b5f5-43b8a2c73d5b",
   "metadata": {},
   "source": [
    "## CNN Inference"
   ]
  },
  {
   "cell_type": "markdown",
   "id": "a45fd6be-ea64-41fd-b671-2575fa322afb",
   "metadata": {},
   "source": [
    "C1: conv with 10x10 filter stride 3 32 channels (input 100x100x1, output 31 x 31 x 32)\n",
    "\n",
    "relu (input 31 x 31 x 32, output 31 x 31 x 32)\n",
    "\n",
    "max pooling 3x3 stride 2 32 channels (input 31 x 31 x 32, output 15 x 15x 32)\n",
    "\n",
    "C2: conv with 5x5 filter stride 2 64 channels (input 15 x 15 x 32, output 6 x 6 x 64)\n",
    "\n",
    "relu (input 6 x 6 x 64, output 6 x 6 x 64)\n",
    "\n",
    "max pooling 2x2 stride 2 64 channels (input 6 x 6 x 64, output 3 x 3 x 64)\n",
    "\n",
    "flatten (input 3 x 3 x 64, output 1 x 576)\n",
    "\n",
    "L1: linear (input 1 x 576, output 1x 576)\n",
    "\n",
    "relu\n",
    "\n",
    "L2: linear (input 1 x 576, output 1x 192)\n",
    "\n",
    "relu\n",
    "\n",
    "L3: linear (input 1 x 192, output 1x 24)\n",
    "\n",
    "relu\n",
    "\n",
    "L4: linear (input 1 x 24, output 1 x 2)\n",
    "\n",
    "softmax"
   ]
  },
  {
   "cell_type": "code",
   "execution_count": 13,
   "id": "6ef7103a-c828-4b5e-806d-ee73ae10387f",
   "metadata": {},
   "outputs": [],
   "source": [
    "class CNN(nn.Module):\n",
    "\n",
    "    @nn.compact\n",
    "    def __call__(self, imgs): # XXX todo: make sure the sizes all line up\n",
    "        c1 = nn.Conv(32, (10, 10), strides=(3, 3), padding='VALID')(imgs)\n",
    "        r1 = nn.activation.relu(c1)\n",
    "        m1 = nn.max_pool(r1, (3, 3), strides=(2, 2))\n",
    "        \n",
    "        c2 = nn.Conv(64, (5, 5), strides=(2, 2), padding='VALID')(m1)\n",
    "        r2 = nn.activation.relu(c2)\n",
    "        m2 = nn.max_pool(r2, (2, 2), strides=(2, 2))\n",
    "        \n",
    "        l1 = nn.Dense(576)(m2.reshape(imgs.shape[0], -1))\n",
    "        r3 = nn.activation.relu(l1)\n",
    "\n",
    "        l2 = nn.Dense(192)(r3)\n",
    "        r4 = nn.activation.relu(l2)\n",
    "\n",
    "        l3 = nn.Dense(24)(r4)\n",
    "        r5 = nn.activation.relu(l3)\n",
    "\n",
    "        l4 = nn.Dense(2)(r5)\n",
    "        return l4 # nn.activation.softmax(l4)"
   ]
  },
  {
   "cell_type": "code",
   "execution_count": 14,
   "id": "1bdf044e-ca96-444e-936c-12ba302d9132",
   "metadata": {},
   "outputs": [
    {
     "data": {
      "text/html": [
       "<pre style=\"white-space:pre;overflow-x:auto;line-height:normal;font-family:Menlo,'DejaVu Sans Mono',consolas,'Courier New',monospace\"><span style=\"font-style: italic\">                                          CNN Summary                                          </span>\n",
       "┏━━━━━━━━━┳━━━━━━━━┳━━━━━━━━━━━━━━━━━━━━━━┳━━━━━━━━━━━━━━━━━━━━━┳━━━━━━━━━━━━━━━━━━━━━━━━━━━━━┓\n",
       "┃<span style=\"font-weight: bold\"> path    </span>┃<span style=\"font-weight: bold\"> module </span>┃<span style=\"font-weight: bold\"> inputs               </span>┃<span style=\"font-weight: bold\"> outputs             </span>┃<span style=\"font-weight: bold\"> params                      </span>┃\n",
       "┡━━━━━━━━━╇━━━━━━━━╇━━━━━━━━━━━━━━━━━━━━━━╇━━━━━━━━━━━━━━━━━━━━━╇━━━━━━━━━━━━━━━━━━━━━━━━━━━━━┩\n",
       "│         │ CNN    │ <span style=\"color: #7f7f7f; text-decoration-color: #7f7f7f\">float32</span>[1,100,100,1] │ <span style=\"color: #7f7f7f; text-decoration-color: #7f7f7f\">float32</span>[1,2]        │                             │\n",
       "├─────────┼────────┼──────────────────────┼─────────────────────┼─────────────────────────────┤\n",
       "│ Conv_0  │ Conv   │ <span style=\"color: #7f7f7f; text-decoration-color: #7f7f7f\">float32</span>[1,100,100,1] │ <span style=\"color: #7f7f7f; text-decoration-color: #7f7f7f\">float32</span>[1,31,31,32] │ bias: <span style=\"color: #7f7f7f; text-decoration-color: #7f7f7f\">float32</span>[32]           │\n",
       "│         │        │                      │                     │ kernel: <span style=\"color: #7f7f7f; text-decoration-color: #7f7f7f\">float32</span>[10,10,1,32] │\n",
       "│         │        │                      │                     │                             │\n",
       "│         │        │                      │                     │ <span style=\"font-weight: bold\">3,232 </span><span style=\"color: #7f7f7f; text-decoration-color: #7f7f7f; font-weight: bold\">(12.9 KB)</span>             │\n",
       "├─────────┼────────┼──────────────────────┼─────────────────────┼─────────────────────────────┤\n",
       "│ Conv_1  │ Conv   │ <span style=\"color: #7f7f7f; text-decoration-color: #7f7f7f\">float32</span>[1,15,15,32]  │ <span style=\"color: #7f7f7f; text-decoration-color: #7f7f7f\">float32</span>[1,6,6,64]   │ bias: <span style=\"color: #7f7f7f; text-decoration-color: #7f7f7f\">float32</span>[64]           │\n",
       "│         │        │                      │                     │ kernel: <span style=\"color: #7f7f7f; text-decoration-color: #7f7f7f\">float32</span>[5,5,32,64]  │\n",
       "│         │        │                      │                     │                             │\n",
       "│         │        │                      │                     │ <span style=\"font-weight: bold\">51,264 </span><span style=\"color: #7f7f7f; text-decoration-color: #7f7f7f; font-weight: bold\">(205.1 KB)</span>           │\n",
       "├─────────┼────────┼──────────────────────┼─────────────────────┼─────────────────────────────┤\n",
       "│ Dense_0 │ Dense  │ <span style=\"color: #7f7f7f; text-decoration-color: #7f7f7f\">float32</span>[1,576]       │ <span style=\"color: #7f7f7f; text-decoration-color: #7f7f7f\">float32</span>[1,576]      │ bias: <span style=\"color: #7f7f7f; text-decoration-color: #7f7f7f\">float32</span>[576]          │\n",
       "│         │        │                      │                     │ kernel: <span style=\"color: #7f7f7f; text-decoration-color: #7f7f7f\">float32</span>[576,576]    │\n",
       "│         │        │                      │                     │                             │\n",
       "│         │        │                      │                     │ <span style=\"font-weight: bold\">332,352 </span><span style=\"color: #7f7f7f; text-decoration-color: #7f7f7f; font-weight: bold\">(1.3 MB)</span>            │\n",
       "├─────────┼────────┼──────────────────────┼─────────────────────┼─────────────────────────────┤\n",
       "│ Dense_1 │ Dense  │ <span style=\"color: #7f7f7f; text-decoration-color: #7f7f7f\">float32</span>[1,576]       │ <span style=\"color: #7f7f7f; text-decoration-color: #7f7f7f\">float32</span>[1,192]      │ bias: <span style=\"color: #7f7f7f; text-decoration-color: #7f7f7f\">float32</span>[192]          │\n",
       "│         │        │                      │                     │ kernel: <span style=\"color: #7f7f7f; text-decoration-color: #7f7f7f\">float32</span>[576,192]    │\n",
       "│         │        │                      │                     │                             │\n",
       "│         │        │                      │                     │ <span style=\"font-weight: bold\">110,784 </span><span style=\"color: #7f7f7f; text-decoration-color: #7f7f7f; font-weight: bold\">(443.1 KB)</span>          │\n",
       "├─────────┼────────┼──────────────────────┼─────────────────────┼─────────────────────────────┤\n",
       "│ Dense_2 │ Dense  │ <span style=\"color: #7f7f7f; text-decoration-color: #7f7f7f\">float32</span>[1,192]       │ <span style=\"color: #7f7f7f; text-decoration-color: #7f7f7f\">float32</span>[1,24]       │ bias: <span style=\"color: #7f7f7f; text-decoration-color: #7f7f7f\">float32</span>[24]           │\n",
       "│         │        │                      │                     │ kernel: <span style=\"color: #7f7f7f; text-decoration-color: #7f7f7f\">float32</span>[192,24]     │\n",
       "│         │        │                      │                     │                             │\n",
       "│         │        │                      │                     │ <span style=\"font-weight: bold\">4,632 </span><span style=\"color: #7f7f7f; text-decoration-color: #7f7f7f; font-weight: bold\">(18.5 KB)</span>             │\n",
       "├─────────┼────────┼──────────────────────┼─────────────────────┼─────────────────────────────┤\n",
       "│ Dense_3 │ Dense  │ <span style=\"color: #7f7f7f; text-decoration-color: #7f7f7f\">float32</span>[1,24]        │ <span style=\"color: #7f7f7f; text-decoration-color: #7f7f7f\">float32</span>[1,2]        │ bias: <span style=\"color: #7f7f7f; text-decoration-color: #7f7f7f\">float32</span>[2]            │\n",
       "│         │        │                      │                     │ kernel: <span style=\"color: #7f7f7f; text-decoration-color: #7f7f7f\">float32</span>[24,2]       │\n",
       "│         │        │                      │                     │                             │\n",
       "│         │        │                      │                     │ <span style=\"font-weight: bold\">50 </span><span style=\"color: #7f7f7f; text-decoration-color: #7f7f7f; font-weight: bold\">(200 B)</span>                  │\n",
       "├─────────┼────────┼──────────────────────┼─────────────────────┼─────────────────────────────┤\n",
       "│<span style=\"font-weight: bold\">         </span>│<span style=\"font-weight: bold\">        </span>│<span style=\"font-weight: bold\">                      </span>│<span style=\"font-weight: bold\">               Total </span>│<span style=\"font-weight: bold\"> 502,314 </span><span style=\"color: #7f7f7f; text-decoration-color: #7f7f7f; font-weight: bold\">(2.0 MB)</span><span style=\"font-weight: bold\">            </span>│\n",
       "└─────────┴────────┴──────────────────────┴─────────────────────┴─────────────────────────────┘\n",
       "<span style=\"font-weight: bold\">                                                                                               </span>\n",
       "<span style=\"font-weight: bold\">                              Total Parameters: 502,314 </span><span style=\"color: #7f7f7f; text-decoration-color: #7f7f7f; font-weight: bold\">(2.0 MB)</span><span style=\"font-weight: bold\">                               </span>\n",
       "</pre>\n"
      ],
      "text/plain": [
       "\u001b[3m                                          CNN Summary                                          \u001b[0m\n",
       "┏━━━━━━━━━┳━━━━━━━━┳━━━━━━━━━━━━━━━━━━━━━━┳━━━━━━━━━━━━━━━━━━━━━┳━━━━━━━━━━━━━━━━━━━━━━━━━━━━━┓\n",
       "┃\u001b[1m \u001b[0m\u001b[1mpath   \u001b[0m\u001b[1m \u001b[0m┃\u001b[1m \u001b[0m\u001b[1mmodule\u001b[0m\u001b[1m \u001b[0m┃\u001b[1m \u001b[0m\u001b[1minputs              \u001b[0m\u001b[1m \u001b[0m┃\u001b[1m \u001b[0m\u001b[1moutputs            \u001b[0m\u001b[1m \u001b[0m┃\u001b[1m \u001b[0m\u001b[1mparams                     \u001b[0m\u001b[1m \u001b[0m┃\n",
       "┡━━━━━━━━━╇━━━━━━━━╇━━━━━━━━━━━━━━━━━━━━━━╇━━━━━━━━━━━━━━━━━━━━━╇━━━━━━━━━━━━━━━━━━━━━━━━━━━━━┩\n",
       "│         │ CNN    │ \u001b[2mfloat32\u001b[0m[1,100,100,1] │ \u001b[2mfloat32\u001b[0m[1,2]        │                             │\n",
       "├─────────┼────────┼──────────────────────┼─────────────────────┼─────────────────────────────┤\n",
       "│ Conv_0  │ Conv   │ \u001b[2mfloat32\u001b[0m[1,100,100,1] │ \u001b[2mfloat32\u001b[0m[1,31,31,32] │ bias: \u001b[2mfloat32\u001b[0m[32]           │\n",
       "│         │        │                      │                     │ kernel: \u001b[2mfloat32\u001b[0m[10,10,1,32] │\n",
       "│         │        │                      │                     │                             │\n",
       "│         │        │                      │                     │ \u001b[1m3,232 \u001b[0m\u001b[1;2m(12.9 KB)\u001b[0m             │\n",
       "├─────────┼────────┼──────────────────────┼─────────────────────┼─────────────────────────────┤\n",
       "│ Conv_1  │ Conv   │ \u001b[2mfloat32\u001b[0m[1,15,15,32]  │ \u001b[2mfloat32\u001b[0m[1,6,6,64]   │ bias: \u001b[2mfloat32\u001b[0m[64]           │\n",
       "│         │        │                      │                     │ kernel: \u001b[2mfloat32\u001b[0m[5,5,32,64]  │\n",
       "│         │        │                      │                     │                             │\n",
       "│         │        │                      │                     │ \u001b[1m51,264 \u001b[0m\u001b[1;2m(205.1 KB)\u001b[0m           │\n",
       "├─────────┼────────┼──────────────────────┼─────────────────────┼─────────────────────────────┤\n",
       "│ Dense_0 │ Dense  │ \u001b[2mfloat32\u001b[0m[1,576]       │ \u001b[2mfloat32\u001b[0m[1,576]      │ bias: \u001b[2mfloat32\u001b[0m[576]          │\n",
       "│         │        │                      │                     │ kernel: \u001b[2mfloat32\u001b[0m[576,576]    │\n",
       "│         │        │                      │                     │                             │\n",
       "│         │        │                      │                     │ \u001b[1m332,352 \u001b[0m\u001b[1;2m(1.3 MB)\u001b[0m            │\n",
       "├─────────┼────────┼──────────────────────┼─────────────────────┼─────────────────────────────┤\n",
       "│ Dense_1 │ Dense  │ \u001b[2mfloat32\u001b[0m[1,576]       │ \u001b[2mfloat32\u001b[0m[1,192]      │ bias: \u001b[2mfloat32\u001b[0m[192]          │\n",
       "│         │        │                      │                     │ kernel: \u001b[2mfloat32\u001b[0m[576,192]    │\n",
       "│         │        │                      │                     │                             │\n",
       "│         │        │                      │                     │ \u001b[1m110,784 \u001b[0m\u001b[1;2m(443.1 KB)\u001b[0m          │\n",
       "├─────────┼────────┼──────────────────────┼─────────────────────┼─────────────────────────────┤\n",
       "│ Dense_2 │ Dense  │ \u001b[2mfloat32\u001b[0m[1,192]       │ \u001b[2mfloat32\u001b[0m[1,24]       │ bias: \u001b[2mfloat32\u001b[0m[24]           │\n",
       "│         │        │                      │                     │ kernel: \u001b[2mfloat32\u001b[0m[192,24]     │\n",
       "│         │        │                      │                     │                             │\n",
       "│         │        │                      │                     │ \u001b[1m4,632 \u001b[0m\u001b[1;2m(18.5 KB)\u001b[0m             │\n",
       "├─────────┼────────┼──────────────────────┼─────────────────────┼─────────────────────────────┤\n",
       "│ Dense_3 │ Dense  │ \u001b[2mfloat32\u001b[0m[1,24]        │ \u001b[2mfloat32\u001b[0m[1,2]        │ bias: \u001b[2mfloat32\u001b[0m[2]            │\n",
       "│         │        │                      │                     │ kernel: \u001b[2mfloat32\u001b[0m[24,2]       │\n",
       "│         │        │                      │                     │                             │\n",
       "│         │        │                      │                     │ \u001b[1m50 \u001b[0m\u001b[1;2m(200 B)\u001b[0m                  │\n",
       "├─────────┼────────┼──────────────────────┼─────────────────────┼─────────────────────────────┤\n",
       "│\u001b[1m \u001b[0m\u001b[1m       \u001b[0m\u001b[1m \u001b[0m│\u001b[1m \u001b[0m\u001b[1m      \u001b[0m\u001b[1m \u001b[0m│\u001b[1m \u001b[0m\u001b[1m                    \u001b[0m\u001b[1m \u001b[0m│\u001b[1m \u001b[0m\u001b[1m              Total\u001b[0m\u001b[1m \u001b[0m│\u001b[1m \u001b[0m\u001b[1m502,314 \u001b[0m\u001b[1;2m(2.0 MB)\u001b[0m\u001b[1m           \u001b[0m\u001b[1m \u001b[0m│\n",
       "└─────────┴────────┴──────────────────────┴─────────────────────┴─────────────────────────────┘\n",
       "\u001b[1m                                                                                               \u001b[0m\n",
       "\u001b[1m                              Total Parameters: 502,314 \u001b[0m\u001b[1;2m(2.0 MB)\u001b[0m\u001b[1m                               \u001b[0m\n"
      ]
     },
     "metadata": {},
     "output_type": "display_data"
    },
    {
     "data": {
      "text/plain": [
       "'\\n\\n'"
      ]
     },
     "execution_count": 14,
     "metadata": {},
     "output_type": "execute_result"
    }
   ],
   "source": [
    "cnn = CNN()\n",
    "cnn.tabulate(jax.random.PRNGKey(0), jnp.zeros((1, 100, 100, 1)), console_kwargs={'force_jupyter': True})"
   ]
  },
  {
   "cell_type": "code",
   "execution_count": 15,
   "id": "ed8dbb6c-96e4-4f05-89bb-37dfb597cd98",
   "metadata": {},
   "outputs": [],
   "source": [
    "def create_train_state(module, rng, learning_rate, momentum):\n",
    "    \"\"\"Creates an initial `TrainState`.\"\"\"\n",
    "    params = module.init(rng, jnp.ones([BATCH_SIZE, 100, 100, 1]))['params'] # initialize parameters by passing a template image\n",
    "    tx = optax.sgd(learning_rate, momentum)\n",
    "    return TrainState.create(apply_fn=module.apply, params=params, tx=tx)"
   ]
  },
  {
   "cell_type": "code",
   "execution_count": 16,
   "id": "8cfb3cf1-c6fb-4e39-9c10-383a48792647",
   "metadata": {},
   "outputs": [],
   "source": [
    "make_onehot = lambda b: jax.lax.cond(b, lambda: jnp.array([0.0, 1.0]), lambda: jnp.array([1.0, 0.0]))"
   ]
  },
  {
   "cell_type": "code",
   "execution_count": 17,
   "id": "3ec3c604-8fc7-40a3-8e9d-7726bd6b57e0",
   "metadata": {},
   "outputs": [],
   "source": [
    "@jax.jit\n",
    "def make_batch(batch_keys):\n",
    "    is_forks, imgs = zip(*map(fork_spoon_generator, batch_keys))\n",
    "    img_batch = jnp.concatenate([img[:,:,2].reshape(1, 100, 100, 1) for img in imgs], 0)\n",
    "    label_batch = jnp.array([make_onehot(is_fork) for is_fork in is_forks])\n",
    "    return img_batch, label_batch"
   ]
  },
  {
   "cell_type": "code",
   "execution_count": 18,
   "id": "d9d94c23-8182-4379-aba7-81ebc8a5fe39",
   "metadata": {},
   "outputs": [],
   "source": [
    "@jax.jit\n",
    "def train_step(state, img_batch, label_batch): \n",
    "    \"\"\"Train for a single step.\"\"\"\n",
    "    def loss_fn(params):\n",
    "        logits = state.apply_fn({'params': params}, img_batch)\n",
    "        loss = optax.softmax_cross_entropy(logits=logits, labels=label_batch).mean()\n",
    "        return loss\n",
    "    grad_fn = jax.grad(loss_fn)\n",
    "    grads = grad_fn(state.params)\n",
    "    state = state.apply_gradients(grads=grads)\n",
    "    return state, loss_fn(state.params)"
   ]
  },
  {
   "cell_type": "code",
   "execution_count": 19,
   "id": "5914ecee-34fe-4669-8846-b6d87c3563b5",
   "metadata": {},
   "outputs": [],
   "source": [
    "@jax.jit\n",
    "def calc_loss(train_state, dataset_keys):\n",
    "    img_batch, label_batch = make_batch(dataset_keys)\n",
    "    return optax.softmax_cross_entropy(\n",
    "        logits= train_state.apply_fn({'params': train_state.params}, img_batch),\n",
    "        labels=label_batch).mean()\n",
    "\n",
    "def calc_loss_batched(train_state, dataset_keys):\n",
    "    n_batches = dataset_keys.shape[0] // BATCH_SIZE\n",
    "    return jnp.array([calc_loss(train_state, batch)\n",
    "                      for batch in dataset_keys.reshape(n_batches, BATCH_SIZE, 2)]).mean()"
   ]
  },
  {
   "cell_type": "code",
   "execution_count": 20,
   "id": "c764c89b-a127-4ccf-b731-3122c945e097",
   "metadata": {},
   "outputs": [],
   "source": [
    "N_TRAIN = 30000\n",
    "N_TEST = 1000\n",
    "N_EPOCHS = 10\n",
    "BATCH_SIZE = 100\n",
    "LEARNING_RATE = 0.02\n",
    "MOMENTUM = 0.9\n",
    "assert N_TRAIN % BATCH_SIZE == 0\n",
    "assert N_TEST % BATCH_SIZE == 0"
   ]
  },
  {
   "cell_type": "code",
   "execution_count": 21,
   "id": "d0d11caa-3935-4ba5-acf3-6fe685de7bca",
   "metadata": {},
   "outputs": [],
   "source": [
    "state = create_train_state(cnn, jax.random.PRNGKey(0), LEARNING_RATE, MOMENTUM)"
   ]
  },
  {
   "cell_type": "code",
   "execution_count": 22,
   "id": "2dc04fea-c89a-49f4-be30-eedc8ae10579",
   "metadata": {},
   "outputs": [],
   "source": [
    "train_keys = jax.random.split(jax.random.PRNGKey(0), N_TRAIN)\n",
    "test_keys = jax.random.split(jax.random.PRNGKey(2718), N_TEST)\n",
    "shuffling_key = jax.random.PRNGKey(0)"
   ]
  },
  {
   "cell_type": "code",
   "execution_count": 23,
   "id": "58289c66-acac-4942-bf14-c503a66a911a",
   "metadata": {},
   "outputs": [],
   "source": [
    "training_losses = []"
   ]
  },
  {
   "cell_type": "code",
   "execution_count": 25,
   "id": "36c65902-e84b-4d87-937c-089ec9c3694b",
   "metadata": {},
   "outputs": [
    {
     "name": "stderr",
     "output_type": "stream",
     "text": [
      "2023-08-31 19:02:48.999376: W external/xla/xla/service/gpu/runtime/support.cc:58] Intercepted XLA runtime error:\n",
      "UNKNOWN: jax_rasterize_fwd_gl XLA extension have thrown an exception: Cuda error: 999[cudaGraphicsGLRegisterImage(&s.cudaPoseTexture, s.glPoseTexture, GL_TEXTURE_2D, cudaGraphicsRegisterFlagsReadOnly);]\n",
      "Exception raised from _rasterize_fwd_gl at /home/matin/bayes3d/bayes3d/_rendering/nvdiffrast/common/rasterize_gl.cpp:494 (most recent call first):\n",
      "frame #0: c10::Error::Error(c10::SourceLocation, std::string) + 0x57 (0x7f78541db4d7 in /opt/conda/envs/bayes3d/lib/python3.9/site-packages/torch/lib/libc10.so)\n",
      "frame #1: c10::detail::torchCheckFail(char const*, char const*, unsigned int, std::string const&) + 0x64 (0x7f78541a536b in /opt/conda/envs/bayes3d/lib/python3.9/site-packages/torch/lib/libc10.so)\n",
      "frame #2: _rasterize_fwd_gl(CUstream_st*, RasterizeGLStateWrapper&, float const*, unsigned int, unsigned int, std::vector<float, std::allocator<float> > const&, std::vector<int, std::allocator<int> > const&, void*) + 0x434 (0x7f78103c58a3 in /home/matin/.cache/torch_extensions/py39_cu118/nvdiffrast_plugin_gl/nvdiffrast_plugin_gl.so)\n",
      "frame #3: jax_rasterize_fwd_gl(CUstream_st*, void**, char const*, unsigned long) + 0x205 (0x7f78103c6a67 in /home/matin/.cache/torch_extensions/py39_cu118/nvdiffrast_plugin_gl/nvdiffrast_plugin_gl.so)\n",
      "frame #4: <unknown function> + 0x2df1ff1 (0x7f790a7e9ff1 in /opt/conda/envs/bayes3d/lib/python3.9/site-packages/jaxlib/xla_extension.so)\n",
      "frame #5: <unknown function> + 0x2df2d02 (0x7f790a7ead02 in /opt/conda/envs/bayes3d/lib/python3.9/site-packages/jaxlib/xla_extension.so)\n",
      "frame #6: [0x7f737e79c65c]\n",
      "\n",
      "2023-08-31 19:02:48.999454: E external/xla/xla/pjrt/pjrt_stream_executor_client.cc:2593] Execution of replica 0 failed: INTERNAL: Failed to execute XLA Runtime executable: run time error: custom call 'xla.gpu.custom_call' failed: jax_rasterize_fwd_gl XLA extension have thrown an exception: Cuda error: 999[cudaGraphicsGLRegisterImage(&s.cudaPoseTexture, s.glPoseTexture, GL_TEXTURE_2D, cudaGraphicsRegisterFlagsReadOnly);]\n",
      "Exception raised from _rasterize_fwd_gl at /home/matin/bayes3d/bayes3d/_rendering/nvdiffrast/common/rasterize_gl.cpp:494 (most recent call first):\n",
      "frame #0: c10::Error::Error(c10::SourceLocation, std::string) + 0x57 (0x7f78541db4d7 in /opt/conda/envs/bayes3d/lib/python3.9/site-packages/torch/lib/libc10.so)\n",
      "frame #1: c10::detail::torchCheckFail(char const*, char const*, unsigned int, std::string const&) + 0x64 (0x7f78541a536b in /opt/conda/envs/bayes3d/lib/python3.9/site-packages/torch/lib/libc10.so)\n",
      "frame #2: _rasterize_fwd_gl(CUstream_st*, RasterizeGLStateWrapper&, float const*, unsigned int, unsigned int, std::vector<float, std::allocator<float> > const&, std::vector<int, std::allocator<int> > const&, void*) + 0x434 (0x7f78103c58a3 in /home/matin/.cache/torch_extensions/py39_cu118/nvdiffrast_plugin_gl/nvdiffrast_plugin_gl.so)\n",
      "frame #3: jax_rasterize_fwd_gl(CUstream_st*, void**, char const*, unsigned long) + 0x205 (0x7f78103c6a67 in /home/matin/.cache/torch_extensions/py39_cu118/nvdiffrast_plugin_gl/nvdiffrast_plugin_gl.so)\n",
      "frame #4: <unknown function> + 0x2df1ff1 (0x7f790a7e9ff1 in /opt/conda/envs/bayes3d/lib/python3.9/site-packages/jaxlib/xla_extension.so)\n",
      "frame #5: <unknown function> + 0x2df2d02 (0x7f790a7ead02 in /opt/conda/envs/bayes3d/lib/python3.9/site-packages/jaxlib/xla_extension.so)\n",
      "frame #6: [0x7f737e79c65c]\n",
      "; current tracing scope: custom-call.1082; current profiling annotation: XlaModule:#hlo_module=jit_make_batch,program_id=539#.\n"
     ]
    },
    {
     "ename": "ValueError",
     "evalue": "INTERNAL: Failed to execute XLA Runtime executable: run time error: custom call 'xla.gpu.custom_call' failed: jax_rasterize_fwd_gl XLA extension have thrown an exception: Cuda error: 999[cudaGraphicsGLRegisterImage(&s.cudaPoseTexture, s.glPoseTexture, GL_TEXTURE_2D, cudaGraphicsRegisterFlagsReadOnly);]\nException raised from _rasterize_fwd_gl at /home/matin/bayes3d/bayes3d/_rendering/nvdiffrast/common/rasterize_gl.cpp:494 (most recent call first):\nframe #0: c10::Error::Error(c10::SourceLocation, std::string) + 0x57 (0x7f78541db4d7 in /opt/conda/envs/bayes3d/lib/python3.9/site-packages/torch/lib/libc10.so)\nframe #1: c10::detail::torchCheckFail(char const*, char const*, unsigned int, std::string const&) + 0x64 (0x7f78541a536b in /opt/conda/envs/bayes3d/lib/python3.9/site-packages/torch/lib/libc10.so)\nframe #2: _rasterize_fwd_gl(CUstream_st*, RasterizeGLStateWrapper&, float const*, unsigned int, unsigned int, std::vector<float, std::allocator<float> > const&, std::vector<int, std::allocator<int> > const&, void*) + 0x434 (0x7f78103c58a3 in /home/matin/.cache/torch_extensions/py39_cu118/nvdiffrast_plugin_gl/nvdiffrast_plugin_gl.so)\nframe #3: jax_rasterize_fwd_gl(CUstream_st*, void**, char const*, unsigned long) + 0x205 (0x7f78103c6a67 in /home/matin/.cache/torch_extensions/py39_cu118/nvdiffrast_plugin_gl/nvdiffrast_plugin_gl.so)\nframe #4: <unknown function> + 0x2df1ff1 (0x7f790a7e9ff1 in /opt/conda/envs/bayes3d/lib/python3.9/site-packages/jaxlib/xla_extension.so)\nframe #5: <unknown function> + 0x2df2d02 (0x7f790a7ead02 in /opt/conda/envs/bayes3d/lib/python3.9/site-packages/jaxlib/xla_extension.so)\nframe #6: [0x7f737e79c65c]\n; current tracing scope: custom-call.1082; current profiling annotation: XlaModule:#hlo_module=jit_make_batch,program_id=539#.",
     "output_type": "error",
     "traceback": [
      "\u001b[0;31m---------------------------------------------------------------------------\u001b[0m",
      "\u001b[0;31mValueError\u001b[0m                                Traceback (most recent call last)",
      "Cell \u001b[0;32mIn[25], line 9\u001b[0m\n\u001b[1;32m      7\u001b[0m \u001b[38;5;28;01mfor\u001b[39;00m step \u001b[38;5;129;01min\u001b[39;00m \u001b[38;5;28mrange\u001b[39m(N_TRAIN \u001b[38;5;241m/\u001b[39m\u001b[38;5;241m/\u001b[39m BATCH_SIZE):\n\u001b[1;32m      8\u001b[0m     batch_keys \u001b[38;5;241m=\u001b[39m epoch_keys[step\u001b[38;5;241m*\u001b[39mBATCH_SIZE:(\u001b[38;5;241m1\u001b[39m\u001b[38;5;241m+\u001b[39mstep)\u001b[38;5;241m*\u001b[39mBATCH_SIZE]\n\u001b[0;32m----> 9\u001b[0m     img_batch, label_batch \u001b[38;5;241m=\u001b[39m \u001b[43mmake_batch\u001b[49m\u001b[43m(\u001b[49m\u001b[43mbatch_keys\u001b[49m\u001b[43m)\u001b[49m\n\u001b[1;32m     11\u001b[0m     state, loss \u001b[38;5;241m=\u001b[39m train_step(state, img_batch, label_batch) \n\u001b[1;32m     12\u001b[0m     training_losses[\u001b[38;5;241m-\u001b[39m\u001b[38;5;241m1\u001b[39m]\u001b[38;5;241m.\u001b[39mappend(loss)\n",
      "\u001b[0;31mValueError\u001b[0m: INTERNAL: Failed to execute XLA Runtime executable: run time error: custom call 'xla.gpu.custom_call' failed: jax_rasterize_fwd_gl XLA extension have thrown an exception: Cuda error: 999[cudaGraphicsGLRegisterImage(&s.cudaPoseTexture, s.glPoseTexture, GL_TEXTURE_2D, cudaGraphicsRegisterFlagsReadOnly);]\nException raised from _rasterize_fwd_gl at /home/matin/bayes3d/bayes3d/_rendering/nvdiffrast/common/rasterize_gl.cpp:494 (most recent call first):\nframe #0: c10::Error::Error(c10::SourceLocation, std::string) + 0x57 (0x7f78541db4d7 in /opt/conda/envs/bayes3d/lib/python3.9/site-packages/torch/lib/libc10.so)\nframe #1: c10::detail::torchCheckFail(char const*, char const*, unsigned int, std::string const&) + 0x64 (0x7f78541a536b in /opt/conda/envs/bayes3d/lib/python3.9/site-packages/torch/lib/libc10.so)\nframe #2: _rasterize_fwd_gl(CUstream_st*, RasterizeGLStateWrapper&, float const*, unsigned int, unsigned int, std::vector<float, std::allocator<float> > const&, std::vector<int, std::allocator<int> > const&, void*) + 0x434 (0x7f78103c58a3 in /home/matin/.cache/torch_extensions/py39_cu118/nvdiffrast_plugin_gl/nvdiffrast_plugin_gl.so)\nframe #3: jax_rasterize_fwd_gl(CUstream_st*, void**, char const*, unsigned long) + 0x205 (0x7f78103c6a67 in /home/matin/.cache/torch_extensions/py39_cu118/nvdiffrast_plugin_gl/nvdiffrast_plugin_gl.so)\nframe #4: <unknown function> + 0x2df1ff1 (0x7f790a7e9ff1 in /opt/conda/envs/bayes3d/lib/python3.9/site-packages/jaxlib/xla_extension.so)\nframe #5: <unknown function> + 0x2df2d02 (0x7f790a7ead02 in /opt/conda/envs/bayes3d/lib/python3.9/site-packages/jaxlib/xla_extension.so)\nframe #6: [0x7f737e79c65c]\n; current tracing scope: custom-call.1082; current profiling annotation: XlaModule:#hlo_module=jit_make_batch,program_id=539#."
     ]
    }
   ],
   "source": [
    "for epoch in range(N_EPOCHS):\n",
    "    training_losses.append([])\n",
    "    epoch_keys = jax.random.permutation(shuffling_key, train_keys)\n",
    "    shuffling_key = jax.random.split(shuffling_key, 2)[1]\n",
    "\n",
    "    assert N_TRAIN % BATCH_SIZE == 0\n",
    "    for step in range(N_TRAIN // BATCH_SIZE):\n",
    "        batch_keys = epoch_keys[step*BATCH_SIZE:(1+step)*BATCH_SIZE]\n",
    "        img_batch, label_batch = make_batch(batch_keys)\n",
    "        \n",
    "        state, loss = train_step(state, img_batch, label_batch) \n",
    "        training_losses[-1].append(loss)\n",
    "        print('.', end='')\n",
    "    print()\n",
    "\n",
    "    epoch_loss = jnp.array(training_losses[-1]).mean()\n",
    "    #epoch_train_loss = calc_loss_batched(state, train_keys)\n",
    "    #epoch_test_loss = calc_loss_batched(state, test_keys)\n",
    "    epoch_train_loss = 'not calculated'\n",
    "    epoch_test_loss = 'not calculated'\n",
    "    print(f'epoch: {epoch}, average loss: {epoch_loss}, '\n",
    "          f'train loss: {epoch_train_loss}, '\n",
    "          f'test loss: {epoch_test_loss}')"
   ]
  },
  {
   "cell_type": "code",
   "execution_count": null,
   "id": "d3fc54da-c346-4406-b934-034b4313eafe",
   "metadata": {},
   "outputs": [],
   "source": [
    "#plt.plot(training_losses)"
   ]
  },
  {
   "cell_type": "code",
   "execution_count": null,
   "id": "fae87da9-2cda-4441-a1fc-31a7471e716b",
   "metadata": {},
   "outputs": [],
   "source": [
    "img_batch, label_batch = make_batch(batch_keys)\n",
    "logits = state.apply_fn({'params': state.params}, img_batch)"
   ]
  },
  {
   "cell_type": "code",
   "execution_count": null,
   "id": "78c15278-a10d-4e06-942b-84553af4f7ec",
   "metadata": {},
   "outputs": [],
   "source": [
    "i = 33 #23 # 13"
   ]
  },
  {
   "cell_type": "code",
   "execution_count": null,
   "id": "16d88a95-ecc7-4bf4-90bb-48b1fc2a0935",
   "metadata": {},
   "outputs": [],
   "source": [
    "b.viz.scale_image(b.get_depth_image(img_batch[i, :, :, 0]), 2)"
   ]
  },
  {
   "cell_type": "code",
   "execution_count": null,
   "id": "ad0420f5-f05c-4633-a6bd-b169810ba6e8",
   "metadata": {},
   "outputs": [],
   "source": [
    "label_batch[i], jax.nn.softmax(logits[i])"
   ]
  }
 ],
 "metadata": {
  "kernelspec": {
   "display_name": "Python 3 (ipykernel)",
   "language": "python",
   "name": "python3"
  },
  "language_info": {
   "codemirror_mode": {
    "name": "ipython",
    "version": 3
   },
   "file_extension": ".py",
   "mimetype": "text/x-python",
   "name": "python",
   "nbconvert_exporter": "python",
   "pygments_lexer": "ipython3",
   "version": "3.9.17"
  }
 },
 "nbformat": 4,
 "nbformat_minor": 5
}
