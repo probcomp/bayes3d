{
 "cells": [
  {
   "cell_type": "code",
   "execution_count": 1,
   "id": "1477c737-919d-4445-bc46-c139b9a3febf",
   "metadata": {},
   "outputs": [],
   "source": [
    "import bayes3d as b\n",
    "import os\n",
    "import jax.numpy as jnp\n",
    "import jax\n",
    "import bayes3d.genjax\n",
    "import genjax\n",
    "import matplotlib\n",
    "from tqdm import tqdm\n",
    "import matplotlib.pyplot as plt"
   ]
  },
  {
   "cell_type": "code",
   "execution_count": 2,
   "id": "d2db391b-3dfd-4b03-9e28-ae49df8839aa",
   "metadata": {},
   "outputs": [],
   "source": [
    "import flax.linen as nn\n",
    "from flax.training.train_state import TrainState\n",
    "from clu import metrics\n",
    "import flax\n",
    "import optax"
   ]
  },
  {
   "cell_type": "code",
   "execution_count": 24,
   "id": "af096265-4e27-4ac7-ac04-0d633c8bbe16",
   "metadata": {},
   "outputs": [],
   "source": [
    "import pickle"
   ]
  },
  {
   "cell_type": "markdown",
   "id": "27824992-5bbb-4581-b5f5-43b8a2c73d5b",
   "metadata": {},
   "source": [
    "## CNN Inference"
   ]
  },
  {
   "cell_type": "markdown",
   "id": "a45fd6be-ea64-41fd-b671-2575fa322afb",
   "metadata": {},
   "source": [
    "C1: conv with 10x10 filter stride 3 32 channels (input 100x100x1, output 31 x 31 x 32)\n",
    "\n",
    "relu (input 31 x 31 x 32, output 31 x 31 x 32)\n",
    "\n",
    "max pooling 3x3 stride 2 32 channels (input 31 x 31 x 32, output 15 x 15x 32)\n",
    "\n",
    "C2: conv with 5x5 filter stride 2 64 channels (input 15 x 15 x 32, output 6 x 6 x 64)\n",
    "\n",
    "relu (input 6 x 6 x 64, output 6 x 6 x 64)\n",
    "\n",
    "max pooling 2x2 stride 2 64 channels (input 6 x 6 x 64, output 3 x 3 x 64)\n",
    "\n",
    "flatten (input 3 x 3 x 64, output 1 x 576)\n",
    "\n",
    "L1: linear (input 1 x 576, output 1x 576)\n",
    "\n",
    "relu\n",
    "\n",
    "L2: linear (input 1 x 576, output 1x 192)\n",
    "\n",
    "relu\n",
    "\n",
    "L3: linear (input 1 x 192, output 1x 24)\n",
    "\n",
    "relu\n",
    "\n",
    "L4: linear (input 1 x 24, output 1 x 2)\n",
    "\n",
    "softmax"
   ]
  },
  {
   "cell_type": "code",
   "execution_count": 3,
   "id": "6ef7103a-c828-4b5e-806d-ee73ae10387f",
   "metadata": {},
   "outputs": [],
   "source": [
    "class CNN(nn.Module):\n",
    "\n",
    "    @nn.compact\n",
    "    def __call__(self, imgs): # XXX todo: make sure the sizes all line up\n",
    "        x = nn.Conv(64, (10, 10), strides=(3, 3), padding='VALID')(imgs)\n",
    "        x = nn.activation.relu(x)\n",
    "        x = nn.max_pool(x, (3, 3), strides=(2, 2))\n",
    "        \n",
    "        x = nn.Conv(128, (5, 5), strides=(2, 2), padding='VALID')(x)\n",
    "        x = nn.activation.relu(x)\n",
    "        x = nn.max_pool(x, (2, 2), strides=(2, 2))\n",
    "        \n",
    "        x = nn.Dense(1024)(x.reshape(imgs.shape[0], -1))\n",
    "        x = nn.activation.relu(x)\n",
    "        \n",
    "        x = nn.Dense(1024)(x)\n",
    "        x = nn.activation.relu(x)\n",
    "        \n",
    "        x = nn.Dense(576)(x)\n",
    "        x = nn.activation.relu(x)\n",
    "\n",
    "        x = nn.Dense(192)(x)\n",
    "        x = nn.activation.relu(x)\n",
    "\n",
    "        x = nn.Dense(24)(x)\n",
    "        x = nn.activation.relu(x)\n",
    "\n",
    "        x = nn.Dense(2)(x)\n",
    "        return x "
   ]
  },
  {
   "cell_type": "code",
   "execution_count": 4,
   "id": "1bdf044e-ca96-444e-936c-12ba302d9132",
   "metadata": {},
   "outputs": [
    {
     "data": {
      "text/html": [
       "<pre style=\"white-space:pre;overflow-x:auto;line-height:normal;font-family:Menlo,'DejaVu Sans Mono',consolas,'Courier New',monospace\"><span style=\"font-style: italic\">                                          CNN Summary                                          </span>\n",
       "┏━━━━━━━━━┳━━━━━━━━┳━━━━━━━━━━━━━━━━━━━━━━┳━━━━━━━━━━━━━━━━━━━━━┳━━━━━━━━━━━━━━━━━━━━━━━━━━━━━┓\n",
       "┃<span style=\"font-weight: bold\"> path    </span>┃<span style=\"font-weight: bold\"> module </span>┃<span style=\"font-weight: bold\"> inputs               </span>┃<span style=\"font-weight: bold\"> outputs             </span>┃<span style=\"font-weight: bold\"> params                      </span>┃\n",
       "┡━━━━━━━━━╇━━━━━━━━╇━━━━━━━━━━━━━━━━━━━━━━╇━━━━━━━━━━━━━━━━━━━━━╇━━━━━━━━━━━━━━━━━━━━━━━━━━━━━┩\n",
       "│         │ CNN    │ <span style=\"color: #7f7f7f; text-decoration-color: #7f7f7f\">float32</span>[1,100,100,1] │ <span style=\"color: #7f7f7f; text-decoration-color: #7f7f7f\">float32</span>[1,2]        │                             │\n",
       "├─────────┼────────┼──────────────────────┼─────────────────────┼─────────────────────────────┤\n",
       "│ Conv_0  │ Conv   │ <span style=\"color: #7f7f7f; text-decoration-color: #7f7f7f\">float32</span>[1,100,100,1] │ <span style=\"color: #7f7f7f; text-decoration-color: #7f7f7f\">float32</span>[1,31,31,64] │ bias: <span style=\"color: #7f7f7f; text-decoration-color: #7f7f7f\">float32</span>[64]           │\n",
       "│         │        │                      │                     │ kernel: <span style=\"color: #7f7f7f; text-decoration-color: #7f7f7f\">float32</span>[10,10,1,64] │\n",
       "│         │        │                      │                     │                             │\n",
       "│         │        │                      │                     │ <span style=\"font-weight: bold\">6,464 </span><span style=\"color: #7f7f7f; text-decoration-color: #7f7f7f; font-weight: bold\">(25.9 KB)</span>             │\n",
       "├─────────┼────────┼──────────────────────┼─────────────────────┼─────────────────────────────┤\n",
       "│ Conv_1  │ Conv   │ <span style=\"color: #7f7f7f; text-decoration-color: #7f7f7f\">float32</span>[1,15,15,64]  │ <span style=\"color: #7f7f7f; text-decoration-color: #7f7f7f\">float32</span>[1,6,6,128]  │ bias: <span style=\"color: #7f7f7f; text-decoration-color: #7f7f7f\">float32</span>[128]          │\n",
       "│         │        │                      │                     │ kernel: <span style=\"color: #7f7f7f; text-decoration-color: #7f7f7f\">float32</span>[5,5,64,128] │\n",
       "│         │        │                      │                     │                             │\n",
       "│         │        │                      │                     │ <span style=\"font-weight: bold\">204,928 </span><span style=\"color: #7f7f7f; text-decoration-color: #7f7f7f; font-weight: bold\">(819.7 KB)</span>          │\n",
       "├─────────┼────────┼──────────────────────┼─────────────────────┼─────────────────────────────┤\n",
       "│ Dense_0 │ Dense  │ <span style=\"color: #7f7f7f; text-decoration-color: #7f7f7f\">float32</span>[1,1152]      │ <span style=\"color: #7f7f7f; text-decoration-color: #7f7f7f\">float32</span>[1,1024]     │ bias: <span style=\"color: #7f7f7f; text-decoration-color: #7f7f7f\">float32</span>[1024]         │\n",
       "│         │        │                      │                     │ kernel: <span style=\"color: #7f7f7f; text-decoration-color: #7f7f7f\">float32</span>[1152,1024]  │\n",
       "│         │        │                      │                     │                             │\n",
       "│         │        │                      │                     │ <span style=\"font-weight: bold\">1,180,672 </span><span style=\"color: #7f7f7f; text-decoration-color: #7f7f7f; font-weight: bold\">(4.7 MB)</span>          │\n",
       "├─────────┼────────┼──────────────────────┼─────────────────────┼─────────────────────────────┤\n",
       "│ Dense_1 │ Dense  │ <span style=\"color: #7f7f7f; text-decoration-color: #7f7f7f\">float32</span>[1,1024]      │ <span style=\"color: #7f7f7f; text-decoration-color: #7f7f7f\">float32</span>[1,1024]     │ bias: <span style=\"color: #7f7f7f; text-decoration-color: #7f7f7f\">float32</span>[1024]         │\n",
       "│         │        │                      │                     │ kernel: <span style=\"color: #7f7f7f; text-decoration-color: #7f7f7f\">float32</span>[1024,1024]  │\n",
       "│         │        │                      │                     │                             │\n",
       "│         │        │                      │                     │ <span style=\"font-weight: bold\">1,049,600 </span><span style=\"color: #7f7f7f; text-decoration-color: #7f7f7f; font-weight: bold\">(4.2 MB)</span>          │\n",
       "├─────────┼────────┼──────────────────────┼─────────────────────┼─────────────────────────────┤\n",
       "│ Dense_2 │ Dense  │ <span style=\"color: #7f7f7f; text-decoration-color: #7f7f7f\">float32</span>[1,1024]      │ <span style=\"color: #7f7f7f; text-decoration-color: #7f7f7f\">float32</span>[1,576]      │ bias: <span style=\"color: #7f7f7f; text-decoration-color: #7f7f7f\">float32</span>[576]          │\n",
       "│         │        │                      │                     │ kernel: <span style=\"color: #7f7f7f; text-decoration-color: #7f7f7f\">float32</span>[1024,576]   │\n",
       "│         │        │                      │                     │                             │\n",
       "│         │        │                      │                     │ <span style=\"font-weight: bold\">590,400 </span><span style=\"color: #7f7f7f; text-decoration-color: #7f7f7f; font-weight: bold\">(2.4 MB)</span>            │\n",
       "├─────────┼────────┼──────────────────────┼─────────────────────┼─────────────────────────────┤\n",
       "│ Dense_3 │ Dense  │ <span style=\"color: #7f7f7f; text-decoration-color: #7f7f7f\">float32</span>[1,576]       │ <span style=\"color: #7f7f7f; text-decoration-color: #7f7f7f\">float32</span>[1,192]      │ bias: <span style=\"color: #7f7f7f; text-decoration-color: #7f7f7f\">float32</span>[192]          │\n",
       "│         │        │                      │                     │ kernel: <span style=\"color: #7f7f7f; text-decoration-color: #7f7f7f\">float32</span>[576,192]    │\n",
       "│         │        │                      │                     │                             │\n",
       "│         │        │                      │                     │ <span style=\"font-weight: bold\">110,784 </span><span style=\"color: #7f7f7f; text-decoration-color: #7f7f7f; font-weight: bold\">(443.1 KB)</span>          │\n",
       "├─────────┼────────┼──────────────────────┼─────────────────────┼─────────────────────────────┤\n",
       "│ Dense_4 │ Dense  │ <span style=\"color: #7f7f7f; text-decoration-color: #7f7f7f\">float32</span>[1,192]       │ <span style=\"color: #7f7f7f; text-decoration-color: #7f7f7f\">float32</span>[1,24]       │ bias: <span style=\"color: #7f7f7f; text-decoration-color: #7f7f7f\">float32</span>[24]           │\n",
       "│         │        │                      │                     │ kernel: <span style=\"color: #7f7f7f; text-decoration-color: #7f7f7f\">float32</span>[192,24]     │\n",
       "│         │        │                      │                     │                             │\n",
       "│         │        │                      │                     │ <span style=\"font-weight: bold\">4,632 </span><span style=\"color: #7f7f7f; text-decoration-color: #7f7f7f; font-weight: bold\">(18.5 KB)</span>             │\n",
       "├─────────┼────────┼──────────────────────┼─────────────────────┼─────────────────────────────┤\n",
       "│ Dense_5 │ Dense  │ <span style=\"color: #7f7f7f; text-decoration-color: #7f7f7f\">float32</span>[1,24]        │ <span style=\"color: #7f7f7f; text-decoration-color: #7f7f7f\">float32</span>[1,2]        │ bias: <span style=\"color: #7f7f7f; text-decoration-color: #7f7f7f\">float32</span>[2]            │\n",
       "│         │        │                      │                     │ kernel: <span style=\"color: #7f7f7f; text-decoration-color: #7f7f7f\">float32</span>[24,2]       │\n",
       "│         │        │                      │                     │                             │\n",
       "│         │        │                      │                     │ <span style=\"font-weight: bold\">50 </span><span style=\"color: #7f7f7f; text-decoration-color: #7f7f7f; font-weight: bold\">(200 B)</span>                  │\n",
       "├─────────┼────────┼──────────────────────┼─────────────────────┼─────────────────────────────┤\n",
       "│<span style=\"font-weight: bold\">         </span>│<span style=\"font-weight: bold\">        </span>│<span style=\"font-weight: bold\">                      </span>│<span style=\"font-weight: bold\">               Total </span>│<span style=\"font-weight: bold\"> 3,147,530 </span><span style=\"color: #7f7f7f; text-decoration-color: #7f7f7f; font-weight: bold\">(12.6 MB)</span><span style=\"font-weight: bold\">         </span>│\n",
       "└─────────┴────────┴──────────────────────┴─────────────────────┴─────────────────────────────┘\n",
       "<span style=\"font-weight: bold\">                                                                                               </span>\n",
       "<span style=\"font-weight: bold\">                             Total Parameters: 3,147,530 </span><span style=\"color: #7f7f7f; text-decoration-color: #7f7f7f; font-weight: bold\">(12.6 MB)</span><span style=\"font-weight: bold\">                             </span>\n",
       "</pre>\n"
      ],
      "text/plain": [
       "\u001b[3m                                          CNN Summary                                          \u001b[0m\n",
       "┏━━━━━━━━━┳━━━━━━━━┳━━━━━━━━━━━━━━━━━━━━━━┳━━━━━━━━━━━━━━━━━━━━━┳━━━━━━━━━━━━━━━━━━━━━━━━━━━━━┓\n",
       "┃\u001b[1m \u001b[0m\u001b[1mpath   \u001b[0m\u001b[1m \u001b[0m┃\u001b[1m \u001b[0m\u001b[1mmodule\u001b[0m\u001b[1m \u001b[0m┃\u001b[1m \u001b[0m\u001b[1minputs              \u001b[0m\u001b[1m \u001b[0m┃\u001b[1m \u001b[0m\u001b[1moutputs            \u001b[0m\u001b[1m \u001b[0m┃\u001b[1m \u001b[0m\u001b[1mparams                     \u001b[0m\u001b[1m \u001b[0m┃\n",
       "┡━━━━━━━━━╇━━━━━━━━╇━━━━━━━━━━━━━━━━━━━━━━╇━━━━━━━━━━━━━━━━━━━━━╇━━━━━━━━━━━━━━━━━━━━━━━━━━━━━┩\n",
       "│         │ CNN    │ \u001b[2mfloat32\u001b[0m[1,100,100,1] │ \u001b[2mfloat32\u001b[0m[1,2]        │                             │\n",
       "├─────────┼────────┼──────────────────────┼─────────────────────┼─────────────────────────────┤\n",
       "│ Conv_0  │ Conv   │ \u001b[2mfloat32\u001b[0m[1,100,100,1] │ \u001b[2mfloat32\u001b[0m[1,31,31,64] │ bias: \u001b[2mfloat32\u001b[0m[64]           │\n",
       "│         │        │                      │                     │ kernel: \u001b[2mfloat32\u001b[0m[10,10,1,64] │\n",
       "│         │        │                      │                     │                             │\n",
       "│         │        │                      │                     │ \u001b[1m6,464 \u001b[0m\u001b[1;2m(25.9 KB)\u001b[0m             │\n",
       "├─────────┼────────┼──────────────────────┼─────────────────────┼─────────────────────────────┤\n",
       "│ Conv_1  │ Conv   │ \u001b[2mfloat32\u001b[0m[1,15,15,64]  │ \u001b[2mfloat32\u001b[0m[1,6,6,128]  │ bias: \u001b[2mfloat32\u001b[0m[128]          │\n",
       "│         │        │                      │                     │ kernel: \u001b[2mfloat32\u001b[0m[5,5,64,128] │\n",
       "│         │        │                      │                     │                             │\n",
       "│         │        │                      │                     │ \u001b[1m204,928 \u001b[0m\u001b[1;2m(819.7 KB)\u001b[0m          │\n",
       "├─────────┼────────┼──────────────────────┼─────────────────────┼─────────────────────────────┤\n",
       "│ Dense_0 │ Dense  │ \u001b[2mfloat32\u001b[0m[1,1152]      │ \u001b[2mfloat32\u001b[0m[1,1024]     │ bias: \u001b[2mfloat32\u001b[0m[1024]         │\n",
       "│         │        │                      │                     │ kernel: \u001b[2mfloat32\u001b[0m[1152,1024]  │\n",
       "│         │        │                      │                     │                             │\n",
       "│         │        │                      │                     │ \u001b[1m1,180,672 \u001b[0m\u001b[1;2m(4.7 MB)\u001b[0m          │\n",
       "├─────────┼────────┼──────────────────────┼─────────────────────┼─────────────────────────────┤\n",
       "│ Dense_1 │ Dense  │ \u001b[2mfloat32\u001b[0m[1,1024]      │ \u001b[2mfloat32\u001b[0m[1,1024]     │ bias: \u001b[2mfloat32\u001b[0m[1024]         │\n",
       "│         │        │                      │                     │ kernel: \u001b[2mfloat32\u001b[0m[1024,1024]  │\n",
       "│         │        │                      │                     │                             │\n",
       "│         │        │                      │                     │ \u001b[1m1,049,600 \u001b[0m\u001b[1;2m(4.2 MB)\u001b[0m          │\n",
       "├─────────┼────────┼──────────────────────┼─────────────────────┼─────────────────────────────┤\n",
       "│ Dense_2 │ Dense  │ \u001b[2mfloat32\u001b[0m[1,1024]      │ \u001b[2mfloat32\u001b[0m[1,576]      │ bias: \u001b[2mfloat32\u001b[0m[576]          │\n",
       "│         │        │                      │                     │ kernel: \u001b[2mfloat32\u001b[0m[1024,576]   │\n",
       "│         │        │                      │                     │                             │\n",
       "│         │        │                      │                     │ \u001b[1m590,400 \u001b[0m\u001b[1;2m(2.4 MB)\u001b[0m            │\n",
       "├─────────┼────────┼──────────────────────┼─────────────────────┼─────────────────────────────┤\n",
       "│ Dense_3 │ Dense  │ \u001b[2mfloat32\u001b[0m[1,576]       │ \u001b[2mfloat32\u001b[0m[1,192]      │ bias: \u001b[2mfloat32\u001b[0m[192]          │\n",
       "│         │        │                      │                     │ kernel: \u001b[2mfloat32\u001b[0m[576,192]    │\n",
       "│         │        │                      │                     │                             │\n",
       "│         │        │                      │                     │ \u001b[1m110,784 \u001b[0m\u001b[1;2m(443.1 KB)\u001b[0m          │\n",
       "├─────────┼────────┼──────────────────────┼─────────────────────┼─────────────────────────────┤\n",
       "│ Dense_4 │ Dense  │ \u001b[2mfloat32\u001b[0m[1,192]       │ \u001b[2mfloat32\u001b[0m[1,24]       │ bias: \u001b[2mfloat32\u001b[0m[24]           │\n",
       "│         │        │                      │                     │ kernel: \u001b[2mfloat32\u001b[0m[192,24]     │\n",
       "│         │        │                      │                     │                             │\n",
       "│         │        │                      │                     │ \u001b[1m4,632 \u001b[0m\u001b[1;2m(18.5 KB)\u001b[0m             │\n",
       "├─────────┼────────┼──────────────────────┼─────────────────────┼─────────────────────────────┤\n",
       "│ Dense_5 │ Dense  │ \u001b[2mfloat32\u001b[0m[1,24]        │ \u001b[2mfloat32\u001b[0m[1,2]        │ bias: \u001b[2mfloat32\u001b[0m[2]            │\n",
       "│         │        │                      │                     │ kernel: \u001b[2mfloat32\u001b[0m[24,2]       │\n",
       "│         │        │                      │                     │                             │\n",
       "│         │        │                      │                     │ \u001b[1m50 \u001b[0m\u001b[1;2m(200 B)\u001b[0m                  │\n",
       "├─────────┼────────┼──────────────────────┼─────────────────────┼─────────────────────────────┤\n",
       "│\u001b[1m \u001b[0m\u001b[1m       \u001b[0m\u001b[1m \u001b[0m│\u001b[1m \u001b[0m\u001b[1m      \u001b[0m\u001b[1m \u001b[0m│\u001b[1m \u001b[0m\u001b[1m                    \u001b[0m\u001b[1m \u001b[0m│\u001b[1m \u001b[0m\u001b[1m              Total\u001b[0m\u001b[1m \u001b[0m│\u001b[1m \u001b[0m\u001b[1m3,147,530 \u001b[0m\u001b[1;2m(12.6 MB)\u001b[0m\u001b[1m        \u001b[0m\u001b[1m \u001b[0m│\n",
       "└─────────┴────────┴──────────────────────┴─────────────────────┴─────────────────────────────┘\n",
       "\u001b[1m                                                                                               \u001b[0m\n",
       "\u001b[1m                             Total Parameters: 3,147,530 \u001b[0m\u001b[1;2m(12.6 MB)\u001b[0m\u001b[1m                             \u001b[0m\n"
      ]
     },
     "metadata": {},
     "output_type": "display_data"
    },
    {
     "data": {
      "text/plain": [
       "'\\n\\n'"
      ]
     },
     "execution_count": 4,
     "metadata": {},
     "output_type": "execute_result"
    }
   ],
   "source": [
    "cnn = CNN()\n",
    "cnn.tabulate(jax.random.PRNGKey(0), jnp.zeros((1, 100, 100, 1)), console_kwargs={'force_jupyter': True})"
   ]
  },
  {
   "cell_type": "code",
   "execution_count": 5,
   "id": "ed8dbb6c-96e4-4f05-89bb-37dfb597cd98",
   "metadata": {},
   "outputs": [],
   "source": [
    "def create_train_state(module, rng, learning_rate, momentum):\n",
    "    \"\"\"Creates an initial `TrainState`.\"\"\"\n",
    "    params = module.init(rng, jnp.ones([BATCH_SIZE, 100, 100, 1]))['params'] # initialize parameters by passing a template image\n",
    "    tx = optax.sgd(learning_rate, momentum)\n",
    "    return TrainState.create(apply_fn=module.apply, params=params, tx=tx)"
   ]
  },
  {
   "cell_type": "code",
   "execution_count": 6,
   "id": "d9d94c23-8182-4379-aba7-81ebc8a5fe39",
   "metadata": {},
   "outputs": [],
   "source": [
    "@jax.jit\n",
    "def train_step(state, img_batch, label_batch): \n",
    "    \"\"\"Train for a single step.\"\"\"\n",
    "    def loss_fn(params):\n",
    "        logits = state.apply_fn({'params': params}, img_batch, mutable=False)\n",
    "        loss = optax.softmax_cross_entropy(logits=logits, labels=label_batch).mean()\n",
    "        return loss\n",
    "    grad_fn = jax.grad(loss_fn)\n",
    "    grads = grad_fn(state.params)\n",
    "    state = state.apply_gradients(grads=grads)\n",
    "    return state, loss_fn(state.params)"
   ]
  },
  {
   "cell_type": "code",
   "execution_count": 7,
   "id": "5914ecee-34fe-4669-8846-b6d87c3563b5",
   "metadata": {},
   "outputs": [],
   "source": [
    "@jax.jit\n",
    "def calc_loss(train_state, imgs, labels):\n",
    "    return optax.softmax_cross_entropy(\n",
    "        #logits= train_state.apply_fn({'params': train_state.params}, imgs),\n",
    "        logits= train_state.apply_fn({'params': train_state.params}, imgs, mutable=False),\n",
    "        labels=labels).mean()\n",
    "\n",
    "def calc_loss_batched(train_state, imgs, labels):\n",
    "    n_batches = imgs.shape[0] // BATCH_SIZE\n",
    "    return jnp.array([calc_loss(train_state, img_batch, label_batch)\n",
    "                      for (img_batch, label_batch) in zip(imgs.reshape(n_batches, BATCH_SIZE, 100, 100, 1),\n",
    "                                                          labels.reshape(n_batches, BATCH_SIZE, 2))]).mean()"
   ]
  },
  {
   "cell_type": "code",
   "execution_count": 8,
   "id": "7bf7de21-c52e-4a9d-8c90-a3bc74e34cef",
   "metadata": {},
   "outputs": [],
   "source": [
    "train_data_file = jnp.load('train_data.npz')\n",
    "test_data_file = jnp.load('test_data.npz')"
   ]
  },
  {
   "cell_type": "code",
   "execution_count": 9,
   "id": "c81a6966-7f35-4f6a-b77d-f4b1558d046f",
   "metadata": {},
   "outputs": [],
   "source": [
    "train_imgs = train_data_file['arr_0']\n",
    "train_labels = train_data_file['arr_1']"
   ]
  },
  {
   "cell_type": "code",
   "execution_count": 10,
   "id": "8718f500-0574-4627-8147-7115768531a6",
   "metadata": {},
   "outputs": [
    {
     "data": {
      "text/plain": [
       "((30000, 100, 100, 1), (30000, 2))"
      ]
     },
     "execution_count": 10,
     "metadata": {},
     "output_type": "execute_result"
    }
   ],
   "source": [
    "train_imgs.shape, train_labels.shape"
   ]
  },
  {
   "cell_type": "code",
   "execution_count": 11,
   "id": "59c49c57-5041-4dc3-aa11-6fc5b10a77ee",
   "metadata": {},
   "outputs": [],
   "source": [
    "test_imgs = test_data_file['arr_0']\n",
    "test_labels = test_data_file['arr_1']"
   ]
  },
  {
   "cell_type": "code",
   "execution_count": 12,
   "id": "4d78ebca-432e-40ca-9d66-1bafe84e8e2c",
   "metadata": {},
   "outputs": [
    {
     "data": {
      "text/plain": [
       "((2000, 100, 100, 1), (2000, 2))"
      ]
     },
     "execution_count": 12,
     "metadata": {},
     "output_type": "execute_result"
    }
   ],
   "source": [
    "test_imgs.shape, test_labels.shape"
   ]
  },
  {
   "cell_type": "code",
   "execution_count": 13,
   "id": "c764c89b-a127-4ccf-b731-3122c945e097",
   "metadata": {},
   "outputs": [],
   "source": [
    "N_TRAIN = train_imgs.shape[0]\n",
    "N_TEST = test_imgs.shape[0]\n",
    "N_EPOCHS = 20\n",
    "BATCH_SIZE = 200\n",
    "LEARNING_RATE = 0.01\n",
    "MOMENTUM = 0.9\n",
    "assert N_TRAIN % BATCH_SIZE == 0\n",
    "assert N_TEST % BATCH_SIZE == 0"
   ]
  },
  {
   "cell_type": "code",
   "execution_count": 14,
   "id": "d0d11caa-3935-4ba5-acf3-6fe685de7bca",
   "metadata": {},
   "outputs": [],
   "source": [
    "state = create_train_state(cnn, jax.random.PRNGKey(0), LEARNING_RATE, MOMENTUM)"
   ]
  },
  {
   "cell_type": "code",
   "execution_count": 15,
   "id": "2dc04fea-c89a-49f4-be30-eedc8ae10579",
   "metadata": {},
   "outputs": [],
   "source": [
    "shuffling_key = jax.random.PRNGKey(0)"
   ]
  },
  {
   "cell_type": "code",
   "execution_count": 16,
   "id": "58289c66-acac-4942-bf14-c503a66a911a",
   "metadata": {},
   "outputs": [],
   "source": [
    "training_losses = []"
   ]
  },
  {
   "cell_type": "code",
   "execution_count": 17,
   "id": "36c65902-e84b-4d87-937c-089ec9c3694b",
   "metadata": {},
   "outputs": [
    {
     "name": "stdout",
     "output_type": "stream",
     "text": [
      "......................................................................................................................................................\n",
      "epoch: 0, average loss: 0.692714273929596, train loss: 0.6935846209526062, test loss: 0.6927419900894165\n",
      "......................................................................................................................................................\n",
      "epoch: 1, average loss: 0.6888323426246643, train loss: 0.682288408279419, test loss: 0.6825944781303406\n",
      "......................................................................................................................................................\n",
      "epoch: 2, average loss: 0.6553279757499695, train loss: 0.6578038930892944, test loss: 0.6570964455604553\n",
      "......................................................................................................................................................\n",
      "epoch: 3, average loss: 0.3979097604751587, train loss: 0.2640233337879181, test loss: 0.25858646631240845\n",
      "......................................................................................................................................................\n",
      "epoch: 4, average loss: 0.24266383051872253, train loss: 0.23658330738544464, test loss: 0.24149847030639648\n",
      "......................................................................................................................................................\n",
      "epoch: 5, average loss: 0.2285887748003006, train loss: 0.20394288003444672, test loss: 0.19680817425251007\n",
      "......................................................................................................................................................\n",
      "epoch: 6, average loss: 0.19577519595623016, train loss: 0.19307780265808105, test loss: 0.189347043633461\n",
      "......................................................................................................................................................\n",
      "epoch: 7, average loss: 0.19985075294971466, train loss: 0.1946747899055481, test loss: 0.18877635896205902\n",
      "......................................................................................................................................................\n",
      "epoch: 8, average loss: 0.19312536716461182, train loss: 0.19209404289722443, test loss: 0.19034330546855927\n",
      "......................................................................................................................................................\n",
      "epoch: 9, average loss: 0.19184398651123047, train loss: 0.19325844943523407, test loss: 0.19128237664699554\n",
      "......................................................................................................................................................\n",
      "epoch: 10, average loss: 0.19147011637687683, train loss: 0.20968036353588104, test loss: 0.19827993214130402\n",
      "......................................................................................................................................................\n",
      "epoch: 11, average loss: 0.200702503323555, train loss: 0.19139045476913452, test loss: 0.1907205879688263\n",
      "......................................................................................................................................................\n",
      "epoch: 12, average loss: 0.19174227118492126, train loss: 0.19789239764213562, test loss: 0.1889837384223938\n",
      "......................................................................................................................................................\n",
      "epoch: 13, average loss: 0.18965202569961548, train loss: 0.1887599229812622, test loss: 0.18729780614376068\n",
      "......................................................................................................................................................\n",
      "epoch: 14, average loss: 0.18934360146522522, train loss: 0.19504627585411072, test loss: 0.18578152358531952\n",
      "......................................................................................................................................................\n",
      "epoch: 15, average loss: 0.18885508179664612, train loss: 0.1905113309621811, test loss: 0.19138535857200623\n",
      "......................................................................................................................................................\n",
      "epoch: 16, average loss: 0.18805734813213348, train loss: 0.18841396272182465, test loss: 0.1878771036863327\n",
      "......................................................................................................................................................\n",
      "epoch: 17, average loss: 0.18784011900424957, train loss: 0.19383302330970764, test loss: 0.1965329945087433\n",
      "......................................................................................................................................................\n",
      "epoch: 18, average loss: 0.18781119585037231, train loss: 0.1904253363609314, test loss: 0.1902436763048172\n",
      "......................................................................................................................................................\n",
      "epoch: 19, average loss: 0.18743596971035004, train loss: 0.18673457205295563, test loss: 0.1842588484287262\n"
     ]
    }
   ],
   "source": [
    "for epoch in range(N_EPOCHS):\n",
    "    training_losses.append([])\n",
    "    perm = jax.random.permutation(shuffling_key, N_TRAIN)\n",
    "    train_imgs = train_imgs[perm]\n",
    "    train_labels = train_labels[perm]\n",
    "    shuffling_key = jax.random.split(shuffling_key, 2)[1]\n",
    "\n",
    "    assert N_TRAIN % BATCH_SIZE == 0\n",
    "    for step in range(N_TRAIN // BATCH_SIZE):\n",
    "        img_batch = train_imgs[step*BATCH_SIZE:(step+1)*BATCH_SIZE]\n",
    "        label_batch = train_labels[step*BATCH_SIZE:(step+1)*BATCH_SIZE]\n",
    "        \n",
    "        state, loss = train_step(state, img_batch, label_batch) \n",
    "        training_losses[-1].append(loss)\n",
    "        #os.system('nvidia-smi')\n",
    "        print('.', end='')\n",
    "    print()\n",
    "\n",
    "    epoch_loss = jnp.array(training_losses[-1]).mean()\n",
    "    epoch_train_loss = calc_loss_batched(state, train_imgs, train_labels)\n",
    "    epoch_test_loss = calc_loss_batched(state, test_imgs, test_labels)\n",
    "    #epoch_train_loss = 'not calculated'\n",
    "    #epoch_test_loss = 'not calculated'\n",
    "    print(f'epoch: {epoch}, average loss: {epoch_loss}, '\n",
    "          f'train loss: {epoch_train_loss}, '\n",
    "          f'test loss: {epoch_test_loss}')"
   ]
  },
  {
   "cell_type": "code",
   "execution_count": 18,
   "id": "d3fc54da-c346-4406-b934-034b4313eafe",
   "metadata": {},
   "outputs": [
    {
     "data": {
      "text/plain": [
       "[<matplotlib.lines.Line2D at 0x7efffc10e370>]"
      ]
     },
     "execution_count": 18,
     "metadata": {},
     "output_type": "execute_result"
    },
    {
     "data": {
      "image/png": "[encoded data removed]",
      "text/plain": [
       "<Figure size 640x480 with 1 Axes>"
      ]
     },
     "metadata": {},
     "output_type": "display_data"
    }
   ],
   "source": [
    "plt.plot([jnp.array(l).mean() for l in training_losses])"
   ]
  },
  {
   "cell_type": "code",
   "execution_count": 27,
   "id": "c785163f-a49f-47fa-ae20-23b90ca7ed68",
   "metadata": {},
   "outputs": [],
   "source": [
    "with open('param_file.pkl', 'wb') as params_file:\n",
    "    pickle.dump(state.params, params_file)"
   ]
  },
  {
   "cell_type": "code",
   "execution_count": 28,
   "id": "4a8702e8-0e42-4fb7-89ff-a2e23d2642aa",
   "metadata": {},
   "outputs": [
    {
     "name": "stdout",
     "output_type": "stream",
     "text": [
      "Increasing frame buffer size to (width, height, depth) = (128, 128, 1024)\n"
     ]
    },
    {
     "name": "stderr",
     "output_type": "stream",
     "text": [
      "[E rasterize_gl.cpp:121] OpenGL version reported as 4.6\n"
     ]
    }
   ],
   "source": [
    "intrinsics = b.Intrinsics(\n",
    "    height=100,\n",
    "    width=100,\n",
    "    fx=200.0, fy=200.0,\n",
    "    cx=50.0, cy=50.0,\n",
    "    near=0.0001, far=2.0\n",
    ")\n",
    "\n",
    "b.setup_renderer(intrinsics)"
   ]
  },
  {
   "cell_type": "code",
   "execution_count": 29,
   "id": "3cb82a3f-8a8d-4af7-bc87-3ce07d52a778",
   "metadata": {},
   "outputs": [
    {
     "name": "stdout",
     "output_type": "stream",
     "text": [
      "Centering mesh with translation [-0.02541  -0.022295  0.007042]\n",
      "Centering mesh with translation [-0.019428  -0.0274155  0.003918 ]\n"
     ]
    }
   ],
   "source": [
    "fork_mesh_path = b.utils.get_assets_dir() + '/ycb_video_models/models/030_fork/nontextured.ply'\n",
    "knife_mesh_path = b.utils.get_assets_dir() + '/ycb_video_models/models/032_knife/nontextured.ply'\n",
    "box_mesh_path = b.utils.get_assets_dir() + '/bop/ycbv/models/obj_000002.ply'\n",
    "table_mesh_path = b.utils.get_assets_dir() + '/sample_objs/cube.obj'\n",
    "fork_scale = knife_scale = 1.0\n",
    "box_scale = 1e-3\n",
    "table_scale = 1e-6\n",
    "mesh_paths = (fork_mesh_path, knife_mesh_path, box_mesh_path, table_mesh_path)\n",
    "scales = (fork_scale, knife_scale, box_scale, table_scale)\n",
    "for mesh_path, scale in zip(mesh_paths, scales):\n",
    "    b.RENDERER.add_mesh_from_file(mesh_path, scaling_factor=scale)"
   ]
  },
  {
   "cell_type": "code",
   "execution_count": 30,
   "id": "e641a876-0ac7-4e1e-a5cb-f342f662712b",
   "metadata": {},
   "outputs": [],
   "source": [
    "table_pose = b.t3d.inverse_pose(\n",
    "    b.t3d.transform_from_pos_target_up(\n",
    "        jnp.array([0.0, 0.7, 0.5]),\n",
    "        jnp.array([0.0, 0.0, 0.0]),\n",
    "        jnp.array([0.0, 0.0, 1.0]),\n",
    "    )\n",
    ")\n",
    "\n",
    "FORK_IDX, KNIFE_IDX, CHEESEITZ_BOX_IDX, TABLE_IDX = 0, 1, 2, 3\n",
    "\n",
    "SHIFT_MIN = -0.2\n",
    "SHIFT_SCALE = 0.4\n",
    "CHEESEITZ_BOX_CONTACT_PARAMS = jnp.array([0.0, 0.1, 0.0])"
   ]
  },
  {
   "cell_type": "code",
   "execution_count": 31,
   "id": "5f679145-f96b-4b74-a9d8-f330d174ffd2",
   "metadata": {},
   "outputs": [],
   "source": [
    "def fork_spoon_from_known_params(is_fork, shift):\n",
    "    indices = jax.lax.cond(is_fork,\n",
    "                           lambda: jnp.array([TABLE_IDX, CHEESEITZ_BOX_IDX, FORK_IDX]),\n",
    "                           lambda: jnp.array([TABLE_IDX, CHEESEITZ_BOX_IDX, KNIFE_IDX]))\n",
    "\n",
    "    box_dims = b.RENDERER.model_box_dims[indices]\n",
    "    root_poses = jnp.array([table_pose, table_pose, table_pose])\n",
    "    parents = jnp.array([-1, 0, 0])\n",
    "    contact_params = jnp.array([[0.0, 0.0, 0.0],\n",
    "                                [*CHEESEITZ_BOX_CONTACT_PARAMS],\n",
    "                                [shift*jnp.cos(jnp.pi/12), -0.05 + shift*jnp.sin(jnp.pi/12), 10*jnp.pi/12]])\n",
    "    faces_parents = jnp.array([0, 2, 2])\n",
    "    faces_child = jnp.array([0, 3, 3])\n",
    "    poses = b.scene_graph.poses_from_scene_graph(\n",
    "        root_poses, box_dims, parents, contact_params, faces_parents, faces_child)\n",
    "    camera_pose = jnp.eye(4)\n",
    "    rendered = b.RENDERER.render(\n",
    "        jnp.linalg.inv(camera_pose) @ poses , indices\n",
    "    )[...,:3]\n",
    "    return (is_fork, rendered)"
   ]
  },
  {
   "cell_type": "code",
   "execution_count": 32,
   "id": "05cf0924-7ff7-4bdb-83c7-666577864239",
   "metadata": {},
   "outputs": [
    {
     "data": {
      "image/jpeg": "[encoded data removed]",
      "image/png": "[encoded data removed]",
      "text/plain": [
       "<PIL.Image.Image image mode=RGB size=410x200>"
      ]
     },
     "execution_count": 32,
     "metadata": {},
     "output_type": "execute_result"
    }
   ],
   "source": [
    "ss = -0.1\n",
    "b.viz.hstack_images([b.viz.scale_image(b.get_depth_image(fork_spoon_from_known_params(True, ss)[1][...,2]), 2),\n",
    "                     b.viz.scale_image(b.get_depth_image(fork_spoon_from_known_params(False, ss)[1][...,2]), 2)])"
   ]
  },
  {
   "cell_type": "code",
   "execution_count": 39,
   "id": "f586b71e-9f86-4816-b65c-34a827ff7667",
   "metadata": {},
   "outputs": [],
   "source": [
    "make_onehot = lambda b: jax.lax.cond(b, lambda: jnp.array([0.0, 1.0]), lambda: jnp.array([1.0, 0.0]))"
   ]
  },
  {
   "cell_type": "code",
   "execution_count": 45,
   "id": "40a56bed-b10b-42a2-830e-e48dab7e8918",
   "metadata": {},
   "outputs": [
    {
     "name": "stdout",
     "output_type": "stream",
     "text": [
      "true: [1. 0.] predicted: [[0.4873311 0.5126689]]\n"
     ]
    },
    {
     "data": {
      "image/jpeg": "[encoded data removed]",
      "image/png": "[encoded data removed]",
      "text/plain": [
       "<PIL.Image.Image image mode=RGB size=200x200>"
      ]
     },
     "execution_count": 45,
     "metadata": {},
     "output_type": "execute_result"
    }
   ],
   "source": [
    "is_fork, __img, = fork_spoon_from_known_params(False, 0.0)\n",
    "__img = __img[:, :, 2].reshape(1, 100, 100, 1)\n",
    "logits = state.apply_fn({'params': state.params}, __img)\n",
    "\n",
    "print(f'true: {make_onehot(is_fork)} predicted: {jax.nn.softmax(logits)}')\n",
    "\n",
    "b.viz.scale_image(b.get_depth_image(__img.reshape(100, 100)), 2)"
   ]
  },
  {
   "cell_type": "code",
   "execution_count": 19,
   "id": "fae87da9-2cda-4441-a1fc-31a7471e716b",
   "metadata": {},
   "outputs": [],
   "source": [
    "#img_batch, label_batch = make_batch(batch_keys)\n",
    "#logits = state.apply_fn({'params': state.params}, img_batch)"
   ]
  },
  {
   "cell_type": "code",
   "execution_count": 20,
   "id": "78c15278-a10d-4e06-942b-84553af4f7ec",
   "metadata": {},
   "outputs": [],
   "source": [
    "#i = 33 #23 # 13"
   ]
  },
  {
   "cell_type": "code",
   "execution_count": 21,
   "id": "16d88a95-ecc7-4bf4-90bb-48b1fc2a0935",
   "metadata": {},
   "outputs": [],
   "source": [
    "#b.viz.scale_image(b.get_depth_image(img_batch[i, :, :, 0]), 2)"
   ]
  },
  {
   "cell_type": "code",
   "execution_count": 22,
   "id": "ad0420f5-f05c-4633-a6bd-b169810ba6e8",
   "metadata": {},
   "outputs": [],
   "source": [
    "#label_batch[i], jax.nn.softmax(logits[i])"
   ]
  },
  {
   "cell_type": "code",
   "execution_count": null,
   "id": "20675fe5-c1e1-4cb4-813e-a7419de93d70",
   "metadata": {},
   "outputs": [],
   "source": []
  },
  {
   "cell_type": "markdown",
   "id": "0f772915-288d-4f34-813b-0214bba0ae33",
   "metadata": {},
   "source": [
    "## "
   ]
  }
 ],
 "metadata": {
  "kernelspec": {
   "display_name": "Python 3 (ipykernel)",
   "language": "python",
   "name": "python3"
  },
  "language_info": {
   "codemirror_mode": {
    "name": "ipython",
    "version": 3
   },
   "file_extension": ".py",
   "mimetype": "text/x-python",
   "name": "python",
   "nbconvert_exporter": "python",
   "pygments_lexer": "ipython3",
   "version": "3.9.17"
  }
 },
 "nbformat": 4,
 "nbformat_minor": 5
}
