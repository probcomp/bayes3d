{
 "cells": [
  {
   "cell_type": "code",
   "execution_count": 1,
   "id": "1477c737-919d-4445-bc46-c139b9a3febf",
   "metadata": {},
   "outputs": [],
   "source": [
    "import bayes3d as b\n",
    "import os\n",
    "import jax.numpy as jnp\n",
    "import jax\n",
    "import bayes3d.genjax\n",
    "import genjax\n",
    "import matplotlib\n",
    "from tqdm import tqdm\n",
    "import matplotlib.pyplot as plt"
   ]
  },
  {
   "cell_type": "code",
   "execution_count": 2,
   "id": "d2db391b-3dfd-4b03-9e28-ae49df8839aa",
   "metadata": {},
   "outputs": [],
   "source": [
    "import flax.linen as nn\n",
    "from flax.training.train_state import TrainState\n",
    "import flax\n",
    "import optax"
   ]
  },
  {
   "cell_type": "code",
   "execution_count": 3,
   "id": "af096265-4e27-4ac7-ac04-0d633c8bbe16",
   "metadata": {},
   "outputs": [],
   "source": [
    "import pickle"
   ]
  },
  {
   "cell_type": "markdown",
   "id": "27824992-5bbb-4581-b5f5-43b8a2c73d5b",
   "metadata": {},
   "source": [
    "## CNN Inference"
   ]
  },
  {
   "cell_type": "markdown",
   "id": "a45fd6be-ea64-41fd-b671-2575fa322afb",
   "metadata": {},
   "source": [
    "C1: conv with 10x10 filter stride 3 32 channels (input 100x100x1, output 31 x 31 x 32)\n",
    "\n",
    "relu (input 31 x 31 x 32, output 31 x 31 x 32)\n",
    "\n",
    "max pooling 3x3 stride 2 32 channels (input 31 x 31 x 32, output 15 x 15x 32)\n",
    "\n",
    "C2: conv with 5x5 filter stride 2 64 channels (input 15 x 15 x 32, output 6 x 6 x 64)\n",
    "\n",
    "relu (input 6 x 6 x 64, output 6 x 6 x 64)\n",
    "\n",
    "max pooling 2x2 stride 2 64 channels (input 6 x 6 x 64, output 3 x 3 x 64)\n",
    "\n",
    "flatten (input 3 x 3 x 64, output 1 x 576)\n",
    "\n",
    "L1: linear (input 1 x 576, output 1x 576)\n",
    "\n",
    "relu\n",
    "\n",
    "L2: linear (input 1 x 576, output 1x 192)\n",
    "\n",
    "relu\n",
    "\n",
    "L3: linear (input 1 x 192, output 1x 24)\n",
    "\n",
    "relu\n",
    "\n",
    "L4: linear (input 1 x 24, output 1 x 2)\n",
    "\n",
    "softmax"
   ]
  },
  {
   "cell_type": "code",
   "execution_count": 4,
   "id": "6ef7103a-c828-4b5e-806d-ee73ae10387f",
   "metadata": {},
   "outputs": [],
   "source": [
    "class CNN(nn.Module):\n",
    "\n",
    "    @nn.compact\n",
    "    def __call__(self, imgs): # XXX todo: make sure the sizes all line up\n",
    "        x = nn.Conv(64, (10, 10), strides=(3, 3), padding='VALID')(imgs)\n",
    "        x = nn.activation.relu(x)\n",
    "        x = nn.max_pool(x, (3, 3), strides=(2, 2))\n",
    "        \n",
    "        x = nn.Conv(128, (5, 5), strides=(2, 2), padding='VALID')(x)\n",
    "        x = nn.activation.relu(x)\n",
    "        x = nn.max_pool(x, (2, 2), strides=(2, 2))\n",
    "        \n",
    "        x = nn.Dense(1024)(x.reshape(imgs.shape[0], -1))\n",
    "        x = nn.activation.relu(x)\n",
    "        \n",
    "        x = nn.Dense(1024)(x)\n",
    "        x = nn.activation.relu(x)\n",
    "        \n",
    "        x = nn.Dense(576)(x)\n",
    "        x = nn.activation.relu(x)\n",
    "\n",
    "        x = nn.Dense(192)(x)\n",
    "        x = nn.activation.relu(x)\n",
    "\n",
    "        x = nn.Dense(24)(x)\n",
    "        x = nn.activation.relu(x)\n",
    "\n",
    "        x = nn.Dense(2)(x)\n",
    "        return x "
   ]
  },
  {
   "cell_type": "code",
   "execution_count": 5,
   "id": "1bdf044e-ca96-444e-936c-12ba302d9132",
   "metadata": {},
   "outputs": [
    {
     "data": {
      "text/html": [
       "<pre style=\"white-space:pre;overflow-x:auto;line-height:normal;font-family:Menlo,'DejaVu Sans Mono',consolas,'Courier New',monospace\"><span style=\"font-style: italic\">                                          CNN Summary                                          </span>\n",
       "┏━━━━━━━━━┳━━━━━━━━┳━━━━━━━━━━━━━━━━━━━━━━┳━━━━━━━━━━━━━━━━━━━━━┳━━━━━━━━━━━━━━━━━━━━━━━━━━━━━┓\n",
       "┃<span style=\"font-weight: bold\"> path    </span>┃<span style=\"font-weight: bold\"> module </span>┃<span style=\"font-weight: bold\"> inputs               </span>┃<span style=\"font-weight: bold\"> outputs             </span>┃<span style=\"font-weight: bold\"> params                      </span>┃\n",
       "┡━━━━━━━━━╇━━━━━━━━╇━━━━━━━━━━━━━━━━━━━━━━╇━━━━━━━━━━━━━━━━━━━━━╇━━━━━━━━━━━━━━━━━━━━━━━━━━━━━┩\n",
       "│         │ CNN    │ <span style=\"color: #7f7f7f; text-decoration-color: #7f7f7f\">float32</span>[1,100,100,1] │ <span style=\"color: #7f7f7f; text-decoration-color: #7f7f7f\">float32</span>[1,2]        │                             │\n",
       "├─────────┼────────┼──────────────────────┼─────────────────────┼─────────────────────────────┤\n",
       "│ Conv_0  │ Conv   │ <span style=\"color: #7f7f7f; text-decoration-color: #7f7f7f\">float32</span>[1,100,100,1] │ <span style=\"color: #7f7f7f; text-decoration-color: #7f7f7f\">float32</span>[1,31,31,64] │ bias: <span style=\"color: #7f7f7f; text-decoration-color: #7f7f7f\">float32</span>[64]           │\n",
       "│         │        │                      │                     │ kernel: <span style=\"color: #7f7f7f; text-decoration-color: #7f7f7f\">float32</span>[10,10,1,64] │\n",
       "│         │        │                      │                     │                             │\n",
       "│         │        │                      │                     │ <span style=\"font-weight: bold\">6,464 </span><span style=\"color: #7f7f7f; text-decoration-color: #7f7f7f; font-weight: bold\">(25.9 KB)</span>             │\n",
       "├─────────┼────────┼──────────────────────┼─────────────────────┼─────────────────────────────┤\n",
       "│ Conv_1  │ Conv   │ <span style=\"color: #7f7f7f; text-decoration-color: #7f7f7f\">float32</span>[1,15,15,64]  │ <span style=\"color: #7f7f7f; text-decoration-color: #7f7f7f\">float32</span>[1,6,6,128]  │ bias: <span style=\"color: #7f7f7f; text-decoration-color: #7f7f7f\">float32</span>[128]          │\n",
       "│         │        │                      │                     │ kernel: <span style=\"color: #7f7f7f; text-decoration-color: #7f7f7f\">float32</span>[5,5,64,128] │\n",
       "│         │        │                      │                     │                             │\n",
       "│         │        │                      │                     │ <span style=\"font-weight: bold\">204,928 </span><span style=\"color: #7f7f7f; text-decoration-color: #7f7f7f; font-weight: bold\">(819.7 KB)</span>          │\n",
       "├─────────┼────────┼──────────────────────┼─────────────────────┼─────────────────────────────┤\n",
       "│ Dense_0 │ Dense  │ <span style=\"color: #7f7f7f; text-decoration-color: #7f7f7f\">float32</span>[1,1152]      │ <span style=\"color: #7f7f7f; text-decoration-color: #7f7f7f\">float32</span>[1,1024]     │ bias: <span style=\"color: #7f7f7f; text-decoration-color: #7f7f7f\">float32</span>[1024]         │\n",
       "│         │        │                      │                     │ kernel: <span style=\"color: #7f7f7f; text-decoration-color: #7f7f7f\">float32</span>[1152,1024]  │\n",
       "│         │        │                      │                     │                             │\n",
       "│         │        │                      │                     │ <span style=\"font-weight: bold\">1,180,672 </span><span style=\"color: #7f7f7f; text-decoration-color: #7f7f7f; font-weight: bold\">(4.7 MB)</span>          │\n",
       "├─────────┼────────┼──────────────────────┼─────────────────────┼─────────────────────────────┤\n",
       "│ Dense_1 │ Dense  │ <span style=\"color: #7f7f7f; text-decoration-color: #7f7f7f\">float32</span>[1,1024]      │ <span style=\"color: #7f7f7f; text-decoration-color: #7f7f7f\">float32</span>[1,1024]     │ bias: <span style=\"color: #7f7f7f; text-decoration-color: #7f7f7f\">float32</span>[1024]         │\n",
       "│         │        │                      │                     │ kernel: <span style=\"color: #7f7f7f; text-decoration-color: #7f7f7f\">float32</span>[1024,1024]  │\n",
       "│         │        │                      │                     │                             │\n",
       "│         │        │                      │                     │ <span style=\"font-weight: bold\">1,049,600 </span><span style=\"color: #7f7f7f; text-decoration-color: #7f7f7f; font-weight: bold\">(4.2 MB)</span>          │\n",
       "├─────────┼────────┼──────────────────────┼─────────────────────┼─────────────────────────────┤\n",
       "│ Dense_2 │ Dense  │ <span style=\"color: #7f7f7f; text-decoration-color: #7f7f7f\">float32</span>[1,1024]      │ <span style=\"color: #7f7f7f; text-decoration-color: #7f7f7f\">float32</span>[1,576]      │ bias: <span style=\"color: #7f7f7f; text-decoration-color: #7f7f7f\">float32</span>[576]          │\n",
       "│         │        │                      │                     │ kernel: <span style=\"color: #7f7f7f; text-decoration-color: #7f7f7f\">float32</span>[1024,576]   │\n",
       "│         │        │                      │                     │                             │\n",
       "│         │        │                      │                     │ <span style=\"font-weight: bold\">590,400 </span><span style=\"color: #7f7f7f; text-decoration-color: #7f7f7f; font-weight: bold\">(2.4 MB)</span>            │\n",
       "├─────────┼────────┼──────────────────────┼─────────────────────┼─────────────────────────────┤\n",
       "│ Dense_3 │ Dense  │ <span style=\"color: #7f7f7f; text-decoration-color: #7f7f7f\">float32</span>[1,576]       │ <span style=\"color: #7f7f7f; text-decoration-color: #7f7f7f\">float32</span>[1,192]      │ bias: <span style=\"color: #7f7f7f; text-decoration-color: #7f7f7f\">float32</span>[192]          │\n",
       "│         │        │                      │                     │ kernel: <span style=\"color: #7f7f7f; text-decoration-color: #7f7f7f\">float32</span>[576,192]    │\n",
       "│         │        │                      │                     │                             │\n",
       "│         │        │                      │                     │ <span style=\"font-weight: bold\">110,784 </span><span style=\"color: #7f7f7f; text-decoration-color: #7f7f7f; font-weight: bold\">(443.1 KB)</span>          │\n",
       "├─────────┼────────┼──────────────────────┼─────────────────────┼─────────────────────────────┤\n",
       "│ Dense_4 │ Dense  │ <span style=\"color: #7f7f7f; text-decoration-color: #7f7f7f\">float32</span>[1,192]       │ <span style=\"color: #7f7f7f; text-decoration-color: #7f7f7f\">float32</span>[1,24]       │ bias: <span style=\"color: #7f7f7f; text-decoration-color: #7f7f7f\">float32</span>[24]           │\n",
       "│         │        │                      │                     │ kernel: <span style=\"color: #7f7f7f; text-decoration-color: #7f7f7f\">float32</span>[192,24]     │\n",
       "│         │        │                      │                     │                             │\n",
       "│         │        │                      │                     │ <span style=\"font-weight: bold\">4,632 </span><span style=\"color: #7f7f7f; text-decoration-color: #7f7f7f; font-weight: bold\">(18.5 KB)</span>             │\n",
       "├─────────┼────────┼──────────────────────┼─────────────────────┼─────────────────────────────┤\n",
       "│ Dense_5 │ Dense  │ <span style=\"color: #7f7f7f; text-decoration-color: #7f7f7f\">float32</span>[1,24]        │ <span style=\"color: #7f7f7f; text-decoration-color: #7f7f7f\">float32</span>[1,2]        │ bias: <span style=\"color: #7f7f7f; text-decoration-color: #7f7f7f\">float32</span>[2]            │\n",
       "│         │        │                      │                     │ kernel: <span style=\"color: #7f7f7f; text-decoration-color: #7f7f7f\">float32</span>[24,2]       │\n",
       "│         │        │                      │                     │                             │\n",
       "│         │        │                      │                     │ <span style=\"font-weight: bold\">50 </span><span style=\"color: #7f7f7f; text-decoration-color: #7f7f7f; font-weight: bold\">(200 B)</span>                  │\n",
       "├─────────┼────────┼──────────────────────┼─────────────────────┼─────────────────────────────┤\n",
       "│<span style=\"font-weight: bold\">         </span>│<span style=\"font-weight: bold\">        </span>│<span style=\"font-weight: bold\">                      </span>│<span style=\"font-weight: bold\">               Total </span>│<span style=\"font-weight: bold\"> 3,147,530 </span><span style=\"color: #7f7f7f; text-decoration-color: #7f7f7f; font-weight: bold\">(12.6 MB)</span><span style=\"font-weight: bold\">         </span>│\n",
       "└─────────┴────────┴──────────────────────┴─────────────────────┴─────────────────────────────┘\n",
       "<span style=\"font-weight: bold\">                                                                                               </span>\n",
       "<span style=\"font-weight: bold\">                             Total Parameters: 3,147,530 </span><span style=\"color: #7f7f7f; text-decoration-color: #7f7f7f; font-weight: bold\">(12.6 MB)</span><span style=\"font-weight: bold\">                             </span>\n",
       "</pre>\n"
      ],
      "text/plain": [
       "\u001b[3m                                          CNN Summary                                          \u001b[0m\n",
       "┏━━━━━━━━━┳━━━━━━━━┳━━━━━━━━━━━━━━━━━━━━━━┳━━━━━━━━━━━━━━━━━━━━━┳━━━━━━━━━━━━━━━━━━━━━━━━━━━━━┓\n",
       "┃\u001b[1m \u001b[0m\u001b[1mpath   \u001b[0m\u001b[1m \u001b[0m┃\u001b[1m \u001b[0m\u001b[1mmodule\u001b[0m\u001b[1m \u001b[0m┃\u001b[1m \u001b[0m\u001b[1minputs              \u001b[0m\u001b[1m \u001b[0m┃\u001b[1m \u001b[0m\u001b[1moutputs            \u001b[0m\u001b[1m \u001b[0m┃\u001b[1m \u001b[0m\u001b[1mparams                     \u001b[0m\u001b[1m \u001b[0m┃\n",
       "┡━━━━━━━━━╇━━━━━━━━╇━━━━━━━━━━━━━━━━━━━━━━╇━━━━━━━━━━━━━━━━━━━━━╇━━━━━━━━━━━━━━━━━━━━━━━━━━━━━┩\n",
       "│         │ CNN    │ \u001b[2mfloat32\u001b[0m[1,100,100,1] │ \u001b[2mfloat32\u001b[0m[1,2]        │                             │\n",
       "├─────────┼────────┼──────────────────────┼─────────────────────┼─────────────────────────────┤\n",
       "│ Conv_0  │ Conv   │ \u001b[2mfloat32\u001b[0m[1,100,100,1] │ \u001b[2mfloat32\u001b[0m[1,31,31,64] │ bias: \u001b[2mfloat32\u001b[0m[64]           │\n",
       "│         │        │                      │                     │ kernel: \u001b[2mfloat32\u001b[0m[10,10,1,64] │\n",
       "│         │        │                      │                     │                             │\n",
       "│         │        │                      │                     │ \u001b[1m6,464 \u001b[0m\u001b[1;2m(25.9 KB)\u001b[0m             │\n",
       "├─────────┼────────┼──────────────────────┼─────────────────────┼─────────────────────────────┤\n",
       "│ Conv_1  │ Conv   │ \u001b[2mfloat32\u001b[0m[1,15,15,64]  │ \u001b[2mfloat32\u001b[0m[1,6,6,128]  │ bias: \u001b[2mfloat32\u001b[0m[128]          │\n",
       "│         │        │                      │                     │ kernel: \u001b[2mfloat32\u001b[0m[5,5,64,128] │\n",
       "│         │        │                      │                     │                             │\n",
       "│         │        │                      │                     │ \u001b[1m204,928 \u001b[0m\u001b[1;2m(819.7 KB)\u001b[0m          │\n",
       "├─────────┼────────┼──────────────────────┼─────────────────────┼─────────────────────────────┤\n",
       "│ Dense_0 │ Dense  │ \u001b[2mfloat32\u001b[0m[1,1152]      │ \u001b[2mfloat32\u001b[0m[1,1024]     │ bias: \u001b[2mfloat32\u001b[0m[1024]         │\n",
       "│         │        │                      │                     │ kernel: \u001b[2mfloat32\u001b[0m[1152,1024]  │\n",
       "│         │        │                      │                     │                             │\n",
       "│         │        │                      │                     │ \u001b[1m1,180,672 \u001b[0m\u001b[1;2m(4.7 MB)\u001b[0m          │\n",
       "├─────────┼────────┼──────────────────────┼─────────────────────┼─────────────────────────────┤\n",
       "│ Dense_1 │ Dense  │ \u001b[2mfloat32\u001b[0m[1,1024]      │ \u001b[2mfloat32\u001b[0m[1,1024]     │ bias: \u001b[2mfloat32\u001b[0m[1024]         │\n",
       "│         │        │                      │                     │ kernel: \u001b[2mfloat32\u001b[0m[1024,1024]  │\n",
       "│         │        │                      │                     │                             │\n",
       "│         │        │                      │                     │ \u001b[1m1,049,600 \u001b[0m\u001b[1;2m(4.2 MB)\u001b[0m          │\n",
       "├─────────┼────────┼──────────────────────┼─────────────────────┼─────────────────────────────┤\n",
       "│ Dense_2 │ Dense  │ \u001b[2mfloat32\u001b[0m[1,1024]      │ \u001b[2mfloat32\u001b[0m[1,576]      │ bias: \u001b[2mfloat32\u001b[0m[576]          │\n",
       "│         │        │                      │                     │ kernel: \u001b[2mfloat32\u001b[0m[1024,576]   │\n",
       "│         │        │                      │                     │                             │\n",
       "│         │        │                      │                     │ \u001b[1m590,400 \u001b[0m\u001b[1;2m(2.4 MB)\u001b[0m            │\n",
       "├─────────┼────────┼──────────────────────┼─────────────────────┼─────────────────────────────┤\n",
       "│ Dense_3 │ Dense  │ \u001b[2mfloat32\u001b[0m[1,576]       │ \u001b[2mfloat32\u001b[0m[1,192]      │ bias: \u001b[2mfloat32\u001b[0m[192]          │\n",
       "│         │        │                      │                     │ kernel: \u001b[2mfloat32\u001b[0m[576,192]    │\n",
       "│         │        │                      │                     │                             │\n",
       "│         │        │                      │                     │ \u001b[1m110,784 \u001b[0m\u001b[1;2m(443.1 KB)\u001b[0m          │\n",
       "├─────────┼────────┼──────────────────────┼─────────────────────┼─────────────────────────────┤\n",
       "│ Dense_4 │ Dense  │ \u001b[2mfloat32\u001b[0m[1,192]       │ \u001b[2mfloat32\u001b[0m[1,24]       │ bias: \u001b[2mfloat32\u001b[0m[24]           │\n",
       "│         │        │                      │                     │ kernel: \u001b[2mfloat32\u001b[0m[192,24]     │\n",
       "│         │        │                      │                     │                             │\n",
       "│         │        │                      │                     │ \u001b[1m4,632 \u001b[0m\u001b[1;2m(18.5 KB)\u001b[0m             │\n",
       "├─────────┼────────┼──────────────────────┼─────────────────────┼─────────────────────────────┤\n",
       "│ Dense_5 │ Dense  │ \u001b[2mfloat32\u001b[0m[1,24]        │ \u001b[2mfloat32\u001b[0m[1,2]        │ bias: \u001b[2mfloat32\u001b[0m[2]            │\n",
       "│         │        │                      │                     │ kernel: \u001b[2mfloat32\u001b[0m[24,2]       │\n",
       "│         │        │                      │                     │                             │\n",
       "│         │        │                      │                     │ \u001b[1m50 \u001b[0m\u001b[1;2m(200 B)\u001b[0m                  │\n",
       "├─────────┼────────┼──────────────────────┼─────────────────────┼─────────────────────────────┤\n",
       "│\u001b[1m \u001b[0m\u001b[1m       \u001b[0m\u001b[1m \u001b[0m│\u001b[1m \u001b[0m\u001b[1m      \u001b[0m\u001b[1m \u001b[0m│\u001b[1m \u001b[0m\u001b[1m                    \u001b[0m\u001b[1m \u001b[0m│\u001b[1m \u001b[0m\u001b[1m              Total\u001b[0m\u001b[1m \u001b[0m│\u001b[1m \u001b[0m\u001b[1m3,147,530 \u001b[0m\u001b[1;2m(12.6 MB)\u001b[0m\u001b[1m        \u001b[0m\u001b[1m \u001b[0m│\n",
       "└─────────┴────────┴──────────────────────┴─────────────────────┴─────────────────────────────┘\n",
       "\u001b[1m                                                                                               \u001b[0m\n",
       "\u001b[1m                             Total Parameters: 3,147,530 \u001b[0m\u001b[1;2m(12.6 MB)\u001b[0m\u001b[1m                             \u001b[0m\n"
      ]
     },
     "metadata": {},
     "output_type": "display_data"
    },
    {
     "data": {
      "text/plain": [
       "'\\n\\n'"
      ]
     },
     "execution_count": 5,
     "metadata": {},
     "output_type": "execute_result"
    }
   ],
   "source": [
    "cnn = CNN()\n",
    "cnn.tabulate(jax.random.PRNGKey(0), jnp.zeros((1, 100, 100, 1)), console_kwargs={'force_jupyter': True})"
   ]
  },
  {
   "cell_type": "code",
   "execution_count": 6,
   "id": "ed8dbb6c-96e4-4f05-89bb-37dfb597cd98",
   "metadata": {},
   "outputs": [],
   "source": [
    "def create_train_state(module, rng, learning_rate, momentum):\n",
    "    \"\"\"Creates an initial `TrainState`.\"\"\"\n",
    "    params = module.init(rng, jnp.ones([BATCH_SIZE, 100, 100, 1]))['params'] # initialize parameters by passing a template image\n",
    "    tx = optax.sgd(learning_rate, momentum)\n",
    "    return TrainState.create(apply_fn=module.apply, params=params, tx=tx)"
   ]
  },
  {
   "cell_type": "code",
   "execution_count": 7,
   "id": "d9d94c23-8182-4379-aba7-81ebc8a5fe39",
   "metadata": {},
   "outputs": [],
   "source": [
    "@jax.jit\n",
    "def train_step(state, img_batch, label_batch): \n",
    "    \"\"\"Train for a single step.\"\"\"\n",
    "    def loss_fn(params):\n",
    "        logits = state.apply_fn({'params': params}, img_batch, mutable=False)\n",
    "        loss = optax.softmax_cross_entropy(logits=logits, labels=label_batch).mean()\n",
    "        return loss\n",
    "    grad_fn = jax.grad(loss_fn)\n",
    "    grads = grad_fn(state.params)\n",
    "    state = state.apply_gradients(grads=grads)\n",
    "    return state, loss_fn(state.params)"
   ]
  },
  {
   "cell_type": "code",
   "execution_count": 8,
   "id": "5914ecee-34fe-4669-8846-b6d87c3563b5",
   "metadata": {},
   "outputs": [],
   "source": [
    "@jax.jit\n",
    "def calc_loss(train_state, imgs, labels):\n",
    "    return optax.softmax_cross_entropy(\n",
    "        #logits= train_state.apply_fn({'params': train_state.params}, imgs),\n",
    "        logits= train_state.apply_fn({'params': train_state.params}, imgs, mutable=False),\n",
    "        labels=labels).mean()\n",
    "\n",
    "def calc_loss_batched(train_state, imgs, labels):\n",
    "    n_batches = imgs.shape[0] // BATCH_SIZE\n",
    "    return jnp.array([calc_loss(train_state, img_batch, label_batch)\n",
    "                      for (img_batch, label_batch) in zip(imgs.reshape(n_batches, BATCH_SIZE, 100, 100, 1),\n",
    "                                                          labels.reshape(n_batches, BATCH_SIZE, 2))]).mean()"
   ]
  },
  {
   "cell_type": "code",
   "execution_count": 9,
   "id": "7bf7de21-c52e-4a9d-8c90-a3bc74e34cef",
   "metadata": {},
   "outputs": [],
   "source": [
    "train_data_file = jnp.load('train_data_1e3.npz')\n",
    "test_data_file = jnp.load('test_data.npz')\n",
    "test_data_file_noisy = jnp.load('test_data_noisy.npz')"
   ]
  },
  {
   "cell_type": "code",
   "execution_count": 10,
   "id": "c81a6966-7f35-4f6a-b77d-f4b1558d046f",
   "metadata": {},
   "outputs": [],
   "source": [
    "train_imgs = train_data_file['arr_0']\n",
    "train_labels = train_data_file['arr_1']"
   ]
  },
  {
   "cell_type": "code",
   "execution_count": 11,
   "id": "8718f500-0574-4627-8147-7115768531a6",
   "metadata": {},
   "outputs": [
    {
     "data": {
      "text/plain": [
       "((1000, 100, 100, 1), (1000, 2))"
      ]
     },
     "execution_count": 11,
     "metadata": {},
     "output_type": "execute_result"
    }
   ],
   "source": [
    "train_imgs.shape, train_labels.shape"
   ]
  },
  {
   "cell_type": "code",
   "execution_count": 12,
   "id": "59c49c57-5041-4dc3-aa11-6fc5b10a77ee",
   "metadata": {},
   "outputs": [],
   "source": [
    "test_imgs = test_data_file['arr_0']\n",
    "test_labels = test_data_file['arr_1']"
   ]
  },
  {
   "cell_type": "code",
   "execution_count": 13,
   "id": "4d78ebca-432e-40ca-9d66-1bafe84e8e2c",
   "metadata": {},
   "outputs": [
    {
     "data": {
      "text/plain": [
       "((2000, 100, 100, 1), (2000, 2))"
      ]
     },
     "execution_count": 13,
     "metadata": {},
     "output_type": "execute_result"
    }
   ],
   "source": [
    "test_imgs.shape, test_labels.shape"
   ]
  },
  {
   "cell_type": "code",
   "execution_count": 14,
   "id": "0c8a4f6c-e6cb-4bcf-af4f-bb84e20832ed",
   "metadata": {},
   "outputs": [],
   "source": [
    "test_imgs_noisy = test_data_file_noisy['arr_0']\n",
    "test_labels_noisy = test_data_file_noisy['arr_1']"
   ]
  },
  {
   "cell_type": "code",
   "execution_count": 15,
   "id": "230e4c45-3de6-48c8-9da3-2c6d86e62c40",
   "metadata": {},
   "outputs": [
    {
     "data": {
      "text/plain": [
       "((2000, 100, 100, 1), (2000, 2))"
      ]
     },
     "execution_count": 15,
     "metadata": {},
     "output_type": "execute_result"
    }
   ],
   "source": [
    "test_imgs_noisy.shape, test_labels_noisy.shape"
   ]
  },
  {
   "cell_type": "code",
   "execution_count": 16,
   "id": "c764c89b-a127-4ccf-b731-3122c945e097",
   "metadata": {},
   "outputs": [],
   "source": [
    "N_TRAIN = train_imgs.shape[0]\n",
    "N_TEST = test_imgs.shape[0]\n",
    "N_EPOCHS = 20\n",
    "BATCH_SIZE = 10\n",
    "LEARNING_RATE = 0.001\n",
    "MOMENTUM = 0.9\n",
    "assert N_TRAIN % BATCH_SIZE == 0\n",
    "assert N_TEST % BATCH_SIZE == 0"
   ]
  },
  {
   "cell_type": "code",
   "execution_count": 17,
   "id": "d0d11caa-3935-4ba5-acf3-6fe685de7bca",
   "metadata": {},
   "outputs": [],
   "source": [
    "state = create_train_state(cnn, jax.random.PRNGKey(0), LEARNING_RATE, MOMENTUM)"
   ]
  },
  {
   "cell_type": "code",
   "execution_count": 18,
   "id": "2dc04fea-c89a-49f4-be30-eedc8ae10579",
   "metadata": {},
   "outputs": [],
   "source": [
    "shuffling_key = jax.random.PRNGKey(0)"
   ]
  },
  {
   "cell_type": "code",
   "execution_count": 19,
   "id": "58289c66-acac-4942-bf14-c503a66a911a",
   "metadata": {},
   "outputs": [],
   "source": [
    "training_losses = []"
   ]
  },
  {
   "cell_type": "code",
   "execution_count": 20,
   "id": "36c65902-e84b-4d87-937c-089ec9c3694b",
   "metadata": {},
   "outputs": [
    {
     "name": "stderr",
     "output_type": "stream",
     "text": [
      "100%|████████████████████████████████████████████████████████| 100/100 [00:01<00:00, 58.57it/s]\n"
     ]
    },
    {
     "name": "stdout",
     "output_type": "stream",
     "text": [
      "epoch: 0, average loss: 0.6903721690177917, train loss: 0.6911529898643494, test loss: 0.6905192136764526\n"
     ]
    },
    {
     "name": "stderr",
     "output_type": "stream",
     "text": [
      "100%|███████████████████████████████████████████████████████| 100/100 [00:00<00:00, 779.99it/s]\n"
     ]
    },
    {
     "name": "stdout",
     "output_type": "stream",
     "text": [
      "epoch: 1, average loss: 0.6889894008636475, train loss: 0.685327410697937, test loss: 0.6857949495315552\n"
     ]
    },
    {
     "name": "stderr",
     "output_type": "stream",
     "text": [
      "100%|███████████████████████████████████████████████████████| 100/100 [00:00<00:00, 866.51it/s]\n"
     ]
    },
    {
     "name": "stdout",
     "output_type": "stream",
     "text": [
      "epoch: 2, average loss: 0.6845139265060425, train loss: 0.6825101375579834, test loss: 0.6840934753417969\n"
     ]
    },
    {
     "name": "stderr",
     "output_type": "stream",
     "text": [
      "100%|███████████████████████████████████████████████████████| 100/100 [00:00<00:00, 841.18it/s]\n"
     ]
    },
    {
     "name": "stdout",
     "output_type": "stream",
     "text": [
      "epoch: 3, average loss: 0.6724315285682678, train loss: 0.6742976903915405, test loss: 0.6777651309967041\n"
     ]
    },
    {
     "name": "stderr",
     "output_type": "stream",
     "text": [
      "100%|███████████████████████████████████████████████████████| 100/100 [00:00<00:00, 840.91it/s]\n"
     ]
    },
    {
     "name": "stdout",
     "output_type": "stream",
     "text": [
      "epoch: 4, average loss: 0.6596834659576416, train loss: 0.6539908647537231, test loss: 0.6577502489089966\n"
     ]
    },
    {
     "name": "stderr",
     "output_type": "stream",
     "text": [
      "100%|███████████████████████████████████████████████████████| 100/100 [00:00<00:00, 835.99it/s]\n"
     ]
    },
    {
     "name": "stdout",
     "output_type": "stream",
     "text": [
      "epoch: 5, average loss: 0.6321075558662415, train loss: 0.6235857605934143, test loss: 0.6285161972045898\n"
     ]
    },
    {
     "name": "stderr",
     "output_type": "stream",
     "text": [
      "100%|███████████████████████████████████████████████████████| 100/100 [00:00<00:00, 859.51it/s]\n"
     ]
    },
    {
     "name": "stdout",
     "output_type": "stream",
     "text": [
      "epoch: 6, average loss: 0.5804438591003418, train loss: 0.5471717119216919, test loss: 0.5523846745491028\n"
     ]
    },
    {
     "name": "stderr",
     "output_type": "stream",
     "text": [
      "100%|███████████████████████████████████████████████████████| 100/100 [00:00<00:00, 881.26it/s]\n"
     ]
    },
    {
     "name": "stdout",
     "output_type": "stream",
     "text": [
      "epoch: 7, average loss: 0.513383686542511, train loss: 0.4187631607055664, test loss: 0.43344846367836\n"
     ]
    },
    {
     "name": "stderr",
     "output_type": "stream",
     "text": [
      "100%|███████████████████████████████████████████████████████| 100/100 [00:00<00:00, 913.12it/s]\n"
     ]
    },
    {
     "name": "stdout",
     "output_type": "stream",
     "text": [
      "epoch: 8, average loss: 0.3930906653404236, train loss: 0.47661080956459045, test loss: 0.5010528564453125\n"
     ]
    },
    {
     "name": "stderr",
     "output_type": "stream",
     "text": [
      "100%|███████████████████████████████████████████████████████| 100/100 [00:00<00:00, 875.71it/s]\n"
     ]
    },
    {
     "name": "stdout",
     "output_type": "stream",
     "text": [
      "epoch: 9, average loss: 0.28195151686668396, train loss: 0.3606661260128021, test loss: 0.3755094110965729\n"
     ]
    },
    {
     "name": "stderr",
     "output_type": "stream",
     "text": [
      "100%|███████████████████████████████████████████████████████| 100/100 [00:00<00:00, 897.13it/s]\n"
     ]
    },
    {
     "name": "stdout",
     "output_type": "stream",
     "text": [
      "epoch: 10, average loss: 0.23188747465610504, train loss: 0.29841065406799316, test loss: 0.32122087478637695\n"
     ]
    },
    {
     "name": "stderr",
     "output_type": "stream",
     "text": [
      "100%|███████████████████████████████████████████████████████| 100/100 [00:00<00:00, 908.97it/s]\n"
     ]
    },
    {
     "name": "stdout",
     "output_type": "stream",
     "text": [
      "epoch: 11, average loss: 0.16368156671524048, train loss: 0.1689957082271576, test loss: 0.2038930058479309\n"
     ]
    },
    {
     "name": "stderr",
     "output_type": "stream",
     "text": [
      "100%|███████████████████████████████████████████████████████| 100/100 [00:00<00:00, 890.00it/s]\n"
     ]
    },
    {
     "name": "stdout",
     "output_type": "stream",
     "text": [
      "epoch: 12, average loss: 0.1492908000946045, train loss: 0.14742031693458557, test loss: 0.16013368964195251\n"
     ]
    },
    {
     "name": "stderr",
     "output_type": "stream",
     "text": [
      "100%|███████████████████████████████████████████████████████| 100/100 [00:00<00:00, 896.87it/s]\n"
     ]
    },
    {
     "name": "stdout",
     "output_type": "stream",
     "text": [
      "epoch: 13, average loss: 0.12700338661670685, train loss: 0.3194713294506073, test loss: 0.3270685374736786\n"
     ]
    },
    {
     "name": "stderr",
     "output_type": "stream",
     "text": [
      "100%|███████████████████████████████████████████████████████| 100/100 [00:00<00:00, 894.64it/s]\n"
     ]
    },
    {
     "name": "stdout",
     "output_type": "stream",
     "text": [
      "epoch: 14, average loss: 0.16370251774787903, train loss: 0.17003032565116882, test loss: 0.20100127160549164\n"
     ]
    },
    {
     "name": "stderr",
     "output_type": "stream",
     "text": [
      "100%|███████████████████████████████████████████████████████| 100/100 [00:00<00:00, 875.09it/s]\n"
     ]
    },
    {
     "name": "stdout",
     "output_type": "stream",
     "text": [
      "epoch: 15, average loss: 0.1339229792356491, train loss: 0.20892217755317688, test loss: 0.25931820273399353\n"
     ]
    },
    {
     "name": "stderr",
     "output_type": "stream",
     "text": [
      "100%|███████████████████████████████████████████████████████| 100/100 [00:00<00:00, 884.33it/s]\n"
     ]
    },
    {
     "name": "stdout",
     "output_type": "stream",
     "text": [
      "epoch: 16, average loss: 0.1285449117422104, train loss: 0.1257174015045166, test loss: 0.16463321447372437\n"
     ]
    },
    {
     "name": "stderr",
     "output_type": "stream",
     "text": [
      "100%|███████████████████████████████████████████████████████| 100/100 [00:00<00:00, 887.37it/s]\n"
     ]
    },
    {
     "name": "stdout",
     "output_type": "stream",
     "text": [
      "epoch: 17, average loss: 0.12298055738210678, train loss: 0.12738636136054993, test loss: 0.16195957362651825\n"
     ]
    },
    {
     "name": "stderr",
     "output_type": "stream",
     "text": [
      "100%|███████████████████████████████████████████████████████| 100/100 [00:00<00:00, 927.99it/s]\n"
     ]
    },
    {
     "name": "stdout",
     "output_type": "stream",
     "text": [
      "epoch: 18, average loss: 0.11526896059513092, train loss: 0.10970143973827362, test loss: 0.13406890630722046\n"
     ]
    },
    {
     "name": "stderr",
     "output_type": "stream",
     "text": [
      "100%|███████████████████████████████████████████████████████| 100/100 [00:00<00:00, 908.23it/s]\n"
     ]
    },
    {
     "name": "stdout",
     "output_type": "stream",
     "text": [
      "epoch: 19, average loss: 0.1229860857129097, train loss: 0.11943292617797852, test loss: 0.15746839344501495\n"
     ]
    }
   ],
   "source": [
    "for epoch in range(N_EPOCHS):\n",
    "    training_losses.append([])\n",
    "    perm = jax.random.permutation(shuffling_key, N_TRAIN)\n",
    "    train_imgs = train_imgs[perm]\n",
    "    train_labels = train_labels[perm]\n",
    "    shuffling_key = jax.random.split(shuffling_key, 2)[1]\n",
    "\n",
    "    assert N_TRAIN % BATCH_SIZE == 0\n",
    "    for step in tqdm(range(N_TRAIN // BATCH_SIZE)):\n",
    "        img_batch = train_imgs[step*BATCH_SIZE:(step+1)*BATCH_SIZE]\n",
    "        label_batch = train_labels[step*BATCH_SIZE:(step+1)*BATCH_SIZE]\n",
    "        \n",
    "        state, loss = train_step(state, img_batch, label_batch) \n",
    "        training_losses[-1].append(loss)\n",
    "        #os.system('nvidia-smi')\n",
    "\n",
    "    epoch_loss = jnp.array(training_losses[-1]).mean()\n",
    "    epoch_train_loss = calc_loss_batched(state, train_imgs, train_labels)\n",
    "    epoch_test_loss = calc_loss_batched(state, test_imgs, test_labels)\n",
    "    #epoch_train_loss = 'not calculated'\n",
    "    #epoch_test_loss = 'not calculated'\n",
    "    print(f'epoch: {epoch}, average loss: {epoch_loss}, '\n",
    "          f'train loss: {epoch_train_loss}, '\n",
    "          f'test loss: {epoch_test_loss}')"
   ]
  },
  {
   "cell_type": "code",
   "execution_count": 21,
   "id": "d3fc54da-c346-4406-b934-034b4313eafe",
   "metadata": {},
   "outputs": [
    {
     "data": {
      "text/plain": [
       "[<matplotlib.lines.Line2D at 0x7fad9c588ca0>]"
      ]
     },
     "execution_count": 21,
     "metadata": {},
     "output_type": "execute_result"
    },
    {
     "data": {
      "image/png": "[encoded data removed]",
      "text/plain": [
       "<Figure size 640x480 with 1 Axes>"
      ]
     },
     "metadata": {},
     "output_type": "display_data"
    }
   ],
   "source": [
    "plt.plot([jnp.array(l).mean() for l in training_losses])"
   ]
  },
  {
   "cell_type": "code",
   "execution_count": 22,
   "id": "2ca5e2a0-9546-4706-8b75-f29bb66fc64c",
   "metadata": {},
   "outputs": [],
   "source": [
    "cel_loss = lambda logits, labels: (logits * labels).sum()"
   ]
  },
  {
   "cell_type": "code",
   "execution_count": 23,
   "id": "ab5d5cf9-00cf-4a7d-8a6a-6ad0dde605c8",
   "metadata": {},
   "outputs": [
    {
     "data": {
      "text/plain": [
       "Array(314.93677, dtype=float32)"
      ]
     },
     "execution_count": 23,
     "metadata": {},
     "output_type": "execute_result"
    }
   ],
   "source": [
    "optax.softmax_cross_entropy(\n",
    "    #logits= train_state.apply_fn({'params': train_state.params}, imgs),\n",
    "    logits=state.apply_fn({'params': state.params}, test_imgs),\n",
    "    labels=test_labels).sum()"
   ]
  },
  {
   "cell_type": "code",
   "execution_count": 24,
   "id": "4c4c5cef-3395-4bf8-b37a-e681a422921c",
   "metadata": {},
   "outputs": [
    {
     "data": {
      "text/plain": [
       "Array(1150.0137, dtype=float32)"
      ]
     },
     "execution_count": 24,
     "metadata": {},
     "output_type": "execute_result"
    }
   ],
   "source": [
    "optax.softmax_cross_entropy(\n",
    "    logits=state.apply_fn({'params': state.params}, test_imgs_noisy),\n",
    "    labels=test_labels_noisy).sum()"
   ]
  },
  {
   "cell_type": "code",
   "execution_count": 25,
   "id": "5f6de522-d88c-46c9-a036-3a458277b08b",
   "metadata": {},
   "outputs": [
    {
     "name": "stdout",
     "output_type": "stream",
     "text": [
      "[[0.14143713 0.8585629 ]]\n",
      "[1. 0.]\n",
      "[1.9559]\n"
     ]
    },
    {
     "data": {
      "image/jpeg": "[encoded data removed]",
      "image/png": "[encoded data removed]",
      "text/plain": [
       "<PIL.Image.Image image mode=RGB size=200x200>"
      ]
     },
     "execution_count": 25,
     "metadata": {},
     "output_type": "execute_result"
    }
   ],
   "source": [
    "IDX = 2\n",
    "__img = test_imgs[IDX].reshape(1, 100, 100, 1)\n",
    "logits = state.apply_fn({'params': state.params}, __img)\n",
    "print(b.utils.normalize_log_scores(logits))\n",
    "print(test_labels[IDX])\n",
    "print(optax.softmax_cross_entropy(\n",
    "        #logits= train_state.apply_fn({'params': train_state.params}, imgs),\n",
    "        logits=logits,\n",
    "        labels=test_labels[IDX]))\n",
    "b.viz.scale_image(b.get_depth_image(__img[0, :, :, 0]), 2)"
   ]
  },
  {
   "cell_type": "code",
   "execution_count": 26,
   "id": "5dd656d7-89ec-4fa7-ae25-31178f961a7e",
   "metadata": {},
   "outputs": [],
   "source": [
    "logits = state.apply_fn({'params': state.params}, test_imgs)[:100, :]\n",
    "b3d_logits = jnp.load('b3d_scores_no_noise.npy')\n"
   ]
  },
  {
   "cell_type": "code",
   "execution_count": 34,
   "id": "9dace2f8-030f-4190-9335-e6a56a434e2f",
   "metadata": {},
   "outputs": [],
   "source": [
    "jnp.save('cnn_scores_no_noise.npy', logits)"
   ]
  },
  {
   "cell_type": "code",
   "execution_count": 27,
   "id": "794e2dc2-facf-4755-ab31-70d29d09b57b",
   "metadata": {},
   "outputs": [
    {
     "name": "stdout",
     "output_type": "stream",
     "text": [
      "[0.00151398 0.99848604] [0. 1.]\n",
      "[0.00370419 0.99629575] [0. 1.]\n",
      "[0.14143726 0.85856277] [0.5 0.5]\n",
      "[0.16887529 0.8311247 ] [0.5 0.5]\n",
      "[0.00451189 0.9954881 ] [0. 1.]\n",
      "[9.994188e-01 5.811581e-04] [1. 0.]\n",
      "[0.16887529 0.8311247 ] [0.5 0.5]\n",
      "[0.99876034 0.00123967] [0.5 0.5]\n",
      "[0.1647268 0.8352732] [0.5 0.5]\n",
      "[0.00164523 0.99835473] [0. 1.]\n",
      "[0.99794394 0.00205606] [1. 0.]\n",
      "[0.00310627 0.99689376] [0. 1.]\n",
      "[0.00574108 0.9942589 ] [0. 1.]\n",
      "[0.00165218 0.9983479 ] [0. 1.]\n",
      "[0.00452231 0.9954777 ] [0. 1.]\n",
      "[0.9977678  0.00223216] [0.5 0.5]\n",
      "[0.00231552 0.9976845 ] [0. 1.]\n",
      "[0.9983941  0.00160593] [1. 0.]\n",
      "[0.9969369  0.00306312] [0.5 0.5]\n",
      "[0.25285482 0.74714524] [0.5 0.5]\n",
      "[0.99847454 0.00152541] [0.5 0.5]\n",
      "[0.01410315 0.9858968 ] [5.169378e-25 1.000000e+00]\n",
      "[0.00100826 0.9989918 ] [0. 1.]\n",
      "[0.00435951 0.9956405 ] [0. 1.]\n",
      "[0.9984433 0.0015567] [1. 0.]\n",
      "[0.01267123 0.98732877] [0. 1.]\n",
      "[0.00263944 0.9973605 ] [0. 1.]\n",
      "[0.00201534 0.99798465] [0. 1.]\n",
      "[0.00141264 0.9985873 ] [0. 1.]\n",
      "[0.00210483 0.9978951 ] [0. 1.]\n",
      "[0.99804974 0.00195025] [1. 0.]\n",
      "[0.99804735 0.00195259] [1.0000000e+00 3.3205796e-20]\n",
      "[0.9956301 0.0043699] [1. 0.]\n",
      "[0.27141777 0.7285823 ] [0.49902347 0.50097656]\n",
      "[0.9982449  0.00175517] [1. 0.]\n",
      "[0.02317014 0.9768298 ] [2.7511797e-11 1.0000000e+00]\n",
      "[0.15039966 0.8496003 ] [0.5 0.5]\n",
      "[0.10464513 0.8953549 ] [7.151036e-10 1.000000e+00]\n",
      "[0.38847777 0.61152226] [6.1793935e-07 9.9999940e-01]\n",
      "[0.00452244 0.99547756] [0. 1.]\n",
      "[0.00667662 0.9933234 ] [0. 1.]\n",
      "[0.00299819 0.9970018 ] [0. 1.]\n",
      "[0.9849064  0.01509361] [0.5 0.5]\n",
      "[0.00565452 0.9943455 ] [0. 1.]\n",
      "[0.14876561 0.8512343 ] [0.5 0.5]\n",
      "[0.9984037  0.00159626] [1. 0.]\n",
      "[0.9978204  0.00217968] [0.5 0.5]\n",
      "[0.00473055 0.9952695 ] [0. 1.]\n",
      "[0.00116566 0.9988343 ] [0. 1.]\n",
      "[9.991974e-01 8.025592e-04] [1. 0.]\n",
      "[0.9941846  0.00581533] [1. 0.]\n",
      "[0.9903825  0.00961748] [1. 0.]\n",
      "[0.99768555 0.00231441] [1. 0.]\n",
      "[0.00219709 0.9978029 ] [0. 1.]\n",
      "[0.997101   0.00289896] [0.5 0.5]\n",
      "[0.00405988 0.99594   ] [0. 1.]\n",
      "[0.10755982 0.89244026] [0.5 0.5]\n",
      "[0.29185134 0.70814866] [0.5 0.5]\n",
      "[0.00124755 0.9987525 ] [0. 1.]\n",
      "[0.00462946 0.99537057] [0. 1.]\n",
      "[0.00402904 0.9959709 ] [0. 1.]\n",
      "[0.01055724 0.9894428 ] [0. 1.]\n",
      "[0.00199038 0.9980096 ] [0. 1.]\n",
      "[0.16887529 0.8311247 ] [0.5 0.5]\n",
      "[0.9953591  0.00464085] [1. 0.]\n",
      "[0.6651064  0.33489358] [0.5 0.5]\n",
      "[0.9989046  0.00109538] [0.5 0.5]\n",
      "[0.01534284 0.9846571 ] [3.131605e-20 1.000000e+00]\n",
      "[0.8106198  0.18938021] [0.7613611  0.23863892]\n",
      "[0.00377261 0.9962273 ] [0. 1.]\n",
      "[0.3389214 0.6610786] [0.5 0.5]\n",
      "[0.9981104  0.00188954] [1.0e+00 4.5e-44]\n",
      "[0.9971698  0.00283022] [1. 0.]\n",
      "[9.991923e-01 8.076687e-04] [1. 0.]\n",
      "[0.00170396 0.9982961 ] [0. 1.]\n",
      "[0.99676096 0.00323896] [1. 0.]\n",
      "[0.11905551 0.8809445 ] [0.5 0.5]\n",
      "[0.16887529 0.8311247 ] [0.5 0.5]\n",
      "[0.00670145 0.99329853] [0. 1.]\n",
      "[9.9938583e-01 6.1417924e-04] [1. 0.]\n",
      "[0.9986437  0.00135628] [1. 0.]\n",
      "[0.0105383 0.9894617] [0. 1.]\n",
      "[0.16887529 0.8311247 ] [0.5 0.5]\n",
      "[0.3113122 0.6886878] [1.8514946e-08 1.0000000e+00]\n",
      "[0.9987142  0.00128586] [1. 0.]\n",
      "[0.99776864 0.00223135] [0.5 0.5]\n",
      "[0.9970606  0.00293939] [1. 0.]\n",
      "[0.16887529 0.8311247 ] [0.5 0.5]\n",
      "[0.16887529 0.8311247 ] [0.5 0.5]\n",
      "[0.00413656 0.99586344] [0. 1.]\n",
      "[0.9989967  0.00100329] [1. 0.]\n",
      "[0.2915648 0.7084352] [0.5 0.5]\n",
      "[0.00362447 0.9963755 ] [0. 1.]\n",
      "[0.99807966 0.0019203 ] [0.5 0.5]\n",
      "[0.9926083  0.00739172] [1. 0.]\n",
      "[0.99840844 0.00159149] [1. 0.]\n",
      "[9.87997e-04 9.99012e-01] [0. 1.]\n",
      "[0.16887529 0.8311247 ] [0.5 0.5]\n",
      "[0.99855524 0.00144472] [1.0000000e+00 2.3279351e-31]\n",
      "[0.00115807 0.9988419 ] [0. 1.]\n"
     ]
    }
   ],
   "source": [
    "for (l1, l2) in zip(jax.nn.softmax(logits),  jax.nn.softmax(b3d_logits)):\n",
    "    print(l1, l2)"
   ]
  },
  {
   "cell_type": "code",
   "execution_count": 28,
   "id": "c785163f-a49f-47fa-ae20-23b90ca7ed68",
   "metadata": {},
   "outputs": [],
   "source": [
    "# with open('param_file_1e5.pkl', 'wb') as params_file:\n",
    "#     pickle.dump(state.params, params_file)"
   ]
  },
  {
   "cell_type": "code",
   "execution_count": 29,
   "id": "fae87da9-2cda-4441-a1fc-31a7471e716b",
   "metadata": {},
   "outputs": [],
   "source": [
    "#img_batch, label_batch = make_batch(batch_keys)\n",
    "#logits = state.apply_fn({'params': state.params}, img_batch)"
   ]
  },
  {
   "cell_type": "code",
   "execution_count": 30,
   "id": "78c15278-a10d-4e06-942b-84553af4f7ec",
   "metadata": {},
   "outputs": [],
   "source": [
    "#i = 33 #23 # 13"
   ]
  },
  {
   "cell_type": "code",
   "execution_count": 31,
   "id": "16d88a95-ecc7-4bf4-90bb-48b1fc2a0935",
   "metadata": {},
   "outputs": [],
   "source": [
    "#b.viz.scale_image(b.get_depth_image(img_batch[i, :, :, 0]), 2)"
   ]
  },
  {
   "cell_type": "code",
   "execution_count": 32,
   "id": "ad0420f5-f05c-4633-a6bd-b169810ba6e8",
   "metadata": {},
   "outputs": [],
   "source": [
    "#label_batch[i], jax.nn.softmax(logits[i])"
   ]
  },
  {
   "cell_type": "code",
   "execution_count": null,
   "id": "20675fe5-c1e1-4cb4-813e-a7419de93d70",
   "metadata": {},
   "outputs": [],
   "source": []
  },
  {
   "cell_type": "markdown",
   "id": "0f772915-288d-4f34-813b-0214bba0ae33",
   "metadata": {},
   "source": [
    "## "
   ]
  }
 ],
 "metadata": {
  "kernelspec": {
   "display_name": "Python 3 (ipykernel)",
   "language": "python",
   "name": "python3"
  },
  "language_info": {
   "codemirror_mode": {
    "name": "ipython",
    "version": 3
   },
   "file_extension": ".py",
   "mimetype": "text/x-python",
   "name": "python",
   "nbconvert_exporter": "python",
   "pygments_lexer": "ipython3",
   "version": "3.9.17"
  }
 },
 "nbformat": 4,
 "nbformat_minor": 5
}
