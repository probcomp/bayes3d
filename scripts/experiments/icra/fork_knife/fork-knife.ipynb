{
 "cells": [
  {
   "cell_type": "code",
   "execution_count": 1,
   "id": "1477c737-919d-4445-bc46-c139b9a3febf",
   "metadata": {},
   "outputs": [],
   "source": [
    "import bayes3d as b\n",
    "import os\n",
    "import jax.numpy as jnp\n",
    "import jax\n",
    "import bayes3d.genjax\n",
    "import numpy as np\n",
    "import genjax\n",
    "import matplotlib\n",
    "import pathlib\n",
    "from tqdm import tqdm\n",
    "import matplotlib.pyplot as plt"
   ]
  },
  {
   "cell_type": "code",
   "execution_count": 2,
   "id": "d2db391b-3dfd-4b03-9e28-ae49df8839aa",
   "metadata": {},
   "outputs": [],
   "source": [
    "# import flax.linen as nn\n",
    "# from flax.training import train_state\n",
    "# from clu import metrics\n",
    "# import flax\n",
    "# import optax"
   ]
  },
  {
   "cell_type": "code",
   "execution_count": 3,
   "id": "dcb009c9-5d15-477a-8c19-673085f12f9a",
   "metadata": {},
   "outputs": [
    {
     "name": "stdout",
     "output_type": "stream",
     "text": [
      "You can open the visualizer by visiting the following URL:\n",
      "http://127.0.0.1:7035/static/\n"
     ]
    }
   ],
   "source": [
    "b.setup_visualizer()"
   ]
  },
  {
   "cell_type": "code",
   "execution_count": 4,
   "id": "41b66139-aa4a-4164-8393-217fc059c772",
   "metadata": {},
   "outputs": [
    {
     "name": "stderr",
     "output_type": "stream",
     "text": [
      "[E rasterize_gl.cpp:121] OpenGL version reported as 4.6\n"
     ]
    },
    {
     "name": "stdout",
     "output_type": "stream",
     "text": [
      "Increasing frame buffer size to (width, height, depth) = (128, 128, 1024)\n"
     ]
    }
   ],
   "source": [
    "intrinsics = b.Intrinsics(\n",
    "    height=100,\n",
    "    width=100,\n",
    "    fx=200.0, fy=200.0,\n",
    "    cx=50.0, cy=50.0,\n",
    "    near=0.0001, far=2.0\n",
    ")\n",
    "\n",
    "b.setup_renderer(intrinsics)\n",
    "# model_dir = os.path.join(b.utils.get_assets_dir(),\"bop/ycbv/models\")\n",
    "# meshes = []\n",
    "# for idx in range(1,22):\n",
    "#     mesh_path = os.path.join(model_dir,\"obj_\" + \"{}\".format(idx).rjust(6, '0') + \".ply\")\n",
    "#     b.RENDERER.add_mesh_from_file(mesh_path, scaling_factor=1.0/1000.0)\n",
    "# b.RENDERER.add_mesh_from_file(os.path.join(b.utils.get_assets_dir(), \"sample_objs/cube.obj\"), scaling_factor=1.0/1000000000.0)\n"
   ]
  },
  {
   "cell_type": "code",
   "execution_count": 5,
   "id": "25338752-5b39-4b34-ad9e-5963fc017693",
   "metadata": {},
   "outputs": [],
   "source": [
    "import trimesh\n",
    "box_width = 0.02\n",
    "hammer_width = 0.05\n",
    "hand_length = 0.15\n",
    "b1 = trimesh.creation.box(\n",
    "    np.array(jnp.array([hand_length, box_width,box_width])),\n",
    "    np.array(b.transform_from_pos(jnp.array([0.0, 0.0, 0.0])))\n",
    ")\n",
    "b2 = trimesh.creation.box(\n",
    "    np.array(jnp.array([hammer_width,hammer_width, hammer_width])),\n",
    "    np.array(b.transform_from_pos(jnp.array([hand_length/2 - hammer_width/2, 0.0, 0.0])))\n",
    ")\n",
    "b3 = trimesh.creation.box(\n",
    "    np.array(jnp.array([hammer_width,hammer_width, hammer_width])),\n",
    "    np.array(b.transform_from_pos(jnp.array([-hand_length/2 + hammer_width/2, 0.0, 0.0, ])))\n",
    ")\n",
    "m1 = trimesh.util.concatenate([b1,b2])\n",
    "m2 = trimesh.util.concatenate([b1,b2,b3])\n",
    "b.show_trimesh(\"1\", m2)"
   ]
  },
  {
   "cell_type": "code",
   "execution_count": 22,
   "id": "338cf8e2-b412-4c1b-ae53-7b2dfb8ccd5b",
   "metadata": {},
   "outputs": [],
   "source": [
    "b.utils.mesh.export_mesh(m1, \"m1.obj\")\n",
    "b.utils.mesh.export_mesh(m2, \"m2.obj\")"
   ]
  },
  {
   "cell_type": "code",
   "execution_count": 6,
   "id": "e288e29c-dc08-40fd-9601-6973c1929b76",
   "metadata": {},
   "outputs": [],
   "source": [
    "fork_mesh_path = b.utils.get_assets_dir() + '/ycb_video_models/models/030_fork/nontextured.ply'\n",
    "knife_mesh_path = b.utils.get_assets_dir() + '/ycb_video_models/models/032_knife/nontextured.ply'\n",
    "box_mesh_path = b.utils.get_assets_dir() + '/bop/ycbv/models/obj_000002.ply'\n",
    "table_mesh_path = b.utils.get_assets_dir() + '/sample_objs/cube.obj'\n",
    "\n",
    "b.RENDERER.add_mesh(m1)\n",
    "b.RENDERER.add_mesh(m2)\n",
    "b.RENDERER.add_mesh_from_file(box_mesh_path, scaling_factor=1e-3)\n",
    "b.RENDERER.add_mesh_from_file(table_mesh_path, scaling_factor=1e-6)\n",
    "\n",
    "# b.RENDERER.add_mesh(mesh_path, scaling_factor=scale)\n",
    "\n",
    "# fork_scale = knife_scale = 1.0\n",
    "# box_scale = 1e-3\n",
    "# table_scale = 1e-6\n",
    "# mesh_paths = (fork_mesh_path, knife_mesh_path, box_mesh_path, table_mesh_path)\n",
    "# scales = (fork_scale, knife_scale, box_scale, table_scale)\n",
    "# for mesh_path, scale in zip(mesh_paths, scales):\n",
    "#     b.RENDERER.add_mesh_from_file(mesh_path, scaling_factor=scale)"
   ]
  },
  {
   "cell_type": "code",
   "execution_count": 7,
   "id": "9272c1e4-c2be-4ea0-a99a-133f8a4a08e0",
   "metadata": {},
   "outputs": [
    {
     "data": {
      "text/plain": [
       "Array([[1.5000001e-01, 5.0000001e-02, 5.0000001e-02],\n",
       "       [1.5000001e-01, 5.0000001e-02, 5.0000001e-02],\n",
       "       [7.1730003e-02, 1.6397701e-01, 2.1348599e-01],\n",
       "       [1.0000000e-06, 1.0000000e-06, 1.0000000e-06]], dtype=float32)"
      ]
     },
     "execution_count": 7,
     "metadata": {},
     "output_type": "execute_result"
    }
   ],
   "source": [
    "b.RENDERER.model_box_dims"
   ]
  },
  {
   "cell_type": "code",
   "execution_count": 8,
   "id": "966046ea-0e7b-4a72-a014-c0c3dc29b12a",
   "metadata": {},
   "outputs": [],
   "source": [
    "def viz_trace_rendered_observed(trace):\n",
    "    return b.viz.hstack_images(\n",
    "        [\n",
    "            b.viz.scale_image(b.get_depth_image(b.genjax.get_rendered_image(trace)[...,2]), 2),\n",
    "            b.viz.scale_image(b.get_depth_image(trace[\"image\"][...,2]), 2)\n",
    "        ]\n",
    "    )"
   ]
  },
  {
   "cell_type": "code",
   "execution_count": 9,
   "id": "ce5fb017-2bda-46a0-b7f0-78c9c321feab",
   "metadata": {},
   "outputs": [],
   "source": [
    "table_pose = b.t3d.inverse_pose(\n",
    "    b.t3d.transform_from_pos_target_up(\n",
    "        jnp.array([0.0, 0.7, 0.5]),\n",
    "        jnp.array([0.0, 0.0, 0.0]),\n",
    "        jnp.array([0.0, 0.0, 1.0]),\n",
    "    )\n",
    ")\n",
    "importance_jit = jax.jit(b.model.importance)\n",
    "update_jit = jax.jit(b.model.update)\n",
    "enumerators = b.make_enumerator([\"contact_params_2\"])"
   ]
  },
  {
   "cell_type": "code",
   "execution_count": 10,
   "id": "90616465-4fcf-4149-9189-1b8f2faa5417",
   "metadata": {},
   "outputs": [],
   "source": [
    "def make_orientation_posterior_viz(observation, is_fork, bars):\n",
    "    fig = plt.figure(constrained_layout=True)\n",
    "    fig.suptitle(f\"is_fork: {is_fork}\")\n",
    "    widths = [1, 1]\n",
    "    heights = [2]\n",
    "    spec = fig.add_gridspec(ncols=2, nrows=1, width_ratios=widths,\n",
    "                              height_ratios=heights)\n",
    "    \n",
    "    ax = fig.add_subplot(spec[0, 0])\n",
    "    ax.imshow(jnp.array(b.get_depth_image(observation[...,2])))\n",
    "    ax.get_xaxis().set_visible(False)\n",
    "    ax.get_yaxis().set_visible(False)\n",
    "    # ax.set_title(f\"Observation (params {gt_contact[0]:0.2f} {gt_contact[1]:0.2f} {gt_contact[2]:0.2f})\")\n",
    "    ax.set_title(f\"Observed Depth\")\n",
    "    \n",
    "    \n",
    "    ax = fig.add_subplot(spec[0, 1])\n",
    "    ax.bar([\"knife\", \"fork\"], bars)\n",
    "    ax.set_ylim(0.0, 1.0)\n",
    "    return fig"
   ]
  },
  {
   "cell_type": "code",
   "execution_count": 11,
   "id": "d63c37b7-75db-457b-b774-73110ee69e24",
   "metadata": {},
   "outputs": [],
   "source": [
    "key = jax.random.PRNGKey(10000)"
   ]
  },
  {
   "cell_type": "code",
   "execution_count": 12,
   "id": "e9d64f15-f8fd-4870-bfd9-b2206987370c",
   "metadata": {},
   "outputs": [],
   "source": [
    "# CHEESEITZ_BOX_IDX = 1\n",
    "# FORK_IDX = 17 # XXX\n",
    "# SPOON_IDX = 17 # XXX"
   ]
  },
  {
   "cell_type": "code",
   "execution_count": 13,
   "id": "3fb2037b-24ed-4db6-bec6-fc6524b863fa",
   "metadata": {},
   "outputs": [],
   "source": [
    "# CHEESEITZ_BOX_CONTACT_PARAMS = [0.0, 0.2, 0.0]"
   ]
  },
  {
   "cell_type": "code",
   "execution_count": 14,
   "id": "f6a82e99-8b74-4f23-9c91-93d1eb9f8d4e",
   "metadata": {},
   "outputs": [],
   "source": [
    "#SHIFT_MIN = -0.1\n",
    "#SHIFT_SCALE = 0.5"
   ]
  },
  {
   "cell_type": "code",
   "execution_count": 15,
   "id": "51037ac1-bfab-4f67-8c70-d9a98c9c4e19",
   "metadata": {},
   "outputs": [],
   "source": [
    "FORK_IDX, KNIFE_IDX, CHEESEITZ_BOX_IDX, TABLE_IDX = 0, 1, 2, 3"
   ]
  },
  {
   "cell_type": "code",
   "execution_count": 16,
   "id": "de1ff76c-46cf-4117-a480-5457e26c5aee",
   "metadata": {},
   "outputs": [],
   "source": [
    "SHIFT_MIN = -0.3\n",
    "SHIFT_SCALE = 0.6\n",
    "CHEESEITZ_BOX_CONTACT_PARAMS = jnp.array([0.0, 0.2, 0.0])\n",
    "\n",
    "contact_param_grid = jax.vmap(\n",
    "    lambda shift: jnp.array([shift, 0, jnp.pi/2])\n",
    ")(jnp.linspace(SHIFT_MIN, SHIFT_MIN+SHIFT_SCALE, 2000))\n",
    "\n",
    "b.clear()\n",
    "b.show_trimesh(\"1\", b.RENDERER.meshes[FORK_IDX])\n",
    "b.show_trimesh(\"2\", b.RENDERER.meshes[KNIFE_IDX])\n"
   ]
  },
  {
   "cell_type": "code",
   "execution_count": 17,
   "id": "64366773-62b9-4bea-8819-031eb453acd3",
   "metadata": {},
   "outputs": [],
   "source": [
    "# key\n",
    "    # is_fork = jax.random.bernoulli(key)\n",
    "    # shift = SHIFT_MIN + SHIFT_SCALE * jax.random.uniform(key)\n",
    "\n",
    "\n",
    "def fork_spoon_generator(shift, is_fork):\n",
    "\n",
    "    #indices = jnp.array([TABLE_IDX, CHEESEITZ_BOX_IDX, FORK_IDX if is_fork else KNIFE_IDX])\n",
    "    indices = jax.lax.cond(is_fork,\n",
    "                           lambda: jnp.array([TABLE_IDX, CHEESEITZ_BOX_IDX, FORK_IDX]),\n",
    "                           lambda: jnp.array([TABLE_IDX, CHEESEITZ_BOX_IDX, KNIFE_IDX]))\n",
    "\n",
    "    box_dims = b.RENDERER.model_box_dims[indices]\n",
    "    root_poses = jnp.array([table_pose, table_pose, table_pose])\n",
    "    parents = jnp.array([-1, 0, 0])\n",
    "    contact_params = jnp.array([[0.0, 0.0, 0.0],\n",
    "                                [*CHEESEITZ_BOX_CONTACT_PARAMS],\n",
    "                                [shift, 0, jnp.pi/2]])\n",
    "    faces_parents = jnp.array([0, 2, 2])\n",
    "    faces_child = jnp.array([0, 3, 3])\n",
    "    poses = b.scene_graph.poses_from_scene_graph(\n",
    "        root_poses, box_dims, parents, contact_params, faces_parents, faces_child)\n",
    "    camera_pose = jnp.eye(4)\n",
    "    rendered = b.RENDERER.render(\n",
    "        jnp.linalg.inv(camera_pose) @ poses , indices\n",
    "    )[...,:3]\n",
    "    return rendered\n",
    "fork_spoon_generator_jit = jax.jit(fork_spoon_generator)"
   ]
  },
  {
   "cell_type": "code",
   "execution_count": 18,
   "id": "408510cb-3a6b-4c21-9f91-0f4991ff6908",
   "metadata": {},
   "outputs": [
    {
     "name": "stdout",
     "output_type": "stream",
     "text": [
      "-0.16766968 False\n",
      "False\n"
     ]
    },
    {
     "data": {
      "image/jpeg": "[encoded data removed]",
      "image/png": "[encoded data removed]",
      "text/plain": [
       "<PIL.Image.Image image mode=RGB size=200x200>"
      ]
     },
     "execution_count": 18,
     "metadata": {},
     "output_type": "execute_result"
    }
   ],
   "source": [
    "key = jax.random.split(key, 1)[0]\n",
    "is_fork = jax.random.bernoulli(key)\n",
    "key = jax.random.split(key, 1)[0]\n",
    "shift = SHIFT_MIN + SHIFT_SCALE * jax.random.uniform(key)\n",
    "print(shift, is_fork)\n",
    "observation = fork_spoon_generator_jit(0.13, is_fork)\n",
    "observation = observation[...,:3]\n",
    "print(is_fork)\n",
    "b.viz.scale_image(b.get_depth_image(observation[...,2]), 2)"
   ]
  },
  {
   "cell_type": "code",
   "execution_count": 19,
   "id": "e0ae8180-534c-4e06-9a3e-585e6b12aa3e",
   "metadata": {},
   "outputs": [
    {
     "data": {
      "image/png": "[encoded data removed]",
      "text/plain": [
       "<Figure size 640x480 with 2 Axes>"
      ]
     },
     "metadata": {},
     "output_type": "display_data"
    }
   ],
   "source": [
    "# pathlib.Path('knife_fork_results').mkdir(parents=True, exist_ok=True) \n",
    "experiment_iteration = 0\n",
    "# for experiment_iteration in tqdm(range(1)):\n",
    "# key = jax.random.split(key, 1)[0]\n",
    "# is_fork, observation = fork_spoon_generator_jit(key)\n",
    "\n",
    "weight, trace = importance_jit(key, genjax.choice_map({\n",
    "    \"parent_0\": -1,\n",
    "    \"parent_1\": 0,\n",
    "    \"parent_2\": 0,\n",
    "    \"id_0\": jnp.int32(3),\n",
    "    \"id_1\": jnp.int32(CHEESEITZ_BOX_IDX),\n",
    "    \"id_2\": jnp.int32(FORK_IDX),\n",
    "    \"camera_pose\": jnp.eye(4),\n",
    "    \"root_pose_0\": table_pose,\n",
    "    \"face_parent_1\": 2,\n",
    "    \"face_parent_2\": 2,\n",
    "    \"face_child_1\": 3,\n",
    "    \"face_child_2\": 3,\n",
    "    \"variance\": 0.2,\n",
    "    \"outlier_prob\": 0.00000001,\n",
    "    \"image\": observation[...,:3],\n",
    "    \"contact_params_1\": CHEESEITZ_BOX_CONTACT_PARAMS\n",
    "    # \"contact_params_1\": jnp.array([0.0, 0.0, 0.0])\n",
    "}), (\n",
    "    jnp.arange(3),\n",
    "    jnp.arange(4),\n",
    "    jnp.array([-jnp.ones(3)*100.0, jnp.ones(3)*100.0]),\n",
    "    jnp.array([jnp.array([-2.0, -2.1, -2*jnp.pi]), jnp.array([2.1, 2.1, 2*jnp.pi])]),\n",
    "    b.RENDERER.model_box_dims, 1.0, intrinsics.fx)\n",
    ")\n",
    "\n",
    "trace = update_jit(key, trace, genjax.choice_map({\"id_2\": KNIFE_IDX}), b.make_unknown_change_argdiffs(trace))[2]\n",
    "weights1 = enumerators[3](trace,key,contact_param_grid)\n",
    "best_trace1 = enumerators[0](trace, key, contact_param_grid[weights1.argmax()])\n",
    "\n",
    "trace = update_jit(key, trace, genjax.choice_map({\"id_2\": FORK_IDX}), b.make_unknown_change_argdiffs(trace))[2]\n",
    "weights2 = enumerators[3](trace,key,contact_param_grid)\n",
    "best_trace2 = enumerators[0](trace, key, contact_param_grid[weights2.argmax()])\n",
    "\n",
    "fig = make_orientation_posterior_viz(observation, is_fork, b.utils.normalize_log_scores(jnp.array([weights1.max(), weights2.max()])))\n",
    "fig.savefig(f'knife_fork_results/{experiment_iteration:05d}.png')\n"
   ]
  },
  {
   "cell_type": "code",
   "execution_count": 20,
   "id": "9503b7ab-bcb9-48b7-a8b3-b30183252ca0",
   "metadata": {},
   "outputs": [
    {
     "data": {
      "image/jpeg": "[encoded data removed]",
      "image/png": "[encoded data removed]",
      "text/plain": [
       "<PIL.Image.Image image mode=RGB size=410x200>"
      ]
     },
     "execution_count": 20,
     "metadata": {},
     "output_type": "execute_result"
    }
   ],
   "source": [
    "b.viz_trace_rendered_observed(best_trace1)"
   ]
  },
  {
   "cell_type": "code",
   "execution_count": 21,
   "id": "f373e2f2-54f8-4c45-9eb1-e41e6f87ec5b",
   "metadata": {},
   "outputs": [
    {
     "data": {
      "image/jpeg": "[encoded data removed]",
      "image/png": "[encoded data removed]",
      "text/plain": [
       "<PIL.Image.Image image mode=RGB size=410x200>"
      ]
     },
     "execution_count": 21,
     "metadata": {},
     "output_type": "execute_result"
    }
   ],
   "source": [
    "b.viz_trace_rendered_observed(best_trace2)"
   ]
  },
  {
   "cell_type": "code",
   "execution_count": null,
   "id": "caacbc8b-361f-4cfd-a4ac-c0370082a5e5",
   "metadata": {},
   "outputs": [],
   "source": []
  }
 ],
 "metadata": {
  "kernelspec": {
   "display_name": "Python 3 (ipykernel)",
   "language": "python",
   "name": "python3"
  },
  "language_info": {
   "codemirror_mode": {
    "name": "ipython",
    "version": 3
   },
   "file_extension": ".py",
   "mimetype": "text/x-python",
   "name": "python",
   "nbconvert_exporter": "python",
   "pygments_lexer": "ipython3",
   "version": "3.9.18"
  }
 },
 "nbformat": 4,
 "nbformat_minor": 5
}
