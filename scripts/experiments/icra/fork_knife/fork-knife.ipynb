{
 "cells": [
  {
   "cell_type": "code",
   "execution_count": null,
   "id": "1477c737-919d-4445-bc46-c139b9a3febf",
   "metadata": {},
   "outputs": [],
   "source": [
    "import bayes3d as b\n",
    "import os\n",
    "import jax.numpy as jnp\n",
    "import jax\n",
    "import bayes3d.genjax\n",
    "import numpy as np\n",
    "import genjax\n",
    "import matplotlib\n",
    "import pathlib\n",
    "from tqdm import tqdm\n",
    "import matplotlib.pyplot as plt\n",
    "import optax"
   ]
  },
  {
   "cell_type": "code",
   "execution_count": null,
   "id": "dcb009c9-5d15-477a-8c19-673085f12f9a",
   "metadata": {},
   "outputs": [],
   "source": [
    "b.setup_visualizer()"
   ]
  },
  {
   "cell_type": "code",
   "execution_count": null,
   "id": "41b66139-aa4a-4164-8393-217fc059c772",
   "metadata": {},
   "outputs": [],
   "source": [
    "intrinsics = b.Intrinsics(\n",
    "    height=100,\n",
    "    width=100,\n",
    "    fx=200.0, fy=200.0,\n",
    "    cx=50.0, cy=50.0,\n",
    "    near=0.0001, far=2.0\n",
    ")\n",
    "\n",
    "b.setup_renderer(intrinsics)"
   ]
  },
  {
   "cell_type": "code",
   "execution_count": null,
   "id": "e071fbf4-db21-4749-a4f5-fd23bfe7dd4b",
   "metadata": {},
   "outputs": [],
   "source": [
    "train_data_file = jnp.load('train_data.npz')\n",
    "test_data_file = jnp.load('test_data.npz')\n",
    "test_imgs = test_data_file['arr_0']\n",
    "test_labels = test_data_file['arr_1']\n",
    "test_imgs.shape"
   ]
  },
  {
   "cell_type": "code",
   "execution_count": null,
   "id": "25338752-5b39-4b34-ad9e-5963fc017693",
   "metadata": {},
   "outputs": [],
   "source": [
    "import trimesh\n",
    "box_width = 0.02\n",
    "hammer_width = 0.05\n",
    "hand_length = 0.15\n",
    "b1 = trimesh.creation.box(\n",
    "    np.array(jnp.array([hand_length, box_width,box_width])),\n",
    "    np.array(b.transform_from_pos(jnp.array([0.0, 0.0, 0.0])))\n",
    ")\n",
    "b2 = trimesh.creation.box(\n",
    "    np.array(jnp.array([hammer_width,hammer_width, hammer_width])),\n",
    "    np.array(b.transform_from_pos(jnp.array([hand_length/2 - hammer_width/2, 0.0, 0.0])))\n",
    ")\n",
    "b3 = trimesh.creation.box(\n",
    "    np.array(jnp.array([hammer_width,hammer_width, hammer_width])),\n",
    "    np.array(b.transform_from_pos(jnp.array([-hand_length/2 + hammer_width/2, 0.0, 0.0, ])))\n",
    ")\n",
    "m1 = trimesh.util.concatenate([b1,b2])\n",
    "m2 = trimesh.util.concatenate([b1,b2,b3])\n",
    "b.show_trimesh(\"1\", m2)\n",
    "\n",
    "b.utils.mesh.export_mesh(m1, \"m1.obj\")\n",
    "b.utils.mesh.export_mesh(m2, \"m2.obj\")\n",
    "table_mesh_path = b.utils.get_assets_dir() + '/sample_objs/cube.obj'\n",
    "\n",
    "box_mesh = b.utils.make_cuboid_mesh(jnp.array([0.1, 0.1, 0.2]))\n",
    "b.RENDERER.add_mesh(m1)\n",
    "b.RENDERER.add_mesh(m2)\n",
    "b.RENDERER.add_mesh(box_mesh)\n",
    "# b.RENDERER.add_mesh_from_file(box_mesh_path, scaling_factor=1e-3)\n",
    "b.RENDERER.add_mesh_from_file(table_mesh_path, scaling_factor=1e-6)\n",
    "\n",
    "# b.clear()\n",
    "# b.show_trimesh(\"1\", b.RENDERER.meshes[FORK_IDX])\n",
    "# b.show_trimesh(\"2\", b.RENDERER.meshes[KNIFE_IDX])\n",
    "\n",
    "# fork_mesh_path = b.utils.get_assets_dir() + '/ycb_video_models/models/030_fork/nontextured.ply'\n",
    "# knife_mesh_path = b.utils.get_assets_dir() + '/ycb_video_models/models/032_knife/nontextured.ply'\n",
    "# box_mesh_path = b.utils.get_assets_dir() + '/bop/ycbv/models/obj_000002.ply'\n",
    "\n",
    "# fork_scale = knife_scale = 1.0\n",
    "# box_scale = 1e-3\n",
    "# table_scale = 1e-6\n",
    "# mesh_paths = (fork_mesh_path, knife_mesh_path, box_mesh_path, table_mesh_path)\n",
    "# scales = (fork_scale, knife_scale, box_scale, table_scale)\n",
    "# for mesh_path, scale in zip(mesh_paths, scales):\n",
    "#     b.RENDERER.add_mesh_from_file(mesh_path, scaling_factor=scale)"
   ]
  },
  {
   "cell_type": "code",
   "execution_count": null,
   "id": "ce5fb017-2bda-46a0-b7f0-78c9c321feab",
   "metadata": {},
   "outputs": [],
   "source": [
    "table_pose = b.t3d.inverse_pose(\n",
    "    b.t3d.transform_from_pos_target_up(\n",
    "        jnp.array([0.0, 0.7, 0.5]),\n",
    "        jnp.array([0.0, 0.0, 0.0]),\n",
    "        jnp.array([0.0, 0.0, 1.0]),\n",
    "    )\n",
    ")\n",
    "importance_jit = jax.jit(b.model.importance)\n",
    "update_jit = jax.jit(b.model.update)\n",
    "enumerators = b.make_enumerator([\"contact_params_2\"])"
   ]
  },
  {
   "cell_type": "code",
   "execution_count": null,
   "id": "3e3ab68a-ba6a-4b6b-b097-2412c273cdbc",
   "metadata": {},
   "outputs": [],
   "source": [
    "# del importance_jit\n",
    "# del update_jit"
   ]
  },
  {
   "cell_type": "code",
   "execution_count": null,
   "id": "90616465-4fcf-4149-9189-1b8f2faa5417",
   "metadata": {},
   "outputs": [],
   "source": [
    "def make_orientation_posterior_viz(observation, is_fork, bars):\n",
    "    fig = plt.figure(constrained_layout=True)\n",
    "    fig.suptitle(f\"is_fork: {is_fork}\")\n",
    "    widths = [1, 1]\n",
    "    heights = [2]\n",
    "    spec = fig.add_gridspec(ncols=2, nrows=1, width_ratios=widths,\n",
    "                              height_ratios=heights)\n",
    "    \n",
    "    ax = fig.add_subplot(spec[0, 0])\n",
    "    ax.imshow(jnp.array(b.get_depth_image(observation[...,2])))\n",
    "    ax.get_xaxis().set_visible(False)\n",
    "    ax.get_yaxis().set_visible(False)\n",
    "    # ax.set_title(f\"Observation (params {gt_contact[0]:0.2f} {gt_contact[1]:0.2f} {gt_contact[2]:0.2f})\")\n",
    "    ax.set_title(f\"Observed Depth\")\n",
    "    \n",
    "    \n",
    "    ax = fig.add_subplot(spec[0, 1])\n",
    "    ax.bar([\"knife\", \"fork\"], bars)\n",
    "    ax.set_ylim(0.0, 1.0)\n",
    "    return fig"
   ]
  },
  {
   "cell_type": "code",
   "execution_count": null,
   "id": "1ec10035-405f-4aeb-b686-5ae48debee77",
   "metadata": {},
   "outputs": [],
   "source": []
  },
  {
   "cell_type": "code",
   "execution_count": null,
   "id": "d63c37b7-75db-457b-b774-73110ee69e24",
   "metadata": {},
   "outputs": [],
   "source": [
    "key = jax.random.PRNGKey(10000)"
   ]
  },
  {
   "cell_type": "code",
   "execution_count": null,
   "id": "de1ff76c-46cf-4117-a480-5457e26c5aee",
   "metadata": {},
   "outputs": [],
   "source": [
    "FORK_IDX, KNIFE_IDX, CHEESEITZ_BOX_IDX, TABLE_IDX = 0, 1, 2, 3\n",
    "SHIFT_MIN = -0.3\n",
    "SHIFT_SCALE = 0.6\n",
    "CHEESEITZ_BOX_CONTACT_PARAMS = jnp.array([0.0, 0.2, 0.0])\n",
    "\n",
    "contact_param_grid = jax.vmap(\n",
    "    lambda shift: jnp.array([shift, 0, jnp.pi/2])\n",
    ")(jnp.linspace(SHIFT_MIN, SHIFT_MIN+SHIFT_SCALE, 2000))"
   ]
  },
  {
   "cell_type": "code",
   "execution_count": null,
   "id": "f3fc8b49-ca34-4c82-849b-111c3ec0c5bb",
   "metadata": {},
   "outputs": [],
   "source": [
    "enumerators = b.make_enumerator([\"contact_params_2\"])\n",
    "def c2f_contact_update(trace_, key, contact_param_deltas):\n",
    "    contact_param_grid = contact_param_deltas + trace_[f\"contact_params_2\"]\n",
    "    scores = enumerators.score_vmap(trace_, key, contact_param_grid)\n",
    "    i = scores.argmax()\n",
    "    return enumerators.enum_f(\n",
    "        trace_, key,\n",
    "        contact_param_grid[i]\n",
    "    )\n",
    "c2f_contact_update_jit = jax.jit(c2f_contact_update)\n",
    "\n",
    "grid_params = [\n",
    "    (0.5, jnp.pi, (15,15,15)), (0.4, jnp.pi, (15,15,15)), (0.2, jnp.pi, (15,15,15)),\n",
    "    (0.1, jnp.pi/3, (15,15,15)), (0.02, jnp.pi, (9,9,51)), (0.01, jnp.pi/5, (15,15,15)), (0.01, 0.0, (31,31,1)),(0.05, 0.0, (31,31,1))\n",
    "]\n",
    "contact_param_gridding_schedule = [\n",
    "    b.utils.make_translation_grid_enumeration_3d(\n",
    "        -x, -x, -ang,\n",
    "        x, x, ang,\n",
    "        *nums\n",
    "    )\n",
    "    for (x,ang,nums) in grid_params\n",
    "]"
   ]
  },
  {
   "cell_type": "code",
   "execution_count": null,
   "id": "ced96e49-3199-44ca-994b-b288be166751",
   "metadata": {},
   "outputs": [],
   "source": [
    "# shift_sweep = jnp.linspace(SHIFT_MIN, SHIFT_MIN+SHIFT_SCALE, 15*15*15)\n",
    "# grid = jnp.vstack(\n",
    "#     [shift_sweep*jnp.cos(jnp.pi/12), -0.05 + shift_sweep*jnp.sin(jnp.pi/12), 10*jnp.pi/12 + (shift_sweep * 0.0)]\n",
    "# ).transpose()\n",
    "# grid.shape\n",
    "\n",
    "# contact_param_gridding_schedule = [grid]"
   ]
  },
  {
   "cell_type": "code",
   "execution_count": null,
   "id": "64366773-62b9-4bea-8819-031eb453acd3",
   "metadata": {},
   "outputs": [],
   "source": [
    "def fork_spoon_generator(shift, is_fork):\n",
    "\n",
    "    #indices = jnp.array([TABLE_IDX, CHEESEITZ_BOX_IDX, FORK_IDX if is_fork else KNIFE_IDX])\n",
    "    indices = jax.lax.cond(is_fork,\n",
    "                           lambda: jnp.array([TABLE_IDX, CHEESEITZ_BOX_IDX, FORK_IDX]),\n",
    "                           lambda: jnp.array([TABLE_IDX, CHEESEITZ_BOX_IDX, KNIFE_IDX]))\n",
    "\n",
    "    box_dims = b.RENDERER.model_box_dims[indices]\n",
    "    root_poses = jnp.array([table_pose, table_pose, table_pose])\n",
    "    parents = jnp.array([-1, 0, 0])\n",
    "    contact_params = jnp.array([[0.0, 0.0, 0.0],\n",
    "                                [*CHEESEITZ_BOX_CONTACT_PARAMS],\n",
    "                                [shift, 0, jnp.pi/2]])\n",
    "    faces_parents = jnp.array([0, 2, 2])\n",
    "    faces_child = jnp.array([0, 3, 3])\n",
    "    poses = b.scene_graph.poses_from_scene_graph(\n",
    "        root_poses, box_dims, parents, contact_params, faces_parents, faces_child)\n",
    "    camera_pose = jnp.eye(4)\n",
    "    final_poses = jnp.linalg.inv(camera_pose) @ poses\n",
    "    rendered = b.RENDERER.render(\n",
    "        final_poses , indices\n",
    "    )[...,:3]\n",
    "    return rendered, final_poses, indices\n",
    "fork_spoon_generator_jit = jax.jit(fork_spoon_generator)"
   ]
  },
  {
   "cell_type": "code",
   "execution_count": null,
   "id": "359d8514-8e1c-4dce-bf8c-ddea9351748d",
   "metadata": {},
   "outputs": [],
   "source": [
    "# del fork_spoon_generator_jit"
   ]
  },
  {
   "cell_type": "code",
   "execution_count": null,
   "id": "5beebeec-043e-4a93-bb36-a006f8d94b11",
   "metadata": {},
   "outputs": [],
   "source": [
    "data = []"
   ]
  },
  {
   "cell_type": "code",
   "execution_count": null,
   "id": "195cd5ac-5033-4508-819e-24e55a6418cf",
   "metadata": {},
   "outputs": [],
   "source": [
    "key = jax.random.split(key, 1)[0]\n",
    "is_fork = jax.random.bernoulli(key)\n",
    "key = jax.random.split(key, 1)[0]\n",
    "shift = SHIFT_MIN + SHIFT_SCALE * jax.random.uniform(key)\n",
    "print(shift, is_fork)\n",
    "shift = 0.15\n",
    "is_fork = False\n",
    "observation, final_poses, indices = fork_spoon_generator_jit(shift, is_fork)\n",
    "\n",
    "weight, trace = importance_jit(key, genjax.choice_map({\n",
    "    \"parent_0\": -1,\n",
    "    \"parent_1\": 0,\n",
    "    \"parent_2\": 0,\n",
    "    \"id_0\": jnp.int32(3),\n",
    "    \"id_1\": jnp.int32(CHEESEITZ_BOX_IDX),\n",
    "    \"id_2\": (jnp.int32(FORK_IDX) if is_fork else jnp.int32(KNIFE_IDX)),\n",
    "    \"camera_pose\": jnp.eye(4),\n",
    "    \"root_pose_0\": table_pose,\n",
    "    \"face_parent_1\": 2,\n",
    "    \"face_parent_2\": 2,\n",
    "    \"face_child_1\": 3,\n",
    "    \"face_child_2\": 3,\n",
    "    \"variance\": 0.001,\n",
    "    \"outlier_prob\": 0.001,\n",
    "    \"image\": observation[...,:3],\n",
    "    \"contact_params_1\": CHEESEITZ_BOX_CONTACT_PARAMS,\n",
    "    \"contact_params_2\": jnp.array([0.0, 0.0, 0.0])\n",
    "}), (\n",
    "    jnp.arange(3),\n",
    "    jnp.arange(4),\n",
    "    jnp.array([-jnp.ones(3)*100.0, jnp.ones(3)*100.0]),\n",
    "    jnp.array([jnp.array([-0.2, -0.2, -2*jnp.pi]), jnp.array([0.2, 0.2, 2*jnp.pi])]),\n",
    "    b.RENDERER.model_box_dims, 1.0, intrinsics.fx)\n",
    ")\n",
    "original_trace = trace\n",
    "\n",
    "print(trace.get_score())\n",
    "\n",
    "b.viz_trace_meshcat(trace)\n",
    "b.viz_trace_rendered_observed(trace)"
   ]
  },
  {
   "cell_type": "code",
   "execution_count": null,
   "id": "72f10084-2295-469c-b789-b5415a244a4e",
   "metadata": {},
   "outputs": [],
   "source": [
    "trace = update_jit(key, original_trace, genjax.choice_map({\"id_2\": KNIFE_IDX}), b.make_unknown_change_argdiffs(trace))[2]\n",
    "b.viz_trace_rendered_observed(trace)\n",
    "path = []\n",
    "path.append(trace)\n",
    "for c2f_iter in range(len(contact_param_gridding_schedule)):\n",
    "    trace = c2f_contact_update_jit(trace, key, contact_param_gridding_schedule[c2f_iter])\n",
    "    path.append(trace)\n",
    "best_trace1 = path[-1]\n",
    "\n",
    "trace = update_jit(key, original_trace, genjax.choice_map({\"id_2\": FORK_IDX}), b.make_unknown_change_argdiffs(trace))[2]\n",
    "b.viz_trace_rendered_observed(trace)\n",
    "path = []\n",
    "path.append(trace)\n",
    "for c2f_iter in range(len(contact_param_gridding_schedule)):\n",
    "    trace = c2f_contact_update_jit(trace, key, contact_param_gridding_schedule[c2f_iter])\n",
    "    path.append(trace)\n",
    "best_trace2 = path[-1]\n",
    "\n",
    "log_scores = jnp.array([best_trace1.get_score(), best_trace2.get_score()])\n",
    "print(b.utils.normalize_log_scores(log_scores))\n",
    "\n",
    "\n",
    "b.vstack_images([\n",
    "        b.viz_trace_rendered_observed(best_trace1),\n",
    "        b.viz_trace_rendered_observed(best_trace2),\n",
    "])"
   ]
  },
  {
   "cell_type": "code",
   "execution_count": null,
   "id": "ba09e71b-6228-4406-96e8-acdc4d928aa4",
   "metadata": {},
   "outputs": [],
   "source": [
    "data.append((final_poses, indices, b.utils.normalize_log_scores(log_scores)))\n",
    "print(len(data))"
   ]
  },
  {
   "cell_type": "code",
   "execution_count": null,
   "id": "be51e7ec-621e-4150-a03b-6639fd2073b5",
   "metadata": {},
   "outputs": [],
   "source": [
    "b.viz_trace_rendered_observed(original_trace)"
   ]
  },
  {
   "cell_type": "code",
   "execution_count": null,
   "id": "a17198a2-8db0-4076-9cd5-0f8df696c1db",
   "metadata": {},
   "outputs": [],
   "source": [
    "def get_depth_image_alternate(depth):\n",
    "    far = jnp.max(depth)\n",
    "    minval = jnp.min(depth[depth > jnp.min(depth)])\n",
    "    maxval = jnp.max(depth[depth < jnp.max(depth)])\n",
    "    depth = depth.at[depth >= far].set(jnp.nan)\n",
    "    viz_img = np.array(b.get_depth_image(\n",
    "       depth, min=minval,  max=maxval\n",
    "    ))\n",
    "    viz_img[viz_img.sum(-1) == 0,:] = 255.0\n",
    "    return viz_img\n",
    "\n",
    "\n"
   ]
  },
  {
   "cell_type": "code",
   "execution_count": null,
   "id": "ecb952b2-f585-4292-8d15-75674cd9b1b7",
   "metadata": {},
   "outputs": [],
   "source": [
    "scaled_up_intrinsics = b.scale_camera_parameters(intrinsics, 4)"
   ]
  },
  {
   "cell_type": "code",
   "execution_count": null,
   "id": "77e312c7-e4d4-463e-84fd-017ad81c3f58",
   "metadata": {},
   "outputs": [],
   "source": [
    "b.setup_renderer(scaled_up_intrinsics)"
   ]
  },
  {
   "cell_type": "code",
   "execution_count": null,
   "id": "c12eca0a-4661-4863-aee9-531872d80ed7",
   "metadata": {},
   "outputs": [],
   "source": [
    "b.RENDERER.add_mesh(m1)\n",
    "b.RENDERER.add_mesh(m2)\n",
    "b.RENDERER.add_mesh(box_mesh)\n",
    "# b.RENDERER.add_mesh_from_file(box_mesh_path, scaling_factor=1e-3)\n",
    "b.RENDERER.add_mesh_from_file(table_mesh_path, scaling_factor=1e-6)\n"
   ]
  },
  {
   "cell_type": "code",
   "execution_count": null,
   "id": "fd18bd19-cd5b-4337-b40d-52acc5932989",
   "metadata": {},
   "outputs": [],
   "source": []
  },
  {
   "cell_type": "code",
   "execution_count": null,
   "id": "01bb5658-b008-4d5c-b0a4-8fa04256c302",
   "metadata": {},
   "outputs": [],
   "source": [
    "for IDX in range(len(data)):\n",
    "    img = b.RENDERER.render(data[IDX][0], data[IDX][1])\n",
    "    viz_img = get_depth_image_alternate(img[:,:,2])\n",
    "    plt.figure()\n",
    "    plt.imshow(viz_img)\n",
    "    plt.xticks([])\n",
    "    plt.yticks([])\n",
    "    plt.tight_layout()\n",
    "    plt.savefig(f\"{IDX}_render.pdf\")\n",
    "    \n",
    "    \n",
    "    import matplotlib.pyplot as plt\n",
    "    plt.figure(figsize=(6, 6), dpi=80)\n",
    "    plt.bar([\"Dumbell\", \"Hammer\"], data[IDX][2], color=(0.8, 0.1, 0.1, 0.6))\n",
    "    plt.ylim(0.0, 1.05)\n",
    "    plt.yticks(fontsize=20)\n",
    "    plt.xticks(fontsize=20)\n",
    "    plt.ylabel(\"Probability\", fontsize=30)\n",
    "    plt.savefig(f\"{IDX}_inferred.pdf\")"
   ]
  },
  {
   "cell_type": "code",
   "execution_count": null,
   "id": "58c146d8-0156-4ec3-b1d4-6622d2678df7",
   "metadata": {},
   "outputs": [],
   "source": []
  },
  {
   "cell_type": "code",
   "execution_count": null,
   "id": "49d90b80-f07c-45e7-b7dc-4e1643484ef8",
   "metadata": {},
   "outputs": [],
   "source": []
  },
  {
   "cell_type": "code",
   "execution_count": null,
   "id": "7a404116-7f53-4536-8a27-0efc887d591f",
   "metadata": {},
   "outputs": [],
   "source": [
    "IDX = 44\n",
    "cross_entropies = []\n",
    "for IDX in tqdm(range(2000)):\n",
    "    print(IDX)\n",
    "    key = jax.random.split(key, 1)[0]\n",
    "    is_fork = jax.random.bernoulli(key)\n",
    "    key = jax.random.split(key, 1)[0]\n",
    "    shift = SHIFT_MIN + SHIFT_SCALE * jax.random.uniform(key)\n",
    "    print(shift, is_fork)\n",
    "    observation = fork_spoon_generator_jit(shift, is_fork)\n",
    "    \n",
    "    weight, trace = importance_jit(key, genjax.choice_map({\n",
    "        \"parent_0\": -1,\n",
    "        \"parent_1\": 0,\n",
    "        \"parent_2\": 0,\n",
    "        \"id_0\": jnp.int32(3),\n",
    "        \"id_1\": jnp.int32(CHEESEITZ_BOX_IDX),\n",
    "        \"id_2\": (jnp.int32(FORK_IDX) if is_fork else jnp.int32(KNIFE_IDX)),\n",
    "        \"camera_pose\": jnp.eye(4),\n",
    "        \"root_pose_0\": table_pose,\n",
    "        \"face_parent_1\": 2,\n",
    "        \"face_parent_2\": 2,\n",
    "        \"face_child_1\": 3,\n",
    "        \"face_child_2\": 3,\n",
    "        \"variance\": 0.00005,\n",
    "        \"outlier_prob\": 0.01,\n",
    "        \"image\": b.unproject_depth(test_imgs[IDX,...,-1], intrinsics),\n",
    "        \"contact_params_1\": CHEESEITZ_BOX_CONTACT_PARAMS,\n",
    "        # \"contact_params_2\": jnp.array([0.0, 0.0, 0.0])\n",
    "    }), (\n",
    "        jnp.arange(3),\n",
    "        jnp.arange(4),\n",
    "        jnp.array([-jnp.ones(3)*100.0, jnp.ones(3)*100.0]),\n",
    "        jnp.array([jnp.array([-0.2, -0.2, -2*jnp.pi]), jnp.array([0.2, 0.2, 2*jnp.pi])]),\n",
    "        b.RENDERER.model_box_dims, 1.0, intrinsics.fx)\n",
    "    )\n",
    "    original_trace = trace\n",
    "    print(trace.get_score())\n",
    "    \n",
    "    trace = update_jit(key, original_trace, genjax.choice_map({\"id_2\": KNIFE_IDX}), b.make_unknown_change_argdiffs(trace))[2]\n",
    "    b.viz_trace_rendered_observed(trace)\n",
    "    path = []\n",
    "    path.append(trace)\n",
    "    for c2f_iter in range(len(contact_param_gridding_schedule)):\n",
    "        trace = c2f_contact_update_jit(trace, key, contact_param_gridding_schedule[c2f_iter])\n",
    "        path.append(trace)\n",
    "    print(trace[\"contact_params_2\"])\n",
    "    best_trace1 = path[-1]\n",
    "    \n",
    "    trace = update_jit(key, original_trace, genjax.choice_map({\"id_2\": FORK_IDX}), b.make_unknown_change_argdiffs(trace))[2]\n",
    "    b.viz_trace_rendered_observed(trace)\n",
    "    path = []\n",
    "    path.append(trace)\n",
    "    for c2f_iter in range(len(contact_param_gridding_schedule)):\n",
    "        trace = c2f_contact_update_jit(trace, key, contact_param_gridding_schedule[c2f_iter])\n",
    "        path.append(trace)\n",
    "    print(trace[\"contact_params_2\"])\n",
    "    best_trace2 = path[-1]\n",
    "    \n",
    "    log_scores = jnp.array([best_trace1.get_score(), best_trace2.get_score()])\n",
    "    cross_entropies.append(optax.softmax_cross_entropy(log_scores, test_labels[IDX]))\n",
    "    print(b.utils.normalize_log_scores(log_scores))\n",
    "    print(test_labels[IDX])\n",
    "    print(\"cross entropy: \", cross_entropies[-1])\n",
    "    print(\"cross entropy mean: \", jnp.mean(jnp.array(cross_entropies)))\n",
    "        # b.viz_trace_meshcat(trace)\n",
    "        # b.viz_trace_rendered_observed(trace)\n",
    "        \n",
    "        # b.vstack_images([\n",
    "        #         b.viz_trace_rendered_observed(best_trace1),\n",
    "        #         b.viz_trace_rendered_observed(best_trace2),\n",
    "        # ])"
   ]
  },
  {
   "cell_type": "code",
   "execution_count": null,
   "id": "8765f718-b282-4392-ade5-a5bc8d916bab",
   "metadata": {},
   "outputs": [],
   "source": [
    "b.get_depth_image(test_imgs[IDX,...,-1])"
   ]
  },
  {
   "cell_type": "code",
   "execution_count": null,
   "id": "3a4d9c31-94c1-41d8-a1fe-60f8a12b221e",
   "metadata": {},
   "outputs": [],
   "source": [
    "b.vstack_images([\n",
    "        b.viz_trace_rendered_observed(best_trace1),\n",
    "        b.viz_trace_rendered_observed(best_trace2),\n",
    "])"
   ]
  },
  {
   "cell_type": "code",
   "execution_count": null,
   "id": "a9fbba45-531d-46c9-b3d6-52b1573e1701",
   "metadata": {},
   "outputs": [],
   "source": [
    "test_labels[IDX]"
   ]
  },
  {
   "cell_type": "code",
   "execution_count": null,
   "id": "ebb77e6d-8baa-4ae2-a368-7c3ce9f91834",
   "metadata": {},
   "outputs": [],
   "source": [
    "print(jnp.array([best_trace1.get_score(), best_trace2.get_score()]))\n",
    "b.vstack_images([\n",
    "        b.viz_trace_rendered_observed(best_trace1),\n",
    "        b.viz_trace_rendered_observed(best_trace2),\n",
    "])"
   ]
  },
  {
   "cell_type": "code",
   "execution_count": null,
   "id": "486fc6e0-a6aa-4a6a-be12-d5ddab5a1baa",
   "metadata": {},
   "outputs": [],
   "source": [
    "fig = make_orientation_posterior_viz(trace[\"image\"], is_fork, b.utils.normalize_log_scores(jnp.array([best_trace1.get_score(), best_trace2.get_score()])))"
   ]
  },
  {
   "cell_type": "code",
   "execution_count": null,
   "id": "10972f61-8ae4-4ae4-aa37-88388c129c66",
   "metadata": {},
   "outputs": [],
   "source": [
    "is_fork"
   ]
  },
  {
   "cell_type": "code",
   "execution_count": null,
   "id": "2950f61d-4d71-4dea-8ddc-a85ff63dcd8f",
   "metadata": {},
   "outputs": [],
   "source": [
    "b.viz_trace_meshcat(path[2])"
   ]
  },
  {
   "cell_type": "code",
   "execution_count": null,
   "id": "e87ea8db-2449-4ef4-a5ed-41f91983d1fa",
   "metadata": {},
   "outputs": [],
   "source": [
    "idx = jnp.abs(contact_param_gridding_schedule[0] - best_trace1[\"contact_params_2\"]).sum(-1).argmin()\n",
    "print(best_trace1[\"contact_params_2\"], contact_param_gridding_schedule[0][idx])"
   ]
  },
  {
   "cell_type": "code",
   "execution_count": null,
   "id": "d712ba32-2058-41d8-a15b-c376239b2815",
   "metadata": {},
   "outputs": [],
   "source": [
    "    trace = c2f_contact_update_jit(trace, key, contact_param_gridding_schedule[c2f_iter])\n"
   ]
  },
  {
   "cell_type": "code",
   "execution_count": null,
   "id": "ecfd23b1-f4c9-409a-8d3d-815d62ec19d4",
   "metadata": {},
   "outputs": [],
   "source": [
    "weights1 = enumerators.score_vmap(trace,key,contact_param_grid)\n",
    "best_trace1 = enumerators.enum_f(trace, key, contact_param_grid[weights1.argmax()])\n",
    "b.viz_trace_meshcat(best_trace1)"
   ]
  },
  {
   "cell_type": "code",
   "execution_count": null,
   "id": "2b7b3166-6f01-4701-9f3a-87ae4a9b10a0",
   "metadata": {},
   "outputs": [],
   "source": [
    "[t[\"contact_params_2\"] for t in path]"
   ]
  },
  {
   "cell_type": "code",
   "execution_count": null,
   "id": "f35113fd-f18d-4386-a81b-ef46e4887f88",
   "metadata": {},
   "outputs": [],
   "source": []
  },
  {
   "cell_type": "code",
   "execution_count": null,
   "id": "3a1909ac-51ff-4e2c-982c-0e98a028248d",
   "metadata": {},
   "outputs": [],
   "source": [
    "b.viz_trace_rendered_observed(trace)"
   ]
  },
  {
   "cell_type": "code",
   "execution_count": null,
   "id": "e0ae8180-534c-4e06-9a3e-585e6b12aa3e",
   "metadata": {},
   "outputs": [],
   "source": [
    "# pathlib.Path('knife_fork_results').mkdir(parents=True, exist_ok=True) \n",
    "experiment_iteration = 0\n",
    "# for experiment_iteration in tqdm(range(10)):\n",
    "# key = jax.random.split(key, 1)[0]\n",
    "# is_fork = jax.random.bernoulli(key)\n",
    "# key = jax.random.split(key, 1)[0]\n",
    "# shift = SHIFT_MIN + SHIFT_SCALE * jax.random.uniform(key)\n",
    "# print(shift, is_fork)\n",
    "# observation = fork_spoon_generator_jit(0.12, is_fork)\n",
    "# observation = observation[...,:3]\n",
    "\n",
    "\n",
    "weights1 = enumerators.score_vmap(trace,key,contact_param_grid)\n",
    "best_trace1 = enumerators.enum_f(trace, key, contact_param_grid[weights1.argmax()])\n",
    "\n",
    "trace = update_jit(key, trace, genjax.choice_map({\"id_2\": FORK_IDX}), b.make_unknown_change_argdiffs(trace))[2]\n",
    "weights2 = enumerators.score_vmap(trace,key,contact_param_grid)\n",
    "best_trace2 = enumerators.enum_f(trace, key, contact_param_grid[weights2.argmax()])\n",
    "\n",
    "fig = make_orientation_posterior_viz(observation, is_fork, b.utils.normalize_log_scores(jnp.array([weights1.max(), weights2.max()])))\n",
    "# fig.savefig(f'knife_fork_results/{experiment_iteration:05d}.png')\n"
   ]
  },
  {
   "cell_type": "code",
   "execution_count": null,
   "id": "6659363d-ae53-4343-aeed-f11446540f07",
   "metadata": {},
   "outputs": [],
   "source": [
    "fig = make_orientation_posterior_viz(observation, is_fork, b.utils.normalize_log_scores(jnp.array([weights1.max(), weights2.max()])))\n",
    "fig.savefig(f'knife_fork_results/{experiment_iteration:05d}.png')\n"
   ]
  },
  {
   "cell_type": "code",
   "execution_count": null,
   "id": "baab9921-0c97-47bd-9900-ac590a153537",
   "metadata": {},
   "outputs": [],
   "source": [
    "def make_orientation_posterior_viz(observation, is_fork, bars):\n",
    "    f = plt.figure(figsize=(8,3))\n",
    "    ax = f.add_subplot(121)\n",
    "    ax2 = f.add_subplot(122)\n",
    "    x = np.linspace(0,4,1000)\n",
    "    \n",
    "    ax.imshow(jnp.array(b.get_depth_image(observation[...,2])))\n",
    "    ax.get_xaxis().set_visible(False)\n",
    "    ax.get_yaxis().set_visible(False)\n",
    "    # ax.set_title(f\"Observation (params {gt_contact[0]:0.2f} {gt_contact[1]:0.2f} {gt_contact[2]:0.2f})\")\n",
    "    # ax.set_title(f\"Observed Depth\")\n",
    "    \n",
    "    \n",
    "    ax2.bar([\"knife\", \"fork\"], bars)\n",
    "    ax2.set_ylim(0.0, 1.0)\n",
    "    ax2.set_xticks([0,1],labels=[\"knife\", \"fork\"], fontsize=14)\n",
    "    return f\n",
    "f = make_orientation_posterior_viz(observation, is_fork, b.utils.normalize_log_scores(jnp.array([weights1.max(), weights2.max()])))\n"
   ]
  },
  {
   "cell_type": "code",
   "execution_count": null,
   "id": "9503b7ab-bcb9-48b7-a8b3-b30183252ca0",
   "metadata": {},
   "outputs": [],
   "source": [
    "b.viz_trace_rendered_observed(best_trace1)"
   ]
  },
  {
   "cell_type": "code",
   "execution_count": null,
   "id": "f373e2f2-54f8-4c45-9eb1-e41e6f87ec5b",
   "metadata": {},
   "outputs": [],
   "source": [
    "b.viz_trace_rendered_observed(best_trace2)"
   ]
  },
  {
   "cell_type": "code",
   "execution_count": null,
   "id": "caacbc8b-361f-4cfd-a4ac-c0370082a5e5",
   "metadata": {},
   "outputs": [],
   "source": []
  }
 ],
 "metadata": {
  "kernelspec": {
   "display_name": "Python 3 (ipykernel)",
   "language": "python",
   "name": "python3"
  },
  "language_info": {
   "codemirror_mode": {
    "name": "ipython",
    "version": 3
   },
   "file_extension": ".py",
   "mimetype": "text/x-python",
   "name": "python",
   "nbconvert_exporter": "python",
   "pygments_lexer": "ipython3",
   "version": "3.9.18"
  }
 },
 "nbformat": 4,
 "nbformat_minor": 5
}
