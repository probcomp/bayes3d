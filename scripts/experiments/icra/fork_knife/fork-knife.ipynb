{
 "cells": [
  {
   "cell_type": "markdown",
   "id": "e6d4f55d-c165-4694-b87f-73ae70bb3c10",
   "metadata": {},
   "source": [
    "# "
   ]
  },
  {
   "cell_type": "code",
   "execution_count": 1,
   "id": "1477c737-919d-4445-bc46-c139b9a3febf",
   "metadata": {},
   "outputs": [],
   "source": [
    "import bayes3d as b\n",
    "import os\n",
    "import jax.numpy as jnp\n",
    "import jax\n",
    "import bayes3d.genjax\n",
    "import numpy as np\n",
    "import genjax\n",
    "import matplotlib\n",
    "import pathlib\n",
    "from tqdm import tqdm\n",
    "import matplotlib.pyplot as plt\n",
    "import optax"
   ]
  },
  {
   "cell_type": "code",
   "execution_count": 2,
   "id": "dcb009c9-5d15-477a-8c19-673085f12f9a",
   "metadata": {},
   "outputs": [
    {
     "name": "stdout",
     "output_type": "stream",
     "text": [
      "You can open the visualizer by visiting the following URL:\n",
      "http://127.0.0.1:7006/static/\n"
     ]
    }
   ],
   "source": [
    "b.setup_visualizer()"
   ]
  },
  {
   "cell_type": "code",
   "execution_count": 3,
   "id": "41b66139-aa4a-4164-8393-217fc059c772",
   "metadata": {},
   "outputs": [
    {
     "name": "stderr",
     "output_type": "stream",
     "text": [
      "[E rasterize_gl.cpp:121] OpenGL version reported as 4.6\n"
     ]
    },
    {
     "name": "stdout",
     "output_type": "stream",
     "text": [
      "Increasing frame buffer size to (width, height, depth) = (128, 128, 1024)\n"
     ]
    }
   ],
   "source": [
    "intrinsics = b.Intrinsics(\n",
    "    height=100,\n",
    "    width=100,\n",
    "    fx=200.0, fy=200.0,\n",
    "    cx=50.0, cy=50.0,\n",
    "    near=0.0001, far=2.0\n",
    ")\n",
    "\n",
    "b.setup_renderer(intrinsics)"
   ]
  },
  {
   "cell_type": "code",
   "execution_count": 4,
   "id": "25338752-5b39-4b34-ad9e-5963fc017693",
   "metadata": {},
   "outputs": [],
   "source": [
    "import trimesh\n",
    "box_width = 0.02\n",
    "hammer_width = 0.05\n",
    "hand_length = 0.15\n",
    "b1 = trimesh.creation.box(\n",
    "    np.array(jnp.array([hand_length, box_width,box_width])),\n",
    "    np.array(b.transform_from_pos(jnp.array([0.0, 0.0, 0.0])))\n",
    ")\n",
    "b2 = trimesh.creation.box(\n",
    "    np.array(jnp.array([hammer_width,hammer_width, hammer_width])),\n",
    "    np.array(b.transform_from_pos(jnp.array([hand_length/2 - hammer_width/2, 0.0, 0.0])))\n",
    ")\n",
    "b3 = trimesh.creation.box(\n",
    "    np.array(jnp.array([hammer_width,hammer_width, hammer_width])),\n",
    "    np.array(b.transform_from_pos(jnp.array([-hand_length/2 + hammer_width/2, 0.0, 0.0, ])))\n",
    ")\n",
    "m1 = trimesh.util.concatenate([b1,b2])\n",
    "m2 = trimesh.util.concatenate([b1,b2,b3])\n",
    "b.show_trimesh(\"1\", m2)\n",
    "\n",
    "b.utils.mesh.export_mesh(m1, \"m1.obj\")\n",
    "b.utils.mesh.export_mesh(m2, \"m2.obj\")\n",
    "table_mesh_path = b.utils.get_assets_dir() + '/sample_objs/cube.obj'\n",
    "\n",
    "box_mesh = b.utils.make_cuboid_mesh(jnp.array([0.1, 0.1, 0.3]))\n",
    "b.RENDERER.add_mesh(m1)\n",
    "b.RENDERER.add_mesh(m2)\n",
    "b.RENDERER.add_mesh(box_mesh)\n",
    "b.RENDERER.add_mesh_from_file(table_mesh_path, scaling_factor=1e-6)"
   ]
  },
  {
   "cell_type": "code",
   "execution_count": 5,
   "id": "ce5fb017-2bda-46a0-b7f0-78c9c321feab",
   "metadata": {},
   "outputs": [],
   "source": [
    "table_pose = b.t3d.inverse_pose(\n",
    "    b.t3d.transform_from_pos_target_up(\n",
    "        jnp.array([0.0, 0.7, 0.5]),\n",
    "        jnp.array([0.0, 0.0, 0.0]),\n",
    "        jnp.array([0.0, 0.0, 1.0]),\n",
    "    )\n",
    ")\n",
    "importance_jit = jax.jit(b.model.importance)\n",
    "update_jit = jax.jit(b.model.update)\n",
    "enumerators = b.make_enumerator([\"contact_params_2\"])"
   ]
  },
  {
   "cell_type": "code",
   "execution_count": 6,
   "id": "d63c37b7-75db-457b-b774-73110ee69e24",
   "metadata": {},
   "outputs": [],
   "source": [
    "key = jax.random.PRNGKey(10000)"
   ]
  },
  {
   "cell_type": "code",
   "execution_count": 7,
   "id": "de1ff76c-46cf-4117-a480-5457e26c5aee",
   "metadata": {},
   "outputs": [],
   "source": [
    "FORK_IDX, KNIFE_IDX, CHEESEITZ_BOX_IDX, TABLE_IDX = 0, 1, 2, 3\n",
    "SHIFT_MIN = -0.2\n",
    "SHIFT_SCALE = 0.4\n",
    "CHEESEITZ_BOX_CONTACT_PARAMS = jnp.array([0.0, 0.1, 0.0])\n",
    "\n",
    "contact_param_grid = jax.vmap(\n",
    "    lambda shift: jnp.array([shift, 0, jnp.pi/2])\n",
    ")(jnp.linspace(SHIFT_MIN, SHIFT_MIN+SHIFT_SCALE, 2000))\n",
    "\n"
   ]
  },
  {
   "cell_type": "code",
   "execution_count": 8,
   "id": "5d0a3fda-b1cd-459a-a58e-c649b35dfebf",
   "metadata": {},
   "outputs": [
    {
     "data": {
      "text/plain": [
       "0.016"
      ]
     },
     "execution_count": 8,
     "metadata": {},
     "output_type": "execute_result"
    }
   ],
   "source": [
    "0.4/25"
   ]
  },
  {
   "cell_type": "code",
   "execution_count": 9,
   "id": "f3fc8b49-ca34-4c82-849b-111c3ec0c5bb",
   "metadata": {},
   "outputs": [],
   "source": [
    "def c2f_contact_update(trace_, key, contact_param_deltas):\n",
    "    contact_param_grid = contact_param_deltas + trace_[f\"contact_params_2\"]\n",
    "    scores = enumerators[3](trace_, key, contact_param_grid)\n",
    "    i = scores.argmax()\n",
    "    return enumerators[0](\n",
    "        trace_, key,\n",
    "        contact_param_grid[i]\n",
    "    )\n",
    "c2f_contact_update_jit = jax.jit(c2f_contact_update)\n",
    "\n",
    "grid_params = [\n",
    "    (0.2, jnp.pi, (25,25,25)), (0.016, jnp.pi/25, (21, 21,21)), #(0.0, jnp.pi/32, (21,21,21)),\n",
    "    #(0.05, jnp.pi/3, (20,20,20)), (0.02, jnp.pi, (10,10,51)), (0.01, jnp.pi/5, (15,15,15)), (0.01, 0.0, (31,31,1)),(0.05, 0.0, (31,31,1))\n",
    "]\n",
    "contact_param_gridding_schedule = [\n",
    "    b.utils.make_translation_grid_enumeration_3d(\n",
    "        -x, -x, -ang,\n",
    "        x, x, ang,\n",
    "        *nums\n",
    "    )\n",
    "    for (x,ang,nums) in grid_params\n",
    "]\n",
    "\n"
   ]
  },
  {
   "cell_type": "code",
   "execution_count": 10,
   "id": "64366773-62b9-4bea-8819-031eb453acd3",
   "metadata": {},
   "outputs": [],
   "source": [
    "def fork_spoon_generator(x, y, theta, is_fork):\n",
    "\n",
    "    #indices = jnp.array([TABLE_IDX, CHEESEITZ_BOX_IDX, FORK_IDX if is_fork else KNIFE_IDX])\n",
    "    indices = jax.lax.cond(is_fork,\n",
    "                           lambda: jnp.array([TABLE_IDX, CHEESEITZ_BOX_IDX, FORK_IDX]),\n",
    "                           lambda: jnp.array([TABLE_IDX, CHEESEITZ_BOX_IDX, KNIFE_IDX]))\n",
    "\n",
    "    box_dims = b.RENDERER.model_box_dims[indices]\n",
    "    root_poses = jnp.array([table_pose, table_pose, table_pose])\n",
    "    parents = jnp.array([-1, 0, 0])\n",
    "    contact_params = jnp.array([[0.0, 0.0, 0.0],\n",
    "                                [*CHEESEITZ_BOX_CONTACT_PARAMS],\n",
    "                                [x, y, theta]])\n",
    "    faces_parents = jnp.array([0, 2, 2])\n",
    "    faces_child = jnp.array([0, 3, 3])\n",
    "    poses = b.scene_graph.poses_from_scene_graph(\n",
    "        root_poses, box_dims, parents, contact_params, faces_parents, faces_child)\n",
    "    camera_pose = jnp.eye(4)\n",
    "    rendered = b.RENDERER.render(\n",
    "        jnp.linalg.inv(camera_pose) @ poses , indices\n",
    "    )[...,:3]\n",
    "    return rendered\n",
    "fork_spoon_generator_jit = jax.jit(fork_spoon_generator)"
   ]
  },
  {
   "cell_type": "code",
   "execution_count": 11,
   "id": "b7561d75-e927-455a-a252-695d79110ad2",
   "metadata": {},
   "outputs": [],
   "source": [
    "#train_data_file = jnp.load('train_data.npz')\n",
    "test_data_file = jnp.load('test_data.npz')\n",
    "test_imgs = test_data_file['arr_0'][:200]\n",
    "test_labels = test_data_file['arr_1'[:200]]\n",
    "N_TEST = test_imgs.shape[0]"
   ]
  },
  {
   "cell_type": "code",
   "execution_count": 12,
   "id": "db48b270-b111-4ae1-827a-258b15773f33",
   "metadata": {},
   "outputs": [],
   "source": [
    "#train_data_file = jnp.load('train_data.npz')\n",
    "test_data_file_noisy = jnp.load('test_data_noisy.npz')\n",
    "test_imgs_noisy = test_data_file_noisy['arr_0'][:200]\n",
    "test_labels_noisy = test_data_file_noisy['arr_1'][:200]\n",
    "N_TEST_NOISY = test_imgs_noisy.shape[0]"
   ]
  },
  {
   "cell_type": "code",
   "execution_count": 13,
   "id": "cd58b033-aceb-4a37-9ab2-896f9352ac0f",
   "metadata": {},
   "outputs": [],
   "source": [
    "def make_init_trace(key, img):\n",
    "    weight, trace = importance_jit(key, genjax.choice_map({\n",
    "        \"parent_0\": -1,\n",
    "        \"parent_1\": 0,\n",
    "        \"parent_2\": 0,\n",
    "        \"id_0\": jnp.int32(3),\n",
    "        \"id_1\": jnp.int32(CHEESEITZ_BOX_IDX),\n",
    "        \"id_2\": jnp.int32(FORK_IDX),# if is_fork else jnp.int32(KNIFE_IDX)),\n",
    "        \"camera_pose\": jnp.eye(4),\n",
    "        \"root_pose_0\": table_pose,\n",
    "        \"face_parent_1\": 2,\n",
    "        \"face_parent_2\": 2,\n",
    "        \"face_child_1\": 3,\n",
    "        \"face_child_2\": 3,\n",
    "        \"variance\": 0.00001, #0.00001, \n",
    "        \"outlier_prob\": 0.5, #0.1,\n",
    "        \"image\": b.unproject_depth(img, intrinsics),\n",
    "        \"contact_params_1\": CHEESEITZ_BOX_CONTACT_PARAMS,\n",
    "        \"contact_params_2\": jnp.array([0.0, 0.0, 0.0])\n",
    "    }), (\n",
    "        jnp.arange(3),\n",
    "        jnp.arange(4),\n",
    "        jnp.array([-jnp.ones(3)*100.0, jnp.ones(3)*100.0]),\n",
    "        jnp.array([jnp.array([-0.2, -0.2, -2*jnp.pi]), jnp.array([0.2, 0.2, 2*jnp.pi])]),\n",
    "        b.RENDERER.model_box_dims, 1.0, intrinsics.fx)\n",
    "    )\n",
    "    return trace"
   ]
  },
  {
   "cell_type": "code",
   "execution_count": 14,
   "id": "3032e425-3903-4f85-adc9-b798a4164a40",
   "metadata": {},
   "outputs": [],
   "source": [
    "def do_c2f(key, trace):\n",
    "    for c2f_iter in range(len(contact_param_gridding_schedule)):\n",
    "        trace = c2f_contact_update_jit(trace, key, contact_param_gridding_schedule[c2f_iter])\n",
    "    return trace"
   ]
  },
  {
   "cell_type": "code",
   "execution_count": 15,
   "id": "c608aea5-4dd8-409f-8dda-74b1f70ef3df",
   "metadata": {},
   "outputs": [],
   "source": [
    "def do_inference(key, img):\n",
    "    original_trace = make_init_trace(key, img)\n",
    "    trace1 = update_jit(key, original_trace, genjax.choice_map({\"id_2\": KNIFE_IDX}), b.make_unknown_change_argdiffs(original_trace))[2]\n",
    "    best_trace1 = do_c2f(key, trace1)\n",
    "    trace2 = update_jit(key, original_trace, genjax.choice_map({\"id_2\": FORK_IDX}), b.make_unknown_change_argdiffs(original_trace))[2]\n",
    "    best_trace2 = do_c2f(key, trace2)\n",
    "    z = jnp.minimum(best_trace1.get_score(), best_trace2.get_score())\n",
    "    log_scores = jnp.array([best_trace1.get_score(), best_trace2.get_score()]) - z\n",
    "    return log_scores, best_trace1, best_trace2"
   ]
  },
  {
   "cell_type": "code",
   "execution_count": 16,
   "id": "7a404116-7f53-4536-8a27-0efc887d591f",
   "metadata": {},
   "outputs": [
    {
     "name": "stderr",
     "output_type": "stream",
     "text": [
      "200it [06:23,  1.92s/it]\n"
     ]
    }
   ],
   "source": [
    "#cross_entropies = jnp.zeros(N_TEST)\n",
    "log_scoress = jnp.zeros((N_TEST, 2))\n",
    "log_scoress_noisy = jnp.zeros((N_TEST, 2))\n",
    "for (idx, key_) in tqdm(enumerate(jax.random.split(key, N_TEST))):\n",
    "    log_scoress = log_scoress.at[idx, :].set(do_inference(key_, test_imgs[idx,...,-1])[0])\n",
    "    log_scoress_noisy = log_scoress_noisy.at[idx, :].set(do_inference(key_, test_imgs_noisy[idx,...,-1])[0])\n",
    "    #cross_entropies = cross_entropies.at[idx].set(optax.softmax_cross_entropy(log_scores, true_scores))"
   ]
  },
  {
   "cell_type": "code",
   "execution_count": 17,
   "id": "68cb3f53-369e-4be9-931a-27e4776d42c6",
   "metadata": {},
   "outputs": [
    {
     "ename": "TypeError",
     "evalue": "mul got incompatible shapes for broadcasting: (2000, 2), (200, 2).",
     "output_type": "error",
     "traceback": [
      "\u001b[0;31m---------------------------------------------------------------------------\u001b[0m",
      "\u001b[0;31mTypeError\u001b[0m                                 Traceback (most recent call last)",
      "Cell \u001b[0;32mIn[17], line 1\u001b[0m\n\u001b[0;32m----> 1\u001b[0m losses \u001b[38;5;241m=\u001b[39m \u001b[43moptax\u001b[49m\u001b[38;5;241;43m.\u001b[39;49m\u001b[43msoftmax_cross_entropy\u001b[49m\u001b[43m(\u001b[49m\u001b[43mlogits\u001b[49m\u001b[38;5;241;43m=\u001b[39;49m\u001b[43mlog_scoress\u001b[49m\u001b[43m,\u001b[49m\u001b[43m \u001b[49m\u001b[43mlabels\u001b[49m\u001b[38;5;241;43m=\u001b[39;49m\u001b[43mtest_labels\u001b[49m\u001b[43m)\u001b[49m\n\u001b[1;32m      2\u001b[0m \u001b[38;5;28mprint\u001b[39m(losses\u001b[38;5;241m.\u001b[39msum())\n\u001b[1;32m      3\u001b[0m losses_noisy \u001b[38;5;241m=\u001b[39m optax\u001b[38;5;241m.\u001b[39msoftmax_cross_entropy(logits\u001b[38;5;241m=\u001b[39mlog_scoress_noisy, labels\u001b[38;5;241m=\u001b[39mtest_labels_noisy)\n",
      "File \u001b[0;32m/opt/conda/envs/bayes3d/lib/python3.9/site-packages/optax/_src/loss.py:203\u001b[0m, in \u001b[0;36msoftmax_cross_entropy\u001b[0;34m(logits, labels)\u001b[0m\n\u001b[1;32m    182\u001b[0m \u001b[38;5;250m\u001b[39m\u001b[38;5;124;03m\"\"\"Computes the softmax cross entropy between sets of logits and labels.\u001b[39;00m\n\u001b[1;32m    183\u001b[0m \n\u001b[1;32m    184\u001b[0m \u001b[38;5;124;03mMeasures the probability error in discrete classification tasks in which\u001b[39;00m\n\u001b[0;32m   (...)\u001b[0m\n\u001b[1;32m    200\u001b[0m \u001b[38;5;124;03m  distributions, with shape `[...]`.\u001b[39;00m\n\u001b[1;32m    201\u001b[0m \u001b[38;5;124;03m\"\"\"\u001b[39;00m\n\u001b[1;32m    202\u001b[0m chex\u001b[38;5;241m.\u001b[39massert_type([logits], \u001b[38;5;28mfloat\u001b[39m)\n\u001b[0;32m--> 203\u001b[0m \u001b[38;5;28;01mreturn\u001b[39;00m \u001b[38;5;241m-\u001b[39mjnp\u001b[38;5;241m.\u001b[39msum(\u001b[43mlabels\u001b[49m\u001b[43m \u001b[49m\u001b[38;5;241;43m*\u001b[39;49m\u001b[43m \u001b[49m\u001b[43mjax\u001b[49m\u001b[38;5;241;43m.\u001b[39;49m\u001b[43mnn\u001b[49m\u001b[38;5;241;43m.\u001b[39;49m\u001b[43mlog_softmax\u001b[49m\u001b[43m(\u001b[49m\u001b[43mlogits\u001b[49m\u001b[43m,\u001b[49m\u001b[43m \u001b[49m\u001b[43maxis\u001b[49m\u001b[38;5;241;43m=\u001b[39;49m\u001b[38;5;241;43m-\u001b[39;49m\u001b[38;5;241;43m1\u001b[39;49m\u001b[43m)\u001b[49m, axis\u001b[38;5;241m=\u001b[39m\u001b[38;5;241m-\u001b[39m\u001b[38;5;241m1\u001b[39m)\n",
      "File \u001b[0;32m/opt/conda/envs/bayes3d/lib/python3.9/site-packages/jax/_src/numpy/array_methods.py:256\u001b[0m, in \u001b[0;36m_defer_to_unrecognized_arg.<locals>.deferring_binary_op\u001b[0;34m(self, other)\u001b[0m\n\u001b[1;32m    254\u001b[0m args \u001b[38;5;241m=\u001b[39m (other, \u001b[38;5;28mself\u001b[39m) \u001b[38;5;28;01mif\u001b[39;00m swap \u001b[38;5;28;01melse\u001b[39;00m (\u001b[38;5;28mself\u001b[39m, other)\n\u001b[1;32m    255\u001b[0m \u001b[38;5;28;01mif\u001b[39;00m \u001b[38;5;28misinstance\u001b[39m(other, _accepted_binop_types):\n\u001b[0;32m--> 256\u001b[0m   \u001b[38;5;28;01mreturn\u001b[39;00m \u001b[43mbinary_op\u001b[49m\u001b[43m(\u001b[49m\u001b[38;5;241;43m*\u001b[39;49m\u001b[43margs\u001b[49m\u001b[43m)\u001b[49m\n\u001b[1;32m    257\u001b[0m \u001b[38;5;28;01mif\u001b[39;00m \u001b[38;5;28misinstance\u001b[39m(other, _rejected_binop_types):\n\u001b[1;32m    258\u001b[0m   \u001b[38;5;28;01mraise\u001b[39;00m \u001b[38;5;167;01mTypeError\u001b[39;00m(\u001b[38;5;124mf\u001b[39m\u001b[38;5;124m\"\u001b[39m\u001b[38;5;124munsupported operand type(s) for \u001b[39m\u001b[38;5;132;01m{\u001b[39;00mopchar\u001b[38;5;132;01m}\u001b[39;00m\u001b[38;5;124m: \u001b[39m\u001b[38;5;124m\"\u001b[39m\n\u001b[1;32m    259\u001b[0m                   \u001b[38;5;124mf\u001b[39m\u001b[38;5;124m\"\u001b[39m\u001b[38;5;132;01m{\u001b[39;00m\u001b[38;5;28mtype\u001b[39m(args[\u001b[38;5;241m0\u001b[39m])\u001b[38;5;241m.\u001b[39m\u001b[38;5;18m__name__\u001b[39m\u001b[38;5;132;01m!r}\u001b[39;00m\u001b[38;5;124m and \u001b[39m\u001b[38;5;132;01m{\u001b[39;00m\u001b[38;5;28mtype\u001b[39m(args[\u001b[38;5;241m1\u001b[39m])\u001b[38;5;241m.\u001b[39m\u001b[38;5;18m__name__\u001b[39m\u001b[38;5;132;01m!r}\u001b[39;00m\u001b[38;5;124m\"\u001b[39m)\n",
      "    \u001b[0;31m[... skipping hidden 12 frame]\u001b[0m\n",
      "File \u001b[0;32m/opt/conda/envs/bayes3d/lib/python3.9/site-packages/jax/_src/numpy/ufuncs.py:97\u001b[0m, in \u001b[0;36m_maybe_bool_binop.<locals>.fn\u001b[0;34m(x1, x2)\u001b[0m\n\u001b[1;32m     95\u001b[0m \u001b[38;5;28;01mdef\u001b[39;00m \u001b[38;5;21mfn\u001b[39m(x1, x2, \u001b[38;5;241m/\u001b[39m):\n\u001b[1;32m     96\u001b[0m   x1, x2 \u001b[38;5;241m=\u001b[39m promote_args(numpy_fn\u001b[38;5;241m.\u001b[39m\u001b[38;5;18m__name__\u001b[39m, x1, x2)\n\u001b[0;32m---> 97\u001b[0m   \u001b[38;5;28;01mreturn\u001b[39;00m \u001b[43mlax_fn\u001b[49m\u001b[43m(\u001b[49m\u001b[43mx1\u001b[49m\u001b[43m,\u001b[49m\u001b[43m \u001b[49m\u001b[43mx2\u001b[49m\u001b[43m)\u001b[49m \u001b[38;5;28;01mif\u001b[39;00m x1\u001b[38;5;241m.\u001b[39mdtype \u001b[38;5;241m!=\u001b[39m np\u001b[38;5;241m.\u001b[39mbool_ \u001b[38;5;28;01melse\u001b[39;00m bool_lax_fn(x1, x2)\n",
      "    \u001b[0;31m[... skipping hidden 7 frame]\u001b[0m\n",
      "File \u001b[0;32m/opt/conda/envs/bayes3d/lib/python3.9/site-packages/jax/_src/lax/lax.py:1587\u001b[0m, in \u001b[0;36mbroadcasting_shape_rule\u001b[0;34m(name, *avals)\u001b[0m\n\u001b[1;32m   1585\u001b[0m       result_shape\u001b[38;5;241m.\u001b[39mappend(non_1s[\u001b[38;5;241m0\u001b[39m])\n\u001b[1;32m   1586\u001b[0m     \u001b[38;5;28;01melse\u001b[39;00m:\n\u001b[0;32m-> 1587\u001b[0m       \u001b[38;5;28;01mraise\u001b[39;00m \u001b[38;5;167;01mTypeError\u001b[39;00m(\u001b[38;5;124mf\u001b[39m\u001b[38;5;124m'\u001b[39m\u001b[38;5;132;01m{\u001b[39;00mname\u001b[38;5;132;01m}\u001b[39;00m\u001b[38;5;124m got incompatible shapes for broadcasting: \u001b[39m\u001b[38;5;124m'\u001b[39m\n\u001b[1;32m   1588\u001b[0m                       \u001b[38;5;124mf\u001b[39m\u001b[38;5;124m'\u001b[39m\u001b[38;5;132;01m{\u001b[39;00m\u001b[38;5;124m\"\u001b[39m\u001b[38;5;124m, \u001b[39m\u001b[38;5;124m\"\u001b[39m\u001b[38;5;241m.\u001b[39mjoin(\u001b[38;5;28mmap\u001b[39m(\u001b[38;5;28mstr\u001b[39m,\u001b[38;5;250m \u001b[39m\u001b[38;5;28mmap\u001b[39m(\u001b[38;5;28mtuple\u001b[39m,\u001b[38;5;250m \u001b[39mshapes)))\u001b[38;5;132;01m}\u001b[39;00m\u001b[38;5;124m.\u001b[39m\u001b[38;5;124m'\u001b[39m)\n\u001b[1;32m   1590\u001b[0m \u001b[38;5;28;01mreturn\u001b[39;00m \u001b[38;5;28mtuple\u001b[39m(result_shape)\n",
      "\u001b[0;31mTypeError\u001b[0m: mul got incompatible shapes for broadcasting: (2000, 2), (200, 2)."
     ]
    }
   ],
   "source": [
    "losses = optax.softmax_cross_entropy(logits=log_scoress, labels=test_labels)\n",
    "print(losses.sum())\n",
    "losses_noisy = optax.softmax_cross_entropy(logits=log_scoress_noisy, labels=test_labels_noisy)\n",
    "print(losses.sum())"
   ]
  },
  {
   "cell_type": "code",
   "execution_count": null,
   "id": "1a4bcfe8-dcfa-4965-b455-ba067456a305",
   "metadata": {},
   "outputs": [],
   "source": [
    "21/100 * 2000"
   ]
  },
  {
   "cell_type": "code",
   "execution_count": null,
   "id": "4a09706f-d451-426c-b298-1c864fb2ad2d",
   "metadata": {},
   "outputs": [],
   "source": [
    "logsumexp = jax.scipy.special.logsumexp"
   ]
  },
  {
   "cell_type": "code",
   "execution_count": null,
   "id": "beded416-e9a0-4825-ab5b-20a39058f36b",
   "metadata": {},
   "outputs": [],
   "source": [
    "cel_loss = lambda logits, labels: -((logits - logsumexp(logits, axis=1).reshape(logits.shape[0], 1)) * labels).sum()"
   ]
  },
  {
   "cell_type": "code",
   "execution_count": null,
   "id": "d895e463-a622-491c-893b-7dc7af12ef44",
   "metadata": {},
   "outputs": [],
   "source": [
    "cel_loss(log_scoress, test_labels)"
   ]
  },
  {
   "cell_type": "code",
   "execution_count": null,
   "id": "7aed11a0-73a1-47ce-94e9-68de12e366dd",
   "metadata": {},
   "outputs": [],
   "source": [
    "logsumexp(log_scoress, axis=1)"
   ]
  },
  {
   "cell_type": "code",
   "execution_count": null,
   "id": "ab197bff-3403-40fd-a740-a1e347914b06",
   "metadata": {},
   "outputs": [],
   "source": [
    "test_labels"
   ]
  },
  {
   "cell_type": "code",
   "execution_count": null,
   "id": "4f4a235e-82c8-466a-bd23-e17a05b738c4",
   "metadata": {},
   "outputs": [],
   "source": [
    "losses = optax.softmax_cross_entropy(log_scoress, test_labels)\n",
    "print(losses.sum())\n",
    "jnp.argsort(losses)"
   ]
  },
  {
   "cell_type": "code",
   "execution_count": null,
   "id": "a230d7c1-8a59-4717-bc94-ed7720aa61fd",
   "metadata": {},
   "outputs": [],
   "source": [
    "idx = 97\n",
    "log_scores, bt1, bt2 = do_inference(key, test_imgs[idx,:, :, 0])\n",
    "true_scores = jnp.array([1, 0]) if test_labels[idx].flatten()[0] else jnp.array([0, 1])\n",
    "print(jnp.exp(log_scores - jax.scipy.special.logsumexp(log_scores)))\n",
    "print(true_scores)\n",
    "b.viz.scale_image(\n",
    "    b.viz.hstack_images([b.get_depth_image(test_imgs[idx, :, :, 0]),\n",
    "                         b.get_depth_image(fork_spoon_generator_jit(*bt1['contact_params_2'], False)[:, :, 2]),\n",
    "                         b.get_depth_image(fork_spoon_generator_jit(*bt2['contact_params_2'], True)[:, :, 2])]), 2)"
   ]
  },
  {
   "cell_type": "code",
   "execution_count": null,
   "id": "0d038a4a-6936-4e31-b901-cd720615415f",
   "metadata": {},
   "outputs": [],
   "source": [
    "optax.softmax_cross_entropy(log_scores, test_labels[idx])"
   ]
  },
  {
   "cell_type": "code",
   "execution_count": null,
   "id": "0c49db1b-7be2-4c17-89cd-62ab04e5cbe7",
   "metadata": {},
   "outputs": [],
   "source": [
    "jnp.save('b3d_scores_no_noise.npy', log_scoress)"
   ]
  },
  {
   "cell_type": "code",
   "execution_count": null,
   "id": "180cbeb7-f3ca-4ed3-884d-a3cf9c91611e",
   "metadata": {},
   "outputs": [],
   "source": []
  }
 ],
 "metadata": {
  "kernelspec": {
   "display_name": "Python 3 (ipykernel)",
   "language": "python",
   "name": "python3"
  },
  "language_info": {
   "codemirror_mode": {
    "name": "ipython",
    "version": 3
   },
   "file_extension": ".py",
   "mimetype": "text/x-python",
   "name": "python",
   "nbconvert_exporter": "python",
   "pygments_lexer": "ipython3",
   "version": "3.9.17"
  }
 },
 "nbformat": 4,
 "nbformat_minor": 5
}
