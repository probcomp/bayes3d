{
 "cells": [
  {
   "cell_type": "code",
   "execution_count": null,
   "id": "1477c737-919d-4445-bc46-c139b9a3febf",
   "metadata": {},
   "outputs": [],
   "source": [
    "import bayes3d as b\n",
    "import os\n",
    "import jax.numpy as jnp\n",
    "import jax\n",
    "import bayes3d.genjax\n",
    "import genjax\n",
    "import matplotlib\n",
    "from tqdm import tqdm\n",
    "import matplotlib.pyplot as plt\n",
    "import numpy as np"
   ]
  },
  {
   "cell_type": "code",
   "execution_count": null,
   "id": "d2db391b-3dfd-4b03-9e28-ae49df8839aa",
   "metadata": {},
   "outputs": [],
   "source": [
    "import flax.linen as nn\n",
    "from flax.training.train_state import TrainState\n",
    "import flax\n",
    "import optax"
   ]
  },
  {
   "cell_type": "code",
   "execution_count": null,
   "id": "1eba285d-bc82-4e3a-b807-b26901700232",
   "metadata": {},
   "outputs": [],
   "source": [
    "import os"
   ]
  },
  {
   "cell_type": "code",
   "execution_count": null,
   "id": "dcb009c9-5d15-477a-8c19-673085f12f9a",
   "metadata": {},
   "outputs": [],
   "source": [
    "b.setup_visualizer()"
   ]
  },
  {
   "cell_type": "code",
   "execution_count": null,
   "id": "41b66139-aa4a-4164-8393-217fc059c772",
   "metadata": {},
   "outputs": [],
   "source": [
    "intrinsics = b.Intrinsics(\n",
    "    height=100,\n",
    "    width=100,\n",
    "    fx=200.0, fy=200.0,\n",
    "    cx=50.0, cy=50.0,\n",
    "    near=0.0001, far=2.0\n",
    ")\n",
    "\n",
    "b.setup_renderer(intrinsics)\n",
    "# model_dir = os.path.join(b.utils.get_assets_dir(),\"bop/ycbv/models\")\n",
    "# meshes = []\n",
    "# for idx in range(1,22):\n",
    "#     mesh_path = os.path.join(model_dir,\"obj_\" + \"{}\".format(idx).rjust(6, '0') + \".ply\")\n",
    "#     b.RENDERER.add_mesh_from_file(mesh_path, scaling_factor=1.0/1000.0)\n",
    "# b.RENDERER.add_mesh_from_file(os.path.join(b.utils.get_assets_dir(), \"sample_objs/cube.obj\"), scaling_factor=1.0/1000000000.0)\n"
   ]
  },
  {
   "cell_type": "code",
   "execution_count": null,
   "id": "e288e29c-dc08-40fd-9601-6973c1929b76",
   "metadata": {},
   "outputs": [],
   "source": [
    "import trimesh\n",
    "box_width = 0.02\n",
    "hammer_width = 0.05\n",
    "hand_length = 0.15\n",
    "b1 = trimesh.creation.box(\n",
    "    np.array(jnp.array([hand_length, box_width,box_width])),\n",
    "    np.array(b.transform_from_pos(jnp.array([0.0, 0.0, 0.0])))\n",
    ")\n",
    "b2 = trimesh.creation.box(\n",
    "    np.array(jnp.array([hammer_width,hammer_width, hammer_width])),\n",
    "    np.array(b.transform_from_pos(jnp.array([hand_length/2 - hammer_width/2, 0.0, 0.0])))\n",
    ")\n",
    "b3 = trimesh.creation.box(\n",
    "    np.array(jnp.array([hammer_width,hammer_width, hammer_width])),\n",
    "    np.array(b.transform_from_pos(jnp.array([-hand_length/2 + hammer_width/2, 0.0, 0.0, ])))\n",
    ")\n",
    "m1 = trimesh.util.concatenate([b1,b2])\n",
    "m2 = trimesh.util.concatenate([b1,b2,b3])\n",
    "b.show_trimesh(\"1\", m2)\n",
    "\n",
    "b.utils.mesh.export_mesh(m1, \"m1.obj\")\n",
    "b.utils.mesh.export_mesh(m2, \"m2.obj\")\n",
    "table_mesh_path = b.utils.get_assets_dir() + '/sample_objs/cube.obj'\n",
    "\n",
    "box_mesh = b.utils.make_cuboid_mesh(jnp.array([0.1, 0.1, 0.3]))\n",
    "b.RENDERER.add_mesh(m1)\n",
    "b.RENDERER.add_mesh(m2)\n",
    "b.RENDERER.add_mesh(box_mesh)\n",
    "# b.RENDERER.add_mesh_from_file(box_mesh_path, scaling_factor=1e-3)\n",
    "b.RENDERER.add_mesh_from_file(table_mesh_path, scaling_factor=1e-6)"
   ]
  },
  {
   "cell_type": "code",
   "execution_count": null,
   "id": "ce5fb017-2bda-46a0-b7f0-78c9c321feab",
   "metadata": {},
   "outputs": [],
   "source": [
    "table_pose = b.t3d.inverse_pose(\n",
    "    b.t3d.transform_from_pos_target_up(\n",
    "        jnp.array([0.0, 0.7, 0.5]),\n",
    "        jnp.array([0.0, 0.0, 0.0]),\n",
    "        jnp.array([0.0, 0.0, 1.0]),\n",
    "    )\n",
    ")"
   ]
  },
  {
   "cell_type": "code",
   "execution_count": null,
   "id": "51037ac1-bfab-4f67-8c70-d9a98c9c4e19",
   "metadata": {},
   "outputs": [],
   "source": [
    "FORK_IDX, KNIFE_IDX, CHEESEITZ_BOX_IDX, TABLE_IDX = 0, 1, 2, 3"
   ]
  },
  {
   "cell_type": "code",
   "execution_count": null,
   "id": "de1ff76c-46cf-4117-a480-5457e26c5aee",
   "metadata": {},
   "outputs": [],
   "source": [
    "SHIFT_MIN = -0.2\n",
    "SHIFT_SCALE = 0.4\n",
    "CHEESEITZ_BOX_CONTACT_PARAMS = jnp.array([0.0, 0.1, 0.0])"
   ]
  },
  {
   "cell_type": "code",
   "execution_count": null,
   "id": "bf61fb46-54bb-473e-9c05-770bd3083287",
   "metadata": {},
   "outputs": [],
   "source": [
    "def fork_spoon_from_known_params(is_fork, shift):\n",
    "    indices = jax.lax.cond(is_fork,\n",
    "                           lambda: jnp.array([TABLE_IDX, CHEESEITZ_BOX_IDX, FORK_IDX]),\n",
    "                           lambda: jnp.array([TABLE_IDX, CHEESEITZ_BOX_IDX, KNIFE_IDX]))\n",
    "\n",
    "    box_dims = b.RENDERER.model_box_dims[indices]\n",
    "    root_poses = jnp.array([table_pose, table_pose, table_pose])\n",
    "    parents = jnp.array([-1, 0, 0])\n",
    "    contact_params = jnp.array([[0.0, 0.0, 0.0],\n",
    "                                [*CHEESEITZ_BOX_CONTACT_PARAMS],\n",
    "                                [shift*jnp.cos(jnp.pi/12), -0.05 + shift*jnp.sin(jnp.pi/12), 10*jnp.pi/12]])\n",
    "    faces_parents = jnp.array([0, 2, 2])\n",
    "    faces_child = jnp.array([0, 3, 3])\n",
    "    poses = b.scene_graph.poses_from_scene_graph(\n",
    "        root_poses, box_dims, parents, contact_params, faces_parents, faces_child)\n",
    "    camera_pose = jnp.eye(4)\n",
    "    rendered = b.RENDERER.render(\n",
    "        jnp.linalg.inv(camera_pose) @ poses , indices\n",
    "    )[...,:3]\n",
    "    return (is_fork, rendered)"
   ]
  },
  {
   "cell_type": "code",
   "execution_count": null,
   "id": "977487bb-3ebc-43bf-bb0e-20329adffeed",
   "metadata": {},
   "outputs": [],
   "source": [
    "ss = 0.05\n",
    "b.viz.hstack_images([b.viz.scale_image(b.get_depth_image(fork_spoon_from_known_params(True, ss)[1][...,2]), 2),\n",
    "                     b.viz.scale_image(b.get_depth_image(fork_spoon_from_known_params(False, ss)[1][...,2]), 2)])"
   ]
  },
  {
   "cell_type": "code",
   "execution_count": null,
   "id": "64366773-62b9-4bea-8819-031eb453acd3",
   "metadata": {},
   "outputs": [],
   "source": [
    "def fork_spoon_generator(key):\n",
    "    is_fork_key, shift_key = jax.random.split(key, 2)\n",
    "    is_fork = jax.random.bernoulli(is_fork_key)\n",
    "    shift = SHIFT_MIN + SHIFT_SCALE * jax.random.uniform(shift_key)\n",
    "\n",
    "    return fork_spoon_from_known_params(is_fork, shift)"
   ]
  },
  {
   "cell_type": "code",
   "execution_count": null,
   "id": "03d42b13-ed84-430b-b43e-acf409e7a492",
   "metadata": {},
   "outputs": [],
   "source": [
    "b.viz.scale_image(b.get_depth_image(fork_spoon_generator(jax.random.PRNGKey(0))[1][...,2]), 2)"
   ]
  },
  {
   "cell_type": "code",
   "execution_count": null,
   "id": "8cfb3cf1-c6fb-4e39-9c10-383a48792647",
   "metadata": {},
   "outputs": [],
   "source": [
    "make_onehot = lambda b: jax.lax.cond(b, lambda: jnp.array([0.0, 1.0]), lambda: jnp.array([1.0, 0.0]))"
   ]
  },
  {
   "cell_type": "code",
   "execution_count": null,
   "id": "3ec3c604-8fc7-40a3-8e9d-7726bd6b57e0",
   "metadata": {},
   "outputs": [],
   "source": [
    "@jax.jit\n",
    "def make_batch(batch_keys):\n",
    "    #is_forks, imgs = zip(*map(fork_spoon_generator, batch_keys))\n",
    "    #img_batch = jnp.concatenate([img[:,:,2].reshape(1, 100, 100, 1) for img in imgs], 0)\n",
    "    #label_batch = jnp.array([make_onehot(is_fork) for is_fork in is_forks])\n",
    "    #return img_batch, label_batch\n",
    "    batch_size = batch_keys.shape[0]\n",
    "    def loop_body(i, imgs_labels):\n",
    "        imgs, labels = imgs_labels\n",
    "        label, img = fork_spoon_generator(batch_keys[i])\n",
    "        return (imgs.at[i, :, :, 0].set(img[:, :, 2]),\n",
    "                labels.at[i, :].set(make_onehot(label)))\n",
    "    return jax.lax.fori_loop(0, batch_keys.shape[0],\n",
    "                             loop_body,\n",
    "                             (jnp.zeros((batch_size, 100, 100,1)), jnp.zeros((batch_size, 2))))"
   ]
  },
  {
   "cell_type": "code",
   "execution_count": null,
   "id": "c764c89b-a127-4ccf-b731-3122c945e097",
   "metadata": {},
   "outputs": [],
   "source": [
    "N_TRAIN = 30000\n",
    "N_TEST = 2000"
   ]
  },
  {
   "cell_type": "code",
   "execution_count": null,
   "id": "581a8e9e-bb44-4ecd-a700-0a3948059abd",
   "metadata": {},
   "outputs": [],
   "source": [
    "train_data = make_batch(jax.random.split(jax.random.PRNGKey(0), N_TRAIN))"
   ]
  },
  {
   "cell_type": "code",
   "execution_count": null,
   "id": "524bd399-87de-4ce6-8c7a-085b6d5f0709",
   "metadata": {},
   "outputs": [],
   "source": [
    "jnp.savez('train_data.npz', *train_data)"
   ]
  },
  {
   "cell_type": "code",
   "execution_count": null,
   "id": "624c5e4b-1950-47d6-921f-1e016ef6f84c",
   "metadata": {},
   "outputs": [],
   "source": [
    "test_data = make_batch(jax.random.split(jax.random.PRNGKey(2718), N_TEST))"
   ]
  },
  {
   "cell_type": "code",
   "execution_count": null,
   "id": "3d9e56e8-9b39-498d-b6be-df1b952a0225",
   "metadata": {},
   "outputs": [],
   "source": [
    "jnp.savez('test_data.npz', *test_data)"
   ]
  },
  {
   "cell_type": "code",
   "execution_count": null,
   "id": "dd34b38a-ad37-487d-9a0f-e4c3cf9852c8",
   "metadata": {},
   "outputs": [],
   "source": []
  }
 ],
 "metadata": {
  "kernelspec": {
   "display_name": "Python 3 (ipykernel)",
   "language": "python",
   "name": "python3"
  },
  "language_info": {
   "codemirror_mode": {
    "name": "ipython",
    "version": 3
   },
   "file_extension": ".py",
   "mimetype": "text/x-python",
   "name": "python",
   "nbconvert_exporter": "python",
   "pygments_lexer": "ipython3",
   "version": "3.9.18"
  }
 },
 "nbformat": 4,
 "nbformat_minor": 5
}
