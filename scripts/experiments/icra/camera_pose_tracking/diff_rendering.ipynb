{
 "cells": [
  {
   "cell_type": "code",
   "execution_count": null,
   "id": "e9cedf92-2e08-4d8b-acab-21d983f8c999",
   "metadata": {},
   "outputs": [],
   "source": [
    "import jax\n",
    "import jax.numpy as np\n",
    "import jax.numpy as jnp\n",
    "import os\n",
    "import bayes3d as b\n",
    "import matplotlib.pyplot as plt"
   ]
  },
  {
   "cell_type": "code",
   "execution_count": null,
   "id": "c9f5fc90-b5b6-46f8-b5b5-8ab918a661ef",
   "metadata": {},
   "outputs": [],
   "source": [
    "'''\n",
    "JAX implementation of Soft Rasterizer (softras)\n",
    "(c) 2021 Kartik Chandra; see MIT license attached\n",
    "\n",
    "Soft Rasterizer: A Differentiable Renderer for Image-based 3D Reasoning\n",
    "Shichen Liu, Tianye Li, Weikai Chen, and Hao Li (ICCV 2019)\n",
    "https://arxiv.org/abs/1904.01786\n",
    "https://github.com/ShichenLiu/SoftRas\n",
    "'''\n",
    "\n",
    "def get_pixel(left=-1, top=1, right=1., bottom=-1., xres=50, yres=50):\n",
    "    '''\n",
    "    Generates a grid of pixel samples in a given viewport, at a given resolution.\n",
    "    \n",
    "    Parameters:\n",
    "        left (float): left edge of viewport\n",
    "        top (float): top edge of viewport\n",
    "        right (float): right edge of viewport\n",
    "        bottom (float): bottom edge of viewport\n",
    "        xres (int): number of samples along horizontal axis\n",
    "        yres (int): number of samples along vertical axis\n",
    "    Returns:\n",
    "        pixel (N x 3): array of sample coordinates,\n",
    "        shape (tuple): shape to reshape softras'ed outputs to get an image\n",
    "    '''\n",
    "    Xs = np.linspace(left, right, xres)\n",
    "    Ys = np.linspace(top, bottom, yres)\n",
    "    X, Y = np.meshgrid(Xs, Ys)\n",
    "    Z = np.zeros_like(X)\n",
    "    pixel = np.stack((X, Y, Z), axis=2).reshape(-1, 1, 3)\n",
    "    return pixel, Z.shape\n",
    "\n",
    "eps = 1e-8\n",
    "\n",
    "def softras(mesh, pixel, C, SIGMA=1e-1, GAMMA=1e-1):\n",
    "    '''\n",
    "    Differentiably rasterizes a mesh using the SoftRas algorithm.\n",
    "    \n",
    "    Parameters:\n",
    "        mesh (T x 3[face] x 3[xyz]): mesh, as list of triples of vertices\n",
    "        pixel (N x 3[xyz]): pixel locations at which to render\n",
    "        C (T x 3[face]): texture brightness at each face\n",
    "        SIGMA (float): parameter from softras paper\n",
    "        GAMMA (float): parameter from softras paper\n",
    "    Returns:\n",
    "        image (N): rendered pixel values, should be reshaped to form image\n",
    "    '''\n",
    "    Zbuf = mesh[:, :, 2]\n",
    "    proj = mesh.at[:, :, 2].set(0)\n",
    "    \n",
    "    def dot(a, b):\n",
    "        return (a * b).sum(axis=-1, keepdims=True)\n",
    "\n",
    "    def d2_point_to_finite_edge(i):\n",
    "        A = proj[:, i, :]\n",
    "        B = proj[:, (i + 1) % 3, :]\n",
    "        Va = B - A\n",
    "        Vp = pixel - A\n",
    "        projln = dot(Vp, Va) / (dot(Va, Va) + eps)\n",
    "        projpt = np.clip(projln, 0, 1) * Va[None, :, :]\n",
    "        out = dot(Vp - projpt, Vp - projpt)\n",
    "        return out[:, :, 0]\n",
    "\n",
    "    d2 = np.minimum(\n",
    "        np.minimum(d2_point_to_finite_edge(0), d2_point_to_finite_edge(1)),\n",
    "        d2_point_to_finite_edge(2)\n",
    "    )\n",
    "    \n",
    "    def signed_area_to_point(i):\n",
    "        A = proj[:, i, :]\n",
    "        B = proj[:, (i + 1) % 3, :]\n",
    "        Va = B - A\n",
    "        area = np.cross(Va, pixel - A)[:, :, 2] / 2\n",
    "        return area\n",
    "\n",
    "    Aa = signed_area_to_point(0)\n",
    "    Ab = signed_area_to_point(1)\n",
    "    Ac = signed_area_to_point(2)\n",
    "    Aabc = Aa + Ab + Ac + eps\n",
    "    in_triangle =\\\n",
    "        np.equal(np.sign(Aa), np.sign(Ab)).astype('float32') *\\\n",
    "        np.equal(np.sign(Aa), np.sign(Ac)).astype('float32') * 2 - 1\n",
    "\n",
    "    D = jax.nn.sigmoid(in_triangle * (d2 + 0.02) / SIGMA)\n",
    "\n",
    "    bary = np.stack([Aa, Ab, Ac], axis=2) / Aabc[:, :, None]\n",
    "    bary_clipped = np.clip(bary, 0, 1)\n",
    "    bary_clipped = bary_clipped / (bary_clipped.sum(axis=2, keepdims=True) + eps)\n",
    "\n",
    "    Zb = (bary_clipped * np.roll(Zbuf, 1, axis=1)).sum(axis=2)\n",
    "    Zb = (Zb.max() - Zb) / (Zb.max() - Zb.min())\n",
    "\n",
    "    Zbe = np.exp(np.clip(Zb / GAMMA, -20., 20.))\n",
    "    DZbe = D * Zbe\n",
    "    w = DZbe / (DZbe.sum(axis=1, keepdims=True) + np.exp(eps / GAMMA))\n",
    "    return (w * DZbe).sum(axis=1)"
   ]
  },
  {
   "cell_type": "code",
   "execution_count": null,
   "id": "302cfb33-eb9f-47b3-a0bb-a442edebabf4",
   "metadata": {},
   "outputs": [],
   "source": []
  },
  {
   "cell_type": "code",
   "execution_count": null,
   "id": "69970e41-d9a9-4c95-acf0-3483be41837c",
   "metadata": {},
   "outputs": [],
   "source": [
    "key = jax.random.PRNGKey(7)"
   ]
  },
  {
   "cell_type": "code",
   "execution_count": null,
   "id": "1e455bf1-57e2-4926-9d2d-7cd3d467cd3d",
   "metadata": {},
   "outputs": [],
   "source": [
    "mesh_path = os.path.join(b.utils.get_assets_dir(),\"sample_objs/cube.obj\")\n",
    "m = b.utils.load_mesh(mesh_path)\n",
    "vertices = jnp.array(m.vertices)\n",
    "faces = jnp.array(m.faces)\n",
    "width = 100\n",
    "pixel, size = get_pixel( xres=width, yres=width)\n",
    "mesh = vertices[faces][:-4]\n",
    "C = jax.random.uniform(jax.random.PRNGKey(3), shape=(1, mesh.shape[0]))\n",
    "print(b.utils.aabb(vertices))"
   ]
  },
  {
   "cell_type": "code",
   "execution_count": null,
   "id": "a67b5550-72ed-4732-9bf5-81950a7863fe",
   "metadata": {},
   "outputs": [],
   "source": [
    "model_dir = os.path.join(b.utils.get_assets_dir(),\"bop/ycbv/models\")\n",
    "idx = 14\n",
    "mesh_path = os.path.join(model_dir,\"obj_\" + \"{}\".format(idx).rjust(6, '0') + \".ply\")\n",
    "m = b.utils.load_mesh(mesh_path)\n",
    "m = b.utils.scale_mesh(m, 1.0/100.0)\n",
    "\n",
    "vertices = jnp.array(m.vertices)\n",
    "faces = jnp.array(m.faces)[:8000]\n",
    "C = jax.random.uniform(jax.random.PRNGKey(3), shape=(1, mesh.shape[0]))\n",
    "print(b.utils.aabb(vertices))"
   ]
  },
  {
   "cell_type": "code",
   "execution_count": null,
   "id": "c37b0fee-49ca-415c-a7db-157d5ae5d6cf",
   "metadata": {},
   "outputs": [],
   "source": []
  },
  {
   "cell_type": "code",
   "execution_count": null,
   "id": "7b23a97f-f274-4527-bae7-d06fa68a21ad",
   "metadata": {},
   "outputs": [],
   "source": []
  },
  {
   "cell_type": "code",
   "execution_count": null,
   "id": "a2c50a43-2618-462d-b497-92392b291cdf",
   "metadata": {},
   "outputs": [],
   "source": [
    "def render_img(quat):\n",
    "    pose = b.transform_from_rot_and_pos(\n",
    "        b.quaternion_to_rotation_matrix(quat),\n",
    "        jnp.array([0.0, 0.0, 3.0])\n",
    "    )\n",
    "    vertices_transformed = b.apply_transform(vertices, pose) \n",
    "    mesh = vertices_transformed[faces]\n",
    "    img = softras(mesh, pixel, C,  SIGMA=0.02, GAMMA=100.0)\n",
    "    return img"
   ]
  },
  {
   "cell_type": "code",
   "execution_count": null,
   "id": "fad878bc-9fb2-4481-91ad-5e78d2fb8492",
   "metadata": {},
   "outputs": [],
   "source": [
    "key = jax.random.split(key,1)[1]\n",
    "R = b.distributions.vmf_jit(key, 0.0001)\n",
    "print(R)\n",
    "gt_orientation = b.rotation_matrix_to_quaternion(R)\n",
    "print(gt_orientation)\n",
    "print(b.quaternion_to_rotation_matrix(gt_orientation))\n",
    "gt_img = render_img(gt_orientation)\n",
    "plt.imshow(gt_img.reshape(size))\n",
    "plt.colorbar()"
   ]
  },
  {
   "cell_type": "code",
   "execution_count": null,
   "id": "88ba9e52-fe9e-43a7-bf2d-0052680daece",
   "metadata": {},
   "outputs": [],
   "source": [
    "def loss(quat):\n",
    "    reconstruction = render_img(quat)\n",
    "    return ((reconstruction - gt_img)**2).sum()\n",
    "value_and_grad_loss = jax.jit(jax.value_and_grad(loss))"
   ]
  },
  {
   "cell_type": "code",
   "execution_count": null,
   "id": "bea1fbb5-4f12-45a6-beba-64f64764a6a0",
   "metadata": {},
   "outputs": [],
   "source": [
    "key = jax.random.split(key,1)[1]\n",
    "R_start = b.distributions.vmf_jit(key, 0.0001)\n",
    "estimated_quat = b.rotation_matrix_to_quaternion(R_start)\n",
    "reconstruction = render_img(estimated_quat)\n",
    "plt.imshow(reconstruction.reshape(size))\n",
    "plt.colorbar()"
   ]
  },
  {
   "cell_type": "code",
   "execution_count": null,
   "id": "d87d849a-5112-4236-836e-8bad90b6a81d",
   "metadata": {},
   "outputs": [],
   "source": [
    "quats = []\n",
    "for _ in range(100):\n",
    "    loss_val, gradient_quat = value_and_grad_loss(estimated_quat)\n",
    "    print(loss_val)\n",
    "    estimated_quat -= gradient_quat * 0.01\n"
   ]
  },
  {
   "cell_type": "code",
   "execution_count": null,
   "id": "00788002-9fa3-4fde-898e-b3aaf695622b",
   "metadata": {},
   "outputs": [],
   "source": [
    "plt.imshow(jnp.hstack([render_img(gt_orientation).reshape(size), render_img(estimated_quat).reshape(size)]))"
   ]
  },
  {
   "cell_type": "code",
   "execution_count": null,
   "id": "198a0c8b-8ff6-42f7-9d4c-49186015ac79",
   "metadata": {},
   "outputs": [],
   "source": []
  },
  {
   "cell_type": "code",
   "execution_count": null,
   "id": "12823fa8-ac10-4f73-ae01-6b31d1a23d3e",
   "metadata": {},
   "outputs": [],
   "source": [
    "# key = jax.random.split(key,1)[1]\n",
    "random_pose = b.distributions.vmf_jit(key, 0.0001)\n",
    "vertices = b.apply_transform(vertices, random_pose) \n",
    "vertices = vertices + jnp.array([0.0, 0.0, 3.0]) \n",
    "mesh = vertices[faces][:-4]\n",
    "width = 100\n",
    "pixel, size = get_pixel( xres=width, yres=width)\n",
    "C = jax.random.uniform(jax.random.PRNGKey(3), shape=(1, mesh.shape[0]))\n",
    "\n",
    "img = softras(mesh, pixel, C,  SIGMA=0.01, GAMMA=10.0)\n",
    "plt.imshow(img.reshape(size))\n",
    "plt.colorbar()"
   ]
  },
  {
   "cell_type": "code",
   "execution_count": null,
   "id": "e1e4c308-347f-4d8c-843d-60735dbc8863",
   "metadata": {},
   "outputs": [],
   "source": [
    "b."
   ]
  },
  {
   "cell_type": "code",
   "execution_count": null,
   "id": "b9e5a5b6-199e-4461-b5f7-5dd1257e981e",
   "metadata": {},
   "outputs": [],
   "source": []
  },
  {
   "cell_type": "code",
   "execution_count": null,
   "id": "efb685f8-1d96-494b-b012-a8d679997a12",
   "metadata": {},
   "outputs": [],
   "source": []
  },
  {
   "cell_type": "code",
   "execution_count": null,
   "id": "f876d0e0-c82a-4705-8546-eb28e672eb27",
   "metadata": {},
   "outputs": [],
   "source": [
    "from matplotlib import pyplot as plt"
   ]
  },
  {
   "cell_type": "code",
   "execution_count": null,
   "id": "cd59df09-5d72-4ad4-a6bf-50b19b0b7c1c",
   "metadata": {},
   "outputs": [],
   "source": [
    "plt.imshow(pixel[:, 0, 2].reshape(size))"
   ]
  },
  {
   "cell_type": "code",
   "execution_count": null,
   "id": "bbf18aeb-efc0-41b2-80d9-e306abd4bf20",
   "metadata": {},
   "outputs": [],
   "source": [
    "pixel.shape"
   ]
  },
  {
   "cell_type": "code",
   "execution_count": null,
   "id": "8183431c-1fb3-40ae-8391-9460f8852c40",
   "metadata": {},
   "outputs": [],
   "source": []
  },
  {
   "cell_type": "code",
   "execution_count": null,
   "id": "1efa0fd8-c045-4ad2-9d8c-999bf018eb45",
   "metadata": {},
   "outputs": [],
   "source": []
  },
  {
   "cell_type": "code",
   "execution_count": null,
   "id": "cf986f6c-81c3-421d-a8e0-93806d43e367",
   "metadata": {},
   "outputs": [],
   "source": []
  },
  {
   "cell_type": "code",
   "execution_count": null,
   "id": "a972388d-93e3-4422-83fa-892a2ed5d93a",
   "metadata": {},
   "outputs": [],
   "source": [
    "model_dir = os.path.join(b.utils.get_assets_dir(),\"bop/ycbv/models\")\n",
    "idx = 14\n",
    "mesh_path = os.path.join(model_dir,\"obj_\" + \"{}\".format(idx).rjust(6, '0') + \".ply\")\n",
    "m = b.utils.load_mesh(mesh_path)\n",
    "m = b.utils.scale_mesh(m, 1.0/100.0)"
   ]
  },
  {
   "cell_type": "code",
   "execution_count": null,
   "id": "5ac85cf0-d304-4185-9fe6-5e8725ef7713",
   "metadata": {},
   "outputs": [],
   "source": []
  },
  {
   "cell_type": "code",
   "execution_count": null,
   "id": "481aff66-c003-4cb7-8c10-d7766f1ad9b5",
   "metadata": {},
   "outputs": [],
   "source": []
  }
 ],
 "metadata": {
  "kernelspec": {
   "display_name": "Python 3 (ipykernel)",
   "language": "python",
   "name": "python3"
  },
  "language_info": {
   "codemirror_mode": {
    "name": "ipython",
    "version": 3
   },
   "file_extension": ".py",
   "mimetype": "text/x-python",
   "name": "python",
   "nbconvert_exporter": "python",
   "pygments_lexer": "ipython3",
   "version": "3.9.18"
  }
 },
 "nbformat": 4,
 "nbformat_minor": 5
}
