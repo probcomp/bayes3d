{
 "cells": [
  {
   "cell_type": "code",
   "execution_count": null,
   "id": "19225e38-aaf6-413e-a93d-f1dbb2ae787d",
   "metadata": {},
   "outputs": [],
   "source": [
    "import bayes3d as b\n",
    "import bayes3d.genjax\n",
    "import joblib\n",
    "from tqdm import tqdm\n",
    "import os\n",
    "import jax.numpy as jnp\n",
    "import jax\n",
    "import numpy as np\n",
    "import genjax\n",
    "import matplotlib.pyplot as plt"
   ]
  },
  {
   "cell_type": "code",
   "execution_count": null,
   "id": "3cdc9a4d-959d-4d29-8aad-28b660283697",
   "metadata": {},
   "outputs": [],
   "source": [
    "b.setup_visualizer()"
   ]
  },
  {
   "cell_type": "code",
   "execution_count": null,
   "id": "35510ba8-66b8-4335-aca8-b6583650f889",
   "metadata": {},
   "outputs": [],
   "source": [
    "intrinsics = b.Intrinsics(\n",
    "    height=50,\n",
    "    width=50,\n",
    "    fx=100.0, fy=100.0,\n",
    "    cx=25.0, cy=25.0,\n",
    "    near=0.01, far=1.0\n",
    ")\n",
    "\n",
    "b.setup_renderer(intrinsics)\n",
    "model_dir = os.path.join(b.utils.get_assets_dir(),\"bop/ycbv/models\")\n",
    "meshes = []\n",
    "for idx in range(1,22):\n",
    "    mesh_path = os.path.join(model_dir,\"obj_\" + \"{}\".format(idx).rjust(6, '0') + \".ply\")\n",
    "    b.RENDERER.add_mesh_from_file(mesh_path, scaling_factor=1.0/1000.0)\n",
    "\n",
    "b.RENDERER.add_mesh_from_file(os.path.join(b.utils.get_assets_dir(), \"sample_objs/cube.obj\"), scaling_factor=1.0/1000000000.0)\n"
   ]
  },
  {
   "cell_type": "code",
   "execution_count": null,
   "id": "a81e8aae-bf1d-43bd-905f-2e7f0a9e2265",
   "metadata": {},
   "outputs": [],
   "source": [
    "\n",
    "importance_jit = jax.jit(b.model.importance)\n",
    "\n",
    "contact_enumerators = [b.make_enumerator([f\"contact_params_{i}\", \"variance\", \"outlier_prob\"]) for i in range(5)]\n",
    "add_object_jit = jax.jit(b.add_object)\n",
    "\n",
    "def c2f_contact_update(trace_, key,  number, contact_param_deltas, VARIANCE_GRID, OUTLIER_GRID):\n",
    "    contact_param_grid = contact_param_deltas + trace_[f\"contact_params_{number}\"]\n",
    "    scores = contact_enumerators[number][3](trace_, key, contact_param_grid, VARIANCE_GRID, OUTLIER_GRID)\n",
    "    i,j,k = jnp.unravel_index(scores.argmax(), scores.shape)\n",
    "    return contact_enumerators[number][0](\n",
    "        trace_, key,\n",
    "        contact_param_grid[i], VARIANCE_GRID[j], OUTLIER_GRID[k]\n",
    "    )\n",
    "c2f_contact_update_jit = jax.jit(c2f_contact_update, static_argnames=(\"number\",))"
   ]
  },
  {
   "cell_type": "code",
   "execution_count": null,
   "id": "f1889814-d36e-4669-9991-36250112de14",
   "metadata": {},
   "outputs": [],
   "source": [
    "OUTLIER_VOLUME = 1.0\n",
    "VARIANCE_GRID = jnp.array([0.0001, 0.001, 0.01])\n",
    "OUTLIER_GRID = jnp.array([0.00001, 0.0001, 0.001])\n",
    "\n",
    "grid_params = [\n",
    "    (0.3, jnp.pi, (11,11,11)), (0.2, jnp.pi, (11,11,11)), (0.1, jnp.pi, (11,11,11)),\n",
    "    (0.05, jnp.pi/3, (11,11,11)), (0.02, jnp.pi, (5,5,51)), (0.01, jnp.pi/5, (11,11,11)), (0.01, 0.0, (21,21,1)),(0.05, 0.0, (21,21,1))\n",
    "]\n",
    "contact_param_gridding_schedule = [\n",
    "    b.utils.make_translation_grid_enumeration_3d(\n",
    "        -x, -x, -ang,\n",
    "        x, x, ang,\n",
    "        *nums\n",
    "    )\n",
    "    for (x,ang,nums) in grid_params\n",
    "]\n"
   ]
  },
  {
   "cell_type": "code",
   "execution_count": null,
   "id": "053f2b8d-00dc-49ae-aa8b-98d4d7b69a42",
   "metadata": {},
   "outputs": [],
   "source": [
    "V_VARIANT = 0\n",
    "O_VARIANT = 0\n",
    "HIERARCHICAL_BAYES = True\n",
    "\n",
    "if HIERARCHICAL_BAYES:\n",
    "    V_GRID = VARIANCE_GRID\n",
    "    O_GRID = OUTLIER_GRID\n",
    "else:\n",
    "    V_GRID, O_GRID = jnp.array([VARIANCE_GRID[V_VARIANT]]), jnp.array([OUTLIER_GRID[O_VARIANT]])\n",
    "\n",
    "print(V_GRID, O_GRID)"
   ]
  },
  {
   "cell_type": "code",
   "execution_count": null,
   "id": "2ef3b356-f589-41eb-a66b-a8c20fba6ab8",
   "metadata": {},
   "outputs": [],
   "source": [
    "key = jax.random.PRNGKey(502)"
   ]
  },
  {
   "cell_type": "code",
   "execution_count": null,
   "id": "95f6b018-1fd2-46b1-bac5-3ada3a37c88f",
   "metadata": {},
   "outputs": [],
   "source": [
    "camera_pose = b.t3d.transform_from_pos_target_up(\n",
    "    jnp.array([0.0, 0.4, 0.2]),\n",
    "    jnp.array([0.0, 0.0, 0.0]),\n",
    "    jnp.array([0.0, 0.0, 1.0]),\n",
    ")\n",
    "\n",
    "camera_poses = jnp.array([\n",
    "    b.t3d.transform_from_axis_angle(jnp.array([0.0, 0.0, 1.0]), angle) @ camera_pose\n",
    "    for angle in jnp.linspace(-jnp.pi, jnp.pi, 70)[:-1]]\n",
    ")"
   ]
  },
  {
   "cell_type": "code",
   "execution_count": null,
   "id": "2186dc95-b9a9-4847-b8e5-32699d967999",
   "metadata": {},
   "outputs": [],
   "source": [
    "for (i,p) in enumerate(camera_poses):\n",
    "    b.show_pose(f\"{i}\", p)"
   ]
  },
  {
   "cell_type": "code",
   "execution_count": null,
   "id": "b1ce68b4-3846-4fa5-8de5-f1fc9a299828",
   "metadata": {},
   "outputs": [],
   "source": [
    "camera_pose_enumerators = b.make_enumerator([\"camera_pose\"])"
   ]
  },
  {
   "cell_type": "code",
   "execution_count": null,
   "id": "ea6b6494-9226-403a-b9ee-8fc96cc7cd97",
   "metadata": {},
   "outputs": [],
   "source": [
    "split_key = jax.jit(lambda x: jax.random.split(x,1)[1])"
   ]
  },
  {
   "cell_type": "code",
   "execution_count": null,
   "id": "1b28cd84-95a5-4088-ab5c-bdae551e15be",
   "metadata": {},
   "outputs": [],
   "source": [
    "w = 1.0\n",
    "translation_deltas = b.utils.make_translation_grid_enumeration(-w,-w,-w,w,w,w,11,11,11)\n",
    "get_rotation_deltas = jax.jit(jax.vmap(lambda key, v, c: b.distributions.gaussian_vmf_zero_mean(key, v, c), in_axes=(0,None,None)))"
   ]
  },
  {
   "cell_type": "code",
   "execution_count": null,
   "id": "dfe6f5e2-f778-4ecf-8e7c-7b28d17dae54",
   "metadata": {},
   "outputs": [],
   "source": [
    "\n",
    "def likelihoood(obs, render):\n",
    "    return -jnp.linalg.norm((obs[:,:,2] - render[:,:,2]) / obs[:,:,2])\n",
    "\n",
    "def render_at_camera_pose(camera_pose, poses, indices):\n",
    "    rendered = b.RENDERER.render(b.inverse_pose(camera_pose) @ poses, indices)[:,:,:3]\n",
    "    return rendered\n",
    "    \n",
    "def score_camera_pose_(camera_pose, obs, poses, indices):\n",
    "    rendered = render_at_camera_pose(camera_pose, poses, indices)\n",
    "    return likelihoood(obs, rendered)\n",
    "score_camera_pose = jax.jit(score_camera_pose_)\n",
    "score_camera_pose_parallel = jax.jit(jax.vmap(score_camera_pose, in_axes=(0,None, None, None)))\n",
    "\n",
    "def update_pose_estimate(current_pose_estimate, key, obs,v,c, poses, indices):\n",
    "    rotation_deltas = get_rotation_deltas(jax.random.split(key, 10000), v,c)\n",
    "    proposals = jnp.einsum(\"ij,ajk->aik\", current_pose_estimate, rotation_deltas)\n",
    "    weights = score_camera_pose_parallel(proposals, obs, poses, indices)\n",
    "    bool = (weights.max() > score_camera_pose(current_pose_estimate, obs,poses, indices ))\n",
    "    current_pose_estimate = current_pose_estimate* (1.0 - bool) + bool * proposals[jnp.argmax(weights)]\n",
    "\n",
    "    rotation_deltas = get_rotation_deltas(jax.random.split(key, 10000), v,c)\n",
    "    proposals = jnp.einsum(\"ij,ajk->aik\", current_pose_estimate, rotation_deltas)\n",
    "    weights = score_camera_pose_parallel(proposals, obs, poses, indices)\n",
    "    bool = (weights.max() > score_camera_pose(current_pose_estimate, obs, poses, indices ))\n",
    "    current_pose_estimate = current_pose_estimate* (1.0 - bool) + bool * proposals[jnp.argmax(weights)]\n",
    "\n",
    "    rotation_deltas = get_rotation_deltas(jax.random.split(key, 10000), v,c)\n",
    "    proposals = jnp.einsum(\"ij,ajk->aik\", current_pose_estimate, rotation_deltas)\n",
    "    weights = score_camera_pose_parallel(proposals, obs,poses, indices)\n",
    "    bool = (weights.max() > score_camera_pose(current_pose_estimate, obs, poses, indices))\n",
    "    current_pose_estimate = current_pose_estimate* (1.0 - bool) + bool * proposals[jnp.argmax(weights)]\n",
    "\n",
    "    \n",
    "    return current_pose_estimate\n",
    "update_pose_estimate_jit = jax.jit(update_pose_estimate)"
   ]
  },
  {
   "cell_type": "code",
   "execution_count": null,
   "id": "755cace7-fdae-4fa8-8d38-db4adb16b23b",
   "metadata": {},
   "outputs": [],
   "source": [
    "key = jax.random.split(key, 1)[0]\n",
    "\n",
    "gt_traces = [importance_jit(key, genjax.choice_map({\n",
    "    \"parent_0\": -1,\n",
    "    \"parent_1\": 0,\n",
    "    \"parent_2\": 0,\n",
    "    \"parent_3\": 0,\n",
    "    \"id_0\": jnp.int32(21),\n",
    "    \"camera_pose\": p,\n",
    "    \"root_pose_0\": jnp.eye(4),\n",
    "    \"face_parent_1\": 2,\n",
    "    \"face_parent_2\": 2,\n",
    "    \"face_parent_3\": 2,\n",
    "    \"face_child_1\": 3,\n",
    "    \"face_child_2\": 3,\n",
    "    \"face_child_3\": 3,\n",
    "    \"variance\": 0.0001,\n",
    "    \"outlier_prob\": 0.1,\n",
    "}), (\n",
    "    jnp.arange(4),\n",
    "    jnp.arange(22),\n",
    "    jnp.array([-jnp.ones(3)*100.0, jnp.ones(3)*100.0]),\n",
    "    jnp.array([jnp.array([-0.1, -0.1, -1*jnp.pi]), jnp.array([0.1, 0.1, 1*jnp.pi])]),\n",
    "    b.RENDERER.model_box_dims, OUTLIER_VOLUME, 1.0)\n",
    ")[1] for p in camera_poses]\n",
    "poses,indices = b.get_poses(gt_traces[0]), b.get_indices(gt_traces[0])"
   ]
  },
  {
   "cell_type": "code",
   "execution_count": null,
   "id": "9d900b0b-69b5-4bac-8821-f10f961636a5",
   "metadata": {},
   "outputs": [],
   "source": [
    "current_pose_estimate = camera_poses[0]"
   ]
  },
  {
   "cell_type": "code",
   "execution_count": null,
   "id": "2993d56f-2c50-417e-aab0-7f6ec1b12856",
   "metadata": {},
   "outputs": [],
   "source": [
    "T = 4\n",
    "gt_pose = camera_poses[T]\n",
    "obs = render_at_camera_pose(gt_pose, poses, indices)\n",
    "b.clear()\n",
    "b.show_pose(\"gt\", gt_pose)\n",
    "b.show_pose(\"pred\", current_pose_estimate,size=0.07)\n",
    "b.show_cloud(\"cloud\", obs.reshape(-1,3))\n",
    "b.get_depth_image(obs[:,:,2])"
   ]
  },
  {
   "cell_type": "code",
   "execution_count": null,
   "id": "469a62f8-ce90-4c35-83b1-9926e4903ff0",
   "metadata": {},
   "outputs": [],
   "source": [
    "current_pose_estimate = update_pose_estimate_jit(current_pose_estimate, key, obs, 0.05, 2029.293,poses, indices)\n",
    "key = split_key(key)\n",
    "current_pose_estimate = update_pose_estimate_jit(current_pose_estimate, key, obs, 0.01,5029.293,poses, indices)\n",
    "key = split_key(key)\n",
    "current_pose_estimate = update_pose_estimate_jit(current_pose_estimate, key, obs, 0.01,10029.293,poses, indices)\n",
    "key = split_key(key)\n",
    "current_pose_estimate = update_pose_estimate_jit(current_pose_estimate, key, obs, 0.001,20029.293,poses, indices)\n",
    "key = split_key(key)\n",
    "current_pose_estimate = update_pose_estimate_jit(current_pose_estimate, key, obs, 0.0001,50029.293,poses, indices)\n",
    "b.show_pose(\"pred\", current_pose_estimate,size=0.07)\n",
    "print(score_camera_pose(current_pose_estimate,obs,poses, indices))"
   ]
  },
  {
   "cell_type": "code",
   "execution_count": null,
   "id": "c2587690-02c0-4eeb-aa6c-19106fa4bee3",
   "metadata": {},
   "outputs": [],
   "source": [
    "reconstruction = render_at_camera_pose(current_pose_estimate, poses, indices)\n",
    "b.show_cloud(\"cloud\", obs.reshape(-1,3))\n",
    "b.show_cloud(\"reconstruction\", reconstruction.reshape(-1,3),color=b.RED)\n",
    "\n",
    "plt.matshow(reconstruction[:,:,2] - obs[:,:,2])\n",
    "plt.colorbar()"
   ]
  },
  {
   "cell_type": "code",
   "execution_count": null,
   "id": "c7acad52-6eec-433e-8983-e4e8276cdc62",
   "metadata": {},
   "outputs": [],
   "source": [
    "current_pose_estimate - gt_pose"
   ]
  },
  {
   "cell_type": "code",
   "execution_count": null,
   "id": "746b3b11-20fa-48d0-a040-f1c0cd4c93be",
   "metadata": {},
   "outputs": [],
   "source": [
    "vmf_score = jax.jit(jax.vmap(jax.vmap(b.distributions.gaussian_vmf_logpdf_jit, in_axes=(None, None, None, 0)), in_axes=(None, None, 0, None)))"
   ]
  },
  {
   "cell_type": "code",
   "execution_count": null,
   "id": "8e51ecba-0150-42e3-a02f-0a6032f44b9b",
   "metadata": {},
   "outputs": [],
   "source": [
    "delta = b.inverse_pose(current_pose_estimate) @ gt_pose\n",
    "variances = jnp.linspace(0.001, 0.1, 100)\n",
    "concentrations = jnp.linspace(2000.0, 100000.0, 200)\n",
    "scores = vmf_score(delta, jnp.eye(4), variances, concentrations)\n",
    "i,j = jnp.unravel_index(scores.argmax(),scores.shape)\n",
    "print(variances[i], concentrations[j])\n",
    "plt.matshow(scores)\n",
    "plt.colorbar()"
   ]
  },
  {
   "cell_type": "code",
   "execution_count": null,
   "id": "d173bd2c-acf6-4100-b80f-c4cb1e0cc8cd",
   "metadata": {},
   "outputs": [],
   "source": []
  },
  {
   "cell_type": "code",
   "execution_count": null,
   "id": "d4629fa9-7744-431a-a479-c285da793207",
   "metadata": {},
   "outputs": [],
   "source": [
    "proposals = jnp.einsum(\"ij,ajk->aik\", current_pose_estimate)\n",
    "weights = score_camera_pose_parallel(proposals, obs)\n",
    "bool = (weights.max() > score_camera_pose(current_pose_estimate, obs ))\n",
    "current_camera_pose = current_pose_estimate* (1.0 - bool) + bool * proposals[jnp.argmax(weights)]\n",
    "print(current_pose_estimate)\n",
    "print(weights.max())\n",
    "score_camera_pose(current_pose_estimate, obs)"
   ]
  },
  {
   "cell_type": "code",
   "execution_count": null,
   "id": "8917a1a8-38f4-49eb-b682-f0c389ae3ad5",
   "metadata": {},
   "outputs": [],
   "source": [
    "weights[jnp.argmax(weights)]"
   ]
  },
  {
   "cell_type": "code",
   "execution_count": null,
   "id": "ec107794-02e6-4238-a818-1afba16d8632",
   "metadata": {},
   "outputs": [],
   "source": []
  },
  {
   "cell_type": "code",
   "execution_count": null,
   "id": "b29106ca-896a-407d-8904-ec0ce0d46fcc",
   "metadata": {},
   "outputs": [],
   "source": [
    "current_pose_estimate - proposals[jnp.argmax(weights)]"
   ]
  },
  {
   "cell_type": "code",
   "execution_count": null,
   "id": "900496be-72e9-4da9-aa20-d2fb7ad6791a",
   "metadata": {},
   "outputs": [],
   "source": []
  },
  {
   "cell_type": "code",
   "execution_count": null,
   "id": "2eeda8fc-f21c-4ae2-ad8e-7b1ddfaaaee4",
   "metadata": {},
   "outputs": [],
   "source": [
    "score_camera_pose(current_pose_estimate, obs)"
   ]
  },
  {
   "cell_type": "code",
   "execution_count": null,
   "id": "0230f5d0-05f2-4f00-8ae4-48c27f97edf1",
   "metadata": {},
   "outputs": [],
   "source": [
    "bool"
   ]
  },
  {
   "cell_type": "code",
   "execution_count": null,
   "id": "97f74ab7-4f48-4996-908b-39257ffb4c2e",
   "metadata": {},
   "outputs": [],
   "source": [
    "viz_images = [b.get_depth_image(i[\"image\"][:,:,2]) for i in gt_traces]\n",
    "b.make_gif_from_pil_images(viz_images,\"sweep.gif\")"
   ]
  },
  {
   "cell_type": "code",
   "execution_count": null,
   "id": "2c1a1835-7dac-43d3-b5e4-d9ce3c501418",
   "metadata": {},
   "outputs": [],
   "source": [
    "current_camera_pose = camera_poses[0]"
   ]
  },
  {
   "cell_type": "code",
   "execution_count": null,
   "id": "59d71811-c51e-4b4f-9612-cea91542ebe3",
   "metadata": {},
   "outputs": [],
   "source": [
    "T = 2\n",
    "gt_pose = gt_traces[T][\"camera_pose\"]\n",
    "trace = b.update_address(gt_traces[T], key,  \"camera_pose\", current_camera_pose)\n",
    "print(gt_traces[T].get_score())\n",
    "print(trace.get_score())\n",
    "b.viz_trace_meshcat(trace)\n",
    "b.show_pose(\"gt_pose\", gt_traces[T][\"camera_pose\"], size=0.05)"
   ]
  },
  {
   "cell_type": "code",
   "execution_count": null,
   "id": "2ba4da8c-eb3f-4633-bdbf-7f24b04bf693",
   "metadata": {},
   "outputs": [],
   "source": [
    "for _ in range(100):\n",
    "    key = split_key(key)\n",
    "    print(key)\n",
    "    print(trace.get_score())\n",
    "    trace = update_pose_estimate_jit(trace,key)\n",
    "    b.show_pose(\"gt_pose\", gt_traces[T][\"camera_pose\"], size=0.05)\n",
    "    b.show_pose(\"estimated_pose\", trace[\"camera_pose\"], size=0.07)\n",
    "print(trace.get_score())\n"
   ]
  },
  {
   "cell_type": "code",
   "execution_count": null,
   "id": "48ba1a44-7d27-4f8d-9d4d-1f8933de9352",
   "metadata": {},
   "outputs": [],
   "source": [
    "proposals = jnp.einsum(\"ij,ajk->aik\", trace[\"camera_pose\"], translation_deltas)\n",
    "weights = camera_pose_enumerators[3](trace, key, proposals)\n",
    "bool = (weights.max() > trace.get_score())\n",
    "current_camera_pose = trace[\"camera_pose\"] * (1.0 - bool) + bool * proposals[jnp.argmax(weights)]\n",
    "trace = b.update_address(trace, key,  \"camera_pose\", current_camera_pose)"
   ]
  },
  {
   "cell_type": "code",
   "execution_count": null,
   "id": "2ce5cb5b-e90e-4a42-8464-2e1563ea6f1a",
   "metadata": {},
   "outputs": [],
   "source": []
  },
  {
   "cell_type": "code",
   "execution_count": null,
   "id": "c7f9fe61-bdfd-46c5-977d-0faed41f95a9",
   "metadata": {},
   "outputs": [],
   "source": [
    "weights.max()"
   ]
  },
  {
   "cell_type": "code",
   "execution_count": null,
   "id": "621d3e4b-2bc8-43b9-a2e9-154a20d8be11",
   "metadata": {},
   "outputs": [],
   "source": [
    "for (i,p) in enumerate(proposals):\n",
    "    b.show_pose(f\"{i}\", p)"
   ]
  },
  {
   "cell_type": "code",
   "execution_count": null,
   "id": "999bf031-0903-4c82-af0a-920467844767",
   "metadata": {},
   "outputs": [],
   "source": [
    "b.clear()"
   ]
  },
  {
   "cell_type": "code",
   "execution_count": null,
   "id": "b2b4303b-4887-4cd5-b477-0e6bbf243fab",
   "metadata": {},
   "outputs": [],
   "source": []
  },
  {
   "cell_type": "code",
   "execution_count": null,
   "id": "cee19ba8-2cdd-44a3-ac41-39a26a88707b",
   "metadata": {},
   "outputs": [],
   "source": [
    "current_camera_pose = trace[\"camera_pose\"] @ b.transform_from_pos(jnp.array([0.05, 0.0, 0.0]))\n",
    "trace = b.update_address(trace, key,  \"camera_pose\", current_camera_pose)\n",
    "print(trace.get_score())"
   ]
  },
  {
   "cell_type": "code",
   "execution_count": null,
   "id": "cf737d00-baf5-400f-b48a-81398d64466b",
   "metadata": {},
   "outputs": [],
   "source": []
  },
  {
   "cell_type": "code",
   "execution_count": null,
   "id": "e3db5e72-0d34-4a82-9104-2aac8888cde5",
   "metadata": {},
   "outputs": [],
   "source": []
  },
  {
   "cell_type": "code",
   "execution_count": null,
   "id": "ac8b9255-c9c4-464b-b956-cf40b59fe80a",
   "metadata": {},
   "outputs": [],
   "source": [
    "gt_traces[T][\"camera_pose\"] @ b.inverse_pose(trace[\"camera_pose\"])"
   ]
  },
  {
   "cell_type": "code",
   "execution_count": null,
   "id": "8a14a5a3-7473-49f4-bf86-51968648c6e2",
   "metadata": {},
   "outputs": [],
   "source": []
  },
  {
   "cell_type": "code",
   "execution_count": null,
   "id": "479a4f94-29d0-4813-9892-5468f55ea0e2",
   "metadata": {},
   "outputs": [],
   "source": [
    "proposals = jnp.einsum(\"ij,ajk->aik\", trace[\"camera_pose\"], rotation_deltas)\n",
    "weights = camera_pose_enumerators[3](trace, key, proposals)\n",
    "print(weights.shape)\n",
    "current_camera_pose = proposals[jnp.argmax(weights)]\n",
    "trace = b.update_address(trace, key,  \"camera_pose\", current_camera_pose)\n",
    "print(trace.get_score())\n",
    "b.viz_trace_meshcat(trace)\n",
    "b.show_pose(\"gt_pose\", gt_traces[T][\"camera_pose\"], size=0.05)"
   ]
  },
  {
   "cell_type": "code",
   "execution_count": null,
   "id": "1e4a79a9-37ba-4318-be4a-f8bbb6a60cf7",
   "metadata": {},
   "outputs": [],
   "source": [
    "current_camera_pose - gt_traces[T][\"camera_pose\"]"
   ]
  },
  {
   "cell_type": "code",
   "execution_count": null,
   "id": "fbff9a3a-e713-43fb-96b3-bb81954b1ef1",
   "metadata": {},
   "outputs": [],
   "source": [
    "b.get_depth_image(camera_pose_enumerator(gt_trace, key, camera_poses[10])[\"image\"][:,:,2])"
   ]
  },
  {
   "cell_type": "code",
   "execution_count": null,
   "id": "31f5af66-70c2-4dfb-af37-6eefbdbce590",
   "metadata": {},
   "outputs": [],
   "source": []
  },
  {
   "cell_type": "code",
   "execution_count": null,
   "id": "f74b34db-cb13-4b08-aa02-f42adbe86feb",
   "metadata": {},
   "outputs": [],
   "source": [
    "# import imageio\n",
    "# images = [imageio.imread(f'mug_results/{experiment_iteration:05d}.png') for experiment_iteration in tqdm(range(50))]\n",
    "# imageio.mimsave(\"mug_results.gif\", images, 'GIF', duration=1200)"
   ]
  },
  {
   "cell_type": "code",
   "execution_count": null,
   "id": "efd41133-abbc-4fc4-acec-9df8cd5999f7",
   "metadata": {},
   "outputs": [],
   "source": [
    "T = 1\n",
    "new_image = b.update_address(trace, \"camera_pose\", "
   ]
  },
  {
   "cell_type": "code",
   "execution_count": null,
   "id": "11ef6922-c8c8-47b3-b641-f9555cafda7c",
   "metadata": {},
   "outputs": [],
   "source": [
    "\n",
    "OBJECT_INDEX = 2\n",
    "print(f\"Searching for object index {OBJECT_INDEX} {b.utils.ycb_loader.MODEL_NAMES[OBJECT_INDEX]}\")"
   ]
  },
  {
   "cell_type": "code",
   "execution_count": null,
   "id": "c5881cf4-8620-422c-a6fe-4e725b34337d",
   "metadata": {},
   "outputs": [],
   "source": [
    "bounds = 1.5\n",
    "grid = b.utils.make_translation_grid_enumeration_3d(\n",
    "    -bounds, -bounds, -0.0,\n",
    "    bounds, bounds, 0.0,\n",
    "    50,50,1\n",
    ")"
   ]
  },
  {
   "cell_type": "code",
   "execution_count": null,
   "id": "abf6ca24-997e-410f-bcfb-bdbaef11d630",
   "metadata": {},
   "outputs": [],
   "source": []
  },
  {
   "cell_type": "code",
   "execution_count": null,
   "id": "0f9f67dc-9783-4d73-bd1f-3b02b11339d5",
   "metadata": {},
   "outputs": [],
   "source": [
    "_,trace = importance_jit(key, gt_trace.get_choices(), (jnp.arange(1), jnp.arange(22), *gt_trace.get_args()[2:]))\n",
    "\n",
    "path = []\n",
    "obj_id = OBJECT_INDEX\n",
    "trace_ = add_object_jit(trace, key, obj_id, 0, 2,3)\n",
    "number = b.get_contact_params(trace_).shape[0] - 1\n",
    "path.append(trace_)\n",
    "for c2f_iter in range(len(contact_param_gridding_schedule)):\n",
    "    trace_ = c2f_contact_update_jit(trace_, key, number,\n",
    "        contact_param_gridding_schedule[c2f_iter], V_GRID, O_GRID)\n",
    "    path.append(trace_)\n",
    "\n",
    "b.viz_trace_meshcat(trace_)"
   ]
  },
  {
   "cell_type": "code",
   "execution_count": null,
   "id": "5f9aee74-87b1-481b-9fda-2ef29e7ff47b",
   "metadata": {},
   "outputs": [],
   "source": [
    "b.viz_trace_meshcat(trace_)"
   ]
  },
  {
   "cell_type": "code",
   "execution_count": null,
   "id": "f3170ba3-d2af-4e10-b2e7-e535c50c0fb8",
   "metadata": {},
   "outputs": [],
   "source": [
    "all_all_paths = []\n",
    "for _ in range(3):\n",
    "    all_paths = []\n",
    "    for obj_id in tqdm(range(len(b.RENDERER.meshes)-1)):\n",
    "        path = []\n",
    "        trace_ = add_object_jit(trace, key, obj_id, 0, 2,3)\n",
    "        number = b.get_contact_params(trace_).shape[0] - 1\n",
    "        path.append(trace_)\n",
    "        for c2f_iter in range(len(contact_param_gridding_schedule)):\n",
    "            trace_ = c2f_contact_update_jit(trace_, key, number,\n",
    "                contact_param_gridding_schedule[c2f_iter], V_GRID, O_GRID)\n",
    "            path.append(trace_)\n",
    "        # for c2f_iter in range(len(contact_param_gridding_schedule)):\n",
    "        #     trace_ = c2f_contact_update_jit(trace_, key, number,\n",
    "        #         contact_param_gridding_schedule[c2f_iter], VARIANCE_GRID, OUTLIER_GRID)\n",
    "        all_paths.append(\n",
    "            path\n",
    "        )\n",
    "    all_all_paths.append(all_paths)\n",
    "    \n",
    "    scores = jnp.array([t[-1].get_score() for t in all_paths])\n",
    "    print(scores)\n",
    "    normalized_scores = b.utils.normalize_log_scores(scores)\n",
    "    trace = all_paths[jnp.argmax(scores)][-1]\n",
    "    b.viz_trace_meshcat(trace)"
   ]
  },
  {
   "cell_type": "code",
   "execution_count": null,
   "id": "0ba40b97-f402-4a00-bab4-369cadb3aa48",
   "metadata": {},
   "outputs": [],
   "source": [
    "print(b.get_indices(gt_trace))\n",
    "print(b.get_indices(trace))"
   ]
  },
  {
   "cell_type": "code",
   "execution_count": null,
   "id": "94c08be6-0143-4b91-914d-85702fa38525",
   "metadata": {},
   "outputs": [],
   "source": []
  }
 ],
 "metadata": {
  "kernelspec": {
   "display_name": "Python 3 (ipykernel)",
   "language": "python",
   "name": "python3"
  },
  "language_info": {
   "codemirror_mode": {
    "name": "ipython",
    "version": 3
   },
   "file_extension": ".py",
   "mimetype": "text/x-python",
   "name": "python",
   "nbconvert_exporter": "python",
   "pygments_lexer": "ipython3",
   "version": "3.9.18"
  }
 },
 "nbformat": 4,
 "nbformat_minor": 5
}
