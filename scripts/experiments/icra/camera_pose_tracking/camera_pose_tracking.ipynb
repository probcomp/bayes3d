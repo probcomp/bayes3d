{
 "cells": [
  {
   "cell_type": "code",
   "execution_count": 1,
   "id": "19225e38-aaf6-413e-a93d-f1dbb2ae787d",
   "metadata": {},
   "outputs": [],
   "source": [
    "import bayes3d as b\n",
    "import bayes3d.genjax\n",
    "import joblib\n",
    "from tqdm import tqdm\n",
    "import os\n",
    "import jax.numpy as jnp\n",
    "import jax\n",
    "import numpy as np\n",
    "import genjax\n",
    "import matplotlib.pyplot as plt"
   ]
  },
  {
   "cell_type": "code",
   "execution_count": 2,
   "id": "3cdc9a4d-959d-4d29-8aad-28b660283697",
   "metadata": {},
   "outputs": [
    {
     "name": "stdout",
     "output_type": "stream",
     "text": [
      "You can open the visualizer by visiting the following URL:\n",
      "http://127.0.0.1:7039/static/\n"
     ]
    }
   ],
   "source": [
    "b.setup_visualizer()"
   ]
  },
  {
   "cell_type": "code",
   "execution_count": 3,
   "id": "35510ba8-66b8-4335-aca8-b6583650f889",
   "metadata": {},
   "outputs": [
    {
     "name": "stderr",
     "output_type": "stream",
     "text": [
      "[E rasterize_gl.cpp:121] OpenGL version reported as 4.6\n"
     ]
    },
    {
     "name": "stdout",
     "output_type": "stream",
     "text": [
      "Increasing frame buffer size to (width, height, depth) = (128, 128, 1024)\n"
     ]
    }
   ],
   "source": [
    "intrinsics = b.Intrinsics(\n",
    "    height=100,\n",
    "    width=100,\n",
    "    fx=100.0, fy=100.0,\n",
    "    cx=50.0, cy=50.0,\n",
    "    near=0.01, far=20.0\n",
    ")\n",
    "\n",
    "b.setup_renderer(intrinsics)\n",
    "model_dir = os.path.join(b.utils.get_assets_dir(),\"bop/ycbv/models\")\n",
    "meshes = []\n",
    "for idx in range(1,22):\n",
    "    mesh_path = os.path.join(model_dir,\"obj_\" + \"{}\".format(idx).rjust(6, '0') + \".ply\")\n",
    "    b.RENDERER.add_mesh_from_file(mesh_path, scaling_factor=1.0/1000.0)\n",
    "\n",
    "b.RENDERER.add_mesh_from_file(os.path.join(b.utils.get_assets_dir(), \"sample_objs/cube.obj\"), scaling_factor=1.0/1000000000.0)\n"
   ]
  },
  {
   "cell_type": "code",
   "execution_count": 4,
   "id": "a81e8aae-bf1d-43bd-905f-2e7f0a9e2265",
   "metadata": {},
   "outputs": [],
   "source": [
    "\n",
    "importance_jit = jax.jit(b.model.importance)\n",
    "\n",
    "contact_enumerators = [b.make_enumerator([f\"contact_params_{i}\", \"variance\", \"outlier_prob\"]) for i in range(5)]\n",
    "add_object_jit = jax.jit(b.add_object)\n",
    "\n",
    "def c2f_contact_update(trace_, key,  number, contact_param_deltas, VARIANCE_GRID, OUTLIER_GRID):\n",
    "    contact_param_grid = contact_param_deltas + trace_[f\"contact_params_{number}\"]\n",
    "    scores = contact_enumerators[number][3](trace_, key, contact_param_grid, VARIANCE_GRID, OUTLIER_GRID)\n",
    "    i,j,k = jnp.unravel_index(scores.argmax(), scores.shape)\n",
    "    return contact_enumerators[number][0](\n",
    "        trace_, key,\n",
    "        contact_param_grid[i], VARIANCE_GRID[j], OUTLIER_GRID[k]\n",
    "    )\n",
    "c2f_contact_update_jit = jax.jit(c2f_contact_update, static_argnames=(\"number\",))"
   ]
  },
  {
   "cell_type": "code",
   "execution_count": 5,
   "id": "f1889814-d36e-4669-9991-36250112de14",
   "metadata": {},
   "outputs": [],
   "source": [
    "OUTLIER_VOLUME = 1.0\n",
    "VARIANCE_GRID = jnp.array([0.0001, 0.001, 0.01])\n",
    "OUTLIER_GRID = jnp.array([0.00001, 0.0001, 0.001])\n",
    "\n",
    "grid_params = [\n",
    "    (0.3, jnp.pi, (11,11,11)), (0.2, jnp.pi, (11,11,11)), (0.1, jnp.pi, (11,11,11)),\n",
    "    (0.05, jnp.pi/3, (11,11,11)), (0.02, jnp.pi, (5,5,51)), (0.01, jnp.pi/5, (11,11,11)), (0.01, 0.0, (21,21,1)),(0.05, 0.0, (21,21,1))\n",
    "]\n",
    "contact_param_gridding_schedule = [\n",
    "    b.utils.make_translation_grid_enumeration_3d(\n",
    "        -x, -x, -ang,\n",
    "        x, x, ang,\n",
    "        *nums\n",
    "    )\n",
    "    for (x,ang,nums) in grid_params\n",
    "]\n"
   ]
  },
  {
   "cell_type": "code",
   "execution_count": 6,
   "id": "053f2b8d-00dc-49ae-aa8b-98d4d7b69a42",
   "metadata": {},
   "outputs": [
    {
     "name": "stdout",
     "output_type": "stream",
     "text": [
      "[1.e-04 1.e-03 1.e-02] [1.e-05 1.e-04 1.e-03]\n"
     ]
    }
   ],
   "source": [
    "V_VARIANT = 0\n",
    "O_VARIANT = 0\n",
    "HIERARCHICAL_BAYES = True\n",
    "\n",
    "if HIERARCHICAL_BAYES:\n",
    "    V_GRID = VARIANCE_GRID\n",
    "    O_GRID = OUTLIER_GRID\n",
    "else:\n",
    "    V_GRID, O_GRID = jnp.array([VARIANCE_GRID[V_VARIANT]]), jnp.array([OUTLIER_GRID[O_VARIANT]])\n",
    "\n",
    "print(V_GRID, O_GRID)"
   ]
  },
  {
   "cell_type": "code",
   "execution_count": 7,
   "id": "2ef3b356-f589-41eb-a66b-a8c20fba6ab8",
   "metadata": {},
   "outputs": [],
   "source": [
    "key = jax.random.PRNGKey(502)"
   ]
  },
  {
   "cell_type": "code",
   "execution_count": 16,
   "id": "95f6b018-1fd2-46b1-bac5-3ada3a37c88f",
   "metadata": {},
   "outputs": [],
   "source": [
    "camera_pose = b.t3d.transform_from_pos_target_up(\n",
    "    jnp.array([0.0, 0.4, 0.32]),\n",
    "    jnp.array([0.0, 0.0, 0.0]),\n",
    "    jnp.array([0.0, 0.0, 1.0]),\n",
    ")\n",
    "\n",
    "camera_poses = jnp.array([\n",
    "    b.t3d.transform_from_axis_angle(jnp.array([0.0, 0.0, 1.0]), angle) @ camera_pose\n",
    "    for angle in jnp.linspace(-jnp.pi, jnp.pi, 120)[:-1]]\n",
    ")"
   ]
  },
  {
   "cell_type": "code",
   "execution_count": 17,
   "id": "2186dc95-b9a9-4847-b8e5-32699d967999",
   "metadata": {},
   "outputs": [],
   "source": [
    "for (i,p) in enumerate(camera_poses):\n",
    "    b.show_pose(f\"{i}\", p)"
   ]
  },
  {
   "cell_type": "code",
   "execution_count": 18,
   "id": "b1ce68b4-3846-4fa5-8de5-f1fc9a299828",
   "metadata": {},
   "outputs": [],
   "source": [
    "camera_pose_enumerators = b.make_enumerator([\"camera_pose\"])"
   ]
  },
  {
   "cell_type": "code",
   "execution_count": 19,
   "id": "ea6b6494-9226-403a-b9ee-8fc96cc7cd97",
   "metadata": {},
   "outputs": [],
   "source": [
    "split_key = jax.jit(lambda x: jax.random.split(x,1)[1])"
   ]
  },
  {
   "cell_type": "code",
   "execution_count": 143,
   "id": "1b28cd84-95a5-4088-ab5c-bdae551e15be",
   "metadata": {},
   "outputs": [],
   "source": [
    "w = 0.01\n",
    "translation_deltas = b.utils.make_translation_grid_enumeration(-w,-w,-w,w,w,w,11,11,11)\n",
    "get_rotation_deltas = jax.jit(jax.vmap(lambda key: b.distributions.gaussian_vmf_zero_mean(key, 0.01, 900.0)))"
   ]
  },
  {
   "cell_type": "code",
   "execution_count": 21,
   "id": "dfe6f5e2-f778-4ecf-8e7c-7b28d17dae54",
   "metadata": {},
   "outputs": [],
   "source": [
    "\n"
   ]
  },
  {
   "cell_type": "code",
   "execution_count": 28,
   "id": "755cace7-fdae-4fa8-8d38-db4adb16b23b",
   "metadata": {},
   "outputs": [],
   "source": [
    "key = jax.random.split(key, 1)[0]\n",
    "\n",
    "gt_traces = [importance_jit(key, genjax.choice_map({\n",
    "    \"parent_0\": -1,\n",
    "    \"parent_1\": 0,\n",
    "    \"parent_2\": 0,\n",
    "    \"parent_3\": 0,\n",
    "    \"id_0\": jnp.int32(21),\n",
    "    \"camera_pose\": p,\n",
    "    \"root_pose_0\": jnp.eye(4),\n",
    "    \"face_parent_1\": 2,\n",
    "    \"face_parent_2\": 2,\n",
    "    \"face_parent_3\": 2,\n",
    "    \"face_child_1\": 3,\n",
    "    \"face_child_2\": 3,\n",
    "    \"face_child_3\": 3,\n",
    "    \"variance\": 0.0000001,\n",
    "    \"outlier_prob\": 0.1,\n",
    "}), (\n",
    "    jnp.arange(4),\n",
    "    jnp.arange(22),\n",
    "    jnp.array([-jnp.ones(3)*100.0, jnp.ones(3)*100.0]),\n",
    "    jnp.array([jnp.array([-0.1, -0.1, -1*jnp.pi]), jnp.array([0.1, 0.1, 1*jnp.pi])]),\n",
    "    b.RENDERER.model_box_dims, OUTLIER_VOLUME, 1.0)\n",
    ")[1] for p in camera_poses]"
   ]
  },
  {
   "cell_type": "code",
   "execution_count": 29,
   "id": "b0f96275-3236-4dc4-97e5-a963190c1cc4",
   "metadata": {},
   "outputs": [],
   "source": [
    "poses,indices = b.get_poses(gt_traces[0]), b.get_indices(gt_traces[0])"
   ]
  },
  {
   "cell_type": "code",
   "execution_count": 144,
   "id": "ba2dfab3-386d-4dda-8126-208b33f76006",
   "metadata": {},
   "outputs": [],
   "source": [
    "def likelihoood(obs, render):\n",
    "    return -jnp.linalg.norm((obs[:,:,2] - render[:,:,2]) / jnp.abs(obs[:,:,2]))\n",
    "\n",
    "def render_at_camera_pose(camera_pose):\n",
    "    rendered = b.RENDERER.render(b.inverse_pose(camera_pose) @ poses, indices)[:,:,:3]\n",
    "    return rendered\n",
    "    \n",
    "def score_camera_pose_(camera_pose, obs):\n",
    "    rendered = render_at_camera_pose(camera_pose)\n",
    "    return likelihoood(obs, rendered)\n",
    "score_camera_pose = jax.jit(score_camera_pose_)\n",
    "score_camera_pose_parallel = jax.jit(jax.vmap(score_camera_pose, in_axes=(0,None)))"
   ]
  },
  {
   "cell_type": "code",
   "execution_count": 145,
   "id": "20d90b5d-8746-4b6c-aed2-1e060c623a1a",
   "metadata": {},
   "outputs": [],
   "source": [
    "def update_pose_estimate(current_pose_estimate, key, obs):\n",
    "    proposals = jnp.einsum(\"ij,ajk->aik\", current_pose_estimate, translation_deltas)\n",
    "    weights = score_camera_pose_parallel(proposals, obs)\n",
    "    bool = (weights.max() > score_camera_pose(current_pose_estimate, obs ))\n",
    "    current_pose_estimate = current_pose_estimate* (1.0 - bool) + bool * proposals[jnp.argmax(weights)]\n",
    "    \n",
    "    rotation_deltas = get_rotation_deltas(jax.random.split(key, 500))\n",
    "    proposals = jnp.einsum(\"ij,ajk->aik\", current_pose_estimate, rotation_deltas)\n",
    "    weights = score_camera_pose_parallel(proposals, obs)\n",
    "    bool = (weights.max() > score_camera_pose(current_pose_estimate, obs ))\n",
    "    current_pose_estimate = current_pose_estimate* (1.0 - bool) + bool * proposals[jnp.argmax(weights)]\n",
    "    return current_camera_pose\n",
    "update_pose_estimate_jit = jax.jit(update_pose_estimate)"
   ]
  },
  {
   "cell_type": "code",
   "execution_count": 166,
   "id": "2993d56f-2c50-417e-aab0-7f6ec1b12856",
   "metadata": {},
   "outputs": [
    {
     "data": {
      "image/jpeg": "[encoded data removed]",
      "image/png": "[encoded data removed]",
      "text/plain": [
       "<PIL.Image.Image image mode=RGB size=100x100>"
      ]
     },
     "execution_count": 166,
     "metadata": {},
     "output_type": "execute_result"
    }
   ],
   "source": [
    "gt_pose = camera_poses[0]\n",
    "obs = render_at_camera_pose(gt_pose)\n",
    "b.clear()\n",
    "b.show_pose(\"gt\", gt_pose)\n",
    "\n",
    "b.get_depth_image(obs[:,:,2])"
   ]
  },
  {
   "cell_type": "code",
   "execution_count": 167,
   "id": "39bd3424-83d4-4c45-b11e-e56f675a6cec",
   "metadata": {},
   "outputs": [
    {
     "name": "stdout",
     "output_type": "stream",
     "text": [
      "-457.7468\n",
      "-2.2392489e-05\n"
     ]
    }
   ],
   "source": [
    "current_pose_estimate = camera_poses[1]\n",
    "print(score_camera_pose(current_pose_estimate, obs ))\n",
    "print(score_camera_pose(camera_poses[0], obs))\n",
    "b.show_pose(\"pred\", current_pose_estimate,size=0.07)"
   ]
  },
  {
   "cell_type": "code",
   "execution_count": null,
   "id": "6be38e8b-f481-4923-a2c1-5bb41c609f95",
   "metadata": {},
   "outputs": [],
   "source": []
  },
  {
   "cell_type": "code",
   "execution_count": 176,
   "id": "ea08ede3-3f4d-4b57-9c58-5838a44915f4",
   "metadata": {},
   "outputs": [
    {
     "data": {
      "text/plain": [
       "Array(-329.26193, dtype=float32)"
      ]
     },
     "execution_count": 176,
     "metadata": {},
     "output_type": "execute_result"
    }
   ],
   "source": [
    "current_pose_estimate = update_pose_estimate_jit(current_pose_estimate, key, obs)\n",
    "b.show_pose(\"pred\", current_pose_estimate,size=0.07)\n",
    "score_camera_pose(current_pose_estimate, obs)"
   ]
  },
  {
   "cell_type": "code",
   "execution_count": null,
   "id": "d173bd2c-acf6-4100-b80f-c4cb1e0cc8cd",
   "metadata": {},
   "outputs": [],
   "source": []
  },
  {
   "cell_type": "code",
   "execution_count": 170,
   "id": "d4629fa9-7744-431a-a479-c285da793207",
   "metadata": {
    "scrolled": true
   },
   "outputs": [
    {
     "ename": "ValueError",
     "evalue": "Number of einsum subscripts must be equal to the number of operands.",
     "output_type": "error",
     "traceback": [
      "\u001b[0;31m---------------------------------------------------------------------------\u001b[0m",
      "\u001b[0;31mValueError\u001b[0m                                Traceback (most recent call last)",
      "Cell \u001b[0;32mIn[170], line 1\u001b[0m\n\u001b[0;32m----> 1\u001b[0m proposals \u001b[38;5;241m=\u001b[39m \u001b[43mjnp\u001b[49m\u001b[38;5;241;43m.\u001b[39;49m\u001b[43meinsum\u001b[49m\u001b[43m(\u001b[49m\u001b[38;5;124;43m\"\u001b[39;49m\u001b[38;5;124;43mij,ajk->aik\u001b[39;49m\u001b[38;5;124;43m\"\u001b[39;49m\u001b[43m,\u001b[49m\u001b[43m \u001b[49m\u001b[43mcurrent_pose_estimate\u001b[49m\u001b[43m)\u001b[49m\n\u001b[1;32m      2\u001b[0m weights \u001b[38;5;241m=\u001b[39m score_camera_pose_parallel(proposals, obs)\n\u001b[1;32m      3\u001b[0m \u001b[38;5;28mbool\u001b[39m \u001b[38;5;241m=\u001b[39m (weights\u001b[38;5;241m.\u001b[39mmax() \u001b[38;5;241m>\u001b[39m score_camera_pose(current_pose_estimate, obs ))\n",
      "File \u001b[0;32m/opt/conda/envs/bayes3d/lib/python3.9/site-packages/jax/_src/numpy/lax_numpy.py:3250\u001b[0m, in \u001b[0;36meinsum\u001b[0;34m(subscripts, out, optimize, precision, preferred_element_type, _use_xeinsum, _dot_general, *operands)\u001b[0m\n\u001b[1;32m   3248\u001b[0m   ty \u001b[38;5;241m=\u001b[39m \u001b[38;5;28mnext\u001b[39m(\u001b[38;5;28miter\u001b[39m(non_constant_dim_types))\n\u001b[1;32m   3249\u001b[0m   contract_path \u001b[38;5;241m=\u001b[39m _poly_einsum_handlers\u001b[38;5;241m.\u001b[39mget(ty, _default_poly_einsum_handler)\n\u001b[0;32m-> 3250\u001b[0m operands, contractions \u001b[38;5;241m=\u001b[39m \u001b[43mcontract_path\u001b[49m\u001b[43m(\u001b[49m\n\u001b[1;32m   3251\u001b[0m \u001b[43m      \u001b[49m\u001b[38;5;241;43m*\u001b[39;49m\u001b[43moperands\u001b[49m\u001b[43m,\u001b[49m\u001b[43m \u001b[49m\u001b[43meinsum_call\u001b[49m\u001b[38;5;241;43m=\u001b[39;49m\u001b[38;5;28;43;01mTrue\u001b[39;49;00m\u001b[43m,\u001b[49m\u001b[43m \u001b[49m\u001b[43muse_blas\u001b[49m\u001b[38;5;241;43m=\u001b[39;49m\u001b[38;5;28;43;01mTrue\u001b[39;49;00m\u001b[43m,\u001b[49m\u001b[43m \u001b[49m\u001b[43moptimize\u001b[49m\u001b[38;5;241;43m=\u001b[39;49m\u001b[43moptimize\u001b[49m\u001b[43m)\u001b[49m\n\u001b[1;32m   3253\u001b[0m contractions \u001b[38;5;241m=\u001b[39m \u001b[38;5;28mtuple\u001b[39m((a, \u001b[38;5;28mfrozenset\u001b[39m(b), c) \u001b[38;5;28;01mfor\u001b[39;00m a, b, c, \u001b[38;5;241m*\u001b[39m_ \u001b[38;5;129;01min\u001b[39;00m contractions)\n\u001b[1;32m   3255\u001b[0m _einsum_computation \u001b[38;5;241m=\u001b[39m jax\u001b[38;5;241m.\u001b[39mnamed_call(\n\u001b[1;32m   3256\u001b[0m     _einsum, name\u001b[38;5;241m=\u001b[39mspec) \u001b[38;5;28;01mif\u001b[39;00m spec \u001b[38;5;129;01mis\u001b[39;00m \u001b[38;5;129;01mnot\u001b[39;00m \u001b[38;5;28;01mNone\u001b[39;00m \u001b[38;5;28;01melse\u001b[39;00m _einsum\n",
      "File \u001b[0;32m/opt/conda/envs/bayes3d/lib/python3.9/site-packages/opt_einsum/contract.py:210\u001b[0m, in \u001b[0;36mcontract_path\u001b[0;34m(*operands, **kwargs)\u001b[0m\n\u001b[1;32m    207\u001b[0m use_blas \u001b[38;5;241m=\u001b[39m kwargs\u001b[38;5;241m.\u001b[39mpop(\u001b[38;5;124m'\u001b[39m\u001b[38;5;124muse_blas\u001b[39m\u001b[38;5;124m'\u001b[39m, \u001b[38;5;28;01mTrue\u001b[39;00m)\n\u001b[1;32m    209\u001b[0m \u001b[38;5;66;03m# Python side parsing\u001b[39;00m\n\u001b[0;32m--> 210\u001b[0m input_subscripts, output_subscript, operands \u001b[38;5;241m=\u001b[39m \u001b[43mparser\u001b[49m\u001b[38;5;241;43m.\u001b[39;49m\u001b[43mparse_einsum_input\u001b[49m\u001b[43m(\u001b[49m\u001b[43moperands\u001b[49m\u001b[43m)\u001b[49m\n\u001b[1;32m    212\u001b[0m \u001b[38;5;66;03m# Build a few useful list and sets\u001b[39;00m\n\u001b[1;32m    213\u001b[0m input_list \u001b[38;5;241m=\u001b[39m input_subscripts\u001b[38;5;241m.\u001b[39msplit(\u001b[38;5;124m'\u001b[39m\u001b[38;5;124m,\u001b[39m\u001b[38;5;124m'\u001b[39m)\n",
      "File \u001b[0;32m/opt/conda/envs/bayes3d/lib/python3.9/site-packages/opt_einsum/parser.py:354\u001b[0m, in \u001b[0;36mparse_einsum_input\u001b[0;34m(operands)\u001b[0m\n\u001b[1;32m    352\u001b[0m \u001b[38;5;66;03m# Make sure number operands is equivalent to the number of terms\u001b[39;00m\n\u001b[1;32m    353\u001b[0m \u001b[38;5;28;01mif\u001b[39;00m \u001b[38;5;28mlen\u001b[39m(input_subscripts\u001b[38;5;241m.\u001b[39msplit(\u001b[38;5;124m'\u001b[39m\u001b[38;5;124m,\u001b[39m\u001b[38;5;124m'\u001b[39m)) \u001b[38;5;241m!=\u001b[39m \u001b[38;5;28mlen\u001b[39m(operands):\n\u001b[0;32m--> 354\u001b[0m     \u001b[38;5;28;01mraise\u001b[39;00m \u001b[38;5;167;01mValueError\u001b[39;00m(\u001b[38;5;124m\"\u001b[39m\u001b[38;5;124mNumber of einsum subscripts must be equal to the \u001b[39m\u001b[38;5;124m\"\u001b[39m \u001b[38;5;124m\"\u001b[39m\u001b[38;5;124mnumber of operands.\u001b[39m\u001b[38;5;124m\"\u001b[39m)\n\u001b[1;32m    356\u001b[0m \u001b[38;5;28;01mreturn\u001b[39;00m input_subscripts, output_subscript, operands\n",
      "\u001b[0;31mValueError\u001b[0m: Number of einsum subscripts must be equal to the number of operands."
     ]
    }
   ],
   "source": [
    "proposals = jnp.einsum(\"ij,ajk->aik\", current_pose_estimate)\n",
    "weights = score_camera_pose_parallel(proposals, obs)\n",
    "bool = (weights.max() > score_camera_pose(current_pose_estimate, obs ))\n",
    "current_camera_pose = current_pose_estimate* (1.0 - bool) + bool * proposals[jnp.argmax(weights)]\n",
    "print(current_pose_estimate)\n",
    "print(weights.max())\n",
    "score_camera_pose(current_pose_estimate, obs)"
   ]
  },
  {
   "cell_type": "code",
   "execution_count": 116,
   "id": "8917a1a8-38f4-49eb-b682-f0c389ae3ad5",
   "metadata": {},
   "outputs": [
    {
     "data": {
      "text/plain": [
       "Array(-329.26193, dtype=float32)"
      ]
     },
     "execution_count": 116,
     "metadata": {},
     "output_type": "execute_result"
    }
   ],
   "source": [
    "weights[jnp.argmax(weights)]"
   ]
  },
  {
   "cell_type": "code",
   "execution_count": null,
   "id": "ec107794-02e6-4238-a818-1afba16d8632",
   "metadata": {},
   "outputs": [],
   "source": []
  },
  {
   "cell_type": "code",
   "execution_count": 108,
   "id": "b29106ca-896a-407d-8904-ec0ce0d46fcc",
   "metadata": {},
   "outputs": [
    {
     "data": {
      "text/plain": [
       "Array([[ 0.        ,  0.        ,  0.        , -0.00165104],\n",
       "       [ 0.        ,  0.        ,  0.        , -0.00665569],\n",
       "       [ 0.        ,  0.        ,  0.        ,  0.00780869],\n",
       "       [ 0.        ,  0.        ,  0.        ,  0.        ]],      dtype=float32)"
      ]
     },
     "execution_count": 108,
     "metadata": {},
     "output_type": "execute_result"
    }
   ],
   "source": [
    "current_pose_estimate - proposals[jnp.argmax(weights)]"
   ]
  },
  {
   "cell_type": "code",
   "execution_count": 106,
   "id": "900496be-72e9-4da9-aa20-d2fb7ad6791a",
   "metadata": {},
   "outputs": [
    {
     "data": {
      "text/plain": [
       "Array([[ 0.99860644,  0.03296834, -0.04121042,  0.02276108],\n",
       "       [ 0.05277509, -0.62382454,  0.7797806 , -0.3927869 ],\n",
       "       [ 0.        , -0.7808688 , -0.62469506,  0.3121913 ],\n",
       "       [ 0.        ,  0.        ,  0.        ,  1.        ]],      dtype=float32)"
      ]
     },
     "execution_count": 106,
     "metadata": {},
     "output_type": "execute_result"
    }
   ],
   "source": []
  },
  {
   "cell_type": "code",
   "execution_count": 104,
   "id": "2eeda8fc-f21c-4ae2-ad8e-7b1ddfaaaee4",
   "metadata": {},
   "outputs": [
    {
     "data": {
      "text/plain": [
       "Array(-457.7468, dtype=float32)"
      ]
     },
     "execution_count": 104,
     "metadata": {},
     "output_type": "execute_result"
    }
   ],
   "source": [
    "score_camera_pose(current_pose_estimate, obs)"
   ]
  },
  {
   "cell_type": "code",
   "execution_count": 105,
   "id": "0230f5d0-05f2-4f00-8ae4-48c27f97edf1",
   "metadata": {},
   "outputs": [
    {
     "data": {
      "text/plain": [
       "Array(True, dtype=bool)"
      ]
     },
     "execution_count": 105,
     "metadata": {},
     "output_type": "execute_result"
    }
   ],
   "source": [
    "bool"
   ]
  },
  {
   "cell_type": "code",
   "execution_count": 176,
   "id": "97f74ab7-4f48-4996-908b-39257ffb4c2e",
   "metadata": {},
   "outputs": [],
   "source": [
    "viz_images = [b.get_depth_image(i[\"image\"][:,:,2]) for i in gt_traces]\n",
    "b.make_gif_from_pil_images(viz_images,\"sweep.gif\")"
   ]
  },
  {
   "cell_type": "code",
   "execution_count": 177,
   "id": "2c1a1835-7dac-43d3-b5e4-d9ce3c501418",
   "metadata": {},
   "outputs": [],
   "source": [
    "current_camera_pose = camera_poses[0]"
   ]
  },
  {
   "cell_type": "code",
   "execution_count": 178,
   "id": "59d71811-c51e-4b4f-9612-cea91542ebe3",
   "metadata": {},
   "outputs": [
    {
     "name": "stdout",
     "output_type": "stream",
     "text": [
      "120971.016\n",
      "109253.92\n"
     ]
    }
   ],
   "source": [
    "T = 2\n",
    "gt_pose = gt_traces[T][\"camera_pose\"]\n",
    "trace = b.update_address(gt_traces[T], key,  \"camera_pose\", current_camera_pose)\n",
    "print(gt_traces[T].get_score())\n",
    "print(trace.get_score())\n",
    "b.viz_trace_meshcat(trace)\n",
    "b.show_pose(\"gt_pose\", gt_traces[T][\"camera_pose\"], size=0.05)"
   ]
  },
  {
   "cell_type": "code",
   "execution_count": 181,
   "id": "2ba4da8c-eb3f-4633-bdbf-7f24b04bf693",
   "metadata": {},
   "outputs": [
    {
     "name": "stdout",
     "output_type": "stream",
     "text": [
      "[3277546461 3812860376]\n",
      "111913.984\n",
      "[  33932835 2914801522]\n",
      "111913.984\n",
      "[ 548018612 1127698728]\n",
      "111913.984\n",
      "[1437980180 2645740359]\n",
      "111913.984\n",
      "[ 764809075 3986743216]\n",
      "111913.984\n",
      "[  54140826 1186706748]\n",
      "111913.984\n",
      "[415974250  10195733]\n",
      "111913.984\n",
      "[4014727481 3720633869]\n",
      "111913.984\n",
      "[3983860087 3240664437]\n",
      "111913.984\n",
      "[ 241774200 1806574253]\n",
      "111913.984\n",
      "[4279912571 3740146690]\n",
      "111913.984\n",
      "[1878346927 4092507299]\n",
      "111913.984\n",
      "[4191454266  187572861]\n",
      "111913.984\n",
      "[2022690867 3010958762]\n",
      "111913.984\n",
      "[1918750008 3579968873]\n",
      "111913.984\n",
      "[ 992438118 3972724115]\n",
      "111913.984\n",
      "[ 823931922 1527363331]\n",
      "111913.984\n",
      "[4110536829 4259108814]\n",
      "111913.984\n",
      "[2802317672  529957135]\n",
      "111913.984\n",
      "[2198498820  553402539]\n",
      "111913.984\n",
      "[3891380871 3112236332]\n",
      "111913.984\n",
      "[2928861623  227042216]\n",
      "111913.984\n",
      "[4254083499  564061459]\n",
      "111913.984\n",
      "[2890239259  797507473]\n",
      "111913.984\n",
      "[3836684231 1197894066]\n",
      "111913.984\n",
      "[ 598063123 1193286446]\n",
      "111913.984\n",
      "[3731370251 2815252103]\n",
      "111913.984\n",
      "[1220581947 2235692087]\n",
      "111913.984\n",
      "[3054874775 1832640987]\n",
      "111913.984\n",
      "[3058363126 2704670765]\n",
      "111913.984\n",
      "[3686916020 3984579814]\n",
      "111913.984\n",
      "[4201635519 3609980779]\n",
      "111913.984\n",
      "[1714933433 3854185885]\n",
      "111913.984\n",
      "[1798859850 1587358869]\n",
      "111913.984\n",
      "[2365667494 3319858287]\n",
      "111913.984\n",
      "[2084741200 2090201704]\n",
      "111913.984\n",
      "[3800375855 4293467385]\n",
      "111913.984\n",
      "[ 373632664 1748251096]\n",
      "111913.984\n",
      "[1197185924 4252151036]\n",
      "111913.984\n",
      "[2695703772  826737737]\n",
      "111913.984\n",
      "[3473412848   40725682]\n",
      "111913.984\n",
      "[2658236315   21964758]\n",
      "111913.984\n",
      "[1698599707 3520510919]\n",
      "111913.984\n",
      "[3361277400   67050755]\n",
      "111913.984\n",
      "[3075055610  622143779]\n",
      "111913.984\n",
      "[1058580937  979522415]\n",
      "111913.984\n",
      "[738729885 153894641]\n",
      "111913.984\n",
      "[3268305611 2030396298]\n",
      "111913.984\n",
      "[2255336201  360107026]\n",
      "111913.984\n",
      "[751432798  19263581]\n",
      "111913.984\n",
      "[2647440422  572486123]\n",
      "111913.984\n",
      "[1858603777 1400949521]\n",
      "111913.984\n",
      "[ 793781997 3522042757]\n",
      "111913.984\n",
      "[3986320073  912003336]\n",
      "111913.984\n",
      "[1765421286 3642513895]\n",
      "111913.984\n",
      "[1100836411 1925058946]\n",
      "111913.984\n",
      "[4082001087  341562807]\n",
      "111913.984\n",
      "[ 588396355 2502501870]\n",
      "111913.984\n",
      "[1667117727 1084797984]\n",
      "111913.984\n",
      "[2201232646 1540624393]\n",
      "111913.984\n",
      "[ 188888829 1554053532]\n",
      "111913.984\n",
      "[3335532660 1695759377]\n",
      "111913.984\n",
      "[2483725972 1442709398]\n",
      "111913.984\n",
      "[2050589340 3467397235]\n",
      "111913.984\n",
      "[2425885812 1118537190]\n",
      "111913.984\n",
      "[447731854 557606257]\n",
      "111913.984\n",
      "[4011483281 2357299320]\n",
      "111913.984\n",
      "[2005696130 2117286688]\n",
      "111913.984\n",
      "[2738776734 1314502681]\n",
      "111913.984\n",
      "[ 524031357 1538579422]\n",
      "111913.984\n",
      "[3200202051  362210031]\n",
      "111913.984\n",
      "[3370301239  738755833]\n",
      "111913.984\n",
      "[1918355520  866368797]\n",
      "111913.984\n",
      "[ 799903745 3345700616]\n",
      "111913.984\n",
      "[3939721385 3442700884]\n",
      "111913.984\n",
      "[2259425991  263273692]\n",
      "111913.984\n",
      "[3988077228 2099527755]\n",
      "111913.984\n",
      "[1897048959 1628111392]\n",
      "111913.984\n",
      "[2573029856 2091851797]\n",
      "111913.984\n",
      "[1172767441 4001789622]\n",
      "111913.984\n",
      "[ 59228513 156703896]\n",
      "111913.984\n",
      "[4272474563  595377713]\n",
      "111913.984\n",
      "[2614265555 3529756616]\n",
      "111913.984\n",
      "[ 890454779 1835720942]\n",
      "111913.984\n",
      "[1650507076 4026094931]\n",
      "111913.984\n",
      "[1810452453  106348191]\n",
      "111913.984\n",
      "[3154341968 3456899187]\n",
      "111913.984\n",
      "[4001330835 3599365787]\n",
      "111913.984\n",
      "[2221743001 1833011565]\n",
      "111913.984\n",
      "[2830877630 1628332799]\n",
      "111913.984\n",
      "[3745983129 1590090623]\n",
      "111913.984\n",
      "[4124533804 3255843973]\n",
      "111913.984\n",
      "[ 807789637 1201256915]\n",
      "111913.984\n",
      "[3447653439 2408735984]\n",
      "111913.984\n",
      "[3709715703 4175773009]\n",
      "111913.984\n",
      "[2667800332  762008767]\n",
      "111913.984\n",
      "[  16152698 2459949583]\n",
      "111913.984\n",
      "[3396923770 3865681600]\n",
      "111913.984\n",
      "[3381232397 3887994396]\n",
      "111913.984\n",
      "[1911483084 4283071786]\n",
      "111913.984\n",
      "111913.984\n"
     ]
    }
   ],
   "source": [
    "for _ in range(100):\n",
    "    key = split_key(key)\n",
    "    print(key)\n",
    "    print(trace.get_score())\n",
    "    trace = update_pose_estimate_jit(trace,key)\n",
    "    b.show_pose(\"gt_pose\", gt_traces[T][\"camera_pose\"], size=0.05)\n",
    "    b.show_pose(\"estimated_pose\", trace[\"camera_pose\"], size=0.07)\n",
    "print(trace.get_score())\n"
   ]
  },
  {
   "cell_type": "code",
   "execution_count": 102,
   "id": "48ba1a44-7d27-4f8d-9d4d-1f8933de9352",
   "metadata": {},
   "outputs": [],
   "source": [
    "proposals = jnp.einsum(\"ij,ajk->aik\", trace[\"camera_pose\"], translation_deltas)\n",
    "weights = camera_pose_enumerators[3](trace, key, proposals)\n",
    "bool = (weights.max() > trace.get_score())\n",
    "current_camera_pose = trace[\"camera_pose\"] * (1.0 - bool) + bool * proposals[jnp.argmax(weights)]\n",
    "trace = b.update_address(trace, key,  \"camera_pose\", current_camera_pose)"
   ]
  },
  {
   "cell_type": "code",
   "execution_count": null,
   "id": "2ce5cb5b-e90e-4a42-8464-2e1563ea6f1a",
   "metadata": {},
   "outputs": [],
   "source": []
  },
  {
   "cell_type": "code",
   "execution_count": 223,
   "id": "c7f9fe61-bdfd-46c5-977d-0faed41f95a9",
   "metadata": {},
   "outputs": [
    {
     "data": {
      "text/plain": [
       "Array(-8194.48, dtype=float32)"
      ]
     },
     "execution_count": 223,
     "metadata": {},
     "output_type": "execute_result"
    }
   ],
   "source": [
    "weights.max()"
   ]
  },
  {
   "cell_type": "code",
   "execution_count": 220,
   "id": "621d3e4b-2bc8-43b9-a2e9-154a20d8be11",
   "metadata": {},
   "outputs": [],
   "source": [
    "for (i,p) in enumerate(proposals):\n",
    "    b.show_pose(f\"{i}\", p)"
   ]
  },
  {
   "cell_type": "code",
   "execution_count": 221,
   "id": "999bf031-0903-4c82-af0a-920467844767",
   "metadata": {},
   "outputs": [],
   "source": [
    "b.clear()"
   ]
  },
  {
   "cell_type": "code",
   "execution_count": 253,
   "id": "b2b4303b-4887-4cd5-b477-0e6bbf243fab",
   "metadata": {},
   "outputs": [
    {
     "name": "stdout",
     "output_type": "stream",
     "text": [
      "-19044.816\n",
      "-19019.75\n",
      "-19019.75\n",
      "-19019.75\n",
      "-19019.75\n",
      "-19019.75\n",
      "-19019.75\n",
      "-19019.75\n",
      "-19019.75\n",
      "-19019.75\n",
      "-19019.75\n",
      "-19019.75\n",
      "-19019.75\n",
      "-19019.75\n",
      "-19019.75\n",
      "-19019.75\n",
      "-19019.75\n",
      "-19019.75\n",
      "-19019.75\n",
      "-19019.75\n",
      "-19019.75\n",
      "-19019.75\n",
      "-19019.75\n",
      "-19019.75\n",
      "-19019.75\n",
      "-19019.75\n",
      "-19019.75\n",
      "-19019.75\n",
      "-19019.75\n",
      "-19019.75\n",
      "-19019.75\n",
      "-19019.75\n",
      "-19019.75\n",
      "-19019.75\n",
      "-19019.75\n",
      "-19019.75\n",
      "-19019.75\n",
      "-19019.75\n",
      "-19019.75\n",
      "-19019.75\n",
      "-19019.75\n",
      "-19019.75\n",
      "-19019.75\n",
      "-19019.75\n",
      "-19019.75\n",
      "-19019.75\n",
      "-19019.75\n",
      "-19019.75\n",
      "-19019.75\n",
      "-19019.75\n",
      "-19019.75\n"
     ]
    }
   ],
   "source": []
  },
  {
   "cell_type": "code",
   "execution_count": 103,
   "id": "cee19ba8-2cdd-44a3-ac41-39a26a88707b",
   "metadata": {},
   "outputs": [
    {
     "name": "stdout",
     "output_type": "stream",
     "text": [
      "-47257.945\n"
     ]
    }
   ],
   "source": [
    "current_camera_pose = trace[\"camera_pose\"] @ b.transform_from_pos(jnp.array([0.05, 0.0, 0.0]))\n",
    "trace = b.update_address(trace, key,  \"camera_pose\", current_camera_pose)\n",
    "print(trace.get_score())"
   ]
  },
  {
   "cell_type": "code",
   "execution_count": 125,
   "id": "cf737d00-baf5-400f-b48a-81398d64466b",
   "metadata": {},
   "outputs": [],
   "source": []
  },
  {
   "cell_type": "code",
   "execution_count": null,
   "id": "e3db5e72-0d34-4a82-9104-2aac8888cde5",
   "metadata": {},
   "outputs": [],
   "source": []
  },
  {
   "cell_type": "code",
   "execution_count": 86,
   "id": "ac8b9255-c9c4-464b-b956-cf40b59fe80a",
   "metadata": {},
   "outputs": [
    {
     "data": {
      "text/plain": [
       "Array([[ 9.9657857e-01, -7.0071176e-02,  4.3821458e-02, -1.0093506e-01],\n",
       "       [ 6.9971003e-02,  9.9754184e-01,  3.8154454e-03, -1.5127361e-03],\n",
       "       [-4.3981113e-02, -7.3627965e-04,  9.9903208e-01, -6.2564313e-03],\n",
       "       [ 0.0000000e+00,  0.0000000e+00,  0.0000000e+00,  1.0000000e+00]],      dtype=float32)"
      ]
     },
     "execution_count": 86,
     "metadata": {},
     "output_type": "execute_result"
    }
   ],
   "source": [
    "gt_traces[T][\"camera_pose\"] @ b.inverse_pose(trace[\"camera_pose\"])"
   ]
  },
  {
   "cell_type": "code",
   "execution_count": null,
   "id": "8a14a5a3-7473-49f4-bf86-51968648c6e2",
   "metadata": {},
   "outputs": [],
   "source": []
  },
  {
   "cell_type": "code",
   "execution_count": 34,
   "id": "479a4f94-29d0-4813-9892-5468f55ea0e2",
   "metadata": {},
   "outputs": [
    {
     "name": "stdout",
     "output_type": "stream",
     "text": [
      "(500,)\n",
      "-11775.629\n"
     ]
    }
   ],
   "source": [
    "proposals = jnp.einsum(\"ij,ajk->aik\", trace[\"camera_pose\"], rotation_deltas)\n",
    "weights = camera_pose_enumerators[3](trace, key, proposals)\n",
    "print(weights.shape)\n",
    "current_camera_pose = proposals[jnp.argmax(weights)]\n",
    "trace = b.update_address(trace, key,  \"camera_pose\", current_camera_pose)\n",
    "print(trace.get_score())\n",
    "b.viz_trace_meshcat(trace)\n",
    "b.show_pose(\"gt_pose\", gt_traces[T][\"camera_pose\"], size=0.05)"
   ]
  },
  {
   "cell_type": "code",
   "execution_count": 23,
   "id": "1e4a79a9-37ba-4318-be4a-f8bbb6a60cf7",
   "metadata": {},
   "outputs": [
    {
     "data": {
      "text/plain": [
       "Array([[ 0.00233889,  0.00313512,  0.0745003 , -0.03639003],\n",
       "       [-0.05618222, -0.00209159,  0.00285894, -0.01466182],\n",
       "       [ 0.0489638 ,  0.00190574, -0.00046027,  0.01042596],\n",
       "       [ 0.        ,  0.        ,  0.        ,  0.        ]],      dtype=float32)"
      ]
     },
     "execution_count": 23,
     "metadata": {},
     "output_type": "execute_result"
    }
   ],
   "source": [
    "current_camera_pose - gt_traces[T][\"camera_pose\"]"
   ]
  },
  {
   "cell_type": "code",
   "execution_count": 49,
   "id": "fbff9a3a-e713-43fb-96b3-bb81954b1ef1",
   "metadata": {},
   "outputs": [
    {
     "data": {
      "image/jpeg": "[encoded data removed]",
      "image/png": "[encoded data removed]",
      "text/plain": [
       "<PIL.Image.Image image mode=RGB size=100x100>"
      ]
     },
     "execution_count": 49,
     "metadata": {},
     "output_type": "execute_result"
    }
   ],
   "source": [
    "b.get_depth_image(camera_pose_enumerator(gt_trace, key, camera_poses[10])[\"image\"][:,:,2])"
   ]
  },
  {
   "cell_type": "code",
   "execution_count": null,
   "id": "31f5af66-70c2-4dfb-af37-6eefbdbce590",
   "metadata": {},
   "outputs": [],
   "source": []
  },
  {
   "cell_type": "code",
   "execution_count": null,
   "id": "f74b34db-cb13-4b08-aa02-f42adbe86feb",
   "metadata": {},
   "outputs": [],
   "source": [
    "# import imageio\n",
    "# images = [imageio.imread(f'mug_results/{experiment_iteration:05d}.png') for experiment_iteration in tqdm(range(50))]\n",
    "# imageio.mimsave(\"mug_results.gif\", images, 'GIF', duration=1200)"
   ]
  },
  {
   "cell_type": "code",
   "execution_count": 31,
   "id": "efd41133-abbc-4fc4-acec-9df8cd5999f7",
   "metadata": {},
   "outputs": [],
   "source": [
    "T = 1\n",
    "new_image = b.update_address(trace, \"camera_pose\", "
   ]
  },
  {
   "cell_type": "code",
   "execution_count": 11,
   "id": "11ef6922-c8c8-47b3-b641-f9555cafda7c",
   "metadata": {},
   "outputs": [
    {
     "name": "stdout",
     "output_type": "stream",
     "text": [
      "Searching for object index 2 004_sugar_box\n"
     ]
    }
   ],
   "source": [
    "\n",
    "OBJECT_INDEX = 2\n",
    "print(f\"Searching for object index {OBJECT_INDEX} {b.utils.ycb_loader.MODEL_NAMES[OBJECT_INDEX]}\")"
   ]
  },
  {
   "cell_type": "code",
   "execution_count": null,
   "id": "c5881cf4-8620-422c-a6fe-4e725b34337d",
   "metadata": {},
   "outputs": [],
   "source": [
    "bounds = 1.5\n",
    "grid = b.utils.make_translation_grid_enumeration_3d(\n",
    "    -bounds, -bounds, -0.0,\n",
    "    bounds, bounds, 0.0,\n",
    "    50,50,1\n",
    ")"
   ]
  },
  {
   "cell_type": "code",
   "execution_count": 57,
   "id": "abf6ca24-997e-410f-bcfb-bdbaef11d630",
   "metadata": {},
   "outputs": [
    {
     "name": "stdout",
     "output_type": "stream",
     "text": [
      "[21 16 14  0]\n",
      "Searching for object index 0 002_master_chef_can\n"
     ]
    }
   ],
   "source": []
  },
  {
   "cell_type": "code",
   "execution_count": 58,
   "id": "0f9f67dc-9783-4d73-bd1f-3b02b11339d5",
   "metadata": {},
   "outputs": [],
   "source": [
    "_,trace = importance_jit(key, gt_trace.get_choices(), (jnp.arange(1), jnp.arange(22), *gt_trace.get_args()[2:]))\n",
    "\n",
    "path = []\n",
    "obj_id = OBJECT_INDEX\n",
    "trace_ = add_object_jit(trace, key, obj_id, 0, 2,3)\n",
    "number = b.get_contact_params(trace_).shape[0] - 1\n",
    "path.append(trace_)\n",
    "for c2f_iter in range(len(contact_param_gridding_schedule)):\n",
    "    trace_ = c2f_contact_update_jit(trace_, key, number,\n",
    "        contact_param_gridding_schedule[c2f_iter], V_GRID, O_GRID)\n",
    "    path.append(trace_)\n",
    "\n",
    "b.viz_trace_meshcat(trace_)"
   ]
  },
  {
   "cell_type": "code",
   "execution_count": 30,
   "id": "5f9aee74-87b1-481b-9fda-2ef29e7ff47b",
   "metadata": {},
   "outputs": [],
   "source": [
    "b.viz_trace_meshcat(trace_)"
   ]
  },
  {
   "cell_type": "code",
   "execution_count": 29,
   "id": "f3170ba3-d2af-4e10-b2e7-e535c50c0fb8",
   "metadata": {},
   "outputs": [
    {
     "name": "stderr",
     "output_type": "stream",
     "text": [
      "100%|█████████████████████████████████████████████████████████████████████████████████████████████████████████████████████████████████████████████████████████████████████████████████████████| 21/21 [00:12<00:00,  1.71it/s]\n"
     ]
    },
    {
     "name": "stdout",
     "output_type": "stream",
     "text": [
      "[ 2548.6626 14774.171   7377.7397 -3475.9414  5269.176  -7196.0664\n",
      " -5233.695  -6695.6104 -2148.8408 -3450.3425  8947.765   9300.127\n",
      " -5743.9297 -2807.3076 -1425.6399 11404.119  -6352.1636 -7689.706\n",
      " -3784.6074 -3113.241  -5834.1514]\n"
     ]
    },
    {
     "name": "stderr",
     "output_type": "stream",
     "text": [
      "100%|█████████████████████████████████████████████████████████████████████████████████████████████████████████████████████████████████████████████████████████████████████████████████████████| 21/21 [00:12<00:00,  1.62it/s]\n"
     ]
    },
    {
     "name": "stdout",
     "output_type": "stream",
     "text": [
      "[15061.046 14754.643 15116.449 15996.487 15639.642 17100.955 17266.04\n",
      " 17223.559 16054.247 19141.137 12930.077 14737.587 16521.13  16645.545\n",
      " 19558.793 14594.951 18172.09  17861.113 17879.781 18135.814 17305.645]\n"
     ]
    },
    {
     "name": "stderr",
     "output_type": "stream",
     "text": [
      "100%|█████████████████████████████████████████████████████████████████████████████████████████████████████████████████████████████████████████████████████████████████████████████████████████| 21/21 [00:13<00:00,  1.55it/s]"
     ]
    },
    {
     "name": "stdout",
     "output_type": "stream",
     "text": [
      "[19543.145 19538.926 19543.42  19543.145 19545.879 21622.791 21416.744\n",
      " 21984.324 19543.146 23906.627 17714.36  19370.07  19543.146 19543.146\n",
      " 20890.385 19379.234 22955.54  22645.396 22401.283 21512.049 21582.82 ]\n"
     ]
    },
    {
     "name": "stderr",
     "output_type": "stream",
     "text": [
      "\n"
     ]
    }
   ],
   "source": [
    "all_all_paths = []\n",
    "for _ in range(3):\n",
    "    all_paths = []\n",
    "    for obj_id in tqdm(range(len(b.RENDERER.meshes)-1)):\n",
    "        path = []\n",
    "        trace_ = add_object_jit(trace, key, obj_id, 0, 2,3)\n",
    "        number = b.get_contact_params(trace_).shape[0] - 1\n",
    "        path.append(trace_)\n",
    "        for c2f_iter in range(len(contact_param_gridding_schedule)):\n",
    "            trace_ = c2f_contact_update_jit(trace_, key, number,\n",
    "                contact_param_gridding_schedule[c2f_iter], V_GRID, O_GRID)\n",
    "            path.append(trace_)\n",
    "        # for c2f_iter in range(len(contact_param_gridding_schedule)):\n",
    "        #     trace_ = c2f_contact_update_jit(trace_, key, number,\n",
    "        #         contact_param_gridding_schedule[c2f_iter], VARIANCE_GRID, OUTLIER_GRID)\n",
    "        all_paths.append(\n",
    "            path\n",
    "        )\n",
    "    all_all_paths.append(all_paths)\n",
    "    \n",
    "    scores = jnp.array([t[-1].get_score() for t in all_paths])\n",
    "    print(scores)\n",
    "    normalized_scores = b.utils.normalize_log_scores(scores)\n",
    "    trace = all_paths[jnp.argmax(scores)][-1]\n",
    "    b.viz_trace_meshcat(trace)"
   ]
  },
  {
   "cell_type": "code",
   "execution_count": 30,
   "id": "0ba40b97-f402-4a00-bab4-369cadb3aa48",
   "metadata": {},
   "outputs": [
    {
     "name": "stdout",
     "output_type": "stream",
     "text": [
      "[21 14  9  1]\n",
      "[21  1 14  9]\n"
     ]
    }
   ],
   "source": [
    "print(b.get_indices(gt_trace))\n",
    "print(b.get_indices(trace))"
   ]
  },
  {
   "cell_type": "code",
   "execution_count": null,
   "id": "94c08be6-0143-4b91-914d-85702fa38525",
   "metadata": {},
   "outputs": [],
   "source": []
  }
 ],
 "metadata": {
  "kernelspec": {
   "display_name": "Python 3 (ipykernel)",
   "language": "python",
   "name": "python3"
  },
  "language_info": {
   "codemirror_mode": {
    "name": "ipython",
    "version": 3
   },
   "file_extension": ".py",
   "mimetype": "text/x-python",
   "name": "python",
   "nbconvert_exporter": "python",
   "pygments_lexer": "ipython3",
   "version": "3.9.18"
  }
 },
 "nbformat": 4,
 "nbformat_minor": 5
}
