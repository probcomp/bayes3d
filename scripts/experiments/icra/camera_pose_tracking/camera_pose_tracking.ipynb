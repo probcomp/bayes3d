{
 "cells": [
  {
   "cell_type": "code",
   "execution_count": 215,
   "id": "19225e38-aaf6-413e-a93d-f1dbb2ae787d",
   "metadata": {},
   "outputs": [],
   "source": [
    "import bayes3d as b\n",
    "import bayes3d.genjax\n",
    "import joblib\n",
    "from tqdm import tqdm\n",
    "import os\n",
    "import jax.numpy as jnp\n",
    "import jax\n",
    "import numpy as np\n",
    "import genjax\n",
    "import matplotlib.pyplot as plt"
   ]
  },
  {
   "cell_type": "code",
   "execution_count": 2,
   "id": "3cdc9a4d-959d-4d29-8aad-28b660283697",
   "metadata": {},
   "outputs": [
    {
     "name": "stdout",
     "output_type": "stream",
     "text": [
      "You can open the visualizer by visiting the following URL:\n",
      "http://127.0.0.1:7038/static/\n"
     ]
    }
   ],
   "source": [
    "b.setup_visualizer()"
   ]
  },
  {
   "cell_type": "code",
   "execution_count": 3,
   "id": "35510ba8-66b8-4335-aca8-b6583650f889",
   "metadata": {},
   "outputs": [
    {
     "name": "stderr",
     "output_type": "stream",
     "text": [
      "[E rasterize_gl.cpp:121] OpenGL version reported as 4.6\n"
     ]
    },
    {
     "name": "stdout",
     "output_type": "stream",
     "text": [
      "Increasing frame buffer size to (width, height, depth) = (128, 128, 1024)\n"
     ]
    }
   ],
   "source": [
    "intrinsics = b.Intrinsics(\n",
    "    height=100,\n",
    "    width=100,\n",
    "    fx=100.0, fy=100.0,\n",
    "    cx=50.0, cy=50.0,\n",
    "    near=0.01, far=20.0\n",
    ")\n",
    "\n",
    "b.setup_renderer(intrinsics)\n",
    "model_dir = os.path.join(b.utils.get_assets_dir(),\"bop/ycbv/models\")\n",
    "meshes = []\n",
    "for idx in range(1,22):\n",
    "    mesh_path = os.path.join(model_dir,\"obj_\" + \"{}\".format(idx).rjust(6, '0') + \".ply\")\n",
    "    b.RENDERER.add_mesh_from_file(mesh_path, scaling_factor=1.0/1000.0)\n",
    "\n",
    "b.RENDERER.add_mesh_from_file(os.path.join(b.utils.get_assets_dir(), \"sample_objs/cube.obj\"), scaling_factor=1.0/1000000000.0)\n"
   ]
  },
  {
   "cell_type": "code",
   "execution_count": 4,
   "id": "a81e8aae-bf1d-43bd-905f-2e7f0a9e2265",
   "metadata": {},
   "outputs": [],
   "source": [
    "\n",
    "importance_jit = jax.jit(b.model.importance)\n",
    "\n",
    "contact_enumerators = [b.make_enumerator([f\"contact_params_{i}\", \"variance\", \"outlier_prob\"]) for i in range(5)]\n",
    "add_object_jit = jax.jit(b.add_object)\n",
    "\n",
    "def c2f_contact_update(trace_, key,  number, contact_param_deltas, VARIANCE_GRID, OUTLIER_GRID):\n",
    "    contact_param_grid = contact_param_deltas + trace_[f\"contact_params_{number}\"]\n",
    "    scores = contact_enumerators[number][3](trace_, key, contact_param_grid, VARIANCE_GRID, OUTLIER_GRID)\n",
    "    i,j,k = jnp.unravel_index(scores.argmax(), scores.shape)\n",
    "    return contact_enumerators[number][0](\n",
    "        trace_, key,\n",
    "        contact_param_grid[i], VARIANCE_GRID[j], OUTLIER_GRID[k]\n",
    "    )\n",
    "c2f_contact_update_jit = jax.jit(c2f_contact_update, static_argnames=(\"number\",))"
   ]
  },
  {
   "cell_type": "code",
   "execution_count": 244,
   "id": "f1889814-d36e-4669-9991-36250112de14",
   "metadata": {},
   "outputs": [],
   "source": [
    "OUTLIER_VOLUME = 1.0\n",
    "VARIANCE_GRID = jnp.array([0.0001, 0.001, 0.01])\n",
    "OUTLIER_GRID = jnp.array([0.00001, 0.0001, 0.001])\n",
    "\n",
    "grid_params = [\n",
    "    (0.3, jnp.pi, (11,11,11)), (0.2, jnp.pi, (11,11,11)), (0.1, jnp.pi, (11,11,11)),\n",
    "    (0.05, jnp.pi/3, (11,11,11)), (0.02, jnp.pi, (5,5,51)), (0.01, jnp.pi/5, (11,11,11)), (0.01, 0.0, (21,21,1)),(0.05, 0.0, (21,21,1))\n",
    "]\n",
    "contact_param_gridding_schedule = [\n",
    "    b.utils.make_translation_grid_enumeration_3d(\n",
    "        -x, -x, -ang,\n",
    "        x, x, ang,\n",
    "        *nums\n",
    "    )\n",
    "    for (x,ang,nums) in grid_params\n",
    "]\n"
   ]
  },
  {
   "cell_type": "code",
   "execution_count": 6,
   "id": "053f2b8d-00dc-49ae-aa8b-98d4d7b69a42",
   "metadata": {},
   "outputs": [
    {
     "name": "stdout",
     "output_type": "stream",
     "text": [
      "[1.e-04 1.e-03 1.e-02] [1.e-05 1.e-04 1.e-03]\n"
     ]
    }
   ],
   "source": [
    "V_VARIANT = 0\n",
    "O_VARIANT = 0\n",
    "HIERARCHICAL_BAYES = True\n",
    "\n",
    "if HIERARCHICAL_BAYES:\n",
    "    V_GRID = VARIANCE_GRID\n",
    "    O_GRID = OUTLIER_GRID\n",
    "else:\n",
    "    V_GRID, O_GRID = jnp.array([VARIANCE_GRID[V_VARIANT]]), jnp.array([OUTLIER_GRID[O_VARIANT]])\n",
    "\n",
    "print(V_GRID, O_GRID)"
   ]
  },
  {
   "cell_type": "code",
   "execution_count": 7,
   "id": "2ef3b356-f589-41eb-a66b-a8c20fba6ab8",
   "metadata": {},
   "outputs": [],
   "source": [
    "key = jax.random.PRNGKey(502)"
   ]
  },
  {
   "cell_type": "code",
   "execution_count": 187,
   "id": "95f6b018-1fd2-46b1-bac5-3ada3a37c88f",
   "metadata": {},
   "outputs": [],
   "source": [
    "camera_pose = b.t3d.transform_from_pos_target_up(\n",
    "    jnp.array([0.0, 0.4, 0.32]),\n",
    "    jnp.array([0.0, 0.0, 0.0]),\n",
    "    jnp.array([0.0, 0.0, 1.0]),\n",
    ")\n",
    "\n",
    "camera_poses = jnp.array([\n",
    "    b.t3d.transform_from_axis_angle(jnp.array([0.0, 0.0, 1.0]), angle) @ camera_pose\n",
    "    for angle in jnp.linspace(-jnp.pi, jnp.pi, 120)[:-1]]\n",
    ")"
   ]
  },
  {
   "cell_type": "code",
   "execution_count": 234,
   "id": "2186dc95-b9a9-4847-b8e5-32699d967999",
   "metadata": {},
   "outputs": [],
   "source": [
    "for (i,p) in enumerate(camera_poses):\n",
    "    b.show_pose(f\"{i}\", p)"
   ]
  },
  {
   "cell_type": "code",
   "execution_count": 235,
   "id": "b1ce68b4-3846-4fa5-8de5-f1fc9a299828",
   "metadata": {},
   "outputs": [],
   "source": [
    "camera_pose_enumerators = b.make_enumerator([\"camera_pose\"])"
   ]
  },
  {
   "cell_type": "code",
   "execution_count": 282,
   "id": "1b28cd84-95a5-4088-ab5c-bdae551e15be",
   "metadata": {},
   "outputs": [],
   "source": [
    "w = 0.03\n",
    "translation_deltas = b.utils.make_translation_grid_enumeration(-w,-w,-w,w,w,w, 13, 13, 13)\n",
    "rotation_deltas = jax.vmap(lambda key: b.distributions.gaussian_vmf_zero_mean(key, 0.01, 600.0))(\n",
    "    jax.random.split(jax.random.PRNGKey(3), 500)\n",
    ")\n"
   ]
  },
  {
   "cell_type": "code",
   "execution_count": null,
   "id": "dfe6f5e2-f778-4ecf-8e7c-7b28d17dae54",
   "metadata": {},
   "outputs": [],
   "source": [
    "\n",
    "def update_pose_estimate(trace):\n",
    "    proposals = jnp.einsum(\"ij,ajk->aik\", trace[\"camera_pose\"], translation_deltas)\n",
    "    weights = camera_pose_enumerators[3](trace, key, proposals)\n",
    "    bool = (weights.max() > trace.get_score())\n",
    "    current_camera_pose = trace[\"camera_pose\"] * (1.0 - bool) + bool * proposals[jnp.argmax(weights)]\n",
    "    trace = b.update_address(trace, key,  \"camera_pose\", current_camera_pose)\n",
    "\n",
    "    proposals = jnp.einsum(\"ij,ajk->aik\", trace[\"camera_pose\"], rotation_deltas)\n",
    "    weights = camera_pose_enumerators[3](trace, key, proposals)\n",
    "    current_camera_pose = trace[\"camera_pose\"] * (1.0 - bool) + bool * proposals[jnp.argmax(weights)]\n",
    "    trace = b.update_address(trace, key,  \"camera_pose\", current_camera_pose)\n",
    "    return trace\n",
    "update_pose_estimate_jit = jax.jit(update_pose_estimate)"
   ]
  },
  {
   "cell_type": "code",
   "execution_count": 283,
   "id": "755cace7-fdae-4fa8-8d38-db4adb16b23b",
   "metadata": {},
   "outputs": [],
   "source": [
    "# key = jax.random.split(key, 1)[0]\n",
    "\n",
    "gt_traces = [importance_jit(key, genjax.choice_map({\n",
    "    \"parent_0\": -1,\n",
    "    \"parent_1\": 0,\n",
    "    \"parent_2\": 0,\n",
    "    \"parent_3\": 0,\n",
    "    \"id_0\": jnp.int32(21),\n",
    "    \"camera_pose\": p,\n",
    "    \"root_pose_0\": jnp.eye(4),\n",
    "    \"face_parent_1\": 2,\n",
    "    \"face_parent_2\": 2,\n",
    "    \"face_parent_3\": 2,\n",
    "    \"face_child_1\": 3,\n",
    "    \"face_child_2\": 3,\n",
    "    \"face_child_3\": 3,\n",
    "    \"variance\": 0.05,\n",
    "    \"outlier_prob\": 0.1,\n",
    "}), (\n",
    "    jnp.arange(4),\n",
    "    jnp.arange(22),\n",
    "    jnp.array([-jnp.ones(3)*100.0, jnp.ones(3)*100.0]),\n",
    "    jnp.array([jnp.array([-0.1, -0.1, -1*jnp.pi]), jnp.array([0.1, 0.1, 1*jnp.pi])]),\n",
    "    b.RENDERER.model_box_dims, OUTLIER_VOLUME, 1.0)\n",
    ")[1] for p in camera_poses]"
   ]
  },
  {
   "cell_type": "code",
   "execution_count": 278,
   "id": "97f74ab7-4f48-4996-908b-39257ffb4c2e",
   "metadata": {},
   "outputs": [],
   "source": [
    "viz_images = [b.get_depth_image(i[\"image\"][:,:,2]) for i in gt_traces]\n",
    "b.make_gif_from_pil_images(viz_images,\"sweep.gif\")"
   ]
  },
  {
   "cell_type": "code",
   "execution_count": 279,
   "id": "2c1a1835-7dac-43d3-b5e4-d9ce3c501418",
   "metadata": {},
   "outputs": [],
   "source": [
    "current_camera_pose = camera_poses[0]"
   ]
  },
  {
   "cell_type": "code",
   "execution_count": 284,
   "id": "59d71811-c51e-4b4f-9612-cea91542ebe3",
   "metadata": {},
   "outputs": [
    {
     "name": "stdout",
     "output_type": "stream",
     "text": [
      "-22262.994\n",
      "-22265.682\n"
     ]
    }
   ],
   "source": [
    "T = 2\n",
    "gt_pose = gt_traces[T][\"camera_pose\"]\n",
    "trace = b.update_address(gt_traces[T], key,  \"camera_pose\", current_camera_pose)\n",
    "print(gt_traces[T].get_score())\n",
    "print(trace.get_score())\n",
    "b.viz_trace_meshcat(trace)\n",
    "b.show_pose(\"gt_pose\", gt_traces[T][\"camera_pose\"], size=0.05)"
   ]
  },
  {
   "cell_type": "code",
   "execution_count": 290,
   "id": "f29d5950-7fae-4c0a-822a-54f47c981822",
   "metadata": {},
   "outputs": [
    {
     "data": {
      "text/plain": [
       "Array([[ 1.        ,  0.        ,  0.        ,  0.04216149],\n",
       "       [ 0.        ,  1.        ,  0.        , -0.00139196],\n",
       "       [ 0.        ,  0.        ,  1.        ,  0.00173998],\n",
       "       [ 0.        ,  0.        ,  0.        ,  1.        ]],      dtype=float32)"
      ]
     },
     "execution_count": 290,
     "metadata": {},
     "output_type": "execute_result"
    }
   ],
   "source": [
    "diff = b.inverse_pose(trace[\"camera_pose\"]) @ gt_traces[T][\"camera_pose\"]\n",
    "diff_translation = b.transform_from_pos(diff[:3,3])\n",
    "diff_translation"
   ]
  },
  {
   "cell_type": "code",
   "execution_count": 292,
   "id": "a4be0b33-a420-4741-afb0-f52c3d9fde27",
   "metadata": {},
   "outputs": [
    {
     "data": {
      "text/plain": [
       "Array([-22262.994], dtype=float32)"
      ]
     },
     "execution_count": 292,
     "metadata": {},
     "output_type": "execute_result"
    }
   ],
   "source": [
    "weights = camera_pose_enumerators[3](trace, key, jnp.array([trace[\"camera_pose\"] @ diff]))\n",
    "weights"
   ]
  },
  {
   "cell_type": "code",
   "execution_count": 286,
   "id": "387d6ab5-f055-4d9b-95f1-99888da3d3ac",
   "metadata": {},
   "outputs": [
    {
     "data": {
      "text/plain": [
       "Array([[ 0.9944295 ,  0.06584518, -0.08230648,  0.04216149],\n",
       "       [-0.06584518,  0.9978262 ,  0.00271733, -0.00139196],\n",
       "       [ 0.08230647,  0.00271728,  0.9966033 ,  0.00173998],\n",
       "       [ 0.        ,  0.        ,  0.        ,  1.        ]],      dtype=float32)"
      ]
     },
     "execution_count": 286,
     "metadata": {},
     "output_type": "execute_result"
    }
   ],
   "source": []
  },
  {
   "cell_type": "code",
   "execution_count": null,
   "id": "c41a775e-f942-4074-9552-418282b90033",
   "metadata": {},
   "outputs": [],
   "source": [
    "trace = b.update_address(trace, key,  \"camera_pose\", current_camera_pose)\n",
    "print(trace.get_score())"
   ]
  },
  {
   "cell_type": "code",
   "execution_count": 285,
   "id": "2ba4da8c-eb3f-4633-bdbf-7f24b04bf693",
   "metadata": {},
   "outputs": [
    {
     "name": "stdout",
     "output_type": "stream",
     "text": [
      "-22265.682\n",
      "-22265.682\n",
      "-22265.682\n",
      "-22265.682\n",
      "-22265.682\n",
      "-22265.682\n",
      "-22265.682\n",
      "-22265.682\n",
      "-22265.682\n",
      "-22265.682\n",
      "-22265.682\n",
      "-22265.682\n",
      "-22265.682\n",
      "-22265.682\n",
      "-22265.682\n",
      "-22265.682\n",
      "-22265.682\n",
      "-22265.682\n",
      "-22265.682\n",
      "-22265.682\n",
      "-22265.682\n",
      "-22265.682\n",
      "-22265.682\n",
      "-22265.682\n",
      "-22265.682\n",
      "-22265.682\n",
      "-22265.682\n",
      "-22265.682\n",
      "-22265.682\n",
      "-22265.682\n",
      "-22265.682\n",
      "-22265.682\n",
      "-22265.682\n",
      "-22265.682\n",
      "-22265.682\n",
      "-22265.682\n",
      "-22265.682\n",
      "-22265.682\n",
      "-22265.682\n",
      "-22265.682\n",
      "-22265.682\n",
      "-22265.682\n",
      "-22265.682\n",
      "-22265.682\n",
      "-22265.682\n",
      "-22265.682\n",
      "-22265.682\n",
      "-22265.682\n",
      "-22265.682\n",
      "-22265.682\n",
      "-22265.682\n"
     ]
    }
   ],
   "source": [
    "for _ in range(50):\n",
    "    print(trace.get_score())\n",
    "    trace = update_pose_estimate_jit(trace)\n",
    "    b.show_pose(\"gt_pose\", gt_traces[T][\"camera_pose\"], size=0.05)\n",
    "    b.show_pose(\"estimated_pose\", trace[\"camera_pose\"], size=0.07)\n",
    "print(trace.get_score())\n"
   ]
  },
  {
   "cell_type": "code",
   "execution_count": 230,
   "id": "48ba1a44-7d27-4f8d-9d4d-1f8933de9352",
   "metadata": {},
   "outputs": [],
   "source": [
    "proposals = jnp.einsum(\"ij,ajk->aik\", trace[\"camera_pose\"], translation_deltas)\n",
    "weights = camera_pose_enumerators[3](trace, key, proposals)\n",
    "bool = (weights.max() > trace.get_score())\n",
    "current_camera_pose = trace[\"camera_pose\"] * (1.0 - bool) + bool * proposals[jnp.argmax(weights)]\n",
    "trace = b.update_address(trace, key,  \"camera_pose\", current_camera_pose)"
   ]
  },
  {
   "cell_type": "code",
   "execution_count": null,
   "id": "2ce5cb5b-e90e-4a42-8464-2e1563ea6f1a",
   "metadata": {},
   "outputs": [],
   "source": []
  },
  {
   "cell_type": "code",
   "execution_count": 223,
   "id": "c7f9fe61-bdfd-46c5-977d-0faed41f95a9",
   "metadata": {},
   "outputs": [
    {
     "data": {
      "text/plain": [
       "Array(-8194.48, dtype=float32)"
      ]
     },
     "execution_count": 223,
     "metadata": {},
     "output_type": "execute_result"
    }
   ],
   "source": [
    "weights.max()"
   ]
  },
  {
   "cell_type": "code",
   "execution_count": 220,
   "id": "621d3e4b-2bc8-43b9-a2e9-154a20d8be11",
   "metadata": {},
   "outputs": [],
   "source": [
    "for (i,p) in enumerate(proposals):\n",
    "    b.show_pose(f\"{i}\", p)"
   ]
  },
  {
   "cell_type": "code",
   "execution_count": 221,
   "id": "999bf031-0903-4c82-af0a-920467844767",
   "metadata": {},
   "outputs": [],
   "source": [
    "b.clear()"
   ]
  },
  {
   "cell_type": "code",
   "execution_count": 253,
   "id": "b2b4303b-4887-4cd5-b477-0e6bbf243fab",
   "metadata": {},
   "outputs": [
    {
     "name": "stdout",
     "output_type": "stream",
     "text": [
      "-19044.816\n",
      "-19019.75\n",
      "-19019.75\n",
      "-19019.75\n",
      "-19019.75\n",
      "-19019.75\n",
      "-19019.75\n",
      "-19019.75\n",
      "-19019.75\n",
      "-19019.75\n",
      "-19019.75\n",
      "-19019.75\n",
      "-19019.75\n",
      "-19019.75\n",
      "-19019.75\n",
      "-19019.75\n",
      "-19019.75\n",
      "-19019.75\n",
      "-19019.75\n",
      "-19019.75\n",
      "-19019.75\n",
      "-19019.75\n",
      "-19019.75\n",
      "-19019.75\n",
      "-19019.75\n",
      "-19019.75\n",
      "-19019.75\n",
      "-19019.75\n",
      "-19019.75\n",
      "-19019.75\n",
      "-19019.75\n",
      "-19019.75\n",
      "-19019.75\n",
      "-19019.75\n",
      "-19019.75\n",
      "-19019.75\n",
      "-19019.75\n",
      "-19019.75\n",
      "-19019.75\n",
      "-19019.75\n",
      "-19019.75\n",
      "-19019.75\n",
      "-19019.75\n",
      "-19019.75\n",
      "-19019.75\n",
      "-19019.75\n",
      "-19019.75\n",
      "-19019.75\n",
      "-19019.75\n",
      "-19019.75\n",
      "-19019.75\n"
     ]
    }
   ],
   "source": []
  },
  {
   "cell_type": "code",
   "execution_count": 103,
   "id": "cee19ba8-2cdd-44a3-ac41-39a26a88707b",
   "metadata": {},
   "outputs": [
    {
     "name": "stdout",
     "output_type": "stream",
     "text": [
      "-47257.945\n"
     ]
    }
   ],
   "source": [
    "current_camera_pose = trace[\"camera_pose\"] @ b.transform_from_pos(jnp.array([0.05, 0.0, 0.0]))\n",
    "trace = b.update_address(trace, key,  \"camera_pose\", current_camera_pose)\n",
    "print(trace.get_score())"
   ]
  },
  {
   "cell_type": "code",
   "execution_count": 125,
   "id": "cf737d00-baf5-400f-b48a-81398d64466b",
   "metadata": {},
   "outputs": [],
   "source": []
  },
  {
   "cell_type": "code",
   "execution_count": null,
   "id": "e3db5e72-0d34-4a82-9104-2aac8888cde5",
   "metadata": {},
   "outputs": [],
   "source": []
  },
  {
   "cell_type": "code",
   "execution_count": 86,
   "id": "ac8b9255-c9c4-464b-b956-cf40b59fe80a",
   "metadata": {},
   "outputs": [
    {
     "data": {
      "text/plain": [
       "Array([[ 9.9657857e-01, -7.0071176e-02,  4.3821458e-02, -1.0093506e-01],\n",
       "       [ 6.9971003e-02,  9.9754184e-01,  3.8154454e-03, -1.5127361e-03],\n",
       "       [-4.3981113e-02, -7.3627965e-04,  9.9903208e-01, -6.2564313e-03],\n",
       "       [ 0.0000000e+00,  0.0000000e+00,  0.0000000e+00,  1.0000000e+00]],      dtype=float32)"
      ]
     },
     "execution_count": 86,
     "metadata": {},
     "output_type": "execute_result"
    }
   ],
   "source": [
    "gt_traces[T][\"camera_pose\"] @ b.inverse_pose(trace[\"camera_pose\"])"
   ]
  },
  {
   "cell_type": "code",
   "execution_count": null,
   "id": "8a14a5a3-7473-49f4-bf86-51968648c6e2",
   "metadata": {},
   "outputs": [],
   "source": []
  },
  {
   "cell_type": "code",
   "execution_count": 34,
   "id": "479a4f94-29d0-4813-9892-5468f55ea0e2",
   "metadata": {},
   "outputs": [
    {
     "name": "stdout",
     "output_type": "stream",
     "text": [
      "(500,)\n",
      "-11775.629\n"
     ]
    }
   ],
   "source": [
    "proposals = jnp.einsum(\"ij,ajk->aik\", trace[\"camera_pose\"], rotation_deltas)\n",
    "weights = camera_pose_enumerators[3](trace, key, proposals)\n",
    "print(weights.shape)\n",
    "current_camera_pose = proposals[jnp.argmax(weights)]\n",
    "trace = b.update_address(trace, key,  \"camera_pose\", current_camera_pose)\n",
    "print(trace.get_score())\n",
    "b.viz_trace_meshcat(trace)\n",
    "b.show_pose(\"gt_pose\", gt_traces[T][\"camera_pose\"], size=0.05)"
   ]
  },
  {
   "cell_type": "code",
   "execution_count": 23,
   "id": "1e4a79a9-37ba-4318-be4a-f8bbb6a60cf7",
   "metadata": {},
   "outputs": [
    {
     "data": {
      "text/plain": [
       "Array([[ 0.00233889,  0.00313512,  0.0745003 , -0.03639003],\n",
       "       [-0.05618222, -0.00209159,  0.00285894, -0.01466182],\n",
       "       [ 0.0489638 ,  0.00190574, -0.00046027,  0.01042596],\n",
       "       [ 0.        ,  0.        ,  0.        ,  0.        ]],      dtype=float32)"
      ]
     },
     "execution_count": 23,
     "metadata": {},
     "output_type": "execute_result"
    }
   ],
   "source": [
    "current_camera_pose - gt_traces[T][\"camera_pose\"]"
   ]
  },
  {
   "cell_type": "code",
   "execution_count": 49,
   "id": "fbff9a3a-e713-43fb-96b3-bb81954b1ef1",
   "metadata": {},
   "outputs": [
    {
     "data": {
      "image/jpeg": "[encoded data removed]",
      "image/png": "[encoded data removed]",
      "text/plain": [
       "<PIL.Image.Image image mode=RGB size=100x100>"
      ]
     },
     "execution_count": 49,
     "metadata": {},
     "output_type": "execute_result"
    }
   ],
   "source": [
    "b.get_depth_image(camera_pose_enumerator(gt_trace, key, camera_poses[10])[\"image\"][:,:,2])"
   ]
  },
  {
   "cell_type": "code",
   "execution_count": null,
   "id": "31f5af66-70c2-4dfb-af37-6eefbdbce590",
   "metadata": {},
   "outputs": [],
   "source": []
  },
  {
   "cell_type": "code",
   "execution_count": null,
   "id": "f74b34db-cb13-4b08-aa02-f42adbe86feb",
   "metadata": {},
   "outputs": [],
   "source": [
    "# import imageio\n",
    "# images = [imageio.imread(f'mug_results/{experiment_iteration:05d}.png') for experiment_iteration in tqdm(range(50))]\n",
    "# imageio.mimsave(\"mug_results.gif\", images, 'GIF', duration=1200)"
   ]
  },
  {
   "cell_type": "code",
   "execution_count": 31,
   "id": "efd41133-abbc-4fc4-acec-9df8cd5999f7",
   "metadata": {},
   "outputs": [],
   "source": [
    "T = 1\n",
    "new_image = b.update_address(trace, \"camera_pose\", "
   ]
  },
  {
   "cell_type": "code",
   "execution_count": 11,
   "id": "11ef6922-c8c8-47b3-b641-f9555cafda7c",
   "metadata": {},
   "outputs": [
    {
     "name": "stdout",
     "output_type": "stream",
     "text": [
      "Searching for object index 2 004_sugar_box\n"
     ]
    }
   ],
   "source": [
    "\n",
    "OBJECT_INDEX = 2\n",
    "print(f\"Searching for object index {OBJECT_INDEX} {b.utils.ycb_loader.MODEL_NAMES[OBJECT_INDEX]}\")"
   ]
  },
  {
   "cell_type": "code",
   "execution_count": null,
   "id": "c5881cf4-8620-422c-a6fe-4e725b34337d",
   "metadata": {},
   "outputs": [],
   "source": [
    "bounds = 1.5\n",
    "grid = b.utils.make_translation_grid_enumeration_3d(\n",
    "    -bounds, -bounds, -0.0,\n",
    "    bounds, bounds, 0.0,\n",
    "    50,50,1\n",
    ")"
   ]
  },
  {
   "cell_type": "code",
   "execution_count": 57,
   "id": "abf6ca24-997e-410f-bcfb-bdbaef11d630",
   "metadata": {},
   "outputs": [
    {
     "name": "stdout",
     "output_type": "stream",
     "text": [
      "[21 16 14  0]\n",
      "Searching for object index 0 002_master_chef_can\n"
     ]
    }
   ],
   "source": []
  },
  {
   "cell_type": "code",
   "execution_count": 58,
   "id": "0f9f67dc-9783-4d73-bd1f-3b02b11339d5",
   "metadata": {},
   "outputs": [],
   "source": [
    "_,trace = importance_jit(key, gt_trace.get_choices(), (jnp.arange(1), jnp.arange(22), *gt_trace.get_args()[2:]))\n",
    "\n",
    "path = []\n",
    "obj_id = OBJECT_INDEX\n",
    "trace_ = add_object_jit(trace, key, obj_id, 0, 2,3)\n",
    "number = b.get_contact_params(trace_).shape[0] - 1\n",
    "path.append(trace_)\n",
    "for c2f_iter in range(len(contact_param_gridding_schedule)):\n",
    "    trace_ = c2f_contact_update_jit(trace_, key, number,\n",
    "        contact_param_gridding_schedule[c2f_iter], V_GRID, O_GRID)\n",
    "    path.append(trace_)\n",
    "\n",
    "b.viz_trace_meshcat(trace_)"
   ]
  },
  {
   "cell_type": "code",
   "execution_count": 30,
   "id": "5f9aee74-87b1-481b-9fda-2ef29e7ff47b",
   "metadata": {},
   "outputs": [],
   "source": [
    "b.viz_trace_meshcat(trace_)"
   ]
  },
  {
   "cell_type": "code",
   "execution_count": 29,
   "id": "f3170ba3-d2af-4e10-b2e7-e535c50c0fb8",
   "metadata": {},
   "outputs": [
    {
     "name": "stderr",
     "output_type": "stream",
     "text": [
      "100%|█████████████████████████████████████████████████████████████████████████████████████████████████████████████████████████████████████████████████████████████████████████████████████████| 21/21 [00:12<00:00,  1.71it/s]\n"
     ]
    },
    {
     "name": "stdout",
     "output_type": "stream",
     "text": [
      "[ 2548.6626 14774.171   7377.7397 -3475.9414  5269.176  -7196.0664\n",
      " -5233.695  -6695.6104 -2148.8408 -3450.3425  8947.765   9300.127\n",
      " -5743.9297 -2807.3076 -1425.6399 11404.119  -6352.1636 -7689.706\n",
      " -3784.6074 -3113.241  -5834.1514]\n"
     ]
    },
    {
     "name": "stderr",
     "output_type": "stream",
     "text": [
      "100%|█████████████████████████████████████████████████████████████████████████████████████████████████████████████████████████████████████████████████████████████████████████████████████████| 21/21 [00:12<00:00,  1.62it/s]\n"
     ]
    },
    {
     "name": "stdout",
     "output_type": "stream",
     "text": [
      "[15061.046 14754.643 15116.449 15996.487 15639.642 17100.955 17266.04\n",
      " 17223.559 16054.247 19141.137 12930.077 14737.587 16521.13  16645.545\n",
      " 19558.793 14594.951 18172.09  17861.113 17879.781 18135.814 17305.645]\n"
     ]
    },
    {
     "name": "stderr",
     "output_type": "stream",
     "text": [
      "100%|█████████████████████████████████████████████████████████████████████████████████████████████████████████████████████████████████████████████████████████████████████████████████████████| 21/21 [00:13<00:00,  1.55it/s]"
     ]
    },
    {
     "name": "stdout",
     "output_type": "stream",
     "text": [
      "[19543.145 19538.926 19543.42  19543.145 19545.879 21622.791 21416.744\n",
      " 21984.324 19543.146 23906.627 17714.36  19370.07  19543.146 19543.146\n",
      " 20890.385 19379.234 22955.54  22645.396 22401.283 21512.049 21582.82 ]\n"
     ]
    },
    {
     "name": "stderr",
     "output_type": "stream",
     "text": [
      "\n"
     ]
    }
   ],
   "source": [
    "all_all_paths = []\n",
    "for _ in range(3):\n",
    "    all_paths = []\n",
    "    for obj_id in tqdm(range(len(b.RENDERER.meshes)-1)):\n",
    "        path = []\n",
    "        trace_ = add_object_jit(trace, key, obj_id, 0, 2,3)\n",
    "        number = b.get_contact_params(trace_).shape[0] - 1\n",
    "        path.append(trace_)\n",
    "        for c2f_iter in range(len(contact_param_gridding_schedule)):\n",
    "            trace_ = c2f_contact_update_jit(trace_, key, number,\n",
    "                contact_param_gridding_schedule[c2f_iter], V_GRID, O_GRID)\n",
    "            path.append(trace_)\n",
    "        # for c2f_iter in range(len(contact_param_gridding_schedule)):\n",
    "        #     trace_ = c2f_contact_update_jit(trace_, key, number,\n",
    "        #         contact_param_gridding_schedule[c2f_iter], VARIANCE_GRID, OUTLIER_GRID)\n",
    "        all_paths.append(\n",
    "            path\n",
    "        )\n",
    "    all_all_paths.append(all_paths)\n",
    "    \n",
    "    scores = jnp.array([t[-1].get_score() for t in all_paths])\n",
    "    print(scores)\n",
    "    normalized_scores = b.utils.normalize_log_scores(scores)\n",
    "    trace = all_paths[jnp.argmax(scores)][-1]\n",
    "    b.viz_trace_meshcat(trace)"
   ]
  },
  {
   "cell_type": "code",
   "execution_count": 30,
   "id": "0ba40b97-f402-4a00-bab4-369cadb3aa48",
   "metadata": {},
   "outputs": [
    {
     "name": "stdout",
     "output_type": "stream",
     "text": [
      "[21 14  9  1]\n",
      "[21  1 14  9]\n"
     ]
    }
   ],
   "source": [
    "print(b.get_indices(gt_trace))\n",
    "print(b.get_indices(trace))"
   ]
  },
  {
   "cell_type": "code",
   "execution_count": null,
   "id": "94c08be6-0143-4b91-914d-85702fa38525",
   "metadata": {},
   "outputs": [],
   "source": []
  }
 ],
 "metadata": {
  "kernelspec": {
   "display_name": "Python 3 (ipykernel)",
   "language": "python",
   "name": "python3"
  },
  "language_info": {
   "codemirror_mode": {
    "name": "ipython",
    "version": 3
   },
   "file_extension": ".py",
   "mimetype": "text/x-python",
   "name": "python",
   "nbconvert_exporter": "python",
   "pygments_lexer": "ipython3",
   "version": "3.9.18"
  }
 },
 "nbformat": 4,
 "nbformat_minor": 5
}
