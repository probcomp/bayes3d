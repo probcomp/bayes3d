{
 "cells": [
  {
   "cell_type": "code",
   "execution_count": 1,
   "id": "1477c737-919d-4445-bc46-c139b9a3febf",
   "metadata": {},
   "outputs": [],
   "source": [
    "import bayes3d as b\n",
    "import os\n",
    "import jax.numpy as jnp\n",
    "import jax\n",
    "import bayes3d.genjax\n",
    "import genjax\n",
    "import matplotlib\n",
    "from tqdm import tqdm\n",
    "import matplotlib.pyplot as plt"
   ]
  },
  {
   "cell_type": "code",
   "execution_count": 45,
   "id": "d2db391b-3dfd-4b03-9e28-ae49df8839aa",
   "metadata": {},
   "outputs": [],
   "source": [
    "import flax.linen as nn\n",
    "from flax.training import train_state\n",
    "from clu import metrics\n",
    "import flax\n",
    "import optax"
   ]
  },
  {
   "cell_type": "code",
   "execution_count": 3,
   "id": "dcb009c9-5d15-477a-8c19-673085f12f9a",
   "metadata": {},
   "outputs": [
    {
     "name": "stdout",
     "output_type": "stream",
     "text": [
      "You can open the visualizer by visiting the following URL:\n",
      "http://127.0.0.1:7002/static/\n"
     ]
    }
   ],
   "source": [
    "b.setup_visualizer()"
   ]
  },
  {
   "cell_type": "code",
   "execution_count": 4,
   "id": "41b66139-aa4a-4164-8393-217fc059c772",
   "metadata": {},
   "outputs": [
    {
     "name": "stderr",
     "output_type": "stream",
     "text": [
      "[E rasterize_gl.cpp:121] OpenGL version reported as 4.6\n"
     ]
    },
    {
     "name": "stdout",
     "output_type": "stream",
     "text": [
      "Increasing frame buffer size to (width, height, depth) = (128, 128, 1024)\n"
     ]
    }
   ],
   "source": [
    "intrinsics = b.Intrinsics(\n",
    "    height=100,\n",
    "    width=100,\n",
    "    fx=200.0, fy=200.0,\n",
    "    cx=50.0, cy=50.0,\n",
    "    near=0.0001, far=2.0\n",
    ")\n",
    "\n",
    "b.setup_renderer(intrinsics)\n",
    "# model_dir = os.path.join(b.utils.get_assets_dir(),\"bop/ycbv/models\")\n",
    "# meshes = []\n",
    "# for idx in range(1,22):\n",
    "#     mesh_path = os.path.join(model_dir,\"obj_\" + \"{}\".format(idx).rjust(6, '0') + \".ply\")\n",
    "#     b.RENDERER.add_mesh_from_file(mesh_path, scaling_factor=1.0/1000.0)\n",
    "# b.RENDERER.add_mesh_from_file(os.path.join(b.utils.get_assets_dir(), \"sample_objs/cube.obj\"), scaling_factor=1.0/1000000000.0)\n"
   ]
  },
  {
   "cell_type": "code",
   "execution_count": 5,
   "id": "e288e29c-dc08-40fd-9601-6973c1929b76",
   "metadata": {},
   "outputs": [
    {
     "name": "stdout",
     "output_type": "stream",
     "text": [
      "Centering mesh with translation [-0.02541  -0.022295  0.007042]\n",
      "Centering mesh with translation [-0.019428  -0.0274155  0.003918 ]\n"
     ]
    }
   ],
   "source": [
    "fork_mesh_path = b.utils.get_assets_dir() + '/ycb_video_models/models/030_fork/nontextured.ply'\n",
    "knife_mesh_path = b.utils.get_assets_dir() + '/ycb_video_models/models/032_knife/nontextured.ply'\n",
    "box_mesh_path = b.utils.get_assets_dir() + '/bop/ycbv/models/obj_000002.ply'\n",
    "table_mesh_path = b.utils.get_assets_dir() + '/sample_objs/cube.obj'\n",
    "fork_scale = knife_scale = 1.0\n",
    "box_scale = 1e-3\n",
    "table_scale = 1e-6\n",
    "mesh_paths = (fork_mesh_path, knife_mesh_path, box_mesh_path, table_mesh_path)\n",
    "scales = (fork_scale, knife_scale, box_scale, table_scale)\n",
    "for mesh_path, scale in zip(mesh_paths, scales):\n",
    "    b.RENDERER.add_mesh_from_file(mesh_path, scaling_factor=scale)"
   ]
  },
  {
   "cell_type": "code",
   "execution_count": 6,
   "id": "ce5fb017-2bda-46a0-b7f0-78c9c321feab",
   "metadata": {},
   "outputs": [],
   "source": [
    "table_pose = b.t3d.inverse_pose(\n",
    "    b.t3d.transform_from_pos_target_up(\n",
    "        jnp.array([0.0, 0.7, 0.5]),\n",
    "        jnp.array([0.0, 0.0, 0.0]),\n",
    "        jnp.array([0.0, 0.0, 1.0]),\n",
    "    )\n",
    ")"
   ]
  },
  {
   "cell_type": "code",
   "execution_count": 7,
   "id": "d63c37b7-75db-457b-b774-73110ee69e24",
   "metadata": {},
   "outputs": [],
   "source": [
    "key = jax.random.PRNGKey(0)"
   ]
  },
  {
   "cell_type": "code",
   "execution_count": 8,
   "id": "e9d64f15-f8fd-4870-bfd9-b2206987370c",
   "metadata": {},
   "outputs": [],
   "source": [
    "# CHEESEITZ_BOX_IDX = 1\n",
    "# FORK_IDX = 17 # XXX\n",
    "# SPOON_IDX = 17 # XXX"
   ]
  },
  {
   "cell_type": "code",
   "execution_count": 9,
   "id": "3fb2037b-24ed-4db6-bec6-fc6524b863fa",
   "metadata": {},
   "outputs": [],
   "source": [
    "# CHEESEITZ_BOX_CONTACT_PARAMS = [0.0, 0.2, 0.0]"
   ]
  },
  {
   "cell_type": "code",
   "execution_count": 10,
   "id": "f6a82e99-8b74-4f23-9c91-93d1eb9f8d4e",
   "metadata": {},
   "outputs": [],
   "source": [
    "#SHIFT_MIN = -0.1\n",
    "#SHIFT_SCALE = 0.5"
   ]
  },
  {
   "cell_type": "code",
   "execution_count": 11,
   "id": "51037ac1-bfab-4f67-8c70-d9a98c9c4e19",
   "metadata": {},
   "outputs": [],
   "source": [
    "FORK_IDX, KNIFE_IDX, CHEESEITZ_BOX_IDX, TABLE_IDX = 0, 1, 2, 3"
   ]
  },
  {
   "cell_type": "code",
   "execution_count": 12,
   "id": "de1ff76c-46cf-4117-a480-5457e26c5aee",
   "metadata": {},
   "outputs": [],
   "source": [
    "SHIFT_MIN = -0.2\n",
    "SHIFT_SCALE = 0.4\n",
    "CHEESEITZ_BOX_CONTACT_PARAMS = jnp.array([0.0, 0.1, 0.0])"
   ]
  },
  {
   "cell_type": "code",
   "execution_count": 55,
   "id": "64366773-62b9-4bea-8819-031eb453acd3",
   "metadata": {},
   "outputs": [],
   "source": [
    "def fork_spoon_generator(key):\n",
    "    is_fork = jax.random.bernoulli(key)\n",
    "    shift = SHIFT_MIN + SHIFT_SCALE * jax.random.uniform(key)\n",
    "\n",
    "    #indices = jnp.array([TABLE_IDX, CHEESEITZ_BOX_IDX, FORK_IDX if is_fork else KNIFE_IDX])\n",
    "    indices = jax.lax.cond(is_fork,\n",
    "                           lambda: jnp.array([TABLE_IDX, CHEESEITZ_BOX_IDX, FORK_IDX]),\n",
    "                           lambda: jnp.array([TABLE_IDX, CHEESEITZ_BOX_IDX, KNIFE_IDX]))\n",
    "\n",
    "    box_dims = b.RENDERER.model_box_dims[indices]\n",
    "    root_poses = jnp.array([table_pose, table_pose, table_pose])\n",
    "    parents = jnp.array([-1, 0, 0])\n",
    "    contact_params = jnp.array([[0.0, 0.0, 0.0],\n",
    "                                [*CHEESEITZ_BOX_CONTACT_PARAMS],\n",
    "                                [shift*jnp.cos(jnp.pi/12), shift*jnp.sin(jnp.pi/12), 7*jnp.pi/12]])\n",
    "    faces_parents = jnp.array([0, 2, 2])\n",
    "    faces_child = jnp.array([0, 3, 3])\n",
    "    poses = b.scene_graph.poses_from_scene_graph(\n",
    "        root_poses, box_dims, parents, contact_params, faces_parents, faces_child)\n",
    "    camera_pose = jnp.eye(4)\n",
    "    rendered = b.RENDERER.render(\n",
    "        jnp.linalg.inv(camera_pose) @ poses , indices\n",
    "    )[...,:3]\n",
    "    return (is_fork, rendered)"
   ]
  },
  {
   "cell_type": "code",
   "execution_count": 66,
   "id": "03d42b13-ed84-430b-b43e-acf409e7a492",
   "metadata": {},
   "outputs": [
    {
     "name": "stdout",
     "output_type": "stream",
     "text": [
      "[2626306094 3398223712]\n"
     ]
    },
    {
     "data": {
      "image/jpeg": "[encoded data removed]",
      "image/png": "[encoded data removed]",
      "text/plain": [
       "<PIL.Image.Image image mode=RGB size=200x200>"
      ]
     },
     "execution_count": 66,
     "metadata": {},
     "output_type": "execute_result"
    }
   ],
   "source": [
    "key = jax.random.split(key, 1)[1]\n",
    "print(key)\n",
    "_, img = fork_spoon_generator(key)\n",
    "b.viz.scale_image(b.get_depth_image(img[...,2]), 2)"
   ]
  },
  {
   "cell_type": "markdown",
   "id": "27824992-5bbb-4581-b5f5-43b8a2c73d5b",
   "metadata": {},
   "source": [
    "## CNN Inference"
   ]
  },
  {
   "cell_type": "markdown",
   "id": "a45fd6be-ea64-41fd-b671-2575fa322afb",
   "metadata": {},
   "source": [
    "C1: conv with 10x10 filter stride 3 32 channels (input 100x100x1, output 31 x 31 x 32)\n",
    "\n",
    "relu (input 31 x 31 x 32, output 31 x 31 x 32)\n",
    "\n",
    "max pooling 3x3 stride 2 32 channels (input 31 x 31 x 32, output 15 x 15x 32)\n",
    "\n",
    "C2: conv with 5x5 filter stride 2 64 channels (input 15 x 15 x 32, output 6 x 6 x 64)\n",
    "\n",
    "relu (input 6 x 6 x 64, output 6 x 6 x 64)\n",
    "\n",
    "max pooling 2x2 stride 2 64 channels (input 6 x 6 x 64, output 3 x 3 x 64)\n",
    "\n",
    "flatten (input 3 x 3 x 64, output 1 x 576)\n",
    "\n",
    "L1: linear (input 1 x 576, output 1x 576)\n",
    "\n",
    "relu\n",
    "\n",
    "L2: linear (input 1 x 576, output 1x 192)\n",
    "\n",
    "relu\n",
    "\n",
    "L3: linear (input 1 x 192, output 1x 24)\n",
    "\n",
    "relu\n",
    "\n",
    "L4: linear (input 1 x 24, output 1 x 2)\n",
    "\n",
    "softmax"
   ]
  },
  {
   "cell_type": "code",
   "execution_count": 48,
   "id": "007057e2-7037-4791-a23f-756ff1e996fa",
   "metadata": {},
   "outputs": [],
   "source": [
    "BATCH_SIZE = 2"
   ]
  },
  {
   "cell_type": "code",
   "execution_count": 138,
   "id": "6ef7103a-c828-4b5e-806d-ee73ae10387f",
   "metadata": {},
   "outputs": [],
   "source": [
    "class CNN(nn.Module):\n",
    "\n",
    "    @nn.compact\n",
    "    def __call__(self, imgs): # XXX todo: make sure the sizes all line up\n",
    "        c1 = nn.Conv(32, (10, 10), strides=(3, 3), padding='VALID')(img)\n",
    "        r1 = nn.activation.relu(c1)\n",
    "        m1 = nn.max_pool(r1, (3, 3), strides=(2, 2))\n",
    "        \n",
    "        c2 = nn.Conv(64, (5, 5), strides=(2, 2), padding='VALID')(m1)\n",
    "        r2 = nn.activation.relu(c2)\n",
    "        m2 = nn.max_pool(r2, (2, 2), strides=(2, 2))\n",
    "        \n",
    "        l1 = nn.Dense(576)(m2.reshape(BATCH_SIZE, -1))\n",
    "        r3 = nn.activation.relu(l1)\n",
    "\n",
    "        l2 = nn.Dense(192)(r3)\n",
    "        r4 = nn.activation.relu(l2)\n",
    "\n",
    "        l3 = nn.Dense(24)(r4)\n",
    "        r5 = nn.activation.relu(l3)\n",
    "\n",
    "        l4 = nn.Dense(2)(r5)\n",
    "        return l4 # nn.activation.softmax(l4)"
   ]
  },
  {
   "cell_type": "code",
   "execution_count": 141,
   "id": "1bdf044e-ca96-444e-936c-12ba302d9132",
   "metadata": {},
   "outputs": [
    {
     "data": {
      "text/html": [
       "<pre style=\"white-space:pre;overflow-x:auto;line-height:normal;font-family:Menlo,'DejaVu Sans Mono',consolas,'Courier New',monospace\"><span style=\"font-style: italic\">                                          CNN Summary                                          </span>\n",
       "┏━━━━━━━━━┳━━━━━━━━┳━━━━━━━━━━━━━━━━━━━━━━┳━━━━━━━━━━━━━━━━━━━━━┳━━━━━━━━━━━━━━━━━━━━━━━━━━━━━┓\n",
       "┃<span style=\"font-weight: bold\"> path    </span>┃<span style=\"font-weight: bold\"> module </span>┃<span style=\"font-weight: bold\"> inputs               </span>┃<span style=\"font-weight: bold\"> outputs             </span>┃<span style=\"font-weight: bold\"> params                      </span>┃\n",
       "┡━━━━━━━━━╇━━━━━━━━╇━━━━━━━━━━━━━━━━━━━━━━╇━━━━━━━━━━━━━━━━━━━━━╇━━━━━━━━━━━━━━━━━━━━━━━━━━━━━┩\n",
       "│         │ CNN    │ <span style=\"color: #7f7f7f; text-decoration-color: #7f7f7f\">float32</span>[2,100,100,1] │ <span style=\"color: #7f7f7f; text-decoration-color: #7f7f7f\">float32</span>[2,2]        │                             │\n",
       "├─────────┼────────┼──────────────────────┼─────────────────────┼─────────────────────────────┤\n",
       "│ Conv_0  │ Conv   │ <span style=\"color: #7f7f7f; text-decoration-color: #7f7f7f\">float32</span>[2,100,100,1] │ <span style=\"color: #7f7f7f; text-decoration-color: #7f7f7f\">float32</span>[2,31,31,32] │ bias: <span style=\"color: #7f7f7f; text-decoration-color: #7f7f7f\">float32</span>[32]           │\n",
       "│         │        │                      │                     │ kernel: <span style=\"color: #7f7f7f; text-decoration-color: #7f7f7f\">float32</span>[10,10,1,32] │\n",
       "│         │        │                      │                     │                             │\n",
       "│         │        │                      │                     │ <span style=\"font-weight: bold\">3,232 </span><span style=\"color: #7f7f7f; text-decoration-color: #7f7f7f; font-weight: bold\">(12.9 KB)</span>             │\n",
       "├─────────┼────────┼──────────────────────┼─────────────────────┼─────────────────────────────┤\n",
       "│ Conv_1  │ Conv   │ <span style=\"color: #7f7f7f; text-decoration-color: #7f7f7f\">float32</span>[2,15,15,32]  │ <span style=\"color: #7f7f7f; text-decoration-color: #7f7f7f\">float32</span>[2,6,6,64]   │ bias: <span style=\"color: #7f7f7f; text-decoration-color: #7f7f7f\">float32</span>[64]           │\n",
       "│         │        │                      │                     │ kernel: <span style=\"color: #7f7f7f; text-decoration-color: #7f7f7f\">float32</span>[5,5,32,64]  │\n",
       "│         │        │                      │                     │                             │\n",
       "│         │        │                      │                     │ <span style=\"font-weight: bold\">51,264 </span><span style=\"color: #7f7f7f; text-decoration-color: #7f7f7f; font-weight: bold\">(205.1 KB)</span>           │\n",
       "├─────────┼────────┼──────────────────────┼─────────────────────┼─────────────────────────────┤\n",
       "│ Dense_0 │ Dense  │ <span style=\"color: #7f7f7f; text-decoration-color: #7f7f7f\">float32</span>[2,576]       │ <span style=\"color: #7f7f7f; text-decoration-color: #7f7f7f\">float32</span>[2,576]      │ bias: <span style=\"color: #7f7f7f; text-decoration-color: #7f7f7f\">float32</span>[576]          │\n",
       "│         │        │                      │                     │ kernel: <span style=\"color: #7f7f7f; text-decoration-color: #7f7f7f\">float32</span>[576,576]    │\n",
       "│         │        │                      │                     │                             │\n",
       "│         │        │                      │                     │ <span style=\"font-weight: bold\">332,352 </span><span style=\"color: #7f7f7f; text-decoration-color: #7f7f7f; font-weight: bold\">(1.3 MB)</span>            │\n",
       "├─────────┼────────┼──────────────────────┼─────────────────────┼─────────────────────────────┤\n",
       "│ Dense_1 │ Dense  │ <span style=\"color: #7f7f7f; text-decoration-color: #7f7f7f\">float32</span>[2,576]       │ <span style=\"color: #7f7f7f; text-decoration-color: #7f7f7f\">float32</span>[2,192]      │ bias: <span style=\"color: #7f7f7f; text-decoration-color: #7f7f7f\">float32</span>[192]          │\n",
       "│         │        │                      │                     │ kernel: <span style=\"color: #7f7f7f; text-decoration-color: #7f7f7f\">float32</span>[576,192]    │\n",
       "│         │        │                      │                     │                             │\n",
       "│         │        │                      │                     │ <span style=\"font-weight: bold\">110,784 </span><span style=\"color: #7f7f7f; text-decoration-color: #7f7f7f; font-weight: bold\">(443.1 KB)</span>          │\n",
       "├─────────┼────────┼──────────────────────┼─────────────────────┼─────────────────────────────┤\n",
       "│ Dense_2 │ Dense  │ <span style=\"color: #7f7f7f; text-decoration-color: #7f7f7f\">float32</span>[2,192]       │ <span style=\"color: #7f7f7f; text-decoration-color: #7f7f7f\">float32</span>[2,24]       │ bias: <span style=\"color: #7f7f7f; text-decoration-color: #7f7f7f\">float32</span>[24]           │\n",
       "│         │        │                      │                     │ kernel: <span style=\"color: #7f7f7f; text-decoration-color: #7f7f7f\">float32</span>[192,24]     │\n",
       "│         │        │                      │                     │                             │\n",
       "│         │        │                      │                     │ <span style=\"font-weight: bold\">4,632 </span><span style=\"color: #7f7f7f; text-decoration-color: #7f7f7f; font-weight: bold\">(18.5 KB)</span>             │\n",
       "├─────────┼────────┼──────────────────────┼─────────────────────┼─────────────────────────────┤\n",
       "│ Dense_3 │ Dense  │ <span style=\"color: #7f7f7f; text-decoration-color: #7f7f7f\">float32</span>[2,24]        │ <span style=\"color: #7f7f7f; text-decoration-color: #7f7f7f\">float32</span>[2,2]        │ bias: <span style=\"color: #7f7f7f; text-decoration-color: #7f7f7f\">float32</span>[2]            │\n",
       "│         │        │                      │                     │ kernel: <span style=\"color: #7f7f7f; text-decoration-color: #7f7f7f\">float32</span>[24,2]       │\n",
       "│         │        │                      │                     │                             │\n",
       "│         │        │                      │                     │ <span style=\"font-weight: bold\">50 </span><span style=\"color: #7f7f7f; text-decoration-color: #7f7f7f; font-weight: bold\">(200 B)</span>                  │\n",
       "├─────────┼────────┼──────────────────────┼─────────────────────┼─────────────────────────────┤\n",
       "│<span style=\"font-weight: bold\">         </span>│<span style=\"font-weight: bold\">        </span>│<span style=\"font-weight: bold\">                      </span>│<span style=\"font-weight: bold\">               Total </span>│<span style=\"font-weight: bold\"> 502,314 </span><span style=\"color: #7f7f7f; text-decoration-color: #7f7f7f; font-weight: bold\">(2.0 MB)</span><span style=\"font-weight: bold\">            </span>│\n",
       "└─────────┴────────┴──────────────────────┴─────────────────────┴─────────────────────────────┘\n",
       "<span style=\"font-weight: bold\">                                                                                               </span>\n",
       "<span style=\"font-weight: bold\">                              Total Parameters: 502,314 </span><span style=\"color: #7f7f7f; text-decoration-color: #7f7f7f; font-weight: bold\">(2.0 MB)</span><span style=\"font-weight: bold\">                               </span>\n",
       "</pre>\n"
      ],
      "text/plain": [
       "\u001b[3m                                          CNN Summary                                          \u001b[0m\n",
       "┏━━━━━━━━━┳━━━━━━━━┳━━━━━━━━━━━━━━━━━━━━━━┳━━━━━━━━━━━━━━━━━━━━━┳━━━━━━━━━━━━━━━━━━━━━━━━━━━━━┓\n",
       "┃\u001b[1m \u001b[0m\u001b[1mpath   \u001b[0m\u001b[1m \u001b[0m┃\u001b[1m \u001b[0m\u001b[1mmodule\u001b[0m\u001b[1m \u001b[0m┃\u001b[1m \u001b[0m\u001b[1minputs              \u001b[0m\u001b[1m \u001b[0m┃\u001b[1m \u001b[0m\u001b[1moutputs            \u001b[0m\u001b[1m \u001b[0m┃\u001b[1m \u001b[0m\u001b[1mparams                     \u001b[0m\u001b[1m \u001b[0m┃\n",
       "┡━━━━━━━━━╇━━━━━━━━╇━━━━━━━━━━━━━━━━━━━━━━╇━━━━━━━━━━━━━━━━━━━━━╇━━━━━━━━━━━━━━━━━━━━━━━━━━━━━┩\n",
       "│         │ CNN    │ \u001b[2mfloat32\u001b[0m[2,100,100,1] │ \u001b[2mfloat32\u001b[0m[2,2]        │                             │\n",
       "├─────────┼────────┼──────────────────────┼─────────────────────┼─────────────────────────────┤\n",
       "│ Conv_0  │ Conv   │ \u001b[2mfloat32\u001b[0m[2,100,100,1] │ \u001b[2mfloat32\u001b[0m[2,31,31,32] │ bias: \u001b[2mfloat32\u001b[0m[32]           │\n",
       "│         │        │                      │                     │ kernel: \u001b[2mfloat32\u001b[0m[10,10,1,32] │\n",
       "│         │        │                      │                     │                             │\n",
       "│         │        │                      │                     │ \u001b[1m3,232 \u001b[0m\u001b[1;2m(12.9 KB)\u001b[0m             │\n",
       "├─────────┼────────┼──────────────────────┼─────────────────────┼─────────────────────────────┤\n",
       "│ Conv_1  │ Conv   │ \u001b[2mfloat32\u001b[0m[2,15,15,32]  │ \u001b[2mfloat32\u001b[0m[2,6,6,64]   │ bias: \u001b[2mfloat32\u001b[0m[64]           │\n",
       "│         │        │                      │                     │ kernel: \u001b[2mfloat32\u001b[0m[5,5,32,64]  │\n",
       "│         │        │                      │                     │                             │\n",
       "│         │        │                      │                     │ \u001b[1m51,264 \u001b[0m\u001b[1;2m(205.1 KB)\u001b[0m           │\n",
       "├─────────┼────────┼──────────────────────┼─────────────────────┼─────────────────────────────┤\n",
       "│ Dense_0 │ Dense  │ \u001b[2mfloat32\u001b[0m[2,576]       │ \u001b[2mfloat32\u001b[0m[2,576]      │ bias: \u001b[2mfloat32\u001b[0m[576]          │\n",
       "│         │        │                      │                     │ kernel: \u001b[2mfloat32\u001b[0m[576,576]    │\n",
       "│         │        │                      │                     │                             │\n",
       "│         │        │                      │                     │ \u001b[1m332,352 \u001b[0m\u001b[1;2m(1.3 MB)\u001b[0m            │\n",
       "├─────────┼────────┼──────────────────────┼─────────────────────┼─────────────────────────────┤\n",
       "│ Dense_1 │ Dense  │ \u001b[2mfloat32\u001b[0m[2,576]       │ \u001b[2mfloat32\u001b[0m[2,192]      │ bias: \u001b[2mfloat32\u001b[0m[192]          │\n",
       "│         │        │                      │                     │ kernel: \u001b[2mfloat32\u001b[0m[576,192]    │\n",
       "│         │        │                      │                     │                             │\n",
       "│         │        │                      │                     │ \u001b[1m110,784 \u001b[0m\u001b[1;2m(443.1 KB)\u001b[0m          │\n",
       "├─────────┼────────┼──────────────────────┼─────────────────────┼─────────────────────────────┤\n",
       "│ Dense_2 │ Dense  │ \u001b[2mfloat32\u001b[0m[2,192]       │ \u001b[2mfloat32\u001b[0m[2,24]       │ bias: \u001b[2mfloat32\u001b[0m[24]           │\n",
       "│         │        │                      │                     │ kernel: \u001b[2mfloat32\u001b[0m[192,24]     │\n",
       "│         │        │                      │                     │                             │\n",
       "│         │        │                      │                     │ \u001b[1m4,632 \u001b[0m\u001b[1;2m(18.5 KB)\u001b[0m             │\n",
       "├─────────┼────────┼──────────────────────┼─────────────────────┼─────────────────────────────┤\n",
       "│ Dense_3 │ Dense  │ \u001b[2mfloat32\u001b[0m[2,24]        │ \u001b[2mfloat32\u001b[0m[2,2]        │ bias: \u001b[2mfloat32\u001b[0m[2]            │\n",
       "│         │        │                      │                     │ kernel: \u001b[2mfloat32\u001b[0m[24,2]       │\n",
       "│         │        │                      │                     │                             │\n",
       "│         │        │                      │                     │ \u001b[1m50 \u001b[0m\u001b[1;2m(200 B)\u001b[0m                  │\n",
       "├─────────┼────────┼──────────────────────┼─────────────────────┼─────────────────────────────┤\n",
       "│\u001b[1m \u001b[0m\u001b[1m       \u001b[0m\u001b[1m \u001b[0m│\u001b[1m \u001b[0m\u001b[1m      \u001b[0m\u001b[1m \u001b[0m│\u001b[1m \u001b[0m\u001b[1m                    \u001b[0m\u001b[1m \u001b[0m│\u001b[1m \u001b[0m\u001b[1m              Total\u001b[0m\u001b[1m \u001b[0m│\u001b[1m \u001b[0m\u001b[1m502,314 \u001b[0m\u001b[1;2m(2.0 MB)\u001b[0m\u001b[1m           \u001b[0m\u001b[1m \u001b[0m│\n",
       "└─────────┴────────┴──────────────────────┴─────────────────────┴─────────────────────────────┘\n",
       "\u001b[1m                                                                                               \u001b[0m\n",
       "\u001b[1m                              Total Parameters: 502,314 \u001b[0m\u001b[1;2m(2.0 MB)\u001b[0m\u001b[1m                               \u001b[0m\n"
      ]
     },
     "metadata": {},
     "output_type": "display_data"
    },
    {
     "data": {
      "text/plain": [
       "'\\n\\n'"
      ]
     },
     "execution_count": 141,
     "metadata": {},
     "output_type": "execute_result"
    }
   ],
   "source": [
    "cnn = CNN()\n",
    "cnn.tabulate(jax.random.PRNGKey(0), jnp.zeros((BATCH_SIZE, 100, 100, 1)), console_kwargs={'force_jupyter': True})"
   ]
  },
  {
   "cell_type": "code",
   "execution_count": 151,
   "id": "b5fb010f-21aa-4cb4-aeaa-5d6670b5c1df",
   "metadata": {},
   "outputs": [],
   "source": [
    "@flax.struct.dataclass\n",
    "class Metrics(metrics.Collection):\n",
    "    #accuracy: metrics.Accuracy\n",
    "    loss: metrics.Average.from_output('loss')\n"
   ]
  },
  {
   "cell_type": "code",
   "execution_count": 152,
   "id": "ed8dbb6c-96e4-4f05-89bb-37dfb597cd98",
   "metadata": {},
   "outputs": [],
   "source": [
    "class TrainState(train_state.TrainState):\n",
    "    metrics: Metrics\n",
    "\n",
    "def create_train_state(module, rng, learning_rate, momentum):\n",
    "    \"\"\"Creates an initial `TrainState`.\"\"\"\n",
    "    params = module.init(rng, jnp.ones([BATCH_SIZE, 100, 100, 1]))['params'] # initialize parameters by passing a template image\n",
    "    tx = optax.sgd(learning_rate, momentum)\n",
    "    return TrainState.create(apply_fn=module.apply, params=params, tx=tx, metrics=Metrics.empty())"
   ]
  },
  {
   "cell_type": "code",
   "execution_count": 153,
   "id": "8cfb3cf1-c6fb-4e39-9c10-383a48792647",
   "metadata": {},
   "outputs": [],
   "source": [
    "make_onehot = lambda b: jax.lax.cond(b, lambda: jnp.array([0.0, 1.0]), lambda: jnp.array([1.0, 0.0]))"
   ]
  },
  {
   "cell_type": "code",
   "execution_count": 154,
   "id": "3ec3c604-8fc7-40a3-8e9d-7726bd6b57e0",
   "metadata": {},
   "outputs": [],
   "source": [
    "@jax.jit\n",
    "def make_batch(key):\n",
    "    keys = jax.random.split(key, BATCH_SIZE)\n",
    "    is_forks, imgs = zip(*map(fork_spoon_generator, keys))\n",
    "    img_batch = jnp.concatenate([img[:,:,2].reshape(1, 100, 100, 1) for img in imgs], 0)\n",
    "    label_batch = jnp.array([make_onehot(is_fork) for is_fork in is_forks])\n",
    "    return img_batch, label_batch"
   ]
  },
  {
   "cell_type": "code",
   "execution_count": 155,
   "id": "d9d94c23-8182-4379-aba7-81ebc8a5fe39",
   "metadata": {},
   "outputs": [],
   "source": [
    "@jax.jit\n",
    "def train_step(state, img_batch, label_batch): \n",
    "    \"\"\"Train for a single step.\"\"\"\n",
    "    assert img_batch.shape == (BATCH_SIZE, 100, 100, 1)\n",
    "    assert label_batch.shape == (BATCH_SIZE, 2) # one-hot labels\n",
    "    def loss_fn(params):\n",
    "        logits = state.apply_fn({'params': params}, img_batch)\n",
    "        loss = optax.sigmoid_binary_cross_entropy(logits=logits, labels=label_batch).mean()\n",
    "        return loss\n",
    "    grad_fn = jax.grad(loss_fn)\n",
    "    grads = grad_fn(state.params)\n",
    "    state = state.apply_gradients(grads=grads)\n",
    "    return state"
   ]
  },
  {
   "cell_type": "code",
   "execution_count": 156,
   "id": "8b7034ca-6540-48b9-926f-f23463896158",
   "metadata": {},
   "outputs": [],
   "source": [
    "@jax.jit\n",
    "def compute_metrics(*, state, img_batch, label_batch):\n",
    "    logits = state.apply_fn({'params': state.params}, img_batch)\n",
    "    loss = optax.sigmoid_binary_cross_entropy(logits=logits, labels=label_batch).mean()\n",
    "    metric_updates = state.metrics.single_from_model_output(\n",
    "        logits=logits, labels=label_batch, loss=loss)\n",
    "    metrics = state.metrics.merge(metric_updates)\n",
    "    state = state.replace(metrics=metrics)\n",
    "    return state"
   ]
  },
  {
   "cell_type": "code",
   "execution_count": 157,
   "id": "d0d11caa-3935-4ba5-acf3-6fe685de7bca",
   "metadata": {},
   "outputs": [],
   "source": [
    "learning_rate = 0.01\n",
    "momentum = 0.9\n",
    "init_rng = jax.random.PRNGKey(0)\n",
    "state = create_train_state(cnn, init_rng, learning_rate, momentum)\n",
    "del init_rng  # Must not be used anymore."
   ]
  },
  {
   "cell_type": "code",
   "execution_count": 158,
   "id": "58289c66-acac-4942-bf14-c503a66a911a",
   "metadata": {},
   "outputs": [],
   "source": [
    "metrics_history = {'train_loss': []}\n",
    "                   #'train_accuracy': []}"
   ]
  },
  {
   "cell_type": "code",
   "execution_count": 160,
   "id": "36c65902-e84b-4d87-937c-089ec9c3694b",
   "metadata": {},
   "outputs": [
    {
     "name": "stdout",
     "output_type": "stream",
     "text": [
      "train step: 0, loss: 0.705607533454895\n",
      "train step: 1, loss: 0.468073308467865\n",
      "train step: 2, loss: 0.31490254402160645\n",
      "train step: 3, loss: 0.8415378332138062\n",
      "train step: 4, loss: 0.8033997416496277\n",
      "train step: 5, loss: 0.7493113279342651\n",
      "train step: 6, loss: 0.7857053279876709\n",
      "train step: 7, loss: 0.6803973913192749\n",
      "train step: 8, loss: 0.689419686794281\n",
      "train step: 9, loss: 0.7037482857704163\n",
      "train step: 10, loss: 0.6912602186203003\n",
      "train step: 11, loss: 0.6923710107803345\n",
      "train step: 12, loss: 0.6906137466430664\n",
      "train step: 13, loss: 0.6906930208206177\n",
      "train step: 14, loss: 0.6838263869285583\n",
      "train step: 15, loss: 0.6927365064620972\n",
      "train step: 16, loss: 0.6915008425712585\n",
      "train step: 17, loss: 0.6926525831222534\n",
      "train step: 18, loss: 0.7107948064804077\n",
      "train step: 19, loss: 0.6918220520019531\n",
      "train step: 20, loss: 0.6732577681541443\n",
      "train step: 21, loss: 0.6910322904586792\n",
      "train step: 22, loss: 0.7068942785263062\n",
      "train step: 23, loss: 0.691716194152832\n",
      "train step: 24, loss: 0.6905232667922974\n",
      "train step: 25, loss: 0.691798746585846\n",
      "train step: 26, loss: 0.6883175373077393\n",
      "train step: 27, loss: 0.6925317645072937\n",
      "train step: 28, loss: 0.6883584260940552\n",
      "train step: 29, loss: 0.689332127571106\n",
      "train step: 30, loss: 0.6895112991333008\n",
      "train step: 31, loss: 0.6797912120819092\n",
      "train step: 32, loss: 0.6901841163635254\n",
      "train step: 33, loss: 0.664526104927063\n",
      "train step: 34, loss: 0.7179148197174072\n",
      "train step: 35, loss: 0.656722903251648\n",
      "train step: 36, loss: 0.6464071273803711\n",
      "train step: 37, loss: 0.6321848034858704\n",
      "train step: 38, loss: 0.6176745295524597\n",
      "train step: 39, loss: 0.7017601728439331\n",
      "train step: 40, loss: 0.801592230796814\n",
      "train step: 41, loss: 0.699373722076416\n",
      "train step: 42, loss: 0.7893204689025879\n",
      "train step: 43, loss: 0.605999231338501\n",
      "train step: 44, loss: 0.6017767786979675\n",
      "train step: 45, loss: 0.6921498775482178\n",
      "train step: 46, loss: 0.7731448411941528\n",
      "train step: 47, loss: 0.6904332637786865\n",
      "train step: 48, loss: 0.6146600246429443\n",
      "train step: 49, loss: 0.6089348196983337\n",
      "train step: 50, loss: 0.5958929061889648\n",
      "train step: 51, loss: 0.6894444823265076\n",
      "train step: 52, loss: 0.5727142095565796\n",
      "train step: 53, loss: 0.5558245182037354\n",
      "train step: 54, loss: 0.5343935489654541\n",
      "train step: 55, loss: 0.8866645097732544\n",
      "train step: 56, loss: 0.8763660192489624\n",
      "train step: 57, loss: 0.847000002861023\n",
      "train step: 58, loss: 0.8159079551696777\n",
      "train step: 59, loss: 0.5798326730728149\n",
      "train step: 60, loss: 0.7849376201629639\n",
      "train step: 61, loss: 0.7628499269485474\n",
      "train step: 62, loss: 0.6848523616790771\n",
      "train step: 63, loss: 0.7395020723342896\n",
      "train step: 64, loss: 0.694267749786377\n",
      "train step: 65, loss: 0.6565573215484619\n",
      "train step: 66, loss: 0.6563937664031982\n",
      "train step: 67, loss: 0.6942229270935059\n",
      "train step: 68, loss: 0.6508557796478271\n",
      "train step: 69, loss: 0.7326936721801758\n",
      "train step: 70, loss: 0.7291385531425476\n",
      "train step: 71, loss: 0.6507705450057983\n",
      "train step: 72, loss: 0.7302998304367065\n",
      "train step: 73, loss: 0.6924464702606201\n",
      "train step: 74, loss: 0.6877274513244629\n",
      "train step: 75, loss: 0.6882337331771851\n",
      "train step: 76, loss: 0.6527894735336304\n",
      "train step: 77, loss: 0.6890056729316711\n",
      "train step: 78, loss: 0.6396702527999878\n",
      "train step: 79, loss: 0.7434301376342773\n",
      "train step: 80, loss: 0.7319085597991943\n",
      "train step: 81, loss: 0.6832623481750488\n",
      "train step: 82, loss: 0.6816313862800598\n",
      "train step: 83, loss: 0.7081065773963928\n",
      "train step: 84, loss: 0.6602158546447754\n",
      "train step: 85, loss: 0.6828806400299072\n",
      "train step: 86, loss: 0.6814804077148438\n",
      "train step: 87, loss: 0.6760643720626831\n",
      "train step: 88, loss: 0.6807276606559753\n",
      "train step: 89, loss: 0.6975209712982178\n",
      "train step: 90, loss: 0.6431115865707397\n",
      "train step: 91, loss: 0.6243081092834473\n",
      "train step: 92, loss: 0.611687958240509\n",
      "train step: 93, loss: 0.753619909286499\n",
      "train step: 94, loss: 0.6749857664108276\n",
      "train step: 95, loss: 0.7597119808197021\n",
      "train step: 96, loss: 0.6684012413024902\n",
      "train step: 97, loss: 0.6696221828460693\n",
      "train step: 98, loss: 0.6701997518539429\n",
      "train step: 99, loss: 0.599751889705658\n"
     ]
    }
   ],
   "source": [
    "for step in range(100):\n",
    "    img_batch, label_batch = make_batch(key)\n",
    "    key = jax.random.split(key, 2)[0]\n",
    "    \n",
    "    # Run optimization steps over training batches and compute batch metrics\n",
    "    state = train_step(state, img_batch, label_batch) # get updated train state (which contains the updated parameters)\n",
    "    state = compute_metrics(state=state, img_batch=img_batch, label_batch=label_batch) # aggregate batch metrics\n",
    "    \n",
    "    for metric,value in state.metrics.compute().items(): # compute metrics\n",
    "        metrics_history[f'train_{metric}'].append(value) # record metrics\n",
    "    state = state.replace(metrics=state.metrics.empty()) # reset train_metrics for next training epoch\n",
    "    \n",
    "    # Compute metrics on the test set after each training epoch\n",
    "    \n",
    "    print(f'train step: {step}, '\n",
    "          f'loss: {metrics_history[\"train_loss\"][-1]}')\n",
    "          #f'accuracy: {metrics_history[\"train_accuracy\"][-1] * 100}')"
   ]
  },
  {
   "cell_type": "code",
   "execution_count": null,
   "id": "4274be50-3619-40ee-aba0-37d176b36de6",
   "metadata": {},
   "outputs": [],
   "source": []
  }
 ],
 "metadata": {
  "kernelspec": {
   "display_name": "Python 3 (ipykernel)",
   "language": "python",
   "name": "python3"
  },
  "language_info": {
   "codemirror_mode": {
    "name": "ipython",
    "version": 3
   },
   "file_extension": ".py",
   "mimetype": "text/x-python",
   "name": "python",
   "nbconvert_exporter": "python",
   "pygments_lexer": "ipython3",
   "version": "3.9.17"
  }
 },
 "nbformat": 4,
 "nbformat_minor": 5
}
