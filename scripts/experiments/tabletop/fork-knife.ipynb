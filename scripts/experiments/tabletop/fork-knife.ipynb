{
 "cells": [
  {
   "cell_type": "code",
   "execution_count": 2,
   "id": "1477c737-919d-4445-bc46-c139b9a3febf",
   "metadata": {},
   "outputs": [],
   "source": [
    "import bayes3d as b\n",
    "import os\n",
    "import jax.numpy as jnp\n",
    "import jax\n",
    "import bayes3d.genjax\n",
    "import genjax\n",
    "import matplotlib\n",
    "from tqdm import tqdm\n",
    "import matplotlib.pyplot as plt"
   ]
  },
  {
   "cell_type": "code",
   "execution_count": 3,
   "id": "dcb009c9-5d15-477a-8c19-673085f12f9a",
   "metadata": {},
   "outputs": [
    {
     "name": "stdout",
     "output_type": "stream",
     "text": [
      "You can open the visualizer by visiting the following URL:\n",
      "http://127.0.0.1:7001/static/\n"
     ]
    }
   ],
   "source": [
    "b.setup_visualizer()"
   ]
  },
  {
   "cell_type": "code",
   "execution_count": 4,
   "id": "41b66139-aa4a-4164-8393-217fc059c772",
   "metadata": {},
   "outputs": [
    {
     "name": "stderr",
     "output_type": "stream",
     "text": [
      "[E rasterize_gl.cpp:121] OpenGL version reported as 4.6\n"
     ]
    },
    {
     "name": "stdout",
     "output_type": "stream",
     "text": [
      "Increasing frame buffer size to (width, height, depth) = (224, 224, 1024)\n"
     ]
    }
   ],
   "source": [
    "intrinsics = b.Intrinsics(\n",
    "    height=200,\n",
    "    width=200,\n",
    "    fx=100.0, fy=100.0,\n",
    "    cx=100.0, cy=100.0,\n",
    "    near=0.01, far=20.0\n",
    ")\n",
    "\n",
    "b.setup_renderer(intrinsics)\n",
    "model_dir = os.path.join(b.utils.get_assets_dir(),\"bop/ycbv/models\")\n",
    "meshes = []\n",
    "for idx in range(1,22):\n",
    "    mesh_path = os.path.join(model_dir,\"obj_\" + \"{}\".format(idx).rjust(6, '0') + \".ply\")\n",
    "    b.RENDERER.add_mesh_from_file(mesh_path, scaling_factor=1.0/1000.0)\n",
    "b.RENDERER.add_mesh_from_file(os.path.join(b.utils.get_assets_dir(), \"sample_objs/cube.obj\"), scaling_factor=1.0/10000000.0)\n"
   ]
  },
  {
   "cell_type": "code",
   "execution_count": 98,
   "id": "ce5fb017-2bda-46a0-b7f0-78c9c321feab",
   "metadata": {},
   "outputs": [],
   "source": [
    "table_pose = b.t3d.inverse_pose(\n",
    "    b.t3d.transform_from_pos_target_up(\n",
    "        jnp.array([0.0, 0.4, 0.05]),\n",
    "        jnp.array([0.0, 0.0, 0.0]),\n",
    "        jnp.array([0.0, 0.0, 1.0]),\n",
    "    )\n",
    ")\n",
    "\n",
    "\n",
    "importance_jit = jax.jit(b.genjax.model.importance)\n",
    "update_jit = jax.jit(b.genjax.model.update)"
   ]
  },
  {
   "cell_type": "code",
   "execution_count": 99,
   "id": "96be9ab0-ee98-43de-a05d-758d040bfc48",
   "metadata": {},
   "outputs": [],
   "source": [
    "def get_depth_image(image):\n",
    "    mval = image[image < image.max()].max()\n",
    "    return b.get_depth_image(image, max=mval)"
   ]
  },
  {
   "cell_type": "code",
   "execution_count": 100,
   "id": "e9d64f15-f8fd-4870-bfd9-b2206987370c",
   "metadata": {},
   "outputs": [],
   "source": [
    "CHEESEITZ_BOX_IDX = 1\n",
    "FORK_IDX = 17 # XXX\n",
    "SPOON_IDX = 17 # XXX"
   ]
  },
  {
   "cell_type": "code",
   "execution_count": 113,
   "id": "3fb2037b-24ed-4db6-bec6-fc6524b863fa",
   "metadata": {},
   "outputs": [],
   "source": [
    "CHEESEITZ_BOX_CONTACT_PARAMS = [0.0, 0.2, 0.0]"
   ]
  },
  {
   "cell_type": "code",
   "execution_count": 114,
   "id": "f6a82e99-8b74-4f23-9c91-93d1eb9f8d4e",
   "metadata": {},
   "outputs": [],
   "source": [
    "SHIFT_MIN = -0.1\n",
    "SHIFT_SCALE = 0.5"
   ]
  },
  {
   "cell_type": "code",
   "execution_count": 115,
   "id": "64366773-62b9-4bea-8819-031eb453acd3",
   "metadata": {},
   "outputs": [],
   "source": [
    "def fork_spoon_generator(key):\n",
    "    is_fork = jax.random.bernoulli(key)\n",
    "    shift = SHIFT_MIN + SHIFT_SCALE * jax.random.uniform(key)\n",
    "\n",
    "    indices = jnp.array([21, CHEESEITZ_BOX_IDX, FORK_IDX if is_fork else SPOON_IDX])\n",
    "\n",
    "    box_dims = b.RENDERER.model_box_dims[indices]\n",
    "    root_poses = jnp.array([table_pose, table_pose, table_pose])\n",
    "    parents = jnp.array([-1, 0, 0])\n",
    "    contact_params = jnp.array([[0.0, 0.0, 0.0],\n",
    "                                [*CHEESEITZ_BOX_CONTACT_PARAMS],\n",
    "                                [shift, 0.0, 0.0]])\n",
    "    faces_parents = jnp.array([0, 2, 2])\n",
    "    faces_child = jnp.array([0, 3, 3])\n",
    "    poses = b.scene_graph.poses_from_scene_graph(\n",
    "        root_poses, box_dims, parents, contact_params, faces_parents, faces_child)\n",
    "    camera_pose = jnp.eye(4)\n",
    "    rendered = b.RENDERER.render(\n",
    "        jnp.linalg.inv(camera_pose) @ poses , indices\n",
    "    )[...,:3]\n",
    "    return (is_fork, rendered)"
   ]
  },
  {
   "cell_type": "code",
   "execution_count": 116,
   "id": "31e74d99-f0ad-4014-8894-88732b895701",
   "metadata": {},
   "outputs": [],
   "source": [
    "key = jax.random.PRNGKey(0)"
   ]
  },
  {
   "cell_type": "code",
   "execution_count": 117,
   "id": "a80e1f96-2473-470d-9e46-f1ea7316e5a4",
   "metadata": {},
   "outputs": [],
   "source": [
    "is_fork_img, img = fork_spoon_generator(key)"
   ]
  },
  {
   "cell_type": "code",
   "execution_count": 118,
   "id": "e4a76443-dc49-43d1-81e3-478c05d5b7bf",
   "metadata": {},
   "outputs": [
    {
     "data": {
      "image/jpeg": "[encoded data removed]",
      "image/png": "[encoded data removed]",
      "text/plain": [
       "<PIL.Image.Image image mode=RGB size=200x200>"
      ]
     },
     "execution_count": 118,
     "metadata": {},
     "output_type": "execute_result"
    }
   ],
   "source": [
    "get_depth_image(img[:, :, 2])"
   ]
  }
 ],
 "metadata": {
  "kernelspec": {
   "display_name": "Python 3 (ipykernel)",
   "language": "python",
   "name": "python3"
  },
  "language_info": {
   "codemirror_mode": {
    "name": "ipython",
    "version": 3
   },
   "file_extension": ".py",
   "mimetype": "text/x-python",
   "name": "python",
   "nbconvert_exporter": "python",
   "pygments_lexer": "ipython3",
   "version": "3.9.17"
  }
 },
 "nbformat": 4,
 "nbformat_minor": 5
}
