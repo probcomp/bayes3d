{
 "cells": [
  {
   "cell_type": "code",
   "execution_count": 105,
   "id": "1477c737-919d-4445-bc46-c139b9a3febf",
   "metadata": {},
   "outputs": [],
   "source": [
    "import bayes3d as b\n",
    "import os\n",
    "import jax.numpy as jnp\n",
    "import jax\n",
    "import bayes3d.genjax\n",
    "import genjax\n",
    "import matplotlib\n",
    "import matplotlib.pyplot as plt"
   ]
  },
  {
   "cell_type": "code",
   "execution_count": 58,
   "id": "dcb009c9-5d15-477a-8c19-673085f12f9a",
   "metadata": {},
   "outputs": [
    {
     "name": "stdout",
     "output_type": "stream",
     "text": [
      "You can open the visualizer by visiting the following URL:\n",
      "http://127.0.0.1:7001/static/\n"
     ]
    }
   ],
   "source": [
    "b.setup_visualizer()"
   ]
  },
  {
   "cell_type": "code",
   "execution_count": 2,
   "id": "41b66139-aa4a-4164-8393-217fc059c772",
   "metadata": {},
   "outputs": [
    {
     "name": "stderr",
     "output_type": "stream",
     "text": [
      "[E rasterize_gl.cpp:121] OpenGL version reported as 4.6\n"
     ]
    },
    {
     "name": "stdout",
     "output_type": "stream",
     "text": [
      "Increasing frame buffer size to (width, height, depth) = (128, 128, 1024)\n"
     ]
    }
   ],
   "source": [
    "intrinsics = b.Intrinsics(\n",
    "    height=100,\n",
    "    width=100,\n",
    "    fx=500.0, fy=500.0,\n",
    "    cx=50.0, cy=50.0,\n",
    "    near=0.01, far=20.0\n",
    ")\n",
    "\n",
    "b.setup_renderer(intrinsics)\n",
    "model_dir = os.path.join(b.utils.get_assets_dir(),\"bop/ycbv/models\")\n",
    "meshes = []\n",
    "for idx in range(1,22):\n",
    "    mesh_path = os.path.join(model_dir,\"obj_\" + \"{}\".format(idx).rjust(6, '0') + \".ply\")\n",
    "    b.RENDERER.add_mesh_from_file(mesh_path, scaling_factor=1.0/1000.0)\n",
    "b.RENDERER.add_mesh_from_file(os.path.join(b.utils.get_assets_dir(), \"sample_objs/cube.obj\"), scaling_factor=1.0/1000000000.0)\n"
   ]
  },
  {
   "cell_type": "code",
   "execution_count": 3,
   "id": "ce5fb017-2bda-46a0-b7f0-78c9c321feab",
   "metadata": {},
   "outputs": [],
   "source": [
    "table_pose = b.t3d.inverse_pose(\n",
    "    b.t3d.transform_from_pos_target_up(\n",
    "        jnp.array([0.0, 2.0, 1.20]),\n",
    "        jnp.array([0.0, 0.0, 0.0]),\n",
    "        jnp.array([0.0, 0.0, 1.0]),\n",
    "    )\n",
    ")\n",
    "\n",
    "key = jax.random.PRNGKey(500)\n",
    "\n",
    "importance_jit = jax.jit(b.genjax.model.importance)\n",
    "update_jit = jax.jit(b.genjax.model.update)"
   ]
  },
  {
   "cell_type": "code",
   "execution_count": 4,
   "id": "6da62f24-0ffd-43c5-a8ec-e820e8aab16c",
   "metadata": {},
   "outputs": [
    {
     "data": {
      "text/plain": [
       "'025_mug'"
      ]
     },
     "execution_count": 4,
     "metadata": {},
     "output_type": "execute_result"
    }
   ],
   "source": [
    "b.utils.ycb_loader.MODEL_NAMES[13]"
   ]
  },
  {
   "cell_type": "code",
   "execution_count": 18,
   "id": "03de5959-4a24-495d-bf1c-36c062022420",
   "metadata": {},
   "outputs": [],
   "source": [
    "single_enumerators = b.genjax.make_enumerator([f\"contact_params_1\"])"
   ]
  },
  {
   "cell_type": "code",
   "execution_count": 44,
   "id": "2125fb7b-b220-4ab7-bbcb-e5791a027723",
   "metadata": {},
   "outputs": [],
   "source": [
    "contact_enumerators = [b.genjax.make_enumerator([f\"contact_params_{i}\", \"variance\", \"outlier_prob\"]) for i in range(5)]\n",
    "\n",
    "def c2f_contact_update(trace_, key,  number, contact_param_deltas, VARIANCE_GRID, OUTLIER_GRID):\n",
    "    contact_param_grid = contact_param_deltas + trace_[f\"contact_params_{number}\"]\n",
    "    scores = contact_enumerators[number][3](trace_, key, contact_param_grid, VARIANCE_GRID, OUTLIER_GRID)\n",
    "    i,j,k = jnp.unravel_index(scores.argmax(), scores.shape)\n",
    "    return contact_enumerators[number][0](\n",
    "        trace_, key,\n",
    "        contact_param_grid[i], VARIANCE_GRID[j], OUTLIER_GRID[k]\n",
    "    )\n",
    "c2f_contact_update_jit = jax.jit(c2f_contact_update, static_argnames=(\"number\",))"
   ]
  },
  {
   "cell_type": "code",
   "execution_count": 137,
   "id": "5d83719d-bcfd-4ce2-a1e2-b6e8b15bfab8",
   "metadata": {},
   "outputs": [],
   "source": [
    "VARIANCE_GRID = jnp.array([0.001])\n",
    "OUTLIER_GRID = jnp.array([0.01])\n",
    "OUTLIER_VOLUME = 100.0\n",
    "\n",
    "grid_params = [\n",
    "    (0.3, jnp.pi, (11,11,11)), (0.2, jnp.pi, (11,11,11)), (0.1, jnp.pi, (11,11,11)),\n",
    "    (0.05, jnp.pi/3, (11,11,11)), (0.02, jnp.pi, (5,5,51)), (0.01, jnp.pi/5, (11,11,11)), (0.01, 0.0, (21,21,1)),(0.05, 0.0, (21,21,1))\n",
    "]\n",
    "contact_param_gridding_schedule = [\n",
    "    b.utils.make_translation_grid_enumeration_3d(\n",
    "        -x, -x, -ang,\n",
    "        x, x, ang,\n",
    "        *nums\n",
    "    )\n",
    "    for (x,ang,nums) in grid_params\n",
    "]"
   ]
  },
  {
   "cell_type": "code",
   "execution_count": 138,
   "id": "1e6174c4-f8dd-4caa-b4e3-b009ce4ba65b",
   "metadata": {},
   "outputs": [
    {
     "name": "stdout",
     "output_type": "stream",
     "text": [
      "[624233589 966953376]\n"
     ]
    },
    {
     "data": {
      "image/jpeg": "[encoded data removed]",
      "image/png": "[encoded data removed]",
      "text/plain": [
       "<PIL.Image.Image image mode=RGB size=210x100>"
      ]
     },
     "execution_count": 138,
     "metadata": {},
     "output_type": "execute_result"
    }
   ],
   "source": [
    "key = jax.random.split(key,1)[0]\n",
    "print(key)\n",
    "weight, trace = importance_jit(key, genjax.choice_map({\n",
    "    \"parent_0\": -1,\n",
    "    \"parent_1\": 0,\n",
    "    \"id_0\": jnp.int32(21),\n",
    "    \"id_1\": jnp.int32(13),\n",
    "    \"camera_pose\": jnp.eye(4),\n",
    "    \"root_pose_0\": table_pose,\n",
    "    \"face_parent_1\": 2,\n",
    "    \"face_child_1\": 3,\n",
    "    \"variance\": VARIANCE_GRID[0],\n",
    "    \"outlier_prob\": OUTLIER_GRID[0],\n",
    "}), (\n",
    "    jnp.arange(2),\n",
    "    jnp.arange(22),\n",
    "    jnp.array([-jnp.ones(3)*100.0, jnp.ones(3)*100.0]),\n",
    "    jnp.array([jnp.array([-0.2, -0.2, -2*jnp.pi]), jnp.array([0.2, 0.2, 2*jnp.pi])]),\n",
    "    b.RENDERER.model_box_dims, OUTLIER_VOLUME)\n",
    "                              )\n",
    "_, weight, trace, discard = update_jit(\n",
    "    key,\n",
    "    trace,\n",
    "    genjax.choice_map({\"contact_params_1\": jnp.zeros(3)}),\n",
    "    b.genjax.make_unknown_change_argdiffs(trace)\n",
    ")\n",
    "\n",
    "b.hstack_images([\n",
    "    b.get_depth_image(b.genjax.get_rendered_image(trace)[...,2]),\n",
    "    b.get_depth_image(trace[\"image\"][...,2])\n",
    "])"
   ]
  },
  {
   "cell_type": "code",
   "execution_count": 139,
   "id": "be6275ef-99c0-421f-8d81-4aac18701859",
   "metadata": {},
   "outputs": [
    {
     "data": {
      "image/jpeg": "[encoded data removed]",
      "image/png": "[encoded data removed]",
      "text/plain": [
       "<PIL.Image.Image image mode=RGB size=210x100>"
      ]
     },
     "execution_count": 139,
     "metadata": {},
     "output_type": "execute_result"
    }
   ],
   "source": [
    "path = []\n",
    "trace_ = trace\n",
    "path.append(trace_)\n",
    "number = 1\n",
    "V_GRID = VARIANCE_GRID\n",
    "O_GRID = OUTLIER_GRID\n",
    "for c2f_iter in range(len(contact_param_gridding_schedule)):\n",
    "    trace_ = c2f_contact_update_jit(trace_, key, number,\n",
    "        contact_param_gridding_schedule[c2f_iter], V_GRID, O_GRID)\n",
    "    path.append(trace_)\n",
    "trace = trace_\n",
    "b.hstack_images([\n",
    "    b.get_depth_image(b.genjax.get_rendered_image(trace)[...,2]),\n",
    "    b.get_depth_image(trace[\"image\"][...,2])\n",
    "])"
   ]
  },
  {
   "cell_type": "code",
   "execution_count": 140,
   "id": "c9c980d6-119a-4b10-b9d8-9786ab5402cb",
   "metadata": {},
   "outputs": [
    {
     "name": "stdout",
     "output_type": "stream",
     "text": [
      "[-0.18500002 -0.04799999  1.1627064 ]\n"
     ]
    },
    {
     "data": {
      "image/jpeg": "[encoded data removed]",
      "image/png": "[encoded data removed]",
      "text/plain": [
       "<PIL.Image.Image image mode=RGB size=210x100>"
      ]
     },
     "execution_count": 140,
     "metadata": {},
     "output_type": "execute_result"
    }
   ],
   "source": [
    "width = 0.01\n",
    "ang = jnp.pi\n",
    "contact_param_deltas = b.utils.make_translation_grid_enumeration_3d(\n",
    "    -width, -width, -ang,\n",
    "    width, width, ang,\n",
    "    9,9,100\n",
    ")\n",
    "contact_param_grid = contact_param_deltas + trace_[f\"contact_params_{number}\"]\n",
    "weights = single_enumerators[3](\n",
    "    trace_,\n",
    "    key,\n",
    "    contact_param_grid,\n",
    ")\n",
    "print(contact_param_grid[weights.argmax()])\n",
    "best_trace = single_enumerators[0](trace_, key, contact_param_grid[weights.argmax()])\n",
    "\n",
    "# b.genjax.viz_trace_meshcat(best_trace)\n",
    "b.hstack_images([\n",
    "    b.get_depth_image(b.genjax.get_rendered_image(best_trace)[...,2]),\n",
    "    b.get_depth_image(best_trace[\"image\"][...,2])\n",
    "])"
   ]
  },
  {
   "cell_type": "code",
   "execution_count": 141,
   "id": "21ade4d9-7797-4c72-be3d-ef7d16e09ab9",
   "metadata": {},
   "outputs": [
    {
     "name": "stdout",
     "output_type": "stream",
     "text": [
      "[55758.812 55763.484 55781.383 ... 57848.164 57852.75  57853.12 ]\n",
      "[0.         0.         0.         ... 0.00410277 0.40246135 0.58329487]\n",
      "[4051 4050 4051 4050 4051 4051 4050 4951 4050 4051 4050 4051 4050 4051\n",
      " 4051 4050 4051 4050 4050 4050 4051 4050 4051 4051 4051 4051 4050 4050\n",
      " 4050 4051 4051 4051 4051 4051 4050 4051 4050 4050 4050 4050 4051 4050\n",
      " 4050 4050 4050 4050 4050 4050 4051 4050 4050 4051 4050 4051 4051 4050\n",
      " 4050 4050 4051 4051 4050 4050 4051 4050 4050 4050 4051 4050 4051 4050\n",
      " 4051 4050 4050 4050 4050 4051 4051 4050 4050 4050 4050 4050 4050 4051\n",
      " 4050 4050 4050 4050 4051 4050 4050 4051 4050 4050 4050 4050 4051 4051\n",
      " 4050 4051]\n",
      "[57852.75  57853.12  57852.75  57853.12  57852.75  57852.75  57853.12\n",
      " 57847.844 57853.12  57852.75  57853.12  57852.75  57853.12  57852.75\n",
      " 57852.75  57853.12  57852.75  57853.12  57853.12  57853.12  57852.75\n",
      " 57853.12  57852.75  57852.75  57852.75  57852.75  57853.12  57853.12\n",
      " 57853.12  57852.75  57852.75  57852.75  57852.75  57852.75  57853.12\n",
      " 57852.75  57853.12  57853.12  57853.12  57853.12  57852.75  57853.12\n",
      " 57853.12  57853.12  57853.12  57853.12  57853.12  57853.12  57852.75\n",
      " 57853.12  57853.12  57852.75  57853.12  57852.75  57852.75  57853.12\n",
      " 57853.12  57853.12  57852.75  57852.75  57853.12  57853.12  57852.75\n",
      " 57853.12  57853.12  57853.12  57852.75  57853.12  57852.75  57853.12\n",
      " 57852.75  57853.12  57853.12  57853.12  57853.12  57852.75  57852.75\n",
      " 57853.12  57853.12  57853.12  57853.12  57853.12  57853.12  57852.75\n",
      " 57853.12  57853.12  57853.12  57853.12  57852.75  57853.12  57853.12\n",
      " 57852.75  57853.12  57853.12  57853.12  57853.12  57852.75  57852.75\n",
      " 57853.12  57852.75 ]\n"
     ]
    }
   ],
   "source": [
    "print(jnp.sort(weights))\n",
    "print(jnp.sort(b.utils.normalize_log_scores(weights)))\n",
    "sampled_indices = jax.random.categorical(key, weights, shape=(100,))\n",
    "print(sampled_indices)\n",
    "print(weights[sampled_indices])"
   ]
  },
  {
   "cell_type": "code",
   "execution_count": 142,
   "id": "f14d7bec-43c3-4eac-9d9a-78328022f237",
   "metadata": {},
   "outputs": [],
   "source": [
    "sampled_params = contact_param_grid[sampled_indices]"
   ]
  },
  {
   "cell_type": "code",
   "execution_count": 143,
   "id": "38c92c43-78cd-49e1-aa4f-99769a53a278",
   "metadata": {},
   "outputs": [
    {
     "data": {
      "image/png": "[encoded data removed]",
      "text/plain": [
       "<Figure size 640x480 with 1 Axes>"
      ]
     },
     "metadata": {},
     "output_type": "display_data"
    }
   ],
   "source": [
    "fig = plt.figure()\n",
    "ax = fig.add_subplot(1, 1, 1, aspect=\"equal\")\n",
    "circ = plt.Circle((0, 0), radius=1, edgecolor='b', facecolor='None')\n",
    "ax.add_patch(circ)\n",
    "plt.xlim(-2.0, 2.0)\n",
    "plt.ylim(-2.0, 2.0)\n",
    "plt.scatter(jnp.cos(sampled_params[:,2]),jnp.sin(sampled_params[:,2]))\n",
    "plt.show()"
   ]
  },
  {
   "cell_type": "code",
   "execution_count": 71,
   "id": "bab07f3c-e518-411a-9a3b-f1897390e6c7",
   "metadata": {},
   "outputs": [],
   "source": []
  },
  {
   "cell_type": "code",
   "execution_count": 34,
   "id": "e20235a1-a07e-42a7-84c1-9a62ae1a8f5f",
   "metadata": {},
   "outputs": [
    {
     "data": {
      "text/plain": [
       "Array([0.116966, 0.093075, 0.081384], dtype=float32)"
      ]
     },
     "execution_count": 34,
     "metadata": {},
     "output_type": "execute_result"
    }
   ],
   "source": [
    "b.RENDERER.model_box_dims[13]"
   ]
  },
  {
   "cell_type": "code",
   "execution_count": null,
   "id": "4c7d96e0-0093-4aae-bc9b-4d1c57b85aab",
   "metadata": {},
   "outputs": [],
   "source": []
  }
 ],
 "metadata": {
  "kernelspec": {
   "display_name": "Python 3 (ipykernel)",
   "language": "python",
   "name": "python3"
  },
  "language_info": {
   "codemirror_mode": {
    "name": "ipython",
    "version": 3
   },
   "file_extension": ".py",
   "mimetype": "text/x-python",
   "name": "python",
   "nbconvert_exporter": "python",
   "pygments_lexer": "ipython3",
   "version": "3.9.17"
  }
 },
 "nbformat": 4,
 "nbformat_minor": 5
}
