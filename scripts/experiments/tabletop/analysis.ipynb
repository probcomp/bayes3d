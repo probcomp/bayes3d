{
 "cells": [
  {
   "cell_type": "code",
   "execution_count": 1,
   "id": "c155a0e9-4c2f-4310-804f-c4923f7f7588",
   "metadata": {},
   "outputs": [],
   "source": [
    "import bayes3d as b\n",
    "import bayes3d.genjax\n",
    "import joblib\n",
    "from tqdm import tqdm\n",
    "import os\n",
    "import jax.numpy as jnp\n",
    "import jax\n",
    "import numpy as np"
   ]
  },
  {
   "cell_type": "code",
   "execution_count": 2,
   "id": "09e0619f-c380-4c4a-aeb0-322e564ab6db",
   "metadata": {},
   "outputs": [
    {
     "name": "stdout",
     "output_type": "stream",
     "text": [
      "You can open the visualizer by visiting the following URL:\n",
      "http://127.0.0.1:7004/static/\n"
     ]
    }
   ],
   "source": [
    "b.setup_visualizer()"
   ]
  },
  {
   "cell_type": "code",
   "execution_count": 3,
   "id": "d66fdc3b-5613-4114-9aa1-30a385884159",
   "metadata": {},
   "outputs": [
    {
     "name": "stderr",
     "output_type": "stream",
     "text": [
      "[E rasterize_gl.cpp:121] OpenGL version reported as 4.6\n",
      "No GPU/TPU found, falling back to CPU. (Set TF_CPP_MIN_LOG_LEVEL=0 and rerun for more info.)\n"
     ]
    },
    {
     "name": "stdout",
     "output_type": "stream",
     "text": [
      "Increasing frame buffer size to (width, height, depth) = (128, 128, 1024)\n"
     ]
    }
   ],
   "source": [
    "intrinsics = b.Intrinsics(\n",
    "    height=100,\n",
    "    width=100,\n",
    "    fx=500.0, fy=500.0,\n",
    "    cx=50.0, cy=50.0,\n",
    "    near=0.01, far=20.0\n",
    ")\n",
    "\n",
    "b.setup_renderer(intrinsics)\n",
    "model_dir = os.path.join(b.utils.get_assets_dir(),\"bop/ycbv/models\")\n",
    "meshes = []\n",
    "for idx in range(1,22):\n",
    "    mesh_path = os.path.join(model_dir,\"obj_\" + \"{}\".format(idx).rjust(6, '0') + \".ply\")\n",
    "    b.RENDERER.add_mesh_from_file(mesh_path, scaling_factor=1.0/1000.0)\n",
    "\n",
    "b.RENDERER.add_mesh_from_file(os.path.join(b.utils.get_assets_dir(), \"sample_objs/cube.obj\"), scaling_factor=1.0/1000000000.0)\n"
   ]
  },
  {
   "cell_type": "code",
   "execution_count": 4,
   "id": "03610b60-fcfa-44a6-9da6-02fe8cba4bc6",
   "metadata": {},
   "outputs": [],
   "source": [
    "importance_jit = jax.jit(b.genjax.model.importance)\n",
    "key = jax.random.PRNGKey(10)"
   ]
  },
  {
   "cell_type": "code",
   "execution_count": 5,
   "id": "18490fc9-073e-4cdd-953e-02198c53e845",
   "metadata": {},
   "outputs": [
    {
     "name": "stderr",
     "output_type": "stream",
     "text": [
      "  0%|                                                                                                                                                                                                               | 0/100 [00:02<?, ?it/s]\n"
     ]
    },
    {
     "ename": "NotImplementedError",
     "evalue": "MLIR translation rule for primitive 'render_multiple_140286986571936' not found for platform cpu",
     "output_type": "error",
     "traceback": [
      "\u001b[0;31m---------------------------------------------------------------------------\u001b[0m",
      "\u001b[0;31mJaxStackTraceBeforeTransformation\u001b[0m         Traceback (most recent call last)",
      "File \u001b[0;32m/opt/conda/envs/bayes3d/lib/python3.9/runpy.py:197\u001b[0m, in \u001b[0;36m_run_module_as_main\u001b[0;34m()\u001b[0m\n\u001b[1;32m    196\u001b[0m     sys\u001b[38;5;241m.\u001b[39margv[\u001b[38;5;241m0\u001b[39m] \u001b[38;5;241m=\u001b[39m mod_spec\u001b[38;5;241m.\u001b[39morigin\n\u001b[0;32m--> 197\u001b[0m \u001b[38;5;28;01mreturn\u001b[39;00m _run_code(code, main_globals, \u001b[38;5;28;01mNone\u001b[39;00m,\n\u001b[1;32m    198\u001b[0m                  \u001b[38;5;124m\"\u001b[39m\u001b[38;5;124m__main__\u001b[39m\u001b[38;5;124m\"\u001b[39m, mod_spec)\n",
      "File \u001b[0;32m/opt/conda/envs/bayes3d/lib/python3.9/runpy.py:87\u001b[0m, in \u001b[0;36m_run_code\u001b[0;34m()\u001b[0m\n\u001b[1;32m     80\u001b[0m run_globals\u001b[38;5;241m.\u001b[39mupdate(\u001b[38;5;18m__name__\u001b[39m \u001b[38;5;241m=\u001b[39m mod_name,\n\u001b[1;32m     81\u001b[0m                    \u001b[38;5;18m__file__\u001b[39m \u001b[38;5;241m=\u001b[39m fname,\n\u001b[1;32m     82\u001b[0m                    __cached__ \u001b[38;5;241m=\u001b[39m cached,\n\u001b[0;32m   (...)\u001b[0m\n\u001b[1;32m     85\u001b[0m                    __package__ \u001b[38;5;241m=\u001b[39m pkg_name,\n\u001b[1;32m     86\u001b[0m                    __spec__ \u001b[38;5;241m=\u001b[39m mod_spec)\n\u001b[0;32m---> 87\u001b[0m exec(code, run_globals)\n\u001b[1;32m     88\u001b[0m \u001b[38;5;28;01mreturn\u001b[39;00m run_globals\n",
      "File \u001b[0;32m/opt/conda/envs/bayes3d/lib/python3.9/site-packages/ipykernel_launcher.py:17\u001b[0m\n\u001b[1;32m     15\u001b[0m \u001b[38;5;28;01mfrom\u001b[39;00m \u001b[38;5;21;01mipykernel\u001b[39;00m \u001b[38;5;28;01mimport\u001b[39;00m kernelapp \u001b[38;5;28;01mas\u001b[39;00m app\n\u001b[0;32m---> 17\u001b[0m app\u001b[38;5;241m.\u001b[39mlaunch_new_instance()\n",
      "File \u001b[0;32m/opt/conda/envs/bayes3d/lib/python3.9/site-packages/traitlets/config/application.py:1043\u001b[0m, in \u001b[0;36mlaunch_instance\u001b[0;34m()\u001b[0m\n\u001b[1;32m   1042\u001b[0m app\u001b[38;5;241m.\u001b[39minitialize(argv)\n\u001b[0;32m-> 1043\u001b[0m app\u001b[38;5;241m.\u001b[39mstart()\n",
      "File \u001b[0;32m/opt/conda/envs/bayes3d/lib/python3.9/site-packages/ipykernel/kernelapp.py:728\u001b[0m, in \u001b[0;36mstart\u001b[0;34m()\u001b[0m\n\u001b[1;32m    727\u001b[0m \u001b[38;5;28;01mtry\u001b[39;00m:\n\u001b[0;32m--> 728\u001b[0m     \u001b[38;5;28mself\u001b[39m\u001b[38;5;241m.\u001b[39mio_loop\u001b[38;5;241m.\u001b[39mstart()\n\u001b[1;32m    729\u001b[0m \u001b[38;5;28;01mexcept\u001b[39;00m \u001b[38;5;167;01mKeyboardInterrupt\u001b[39;00m:\n",
      "File \u001b[0;32m/opt/conda/envs/bayes3d/lib/python3.9/site-packages/tornado/platform/asyncio.py:195\u001b[0m, in \u001b[0;36mstart\u001b[0;34m()\u001b[0m\n\u001b[1;32m    194\u001b[0m \u001b[38;5;28;01mdef\u001b[39;00m \u001b[38;5;21mstart\u001b[39m(\u001b[38;5;28mself\u001b[39m) \u001b[38;5;241m-\u001b[39m\u001b[38;5;241m>\u001b[39m \u001b[38;5;28;01mNone\u001b[39;00m:\n\u001b[0;32m--> 195\u001b[0m     \u001b[38;5;28mself\u001b[39m\u001b[38;5;241m.\u001b[39masyncio_loop\u001b[38;5;241m.\u001b[39mrun_forever()\n",
      "File \u001b[0;32m/opt/conda/envs/bayes3d/lib/python3.9/asyncio/base_events.py:601\u001b[0m, in \u001b[0;36mrun_forever\u001b[0;34m()\u001b[0m\n\u001b[1;32m    600\u001b[0m \u001b[38;5;28;01mwhile\u001b[39;00m \u001b[38;5;28;01mTrue\u001b[39;00m:\n\u001b[0;32m--> 601\u001b[0m     \u001b[38;5;28mself\u001b[39m\u001b[38;5;241m.\u001b[39m_run_once()\n\u001b[1;32m    602\u001b[0m     \u001b[38;5;28;01mif\u001b[39;00m \u001b[38;5;28mself\u001b[39m\u001b[38;5;241m.\u001b[39m_stopping:\n",
      "File \u001b[0;32m/opt/conda/envs/bayes3d/lib/python3.9/asyncio/base_events.py:1905\u001b[0m, in \u001b[0;36m_run_once\u001b[0;34m()\u001b[0m\n\u001b[1;32m   1904\u001b[0m     \u001b[38;5;28;01melse\u001b[39;00m:\n\u001b[0;32m-> 1905\u001b[0m         handle\u001b[38;5;241m.\u001b[39m_run()\n\u001b[1;32m   1906\u001b[0m handle \u001b[38;5;241m=\u001b[39m \u001b[38;5;28;01mNone\u001b[39;00m\n",
      "File \u001b[0;32m/opt/conda/envs/bayes3d/lib/python3.9/asyncio/events.py:80\u001b[0m, in \u001b[0;36m_run\u001b[0;34m()\u001b[0m\n\u001b[1;32m     79\u001b[0m \u001b[38;5;28;01mtry\u001b[39;00m:\n\u001b[0;32m---> 80\u001b[0m     \u001b[38;5;28mself\u001b[39m\u001b[38;5;241m.\u001b[39m_context\u001b[38;5;241m.\u001b[39mrun(\u001b[38;5;28mself\u001b[39m\u001b[38;5;241m.\u001b[39m_callback, \u001b[38;5;241m*\u001b[39m\u001b[38;5;28mself\u001b[39m\u001b[38;5;241m.\u001b[39m_args)\n\u001b[1;32m     81\u001b[0m \u001b[38;5;28;01mexcept\u001b[39;00m (\u001b[38;5;167;01mSystemExit\u001b[39;00m, \u001b[38;5;167;01mKeyboardInterrupt\u001b[39;00m):\n",
      "File \u001b[0;32m/opt/conda/envs/bayes3d/lib/python3.9/site-packages/ipykernel/kernelbase.py:516\u001b[0m, in \u001b[0;36mdispatch_queue\u001b[0;34m()\u001b[0m\n\u001b[1;32m    515\u001b[0m \u001b[38;5;28;01mtry\u001b[39;00m:\n\u001b[0;32m--> 516\u001b[0m     \u001b[38;5;28;01mawait\u001b[39;00m \u001b[38;5;28mself\u001b[39m\u001b[38;5;241m.\u001b[39mprocess_one()\n\u001b[1;32m    517\u001b[0m \u001b[38;5;28;01mexcept\u001b[39;00m \u001b[38;5;167;01mException\u001b[39;00m:\n",
      "File \u001b[0;32m/opt/conda/envs/bayes3d/lib/python3.9/site-packages/ipykernel/kernelbase.py:505\u001b[0m, in \u001b[0;36mprocess_one\u001b[0;34m()\u001b[0m\n\u001b[1;32m    504\u001b[0m         \u001b[38;5;28;01mreturn\u001b[39;00m \u001b[38;5;28;01mNone\u001b[39;00m\n\u001b[0;32m--> 505\u001b[0m \u001b[38;5;28;01mawait\u001b[39;00m dispatch(\u001b[38;5;241m*\u001b[39margs)\n",
      "File \u001b[0;32m/opt/conda/envs/bayes3d/lib/python3.9/site-packages/ipykernel/kernelbase.py:412\u001b[0m, in \u001b[0;36mdispatch_shell\u001b[0;34m()\u001b[0m\n\u001b[1;32m    411\u001b[0m     \u001b[38;5;28;01mif\u001b[39;00m inspect\u001b[38;5;241m.\u001b[39misawaitable(result):\n\u001b[0;32m--> 412\u001b[0m         \u001b[38;5;28;01mawait\u001b[39;00m result\n\u001b[1;32m    413\u001b[0m \u001b[38;5;28;01mexcept\u001b[39;00m \u001b[38;5;167;01mException\u001b[39;00m:\n",
      "File \u001b[0;32m/opt/conda/envs/bayes3d/lib/python3.9/site-packages/ipykernel/kernelbase.py:740\u001b[0m, in \u001b[0;36mexecute_request\u001b[0;34m()\u001b[0m\n\u001b[1;32m    739\u001b[0m \u001b[38;5;28;01mif\u001b[39;00m inspect\u001b[38;5;241m.\u001b[39misawaitable(reply_content):\n\u001b[0;32m--> 740\u001b[0m     reply_content \u001b[38;5;241m=\u001b[39m \u001b[38;5;28;01mawait\u001b[39;00m reply_content\n\u001b[1;32m    742\u001b[0m \u001b[38;5;66;03m# Flush output before sending the reply.\u001b[39;00m\n",
      "File \u001b[0;32m/opt/conda/envs/bayes3d/lib/python3.9/site-packages/ipykernel/ipkernel.py:422\u001b[0m, in \u001b[0;36mdo_execute\u001b[0;34m()\u001b[0m\n\u001b[1;32m    421\u001b[0m \u001b[38;5;28;01mif\u001b[39;00m with_cell_id:\n\u001b[0;32m--> 422\u001b[0m     res \u001b[38;5;241m=\u001b[39m shell\u001b[38;5;241m.\u001b[39mrun_cell(\n\u001b[1;32m    423\u001b[0m         code,\n\u001b[1;32m    424\u001b[0m         store_history\u001b[38;5;241m=\u001b[39mstore_history,\n\u001b[1;32m    425\u001b[0m         silent\u001b[38;5;241m=\u001b[39msilent,\n\u001b[1;32m    426\u001b[0m         cell_id\u001b[38;5;241m=\u001b[39mcell_id,\n\u001b[1;32m    427\u001b[0m     )\n\u001b[1;32m    428\u001b[0m \u001b[38;5;28;01melse\u001b[39;00m:\n",
      "File \u001b[0;32m/opt/conda/envs/bayes3d/lib/python3.9/site-packages/ipykernel/zmqshell.py:540\u001b[0m, in \u001b[0;36mrun_cell\u001b[0;34m()\u001b[0m\n\u001b[1;32m    539\u001b[0m \u001b[38;5;28mself\u001b[39m\u001b[38;5;241m.\u001b[39m_last_traceback \u001b[38;5;241m=\u001b[39m \u001b[38;5;28;01mNone\u001b[39;00m\n\u001b[0;32m--> 540\u001b[0m \u001b[38;5;28;01mreturn\u001b[39;00m \u001b[38;5;28msuper\u001b[39m()\u001b[38;5;241m.\u001b[39mrun_cell(\u001b[38;5;241m*\u001b[39margs, \u001b[38;5;241m*\u001b[39m\u001b[38;5;241m*\u001b[39mkwargs)\n",
      "File \u001b[0;32m/opt/conda/envs/bayes3d/lib/python3.9/site-packages/IPython/core/interactiveshell.py:3009\u001b[0m, in \u001b[0;36mrun_cell\u001b[0;34m()\u001b[0m\n\u001b[1;32m   3008\u001b[0m \u001b[38;5;28;01mtry\u001b[39;00m:\n\u001b[0;32m-> 3009\u001b[0m     result \u001b[38;5;241m=\u001b[39m \u001b[38;5;28mself\u001b[39m\u001b[38;5;241m.\u001b[39m_run_cell(\n\u001b[1;32m   3010\u001b[0m         raw_cell, store_history, silent, shell_futures, cell_id\n\u001b[1;32m   3011\u001b[0m     )\n\u001b[1;32m   3012\u001b[0m \u001b[38;5;28;01mfinally\u001b[39;00m:\n",
      "File \u001b[0;32m/opt/conda/envs/bayes3d/lib/python3.9/site-packages/IPython/core/interactiveshell.py:3064\u001b[0m, in \u001b[0;36m_run_cell\u001b[0;34m()\u001b[0m\n\u001b[1;32m   3063\u001b[0m \u001b[38;5;28;01mtry\u001b[39;00m:\n\u001b[0;32m-> 3064\u001b[0m     result \u001b[38;5;241m=\u001b[39m runner(coro)\n\u001b[1;32m   3065\u001b[0m \u001b[38;5;28;01mexcept\u001b[39;00m \u001b[38;5;167;01mBaseException\u001b[39;00m \u001b[38;5;28;01mas\u001b[39;00m e:\n",
      "File \u001b[0;32m/opt/conda/envs/bayes3d/lib/python3.9/site-packages/IPython/core/async_helpers.py:129\u001b[0m, in \u001b[0;36m_pseudo_sync_runner\u001b[0;34m()\u001b[0m\n\u001b[1;32m    128\u001b[0m \u001b[38;5;28;01mtry\u001b[39;00m:\n\u001b[0;32m--> 129\u001b[0m     coro\u001b[38;5;241m.\u001b[39msend(\u001b[38;5;28;01mNone\u001b[39;00m)\n\u001b[1;32m    130\u001b[0m \u001b[38;5;28;01mexcept\u001b[39;00m \u001b[38;5;167;01mStopIteration\u001b[39;00m \u001b[38;5;28;01mas\u001b[39;00m exc:\n",
      "File \u001b[0;32m/opt/conda/envs/bayes3d/lib/python3.9/site-packages/IPython/core/interactiveshell.py:3269\u001b[0m, in \u001b[0;36mrun_cell_async\u001b[0;34m()\u001b[0m\n\u001b[1;32m   3266\u001b[0m interactivity \u001b[38;5;241m=\u001b[39m \u001b[38;5;124m\"\u001b[39m\u001b[38;5;124mnone\u001b[39m\u001b[38;5;124m\"\u001b[39m \u001b[38;5;28;01mif\u001b[39;00m silent \u001b[38;5;28;01melse\u001b[39;00m \u001b[38;5;28mself\u001b[39m\u001b[38;5;241m.\u001b[39mast_node_interactivity\n\u001b[0;32m-> 3269\u001b[0m has_raised \u001b[38;5;241m=\u001b[39m \u001b[38;5;28;01mawait\u001b[39;00m \u001b[38;5;28mself\u001b[39m\u001b[38;5;241m.\u001b[39mrun_ast_nodes(code_ast\u001b[38;5;241m.\u001b[39mbody, cell_name,\n\u001b[1;32m   3270\u001b[0m        interactivity\u001b[38;5;241m=\u001b[39minteractivity, compiler\u001b[38;5;241m=\u001b[39mcompiler, result\u001b[38;5;241m=\u001b[39mresult)\n\u001b[1;32m   3272\u001b[0m \u001b[38;5;28mself\u001b[39m\u001b[38;5;241m.\u001b[39mlast_execution_succeeded \u001b[38;5;241m=\u001b[39m \u001b[38;5;129;01mnot\u001b[39;00m has_raised\n",
      "File \u001b[0;32m/opt/conda/envs/bayes3d/lib/python3.9/site-packages/IPython/core/interactiveshell.py:3448\u001b[0m, in \u001b[0;36mrun_ast_nodes\u001b[0;34m()\u001b[0m\n\u001b[1;32m   3447\u001b[0m     asy \u001b[38;5;241m=\u001b[39m compare(code)\n\u001b[0;32m-> 3448\u001b[0m \u001b[38;5;28;01mif\u001b[39;00m \u001b[38;5;28;01mawait\u001b[39;00m \u001b[38;5;28mself\u001b[39m\u001b[38;5;241m.\u001b[39mrun_code(code, result, async_\u001b[38;5;241m=\u001b[39masy):\n\u001b[1;32m   3449\u001b[0m     \u001b[38;5;28;01mreturn\u001b[39;00m \u001b[38;5;28;01mTrue\u001b[39;00m\n",
      "File \u001b[0;32m/opt/conda/envs/bayes3d/lib/python3.9/site-packages/IPython/core/interactiveshell.py:3508\u001b[0m, in \u001b[0;36mrun_code\u001b[0;34m()\u001b[0m\n\u001b[1;32m   3507\u001b[0m     \u001b[38;5;28;01melse\u001b[39;00m:\n\u001b[0;32m-> 3508\u001b[0m         exec(code_obj, \u001b[38;5;28mself\u001b[39m\u001b[38;5;241m.\u001b[39muser_global_ns, \u001b[38;5;28mself\u001b[39m\u001b[38;5;241m.\u001b[39muser_ns)\n\u001b[1;32m   3509\u001b[0m \u001b[38;5;28;01mfinally\u001b[39;00m:\n\u001b[1;32m   3510\u001b[0m     \u001b[38;5;66;03m# Reset our crash handler in place\u001b[39;00m\n",
      "Cell \u001b[0;32mIn[5], line 5\u001b[0m\n\u001b[1;32m      4\u001b[0m     filename \u001b[38;5;241m=\u001b[39m \u001b[38;5;124mf\u001b[39m\u001b[38;5;124m\"\u001b[39m\u001b[38;5;124mdata/trace_\u001b[39m\u001b[38;5;132;01m{\u001b[39;00mscene_id\u001b[38;5;132;01m}\u001b[39;00m\u001b[38;5;124m.joblib\u001b[39m\u001b[38;5;124m\"\u001b[39m\n\u001b[0;32m----> 5\u001b[0m     gt_traces\u001b[38;5;241m.\u001b[39mappend(importance_jit(key, \u001b[38;5;241m*\u001b[39mjoblib\u001b[38;5;241m.\u001b[39mload(filename))[\u001b[38;5;241m1\u001b[39m][\u001b[38;5;241m1\u001b[39m])\n\u001b[1;32m      7\u001b[0m hb_traces \u001b[38;5;241m=\u001b[39m []\n",
      "File \u001b[0;32m<@beartype(genjax._src.generative_functions.builtin.builtin_gen_fn.BuiltinGenerativeFunction.importance) at 0x7f971cfc0af0>:73\u001b[0m, in \u001b[0;36mimportance\u001b[0;34m()\u001b[0m\n",
      "File \u001b[0;32m/opt/conda/envs/bayes3d/lib/python3.9/site-packages/genjax/_src/generative_functions/builtin/builtin_gen_fn.py:170\u001b[0m, in \u001b[0;36mimportance\u001b[0;34m()\u001b[0m\n\u001b[1;32m    166\u001b[0m \u001b[38;5;129m@typecheck\u001b[39m\n\u001b[1;32m    167\u001b[0m \u001b[38;5;28;01mdef\u001b[39;00m \u001b[38;5;21mimportance\u001b[39m(\n\u001b[1;32m    168\u001b[0m     \u001b[38;5;28mself\u001b[39m, key: PRNGKey, chm: ChoiceMap, args: Tuple, \u001b[38;5;241m*\u001b[39m\u001b[38;5;241m*\u001b[39mkwargs\n\u001b[1;32m    169\u001b[0m ) \u001b[38;5;241m-\u001b[39m\u001b[38;5;241m>\u001b[39m Tuple[PRNGKey, Tuple[FloatArray, BuiltinTrace]]:\n\u001b[0;32m--> 170\u001b[0m     key, (w, (f, args, r, chm, score)), cache \u001b[38;5;241m=\u001b[39m importance_transform(\n\u001b[1;32m    171\u001b[0m         \u001b[38;5;28mself\u001b[39m\u001b[38;5;241m.\u001b[39msource, \u001b[38;5;241m*\u001b[39m\u001b[38;5;241m*\u001b[39mkwargs\n\u001b[1;32m    172\u001b[0m     )(key, chm, args)\n\u001b[1;32m    173\u001b[0m     \u001b[38;5;28;01mreturn\u001b[39;00m key, (w, BuiltinTrace(\u001b[38;5;28mself\u001b[39m, args, r, chm, cache, score))\n",
      "File \u001b[0;32m/opt/conda/envs/bayes3d/lib/python3.9/site-packages/genjax/_src/generative_functions/builtin/builtin_transforms.py:289\u001b[0m, in \u001b[0;36mwrapper\u001b[0;34m()\u001b[0m\n\u001b[1;32m    288\u001b[0m ctx \u001b[38;5;241m=\u001b[39m ImportanceContext\u001b[38;5;241m.\u001b[39mnew(key, constraints)\n\u001b[0;32m--> 289\u001b[0m retvals, statefuls \u001b[38;5;241m=\u001b[39m context\u001b[38;5;241m.\u001b[39mtransform(inlined, ctx)(\u001b[38;5;241m*\u001b[39margs, \u001b[38;5;241m*\u001b[39m\u001b[38;5;241m*\u001b[39mkwargs)\n\u001b[1;32m    290\u001b[0m key, score, weight, choices, cache \u001b[38;5;241m=\u001b[39m statefuls\n",
      "File \u001b[0;32m/opt/conda/envs/bayes3d/lib/python3.9/site-packages/genjax/_src/core/interpreters/context.py:446\u001b[0m, in \u001b[0;36mwrapped\u001b[0;34m()\u001b[0m\n\u001b[1;32m    445\u001b[0m flat_fun \u001b[38;5;241m=\u001b[39m _transform(flat_fun, trace_type, main, ctx)\n\u001b[0;32m--> 446\u001b[0m out_flat, ctx_statefuls \u001b[38;5;241m=\u001b[39m flat_fun\u001b[38;5;241m.\u001b[39mcall_wrapped(flat_args)\n\u001b[1;32m    447\u001b[0m \u001b[38;5;28;01mdel\u001b[39;00m main\n",
      "File \u001b[0;32m/opt/conda/envs/bayes3d/lib/python3.9/site-packages/genjax/_src/core/interpreters/context.py:436\u001b[0m, in \u001b[0;36m_run_interpreter\u001b[0;34m()\u001b[0m\n\u001b[1;32m    435\u001b[0m \u001b[38;5;28;01mwith\u001b[39;00m Fwd\u001b[38;5;241m.\u001b[39mnew() \u001b[38;5;28;01mas\u001b[39;00m interpreter:\n\u001b[0;32m--> 436\u001b[0m     \u001b[38;5;28;01mreturn\u001b[39;00m interpreter(trace_type, main, f, \u001b[38;5;241m*\u001b[39margs, \u001b[38;5;241m*\u001b[39m\u001b[38;5;241m*\u001b[39mkwargs)\n",
      "File \u001b[0;32m/opt/conda/envs/bayes3d/lib/python3.9/site-packages/genjax/_src/core/interpreters/context.py:303\u001b[0m, in \u001b[0;36m__call__\u001b[0;34m()\u001b[0m\n\u001b[1;32m    302\u001b[0m \u001b[38;5;28;01mdef\u001b[39;00m \u001b[38;5;21m__call__\u001b[39m(\u001b[38;5;28mself\u001b[39m, trace_type, main, fn, \u001b[38;5;241m*\u001b[39margs, \u001b[38;5;241m*\u001b[39m\u001b[38;5;241m*\u001b[39mkwargs):\n\u001b[0;32m--> 303\u001b[0m     closed_jaxpr, (flat_args, _, out_tree) \u001b[38;5;241m=\u001b[39m staging\u001b[38;5;241m.\u001b[39mstage(fn)(\u001b[38;5;241m*\u001b[39margs, \u001b[38;5;241m*\u001b[39m\u001b[38;5;241m*\u001b[39mkwargs)\n\u001b[1;32m    304\u001b[0m     jaxpr, consts \u001b[38;5;241m=\u001b[39m closed_jaxpr\u001b[38;5;241m.\u001b[39mjaxpr, closed_jaxpr\u001b[38;5;241m.\u001b[39mliterals\n",
      "File \u001b[0;32m/opt/conda/envs/bayes3d/lib/python3.9/site-packages/genjax/_src/core/interpreters/staging.py:69\u001b[0m, in \u001b[0;36mwrapped\u001b[0;34m()\u001b[0m\n\u001b[1;32m     68\u001b[0m \u001b[38;5;28;01mif\u001b[39;00m dynamic:\n\u001b[0;32m---> 69\u001b[0m     jaxpr, _, consts \u001b[38;5;241m=\u001b[39m pe\u001b[38;5;241m.\u001b[39mtrace_to_jaxpr_dynamic(flat_fun, flat_avals)\n\u001b[1;32m     70\u001b[0m \u001b[38;5;28;01melse\u001b[39;00m:\n",
      "File \u001b[0;32m/opt/conda/envs/bayes3d/lib/python3.9/site-packages/genjax/_src/generative_functions/builtin/builtin_transforms.py:146\u001b[0m, in \u001b[0;36mwrapper\u001b[0;34m()\u001b[0m\n\u001b[1;32m    145\u001b[0m ctx \u001b[38;5;241m=\u001b[39m InlineContext\u001b[38;5;241m.\u001b[39mnew()\n\u001b[0;32m--> 146\u001b[0m retvals, _ \u001b[38;5;241m=\u001b[39m context\u001b[38;5;241m.\u001b[39mtransform(source_fn, ctx)(\u001b[38;5;241m*\u001b[39margs, \u001b[38;5;241m*\u001b[39m\u001b[38;5;241m*\u001b[39mkwargs)\n\u001b[1;32m    147\u001b[0m \u001b[38;5;28;01mreturn\u001b[39;00m retvals\n",
      "File \u001b[0;32m/opt/conda/envs/bayes3d/lib/python3.9/site-packages/genjax/_src/core/interpreters/context.py:446\u001b[0m, in \u001b[0;36mwrapped\u001b[0;34m()\u001b[0m\n\u001b[1;32m    445\u001b[0m flat_fun \u001b[38;5;241m=\u001b[39m _transform(flat_fun, trace_type, main, ctx)\n\u001b[0;32m--> 446\u001b[0m out_flat, ctx_statefuls \u001b[38;5;241m=\u001b[39m flat_fun\u001b[38;5;241m.\u001b[39mcall_wrapped(flat_args)\n\u001b[1;32m    447\u001b[0m \u001b[38;5;28;01mdel\u001b[39;00m main\n",
      "File \u001b[0;32m/opt/conda/envs/bayes3d/lib/python3.9/site-packages/genjax/_src/core/interpreters/context.py:436\u001b[0m, in \u001b[0;36m_run_interpreter\u001b[0;34m()\u001b[0m\n\u001b[1;32m    435\u001b[0m \u001b[38;5;28;01mwith\u001b[39;00m Fwd\u001b[38;5;241m.\u001b[39mnew() \u001b[38;5;28;01mas\u001b[39;00m interpreter:\n\u001b[0;32m--> 436\u001b[0m     \u001b[38;5;28;01mreturn\u001b[39;00m interpreter(trace_type, main, f, \u001b[38;5;241m*\u001b[39margs, \u001b[38;5;241m*\u001b[39m\u001b[38;5;241m*\u001b[39mkwargs)\n",
      "File \u001b[0;32m/opt/conda/envs/bayes3d/lib/python3.9/site-packages/genjax/_src/core/interpreters/context.py:303\u001b[0m, in \u001b[0;36m__call__\u001b[0;34m()\u001b[0m\n\u001b[1;32m    302\u001b[0m \u001b[38;5;28;01mdef\u001b[39;00m \u001b[38;5;21m__call__\u001b[39m(\u001b[38;5;28mself\u001b[39m, trace_type, main, fn, \u001b[38;5;241m*\u001b[39margs, \u001b[38;5;241m*\u001b[39m\u001b[38;5;241m*\u001b[39mkwargs):\n\u001b[0;32m--> 303\u001b[0m     closed_jaxpr, (flat_args, _, out_tree) \u001b[38;5;241m=\u001b[39m staging\u001b[38;5;241m.\u001b[39mstage(fn)(\u001b[38;5;241m*\u001b[39margs, \u001b[38;5;241m*\u001b[39m\u001b[38;5;241m*\u001b[39mkwargs)\n\u001b[1;32m    304\u001b[0m     jaxpr, consts \u001b[38;5;241m=\u001b[39m closed_jaxpr\u001b[38;5;241m.\u001b[39mjaxpr, closed_jaxpr\u001b[38;5;241m.\u001b[39mliterals\n",
      "File \u001b[0;32m/opt/conda/envs/bayes3d/lib/python3.9/site-packages/genjax/_src/core/interpreters/staging.py:69\u001b[0m, in \u001b[0;36mwrapped\u001b[0;34m()\u001b[0m\n\u001b[1;32m     68\u001b[0m \u001b[38;5;28;01mif\u001b[39;00m dynamic:\n\u001b[0;32m---> 69\u001b[0m     jaxpr, _, consts \u001b[38;5;241m=\u001b[39m pe\u001b[38;5;241m.\u001b[39mtrace_to_jaxpr_dynamic(flat_fun, flat_avals)\n\u001b[1;32m     70\u001b[0m \u001b[38;5;28;01melse\u001b[39;00m:\n",
      "File \u001b[0;32m~/bayes3d/bayes3d/genjax/model.py:59\u001b[0m, in \u001b[0;36mmodel\u001b[0;34m()\u001b[0m\n\u001b[1;32m     54\u001b[0m camera_pose \u001b[38;5;241m=\u001b[39m uniform_pose(\n\u001b[1;32m     55\u001b[0m     pose_bounds[\u001b[38;5;241m0\u001b[39m], \n\u001b[1;32m     56\u001b[0m     pose_bounds[\u001b[38;5;241m1\u001b[39m], \n\u001b[1;32m     57\u001b[0m ) \u001b[38;5;241m@\u001b[39m \u001b[38;5;124mf\u001b[39m\u001b[38;5;124m\"\u001b[39m\u001b[38;5;124mcamera_pose\u001b[39m\u001b[38;5;124m\"\u001b[39m\n\u001b[0;32m---> 59\u001b[0m rendered \u001b[38;5;241m=\u001b[39m b\u001b[38;5;241m.\u001b[39mRENDERER\u001b[38;5;241m.\u001b[39mrender(\n\u001b[1;32m     60\u001b[0m     jnp\u001b[38;5;241m.\u001b[39mlinalg\u001b[38;5;241m.\u001b[39minv(camera_pose) \u001b[38;5;241m@\u001b[39m poses , indices\n\u001b[1;32m     61\u001b[0m )[\u001b[38;5;241m.\u001b[39m\u001b[38;5;241m.\u001b[39m\u001b[38;5;241m.\u001b[39m,:\u001b[38;5;241m3\u001b[39m]\n\u001b[1;32m     63\u001b[0m variance \u001b[38;5;241m=\u001b[39m genjax\u001b[38;5;241m.\u001b[39mdistributions\u001b[38;5;241m.\u001b[39mtfp_uniform(\u001b[38;5;241m0.0000001\u001b[39m, \u001b[38;5;241m0.1\u001b[39m) \u001b[38;5;241m@\u001b[39m \u001b[38;5;124m\"\u001b[39m\u001b[38;5;124mvariance\u001b[39m\u001b[38;5;124m\"\u001b[39m\n",
      "File \u001b[0;32m~/bayes3d/bayes3d/renderer.py:151\u001b[0m, in \u001b[0;36mrender\u001b[0;34m()\u001b[0m\n\u001b[1;32m    141\u001b[0m \u001b[38;5;250m\u001b[39m\u001b[38;5;124;03m\"\"\"Render a single scene.\u001b[39;00m\n\u001b[1;32m    142\u001b[0m \n\u001b[1;32m    143\u001b[0m \u001b[38;5;124;03mArgs:\u001b[39;00m\n\u001b[0;32m   (...)\u001b[0m\n\u001b[1;32m    149\u001b[0m \n\u001b[1;32m    150\u001b[0m \u001b[38;5;124;03m\"\"\"\u001b[39;00m\n\u001b[0;32m--> 151\u001b[0m \u001b[38;5;28;01mreturn\u001b[39;00m \u001b[38;5;28mself\u001b[39m\u001b[38;5;241m.\u001b[39mrender_many(poses[\u001b[38;5;28;01mNone\u001b[39;00m,\u001b[38;5;241m.\u001b[39m\u001b[38;5;241m.\u001b[39m\u001b[38;5;241m.\u001b[39m], indices)[\u001b[38;5;241m0\u001b[39m]\n",
      "File \u001b[0;32m~/bayes3d/bayes3d/renderer.py:137\u001b[0m, in \u001b[0;36mrender_many\u001b[0;34m()\u001b[0m\n\u001b[1;32m    125\u001b[0m \u001b[38;5;250m\u001b[39m\u001b[38;5;124;03m\"\"\"Render many scenes in parallel.\u001b[39;00m\n\u001b[1;32m    126\u001b[0m \u001b[38;5;124;03m\u001b[39;00m\n\u001b[1;32m    127\u001b[0m \u001b[38;5;124;03mArgs:\u001b[39;00m\n\u001b[0;32m   (...)\u001b[0m\n\u001b[1;32m    135\u001b[0m \u001b[38;5;124;03m                 the final dimension is the segmentation image.\u001b[39;00m\n\u001b[1;32m    136\u001b[0m \u001b[38;5;124;03m\"\"\"\u001b[39;00m\n\u001b[0;32m--> 137\u001b[0m images_jnp \u001b[38;5;241m=\u001b[39m _render_custom_call(\u001b[38;5;28mself\u001b[39m, poses, indices)[\u001b[38;5;241m0\u001b[39m]\n\u001b[1;32m    138\u001b[0m \u001b[38;5;28;01mreturn\u001b[39;00m _transform_image_zeros_parallel(images_jnp, \u001b[38;5;28mself\u001b[39m\u001b[38;5;241m.\u001b[39mintrinsics)\n",
      "File \u001b[0;32m~/bayes3d/bayes3d/renderer.py:164\u001b[0m, in \u001b[0;36m_render_custom_call\u001b[0;34m()\u001b[0m\n\u001b[1;32m    162\u001b[0m \u001b[38;5;129m@functools\u001b[39m\u001b[38;5;241m.\u001b[39mpartial(jax\u001b[38;5;241m.\u001b[39mjit, static_argnums\u001b[38;5;241m=\u001b[39m(\u001b[38;5;241m0\u001b[39m,))\n\u001b[1;32m    163\u001b[0m \u001b[38;5;28;01mdef\u001b[39;00m \u001b[38;5;21m_render_custom_call\u001b[39m(r: \u001b[38;5;124m\"\u001b[39m\u001b[38;5;124mRenderer\u001b[39m\u001b[38;5;124m\"\u001b[39m, poses, idx):\n\u001b[0;32m--> 164\u001b[0m     \u001b[38;5;28;01mreturn\u001b[39;00m _build_render_primitive(r)\u001b[38;5;241m.\u001b[39mbind(poses, idx)\n",
      "\u001b[0;31mJaxStackTraceBeforeTransformation\u001b[0m: NotImplementedError: MLIR translation rule for primitive 'render_multiple_140286986571936' not found for platform cpu\n\nThe preceding stack trace is the source of the JAX operation that, once transformed by JAX, triggered the following exception.\n\n--------------------",
      "\nThe above exception was the direct cause of the following exception:\n",
      "\u001b[0;31mNotImplementedError\u001b[0m                       Traceback (most recent call last)",
      "Cell \u001b[0;32mIn[5], line 5\u001b[0m\n\u001b[1;32m      3\u001b[0m \u001b[38;5;28;01mfor\u001b[39;00m scene_id \u001b[38;5;129;01min\u001b[39;00m tqdm(\u001b[38;5;28mrange\u001b[39m(NUM_TRACES)):\n\u001b[1;32m      4\u001b[0m     filename \u001b[38;5;241m=\u001b[39m \u001b[38;5;124mf\u001b[39m\u001b[38;5;124m\"\u001b[39m\u001b[38;5;124mdata/trace_\u001b[39m\u001b[38;5;132;01m{\u001b[39;00mscene_id\u001b[38;5;132;01m}\u001b[39;00m\u001b[38;5;124m.joblib\u001b[39m\u001b[38;5;124m\"\u001b[39m\n\u001b[0;32m----> 5\u001b[0m     gt_traces\u001b[38;5;241m.\u001b[39mappend(\u001b[43mimportance_jit\u001b[49m\u001b[43m(\u001b[49m\u001b[43mkey\u001b[49m\u001b[43m,\u001b[49m\u001b[43m \u001b[49m\u001b[38;5;241;43m*\u001b[39;49m\u001b[43mjoblib\u001b[49m\u001b[38;5;241;43m.\u001b[39;49m\u001b[43mload\u001b[49m\u001b[43m(\u001b[49m\u001b[43mfilename\u001b[49m\u001b[43m)\u001b[49m\u001b[43m)\u001b[49m[\u001b[38;5;241m1\u001b[39m][\u001b[38;5;241m1\u001b[39m])\n\u001b[1;32m      7\u001b[0m hb_traces \u001b[38;5;241m=\u001b[39m []\n\u001b[1;32m      9\u001b[0m V_VARIANT \u001b[38;5;241m=\u001b[39m \u001b[38;5;241m0\u001b[39m\n",
      "    \u001b[0;31m[... skipping hidden 19 frame]\u001b[0m\n",
      "File \u001b[0;32m/opt/conda/envs/bayes3d/lib/python3.9/site-packages/jax/_src/interpreters/mlir.py:1160\u001b[0m, in \u001b[0;36mjaxpr_subcomp\u001b[0;34m(ctx, jaxpr, tokens, consts, dim_var_values, *args)\u001b[0m\n\u001b[1;32m   1158\u001b[0m   rule \u001b[38;5;241m=\u001b[39m xla_fallback_lowering(eqn\u001b[38;5;241m.\u001b[39mprimitive)\n\u001b[1;32m   1159\u001b[0m \u001b[38;5;28;01melse\u001b[39;00m:\n\u001b[0;32m-> 1160\u001b[0m   \u001b[38;5;28;01mraise\u001b[39;00m \u001b[38;5;167;01mNotImplementedError\u001b[39;00m(\n\u001b[1;32m   1161\u001b[0m       \u001b[38;5;124mf\u001b[39m\u001b[38;5;124m\"\u001b[39m\u001b[38;5;124mMLIR translation rule for primitive \u001b[39m\u001b[38;5;124m'\u001b[39m\u001b[38;5;132;01m{\u001b[39;00meqn\u001b[38;5;241m.\u001b[39mprimitive\u001b[38;5;241m.\u001b[39mname\u001b[38;5;132;01m}\u001b[39;00m\u001b[38;5;124m'\u001b[39m\u001b[38;5;124m not \u001b[39m\u001b[38;5;124m\"\u001b[39m\n\u001b[1;32m   1162\u001b[0m       \u001b[38;5;124mf\u001b[39m\u001b[38;5;124m\"\u001b[39m\u001b[38;5;124mfound for platform \u001b[39m\u001b[38;5;132;01m{\u001b[39;00mctx\u001b[38;5;241m.\u001b[39mplatform\u001b[38;5;132;01m}\u001b[39;00m\u001b[38;5;124m\"\u001b[39m)\n\u001b[1;32m   1164\u001b[0m eqn_ctx \u001b[38;5;241m=\u001b[39m ctx\u001b[38;5;241m.\u001b[39mreplace(name_stack\u001b[38;5;241m=\u001b[39msource_info\u001b[38;5;241m.\u001b[39mname_stack)\n\u001b[1;32m   1165\u001b[0m effects \u001b[38;5;241m=\u001b[39m \u001b[38;5;28mlist\u001b[39m(effects_lib\u001b[38;5;241m.\u001b[39mordered_effects\u001b[38;5;241m.\u001b[39mfilter_in(eqn\u001b[38;5;241m.\u001b[39meffects))\n",
      "\u001b[0;31mNotImplementedError\u001b[0m: MLIR translation rule for primitive 'render_multiple_140286986571936' not found for platform cpu"
     ]
    }
   ],
   "source": [
    "gt_traces = []\n",
    "NUM_TRACES = 100\n",
    "for scene_id in tqdm(range(NUM_TRACES)):\n",
    "    filename = f\"data/trace_{scene_id}.joblib\"\n",
    "    gt_traces.append(importance_jit(key, *joblib.load(filename))[1][1])\n",
    "\n",
    "hb_traces = []\n",
    "\n",
    "V_VARIANT = 0\n",
    "O_VARIANT = 0\n",
    "HIERARCHICAL_BAYES = True\n",
    "\n",
    "for scene_id in tqdm(range(NUM_TRACES)):\n",
    "    if HIERARCHICAL_BAYES:\n",
    "        filename = f\"data/inferred_hb_{scene_id}.joblib\"\n",
    "    else:\n",
    "        filename = f\"data/inferred_{V_VARIANT}_{O_VARIANT}_{scene_id}.joblib\"\n",
    "    hb_traces.append(importance_jit(key, *joblib.load(filename))[1][1])"
   ]
  },
  {
   "cell_type": "code",
   "execution_count": null,
   "id": "0316efaa-ec4d-42fb-8749-6efe5b4526ce",
   "metadata": {},
   "outputs": [],
   "source": [
    "# Classification accuracy\n",
    "prediction_sets = [hb_traces]\n",
    "wrong_prediction = []\n",
    "for pred_set in prediction_sets:\n",
    "    correct = 0\n",
    "    for scene_id in range(NUM_TRACES):\n",
    "        gt_ids = np.array(b.genjax.get_indices(gt_traces[scene_id]))\n",
    "        pred_ids = np.array(b.genjax.get_indices(pred_set[scene_id]))\n",
    "        # print(pred_set[scene_id][\"variance\"])\n",
    "        # print(pred_set[scene_id][\"outlier_prob\"])\n",
    "        if set(pred_ids) == set(gt_ids):\n",
    "            correct +=1\n",
    "        else:\n",
    "            wrong_prediction.append(scene_id)\n",
    "            print(gt_ids, pred_ids)\n",
    "            continue\n",
    "    print(correct)    "
   ]
  },
  {
   "cell_type": "code",
   "execution_count": null,
   "id": "e8b4c2e0-6cd0-4d24-bce2-30cb340e9193",
   "metadata": {},
   "outputs": [],
   "source": [
    "wrong_prediction"
   ]
  },
  {
   "cell_type": "code",
   "execution_count": null,
   "id": "4a32d68b-34b7-47d0-80cf-d6087a5e6390",
   "metadata": {},
   "outputs": [],
   "source": [
    "b.genjax.viz_trace_meshcat(prediction_sets[0][scene_id])"
   ]
  },
  {
   "cell_type": "code",
   "execution_count": null,
   "id": "bed6ed82-0e07-4b78-b832-2682a2878d78",
   "metadata": {},
   "outputs": [],
   "source": [
    "\n",
    "importance_jit = jax.jit(b.genjax.model.importance)\n",
    "\n",
    "contact_enumerators = [b.genjax.make_enumerator([f\"contact_params_{i}\", \"variance\", \"outlier_prob\"]) for i in range(5)]\n",
    "add_object_jit = jax.jit(b.genjax.add_object)\n",
    "\n",
    "def c2f_contact_update(trace_, key,  number, contact_param_deltas, VARIANCE_GRID, OUTLIER_GRID):\n",
    "    contact_param_grid = contact_param_deltas + trace_[f\"contact_params_{number}\"]\n",
    "    scores = contact_enumerators[number][3](trace_, key, contact_param_grid, VARIANCE_GRID, OUTLIER_GRID)\n",
    "    i,j,k = jnp.unravel_index(scores.argmax(), scores.shape)\n",
    "    return contact_enumerators[number][0](\n",
    "        trace_, key,\n",
    "        contact_param_grid[i], VARIANCE_GRID[j], OUTLIER_GRID[k]\n",
    "    )\n",
    "c2f_contact_update_jit = jax.jit(c2f_contact_update, static_argnames=(\"number\",))"
   ]
  },
  {
   "cell_type": "code",
   "execution_count": null,
   "id": "b062e7b3-e344-4456-a2d1-b6e040898434",
   "metadata": {},
   "outputs": [],
   "source": [
    "OUTLIER_VOLUME = 1000.0\n",
    "VARIANCE_GRID = jnp.array([0.0001, 0.001, 0.01])\n",
    "OUTLIER_GRID = jnp.array([0.00001, 0.0001, 0.001])\n",
    "\n",
    "grid_params = [\n",
    "    (0.3, jnp.pi, (11,11,11)), (0.2, jnp.pi, (11,11,11)), (0.1, jnp.pi, (11,11,11)),\n",
    "    (0.05, jnp.pi/3, (11,11,11)), (0.02, jnp.pi, (5,5,51)), (0.01, jnp.pi/5, (11,11,11)), (0.01, 0.0, (21,21,1)),(0.05, 0.0, (21,21,1))\n",
    "]\n",
    "contact_param_gridding_schedule = [\n",
    "    b.utils.make_translation_grid_enumeration_3d(\n",
    "        -x, -x, -ang,\n",
    "        x, x, ang,\n",
    "        *nums\n",
    "    )\n",
    "    for (x,ang,nums) in grid_params\n",
    "]\n",
    "key = jax.random.PRNGKey(500)\n"
   ]
  },
  {
   "cell_type": "code",
   "execution_count": null,
   "id": "72d1d9e0-32b8-439c-a69a-d2eaf0cb3e72",
   "metadata": {},
   "outputs": [],
   "source": [
    "scene_id = 4"
   ]
  },
  {
   "cell_type": "code",
   "execution_count": 20,
   "id": "4b4bc4b1-7866-4265-a8b7-6e8defe1fb01",
   "metadata": {},
   "outputs": [
    {
     "name": "stdout",
     "output_type": "stream",
     "text": [
      "[1.e-04 1.e-03 1.e-02] [1.e-05 1.e-04 1.e-03]\n",
      "[21  2  4  6]\n",
      "-925.0466\n"
     ]
    }
   ],
   "source": [
    "V_VARIANT = 0\n",
    "O_VARIANT = 0\n",
    "HIERARCHICAL_BAYES = True\n",
    "\n",
    "if HIERARCHICAL_BAYES:\n",
    "    V_GRID = VARIANCE_GRID\n",
    "    O_GRID = OUTLIER_GRID\n",
    "else:\n",
    "    V_GRID, O_GRID = jnp.array([VARIANCE_GRID[V_VARIANT]]), jnp.array([OUTLIER_GRID[O_VARIANT]])\n",
    "\n",
    "print(V_GRID, O_GRID)\n",
    "\n",
    "gt_trace = importance_jit(key, *joblib.load(f\"data/trace_{scene_id}.joblib\"))[1][1]\n",
    "print(b.genjax.get_indices(gt_trace))\n",
    "b.genjax.viz_trace_meshcat(gt_trace)\n",
    "choices = gt_trace.get_choices()\n",
    "key, (_,trace) = importance_jit(key, choices, (jnp.arange(1), jnp.arange(22), *gt_trace.get_args()[2:-1], 100.0))\n",
    "print(trace.get_score())"
   ]
  },
  {
   "cell_type": "code",
   "execution_count": 21,
   "id": "d88a7288-88ee-4902-8cb2-94cdcd0da33a",
   "metadata": {},
   "outputs": [
    {
     "name": "stderr",
     "output_type": "stream",
     "text": [
      "  0%|                                                                                                                                                                                                                         | 0/21 [00:00<?, ?it/s]2023-07-18 19:29:36.522162: W external/xla/xla/service/gpu/llvm_gpu_backend/gpu_backend_lib.cc:561] libdevice is required by this HLO module but was not found at /opt/conda/envs/bayes3d/lib/python3.9/site-packages/nvidia/cuda_nvcc/nvvm/libdevice/libdevice.10.bc\n",
      "2023-07-18 19:29:36.525514: W external/xla/xla/service/gpu/llvm_gpu_backend/gpu_backend_lib.cc:561] libdevice is required by this HLO module but was not found at /opt/conda/envs/bayes3d/lib/python3.9/site-packages/nvidia/cuda_nvcc/nvvm/libdevice/libdevice.10.bc\n",
      "2023-07-18 19:29:36.527243: W external/xla/xla/service/gpu/llvm_gpu_backend/gpu_backend_lib.cc:561] libdevice is required by this HLO module but was not found at /opt/conda/envs/bayes3d/lib/python3.9/site-packages/nvidia/cuda_nvcc/nvvm/libdevice/libdevice.10.bc\n",
      "2023-07-18 19:29:36.527432: W external/xla/xla/service/gpu/llvm_gpu_backend/gpu_backend_lib.cc:561] libdevice is required by this HLO module but was not found at /opt/conda/envs/bayes3d/lib/python3.9/site-packages/nvidia/cuda_nvcc/nvvm/libdevice/libdevice.10.bc\n",
      "2023-07-18 19:29:36.528080: W external/xla/xla/service/gpu/llvm_gpu_backend/gpu_backend_lib.cc:561] libdevice is required by this HLO module but was not found at /opt/conda/envs/bayes3d/lib/python3.9/site-packages/nvidia/cuda_nvcc/nvvm/libdevice/libdevice.10.bc\n",
      "2023-07-18 19:29:36.528478: W external/xla/xla/service/gpu/llvm_gpu_backend/gpu_backend_lib.cc:561] libdevice is required by this HLO module but was not found at /opt/conda/envs/bayes3d/lib/python3.9/site-packages/nvidia/cuda_nvcc/nvvm/libdevice/libdevice.10.bc\n",
      "2023-07-18 19:29:36.529458: W external/xla/xla/service/gpu/llvm_gpu_backend/gpu_backend_lib.cc:561] libdevice is required by this HLO module but was not found at /opt/conda/envs/bayes3d/lib/python3.9/site-packages/nvidia/cuda_nvcc/nvvm/libdevice/libdevice.10.bc\n",
      "2023-07-18 19:29:36.530206: W external/xla/xla/service/gpu/llvm_gpu_backend/gpu_backend_lib.cc:561] libdevice is required by this HLO module but was not found at /opt/conda/envs/bayes3d/lib/python3.9/site-packages/nvidia/cuda_nvcc/nvvm/libdevice/libdevice.10.bc\n",
      "  0%|                                                                                                                                                                                                                         | 0/21 [00:04<?, ?it/s]\n"
     ]
    },
    {
     "ename": "XlaRuntimeError",
     "evalue": "INTERNAL: libdevice not found at /opt/conda/envs/bayes3d/lib/python3.9/site-packages/nvidia/cuda_nvcc/nvvm/libdevice/libdevice.10.bc",
     "output_type": "error",
     "traceback": [
      "\u001b[0;31m---------------------------------------------------------------------------\u001b[0m",
      "\u001b[0;31mXlaRuntimeError\u001b[0m                           Traceback (most recent call last)",
      "Cell \u001b[0;32mIn[21], line 10\u001b[0m\n\u001b[1;32m      8\u001b[0m path\u001b[38;5;241m.\u001b[39mappend(trace_)\n\u001b[1;32m      9\u001b[0m \u001b[38;5;28;01mfor\u001b[39;00m c2f_iter \u001b[38;5;129;01min\u001b[39;00m \u001b[38;5;28mrange\u001b[39m(\u001b[38;5;28mlen\u001b[39m(contact_param_gridding_schedule)):\n\u001b[0;32m---> 10\u001b[0m     trace_ \u001b[38;5;241m=\u001b[39m \u001b[43mc2f_contact_update_jit\u001b[49m\u001b[43m(\u001b[49m\u001b[43mtrace_\u001b[49m\u001b[43m,\u001b[49m\u001b[43m \u001b[49m\u001b[43mkey\u001b[49m\u001b[43m,\u001b[49m\u001b[43m \u001b[49m\u001b[43mnumber\u001b[49m\u001b[43m,\u001b[49m\n\u001b[1;32m     11\u001b[0m \u001b[43m        \u001b[49m\u001b[43mcontact_param_gridding_schedule\u001b[49m\u001b[43m[\u001b[49m\u001b[43mc2f_iter\u001b[49m\u001b[43m]\u001b[49m\u001b[43m,\u001b[49m\u001b[43m \u001b[49m\u001b[43mV_GRID\u001b[49m\u001b[43m,\u001b[49m\u001b[43m \u001b[49m\u001b[43mO_GRID\u001b[49m\u001b[43m)\u001b[49m\n\u001b[1;32m     12\u001b[0m     path\u001b[38;5;241m.\u001b[39mappend(trace_)\n\u001b[1;32m     13\u001b[0m \u001b[38;5;66;03m# for c2f_iter in range(len(contact_param_gridding_schedule)):\u001b[39;00m\n\u001b[1;32m     14\u001b[0m \u001b[38;5;66;03m#     trace_ = c2f_contact_update_jit(trace_, key, number,\u001b[39;00m\n\u001b[1;32m     15\u001b[0m \u001b[38;5;66;03m#         contact_param_gridding_schedule[c2f_iter], VARIANCE_GRID, OUTLIER_GRID)\u001b[39;00m\n",
      "    \u001b[0;31m[... skipping hidden 14 frame]\u001b[0m\n",
      "File \u001b[0;32m/opt/conda/envs/bayes3d/lib/python3.9/site-packages/jax/_src/dispatch.py:465\u001b[0m, in \u001b[0;36mbackend_compile\u001b[0;34m(backend, module, options, host_callbacks)\u001b[0m\n\u001b[1;32m    460\u001b[0m   \u001b[38;5;28;01mreturn\u001b[39;00m backend\u001b[38;5;241m.\u001b[39mcompile(built_c, compile_options\u001b[38;5;241m=\u001b[39moptions,\n\u001b[1;32m    461\u001b[0m                          host_callbacks\u001b[38;5;241m=\u001b[39mhost_callbacks)\n\u001b[1;32m    462\u001b[0m \u001b[38;5;66;03m# Some backends don't have `host_callbacks` option yet\u001b[39;00m\n\u001b[1;32m    463\u001b[0m \u001b[38;5;66;03m# TODO(sharadmv): remove this fallback when all backends allow `compile`\u001b[39;00m\n\u001b[1;32m    464\u001b[0m \u001b[38;5;66;03m# to take in `host_callbacks`\u001b[39;00m\n\u001b[0;32m--> 465\u001b[0m \u001b[38;5;28;01mreturn\u001b[39;00m \u001b[43mbackend\u001b[49m\u001b[38;5;241;43m.\u001b[39;49m\u001b[43mcompile\u001b[49m\u001b[43m(\u001b[49m\u001b[43mbuilt_c\u001b[49m\u001b[43m,\u001b[49m\u001b[43m \u001b[49m\u001b[43mcompile_options\u001b[49m\u001b[38;5;241;43m=\u001b[39;49m\u001b[43moptions\u001b[49m\u001b[43m)\u001b[49m\n",
      "\u001b[0;31mXlaRuntimeError\u001b[0m: INTERNAL: libdevice not found at /opt/conda/envs/bayes3d/lib/python3.9/site-packages/nvidia/cuda_nvcc/nvvm/libdevice/libdevice.10.bc"
     ]
    }
   ],
   "source": [
    "\n",
    "\n",
    "all_all_paths = []\n",
    "for _ in range(3):\n",
    "    all_paths = []\n",
    "    for obj_id in tqdm(range(len(b.RENDERER.meshes)-1)):\n",
    "        path = []\n",
    "        trace_ = add_object_jit(trace, key, obj_id, 0, 2,3)\n",
    "        number = b.genjax.get_contact_params(trace_).shape[0] - 1\n",
    "        path.append(trace_)\n",
    "        for c2f_iter in range(len(contact_param_gridding_schedule)):\n",
    "            trace_ = c2f_contact_update_jit(trace_, key, number,\n",
    "                contact_param_gridding_schedule[c2f_iter], V_GRID, O_GRID)\n",
    "            path.append(trace_)\n",
    "        # for c2f_iter in range(len(contact_param_gridding_schedule)):\n",
    "        #     trace_ = c2f_contact_update_jit(trace_, key, number,\n",
    "        #         contact_param_gridding_schedule[c2f_iter], VARIANCE_GRID, OUTLIER_GRID)\n",
    "        all_paths.append(\n",
    "            path\n",
    "        )\n",
    "    all_all_paths.append(all_paths)\n",
    "    \n",
    "    scores = jnp.array([t[-1].get_score() for t in all_paths])\n",
    "    print(scores)\n",
    "    normalized_scores = b.utils.normalize_log_scores(scores)\n",
    "    trace = all_paths[jnp.argmax(scores)][-1]\n",
    "    b.genjax.viz_trace_meshcat(trace)\n",
    "\n",
    "print(b.genjax.get_indices(gt_trace))\n",
    "print(b.genjax.get_indices(trace))\n",
    "b.genjax.viz_trace_meshcat(trace)"
   ]
  },
  {
   "cell_type": "code",
   "execution_count": null,
   "id": "45880f7d-74b7-4f2f-9f96-a9b26eb64f28",
   "metadata": {},
   "outputs": [],
   "source": []
  },
  {
   "cell_type": "code",
   "execution_count": 183,
   "id": "520b2b44-769b-425f-966a-ff4c7b701e49",
   "metadata": {},
   "outputs": [
    {
     "name": "stdout",
     "output_type": "stream",
     "text": [
      "\n",
      "    SCORE: 446075.1250000\n",
      "    VARIANCE: 0.0000100\n",
      "    OUTLIER_PROB 0.0010000\n",
      "    \n"
     ]
    }
   ],
   "source": [
    "b.genjax.print_trace(trace)\n"
   ]
  },
  {
   "cell_type": "code",
   "execution_count": 184,
   "id": "9a6fa841-111a-40cc-9398-9001ba5932ba",
   "metadata": {},
   "outputs": [],
   "source": [
    "b.genjax.viz_trace_meshcat(gt_trace)"
   ]
  },
  {
   "cell_type": "code",
   "execution_count": 186,
   "id": "de0c6a52-46ff-4351-8759-56b80e11bde9",
   "metadata": {},
   "outputs": [
    {
     "name": "stdout",
     "output_type": "stream",
     "text": [
      "\n",
      "    SCORE: 446075.1250000\n",
      "    VARIANCE: 0.0000100\n",
      "    OUTLIER_PROB 0.0010000\n",
      "    \n",
      "\n",
      "    SCORE: 445532.4375000\n",
      "    VARIANCE: 0.0000100\n",
      "    OUTLIER_PROB 0.0010000\n",
      "    \n"
     ]
    }
   ],
   "source": [
    "trace_alternate = all_all_paths[2][18][-1]\n",
    "trace_alternate2 = all_all_paths[2][19][-1]\n",
    "b.genjax.print_trace(trace_alternate)\n",
    "b.genjax.print_trace(trace_alternate2)\n",
    "b.genjax.viz_trace_meshcat(trace_alternate)\n",
    "b.genjax.viz_trace_meshcat(trace_alternate2)"
   ]
  },
  {
   "cell_type": "code",
   "execution_count": null,
   "id": "6c6fe2fb-763d-4cef-bb55-47ae07ebf345",
   "metadata": {},
   "outputs": [],
   "source": []
  }
 ],
 "metadata": {
  "kernelspec": {
   "display_name": "Python 3 (ipykernel)",
   "language": "python",
   "name": "python3"
  },
  "language_info": {
   "codemirror_mode": {
    "name": "ipython",
    "version": 3
   },
   "file_extension": ".py",
   "mimetype": "text/x-python",
   "name": "python",
   "nbconvert_exporter": "python",
   "pygments_lexer": "ipython3",
   "version": "3.9.16"
  }
 },
 "nbformat": 4,
 "nbformat_minor": 5
}
