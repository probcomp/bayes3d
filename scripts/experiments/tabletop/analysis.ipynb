{
 "cells": [
  {
   "cell_type": "code",
   "execution_count": 12,
   "id": "c155a0e9-4c2f-4310-804f-c4923f7f7588",
   "metadata": {},
   "outputs": [],
   "source": [
    "import bayes3d as b\n",
    "import bayes3d.genjax\n",
    "import joblib\n",
    "from tqdm import tqdm\n",
    "import os\n",
    "import jax.numpy as jnp\n",
    "import jax\n",
    "import numpy as np\n",
    "import genjax"
   ]
  },
  {
   "cell_type": "code",
   "execution_count": 17,
   "id": "09e0619f-c380-4c4a-aeb0-322e564ab6db",
   "metadata": {},
   "outputs": [
    {
     "name": "stdout",
     "output_type": "stream",
     "text": [
      "You can open the visualizer by visiting the following URL:\n",
      "http://127.0.0.1:7036/static/\n"
     ]
    }
   ],
   "source": [
    "b.setup_visualizer()"
   ]
  },
  {
   "cell_type": "code",
   "execution_count": 2,
   "id": "d66fdc3b-5613-4114-9aa1-30a385884159",
   "metadata": {},
   "outputs": [
    {
     "name": "stderr",
     "output_type": "stream",
     "text": [
      "[E rasterize_gl.cpp:121] OpenGL version reported as 4.6\n"
     ]
    },
    {
     "name": "stdout",
     "output_type": "stream",
     "text": [
      "Increasing frame buffer size to (width, height, depth) = (128, 128, 1024)\n"
     ]
    }
   ],
   "source": [
    "intrinsics = b.Intrinsics(\n",
    "    height=100,\n",
    "    width=100,\n",
    "    fx=500.0, fy=500.0,\n",
    "    cx=50.0, cy=50.0,\n",
    "    near=0.01, far=20.0\n",
    ")\n",
    "\n",
    "b.setup_renderer(intrinsics)\n",
    "model_dir = os.path.join(b.utils.get_assets_dir(),\"bop/ycbv/models\")\n",
    "meshes = []\n",
    "for idx in range(1,22):\n",
    "    mesh_path = os.path.join(model_dir,\"obj_\" + \"{}\".format(idx).rjust(6, '0') + \".ply\")\n",
    "    b.RENDERER.add_mesh_from_file(mesh_path, scaling_factor=1.0/1000.0)\n",
    "\n",
    "b.RENDERER.add_mesh_from_file(os.path.join(b.utils.get_assets_dir(), \"sample_objs/cube.obj\"), scaling_factor=1.0/1000000000.0)\n"
   ]
  },
  {
   "cell_type": "code",
   "execution_count": 3,
   "id": "03610b60-fcfa-44a6-9da6-02fe8cba4bc6",
   "metadata": {},
   "outputs": [],
   "source": [
    "importance_jit = jax.jit(b.model.importance)\n",
    "key = jax.random.PRNGKey(10)"
   ]
  },
  {
   "cell_type": "code",
   "execution_count": 4,
   "id": "18490fc9-073e-4cdd-953e-02198c53e845",
   "metadata": {},
   "outputs": [
    {
     "name": "stderr",
     "output_type": "stream",
     "text": [
      "  0%|                                                                                                                                                                                                 | 0/100 [00:00<?, ?it/s]\n"
     ]
    },
    {
     "ename": "FileNotFoundError",
     "evalue": "[Errno 2] No such file or directory: 'data/trace_0.joblib'",
     "output_type": "error",
     "traceback": [
      "\u001b[0;31m---------------------------------------------------------------------------\u001b[0m",
      "\u001b[0;31mFileNotFoundError\u001b[0m                         Traceback (most recent call last)",
      "Cell \u001b[0;32mIn[4], line 5\u001b[0m\n\u001b[1;32m      3\u001b[0m \u001b[38;5;28;01mfor\u001b[39;00m scene_id \u001b[38;5;129;01min\u001b[39;00m tqdm(\u001b[38;5;28mrange\u001b[39m(NUM_TRACES)):\n\u001b[1;32m      4\u001b[0m     filename \u001b[38;5;241m=\u001b[39m \u001b[38;5;124mf\u001b[39m\u001b[38;5;124m\"\u001b[39m\u001b[38;5;124mdata/trace_\u001b[39m\u001b[38;5;132;01m{\u001b[39;00mscene_id\u001b[38;5;132;01m}\u001b[39;00m\u001b[38;5;124m.joblib\u001b[39m\u001b[38;5;124m\"\u001b[39m\n\u001b[0;32m----> 5\u001b[0m     gt_traces\u001b[38;5;241m.\u001b[39mappend(importance_jit(key, \u001b[38;5;241m*\u001b[39m\u001b[43mjoblib\u001b[49m\u001b[38;5;241;43m.\u001b[39;49m\u001b[43mload\u001b[49m\u001b[43m(\u001b[49m\u001b[43mfilename\u001b[49m\u001b[43m)\u001b[49m)[\u001b[38;5;241m1\u001b[39m][\u001b[38;5;241m1\u001b[39m])\n\u001b[1;32m      7\u001b[0m hb_traces \u001b[38;5;241m=\u001b[39m []\n\u001b[1;32m      9\u001b[0m V_VARIANT \u001b[38;5;241m=\u001b[39m \u001b[38;5;241m0\u001b[39m\n",
      "File \u001b[0;32m/opt/conda/envs/bayes3d/lib/python3.9/site-packages/joblib/numpy_pickle.py:650\u001b[0m, in \u001b[0;36mload\u001b[0;34m(filename, mmap_mode)\u001b[0m\n\u001b[1;32m    648\u001b[0m         obj \u001b[38;5;241m=\u001b[39m _unpickle(fobj)\n\u001b[1;32m    649\u001b[0m \u001b[38;5;28;01melse\u001b[39;00m:\n\u001b[0;32m--> 650\u001b[0m     \u001b[38;5;28;01mwith\u001b[39;00m \u001b[38;5;28;43mopen\u001b[39;49m\u001b[43m(\u001b[49m\u001b[43mfilename\u001b[49m\u001b[43m,\u001b[49m\u001b[43m \u001b[49m\u001b[38;5;124;43m'\u001b[39;49m\u001b[38;5;124;43mrb\u001b[39;49m\u001b[38;5;124;43m'\u001b[39;49m\u001b[43m)\u001b[49m \u001b[38;5;28;01mas\u001b[39;00m f:\n\u001b[1;32m    651\u001b[0m         \u001b[38;5;28;01mwith\u001b[39;00m _read_fileobject(f, filename, mmap_mode) \u001b[38;5;28;01mas\u001b[39;00m fobj:\n\u001b[1;32m    652\u001b[0m             \u001b[38;5;28;01mif\u001b[39;00m \u001b[38;5;28misinstance\u001b[39m(fobj, \u001b[38;5;28mstr\u001b[39m):\n\u001b[1;32m    653\u001b[0m                 \u001b[38;5;66;03m# if the returned file object is a string, this means we\u001b[39;00m\n\u001b[1;32m    654\u001b[0m                 \u001b[38;5;66;03m# try to load a pickle file generated with an version of\u001b[39;00m\n\u001b[1;32m    655\u001b[0m                 \u001b[38;5;66;03m# Joblib so we load it with joblib compatibility function.\u001b[39;00m\n",
      "\u001b[0;31mFileNotFoundError\u001b[0m: [Errno 2] No such file or directory: 'data/trace_0.joblib'"
     ]
    }
   ],
   "source": [
    "gt_traces = []\n",
    "NUM_TRACES = 100\n",
    "for scene_id in tqdm(range(NUM_TRACES)):\n",
    "    filename = f\"data/trace_{scene_id}.joblib\"\n",
    "    gt_traces.append(importance_jit(key, *joblib.load(filename))[1][1])\n",
    "\n",
    "hb_traces = []\n",
    "\n",
    "V_VARIANT = 0\n",
    "O_VARIANT = 0\n",
    "HIERARCHICAL_BAYES = True\n",
    "\n",
    "for scene_id in tqdm(range(NUM_TRACES)):\n",
    "    if HIERARCHICAL_BAYES:\n",
    "        filename = f\"data/inferred_hb_{scene_id}.joblib\"\n",
    "    else:\n",
    "        filename = f\"data/inferred_{V_VARIANT}_{O_VARIANT}_{scene_id}.joblib\"\n",
    "    hb_traces.append(importance_jit(key, *joblib.load(filename))[1][1])"
   ]
  },
  {
   "cell_type": "code",
   "execution_count": null,
   "id": "0316efaa-ec4d-42fb-8749-6efe5b4526ce",
   "metadata": {},
   "outputs": [],
   "source": [
    "# Classification accuracy\n",
    "prediction_sets = [hb_traces]\n",
    "wrong_prediction = []\n",
    "for pred_set in prediction_sets:\n",
    "    correct = 0\n",
    "    for scene_id in range(NUM_TRACES):\n",
    "        gt_ids = np.array(b.genjax.get_indices(gt_traces[scene_id]))\n",
    "        pred_ids = np.array(b.genjax.get_indices(pred_set[scene_id]))\n",
    "        # print(pred_set[scene_id][\"variance\"])\n",
    "        # print(pred_set[scene_id][\"outlier_prob\"])\n",
    "        if set(pred_ids) == set(gt_ids):\n",
    "            correct +=1\n",
    "        else:\n",
    "            wrong_prediction.append(scene_id)\n",
    "            print(gt_ids, pred_ids)\n",
    "            continue\n",
    "    print(correct)    "
   ]
  },
  {
   "cell_type": "code",
   "execution_count": null,
   "id": "e8b4c2e0-6cd0-4d24-bce2-30cb340e9193",
   "metadata": {},
   "outputs": [],
   "source": [
    "wrong_prediction"
   ]
  },
  {
   "cell_type": "code",
   "execution_count": null,
   "id": "4a32d68b-34b7-47d0-80cf-d6087a5e6390",
   "metadata": {},
   "outputs": [],
   "source": [
    "b.genjax.viz_trace_meshcat(prediction_sets[0][scene_id])"
   ]
  },
  {
   "cell_type": "code",
   "execution_count": 7,
   "id": "bed6ed82-0e07-4b78-b832-2682a2878d78",
   "metadata": {},
   "outputs": [],
   "source": [
    "\n",
    "importance_jit = jax.jit(b.model.importance)\n",
    "\n",
    "contact_enumerators = [b.make_enumerator([f\"contact_params_{i}\", \"variance\", \"outlier_prob\"]) for i in range(5)]\n",
    "add_object_jit = jax.jit(b.add_object)\n",
    "\n",
    "def c2f_contact_update(trace_, key,  number, contact_param_deltas, VARIANCE_GRID, OUTLIER_GRID):\n",
    "    contact_param_grid = contact_param_deltas + trace_[f\"contact_params_{number}\"]\n",
    "    scores = contact_enumerators[number][3](trace_, key, contact_param_grid, VARIANCE_GRID, OUTLIER_GRID)\n",
    "    i,j,k = jnp.unravel_index(scores.argmax(), scores.shape)\n",
    "    return contact_enumerators[number][0](\n",
    "        trace_, key,\n",
    "        contact_param_grid[i], VARIANCE_GRID[j], OUTLIER_GRID[k]\n",
    "    )\n",
    "c2f_contact_update_jit = jax.jit(c2f_contact_update, static_argnames=(\"number\",))"
   ]
  },
  {
   "cell_type": "code",
   "execution_count": 15,
   "id": "b062e7b3-e344-4456-a2d1-b6e040898434",
   "metadata": {},
   "outputs": [],
   "source": [
    "OUTLIER_VOLUME = 1000.0\n",
    "VARIANCE_GRID = jnp.array([0.0001, 0.001, 0.01])\n",
    "OUTLIER_GRID = jnp.array([0.00001, 0.0001, 0.001])\n",
    "\n",
    "grid_params = [\n",
    "    (0.3, jnp.pi, (11,11,11)), (0.2, jnp.pi, (11,11,11)), (0.1, jnp.pi, (11,11,11)),\n",
    "    (0.05, jnp.pi/3, (11,11,11)), (0.02, jnp.pi, (5,5,51)), (0.01, jnp.pi/5, (11,11,11)), (0.01, 0.0, (21,21,1)),(0.05, 0.0, (21,21,1))\n",
    "]\n",
    "contact_param_gridding_schedule = [\n",
    "    b.utils.make_translation_grid_enumeration_3d(\n",
    "        -x, -x, -ang,\n",
    "        x, x, ang,\n",
    "        *nums\n",
    "    )\n",
    "    for (x,ang,nums) in grid_params\n",
    "]\n",
    "key = jax.random.PRNGKey(500)\n"
   ]
  },
  {
   "cell_type": "code",
   "execution_count": 9,
   "id": "72d1d9e0-32b8-439c-a69a-d2eaf0cb3e72",
   "metadata": {},
   "outputs": [],
   "source": [
    "scene_id = 4"
   ]
  },
  {
   "cell_type": "code",
   "execution_count": 10,
   "id": "4b4bc4b1-7866-4265-a8b7-6e8defe1fb01",
   "metadata": {},
   "outputs": [
    {
     "name": "stdout",
     "output_type": "stream",
     "text": [
      "[1.e-04 1.e-03 1.e-02] [1.e-05 1.e-04 1.e-03]\n"
     ]
    },
    {
     "ename": "FileNotFoundError",
     "evalue": "[Errno 2] No such file or directory: 'data/trace_4.joblib'",
     "output_type": "error",
     "traceback": [
      "\u001b[0;31m---------------------------------------------------------------------------\u001b[0m",
      "\u001b[0;31mFileNotFoundError\u001b[0m                         Traceback (most recent call last)",
      "Cell \u001b[0;32mIn[10], line 13\u001b[0m\n\u001b[1;32m      9\u001b[0m     V_GRID, O_GRID \u001b[38;5;241m=\u001b[39m jnp\u001b[38;5;241m.\u001b[39marray([VARIANCE_GRID[V_VARIANT]]), jnp\u001b[38;5;241m.\u001b[39marray([OUTLIER_GRID[O_VARIANT]])\n\u001b[1;32m     11\u001b[0m \u001b[38;5;28mprint\u001b[39m(V_GRID, O_GRID)\n\u001b[0;32m---> 13\u001b[0m gt_trace \u001b[38;5;241m=\u001b[39m importance_jit(key, \u001b[38;5;241m*\u001b[39m\u001b[43mjoblib\u001b[49m\u001b[38;5;241;43m.\u001b[39;49m\u001b[43mload\u001b[49m\u001b[43m(\u001b[49m\u001b[38;5;124;43mf\u001b[39;49m\u001b[38;5;124;43m\"\u001b[39;49m\u001b[38;5;124;43mdata/trace_\u001b[39;49m\u001b[38;5;132;43;01m{\u001b[39;49;00m\u001b[43mscene_id\u001b[49m\u001b[38;5;132;43;01m}\u001b[39;49;00m\u001b[38;5;124;43m.joblib\u001b[39;49m\u001b[38;5;124;43m\"\u001b[39;49m\u001b[43m)\u001b[49m)[\u001b[38;5;241m1\u001b[39m][\u001b[38;5;241m1\u001b[39m]\n\u001b[1;32m     14\u001b[0m \u001b[38;5;28mprint\u001b[39m(b\u001b[38;5;241m.\u001b[39mgenjax\u001b[38;5;241m.\u001b[39mget_indices(gt_trace))\n\u001b[1;32m     15\u001b[0m b\u001b[38;5;241m.\u001b[39mgenjax\u001b[38;5;241m.\u001b[39mviz_trace_meshcat(gt_trace)\n",
      "File \u001b[0;32m/opt/conda/envs/bayes3d/lib/python3.9/site-packages/joblib/numpy_pickle.py:650\u001b[0m, in \u001b[0;36mload\u001b[0;34m(filename, mmap_mode)\u001b[0m\n\u001b[1;32m    648\u001b[0m         obj \u001b[38;5;241m=\u001b[39m _unpickle(fobj)\n\u001b[1;32m    649\u001b[0m \u001b[38;5;28;01melse\u001b[39;00m:\n\u001b[0;32m--> 650\u001b[0m     \u001b[38;5;28;01mwith\u001b[39;00m \u001b[38;5;28;43mopen\u001b[39;49m\u001b[43m(\u001b[49m\u001b[43mfilename\u001b[49m\u001b[43m,\u001b[49m\u001b[43m \u001b[49m\u001b[38;5;124;43m'\u001b[39;49m\u001b[38;5;124;43mrb\u001b[39;49m\u001b[38;5;124;43m'\u001b[39;49m\u001b[43m)\u001b[49m \u001b[38;5;28;01mas\u001b[39;00m f:\n\u001b[1;32m    651\u001b[0m         \u001b[38;5;28;01mwith\u001b[39;00m _read_fileobject(f, filename, mmap_mode) \u001b[38;5;28;01mas\u001b[39;00m fobj:\n\u001b[1;32m    652\u001b[0m             \u001b[38;5;28;01mif\u001b[39;00m \u001b[38;5;28misinstance\u001b[39m(fobj, \u001b[38;5;28mstr\u001b[39m):\n\u001b[1;32m    653\u001b[0m                 \u001b[38;5;66;03m# if the returned file object is a string, this means we\u001b[39;00m\n\u001b[1;32m    654\u001b[0m                 \u001b[38;5;66;03m# try to load a pickle file generated with an version of\u001b[39;00m\n\u001b[1;32m    655\u001b[0m                 \u001b[38;5;66;03m# Joblib so we load it with joblib compatibility function.\u001b[39;00m\n",
      "\u001b[0;31mFileNotFoundError\u001b[0m: [Errno 2] No such file or directory: 'data/trace_4.joblib'"
     ]
    }
   ],
   "source": [
    "V_VARIANT = 0\n",
    "O_VARIANT = 0\n",
    "HIERARCHICAL_BAYES = True\n",
    "\n",
    "if HIERARCHICAL_BAYES:\n",
    "    V_GRID = VARIANCE_GRID\n",
    "    O_GRID = OUTLIER_GRID\n",
    "else:\n",
    "    V_GRID, O_GRID = jnp.array([VARIANCE_GRID[V_VARIANT]]), jnp.array([OUTLIER_GRID[O_VARIANT]])\n",
    "\n",
    "print(V_GRID, O_GRID)\n",
    "\n",
    "gt_trace = importance_jit(key, *joblib.load(f\"data/trace_{scene_id}.joblib\"))[1][1]\n",
    "print(b.genjax.get_indices(gt_trace))\n",
    "b.genjax.viz_trace_meshcat(gt_trace)\n",
    "choices = gt_trace.get_choices()\n",
    "key, (_,trace) = importance_jit(key, choices, (jnp.arange(1), jnp.arange(22), *gt_trace.get_args()[2:-1], 100.0))\n",
    "print(trace.get_score())"
   ]
  },
  {
   "cell_type": "code",
   "execution_count": 60,
   "id": "6b4d76a6-19c7-4e37-b1ad-0ceb167aabec",
   "metadata": {},
   "outputs": [
    {
     "name": "stdout",
     "output_type": "stream",
     "text": [
      "20379.018\n"
     ]
    }
   ],
   "source": [
    "table_pose = b.t3d.inverse_pose(\n",
    "    b.t3d.transform_from_pos_target_up(\n",
    "        jnp.array([0.0, 2.0, 1.20]),\n",
    "        jnp.array([0.0, 0.0, 0.0]),\n",
    "        jnp.array([0.0, 0.0, 1.0]),\n",
    "    )\n",
    ")\n",
    "\n",
    "weight, gt_trace = importance_jit(key, genjax.choice_map({\n",
    "    \"parent_0\": -1,\n",
    "    \"parent_1\": 0,\n",
    "    \"parent_2\": 0,\n",
    "    \"parent_3\": 0,\n",
    "    \"id_0\": jnp.int32(21),\n",
    "    \"camera_pose\": jnp.eye(4),\n",
    "    \"root_pose_0\": table_pose,\n",
    "    \"face_parent_1\": 2,\n",
    "    \"face_parent_2\": 2,\n",
    "    \"face_parent_3\": 2,\n",
    "    \"face_child_1\": 3,\n",
    "    \"face_child_2\": 3,\n",
    "    \"face_child_3\": 3,\n",
    "    \"variance\": 0.0001,\n",
    "    \"outlier_prob\": 0.0001,\n",
    "}), (\n",
    "    jnp.arange(4),\n",
    "    jnp.arange(22),\n",
    "    jnp.array([-jnp.ones(3)*100.0, jnp.ones(3)*100.0]),\n",
    "    jnp.array([jnp.array([-0.2, -0.2, -2*jnp.pi]), jnp.array([0.2, 0.2, 2*jnp.pi])]),\n",
    "    b.RENDERER.model_box_dims, OUTLIER_VOLUME, 1.0)\n",
    ")\n",
    "print(gt_trace.get_score())"
   ]
  },
  {
   "cell_type": "code",
   "execution_count": 62,
   "id": "d588a4e8-9cb4-4745-9fe2-5aa91dadc93a",
   "metadata": {},
   "outputs": [],
   "source": [
    "_,trace = importance_jit(key, trace.get_choices(), (jnp.arange(1), jnp.arange(22), *gt_trace.get_args()[2:]))"
   ]
  },
  {
   "cell_type": "code",
   "execution_count": 63,
   "id": "55543d04-68cc-4857-b122-bbc42141b6ab",
   "metadata": {},
   "outputs": [],
   "source": [
    "b.viz_trace_meshcat(trace)"
   ]
  },
  {
   "cell_type": "code",
   "execution_count": 67,
   "id": "3f920818-a296-4408-9db0-37acd4748bc6",
   "metadata": {},
   "outputs": [
    {
     "data": {
      "image/jpeg": "[encoded data removed]",
      "image/png": "[encoded data removed]",
      "text/plain": [
       "<PIL.Image.Image image mode=RGB size=410x200>"
      ]
     },
     "execution_count": 67,
     "metadata": {},
     "output_type": "execute_result"
    }
   ],
   "source": [
    "b.viz_trace_rendered_observed(trace)"
   ]
  },
  {
   "cell_type": "code",
   "execution_count": 68,
   "id": "30c3dfe9-f184-42ef-92de-06e249e82f03",
   "metadata": {},
   "outputs": [],
   "source": [
    "b.viz_trace_meshcat(trace)"
   ]
  },
  {
   "cell_type": "code",
   "execution_count": 69,
   "id": "a61204d9-3f4c-442a-95ba-a0cce590f33f",
   "metadata": {},
   "outputs": [
    {
     "name": "stderr",
     "output_type": "stream",
     "text": [
      "100%|█████████████████████████████████████████████████████████████████████████████████████████████████████████████████████████████████████████████████████████████████████████████████████████| 21/21 [00:25<00:00,  1.22s/it]\n"
     ]
    },
    {
     "name": "stdout",
     "output_type": "stream",
     "text": [
      "[ 8770.71    9125.907   9316.053  12317.326   9892.555  10098.149\n",
      " 10303.576  10441.819  13257.952  10642.229   6126.5645  9849.467\n",
      "  8173.9663 12708.57    8521.694   8001.7485 11233.768   9569.525\n",
      " 11571.687  10099.448  11542.227 ]\n"
     ]
    },
    {
     "name": "stderr",
     "output_type": "stream",
     "text": [
      "100%|█████████████████████████████████████████████████████████████████████████████████████████████████████████████████████████████████████████████████████████████████████████████████████████| 21/21 [00:26<00:00,  1.25s/it]\n"
     ]
    },
    {
     "name": "stdout",
     "output_type": "stream",
     "text": [
      "[ 8834.159   9457.573  13536.434  13922.481  13320.626  17203.004\n",
      " 16818.121  17546.678  14207.539  17747.086   6866.7344 10654.357\n",
      " 13583.376  14491.718  14964.268   8630.085  18338.623  16674.38\n",
      " 18676.541  17204.303  16751.135 ]\n"
     ]
    },
    {
     "name": "stderr",
     "output_type": "stream",
     "text": [
      "100%|█████████████████████████████████████████████████████████████████████████████████████████████████████████████████████████████████████████████████████████████████████████████████████████| 21/21 [00:27<00:00,  1.32s/it]"
     ]
    },
    {
     "name": "stdout",
     "output_type": "stream",
     "text": [
      "[14252.408 14875.821 16766.928 18052.918 16327.13  18660.936 18661.297\n",
      " 18661.22  18633.955 18969.807 12284.984 16072.606 16796.842 18418.238\n",
      " 16210.065 14048.336 19724.238 20187.729 18547.414 17793.326 18661.416]\n"
     ]
    },
    {
     "name": "stderr",
     "output_type": "stream",
     "text": [
      "\n"
     ]
    }
   ],
   "source": [
    "all_all_paths = []\n",
    "for _ in range(3):\n",
    "    all_paths = []\n",
    "    for obj_id in tqdm(range(len(b.RENDERER.meshes)-1)):\n",
    "        path = []\n",
    "        trace_ = add_object_jit(trace, key, obj_id, 0, 2,3)\n",
    "        number = b.get_contact_params(trace_).shape[0] - 1\n",
    "        path.append(trace_)\n",
    "        for c2f_iter in range(len(contact_param_gridding_schedule)):\n",
    "            trace_ = c2f_contact_update_jit(trace_, key, number,\n",
    "                contact_param_gridding_schedule[c2f_iter], V_GRID, O_GRID)\n",
    "            path.append(trace_)\n",
    "        # for c2f_iter in range(len(contact_param_gridding_schedule)):\n",
    "        #     trace_ = c2f_contact_update_jit(trace_, key, number,\n",
    "        #         contact_param_gridding_schedule[c2f_iter], VARIANCE_GRID, OUTLIER_GRID)\n",
    "        all_paths.append(\n",
    "            path\n",
    "        )\n",
    "    all_all_paths.append(all_paths)\n",
    "    \n",
    "    scores = jnp.array([t[-1].get_score() for t in all_paths])\n",
    "    print(scores)\n",
    "    normalized_scores = b.utils.normalize_log_scores(scores)\n",
    "    trace = all_paths[jnp.argmax(scores)][-1]\n",
    "    b.viz_trace_meshcat(trace)"
   ]
  },
  {
   "cell_type": "code",
   "execution_count": 25,
   "id": "a3d3cdac-e306-404c-a3a8-7dab1169cd82",
   "metadata": {},
   "outputs": [
    {
     "data": {
      "text/plain": [
       "Array(nan, dtype=float32)"
      ]
     },
     "execution_count": 25,
     "metadata": {},
     "output_type": "execute_result"
    }
   ],
   "source": [
    "trace.get_score()"
   ]
  },
  {
   "cell_type": "code",
   "execution_count": 21,
   "id": "d88a7288-88ee-4902-8cb2-94cdcd0da33a",
   "metadata": {},
   "outputs": [
    {
     "name": "stderr",
     "output_type": "stream",
     "text": [
      "  0%|                                                                                                                                                                                                                         | 0/21 [00:00<?, ?it/s]2023-07-18 19:29:36.522162: W external/xla/xla/service/gpu/llvm_gpu_backend/gpu_backend_lib.cc:561] libdevice is required by this HLO module but was not found at /opt/conda/envs/bayes3d/lib/python3.9/site-packages/nvidia/cuda_nvcc/nvvm/libdevice/libdevice.10.bc\n",
      "2023-07-18 19:29:36.525514: W external/xla/xla/service/gpu/llvm_gpu_backend/gpu_backend_lib.cc:561] libdevice is required by this HLO module but was not found at /opt/conda/envs/bayes3d/lib/python3.9/site-packages/nvidia/cuda_nvcc/nvvm/libdevice/libdevice.10.bc\n",
      "2023-07-18 19:29:36.527243: W external/xla/xla/service/gpu/llvm_gpu_backend/gpu_backend_lib.cc:561] libdevice is required by this HLO module but was not found at /opt/conda/envs/bayes3d/lib/python3.9/site-packages/nvidia/cuda_nvcc/nvvm/libdevice/libdevice.10.bc\n",
      "2023-07-18 19:29:36.527432: W external/xla/xla/service/gpu/llvm_gpu_backend/gpu_backend_lib.cc:561] libdevice is required by this HLO module but was not found at /opt/conda/envs/bayes3d/lib/python3.9/site-packages/nvidia/cuda_nvcc/nvvm/libdevice/libdevice.10.bc\n",
      "2023-07-18 19:29:36.528080: W external/xla/xla/service/gpu/llvm_gpu_backend/gpu_backend_lib.cc:561] libdevice is required by this HLO module but was not found at /opt/conda/envs/bayes3d/lib/python3.9/site-packages/nvidia/cuda_nvcc/nvvm/libdevice/libdevice.10.bc\n",
      "2023-07-18 19:29:36.528478: W external/xla/xla/service/gpu/llvm_gpu_backend/gpu_backend_lib.cc:561] libdevice is required by this HLO module but was not found at /opt/conda/envs/bayes3d/lib/python3.9/site-packages/nvidia/cuda_nvcc/nvvm/libdevice/libdevice.10.bc\n",
      "2023-07-18 19:29:36.529458: W external/xla/xla/service/gpu/llvm_gpu_backend/gpu_backend_lib.cc:561] libdevice is required by this HLO module but was not found at /opt/conda/envs/bayes3d/lib/python3.9/site-packages/nvidia/cuda_nvcc/nvvm/libdevice/libdevice.10.bc\n",
      "2023-07-18 19:29:36.530206: W external/xla/xla/service/gpu/llvm_gpu_backend/gpu_backend_lib.cc:561] libdevice is required by this HLO module but was not found at /opt/conda/envs/bayes3d/lib/python3.9/site-packages/nvidia/cuda_nvcc/nvvm/libdevice/libdevice.10.bc\n",
      "  0%|                                                                                                                                                                                                                         | 0/21 [00:04<?, ?it/s]\n"
     ]
    },
    {
     "ename": "XlaRuntimeError",
     "evalue": "INTERNAL: libdevice not found at /opt/conda/envs/bayes3d/lib/python3.9/site-packages/nvidia/cuda_nvcc/nvvm/libdevice/libdevice.10.bc",
     "output_type": "error",
     "traceback": [
      "\u001b[0;31m---------------------------------------------------------------------------\u001b[0m",
      "\u001b[0;31mXlaRuntimeError\u001b[0m                           Traceback (most recent call last)",
      "Cell \u001b[0;32mIn[21], line 10\u001b[0m\n\u001b[1;32m      8\u001b[0m path\u001b[38;5;241m.\u001b[39mappend(trace_)\n\u001b[1;32m      9\u001b[0m \u001b[38;5;28;01mfor\u001b[39;00m c2f_iter \u001b[38;5;129;01min\u001b[39;00m \u001b[38;5;28mrange\u001b[39m(\u001b[38;5;28mlen\u001b[39m(contact_param_gridding_schedule)):\n\u001b[0;32m---> 10\u001b[0m     trace_ \u001b[38;5;241m=\u001b[39m \u001b[43mc2f_contact_update_jit\u001b[49m\u001b[43m(\u001b[49m\u001b[43mtrace_\u001b[49m\u001b[43m,\u001b[49m\u001b[43m \u001b[49m\u001b[43mkey\u001b[49m\u001b[43m,\u001b[49m\u001b[43m \u001b[49m\u001b[43mnumber\u001b[49m\u001b[43m,\u001b[49m\n\u001b[1;32m     11\u001b[0m \u001b[43m        \u001b[49m\u001b[43mcontact_param_gridding_schedule\u001b[49m\u001b[43m[\u001b[49m\u001b[43mc2f_iter\u001b[49m\u001b[43m]\u001b[49m\u001b[43m,\u001b[49m\u001b[43m \u001b[49m\u001b[43mV_GRID\u001b[49m\u001b[43m,\u001b[49m\u001b[43m \u001b[49m\u001b[43mO_GRID\u001b[49m\u001b[43m)\u001b[49m\n\u001b[1;32m     12\u001b[0m     path\u001b[38;5;241m.\u001b[39mappend(trace_)\n\u001b[1;32m     13\u001b[0m \u001b[38;5;66;03m# for c2f_iter in range(len(contact_param_gridding_schedule)):\u001b[39;00m\n\u001b[1;32m     14\u001b[0m \u001b[38;5;66;03m#     trace_ = c2f_contact_update_jit(trace_, key, number,\u001b[39;00m\n\u001b[1;32m     15\u001b[0m \u001b[38;5;66;03m#         contact_param_gridding_schedule[c2f_iter], VARIANCE_GRID, OUTLIER_GRID)\u001b[39;00m\n",
      "    \u001b[0;31m[... skipping hidden 14 frame]\u001b[0m\n",
      "File \u001b[0;32m/opt/conda/envs/bayes3d/lib/python3.9/site-packages/jax/_src/dispatch.py:465\u001b[0m, in \u001b[0;36mbackend_compile\u001b[0;34m(backend, module, options, host_callbacks)\u001b[0m\n\u001b[1;32m    460\u001b[0m   \u001b[38;5;28;01mreturn\u001b[39;00m backend\u001b[38;5;241m.\u001b[39mcompile(built_c, compile_options\u001b[38;5;241m=\u001b[39moptions,\n\u001b[1;32m    461\u001b[0m                          host_callbacks\u001b[38;5;241m=\u001b[39mhost_callbacks)\n\u001b[1;32m    462\u001b[0m \u001b[38;5;66;03m# Some backends don't have `host_callbacks` option yet\u001b[39;00m\n\u001b[1;32m    463\u001b[0m \u001b[38;5;66;03m# TODO(sharadmv): remove this fallback when all backends allow `compile`\u001b[39;00m\n\u001b[1;32m    464\u001b[0m \u001b[38;5;66;03m# to take in `host_callbacks`\u001b[39;00m\n\u001b[0;32m--> 465\u001b[0m \u001b[38;5;28;01mreturn\u001b[39;00m \u001b[43mbackend\u001b[49m\u001b[38;5;241;43m.\u001b[39;49m\u001b[43mcompile\u001b[49m\u001b[43m(\u001b[49m\u001b[43mbuilt_c\u001b[49m\u001b[43m,\u001b[49m\u001b[43m \u001b[49m\u001b[43mcompile_options\u001b[49m\u001b[38;5;241;43m=\u001b[39;49m\u001b[43moptions\u001b[49m\u001b[43m)\u001b[49m\n",
      "\u001b[0;31mXlaRuntimeError\u001b[0m: INTERNAL: libdevice not found at /opt/conda/envs/bayes3d/lib/python3.9/site-packages/nvidia/cuda_nvcc/nvvm/libdevice/libdevice.10.bc"
     ]
    }
   ],
   "source": [
    "\n",
    "\n",
    "all_all_paths = []\n",
    "for _ in range(3):\n",
    "    all_paths = []\n",
    "    for obj_id in tqdm(range(len(b.RENDERER.meshes)-1)):\n",
    "        path = []\n",
    "        trace_ = add_object_jit(trace, key, obj_id, 0, 2,3)\n",
    "        number = b.genjax.get_contact_params(trace_).shape[0] - 1\n",
    "        path.append(trace_)\n",
    "        for c2f_iter in range(len(contact_param_gridding_schedule)):\n",
    "            trace_ = c2f_contact_update_jit(trace_, key, number,\n",
    "                contact_param_gridding_schedule[c2f_iter], V_GRID, O_GRID)\n",
    "            path.append(trace_)\n",
    "        # for c2f_iter in range(len(contact_param_gridding_schedule)):\n",
    "        #     trace_ = c2f_contact_update_jit(trace_, key, number,\n",
    "        #         contact_param_gridding_schedule[c2f_iter], VARIANCE_GRID, OUTLIER_GRID)\n",
    "        all_paths.append(\n",
    "            path\n",
    "        )\n",
    "    all_all_paths.append(all_paths)\n",
    "    \n",
    "    scores = jnp.array([t[-1].get_score() for t in all_paths])\n",
    "    print(scores)\n",
    "    normalized_scores = b.utils.normalize_log_scores(scores)\n",
    "    trace = all_paths[jnp.argmax(scores)][-1]\n",
    "    b.genjax.viz_trace_meshcat(trace)\n",
    "\n",
    "print(b.genjax.get_indices(gt_trace))\n",
    "print(b.genjax.get_indices(trace))\n",
    "b.genjax.viz_trace_meshcat(trace)"
   ]
  },
  {
   "cell_type": "code",
   "execution_count": null,
   "id": "45880f7d-74b7-4f2f-9f96-a9b26eb64f28",
   "metadata": {},
   "outputs": [],
   "source": []
  },
  {
   "cell_type": "code",
   "execution_count": 183,
   "id": "520b2b44-769b-425f-966a-ff4c7b701e49",
   "metadata": {},
   "outputs": [
    {
     "name": "stdout",
     "output_type": "stream",
     "text": [
      "\n",
      "    SCORE: 446075.1250000\n",
      "    VARIANCE: 0.0000100\n",
      "    OUTLIER_PROB 0.0010000\n",
      "    \n"
     ]
    }
   ],
   "source": [
    "b.genjax.print_trace(trace)\n"
   ]
  },
  {
   "cell_type": "code",
   "execution_count": 184,
   "id": "9a6fa841-111a-40cc-9398-9001ba5932ba",
   "metadata": {},
   "outputs": [],
   "source": [
    "b.genjax.viz_trace_meshcat(gt_trace)"
   ]
  },
  {
   "cell_type": "code",
   "execution_count": 186,
   "id": "de0c6a52-46ff-4351-8759-56b80e11bde9",
   "metadata": {},
   "outputs": [
    {
     "name": "stdout",
     "output_type": "stream",
     "text": [
      "\n",
      "    SCORE: 446075.1250000\n",
      "    VARIANCE: 0.0000100\n",
      "    OUTLIER_PROB 0.0010000\n",
      "    \n",
      "\n",
      "    SCORE: 445532.4375000\n",
      "    VARIANCE: 0.0000100\n",
      "    OUTLIER_PROB 0.0010000\n",
      "    \n"
     ]
    }
   ],
   "source": [
    "trace_alternate = all_all_paths[2][18][-1]\n",
    "trace_alternate2 = all_all_paths[2][19][-1]\n",
    "b.genjax.print_trace(trace_alternate)\n",
    "b.genjax.print_trace(trace_alternate2)\n",
    "b.genjax.viz_trace_meshcat(trace_alternate)\n",
    "b.genjax.viz_trace_meshcat(trace_alternate2)"
   ]
  },
  {
   "cell_type": "code",
   "execution_count": null,
   "id": "6c6fe2fb-763d-4cef-bb55-47ae07ebf345",
   "metadata": {},
   "outputs": [],
   "source": []
  }
 ],
 "metadata": {
  "kernelspec": {
   "display_name": "Python 3 (ipykernel)",
   "language": "python",
   "name": "python3"
  },
  "language_info": {
   "codemirror_mode": {
    "name": "ipython",
    "version": 3
   },
   "file_extension": ".py",
   "mimetype": "text/x-python",
   "name": "python",
   "nbconvert_exporter": "python",
   "pygments_lexer": "ipython3",
   "version": "3.9.18"
  }
 },
 "nbformat": 4,
 "nbformat_minor": 5
}
