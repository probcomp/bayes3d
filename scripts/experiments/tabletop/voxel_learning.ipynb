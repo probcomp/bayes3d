{
 "cells": [
  {
   "cell_type": "code",
   "execution_count": null,
   "id": "0c2f0147-bf00-4c11-974a-88503a652ad0",
   "metadata": {},
   "outputs": [],
   "source": [
    "import bayes3d as b\n",
    "import os\n",
    "import jax.numpy as jnp\n",
    "import jax\n",
    "import bayes3d.genjax\n",
    "import genjax\n",
    "import matplotlib\n",
    "import matplotlib.pyplot as plt\n",
    "from tqdm import tqdm"
   ]
  },
  {
   "cell_type": "code",
   "execution_count": null,
   "id": "47238843-2964-4f14-9a2d-328c3ed27fe1",
   "metadata": {},
   "outputs": [],
   "source": [
    "b.setup_visualizer()"
   ]
  },
  {
   "cell_type": "code",
   "execution_count": null,
   "id": "71c24c6a-e728-4f78-b6f0-ffa0840976c7",
   "metadata": {},
   "outputs": [],
   "source": [
    "model_dir = os.path.join(b.utils.get_assets_dir(),\"bop/ycbv/models\")\n",
    "obj_idx = 4\n",
    "mesh_filename = os.path.join(model_dir,\"obj_\" + \"{}\".format(obj_idx+1).rjust(6, '0') + \".ply\")\n",
    "SCALING_FACTOR = 1.0/1000.0"
   ]
  },
  {
   "cell_type": "code",
   "execution_count": null,
   "id": "7a5174d1-96f5-44cd-b261-ad5b61d36469",
   "metadata": {},
   "outputs": [],
   "source": [
    "intrinsics = b.Intrinsics(\n",
    "    height=100,\n",
    "    width=100,\n",
    "    fx=500.0, fy=500.0,\n",
    "    cx=50.0, cy=50.0,\n",
    "    near=0.01, far=50.0\n",
    ")\n",
    "b.setup_renderer(intrinsics)\n",
    "b.RENDERER.add_mesh_from_file(mesh_filename, scaling_factor=SCALING_FACTOR)"
   ]
  },
  {
   "cell_type": "code",
   "execution_count": null,
   "id": "411d4870-a0d8-44c4-a375-498efb9dd91c",
   "metadata": {},
   "outputs": [],
   "source": [
    "object_poses = jnp.array([b.t3d.inverse_pose(b.t3d.transform_from_pos_target_up(\n",
    "            jnp.array([0.0, 0.6, 0.6]),\n",
    "            jnp.array([0.0, 0.0, 0.0]),\n",
    "            jnp.array([0.0, 0.0, 1.0]),\n",
    "        )) @ b.t3d.transform_from_axis_angle(jnp.array([0.0, 0.0, 1.0]), angle)  for angle in jnp.linspace(-jnp.pi, jnp.pi, 7)[:-1]])\n",
    "observations = b.RENDERER.render_many(object_poses[:,None,...], jnp.array([0]))"
   ]
  },
  {
   "cell_type": "code",
   "execution_count": null,
   "id": "dcc4aacd-91dc-4436-b886-94f00019728a",
   "metadata": {},
   "outputs": [],
   "source": [
    "b.hstack_images([b.get_depth_image(o[...,2]) for o in observations])"
   ]
  },
  {
   "cell_type": "code",
   "execution_count": null,
   "id": "384c8a12-9b90-40ed-b9e7-e3cf6669a829",
   "metadata": {},
   "outputs": [],
   "source": [
    "grid = b.utils.make_translation_grid_enumeration_3d(\n",
    "    -0.1, -0.1, -0.2,\n",
    "    0.1, 0.1, 0.2,\n",
    "    # 100, 100, 100\n",
    "    60, 60, 60\n",
    ")\n",
    "b.show_cloud(\"grid\", grid)"
   ]
  },
  {
   "cell_type": "code",
   "execution_count": null,
   "id": "5b8b711d-27e9-491d-b043-c8a05b3de66d",
   "metadata": {},
   "outputs": [],
   "source": [
    "voxel_occupied_occluded_free_parallel = jax.jit(jax.vmap(b.utils.voxel_occupied_occluded_free, in_axes=(0, 0, None, None, None)))"
   ]
  },
  {
   "cell_type": "code",
   "execution_count": null,
   "id": "0772f81c-5443-4c48-9c3a-d685857a82eb",
   "metadata": {},
   "outputs": [],
   "source": [
    "occupancies = voxel_occupied_occluded_free_parallel(\n",
    "    b.inverse_pose(object_poses), observations[...,2], grid, intrinsics, 0.001\n",
    ")\n",
    "print(occupancies.sum())"
   ]
  },
  {
   "cell_type": "code",
   "execution_count": null,
   "id": "b64a0e89-402a-4969-965a-97d2649846b6",
   "metadata": {},
   "outputs": [],
   "source": [
    "b.clear()\n",
    "b.show_cloud(\"grid\", grid[(occupancies > 0.6).sum(0) > 0 ])\n",
    "# b.show_cloud(\"grid2\", grid[occupancy == 0.5],color=b.RED)"
   ]
  },
  {
   "cell_type": "code",
   "execution_count": null,
   "id": "183a9a5e-1de2-40e2-987e-2151f113ce8d",
   "metadata": {},
   "outputs": [],
   "source": [
    "mesh = b.utils.make_voxel_mesh_from_point_cloud(grid[(occupancies > 0.6).sum(0) > 0 ], 0.01 )"
   ]
  },
  {
   "cell_type": "code",
   "execution_count": null,
   "id": "a3237112-1b61-4d4c-a902-67323d16e0eb",
   "metadata": {},
   "outputs": [],
   "source": [
    "b.clear()\n",
    "b.show_trimesh(\"mesh\", mesh)"
   ]
  },
  {
   "cell_type": "code",
   "execution_count": null,
   "id": "6008ffb6-2eb1-4c38-ad74-6db69846cbf6",
   "metadata": {},
   "outputs": [],
   "source": [
    "from bayes3d.viz.open3dviz import Open3DVisualizer"
   ]
  },
  {
   "cell_type": "code",
   "execution_count": null,
   "id": "7abd96ab-4668-4b29-b75b-ac57d5720448",
   "metadata": {},
   "outputs": [],
   "source": [
    "scaled_up_intrinsics = b.camera.scale_camera_parameters(intrinsics, 2)"
   ]
  },
  {
   "cell_type": "code",
   "execution_count": null,
   "id": "1c602b32-60ba-4797-bd87-81267ca130c0",
   "metadata": {},
   "outputs": [],
   "source": [
    "viz = Open3DVisualizer(scaled_up_intrinsics)"
   ]
  },
  {
   "cell_type": "code",
   "execution_count": null,
   "id": "04851b95-6d16-4f66-8e0e-4b4dbd416894",
   "metadata": {},
   "outputs": [],
   "source": [
    "distinct_colors = b.viz.distinct_colors(10)"
   ]
  },
  {
   "cell_type": "code",
   "execution_count": null,
   "id": "3d12f0a6-7aeb-47a2-ac0b-d56de0ade462",
   "metadata": {},
   "outputs": [],
   "source": [
    "viz.make_trimesh(mesh, jnp.eye(4),  jnp.array([*distinct_colors[0], 1.0]))"
   ]
  },
  {
   "cell_type": "code",
   "execution_count": null,
   "id": "088ff96d-cc1a-4f77-bc5d-2ce48ef71086",
   "metadata": {},
   "outputs": [],
   "source": [
    "view_poses = jnp.array([b.t3d.inverse_pose(b.t3d.transform_from_pos_target_up(\n",
    "            jnp.array([0.0, 0.9, 0.9]),\n",
    "            jnp.array([0.0, 0.0, 0.0]),\n",
    "            jnp.array([0.0, 0.0, 1.0]),\n",
    "        )) @ b.t3d.transform_from_axis_angle(jnp.array([0.0, 0.0, 1.0]), angle)  for angle in jnp.linspace(-jnp.pi, jnp.pi, 100)[:-1]])"
   ]
  },
  {
   "cell_type": "code",
   "execution_count": null,
   "id": "935d949b-0fae-4a3b-85fb-10df9697a3b3",
   "metadata": {},
   "outputs": [],
   "source": [
    "images = []\n",
    "for p in tqdm(view_poses):\n",
    "    images.append(viz.capture_image(intrinsics, b.inverse_pose(p)))"
   ]
  },
  {
   "cell_type": "code",
   "execution_count": null,
   "id": "56d549a9-9035-45b6-8391-01beab54d08c",
   "metadata": {},
   "outputs": [],
   "source": [
    "b.viz.make_gif_from_pil_images([b.get_rgb_image(rgbd.rgb) for rgbd in images], \"out.gif\")"
   ]
  },
  {
   "cell_type": "code",
   "execution_count": null,
   "id": "069f81a8-0d87-4427-b927-1d24af6179ef",
   "metadata": {},
   "outputs": [],
   "source": [
    "b.get_rgb_image(viz.capture_image(intrinsics, b.inverse_pose(view_poses[0])).rgb)"
   ]
  },
  {
   "cell_type": "code",
   "execution_count": null,
   "id": "2454dec8-2587-4a57-9e69-d2c2e98b6254",
   "metadata": {},
   "outputs": [],
   "source": []
  }
 ],
 "metadata": {
  "kernelspec": {
   "display_name": "Python 3 (ipykernel)",
   "language": "python",
   "name": "python3"
  },
  "language_info": {
   "codemirror_mode": {
    "name": "ipython",
    "version": 3
   },
   "file_extension": ".py",
   "mimetype": "text/x-python",
   "name": "python",
   "nbconvert_exporter": "python",
   "pygments_lexer": "ipython3",
   "version": "3.9.17"
  }
 },
 "nbformat": 4,
 "nbformat_minor": 5
}
