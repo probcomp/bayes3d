{
 "cells": [
  {
   "cell_type": "code",
   "execution_count": 1,
   "metadata": {},
   "outputs": [
    {
     "name": "stderr",
     "output_type": "stream",
     "text": [
      "/var/tmp/ipykernel_1107990/2151526459.py:50: UserWarning: To copy construct from a tensor, it is recommended to use sourceTensor.clone().detach() or sourceTensor.clone().detach().requires_grad_(True), rather than torch.tensor(sourceTensor).\n",
      "  proj_matrix = torch.tensor(getProjectionMatrix(intrinsics), device=device)\n"
     ]
    },
    {
     "name": "stdout",
     "output_type": "stream",
     "text": [
      "tensor([[0.0000, 0.1000, 0.2000],\n",
      "        [0.0000, 0.1000, 0.2000],\n",
      "        [0.0000, 0.1000, 0.2000],\n",
      "        [0.0000, 0.1000, 0.2000],\n",
      "        [0.0000, 0.1000, 0.2000]], device='cuda:0')\n"
     ]
    },
    {
     "name": "stderr",
     "output_type": "stream",
     "text": [
      "/var/tmp/ipykernel_1107990/2151526459.py:117: UserWarning: To copy construct from a tensor, it is recommended to use sourceTensor.clone().detach() or sourceTensor.clone().detach().requires_grad_(True), rather than torch.tensor(sourceTensor).\n",
      "  quat =  torch.tensor(torch.rand(4,device=device) - 0.5,device=device)\n",
      "/var/tmp/ipykernel_1107990/2151526459.py:102: UserWarning: To copy construct from a tensor, it is recommended to use sourceTensor.clone().detach() or sourceTensor.clone().detach().requires_grad_(True), rather than torch.tensor(sourceTensor).\n",
      "  scales = torch.tensor( 0.0025 * torch.rand((N, 3)),requires_grad=True,device=device)\n"
     ]
    },
    {
     "data": {
      "image/png": "[encoded data removed]",
      "text/plain": [
       "<PIL.Image.Image image mode=RGB size=100x100>"
      ]
     },
     "execution_count": 1,
     "metadata": {},
     "output_type": "execute_result"
    }
   ],
   "source": [
    "import diff_gaussian_rasterization as dgr\n",
    "from diff_gaussian_rasterization import GaussianRasterizationSettings, GaussianRasterizer\n",
    "import torch\n",
    "import os\n",
    "import numpy as np\n",
    "import matplotlib.pyplot as plt\n",
    "import math\n",
    "from tqdm import tqdm\n",
    "import bayes3d as b\n",
    "import jax.numpy as jnp\n",
    "from random import randint\n",
    "import pytorch3d.transforms\n",
    "import matplotlib.pyplot as plt\n",
    "from tqdm import tqdm\n",
    "device = torch.device(\"cuda\" if torch.cuda.is_available() else \"cpu\")\n",
    "device\n",
    "\n",
    "intrinsics = b.Intrinsics(\n",
    "    height=100,\n",
    "    width=100,\n",
    "    fx=100.0, fy=100.0,\n",
    "    cx=50.0, cy=50.0,\n",
    "    near=0.01, far=2.5\n",
    ")\n",
    "fovX = jnp.arctan(intrinsics.width / 2 / intrinsics.fx) * 2\n",
    "fovY = jnp.arctan(intrinsics.height / 2 / intrinsics.fy) * 2\n",
    "tan_fovx = math.tan(fovX)\n",
    "tan_fovy = math.tan(fovY)\n",
    "\n",
    "\n",
    "def getProjectionMatrix(intrinsics):\n",
    "    top = intrinsics.near / intrinsics.fy * intrinsics.height / 2.0\n",
    "    bottom = -top\n",
    "    right = intrinsics.near / intrinsics.fy * intrinsics.height / 2.0\n",
    "    left = -right\n",
    "\n",
    "    P = torch.zeros(4, 4)\n",
    "\n",
    "    z_sign = 1.0\n",
    "\n",
    "    P[0, 0] = 2.0 * intrinsics.near / (right - left)\n",
    "    P[1, 1] = 2.0 * intrinsics.near / (top - bottom)\n",
    "    P[0, 2] = (right + left) / (right - left)\n",
    "    P[1, 2] = (top + bottom) / (top - bottom)\n",
    "    P[2, 2] = z_sign * (intrinsics.far + intrinsics.near) / (intrinsics.far - intrinsics.near)\n",
    "    P[2, 3] = -2.0 * (intrinsics.far * intrinsics.near) / (intrinsics.far - intrinsics.near)\n",
    "    P[3, 2] = z_sign\n",
    "    return torch.transpose(P, 0, 1)\n",
    "\n",
    "proj_matrix = torch.tensor(getProjectionMatrix(intrinsics), device=device)\n",
    "\n",
    "def posevec_to_matrix(position, quat):\n",
    "    return torch.cat(\n",
    "        (\n",
    "            torch.cat((pytorch3d.transforms.quaternion_to_matrix(quat), position.unsqueeze(1)), 1),\n",
    "            torch.tensor([[0.0, 0.0, 0.0, 1.0]],device=device),\n",
    "        ),\n",
    "        0,\n",
    "    )\n",
    "def apply_transform(points, transform):\n",
    "    rels_ = torch.cat(\n",
    "        (\n",
    "            points,\n",
    "            torch.ones((points.shape[0], 1),  device=device),\n",
    "        ),\n",
    "        1,\n",
    "    )\n",
    "    return torch.einsum(\"ij, aj -> ai\", transform, rels_)[...,:3]\n",
    "position = torch.tensor([0.0, 0.1, 0.2], device=device)\n",
    "quat = torch.tensor([1.0, 0.1, 0.2, 0.3],device=device)\n",
    "points = torch.zeros((5,3), device = device)\n",
    "print(apply_transform(points, posevec_to_matrix(position, quat)))\n",
    "\n",
    "camera_pose = jnp.eye(4)\n",
    "view_matrix = torch.transpose(torch.tensor(np.array(b.inverse_pose(camera_pose))),0,1).cuda()\n",
    "raster_settings = GaussianRasterizationSettings(\n",
    "    image_height=int(intrinsics.height),\n",
    "    image_width=int(intrinsics.width),\n",
    "    tanfovx=tan_fovx,\n",
    "    tanfovy=tan_fovy,\n",
    "    bg=torch.tensor([intrinsics.far, intrinsics.far, intrinsics.far]).cuda(),\n",
    "    scale_modifier=1.0,\n",
    "    viewmatrix=view_matrix,\n",
    "    projmatrix=view_matrix @ proj_matrix,\n",
    "    sh_degree=1,\n",
    "    campos=torch.zeros(3).cuda(),\n",
    "    prefiltered=False,\n",
    "    debug=None\n",
    ")\n",
    "rasterizer = GaussianRasterizer(raster_settings=raster_settings)\n",
    "\n",
    "model_dir = os.path.join(b.utils.get_assets_dir(),\"bop/ycbv/models\")\n",
    "mesh_path = os.path.join(model_dir,\"obj_\" + \"{}\".format(14).rjust(6, '0') + \".ply\")\n",
    "mesh = b.utils.load_mesh(mesh_path)\n",
    "vertices = torch.tensor(np.array(jnp.array(mesh.vertices) / 1000.0),device=device)\n",
    "\n",
    "def render(pos,quat):\n",
    "    means3D = apply_transform(vertices, posevec_to_matrix(pos, quat))\n",
    "    N = means3D.shape[0]\n",
    "    means2D = torch.ones((N, 3),requires_grad=True, device=device)\n",
    "    opacity = torch.rand((N, 1),requires_grad=True,device=device)\n",
    "    scales = torch.tensor( 0.0025 * torch.rand((N, 3)),requires_grad=True,device=device)\n",
    "    rotations = torch.rand((N, 4),requires_grad=True,device=device)\n",
    "\n",
    "    data = rasterizer(\n",
    "        means3D = means3D,\n",
    "        means2D = means2D,\n",
    "        shs = None,\n",
    "        colors_precomp = means3D[:,2:3],\n",
    "        opacities = opacity,\n",
    "        scales = scales,\n",
    "        rotations = rotations\n",
    "    )\n",
    "    return data\n",
    "\n",
    "pos = torch.tensor([0.0, 0.0, 0.5],device=device)\n",
    "quat =  torch.tensor(torch.rand(4,device=device) - 0.5,device=device)\n",
    "\n",
    "color, radii =  render(pos, quat)\n",
    "depth_image = np.moveaxis(color.detach().cpu().numpy(),0,-1)[...,2]\n",
    "\n",
    "# out_weights = out_weights.detach().cpu().numpy()\n",
    "# tensor_ranges = tensor_ranges.detach().cpu().numpy()\n",
    "# gaussian_sorted = gaussian_sorted.detach().cpu().numpy()\n",
    "\n",
    "\n",
    "viz_gt = b.get_depth_image(depth_image)\n",
    "viz_gt"
   ]
  },
  {
   "cell_type": "code",
   "execution_count": 2,
   "metadata": {},
   "outputs": [
    {
     "data": {
      "text/plain": [
       "torch.Size([3, 100, 100])"
      ]
     },
     "execution_count": 2,
     "metadata": {},
     "output_type": "execute_result"
    }
   ],
   "source": [
    "color.shape"
   ]
  },
  {
   "cell_type": "code",
   "execution_count": 1,
   "metadata": {},
   "outputs": [
    {
     "ename": "NameError",
     "evalue": "name 'intrinsics' is not defined",
     "output_type": "error",
     "traceback": [
      "\u001b[0;31m---------------------------------------------------------------------------\u001b[0m",
      "\u001b[0;31mNameError\u001b[0m                                 Traceback (most recent call last)",
      "\u001b[1;32m/home/nishadgothoskar/bayes3d/scripts/experiments/gaussian_splatting/splatting_optim copy.ipynb Cell 3\u001b[0m line \u001b[0;36m4\n\u001b[1;32m      <a href='vscode-notebook-cell://ssh-remote%2B34.70.144.22/home/nishadgothoskar/bayes3d/scripts/experiments/gaussian_splatting/splatting_optim%20copy.ipynb#W2sdnNjb2RlLXJlbW90ZQ%3D%3D?line=1'>2</a>\u001b[0m BLOCK_Y \u001b[39m=\u001b[39m \u001b[39m16\u001b[39m\n\u001b[1;32m      <a href='vscode-notebook-cell://ssh-remote%2B34.70.144.22/home/nishadgothoskar/bayes3d/scripts/experiments/gaussian_splatting/splatting_optim%20copy.ipynb#W2sdnNjb2RlLXJlbW90ZQ%3D%3D?line=2'>3</a>\u001b[0m BLOCK_SIZE \u001b[39m=\u001b[39m BLOCK_X\u001b[39m*\u001b[39m BLOCK_Y\n\u001b[0;32m----> <a href='vscode-notebook-cell://ssh-remote%2B34.70.144.22/home/nishadgothoskar/bayes3d/scripts/experiments/gaussian_splatting/splatting_optim%20copy.ipynb#W2sdnNjb2RlLXJlbW90ZQ%3D%3D?line=3'>4</a>\u001b[0m num_tiles_x \u001b[39m=\u001b[39m \u001b[39mint\u001b[39m((intrinsics\u001b[39m.\u001b[39mwidth \u001b[39m+\u001b[39m BLOCK_X \u001b[39m-\u001b[39m \u001b[39m1\u001b[39m) \u001b[39m/\u001b[39m BLOCK_X)\n\u001b[1;32m      <a href='vscode-notebook-cell://ssh-remote%2B34.70.144.22/home/nishadgothoskar/bayes3d/scripts/experiments/gaussian_splatting/splatting_optim%20copy.ipynb#W2sdnNjb2RlLXJlbW90ZQ%3D%3D?line=4'>5</a>\u001b[0m num_tiles_y \u001b[39m=\u001b[39m \u001b[39mint\u001b[39m((intrinsics\u001b[39m.\u001b[39mheight \u001b[39m+\u001b[39m BLOCK_Y \u001b[39m-\u001b[39m \u001b[39m1\u001b[39m) \u001b[39m/\u001b[39m BLOCK_Y)\n\u001b[1;32m      <a href='vscode-notebook-cell://ssh-remote%2B34.70.144.22/home/nishadgothoskar/bayes3d/scripts/experiments/gaussian_splatting/splatting_optim%20copy.ipynb#W2sdnNjb2RlLXJlbW90ZQ%3D%3D?line=5'>6</a>\u001b[0m num_tiles \u001b[39m=\u001b[39m num_tiles_x \u001b[39m*\u001b[39m num_tiles_y\n",
      "\u001b[0;31mNameError\u001b[0m: name 'intrinsics' is not defined"
     ]
    }
   ],
   "source": [
    "BLOCK_X = 16\n",
    "BLOCK_Y = 16\n",
    "BLOCK_SIZE = BLOCK_X* BLOCK_Y\n",
    "num_tiles_x = int((intrinsics.width + BLOCK_X - 1) / BLOCK_X)\n",
    "num_tiles_y = int((intrinsics.height + BLOCK_Y - 1) / BLOCK_Y)\n",
    "num_tiles = num_tiles_x * num_tiles_y\n",
    "\n",
    "\n",
    "# Print all relevant info.\n",
    "\n",
    "assert tensor_ranges.shape[0] == num_tiles * 2\n",
    "num_gaussians = gaussian_sorted.shape[0]\n",
    "assert out_weights.shape[0] == num_gaussians * BLOCK_X* BLOCK_Y\n",
    "\n",
    "img = np.zeros((intrinsics.height, intrinsics.width))\n",
    "\n",
    "\n",
    "for tile in tqdm(range(num_tiles)):\n",
    "    print(f\"TILE {tile}\")\n",
    "    range_x, range_y = tensor_ranges[2*tile], tensor_ranges[2*tile + 1]\n",
    "    start_index = (BLOCK_SIZE * range_x)\n",
    "    print(start_index)\n",
    "    num_gaussians_in_this_block = range_y - range_x\n",
    "    print(f\"NUM GAUSSIANS IN THIS BLOCK {num_gaussians_in_this_block}\")\n",
    "    if num_gaussians_in_this_block == 0:\n",
    "        continue\n",
    "    for ii in range(BLOCK_X):\n",
    "        for jj in range(BLOCK_Y):\n",
    "            pixel_index_in_block = jj * BLOCK_X + ii\n",
    "            u,v = (start_index + pixel_index_in_block * num_gaussians_in_this_block, start_index + (pixel_index_in_block + 1) * num_gaussians_in_this_block)\n",
    "            print(u,v)\n",
    "            weights = out_weights[u:v]\n",
    "            maximum_weight = weights.max()\n",
    "            img[tile // num_tiles_y * BLOCK_Y + jj, tile % num_tiles_x * BLOCK_X + ii] = maximum_weight\n",
    "plt.matshow(img)\n",
    "plt.colorbar()"
   ]
  },
  {
   "cell_type": "code",
   "execution_count": 16,
   "metadata": {},
   "outputs": [
    {
     "data": {
      "text/plain": [
       "<matplotlib.image.AxesImage at 0x7fc9181b92e0>"
      ]
     },
     "execution_count": 16,
     "metadata": {},
     "output_type": "execute_result"
    },
    {
     "data": {
      "image/png": "[encoded data removed]",
      "text/plain": [
       "<Figure size 480x480 with 1 Axes>"
      ]
     },
     "metadata": {},
     "output_type": "display_data"
    }
   ],
   "source": [
    "plt.matshow(depth_image)"
   ]
  },
  {
   "cell_type": "code",
   "execution_count": 4,
   "metadata": {},
   "outputs": [
    {
     "data": {
      "text/plain": [
       "torch.Size([98])"
      ]
     },
     "execution_count": 4,
     "metadata": {},
     "output_type": "execute_result"
    }
   ],
   "source": [
    "tensor_ranges.shape"
   ]
  },
  {
   "cell_type": "code",
   "execution_count": 13,
   "metadata": {},
   "outputs": [
    {
     "name": "stdout",
     "output_type": "stream",
     "text": [
      "hello\n",
      "0  0\n",
      "0  0\n",
      "0  0\n",
      "0  0\n",
      "0  0\n",
      "0  0\n",
      "0  0\n",
      "0  0\n",
      "0  0\n",
      "0  0\n",
      "0  0\n",
      "0  0\n",
      "0  0\n",
      "0  0\n",
      "0  0\n",
      "0  0\n",
      "0  4849\n",
      "4849  11793\n",
      "0  0\n",
      "0  0\n",
      "0  0\n",
      "0  0\n",
      "0  0\n",
      "11793  19001\n",
      "19001  28809\n",
      "0  0\n",
      "0  0\n",
      "0  0\n",
      "0  0\n",
      "0  0\n",
      "0  0\n",
      "0  0\n",
      "0  0\n",
      "0  0\n",
      "0  0\n",
      "0  0\n",
      "0  0\n",
      "0  0\n",
      "0  0\n",
      "0  0\n",
      "0  0\n",
      "0  0\n",
      "0  0\n",
      "0  0\n",
      "0  0\n",
      "0  0\n",
      "0  0\n",
      "0  0\n",
      "0  0\n",
      "hello\n"
     ]
    },
    {
     "name": "stderr",
     "output_type": "stream",
     "text": [
      "/var/tmp/ipykernel_787001/2567456983.py:100: UserWarning: To copy construct from a tensor, it is recommended to use sourceTensor.clone().detach() or sourceTensor.clone().detach().requires_grad_(True), rather than torch.tensor(sourceTensor).\n",
      "  scales = torch.tensor( 0.0025 * torch.rand((N, 3)),requires_grad=True,device=device)\n"
     ]
    },
    {
     "data": {
      "text/plain": [
       "tensor([ 6916, 15673,  7166, 15981, 15982,  7164, 15980,  7177, 15992,  7151,\n",
       "        15960, 15961, 15962,  7492, 16404, 16405,  7160,  7167, 15983,  7129,\n",
       "         7188,  7296, 16124, 16125,  7494, 16407, 16408,  7162, 15978,  7502,\n",
       "        16412,  7155, 15968,  7183, 15998,  7508, 16414, 16415,  7154, 15967,\n",
       "         7165,  7503, 16413,  7300, 16131, 16132,  7291, 16118,  7493, 16406,\n",
       "         7479, 16394,  7441, 16349, 16350,  7153, 15965, 15966,  7452, 16361,\n",
       "         7152, 15963, 15964,  7125, 15928, 15929,  7170, 15988, 15989,  7146,\n",
       "        15954, 15955,  7128, 15934, 15935, 15936,  7120, 15924, 15925,  7450,\n",
       "        16360,  7124,  7354, 16228, 16229,  7293, 16120,  7169, 15986, 15987,\n",
       "         7837, 16744,  7100, 15894, 15895, 15896, 15897, 15898],\n",
       "       dtype=torch.int32)"
      ]
     },
     "execution_count": 13,
     "metadata": {},
     "output_type": "execute_result"
    }
   ],
   "source": [
    "\n",
    "color, radii, num_rendered, tiles_depth_sorted,gaussian_sorted,tensor_ranges,alpha_tensor=  render(pos, quat)\n",
    "depth_image = np.moveaxis(color.detach().cpu().numpy(),0,-1)[...,2]\n",
    "viz_gt = b.get_depth_image(depth_image)\n",
    "viz_gt\n"
   ]
  },
  {
   "cell_type": "code",
   "execution_count": 11,
   "metadata": {},
   "outputs": [],
   "source": [
    "def signedToUnsigned(n, byte_count): \n",
    "  return int.from_bytes(n.to_bytes(byte_count, 'little', signed=True), 'little', signed=False)"
   ]
  },
  {
   "cell_type": "code",
   "execution_count": 15,
   "metadata": {},
   "outputs": [
    {
     "data": {
      "text/plain": [
       "array([4294967289], dtype=uint32)"
      ]
     },
     "execution_count": 15,
     "metadata": {},
     "output_type": "execute_result"
    }
   ],
   "source": [
    "a = np.array([-7]).astype(np.int32)\n",
    "a.astype(np.uint32)"
   ]
  },
  {
   "cell_type": "code",
   "execution_count": 18,
   "metadata": {},
   "outputs": [
    {
     "data": {
      "text/plain": [
       "int"
      ]
     },
     "execution_count": 18,
     "metadata": {},
     "output_type": "execute_result"
    }
   ],
   "source": [
    "type(4)"
   ]
  },
  {
   "cell_type": "code",
   "execution_count": 19,
   "metadata": {},
   "outputs": [
    {
     "data": {
      "text/plain": [
       "7789"
      ]
     },
     "execution_count": 19,
     "metadata": {},
     "output_type": "execute_result"
    }
   ],
   "source": [
    "signedToUnsigned(int(t[0]),4)"
   ]
  },
  {
   "cell_type": "code",
   "execution_count": 20,
   "metadata": {},
   "outputs": [
    {
     "data": {
      "text/plain": [
       "7789"
      ]
     },
     "execution_count": 20,
     "metadata": {},
     "output_type": "execute_result"
    }
   ],
   "source": [
    "int(t[0])"
   ]
  },
  {
   "cell_type": "code",
   "execution_count": 10,
   "metadata": {},
   "outputs": [
    {
     "data": {
      "text/plain": [
       "array([ 7789, 16670, 16671,  7798, 16681, 16682,  7262, 16079,  7257,\n",
       "       16071, 16072,  7225, 16044, 16045,  7258, 16073, 16074,  7799,\n",
       "       16683,  7791, 16673,  7763, 16636, 16637,  7793, 16675,  7261,\n",
       "       16077, 16078,  7224, 16043,  7790, 16672,  7235,  7775, 16658,\n",
       "       16659,  7248, 16062, 16063,  7249, 16064, 16065,  7766, 16643,\n",
       "        7176,  7229,  7780, 16664,  7251,  7797,  7776, 16660,  7399,\n",
       "       16290,  7230,  7172,  7097, 15892, 15893,  7247,  7222, 16041,\n",
       "       16042,  7231,  7218,  7779,  7091, 15884, 15885,  7214, 16033,\n",
       "       16034,  7244,  7163,  7223,  7217, 16036,  7072, 15851, 15852,\n",
       "        7219, 16037,  7227, 16046,  7401, 16293, 16294,  7211, 16029,\n",
       "        7149, 15957, 15958,  7228, 16047, 16048,  7209,  7252],\n",
       "      dtype=uint32)"
      ]
     },
     "execution_count": 10,
     "metadata": {},
     "output_type": "execute_result"
    }
   ],
   "source": [
    ".view(np.uint32)"
   ]
  },
  {
   "cell_type": "code",
   "execution_count": 2,
   "metadata": {},
   "outputs": [
    {
     "name": "stdout",
     "output_type": "stream",
     "text": [
      "You can open the visualizer by visiting the following URL:\n",
      "http://127.0.0.1:7010/static/\n"
     ]
    }
   ],
   "source": [
    "b.setup_visualizer()"
   ]
  },
  {
   "cell_type": "code",
   "execution_count": 3,
   "metadata": {},
   "outputs": [],
   "source": []
  },
  {
   "cell_type": "code",
   "execution_count": 4,
   "metadata": {},
   "outputs": [
    {
     "name": "stderr",
     "output_type": "stream",
     "text": [
      "/var/tmp/ipykernel_779547/2926322865.py:33: UserWarning: To copy construct from a tensor, it is recommended to use sourceTensor.clone().detach() or sourceTensor.clone().detach().requires_grad_(True), rather than torch.tensor(sourceTensor).\n",
      "  proj_matrix = torch.tensor(getProjectionMatrix(intrinsics), device=device)\n"
     ]
    }
   ],
   "source": []
  },
  {
   "cell_type": "code",
   "execution_count": 5,
   "metadata": {},
   "outputs": [
    {
     "name": "stdout",
     "output_type": "stream",
     "text": [
      "tensor([[0.0000, 0.1000, 0.2000],\n",
      "        [0.0000, 0.1000, 0.2000],\n",
      "        [0.0000, 0.1000, 0.2000],\n",
      "        [0.0000, 0.1000, 0.2000],\n",
      "        [0.0000, 0.1000, 0.2000]], device='cuda:0')\n"
     ]
    }
   ],
   "source": []
  },
  {
   "cell_type": "code",
   "execution_count": 6,
   "metadata": {},
   "outputs": [],
   "source": []
  },
  {
   "cell_type": "code",
   "execution_count": 7,
   "metadata": {},
   "outputs": [
    {
     "data": {
      "text/plain": [
       "torch.Size([16763, 3])"
      ]
     },
     "execution_count": 7,
     "metadata": {},
     "output_type": "execute_result"
    }
   ],
   "source": [
    "vertices.shape"
   ]
  },
  {
   "cell_type": "code",
   "execution_count": 8,
   "metadata": {},
   "outputs": [],
   "source": []
  },
  {
   "cell_type": "code",
   "execution_count": 9,
   "metadata": {},
   "outputs": [
    {
     "ename": "",
     "evalue": "",
     "output_type": "error",
     "traceback": [
      "\u001b[1;31mThe Kernel crashed while executing code in the the current cell or a previous cell. Please review the code in the cell(s) to identify a possible cause of the failure. Click <a href='https://aka.ms/vscodeJupyterKernelCrash'>here</a> for more info. View Jupyter <a href='command:jupyter.viewOutput'>log</a> for further details."
     ]
    }
   ],
   "source": []
  },
  {
   "cell_type": "code",
   "execution_count": null,
   "metadata": {},
   "outputs": [],
   "source": [
    "tensor_ranges"
   ]
  },
  {
   "cell_type": "code",
   "execution_count": null,
   "metadata": {},
   "outputs": [],
   "source": [
    "tensor_ranges"
   ]
  },
  {
   "cell_type": "code",
   "execution_count": null,
   "metadata": {},
   "outputs": [],
   "source": [
    "print(num_rendered)\n",
    "print(tiles_depth_sorted.shape)\n",
    "print(gaussian_sorted.shape)\n",
    "print(alpha_tensor.shape)"
   ]
  },
  {
   "cell_type": "code",
   "execution_count": null,
   "metadata": {},
   "outputs": [],
   "source": [
    "fig = plt.figure()\n",
    "plt.plot(alpha_tensor.detach().cpu().numpy())"
   ]
  },
  {
   "cell_type": "code",
   "execution_count": null,
   "metadata": {},
   "outputs": [],
   "source": [
    "tiles_depth_sorted"
   ]
  },
  {
   "cell_type": "code",
   "execution_count": null,
   "metadata": {},
   "outputs": [],
   "source": [
    "gaussian_sorted"
   ]
  },
  {
   "cell_type": "code",
   "execution_count": null,
   "metadata": {},
   "outputs": [],
   "source": [
    "gaussian_sorted.max()"
   ]
  },
  {
   "cell_type": "code",
   "execution_count": null,
   "metadata": {},
   "outputs": [],
   "source": [
    "tiles_depth_sorted"
   ]
  },
  {
   "cell_type": "code",
   "execution_count": null,
   "metadata": {},
   "outputs": [],
   "source": [
    "gaussian_sorted"
   ]
  },
  {
   "cell_type": "code",
   "execution_count": null,
   "metadata": {},
   "outputs": [],
   "source": [
    "tiles_depth_sorted"
   ]
  },
  {
   "cell_type": "code",
   "execution_count": null,
   "metadata": {},
   "outputs": [],
   "source": [
    "torch.unique(tiles_depth_sorted).shape"
   ]
  },
  {
   "cell_type": "code",
   "execution_count": null,
   "metadata": {},
   "outputs": [],
   "source": [
    "16*16"
   ]
  },
  {
   "cell_type": "code",
   "execution_count": null,
   "metadata": {},
   "outputs": [],
   "source": [
    "gaussian_sorted.max()"
   ]
  },
  {
   "cell_type": "code",
   "execution_count": null,
   "metadata": {},
   "outputs": [],
   "source": [
    "tiles_depth_sorted"
   ]
  },
  {
   "cell_type": "code",
   "execution_count": null,
   "metadata": {},
   "outputs": [],
   "source": [
    "pos = torch.tensor([0.0, 0.0, 0.5],device=device)\n",
    "quat =  torch.tensor(torch.rand(4,device=device) - 0.5,device=device)\n",
    "\n",
    "data =  render(pos, quat).detach()\n",
    "depth_image = np.moveaxis(gt_rendered_image.detach().cpu().numpy(),0,-1)[...,2]\n",
    "b.show_cloud(\"1\", b.unproject_depth_jit(depth_image, intrinsics).reshape(-1,3))\n",
    "viz_gt = b.get_depth_image(depth_image)\n",
    "viz_gt\n"
   ]
  },
  {
   "cell_type": "code",
   "execution_count": null,
   "metadata": {},
   "outputs": [],
   "source": [
    "pos = torch.tensor([0.0, 0.0, 0.5],device=device, requires_grad=True)\n",
    "quat =  torch.tensor(quat + torch.rand(4,device=device)*0.1,device=device, requires_grad=True)\n",
    "rendered_image =  render(pos, quat)\n",
    "depth_image = np.moveaxis(rendered_image.detach().cpu().numpy(),0,-1)[...,2]\n",
    "b.show_cloud(\"1\", b.unproject_depth_jit(depth_image, intrinsics).reshape(-1,3))\n",
    "viz = b.get_depth_image(depth_image)\n",
    "parameters_over_time = []\n",
    "losses_over_time = []\n",
    "b.hstack_images([viz, viz_gt])\n"
   ]
  },
  {
   "cell_type": "code",
   "execution_count": null,
   "metadata": {},
   "outputs": [],
   "source": [
    "\n",
    "optimizer = torch.optim.Adam([\n",
    "    {'params': [pos], 'lr': 0.0001, \"name\": \"pos\"},\n",
    "    {'params': [quat], 'lr': 0.001, \"name\": \"quat\"},\n",
    "], lr=0.0, eps=1e-15)\n",
    "\n",
    "\n",
    "pbar = tqdm(range(25))\n",
    "for _ in pbar:\n",
    "    rendered_image =  render(pos, quat)\n",
    "    loss = torch.abs(gt_rendered_image - rendered_image).mean()\n",
    "    optimizer.zero_grad()\n",
    "    loss.backward()\n",
    "    optimizer.step()\n",
    "    parameters_over_time.append((pos.detach().clone(),quat.detach().clone()))\n",
    "    losses_over_time.append(loss.item())\n",
    "    pbar.set_description(f\"{loss.item()}\")\n",
    "\n",
    "depth_image = np.moveaxis(rendered_image.detach().cpu().numpy(),0,-1)[...,2]\n",
    "b.show_cloud(\"1\", b.unproject_depth_jit(depth_image, intrinsics).reshape(-1,3))\n",
    "viz = b.get_depth_image(depth_image)\n",
    "b.hstack_images([viz, viz_gt])\n",
    "\n"
   ]
  },
  {
   "cell_type": "code",
   "execution_count": null,
   "metadata": {},
   "outputs": [],
   "source": []
  },
  {
   "cell_type": "code",
   "execution_count": null,
   "metadata": {},
   "outputs": [],
   "source": [
    "T = 0\n",
    "fig = plt.figure(figsize=(6,6))\n",
    "ax = fig.add_subplot(2,2,1)\n",
    "ax.set_title(\"Target\")\n",
    "gt_image = np.moveaxis(gt_rendered_image.detach().cpu().numpy(),0,-1)[...,2]\n",
    "img1 = ax.imshow(b.preprocess_for_viz(gt_image),cmap=b.cmap)\n",
    "ax = fig.add_subplot(2,2,2)\n",
    "parameters = parameters_over_time[T]\n",
    "rendered_image = render(*parameters)\n",
    "rendered_image = np.moveaxis(rendered_image.detach().cpu().numpy(),0,-1)[...,2]\n",
    "img2 = ax.imshow(b.preprocess_for_viz(rendered_image),cmap=b.cmap)\n",
    "title = ax.set_title(f\"Reconstruction\")\n",
    "ax = fig.add_subplot(2,1,2)\n",
    "line = ax.plot(jnp.arange(T), losses_over_time[:T])\n",
    "# ax.set_yscale(\"log\")\n",
    "ax.set_title(\"Pixelwise MSE Loss\")\n",
    "# ax.set_ylim(0.01, 1000.0)\n",
    "ax.set_xlabel(\"Iteration\")\n",
    "ax.set_xlim(0,len(losses_over_time))\n",
    "fig.tight_layout()\n",
    "\n",
    "buffs = []\n",
    "for T in tqdm(range(0,len(losses_over_time),3)):\n",
    "    parameters = parameters_over_time[T]\n",
    "    rendered_image = render(*parameters)\n",
    "    rendered_image = np.moveaxis(rendered_image.detach().cpu().numpy(),0,-1)[...,2]\n",
    "    img2.set_array(b.preprocess_for_viz(rendered_image))\n",
    "    line[0].set_xdata(jnp.arange(T))\n",
    "    line[0].set_ydata(losses_over_time[:T])\n",
    "    fig.canvas.draw()\n",
    "    buffs.append(b.pil_image_from_matplotlib(fig))\n",
    "buffs[-1]"
   ]
  },
  {
   "cell_type": "code",
   "execution_count": null,
   "metadata": {},
   "outputs": [],
   "source": [
    "b.make_gif_from_pil_images(buffs, \"optimization.gif\")"
   ]
  },
  {
   "cell_type": "code",
   "execution_count": null,
   "metadata": {},
   "outputs": [],
   "source": []
  },
  {
   "cell_type": "code",
   "execution_count": null,
   "metadata": {},
   "outputs": [],
   "source": []
  }
 ],
 "metadata": {
  "kernelspec": {
   "display_name": "bayes3d",
   "language": "python",
   "name": "python3"
  },
  "language_info": {
   "codemirror_mode": {
    "name": "ipython",
    "version": 3
   },
   "file_extension": ".py",
   "mimetype": "text/x-python",
   "name": "python",
   "nbconvert_exporter": "python",
   "pygments_lexer": "ipython3",
   "version": "3.9.18"
  }
 },
 "nbformat": 4,
 "nbformat_minor": 2
}
