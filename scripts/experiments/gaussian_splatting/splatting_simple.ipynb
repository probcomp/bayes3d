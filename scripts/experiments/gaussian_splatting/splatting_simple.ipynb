{
 "cells": [
  {
   "cell_type": "code",
   "execution_count": 1,
   "id": "ba4394f7-cbbd-42f9-8801-dddef1de537e",
   "metadata": {},
   "outputs": [
    {
     "name": "stdout",
     "output_type": "stream",
     "text": [
      "GenJAX not installed. Importing bayes3d without genjax dependencies.\n"
     ]
    }
   ],
   "source": [
    "import jax.numpy as jnp\n",
    "import bayes3d as b\n",
    "import functools\n",
    "import jax\n",
    "import matplotlib.pyplot as plt\n",
    "from tqdm import tqdm\n",
    "import os"
   ]
  },
  {
   "cell_type": "code",
   "execution_count": 2,
   "id": "7c997084",
   "metadata": {},
   "outputs": [
    {
     "name": "stdout",
     "output_type": "stream",
     "text": [
      "You can open the visualizer by visiting the following URL:\n",
      "http://127.0.0.1:7002/static/\n"
     ]
    }
   ],
   "source": [
    "b.setup_visualizer()"
   ]
  },
  {
   "cell_type": "code",
   "execution_count": 3,
   "id": "0bf63323-e5ee-4c93-9978-00e2ad586c9a",
   "metadata": {},
   "outputs": [],
   "source": [
    "intrinsics = b.Intrinsics(\n",
    "    height=100,\n",
    "    width=100,\n",
    "    fx=500.0, fy=500.0,\n",
    "    cx=50.0, cy=50.0,\n",
    "    near=0.01, far=50.0\n",
    ")"
   ]
  },
  {
   "cell_type": "code",
   "execution_count": 4,
   "id": "0e0db3d2",
   "metadata": {},
   "outputs": [
    {
     "name": "stdout",
     "output_type": "stream",
     "text": [
      "(12, 3)\n"
     ]
    }
   ],
   "source": [
    "mesh  =b.utils.load_mesh(os.path.join(b.utils.get_assets_dir(), \"sample_objs/icosahedron.obj\"))\n",
    "print(mesh.vertices.shape)"
   ]
  },
  {
   "cell_type": "code",
   "execution_count": 5,
   "id": "660d5deb",
   "metadata": {},
   "outputs": [],
   "source": [
    "def process_ball(position, quaternion, scaling, opacity):\n",
    "    S = jnp.eye(3) * scaling\n",
    "    R = b.quaternion_to_rotation_matrix(quaternion)\n",
    "    cov3d  = R @ S @ S.transpose() @ R.transpose()\n",
    "    J = jnp.array([\n",
    "        [intrinsics.fx / position[2], 0.0, -(intrinsics.fx * position[0]) / (position[2]**2)],   \n",
    "        [0.0, intrinsics.fx / position[2], -(intrinsics.fy * position[1]) / (position[2]**2)],   \n",
    "        [0.0, 0.0, 0.0],\n",
    "    ])\n",
    "    T = J\n",
    "    cov2d = (J @ cov3d @ J.transpose())[:2,:2]\n",
    "    cov2d_inv = jnp.linalg.inv(cov2d)\n",
    "    cov2ddet = (cov2d[0,0]*cov2d[1,1] - cov2d[0,1]**2)\n",
    "    ball_xy = position[:2] / position[2] * jnp.array([intrinsics.fx, intrinsics.fy]) + jnp.array([intrinsics.cx, intrinsics.cy]) \n",
    "    return (\n",
    "        jnp.array([cov2d_inv[0,0], cov2d_inv[0,1], cov2d_inv[1,1]]),\n",
    "        cov2ddet,\n",
    "        jnp.array([ball_xy[0], ball_xy[1]]),\n",
    "        position[2],\n",
    "        opacity,\n",
    "    )\n",
    "\n",
    "@functools.partial(\n",
    "    jnp.vectorize,\n",
    "    signature='(m)->()',\n",
    "    excluded=(1,2,3,4,5,),\n",
    ")\n",
    "def get_value_at_pixel(\n",
    "    ij,\n",
    "    all_cov,\n",
    "    all_cov_det,\n",
    "    all_pixel,\n",
    "    all_z,\n",
    "    all_opacity\n",
    "):\n",
    "    T = 1.0\n",
    "    far = intrinsics.far\n",
    "    running_value = 0.0\n",
    "    for idx in jnp.arange(all_cov.shape[0]):\n",
    "        cov_x, cov_y, cov_z = all_cov[idx]\n",
    "        cov_det = all_cov_det[idx]\n",
    "        ball_x, ball_y = all_pixel[idx]\n",
    "        depth_val = all_z[idx]\n",
    "        opacity = all_opacity[idx]\n",
    "        d = jnp.array([ball_x, ball_y]) - ij\n",
    "        power = -0.5 * (cov_x * d[0]**2 + cov_z * d[1]**2 + 2 * cov_y * d[0] * d[1])\n",
    "        alpha = jnp.minimum(0.99, opacity * jnp.exp(power))\n",
    "        test_T = T * (1 - alpha)\n",
    "        alpha_threshold = 1.0/2055.0\n",
    "        running_value = jnp.where(jnp.logical_or(jnp.logical_or(power > 0.0, alpha < alpha_threshold), T < 0.0001), running_value, running_value + depth_val * alpha * T)\n",
    "        T = jnp.where(jnp.logical_or(jnp.logical_or(power > 0.0, alpha < 1.0/255.0), T < 0.0001), T, test_T)\n",
    "    running_value += T * far\n",
    "    return running_value\n",
    "\n",
    "def render(positions, quaternions, scalings, opacitys):\n",
    "    order = jnp.argsort(positions[:,2])\n",
    "    processed_ball_data = jax.vmap(process_ball)(\n",
    "        positions[order],\n",
    "        quaternions[order],\n",
    "        scalings[order],\n",
    "        opacitys[order]\n",
    "    )\n",
    "    jj, ii = jnp.meshgrid(jnp.arange(intrinsics.width), jnp.arange(intrinsics.height))\n",
    "    pixel_indices = jnp.stack([jj,ii],axis=-1)\n",
    "\n",
    "    image = get_value_at_pixel(pixel_indices, *processed_ball_data)\n",
    "    return image\n",
    "render_jit = jax.jit(render)"
   ]
  },
  {
   "cell_type": "code",
   "execution_count": 6,
   "id": "0df0d07c",
   "metadata": {},
   "outputs": [
    {
     "data": {
      "image/png": "[encoded data removed]",
      "text/plain": [
       "<PIL.Image.Image image mode=RGB size=100x100>"
      ]
     },
     "execution_count": 6,
     "metadata": {},
     "output_type": "execute_result"
    }
   ],
   "source": [
    "positions = jnp.array([\n",
    "    [0.1, -0.4, 12.5],\n",
    "    [1.1, 0.4, 14.6],\n",
    "])\n",
    "quaternions = jnp.ones((positions.shape[0], 4))\n",
    "scalings = jnp.array([\n",
    "    [1.0, 1.0, 1.0],\n",
    "    [1.0, 1.0, 1.0],\n",
    "    [1.0, 1.0, 1.0],\n",
    "]) * 0.4\n",
    "opacitys = jnp.array([1.0, 1.0, 0.5])\n",
    "image = render_jit(positions, quaternions, scalings, opacitys)\n",
    "b.get_depth_image(image).convert(\"RGB\")"
   ]
  },
  {
   "cell_type": "code",
   "execution_count": 7,
   "id": "edb8a580",
   "metadata": {},
   "outputs": [],
   "source": [
    "shape_model = jax.vmap(lambda x: jnp.array([jnp.cos(x), jnp.sin(x), 0.0]))(jnp.linspace(0.0, 2*jnp.pi, 100)) * 0.1"
   ]
  },
  {
   "cell_type": "code",
   "execution_count": 8,
   "id": "f25d116c",
   "metadata": {},
   "outputs": [],
   "source": [
    "try:\n",
    "    del render_from_pos_quat_jit\n",
    "    del value_and_grad_loss\n",
    "except Exception:\n",
    "    pass\n",
    "\n",
    "def render_from_pos_quat(pos,quat):\n",
    "    image = render(b.apply_transform_jit(shape_model, \n",
    "        b.transform_from_rot_and_pos(b.quaternion_to_rotation_matrix(quat), pos)                                         \n",
    "    ), quaternions, scalings, opacitys)\n",
    "    return image\n",
    "render_from_pos_quat_jit = jax.jit(render_from_pos_quat)\n",
    "\n",
    "def loss(pos,quat, gt_image):\n",
    "    return jnp.mean((render_from_pos_quat(pos,quat) - gt_image)**2)\n",
    "value_and_grad_loss = jax.jit(jax.value_and_grad(loss, argnums=(0,1,)))"
   ]
  },
  {
   "cell_type": "code",
   "execution_count": null,
   "id": "c9d0389a",
   "metadata": {},
   "outputs": [],
   "source": []
  },
  {
   "cell_type": "code",
   "execution_count": 9,
   "id": "94383e81",
   "metadata": {},
   "outputs": [],
   "source": [
    "# shape_model = b.utils.bounding_box_corners(jnp.array([0.05, 0.02, 0.03]))"
   ]
  },
  {
   "cell_type": "code",
   "execution_count": 11,
   "id": "d1e35dcb",
   "metadata": {},
   "outputs": [
    {
     "data": {
      "image/png": "[encoded data removed]",
      "text/plain": [
       "<PIL.Image.Image image mode=RGB size=100x100>"
      ]
     },
     "execution_count": 11,
     "metadata": {},
     "output_type": "execute_result"
    }
   ],
   "source": [
    "# random_positions = jax.random.uniform(jax.random.PRNGKey(10),(50,3), minval=-1.0, maxval=1.0) * 0.1\n",
    "N = shape_model.shape[0]\n",
    "quaternions = jnp.ones((N, 4))\n",
    "scalings = jnp.ones((N, 3))*0.01\n",
    "opacitys = jnp.ones(N)\n",
    "\n",
    "pose = b.transform_from_pos(jnp.array([0.0, 0.0, 2.0]))\n",
    "pos,quat = pose[:3,3], b.rotation_matrix_to_quaternion(pose[:3,:3])\n",
    "gt_image = render_from_pos_quat_jit(pos,quat)\n",
    "b.get_depth_image(gt_image)"
   ]
  },
  {
   "cell_type": "code",
   "execution_count": 12,
   "id": "1f4dc78b",
   "metadata": {},
   "outputs": [
    {
     "data": {
      "image/png": "[encoded data removed]",
      "text/plain": [
       "<PIL.Image.Image image mode=RGB size=100x100>"
      ]
     },
     "execution_count": 12,
     "metadata": {},
     "output_type": "execute_result"
    }
   ],
   "source": [
    "random_pose = b.distributions.gaussian_vmf_jit(\n",
    "    jax.random.PRNGKey(10),\n",
    "    pose,\n",
    "    0.04,\n",
    "    10.0\n",
    ")\n",
    "pos,quat = random_pose[:3,3], b.rotation_matrix_to_quaternion(random_pose[:3,:3])\n",
    "image = render_from_pos_quat_jit(pos,quat)\n",
    "b.get_depth_image(image)"
   ]
  },
  {
   "cell_type": "code",
   "execution_count": 13,
   "id": "c61ee362",
   "metadata": {},
   "outputs": [],
   "source": [
    "parameters_over_time = []\n",
    "losses_over_time = []"
   ]
  },
  {
   "cell_type": "code",
   "execution_count": 14,
   "id": "85e8b086",
   "metadata": {},
   "outputs": [
    {
     "name": "stderr",
     "output_type": "stream",
     "text": [
      "  0%|          | 0/10000 [00:00<?, ?it/s]"
     ]
    }
   ],
   "source": [
    "learning_rate_pos = 0.00001\n",
    "learning_rate_quat = 0.0001\n",
    "pbar = tqdm(range(10000))\n",
    "for _ in pbar:\n",
    "    value, grads = value_and_grad_loss(pos,quat,gt_image)\n",
    "    pos = pos - grads[0]*learning_rate_pos\n",
    "    quat = quat - grads[1]*learning_rate_quat\n",
    "    parameters_over_time.append((pos,quat))\n",
    "    losses_over_time.append(value)\n",
    "    pbar.set_description(\"Loss: {}\".format(value))\n",
    "print(value)\n",
    "image = render_from_pos_quat_jit(pos,quat)\n",
    "b.get_depth_image(image).convert(\"RGB\")"
   ]
  },
  {
   "cell_type": "code",
   "execution_count": 363,
   "id": "4c195a7e",
   "metadata": {},
   "outputs": [
    {
     "data": {
      "image/png": "[encoded data removed]",
      "text/plain": [
       "<Figure size 600x600 with 3 Axes>"
      ]
     },
     "metadata": {},
     "output_type": "display_data"
    }
   ],
   "source": [
    "T = 0\n",
    "fig = plt.figure(figsize=(6,6))\n",
    "ax = fig.add_subplot(2,2,1)\n",
    "ax.set_title(\"Target\")\n",
    "img1 = ax.imshow(b.preprocess_for_viz(gt_image),cmap=b.cmap)\n",
    "ax = fig.add_subplot(2,2,2)\n",
    "parameters = parameters_over_time[T]\n",
    "img2 = ax.imshow(b.preprocess_for_viz(render_from_pos_quat_jit(*parameters)),cmap=b.cmap)\n",
    "title = ax.set_title(f\"Reconstruction\")\n",
    "ax = fig.add_subplot(2,1,2)\n",
    "line = ax.plot(jnp.arange(T), losses_over_time[:T])\n",
    "ax.set_yscale(\"log\")\n",
    "ax.set_title(\"Pixelwise MSE Loss\")\n",
    "ax.set_ylim(0.01, 1000.0)\n",
    "ax.set_xlabel(\"Iteration\")\n",
    "ax.set_xlim(0,len(losses_over_time))\n",
    "fig.tight_layout()"
   ]
  },
  {
   "cell_type": "code",
   "execution_count": 364,
   "id": "80fd5c25",
   "metadata": {},
   "outputs": [
    {
     "name": "stderr",
     "output_type": "stream",
     "text": [
      "100%|██████████| 322/322 [01:41<00:00,  3.17it/s]\n"
     ]
    }
   ],
   "source": [
    "buffs = []\n",
    "for T in tqdm(range(0,len(losses_over_time),45)):\n",
    "    parameters = parameters_over_time[T]\n",
    "    img2.set_array(b.preprocess_for_viz(render_from_pos_quat_jit(*parameters)))\n",
    "    line[0].set_xdata(jnp.arange(T))\n",
    "    line[0].set_ydata(losses_over_time[:T])\n",
    "    fig.canvas.draw()\n",
    "    buffs.append(b.pil_image_from_matplotlib(fig))"
   ]
  },
  {
   "cell_type": "code",
   "execution_count": 365,
   "id": "cde524a4",
   "metadata": {},
   "outputs": [],
   "source": [
    "b.make_gif_from_pil_images(buffs, \"optimization.gif\")"
   ]
  },
  {
   "cell_type": "code",
   "execution_count": 238,
   "id": "00c0466f",
   "metadata": {},
   "outputs": [
    {
     "name": "stdout",
     "output_type": "stream",
     "text": [
      "CPU times: user 4.92 ms, sys: 49 µs, total: 4.97 ms\n",
      "Wall time: 3.43 ms\n"
     ]
    }
   ],
   "source": [
    "%%time\n",
    "images = []\n",
    "for T in range(0, 200, 2):\n",
    "    parameters = parameters_over_time[T]\n",
    "    img2.set_array(b.preprocess_for_viz(render_from_pos_quat_jit(*parameters)))\n",
    "    buff = b.pil_image_from_matplotlib(fig)"
   ]
  },
  {
   "cell_type": "code",
   "execution_count": 189,
   "id": "a4e5ee3a",
   "metadata": {},
   "outputs": [],
   "source": [
    "b.make_gif_from_pil_images([\n",
    "    b.get_depth_image(render_from_pos_quat_jit(*parameters)).convert(\"RGB\")\n",
    "    for parameters in parameters_over_time[::2]\n",
    "],\"optimization.gif\")"
   ]
  },
  {
   "cell_type": "code",
   "execution_count": 172,
   "id": "807d2400",
   "metadata": {},
   "outputs": [
    {
     "data": {
      "text/plain": [
       "(Array([  0.02702332,  -0.3105893 , -18.319511  ], dtype=float32),\n",
       " Array([-4.4667969e+00, -3.2282280e+01,  1.1577993e+01, -2.2551537e-02],      dtype=float32))"
      ]
     },
     "execution_count": 172,
     "metadata": {},
     "output_type": "execute_result"
    }
   ],
   "source": [
    "grads"
   ]
  },
  {
   "cell_type": "code",
   "execution_count": null,
   "id": "76a55724",
   "metadata": {},
   "outputs": [],
   "source": []
  },
  {
   "cell_type": "code",
   "execution_count": 70,
   "id": "c17c5754",
   "metadata": {},
   "outputs": [
    {
     "data": {
      "text/plain": [
       "Array([[ 1.0000000e+00,  0.0000000e+00,  2.0000000e+00],\n",
       "       [ 9.9798667e-01,  6.3423924e-02,  2.0000000e+00],\n",
       "       [ 9.9195480e-01,  1.2659246e-01,  2.0000000e+00],\n",
       "       [ 9.8192871e-01,  1.8925124e-01,  2.0000000e+00],\n",
       "       [ 9.6794868e-01,  2.5114799e-01,  2.0000000e+00],\n",
       "       [ 9.5007110e-01,  3.1203344e-01,  2.0000000e+00],\n",
       "       [ 9.2836791e-01,  3.7166247e-01,  2.0000000e+00],\n",
       "       [ 9.0292656e-01,  4.2979491e-01,  2.0000000e+00],\n",
       "       [ 8.7384939e-01,  4.8619676e-01,  2.0000000e+00],\n",
       "       [ 8.4125352e-01,  5.4064083e-01,  2.0000000e+00],\n",
       "       [ 8.0527025e-01,  5.9290797e-01,  2.0000000e+00],\n",
       "       [ 7.6604450e-01,  6.4278764e-01,  2.0000000e+00],\n",
       "       [ 7.2373408e-01,  6.9007903e-01,  2.0000000e+00],\n",
       "       [ 6.7850941e-01,  7.3459178e-01,  2.0000000e+00],\n",
       "       [ 6.3055265e-01,  7.7614647e-01,  2.0000000e+00],\n",
       "       [ 5.8005691e-01,  8.1457597e-01,  2.0000000e+00],\n",
       "       [ 5.2722543e-01,  8.4972548e-01,  2.0000000e+00],\n",
       "       [ 4.7227105e-01,  8.8145339e-01,  2.0000000e+00],\n",
       "       [ 4.1541496e-01,  9.0963203e-01,  2.0000000e+00],\n",
       "       [ 3.5688624e-01,  9.3414783e-01,  2.0000000e+00],\n",
       "       [ 2.9692036e-01,  9.5490223e-01,  2.0000000e+00],\n",
       "       [ 2.3575889e-01,  9.7181159e-01,  2.0000000e+00],\n",
       "       [ 1.7364822e-01,  9.8480773e-01,  2.0000000e+00],\n",
       "       [ 1.1083821e-01,  9.9383849e-01,  2.0000000e+00],\n",
       "       [ 4.7581892e-02,  9.9886733e-01,  2.0000000e+00],\n",
       "       [-1.5866015e-02,  9.9987411e-01,  2.0000000e+00],\n",
       "       [-7.9250038e-02,  9.9685478e-01,  2.0000000e+00],\n",
       "       [-1.4231484e-01,  9.8982143e-01,  2.0000000e+00],\n",
       "       [-2.0480669e-01,  9.7880244e-01,  2.0000000e+00],\n",
       "       [-2.6647386e-01,  9.6384215e-01,  2.0000000e+00],\n",
       "       [-3.2706791e-01,  9.4500083e-01,  2.0000000e+00],\n",
       "       [-3.8634512e-01,  9.2235428e-01,  2.0000000e+00],\n",
       "       [-4.4406661e-01,  8.9599377e-01,  2.0000000e+00],\n",
       "       [-5.0000006e-01,  8.6602539e-01,  2.0000000e+00],\n",
       "       [-5.5392015e-01,  8.3256984e-01,  2.0000000e+00],\n",
       "       [-6.0560983e-01,  7.9576176e-01,  2.0000000e+00],\n",
       "       [-6.5486085e-01,  7.5574946e-01,  2.0000000e+00],\n",
       "       [-7.0147485e-01,  7.1269423e-01,  2.0000000e+00],\n",
       "       [-7.4526441e-01,  6.6676909e-01,  2.0000000e+00],\n",
       "       [-7.8605312e-01,  6.1815900e-01,  2.0000000e+00],\n",
       "       [-8.2367659e-01,  5.6705987e-01,  2.0000000e+00],\n",
       "       [-8.5798341e-01,  5.1367736e-01,  2.0000000e+00],\n",
       "       [-8.8883549e-01,  4.5822644e-01,  2.0000000e+00],\n",
       "       [-9.1610849e-01,  4.0093040e-01,  2.0000000e+00],\n",
       "       [-9.3969262e-01,  3.4202021e-01,  2.0000000e+00],\n",
       "       [-9.5949298e-01,  2.8173259e-01,  2.0000000e+00],\n",
       "       [-9.7542977e-01,  2.2031055e-01,  2.0000000e+00],\n",
       "       [-9.8743892e-01,  1.5800138e-01,  2.0000000e+00],\n",
       "       [-9.9547195e-01,  9.5055997e-02,  2.0000000e+00],\n",
       "       [-9.9949652e-01,  3.1727862e-02,  2.0000000e+00],\n",
       "       [-9.9949652e-01, -3.1728033e-02,  2.0000000e+00],\n",
       "       [-9.9547189e-01, -9.5056176e-02,  2.0000000e+00],\n",
       "       [-9.8743886e-01, -1.5800156e-01,  2.0000000e+00],\n",
       "       [-9.7542977e-01, -2.2031049e-01,  2.0000000e+00],\n",
       "       [-9.5949298e-01, -2.8173256e-01,  2.0000000e+00],\n",
       "       [-9.3969262e-01, -3.4202015e-01,  2.0000000e+00],\n",
       "       [-9.1610843e-01, -4.0093058e-01,  2.0000000e+00],\n",
       "       [-8.8883543e-01, -4.5822659e-01,  2.0000000e+00],\n",
       "       [-8.5798341e-01, -5.1367748e-01,  2.0000000e+00],\n",
       "       [-8.2367653e-01, -5.6705999e-01,  2.0000000e+00],\n",
       "       [-7.8605318e-01, -6.1815894e-01,  2.0000000e+00],\n",
       "       [-7.4526453e-01, -6.6676897e-01,  2.0000000e+00],\n",
       "       [-7.0147491e-01, -7.1269417e-01,  2.0000000e+00],\n",
       "       [-6.5486073e-01, -7.5574958e-01,  2.0000000e+00],\n",
       "       [-6.0560966e-01, -7.9576188e-01,  2.0000000e+00],\n",
       "       [-5.5392003e-01, -8.3256990e-01,  2.0000000e+00],\n",
       "       [-4.9999991e-01, -8.6602545e-01,  2.0000000e+00],\n",
       "       [-4.4406649e-01, -8.9599383e-01,  2.0000000e+00],\n",
       "       [-3.8634497e-01, -9.2235434e-01,  2.0000000e+00],\n",
       "       [-3.2706776e-01, -9.4500089e-01,  2.0000000e+00],\n",
       "       [-2.6647359e-01, -9.6384221e-01,  2.0000000e+00],\n",
       "       [-2.0480640e-01, -9.7880250e-01,  2.0000000e+00],\n",
       "       [-1.4231454e-01, -9.8982149e-01,  2.0000000e+00],\n",
       "       [-7.9250097e-02, -9.9685478e-01,  2.0000000e+00],\n",
       "       [-1.5866080e-02, -9.9987411e-01,  2.0000000e+00],\n",
       "       [ 4.7581829e-02, -9.9886733e-01,  2.0000000e+00],\n",
       "       [ 1.1083815e-01, -9.9383849e-01,  2.0000000e+00],\n",
       "       [ 1.7364816e-01, -9.8480773e-01,  2.0000000e+00],\n",
       "       [ 2.3575895e-01, -9.7181159e-01,  2.0000000e+00],\n",
       "       [ 2.9692039e-01, -9.5490223e-01,  2.0000000e+00],\n",
       "       [ 3.5688627e-01, -9.3414783e-01,  2.0000000e+00],\n",
       "       [ 4.1541508e-01, -9.0963197e-01,  2.0000000e+00],\n",
       "       [ 4.7227117e-01, -8.8145334e-01,  2.0000000e+00],\n",
       "       [ 5.2722561e-01, -8.4972537e-01,  2.0000000e+00],\n",
       "       [ 5.8005708e-01, -8.1457585e-01,  2.0000000e+00],\n",
       "       [ 6.3055283e-01, -7.7614635e-01,  2.0000000e+00],\n",
       "       [ 6.7850959e-01, -7.3459154e-01,  2.0000000e+00],\n",
       "       [ 7.2373426e-01, -6.9007879e-01,  2.0000000e+00],\n",
       "       [ 7.6604438e-01, -6.4278775e-01,  2.0000000e+00],\n",
       "       [ 8.0527020e-01, -5.9290802e-01,  2.0000000e+00],\n",
       "       [ 8.4125352e-01, -5.4064089e-01,  2.0000000e+00],\n",
       "       [ 8.7384933e-01, -4.8619679e-01,  2.0000000e+00],\n",
       "       [ 9.0292650e-01, -4.2979494e-01,  2.0000000e+00],\n",
       "       [ 9.2836791e-01, -3.7166247e-01,  2.0000000e+00],\n",
       "       [ 9.5007116e-01, -3.1203341e-01,  2.0000000e+00],\n",
       "       [ 9.6794873e-01, -2.5114793e-01,  2.0000000e+00],\n",
       "       [ 9.8192871e-01, -1.8925115e-01,  2.0000000e+00],\n",
       "       [ 9.9195480e-01, -1.2659234e-01,  2.0000000e+00],\n",
       "       [ 9.9798667e-01, -6.3423783e-02,  2.0000000e+00],\n",
       "       [ 1.0000000e+00,  1.7484555e-07,  2.0000000e+00]], dtype=float32)"
      ]
     },
     "execution_count": 70,
     "metadata": {},
     "output_type": "execute_result"
    }
   ],
   "source": [
    "random_positions"
   ]
  },
  {
   "cell_type": "code",
   "execution_count": null,
   "id": "fa57f31d",
   "metadata": {},
   "outputs": [],
   "source": [
    "\n",
    "image = get_value_at_pixel(pixel_indices, *processed_ball_data)\n",
    "b.get_depth_image(image)"
   ]
  },
  {
   "cell_type": "code",
   "execution_count": null,
   "id": "1a6b9298",
   "metadata": {},
   "outputs": [],
   "source": []
  },
  {
   "cell_type": "code",
   "execution_count": null,
   "id": "db09f1cc",
   "metadata": {},
   "outputs": [],
   "source": [
    "jj, ii = jnp.meshgrid(jnp.arange(intrinsics.width), jnp.arange(intrinsics.height))\n",
    "ii.shape"
   ]
  },
  {
   "cell_type": "code",
   "execution_count": null,
   "id": "7d52dc98",
   "metadata": {},
   "outputs": [],
   "source": [
    "def render_ball(ball_parameters):\n",
    "    processed_ball_data = jax.vmap(process_ball)(ball_parameters[:3])\n",
    "\n",
    "    # sorted_processed_ball_data = jax.lax.sort_key_val(processed_ball_data[:,6], processed_ball_data)\n",
    "    return get_value_at_pixel(pixel_indices, processed_ball_data)"
   ]
  },
  {
   "cell_type": "code",
   "execution_count": null,
   "id": "0d0cbfb9-2c55-441d-b05d-59333bd79334",
   "metadata": {},
   "outputs": [],
   "source": [
    "\n",
    "@functools.partial(\n",
    "    jnp.vectorize,\n",
    "    signature='(m)->()',\n",
    "    excluded=(1,),\n",
    ")\n",
    "def get_value_at_pixel(\n",
    "    ij,\n",
    "    sorted_processed_ball_data\n",
    "):\n",
    "    T = 1.0\n",
    "    far = intrinsics.far\n",
    "    running_value = 0.0\n",
    "    for ball_data in sorted_processed_ball_data:\n",
    "        cov_x, cov_y, cov_z, cov_det, ball_x, ball_y, depth_val, opacity = ball_data\n",
    "        d = jnp.array([ball_x, ball_y]) - ij\n",
    "        \n",
    "        power = -0.5 * (cov_x * d[0]**2 + cov_z * d[1]**2 + 2 * cov_y * d[0] * d[1])\n",
    "        alpha = jnp.minimum(0.99, opacity * jnp.exp(power))\n",
    "        test_T = T * (1 - alpha)\n",
    "\n",
    "        running_value = jnp.where(jnp.logical_or(jnp.logical_or(power > 0.0, alpha < 1.0/255.0), T < 0.0001), running_value, running_value + depth_val * alpha * T)\n",
    "        T = jnp.where(jnp.logical_or(jnp.logical_or(power > 0.0, alpha < 1.0/255.0), T < 0.0001), T, test_T)\n",
    "    running_value += T * far\n",
    "    return running_value\n",
    "\n",
    "def process_ball(ball_parameters):\n",
    "    position = ball_parameters[:3]\n",
    "    quat = ball_parameters[3:7]\n",
    "    scaling = ball_parameters[7:10]\n",
    "    opacity = ball_parameters[10]\n",
    "    S = jnp.eye(3) * scaling\n",
    "    R = b.quaternion_to_rotation_matrix(quat)\n",
    "    cov3d  = R @ S @ S.transpose() @ R.transpose()\n",
    "    \n",
    "    J = jnp.array([\n",
    "        [intrinsics.fx / position[2], 0.0, -(intrinsics.fx * position[0]) / (position[2]**2)],   \n",
    "        [0.0, intrinsics.fx / position[2], -(intrinsics.fy * position[1]) / (position[2]**2)],   \n",
    "        [0.0, 0.0, 0.0],\n",
    "    ])\n",
    "    T = J\n",
    "    cov2d = (J @ cov3d @ J.transpose())[:2,:2]\n",
    "    cov2d_inv = jnp.linalg.inv(cov2d)\n",
    "    cov2ddet = (cov2d[0,0]*cov2d[1,1] - cov2d[0,1]**2)\n",
    "    ball_xy = ball_parameters[:2] / ball_parameters[2] * jnp.array([intrinsics.fx, intrinsics.fy]) + jnp.array([intrinsics.cx, intrinsics.cy]) \n",
    "    return jnp.array([\n",
    "        cov2d_inv[0,0], cov2d_inv[0,1], cov2d_inv[1,1],\n",
    "        cov2ddet,\n",
    "        ball_xy[0], ball_xy[1],\n",
    "        position[2],\n",
    "        opacity,\n",
    "    ])\n",
    "\n",
    "\n",
    "def render_ball(ball_parameters):\n",
    "    processed_ball_data = jax.vmap(process_ball)(ball_parameters)\n",
    "    jj, ii = jnp.meshgrid(jnp.arange(intrinsics.width), jnp.arange(intrinsics.height))\n",
    "    pixel_indices = jnp.stack([jj,ii],axis=-1)\n",
    "    # sorted_processed_ball_data = jax.lax.sort_key_val(processed_ball_data[:,6], processed_ball_data)\n",
    "    return get_value_at_pixel(pixel_indices, processed_ball_data)\n",
    "\n",
    "def loss(ball_parameters, gt_depth):\n",
    "    alphas = render_ball(ball_parameters)\n",
    "    return ((alphas - gt_depth)**2).mean()\n",
    "value_and_grad_loss = jax.jit(jax.value_and_grad(loss))\n",
    "\n",
    "\n",
    "def unproject_depth(depth, intrinsics):\n",
    "    y, x = jnp.mgrid[: depth.shape[0], : depth.shape[1]]\n",
    "    x = (x - intrinsics.cx) / intrinsics.fx\n",
    "    y = (y - intrinsics.cy) / intrinsics.fy\n",
    "    point_cloud_image = jnp.stack([x, y, jnp.ones_like(x)], axis=-1) * depth[:, :, None]\n",
    "    return point_cloud_image"
   ]
  },
  {
   "cell_type": "code",
   "execution_count": null,
   "id": "40f313e4-6c5e-4101-bfa3-9c30041fc324",
   "metadata": {},
   "outputs": [],
   "source": [
    "# gt_ball_parameters = jnp.array([\n",
    "#     [0.1, 0.1, 0.5, 1.0, 1.0, 1.0, 0.0, 0.1, 0.3, 0.2, 1.0],\n",
    "#     [0.0, 0.0, 0.6, 1.0, 0.0, 0.0, 0.0, 0.1, 0.1, 0.1, 1.0],\n",
    "#     [-1.0, 1.0, 2.5, 1.0, 0.0, 0.0, 0.0, 0.1, 0.2, 0.4, 1.0],\n",
    "#     [-1.0, 1.0, 2.5, 1.0, 0.0, 0.0, 0.0, 0.1, 0.2, 0.4, 1.0],\n",
    "#     [-1.0, 4.0, 5.5, 1.0, 0.0, 0.0, 0.0, 0.3, 0.2, 0.4, 1.0],\n",
    "# ])\n",
    "# gt_alphas = render_ball(gt_ball_parameters)\n",
    "# b.get_depth_image(gt_alphas)"
   ]
  },
  {
   "cell_type": "code",
   "execution_count": null,
   "id": "122cc9fe",
   "metadata": {},
   "outputs": [],
   "source": []
  },
  {
   "cell_type": "code",
   "execution_count": null,
   "id": "6cb961a2",
   "metadata": {},
   "outputs": [],
   "source": [
    "b.get_depth_image(gt_depth,min=0.0,max=intrinsics.far)"
   ]
  },
  {
   "cell_type": "code",
   "execution_count": null,
   "id": "bb263636-0aa8-4312-9ac8-fea516458ce8",
   "metadata": {},
   "outputs": [],
   "source": [
    "ball_parameters = jnp.array([\n",
    "    [0.0, 0.0, 0.2, 1.0, 0.0, 0.0, 0.0, 0.012, 0.002, 0.002, 0.2],\n",
    "    [0.0, 0.1, 0.4, 1.0, 0.0, 0.0, 0.0, 0.002, 0.002, 0.002, 0.3],\n",
    "    [0.1, 0.1, 0.5, 1.0, 0.0, 0.0, 0.0, 0.002, 0.002, 0.002, 1.0],\n",
    "    [0.0, 0.1, 0.6, 1.0, 0.0, 0.0, 0.0, 0.002, 0.002, 0.002, 1.0],\n",
    "    [0.1, 0.1, 0.7, 1.0, 0.0, 0.0, 0.0, 0.002, 0.002, 0.002, 1.0],\n",
    "    [0.1, 0.1, 0.8, 1.0, 0.0, 0.0, 0.0, 0.002, 0.002, 0.002, 1.0],\n",
    "])\n",
    "alphas = render_ball(ball_parameters)\n",
    "b.get_depth_image(alphas)"
   ]
  },
  {
   "cell_type": "code",
   "execution_count": null,
   "id": "a07038c7-030e-4312-8579-2d09f94806a2",
   "metadata": {},
   "outputs": [],
   "source": [
    "pbar = tqdm(range(2000))\n",
    "for _ in pbar:\n",
    "    loss_val, gradient_quat = value_and_grad_loss(ball_parameters, gt_depth)\n",
    "    pbar.set_description(\"Processing %f\" % loss_val.item())\n",
    "    ball_parameters -= gradient_quat * 0.005\n",
    "alphas = render_ball(ball_parameters)\n",
    "b.get_depth_image(alphas,min=0.0,max=intrinsics.far)"
   ]
  },
  {
   "cell_type": "code",
   "execution_count": null,
   "id": "0c685d3c",
   "metadata": {},
   "outputs": [],
   "source": [
    "alphas = render_ball(ball_parameters)\n",
    "b.clear()\n",
    "b.show_cloud(\"1\", unproject_depth(alphas, intrinsics).reshape(-1,3))\n",
    "b.show_cloud(\"gt\", unproject_depth(gt_depth, intrinsics).reshape(-1,3), color=b.RED)\n",
    "b.get_depth_image(alphas,min=0.0,max=intrinsics.far)"
   ]
  },
  {
   "cell_type": "code",
   "execution_count": null,
   "id": "c5737d03",
   "metadata": {},
   "outputs": [],
   "source": [
    "plt.plot(ball_parameters[:,-1])"
   ]
  },
  {
   "cell_type": "code",
   "execution_count": null,
   "id": "1c457bca",
   "metadata": {},
   "outputs": [],
   "source": [
    "b.get_depth_image(render_ball(ball_parameters[2:]),min=0.0,max=intrinsics.far)"
   ]
  },
  {
   "cell_type": "code",
   "execution_count": null,
   "id": "b9be289a",
   "metadata": {},
   "outputs": [],
   "source": [
    "plt.matshow(alphas)\n",
    "plt.colorbar()"
   ]
  },
  {
   "cell_type": "code",
   "execution_count": null,
   "id": "1e94377e-de37-4af6-980d-448911d55a86",
   "metadata": {},
   "outputs": [],
   "source": [
    "plt.matshow(gt_depth)\n",
    "plt.colorbar()"
   ]
  },
  {
   "cell_type": "code",
   "execution_count": null,
   "id": "482bcb2c-06a4-4955-8a21-5680fe1c6d2f",
   "metadata": {},
   "outputs": [],
   "source": []
  },
  {
   "cell_type": "code",
   "execution_count": null,
   "id": "ee3e4ab4",
   "metadata": {},
   "outputs": [],
   "source": []
  }
 ],
 "metadata": {
  "kernelspec": {
   "display_name": "Python 3 (ipykernel)",
   "language": "python",
   "name": "python3"
  },
  "language_info": {
   "codemirror_mode": {
    "name": "ipython",
    "version": 3
   },
   "file_extension": ".py",
   "mimetype": "text/x-python",
   "name": "python",
   "nbconvert_exporter": "python",
   "pygments_lexer": "ipython3",
   "version": "3.9.18"
  }
 },
 "nbformat": 4,
 "nbformat_minor": 5
}
