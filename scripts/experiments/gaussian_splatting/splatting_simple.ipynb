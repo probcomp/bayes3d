{
 "cells": [
  {
   "cell_type": "code",
   "execution_count": 1,
   "id": "ba4394f7-cbbd-42f9-8801-dddef1de537e",
   "metadata": {},
   "outputs": [
    {
     "name": "stderr",
     "output_type": "stream",
     "text": [
      "WARNING: All log messages before absl::InitializeLog() is called are written to STDERR\n",
      "I0000 00:00:1695245514.405748  301812 tfrt_cpu_pjrt_client.cc:349] TfrtCpuClient created.\n"
     ]
    }
   ],
   "source": [
    "import jax.numpy as jnp\n",
    "import bayes3d as b\n",
    "import functools\n",
    "import jax\n",
    "import matplotlib.pyplot as plt\n",
    "from tqdm import tqdm\n",
    "import os"
   ]
  },
  {
   "cell_type": "code",
   "execution_count": 2,
   "id": "7c997084",
   "metadata": {},
   "outputs": [
    {
     "name": "stdout",
     "output_type": "stream",
     "text": [
      "You can open the visualizer by visiting the following URL:\n",
      "http://127.0.0.1:7007/static/\n"
     ]
    }
   ],
   "source": [
    "b.setup_visualizer()"
   ]
  },
  {
   "cell_type": "code",
   "execution_count": 26,
   "id": "0bf63323-e5ee-4c93-9978-00e2ad586c9a",
   "metadata": {},
   "outputs": [],
   "source": [
    "intrinsics = b.Intrinsics(\n",
    "    height=100,\n",
    "    width=100,\n",
    "    fx=500.0, fy=500.0,\n",
    "    cx=50.0, cy=50.0,\n",
    "    near=0.001, far=1.0\n",
    ")"
   ]
  },
  {
   "cell_type": "code",
   "execution_count": 27,
   "id": "8722817c",
   "metadata": {},
   "outputs": [
    {
     "name": "stdout",
     "output_type": "stream",
     "text": [
      "Increasing frame buffer size to (width, height, depth) = (128, 128, 1024)\n"
     ]
    },
    {
     "name": "stderr",
     "output_type": "stream",
     "text": [
      "[E rasterize_gl.cpp:121] OpenGL version reported as 4.6\n"
     ]
    }
   ],
   "source": [
    "b.setup_renderer(intrinsics)\n",
    "model_dir = os.path.join(b.utils.get_assets_dir(),\"bop/ycbv/models\")\n",
    "mesh_path = os.path.join(model_dir,\"obj_\" + \"{}\".format(17).rjust(6, '0') + \".ply\")\n",
    "b.RENDERER.add_mesh_from_file(mesh_path, scaling_factor=1.0/1000.0)"
   ]
  },
  {
   "cell_type": "code",
   "execution_count": 28,
   "id": "48c11c8c-287d-4731-8cfb-167e2d9f8aba",
   "metadata": {},
   "outputs": [
    {
     "data": {
      "image/png": "[encoded data removed]",
      "text/plain": [
       "<PIL.Image.Image image mode=RGB size=100x100 at 0x7FDFB9BA0520>"
      ]
     },
     "execution_count": 28,
     "metadata": {},
     "output_type": "execute_result"
    }
   ],
   "source": [
    "gt_depth = b.RENDERER.render(b.transform_from_pos(jnp.array([0.0, 0.0, 0.5]))[None,...],jnp.array([0]) )[...,2]\n",
    "b.get_depth_image(gt_depth)"
   ]
  },
  {
   "cell_type": "code",
   "execution_count": 29,
   "id": "0d0cbfb9-2c55-441d-b05d-59333bd79334",
   "metadata": {},
   "outputs": [],
   "source": [
    "\n",
    "@functools.partial(\n",
    "    jnp.vectorize,\n",
    "    signature='(m)->()',\n",
    "    excluded=(1,),\n",
    ")\n",
    "def get_value_at_pixel(\n",
    "    ij,\n",
    "    sorted_processed_ball_data\n",
    "):\n",
    "    T = 1.0\n",
    "    far = intrinsics.far\n",
    "    running_value = 0.0\n",
    "    for ball_data in sorted_processed_ball_data:\n",
    "        cov_x, cov_y, cov_z, cov_det, ball_x, ball_y, depth_val, opacity = ball_data\n",
    "        d = jnp.array([ball_x, ball_y]) - ij\n",
    "        \n",
    "        power = -0.5 * (cov_x * d[0]**2 + cov_z * d[1]**2 + 2 * cov_y * d[0] * d[1])\n",
    "        alpha = jnp.minimum(0.99, opacity * jnp.exp(power))\n",
    "        test_T = T * (1 - alpha)\n",
    "\n",
    "        running_value = jnp.where(jnp.logical_or(jnp.logical_or(power > 0.0, alpha < 1.0/255.0), T < 0.0001), running_value, running_value + depth_val * alpha * T)\n",
    "        T = jnp.where(jnp.logical_or(jnp.logical_or(power > 0.0, alpha < 1.0/255.0), T < 0.0001), T, test_T)\n",
    "    running_value += T * far\n",
    "    return running_value\n",
    "\n",
    "def process_ball(ball_parameters):\n",
    "    position = ball_parameters[:3]\n",
    "    quat = ball_parameters[3:7]\n",
    "    scaling = ball_parameters[7:10]\n",
    "    opacity = ball_parameters[10]\n",
    "    S = jnp.eye(3) * scaling\n",
    "    R = b.quaternion_to_rotation_matrix(quat)\n",
    "    cov3d  = R @ S @ S.transpose() @ R.transpose()\n",
    "    \n",
    "    J = jnp.array([\n",
    "        [intrinsics.fx / position[2], 0.0, -(intrinsics.fx * position[0]) / (position[2]**2)],   \n",
    "        [0.0, intrinsics.fx / position[2], -(intrinsics.fy * position[1]) / (position[2]**2)],   \n",
    "        [0.0, 0.0, 0.0],\n",
    "    ])\n",
    "    T = J\n",
    "    cov2d = (J @ cov3d @ J.transpose())[:2,:2]\n",
    "    cov2d_inv = jnp.linalg.inv(cov2d)\n",
    "    cov2ddet = (cov2d[0,0]*cov2d[1,1] - cov2d[0,1]**2)\n",
    "    ball_xy = ball_parameters[:2] / ball_parameters[2] * jnp.array([intrinsics.fx, intrinsics.fy]) + jnp.array([intrinsics.cx, intrinsics.cy]) \n",
    "    return jnp.array([\n",
    "        cov2d_inv[0,0], cov2d_inv[0,1], cov2d_inv[1,1],\n",
    "        cov2ddet,\n",
    "        ball_xy[0], ball_xy[1],\n",
    "        position[2],\n",
    "        opacity,\n",
    "    ])\n",
    "\n",
    "\n",
    "def render_ball(ball_parameters):\n",
    "    processed_ball_data = jax.vmap(process_ball)(ball_parameters)\n",
    "    jj, ii = jnp.meshgrid(jnp.arange(intrinsics.width), jnp.arange(intrinsics.height))\n",
    "    pixel_indices = jnp.stack([jj,ii],axis=-1)\n",
    "    # sorted_processed_ball_data = jax.lax.sort_key_val(processed_ball_data[:,6], processed_ball_data)\n",
    "    return get_value_at_pixel(pixel_indices, processed_ball_data)\n",
    "\n",
    "def loss(ball_parameters, gt_depth):\n",
    "    alphas = render_ball(ball_parameters)\n",
    "    return ((alphas - gt_depth)**2).mean()\n",
    "value_and_grad_loss = jax.jit(jax.value_and_grad(loss))\n",
    "\n",
    "\n",
    "def unproject_depth(depth, intrinsics):\n",
    "    y, x = jnp.mgrid[: depth.shape[0], : depth.shape[1]]\n",
    "    x = (x - intrinsics.cx) / intrinsics.fx\n",
    "    y = (y - intrinsics.cy) / intrinsics.fy\n",
    "    point_cloud_image = jnp.stack([x, y, jnp.ones_like(x)], axis=-1) * depth[:, :, None]\n",
    "    return point_cloud_image"
   ]
  },
  {
   "cell_type": "code",
   "execution_count": 30,
   "id": "40f313e4-6c5e-4101-bfa3-9c30041fc324",
   "metadata": {},
   "outputs": [],
   "source": [
    "# gt_ball_parameters = jnp.array([\n",
    "#     [0.1, 0.1, 0.5, 1.0, 1.0, 1.0, 0.0, 0.1, 0.3, 0.2, 1.0],\n",
    "#     [0.0, 0.0, 0.6, 1.0, 0.0, 0.0, 0.0, 0.1, 0.1, 0.1, 1.0],\n",
    "#     [-1.0, 1.0, 2.5, 1.0, 0.0, 0.0, 0.0, 0.1, 0.2, 0.4, 1.0],\n",
    "#     [-1.0, 1.0, 2.5, 1.0, 0.0, 0.0, 0.0, 0.1, 0.2, 0.4, 1.0],\n",
    "#     [-1.0, 4.0, 5.5, 1.0, 0.0, 0.0, 0.0, 0.3, 0.2, 0.4, 1.0],\n",
    "# ])\n",
    "# gt_alphas = render_ball(gt_ball_parameters)\n",
    "# b.get_depth_image(gt_alphas)"
   ]
  },
  {
   "cell_type": "code",
   "execution_count": null,
   "id": "122cc9fe",
   "metadata": {},
   "outputs": [],
   "source": []
  },
  {
   "cell_type": "code",
   "execution_count": 31,
   "id": "6cb961a2",
   "metadata": {},
   "outputs": [
    {
     "data": {
      "image/png": "[encoded data removed]",
      "text/plain": [
       "<PIL.Image.Image image mode=RGB size=100x100 at 0x7FDFB9FC5FA0>"
      ]
     },
     "execution_count": 31,
     "metadata": {},
     "output_type": "execute_result"
    }
   ],
   "source": [
    "b.get_depth_image(gt_depth,min=0.0,max=intrinsics.far)"
   ]
  },
  {
   "cell_type": "code",
   "execution_count": 41,
   "id": "bb263636-0aa8-4312-9ac8-fea516458ce8",
   "metadata": {},
   "outputs": [
    {
     "data": {
      "image/png": "[encoded data removed]",
      "text/plain": [
       "<PIL.Image.Image image mode=RGB size=100x100 at 0x7FDFB9B1EFD0>"
      ]
     },
     "execution_count": 41,
     "metadata": {},
     "output_type": "execute_result"
    }
   ],
   "source": [
    "ball_parameters = jnp.array([\n",
    "    [0.0, 0.0, 0.2, 1.0, 0.0, 0.0, 0.0, 0.012, 0.002, 0.002, 0.2],\n",
    "    [0.0, 0.1, 0.4, 1.0, 0.0, 0.0, 0.0, 0.002, 0.002, 0.002, 0.3],\n",
    "    [0.1, 0.1, 0.5, 1.0, 0.0, 0.0, 0.0, 0.002, 0.002, 0.002, 1.0],\n",
    "    [0.0, 0.1, 0.6, 1.0, 0.0, 0.0, 0.0, 0.002, 0.002, 0.002, 1.0],\n",
    "    [0.1, 0.1, 0.7, 1.0, 0.0, 0.0, 0.0, 0.002, 0.002, 0.002, 1.0],\n",
    "    [0.1, 0.1, 0.8, 1.0, 0.0, 0.0, 0.0, 0.002, 0.002, 0.002, 1.0],\n",
    "])\n",
    "alphas = render_ball(ball_parameters)\n",
    "b.get_depth_image(alphas)"
   ]
  },
  {
   "cell_type": "code",
   "execution_count": 44,
   "id": "a07038c7-030e-4312-8579-2d09f94806a2",
   "metadata": {},
   "outputs": [
    {
     "name": "stderr",
     "output_type": "stream",
     "text": [
      "Processing 0.029944: 100%|██████████| 2000/2000 [00:03<00:00, 511.73it/s]\n"
     ]
    },
    {
     "data": {
      "image/png": "[encoded data removed]",
      "text/plain": [
       "<PIL.Image.Image image mode=RGB size=100x100 at 0x7FDFB9C22160>"
      ]
     },
     "execution_count": 44,
     "metadata": {},
     "output_type": "execute_result"
    }
   ],
   "source": [
    "pbar = tqdm(range(2000))\n",
    "for _ in pbar:\n",
    "    loss_val, gradient_quat = value_and_grad_loss(ball_parameters, gt_depth)\n",
    "    pbar.set_description(\"Processing %f\" % loss_val.item())\n",
    "    ball_parameters -= gradient_quat * 0.005\n",
    "alphas = render_ball(ball_parameters)\n",
    "b.get_depth_image(alphas,min=0.0,max=intrinsics.far)"
   ]
  },
  {
   "cell_type": "code",
   "execution_count": 45,
   "id": "0c685d3c",
   "metadata": {},
   "outputs": [
    {
     "data": {
      "image/png": "[encoded data removed]",
      "text/plain": [
       "<PIL.Image.Image image mode=RGB size=100x100 at 0x7FDFB9E11CA0>"
      ]
     },
     "execution_count": 45,
     "metadata": {},
     "output_type": "execute_result"
    }
   ],
   "source": [
    "alphas = render_ball(ball_parameters)\n",
    "b.clear()\n",
    "b.show_cloud(\"1\", unproject_depth(alphas, intrinsics).reshape(-1,3))\n",
    "b.show_cloud(\"gt\", unproject_depth(gt_depth, intrinsics).reshape(-1,3), color=b.RED)\n",
    "b.get_depth_image(alphas,min=0.0,max=intrinsics.far)"
   ]
  },
  {
   "cell_type": "code",
   "execution_count": 46,
   "id": "c5737d03",
   "metadata": {},
   "outputs": [
    {
     "data": {
      "text/plain": [
       "[<matplotlib.lines.Line2D at 0x7fdfb0f70880>]"
      ]
     },
     "execution_count": 46,
     "metadata": {},
     "output_type": "execute_result"
    },
    {
     "data": {
      "image/png": "[encoded data removed]",
      "text/plain": [
       "<Figure size 640x480 with 1 Axes>"
      ]
     },
     "metadata": {},
     "output_type": "display_data"
    }
   ],
   "source": [
    "plt.plot(ball_parameters[:,-1])"
   ]
  },
  {
   "cell_type": "code",
   "execution_count": 48,
   "id": "1c457bca",
   "metadata": {},
   "outputs": [
    {
     "data": {
      "image/png": "[encoded data removed]",
      "text/plain": [
       "<PIL.Image.Image image mode=RGB size=100x100 at 0x7FE01C0BCA60>"
      ]
     },
     "execution_count": 48,
     "metadata": {},
     "output_type": "execute_result"
    }
   ],
   "source": [
    "b.get_depth_image(render_ball(ball_parameters[2:]),min=0.0,max=intrinsics.far)"
   ]
  },
  {
   "cell_type": "code",
   "execution_count": null,
   "id": "b9be289a",
   "metadata": {},
   "outputs": [],
   "source": [
    "plt.matshow(alphas)\n",
    "plt.colorbar()"
   ]
  },
  {
   "cell_type": "code",
   "execution_count": 147,
   "id": "1e94377e-de37-4af6-980d-448911d55a86",
   "metadata": {},
   "outputs": [
    {
     "data": {
      "text/plain": [
       "<matplotlib.colorbar.Colorbar at 0x7f43d01331c0>"
      ]
     },
     "execution_count": 147,
     "metadata": {},
     "output_type": "execute_result"
    },
    {
     "data": {
      "image/png": "[encoded data removed]",
      "text/plain": [
       "<Figure size 480x480 with 2 Axes>"
      ]
     },
     "metadata": {},
     "output_type": "display_data"
    }
   ],
   "source": [
    "plt.matshow(gt_depth)\n",
    "plt.colorbar()"
   ]
  },
  {
   "cell_type": "code",
   "execution_count": null,
   "id": "482bcb2c-06a4-4955-8a21-5680fe1c6d2f",
   "metadata": {},
   "outputs": [],
   "source": []
  },
  {
   "cell_type": "code",
   "execution_count": null,
   "id": "ee3e4ab4",
   "metadata": {},
   "outputs": [],
   "source": []
  }
 ],
 "metadata": {
  "kernelspec": {
   "display_name": "Python 3 (ipykernel)",
   "language": "python",
   "name": "python3"
  },
  "language_info": {
   "codemirror_mode": {
    "name": "ipython",
    "version": 3
   },
   "file_extension": ".py",
   "mimetype": "text/x-python",
   "name": "python",
   "nbconvert_exporter": "python",
   "pygments_lexer": "ipython3",
   "version": "3.9.16"
  }
 },
 "nbformat": 4,
 "nbformat_minor": 5
}
