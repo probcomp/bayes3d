{
 "cells": [
  {
   "cell_type": "code",
   "execution_count": 116,
   "id": "21c391b5-2db3-45c7-834a-5c849b11ec72",
   "metadata": {},
   "outputs": [],
   "source": [
    "import bayes3d as b\n",
    "import trimesh\n",
    "import numpy as np\n",
    "import jax.numpy as jnp\n",
    "import jax\n",
    "import matplotlib.pyplot as plt\n",
    "import diff_gaussian_rasterization as dgr\n",
    "import torch\n",
    "import os\n",
    "import numpy as np\n",
    "import matplotlib.pyplot as plt\n",
    "import math\n",
    "from tqdm import tqdm\n",
    "import bayes3d as b\n",
    "import jax.numpy as jnp\n",
    "from random import randint\n",
    "import jax\n",
    "from jax.scipy.spatial.transform import Rotation as R\n",
    "\n",
    "\n",
    "def open3d_mesh_to_trimesh(mesh):\n",
    "    return trimesh.Trimesh(\n",
    "        vertices=np.asarray(mesh.vertices),\n",
    "        faces=np.asarray(mesh.triangles)\n",
    "    )"
   ]
  },
  {
   "cell_type": "code",
   "execution_count": 4,
   "id": "016df717-01f7-409d-89fa-b2bc2ebaaafe",
   "metadata": {},
   "outputs": [],
   "source": [
    "from bayes3d.rendering.nvdiffrast_jax.jax_renderer import Renderer as JaxRenderer\n",
    "intrinsics = b.Intrinsics(\n",
    "    height=200,\n",
    "    width=200,\n",
    "    fx=200.0, fy=200.0,\n",
    "    cx=100.0, cy=100.0,\n",
    "    near=0.1, far=3.5\n",
    ")\n",
    "jax_renderer = JaxRenderer(intrinsics)"
   ]
  },
  {
   "cell_type": "code",
   "execution_count": 5,
   "id": "ab1a1c86-bcce-416d-8c00-7412bf99e7f6",
   "metadata": {},
   "outputs": [],
   "source": [
    "import os\n",
    "model_dir = os.path.join(b.utils.get_assets_dir(),\"bop/ycbv/models\")\n",
    "idx = 10\n",
    "mesh_path = os.path.join(model_dir,\"obj_\" + \"{}\".format(idx).rjust(6, '0') + \".ply\")\n",
    "m = b.utils.load_mesh(mesh_path)\n",
    "mesh = b.utils.scale_mesh(m, 1.0/100.0)"
   ]
  },
  {
   "cell_type": "code",
   "execution_count": 31,
   "id": "0171d7f4-1dc9-47ce-be98-170bf72f2f56",
   "metadata": {},
   "outputs": [],
   "source": [
    "def xfm_points(points, matrix):\n",
    "    points2 = jnp.concatenate([points, jnp.ones((*points.shape[:-1],1))], axis=-1)\n",
    "    return jnp.matmul(points2, matrix.T)\n",
    "\n",
    "# projection_matrix = b.camera._open_gl_projection_matrix(\n",
    "#     intrinsics.height, intrinsics.width, \n",
    "#     intrinsics.fx, intrinsics.fy, \n",
    "#     intrinsics.cx, intrinsics.cy, \n",
    "#     intrinsics.near, intrinsics.far\n",
    "# )\n",
    "# self = jax_renderer\n",
    "\n",
    "# pose = b.transform_from_pos(jnp.array([0.0, 0.0, gt_z]))\n",
    "# object_pose = pose\n",
    "# vertices = mesh.vertices\n",
    "# faces = mesh.faces\n",
    "# final_mtx_proj = projection_matrix @ object_pose\n",
    "# posw = jnp.concatenate([vertices, jnp.ones((*vertices.shape[:-1],1))], axis=-1)\n",
    "# pos_clip_ja = xfm_points(vertices, final_mtx_proj)\n",
    "\n",
    "def render(vertices, faces, object_pose, intrinsics):\n",
    "    projection_matrix = b.camera._open_gl_projection_matrix(\n",
    "        intrinsics.height, intrinsics.width, \n",
    "        intrinsics.fx, intrinsics.fy, \n",
    "        intrinsics.cx, intrinsics.cy, \n",
    "        intrinsics.near, intrinsics.far\n",
    "    )\n",
    "    final_mtx_proj = projection_matrix @ object_pose\n",
    "    posw = jnp.concatenate([vertices, jnp.ones((*vertices.shape[:-1],1))], axis=-1)\n",
    "    pos_clip_ja = xfm_points(vertices, final_mtx_proj)\n",
    "    rast_out, rast_out_db = jax_renderer.rasterize(pos_clip_ja[None,...], faces, jnp.array([intrinsics.height, intrinsics.width]))\n",
    "    gb_pos,_ = jax_renderer.interpolate(posw[None,...], rast_out, faces, rast_out_db, jnp.array([0,1,2,3]))\n",
    "    mask = rast_out[..., -1] > 0\n",
    "    shape_keep = gb_pos.shape\n",
    "    gb_pos = gb_pos.reshape(shape_keep[0], -1, shape_keep[-1])\n",
    "    gb_pos = gb_pos[..., :3]\n",
    "    depth = xfm_points(gb_pos, object_pose)\n",
    "    depth = depth.reshape(shape_keep)[..., 2] * -1\n",
    "    return depth * mask, mask\n",
    "    \n",
    "jax.clear_caches()\n",
    "render_jit = jax.jit(render)\n"
   ]
  },
  {
   "cell_type": "code",
   "execution_count": 33,
   "id": "56f7cc71-b285-4af0-a6f9-eab8afce8b6d",
   "metadata": {},
   "outputs": [
    {
     "data": {
      "image/png": "[encoded data removed]",
      "text/plain": [
       "<PIL.Image.Image image mode=RGB size=410x200>"
      ]
     },
     "execution_count": 33,
     "metadata": {},
     "output_type": "execute_result"
    }
   ],
   "source": [
    "gt_position = jnp.array([0.0, 0.0, 2.8])\n",
    "gt_pose = b.transform_from_pos(gt_position)\n",
    "gt_img,gt_mask = render_jit(mesh.vertices, mesh.faces, gt_pose, intrinsics)\n",
    "b.hstack_images([b.get_depth_image(gt_img[0,...]),b.get_depth_image(gt_mask[0,...] * 1.0)])"
   ]
  },
  {
   "cell_type": "code",
   "execution_count": 93,
   "id": "befb651e-f96c-43aa-8b21-274feacbf4a2",
   "metadata": {},
   "outputs": [],
   "source": [
    "def loss(z, gt_img, gt_mask):\n",
    "    img,_ = render(mesh.vertices, mesh.faces, b.transform_from_pos(jnp.array([0.0, 0.0, z])), intrinsics)\n",
    "    return jnp.abs((gt_img - img)*gt_mask).mean()\n",
    "\n",
    "grad_func = jax.jit(jax.value_and_grad(loss, argnums=(0,)))\n",
    "grad_func_no_jit = jax.value_and_grad(loss, argnums=(0,))"
   ]
  },
  {
   "cell_type": "code",
   "execution_count": 94,
   "id": "76d003fd-4db0-46af-8ac5-af8a2379b2f1",
   "metadata": {},
   "outputs": [
    {
     "name": "stderr",
     "output_type": "stream",
     "text": [
      "1.0287410077580716e-05 z: 2.8092944622039795: 100%|███████████████████████████████████████████| 100/100 [00:00<00:00, 213.49it/s]\n"
     ]
    }
   ],
   "source": [
    "z = 2.6\n",
    "from tqdm import tqdm\n",
    "pbar = tqdm(range(100))\n",
    "for _ in pbar:\n",
    "    loss,grad =  grad_func(z, gt_img,gt_mask)\n",
    "    z = z - 0.1 * grad[0]\n",
    "    pbar.set_description(f\"{loss} z: {z}\")\n",
    "\n"
   ]
  },
  {
   "cell_type": "code",
   "execution_count": 242,
   "id": "0dc7af70-854a-4bfa-a114-a97ebd798498",
   "metadata": {},
   "outputs": [],
   "source": [
    "def loss(z, gt_img, gt_mask):\n",
    "    img,_ = render(mesh.vertices, mesh.faces, b.transform_from_pos(z), intrinsics)\n",
    "    return jnp.abs((gt_img - img)*gt_mask).mean()\n",
    "\n",
    "grad_func = jax.jit(jax.value_and_grad(loss, argnums=(0,)))\n",
    "grad_func_no_jit = jax.value_and_grad(loss, argnums=(0,))"
   ]
  },
  {
   "cell_type": "code",
   "execution_count": 243,
   "id": "8b11cee1-7452-4597-a26d-1a4137e14ba0",
   "metadata": {},
   "outputs": [],
   "source": [
    "quat = jax.random.uniform(jax.random.PRNGKey(30), (4,))\n",
    "translation = jnp.array([0.0, 0.0, 2.5])\n",
    "poses = [b.transform_from_rot_and_pos(b.quaternion_to_rotation_matrix(quat), translation)]\n",
    "delta_pose = b.t3d.transform_from_rot_and_pos(\n",
    "    R.from_euler('zyx', [2.0, 1.1, 3.0], degrees=True).as_matrix(),\n",
    "    jnp.array([-0.009, 0.005, 0.02])\n",
    ")\n",
    "num_frames = 200\n",
    "for t in range(num_frames-1):\n",
    "    poses.append(poses[-1].dot(delta_pose))\n",
    "poses = jnp.stack(poses)\n",
    "gt_images = [render_jit(mesh.vertices, mesh.faces, poses[i], intrinsics) for i in range(num_frames)]\n",
    "viz_gt_images = [b.get_depth_image(gt_images[i][0][0,...],max=intrinsics.far) for i in range(num_frames)]\n",
    "b.make_gif_from_pil_images(viz_gt_images, \"obs.gif\")"
   ]
  },
  {
   "cell_type": "code",
   "execution_count": 244,
   "id": "a59a4fc5-424e-4bf4-9317-b52aafb01751",
   "metadata": {},
   "outputs": [],
   "source": [
    "def render_translation_and_quat(translation,quat):\n",
    "    pose = b.transform_from_rot_and_pos(b.quaternion_to_rotation_matrix(quat), translation)\n",
    "    img,_ = render(mesh.vertices, mesh.faces, pose, intrinsics)\n",
    "    return img\n",
    "def loss(translation, quat, gt_img, gt_mask):\n",
    "    img = render_translation_and_quat(translation, quat)\n",
    "    return jnp.abs((gt_img - img)*gt_mask).mean()\n",
    "\n",
    "render_translation_and_quat_jit = jax.jit(render_translation_and_quat)\n",
    "grad_func = jax.jit(jax.value_and_grad(loss, argnums=(0,1,)))\n"
   ]
  },
  {
   "cell_type": "code",
   "execution_count": 245,
   "id": "6f98cb05-6a8a-4efe-9b81-46c82722aeec",
   "metadata": {},
   "outputs": [
    {
     "data": {
      "text/plain": [
       "(Array(0., dtype=float32),\n",
       " (Array([0.06832469, 0.01656762, 0.08857633], dtype=float32),\n",
       "  Array([-0.02358121, -0.03950635, -0.00045409,  0.02815191], dtype=float32)))"
      ]
     },
     "execution_count": 245,
     "metadata": {},
     "output_type": "execute_result"
    }
   ],
   "source": [
    "grad_func(translation, quat, gt_images[0][0], gt_images[0][1])\n"
   ]
  },
  {
   "cell_type": "code",
   "execution_count": 246,
   "id": "b2efd1e7-333a-4732-a070-912549017885",
   "metadata": {},
   "outputs": [
    {
     "data": {
      "text/plain": [
       "(Array(0.00715222, dtype=float32),\n",
       " (Array([-0.02891247, -0.02307356, -0.0456549 ], dtype=float32),\n",
       "  Array([ 0.04492836, -0.00196177, -0.01189164, -0.01836327], dtype=float32)))"
      ]
     },
     "execution_count": 246,
     "metadata": {},
     "output_type": "execute_result"
    }
   ],
   "source": [
    "grad_func(translation, quat, gt_images[1][0], gt_images[1][1])"
   ]
  },
  {
   "cell_type": "code",
   "execution_count": 247,
   "id": "e777294a-d1e7-43e8-aa68-e816b9c0d243",
   "metadata": {},
   "outputs": [
    {
     "name": "stderr",
     "output_type": "stream",
     "text": [
      "0.006432858761399984: 100%|████████████████████████████████████████████████████████████████████| 200/200 [00:07<00:00, 28.38it/s]\n"
     ]
    }
   ],
   "source": [
    "images_over_time = []\n",
    "pbar = tqdm(range(len(gt_images)))\n",
    "for timestep in pbar:\n",
    "    for _ in range(15):\n",
    "        loss, (grad_translation, grad_quat, ) = grad_func(\n",
    "            translation, quat, gt_images[timestep][0], gt_images[timestep][1]\n",
    "        )\n",
    "        translation = translation - 0.5 * grad_translation\n",
    "        quat = quat - 1.0 * grad_quat\n",
    "        pbar.set_description(f\"{loss}\")\n",
    "    images_over_time.append(render_translation_and_quat_jit(translation, quat))"
   ]
  },
  {
   "cell_type": "code",
   "execution_count": 248,
   "id": "4e3cc5da-8fb4-4971-a851-21640540a900",
   "metadata": {},
   "outputs": [],
   "source": [
    "inferred_viz_images = [\n",
    "    b.get_depth_image(images_over_time[i][0,...],max=intrinsics.far) for i in range(num_frames)\n",
    "]\n",
    "all_imgs = [\n",
    "    b.hstack_images([viz_gt_images[timestep], inferred_viz_images[timestep]])\n",
    "    for timestep in range(len(viz_gt_images))\n",
    "]\n",
    "b.make_gif_from_pil_images(all_imgs, \"results.gif\")"
   ]
  },
  {
   "cell_type": "code",
   "execution_count": 234,
   "id": "430717c3-3085-44cf-9f59-65b8287e6205",
   "metadata": {},
   "outputs": [],
   "source": []
  },
  {
   "cell_type": "code",
   "execution_count": 152,
   "id": "f7817bcb-935f-49bf-b567-070af2761ddf",
   "metadata": {},
   "outputs": [
    {
     "name": "stdout",
     "output_type": "stream",
     "text": [
      "120\n"
     ]
    },
    {
     "data": {
      "image/png": "[encoded data removed]",
      "text/plain": [
       "<PIL.Image.Image image mode=RGB size=200x200>"
      ]
     },
     "execution_count": 152,
     "metadata": {},
     "output_type": "execute_result"
    }
   ],
   "source": [
    "print(timestep)\n",
    "viz_gt_images[timestep]"
   ]
  },
  {
   "cell_type": "code",
   "execution_count": 155,
   "id": "8c0574ee-a928-410e-8369-715afbcc786a",
   "metadata": {},
   "outputs": [
    {
     "data": {
      "image/png": "[encoded data removed]",
      "text/plain": [
       "<PIL.Image.Image image mode=RGB size=200x200>"
      ]
     },
     "execution_count": 155,
     "metadata": {},
     "output_type": "execute_result"
    }
   ],
   "source": [
    "pose = b.transform_from_rot_and_pos(b.quaternion_to_rotation_matrix(quat), translation)\n",
    "img,_ = render(mesh.vertices, mesh.faces, pose, intrinsics)\n",
    "b.get_depth_image(img[0,...],max=intrinsics.far)"
   ]
  },
  {
   "cell_type": "code",
   "execution_count": 120,
   "id": "9f1f7485-fd9c-446c-8a99-93b739932e8c",
   "metadata": {},
   "outputs": [
    {
     "data": {
      "text/plain": [
       "(1, 200, 200)"
      ]
     },
     "execution_count": 120,
     "metadata": {},
     "output_type": "execute_result"
    }
   ],
   "source": [
    "gt_images[0][0].shape"
   ]
  },
  {
   "cell_type": "code",
   "execution_count": 103,
   "id": "e90f9ee2-9f92-4a12-ab5b-f4fa76164653",
   "metadata": {},
   "outputs": [],
   "source": [
    "z = jnp.array([0.0, 0.0,2.5])\n"
   ]
  },
  {
   "cell_type": "code",
   "execution_count": 113,
   "id": "a230d32d-ac56-4e09-8586-a5364f99774c",
   "metadata": {},
   "outputs": [
    {
     "name": "stderr",
     "output_type": "stream",
     "text": [
      "0.0001555772323627025 z: [ 3.1896116e-04 -9.2155075e-05  2.8007286e+00]: 100%|████████████████| 100/100 [00:00<00:00, 433.15it/s]\n"
     ]
    }
   ],
   "source": [
    "from tqdm import tqdm\n",
    "pbar = tqdm(range(100))\n",
    "for _ in pbar:\n",
    "    loss,grad =  grad_func(z, gt_img,gt_mask)\n",
    "    z = z - 0.01 * grad[0]\n",
    "    pbar.set_description(f\"{loss} z: {z}\")"
   ]
  },
  {
   "cell_type": "code",
   "execution_count": null,
   "id": "432c3999-554c-48b3-8b4d-9695f1f5f4b0",
   "metadata": {},
   "outputs": [],
   "source": []
  },
  {
   "cell_type": "code",
   "execution_count": null,
   "id": "795a4b68-f140-49f6-a4a0-6d93973532bf",
   "metadata": {},
   "outputs": [],
   "source": []
  },
  {
   "cell_type": "code",
   "execution_count": 39,
   "id": "a81ef1fe-0f8b-402b-82d7-52274ad20237",
   "metadata": {},
   "outputs": [
    {
     "data": {
      "text/plain": [
       "(Array(-0.03936947, dtype=float32, weak_type=True),)"
      ]
     },
     "execution_count": 39,
     "metadata": {},
     "output_type": "execute_result"
    }
   ],
   "source": [
    "grad"
   ]
  },
  {
   "cell_type": "code",
   "execution_count": 87,
   "id": "4d671699-75bd-4764-94d1-d355fbc73c05",
   "metadata": {},
   "outputs": [
    {
     "name": "stdout",
     "output_type": "stream",
     "text": [
      "0.4528703\n"
     ]
    },
    {
     "data": {
      "image/png": "[encoded data removed]",
      "text/plain": [
       "<PIL.Image.Image image mode=RGB size=200x200>"
      ]
     },
     "execution_count": 87,
     "metadata": {},
     "output_type": "execute_result"
    }
   ],
   "source": [
    "pose = b.transform_from_pos(jnp.array([0.0, 0.0, z]))\n",
    "img = jax_renderer.render(mesh.vertices, mesh.faces, pose, intrinsics, None)\n",
    "print(\n",
    "    jnp.abs(gt_img - img).mean()\n",
    ")\n",
    "b.get_depth_image(img[0,...])\n"
   ]
  },
  {
   "cell_type": "code",
   "execution_count": 42,
   "id": "2902fa46-24f6-464d-8eb9-e9e588df5bb5",
   "metadata": {},
   "outputs": [
    {
     "data": {
      "text/plain": [
       "(Array(0.20323582, dtype=float32),\n",
       " (Array(-0.09783504, dtype=float32, weak_type=True),))"
      ]
     },
     "execution_count": 42,
     "metadata": {},
     "output_type": "execute_result"
    }
   ],
   "source": [
    "grad_func(z)"
   ]
  },
  {
   "cell_type": "code",
   "execution_count": 39,
   "id": "ad285a1d-162e-479b-97e5-f4b72c37f296",
   "metadata": {},
   "outputs": [
    {
     "data": {
      "text/plain": [
       "Array(0., dtype=float32)"
      ]
     },
     "execution_count": 39,
     "metadata": {},
     "output_type": "execute_result"
    }
   ],
   "source": [
    "jnp.abs(gt_img - img).mean()"
   ]
  },
  {
   "cell_type": "code",
   "execution_count": 37,
   "id": "e7d9054a-4e40-4731-a9d9-29b46b2de7c6",
   "metadata": {},
   "outputs": [
    {
     "data": {
      "text/plain": [
       "(Array(0.20323582, dtype=float32),\n",
       " (Array(-0.09783504, dtype=float32, weak_type=True),))"
      ]
     },
     "execution_count": 37,
     "metadata": {},
     "output_type": "execute_result"
    }
   ],
   "source": [
    "grad_func(2.5)"
   ]
  },
  {
   "cell_type": "code",
   "execution_count": 2,
   "id": "6091e538-dc03-409e-a25e-87f0d7ed322f",
   "metadata": {},
   "outputs": [
    {
     "name": "stdout",
     "output_type": "stream",
     "text": [
      "You can open the visualizer by visiting the following URL:\n",
      "http://127.0.0.1:7040/static/\n"
     ]
    }
   ],
   "source": [
    "b.setup_visualizer()"
   ]
  },
  {
   "cell_type": "code",
   "execution_count": 5,
   "id": "1b70ed6c-4412-4b2e-ae33-ead00e6374fa",
   "metadata": {},
   "outputs": [
    {
     "name": "stdout",
     "output_type": "stream",
     "text": [
      "['mus', 'covs', 'choleskys', 'mean_colors', 'nums']\n",
      "(50, 3, 3)\n"
     ]
    }
   ],
   "source": [
    "mesh = open3d_mesh_to_trimesh(o3d.geometry.TriangleMesh.create_sphere(resolution=2))\n",
    "b.show_trimesh(\"tetra\", mesh)\n",
    "base_vertices = jnp.array(mesh.vertices)\n",
    "base_faces = jnp.array(mesh.faces)\n",
    "\n",
    "b.clear()\n",
    "b.show_cloud(\"1\",mesh.vertices)\n",
    "\n",
    "data = jnp.load(\"gaussians_banana.npz\")\n",
    "print(data.files)\n",
    "means  = data[\"mus\"]\n",
    "covs = data[\"choleskys\"]\n",
    "print(covs.shape)"
   ]
  },
  {
   "cell_type": "code",
   "execution_count": 7,
   "id": "5dd2d659-44a9-4c63-a730-8c302597ce95",
   "metadata": {},
   "outputs": [
    {
     "name": "stdout",
     "output_type": "stream",
     "text": [
      "(50, 6, 3)\n",
      "(50, 8, 3)\n"
     ]
    }
   ],
   "source": [
    "def get_transformed_vertices(center, cov):\n",
    "    return base_vertices @ (3.0 * cov.T) + center\n",
    "all_vertices = jax.vmap(get_transformed_vertices, in_axes=(0,0))(means, covs)\n",
    "print(all_vertices.shape)\n",
    "all_faces = (jnp.arange(all_vertices.shape[0]) * base_vertices.shape[0])[:,None, None] + base_faces[None,...]\n",
    "print(all_faces.shape)\n",
    "\n",
    "# mesh = trimesh.Trimesh(vertices=base_vertices.reshape(-1,3), faces=base_faces.reshape(-1,3))\n",
    "mesh = trimesh.Trimesh(vertices=all_vertices.reshape(-1,3), faces=all_faces.reshape(-1,3))\n",
    "\n",
    "b.clear()\n",
    "b.show_trimesh(\"1\",mesh)"
   ]
  },
  {
   "cell_type": "code",
   "execution_count": 8,
   "id": "117ef343-1510-49ba-a3a9-5b251d4ce99c",
   "metadata": {},
   "outputs": [],
   "source": []
  },
  {
   "cell_type": "code",
   "execution_count": 9,
   "id": "e6e90839-1333-4d88-ba18-05dc8ca4230a",
   "metadata": {},
   "outputs": [
    {
     "name": "stdout",
     "output_type": "stream",
     "text": [
      "New Plugin\n"
     ]
    }
   ],
   "source": [
    "jax_renderer = JaxRenderer(intrinsics)"
   ]
  },
  {
   "cell_type": "code",
   "execution_count": null,
   "id": "61a216a3-a050-480c-98a9-3ae8259c559f",
   "metadata": {},
   "outputs": [],
   "source": []
  },
  {
   "cell_type": "code",
   "execution_count": null,
   "id": "f8278c3f-1fe3-4eb5-8308-f5f765e9478f",
   "metadata": {},
   "outputs": [],
   "source": [
    "b.setup_renderer(intrinsics)"
   ]
  },
  {
   "cell_type": "code",
   "execution_count": null,
   "id": "b80a9b14-42fd-4d7e-b0da-9b233001b7f9",
   "metadata": {},
   "outputs": [],
   "source": [
    "import os\n",
    "model_dir = os.path.join(b.utils.get_assets_dir(),\"bop/ycbv/models\")\n",
    "idx = 10\n",
    "mesh_path = os.path.join(model_dir,\"obj_\" + \"{}\".format(idx).rjust(6, '0') + \".ply\")\n",
    "m = b.utils.load_mesh(mesh_path)\n",
    "m = b.utils.scale_mesh(m, 1.0/100.0)"
   ]
  },
  {
   "cell_type": "code",
   "execution_count": null,
   "id": "2617f5c9-bb39-48d6-abd2-e28e4535c182",
   "metadata": {},
   "outputs": [],
   "source": [
    "b.RENDERER.add_mesh_from_file(mesh_path, scaling_factor=1.0/100.0)"
   ]
  },
  {
   "cell_type": "code",
   "execution_count": null,
   "id": "c6574934-9a7e-49ca-ac39-22733c337e72",
   "metadata": {},
   "outputs": [],
   "source": [
    "pose = b.transform_from_pos(jnp.array([0.0, 0.0, 0.5]))\n",
    "img = b.RENDERER.render(pose[None,...], jnp.array([0]))\n",
    "print(img[...,2])\n",
    "b.get_depth_image(img[...,2])"
   ]
  },
  {
   "cell_type": "code",
   "execution_count": 28,
   "id": "55b778e9-ee65-4151-9b71-705d880be163",
   "metadata": {},
   "outputs": [
    {
     "name": "stdout",
     "output_type": "stream",
     "text": [
      "New Plugin\n"
     ]
    }
   ],
   "source": [
    "jax_renderer = JaxRenderer(intrinsics)\n",
    "def xfm_points(points, matrix):\n",
    "    points = jnp.concatenate([points, jnp.ones((*points.shape[:-1],1))], axis=-1)\n",
    "    return jnp.matmul(points, matrix.T)\n",
    "\n",
    "def render(vertices, faces, object_pose, projection_matrix):\n",
    "    final_mtx_proj = projection_matrix @ pose\n",
    "    posw = jnp.concatenate([vertices, jnp.ones((*vertices.shape[:-1],1))], axis=-1)\n",
    "    pos_clip_ja = xfm_points(vertices, final_mtx_proj)\n",
    "\n",
    "    rast_out, rast_out_db = jax_renderer.rasterize(pos_clip_ja[None,...], faces, jnp.array([intrinsics.height, intrinsics.width]))\n",
    "    gb_pos,_ = jax_renderer.interpolate(posw[None,...], rast_out, faces, rast_out_db, jnp.array([0,1,2,3]))\n",
    "    mask = rast_out[..., -1] > 0\n",
    "    shape_keep = gb_pos.shape\n",
    "    gb_pos = gb_pos.reshape(shape_keep[0], -1, shape_keep[-1])\n",
    "    gb_pos = gb_pos[..., :3]\n",
    "    depth = xfm_points(gb_pos, pose)\n",
    "    depth = depth.reshape(shape_keep)[..., 2] * -1\n",
    "    return -depth * mask + intrinsics.far * (1.0 - mask)\n",
    "    # rast_out, _ = jax_renderer.rasterize(new_cloud[None,...], jnp.array(b.RENDERER.meshes[0].faces), jnp.array([intrinsics.height, intrinsics.width]))\n"
   ]
  },
  {
   "cell_type": "code",
   "execution_count": 10,
   "id": "39187545-c804-439a-83f8-ee2a53e526e0",
   "metadata": {},
   "outputs": [
    {
     "ename": "NameError",
     "evalue": "name 'intrinsics' is not defined",
     "output_type": "error",
     "traceback": [
      "\u001b[0;31m---------------------------------------------------------------------------\u001b[0m",
      "\u001b[0;31mNameError\u001b[0m                                 Traceback (most recent call last)",
      "Cell \u001b[0;32mIn[10], line 2\u001b[0m\n\u001b[1;32m      1\u001b[0m proj \u001b[38;5;241m=\u001b[39m b\u001b[38;5;241m.\u001b[39mcamera\u001b[38;5;241m.\u001b[39m_open_gl_projection_matrix(\n\u001b[0;32m----> 2\u001b[0m     \u001b[43mintrinsics\u001b[49m\u001b[38;5;241m.\u001b[39mheight, intrinsics\u001b[38;5;241m.\u001b[39mwidth, \n\u001b[1;32m      3\u001b[0m     intrinsics\u001b[38;5;241m.\u001b[39mfx, intrinsics\u001b[38;5;241m.\u001b[39mfy, \n\u001b[1;32m      4\u001b[0m     intrinsics\u001b[38;5;241m.\u001b[39mcx, intrinsics\u001b[38;5;241m.\u001b[39mcy, \n\u001b[1;32m      5\u001b[0m     intrinsics\u001b[38;5;241m.\u001b[39mnear, intrinsics\u001b[38;5;241m.\u001b[39mfar\n\u001b[1;32m      6\u001b[0m )\n\u001b[1;32m      7\u001b[0m get_ipython()\u001b[38;5;241m.\u001b[39mrun_line_magic(\u001b[38;5;124m'\u001b[39m\u001b[38;5;124m%\u001b[39m\u001b[38;5;124mtime\u001b[39m\u001b[38;5;124m'\u001b[39m, \u001b[38;5;124m'\u001b[39m\u001b[38;5;124m'\u001b[39m)\n\u001b[1;32m      8\u001b[0m img \u001b[38;5;241m=\u001b[39m render(b\u001b[38;5;241m.\u001b[39mRENDERER\u001b[38;5;241m.\u001b[39mmeshes[\u001b[38;5;241m0\u001b[39m]\u001b[38;5;241m.\u001b[39mvertices, b\u001b[38;5;241m.\u001b[39mRENDERER\u001b[38;5;241m.\u001b[39mmeshes[\u001b[38;5;241m0\u001b[39m]\u001b[38;5;241m.\u001b[39mfaces, pose, proj)\n",
      "\u001b[0;31mNameError\u001b[0m: name 'intrinsics' is not defined"
     ]
    }
   ],
   "source": [
    "proj = b.camera._open_gl_projection_matrix(\n",
    "    intrinsics.height, intrinsics.width, \n",
    "    intrinsics.fx, intrinsics.fy, \n",
    "    intrinsics.cx, intrinsics.cy, \n",
    "    intrinsics.near, intrinsics.far\n",
    ")\n",
    "%%time\n",
    "img = render(b.RENDERER.meshes[0].vertices, b.RENDERER.meshes[0].faces, pose, proj)\n",
    "b.get_depth_image(img[0,...])"
   ]
  },
  {
   "cell_type": "code",
   "execution_count": 36,
   "id": "a06d9fee-2cd0-4360-9f26-1912cad190a1",
   "metadata": {},
   "outputs": [
    {
     "name": "stdout",
     "output_type": "stream",
     "text": [
      "CPU times: user 43.8 ms, sys: 4.85 ms, total: 48.6 ms\n",
      "Wall time: 41 ms\n"
     ]
    }
   ],
   "source": [
    "%%time\n",
    "img = render(b.RENDERER.meshes[0].vertices, b.RENDERER.meshes[0].faces, pose, proj)"
   ]
  },
  {
   "cell_type": "code",
   "execution_count": 262,
   "id": "3f3eac28-cb19-4b80-88d7-61a6cfdb59b7",
   "metadata": {},
   "outputs": [
    {
     "name": "stdout",
     "output_type": "stream",
     "text": [
      "[[-0.47551    -0.60295     0.55166     1.        ]\n",
      " [-0.49817002 -0.05815     0.41496     1.        ]\n",
      " [-0.3009     -0.85954005  0.37413     1.        ]\n",
      " ...\n",
      " [ 0.09810001  0.80452     0.61273     1.        ]\n",
      " [ 0.07996     0.84863     0.59165     1.        ]\n",
      " [ 0.10651     0.83125     0.60057     1.        ]]\n"
     ]
    }
   ],
   "source": [
    "cloud =b.apply_transform_jit(b.RENDERER.meshes[0].vertices, pose)\n",
    "b.show_cloud(\"1\",cloud)\n",
    "cloudw = b.add_homogenous_ones(cloud)\n",
    "print(cloudw)"
   ]
  },
  {
   "cell_type": "code",
   "execution_count": 263,
   "id": "c7b7fab0-34a0-467c-820d-522fcf1e660c",
   "metadata": {},
   "outputs": [
    {
     "name": "stdout",
     "output_type": "stream",
     "text": [
      "(10710, 4)\n",
      "[[-0.9482617  -1.2031417   0.297355    0.55166   ]\n",
      " [-0.99426526 -0.1142252   0.17204665  0.41496   ]\n",
      " [-0.5999294  -1.7172095   0.13461916  0.37413   ]\n",
      " ...\n",
      " [ 0.19926366  1.6121037   0.35333586  0.61273   ]\n",
      " [ 0.16287825  1.7002183   0.3340125   0.59165   ]\n",
      " [ 0.21602285  1.6655029   0.3421892   0.60057   ]]\n"
     ]
    }
   ],
   "source": [
    "proj = b.camera.getProjectionMatrix(intrinsics)\n",
    "proj = b.camera._open_gl_projection_matrix(\n",
    "    intrinsics.height, intrinsics.width, \n",
    "    intrinsics.fx, intrinsics.fy, \n",
    "    intrinsics.cx, intrinsics.cy, \n",
    "    intrinsics.near, intrinsics.far\n",
    ")\n",
    "new_cloud = cloudw @ proj.T\n",
    "print(new_cloud.shape)\n",
    "print(new_cloud)\n",
    "b.show_cloud(\"2\",new_cloud[:,:3] / new_cloud[:,3][...,None],color=b.RED)"
   ]
  },
  {
   "cell_type": "code",
   "execution_count": 264,
   "id": "5d66d397-3c68-42fd-b37e-ee8b3d8cad87",
   "metadata": {},
   "outputs": [
    {
     "name": "stdout",
     "output_type": "stream",
     "text": [
      "New Plugin\n"
     ]
    }
   ],
   "source": [
    "jax_renderer = JaxRenderer(intrinsics)"
   ]
  },
  {
   "cell_type": "code",
   "execution_count": 267,
   "id": "2625cc61-6737-4286-986b-9b2e26e244a4",
   "metadata": {},
   "outputs": [
    {
     "data": {
      "text/plain": [
       "Array([[2040., 2040., 2040., ...,    0.,    0.,    0.],\n",
       "       [2045., 2045., 2045., ...,    0.,    0.,    0.],\n",
       "       [2045., 2045., 2045., ...,    0.,    0.,    0.],\n",
       "       ...,\n",
       "       [5749., 5287., 5287., ...,    0.,    0.,    0.],\n",
       "       [5749., 5287., 5287., ...,    0.,    0.,    0.],\n",
       "       [5287., 5287., 5287., ...,    0.,    0.,    0.]], dtype=float32)"
      ]
     },
     "execution_count": 267,
     "metadata": {},
     "output_type": "execute_result"
    }
   ],
   "source": [
    "rast_out[0,...,-1]"
   ]
  },
  {
   "cell_type": "code",
   "execution_count": 269,
   "id": "0fbe03eb-42bc-4c6e-84b6-3f34cad0724f",
   "metadata": {},
   "outputs": [
    {
     "name": "stdout",
     "output_type": "stream",
     "text": [
      "49054730.0\n",
      "[    0.  2040.  2045.  2048.  2050.  2055.  2062.  2072.  2079.  2085.\n",
      "  2090.  2093.  2095.  2101.  2110.  2115.  2130.  2132.  2136.  2140.\n",
      "  2143.  2149.  2155.  2159.  2166.  2168.  2185.  2191.  2194.  2205.\n",
      "  2207.  2218.  2227.  2238.  2245.  2247.  2341.  2343.  2346.  2353.\n",
      "  2357.  2367.  2432.  2439.  2442.  2446.  2455.  2459.  2469.  2476.\n",
      "  2477.  2479.  2488.  2499.  2511.  2522.  2525.  2528.  2530.  2542.\n",
      "  2547.  2556.  2562.  2566.  2567.  2569.  2582.  2583.  2595.  2622.\n",
      "  2639.  2646.  2651.  2652.  2659.  2663.  2668.  2674.  2681.  2687.\n",
      "  2715.  2717.  2721.  2722.  2731.  2733.  2748.  2751.  2758.  2759.\n",
      "  2760.  2771.  2779.  2782.  2783.  2787.  2790.  2797.  2806.  2811.\n",
      "  2820.  2827.  2830.  2834.  2842.  2843.  2848.  2853.  2855.  2859.\n",
      "  2864.  2867.  2869.  2871.  2874.  2875.  2887.  2888.  2889.  2891.\n",
      "  2893.  2901.  2902.  2903.  2909.  2910.  2912.  2913.  2916.  2919.\n",
      "  2920.  2923.  2924.  2926.  2927.  2929.  2932.  2933.  2936.  2939.\n",
      "  2941.  2942.  2944.  2945.  3229.  3238.  3240.  3241.  3242.  3243.\n",
      "  3244.  3246.  3248.  3249.  3250.  3252.  3253.  3274.  3275.  3276.\n",
      "  3277.  3279.  3280.  3281.  3282.  3283.  3285.  3286.  3287.  3288.\n",
      "  3290.  3291.  3292.  3293.  3294.  3295.  3296.  3297.  3298.  3299.\n",
      "  3300.  3301.  3303.  3305.  3307.  3313.  3321.  3322.  3323.  3327.\n",
      "  3328.  3329.  3331.  3332.  3335.  3337.  3338.  3339.  3340.  3341.\n",
      "  3342.  3351.  3362.  3363.  3364.  3366.  3371.  3375.  3377.  3380.\n",
      "  3382.  3383.  3385.  3387.  3391.  3393.  3394.  3397.  3398.  3402.\n",
      "  3404.  3408.  3410.  3412.  3413.  3414.  3415.  3417.  3418.  3419.\n",
      "  3420.  3421.  3425.  3426.  3429.  3433.  3434.  3438.  3439.  3441.\n",
      "  3442.  3448.  3450.  3452.  3458.  3459.  3464.  3465.  3467.  3469.\n",
      "  3471.  3475.  3476.  3479.  3480.  3481.  3482.  3483.  3484.  3485.\n",
      "  3489.  3490.  3491.  3492.  3493.  3496.  3498.  3500.  3505.  3508.\n",
      "  3509.  3512.  3519.  3523.  3524.  3526.  3528.  3530.  3532.  3533.\n",
      "  3534.  3536.  3537.  3538.  3539.  3540.  3541.  3542.  3543.  3544.\n",
      "  3545.  3546.  3547.  4941.  4942.  4944.  4946.  4949.  4952.  4956.\n",
      "  4977.  4978.  4983.  4984.  4998.  5053.  5055.  5064.  5071.  5073.\n",
      "  5077.  5086.  5087.  5092.  5096.  5099.  5100.  5101.  5107.  5109.\n",
      "  5112.  5114.  5119.  5120.  5126.  5127.  5130.  5131.  5136.  5137.\n",
      "  5139.  5143.  5152.  5155.  5156.  5162.  5166.  5170.  5171.  5173.\n",
      "  5174.  5175.  5177.  5181.  5182.  5186.  5189.  5192.  5198.  5200.\n",
      "  5201.  5204.  5211.  5214.  5215.  5216.  5220.  5222.  5231.  5234.\n",
      "  5250.  5257.  5258.  5261.  5263.  5269.  5272.  5278.  5281.  5287.\n",
      "  5289.  5290.  5293.  5294.  5309.  5313.  5317.  5323.  5327.  5329.\n",
      "  5331.  5332.  5333.  5336.  5338.  5341.  5345.  5347.  5349.  5352.\n",
      "  5353.  5365.  5389.  5393.  5402.  5403.  5404.  5416.  5420.  5445.\n",
      "  5450.  5453.  5456.  5463.  5465.  5467.  5473.  5479.  5489.  5491.\n",
      "  5496.  5573.  5588.  5749.  8304.  8421.  8425.  8438.  8440.  8441.\n",
      "  8447.  8449.  8450.  8456.  8701.  8703.  8705.  8707.  8708.  8711.\n",
      "  8713.  8714.  8718.  8719.  8720.  8722.  8725.  8727.  8728.  8730.\n",
      "  8733.  8734.  8736.  8737.  8738.  8758.  8762.  8764.  8776.  8778.\n",
      "  8779.  8780.  8782.  8783.  8793.  8797.  8798.  8799.  8802.  8804.\n",
      "  8806.  8808.  8812.  8813.  8814.  8817.  8819.  8820.  8821.  8823.\n",
      "  8824.  8827.  8842.  8843.  8844.  8846.  8847.  8849.  8850.  8854.\n",
      "  8855. 10845. 10846. 10851. 10854. 10858. 10859. 10860. 10863. 10870.\n",
      " 10873. 10878. 10886. 10887. 10896. 10903. 10905. 10913. 10916. 10918.\n",
      " 10924. 10928. 10937. 10942. 10943. 10944. 10945. 10950. 10951. 10959.\n",
      " 10960. 10961. 10967. 10968. 10975. 10976. 10980. 10983. 10987. 10990.\n",
      " 10993. 10999. 11004. 11005. 11014. 11016. 11020. 11026. 11031. 11036.\n",
      " 11039. 11044. 11049. 11050. 11055. 11059. 11068. 11069. 11075. 11080.\n",
      " 11085. 11090. 11094. 11096. 11101. 11102. 11103. 11107. 11110. 11118.\n",
      " 11121. 11136. 11140. 11141. 11143. 11167. 11168. 11169. 11254. 11256.\n",
      " 11262. 11264. 11268. 11276. 11288. 11290. 11293. 11294. 11297. 11300.\n",
      " 11301. 11403. 11468. 11489. 11491. 11658. 11659. 12957. 12958. 12964.\n",
      " 12967. 13056. 13063. 13064. 13065. 13066. 13069.]\n"
     ]
    },
    {
     "data": {
      "text/plain": [
       "<matplotlib.colorbar.Colorbar at 0x7effb82b7670>"
      ]
     },
     "execution_count": 269,
     "metadata": {},
     "output_type": "execute_result"
    },
    {
     "data": {
      "image/png": "[encoded data removed]",
      "text/plain": [
       "<Figure size 480x480 with 2 Axes>"
      ]
     },
     "metadata": {},
     "output_type": "display_data"
    }
   ],
   "source": [
    "rast_out, _ = jax_renderer.rasterize(new_cloud[None,...], jnp.array(b.RENDERER.meshes[0].faces), jnp.array([intrinsics.height, intrinsics.width]))\n",
    "print(rast_out.sum())\n",
    "plt.matshow(rast_out[0,...,-1])\n",
    "print(jnp.unique(rast_out[0,...,-1]))\n",
    "plt.colorbar()"
   ]
  },
  {
   "cell_type": "code",
   "execution_count": 244,
   "id": "0ed4fc00-cbfa-4542-9cdc-266a73caac66",
   "metadata": {},
   "outputs": [
    {
     "data": {
      "text/plain": [
       "Array([[4039,    1, 1769],\n",
       "       [1767,    1, 4039],\n",
       "       [  35, 1427, 1424],\n",
       "       ...,\n",
       "       [6504, 7864, 7863],\n",
       "       [6470, 7865, 7842],\n",
       "       [6470, 6483, 7865]], dtype=int32)"
      ]
     },
     "execution_count": 244,
     "metadata": {},
     "output_type": "execute_result"
    }
   ],
   "source": [
    "jnp.array(b.RENDERER.meshes[0].faces)"
   ]
  },
  {
   "cell_type": "code",
   "execution_count": 188,
   "id": "87423a9b-1188-4d5b-a6db-4bf35d199a66",
   "metadata": {},
   "outputs": [],
   "source": [
    "x=1.0\n",
    "n=0.01\n",
    "f=5.0\n",
    "proj = np.array([[n/x,    0,            0,              0],\n",
    "                 [  0,  n/x,            0,              0],\n",
    "                 [  0,    0, -(f+n)/(f-n), -(2*f*n)/(f-n)],\n",
    "                 [  0,    0,           -1,              0]])\n",
    "new_cloud = b.apply_transform_jit(-cloud, proj.T)\n",
    "b.show_cloud(\"2\",new_cloud,color=b.RED)"
   ]
  },
  {
   "cell_type": "code",
   "execution_count": 176,
   "id": "1eb80088-92ef-41cb-977c-fca4f7c6b9c5",
   "metadata": {},
   "outputs": [
    {
     "data": {
      "text/plain": [
       "Array([[-0.95102   , -1.2059    ,  2.0390978 ],\n",
       "       [-0.99634004, -0.1163    ,  1.9018998 ],\n",
       "       [-0.6018    , -1.7190801 ,  1.860921  ],\n",
       "       ...,\n",
       "       [ 0.19620001,  1.60904   ,  2.1003904 ],\n",
       "       [ 0.15991999,  1.69726   ,  2.0792334 ],\n",
       "       [ 0.21302   ,  1.6625    ,  2.088186  ]], dtype=float32)"
      ]
     },
     "execution_count": 176,
     "metadata": {},
     "output_type": "execute_result"
    }
   ],
   "source": [
    "new_cloud"
   ]
  },
  {
   "cell_type": "code",
   "execution_count": null,
   "id": "9f706fe7-c3a8-445b-ad18-048277c71ec9",
   "metadata": {},
   "outputs": [],
   "source": []
  }
 ],
 "metadata": {
  "kernelspec": {
   "display_name": "Python 3 (ipykernel)",
   "language": "python",
   "name": "python3"
  },
  "language_info": {
   "codemirror_mode": {
    "name": "ipython",
    "version": 3
   },
   "file_extension": ".py",
   "mimetype": "text/x-python",
   "name": "python",
   "nbconvert_exporter": "python",
   "pygments_lexer": "ipython3",
   "version": "3.9.18"
  }
 },
 "nbformat": 4,
 "nbformat_minor": 5
}
