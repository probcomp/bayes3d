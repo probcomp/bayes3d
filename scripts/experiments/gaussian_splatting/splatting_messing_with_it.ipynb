{
 "cells": [
  {
   "cell_type": "code",
   "execution_count": 1,
   "metadata": {},
   "outputs": [
    {
     "data": {
      "text/plain": [
       "device(type='cuda')"
      ]
     },
     "execution_count": 1,
     "metadata": {},
     "output_type": "execute_result"
    }
   ],
   "source": [
    "import diff_gaussian_rasterization as dgr\n",
    "from diff_gaussian_rasterization import GaussianRasterizationSettings, GaussianRasterizer\n",
    "import torch\n",
    "import os\n",
    "import numpy as np\n",
    "import matplotlib.pyplot as plt\n",
    "import math\n",
    "from tqdm import tqdm\n",
    "import bayes3d as b\n",
    "import jax.numpy as jnp\n",
    "from random import randint\n",
    "import pytorch3d.transforms\n",
    "import matplotlib.pyplot as plt\n",
    "from tqdm import tqdm\n",
    "device = torch.device(\"cuda\" if torch.cuda.is_available() else \"cpu\")\n",
    "device\n"
   ]
  },
  {
   "cell_type": "code",
   "execution_count": 2,
   "metadata": {},
   "outputs": [
    {
     "name": "stdout",
     "output_type": "stream",
     "text": [
      "You can open the visualizer by visiting the following URL:\n",
      "http://127.0.0.1:7003/static/\n"
     ]
    }
   ],
   "source": [
    "b.setup_visualizer()"
   ]
  },
  {
   "cell_type": "code",
   "execution_count": 3,
   "metadata": {},
   "outputs": [
    {
     "name": "stdout",
     "output_type": "stream",
     "text": [
      "Increasing frame buffer size to (width, height, depth) = (128, 128, 1024)\n"
     ]
    },
    {
     "name": "stderr",
     "output_type": "stream",
     "text": [
      "[E rasterize_gl.cpp:121] OpenGL version reported as 4.6\n"
     ]
    }
   ],
   "source": [
    "intrinsics = b.Intrinsics(\n",
    "    height=100,\n",
    "    width=100,\n",
    "    fx=250.0, fy=250.0,\n",
    "    cx=50.0, cy=50.0,\n",
    "    near=0.01, far=2.5\n",
    ")\n",
    "b.setup_renderer(intrinsics)"
   ]
  },
  {
   "cell_type": "code",
   "execution_count": 4,
   "metadata": {},
   "outputs": [],
   "source": [
    "model_dir = os.path.join(b.utils.get_assets_dir(),\"bop/ycbv/models\")\n",
    "mesh_path = os.path.join(model_dir,\"obj_\" + \"{}\".format(14).rjust(6, '0') + \".ply\")\n",
    "mesh = b.utils.load_mesh(mesh_path)\n",
    "mesh = b.utils.scale_mesh(mesh, 1.0/1000.0)\n",
    "b.RENDERER.add_mesh(mesh)\n",
    "vertices = torch.tensor(np.array(jnp.array(mesh.vertices)),device=device)"
   ]
  },
  {
   "cell_type": "code",
   "execution_count": 26,
   "metadata": {},
   "outputs": [
    {
     "data": {
      "text/plain": [
       "torch.Size([16762, 3])"
      ]
     },
     "execution_count": 26,
     "metadata": {},
     "output_type": "execute_result"
    }
   ],
   "source": [
    "vertices.shape"
   ]
  },
  {
   "cell_type": "code",
   "execution_count": 6,
   "metadata": {},
   "outputs": [
    {
     "name": "stderr",
     "output_type": "stream",
     "text": [
      "/var/tmp/ipykernel_366687/3159514181.py:26: UserWarning: To copy construct from a tensor, it is recommended to use sourceTensor.clone().detach() or sourceTensor.clone().detach().requires_grad_(True), rather than torch.tensor(sourceTensor).\n",
      "  proj_matrix = torch.tensor(getProjectionMatrix(intrinsics), device=device)\n",
      "/var/tmp/ipykernel_366687/3159514181.py:89: UserWarning: To copy construct from a tensor, it is recommended to use sourceTensor.clone().detach() or sourceTensor.clone().detach().requires_grad_(True), rather than torch.tensor(sourceTensor).\n",
      "  gt_quat =  torch.tensor(torch.rand(4,device=device) - 0.5,device=device)\n",
      "/var/tmp/ipykernel_366687/3159514181.py:73: UserWarning: To copy construct from a tensor, it is recommended to use sourceTensor.clone().detach() or sourceTensor.clone().detach().requires_grad_(True), rather than torch.tensor(sourceTensor).\n",
      "  scales = torch.tensor( 0.005 * torch.rand((N, 3)),requires_grad=True,device=device)\n"
     ]
    },
    {
     "data": {
      "image/png": "[encoded data removed]",
      "text/plain": [
       "<PIL.Image.Image image mode=RGB size=100x100>"
      ]
     },
     "execution_count": 6,
     "metadata": {},
     "output_type": "execute_result"
    }
   ],
   "source": [
    "fovX = jnp.arctan(intrinsics.width / 2 / intrinsics.fx) * 2\n",
    "fovY = jnp.arctan(intrinsics.height / 2 / intrinsics.fy) * 2\n",
    "tan_fovx = math.tan(fovX)\n",
    "tan_fovy = math.tan(fovY)\n",
    "\n",
    "\n",
    "def getProjectionMatrix(intrinsics):\n",
    "    top = intrinsics.near / intrinsics.fy * intrinsics.height / 2.0\n",
    "    bottom = -top\n",
    "    right = intrinsics.near / intrinsics.fy * intrinsics.height / 2.0\n",
    "    left = -right\n",
    "\n",
    "    P = torch.zeros(4, 4)\n",
    "\n",
    "    z_sign = 1.0\n",
    "\n",
    "    P[0, 0] = 2.0 * intrinsics.near / (right - left)\n",
    "    P[1, 1] = 2.0 * intrinsics.near / (top - bottom)\n",
    "    P[0, 2] = (right + left) / (right - left)\n",
    "    P[1, 2] = (top + bottom) / (top - bottom)\n",
    "    P[2, 2] = z_sign * (intrinsics.far + intrinsics.near) / (intrinsics.far - intrinsics.near)\n",
    "    P[2, 3] = -2.0 * (intrinsics.far * intrinsics.near) / (intrinsics.far - intrinsics.near)\n",
    "    P[3, 2] = z_sign\n",
    "    return torch.transpose(P, 0, 1)\n",
    "\n",
    "proj_matrix = torch.tensor(getProjectionMatrix(intrinsics), device=device)\n",
    "\n",
    "def posevec_to_matrix(position, quat):\n",
    "    return torch.cat(\n",
    "        (\n",
    "            torch.cat((pytorch3d.transforms.quaternion_to_matrix(quat), position.unsqueeze(1)), 1),\n",
    "            torch.tensor([[0.0, 0.0, 0.0, 1.0]],device=device),\n",
    "        ),\n",
    "        0,\n",
    "    )\n",
    "def apply_transform(points, transform):\n",
    "    rels_ = torch.cat(\n",
    "        (\n",
    "            points,\n",
    "            torch.ones((points.shape[0], 1),  device=device),\n",
    "        ),\n",
    "        1,\n",
    "    )\n",
    "    return torch.einsum(\"ij, aj -> ai\", transform, rels_)[...,:3]\n",
    "\n",
    "position = torch.tensor([0.0, 0.1, 0.2], device=device)\n",
    "quat = torch.tensor([1.0, 0.1, 0.2, 0.3],device=device)\n",
    "\n",
    "camera_pose = jnp.eye(4)\n",
    "view_matrix = torch.transpose(torch.tensor(np.array(b.inverse_pose(camera_pose))),0,1).cuda()\n",
    "raster_settings = GaussianRasterizationSettings(\n",
    "    image_height=int(intrinsics.height),\n",
    "    image_width=int(intrinsics.width),\n",
    "    tanfovx=tan_fovx,\n",
    "    tanfovy=tan_fovy,\n",
    "    bg=torch.tensor([intrinsics.far, intrinsics.far, intrinsics.far]).cuda(),\n",
    "    scale_modifier=1.0,\n",
    "    viewmatrix=view_matrix,\n",
    "    projmatrix=view_matrix @ proj_matrix,\n",
    "    sh_degree=1,\n",
    "    campos=torch.zeros(3).cuda(),\n",
    "    prefiltered=False,\n",
    "    debug=None\n",
    ")\n",
    "rasterizer = GaussianRasterizer(raster_settings=raster_settings)\n",
    "\n",
    "\n",
    "def render(pose, in_color):\n",
    "    means3D = apply_transform(vertices, pose)\n",
    "    N = means3D.shape[0]\n",
    "    means2D = torch.ones((N, 3),requires_grad=True, device=device)\n",
    "    opacity = torch.rand((N, 1),requires_grad=True,device=device)\n",
    "    scales = torch.tensor( 0.005 * torch.rand((N, 3)),requires_grad=True,device=device)\n",
    "    rotations = torch.rand((N, 4),requires_grad=True,device=device)\n",
    "\n",
    "    data = rasterizer(\n",
    "        means3D = means3D,\n",
    "        means2D = means2D,\n",
    "        shs = None,\n",
    "        colors_precomp = means3D[:,2:3],\n",
    "        opacities = opacity,\n",
    "        scales = scales,\n",
    "        rotations = rotations,\n",
    "        in_color=in_color\n",
    "    )\n",
    "    return data\n",
    "\n",
    "gt_pos = torch.tensor([0.0, 0.0, 0.5],device=device)\n",
    "gt_quat =  torch.tensor(torch.rand(4,device=device) - 0.5,device=device)\n",
    "gt_pose = posevec_to_matrix(gt_pos, gt_quat)\n",
    "gt_color, likelihood, radii =  render(gt_pose, torch.zeros((1, int(intrinsics.height), int(intrinsics.width)),device=device))\n",
    "viz_gt = b.get_depth_image(gt_color.detach().cpu().numpy()[0,...])\n",
    "viz_gt"
   ]
  },
  {
   "cell_type": "code",
   "execution_count": null,
   "metadata": {},
   "outputs": [],
   "source": []
  },
  {
   "cell_type": "code",
   "execution_count": 15,
   "metadata": {},
   "outputs": [
    {
     "data": {
      "image/png": "[encoded data removed]",
      "text/plain": [
       "<PIL.Image.Image image mode=RGB size=100x100>"
      ]
     },
     "execution_count": 15,
     "metadata": {},
     "output_type": "execute_result"
    }
   ],
   "source": [
    "gt_pose_jnp =jnp.array(gt_pose.detach().cpu().numpy())\n",
    "img = b.RENDERER.render(gt_pose_jnp[None,...], jnp.array([0]))\n",
    "gt_color = torch.tensor(np.array(img[:,:,2]), device=device)\n",
    "\n",
    "viz_gt = b.get_depth_image(gt_color.detach().cpu().numpy())\n",
    "viz_gt"
   ]
  },
  {
   "cell_type": "code",
   "execution_count": 14,
   "metadata": {},
   "outputs": [],
   "source": [
    "b.clear()\n",
    "gt_color_jnp = jnp.array(gt_color.detach().cpu().numpy()[0,...])\n",
    "b.show_cloud(\"1\", b.unproject_depth_jit(gt_color_jnp,intrinsics).reshape(-1,3))\n",
    "b.show_cloud(\"2\", b.unproject_depth_jit(img[...,2],intrinsics).reshape(-1,3), color=b.RED)"
   ]
  },
  {
   "cell_type": "code",
   "execution_count": 51,
   "metadata": {},
   "outputs": [],
   "source": [
    "b.show_trimesh(\"1\",mesh)\n",
    "b.set_pose(\"1\", gt_pose_jnp)"
   ]
  },
  {
   "cell_type": "code",
   "execution_count": null,
   "metadata": {},
   "outputs": [],
   "source": []
  },
  {
   "cell_type": "code",
   "execution_count": 22,
   "metadata": {},
   "outputs": [
    {
     "name": "stderr",
     "output_type": "stream",
     "text": [
      "/var/tmp/ipykernel_366687/1924790481.py:4: UserWarning: To copy construct from a tensor, it is recommended to use sourceTensor.clone().detach() or sourceTensor.clone().detach().requires_grad_(True), rather than torch.tensor(sourceTensor).\n",
      "  pos = torch.tensor(gt_pos ,device=device, requires_grad=True)\n",
      "/var/tmp/ipykernel_366687/1924790481.py:5: UserWarning: To copy construct from a tensor, it is recommended to use sourceTensor.clone().detach() or sourceTensor.clone().detach().requires_grad_(True), rather than torch.tensor(sourceTensor).\n",
      "  quat =  torch.tensor(gt_quat ,device=device, requires_grad=True)\n",
      "  0%|          | 0/100 [00:00<?, ?it/s]/var/tmp/ipykernel_366687/3159514181.py:73: UserWarning: To copy construct from a tensor, it is recommended to use sourceTensor.clone().detach() or sourceTensor.clone().detach().requires_grad_(True), rather than torch.tensor(sourceTensor).\n",
      "  scales = torch.tensor( 0.005 * torch.rand((N, 3)),requires_grad=True,device=device)\n",
      "0.1059095710515976:   0%|          | 0/100 [00:00<?, ?it/s] "
     ]
    },
    {
     "name": "stderr",
     "output_type": "stream",
     "text": [
      "0.10629859566688538:  11%|█         | 11/100 [00:00<00:00, 100.99it/s]"
     ]
    },
    {
     "name": "stdout",
     "output_type": "stream",
     "text": [
      "tensor(0.1299, device='cuda:0', grad_fn=<MeanBackward0>)\n",
      "tensor(0.1869, device='cuda:0', grad_fn=<MeanBackward0>)\n",
      "tensor(0.0974, device='cuda:0', grad_fn=<MeanBackward0>)\n",
      "tensor(0.1059, device='cuda:0', grad_fn=<MeanBackward0>)\n",
      "tensor(0.1433, device='cuda:0', grad_fn=<MeanBackward0>)\n",
      "tensor(0.1302, device='cuda:0', grad_fn=<MeanBackward0>)\n",
      "tensor(0.0997, device='cuda:0', grad_fn=<MeanBackward0>)\n",
      "tensor(0.1016, device='cuda:0', grad_fn=<MeanBackward0>)\n",
      "tensor(0.1119, device='cuda:0', grad_fn=<MeanBackward0>)\n",
      "tensor(0.1324, device='cuda:0', grad_fn=<MeanBackward0>)\n",
      "tensor(0.1252, device='cuda:0', grad_fn=<MeanBackward0>)\n",
      "tensor(0.1082, device='cuda:0', grad_fn=<MeanBackward0>)\n",
      "tensor(0.1085, device='cuda:0', grad_fn=<MeanBackward0>)\n",
      "tensor(0.1121, device='cuda:0', grad_fn=<MeanBackward0>)\n",
      "tensor(0.1155, device='cuda:0', grad_fn=<MeanBackward0>)\n",
      "tensor(0.1169, device='cuda:0', grad_fn=<MeanBackward0>)\n",
      "tensor(0.1153, device='cuda:0', grad_fn=<MeanBackward0>)\n",
      "tensor(0.1063, device='cuda:0', grad_fn=<MeanBackward0>)\n"
     ]
    },
    {
     "name": "stderr",
     "output_type": "stream",
     "text": [
      "0.06752968579530716:  34%|███▍      | 34/100 [00:00<00:00, 98.12it/s] "
     ]
    },
    {
     "name": "stdout",
     "output_type": "stream",
     "text": [
      "tensor(0.1044, device='cuda:0', grad_fn=<MeanBackward0>)\n",
      "tensor(0.0989, device='cuda:0', grad_fn=<MeanBackward0>)\n",
      "tensor(0.0953, device='cuda:0', grad_fn=<MeanBackward0>)\n",
      "tensor(0.0896, device='cuda:0', grad_fn=<MeanBackward0>)\n",
      "tensor(0.0914, device='cuda:0', grad_fn=<MeanBackward0>)\n",
      "tensor(0.0861, device='cuda:0', grad_fn=<MeanBackward0>)\n",
      "tensor(0.0757, device='cuda:0', grad_fn=<MeanBackward0>)\n",
      "tensor(0.0806, device='cuda:0', grad_fn=<MeanBackward0>)\n",
      "tensor(0.0735, device='cuda:0', grad_fn=<MeanBackward0>)\n",
      "tensor(0.0737, device='cuda:0', grad_fn=<MeanBackward0>)\n",
      "tensor(0.0737, device='cuda:0', grad_fn=<MeanBackward0>)\n",
      "tensor(0.0665, device='cuda:0', grad_fn=<MeanBackward0>)\n",
      "tensor(0.0686, device='cuda:0', grad_fn=<MeanBackward0>)\n",
      "tensor(0.0637, device='cuda:0', grad_fn=<MeanBackward0>)\n",
      "tensor(0.0639, device='cuda:0', grad_fn=<MeanBackward0>)\n",
      "tensor(0.0652, device='cuda:0', grad_fn=<MeanBackward0>)\n",
      "tensor(0.0643, device='cuda:0', grad_fn=<MeanBackward0>)\n",
      "tensor(0.0666, device='cuda:0', grad_fn=<MeanBackward0>)\n",
      "tensor(0.0738, device='cuda:0', grad_fn=<MeanBackward0>)\n",
      "tensor(0.0675, device='cuda:0', grad_fn=<MeanBackward0>)\n",
      "tensor(0.0628, device='cuda:0', grad_fn=<MeanBackward0>)\n"
     ]
    },
    {
     "name": "stderr",
     "output_type": "stream",
     "text": [
      "0.05946268141269684:  54%|█████▍    | 54/100 [00:00<00:00, 92.25it/s]"
     ]
    },
    {
     "name": "stdout",
     "output_type": "stream",
     "text": [
      "tensor(0.0724, device='cuda:0', grad_fn=<MeanBackward0>)\n",
      "tensor(0.0643, device='cuda:0', grad_fn=<MeanBackward0>)\n",
      "tensor(0.0657, device='cuda:0', grad_fn=<MeanBackward0>)\n",
      "tensor(0.0707, device='cuda:0', grad_fn=<MeanBackward0>)\n",
      "tensor(0.0688, device='cuda:0', grad_fn=<MeanBackward0>)\n",
      "tensor(0.0644, device='cuda:0', grad_fn=<MeanBackward0>)\n",
      "tensor(0.0634, device='cuda:0', grad_fn=<MeanBackward0>)\n",
      "tensor(0.0664, device='cuda:0', grad_fn=<MeanBackward0>)\n",
      "tensor(0.0702, device='cuda:0', grad_fn=<MeanBackward0>)\n",
      "tensor(0.0706, device='cuda:0', grad_fn=<MeanBackward0>)\n",
      "tensor(0.0699, device='cuda:0', grad_fn=<MeanBackward0>)\n",
      "tensor(0.0722, device='cuda:0', grad_fn=<MeanBackward0>)\n",
      "tensor(0.0661, device='cuda:0', grad_fn=<MeanBackward0>)\n",
      "tensor(0.0632, device='cuda:0', grad_fn=<MeanBackward0>)\n",
      "tensor(0.0685, device='cuda:0', grad_fn=<MeanBackward0>)\n",
      "tensor(0.0712, device='cuda:0', grad_fn=<MeanBackward0>)\n",
      "tensor(0.0647, device='cuda:0', grad_fn=<MeanBackward0>)\n",
      "tensor(0.0595, device='cuda:0', grad_fn=<MeanBackward0>)\n"
     ]
    },
    {
     "name": "stderr",
     "output_type": "stream",
     "text": [
      "0.061479467898607254:  64%|██████▍   | 64/100 [00:00<00:00, 79.75it/s]"
     ]
    },
    {
     "name": "stdout",
     "output_type": "stream",
     "text": [
      "tensor(0.0687, device='cuda:0', grad_fn=<MeanBackward0>)\n",
      "tensor(0.0691, device='cuda:0', grad_fn=<MeanBackward0>)\n",
      "tensor(0.0654, device='cuda:0', grad_fn=<MeanBackward0>)\n",
      "tensor(0.0688, device='cuda:0', grad_fn=<MeanBackward0>)\n",
      "tensor(0.0670, device='cuda:0', grad_fn=<MeanBackward0>)\n",
      "tensor(0.0666, device='cuda:0', grad_fn=<MeanBackward0>)\n",
      "tensor(0.0734, device='cuda:0', grad_fn=<MeanBackward0>)\n",
      "tensor(0.0709, device='cuda:0', grad_fn=<MeanBackward0>)\n",
      "tensor(0.0747, device='cuda:0', grad_fn=<MeanBackward0>)\n",
      "tensor(0.0689, device='cuda:0', grad_fn=<MeanBackward0>)\n",
      "tensor(0.0727, device='cuda:0', grad_fn=<MeanBackward0>)\n",
      "tensor(0.0694, device='cuda:0', grad_fn=<MeanBackward0>)\n",
      "tensor(0.0615, device='cuda:0', grad_fn=<MeanBackward0>)\n"
     ]
    },
    {
     "name": "stderr",
     "output_type": "stream",
     "text": [
      "0.06789098680019379:  87%|████████▋ | 87/100 [00:01<00:00, 90.66it/s] "
     ]
    },
    {
     "name": "stdout",
     "output_type": "stream",
     "text": [
      "tensor(0.0797, device='cuda:0', grad_fn=<MeanBackward0>)\n",
      "tensor(0.0705, device='cuda:0', grad_fn=<MeanBackward0>)\n",
      "tensor(0.0691, device='cuda:0', grad_fn=<MeanBackward0>)\n",
      "tensor(0.0674, device='cuda:0', grad_fn=<MeanBackward0>)\n",
      "tensor(0.0654, device='cuda:0', grad_fn=<MeanBackward0>)\n",
      "tensor(0.0608, device='cuda:0', grad_fn=<MeanBackward0>)\n",
      "tensor(0.0580, device='cuda:0', grad_fn=<MeanBackward0>)\n",
      "tensor(0.0585, device='cuda:0', grad_fn=<MeanBackward0>)\n",
      "tensor(0.0665, device='cuda:0', grad_fn=<MeanBackward0>)\n",
      "tensor(0.0653, device='cuda:0', grad_fn=<MeanBackward0>)\n",
      "tensor(0.0649, device='cuda:0', grad_fn=<MeanBackward0>)\n",
      "tensor(0.0670, device='cuda:0', grad_fn=<MeanBackward0>)\n",
      "tensor(0.0637, device='cuda:0', grad_fn=<MeanBackward0>)\n",
      "tensor(0.0661, device='cuda:0', grad_fn=<MeanBackward0>)\n",
      "tensor(0.0687, device='cuda:0', grad_fn=<MeanBackward0>)\n",
      "tensor(0.0684, device='cuda:0', grad_fn=<MeanBackward0>)\n",
      "tensor(0.0690, device='cuda:0', grad_fn=<MeanBackward0>)\n",
      "tensor(0.0655, device='cuda:0', grad_fn=<MeanBackward0>)\n",
      "tensor(0.0594, device='cuda:0', grad_fn=<MeanBackward0>)\n",
      "tensor(0.0600, device='cuda:0', grad_fn=<MeanBackward0>)\n",
      "tensor(0.0674, device='cuda:0', grad_fn=<MeanBackward0>)\n",
      "tensor(0.0609, device='cuda:0', grad_fn=<MeanBackward0>)\n",
      "tensor(0.0607, device='cuda:0', grad_fn=<MeanBackward0>)\n",
      "tensor(0.0604, device='cuda:0', grad_fn=<MeanBackward0>)\n",
      "tensor(0.0679, device='cuda:0', grad_fn=<MeanBackward0>)\n",
      "tensor(0.0647, device='cuda:0', grad_fn=<MeanBackward0>)\n"
     ]
    },
    {
     "name": "stderr",
     "output_type": "stream",
     "text": [
      "0.06520310044288635: 100%|██████████| 100/100 [00:01<00:00, 92.31it/s] \n"
     ]
    },
    {
     "name": "stdout",
     "output_type": "stream",
     "text": [
      "tensor(0.0690, device='cuda:0', grad_fn=<MeanBackward0>)\n",
      "tensor(0.0698, device='cuda:0', grad_fn=<MeanBackward0>)\n",
      "tensor(0.0680, device='cuda:0', grad_fn=<MeanBackward0>)\n",
      "tensor(0.0652, device='cuda:0', grad_fn=<MeanBackward0>)\n"
     ]
    },
    {
     "data": {
      "image/png": "[encoded data removed]",
      "text/plain": [
       "<PIL.Image.Image image mode=RGB size=210x100>"
      ]
     },
     "execution_count": 22,
     "metadata": {},
     "output_type": "execute_result"
    }
   ],
   "source": [
    "# pos = torch.tensor([0.0, 0.0, 1.9],device=device, requires_grad=True)\n",
    "# quat =  torch.tensor(torch.rand(4,device=device) - 0.5,device=device, requires_grad=True)\n",
    "\n",
    "pos = torch.tensor(gt_pos ,device=device, requires_grad=True)\n",
    "quat =  torch.tensor(gt_quat ,device=device, requires_grad=True)\n",
    "\n",
    "pose = posevec_to_matrix(pos, quat)\n",
    "optimizer = torch.optim.Adam([\n",
    "    {'params': [pos], 'lr': 0.01, \"name\": \"pos\"},\n",
    "    {'params': [quat], 'lr': 0.01, \"name\": \"quat\"},\n",
    "], lr=0.0, eps=1e-15)\n",
    "b.clear()\n",
    "b.show_pose(\"1\", gt_pose.detach().cpu().numpy())\n",
    "b.show_pose(\"2\", pose.detach().cpu().numpy())\n",
    "\n",
    "gt_color=gt_color.detach()\n",
    "pbar = tqdm(range(100))\n",
    "for _ in pbar:\n",
    "    # print(pos,quat)\n",
    "    pose = posevec_to_matrix(pos, quat)\n",
    "    rendered_image, likelihood, radii =  render(pose, gt_color)\n",
    "    loss = torch.abs(gt_color - rendered_image).mean()\n",
    "    optimizer.zero_grad()\n",
    "    loss.backward()\n",
    "    print(loss)\n",
    "    optimizer.step()\n",
    "    # parameters_over_time.append((pos.detach().clone(),quat.detach().clone()))\n",
    "    # losses_over_time.append(loss.item())\n",
    "    pbar.set_description(f\"{loss.item()}\")\n",
    "\n",
    "b.clear()\n",
    "b.show_pose(\"1\", gt_pose.detach().cpu().numpy())\n",
    "b.show_pose(\"2\", pose.detach().cpu().numpy())\n",
    "viz = b.get_depth_image(rendered_image.detach().cpu().numpy()[0,...])\n",
    "b.hstack_images([viz, viz_gt])"
   ]
  },
  {
   "cell_type": "code",
   "execution_count": 24,
   "metadata": {},
   "outputs": [],
   "source": [
    "b.clear()\n",
    "b.show_cloud(\"1\", b.unproject_depth_jit(rendered_image[0,...].detach().cpu().numpy(),intrinsics).reshape(-1,3))\n",
    "b.show_cloud(\"2\", b.unproject_depth_jit(gt_color.detach().cpu().numpy(),intrinsics).reshape(-1,3), color=b.RED)"
   ]
  },
  {
   "cell_type": "code",
   "execution_count": 76,
   "metadata": {},
   "outputs": [],
   "source": [
    "b.clear()\n",
    "b.show_pose(\"1\", gt_pose.detach().cpu().numpy())\n",
    "b.show_pose(\"2\", pose.detach().cpu().numpy())\n",
    "# b.show_pose(\"2\", b.unproject_depth_jit(img[...,2],intrinsics).reshape(-1,3), color=b.RED)"
   ]
  },
  {
   "cell_type": "code",
   "execution_count": 54,
   "metadata": {},
   "outputs": [
    {
     "name": "stdout",
     "output_type": "stream",
     "text": [
      "tensor(2.0167, device='cuda:0', grad_fn=<MaxBackward1>)\n"
     ]
    },
    {
     "data": {
      "text/plain": [
       "<matplotlib.colorbar.Colorbar at 0x7f18c24effd0>"
      ]
     },
     "execution_count": 54,
     "metadata": {},
     "output_type": "execute_result"
    },
    {
     "data": {
      "image/png": "[encoded data removed]",
      "text/plain": [
       "<Figure size 640x480 with 4 Axes>"
      ]
     },
     "metadata": {},
     "output_type": "display_data"
    }
   ],
   "source": [
    "print(likelihood.max())\n",
    "plt.figure()\n",
    "ax = plt.subplot(1, 2, 1)\n",
    "plt.imshow((gt_color - rendered_image).detach().cpu().numpy()[0])\n",
    "plt.colorbar()\n",
    "ax = plt.subplot(1, 2, 2)\n",
    "plt.imshow((likelihood).detach().cpu().numpy()[0])\n",
    "plt.colorbar()"
   ]
  },
  {
   "cell_type": "code",
   "execution_count": 2,
   "metadata": {},
   "outputs": [
    {
     "data": {
      "text/plain": [
       "torch.Size([3, 100, 100])"
      ]
     },
     "execution_count": 2,
     "metadata": {},
     "output_type": "execute_result"
    }
   ],
   "source": [
    "color.shape"
   ]
  },
  {
   "cell_type": "code",
   "execution_count": null,
   "metadata": {},
   "outputs": [],
   "source": []
  },
  {
   "cell_type": "code",
   "execution_count": null,
   "metadata": {},
   "outputs": [],
   "source": []
  },
  {
   "cell_type": "code",
   "execution_count": null,
   "metadata": {},
   "outputs": [],
   "source": [
    "T = 0\n",
    "fig = plt.figure(figsize=(6,6))\n",
    "ax = fig.add_subplot(2,2,1)\n",
    "ax.set_title(\"Target\")\n",
    "gt_image = np.moveaxis(gt_rendered_image.detach().cpu().numpy(),0,-1)[...,2]\n",
    "img1 = ax.imshow(b.preprocess_for_viz(gt_image),cmap=b.cmap)\n",
    "ax = fig.add_subplot(2,2,2)\n",
    "parameters = parameters_over_time[T]\n",
    "rendered_image = render(*parameters)\n",
    "rendered_image = np.moveaxis(rendered_image.detach().cpu().numpy(),0,-1)[...,2]\n",
    "img2 = ax.imshow(b.preprocess_for_viz(rendered_image),cmap=b.cmap)\n",
    "title = ax.set_title(f\"Reconstruction\")\n",
    "ax = fig.add_subplot(2,1,2)\n",
    "line = ax.plot(jnp.arange(T), losses_over_time[:T])\n",
    "# ax.set_yscale(\"log\")\n",
    "ax.set_title(\"Pixelwise MSE Loss\")\n",
    "# ax.set_ylim(0.01, 1000.0)\n",
    "ax.set_xlabel(\"Iteration\")\n",
    "ax.set_xlim(0,len(losses_over_time))\n",
    "fig.tight_layout()\n",
    "\n",
    "buffs = []\n",
    "for T in tqdm(range(0,len(losses_over_time),3)):\n",
    "    parameters = parameters_over_time[T]\n",
    "    rendered_image = render(*parameters)\n",
    "    rendered_image = np.moveaxis(rendered_image.detach().cpu().numpy(),0,-1)[...,2]\n",
    "    img2.set_array(b.preprocess_for_viz(rendered_image))\n",
    "    line[0].set_xdata(jnp.arange(T))\n",
    "    line[0].set_ydata(losses_over_time[:T])\n",
    "    fig.canvas.draw()\n",
    "    buffs.append(b.pil_image_from_matplotlib(fig))\n",
    "buffs[-1]"
   ]
  },
  {
   "cell_type": "code",
   "execution_count": null,
   "metadata": {},
   "outputs": [],
   "source": [
    "b.make_gif_from_pil_images(buffs, \"optimization.gif\")"
   ]
  },
  {
   "cell_type": "code",
   "execution_count": null,
   "metadata": {},
   "outputs": [],
   "source": []
  },
  {
   "cell_type": "code",
   "execution_count": null,
   "metadata": {},
   "outputs": [],
   "source": []
  }
 ],
 "metadata": {
  "kernelspec": {
   "display_name": "bayes3d",
   "language": "python",
   "name": "python3"
  },
  "language_info": {
   "codemirror_mode": {
    "name": "ipython",
    "version": 3
   },
   "file_extension": ".py",
   "mimetype": "text/x-python",
   "name": "python",
   "nbconvert_exporter": "python",
   "pygments_lexer": "ipython3",
   "version": "3.9.18"
  }
 },
 "nbformat": 4,
 "nbformat_minor": 2
}
