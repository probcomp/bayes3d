{
 "cells": [
  {
   "cell_type": "code",
   "execution_count": 1,
   "id": "61fef143-f8d4-4078-9386-deeff2fd80c2",
   "metadata": {},
   "outputs": [
    {
     "data": {
      "text/plain": [
       "device(type='cuda')"
      ]
     },
     "execution_count": 1,
     "metadata": {},
     "output_type": "execute_result"
    }
   ],
   "source": [
    "import argparse\n",
    "import os\n",
    "import pathlib\n",
    "import sys\n",
    "import numpy as np\n",
    "import torch\n",
    "import imageio\n",
    "import bayes3d as b\n",
    "from tqdm import tqdm\n",
    "import jax.numpy as jnp\n",
    "import pytorch3d.transforms as t3d\n",
    "import nvdiffrast.torch as dr\n",
    "import diffdope as dd\n",
    "import pytorch3d.transforms\n",
    "import matplotlib.pyplot as plt\n",
    "device = torch.device(\"cuda\" if torch.cuda.is_available() else \"cpu\")\n",
    "device"
   ]
  },
  {
   "cell_type": "code",
   "execution_count": 2,
   "id": "d7fef414",
   "metadata": {},
   "outputs": [
    {
     "name": "stdout",
     "output_type": "stream",
     "text": [
      "You can open the visualizer by visiting the following URL:\n",
      "http://127.0.0.1:7000/static/\n"
     ]
    }
   ],
   "source": [
    "b.setup_visualizer()"
   ]
  },
  {
   "cell_type": "code",
   "execution_count": 3,
   "id": "9a17c219-e6ca-4a3b-a222-87078442decb",
   "metadata": {},
   "outputs": [],
   "source": [
    "max_iter           = 10000\n",
    "repeats            = 1\n",
    "log_interval       = 10\n",
    "display_interval   = None\n",
    "display_res        = 512\n",
    "lr_base            = 1e-3\n",
    "lr_falloff         = 1.0\n",
    "nr_base            = 1.0\n",
    "nr_falloff         = 1e-4\n",
    "grad_phase_start   = 0.5\n",
    "resolution         = [200,200]\n",
    "out_dir            = None\n",
    "log_fn             = None\n",
    "mp4save_interval   = None\n",
    "mp4save_fn         = None\n",
    "use_opengl         = False"
   ]
  },
  {
   "cell_type": "code",
   "execution_count": 4,
   "id": "86939b64",
   "metadata": {},
   "outputs": [],
   "source": [
    "glctx = dr.RasterizeGLContext() #if use_opengl else dr.RasterizeCudaContext()"
   ]
  },
  {
   "cell_type": "code",
   "execution_count": 1,
   "id": "10f8c10f",
   "metadata": {},
   "outputs": [
    {
     "ename": "NameError",
     "evalue": "name 'os' is not defined",
     "output_type": "error",
     "traceback": [
      "\u001b[0;31m---------------------------------------------------------------------------\u001b[0m",
      "\u001b[0;31mNameError\u001b[0m                                 Traceback (most recent call last)",
      "\u001b[1;32m/home/nishadgothoskar/bayes3d/scripts/experiments/gaussian_splatting/nvdiffrast_diff.ipynb Cell 5\u001b[0m line \u001b[0;36m1\n\u001b[0;32m----> <a href='vscode-notebook-cell://ssh-remote%2B34.70.144.22/home/nishadgothoskar/bayes3d/scripts/experiments/gaussian_splatting/nvdiffrast_diff.ipynb#W4sdnNjb2RlLXJlbW90ZQ%3D%3D?line=0'>1</a>\u001b[0m model_dir \u001b[39m=\u001b[39m os\u001b[39m.\u001b[39mpath\u001b[39m.\u001b[39mjoin(b\u001b[39m.\u001b[39mutils\u001b[39m.\u001b[39mget_assets_dir(),\u001b[39m\"\u001b[39m\u001b[39mbop/ycbv/models\u001b[39m\u001b[39m\"\u001b[39m)\n\u001b[1;32m      <a href='vscode-notebook-cell://ssh-remote%2B34.70.144.22/home/nishadgothoskar/bayes3d/scripts/experiments/gaussian_splatting/nvdiffrast_diff.ipynb#W4sdnNjb2RlLXJlbW90ZQ%3D%3D?line=1'>2</a>\u001b[0m idx \u001b[39m=\u001b[39m \u001b[39m14\u001b[39m\n\u001b[1;32m      <a href='vscode-notebook-cell://ssh-remote%2B34.70.144.22/home/nishadgothoskar/bayes3d/scripts/experiments/gaussian_splatting/nvdiffrast_diff.ipynb#W4sdnNjb2RlLXJlbW90ZQ%3D%3D?line=2'>3</a>\u001b[0m mesh_path \u001b[39m=\u001b[39m os\u001b[39m.\u001b[39mpath\u001b[39m.\u001b[39mjoin(model_dir,\u001b[39m\"\u001b[39m\u001b[39mobj_\u001b[39m\u001b[39m\"\u001b[39m \u001b[39m+\u001b[39m \u001b[39m\"\u001b[39m\u001b[39m{}\u001b[39;00m\u001b[39m\"\u001b[39m\u001b[39m.\u001b[39mformat(idx)\u001b[39m.\u001b[39mrjust(\u001b[39m6\u001b[39m, \u001b[39m'\u001b[39m\u001b[39m0\u001b[39m\u001b[39m'\u001b[39m) \u001b[39m+\u001b[39m \u001b[39m\"\u001b[39m\u001b[39m.ply\u001b[39m\u001b[39m\"\u001b[39m)\n",
      "\u001b[0;31mNameError\u001b[0m: name 'os' is not defined"
     ]
    }
   ],
   "source": [
    "model_dir = os.path.join(b.utils.get_assets_dir(),\"bop/ycbv/models\")\n",
    "idx = 14\n",
    "mesh_path = os.path.join(model_dir,\"obj_\" + \"{}\".format(idx).rjust(6, '0') + \".ply\")\n",
    "m = b.utils.load_mesh(mesh_path)\n",
    "m = b.utils.scale_mesh(m, 1.0/100.0)\n",
    "\n",
    "# m = b.utils.make_cuboid_mesh(jnp.array([0.5, 0.5, 0.2]))\n",
    "\n",
    "vtx_pos = torch.from_numpy(m.vertices.astype(np.float32)).cuda()\n",
    "pos_idx = torch.from_numpy(m.faces.astype(np.int32)).cuda()\n",
    "col_idx = torch.from_numpy(np.zeros((vtx_pos.shape[0],3)).astype(np.int32)).cuda()\n",
    "vtx_col = torch.from_numpy(np.ones((1,3)).astype(np.float32)).cuda()\n",
    "# print(\"Mesh has %d triangles and %d vertices.\" % (pos_idx.shape[0], pos.shape[0]))\n",
    "print(pos_idx.shape, vtx_pos.shape, col_idx.shape, vtx_col.shape)\n",
    "print(vtx_pos, vtx_col)"
   ]
  },
  {
   "cell_type": "code",
   "execution_count": 6,
   "id": "e436a149",
   "metadata": {},
   "outputs": [],
   "source": [
    "def posevec_to_matrix(position, quat):\n",
    "    return torch.cat(\n",
    "        (\n",
    "            torch.cat((pytorch3d.transforms.quaternion_to_matrix(quat), position.unsqueeze(1)), 1),\n",
    "            torch.tensor([[0.0, 0.0, 0.0, 1.0]],device=device),\n",
    "        ),\n",
    "        0,\n",
    "    )"
   ]
  },
  {
   "cell_type": "code",
   "execution_count": 7,
   "id": "e0c91d66",
   "metadata": {},
   "outputs": [
    {
     "data": {
      "text/plain": [
       "tensor([[ 2.0000,  0.0000,  0.0050,  0.0000],\n",
       "        [ 0.0000,  2.0000,  0.0050,  0.0000],\n",
       "        [ 0.0000,  0.0000,  0.9964, -0.0200],\n",
       "        [ 0.0000,  0.0000,  1.0000,  0.0000]], device='cuda:0')"
      ]
     },
     "execution_count": 7,
     "metadata": {},
     "output_type": "execute_result"
    }
   ],
   "source": [
    "intrinsics = b.Intrinsics(\n",
    "    height=200,\n",
    "    width=200,\n",
    "    fx=200.0, fy=200.0,\n",
    "    cx=100.0, cy=100.0,\n",
    "    near=0.01, far=5.5\n",
    ")\n",
    "\n",
    "mvp = torch.tensor(np.array(b.camera._open_gl_projection_matrix(\n",
    "    intrinsics.height, intrinsics.width, \n",
    "    intrinsics.fx, intrinsics.fy, \n",
    "    intrinsics.cx, intrinsics.cy, \n",
    "    intrinsics.near, intrinsics.far\n",
    ")), device=device)\n",
    "mvp"
   ]
  },
  {
   "cell_type": "code",
   "execution_count": 8,
   "id": "d5a52390",
   "metadata": {},
   "outputs": [],
   "source": [
    "def render(pos, quat):\n",
    "    mtx = posevec_to_matrix(pos, quat)\n",
    "    proj_cam = mvp\n",
    "    pos = vtx_pos[None,...]\n",
    "    posw = torch.cat([pos, torch.ones([pos.shape[0], pos.shape[1], 1]).cuda()], axis=2)\n",
    "\n",
    "    final_mtx_proj = torch.matmul(proj_cam, mtx)\n",
    "    pos_clip_ja = dd.xfm_points(pos.contiguous(), final_mtx_proj[None,...])\n",
    "    # pos_clip_ja    = torch.matmul(posw, torch.transpose(torch.matmul(proj_cam, mtx),1,0))\n",
    "    rast_out, rast_out_db = dr.rasterize(glctx, pos_clip_ja, pos_idx, resolution=resolution)\n",
    "\n",
    "    gb_pos, _ = dr.interpolate(posw, rast_out, pos_idx, rast_db=rast_out_db)\n",
    "    mask= rast_out[...,2] > 0\n",
    "    shape_keep = gb_pos.shape\n",
    "    gb_pos = gb_pos.reshape(shape_keep[0], -1, shape_keep[-1])\n",
    "    gb_pos = gb_pos[..., :3]\n",
    "\n",
    "    depth = dd.xfm_points(gb_pos.contiguous(), mtx[None,...])\n",
    "    depth = depth.reshape(shape_keep)[..., 2]\n",
    "    return depth, mask"
   ]
  },
  {
   "cell_type": "code",
   "execution_count": 52,
   "id": "4de75188",
   "metadata": {},
   "outputs": [
    {
     "name": "stderr",
     "output_type": "stream",
     "text": [
      "/var/tmp/ipykernel_250866/796895343.py:2: UserWarning: To copy construct from a tensor, it is recommended to use sourceTensor.clone().detach() or sourceTensor.clone().detach().requires_grad_(True), rather than torch.tensor(sourceTensor).\n",
      "  quat = torch.tensor(torch.rand(4,device=device) - 0.5,device=device)\n"
     ]
    },
    {
     "data": {
      "image/png": "[encoded data removed]",
      "text/plain": [
       "<PIL.Image.Image image mode=RGB size=410x200>"
      ]
     },
     "execution_count": 52,
     "metadata": {},
     "output_type": "execute_result"
    }
   ],
   "source": [
    "pos = torch.tensor([0.0, 0.0, 2.5],device=device)\n",
    "quat = torch.tensor(torch.rand(4,device=device) - 0.5,device=device)\n",
    "obs_depth, mask = render(pos, quat)\n",
    "viz_gt = b.get_depth_image(jnp.array(obs_depth[0].cpu().numpy()))\n",
    "mask_gt = b.get_depth_image(jnp.array(mask[0].cpu().numpy()) * 1.0,max=1.1)\n",
    "# print(depth[...,None])\n",
    "b.viz.hstack_images([viz_gt,mask_gt])"
   ]
  },
  {
   "cell_type": "code",
   "execution_count": 53,
   "id": "cb5c4cdf",
   "metadata": {},
   "outputs": [
    {
     "name": "stderr",
     "output_type": "stream",
     "text": [
      "/var/tmp/ipykernel_250866/3613549959.py:2: UserWarning: To copy construct from a tensor, it is recommended to use sourceTensor.clone().detach() or sourceTensor.clone().detach().requires_grad_(True), rather than torch.tensor(sourceTensor).\n",
      "  quat =  torch.tensor(torch.rand(4,device=device) - 0.5,device=device, requires_grad=True)\n"
     ]
    },
    {
     "data": {
      "image/png": "[encoded data removed]",
      "text/plain": [
       "<PIL.Image.Image image mode=RGB size=410x200>"
      ]
     },
     "execution_count": 53,
     "metadata": {},
     "output_type": "execute_result"
    }
   ],
   "source": [
    "pos = torch.tensor([0.0, 0.0,2.4],device=device, requires_grad=True)\n",
    "quat =  torch.tensor(torch.rand(4,device=device) - 0.5,device=device, requires_grad=True)\n",
    "rendered_image,_ = render(pos,quat)\n",
    "viz =  b.get_depth_image(jnp.array(rendered_image[0].detach().cpu().numpy()))\n",
    "b.hstack_images([viz, viz_gt])"
   ]
  },
  {
   "cell_type": "code",
   "execution_count": 60,
   "id": "dd9b2916",
   "metadata": {},
   "outputs": [
    {
     "name": "stdout",
     "output_type": "stream",
     "text": [
      "tensor([-0.1147, -0.0545,  0.6152, -0.0764], device='cuda:0',\n",
      "       requires_grad=True)\n"
     ]
    },
    {
     "name": "stderr",
     "output_type": "stream",
     "text": [
      "0.021300427615642548: 100%|██████████| 300/300 [00:01<00:00, 197.28it/s]\n"
     ]
    },
    {
     "data": {
      "image/png": "[encoded data removed]",
      "text/plain": [
       "<PIL.Image.Image image mode=RGB size=410x200>"
      ]
     },
     "execution_count": 60,
     "metadata": {},
     "output_type": "execute_result"
    }
   ],
   "source": [
    "optimizer = torch.optim.SGD([\n",
    "    {'params': [pos], 'lr': 0.01, \"name\": \"pos\"},\n",
    "    {'params': [quat], 'lr': 1.0, \"name\": \"quat\"},\n",
    "], lr=0.0)\n",
    "print(quat)\n",
    "\n",
    "pbar = tqdm(range(300))\n",
    "for _ in pbar:\n",
    "    rendered_image,mask2 = render(pos,quat)\n",
    "    loss = torch.abs((obs_depth - rendered_image) * mask).mean()\n",
    "    optimizer.zero_grad()\n",
    "    loss.backward()\n",
    "    optimizer.step()\n",
    "    pbar.set_description(f\"{loss.item()}\")\n",
    "viz =  b.get_depth_image(jnp.array(rendered_image[0].detach().cpu().numpy()))\n",
    "b.hstack_images([viz, viz_gt])"
   ]
  },
  {
   "cell_type": "code",
   "execution_count": 26,
   "id": "61171b62",
   "metadata": {},
   "outputs": [],
   "source": [
    "b.clear()\n",
    "depth_np = jnp.array(depth[0].detach().cpu().numpy())\n",
    "cloud = b.unproject_depth_jit(depth_np, intrinsics).reshape(-1,3)\n",
    "b.show_cloud(\"1\",cloud)\n",
    "\n",
    "b.show_trimesh(\"m\", m)\n",
    "b.set_pose(\"m\", jnp.array(mtx.cpu().numpy()))"
   ]
  },
  {
   "cell_type": "code",
   "execution_count": 18,
   "id": "06c7148b",
   "metadata": {},
   "outputs": [
    {
     "data": {
      "text/plain": [
       "Array([1.2375   , 1.2375   , 3.0237753], dtype=float32)"
      ]
     },
     "execution_count": 18,
     "metadata": {},
     "output_type": "execute_result"
    }
   ],
   "source": [
    "cloud.max(0)"
   ]
  },
  {
   "cell_type": "code",
   "execution_count": 116,
   "id": "6076129e",
   "metadata": {},
   "outputs": [
    {
     "data": {
      "text/plain": [
       "Array([[-0.45291662,  0.41978574,  0.78654087,  0.        ],\n",
       "       [-0.4266136 ,  0.6726148 , -0.60464054,  0.        ],\n",
       "       [-0.78285843, -0.60940075, -0.12555218,  2.5       ],\n",
       "       [ 0.        ,  0.        ,  0.        ,  1.        ]],      dtype=float32)"
      ]
     },
     "execution_count": 116,
     "metadata": {},
     "output_type": "execute_result"
    }
   ],
   "source": [
    "pose =  jnp.array(mtx.cpu().numpy())\n",
    "pose"
   ]
  },
  {
   "cell_type": "code",
   "execution_count": 5,
   "id": "4c9cf3a3",
   "metadata": {},
   "outputs": [
    {
     "name": "stderr",
     "output_type": "stream",
     "text": [
      "[E rasterize_gl.cpp:121] OpenGL version reported as 4.6\n"
     ]
    },
    {
     "name": "stdout",
     "output_type": "stream",
     "text": [
      "Increasing frame buffer size to (width, height, depth) = (224, 224, 1024)\n"
     ]
    }
   ],
   "source": [
    "import bayes3d as b\n",
    "import os\n",
    "import jax.numpy as jnp\n",
    "intrinsics = b.Intrinsics(\n",
    "    height=200,\n",
    "    width=200,\n",
    "    fx=200.0, fy=200.0,\n",
    "    cx=100.0, cy=100.0,\n",
    "    near=0.01, far=5.5\n",
    ")\n",
    "b.setup_renderer(intrinsics)\n",
    "model_dir = os.path.join(b.utils.get_assets_dir(),\"bop/ycbv/models\")\n",
    "idx = 14\n",
    "mesh_path = os.path.join(model_dir,\"obj_\" + \"{}\".format(idx).rjust(6, '0') + \".ply\")\n",
    "b.RENDERER.add_mesh_from_file(mesh_path, scaling_factor=1.0/1000.0)"
   ]
  },
  {
   "cell_type": "code",
   "execution_count": 8,
   "id": "0755e793",
   "metadata": {},
   "outputs": [
    {
     "data": {
      "image/png": "[encoded data removed]",
      "text/plain": [
       "<PIL.Image.Image image mode=RGB size=200x200>"
      ]
     },
     "execution_count": 8,
     "metadata": {},
     "output_type": "execute_result"
    }
   ],
   "source": [
    "pose = jnp.array(\n",
    "    [[-0.45291662,  0.41978574,  0.78654087,  0.        ],\n",
    "       [-0.4266136 ,  0.6726148 , -0.60464054,  0.        ],\n",
    "       [-0.78285843, -0.60940075, -0.12555218,  2.5       ],\n",
    "       [ 0.        ,  0.        ,  0.        ,  1.        ]]\n",
    ")\n",
    "img = b.RENDERER.render(pose[None,...], jnp.array([0]))\n",
    "b.get_depth_image(img[...,2])"
   ]
  },
  {
   "cell_type": "code",
   "execution_count": 106,
   "id": "0c3ca5b5",
   "metadata": {},
   "outputs": [
    {
     "name": "stdout",
     "output_type": "stream",
     "text": [
      "You can open the visualizer by visiting the following URL:\n",
      "http://127.0.0.1:7002/static/\n"
     ]
    }
   ],
   "source": [
    "b.setup_visualizer()"
   ]
  },
  {
   "cell_type": "code",
   "execution_count": null,
   "id": "6f9aa638",
   "metadata": {},
   "outputs": [],
   "source": []
  },
  {
   "cell_type": "code",
   "execution_count": 108,
   "id": "b74de5ea",
   "metadata": {},
   "outputs": [
    {
     "name": "stdout",
     "output_type": "stream",
     "text": [
      "Jupyter environment detected. Enabling Open3D WebVisualizer.\n",
      "[Open3D INFO] WebRTC GUI backend enabled.\n",
      "[Open3D INFO] WebRTCWindowSystem: HTTP handshake server disabled.\n",
      "[Open3D INFO] EGL headless mode enabled.\n",
      "FEngine (64 bits) created at 0x55f5230b5c40 (threading is enabled)\n",
      "EGL(1.5)\n",
      "OpenGL(4.1)\n"
     ]
    }
   ],
   "source": [
    "from bayes3d.viz.open3dviz import Open3DVisualizer\n",
    "visualizer = Open3DVisualizer(intrinsics)"
   ]
  },
  {
   "cell_type": "code",
   "execution_count": 109,
   "id": "d6e4c743",
   "metadata": {},
   "outputs": [
    {
     "data": {
      "image/png": "[encoded data removed]",
      "text/plain": [
       "<PIL.Image.Image image mode=RGB size=200x200>"
      ]
     },
     "execution_count": 109,
     "metadata": {},
     "output_type": "execute_result"
    }
   ],
   "source": [
    "visualizer.make_mesh_from_file(mesh_path, jnp.array(mtx.cpu().numpy()), scaling_factor=1.0/1000.0)\n",
    "rgbd = visualizer.capture_image(intrinsics, jnp.eye(4))\n",
    "b.get_rgb_image(rgbd.rgb)"
   ]
  },
  {
   "cell_type": "code",
   "execution_count": 103,
   "id": "93967989",
   "metadata": {},
   "outputs": [
    {
     "ename": "ImportError",
     "evalue": "generic_type: type \"RasterizeGLStateWrapper\" is already registered!",
     "output_type": "error",
     "traceback": [
      "\u001b[0;31m---------------------------------------------------------------------------\u001b[0m",
      "\u001b[0;31mImportError\u001b[0m                               Traceback (most recent call last)",
      "\u001b[1;32m/home/nishadgothoskar/bayes3d/scripts/experiments/gaussian_splatting/nvdiffrast_diff.ipynb Cell 8\u001b[0m line \u001b[0;36m1\n\u001b[0;32m----> <a href='vscode-notebook-cell://ssh-remote%2B34.70.144.22/home/nishadgothoskar/bayes3d/scripts/experiments/gaussian_splatting/nvdiffrast_diff.ipynb#X45sdnNjb2RlLXJlbW90ZQ%3D%3D?line=0'>1</a>\u001b[0m b\u001b[39m.\u001b[39;49msetup_renderer(intrinsics)\n\u001b[1;32m      <a href='vscode-notebook-cell://ssh-remote%2B34.70.144.22/home/nishadgothoskar/bayes3d/scripts/experiments/gaussian_splatting/nvdiffrast_diff.ipynb#X45sdnNjb2RlLXJlbW90ZQ%3D%3D?line=1'>2</a>\u001b[0m b\u001b[39m.\u001b[39mRENDERER\u001b[39m.\u001b[39madd_mesh_from_file(mesh_path, scaling_factor\u001b[39m=\u001b[39m\u001b[39m1.0\u001b[39m\u001b[39m/\u001b[39m\u001b[39m1000.0\u001b[39m)\n",
      "File \u001b[0;32m~/bayes3d/bayes3d/renderer.py:38\u001b[0m, in \u001b[0;36msetup_renderer\u001b[0;34m(intrinsics, num_layers)\u001b[0m\n\u001b[1;32m     33\u001b[0m \u001b[39mdef\u001b[39;00m \u001b[39msetup_renderer\u001b[39m(intrinsics, num_layers\u001b[39m=\u001b[39m\u001b[39m1024\u001b[39m):\n\u001b[1;32m     34\u001b[0m \u001b[39m    \u001b[39m\u001b[39m\"\"\"Setup the renderer.\u001b[39;00m\n\u001b[1;32m     35\u001b[0m \u001b[39m    Args:\u001b[39;00m\n\u001b[1;32m     36\u001b[0m \u001b[39m        intrinsics (bayes3d.camera.Intrinsics): The camera intrinsics.    \u001b[39;00m\n\u001b[1;32m     37\u001b[0m \u001b[39m    \"\"\"\u001b[39;00m\n\u001b[0;32m---> 38\u001b[0m     b\u001b[39m.\u001b[39mRENDERER \u001b[39m=\u001b[39m Renderer(intrinsics, num_layers\u001b[39m=\u001b[39;49mnum_layers)\n",
      "File \u001b[0;32m~/bayes3d/bayes3d/renderer.py:59\u001b[0m, in \u001b[0;36mRenderer.__init__\u001b[0;34m(self, intrinsics, num_layers)\u001b[0m\n\u001b[1;32m     50\u001b[0m \u001b[39mself\u001b[39m\u001b[39m.\u001b[39mintrinsics \u001b[39m=\u001b[39m intrinsics\n\u001b[1;32m     52\u001b[0m \u001b[39mself\u001b[39m\u001b[39m.\u001b[39mproj_matrix \u001b[39m=\u001b[39m b\u001b[39m.\u001b[39mcamera\u001b[39m.\u001b[39m_open_gl_projection_matrix(\n\u001b[1;32m     53\u001b[0m     intrinsics\u001b[39m.\u001b[39mheight, intrinsics\u001b[39m.\u001b[39mwidth, \n\u001b[1;32m     54\u001b[0m     intrinsics\u001b[39m.\u001b[39mfx, intrinsics\u001b[39m.\u001b[39mfy, \n\u001b[1;32m     55\u001b[0m     intrinsics\u001b[39m.\u001b[39mcx, intrinsics\u001b[39m.\u001b[39mcy, \n\u001b[1;32m     56\u001b[0m     intrinsics\u001b[39m.\u001b[39mnear, intrinsics\u001b[39m.\u001b[39mfar\n\u001b[1;32m     57\u001b[0m )\n\u001b[0;32m---> 59\u001b[0m \u001b[39mself\u001b[39m\u001b[39m.\u001b[39mrenderer_env \u001b[39m=\u001b[39m dr\u001b[39m.\u001b[39;49mRasterizeGLContext(\u001b[39mself\u001b[39;49m\u001b[39m.\u001b[39;49mheight, \u001b[39mself\u001b[39;49m\u001b[39m.\u001b[39;49mwidth, output_db\u001b[39m=\u001b[39;49m\u001b[39mFalse\u001b[39;49;00m)\n\u001b[1;32m     60\u001b[0m build_setup_primitive(\u001b[39mself\u001b[39m, \u001b[39mself\u001b[39m\u001b[39m.\u001b[39mheight, \u001b[39mself\u001b[39m\u001b[39m.\u001b[39mwidth, num_layers)\u001b[39m.\u001b[39mbind()\n\u001b[1;32m     62\u001b[0m \u001b[39mself\u001b[39m\u001b[39m.\u001b[39mmeshes \u001b[39m=\u001b[39m[]\n",
      "File \u001b[0;32m~/bayes3d/bayes3d/rendering/nvdiffrast/common/ops.py:187\u001b[0m, in \u001b[0;36mRasterizeGLContext.__init__\u001b[0;34m(self, height, width, output_db, mode, device)\u001b[0m\n\u001b[1;32m    185\u001b[0m     \u001b[39mwith\u001b[39;00m torch\u001b[39m.\u001b[39mcuda\u001b[39m.\u001b[39mdevice(device):\n\u001b[1;32m    186\u001b[0m         cuda_device_idx \u001b[39m=\u001b[39m torch\u001b[39m.\u001b[39mcuda\u001b[39m.\u001b[39mcurrent_device()\n\u001b[0;32m--> 187\u001b[0m \u001b[39mself\u001b[39m\u001b[39m.\u001b[39mcpp_wrapper \u001b[39m=\u001b[39m _get_plugin(gl\u001b[39m=\u001b[39;49m\u001b[39mTrue\u001b[39;49;00m)\u001b[39m.\u001b[39mRasterizeGLStateWrapper(output_db, mode \u001b[39m==\u001b[39m \u001b[39m'\u001b[39m\u001b[39mautomatic\u001b[39m\u001b[39m'\u001b[39m, cuda_device_idx)\n\u001b[1;32m    188\u001b[0m \u001b[39mself\u001b[39m\u001b[39m.\u001b[39mactive_depth_peeler \u001b[39m=\u001b[39m \u001b[39mNone\u001b[39;00m\n",
      "File \u001b[0;32m~/bayes3d/bayes3d/rendering/nvdiffrast/common/ops.py:112\u001b[0m, in \u001b[0;36m_get_plugin\u001b[0;34m(gl)\u001b[0m\n\u001b[1;32m    110\u001b[0m \u001b[39m# Compile and load.\u001b[39;00m\n\u001b[1;32m    111\u001b[0m source_paths \u001b[39m=\u001b[39m [os\u001b[39m.\u001b[39mpath\u001b[39m.\u001b[39mjoin(os\u001b[39m.\u001b[39mpath\u001b[39m.\u001b[39mdirname(\u001b[39m__file__\u001b[39m), fn) \u001b[39mfor\u001b[39;00m fn \u001b[39min\u001b[39;00m source_files]\n\u001b[0;32m--> 112\u001b[0m torch\u001b[39m.\u001b[39;49mutils\u001b[39m.\u001b[39;49mcpp_extension\u001b[39m.\u001b[39;49mload(name\u001b[39m=\u001b[39;49mplugin_name, sources\u001b[39m=\u001b[39;49msource_paths, extra_cflags\u001b[39m=\u001b[39;49mopts, extra_cuda_cflags\u001b[39m=\u001b[39;49mopts\u001b[39m+\u001b[39;49m[\u001b[39m'\u001b[39;49m\u001b[39m-lineinfo\u001b[39;49m\u001b[39m'\u001b[39;49m], extra_ldflags\u001b[39m=\u001b[39;49mldflags, with_cuda\u001b[39m=\u001b[39;49m\u001b[39mTrue\u001b[39;49;00m, verbose\u001b[39m=\u001b[39;49m\u001b[39mFalse\u001b[39;49;00m)\n\u001b[1;32m    114\u001b[0m \u001b[39m# Import, cache, and return the compiled module.\u001b[39;00m\n\u001b[1;32m    115\u001b[0m _cached_plugin[gl] \u001b[39m=\u001b[39m importlib\u001b[39m.\u001b[39mimport_module(plugin_name)\n",
      "File \u001b[0;32m~/.local/lib/python3.9/site-packages/torch/utils/cpp_extension.py:1308\u001b[0m, in \u001b[0;36mload\u001b[0;34m(name, sources, extra_cflags, extra_cuda_cflags, extra_ldflags, extra_include_paths, build_directory, verbose, with_cuda, is_python_module, is_standalone, keep_intermediates)\u001b[0m\n\u001b[1;32m   1216\u001b[0m \u001b[39mdef\u001b[39;00m \u001b[39mload\u001b[39m(name,\n\u001b[1;32m   1217\u001b[0m          sources: Union[\u001b[39mstr\u001b[39m, List[\u001b[39mstr\u001b[39m]],\n\u001b[1;32m   1218\u001b[0m          extra_cflags\u001b[39m=\u001b[39m\u001b[39mNone\u001b[39;00m,\n\u001b[0;32m   (...)\u001b[0m\n\u001b[1;32m   1226\u001b[0m          is_standalone\u001b[39m=\u001b[39m\u001b[39mFalse\u001b[39;00m,\n\u001b[1;32m   1227\u001b[0m          keep_intermediates\u001b[39m=\u001b[39m\u001b[39mTrue\u001b[39;00m):\n\u001b[1;32m   1228\u001b[0m \u001b[39m    \u001b[39m\u001b[39mr\u001b[39m\u001b[39m'''\u001b[39;00m\n\u001b[1;32m   1229\u001b[0m \u001b[39m    Loads a PyTorch C++ extension just-in-time (JIT).\u001b[39;00m\n\u001b[1;32m   1230\u001b[0m \n\u001b[0;32m   (...)\u001b[0m\n\u001b[1;32m   1306\u001b[0m \u001b[39m        ...     verbose=True)\u001b[39;00m\n\u001b[1;32m   1307\u001b[0m \u001b[39m    '''\u001b[39;00m\n\u001b[0;32m-> 1308\u001b[0m     \u001b[39mreturn\u001b[39;00m _jit_compile(\n\u001b[1;32m   1309\u001b[0m         name,\n\u001b[1;32m   1310\u001b[0m         [sources] \u001b[39mif\u001b[39;49;00m \u001b[39misinstance\u001b[39;49m(sources, \u001b[39mstr\u001b[39;49m) \u001b[39melse\u001b[39;49;00m sources,\n\u001b[1;32m   1311\u001b[0m         extra_cflags,\n\u001b[1;32m   1312\u001b[0m         extra_cuda_cflags,\n\u001b[1;32m   1313\u001b[0m         extra_ldflags,\n\u001b[1;32m   1314\u001b[0m         extra_include_paths,\n\u001b[1;32m   1315\u001b[0m         build_directory \u001b[39mor\u001b[39;49;00m _get_build_directory(name, verbose),\n\u001b[1;32m   1316\u001b[0m         verbose,\n\u001b[1;32m   1317\u001b[0m         with_cuda,\n\u001b[1;32m   1318\u001b[0m         is_python_module,\n\u001b[1;32m   1319\u001b[0m         is_standalone,\n\u001b[1;32m   1320\u001b[0m         keep_intermediates\u001b[39m=\u001b[39;49mkeep_intermediates)\n",
      "File \u001b[0;32m~/.local/lib/python3.9/site-packages/torch/utils/cpp_extension.py:1736\u001b[0m, in \u001b[0;36m_jit_compile\u001b[0;34m(name, sources, extra_cflags, extra_cuda_cflags, extra_ldflags, extra_include_paths, build_directory, verbose, with_cuda, is_python_module, is_standalone, keep_intermediates)\u001b[0m\n\u001b[1;32m   1733\u001b[0m \u001b[39mif\u001b[39;00m is_standalone:\n\u001b[1;32m   1734\u001b[0m     \u001b[39mreturn\u001b[39;00m _get_exec_path(name, build_directory)\n\u001b[0;32m-> 1736\u001b[0m \u001b[39mreturn\u001b[39;00m _import_module_from_library(name, build_directory, is_python_module)\n",
      "File \u001b[0;32m~/.local/lib/python3.9/site-packages/torch/utils/cpp_extension.py:2136\u001b[0m, in \u001b[0;36m_import_module_from_library\u001b[0;34m(module_name, path, is_python_module)\u001b[0m\n\u001b[1;32m   2134\u001b[0m spec \u001b[39m=\u001b[39m importlib\u001b[39m.\u001b[39mutil\u001b[39m.\u001b[39mspec_from_file_location(module_name, filepath)\n\u001b[1;32m   2135\u001b[0m \u001b[39massert\u001b[39;00m spec \u001b[39mis\u001b[39;00m \u001b[39mnot\u001b[39;00m \u001b[39mNone\u001b[39;00m\n\u001b[0;32m-> 2136\u001b[0m module \u001b[39m=\u001b[39m importlib\u001b[39m.\u001b[39;49mutil\u001b[39m.\u001b[39;49mmodule_from_spec(spec)\n\u001b[1;32m   2137\u001b[0m \u001b[39massert\u001b[39;00m \u001b[39misinstance\u001b[39m(spec\u001b[39m.\u001b[39mloader, importlib\u001b[39m.\u001b[39mabc\u001b[39m.\u001b[39mLoader)\n\u001b[1;32m   2138\u001b[0m spec\u001b[39m.\u001b[39mloader\u001b[39m.\u001b[39mexec_module(module)\n",
      "File \u001b[0;32m<frozen importlib._bootstrap>:565\u001b[0m, in \u001b[0;36mmodule_from_spec\u001b[0;34m(spec)\u001b[0m\n",
      "File \u001b[0;32m<frozen importlib._bootstrap_external>:1173\u001b[0m, in \u001b[0;36mcreate_module\u001b[0;34m(self, spec)\u001b[0m\n",
      "File \u001b[0;32m<frozen importlib._bootstrap>:228\u001b[0m, in \u001b[0;36m_call_with_frames_removed\u001b[0;34m(f, *args, **kwds)\u001b[0m\n",
      "\u001b[0;31mImportError\u001b[0m: generic_type: type \"RasterizeGLStateWrapper\" is already registered!"
     ]
    }
   ],
   "source": [
    "b.setup_renderer(intrinsics)\n",
    "b.RENDERER.add_mesh_from_file(mesh_path, scaling_factor=1.0/1000.0)"
   ]
  },
  {
   "cell_type": "code",
   "execution_count": null,
   "id": "8a759d48",
   "metadata": {},
   "outputs": [],
   "source": [
    "b.RENDERER.render()"
   ]
  },
  {
   "cell_type": "code",
   "execution_count": 93,
   "id": "d59b64bb",
   "metadata": {},
   "outputs": [
    {
     "data": {
      "text/plain": [
       "(100, 100)"
      ]
     },
     "execution_count": 93,
     "metadata": {},
     "output_type": "execute_result"
    }
   ],
   "source": [
    "depth_np.shape"
   ]
  },
  {
   "cell_type": "code",
   "execution_count": 70,
   "id": "614d3fd8",
   "metadata": {},
   "outputs": [
    {
     "data": {
      "text/plain": [
       "tensor([[[[-2.5000],\n",
       "          [-2.5000],\n",
       "          [-2.5000],\n",
       "          ...,\n",
       "          [-2.5000],\n",
       "          [-2.5000],\n",
       "          [-2.5000]],\n",
       "\n",
       "         [[-2.5000],\n",
       "          [-2.5000],\n",
       "          [-2.5000],\n",
       "          ...,\n",
       "          [-2.5000],\n",
       "          [-2.5000],\n",
       "          [-2.5000]],\n",
       "\n",
       "         [[-2.5000],\n",
       "          [-2.5000],\n",
       "          [-2.5000],\n",
       "          ...,\n",
       "          [-2.5000],\n",
       "          [-2.5000],\n",
       "          [-2.5000]],\n",
       "\n",
       "         ...,\n",
       "\n",
       "         [[-2.5000],\n",
       "          [-2.5000],\n",
       "          [-2.5000],\n",
       "          ...,\n",
       "          [-2.5000],\n",
       "          [-2.5000],\n",
       "          [-2.5000]],\n",
       "\n",
       "         [[-2.5000],\n",
       "          [-2.5000],\n",
       "          [-2.5000],\n",
       "          ...,\n",
       "          [-2.5000],\n",
       "          [-2.5000],\n",
       "          [-2.5000]],\n",
       "\n",
       "         [[-2.5000],\n",
       "          [-2.5000],\n",
       "          [-2.5000],\n",
       "          ...,\n",
       "          [-2.5000],\n",
       "          [-2.5000],\n",
       "          [-2.5000]]]], device='cuda:0')"
      ]
     },
     "execution_count": 70,
     "metadata": {},
     "output_type": "execute_result"
    }
   ],
   "source": [
    "depth[...,None]"
   ]
  },
  {
   "cell_type": "code",
   "execution_count": 94,
   "id": "5a16b30d",
   "metadata": {},
   "outputs": [
    {
     "data": {
      "text/plain": [
       "torch.Size([1, 100, 100])"
      ]
     },
     "execution_count": 94,
     "metadata": {},
     "output_type": "execute_result"
    }
   ],
   "source": [
    "depth.shape"
   ]
  },
  {
   "cell_type": "code",
   "execution_count": null,
   "id": "2428b518",
   "metadata": {},
   "outputs": [],
   "source": []
  },
  {
   "cell_type": "code",
   "execution_count": 78,
   "id": "79eaf041",
   "metadata": {},
   "outputs": [
    {
     "name": "stderr",
     "output_type": "stream",
     "text": [
      "/var/tmp/ipykernel_219138/3100620235.py:2: UserWarning: To copy construct from a tensor, it is recommended to use sourceTensor.clone().detach() or sourceTensor.clone().detach().requires_grad_(True), rather than torch.tensor(sourceTensor).\n",
      "  quat =  torch.tensor(torch.rand(4,device=device) - 0.5,device=device)\n"
     ]
    },
    {
     "ename": "TypeError",
     "evalue": "'int' object is not iterable",
     "output_type": "error",
     "traceback": [
      "\u001b[0;31m---------------------------------------------------------------------------\u001b[0m",
      "\u001b[0;31mTypeError\u001b[0m                                 Traceback (most recent call last)",
      "\u001b[1;32m/home/nishadgothoskar/bayes3d/scripts/experiments/gaussian_splatting/nvdiffrast_diff.ipynb Cell 13\u001b[0m line \u001b[0;36m2\n\u001b[1;32m     <a href='vscode-notebook-cell://ssh-remote%2B34.70.144.22/home/nishadgothoskar/bayes3d/scripts/experiments/gaussian_splatting/nvdiffrast_diff.ipynb#W5sdnNjb2RlLXJlbW90ZQ%3D%3D?line=17'>18</a>\u001b[0m final_mtx_proj \u001b[39m=\u001b[39m torch\u001b[39m.\u001b[39mmatmul(proj_cam, mtx)\n\u001b[1;32m     <a href='vscode-notebook-cell://ssh-remote%2B34.70.144.22/home/nishadgothoskar/bayes3d/scripts/experiments/gaussian_splatting/nvdiffrast_diff.ipynb#W5sdnNjb2RlLXJlbW90ZQ%3D%3D?line=18'>19</a>\u001b[0m pos_clip_ja \u001b[39m=\u001b[39m dd\u001b[39m.\u001b[39mxfm_points(pos\u001b[39m.\u001b[39mcontiguous(), final_mtx_proj)\n\u001b[0;32m---> <a href='vscode-notebook-cell://ssh-remote%2B34.70.144.22/home/nishadgothoskar/bayes3d/scripts/experiments/gaussian_splatting/nvdiffrast_diff.ipynb#W5sdnNjb2RlLXJlbW90ZQ%3D%3D?line=20'>21</a>\u001b[0m rast_out, rast_out_db \u001b[39m=\u001b[39m dr\u001b[39m.\u001b[39;49mrasterize(\n\u001b[1;32m     <a href='vscode-notebook-cell://ssh-remote%2B34.70.144.22/home/nishadgothoskar/bayes3d/scripts/experiments/gaussian_splatting/nvdiffrast_diff.ipynb#W5sdnNjb2RlLXJlbW90ZQ%3D%3D?line=21'>22</a>\u001b[0m     glctx, pos_clip_ja, pos_idx, resolution\u001b[39m=\u001b[39;49mresolution\n\u001b[1;32m     <a href='vscode-notebook-cell://ssh-remote%2B34.70.144.22/home/nishadgothoskar/bayes3d/scripts/experiments/gaussian_splatting/nvdiffrast_diff.ipynb#W5sdnNjb2RlLXJlbW90ZQ%3D%3D?line=22'>23</a>\u001b[0m )\n\u001b[1;32m     <a href='vscode-notebook-cell://ssh-remote%2B34.70.144.22/home/nishadgothoskar/bayes3d/scripts/experiments/gaussian_splatting/nvdiffrast_diff.ipynb#W5sdnNjb2RlLXJlbW90ZQ%3D%3D?line=24'>25</a>\u001b[0m gb_pos, _ \u001b[39m=\u001b[39m dr\u001b[39m.\u001b[39minterpolate(posw, rast_out, pos_idx, rast_db\u001b[39m=\u001b[39mrast_out_db)\n\u001b[1;32m     <a href='vscode-notebook-cell://ssh-remote%2B34.70.144.22/home/nishadgothoskar/bayes3d/scripts/experiments/gaussian_splatting/nvdiffrast_diff.ipynb#W5sdnNjb2RlLXJlbW90ZQ%3D%3D?line=25'>26</a>\u001b[0m shape_keep \u001b[39m=\u001b[39m gb_pos\u001b[39m.\u001b[39mshape\n",
      "File \u001b[0;32m/opt/conda/envs/bayes3d/lib/python3.9/site-packages/nvdiffrast/torch/ops.py:299\u001b[0m, in \u001b[0;36mrasterize\u001b[0;34m(glctx, pos, tri, resolution, ranges, grad_db)\u001b[0m\n\u001b[1;32m    297\u001b[0m \u001b[39m# Sanitize inputs.\u001b[39;00m\n\u001b[1;32m    298\u001b[0m \u001b[39massert\u001b[39;00m \u001b[39misinstance\u001b[39m(pos, torch\u001b[39m.\u001b[39mTensor) \u001b[39mand\u001b[39;00m \u001b[39misinstance\u001b[39m(tri, torch\u001b[39m.\u001b[39mTensor)\n\u001b[0;32m--> 299\u001b[0m resolution \u001b[39m=\u001b[39m \u001b[39mtuple\u001b[39;49m(resolution)\n\u001b[1;32m    300\u001b[0m \u001b[39mif\u001b[39;00m ranges \u001b[39mis\u001b[39;00m \u001b[39mNone\u001b[39;00m:\n\u001b[1;32m    301\u001b[0m     ranges \u001b[39m=\u001b[39m torch\u001b[39m.\u001b[39mempty(size\u001b[39m=\u001b[39m(\u001b[39m0\u001b[39m, \u001b[39m2\u001b[39m), dtype\u001b[39m=\u001b[39mtorch\u001b[39m.\u001b[39mint32, device\u001b[39m=\u001b[39m\u001b[39m'\u001b[39m\u001b[39mcpu\u001b[39m\u001b[39m'\u001b[39m)\n",
      "\u001b[0;31mTypeError\u001b[0m: 'int' object is not iterable"
     ]
    }
   ],
   "source": [
    "pos = torch.tensor([0.0, 0.0, -5.5],device=device)\n",
    "quat =  torch.tensor(torch.rand(4,device=device) - 0.5,device=device)\n",
    "mtx = dd.matrix_batch_44_from_position_quat(quat[None,...],pos[None,...])\n",
    "camera = dd.Camera(\n",
    "    fx=100.0,\n",
    "    fy=100.0,\n",
    "    cx=50.0,\n",
    "    cy=50.0,\n",
    "    im_width=100,\n",
    "    im_height=100,\n",
    ")\n",
    "camera.cuda()\n",
    "proj_cam = camera.cam_proj[None,...]\n",
    "pos = vtx_pos[None,...]\n",
    "\n",
    "posw = torch.cat([pos, torch.ones([pos.shape[0], pos.shape[1], 1]).cuda()], axis=2)\n",
    "\n",
    "final_mtx_proj = torch.matmul(proj_cam, mtx)\n",
    "pos_clip_ja = dd.xfm_points(pos.contiguous(), final_mtx_proj)\n",
    "\n",
    "rast_out, rast_out_db = dr.rasterize(\n",
    "    glctx, pos_clip_ja, pos_idx, resolution=resolution\n",
    ")\n",
    "\n",
    "gb_pos, _ = dr.interpolate(posw, rast_out, pos_idx, rast_db=rast_out_db)\n",
    "shape_keep = gb_pos.shape\n",
    "gb_pos = gb_pos.reshape(shape_keep[0], -1, shape_keep[-1])\n",
    "gb_pos = gb_pos[..., :3]\n",
    "\n",
    "depth = dd.xfm_points(gb_pos.contiguous(), mtx)\n",
    "depth = depth.reshape(shape_keep)[..., 2] * -1\n",
    "\n",
    "fig = plt.figure()\n",
    "plt.imshow(depth[0].detach().cpu().numpy())\n",
    "plt.colorbar()\n",
    "fig.savefig(\"test.png\")"
   ]
  },
  {
   "cell_type": "code",
   "execution_count": null,
   "id": "5834f84c",
   "metadata": {},
   "outputs": [],
   "source": []
  },
  {
   "cell_type": "code",
   "execution_count": 37,
   "id": "950bd47e",
   "metadata": {},
   "outputs": [],
   "source": []
  },
  {
   "cell_type": "code",
   "execution_count": null,
   "id": "4e4a982b",
   "metadata": {},
   "outputs": [],
   "source": [
    "\n",
    "ground_truth_image = render_wrapper(pos,quat)\n",
    "viz_gt = get_viz(ground_truth_image)\n",
    "viz_gt\n"
   ]
  },
  {
   "cell_type": "code",
   "execution_count": null,
   "id": "62fdf559-094d-46e5-ae8b-b75122891ec8",
   "metadata": {},
   "outputs": [],
   "source": [
    "def quaternion_to_matrix(poses: torch.Tensor) -> torch.Tensor:\n",
    "    \"\"\"\n",
    "    Convert rotations given as quaternions to rotation matrices.\n",
    "\n",
    "    Args:\n",
    "        quaternions: quaternions with real part first,\n",
    "            as tensor of shape (..., 4).\n",
    "\n",
    "    Returns:\n",
    "        Rotation matrices as tensor of shape (..., 3, 3).\n",
    "    \"\"\"\n",
    "    positions = poses[...,:3]\n",
    "    quaternions = poses[...,3:]\n",
    "    r, i, j, k = torch.unbind(quaternions, -1)\n",
    "    x, y, z = torch.unbind(positions, -1)\n",
    "    # pyre-fixme[58]: `/` is not supported for operand types `float` and `Tensor`.\n",
    "    two_s = 2.0 / (quaternions * quaternions).sum(-1)\n",
    "\n",
    "    o = torch.stack(\n",
    "        (\n",
    "            1 - two_s * (j * j + k * k),\n",
    "            two_s * (i * j - k * r),\n",
    "            two_s * (i * k + j * r),\n",
    "            x,\n",
    "            two_s * (i * j + k * r),\n",
    "            1 - two_s * (i * i + k * k),\n",
    "            two_s * (j * k - i * r),\n",
    "            y,\n",
    "            two_s * (i * k - j * r),\n",
    "            two_s * (j * k + i * r),\n",
    "            1 - two_s * (i * i + j * j),\n",
    "            z,\n",
    "            0.0 * x,\n",
    "            0.0 * x,\n",
    "            0.0 * x,\n",
    "            0.0 * x + 1.0,\n",
    "        ),\n",
    "        -1,\n",
    "    )\n",
    "    rotation_matrices = o.reshape(quaternions.shape[:-1] + (4, 4))\n",
    "    return rotation_matrices\n",
    "\n",
    "# Transform vertex positions to clip space\n",
    "def transform_pos(mtx, pos):\n",
    "    t_mtx = torch.from_numpy(mtx).cuda() if isinstance(mtx, np.ndarray) else mtx\n",
    "    # (x,y,z) -> (x,y,z,1)\n",
    "    posw = torch.cat([pos, torch.ones([pos.shape[0], 1]).cuda()], axis=1)\n",
    "    return torch.matmul(posw, t_mtx.t())[None, ...]\n",
    "\n",
    "def render(glctx, mtx, pos, pos_idx, resolution: int):\n",
    "    # Setup TF graph for reference.\n",
    "    depth_ = pos[..., 2:3]\n",
    "    depth = torch.tensor([[[(z_val/1)] for z_val in depth_.squeeze()]], dtype=torch.float32).cuda()\n",
    "    pos_clip    = transform_pos(mtx, pos)\n",
    "    rast_out, _ = dr.rasterize(glctx, pos_clip, pos_idx, resolution=[resolution, resolution])\n",
    "    color   , _ = dr.interpolate(depth, rast_out, pos_idx)\n",
    "    # color       = dr.antialias(color, rast_out, pos_clip, pos_idx)\n",
    "    return color\n",
    "    # return rast_out[:,:,:,2:3]\n"
   ]
  },
  {
   "cell_type": "code",
   "execution_count": null,
   "id": "1d9c2c03-8f55-4625-982d-32479eebfa64",
   "metadata": {},
   "outputs": [],
   "source": [
    "datadir = \"/home/nishadgothoskar/bayes3d/nvdiffrast/samples/data\"\n",
    "with np.load(f'{datadir}/cube_p.npz') as f:\n",
    "    pos_idx, pos, col_idx, col = f.values()\n",
    "print(\"Mesh has %d triangles and %d vertices.\" % (pos_idx.shape[0], pos.shape[0]))\n",
    "\n",
    "# Some input geometry contains vertex positions in (N, 4) (with v[:,3]==1).  Drop\n",
    "# the last column in that case.\n",
    "if pos.shape[1] == 4: pos = pos[:, 0:3]\n",
    "\n",
    "# Create position/triangle index tensors\n",
    "pos_idx = torch.from_numpy(pos_idx.astype(np.int32)).cuda()\n",
    "vtx_pos = torch.from_numpy(pos.astype(np.float32)).cuda()\n",
    "print(pos_idx.shape, vtx_pos.shape)\n",
    "\n",
    "# model_dir = os.path.join(b.utils.get_assets_dir(),\"bop/ycbv/models\")\n",
    "# idx = 14\n",
    "# mesh_path = os.path.join(model_dir,\"obj_\" + \"{}\".format(idx).rjust(6, '0') + \".ply\")\n",
    "# m = b.utils.load_mesh(mesh_path)\n",
    "# m = b.utils.scale_mesh(m, 1.0/100.0)\n",
    "\n",
    "# vtx_pos = torch.from_numpy(m.vertices.astype(np.float32)).cuda()\n",
    "# pos_idx = torch.from_numpy(m.faces.astype(np.int32)).cuda()\n",
    "# col_idx = torch.from_numpy(np.zeros((vtx_pos.shape[0],3)).astype(np.int32)).cuda()\n",
    "# vtx_col = torch.from_numpy(np.ones((1,3)).astype(np.float32)).cuda()"
   ]
  },
  {
   "cell_type": "code",
   "execution_count": null,
   "id": "acb5415b",
   "metadata": {},
   "outputs": [],
   "source": []
  },
  {
   "cell_type": "code",
   "execution_count": null,
   "id": "af6f93c7-f7e8-427f-8ea5-365370a9560d",
   "metadata": {},
   "outputs": [],
   "source": [
    "pose_target = torch.tensor([0.0, 0.0, -5.0, 1.0, 1.2, 0.4, 1.0]).cuda()\n",
    "rast_target = render(glctx, torch.matmul(mvp, quaternion_to_matrix(pose_target)), vtx_pos, pos_idx,  resolution)\n",
    "img_target  = rast_target[0].detach().cpu().numpy()\n",
    "b.hstack_images([\n",
    "    b.get_depth_image(img_target[:,:,0]* 255.0) ,\n",
    "])\n"
   ]
  },
  {
   "cell_type": "code",
   "execution_count": null,
   "id": "27c5a306-73ca-4981-aca2-1c041ae57f81",
   "metadata": {},
   "outputs": [],
   "source": [
    "pose_opt = torch.tensor([0.0, 0.0, -6.0, 1.0, 1.2, 0.4, 1.0],dtype=torch.float32, device='cuda', requires_grad=True)\n",
    "loss_best   = np.inf\n",
    "\n",
    "rast_opt = render(glctx, torch.matmul(mvp, quaternion_to_matrix(pose_opt)), vtx_pos, pos_idx,  resolution)\n",
    "img_opt  = rast_opt[0].detach().cpu().numpy()\n",
    "b.hstack_images([\n",
    "    b.get_depth_image(img_opt[:,:,0]* 255.0) ,\n",
    "    b.get_depth_image(img_target[:,:,0]* 255.0) ,\n",
    "])\n"
   ]
  },
  {
   "cell_type": "code",
   "execution_count": null,
   "id": "dc06f769",
   "metadata": {},
   "outputs": [],
   "source": [
    "diff = (rast_opt - rast_target)**2 # L2 norm.\n",
    "diff.sum()"
   ]
  },
  {
   "cell_type": "code",
   "execution_count": null,
   "id": "fb98ecb0-6e55-4280-af4f-6639e5d69f8c",
   "metadata": {},
   "outputs": [],
   "source": [
    "optimizer = torch.optim.Adam([pose_opt],  lr=0.00001)\n",
    "images = []\n",
    "\n",
    "for _ in tqdm(range(200)):    \n",
    "    rast_opt = render(glctx, torch.matmul(mvp, quaternion_to_matrix(pose_opt)), vtx_pos, pos_idx,  resolution)\n",
    "\n",
    "    diff = (rast_opt - rast_target)**2 # L2 norm.\n",
    "    loss = torch.mean(diff)\n",
    "    loss_val = float(loss)\n",
    "    \n",
    "    if (loss_val < loss_best) and (loss_val > 0.0):\n",
    "        loss_best = loss_val\n",
    "                \n",
    "    optimizer.zero_grad()\n",
    "    loss.backward()\n",
    "    optimizer.step()\n",
    "\n",
    "    print(loss)    \n",
    "    with torch.no_grad():\n",
    "        pose_opt /= torch.sum(pose_opt**2)**0.5\n",
    "    \n",
    "    img_opt  = rast_opt[0].detach().cpu().numpy()\n",
    "    images.append(\n",
    "        b.hstack_images([\n",
    "            b.get_depth_image(img_opt[:,:,0]* 255.0) ,\n",
    "            b.get_depth_image(img_target[:,:,0]* 255.0) ,\n",
    "        ])\n",
    "    )"
   ]
  },
  {
   "cell_type": "code",
   "execution_count": null,
   "id": "2651d8eb-75c3-4453-b58c-09e46ce2b1a7",
   "metadata": {},
   "outputs": [],
   "source": [
    "b.vstack_images([images[0],images[-1]])"
   ]
  },
  {
   "cell_type": "code",
   "execution_count": null,
   "id": "68e1f6dc-31e1-4c33-97c3-d13fa8e5f34a",
   "metadata": {},
   "outputs": [],
   "source": []
  },
  {
   "cell_type": "code",
   "execution_count": null,
   "id": "b921bcb5-4d8b-4b0f-8b9f-f3d70ca43522",
   "metadata": {},
   "outputs": [],
   "source": []
  },
  {
   "cell_type": "code",
   "execution_count": null,
   "id": "f0f58562-0672-4e28-810b-2e30e7c849e9",
   "metadata": {},
   "outputs": [],
   "source": []
  },
  {
   "cell_type": "code",
   "execution_count": null,
   "id": "f15dc7cd-0aef-44c7-a821-368b512c9fbd",
   "metadata": {},
   "outputs": [],
   "source": []
  }
 ],
 "metadata": {
  "kernelspec": {
   "display_name": "Python 3 (ipykernel)",
   "language": "python",
   "name": "python3"
  },
  "language_info": {
   "codemirror_mode": {
    "name": "ipython",
    "version": 3
   },
   "file_extension": ".py",
   "mimetype": "text/x-python",
   "name": "python",
   "nbconvert_exporter": "python",
   "pygments_lexer": "ipython3",
   "version": "3.9.18"
  }
 },
 "nbformat": 4,
 "nbformat_minor": 5
}
