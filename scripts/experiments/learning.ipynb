{
 "cells": [
  {
   "cell_type": "code",
   "execution_count": null,
   "id": "40d33fd0-096d-4d0c-b1a2-a16e0ea74199",
   "metadata": {},
   "outputs": [],
   "source": [
    "import bayes3d as b\n",
    "from bayes3d.viz.open3dviz import Open3DVisualizer\n",
    "import os\n",
    "import jax.numpy as jnp\n",
    "import open3d as o3d\n",
    "import jax\n",
    "import bayes3d.genjax\n",
    "from tqdm import tqdm\n",
    "import genjax"
   ]
  },
  {
   "cell_type": "code",
   "execution_count": null,
   "id": "43ad87b7-5e7d-4331-9d0b-f533d30c89cf",
   "metadata": {},
   "outputs": [],
   "source": [
    "b.setup_visualizer()"
   ]
  },
  {
   "cell_type": "code",
   "execution_count": null,
   "id": "8a6a4d17-c5fe-49c5-b630-4a55a92f57f4",
   "metadata": {},
   "outputs": [],
   "source": [
    "model_dir = os.path.join(b.utils.get_assets_dir(),\"bop/ycbv/models\")\n",
    "obj_idx = 4\n",
    "mesh_filename = os.path.join(model_dir,\"obj_\" + \"{}\".format(obj_idx+1).rjust(6, '0') + \".ply\")\n",
    "SCALING_FACTOR = 1.0/1000.0"
   ]
  },
  {
   "cell_type": "code",
   "execution_count": null,
   "id": "577ec018-68ce-438f-aee5-3be16f8a4f1c",
   "metadata": {},
   "outputs": [],
   "source": [
    "intrinsics = b.Intrinsics(\n",
    "    height=100,\n",
    "    width=100,\n",
    "    fx=500.0, fy=500.0,\n",
    "    cx=50.0, cy=50.0,\n",
    "    near=0.01, far=50.0\n",
    ")\n",
    "b.setup_renderer(intrinsics)\n",
    "b.RENDERER.add_mesh_from_file(mesh_filename, scaling_factor=SCALING_FACTOR)"
   ]
  },
  {
   "cell_type": "code",
   "execution_count": null,
   "id": "6e011580-f7a5-4797-9026-c8ceb60985c7",
   "metadata": {},
   "outputs": [],
   "source": [
    "object_poses = jnp.array([b.t3d.inverse_pose(b.t3d.transform_from_pos_target_up(\n",
    "            jnp.array([0.0, 0.6, 0.6]),\n",
    "            jnp.array([0.0, 0.0, 0.0]),\n",
    "            jnp.array([0.0, 0.0, 1.0]),\n",
    "        )) @ b.t3d.transform_from_axis_angle(jnp.array([0.0, 0.0, 1.0]), angle)  for angle in jnp.linspace(-jnp.pi, jnp.pi, 7)[:-1]])\n",
    "observations = b.RENDERER.render_many(object_poses[:,None,...], jnp.array([0]))"
   ]
  },
  {
   "cell_type": "code",
   "execution_count": null,
   "id": "13e590f8-e092-4d7c-b91f-f08fa94b6e37",
   "metadata": {},
   "outputs": [],
   "source": [
    "b.hstack_images([b.get_depth_image(o[...,2]) for o in observations])"
   ]
  },
  {
   "cell_type": "code",
   "execution_count": null,
   "id": "89950198-c80f-4aef-aca8-7306c3161862",
   "metadata": {},
   "outputs": [],
   "source": [
    "grid = b.utils.make_translation_grid_enumeration_3d(\n",
    "    -0.1, -0.1, -0.2,\n",
    "    0.1, 0.1, 0.2,\n",
    "    # 100, 100, 100\n",
    "    60, 60, 60\n",
    ")\n",
    "b.show_cloud(\"grid\", grid)"
   ]
  },
  {
   "cell_type": "code",
   "execution_count": null,
   "id": "a661ff3f-b25d-452f-8ff4-03fca2366d78",
   "metadata": {},
   "outputs": [],
   "source": [
    "def voxel_occupied_occluded_free(camera_pose, depth_image, grid, intrinsics, tolerance):\n",
    "    grid_in_cam_frame = b.apply_transform(grid, b.t3d.inverse_pose(camera_pose))\n",
    "    pixels = b.project_cloud_to_pixels(grid_in_cam_frame, intrinsics).astype(jnp.int32)\n",
    "    valid_pixels = (0 <= pixels[:,0]) * (0 <= pixels[:,1]) * (pixels[:,0] < intrinsics.width) * (pixels[:,1] < intrinsics.height)\n",
    "    real_depth_vals = depth_image[pixels[:,1],pixels[:,0]] * valid_pixels + (1 - valid_pixels) * (intrinsics.far + 1.0)\n",
    "    \n",
    "    projected_depth_vals = grid_in_cam_frame[:,2]\n",
    "    occupied = jnp.abs(real_depth_vals - projected_depth_vals) < tolerance\n",
    "    occluded = real_depth_vals < projected_depth_vals\n",
    "    occluded = occluded * (1.0 - occupied)\n",
    "    free = (1.0 - occluded) * (1.0 - occupied)\n",
    "    return 1.0 * occupied + 0.5 * occluded\n",
    "voxel_occupied_occluded_free_parallel = jax.jit(jax.vmap(voxel_occupied_occluded_free, in_axes=(0, 0, None, None, None)))"
   ]
  },
  {
   "cell_type": "code",
   "execution_count": null,
   "id": "101d1ad3-5edc-407b-ad78-a8d91f4e4c97",
   "metadata": {},
   "outputs": [],
   "source": [
    "occupancies = voxel_occupied_occluded_free_parallel(\n",
    "    b.inverse_pose(object_poses), observations[...,2], grid, intrinsics, 0.001\n",
    ")\n",
    "print(occupancies.sum())"
   ]
  },
  {
   "cell_type": "code",
   "execution_count": null,
   "id": "da23ecf6-dd4f-491f-a50f-13b2f0bc62d3",
   "metadata": {},
   "outputs": [],
   "source": [
    "b.clear()\n",
    "b.show_cloud(\"grid\", grid[(occupancies > 0.6).sum(0) > 0 ])\n",
    "# b.show_cloud(\"grid2\", grid[occupancy == 0.5],color=b.RED)"
   ]
  },
  {
   "cell_type": "code",
   "execution_count": null,
   "id": "cf77c1ee-f2dd-4a2b-b9a9-e38f8106fcbc",
   "metadata": {},
   "outputs": [],
   "source": [
    "mesh = b.utils.make_voxel_mesh_from_point_cloud(grid[(occupancies > 0.6).sum(0) > 0 ], 0.005 )"
   ]
  },
  {
   "cell_type": "code",
   "execution_count": null,
   "id": "1e6adbb7-dc54-486b-9bf8-00d7a91053fd",
   "metadata": {},
   "outputs": [],
   "source": [
    "b.clear()\n",
    "b.show_trimesh(\"mesh\", mesh)"
   ]
  },
  {
   "cell_type": "code",
   "execution_count": null,
   "id": "0375c630-f3ae-4a28-8302-cc18eae2b9bf",
   "metadata": {},
   "outputs": [],
   "source": [
    "key = jax.random.PRNGKey(10)\n",
    "random_pose = b.distributions.gaussian_vmf_jit(\n",
    "    key,\n",
    "    b.transform_from_pos(jnp.array([0.0, 0.0, 1.4])),\n",
    "    0.01,\n",
    "    0.01\n",
    ")\n",
    "observation =  b.RENDERER.render(random_pose[None,...], jnp.array([0]))[...,:3]\n",
    "b.get_depth_image(observation[...,2])"
   ]
  },
  {
   "cell_type": "code",
   "execution_count": null,
   "id": "71419351-258c-4d1c-bac3-bff67e48ac12",
   "metadata": {},
   "outputs": [],
   "source": [
    "sample_gaussian_vmf_jit = jax.jit(jax.vmap(\n",
    "    b.distributions.gaussian_vmf_jit,\n",
    "    in_axes=(0, None, None, None)\n",
    "))"
   ]
  },
  {
   "cell_type": "code",
   "execution_count": null,
   "id": "0e54311a-99b6-4751-b807-051690f6ae3a",
   "metadata": {},
   "outputs": [],
   "source": [
    "@genjax.gen\n",
    "def single_object_model(variance, outlier_prob, outlier_volume):\n",
    "    pose = b.genjax.uniform_pose(jnp.array([-10.0,-10.0,-10.0]), jnp.array([10.0,10.0,10.0])) @ \"pose\"\n",
    "    rendered = b.RENDERER.render(\n",
    "        pose[None,...] , jnp.array([0])\n",
    "    )[...,:3]\n",
    "    image = b.genjax.image_likelihood(rendered, variance, outlier_prob, outlier_volume) @ \"image\"\n",
    "    return rendered\n",
    "\n",
    "importance_jit = jax.jit(single_object_model.importance)\n",
    "key = jax.random.PRNGKey(5)\n",
    "enumerator = b.genjax.make_enumerator([\"pose\"]) "
   ]
  },
  {
   "cell_type": "code",
   "execution_count": null,
   "id": "4a51c41d-091d-4491-a846-eda946f435d6",
   "metadata": {},
   "outputs": [],
   "source": [
    "trace = importance_jit(\n",
    "    key,\n",
    "    genjax.choice_map({\"image\": observation}),\n",
    "    (0.001, 0.001, 1000.0)\n",
    ")[1][1]"
   ]
  },
  {
   "cell_type": "code",
   "execution_count": null,
   "id": "13c3484c-1f4e-453a-9de2-2a606a12caf2",
   "metadata": {},
   "outputs": [],
   "source": []
  },
  {
   "cell_type": "code",
   "execution_count": null,
   "id": "99ed9992-0012-49ed-bb6f-d4be8191655f",
   "metadata": {},
   "outputs": [],
   "source": [
    "keys = jax.random.split(key, 1000)\n",
    "poses = sample_gaussian_vmf_jit(keys,     b.transform_from_pos(jnp.array([0.0, 0.0, 1.4])),\n",
    "    0.01,\n",
    "    0.01)"
   ]
  },
  {
   "cell_type": "code",
   "execution_count": null,
   "id": "1f6a0e0b-b1c4-4136-9167-c30fcaf42586",
   "metadata": {},
   "outputs": [],
   "source": [
    "scores = enumerator.enumerate_choices_get_scores(trace, key, poses)"
   ]
  },
  {
   "cell_type": "code",
   "execution_count": null,
   "id": "9ee613cc-84ea-4b98-9ef0-c59b292de684",
   "metadata": {},
   "outputs": [],
   "source": [
    "trace = enumerator.update_choices(trace, key, poses[scores.argmax()])"
   ]
  },
  {
   "cell_type": "code",
   "execution_count": null,
   "id": "321e4879-e5b5-4da7-ae20-765e31ccef17",
   "metadata": {},
   "outputs": [],
   "source": [
    "b.clear()\n",
    "b.show_cloud(\"obs\", trace[\"image\"].reshape(-1,3))\n",
    "b.show_cloud(\"render\", trace.get_retval().reshape(-1,3), color=b.RED)"
   ]
  },
  {
   "cell_type": "code",
   "execution_count": null,
   "id": "a1464cf3-4907-4151-88fb-aecc654eae30",
   "metadata": {},
   "outputs": [],
   "source": [
    "keys = jax.random.split(key, 5000)\n",
    "poses = sample_gaussian_vmf_jit(keys,     b.transform_from_pos(jnp.array([0.0, 0.0, 1.4])),\n",
    "    0.01,\n",
    "    0.01)"
   ]
  },
  {
   "cell_type": "code",
   "execution_count": null,
   "id": "3998ac3c-9d9c-4eb2-9435-1417aed9c6bf",
   "metadata": {},
   "outputs": [],
   "source": [
    "grid_over_pose = jax.jit(jax.vmap(\n",
    "    lambda trace,key, p: trace.update(key, genjax.choice_map({\"pose\": p}), tuple(map(lambda v: Diff(v, UnknownChange), trace.args)))\n",
    ", in_axes=(None, None, 0))\n",
    ")"
   ]
  },
  {
   "cell_type": "code",
   "execution_count": null,
   "id": "7530afb3-66e5-4cf6-946e-ce9750c97f9e",
   "metadata": {},
   "outputs": [],
   "source": [
    "grid_over_pose(trace, key, poses)"
   ]
  },
  {
   "cell_type": "code",
   "execution_count": null,
   "id": "0998490b-ee51-46d5-b390-548819500b37",
   "metadata": {},
   "outputs": [],
   "source": []
  },
  {
   "cell_type": "code",
   "execution_count": null,
   "id": "865b8cf4-3cb3-42e7-9860-f4e93886e9f3",
   "metadata": {},
   "outputs": [],
   "source": []
  },
  {
   "cell_type": "code",
   "execution_count": null,
   "id": "6f9937ed-593f-4571-9a5a-9dee8bf348c4",
   "metadata": {},
   "outputs": [],
   "source": [
    "viz = Open3DVisualizer(intrinsics)"
   ]
  },
  {
   "cell_type": "code",
   "execution_count": null,
   "id": "5bf36e26-a7ca-4940-a4da-a545407f8679",
   "metadata": {},
   "outputs": [],
   "source": [
    "viz.clear()\n",
    "mesh = o3d.io.read_triangle_model(mesh_filename)\n",
    "mesh.meshes[0].mesh.scale(SCALING_FACTOR, jnp.array([0.0, 0.0, 0.0]))\n",
    "viz.render.scene.add_model(f\"1\", mesh)"
   ]
  },
  {
   "cell_type": "code",
   "execution_count": null,
   "id": "644e7261-82c4-4452-bb42-1dcd25a93827",
   "metadata": {},
   "outputs": [],
   "source": []
  },
  {
   "cell_type": "code",
   "execution_count": null,
   "id": "be5a682e-be27-49ad-8f43-f3925999f888",
   "metadata": {},
   "outputs": [],
   "source": [
    "images = []\n",
    "for i, pose in tqdm(enumerate(object_poses)):\n",
    "    rgbd = viz.capture_image(intrinsics, b.t3d.inverse_pose(pose))\n",
    "    images.append(rgbd)\n",
    "b.hstack_images([b.get_rgb_image(rgbd.rgb) for rgbd in images])"
   ]
  },
  {
   "cell_type": "code",
   "execution_count": null,
   "id": "0882c5ab-694d-4ff1-80e9-979422a9c69d",
   "metadata": {},
   "outputs": [],
   "source": []
  }
 ],
 "metadata": {
  "kernelspec": {
   "display_name": "Python 3 (ipykernel)",
   "language": "python",
   "name": "python3"
  },
  "language_info": {
   "codemirror_mode": {
    "name": "ipython",
    "version": 3
   },
   "file_extension": ".py",
   "mimetype": "text/x-python",
   "name": "python",
   "nbconvert_exporter": "python",
   "pygments_lexer": "ipython3",
   "version": "3.9.16"
  }
 },
 "nbformat": 4,
 "nbformat_minor": 5
}
