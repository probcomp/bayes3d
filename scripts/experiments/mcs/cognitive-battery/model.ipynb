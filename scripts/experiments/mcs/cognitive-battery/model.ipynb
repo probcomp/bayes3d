{
 "cells": [
  {
   "cell_type": "markdown",
   "metadata": {},
   "source": [
    "## Cognitive Battery Introduction: Jax-3DP3"
   ]
  },
  {
   "cell_type": "code",
   "execution_count": 13,
   "metadata": {},
   "outputs": [],
   "source": [
    "import json\n",
    "import os\n",
    "\n",
    "import cog_utils as utils\n",
    "import jax\n",
    "import jax.numpy as jnp\n",
    "import numpy as np\n",
    "from PIL import Image\n",
    "from tqdm import tqdm\n",
    "\n",
    "import jax3dp3\n",
    "from jax3dp3.transforms_3d import transform_from_pos, unproject_depth\n",
    "from jax3dp3.viz import get_depth_image, make_gif_from_pil_images, multi_panel\n",
    "\n",
    "from collections import deque"
   ]
  },
  {
   "cell_type": "code",
   "execution_count": 14,
   "metadata": {},
   "outputs": [],
   "source": [
    "scene = \"swap\"\n",
    "data_path = f\"/home/khaledshehada/cog_jax3dp3_data/{scene}_data/videos/\"\n",
    "num_frames = len(os.listdir(os.path.join(data_path, \"frames\")))"
   ]
  },
  {
   "cell_type": "code",
   "execution_count": 15,
   "metadata": {},
   "outputs": [
    {
     "name": "stdout",
     "output_type": "stream",
     "text": [
      "Increasing frame buffer size to (width, height, depth) = (320, 320, 1024)\n"
     ]
    }
   ],
   "source": [
    "width = 300\n",
    "height = 300\n",
    "fov = 90\n",
    "\n",
    "intrinsics = utils.get_camera_intrinsics(width, height, fov)\n",
    "renderer = jax3dp3.Renderer(intrinsics=intrinsics)"
   ]
  },
  {
   "cell_type": "code",
   "execution_count": 16,
   "metadata": {},
   "outputs": [],
   "source": [
    "rgb_images, depth_images, seg_maps = [], [], []\n",
    "rgb_images_pil = []\n",
    "for i in range(num_frames):\n",
    "    rgb_path = os.path.join(data_path, f\"frames/frame_{i}.jpeg\")\n",
    "    if not os.path.isfile(rgb_path):\n",
    "        rgb_path = rgb_path.replace(\"jpeg\", \"png\")\n",
    "    rgb_img = Image.open(rgb_path)\n",
    "    rgb_images_pil.append(rgb_img)\n",
    "    rgb_images.append(np.array(rgb_img))\n",
    "\n",
    "    depth_path = os.path.join(data_path, f\"depths/frame_{i}.npy\")\n",
    "    depth_npy = np.load(depth_path)\n",
    "    depth_images.append(depth_npy)\n",
    "\n",
    "    seg_map = np.load(os.path.join(data_path, f\"segmented/frame_{i}.npy\"))\n",
    "    seg_maps.append(seg_map)\n",
    "\n",
    "with open(\"resources/scene_crops.json\") as f:\n",
    "    crops = json.load(f)[scene]"
   ]
  },
  {
   "cell_type": "code",
   "execution_count": 17,
   "metadata": {},
   "outputs": [
    {
     "name": "stderr",
     "output_type": "stream",
     "text": [
      "Loading frames: 100%|██████████| 239/239 [00:06<00:00, 34.17it/s]\n"
     ]
    }
   ],
   "source": [
    "coord_images = []  # depth data in 2d view as images\n",
    "seg_images = []  # segmentation data as images\n",
    "\n",
    "for frame_idx in tqdm(range(num_frames), desc=\"Loading frames\"):\n",
    "    coord_image = np.array(unproject_depth(depth_images[frame_idx], intrinsics))\n",
    "    segmentation_image = seg_maps[frame_idx].copy()\n",
    "    mask = np.logical_and.reduce([\n",
    "        *[(coord_image[:, :, i] > crops[i][0]) for i in range(len(crops))],\n",
    "        *[(coord_image[:, :, i] < crops[i][1]) for i in range(len(crops))],        \n",
    "    ])\n",
    "    mask = np.invert(mask)\n",
    "\n",
    "    coord_image[mask, :] = 0.0\n",
    "    segmentation_image[mask, :] = 0.0\n",
    "    coord_images.append(coord_image)\n",
    "    seg_images.append(segmentation_image)\n",
    "\n",
    "coord_images = np.stack(coord_images)\n",
    "seg_images = np.stack(seg_images)"
   ]
  },
  {
   "cell_type": "code",
   "execution_count": 18,
   "metadata": {},
   "outputs": [
    {
     "name": "stdout",
     "output_type": "stream",
     "text": [
      "Found meshes: ['apple', 'mug']\n"
     ]
    }
   ],
   "source": [
    "# Load meshes\n",
    "meshes = []\n",
    "meshes_path = data_path.replace(\"videos\", \"meshes\")\n",
    "for mesh_name in os.listdir(meshes_path):\n",
    "    if not mesh_name.endswith(\".obj\"): continue\n",
    "    mesh_path = os.path.join(meshes_path, mesh_name)\n",
    "    renderer.add_mesh_from_file(mesh_path, force=\"mesh\")\n",
    "    meshes.append(mesh_name.replace(\".obj\", \"\"))\n",
    "print(\"Found meshes:\", meshes)"
   ]
  },
  {
   "cell_type": "code",
   "execution_count": 19,
   "metadata": {},
   "outputs": [
    {
     "data": {
      "image/png": "[encoded data removed]",
      "text/plain": [
       "<PIL.Image.Image image mode=RGB size=300x300 at 0x7F9915752E90>"
      ]
     },
     "execution_count": 19,
     "metadata": {},
     "output_type": "execute_result"
    }
   ],
   "source": [
    "start_t = 11\n",
    "seg_img = seg_images[start_t]\n",
    "\n",
    "Image.fromarray(seg_img)"
   ]
  },
  {
   "cell_type": "code",
   "execution_count": 20,
   "metadata": {},
   "outputs": [
    {
     "data": {
      "image/png": "[encoded data removed]",
      "text/plain": [
       "<PIL.Image.Image image mode=RGBA size=300x300 at 0x7F99606E50D0>"
      ]
     },
     "execution_count": 20,
     "metadata": {},
     "output_type": "execute_result"
    }
   ],
   "source": [
    "num_objects = 10\n",
    "indices, init_poses = [], []\n",
    "obj_ids = jnp.unique(seg_img.reshape(-1, 3), axis=0)\n",
    "obj_ids = sorted(\n",
    "    obj_ids, key=lambda x: jnp.all(seg_img == x, axis=-1).sum(), reverse=True\n",
    ")\n",
    "for obj_id in obj_ids[:num_objects]:\n",
    "    if jnp.all(obj_id == 0):\n",
    "        # Background\n",
    "        continue\n",
    "\n",
    "    obj_mask = jnp.all(seg_img == obj_id, axis=-1)\n",
    "    masked_depth = coord_images[start_t].copy()\n",
    "    masked_depth[~obj_mask] = 0\n",
    "\n",
    "    object_points = coord_images[start_t][obj_mask]\n",
    "    maxs = np.max(object_points, axis=0)\n",
    "    mins = np.min(object_points, axis=0)\n",
    "    dims = maxs - mins\n",
    "    obj_center = (maxs + mins) / 2\n",
    "    obj_transform = transform_from_pos(obj_center)\n",
    "\n",
    "    best = utils.find_best_mesh(renderer, meshes, obj_transform, masked_depth)\n",
    "    if best:\n",
    "        indices.append(best[0])\n",
    "        init_poses.append(best[1])\n",
    "\n",
    "init_poses = jnp.array(init_poses)\n",
    "rendered_image = renderer.render_multiobject(init_poses, indices)\n",
    "get_depth_image(rendered_image[:, :, 2], max=5)"
   ]
  },
  {
   "cell_type": "markdown",
   "metadata": {},
   "source": [
    "6. Define the liklihood methods and the proposal enumerations."
   ]
  },
  {
   "cell_type": "code",
   "execution_count": 21,
   "metadata": {},
   "outputs": [],
   "source": [
    "# Enumerating proposals\n",
    "def make_unfiform_grid(n, d):\n",
    "    # d: number of enumerated proposals on each dimension (x, y, z).\n",
    "    # n: the minimum and maximum position delta on each dimension (x, y, z).\n",
    "    return jax3dp3.make_translation_grid_enumeration(\n",
    "        -d, -d, -d, d, d, d, n, n, n\n",
    "    )\n",
    "\n",
    "def prior(new_pose, prev_poses):\n",
    "    new_pose = new_pose[:3,3]\n",
    "    gravity_shift = jnp.array([0.0, 0.2, 0.0])\n",
    "    velocity_shift = new_pose - prev_poses[:,:3,3].mean(axis=0)\n",
    "    \n",
    "    prev_pose = prev_poses[-1][:3,3]\n",
    "    prior_shifts = gravity_shift + velocity_shift\n",
    "    weight = jax.scipy.stats.norm.logpdf(new_pose - (prev_pose + prior_shifts), loc=0, scale=0.1)\n",
    "    return weight.sum()\n",
    "\n",
    "prior_parallel = jax.jit(jax.vmap(prior, in_axes=(0, None)))\n",
    "\n",
    "def scorer(rendered_image, gt, r=0.1, op=0.005, ov=0.5):\n",
    "    # Liklihood parameters\n",
    "    # r: radius\n",
    "    # op: outlier probability\n",
    "    # ov: outlier volume\n",
    "    weight = jax3dp3.likelihood.threedp3_likelihood(\n",
    "        gt, rendered_image, r, op, ov\n",
    "    )\n",
    "    return weight\n",
    "scorer_parallel = jax.jit(jax.vmap(scorer, in_axes=(0, None)))"
   ]
  },
  {
   "cell_type": "code",
   "execution_count": 22,
   "metadata": {},
   "outputs": [],
   "source": [
    "pose_estimates = init_poses.copy()\n",
    "t = start_t\n",
    "gt_image = jnp.array(coord_images[t])\n",
    "\n",
    "translation_deltas = make_unfiform_grid(7, 0.05)\n",
    "translation_deltas_full = jnp.tile(\n",
    "    jnp.eye(4)[None, :, :],\n",
    "    (translation_deltas.shape[0], pose_estimates.shape[0], 1, 1),\n",
    ")\n",
    "translation_deltas_full = translation_deltas_full.at[:, 0, :, :].set(translation_deltas)\n",
    "translation_proposals = jnp.einsum(\n",
    "    \"bij,abjk->abik\", pose_estimates, translation_deltas_full\n",
    ")\n",
    "images = renderer.render_parallel(translation_proposals, 0)\n",
    "weights_new = scorer_parallel(images, gt_image)\n",
    "pose_estimates = translation_proposals[jnp.argmax(weights_new)]"
   ]
  },
  {
   "cell_type": "code",
   "execution_count": 23,
   "metadata": {},
   "outputs": [
    {
     "name": "stderr",
     "output_type": "stream",
     "text": [
      " 10%|█         | 23/228 [01:09<10:02,  2.94s/it]"
     ]
    },
    {
     "name": "stdout",
     "output_type": "stream",
     "text": [
      "contained by 3\n"
     ]
    },
    {
     "name": "stderr",
     "output_type": "stream",
     "text": [
      "100%|██████████| 228/228 [10:08<00:00,  2.67s/it]\n"
     ]
    }
   ],
   "source": [
    "num_steps = num_frames - start_t\n",
    "# num_steps = 30\n",
    "iterations_per_step = 1\n",
    "num_past_poses = 3\n",
    "n_objects = pose_estimates.shape[0]\n",
    "reward_idx = n_objects - 1\n",
    "\n",
    "containment_relations = {}\n",
    "objs_deltas = {}\n",
    "\n",
    "inferred_poses = []\n",
    "pose_estimates = init_poses.copy()\n",
    "past_poses = {i: deque([pose_estimates[i]]) for i in range(pose_estimates.shape[0])}\n",
    "for t in tqdm(range(start_t, start_t + num_steps)):\n",
    "    gt_image = jnp.array(coord_images[t])    \n",
    "    for _ in range(iterations_per_step):\n",
    "        for i in range(n_objects):\n",
    "            if i in set(containment_relations.values()):\n",
    "                continue\n",
    "\n",
    "            # Check for occlusion\n",
    "            if i == reward_idx:\n",
    "                occluded = utils.check_occlusion(renderer, pose_estimates, indices, i)\n",
    "                if occluded:\n",
    "                    containing_obj = utils.check_containment(renderer, pose_estimates, indices, i)\n",
    "                    if containing_obj is not None:\n",
    "                        containment_relations[containing_obj] = i\n",
    "                        continue\n",
    "            \n",
    "            for d in [0.2, 0.1, 0.05]:\n",
    "                translation_deltas = make_unfiform_grid(n=7, d=d)\n",
    "                translation_deltas_full = jnp.tile(\n",
    "                    jnp.eye(4)[None, :, :],\n",
    "                    (translation_deltas.shape[0], pose_estimates.shape[0], 1, 1),\n",
    "                )\n",
    "                translation_deltas_full = translation_deltas_full.at[:, i, :, :].set(translation_deltas)\n",
    "                translation_proposals = jnp.einsum(\n",
    "                    \"bij,abjk->abik\", pose_estimates, translation_deltas_full\n",
    "                )\n",
    "                images = renderer.render_multiobject_parallel(translation_proposals.transpose((1,0,2,3)), indices)\n",
    "                \n",
    "                weights = scorer_parallel(images, gt_image) + prior_parallel(translation_proposals[:,i], jnp.array(past_poses[i]))\n",
    "                best_weight_idx = jnp.argmax(weights)\n",
    "                best_proposal = translation_proposals[best_weight_idx]\n",
    "                pose_estimates = best_proposal\n",
    "                \n",
    "            past_poses[i].append(pose_estimates[i])\n",
    "            if len(past_poses[i]) > num_past_poses:\n",
    "                past_poses[i].popleft()\n",
    "    \n",
    "        for i, j in containment_relations.items():\n",
    "            i_delta_pose = past_poses[i][-1] - past_poses[i][-2]\n",
    "            new_pose_estimate = pose_estimates[j] + i_delta_pose\n",
    "            pose_estimates = pose_estimates.at[j].set(new_pose_estimate)\n",
    "        \n",
    "    inferred_poses.append(pose_estimates.copy())"
   ]
  },
  {
   "cell_type": "code",
   "execution_count": 24,
   "metadata": {},
   "outputs": [
    {
     "name": "stderr",
     "output_type": "stream",
     "text": [
      "100%|██████████| 228/228 [00:18<00:00, 12.12it/s]\n"
     ]
    },
    {
     "name": "stdout",
     "output_type": "stream",
     "text": [
      "Saved output to: swap_out.gif\n"
     ]
    },
    {
     "ename": "",
     "evalue": "",
     "output_type": "error",
     "traceback": [
      "\u001b[1;31mThe Kernel crashed while executing code in the the current cell or a previous cell. Please review the code in the cell(s) to identify a possible cause of the failure. Click <a href='https://aka.ms/vscodeJupyterKernelCrash'>here</a> for more info. View Jupyter <a href='command:jupyter.viewOutput'>log</a> for further details."
     ]
    }
   ],
   "source": [
    "all_images = []\n",
    "for t in tqdm(range(start_t, start_t + num_steps)):\n",
    "    rgb_viz = Image.fromarray(rgb_images[t].astype(np.int8), mode=\"RGB\")\n",
    "    gt_depth_1 = get_depth_image(coord_images[t][:, :, 2], max=5.0)\n",
    "    poses = inferred_poses[t - start_t]\n",
    "    rendered_image = renderer.render_multiobject(poses, indices)\n",
    "    rendered_image = get_depth_image(rendered_image[:, :, 2], max=5)\n",
    "\n",
    "    apple_pose = poses[-1]\n",
    "    rendered_apple = renderer.render_single_object(apple_pose, indices[-1])\n",
    "    rendered_apple = [get_depth_image(rendered_apple[:, :, 2], max=5)]\n",
    "    \n",
    "    all_images.append(\n",
    "        multi_panel(\n",
    "            [rgb_viz, gt_depth_1, rendered_image, *rendered_apple],\n",
    "            [\n",
    "                f\"\\nRGB Image\",\n",
    "                f\"   Frame: {t}\\nActual Depth\",\n",
    "                \"\\nReconstructed Depth\",\n",
    "                *([\"\\nApple Only\"] * len(rendered_apple)),\n",
    "            ],\n",
    "            middle_width=10,\n",
    "            label_fontsize=20,\n",
    "        )\n",
    "    )\n",
    "out_path = f\"{scene}_out.gif\"\n",
    "make_gif_from_pil_images(all_images, out_path)\n",
    "print(\"Saved output to:\", out_path)"
   ]
  }
 ],
 "metadata": {
  "kernelspec": {
   "display_name": "venv",
   "language": "python",
   "name": "python3"
  },
  "language_info": {
   "codemirror_mode": {
    "name": "ipython",
    "version": 3
   },
   "file_extension": ".py",
   "mimetype": "text/x-python",
   "name": "python",
   "nbconvert_exporter": "python",
   "pygments_lexer": "ipython3",
   "version": "3.7.12"
  },
  "orig_nbformat": 4,
  "vscode": {
   "interpreter": {
    "hash": "9a3868bdd7d3c8a3e0bdbdcc5d56cecdac1cfc8e4c924f480e3352f5fc391e73"
   }
  }
 },
 "nbformat": 4,
 "nbformat_minor": 2
}
