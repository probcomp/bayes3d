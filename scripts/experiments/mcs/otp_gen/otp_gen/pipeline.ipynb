{
 "cells": [
  {
   "cell_type": "markdown",
   "metadata": {},
   "source": [
    "### Load Example Scene Graph "
   ]
  },
  {
   "cell_type": "code",
   "execution_count": null,
   "metadata": {},
   "outputs": [],
   "source": [
    "import jax.numpy as jnp\n",
    "import bayes3d as b\n",
    "import numpy as np\n",
    "import bayes3d.utils.ycb_loader\n",
    "import trimesh\n",
    "import jax\n",
    "import os\n",
    "from tqdm import tqdm\n",
    "\n",
    "\n",
    "def test_ycb_loading():\n",
    "    bop_ycb_dir = os.path.join(b.utils.get_assets_dir(), \"bop/ycbv\")\n",
    "    rgbd, gt_ids, gt_poses, masks = b.utils.ycb_loader.get_test_img('52', '1', bop_ycb_dir)\n",
    "\n",
    "    b.setup_renderer(rgbd.intrinsics, num_layers=1)\n",
    "\n",
    "    model_dir =os.path.join(b.utils.get_assets_dir(), \"bop/ycbv/models\")\n",
    "    for idx in range(1,22):\n",
    "        b.RENDERER.add_mesh_from_file(os.path.join(model_dir,\"obj_\" + \"{}\".format(idx).rjust(6, '0') + \".ply\"),scaling_factor=1.0/1000.0)\n",
    "\n",
    "    reconstruction_depth = b.RENDERER.render(gt_poses, gt_ids)[:,:,2]\n",
    "    match_fraction = (jnp.abs(rgbd.depth - reconstruction_depth) < 0.05).mean()\n",
    "    assert match_fraction > 0.2\n",
    "\n",
    "bop_ycb_dir = os.path.join(b.utils.get_assets_dir(), \"bop/ycbv\")\n",
    "rgbd, gt_ids, gt_poses, masks = b.utils.ycb_loader.get_test_img('55', '22', bop_ycb_dir)\n",
    "poses = jnp.concatenate([jnp.eye(4)[None,...], rgbd.camera_pose @ gt_poses],axis=0)\n",
    "ids = jnp.concatenate([jnp.array([21]), gt_ids],axis=0)\n",
    "\n",
    "\n",
    "b.setup_renderer(rgbd.intrinsics, num_layers=1)\n",
    "\n",
    "model_dir =os.path.join(b.utils.get_assets_dir(), \"bop/ycbv/models\")\n",
    "for idx in range(1,22):\n",
    "    b.RENDERER.add_mesh_from_file(os.path.join(model_dir,\"obj_\" + \"{}\".format(idx).rjust(6, '0') + \".ply\"),scaling_factor=1.0/1000.0)\n",
    "\n",
    "b.RENDERER.add_mesh_from_file(os.path.join(b.utils.get_assets_dir(), \"sample_objs/cube.obj\"), scaling_factor=1.0/1000000000.0)\n",
    "\n",
    "scene_graph = b.scene_graph.SceneGraph(\n",
    "    root_poses=poses,\n",
    "    box_dimensions=b.RENDERER.model_box_dims[ids],\n",
    "    parents=jnp.full(poses.shape[0], -1),\n",
    "    contact_params=jnp.zeros((poses.shape[0],3)),\n",
    "    face_parent=jnp.zeros(poses.shape[0], dtype=jnp.int32),\n",
    "    face_child=jnp.zeros(poses.shape[0], dtype=jnp.int32),\n",
    ")\n",
    "assert jnp.isclose(scene_graph.get_poses(), poses).all()\n",
    "\n",
    "def get_slack(scene_graph, parent_object_index, child_object_index, face_parent, face_child):\n",
    "    parent_pose = scene_graph.get_poses()[parent_object_index]\n",
    "    child_pose = scene_graph.get_poses()[child_object_index]\n",
    "    dims_parent = scene_graph.box_dimensions[parent_object_index]\n",
    "    dims_child = scene_graph.box_dimensions[child_object_index]\n",
    "    parent_contact_plane = parent_pose @ b.scene_graph.get_contact_planes(dims_parent)[face_parent]\n",
    "    child_contact_plane = child_pose @ b.scene_graph.get_contact_planes(dims_child)[face_child]\n",
    "\n",
    "    contact_params, slack = b.scene_graph.closest_approximate_contact_params(parent_contact_plane, child_contact_plane)\n",
    "    return jnp.array([parent_object_index, child_object_index, face_parent, face_child]), contact_params, slack\n",
    "\n",
    "add_edge_scene_graph = jax.jit(b.scene_graph.add_edge_scene_graph)\n",
    "\n",
    "N = poses.shape[0]\n",
    "# b.setup_visualizer()\n",
    "\n",
    "get_slack_vmap = jax.jit(b.utils.multivmap(get_slack, (False, False, False, True, True)))\n",
    "\n",
    "edges = [(0,1),(0,2),(0,3),(0,4),(0,6),(2,5)]\n",
    "for i,j in edges:\n",
    "    settings, contact_params, slacks = get_slack_vmap(scene_graph, i,j, jnp.arange(6), jnp.arange(6))\n",
    "    settings = settings.reshape(-1,settings.shape[-1])\n",
    "    contact_params = contact_params.reshape(-1,contact_params.shape[-1])\n",
    "    error = jnp.abs(slacks - jnp.eye(4)).sum([-1,-2]).reshape(-1)\n",
    "    indices = jnp.argsort(error.reshape(-1))\n",
    "\n",
    "    parent_object_index, child_object_index, face_parent, face_child = settings[indices[0]]\n",
    "    scene_graph = add_edge_scene_graph(scene_graph,parent_object_index, child_object_index, face_parent, face_child, contact_params[indices[0]])\n",
    "\n",
    "node_names = np.array([*b.utils.ycb_loader.MODEL_NAMES, \"table\"])\n",
    "scene_graph.table_visualize(\"graph.png\", node_names=list(map(str,enumerate(node_names[ids]))))"
   ]
  },
  {
   "cell_type": "code",
   "execution_count": null,
   "metadata": {},
   "outputs": [],
   "source": [
    "from PIL import Image as im \n",
    "# Show YCB Image\n",
    "np_rep = np.array(rgbd.rgb.copy())\n",
    "image  = im.fromarray(np_rep)\n",
    "image.save(\"base_ycb/55_22.png\")\n",
    "scene_graph.table_visualize(\"scene_graphs/55_22.svg\", node_names=list(map(str,enumerate(node_names[ids]))))\n",
    "image"
   ]
  },
  {
   "cell_type": "code",
   "execution_count": null,
   "metadata": {},
   "outputs": [],
   "source": [
    "# Show Scene Graph \n",
    "graph_vis = im.open(\"graph.png\")\n",
    "graph_vis"
   ]
  },
  {
   "cell_type": "code",
   "execution_count": null,
   "metadata": {},
   "outputs": [],
   "source": [
    "from bayes3d._rendering.photorealistic_renderers.kubric_interface import render_many\n",
    "# create mesh_paths, could take from scene_graph construction. \n",
    "model_dir =os.path.join(b.utils.get_assets_dir(), \"ycb_video_models/models\")\n",
    "model_paths = []\n",
    "for model_name in node_names[ids]:\n",
    "    model_paths.append(os.path.join(model_dir,model_name +\"/textured.obj\"))\n",
    "\n",
    "# add table as root node \n",
    "model_paths[0] = os.path.join(b.utils.get_assets_dir(), \"sample_objs/table.obj\")\n",
    "poses = scene_graph.get_poses()\n",
    "intrinsics = rgbd.intrinsics\n",
    "scaling_factor = 1.0\n",
    "\n",
    "# Pass through and render \n",
    "outputs = render_many(model_paths, poses[None,...], intrinsics, scaling_factor=scaling_factor, camera_pose = rgbd.camera_pose)"
   ]
  },
  {
   "cell_type": "code",
   "execution_count": null,
   "metadata": {},
   "outputs": [],
   "source": [
    "poses.shape"
   ]
  },
  {
   "cell_type": "code",
   "execution_count": null,
   "metadata": {},
   "outputs": [],
   "source": [
    "image = b.get_rgb_image(outputs[0].rgb)\n",
    "image.save(f\"reconstruction/{55}_{22}.png\")"
   ]
  },
  {
   "cell_type": "markdown",
   "metadata": {},
   "source": [
    "## Repeat for a few scenes"
   ]
  },
  {
   "cell_type": "code",
   "execution_count": null,
   "metadata": {},
   "outputs": [],
   "source": [
    "import jax.numpy as jnp\n",
    "import bayes3d as b\n",
    "import numpy as np\n",
    "import bayes3d.utils.ycb_loader\n",
    "import trimesh\n",
    "import jax\n",
    "import os\n",
    "from tqdm import tqdm\n",
    "from bayes3d._rendering.photorealistic_renderers.kubric_interface import render_many\n",
    "from PIL import Image as im \n",
    "\n",
    "\n",
    "def ycb_load(test_set, image_number):\n",
    "    test_set = str(test_set)\n",
    "    image_number = str(image_number)\n",
    "    bop_ycb_dir = os.path.join(b.utils.get_assets_dir(), \"bop/ycbv\")\n",
    "    rgbd, gt_ids, gt_poses, masks = b.utils.ycb_loader.get_test_img(test_set, image_number, bop_ycb_dir)\n",
    "    poses = jnp.concatenate([jnp.eye(4)[None,...], rgbd.camera_pose @ gt_poses],axis=0)\n",
    "    ids = jnp.concatenate([jnp.array([21]), gt_ids],axis=0)\n",
    "\n",
    "\n",
    "    b.setup_renderer(rgbd.intrinsics, num_layers=1) \n",
    "\n",
    "    model_dir =os.path.join(b.utils.get_assets_dir(), \"bop/ycbv/models\")\n",
    "    for idx in range(1,22):\n",
    "        b.RENDERER.add_mesh_from_file(os.path.join(model_dir,\"obj_\" + \"{}\".format(idx).rjust(6, '0') + \".ply\"),scaling_factor=1.0/1000.0)\n",
    "\n",
    "    b.RENDERER.add_mesh_from_file(os.path.join(b.utils.get_assets_dir(), \"sample_objs/cube.obj\"), scaling_factor=1.0/1000000000.0)\n",
    "\n",
    "    scene_graph = b.scene_graph.SceneGraph(\n",
    "        root_poses=poses,\n",
    "        box_dimensions=b.RENDERER.model_box_dims[ids],\n",
    "        parents=jnp.full(poses.shape[0], -1),\n",
    "        contact_params=jnp.zeros((poses.shape[0],3)),\n",
    "        face_parent=jnp.zeros(poses.shape[0], dtype=jnp.int32),\n",
    "        face_child=jnp.zeros(poses.shape[0], dtype=jnp.int32),\n",
    "    )\n",
    "    assert jnp.isclose(scene_graph.get_poses(), poses).all()\n",
    "\n",
    "    # add_edge_scene_graph = jax.jit(b.scene_graph.add_edge_scene_graph)\n",
    "\n",
    "    N = poses.shape[0]\n",
    "\n",
    "    get_slack_vmap = jax.jit(b.utils.multivmap(get_slack, (False, False, False, True, True)))\n",
    "    return scene_graph, rgbd, ids\n",
    "\n",
    "def get_slack(scene_graph, parent_object_index, child_object_index, face_parent, face_child):\n",
    "    parent_pose = scene_graph.get_poses()[parent_object_index]\n",
    "    child_pose = scene_graph.get_poses()[child_object_index]\n",
    "    dims_parent = scene_graph.box_dimensions[parent_object_index]\n",
    "    dims_child = scene_graph.box_dimensions[child_object_index]\n",
    "    parent_contact_plane = parent_pose @ b.scene_graph.get_contact_planes(dims_parent)[face_parent]\n",
    "    child_contact_plane = child_pose @ b.scene_graph.get_contact_planes(dims_child)[face_child]\n",
    "\n",
    "    contact_params, slack = b.scene_graph.closest_approximate_contact_params(parent_contact_plane, child_contact_plane)\n",
    "    return jnp.array([parent_object_index, child_object_index, face_parent, face_child]), contact_params, slack\n",
    "add_edge_scene_graph = jax.jit(b.scene_graph.add_edge_scene_graph)\n",
    "get_slack_vmap = jax.jit(b.utils.multivmap(get_slack, (False, False, False, True, True)))\n",
    "\n",
    "def vis_scene_graph(scene_graph,edges, name = \"graph.png\"): \n",
    "    for i,j in edges:\n",
    "        settings, contact_params, slacks = get_slack_vmap(scene_graph, i,j, jnp.arange(6), jnp.arange(6))\n",
    "        settings = settings.reshape(-1,settings.shape[-1])\n",
    "        contact_params = contact_params.reshape(-1,contact_params.shape[-1])\n",
    "        error = jnp.abs(slacks - jnp.eye(4)).sum([-1,-2]).reshape(-1)\n",
    "        indices = jnp.argsort(error.reshape(-1))\n",
    "\n",
    "        parent_object_index, child_object_index, face_parent, face_child = settings[indices[0]]\n",
    "        scene_graph = add_edge_scene_graph(scene_graph,parent_object_index, child_object_index, face_parent, face_child, contact_params[indices[0]])\n",
    "\n",
    "    node_names = np.array([*b.utils.ycb_loader.MODEL_NAMES, \"table\"])\n",
    "    scene_graph.table_visualize(name, node_names=list(map(str,enumerate(node_names[ids]))))\n",
    "    return node_names \n",
    "\n",
    "def render_sg_kubric(node_names, scene_graph, rgbd):\n",
    "    # create mesh_paths, could take from scene_graph construction. \n",
    "    model_dir =os.path.join(b.utils.get_assets_dir(), \"ycb_video_models/models\")\n",
    "    model_paths = []\n",
    "    for model_name in node_names[ids]:\n",
    "        model_paths.append(os.path.join(model_dir,model_name +\"/textured.obj\"))\n",
    "\n",
    "    # add table as root node \n",
    "    model_paths[0] = os.path.join(b.utils.get_assets_dir(), \"sample_objs/plane.obj\")\n",
    "    poses = scene_graph.get_poses()\n",
    "    intrinsics = rgbd.intrinsics\n",
    "    scaling_factor = 1.0\n",
    "\n",
    "    # Pass through and render (note; it seems the ycb requires a rotation)\n",
    "    camera_pose = rgbd.camera_pose @ b.t3d.transform_from_axis_angle(jnp.array([1.0, 0.0,0.0]), jnp.pi)\n",
    "    outputs = render_many(model_paths, poses[None,...], intrinsics, scaling_factor=scaling_factor, camera_pose = rgbd.camera_pose)\n",
    "    return outputs"
   ]
  },
  {
   "cell_type": "markdown",
   "metadata": {},
   "source": [
    "### 49-1 "
   ]
  },
  {
   "cell_type": "code",
   "execution_count": null,
   "metadata": {},
   "outputs": [],
   "source": [
    "set_num, img_num = 49,1\n",
    "scene_graph, rgbd, ids = ycb_load(set_num,img_num)\n",
    "np_rep = np.array(rgbd.rgb.copy())\n",
    "image  = im.fromarray(np_rep)\n",
    "file = f\"{set_num}_{img_num}\"\n",
    "image.save(f\"base_ycb/{file}.png\")\n",
    "image"
   ]
  },
  {
   "cell_type": "code",
   "execution_count": null,
   "metadata": {},
   "outputs": [],
   "source": [
    "edges = [(0,2), (0,4), (0,3), (4,1)]\n",
    "\n",
    "name = f\"{file}.svg\"\n",
    "node_names = vis_scene_graph(scene_graph, edges,name)\n",
    "print(node_names)\n",
    "graph_vis = im.open(name)\n",
    "graph_vis"
   ]
  },
  {
   "cell_type": "code",
   "execution_count": null,
   "metadata": {},
   "outputs": [],
   "source": [
    "outputs = render_sg_kubric(node_names, scene_graph, rgbd)"
   ]
  },
  {
   "cell_type": "code",
   "execution_count": null,
   "metadata": {},
   "outputs": [],
   "source": [
    "image = b.get_rgb_image(outputs[0].rgb)\n",
    "image.save(f\"reconstruction/{file}.png\")\n",
    "image"
   ]
  },
  {
   "cell_type": "markdown",
   "metadata": {},
   "source": [
    "### 51-1 "
   ]
  },
  {
   "cell_type": "code",
   "execution_count": null,
   "metadata": {},
   "outputs": [],
   "source": [
    "scene_graph, rgbd, ids = ycb_load(51,1)\n",
    "np_rep = np.array(rgbd.rgb.copy())\n",
    "image  = im.fromarray(np_rep)\n",
    "image.save(f\"base_ycb/{51}_{1}.png\")\n",
    "image"
   ]
  },
  {
   "cell_type": "code",
   "execution_count": null,
   "metadata": {},
   "outputs": [],
   "source": [
    "edges = [(0,1), (0,3),(0,4),(0,5),(5,2)]\n",
    "\n",
    "name = \"scene_graphs/51_1.svg\"\n",
    "node_names = vis_scene_graph(scene_graph, edges,name)\n",
    "print(node_names[ids])\n",
    "graph_vis = im.open(name)\n",
    "graph_vis"
   ]
  },
  {
   "cell_type": "code",
   "execution_count": null,
   "metadata": {},
   "outputs": [],
   "source": [
    "outputs = render_sg_kubric(node_names, scene_graph, rgbd)\n",
    "image = b.get_rgb_image(outputs[0].rgb)\n",
    "image.save(f\"reconstruction/{51}_{1}.png\")\n",
    "image"
   ]
  },
  {
   "cell_type": "markdown",
   "metadata": {},
   "source": [
    "### 50-620"
   ]
  },
  {
   "cell_type": "code",
   "execution_count": null,
   "metadata": {},
   "outputs": [],
   "source": [
    "set_num, img_num = 50,620\n",
    "scene_graph, rgbd, ids = ycb_load(set_num,img_num)\n",
    "np_rep = np.array(rgbd.rgb.copy())\n",
    "image  = im.fromarray(np_rep)\n",
    "file = f\"{set_num}_{img_num}\"\n",
    "image.save(f\"base_ycb/{file}.png\")\n",
    "image"
   ]
  },
  {
   "cell_type": "code",
   "execution_count": null,
   "metadata": {},
   "outputs": [],
   "source": [
    "edges = [(0,2), (0,4), (0,3), (0,1), (0,5)]\n",
    "\n",
    "name = f\"scene_graphs/{file}.svg\"\n",
    "node_names = vis_scene_graph(scene_graph, edges,name)\n",
    "print(node_names)\n",
    "# graph_vis = im.open(name)\n",
    "# graph_vis"
   ]
  },
  {
   "cell_type": "code",
   "execution_count": null,
   "metadata": {},
   "outputs": [],
   "source": [
    "outputs = render_sg_kubric(node_names, scene_graph, rgbd)\n",
    "image = b.get_rgb_image(outputs[0].rgb)\n",
    "image.save(f\"reconstruction/{file}.png\")\n",
    "image"
   ]
  },
  {
   "cell_type": "markdown",
   "metadata": {},
   "source": [
    "### 54-1"
   ]
  },
  {
   "cell_type": "code",
   "execution_count": null,
   "metadata": {},
   "outputs": [],
   "source": [
    "set_num, img_num = 54,1\n",
    "scene_graph, rgbd, ids = ycb_load(set_num,img_num)\n",
    "np_rep = np.array(rgbd.rgb.copy())\n",
    "image  = im.fromarray(np_rep)\n",
    "file = f\"{set_num}_{img_num}\"\n",
    "image.save(f\"base_ycb/{file}.png\")\n",
    "image"
   ]
  },
  {
   "cell_type": "code",
   "execution_count": null,
   "metadata": {},
   "outputs": [],
   "source": [
    "edges = [(0,2), (0,4), (0,3), (0,1), (0,5)]\n",
    "\n",
    "name = f\"scene_graphs/{file}.svg\"\n",
    "node_names = vis_scene_graph(scene_graph, edges,name)\n",
    "print(node_names)"
   ]
  },
  {
   "cell_type": "code",
   "execution_count": null,
   "metadata": {},
   "outputs": [],
   "source": [
    "outputs = render_sg_kubric(node_names, scene_graph, rgbd)\n",
    "image = b.get_rgb_image(outputs[0].rgb)\n",
    "image.save(f\"reconstruction/{file}.png\")\n",
    "image"
   ]
  },
  {
   "cell_type": "markdown",
   "metadata": {},
   "source": [
    "### 56-1"
   ]
  },
  {
   "cell_type": "code",
   "execution_count": null,
   "metadata": {},
   "outputs": [],
   "source": [
    "set_num, img_num = 56,1\n",
    "scene_graph, rgbd, ids = ycb_load(set_num,img_num)\n",
    "np_rep = np.array(rgbd.rgb.copy())\n",
    "image  = im.fromarray(np_rep)\n",
    "file = f\"{set_num}_{img_num}\"\n",
    "image.save(f\"base_ycb/{file}.png\")\n",
    "image"
   ]
  },
  {
   "cell_type": "code",
   "execution_count": null,
   "metadata": {},
   "outputs": [],
   "source": [
    "edges = [(0,2), (0,4), (0,3), (0,1), (0,5)]\n",
    "\n",
    "name = f\"scene_graphs/{file}.svg\"\n",
    "node_names = vis_scene_graph(scene_graph, edges,name)\n",
    "print(node_names)"
   ]
  },
  {
   "cell_type": "code",
   "execution_count": null,
   "metadata": {},
   "outputs": [],
   "source": [
    "outputs = render_sg_kubric(node_names, scene_graph, rgbd)\n",
    "image = b.get_rgb_image(outputs[0].rgb)\n",
    "image.save(f\"reconstruction/{file}.png\")\n",
    "image"
   ]
  },
  {
   "cell_type": "markdown",
   "metadata": {},
   "source": [
    "### 57-1"
   ]
  },
  {
   "cell_type": "code",
   "execution_count": null,
   "metadata": {},
   "outputs": [],
   "source": [
    "set_num, img_num = 57,1\n",
    "scene_graph, rgbd, ids = ycb_load(set_num,img_num)\n",
    "np_rep = np.array(rgbd.rgb.copy())\n",
    "image  = im.fromarray(np_rep)\n",
    "file = f\"{set_num}_{img_num}\"\n",
    "image.save(f\"base_ycb/{file}.png\")\n",
    "image"
   ]
  },
  {
   "cell_type": "code",
   "execution_count": null,
   "metadata": {},
   "outputs": [],
   "source": [
    "edges = [(0,2), (0,4), (5,3), (0,1), (0,5)]\n",
    "\n",
    "name = f\"scene_graphs/{file}.svg\"\n",
    "node_names = vis_scene_graph(scene_graph, edges,name)\n",
    "print(node_names[ids])"
   ]
  },
  {
   "cell_type": "code",
   "execution_count": null,
   "metadata": {},
   "outputs": [],
   "source": [
    "outputs = render_sg_kubric(node_names, scene_graph, rgbd)\n",
    "image = b.get_rgb_image(outputs[0].rgb)\n",
    "image.save(f\"reconstruction/{file}.png\")\n",
    "image"
   ]
  },
  {
   "cell_type": "markdown",
   "metadata": {},
   "source": [
    "### 58-30"
   ]
  },
  {
   "cell_type": "code",
   "execution_count": null,
   "metadata": {},
   "outputs": [],
   "source": [
    "set_num, img_num = 58,30\n",
    "scene_graph, rgbd, ids = ycb_load(set_num,img_num)\n",
    "np_rep = np.array(rgbd.rgb.copy())\n",
    "image  = im.fromarray(np_rep)\n",
    "file = f\"{set_num}_{img_num}\"\n",
    "image.save(f\"base_ycb/{file}.png\")\n",
    "image"
   ]
  },
  {
   "cell_type": "code",
   "execution_count": null,
   "metadata": {},
   "outputs": [],
   "source": [
    "edges = [(0,2), (0,4), (0,3), (0,1), (0,5)]\n",
    "\n",
    "name = f\"scene_graphs/{file}.svg\"\n",
    "node_names = vis_scene_graph(scene_graph, edges,name)\n",
    "print(node_names)"
   ]
  },
  {
   "cell_type": "code",
   "execution_count": null,
   "metadata": {},
   "outputs": [],
   "source": [
    "outputs = render_sg_kubric(node_names, scene_graph, rgbd)\n",
    "image = b.get_rgb_image(outputs[0].rgb)\n",
    "image.save(f\"reconstruction/{file}.png\")\n",
    "image"
   ]
  },
  {
   "cell_type": "markdown",
   "metadata": {},
   "source": [
    "### 59-1"
   ]
  },
  {
   "cell_type": "code",
   "execution_count": null,
   "metadata": {},
   "outputs": [],
   "source": [
    "set_num, img_num = 59,1\n",
    "scene_graph, rgbd, ids = ycb_load(set_num,img_num)\n",
    "np_rep = np.array(rgbd.rgb.copy())\n",
    "image  = im.fromarray(np_rep)\n",
    "file = f\"{set_num}_{img_num}\"\n",
    "image.save(f\"base_ycb/{file}.png\")\n",
    "image"
   ]
  },
  {
   "cell_type": "code",
   "execution_count": null,
   "metadata": {},
   "outputs": [],
   "source": [
    "edges = [(0,2), (0,4), (0,3), (0,1), (0,5), (0,6)]\n",
    "\n",
    "name = f\"scene_graphs/{file}.svg\"\n",
    "node_names = vis_scene_graph(scene_graph, edges,name)\n",
    "print(node_names)"
   ]
  },
  {
   "cell_type": "code",
   "execution_count": null,
   "metadata": {},
   "outputs": [],
   "source": [
    "outputs = render_sg_kubric(node_names, scene_graph, rgbd)\n",
    "image = b.get_rgb_image(outputs[0].rgb)\n",
    "image.save(f\"reconstruction/{file}.png\")\n",
    "image"
   ]
  },
  {
   "cell_type": "markdown",
   "metadata": {},
   "source": [
    "### 48-1"
   ]
  },
  {
   "cell_type": "code",
   "execution_count": null,
   "metadata": {},
   "outputs": [],
   "source": [
    "set_num, img_num = 48,1\n",
    "scene_graph, rgbd, ids = ycb_load(set_num,img_num)\n",
    "np_rep = np.array(rgbd.rgb.copy())\n",
    "image  = im.fromarray(np_rep)\n",
    "file = f\"{set_num}_{img_num}\"\n",
    "image.save(f\"base_ycb/{file}.png\")\n",
    "image"
   ]
  },
  {
   "cell_type": "code",
   "execution_count": null,
   "metadata": {},
   "outputs": [],
   "source": [
    "edges = [(0,2), (0,4), (1,3), (0,1), (0,5)]\n",
    "\n",
    "name = f\"scene_graphs/{file}.svg\"\n",
    "node_names = vis_scene_graph(scene_graph, edges,name)\n",
    "print(node_names[ids])"
   ]
  },
  {
   "cell_type": "code",
   "execution_count": null,
   "metadata": {},
   "outputs": [],
   "source": [
    "outputs = render_sg_kubric(node_names, scene_graph, rgbd)\n",
    "image = b.get_rgb_image(outputs[0].rgb)\n",
    "image.save(f\"reconstruction/{file}.png\")\n",
    "image"
   ]
  },
  {
   "cell_type": "markdown",
   "metadata": {},
   "source": [
    "## Add to pbs Scene"
   ]
  },
  {
   "cell_type": "code",
   "execution_count": null,
   "metadata": {},
   "outputs": [],
   "source": [
    "import jax.numpy as jnp\n",
    "import bayes3d as b\n",
    "import numpy as np\n",
    "import bayes3d.utils.ycb_loader\n",
    "import trimesh\n",
    "import jax\n",
    "from bayes3d.utils import pybullet_sim as pbs\n",
    "import os\n",
    "from tqdm import tqdm\n",
    "from bayes3d._rendering.photorealistic_renderers.kubric_interface import render_many\n",
    "from PIL import Image as im \n",
    "\n",
    "scenes = [[49,1],[51,1], [50,620], [54,1], [56,1], [57,1], [58,30], [59,1], [48,1]]\n",
    "\n",
    "def ycb_load(test_set, image_number):\n",
    "    test_set = str(test_set)\n",
    "    image_number = str(image_number)\n",
    "    bop_ycb_dir = os.path.join(b.utils.get_assets_dir(), \"bop/ycbv\")\n",
    "    rgbd, gt_ids, gt_poses, masks = b.utils.ycb_loader.get_test_img(test_set, image_number, bop_ycb_dir)\n",
    "    poses = jnp.concatenate([jnp.eye(4)[None,...], rgbd.camera_pose @ gt_poses],axis=0)\n",
    "    ids = jnp.concatenate([jnp.array([21]), gt_ids],axis=0)\n",
    "\n",
    "\n",
    "    b.setup_renderer(rgbd.intrinsics, num_layers=1) \n",
    "\n",
    "    model_dir =os.path.join(b.utils.get_assets_dir(), \"bop/ycbv/models\")\n",
    "    for idx in range(1,22):\n",
    "        b.RENDERER.add_mesh_from_file(os.path.join(model_dir,\"obj_\" + \"{}\".format(idx).rjust(6, '0') + \".ply\"),scaling_factor=1.0/1000.0)\n",
    "\n",
    "    b.RENDERER.add_mesh_from_file(os.path.join(b.utils.get_assets_dir(), \"sample_objs/cube.obj\"), scaling_factor=1.0/1000000000.0)\n",
    "\n",
    "    scene_graph = b.scene_graph.SceneGraph(\n",
    "        root_poses=poses,\n",
    "        box_dimensions=b.RENDERER.model_box_dims[ids],\n",
    "        parents=jnp.full(poses.shape[0], -1),\n",
    "        contact_params=jnp.zeros((poses.shape[0],3)),\n",
    "        face_parent=jnp.zeros(poses.shape[0], dtype=jnp.int32),\n",
    "        face_child=jnp.zeros(poses.shape[0], dtype=jnp.int32),\n",
    "    )\n",
    "    assert jnp.isclose(scene_graph.get_poses(), poses).all()\n",
    "\n",
    "    # add_edge_scene_graph = jax.jit(b.scene_graph.add_edge_scene_graph)\n",
    "\n",
    "    N = poses.shape[0]\n",
    "\n",
    "    get_slack_vmap = jax.jit(b.utils.multivmap(get_slack, (False, False, False, True, True)))\n",
    "    return scene_graph, rgbd, ids\n",
    "\n",
    "def get_slack(scene_graph, parent_object_index, child_object_index, face_parent, face_child):\n",
    "    parent_pose = scene_graph.get_poses()[parent_object_index]\n",
    "    child_pose = scene_graph.get_poses()[child_object_index]\n",
    "    dims_parent = scene_graph.box_dimensions[parent_object_index]\n",
    "    dims_child = scene_graph.box_dimensions[child_object_index]\n",
    "    parent_contact_plane = parent_pose @ b.scene_graph.get_contact_planes(dims_parent)[face_parent]\n",
    "    child_contact_plane = child_pose @ b.scene_graph.get_contact_planes(dims_child)[face_child]\n",
    "\n",
    "    contact_params, slack = b.scene_graph.closest_approximate_contact_params(parent_contact_plane, child_contact_plane)\n",
    "    return jnp.array([parent_object_index, child_object_index, face_parent, face_child]), contact_params, slack\n",
    "add_edge_scene_graph = jax.jit(b.scene_graph.add_edge_scene_graph)\n",
    "get_slack_vmap = jax.jit(b.utils.multivmap(get_slack, (False, False, False, True, True)))\n",
    "\n",
    "def vis_scene_graph(scene_graph, edges, name = \"graph.png\"): \n",
    "    for i,j in edges:\n",
    "        settings, contact_params, slacks = get_slack_vmap(scene_graph, i,j, jnp.arange(6), jnp.arange(6))\n",
    "        settings = settings.reshape(-1,settings.shape[-1])\n",
    "        contact_params = contact_params.reshape(-1,contact_params.shape[-1])\n",
    "        error = jnp.abs(slacks - jnp.eye(4)).sum([-1,-2]).reshape(-1)\n",
    "        indices = jnp.argsort(error.reshape(-1))\n",
    "\n",
    "        parent_object_index, child_object_index, face_parent, face_child = settings[indices[0]]\n",
    "        scene_graph = add_edge_scene_graph(scene_graph,parent_object_index, child_object_index, face_parent, face_child, contact_params[indices[0]])\n",
    "\n",
    "    node_names = np.array([*b.utils.ycb_loader.MODEL_NAMES, \"table\"])\n",
    "    scene_graph.table_visualize(name, node_names=list(map(str,enumerate(node_names[ids]))))\n",
    "    return node_names \n",
    "\n",
    "def render_sg_kubric(node_names, scene_graph, rgbd):\n",
    "    # create mesh_paths, could take from scene_graph construction. \n",
    "    model_dir =os.path.join(b.utils.get_assets_dir(), \"ycb_video_models/models\")\n",
    "    model_paths = []\n",
    "    for model_name in node_names[ids]:\n",
    "        model_paths.append(os.path.join(model_dir,model_name +\"/textured.obj\"))\n",
    "\n",
    "    # add table as root node \n",
    "    model_paths[0] = os.path.join(b.utils.get_assets_dir(), \"sample_objs/plane.obj\")\n",
    "    poses = scene_graph.get_poses()\n",
    "    intrinsics = rgbd.intrinsics\n",
    "    scaling_factor = 1.0\n",
    "\n",
    "    # Pass through and render \n",
    "    outputs = render_many(model_paths, poses[None,...], intrinsics, scaling_factor=scaling_factor, camera_pose = rgbd.camera_pose)\n",
    "    return outputs\n",
    "\n",
    "def model_paths(node_names, scene_graph, rgbd): \n",
    "    model_dir =os.path.join(b.utils.get_assets_dir(), \"ycb_video_models/models\")\n",
    "    model_paths = []\n",
    "    for model_name in node_names[ids]:\n",
    "        model_paths.append(os.path.join(model_dir,model_name +\"/textured.obj\"))\n",
    "\n",
    "    # add table as root node \n",
    "    model_paths[0] = os.path.join(b.utils.get_assets_dir(), \"sample_objs/plane.obj\")\n",
    "    poses = scene_graph.get_poses()\n",
    "    intrinsics = rgbd.intrinsics\n",
    "    scaling_factor = 1.0\n",
    "    scene = pbs.Scene() "
   ]
  },
  {
   "cell_type": "code",
   "execution_count": null,
   "metadata": {},
   "outputs": [],
   "source": [
    "for set_num, img_num in scenes: \n",
    "    scene_graph, rgbd, ids = ycb_load(set_num,img_num)\n",
    "    edges = [] \n",
    "    node_names = vis_scene_graph(scene_graph, edges)\n",
    "\n",
    "    model_dir =os.path.join(b.utils.get_assets_dir(), \"ycb_video_models/models\")\n",
    "    model_paths = []\n",
    "    for model_name in node_names[ids]:\n",
    "        model_paths.append(os.path.join(model_dir,model_name +\"/textured.obj\"))\n",
    "\n",
    "    # add table as root node \n",
    "    model_paths[0] = os.path.join(b.utils.get_assets_dir(), \"sample_objs/plane.obj\")\n",
    "    poses = scene_graph.get_poses()\n",
    "    intrinsics = rgbd.intrinsics\n",
    "\n",
    "    scene = pbs.Scene(floor=True)\n",
    "    scene.set_camera_pose(rgbd.camera_pose)\n",
    "    scene.camera.set_intrinsics(intrinsics)\n",
    "    scene.set_gravity([0,0,-1])\n",
    "\n",
    "    body_names = node_names[ids]\n",
    "    for i, name in enumerate(body_names): \n",
    "        if i != 0: \n",
    "            body_pose = poses[i]\n",
    "            mesh = model_paths[i]\n",
    "            body = pbs.make_body_from_obj_pose(mesh, body_pose, id = name)\n",
    "            body.set_restitution(0)\n",
    "            scene.add_body(body)\n",
    "\n",
    "    path = \"../assets/sample_objs/sphere.obj\"\n",
    "    position = [0,-1,.1]\n",
    "    velocity = [0,4,0]\n",
    "    scale = np.array([1,1,1]) * .1 \n",
    "    bowling = pbs.make_body_from_obj(path, position, scale = scale,id = \"bowling\")\n",
    "    bowling.set_velocity(velocity)\n",
    "    bowling.set_restitution(0)\n",
    "    bowling.set_color(np.array([.1,.1,.1]))\n",
    "    bowling.set_mass = 10000\n",
    "    scene.add_body(bowling)\n",
    "\n",
    "    pyb = scene.simulate(30)\n",
    "    pyb.create_gif(f\"ycb_pyb/{set_num}_{img_num}.gif\", 30)"
   ]
  }
 ],
 "metadata": {
  "kernelspec": {
   "display_name": "Python 3 (ipykernel)",
   "language": "python",
   "name": "python3"
  },
  "language_info": {
   "codemirror_mode": {
    "name": "ipython",
    "version": 3
   },
   "file_extension": ".py",
   "mimetype": "text/x-python",
   "name": "python",
   "nbconvert_exporter": "python",
   "pygments_lexer": "ipython3",
   "version": "3.8.16"
  },
  "orig_nbformat": 4
 },
 "nbformat": 4,
 "nbformat_minor": 2
}
