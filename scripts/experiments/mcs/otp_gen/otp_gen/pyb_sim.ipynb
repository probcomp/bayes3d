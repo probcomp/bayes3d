{
 "cells": [
  {
   "attachments": {},
   "cell_type": "markdown",
   "metadata": {},
   "source": [
    "## Creating a scene with Ball and Plane (show plane, background, camera pose) "
   ]
  },
  {
   "cell_type": "code",
   "execution_count": null,
   "metadata": {},
   "outputs": [],
   "source": [
    "import bayes3d.utils.pybullet_sim as pbs\n",
    "import numpy as np\n",
    "\n",
    "# create a scene\n",
    "scene = pbs.Scene()\n",
    "\n",
    "# define a position and create a sphere\n",
    "position = np.array([0, -2, 2])\n",
    "sphere = pbs.make_sphere(position, [1,1,1]) \n",
    "\n",
    "# add the sphere to the scene\n",
    "scene.add_body(sphere)\n",
    "image,depth, segm= scene.render(pbs.pybullet_render) \n",
    "image"
   ]
  },
  {
   "attachments": {},
   "cell_type": "markdown",
   "metadata": {},
   "source": [
    "## Creating a scene with custom mesh (custom mesh)"
   ]
  },
  {
   "cell_type": "code",
   "execution_count": null,
   "metadata": {},
   "outputs": [],
   "source": [
    "import bayes3d.utils.pybullet_sim as pbs\n",
    "import numpy as np\n",
    "\n",
    "path_to_mesh = \"../assets/sample_objs/icosahedron.obj\"\n",
    "\n",
    "# create a scene\n",
    "scene = pbs.Scene()\n",
    "\n",
    "# define a pose and create a sphere\n",
    "d20_pose = np.eye(4)\n",
    "d20_rot = np.array([[0, 0, 1], [0, 1, 0], [-1, 0, 0]])\n",
    "d20_pos = np.array([0, 0, 1])\n",
    "d20_pose[:3,:3] = d20_rot\n",
    "d20_pose[:3,3] = d20_pos\n",
    "\n",
    "# create a d20\n",
    "d20 = pbs.make_body_from_obj_pose(path_to_mesh, d20_pose, id = \"d20\")\n",
    "d20.set_color([1,0,1])\n",
    "scene.add_body(d20)\n",
    "image, depth, segm = scene.render(pbs.pybullet_render)\n",
    "image"
   ]
  },
  {
   "attachments": {},
   "cell_type": "markdown",
   "metadata": {},
   "source": [
    "## Render Depth"
   ]
  },
  {
   "cell_type": "code",
   "execution_count": null,
   "metadata": {},
   "outputs": [],
   "source": [
    "depth"
   ]
  },
  {
   "cell_type": "code",
   "execution_count": null,
   "metadata": {},
   "outputs": [],
   "source": [
    "import matplotlib.pyplot as plt\n",
    "\n",
    "class_array = segm\n",
    "# Create a colormap for the number of classes\n",
    "# num_classes = np.max(class_array) + 1\n",
    "num_classes = 4\n",
    "cmap = plt.cm.get_cmap('tab10', num_classes)\n",
    "\n",
    "# Create an RGB image based on the class array and colormap\n",
    "class_image = cmap(class_array)\n",
    "class_image = (class_image[:, :, :3] * 255).astype(np.uint8)\n",
    "\n",
    "# Display the class image\n",
    "plt.imshow(class_image)\n",
    "plt.axis('off')\n",
    "plt.show()"
   ]
  },
  {
   "attachments": {},
   "cell_type": "markdown",
   "metadata": {},
   "source": [
    "## Adjusting mesh scaling"
   ]
  },
  {
   "cell_type": "code",
   "execution_count": null,
   "metadata": {},
   "outputs": [],
   "source": [
    "import bayes3d.utils.pybullet_sim as pbs\n",
    "import numpy as np\n",
    "\n",
    "scene = pbs.Scene()\n",
    "\n",
    "# default cube, length 1 at origin \n",
    "original_cube = pbs.make_box(np.array([0,0,0.5]), id=\"original_cube\")\n",
    "original_cube.set_color([0,1,0])\n",
    "\n",
    "# wide box, set scale after construction \n",
    "second_cube = pbs.make_box(np.array([-2,0,0.5]), id=\"second_cube\")\n",
    "second_cube.set_color([1,0,0])\n",
    "second_cube.set_scale(np.array([2,1,1]))\n",
    "\n",
    "# tall box, can set scale at construction\n",
    "third_cube = pbs.make_box(np.array([2,0,1]), np.array([1,1,2]), id=\"third_cube\")\n",
    "third_cube.set_color([0,0,1])\n",
    "\n",
    "# custom obj, large scale \n",
    "diamond = pbs.make_body_from_obj(\"../assets/sample_objs/pyramid.obj\", np.array([0,2,2]), id=\"diamond\")\n",
    "diamond.set_scale(np.array([6,3,1]))\n",
    "diamond.set_color([.5,.5,.5])\n",
    "\n",
    "# add all bodies to scene\n",
    "scene.add_body(original_cube)\n",
    "scene.add_body(second_cube)\n",
    "scene.add_body(third_cube)\n",
    "scene.add_body(diamond)\n",
    "\n",
    "# could also have added all at once \n",
    "# scene.add_bodies([original_cube, second_cube, third_cube, diamond])\n",
    "\n",
    "image, depth, segm = scene.render(pbs.pybullet_render)\n",
    "image\n"
   ]
  },
  {
   "attachments": {},
   "cell_type": "markdown",
   "metadata": {},
   "source": [
    "## Render with Kubric "
   ]
  },
  {
   "cell_type": "code",
   "execution_count": null,
   "metadata": {},
   "outputs": [],
   "source": [
    "import bayes3d.utils.pybullet_sim as pbs\n",
    "import bayes3d as b\n",
    "import numpy as np \n",
    "from PIL import Image as im \n",
    "\n",
    "# try rendering simple scene \n",
    "\n",
    "scene = pbs.Scene() \n",
    "\n",
    "path_to_obj = \"../assets/sample_objs/diamond.obj\" \n",
    "position = np.array([-4,6,2])\n",
    "diamond = pbs.make_body_from_obj(path_to_obj, position,  id=\"diamond\")\n",
    "diamond.set_color(np.array([0,1,0]))\n",
    "diamond.set_scale(np.array([3,3,3]))\n",
    "diamond.set_velocity(np.array([30,0,0]))\n",
    "scene.add_body(diamond)\n",
    "\n",
    "wall = pbs.make_box([0,0,2], [4,1,2], id = \"wall\")\n",
    "wall.set_color(np.array([1,1,0]))\n",
    "wall.set_occluder(True)\n",
    "scene.add_body(wall)\n",
    "\n",
    "scene.set_camera_position_target([0,-10,4], [0,0,0])\n",
    "\n",
    "pyb = scene.simulate(12)\n",
    "pyb.create_gif('scene_gifs/kub_occlu.gif')\n",
    "rgb = pyb.frames[0]\n",
    "\n",
    "# preview image \n",
    "prev = im.fromarray(rgb)\n",
    "prev"
   ]
  },
  {
   "cell_type": "code",
   "execution_count": null,
   "metadata": {},
   "outputs": [],
   "source": [
    "# obtain default intrinsics, hardcoded for now \n",
    "intriniscs = b.Intrinsics(720, 960, 500.0, 500.0, 320.0, 240.0, 0.1, 100.0)\n",
    "\n",
    "# obtain filepaths for render_many \n",
    "filepath_occ = '/home/ubuntu/bayes3d/assets/sample_objs/cube.obj'\n",
    "filepath_diamond = '/home/ubuntu/bayes3d/assets/sample_objs/diamond.obj'\n",
    "filepaths = [filepath_occ, filepath_diamond]\n",
    "print(filepaths)\n",
    "\n",
    "# create poses for render_many \n",
    "poses = pyb.get_body_poses() \n",
    "wall_poses = np.array(poses['wall'])\n",
    "diamond_poses = np.array(poses['diamond'])\n",
    "poses = np.stack((wall_poses, diamond_poses), axis = 1) \n",
    "print(poses.shape)\n",
    "\n",
    "def get_camera_pose(view_matrix):\n",
    "    # cam2world\n",
    "    world2cam = np.array(view_matrix)\n",
    "    cam2world  = np.linalg.inv(world2cam)\n",
    "    return cam2world\n",
    "# camera pose \n",
    "cam_pose = get_camera_pose(np.reshape(np.array(pyb.viewMatrix), (4,4)).T )\n",
    "print(cam_pose)\n",
    "\n",
    "mesh_scaling = [wall.scale, diamond.scale]\n",
    "mesh_colors = [wall.color, diamond.color]"
   ]
  },
  {
   "cell_type": "code",
   "execution_count": null,
   "metadata": {},
   "outputs": [],
   "source": [
    "# render simple scene with render_many \n",
    "from bayes3d._rendering.photorealistic_renderers.kubric_interface import render_many\n",
    "outputs = render_many(filepaths, poses, intriniscs, mesh_scales = mesh_scaling, mesh_colors = mesh_colors, scaling_factor=1, camera_pose = cam_pose)\n",
    "image = b.get_rgb_image(outputs[0].rgb)\n",
    "image\n"
   ]
  },
  {
   "cell_type": "code",
   "execution_count": null,
   "metadata": {},
   "outputs": [],
   "source": [
    "# test for longer scene \n",
    "images = [b.get_rgb_image(outputs[i].rgb) for i in range(len(outputs))]\n",
    "output_path = \"scene_gifs/kub_output.gif\"\n",
    "\n",
    "# Save the images as a GIF\n",
    "images[0].save(output_path,\n",
    "               save_all=True, append_images=images[1:], optimize=False, duration=1000*(1/15), loop=0)"
   ]
  },
  {
   "attachments": {},
   "cell_type": "markdown",
   "metadata": {},
   "source": [
    "## Adjusting Orientations "
   ]
  },
  {
   "cell_type": "code",
   "execution_count": null,
   "metadata": {},
   "outputs": [],
   "source": [
    "import bayes3d.utils.pybullet_sim as pbs\n",
    "import numpy as np\n",
    "\n",
    "path_to_mesh = \"../assets/sample_objs/icosahedron.obj\"\n",
    "\n",
    "# create scene and positions \n",
    "scene = pbs.Scene()\n",
    "d20_position = np.array([1, 0, 1.5])   \n",
    "rotated_position = np.array([-1, 0, 1.5]) \n",
    "d20 = pbs.make_body_from_obj(path_to_mesh, d20_position, id = \"d20\")\n",
    "\n",
    "# create a rotated d20\n",
    "rotated = pbs.make_body_from_obj(path_to_mesh, rotated_position, id = \"rotated\")\n",
    "\n",
    "# define the rotation matrix \n",
    "sample_rotation = np.array([[0, 0, 1], [0, 1, 0], [-1, 0, 0]])\n",
    "rotated.set_orientation(sample_rotation)\n",
    "\n",
    "d20.set_color([1,0,1])\n",
    "scene.add_bodies([d20, rotated])\n",
    "image, depth, segm = scene.render(pbs.pybullet_render)\n",
    "image\n"
   ]
  },
  {
   "cell_type": "code",
   "execution_count": null,
   "metadata": {},
   "outputs": [],
   "source": [
    "# new camera position\n",
    "camera_position = np.array([5, 5, 3])\n",
    "camera_target = np.array([0, 0, 0])\n",
    "scene.set_camera_position_target(camera_position, camera_target)\n",
    "image, depth, segm = scene.render(pbs.pybullet_render)\n",
    "image"
   ]
  },
  {
   "cell_type": "code",
   "execution_count": null,
   "metadata": {},
   "outputs": [],
   "source": [
    "# New Camera Pose \n",
    "camera_pose = np.eye(4)\n",
    "\n",
    "#camera facing downwards \n",
    "camera_position = np.array([0, -10, 3])\n",
    "camera_pose[:3,3] = camera_position\n",
    "camera_orientation = np.array([[ -1.,0.,0.],\n",
    "                               [0.,0.28734789,0.95782629],\n",
    "                               [ 0.,-0.95782629,0.28734789]])\n",
    "camera_pose[:3,:3] = camera_orientation\n",
    "\n",
    "scene.set_camera_pose(camera_pose)\n",
    "image, depth, segm = scene.render(pbs.pybullet_render)\n",
    "image"
   ]
  },
  {
   "attachments": {},
   "cell_type": "markdown",
   "metadata": {},
   "source": [
    "## Simple Simulation: Balls colliding (simulation, pybullet class, object poses)"
   ]
  },
  {
   "cell_type": "code",
   "execution_count": null,
   "metadata": {},
   "outputs": [],
   "source": [
    "import bayes3d.utils.pybullet_sim as pbs\n",
    "\n",
    "# define scene and scene gravity, zero gravity by default\n",
    "scene = pbs.Scene()\n",
    "scene.set_gravity([0,0,-10])\n",
    "\n",
    "# create spheres \n",
    "sphere_position1 = [-1, 0, 1]\n",
    "sphere_start_velocity1 = [5, 0, 0]\n",
    "sphere_position2 = [1, 0, 1]\n",
    "sphere_start_velocity2 = [-5, 0, 0]\n",
    "sphere1 = pbs.make_sphere(sphere_position1, 0.5,id = \"sphere1\")\n",
    "sphere1.set_velocity(sphere_start_velocity1)\n",
    "sphere1.set_color([0,1,1])\n",
    "sphere2 = pbs.make_sphere(sphere_position2, 0.5, \"sphere2\")\n",
    "sphere2.set_velocity(sphere_start_velocity2)\n",
    "\n",
    "# add spheres\n",
    "scene.add_bodies([sphere1, sphere2])\n",
    "\n",
    "# simulate for 100 steps, which returns a PyBulletSim object\n",
    "pyb_sim = scene.simulate(100) \n",
    "\n",
    "# create a gif from the simulation\n",
    "pyb_sim.create_gif(\"scene_gifs/sphere_collision.gif\", 50)"
   ]
  },
  {
   "cell_type": "code",
   "execution_count": null,
   "metadata": {},
   "outputs": [],
   "source": [
    "# use pose information for other visualizers \n",
    "pyb_sim.get_body_poses()"
   ]
  },
  {
   "cell_type": "code",
   "execution_count": null,
   "metadata": {},
   "outputs": [],
   "source": [
    "pyb_sim.create_seg_gif(\"scene_gifs/sphere_seg.gif\", 50)"
   ]
  },
  {
   "attachments": {},
   "cell_type": "markdown",
   "metadata": {},
   "source": [
    "## Simulation: Balls Bouncing (restitution, gravity) "
   ]
  },
  {
   "cell_type": "code",
   "execution_count": null,
   "metadata": {},
   "outputs": [],
   "source": [
    "import bayes3d.utils.pybullet_sim as pbs\n",
    "import numpy as np\n",
    "\n",
    "scene = pbs.Scene()\n",
    "\n",
    "#create spheres of varying restitution\n",
    "sphere1 = pbs.make_sphere(np.array([0, 0, 3]), 0.5, id = \"regular_ball\")\n",
    "sphere1.set_color([1,0,0])\n",
    "sphere1.set_restitution(0.6)\n",
    "sphere1.set_velocity([0,0,-2])\n",
    "\n",
    "sphere2 = pbs.make_sphere(np.array([2, 0, 3]), 0.5, id = \"bouncy_ball\")\n",
    "sphere2.set_color([0,1,0])\n",
    "sphere2.set_restitution(1)\n",
    "sphere2.set_velocity([0,0,-2])\n",
    "\n",
    "sphere3 = pbs.make_sphere(np.array([-2, 0, 3]), 0.5, id = \"flat_ball\")\n",
    "sphere3.set_color([0,0,1])\n",
    "sphere3.set_restitution(0)\n",
    "sphere3.set_velocity([0,0,-2])\n",
    "\n",
    "scene.add_bodies([sphere1, sphere2, sphere3])\n",
    "\n",
    "# Can set scene gravity \n",
    "scene.set_gravity([0,0,-10])\n",
    "\n",
    "# Can set fps of gif \n",
    "pyb_sim = scene.simulate(120)\n",
    "pyb_sim.create_gif(\"scene_gifs/restitution.gif\", 50)"
   ]
  },
  {
   "attachments": {},
   "cell_type": "markdown",
   "metadata": {},
   "source": [
    "## Simulation: Balls Rolling (friction, damping)"
   ]
  },
  {
   "cell_type": "code",
   "execution_count": null,
   "metadata": {},
   "outputs": [],
   "source": [
    "import bayes3d.utils.pybullet_sim as pbs\n",
    "import numpy as np\n",
    "\n",
    "scene = pbs.Scene() \n",
    "path_to_d20 = \"../assets/sample_objs/icosahedron.obj\"\n",
    "\n",
    "x = -4\n",
    "\n",
    "# create spheres of varying friction\n",
    "sphere = pbs.make_sphere(np.array([x,0,1]), scale = [1,1,1], id = \"regular_sphere\", friction = 1, velocity = [10,0,0])\n",
    "d20 = pbs.make_body_from_obj(path_to_d20, np.array([x,1,1]), id = \"d20\", friction = 1, velocity = [10,0,0])\n",
    "d20_fricitonless = pbs.make_body_from_obj(path_to_d20, np.array([x,2,1]), id = \"d20_fricitonless\", friction = 0, velocity = [10,0,0])\n",
    "d20.set_color([1,0,1])\n",
    "d20.set_scale = np.array([.6,.6,.6])\n",
    "d20_fricitonless.set_color([0,1,1])\n",
    "d20_fricitonless.set_scale = np.array([.6,.6,.6])\n",
    "\n",
    "\n",
    "scene.add_bodies([sphere, d20, d20_fricitonless])\n",
    "scene.set_gravity([0,0,-10])\n",
    "scene.set_camera_position_target([0,-10,10], [0,0,0])\n",
    "scene.set_downsampling(2)\n",
    "\n",
    "pyb_sim = scene.simulate(100)\n",
    "pyb_sim.create_gif(\"scene_gifs/rolling.gif\", 50)"
   ]
  },
  {
   "attachments": {},
   "cell_type": "markdown",
   "metadata": {},
   "source": [
    "### Using Bayes3D to view the object poses "
   ]
  },
  {
   "cell_type": "code",
   "execution_count": null,
   "metadata": {},
   "outputs": [],
   "source": [
    "pyb_sim.get_object_poses()\n",
    "\n",
    "pyb_sim = scene.simulate(80)\n",
    "pyb_sim.create_gif(\"rolling.gif\", 50)"
   ]
  },
  {
   "cell_type": "code",
   "execution_count": null,
   "metadata": {},
   "outputs": [],
   "source": [
    "# can track velocities of each object \n",
    "velocities = pyb_sim.get_body_velocities() \n",
    "sphere_vel = velocities.get(\"regular_sphere\")\n",
    "linear = [timestep['velocity'] for timestep in sphere_vel]\n",
    "linear"
   ]
  },
  {
   "cell_type": "code",
   "execution_count": null,
   "metadata": {},
   "outputs": [],
   "source": [
    "poses = pyb_sim.get_body_poses()\n",
    "poses"
   ]
  },
  {
   "cell_type": "code",
   "execution_count": null,
   "metadata": {},
   "outputs": [],
   "source": [
    "pyb_sim.create_depth_gif(\"rolling_depth.gif\", 50)"
   ]
  },
  {
   "attachments": {},
   "cell_type": "markdown",
   "metadata": {},
   "source": [
    "## Simulation: Angular Velocity "
   ]
  },
  {
   "cell_type": "code",
   "execution_count": null,
   "metadata": {},
   "outputs": [],
   "source": [
    "import bayes3d.utils.pybullet_sim as pbs\n",
    "import numpy as np\n",
    "\n",
    "scene = pbs.Scene()\n",
    "\n",
    "# d20 with angular velocity\n",
    "path_to_d20 = \"../assets/sample_objs/icosahedron.obj\"\n",
    "d20 = pbs.make_body_from_obj(path_to_d20, np.array([0,0,2]), id = \"d20\", friction = 1, velocity = [0,0,0], angular_velocity = [0,50,0])\n",
    "d20.set_color([1,0,1])\n",
    "d20.set_scale = np.array([.5,.5,.5])\n",
    "\n",
    "# sphere with angular velocity\n",
    "sphere = pbs.make_sphere(np.array([2,2,2]), scale = [1,1,1], id = \"regular_sphere\", friction = 1, velocity = [0,0,0])\n",
    "sphere.set_angular_velocity([50,50,0])   \n",
    "\n",
    "# low gravity\n",
    "scene.add_bodies([sphere, d20])\n",
    "scene.set_gravity([0,0,-5])\n",
    "scene.set_downsampling(3)\n",
    "\n",
    "pyb_sim = scene.simulate(90)\n",
    "pyb_sim.create_gif(\"scene_gifs/ang_vel.gif\", 50)"
   ]
  },
  {
   "attachments": {},
   "cell_type": "markdown",
   "metadata": {},
   "source": [
    "## Simulation: Downsampling, Timestep, and Sampling Frequency"
   ]
  },
  {
   "cell_type": "code",
   "execution_count": null,
   "metadata": {},
   "outputs": [],
   "source": [
    "import bayes3d.utils.pybullet_sim as pbs\n",
    "import numpy as np\n",
    "\n",
    "# bouncing ball \n",
    "scene = pbs.Scene() \n",
    "ball = pbs.make_sphere(np.array([-3,-3,0]), scale = [1,1,1], id = \"ball\", friction = 0.1, velocity = [20,35,0])\n",
    "scene.set_camera_position_target([0,-10,10], [0,0,0])\n",
    "\n",
    "# boundaries \n",
    "wall1 = pbs.make_box(np.array([3,7,1]), scale = [10,.5,3], id = \"wall1\", friction = 0.1, velocity = [0,0,0])\n",
    "wall1.set_mass(0)\n",
    "wall1.set_color([1,1,0])\n",
    "\n",
    "wall2 = pbs.make_box(np.array([8,2,1]), scale = [.5,10,3], id=\"wall2\", friction = 0.1, velocity = [0,0,0])\n",
    "wall2.set_mass(0)\n",
    "wall2.set_color([1,1,0])\n",
    "\n",
    "wall3 = pbs.make_box(np.array([3,-3,1]), scale = [10,0.5,3], id=\"wall3\", friction = 0.1, velocity = [0,0,0])\n",
    "wall3.set_mass(0)\n",
    "wall3.set_color([1,1,0])\n",
    "\n",
    "scene.add_bodies([ball, wall1, wall2, wall3])\n",
    "scene.set_gravity([0,0,-10])\n",
    "\n",
    "# set pybullet to only record pose every 3rd timestep, useful for quickly rendering long simulations\n",
    "scene.set_downsampling(3) \n",
    "\n",
    "pyb_sim = scene.simulate(200)\n",
    "pyb_sim.create_gif(\"scene_gifs/minigolf.gif\", 30)"
   ]
  },
  {
   "cell_type": "code",
   "execution_count": null,
   "metadata": {},
   "outputs": [],
   "source": [
    "# compare to no downsampling\n",
    "scene.set_downsampling(1)\n",
    "scene.set_timestep(1/60)\n",
    "pyb_sim = scene.simulate(200)\n",
    "pyb_sim.create_gif(\"scene_gifs/minigolf_full.gif\", 30)"
   ]
  },
  {
   "cell_type": "code",
   "execution_count": null,
   "metadata": {},
   "outputs": [],
   "source": [
    "# can also adjust timestep of simulation. default is 1/60 or 60hz\n",
    "scene.set_downsampling(1)\n",
    "scene.set_timestep(1/120)\n",
    "pyb_sim = scene.simulate(200)\n",
    "pyb_sim.create_gif(\"scene_gifs/minigolf_fine.gif\", 30)"
   ]
  },
  {
   "attachments": {},
   "cell_type": "markdown",
   "metadata": {},
   "source": [
    "## Custom Forces: force, velocity at timestep"
   ]
  },
  {
   "cell_type": "code",
   "execution_count": null,
   "metadata": {},
   "outputs": [],
   "source": [
    "import bayes3d.utils.pybullet_sim as pbs\n",
    "import numpy as np\n",
    "\n",
    "# scale of spheres\n",
    "scale = [2,2,2]\n",
    "\n",
    "# add spheres with random forces applied \n",
    "scene = pbs.Scene()\n",
    "ball = pbs.make_sphere(np.array([-3,0,1]), scale = scale, id = \"ball\", friction = 0.1, velocity = [10,0,0])\n",
    "ball.add_force([-1000,-1000,250], 10)\n",
    "ball.add_force([1000,1000,-250], 40)\n",
    "ball.add_force([-1000,-1000,-500], 70)\n",
    "scene.add_body(ball)\n",
    "\n",
    "ball_1 = pbs.make_sphere(np.array([10,10,1]), scale = scale, id = \"ball_1\", friction = 0.1, velocity = [-10,0,0])\n",
    "ball_1.add_force([1000,1000,250], 20)\n",
    "ball_1.add_force([-1000,-1000,-250], 50)\n",
    "ball_1.add_force([1000,1000,-500], 70)\n",
    "ball_1.set_color([1,1,0])\n",
    "scene.add_body(ball_1)\n",
    "\n",
    "ball_2 = pbs.make_sphere(np.array([0,3,1]), scale = scale, id = \"ball_2\", friction = 0.1, velocity = [0,-10,0])\n",
    "ball_2.add_force([1000,1000,250], 15)\n",
    "ball_2.add_force([1000,-1000,-250], 63)\n",
    "ball_2.add_force([-1000,1000,-500], 77)\n",
    "ball_2.set_color([1,0,1])\n",
    "scene.add_body(ball_2)\n",
    "\n",
    "ball_3 = pbs.make_sphere(np.array([0,-3,1]), scale = scale, id = \"ball_3\", friction = 0.1, velocity = [0,10,0])\n",
    "ball_3.add_force([1000,1000,250], 20)\n",
    "ball_3.add_force([1000,-1000,-250], 50)\n",
    "ball_3.add_force([-1000,1000,-500], 70)\n",
    "ball_3.set_color([0,1,1])\n",
    "scene.add_body(ball_3)\n",
    "\n",
    "scene.set_gravity([0,0,0])\n",
    "scene.set_camera_position_target([0,-40,20], [0,0,0])\n",
    "scene.set_downsampling(5)\n",
    "pyb = scene.simulate(150)\n",
    "pyb.create_gif(\"scene_gifs/force.gif\", 30)"
   ]
  },
  {
   "cell_type": "code",
   "execution_count": null,
   "metadata": {},
   "outputs": [],
   "source": [
    "import bayes3d.utils.pybullet_sim as pbs\n",
    "import numpy as np\n",
    "\n",
    "scene = pbs.Scene()\n",
    "\n",
    "# create ten balls with random colors and random velocity changes\n",
    "for i in range(10):\n",
    "    ball = pbs.make_sphere(np.array([-3,-5+2*i,1]), scale = [1,1,1], id = f\"ball{i}\", friction = 0.1, velocity = [10,0,0])\n",
    "    ball.set_color(np.random.rand(3))\n",
    "    \n",
    "    # can add velocity changes at set times or velocities, or randomly \n",
    "    ball.add_velocity_change([-10,0,5], 50)\n",
    "    ball.add_velocity_change([10,0,5], 100 + np.random.randint(-10,10))\n",
    "    ball.add_velocity_change(np.random.randint(-20,20,3), 150)\n",
    "\n",
    "    # can also add forces at set times or velocities, or randomly\n",
    "    ball.add_force([0,0,1000], np.random.randint(0,150))\n",
    "    scene.add_body(ball)\n",
    "\n",
    "# set scene gravity and downsampling for faster rendering \n",
    "scene.set_gravity([0,0,-10])\n",
    "scene.set_camera_position_target([0,-25,15], [0,0,0])\n",
    "scene.downsampling = 3\n",
    "\n",
    "pyb = scene.simulate(300)\n",
    "pyb.create_gif(\"scene_gifs/velocity_change.gif\", 30)"
   ]
  },
  {
   "attachments": {},
   "cell_type": "markdown",
   "metadata": {},
   "source": [
    "## Custom Forces: Time Duration and Increment "
   ]
  },
  {
   "cell_type": "code",
   "execution_count": null,
   "metadata": {},
   "outputs": [],
   "source": [
    "import bayes3d.utils.pybullet_sim as pbs\n",
    "import numpy as np\n",
    "\n",
    "scene = pbs.Scene()\n",
    "\n",
    "# can create forces over a duration \n",
    "stationary_sphere = pbs.make_sphere(np.array([-1,0,1]), scale = [1,1,1], id = \"sphere\", velocity = [0,0,0])\n",
    "reverse_gravity_sphere = pbs.make_sphere(np.array([1,0,1]), scale = [1,1,1], id = \"rev_sphere\", velocity = [0,0,0])\n",
    "reverse_gravity_sphere.set_color([1,0,1])\n",
    "\n",
    "# add force from 0 to 40th timestep \n",
    "reverse_gravity_sphere.add_force([0,0,10], 0, end_timestep = 40)\n",
    "\n",
    "# simulate \n",
    "scene.add_bodies([stationary_sphere, reverse_gravity_sphere])\n",
    "scene.downsampling = 3\n",
    "scene.set_camera_position_target([0,-10,15], [0,0,0])\n",
    "pyb = scene.simulate(100)\n",
    "pyb.create_gif(\"scene_gifs/force_duration.gif\", 30) \n"
   ]
  },
  {
   "cell_type": "code",
   "execution_count": null,
   "metadata": {},
   "outputs": [],
   "source": [
    "import bayes3d.utils.pybullet_sim as pbs\n",
    "import numpy as np\n",
    "\n",
    "scene = pbs.Scene()\n",
    "\n",
    "# can create forces every nth timestep\n",
    "stationary_sphere = pbs.make_sphere(np.array([-1,0,1]), scale = [1,1,1], id = \"sphere\", velocity = [0,0,0])\n",
    "nudged_sphere = pbs.make_sphere(np.array([1,0,1]), scale = [1,1,1], id = \"n_sphere\", velocity = [0,0,0])\n",
    "nudged_sphere.set_color([1,0,1])\n",
    "\n",
    "# add force every 60th timestep\n",
    "nudged_sphere.add_force([0,0,400], 0, 300, step = 60)\n",
    "\n",
    "# simulate\n",
    "scene.add_bodies([stationary_sphere, nudged_sphere])\n",
    "scene.set_gravity([0,0,-10])\n",
    "scene.set_camera_position_target([0,-10,15], [0,0,0])\n",
    "scene.downsampling = 3\n",
    "pyb = scene.simulate(400)\n",
    "pyb.create_gif(\"scene_gifs/force_step.gif\", 30)"
   ]
  },
  {
   "cell_type": "code",
   "execution_count": null,
   "metadata": {},
   "outputs": [],
   "source": [
    "import bayes3d.utils.pybullet_sim as pbs\n",
    "import numpy as np\n",
    "\n",
    "scene = pbs.Scene()\n",
    "\n",
    "for i in range(20): \n",
    "    position = np.random.randint(-5,5,3) + np.array([0,0,6])\n",
    "    fairy = pbs.make_sphere(position, scale = [1,1,1], id = f\"fairy{i}\", velocity = [0,0,0])\n",
    "    fairy.set_color(np.random.rand(3))\n",
    "    for j in range(0,200,10):\n",
    "        vel_change = np.random.randint(0,2,3) * 10 - 5\n",
    "        fairy.add_velocity_change(vel_change, j)\n",
    "    scene.add_body(fairy)\n",
    "\n",
    "scene.set_gravity([0,0,0])\n",
    "scene.set_camera_position_target([0,-20,15], [0,0,0])\n",
    "scene.downsampling = 3\n",
    "pyb = scene.simulate(300)\n",
    "pyb.create_gif(\"scene_gifs/brownian.gif\", 30)"
   ]
  },
  {
   "cell_type": "code",
   "execution_count": null,
   "metadata": {},
   "outputs": [],
   "source": [
    "pyb.create_seg_gif(\"scene_gifs/brownian_seg.gif\", 30)"
   ]
  },
  {
   "attachments": {},
   "cell_type": "markdown",
   "metadata": {},
   "source": [
    "## Fun Example: Balls Jumping Over Wall "
   ]
  },
  {
   "cell_type": "code",
   "execution_count": null,
   "metadata": {},
   "outputs": [],
   "source": [
    "import bayes3d.utils.pybullet_sim as pbs\n",
    "import numpy as np\n",
    "\n",
    "scene = pbs.Scene()\n",
    "\n",
    "# add a ton of balls \n",
    "for i in range(10): \n",
    "    ball = pbs.make_sphere(np.array([-10,-5+i*(1.5),1]), scale = [1,1,1], id = f\"ball{i}\", friction = 0.1, velocity = [8,0,0])\n",
    "    ball.add_force([0,0,600], 60 + i*5)\n",
    "    ball.set_color([np.random.rand(3)])\n",
    "    scene.add_body(ball)\n",
    "\n",
    "\n",
    "wall = pbs.make_box(np.array([10,0,2.5]), scale = [1,20,5], id = \"wall\", friction = 0.1, velocity = [0,0,0])\n",
    "wall.set_mass(500)\n",
    "wall.set_color([1,.5,1])\n",
    "scene.add_body(wall)\n",
    "\n",
    "scene.set_gravity([0,0,-10])\n",
    "scene.set_camera_position_target([-3,-20,15], [0,0,0])\n",
    "scene.set_downsampling(4)\n",
    "\n",
    "pyb = scene.simulate(300)\n",
    "pyb.create_gif(\"scene_gifs/ball_wall.gif\", 30)"
   ]
  },
  {
   "cell_type": "markdown",
   "metadata": {},
   "source": [
    "### Velocity Tracking"
   ]
  },
  {
   "cell_type": "code",
   "execution_count": null,
   "metadata": {},
   "outputs": [],
   "source": [
    "import matplotlib.pyplot as plt\n",
    "\n",
    "def extract_linear_vel(pyb): \n",
    "    velocities = pyb.get_body_velocities() \n",
    "    linear_vel = {}\n",
    "    for body in velocities.keys():\n",
    "        body_vel = velocities[body]\n",
    "        raw = [] \n",
    "        for i in range(300//4): \n",
    "            raw.append(body_vel[i]['velocity'])\n",
    "        linear_vel[body] = raw\n",
    "    return linear_vel\n",
    "\n",
    "linear_vel = extract_linear_vel(pyb)"
   ]
  },
  {
   "cell_type": "code",
   "execution_count": null,
   "metadata": {},
   "outputs": [],
   "source": [
    "def plot_velocity(velocity_dict):\n",
    "    # Create a time vector based on the length of one set of velocities\n",
    "    time = np.arange(len(next(iter(velocity_dict.values()))))\n",
    "\n",
    "    for obj_name, velocities in velocity_dict.items():\n",
    "        # Assume velocities are tuples/lists in the form (x, y, z)\n",
    "        velocities = np.array(velocities)  # Convert to numpy array for convenience\n",
    "        velocity_magnitudes = np.linalg.norm(velocities, axis=1)  # Calculate the norm (magnitude) of the velocities\n",
    "        plt.plot(time, velocity_magnitudes, label=obj_name)\n",
    "\n",
    "    plt.xlabel('Time')\n",
    "    plt.ylabel('Velocity')\n",
    "    plt.title('Velocity Magnitude over Time')\n",
    "    plt.legend()\n",
    "    plt.show()\n"
   ]
  },
  {
   "cell_type": "code",
   "execution_count": null,
   "metadata": {},
   "outputs": [],
   "source": [
    "plot_velocity(linear_vel)"
   ]
  },
  {
   "cell_type": "code",
   "execution_count": null,
   "metadata": {},
   "outputs": [],
   "source": [
    "import copy \n",
    "linear_vel_mag = copy.deepcopy(linear_vel)\n",
    "for body in linear_vel.keys(): \n",
    "    linear_vel_mag[body] = [] \n",
    "    for time in range(len(linear_vel[body])): \n",
    "        linear_vel_mag[body].append(np.linalg.norm(linear_vel[body][time]))\n",
    "\n",
    "import numpy as np\n",
    "\n",
    "def convert_seg_to_vel(pyb, velocities): \n",
    "    segm = pyb.segm \n",
    "    vels = segm.copy() \n",
    "    for time, frame in enumerate(vels): \n",
    "        for idx, pyb_id in np.ndenumerate(frame): \n",
    "            # map pyb_id to body_id to velocity \n",
    "            if pyb_id not in {0,-1}:\n",
    "                body_id = pyb.pyb_id_to_body_id[pyb_id]\n",
    "                magnitude = velocities[body_id][time]\n",
    "                frame[idx] = magnitude  # Update the velocity for the specific id\n",
    "            else: \n",
    "                frame[idx] = 0 \n",
    "\n",
    "    return vels\n",
    "\n",
    "vels = convert_seg_to_vel(pyb, linear_vel_mag)"
   ]
  },
  {
   "cell_type": "code",
   "execution_count": null,
   "metadata": {},
   "outputs": [],
   "source": [
    "import matplotlib.pyplot as plt\n",
    "import numpy as np\n",
    "import imageio\n",
    "\n",
    "def create_heatmap_gif(data, filename):\n",
    "    # Create a list to store each frame of the GIF\n",
    "    frames = []\n",
    "    \n",
    "    # Define the colormap\n",
    "    cmap = plt.get_cmap('viridis')\n",
    "\n",
    "    # Loop over each array in the data\n",
    "    for array in data:\n",
    "        # Create a figure and axes\n",
    "        fig, ax = plt.subplots()\n",
    "        \n",
    "        # Create the heatmap for the current array\n",
    "        heatmap = ax.imshow(array, cmap=cmap)\n",
    "        \n",
    "        # Remove the axis\n",
    "        ax.axis('off')\n",
    "\n",
    "        # Draw the figure and retrieve the pixel data\n",
    "        fig.canvas.draw()\n",
    "        image = np.frombuffer(fig.canvas.tostring_rgb(), dtype='uint8')\n",
    "\n",
    "        # Reshape the image to the correct dimensions\n",
    "        image = image.reshape(fig.canvas.get_width_height()[::-1] + (3,))\n",
    "\n",
    "        # Append the image to the frames list\n",
    "        frames.append(image)\n",
    "        \n",
    "        # Close the figure to save memory\n",
    "        plt.close(fig)\n",
    "\n",
    "    # Save the frames as a GIF\n",
    "    imageio.mimsave(filename, frames, 'GIF', duration = 0.1)\n"
   ]
  },
  {
   "cell_type": "code",
   "execution_count": null,
   "metadata": {},
   "outputs": [],
   "source": [
    "create_heatmap_gif(vels, 'scene_gifs/heatmat.gif')"
   ]
  },
  {
   "attachments": {},
   "cell_type": "markdown",
   "metadata": {},
   "source": [
    "## Segmentation"
   ]
  },
  {
   "attachments": {},
   "cell_type": "markdown",
   "metadata": {},
   "source": [
    "### Gif of object behind occluder "
   ]
  },
  {
   "cell_type": "code",
   "execution_count": null,
   "metadata": {},
   "outputs": [],
   "source": [
    "import bayes3d.utils.pybullet_sim as pbs\n",
    "import numpy as np\n",
    "\n",
    "# scene of an object partially occluded by a wall \n",
    "scene = pbs.Scene() \n",
    "scene.set_downsampling(3)\n",
    "\n",
    "path_to_obj = \"../assets/sample_objs/diamond.obj\" \n",
    "position = np.array([-4,6,2])\n",
    "diamond = pbs.make_body_from_obj(path_to_obj, position, id=\"diamond\")\n",
    "diamond.set_color(np.array([0,1,0]))\n",
    "diamond.set_scale(np.array([3,3,3]))\n",
    "scene.add_body(diamond)\n",
    "\n",
    "wall = pbs.make_box([0,0,2], [4,1,2], id = \"wall\")\n",
    "wall.set_color(np.array([1,1,0]))\n",
    "wall.set_occluder(True)\n",
    "scene.add_body(wall)\n",
    "\n",
    "scene.set_camera_position_target([0,-10,4], [0,0,0])\n",
    "\n",
    "pyb = scene.simulate(12)"
   ]
  },
  {
   "attachments": {},
   "cell_type": "markdown",
   "metadata": {},
   "source": [
    "### Gif of object moving behind occluder "
   ]
  },
  {
   "cell_type": "code",
   "execution_count": null,
   "metadata": {},
   "outputs": [],
   "source": [
    "# multirender \n",
    "# check if object is occlduer \n",
    "# if it isn't, add to mesh \n",
    "\n",
    "poses = pyb.get_body_poses() \n",
    "\n",
    "for body_id in scene.bodies: \n",
    "    body = scene.bodies[body_id]\n",
    "    print(body.file_dir)\n",
    "    print(len(poses[body_id]))"
   ]
  }
 ],
 "metadata": {
  "kernelspec": {
   "display_name": "bayes3d",
   "language": "python",
   "name": "python3"
  },
  "language_info": {
   "codemirror_mode": {
    "name": "ipython",
    "version": 3
   },
   "file_extension": ".py",
   "mimetype": "text/x-python",
   "name": "python",
   "nbconvert_exporter": "python",
   "pygments_lexer": "ipython3",
   "version": "3.8.16"
  },
  "orig_nbformat": 4
 },
 "nbformat": 4,
 "nbformat_minor": 2
}
