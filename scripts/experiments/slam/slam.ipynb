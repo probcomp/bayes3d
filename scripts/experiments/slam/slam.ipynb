{
 "cells": [
  {
   "cell_type": "code",
   "execution_count": null,
   "id": "c9770a21",
   "metadata": {},
   "outputs": [],
   "source": [
    "from PIL import Image\n",
    "import bayes3d as b\n",
    "import os\n",
    "import numpy as np\n",
    "import jax.numpy as jnp\n",
    "from tqdm import tqdm\n",
    "import jax"
   ]
  },
  {
   "cell_type": "code",
   "execution_count": null,
   "id": "4cd3e96a",
   "metadata": {},
   "outputs": [],
   "source": [
    "j.meshcat.setup_visualizer()"
   ]
  },
  {
   "cell_type": "code",
   "execution_count": null,
   "id": "68928917",
   "metadata": {},
   "outputs": [],
   "source": [
    "f = open(os.path.join(j.utils.get_assets_dir(), f\"tum/livingRoom1.gt.freiburg\"),\"r\")\n",
    "data = f.readlines()\n",
    "data = [d.strip('\\n') for d in data]\n",
    "poses = [jnp.eye(4)]\n",
    "\n",
    "xyzw_to_rotation_matrix = jax.jit(j.t3d.xyzw_to_rotation_matrix)\n",
    "transform_from_rot_and_pos = jax.jit(j.t3d.transform_from_rot_and_pos)\n",
    "for i in tqdm(range(len(data))):\n",
    "    xyzq = list(map(float,data[i].split(\" \")))[1:]\n",
    "    pos = jnp.array([xyzq[:3]])\n",
    "    rot = xyzw_to_rotation_matrix(jnp.array(xyzq[3:]))\n",
    "    pose = transform_from_rot_and_pos(rot, pos)\n",
    "    poses.append(pose)\n",
    "poses = jnp.array(poses)"
   ]
  },
  {
   "cell_type": "code",
   "execution_count": null,
   "id": "9b396d68",
   "metadata": {},
   "outputs": [],
   "source": [
    "IDX = 0\n",
    "rgbs = []\n",
    "original_depths = []\n",
    "for IDX in tqdm(range(len(poses))):\n",
    "    depth_filename = os.path.join(j.utils.get_assets_dir(), f\"tum/depth/{IDX}.png\")\n",
    "    rgb_filename = os.path.join(j.utils.get_assets_dir(), f\"tum/rgb/{IDX}.png\")\n",
    "    rgbs.append(jnp.array(Image.open(rgb_filename)))\n",
    "    original_depths.append(np.array(Image.open(depth_filename)) / 5000)"
   ]
  },
  {
   "cell_type": "code",
   "execution_count": null,
   "id": "8fc4eec3",
   "metadata": {},
   "outputs": [],
   "source": [
    "original_intrinsics = j.Intrinsics(\n",
    "    original_depths[0].shape[0], original_depths[1].shape[1],\n",
    "    481.20, -480.00,319.50,239.50,0.001, 6.0\n",
    ")\n",
    "intrinsics = j.camera.scale_camera_parameters(original_intrinsics, 0.2)\n",
    "depths = [j.utils.resize(d, intrinsics.height, intrinsics.width) for d in original_depths]"
   ]
  },
  {
   "cell_type": "code",
   "execution_count": null,
   "id": "53d74ddb",
   "metadata": {},
   "outputs": [],
   "source": [
    "T1 = 140\n",
    "point_cloud_image_1 = j.t3d.unproject_depth_jit(depths[T1], intrinsics)\n",
    "\n",
    "T2 = 150\n",
    "point_cloud_image_2 = j.t3d.unproject_depth_jit(depths[T2], intrinsics)"
   ]
  },
  {
   "cell_type": "code",
   "execution_count": null,
   "id": "b5ed3040",
   "metadata": {},
   "outputs": [],
   "source": [
    "j.hstack_images([\n",
    "    j.get_rgb_image(rgbs[T1]),\n",
    "    j.get_rgb_image(rgbs[T2]),\n",
    "])"
   ]
  },
  {
   "cell_type": "code",
   "execution_count": null,
   "id": "38278570",
   "metadata": {},
   "outputs": [],
   "source": [
    "j.hstack_images([\n",
    "    j.get_depth_image(point_cloud_image_1[:,:,2]),\n",
    "    j.get_depth_image(point_cloud_image_2[:,:,2]),\n",
    "])"
   ]
  },
  {
   "cell_type": "code",
   "execution_count": null,
   "id": "7b90c908",
   "metadata": {},
   "outputs": [],
   "source": [
    "mesh = j.mesh.make_voxel_mesh_from_point_cloud(point_cloud_image_1.reshape(-1,3), 0.05)"
   ]
  },
  {
   "cell_type": "code",
   "execution_count": null,
   "id": "cad8ee07",
   "metadata": {},
   "outputs": [],
   "source": [
    "renderer = j.Renderer(intrinsics)\n",
    "renderer.add_mesh(mesh)"
   ]
  },
  {
   "cell_type": "code",
   "execution_count": null,
   "id": "eba6e293",
   "metadata": {},
   "outputs": [],
   "source": [
    "j.meshcat.clear()"
   ]
  },
  {
   "cell_type": "code",
   "execution_count": null,
   "id": "80eff0f8",
   "metadata": {},
   "outputs": [],
   "source": [
    "j.meshcat.clear()\n",
    "j.meshcat.show_trimesh(\"1\",mesh)"
   ]
  },
  {
   "cell_type": "code",
   "execution_count": null,
   "id": "b32f9173",
   "metadata": {},
   "outputs": [],
   "source": [
    "pose_estimate = jnp.eye(4)\n",
    "NUM_SAMPLES_FOR_ESTIMATE=500\n",
    "keys = jax.random.split(jax.random.PRNGKey(4), NUM_SAMPLES_FOR_ESTIMATE)\n",
    "var,conc =  0.01, 1000.0\n",
    "get_proposals = jax.jit(jax.vmap(lambda key,pose_estimate,var,conc: j.distributions.gaussian_vmf_sample(\n",
    "    key, pose_estimate, var, conc),in_axes=(0,None,None,None)))\n",
    "best_score = -jnp.inf"
   ]
  },
  {
   "cell_type": "code",
   "execution_count": null,
   "id": "54ad2c1c",
   "metadata": {},
   "outputs": [],
   "source": [
    "for _ in tqdm(range(10)):\n",
    "    for (var,conc) in [(0.01, 2000.0),(0.001, 2000.0),(0.1, 600.0)]:\n",
    "        pose_proposals = get_proposals(keys, pose_estimate, var, conc)\n",
    "        keys = jax.random.split(keys[0], NUM_SAMPLES_FOR_ESTIMATE)\n",
    "        rendered_images = renderer.render_parallel(pose_proposals, 0)[...,:3]\n",
    "        weights = j.threedp3_likelihood_parallel_jit(point_cloud_image_2, rendered_images, 0.0001, 0.1, 1.0)\n",
    "        if weights.max() > best_score:\n",
    "            best_score = weights.max()\n",
    "            pose_estimate = pose_proposals[weights.argmax()]\n",
    "        print(best_score)\n",
    "\n",
    "    reconstruction = renderer.render_single_object(pose_estimate, 0)[:,:,:3]\n",
    "\n",
    "j.meshcat.clear()\n",
    "j.meshcat.show_cloud(\"1\", point_cloud_image_2.reshape(-1,3))\n",
    "j.meshcat.show_cloud(\"2\", reconstruction.reshape(-1,3), color=j.RED)\n"
   ]
  },
  {
   "cell_type": "code",
   "execution_count": null,
   "id": "770866d8",
   "metadata": {},
   "outputs": [],
   "source": [
    "j.get_depth_image(renderer.render_single_object(pose_estimate, 0)[...,2])"
   ]
  },
  {
   "cell_type": "code",
   "execution_count": null,
   "id": "70898da9",
   "metadata": {},
   "outputs": [],
   "source": [
    "j.get_depth_image(point_cloud_image_2[:,:,2])"
   ]
  },
  {
   "cell_type": "code",
   "execution_count": null,
   "id": "f1ee9575",
   "metadata": {},
   "outputs": [],
   "source": []
  },
  {
   "cell_type": "code",
   "execution_count": null,
   "id": "89a9f75c",
   "metadata": {},
   "outputs": [],
   "source": [
    "point_cloud_1 = j.t3d.unproject_depth_jit(depths[T1], intrinsics)\n",
    "point_cloud_2 = j.t3d.unproject_depth_jit(depths[T2], intrinsics)\n",
    "\n",
    "correction_transform = j.t3d.inverse_pose(poses[T1]) @ poses[T2]\n",
    "point_cloud_2_corrected = j.t3d.apply_transform_jit(j.t3d.unproject_depth_jit(depths[T2], intrinsics),  correction_transform)"
   ]
  },
  {
   "cell_type": "code",
   "execution_count": null,
   "id": "ba2fbd8f",
   "metadata": {},
   "outputs": [],
   "source": [
    "j.meshcat.clear()\n",
    "j.meshcat.show_cloud(\"1\", point_cloud_1.reshape(-1,3))\n",
    "j.meshcat.show_cloud(\"2\", point_cloud_2.reshape(-1,3), color=j.RED)\n",
    "\n",
    "R = jnp.array([0.0001])\n",
    "OUTLIER_PROB = 0.05\n",
    "OUTLIER_VOLUME = 1.0\n",
    "j.threedp3_likelihood_jit(point_cloud_1, point_cloud_2, jnp.zeros((point_cloud_2.shape[0], point_cloud_2.shape[1])), R,OUTLIER_PROB, OUTLIER_VOLUME)"
   ]
  },
  {
   "cell_type": "code",
   "execution_count": null,
   "id": "a8e1d136",
   "metadata": {},
   "outputs": [],
   "source": [
    "pc = point_cloud_1.reshape(-1,3)\n",
    "noise = jax.vmap(\n",
    "    lambda key: jax.random.multivariate_normal(\n",
    "        key, jnp.zeros(3), jnp.eye(3) * R[0]\n",
    "    )\n",
    ")(\n",
    "    jax.random.split(jax.random.PRNGKey(3), pc.shape[0])\n",
    ")\n",
    "pc_noisy = pc + noise\n",
    "j.meshcat.clear()\n",
    "j.meshcat.show_cloud(\"1\", pc.reshape(-1,3))\n",
    "j.meshcat.show_cloud(\"2\", pc_noisy.reshape(-1,3), color=j.RED)"
   ]
  },
  {
   "cell_type": "code",
   "execution_count": null,
   "id": "3cd9867f",
   "metadata": {},
   "outputs": [],
   "source": [
    "j.meshcat.clear()\n",
    "j.meshcat.show_cloud(\"1\", point_cloud_1.reshape(-1,3))\n",
    "j.meshcat.show_cloud(\"2\", point_cloud_2_corrected.reshape(-1,3), color=j.RED)\n",
    "\n",
    "j.meshcat.show_pose(\"pose\", correction_transform)\n",
    "j.threedp3_likelihood_jit(point_cloud_1, j.t3d.apply_transform(point_cloud_2, \n",
    "    correction_transform), jnp.zeros((point_cloud_2.shape[0], point_cloud_2.shape[1])), R,OUTLIER_PROB, OUTLIER_VOLUME)"
   ]
  },
  {
   "cell_type": "code",
   "execution_count": null,
   "id": "fb077091",
   "metadata": {},
   "outputs": [],
   "source": [
    "NUM_SAMPLES_FOR_ESTIMATE = 1000\n"
   ]
  },
  {
   "cell_type": "code",
   "execution_count": null,
   "id": "d725572a",
   "metadata": {},
   "outputs": [],
   "source": [
    "pose_estimate = jnp.eye(4)"
   ]
  },
  {
   "cell_type": "code",
   "execution_count": null,
   "id": "11b9a4cc",
   "metadata": {},
   "outputs": [],
   "source": [
    "threedp3_likelihood_parallel_jit = jax.jit(jax.vmap(\n",
    "    j.threedp3_likelihood,\n",
    "    in_axes=(None, 0, None, None, None, None)\n",
    "))\n",
    "\n",
    "\n",
    "def refine_pose_estimate_inner(pose_estimate, point_cloud_1, point_cloud_2, keys, var, conc):\n",
    "    keys = jax.random.split(keys[0], NUM_SAMPLES_FOR_ESTIMATE)\n",
    "    pose_proposals = jax.vmap(lambda key: j.distributions.gaussian_vmf_sample(\n",
    "        key, pose_estimate, var, conc))(\n",
    "        keys\n",
    "    )\n",
    "\n",
    "    rendered_images = jnp.einsum(\n",
    "        'aij,...j->a...i',\n",
    "        pose_proposals,\n",
    "        jnp.concatenate([point_cloud_2, jnp.ones(point_cloud_2.shape[:-1] + (1,))], axis=-1),\n",
    "    )[..., :-1]\n",
    "\n",
    "    best_score = j.threedp3_likelihood_jit(\n",
    "        point_cloud_1, j.t3d.apply_transform(point_cloud_2, \n",
    "        pose_estimate), jnp.zeros((point_cloud_2.shape[0], point_cloud_2.shape[1])), R, OUTLIER_PROB, OUTLIER_VOLUME)\n",
    "    \n",
    "    weights = threedp3_likelihood_parallel_jit(\n",
    "        point_cloud_1, rendered_images, jnp.zeros((point_cloud_2.shape[0], point_cloud_2.shape[1])), R,OUTLIER_PROB, OUTLIER_VOLUME)\n",
    "    weights_max = weights.max()\n",
    "    better = (weights_max > best_score)\n",
    "    pose_estimate = pose_proposals[weights.argmax()] * better + pose_estimate* (1.0 - better)\n",
    "    return pose_estimate, keys\n",
    "\n",
    "refine_pose_estimate_jit = jax.jit(refine_pose_estimate_inner)"
   ]
  },
  {
   "cell_type": "code",
   "execution_count": null,
   "id": "19d53c86",
   "metadata": {},
   "outputs": [],
   "source": [
    "for _ in tqdm(range(20)):\n",
    "    pose_estimate,keys = refine_pose_estimate_jit(pose_estimate, point_cloud_1, point_cloud_2, keys, 0.01, 1000.0)\n",
    "    pose_estimate,keys = refine_pose_estimate_jit(pose_estimate, point_cloud_1, point_cloud_2, keys, 0.005, 2000.0)\n",
    "    pose_estimate,keys = refine_pose_estimate_jit(pose_estimate, point_cloud_1, point_cloud_2, keys, 0.001, 1000.0)\n",
    "score = j.threedp3_likelihood_jit(\n",
    "    point_cloud_1, j.t3d.apply_transform(point_cloud_2, \n",
    "    pose_estimate), jnp.zeros((point_cloud_2.shape[0], point_cloud_2.shape[1])), R, OUTLIER_PROB, OUTLIER_VOLUME)\n",
    "keys[0],score"
   ]
  },
  {
   "cell_type": "code",
   "execution_count": null,
   "id": "8d870048",
   "metadata": {},
   "outputs": [],
   "source": [
    "j.meshcat.clear()\n",
    "j.meshcat.show_cloud(\"1\", point_cloud_1.reshape(-1,3))\n",
    "j.meshcat.show_cloud(\"2\", j.t3d.apply_transform(point_cloud_2, pose_estimate).reshape(-1,3), color=j.RED)"
   ]
  },
  {
   "cell_type": "code",
   "execution_count": null,
   "id": "aac2cc3a",
   "metadata": {},
   "outputs": [],
   "source": []
  },
  {
   "cell_type": "code",
   "execution_count": null,
   "id": "f8094a03",
   "metadata": {},
   "outputs": [],
   "source": [
    "j.meshcat.clear()\n",
    "j.meshcat.show_cloud(\"1\", point_cloud_1.reshape(-1,3))\n",
    "j.meshcat.show_cloud(\"2\", point_cloud_2.reshape(-1,3), color=j.RED)"
   ]
  },
  {
   "cell_type": "code",
   "execution_count": null,
   "id": "ce2852bc",
   "metadata": {},
   "outputs": [],
   "source": []
  },
  {
   "cell_type": "code",
   "execution_count": null,
   "id": "ad92b0e8",
   "metadata": {},
   "outputs": [],
   "source": []
  },
  {
   "cell_type": "code",
   "execution_count": null,
   "id": "622ea870",
   "metadata": {},
   "outputs": [],
   "source": [
    "point_clouds = [\n",
    "    unproject_depth(depths[t], intrinsics)\n",
    "    for t in jnp.arange(200, 300, 5)\n",
    "]\n",
    "transforms = []\n",
    "for i in tqdm(range(len(point_clouds) - 1)):\n",
    "    pose_estimate = jnp.eye(4)\n",
    "    point_cloud_1, point_cloud_2 = point_clouds[i], point_clouds[i+1]\n",
    "    pose_estimate,keys = refine_pose_estimate_jit(pose_estimate, point_cloud_1, point_cloud_2, keys, 0.01, 1000.0)\n",
    "    pose_estimate,keys = refine_pose_estimate_jit(pose_estimate, point_cloud_1, point_cloud_2, keys, 0.005, 2000.0)\n",
    "    pose_estimate,keys = refine_pose_estimate_jit(pose_estimate, point_cloud_1, point_cloud_2, keys, 0.001, 1000.0)\n",
    "    pose_estimate,keys = refine_pose_estimate_jit(pose_estimate, point_cloud_1, point_cloud_2, keys, 0.001, 1000.0)\n",
    "    transforms.append(pose_estimate)\n"
   ]
  },
  {
   "cell_type": "code",
   "execution_count": null,
   "id": "22a0d52f",
   "metadata": {},
   "outputs": [],
   "source": [
    "i = 15"
   ]
  },
  {
   "cell_type": "code",
   "execution_count": null,
   "id": "db4f665c",
   "metadata": {},
   "outputs": [],
   "source": [
    "j.meshcat.clear()\n",
    "j.meshcat.show_cloud(\"1\", point_clouds[i].reshape(-1,3))\n",
    "j.meshcat.show_cloud(\"2\", point_clouds[i+1].reshape(-1,3), color=j.RED)\n"
   ]
  },
  {
   "cell_type": "code",
   "execution_count": null,
   "id": "dd5bff45",
   "metadata": {},
   "outputs": [],
   "source": [
    "j.meshcat.clear()\n",
    "j.meshcat.show_cloud(\"1\", point_clouds[i].reshape(-1,3))\n",
    "j.meshcat.show_cloud(\"2\", j.t3d.apply_transform(point_clouds[i+1], transforms[i]).reshape(-1,3), color=j.RED)\n"
   ]
  },
  {
   "cell_type": "code",
   "execution_count": null,
   "id": "2d3c1468",
   "metadata": {},
   "outputs": [],
   "source": [
    "len(point_clouds)"
   ]
  },
  {
   "cell_type": "code",
   "execution_count": null,
   "id": "bb45a9e4",
   "metadata": {},
   "outputs": [],
   "source": []
  },
  {
   "cell_type": "code",
   "execution_count": null,
   "id": "63775eea",
   "metadata": {},
   "outputs": [],
   "source": [
    "j.meshcat.clear()\n",
    "j.meshcat.show_cloud(\"1\", point_cloud_1.reshape(-1,3))\n"
   ]
  },
  {
   "cell_type": "code",
   "execution_count": null,
   "id": "f5dadd0d",
   "metadata": {},
   "outputs": [],
   "source": [
    "j.meshcat.clear()\n",
    "j.meshcat.show_cloud(\"2\", j.t3d.apply_transform(point_cloud_2, pose_estimate).reshape(-1,3), color=j.RED)"
   ]
  },
  {
   "cell_type": "code",
   "execution_count": null,
   "id": "cee837ab",
   "metadata": {},
   "outputs": [],
   "source": []
  },
  {
   "cell_type": "code",
   "execution_count": null,
   "id": "1a3ec27d",
   "metadata": {},
   "outputs": [],
   "source": []
  },
  {
   "cell_type": "code",
   "execution_count": null,
   "id": "0ea15383",
   "metadata": {},
   "outputs": [],
   "source": [
    "renderer = j.Renderer(intrinsics)\n",
    "renderer.add_mesh(mesh)"
   ]
  },
  {
   "cell_type": "code",
   "execution_count": null,
   "id": "e05b924a",
   "metadata": {},
   "outputs": [],
   "source": [
    "recontruction = renderer.render_single_object(j.t3d.inverse_pose(poses[T2]) @ poses[T1], 0)"
   ]
  },
  {
   "cell_type": "code",
   "execution_count": null,
   "id": "b2156bfd",
   "metadata": {},
   "outputs": [],
   "source": [
    "j.meshcat.clear()\n",
    "j.meshcat.show_trimesh(\"!\", mesh)"
   ]
  },
  {
   "cell_type": "code",
   "execution_count": null,
   "id": "fbca9377",
   "metadata": {},
   "outputs": [],
   "source": []
  },
  {
   "cell_type": "code",
   "execution_count": null,
   "id": "0ceb109a",
   "metadata": {},
   "outputs": [],
   "source": [
    "j.meshcat.clear()\n",
    "j.meshcat.show_cloud(\"1\", point_cloud_1.reshape(-1,3))\n",
    "j.meshcat.show_cloud(\"2\", point_cloud_2.reshape(-1,3), color=j.RED)"
   ]
  },
  {
   "cell_type": "code",
   "execution_count": null,
   "id": "bbe4a96f",
   "metadata": {},
   "outputs": [],
   "source": []
  },
  {
   "cell_type": "code",
   "execution_count": null,
   "id": "6443b5bc",
   "metadata": {},
   "outputs": [],
   "source": [
    "T_WIDTH = 0.01\n",
    "translation_grid = j.make_translation_grid_enumeration(\n",
    "    -T_WIDTH,-T_WIDTH,-T_WIDTH,\n",
    "    T_WIDTH,T_WIDTH,T_WIDTH,\n",
    "    11,11,11\n",
    ")\n",
    "rotation_grid = j.make_rotation_grid_enumeration(\n",
    "    50, 40, -jnp.pi/40, jnp.pi/40, jnp.pi/40\n",
    ")\n",
    "\n",
    "\n",
    "pose_estimate = jnp.eye(4)\n",
    "best_score = -1000000.0"
   ]
  },
  {
   "cell_type": "code",
   "execution_count": null,
   "id": "9b695aa3",
   "metadata": {},
   "outputs": [],
   "source": [
    "pose_proposals = jnp.einsum(\n",
    "    'aij,jk->aik',\n",
    "    translation_grid,\n",
    "    pose_estimate,\n",
    "    \n",
    ")\n",
    "rendered_images = jnp.einsum(\n",
    "    'aij,...j->a...i',\n",
    "    pose_proposals,\n",
    "    jnp.concatenate([point_cloud_2, jnp.ones(point_cloud_2.shape[:-1] + (1,))], axis=-1),\n",
    ")[..., :-1]\n",
    "\n",
    "weights = j.threedp3_likelihood_parallel_jit(point_cloud_1, rendered_images, R, OUTLIER_PROB, OUTLIER_VOLUME)\n",
    "weights_max = weights.max()\n",
    "better = (weights_max > best_score)\n",
    "pose_estimate = pose_proposals[weights.argmax()] * better + pose_estimate* (1.0 - better)\n",
    "best_score = weights_max * better + best_score * (1.0 - better)\n",
    "print(best_score)\n",
    "\n",
    "pose_proposals = jnp.einsum(\n",
    "    'ij,ajk->aik',\n",
    "    pose_estimate,\n",
    "    rotation_grid\n",
    ")\n",
    "rendered_images = jnp.einsum(\n",
    "    'aij,...j->a...i',\n",
    "    pose_proposals,\n",
    "    jnp.concatenate([point_cloud_2, jnp.ones(point_cloud_2.shape[:-1] + (1,))], axis=-1),\n",
    ")[..., :-1]\n",
    "\n",
    "\n",
    "weights = j.threedp3_likelihood_parallel_jit(point_cloud_1, rendered_images, R, OUTLIER_PROB, OUTLIER_VOLUME)\n",
    "weights_max = weights.max()\n",
    "better = (weights_max > best_score)\n",
    "pose_estimate = pose_proposals[weights.argmax()] * better + pose_estimate *(1.0 - better)\n",
    "best_score = weights_max * better + best_score * (1.0 - better)\n",
    "print(best_score)\n"
   ]
  },
  {
   "cell_type": "code",
   "execution_count": null,
   "id": "c9d42213",
   "metadata": {},
   "outputs": [],
   "source": [
    "j.meshcat.clear()\n",
    "for i in range(1000):\n",
    "    j.meshcat.show_pose(f\"{i}\", poses[i], size=0.01)"
   ]
  },
  {
   "cell_type": "code",
   "execution_count": null,
   "id": "5139a7c6",
   "metadata": {},
   "outputs": [],
   "source": [
    "j.meshcat.clear()\n",
    "j.meshcat.show_cloud(\"1\", point_cloud_1.reshape(-1,3))\n"
   ]
  },
  {
   "cell_type": "code",
   "execution_count": null,
   "id": "10cf019d",
   "metadata": {},
   "outputs": [],
   "source": [
    "j.meshcat.clear()\n",
    "j.meshcat.show_cloud(\"1\", point_cloud_1.reshape(-1,3))\n",
    "j.meshcat.show_cloud(\"2\", point_cloud_2.reshape(-1,3), color=j.RED)"
   ]
  },
  {
   "cell_type": "code",
   "execution_count": null,
   "id": "e16747da",
   "metadata": {},
   "outputs": [],
   "source": [
    "poses[1]"
   ]
  },
  {
   "cell_type": "code",
   "execution_count": null,
   "id": "3ff498a2",
   "metadata": {},
   "outputs": [],
   "source": [
    "poses[100]"
   ]
  },
  {
   "cell_type": "code",
   "execution_count": null,
   "id": "464bb8af",
   "metadata": {},
   "outputs": [],
   "source": []
  }
 ],
 "metadata": {
  "kernelspec": {
   "display_name": "Python 3 (ipykernel)",
   "language": "python",
   "name": "python3"
  },
  "language_info": {
   "codemirror_mode": {
    "name": "ipython",
    "version": 3
   },
   "file_extension": ".py",
   "mimetype": "text/x-python",
   "name": "python",
   "nbconvert_exporter": "python",
   "pygments_lexer": "ipython3",
   "version": "3.8.16"
  }
 },
 "nbformat": 4,
 "nbformat_minor": 5
}
