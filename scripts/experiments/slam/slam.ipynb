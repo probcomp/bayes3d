{
 "cells": [
  {
   "cell_type": "code",
   "execution_count": 1,
   "id": "c9770a21",
   "metadata": {},
   "outputs": [],
   "source": [
    "from PIL import Image\n",
    "import bayes3d as b\n",
    "import os\n",
    "import numpy as np\n",
    "import jax.numpy as jnp\n",
    "from tqdm import tqdm\n",
    "import jax\n",
    "import trimesh"
   ]
  },
  {
   "cell_type": "code",
   "execution_count": 2,
   "id": "4cd3e96a",
   "metadata": {},
   "outputs": [
    {
     "name": "stdout",
     "output_type": "stream",
     "text": [
      "You can open the visualizer by visiting the following URL:\n",
      "http://127.0.0.1:7044/static/\n"
     ]
    }
   ],
   "source": [
    "b.setup_visualizer()"
   ]
  },
  {
   "cell_type": "code",
   "execution_count": 3,
   "id": "68928917",
   "metadata": {},
   "outputs": [
    {
     "name": "stderr",
     "output_type": "stream",
     "text": [
      "100%|██████████| 965/965 [00:12<00:00, 75.53it/s]\n"
     ]
    }
   ],
   "source": [
    "f = open(os.path.join(b.utils.get_assets_dir(), f\"tum/livingRoom1.gt.freiburg\"),\"r\")\n",
    "data = f.readlines()\n",
    "data = [d.strip('\\n') for d in data]\n",
    "poses = [jnp.eye(4)]\n",
    "\n",
    "xyzw_to_rotation_matrix = jax.jit(b.t3d.xyzw_to_rotation_matrix)\n",
    "transform_from_rot_and_pos = jax.jit(b.t3d.transform_from_rot_and_pos)\n",
    "for i in tqdm(range(len(data))):\n",
    "    xyzq = list(map(float,data[i].split(\" \")))[1:]\n",
    "    pos = jnp.array([xyzq[:3]])\n",
    "    rot = b.xyzw_to_rotation_matrix(jnp.array(xyzq[3:]))\n",
    "    pose = transform_from_rot_and_pos(rot, pos)\n",
    "    poses.append(pose)\n",
    "poses = jnp.array(poses)"
   ]
  },
  {
   "cell_type": "code",
   "execution_count": 4,
   "id": "9b396d68",
   "metadata": {},
   "outputs": [
    {
     "name": "stderr",
     "output_type": "stream",
     "text": [
      "100%|██████████| 966/966 [00:16<00:00, 58.43it/s]\n"
     ]
    }
   ],
   "source": [
    "IDX = 0\n",
    "rgbs = []\n",
    "original_depths = []\n",
    "for IDX in tqdm(range(len(poses))):\n",
    "    depth_filename = os.path.join(b.utils.get_assets_dir(), f\"tum/depth/{IDX}.png\")\n",
    "    rgb_filename = os.path.join(b.utils.get_assets_dir(), f\"tum/rgb/{IDX}.png\")\n",
    "    rgbs.append(jnp.array(Image.open(rgb_filename)))\n",
    "    original_depths.append(np.array(Image.open(depth_filename)) / 5000)"
   ]
  },
  {
   "cell_type": "code",
   "execution_count": 5,
   "metadata": {},
   "outputs": [],
   "source": [
    "original_intrinsics = b.Intrinsics(\n",
    "    original_depths[0].shape[0], original_depths[1].shape[1],\n",
    "    481.20, 480.00,319.50,239.50,0.001, 6.0\n",
    ")\n",
    "intrinsics = b.camera.scale_camera_parameters(original_intrinsics, 0.2)\n",
    "depths = [b.utils.resize(d, intrinsics.height, intrinsics.width) for d in original_depths]"
   ]
  },
  {
   "cell_type": "code",
   "execution_count": 6,
   "metadata": {},
   "outputs": [],
   "source": [
    "from bayes3d.rendering.nvdiffrast_jax.jax_renderer import Renderer as JaxRenderer\n",
    "jax_renderer = JaxRenderer(intrinsics)"
   ]
  },
  {
   "cell_type": "code",
   "execution_count": 7,
   "metadata": {},
   "outputs": [],
   "source": [
    "b.clear()\n",
    "point_cloud_first = b.unproject_depth_jit(depths[0], intrinsics)\n",
    "b.show_cloud(\"1\", point_cloud_first.reshape(-1,3))"
   ]
  },
  {
   "cell_type": "code",
   "execution_count": 9,
   "metadata": {},
   "outputs": [],
   "source": [
    "def point_cloud_image_to_trimesh(point_cloud_image):\n",
    "    height, width, _ = point_cloud_image.shape\n",
    "    ij_to_index = lambda i,j: i * width + j\n",
    "    ij_to_faces = lambda ij: jnp.array(\n",
    "        [\n",
    "            [ij_to_index(ij[0], ij[1]), ij_to_index(ij[0]+1, ij[1]), ij_to_index(ij[0], ij[1]+1)],\n",
    "            [ij_to_index(ij[0]+1, ij[1]), ij_to_index(ij[0]+1, ij[1]+1), ij_to_index(ij[0], ij[1]+1)]\n",
    "        ]\n",
    "    )\n",
    "    jj, ii = jnp.meshgrid(jnp.arange(width-1), jnp.arange(height-1))\n",
    "    indices = jnp.stack([ii,jj],axis=-1)\n",
    "    faces = jax.vmap(ij_to_faces)(indices.reshape(-1,2)).reshape(-1,3)\n",
    "    print(faces.shape)\n",
    "    vertices = point_cloud_image.reshape(-1,3)\n",
    "    mesh = trimesh.Trimesh(vertices, faces)\n",
    "    return mesh"
   ]
  },
  {
   "cell_type": "code",
   "execution_count": 11,
   "metadata": {},
   "outputs": [
    {
     "name": "stdout",
     "output_type": "stream",
     "text": [
      "(24130, 3)\n"
     ]
    }
   ],
   "source": [
    "mesh = point_cloud_image_to_trimesh(point_cloud_first)\n",
    "b.show_trimesh(\"mesh\", mesh) \n",
    "vertices,faces = jnp.array(mesh.vertices), jnp.array(mesh.faces)"
   ]
  },
  {
   "cell_type": "code",
   "execution_count": 110,
   "metadata": {},
   "outputs": [],
   "source": [
    "def render_image_from_pose(trans,q):\n",
    "    camera_pose = b.translation_and_quaternion_to_pose_matrix(trans, q)\n",
    "    img = jax_renderer.render(vertices, faces, b.inverse_pose(camera_pose), intrinsics)[0][0,...]\n",
    "    return img\n",
    "\n",
    "def loss_func(trans, q, obs_depth):\n",
    "    img = render_image_from_pose(trans,q)\n",
    "    diffs = jnp.abs(img - obs_depth)\n",
    "    return (diffs * (img > 0.001)).mean()\n",
    "    # return jnp.abs(img - obs_depth).mean()\n",
    "    \n",
    "\n",
    "value_and_grad_jit = jax.jit(jax.value_and_grad(loss_func, argnums=(0,1,)))"
   ]
  },
  {
   "cell_type": "code",
   "execution_count": 116,
   "metadata": {},
   "outputs": [
    {
     "name": "stdout",
     "output_type": "stream",
     "text": [
      "(24130, 3)\n",
      "[[1. 0. 0. 0.]\n",
      " [0. 1. 0. 0.]\n",
      " [0. 0. 1. 0.]\n",
      " [0. 0. 0. 1.]]\n",
      "(96, 128)\n",
      "2.2798001e-09\n"
     ]
    },
    {
     "data": {
      "image/png": "[encoded data removed]",
      "text/plain": [
       "<PIL.Image.Image image mode=RGB size=266x96>"
      ]
     },
     "execution_count": 116,
     "metadata": {},
     "output_type": "execute_result"
    }
   ],
   "source": [
    "tr,q = jnp.zeros(3), jnp.array([1.0, 0.0, 0.0, 0.0])\n",
    "\n",
    "timestep = 0\n",
    "\n",
    "mesh = point_cloud_image_to_trimesh(b.apply_transform(b.unproject_depth_jit(depths[timestep], intrinsics), b.translation_and_quaternion_to_pose_matrix(tr,q)))\n",
    "b.clear()\n",
    "b.show_pose(\"inferred\", b.translation_and_quaternion_to_pose_matrix(tr,q), size=0.1)\n",
    "b.show_trimesh(\"mesh\", mesh) \n",
    "vertices,faces = jnp.array(mesh.vertices), jnp.array(mesh.faces)\n",
    "\n",
    "print(b.translation_and_quaternion_to_pose_matrix(tr,q))\n",
    "img = render_image_from_pose(tr,q)\n",
    "print(img.shape)\n",
    "print(loss_func(tr,q, depths[0]))\n",
    "\n",
    "b.hstack_images([b.get_depth_image(img), b.get_depth_image(depths[0])])"
   ]
  },
  {
   "cell_type": "code",
   "execution_count": 123,
   "metadata": {},
   "outputs": [
    {
     "name": "stderr",
     "output_type": "stream",
     "text": [
      "0.0018457567784935236: 100%|██████████| 200/200 [00:00<00:00, 379.97it/s]\n"
     ]
    }
   ],
   "source": [
    "pbar = tqdm(range(200))\n",
    "timestep = 100\n",
    "for _  in pbar:\n",
    "    loss, (g1, g2) = value_and_grad_jit(tr, q, depths[timestep])\n",
    "    tr -= g1 * 0.001\n",
    "    q -= g2 * 0.001\n",
    "    pbar.set_description(f\"{loss}\")\n",
    "b.show_pose(\"inferred\", b.translation_and_quaternion_to_pose_matrix(tr,q), size=0.1)"
   ]
  },
  {
   "cell_type": "code",
   "execution_count": 125,
   "metadata": {},
   "outputs": [
    {
     "data": {
      "image/png": "[encoded data removed]",
      "text/plain": [
       "<PIL.Image.Image image mode=RGB size=266x96>"
      ]
     },
     "execution_count": 125,
     "metadata": {},
     "output_type": "execute_result"
    }
   ],
   "source": [
    "rendered_img = render_image_from_pose(tr,q)\n",
    "b.clear()\n",
    "b.show_cloud(\"cloud\", b.unproject_depth_jit(rendered_img, intrinsics).reshape(-1,3))\n",
    "b.show_cloud(\"cloud2\", b.unproject_depth_jit(depths[timestep], intrinsics).reshape(-1,3),color=b.RED)\n",
    "b.hstack_images(\n",
    "    [\n",
    "        b.get_depth_image(rendered_img),\n",
    "        b.get_depth_image(depths[timestep])\n",
    "    ]\n",
    ")"
   ]
  },
  {
   "cell_type": "code",
   "execution_count": 98,
   "metadata": {},
   "outputs": [
    {
     "name": "stdout",
     "output_type": "stream",
     "text": [
      "(24130, 3)\n"
     ]
    }
   ],
   "source": [
    "mesh = point_cloud_image_to_trimesh(b.apply_transform(b.unproject_depth_jit(depths[timestep], intrinsics), b.translation_and_quaternion_to_pose_matrix(tr,q)))\n",
    "b.clear()\n",
    "b.show_pose(\"inferred\", b.translation_and_quaternion_to_pose_matrix(tr,q), size=0.1)\n",
    "b.show_trimesh(\"mesh\", mesh) \n",
    "vertices,faces = jnp.array(mesh.vertices), jnp.array(mesh.faces)"
   ]
  },
  {
   "cell_type": "code",
   "execution_count": 42,
   "metadata": {},
   "outputs": [
    {
     "name": "stdout",
     "output_type": "stream",
     "text": [
      "[[1. 0. 0. 0.]\n",
      " [0. 1. 0. 0.]\n",
      " [0. 0. 1. 0.]\n",
      " [0. 0. 0. 1.]]\n",
      "(96, 128)\n"
     ]
    },
    {
     "data": {
      "text/plain": [
       "Array([[ 2.001,  2.001,  2.002, ...,  2.058,  2.059, -0.   ],\n",
       "       [ 2.001,  2.001,  2.002, ...,  2.058,  2.058, -0.   ],\n",
       "       [ 2.001,  2.001,  2.001, ...,  2.058,  2.059, -0.   ],\n",
       "       ...,\n",
       "       [ 1.389,  1.39 ,  1.389, ...,  1.178,  1.16 , -0.   ],\n",
       "       [ 1.36 ,  1.36 ,  1.36 , ...,  1.178,  1.16 , -0.   ],\n",
       "       [-0.   , -0.   , -0.   , ..., -0.   , -0.   , -0.   ]],      dtype=float32)"
      ]
     },
     "execution_count": 42,
     "metadata": {},
     "output_type": "execute_result"
    },
    {
     "data": {
      "image/png": "[encoded data removed]",
      "text/plain": [
       "<Figure size 640x480 with 2 Axes>"
      ]
     },
     "metadata": {},
     "output_type": "display_data"
    }
   ],
   "source": [
    "tr,q = jnp.zeros(3), jnp.array([1.0, 0.0, 0.0, 0.0])\n",
    "print(b.translation_and_quaternion_to_pose_matrix(tr,q))\n",
    "img = render_image_from_pose(tr,q)\n",
    "print(img.shape)\n",
    "b.get_depth_image(img)\n",
    "import matplotlib.pyplot as plt\n",
    "plt.imshow(img)\n",
    "plt.colorbar()\n",
    "img"
   ]
  },
  {
   "cell_type": "code",
   "execution_count": 35,
   "metadata": {},
   "outputs": [
    {
     "data": {
      "image/png": "[encoded data removed]",
      "text/plain": [
       "<PIL.Image.Image image mode=RGB size=640x480>"
      ]
     },
     "execution_count": 35,
     "metadata": {},
     "output_type": "execute_result"
    }
   ],
   "source": [
    "b.get_depth_image(original_depths[100])"
   ]
  },
  {
   "cell_type": "code",
   "execution_count": 32,
   "metadata": {},
   "outputs": [],
   "source": [
    "b.clear()\n",
    "cloud1 = b.unproject_depth_jit(original_depths[0], original_intrinsics)\n",
    "b.show_cloud(\"1\", b.apply_transform_jit(cloud1,poses[0]).reshape(-1,3))\n",
    "\n",
    "T = 100\n",
    "cloud2 = b.unproject_depth_jit(original_depths[T], original_intrinsics)\n",
    "b.show_cloud(\"2\", b.apply_transform_jit(cloud2, poses[T]).reshape(-1,3), color=b.RED)"
   ]
  },
  {
   "cell_type": "code",
   "execution_count": 9,
   "id": "8fc4eec3",
   "metadata": {},
   "outputs": [
    {
     "ename": "NameError",
     "evalue": "name 'j' is not defined",
     "output_type": "error",
     "traceback": [
      "\u001b[0;31m---------------------------------------------------------------------------\u001b[0m",
      "\u001b[0;31mNameError\u001b[0m                                 Traceback (most recent call last)",
      "\u001b[1;32m/home/nishadgothoskar/bayes3d/scripts/experiments/slam/slam.ipynb Cell 5\u001b[0m line \u001b[0;36m1\n\u001b[0;32m----> <a href='vscode-notebook-cell://ssh-remote%2B34.70.144.22/home/nishadgothoskar/bayes3d/scripts/experiments/slam/slam.ipynb#W4sdnNjb2RlLXJlbW90ZQ%3D%3D?line=0'>1</a>\u001b[0m original_intrinsics \u001b[39m=\u001b[39m j\u001b[39m.\u001b[39mIntrinsics(\n\u001b[1;32m      <a href='vscode-notebook-cell://ssh-remote%2B34.70.144.22/home/nishadgothoskar/bayes3d/scripts/experiments/slam/slam.ipynb#W4sdnNjb2RlLXJlbW90ZQ%3D%3D?line=1'>2</a>\u001b[0m     original_depths[\u001b[39m0\u001b[39m]\u001b[39m.\u001b[39mshape[\u001b[39m0\u001b[39m], original_depths[\u001b[39m1\u001b[39m]\u001b[39m.\u001b[39mshape[\u001b[39m1\u001b[39m],\n\u001b[1;32m      <a href='vscode-notebook-cell://ssh-remote%2B34.70.144.22/home/nishadgothoskar/bayes3d/scripts/experiments/slam/slam.ipynb#W4sdnNjb2RlLXJlbW90ZQ%3D%3D?line=2'>3</a>\u001b[0m     \u001b[39m481.20\u001b[39m, \u001b[39m480.00\u001b[39m,\u001b[39m319.50\u001b[39m,\u001b[39m239.50\u001b[39m,\u001b[39m0.001\u001b[39m, \u001b[39m6.0\u001b[39m\n\u001b[1;32m      <a href='vscode-notebook-cell://ssh-remote%2B34.70.144.22/home/nishadgothoskar/bayes3d/scripts/experiments/slam/slam.ipynb#W4sdnNjb2RlLXJlbW90ZQ%3D%3D?line=3'>4</a>\u001b[0m )\n\u001b[1;32m      <a href='vscode-notebook-cell://ssh-remote%2B34.70.144.22/home/nishadgothoskar/bayes3d/scripts/experiments/slam/slam.ipynb#W4sdnNjb2RlLXJlbW90ZQ%3D%3D?line=4'>5</a>\u001b[0m intrinsics \u001b[39m=\u001b[39m b\u001b[39m.\u001b[39mcamera\u001b[39m.\u001b[39mscale_camera_parameters(original_intrinsics, \u001b[39m0.2\u001b[39m)\n\u001b[1;32m      <a href='vscode-notebook-cell://ssh-remote%2B34.70.144.22/home/nishadgothoskar/bayes3d/scripts/experiments/slam/slam.ipynb#W4sdnNjb2RlLXJlbW90ZQ%3D%3D?line=5'>6</a>\u001b[0m depths \u001b[39m=\u001b[39m [b\u001b[39m.\u001b[39mutils\u001b[39m.\u001b[39mresize(d, intrinsics\u001b[39m.\u001b[39mheight, intrinsics\u001b[39m.\u001b[39mwidth) \u001b[39mfor\u001b[39;00m d \u001b[39min\u001b[39;00m original_depths]\n",
      "\u001b[0;31mNameError\u001b[0m: name 'j' is not defined"
     ]
    }
   ],
   "source": []
  },
  {
   "cell_type": "code",
   "execution_count": null,
   "id": "53d74ddb",
   "metadata": {},
   "outputs": [],
   "source": [
    "T1 = 140\n",
    "point_cloud_image_1 = j.t3d.unproject_depth_jit(depths[T1], intrinsics)\n",
    "\n",
    "T2 = 150\n",
    "point_cloud_image_2 = j.t3d.unproject_depth_jit(depths[T2], intrinsics)"
   ]
  },
  {
   "cell_type": "code",
   "execution_count": null,
   "id": "b5ed3040",
   "metadata": {},
   "outputs": [],
   "source": [
    "j.hstack_images([\n",
    "    j.get_rgb_image(rgbs[T1]),\n",
    "    j.get_rgb_image(rgbs[T2]),\n",
    "])"
   ]
  },
  {
   "cell_type": "code",
   "execution_count": null,
   "id": "38278570",
   "metadata": {},
   "outputs": [],
   "source": [
    "j.hstack_images([\n",
    "    j.get_depth_image(point_cloud_image_1[:,:,2]),\n",
    "    j.get_depth_image(point_cloud_image_2[:,:,2]),\n",
    "])"
   ]
  },
  {
   "cell_type": "code",
   "execution_count": null,
   "id": "7b90c908",
   "metadata": {},
   "outputs": [],
   "source": [
    "mesh = j.mesh.make_voxel_mesh_from_point_cloud(point_cloud_image_1.reshape(-1,3), 0.05)"
   ]
  },
  {
   "cell_type": "code",
   "execution_count": null,
   "id": "cad8ee07",
   "metadata": {},
   "outputs": [],
   "source": [
    "renderer = j.Renderer(intrinsics)\n",
    "renderer.add_mesh(mesh)"
   ]
  },
  {
   "cell_type": "code",
   "execution_count": null,
   "id": "eba6e293",
   "metadata": {},
   "outputs": [],
   "source": [
    "j.meshcat.clear()"
   ]
  },
  {
   "cell_type": "code",
   "execution_count": null,
   "id": "80eff0f8",
   "metadata": {},
   "outputs": [],
   "source": [
    "j.meshcat.clear()\n",
    "j.meshcat.show_trimesh(\"1\",mesh)"
   ]
  },
  {
   "cell_type": "code",
   "execution_count": null,
   "id": "b32f9173",
   "metadata": {},
   "outputs": [],
   "source": [
    "pose_estimate = jnp.eye(4)\n",
    "NUM_SAMPLES_FOR_ESTIMATE=500\n",
    "keys = jax.random.split(jax.random.PRNGKey(4), NUM_SAMPLES_FOR_ESTIMATE)\n",
    "var,conc =  0.01, 1000.0\n",
    "get_proposals = jax.jit(jax.vmap(lambda key,pose_estimate,var,conc: j.distributions.gaussian_vmf_sample(\n",
    "    key, pose_estimate, var, conc),in_axes=(0,None,None,None)))\n",
    "best_score = -jnp.inf"
   ]
  },
  {
   "cell_type": "code",
   "execution_count": null,
   "id": "54ad2c1c",
   "metadata": {},
   "outputs": [],
   "source": [
    "for _ in tqdm(range(10)):\n",
    "    for (var,conc) in [(0.01, 2000.0),(0.001, 2000.0),(0.1, 600.0)]:\n",
    "        pose_proposals = get_proposals(keys, pose_estimate, var, conc)\n",
    "        keys = jax.random.split(keys[0], NUM_SAMPLES_FOR_ESTIMATE)\n",
    "        rendered_images = renderer.render_parallel(pose_proposals, 0)[...,:3]\n",
    "        weights = j.threedp3_likelihood_parallel_jit(point_cloud_image_2, rendered_images, 0.0001, 0.1, 1.0)\n",
    "        if weights.max() > best_score:\n",
    "            best_score = weights.max()\n",
    "            pose_estimate = pose_proposals[weights.argmax()]\n",
    "        print(best_score)\n",
    "\n",
    "    reconstruction = renderer.render_single_object(pose_estimate, 0)[:,:,:3]\n",
    "\n",
    "j.meshcat.clear()\n",
    "j.meshcat.show_cloud(\"1\", point_cloud_image_2.reshape(-1,3))\n",
    "j.meshcat.show_cloud(\"2\", reconstruction.reshape(-1,3), color=j.RED)\n"
   ]
  },
  {
   "cell_type": "code",
   "execution_count": null,
   "id": "770866d8",
   "metadata": {},
   "outputs": [],
   "source": [
    "j.get_depth_image(renderer.render_single_object(pose_estimate, 0)[...,2])"
   ]
  },
  {
   "cell_type": "code",
   "execution_count": null,
   "id": "70898da9",
   "metadata": {},
   "outputs": [],
   "source": [
    "j.get_depth_image(point_cloud_image_2[:,:,2])"
   ]
  },
  {
   "cell_type": "code",
   "execution_count": null,
   "id": "f1ee9575",
   "metadata": {},
   "outputs": [],
   "source": []
  },
  {
   "cell_type": "code",
   "execution_count": null,
   "id": "89a9f75c",
   "metadata": {},
   "outputs": [],
   "source": [
    "point_cloud_1 = j.t3d.unproject_depth_jit(depths[T1], intrinsics)\n",
    "point_cloud_2 = j.t3d.unproject_depth_jit(depths[T2], intrinsics)\n",
    "\n",
    "correction_transform = j.t3d.inverse_pose(poses[T1]) @ poses[T2]\n",
    "point_cloud_2_corrected = j.t3d.apply_transform_jit(j.t3d.unproject_depth_jit(depths[T2], intrinsics),  correction_transform)"
   ]
  },
  {
   "cell_type": "code",
   "execution_count": null,
   "id": "ba2fbd8f",
   "metadata": {},
   "outputs": [],
   "source": [
    "j.meshcat.clear()\n",
    "j.meshcat.show_cloud(\"1\", point_cloud_1.reshape(-1,3))\n",
    "j.meshcat.show_cloud(\"2\", point_cloud_2.reshape(-1,3), color=j.RED)\n",
    "\n",
    "R = jnp.array([0.0001])\n",
    "OUTLIER_PROB = 0.05\n",
    "OUTLIER_VOLUME = 1.0\n",
    "j.threedp3_likelihood_jit(point_cloud_1, point_cloud_2, jnp.zeros((point_cloud_2.shape[0], point_cloud_2.shape[1])), R,OUTLIER_PROB, OUTLIER_VOLUME)"
   ]
  },
  {
   "cell_type": "code",
   "execution_count": null,
   "id": "a8e1d136",
   "metadata": {},
   "outputs": [],
   "source": [
    "pc = point_cloud_1.reshape(-1,3)\n",
    "noise = jax.vmap(\n",
    "    lambda key: jax.random.multivariate_normal(\n",
    "        key, jnp.zeros(3), jnp.eye(3) * R[0]\n",
    "    )\n",
    ")(\n",
    "    jax.random.split(jax.random.PRNGKey(3), pc.shape[0])\n",
    ")\n",
    "pc_noisy = pc + noise\n",
    "j.meshcat.clear()\n",
    "j.meshcat.show_cloud(\"1\", pc.reshape(-1,3))\n",
    "j.meshcat.show_cloud(\"2\", pc_noisy.reshape(-1,3), color=j.RED)"
   ]
  },
  {
   "cell_type": "code",
   "execution_count": null,
   "id": "3cd9867f",
   "metadata": {},
   "outputs": [],
   "source": [
    "j.meshcat.clear()\n",
    "j.meshcat.show_cloud(\"1\", point_cloud_1.reshape(-1,3))\n",
    "j.meshcat.show_cloud(\"2\", point_cloud_2_corrected.reshape(-1,3), color=j.RED)\n",
    "\n",
    "j.meshcat.show_pose(\"pose\", correction_transform)\n",
    "j.threedp3_likelihood_jit(point_cloud_1, j.t3d.apply_transform(point_cloud_2, \n",
    "    correction_transform), jnp.zeros((point_cloud_2.shape[0], point_cloud_2.shape[1])), R,OUTLIER_PROB, OUTLIER_VOLUME)"
   ]
  },
  {
   "cell_type": "code",
   "execution_count": null,
   "id": "fb077091",
   "metadata": {},
   "outputs": [],
   "source": [
    "NUM_SAMPLES_FOR_ESTIMATE = 1000\n"
   ]
  },
  {
   "cell_type": "code",
   "execution_count": null,
   "id": "d725572a",
   "metadata": {},
   "outputs": [],
   "source": [
    "pose_estimate = jnp.eye(4)"
   ]
  },
  {
   "cell_type": "code",
   "execution_count": null,
   "id": "11b9a4cc",
   "metadata": {},
   "outputs": [],
   "source": [
    "threedp3_likelihood_parallel_jit = jax.jit(jax.vmap(\n",
    "    j.threedp3_likelihood,\n",
    "    in_axes=(None, 0, None, None, None, None)\n",
    "))\n",
    "\n",
    "\n",
    "def refine_pose_estimate_inner(pose_estimate, point_cloud_1, point_cloud_2, keys, var, conc):\n",
    "    keys = jax.random.split(keys[0], NUM_SAMPLES_FOR_ESTIMATE)\n",
    "    pose_proposals = jax.vmap(lambda key: j.distributions.gaussian_vmf_sample(\n",
    "        key, pose_estimate, var, conc))(\n",
    "        keys\n",
    "    )\n",
    "\n",
    "    rendered_images = jnp.einsum(\n",
    "        'aij,...j->a...i',\n",
    "        pose_proposals,\n",
    "        jnp.concatenate([point_cloud_2, jnp.ones(point_cloud_2.shape[:-1] + (1,))], axis=-1),\n",
    "    )[..., :-1]\n",
    "\n",
    "    best_score = j.threedp3_likelihood_jit(\n",
    "        point_cloud_1, j.t3d.apply_transform(point_cloud_2, \n",
    "        pose_estimate), jnp.zeros((point_cloud_2.shape[0], point_cloud_2.shape[1])), R, OUTLIER_PROB, OUTLIER_VOLUME)\n",
    "    \n",
    "    weights = threedp3_likelihood_parallel_jit(\n",
    "        point_cloud_1, rendered_images, jnp.zeros((point_cloud_2.shape[0], point_cloud_2.shape[1])), R,OUTLIER_PROB, OUTLIER_VOLUME)\n",
    "    weights_max = weights.max()\n",
    "    better = (weights_max > best_score)\n",
    "    pose_estimate = pose_proposals[weights.argmax()] * better + pose_estimate* (1.0 - better)\n",
    "    return pose_estimate, keys\n",
    "\n",
    "refine_pose_estimate_jit = jax.jit(refine_pose_estimate_inner)"
   ]
  },
  {
   "cell_type": "code",
   "execution_count": null,
   "id": "19d53c86",
   "metadata": {},
   "outputs": [],
   "source": [
    "for _ in tqdm(range(20)):\n",
    "    pose_estimate,keys = refine_pose_estimate_jit(pose_estimate, point_cloud_1, point_cloud_2, keys, 0.01, 1000.0)\n",
    "    pose_estimate,keys = refine_pose_estimate_jit(pose_estimate, point_cloud_1, point_cloud_2, keys, 0.005, 2000.0)\n",
    "    pose_estimate,keys = refine_pose_estimate_jit(pose_estimate, point_cloud_1, point_cloud_2, keys, 0.001, 1000.0)\n",
    "score = j.threedp3_likelihood_jit(\n",
    "    point_cloud_1, j.t3d.apply_transform(point_cloud_2, \n",
    "    pose_estimate), jnp.zeros((point_cloud_2.shape[0], point_cloud_2.shape[1])), R, OUTLIER_PROB, OUTLIER_VOLUME)\n",
    "keys[0],score"
   ]
  },
  {
   "cell_type": "code",
   "execution_count": null,
   "id": "8d870048",
   "metadata": {},
   "outputs": [],
   "source": [
    "j.meshcat.clear()\n",
    "j.meshcat.show_cloud(\"1\", point_cloud_1.reshape(-1,3))\n",
    "j.meshcat.show_cloud(\"2\", j.t3d.apply_transform(point_cloud_2, pose_estimate).reshape(-1,3), color=j.RED)"
   ]
  },
  {
   "cell_type": "code",
   "execution_count": null,
   "id": "aac2cc3a",
   "metadata": {},
   "outputs": [],
   "source": []
  },
  {
   "cell_type": "code",
   "execution_count": null,
   "id": "f8094a03",
   "metadata": {},
   "outputs": [],
   "source": [
    "j.meshcat.clear()\n",
    "j.meshcat.show_cloud(\"1\", point_cloud_1.reshape(-1,3))\n",
    "j.meshcat.show_cloud(\"2\", point_cloud_2.reshape(-1,3), color=j.RED)"
   ]
  },
  {
   "cell_type": "code",
   "execution_count": null,
   "id": "ce2852bc",
   "metadata": {},
   "outputs": [],
   "source": []
  },
  {
   "cell_type": "code",
   "execution_count": null,
   "id": "ad92b0e8",
   "metadata": {},
   "outputs": [],
   "source": []
  },
  {
   "cell_type": "code",
   "execution_count": null,
   "id": "622ea870",
   "metadata": {},
   "outputs": [],
   "source": [
    "point_clouds = [\n",
    "    unproject_depth(depths[t], intrinsics)\n",
    "    for t in jnp.arange(200, 300, 5)\n",
    "]\n",
    "transforms = []\n",
    "for i in tqdm(range(len(point_clouds) - 1)):\n",
    "    pose_estimate = jnp.eye(4)\n",
    "    point_cloud_1, point_cloud_2 = point_clouds[i], point_clouds[i+1]\n",
    "    pose_estimate,keys = refine_pose_estimate_jit(pose_estimate, point_cloud_1, point_cloud_2, keys, 0.01, 1000.0)\n",
    "    pose_estimate,keys = refine_pose_estimate_jit(pose_estimate, point_cloud_1, point_cloud_2, keys, 0.005, 2000.0)\n",
    "    pose_estimate,keys = refine_pose_estimate_jit(pose_estimate, point_cloud_1, point_cloud_2, keys, 0.001, 1000.0)\n",
    "    pose_estimate,keys = refine_pose_estimate_jit(pose_estimate, point_cloud_1, point_cloud_2, keys, 0.001, 1000.0)\n",
    "    transforms.append(pose_estimate)\n"
   ]
  },
  {
   "cell_type": "code",
   "execution_count": null,
   "id": "22a0d52f",
   "metadata": {},
   "outputs": [],
   "source": [
    "i = 15"
   ]
  },
  {
   "cell_type": "code",
   "execution_count": null,
   "id": "db4f665c",
   "metadata": {},
   "outputs": [],
   "source": [
    "j.meshcat.clear()\n",
    "j.meshcat.show_cloud(\"1\", point_clouds[i].reshape(-1,3))\n",
    "j.meshcat.show_cloud(\"2\", point_clouds[i+1].reshape(-1,3), color=j.RED)\n"
   ]
  },
  {
   "cell_type": "code",
   "execution_count": null,
   "id": "dd5bff45",
   "metadata": {},
   "outputs": [],
   "source": [
    "j.meshcat.clear()\n",
    "j.meshcat.show_cloud(\"1\", point_clouds[i].reshape(-1,3))\n",
    "j.meshcat.show_cloud(\"2\", j.t3d.apply_transform(point_clouds[i+1], transforms[i]).reshape(-1,3), color=j.RED)\n"
   ]
  },
  {
   "cell_type": "code",
   "execution_count": null,
   "id": "2d3c1468",
   "metadata": {},
   "outputs": [],
   "source": [
    "len(point_clouds)"
   ]
  },
  {
   "cell_type": "code",
   "execution_count": null,
   "id": "bb45a9e4",
   "metadata": {},
   "outputs": [],
   "source": []
  },
  {
   "cell_type": "code",
   "execution_count": null,
   "id": "63775eea",
   "metadata": {},
   "outputs": [],
   "source": [
    "j.meshcat.clear()\n",
    "j.meshcat.show_cloud(\"1\", point_cloud_1.reshape(-1,3))\n"
   ]
  },
  {
   "cell_type": "code",
   "execution_count": null,
   "id": "f5dadd0d",
   "metadata": {},
   "outputs": [],
   "source": [
    "j.meshcat.clear()\n",
    "j.meshcat.show_cloud(\"2\", j.t3d.apply_transform(point_cloud_2, pose_estimate).reshape(-1,3), color=j.RED)"
   ]
  },
  {
   "cell_type": "code",
   "execution_count": null,
   "id": "cee837ab",
   "metadata": {},
   "outputs": [],
   "source": []
  },
  {
   "cell_type": "code",
   "execution_count": null,
   "id": "1a3ec27d",
   "metadata": {},
   "outputs": [],
   "source": []
  },
  {
   "cell_type": "code",
   "execution_count": null,
   "id": "0ea15383",
   "metadata": {},
   "outputs": [],
   "source": [
    "renderer = j.Renderer(intrinsics)\n",
    "renderer.add_mesh(mesh)"
   ]
  },
  {
   "cell_type": "code",
   "execution_count": null,
   "id": "e05b924a",
   "metadata": {},
   "outputs": [],
   "source": [
    "recontruction = renderer.render_single_object(j.t3d.inverse_pose(poses[T2]) @ poses[T1], 0)"
   ]
  },
  {
   "cell_type": "code",
   "execution_count": null,
   "id": "b2156bfd",
   "metadata": {},
   "outputs": [],
   "source": [
    "j.meshcat.clear()\n",
    "j.meshcat.show_trimesh(\"!\", mesh)"
   ]
  },
  {
   "cell_type": "code",
   "execution_count": null,
   "id": "fbca9377",
   "metadata": {},
   "outputs": [],
   "source": []
  },
  {
   "cell_type": "code",
   "execution_count": null,
   "id": "0ceb109a",
   "metadata": {},
   "outputs": [],
   "source": [
    "j.meshcat.clear()\n",
    "j.meshcat.show_cloud(\"1\", point_cloud_1.reshape(-1,3))\n",
    "j.meshcat.show_cloud(\"2\", point_cloud_2.reshape(-1,3), color=j.RED)"
   ]
  },
  {
   "cell_type": "code",
   "execution_count": null,
   "id": "bbe4a96f",
   "metadata": {},
   "outputs": [],
   "source": []
  },
  {
   "cell_type": "code",
   "execution_count": null,
   "id": "6443b5bc",
   "metadata": {},
   "outputs": [],
   "source": [
    "T_WIDTH = 0.01\n",
    "translation_grid = j.make_translation_grid_enumeration(\n",
    "    -T_WIDTH,-T_WIDTH,-T_WIDTH,\n",
    "    T_WIDTH,T_WIDTH,T_WIDTH,\n",
    "    11,11,11\n",
    ")\n",
    "rotation_grid = j.make_rotation_grid_enumeration(\n",
    "    50, 40, -jnp.pi/40, jnp.pi/40, jnp.pi/40\n",
    ")\n",
    "\n",
    "\n",
    "pose_estimate = jnp.eye(4)\n",
    "best_score = -1000000.0"
   ]
  },
  {
   "cell_type": "code",
   "execution_count": null,
   "id": "9b695aa3",
   "metadata": {},
   "outputs": [],
   "source": [
    "pose_proposals = jnp.einsum(\n",
    "    'aij,jk->aik',\n",
    "    translation_grid,\n",
    "    pose_estimate,\n",
    "    \n",
    ")\n",
    "rendered_images = jnp.einsum(\n",
    "    'aij,...j->a...i',\n",
    "    pose_proposals,\n",
    "    jnp.concatenate([point_cloud_2, jnp.ones(point_cloud_2.shape[:-1] + (1,))], axis=-1),\n",
    ")[..., :-1]\n",
    "\n",
    "weights = j.threedp3_likelihood_parallel_jit(point_cloud_1, rendered_images, R, OUTLIER_PROB, OUTLIER_VOLUME)\n",
    "weights_max = weights.max()\n",
    "better = (weights_max > best_score)\n",
    "pose_estimate = pose_proposals[weights.argmax()] * better + pose_estimate* (1.0 - better)\n",
    "best_score = weights_max * better + best_score * (1.0 - better)\n",
    "print(best_score)\n",
    "\n",
    "pose_proposals = jnp.einsum(\n",
    "    'ij,ajk->aik',\n",
    "    pose_estimate,\n",
    "    rotation_grid\n",
    ")\n",
    "rendered_images = jnp.einsum(\n",
    "    'aij,...j->a...i',\n",
    "    pose_proposals,\n",
    "    jnp.concatenate([point_cloud_2, jnp.ones(point_cloud_2.shape[:-1] + (1,))], axis=-1),\n",
    ")[..., :-1]\n",
    "\n",
    "\n",
    "weights = j.threedp3_likelihood_parallel_jit(point_cloud_1, rendered_images, R, OUTLIER_PROB, OUTLIER_VOLUME)\n",
    "weights_max = weights.max()\n",
    "better = (weights_max > best_score)\n",
    "pose_estimate = pose_proposals[weights.argmax()] * better + pose_estimate *(1.0 - better)\n",
    "best_score = weights_max * better + best_score * (1.0 - better)\n",
    "print(best_score)\n"
   ]
  },
  {
   "cell_type": "code",
   "execution_count": null,
   "id": "c9d42213",
   "metadata": {},
   "outputs": [],
   "source": [
    "j.meshcat.clear()\n",
    "for i in range(1000):\n",
    "    j.meshcat.show_pose(f\"{i}\", poses[i], size=0.01)"
   ]
  },
  {
   "cell_type": "code",
   "execution_count": null,
   "id": "5139a7c6",
   "metadata": {},
   "outputs": [],
   "source": [
    "j.meshcat.clear()\n",
    "j.meshcat.show_cloud(\"1\", point_cloud_1.reshape(-1,3))\n"
   ]
  },
  {
   "cell_type": "code",
   "execution_count": null,
   "id": "10cf019d",
   "metadata": {},
   "outputs": [],
   "source": [
    "j.meshcat.clear()\n",
    "j.meshcat.show_cloud(\"1\", point_cloud_1.reshape(-1,3))\n",
    "j.meshcat.show_cloud(\"2\", point_cloud_2.reshape(-1,3), color=j.RED)"
   ]
  },
  {
   "cell_type": "code",
   "execution_count": null,
   "id": "e16747da",
   "metadata": {},
   "outputs": [],
   "source": [
    "poses[1]"
   ]
  },
  {
   "cell_type": "code",
   "execution_count": null,
   "id": "3ff498a2",
   "metadata": {},
   "outputs": [],
   "source": [
    "poses[100]"
   ]
  },
  {
   "cell_type": "code",
   "execution_count": null,
   "id": "464bb8af",
   "metadata": {},
   "outputs": [],
   "source": []
  }
 ],
 "metadata": {
  "kernelspec": {
   "display_name": "Python 3 (ipykernel)",
   "language": "python",
   "name": "python3"
  },
  "language_info": {
   "codemirror_mode": {
    "name": "ipython",
    "version": 3
   },
   "file_extension": ".py",
   "mimetype": "text/x-python",
   "name": "python",
   "nbconvert_exporter": "python",
   "pygments_lexer": "ipython3",
   "version": "3.9.18"
  }
 },
 "nbformat": 4,
 "nbformat_minor": 5
}
