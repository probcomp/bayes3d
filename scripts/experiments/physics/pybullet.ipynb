{
 "cells": [
  {
   "cell_type": "code",
   "execution_count": 2,
   "metadata": {
    "notebookRunGroups": {
     "groupValue": ""
    }
   },
   "outputs": [
    {
     "name": "stderr",
     "output_type": "stream",
     "text": [
      "pybullet build time: May 20 2022 19:45:31\n"
     ]
    },
    {
     "name": "stdout",
     "output_type": "stream",
     "text": [
      "/home/ubuntu/bayes3d/experiments/physics this is the current working directory\n"
     ]
    },
    {
     "name": "stderr",
     "output_type": "stream",
     "text": [
      "/opt/conda/envs/bayes3d/lib/python3.9/site-packages/glfw/__init__.py:916: GLFWError: (65544) b'X11: The DISPLAY environment variable is missing'\n",
      "  warnings.warn(message, GLFWError)\n"
     ]
    }
   ],
   "source": [
    "import pybullet as p\n",
    "import pybullet_data\n",
    "import bayes3d as b\n",
    "import imageio\n",
    "import numpy as np\n",
    "import pickle\n",
    "import PIL.Image\n",
    "import os\n",
    "import matplotlib\n",
    "import matplotlib.animation as animation\n",
    "import matplotlib.pyplot as plt\n",
    "from IPython.display import HTML\n",
    "print(os.getcwd(), \"this is the current working directory\")"
   ]
  },
  {
   "cell_type": "code",
   "execution_count": 3,
   "metadata": {},
   "outputs": [],
   "source": [
    "def display_video(frames, framerate=30):\n",
    "    height, width, _ = frames[0].shape\n",
    "    dpi = 70\n",
    "    orig_backend = matplotlib.get_backend()\n",
    "    matplotlib.use('Agg')  # Switch to headless 'Agg' to inhibit figure rendering.\n",
    "    fig, ax = plt.subplots(1, 1, figsize=(width / dpi, height / dpi), dpi=dpi)\n",
    "    matplotlib.use(orig_backend)  # Switch back to the original backend.\n",
    "    ax.set_axis_off()\n",
    "    ax.set_aspect('equal')\n",
    "    ax.set_position([0, 0, 1, 1])\n",
    "    im = ax.imshow(frames[0])\n",
    "    def update(frame):\n",
    "      im.set_data(frame)\n",
    "      return [im]\n",
    "    interval = 1000/framerate\n",
    "    anim = animation.FuncAnimation(fig=fig, func=update, frames=frames,\n",
    "                                   interval=interval, blit=True, repeat=True)\n",
    "    return HTML(anim.to_html5_video())"
   ]
  },
  {
   "cell_type": "code",
   "execution_count": 4,
   "metadata": {},
   "outputs": [],
   "source": [
    "def object_pose_in_camera_frame(object_id, view_matrix):\n",
    "    object_pos, object_orn = p.getBasePositionAndOrientation(object_id) # world frame\n",
    "    world2cam = np.array(view_matrix).reshape([4,4]).T # world --> cam \n",
    "    object_transform_matrix = np.eye(4)\n",
    "    object_transform_matrix[:3, :3] = np.reshape(p.getMatrixFromQuaternion(object_orn), (3, 3))\n",
    "    object_transform_matrix[:3, 3] = object_pos\n",
    "    return world2cam @ object_transform_matrix\n",
    "\n",
    "def get_camera_pose(view_matrix):\n",
    "    # cam2world\n",
    "    world2cam = np.array(view_matrix).reshape([4,4]).T\n",
    "    cam2world  = np.linalg.inv(world2cam)\n",
    "    return cam2world\n"
   ]
  },
  {
   "cell_type": "code",
   "execution_count": 11,
   "metadata": {},
   "outputs": [],
   "source": [
    "# Initialize the PyBullet physics simulation\n",
    "p.connect(p.DIRECT)\n",
    "p.setAdditionalSearchPath(pybullet_data.getDataPath())\n",
    "\n",
    "# Set up the simulation environment\n",
    "p.setGravity(0, 0, -9.81)\n",
    "p.setTimeStep(1.0/240.0)\n",
    "plane_id = p.loadURDF(\"plane.urdf\")\n",
    "#  x, height, depth\n",
    "occ1_meshscale = [0.2,0.1,0.0667]\n",
    "occ1_shape = p.createCollisionShape(shapeType=p.GEOM_MESH, fileName=\"assets/plane.obj\", meshScale=occ1_meshscale)\n",
    "occ1_id = p.createMultiBody(0, occ1_shape, basePosition=[1.1,-1,1], baseOrientation = [ 0.7071068, 0, 0, 0.7071068 ])\n",
    "\n",
    "# occ2_shape = p.createCollisionShape(shapeType=p.GEOM_MESH, fileName=\"assets/plane.obj\", meshScale=[0.04,0.0667,0.0667])\n",
    "# occ2_id = p.createMultiBody(0, occ2_shape, basePosition=[1.25,-1,1], baseOrientation = [ 0.7071068, 0, 0, 0.7071068 ])\n",
    "\n",
    "\n",
    "# p.loadURDF(\"plane.urdf\", globalScaling = 0.01, basePosition=[0,-1,1], baseOrientation = [ 0.7071068, 0, 0, 0.7071068 ])\n",
    "\n",
    "# Set the friction coefficient for the plane\n",
    "friction_coefficient = 0.0  # Adjust this value as needed\n",
    "p.changeDynamics(plane_id, -1, lateralFriction=friction_coefficient)\n",
    "\n",
    "# Create the first box\n",
    "box_mass = 1\n",
    "box_position = [-3.25, 0, 0.501]\n",
    "box_start_velocity = [6, 0, 6]\n",
    "mesh_scale = [0.5,0.5,0.5]\n",
    "box_shape = p.createCollisionShape(shapeType=p.GEOM_MESH, fileName=\"assets/cube.obj\", meshScale=mesh_scale)\n",
    "box_id = p.createMultiBody(box_mass, box_shape, basePosition=box_position)\n",
    "\n",
    "p.resetBaseVelocity(box_id, box_start_velocity, [0, 0, 0]) # rot vel\n",
    "\n",
    "p.changeDynamics(box_id, -1, restitution = 1)\n",
    "object_id = box_id\n",
    "\n",
    "# Arrays for serialization \n",
    "frames = []\n",
    "box_poses   = []\n",
    "occ1_poses = []\n",
    "occ2_poses = []\n",
    "depths = []\n",
    "\n",
    "w = 480\n",
    "h = 360\n",
    "\n",
    "# to get size of an id\n",
    "# aabb_min, aabb_max = p.getAABB(occ_id)\n",
    "# aabb_dimensions = [aabb_max[i] - aabb_min[i] for i in range(3)]\n",
    "# print(aabb_dimensions)\n",
    "\n",
    "\n",
    "# Step through the simulation\n",
    "for i in range(360):\n",
    "    p.stepSimulation()\n",
    "\n",
    "    if i%4 ==0:\n",
    "        # record positions of boxs\n",
    "\n",
    "        view_matrix = p.computeViewMatrixFromYawPitchRoll(cameraTargetPosition=[0, 0, 0], distance=6, yaw=0, pitch=-5, roll=0,\n",
    "                                                        upAxisIndex=2)\n",
    "        proj_matrix = p.computeProjectionMatrixFOV(fov=60, aspect=float(w) / h, nearVal=0.1, farVal=100.0)\n",
    "\n",
    "        (_, _, px, d, _) = p.getCameraImage(width=w, height=h, viewMatrix=view_matrix,\n",
    "                                            projectionMatrix=proj_matrix, renderer=p.ER_BULLET_HARDWARE_OPENGL)\n",
    "        rgb_array = np.array(px, dtype=np.uint8)\n",
    "        rgb_array = np.reshape(rgb_array, (h, w, 4))\n",
    "        rgb_array = rgb_array[:, :, :3]  # remove alpha channel\n",
    "        depths.append(np.array(d))\n",
    "        frames.append(rgb_array)\n",
    "\n",
    "        box_poses.append(object_pose_in_camera_frame(object_id, view_matrix))\n",
    "\n",
    "plane_cam_pose = object_pose_in_camera_frame(plane_id, view_matrix)\n",
    "occ1_pose = object_pose_in_camera_frame(occ1_id, view_matrix)\n",
    "# occ2_pose = object_pose_in_camera_frame(occ2_id, view_matrix)\n",
    "cam_pose = get_camera_pose(view_matrix)\n",
    "\n",
    "p.disconnect()\n"
   ]
  },
  {
   "cell_type": "code",
   "execution_count": 12,
   "metadata": {},
   "outputs": [
    {
     "data": {
      "text/html": [
       "<video width=\"480\" height=\"360\" controls autoplay loop>\n",
       "  <source type=\"video/mp4\" src=\"data:video/mp4;base64,AAAAHGZ0eXBNNFYgAAACAGlzb21pc28yYXZjMQAAAAhmcmVlAAAjUm1kYXQAAAKvBgX//6vcRem9\n",
       "5tlIt5Ys2CDZI+7veDI2NCAtIGNvcmUgMTU1IHIyOTE3IDBhODRkOTggLSBILjI2NC9NUEVHLTQg\n",
       "QVZDIGNvZGVjIC0gQ29weWxlZnQgMjAwMy0yMDE4IC0gaHR0cDovL3d3dy52aWRlb2xhbi5vcmcv\n",
       "eDI2NC5odG1sIC0gb3B0aW9uczogY2FiYWM9MSByZWY9MyBkZWJsb2NrPTE6MDowIGFuYWx5c2U9\n",
       "MHgzOjB4MTEzIG1lPWhleCBzdWJtZT03IHBzeT0xIHBzeV9yZD0xLjAwOjAuMDAgbWl4ZWRfcmVm\n",
       "PTEgbWVfcmFuZ2U9MTYgY2hyb21hX21lPTEgdHJlbGxpcz0xIDh4OGRjdD0xIGNxbT0wIGRlYWR6\n",
       "b25lPTIxLDExIGZhc3RfcHNraXA9MSBjaHJvbWFfcXBfb2Zmc2V0PS0yIHRocmVhZHM9MTEgbG9v\n",
       "a2FoZWFkX3RocmVhZHM9MSBzbGljZWRfdGhyZWFkcz0wIG5yPTAgZGVjaW1hdGU9MSBpbnRlcmxh\n",
       "Y2VkPTAgYmx1cmF5X2NvbXBhdD0wIGNvbnN0cmFpbmVkX2ludHJhPTAgYmZyYW1lcz0zIGJfcHly\n",
       "YW1pZD0yIGJfYWRhcHQ9MSBiX2JpYXM9MCBkaXJlY3Q9MSB3ZWlnaHRiPTEgb3Blbl9nb3A9MCB3\n",
       "ZWlnaHRwPTIga2V5aW50PTI1MCBrZXlpbnRfbWluPTIwIHNjZW5lY3V0PTQwIGludHJhX3JlZnJl\n",
       "c2g9MCByY19sb29rYWhlYWQ9NDAgcmM9Y3JmIG1idHJlZT0xIGNyZj0yMy4wIHFjb21wPTAuNjAg\n",
       "cXBtaW49MCBxcG1heD02OSBxcHN0ZXA9NCBpcF9yYXRpbz0xLjQwIGFxPTE6MS4wMACAAAANpGWI\n",
       "hAAz//727L4FNf2f0JcRLMXaSnA+TndkutYYCdEAAAMAAAMASiDrfvgHr54cQSagE+AxasSJXljz\n",
       "RdSjJjAegiGIvFLTAABMgf8mGMbzI8GTPAO8SXb3k0vs1u5hKQAAAwAADuJnsADA1eAWcz7C0V1S\n",
       "sgC4zwBT/X48Qv4QtW8RgjEty+6MXID78UwKOjOyl9R//9dHS1JpjnUA/278jU3gf1l5r+K53brI\n",
       "mMeck5HdiiPpFb3AystrdjzBysmXuZIgACiAY6i8weewJIbMkdoZ1ttDsCBSkUwergi0ytBFvjgQ\n",
       "kUHNy8EqPBObt8t5LyM5+pyC83ewAxboN2wRxSsV/r6aJg5uIstC99cyicCzUw5BWy2RkyqhXoKF\n",
       "XVgdTAlYC2oEKssW9Ygrt4tgU6WHV3vVh4YdLN4Z4rHGreAVdIEewtqUO2Wa73U1kODRFkekqtuk\n",
       "b657jpvmLqmLeKDt6NFQLC2vKSAuBJbrIoKRrNNa163IzqdNIF1LnJygGnmn+DrcQaoVB4sJbUG4\n",
       "0PQAig3nI2eqHs6JYPSKHraTxcF4WRGS6XUBk2Nlrzc10rx9dK4swHoSMZz8VkYNpEtk+vO6Ml1/\n",
       "07P1X3fCcLfEByIeVVIy0a2YbJu0U1dQOxzG3uoEKQJFqUqZt+55FClPKXIj8vXGoAoJuDGVwSs4\n",
       "oWPOS+oBY4L9sdYyCNdJxYMhwIZTQaxqL2dkDW/RoPxwvw5EFnerABJK1qFtvBZo2vH0nkCbFuQ1\n",
       "Xwl9VSrHGCtutJgqwqtxiHL9bp16kDOIrFNDsaFMyoNk8XVbYE2yIQOLFdKzqu0ATNY78OxFYxC0\n",
       "Vtt21kTfbpHVimj26jr2jqSySNVNAy7S1ciKXtPhHLMXwTI/CTpwAZb3FAU4bCEBJem1q7HY7QsB\n",
       "zE47IzIABnfVXDu4Y9DOpblmCVAcFQ9rEg8YAB98xb3PxGpDSdXPnepobLQ3qBgujNHDc+BTsIFJ\n",
       "ER0Rs7Hs4fhqmOCKdp0Vzwsqj/9CJ30/EWAABA2YEN2H37gALA/tWkx919ra7LGDl6iPHkTCZH5q\n",
       "ygzQqMke2FkZTHKP148ibOFQcorbvz53LGxzwvGfdCQAAWs2Jab5fEdnIOz5Tvqn+vGnVFztBGEQ\n",
       "LTZ0qXTP14gNg1qIb1/JS+ZLqZo0hIWEqNd1LNgQnd0B0IAewA4fwxhkanB1WFShN1fYUE85YrVe\n",
       "CV2xY/8Lw56lBISL+S0f+5w1XrS1bWNVvOAgIBc3ZQXwEonb04YHx2TJIyTJsoDkLuO3jHbLGkLF\n",
       "+b7wfIDuQvkGwC6dk9U+/1tL3l14QpEuzqD+KPJRlkkRs1hplUTR3oFqAWQdKvgLl2nm6pgVnkab\n",
       "YL5HA5Bq0SYBBy/63/Af1eNC5rw8ivUeFhHnXaZ7gQfG5lfAQP51MxsDK3sn5h2oikjkJzNeaOZ2\n",
       "UwKEHXpEQVD5dDBg9L8QpjXUvj4f3G/fiK5nqKThUP97Ow+9GXhB5ABsWIp9KSu3pBbQxFL5ixYc\n",
       "XuJqycAHcz5UgSG8qyzYDnaBi6LKmpdnmIIIHEHRtNxvUW0Vwpwaeye7R5EJwOLv2+t94G8TJiFs\n",
       "enLvi41ijiiY0y35tGGzqLH2jbmYdpY9EN5lPGxDvKvYnL+FLmO0pHmiDwLLmWjkr7mI4gTSaPgI\n",
       "R37DocILLBF9fG7PP88lmvBaQklaaqfU90+p/1abZ0T1pTYLLx9rGGJEP9ZbjOS3oLe3Md5buCPq\n",
       "wzLor2P+C5pmU/cvTbGO4NKUYiGxzs7TpNM8E2GpHpCqbi8lg7IhbX7zGPYj40oAKnYrWq2Nu42Q\n",
       "tkMZbvErIiDWolEHDn46XA19wMwe9LOGp6HMU044obwkgMRRbrfBSnxXmQhdeorAiW7sURieoVl+\n",
       "4YHuob7KLN9dl1qZjouVqyUxRrOUHzIl/39HaL+YrgoTQbXu8LWvrUY9/Xy8d5ouM3xdz1Q6uLoN\n",
       "QBNe6E5kBDGjJDgjWrsxP5f3Yigi4U0DWKppeg4CE/XvOoOFeSDUdBoECcLjvQTP92H00DcOQ6em\n",
       "dOViXAc/+SYVPJXeU6Lg8zeVLBT3m0HwHWkVWmqHatzFO+OGPwh6D08hxL0pS6KwBdIGOMrx1lJl\n",
       "ewk2Orr9tLFfGNSkZrWFAm/tSRYyWE1q1zNrw2HKJ3VtFcn6YR7qz5STkjuOV+zhgL5o3uMyTxFB\n",
       "eyRR3FG42QIGsDszSYc3bVK61Uauho6y1Hvh9qyI97iSyJZVEKpPXnBA9d4WWVjipRix4R9LU1zF\n",
       "Cfn2tW5wYdmVcobwKUmFb3+gt1SHQj/D26yAzImzao2JsJBXKG/UxqPWdN51C0b0Tw6hw8/NU4z8\n",
       "f9GJLIu9BS2Ya8S5uOsmTaIUljsg77D1/FUMs5OHeMajvAkdbtkCqdoI9f0IqKlStXs8HwkwABKN\n",
       "YPOm6h/ozle0MYlaOmxQs/OupQVjPpn6jGdhzcHDS1uHrx/opOETcb6yMaC37li/VrR0ryLu6zfR\n",
       "uVbYDLJRjCkI0a5qpHUSKLaK86kW0EccsFPJEBSo9CBTJ1//Yr+qN3l6M4wkTjH++b9oX2oNVga8\n",
       "eRccYAd3cd43wSOEdbuk3cjBtBE5igdl5tvv3AS5XwWxOQul9WblXCmPiy9uGragAFvAB497mbJI\n",
       "af8EVAOHD/b+3I1r1JBHVGfyoTWXSJSvplRbeyU39DTai8LXAN4M8tEu1K/GT7iNsD0bV/S+pOJ7\n",
       "IyZattFDaq/0UweIeQ4PhoZbYTQFy3E88alm75YB76vcIy5dHdnbn1TJGt4FHGQ2CKlrdWqHD/t1\n",
       "RPFM9V9aP+eRAY8XQ/vcm0xWlVA6KMPlbn6VKj/nWyXlxz+1Y7UKqaxOhwnNwXjh8DfHMy5omUSP\n",
       "FD+Eln2NMIuhw1sUHY92FQmjfsyeMUU/+86qFMG6h5uiYW6FpOWoU6TLvtyU8/QxTXeFHW6kSjub\n",
       "XO9DUeU9mnw7D445fQjvzsduFMCBZjLS82rkY873wAxKyW2T0qbnu5RKhaOizb9ASd5muuGz1qdX\n",
       "vfNqKxQ+QSiZWBKF7d4zRlVDMFeqeA8QCzFRaMxpIYfTuBNLl7QeJ203dLaTp/ECIipg8kr31JvW\n",
       "KkaMhITetzscn9LFxQiB6qPvqaDXMyaSVJXXwbuYKeEo3AAf/1Ly/NSi2KaV4+a4ILHt/+oCBOoG\n",
       "ObRAcA93ElFggxmfpRTP6WQXHIUTexSqq8G90J9pLv6VuDiJtJU0702BPghdRG58lr/rct//npxn\n",
       "sJCL8gG0YzpUS7exOXUZ86yGpLfd6Dg5e+e4RGYqOwlq3LgTWK4KqxZy3NjjQXTmasiwpHTlQ9Sh\n",
       "CtD2UtXv39Q29MdrOCbFLmj/mkmHfsMzfBipXN2cNpNqMZ4njwBm8mtgVqq6kOsMS0yseKQ+DTK2\n",
       "1frLo3YTPXIKdYTq8JrAZ5ixAPRoTfq6837yl6nWu/T8r/LslbjceJvB1Dc0pda+N0Wp5SrrVQEp\n",
       "9p+sCRZWPTcErT0Qh5uNqNQgrOHF6H8vv5vFh+Lf4kmU0rgLzUFmWb9GNTrPFsUC52iF+z7x2yF0\n",
       "cMiM2/684FsB6PtUmPv1SRWn3cuGGIwfAgxU/HM18/kAQ/PFlIMfK0jv74/DdsSNwAxeBChw86go\n",
       "VlmstsFVoZKDuXx2pD1NPWE9eexC7lTSleRU6+5u05VMBrIaRY/wBTrJHrScsM5aGKJQbU4P+But\n",
       "A3ci/N+KpeIYYJlBhqUTMtPNp+ruitVczgltyAaB5262QPY6wXsKyRM4XsxHT2XEcNPJshBfIQgW\n",
       "VpE/Oz/sM3Am1JjHtTbIu3VnDOjTTYh5cjnYkqtZVghkWuBKrEz890V1SZuXn8+GU6CqjxH3RNUb\n",
       "xpJrT0A06S2xeBK2up0GiV+AOQXtYn2Dcd/XSqrow79V8hC58Gg/T579ptnpVcrIx8JWVAKpyMU2\n",
       "rquSTwHz0u0P6PibqLm8sPNtrDePkSVayLNAXPeWoD2cUraiIBvzueIJ0923Arbe+e1+ylBuU1zh\n",
       "pXdzwIJzLu3vEaaypLpWNM7f+N8AGlJp/1maJEkBwrcJnh3TjPdcP1QVi1PeBrrBZkvPiTL7z5s4\n",
       "ox2qk8B1+bVt384olhponKx7kr4bnlGRQJ5fQ9nw8CGKthl3/DT/N+TBcATUbvBa2LHwLt6SVRN2\n",
       "Nn1hS1QgAwkdQ0Mg03btIMumI7rpJKcsSgS5qUrmfsca7Dmg5s/k8mT5m5Cl2hOIV7wjmq/QqtQf\n",
       "S2ZkumgSGMAAzW5qbVRol//RGL8mUUl8DI7A3BwHe15f/fbaTQv9k4DrsXE/4wxa8yOW0uZhgdNu\n",
       "gJE7p98Auhf56MRZm04GXASW3RZmVYalBPxnjMRJhQy10JHqqiKdI/GfFUIYgkclq3uBpBaU1FFV\n",
       "7OFf7H36bzdVSvLTzW9pKyvCmUTLZoLsLQuMvLEVqg1rn2uQAsWQL0AqrjAn4x13dUw8AbSDW8h6\n",
       "+P4BOImPoDu/Y0SZFStQKdzGBFzqBoII0LAqFYaWzDq359x5Olo24KzwkbYGdyoycGnvHif/vibA\n",
       "nWoG2lujEWsFBAZ2aGCRvm2Y4zW069wAqwE+I3JUAkuBFvi05igYyGVooAAIJZiTsAKjoHD9FWQW\n",
       "ycVZx3/oPYUAICawGQAABAxBmiRsQ7/+qZYACMHuiBvYES4CKoca+gbRgA0YPGFtF8nOHdQKBWeL\n",
       "67v/Tu7WukNEsl/4BBNBzdZDOhgr8mFUh/+pippaoY2QdQdAv/ByD8VYxdLjJ1/+iCi9qzFwJ+Tq\n",
       "nAHyP3dmFCoiNE92xTuQHN6E7iaLNFJMVMMRd30WqzZScd7VJrZh6rbtXZRpa1Zzi+Qzh/ngS+tv\n",
       "is09pXFMKMaaas4a7JnveTYbJvI0n9kNa9hAjvOIgE4OYLYIqPgJmWagrBWkYFY1M3F8cWbaA+W4\n",
       "4FL0w4jrVhzT1dBiB0971qlwRw6ynOhX0PYpgVJ9kDD5TJzENOpl9RUCAcCnWGhawZ/rGySEiomI\n",
       "v0eqlsjhN4j222pN6FmJaeCy+odKTlNf94KZ2mgsgqO4nPgcVc0C40d/eOfsvlekIiCBhFCfBiOt\n",
       "5Q7WqxuyCafkxv4sn8XfYnpQBNMl+oDV+9g0UFf2tTC8vBgzKwEFVuavo6+hokqWc0zH5gLYO8AM\n",
       "aXFOsL0n4FZZfjZIynvR4BWYNOWctYbbLl06Yfv9wYJf52/fmYAl09vb3x0Q+hlCCCv+q6vBh4gY\n",
       "B4kD26hStSukACLsKlneyG6Ho9IvXS8Zf1IIlMiOlN3wNHU/eTi2og0rTHKAg5eaiGBXUwrztU0U\n",
       "+UdrFPs2LD3aRfrM9jbDSml84AjI8q/at6u9evmTBbT4ojT8czEJ+0u3Xob1PR+q2AV/a6jMFxjr\n",
       "Zz6f39mcJX7XY/ilYyzFLJ7VUCpWAubWFPY1WI1QTbxdSvKY1Cg0VdPzIAmeqFaSIBWXDPRWS26e\n",
       "0wwBftrpZWzC83msYBb7slImwz9hPvfCTRMg5Pk4ouuiyC7280Vbm6/78FlD1kS/qhDqv2awdU+e\n",
       "EtWVI2xtSrORZ7jbHscWMgJI2Hw7ctgvXPEldnDukaHfKEbgTQcIR74XnmqqlRMMVpBju5c+OZxs\n",
       "+GR1LY6yThOZLIjS9RMQigJAwQdCplcFUBDUT8ayFSrZXOxetvF1yUegunslZAjWewFZgtpBhWyL\n",
       "xqQmx58aEYBo8jztIvbIWJjcEEkHyMuOU73L3nMbRPi4yLW33XN0vtPAjuXMYu+GA8WccEqJItv3\n",
       "OEymd6oDTP74ouuETuiXhN+x3BjeahWFz/ZNivAt79YVwLm79ROzdqXUjCG22r02aCvGLgp1zio9\n",
       "Ap1ZD2R1TLrZtspM3QI7NIGmfwHO/tYCv1158GJkxoZnZLfcuhnyPqRO8GLHBr/3zxPCLh2fMr8L\n",
       "Ix9xL/N8bLv64RFqUNUHE4ZL02v8hUX3oX1GuaSIF3kEl5BYnqZxaIjSv0NIx7YEHhlQiK/863Bb\n",
       "xjfu1NZJahKv+fplEguWwHrjjFQXY2bPaDwEAAAA10GeQniGfwAHmQ0Dshys06tWlrTsuHJl7+5K\n",
       "bvGGvmP3gAD6wu6YUtkwz3slXFQhdT71vcoijGgZoyIeUzC34KGyclKy+ydXBt4uhbN6MAF83kM8\n",
       "y1AvfZYA28+P0yeO3ShGDD/XXK0TOvFiJJiYHXc+mHMRJID8KYrDVBhreWZedvBc190heV95aJKf\n",
       "fsZ4KFLrbA3Rfz3e0sIKqc6KP0VIG/I90egXSy9qETuut/nLgSnh4Z+v3yjMz/4rGXqbAiaMghkh\n",
       "hjwRZoZQVv+Eq3EUrT61QAd1AAAAqQGeYXRCvwANNHjxOnIAX+1ETZEWNeqiVlm5/cTTrEmKwGx0\n",
       "AZlyacW62bVDcIcw0a5lBTWOVi51x0TCxAMmS58ZA/yU0qbdsWh5x3oSvnjKUcb3BqchqBijXcEh\n",
       "Wn3OMNNYU5+a4eR5f89pkLQokF5LUYkimSvll5/WiM3MXtwi1DhTiq6TeYdAbZbrSsZj6+xcGWe9\n",
       "3JgN/iKGHdMOeG8+zX9xrDmhAd0AAACjAZ5jakK/AA5/J+UfMrwJr7X+PcxyU6TdoLjKACWSoG4s\n",
       "iytpLFK473vi7cUT0XnzmnZhjBNQkd/ExsNCKKZevR3xDIl6VBWElDj/M9JoUZW0k0qdeLq5ZiYe\n",
       "v+KDJQf5isMr1mrD0a3JK4rxkD+IMYXvXfyW2z/fF2m/D694M6gAS4W+p/qC1cYekYgYLyVsnah+\n",
       "OiQpEHIaypVvbY8KZVEBlQAAAS9BmmdJqEFomUwId//+qZYAEoRYPq9qgInS6gQv73gCJTwJY464\n",
       "oYULJ6pUMm0d2ZKF8hjOg7RhZFqXBu+STBu0K8/sjk+Q1y/+wbqFgzdkOd0Fh8K/2BqJzlE26oUO\n",
       "BAzXf0OA54m6Rm2CZPVSrFHRoEXLsy6VzowKKDyDVl3FXwJkE2SAQXEwh+Wybgbk3FkLI/8IA5hB\n",
       "/ndiv8Wni331fIq1Qd7SDp+kJVflxG5vQMIzGL418uzNiVh0SK+WMnQu3aDmXHAuV2vrGHlNYGQY\n",
       "AJZ+7LcAsaCv+xas1B6vYCanE7jkQ/XEnVua0TUzqdFaTvTeUbtGNDYVp1/Z0tiqXg4h1H5Ajyxz\n",
       "jHMK0MsuXQO0K85uCO6BZYoPcKhLgwqIyvpttP7FBOjx/WqwIeEAAAChQZ6FRREsL/8AFingJl9q\n",
       "gyamwUSIACdvQI6v7noDMsum1Iu4Cf66s3vM41FrnSOwoRUmOCiRS+nldhdScHCOIWZWanFR3/Gr\n",
       "F+1V8VPNLODRtyMWObdXdrWdPPmNGz0RZtF6uquRPK+lwe5ZvT+R9HT7oht5hbyvLh0OA2at2wDq\n",
       "q6yod1tz3vbZTLDs5A9FfBWyKqMsvke4WWwRjfsA2YEAAABGAZ6makK/AB5eT8o+ZXgTPTMvLziP\n",
       "QAXUBfVBZSiQsh4Ady0K4PImnF0U2sK6CmTdUee3PvK9QsRVOJyj5cH6aSYnCxAUMQAAAV9BmqhJ\n",
       "qEFsmUwIf//+qZYAEoVfOT+sedZUD9Q3VnqtA+3g2UDpTpMHNPgAywBMTELAeaUY5lCaL/6HeXpJ\n",
       "dlo/clBTtH0ZNeJQdbogLr8PBICvzmSYUfVvhBLd6LM7rUJDFS8NCf14z/fjWA+P9EOnmWo0teRf\n",
       "kW8iD74/Sw9gmfqkq8c0Ug4cpCSSlkLFJWat9xuQDnjZMjxcoPm3mSso36Rjblnll7U0778Gqa+g\n",
       "KrGuGaYw1/8yX2oe4uj5X08ntyvmNFnLsZ8bh7xtHCSdmhTT8jliXyI/bs1Lv6LEbh5PQ2JyZc6O\n",
       "pD0jf+2QjtJJm0zMMJne/hH8QvCGDxYbpbDbo/BSwmkOf5hOAlJrrvdEyrq10thyTzzSWaHGf6Em\n",
       "09AAkTpugr5NeOR5vHV2FVA9E925gIp9qKhoF1lGQ316GjOQJRPk/1JY/PlvttxefywlXYKwc1km\n",
       "2agA6YAAAACJQZrMSeEKUmUwId/+qZYAULcWfhK8ECLa7TWhoMF7oTOAqp2Bx4CtCEMD/HWfmlt2\n",
       "VFkXnq2R4kTJsxAQROT2Qf60Tb0eh8tqWE3pWBtwrqa1KYmV+aBzA0MGMSPqFfJbgfIq0CCKA8MO\n",
       "veu3nqASpDFrx/ZfiA1+TNnau6Ac/uBo0GdRI/LH4R8AAABSQZ7qRTRMM/8ARWLPMh/nazlTJDWA\n",
       "jAUAsezymeUFL/93u15JEGgsr2nZNuLgLJHPKJvWd464REP3WbwlfC0eK91w2cCi7wn03tpaQ6KE\n",
       "y+AGVQAAADYBnwl0Qr8AP3nIwnAchxJ5I0sQAuo0pd752hvsZTf+Pzej/xLoFG4PpLluVciWQd9h\n",
       "tzEAbMAAAAA8AZ8LakK/AD4quLHICc/+cvBTCYagAXUcq6tGrgfF5p8gC4QaU3im56XXQLFIQneT\n",
       "lpbauLylYOyIgB1QAAAAaUGbDkmoQWiZTBTw//6plgBSdyrtVqPBXY1/dFOFMAgHwAS+tprJsHCo\n",
       "OX/kEdO3rZu1w3Lpw31TKgaAM8A4VmNq6/xwemOvA5ksh0MY63S7FdAjszsxYBPJAvQ7M0CTnrzK\n",
       "EUNp0QA3oQAAAD0Bny1qQr8AgvS4gENrxEovt1oHedaY51E5GzJM9CkrfKAFqfdxQEuKB5cbbcAW\n",
       "XrnnW3tPF74j+gwOxgFFAAAAPEGbMknhClJlMCH//qmWAFL+FMrcsZDT2F3ER9mhAMQEQNhPDN60\n",
       "rxOQuSvszcR8wHGsQD4guE3yszAB0wAAAEFBn1BFNEwz/wBHZN6gCt+Sy3SQ+gQsYGPC34cZzLwk\n",
       "bvSvCjKcELLwmmdYmqoI4xyWA7pBtI8EGopHju4H2eAWUAAAACwBn290Qr8Agu1T7WFhKJ+/9gKJ\n",
       "+BjnLYQIGWaxwaERpAESPEwF3h1V6vYBnwAAACsBn3FqQr8AgshD4QEACVIlpuxOi0anKjjI348s\n",
       "oxfjuyMY4/bRYoRBgJOBAAAAJEGbdkmoQWiZTAh///6plgAAEoO74AcoxnDutpxv1YlA2JSkgAAA\n",
       "ABBBn5RFESwz/wABkmHHSAXcAAAADgGfs3RCvwAC6JhagD5hAAAADgGftWpCvwAC6V/igD5gAAAA\n",
       "JEGbukmoQWyZTAh///6plgAAEoO74AcbznDlnpxLlYk/XZSkgQAAABBBn9hFFSwz/wABkmHHSAXd\n",
       "AAAADgGf93RCvwAC6JhagD5gAAAADgGf+WpCvwAC6V/igD5hAAAAJEGb/kmoQWyZTAh///6plgAA\n",
       "EoO74AcoxnDutpxv1YlA2JSkgAAAABBBnhxFFSwz/wABkmHHSAXdAAAADgGeO3RCvwAC6JhagD5h\n",
       "AAAADgGePWpCvwAC6V/igD5gAAAAJEGaIkmoQWyZTAh///6plgAAEoO74AcbznDlnpxLlYk/XZSk\n",
       "gAAAABBBnkBFFSwz/wABkmHHSAXdAAAADgGef3RCvwAC6JhagD5gAAAADgGeYWpCvwAC6V/igD5h\n",
       "AAAAJEGaZkmoQWyZTAh///6plgAAEoO74AcoxnDutpxv1YlA2JSkgAAAABBBnoRFFSwz/wABkmHH\n",
       "SAXdAAAADgGeo3RCvwAC6JhagD5hAAAADgGepWpCvwAC6V/igD5hAAAAJEGaqkmoQWyZTAh///6p\n",
       "lgAAEoO74AcbznDlnpxLlYk/XZSkgQAAABBBnshFFSwz/wABkmHHSAXcAAAADgGe53RCvwAC6Jha\n",
       "gD5gAAAADgGe6WpCvwAC6V/igD5hAAAAJEGa7kmoQWyZTAh///6plgAAEoO74AcoxnDutpxv1YlA\n",
       "2JSkgAAAABBBnwxFFSwz/wABkmHHSAXcAAAADgGfK3RCvwAC6JhagD5hAAAADgGfLWpCvwAC6V/i\n",
       "gD5hAAAAJEGbMkmoQWyZTAh///6plgAAEoO74AcbznDlnpxLlYk/XZSkgQAAABBBn1BFFSwz/wAB\n",
       "kmHHSAXcAAAADgGfb3RCvwAC6JhagD5gAAAADgGfcWpCvwAC6V/igD5hAAAAJEGbdkmoQWyZTAh/\n",
       "//6plgAAEoO74AcoxnDutpxv1YlA2JSkgAAAABBBn5RFFSwz/wABkmHHSAXcAAAADgGfs3RCvwAC\n",
       "6JhagD5hAAAADgGftWpCvwAC6V/igD5gAAAAJEGbukmoQWyZTAh///6plgAAEoO74AcbznDlnpxL\n",
       "lYk/XZSkgQAAABBBn9hFFSwz/wABkmHHSAXdAAAADgGf93RCvwAC6JhagD5gAAAADgGf+WpCvwAC\n",
       "6V/igD5hAAAAG0Gb/kmoQWyZTAh///6plgAABipe+AHd5txLwAAAABBBnhxFFSwz/wABkmHHSAXd\n",
       "AAAADgGeO3RCvwAC6JhagD5hAAAADgGePWpCvwAC6V/igD5gAAAAFUGaIkmoQWyZTAh///6plgAA\n",
       "AwABTQAAABBBnkBFFSwz/wABkmHHSAXdAAAADgGef3RCvwAC6JhagD5gAAAADgGeYWpCvwAC6V/i\n",
       "gD5hAAAAFUGaZkmoQWyZTAh///6plgAAAwABTQAAABBBnoRFFSwz/wABkmHHSAXdAAAADgGeo3RC\n",
       "vwAC6JhagD5hAAAADgGepWpCvwAC6V/igD5hAAAAFUGaqkmoQWyZTAh///6plgAAAwABTQAAABBB\n",
       "nshFFSwz/wABkmHHSAXcAAAADgGe53RCvwAC6JhagD5gAAAADgGe6WpCvwAC6V/igD5hAAAAFUGa\n",
       "7kmoQWyZTAh3//6plgAAAwABTQAAABBBnwxFFSwz/wABkmHHSAXcAAAADgGfK3RCvwAC6JhagD5h\n",
       "AAAADgGfLWpCvwAC6V/igD5hAAAAFUGbMkmoQWyZTAh3//6plgAAAwABTQAAABBBn1BFFSwz/wAB\n",
       "kmHHSAXcAAAADgGfb3RCvwAC6JhagD5gAAAADgGfcWpCvwAC6V/igD5hAAAAFUGbdkmoQWyZTAhv\n",
       "//6nhAAAAwACkgAAABBBn5RFFSwz/wABkmHHSAXcAAAADgGfs3RCvwAC6JhagD5hAAAADgGftWpC\n",
       "vwAC6V/igD5gAAAAFUGbuUmoQWyZTAhX//44QAAAAwAm4QAAABBBn9dFFSwv/wACG+cukAu5AAAA\n",
       "DgGf+GpCvwAC6V/igD5gAAAHV21vb3YAAABsbXZoZAAAAAAAAAAAAAAAAAAAA+gAABGUAAEAAAEA\n",
       "AAAAAAAAAAAAAAABAAAAAAAAAAAAAAAAAAAAAQAAAAAAAAAAAAAAAAAAQAAAAAAAAAAAAAAAAAAA\n",
       "AAAAAAAAAAAAAAAAAAAAAAIAAAaBdHJhawAAAFx0a2hkAAAAAwAAAAAAAAAAAAAAAQAAAAAAABGU\n",
       "AAAAAAAAAAAAAAAAAAAAAAABAAAAAAAAAAAAAAAAAAAAAQAAAAAAAAAAAAAAAAAAQAAAAAHgAAAB\n",
       "aAAAAAAAJGVkdHMAAAAcZWxzdAAAAAAAAAABAAARlAAABAAAAQAAAAAF+W1kaWEAAAAgbWRoZAAA\n",
       "AAAAAAAAAAAAAAAAKAAAALQAVcQAAAAAAC1oZGxyAAAAAAAAAAB2aWRlAAAAAAAAAAAAAAAAVmlk\n",
       "ZW9IYW5kbGVyAAAABaRtaW5mAAAAFHZtaGQAAAABAAAAAAAAAAAAAAAkZGluZgAAABxkcmVmAAAA\n",
       "AAAAAAEAAAAMdXJsIAAAAAEAAAVkc3RibAAAALRzdHNkAAAAAAAAAAEAAACkYXZjMQAAAAAAAAAB\n",
       "AAAAAAAAAAAAAAAAAAAAAAHgAWgASAAAAEgAAAAAAAAAAQAAAAAAAAAAAAAAAAAAAAAAAAAAAAAA\n",
       "AAAAAAAAAAAAABj//wAAADJhdmNDAWQAFf/hABlnZAAVrNlB4L/lhAAAAwAEAAADAKA8WLZYAQAG\n",
       "aOvjyyLAAAAAHHV1aWRraEDyXyRPxbo5pRvPAyPzAAAAAAAAABhzdHRzAAAAAAAAAAEAAABaAAAC\n",
       "AAAAABRzdHNzAAAAAAAAAAEAAAABAAAC0GN0dHMAAAAAAAAAWAAAAAEAAAQAAAAAAQAACgAAAAAB\n",
       "AAAEAAAAAAEAAAAAAAAAAQAAAgAAAAABAAAIAAAAAAIAAAIAAAAAAQAABAAAAAABAAAKAAAAAAEA\n",
       "AAQAAAAAAQAAAAAAAAABAAACAAAAAAEAAAYAAAAAAQAAAgAAAAABAAAKAAAAAAEAAAQAAAAAAQAA\n",
       "AAAAAAABAAACAAAAAAEAAAoAAAAAAQAABAAAAAABAAAAAAAAAAEAAAIAAAAAAQAACgAAAAABAAAE\n",
       "AAAAAAEAAAAAAAAAAQAAAgAAAAABAAAKAAAAAAEAAAQAAAAAAQAAAAAAAAABAAACAAAAAAEAAAoA\n",
       "AAAAAQAABAAAAAABAAAAAAAAAAEAAAIAAAAAAQAACgAAAAABAAAEAAAAAAEAAAAAAAAAAQAAAgAA\n",
       "AAABAAAKAAAAAAEAAAQAAAAAAQAAAAAAAAABAAACAAAAAAEAAAoAAAAAAQAABAAAAAABAAAAAAAA\n",
       "AAEAAAIAAAAAAQAACgAAAAABAAAEAAAAAAEAAAAAAAAAAQAAAgAAAAABAAAKAAAAAAEAAAQAAAAA\n",
       "AQAAAAAAAAABAAACAAAAAAEAAAoAAAAAAQAABAAAAAABAAAAAAAAAAEAAAIAAAAAAQAACgAAAAAB\n",
       "AAAEAAAAAAEAAAAAAAAAAQAAAgAAAAABAAAKAAAAAAEAAAQAAAAAAQAAAAAAAAABAAACAAAAAAEA\n",
       "AAoAAAAAAQAABAAAAAABAAAAAAAAAAEAAAIAAAAAAQAACgAAAAABAAAEAAAAAAEAAAAAAAAAAQAA\n",
       "AgAAAAABAAAKAAAAAAEAAAQAAAAAAQAAAAAAAAABAAACAAAAAAEAAAoAAAAAAQAABAAAAAABAAAA\n",
       "AAAAAAEAAAIAAAAAAQAACgAAAAABAAAEAAAAAAEAAAAAAAAAAQAAAgAAAAABAAAIAAAAAAIAAAIA\n",
       "AAAAHHN0c2MAAAAAAAAAAQAAAAEAAABaAAAAAQAAAXxzdHN6AAAAAAAAAAAAAABaAAAQWwAABBAA\n",
       "AADbAAAArQAAAKcAAAEzAAAApQAAAEoAAAFjAAAAjQAAAFYAAAA6AAAAQAAAAG0AAABBAAAAQAAA\n",
       "AEUAAAAwAAAALwAAACgAAAAUAAAAEgAAABIAAAAoAAAAFAAAABIAAAASAAAAKAAAABQAAAASAAAA\n",
       "EgAAACgAAAAUAAAAEgAAABIAAAAoAAAAFAAAABIAAAASAAAAKAAAABQAAAASAAAAEgAAACgAAAAU\n",
       "AAAAEgAAABIAAAAoAAAAFAAAABIAAAASAAAAKAAAABQAAAASAAAAEgAAACgAAAAUAAAAEgAAABIA\n",
       "AAAfAAAAFAAAABIAAAASAAAAGQAAABQAAAASAAAAEgAAABkAAAAUAAAAEgAAABIAAAAZAAAAFAAA\n",
       "ABIAAAASAAAAGQAAABQAAAASAAAAEgAAABkAAAAUAAAAEgAAABIAAAAZAAAAFAAAABIAAAASAAAA\n",
       "GQAAABQAAAASAAAAFHN0Y28AAAAAAAAAAQAAACwAAABidWR0YQAAAFptZXRhAAAAAAAAACFoZGxy\n",
       "AAAAAAAAAABtZGlyYXBwbAAAAAAAAAAAAAAAAC1pbHN0AAAAJal0b28AAAAdZGF0YQAAAAEAAAAA\n",
       "TGF2ZjU4LjI5LjEwMA==\n",
       "\">\n",
       "  Your browser does not support the video tag.\n",
       "</video>"
      ],
      "text/plain": [
       "<IPython.core.display.HTML object>"
      ]
     },
     "execution_count": 12,
     "metadata": {},
     "output_type": "execute_result"
    }
   ],
   "source": [
    "display_video(frames, framerate=20)"
   ]
  },
  {
   "cell_type": "code",
   "execution_count": 16,
   "metadata": {},
   "outputs": [],
   "source": [
    "array_dict = {\n",
    "    'box': box_poses,\n",
    "    'plane': plane_cam_pose,\n",
    "    'occ1' : occ1_pose,\n",
    "    'occ1_meshscale' : occ1_meshscale,\n",
    "    # 'occ2' : occ2_pose,\n",
    "    'cam_pose' : cam_pose,\n",
    "}\n",
    "\n",
    "np.savez('scene_npzs/scene_11.npz', **array_dict)\n"
   ]
  },
  {
   "cell_type": "code",
   "execution_count": 17,
   "metadata": {},
   "outputs": [],
   "source": [
    "def make_gif(images, filename, fps = 10):\n",
    "    duration = int(1000/fps)\n",
    "    images[0].save(\n",
    "        fp=filename,\n",
    "        format=\"GIF\",\n",
    "        append_images=images,\n",
    "        save_all=True,\n",
    "        duration=duration,\n",
    "        loop=0,\n",
    "    )\n",
    "\n",
    "pil_frames = [PIL.Image.fromarray(x) for x in frames]\n",
    "make_gif(pil_frames, \"test.gif\", fps = 200)"
   ]
  },
  {
   "cell_type": "code",
   "execution_count": 9,
   "metadata": {},
   "outputs": [
    {
     "data": {
      "text/plain": [
       "90"
      ]
     },
     "execution_count": 9,
     "metadata": {},
     "output_type": "execute_result"
    }
   ],
   "source": [
    "len(frames)"
   ]
  },
  {
   "cell_type": "code",
   "execution_count": 12,
   "metadata": {},
   "outputs": [
    {
     "data": {
      "text/plain": [
       "<module 'bayes3d' from '/home/ubuntu/bayes3d/bayes3d/__init__.py'>"
      ]
     },
     "execution_count": 12,
     "metadata": {},
     "output_type": "execute_result"
    }
   ],
   "source": [
    "importlib.reload(b)\n"
   ]
  },
  {
   "cell_type": "code",
   "execution_count": 15,
   "metadata": {},
   "outputs": [
    {
     "data": {
      "text/plain": [
       "[0.2, 0.1, 0.0667]"
      ]
     },
     "execution_count": 15,
     "metadata": {},
     "output_type": "execute_result"
    }
   ],
   "source": [
    "occ1_meshscale"
   ]
  },
  {
   "cell_type": "code",
   "execution_count": null,
   "metadata": {},
   "outputs": [],
   "source": []
  }
 ],
 "metadata": {
  "kernelspec": {
   "display_name": "Python 3 (ipykernel)",
   "language": "python",
   "name": "python3"
  },
  "language_info": {
   "codemirror_mode": {
    "name": "ipython",
    "version": 3
   },
   "file_extension": ".py",
   "mimetype": "text/x-python",
   "name": "python",
   "nbconvert_exporter": "python",
   "pygments_lexer": "ipython3",
   "version": "3.9.16"
  },
  "orig_nbformat": 4
 },
 "nbformat": 4,
 "nbformat_minor": 2
}
