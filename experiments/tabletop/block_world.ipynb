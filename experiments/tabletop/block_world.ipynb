{
 "cells": [
  {
   "cell_type": "code",
   "execution_count": 1,
   "metadata": {
    "tags": []
   },
   "outputs": [
    {
     "name": "stdout",
     "output_type": "stream",
     "text": [
      "Jupyter environment detected. Enabling Open3D WebVisualizer.\n",
      "[Open3D INFO] WebRTC GUI backend enabled.\n",
      "[Open3D INFO] WebRTCWindowSystem: HTTP handshake server disabled.\n",
      "CPU times: user 5.77 s, sys: 1.97 s, total: 7.74 s\n",
      "Wall time: 4.99 s\n"
     ]
    }
   ],
   "source": [
    "%%time\n",
    "import bayes3d as b\n",
    "import jax.numpy as jnp\n",
    "import jax\n",
    "import numpy as np\n",
    "from tqdm import tqdm\n",
    "import bayes3d.o3d_viz\n",
    "import os"
   ]
  },
  {
   "cell_type": "code",
   "execution_count": 2,
   "metadata": {
    "tags": []
   },
   "outputs": [
    {
     "name": "stdout",
     "output_type": "stream",
     "text": [
      "You can open the visualizer by visiting the following URL:\n",
      "http://127.0.0.1:7003/static/\n"
     ]
    }
   ],
   "source": [
    "b.setup_visualizer()"
   ]
  },
  {
   "cell_type": "code",
   "execution_count": 7,
   "metadata": {
    "tags": []
   },
   "outputs": [
    {
     "name": "stdout",
     "output_type": "stream",
     "text": [
      "FEngine (64 bits) created at 0x556c8edac460 (threading is enabled)\n",
      "EGL(1.5)\n",
      "OpenGL(4.1)\n",
      "Increasing frame buffer size to (width, height, depth) = (512, 512, 512)\n"
     ]
    },
    {
     "name": "stderr",
     "output_type": "stream",
     "text": [
      "[E rasterize_gl.cpp:121] OpenGL version reported as 4.6\n"
     ]
    }
   ],
   "source": [
    "original_intrinsics = b.Intrinsics(\n",
    "    height=500,\n",
    "    width=500,\n",
    "    fx=500.0, fy=500.0,\n",
    "    cx=250.0, cy=250.0,\n",
    "    near=0.001, far=6.0\n",
    ")\n",
    "\n",
    "renderer = b.Renderer(original_intrinsics)\n",
    "renderer.add_mesh(b.mesh.make_cuboid_mesh(jnp.array([0.1, 0.1, 0.1])))\n",
    "renderer.add_mesh_from_file(os.path.join(b.utils.get_assets_dir(), \"sample_objs/sphere.obj\"),scaling_factor=1.0/10.0)\n",
    "renderer.add_mesh_from_file(os.path.join(b.utils.get_assets_dir(), \"sample_objs/pyramid.obj\"),scaling_factor=1.0/10.0)\n",
    "renderer.add_mesh(b.mesh.make_cuboid_mesh(jnp.array([0.7, 0.7, 0.02])))\n",
    "table_mesh = b.mesh.make_cuboid_mesh(jnp.array([5.0, 5.0, 0.01]))"
   ]
  },
  {
   "cell_type": "code",
   "execution_count": 8,
   "metadata": {
    "tags": []
   },
   "outputs": [],
   "source": [
    "viz = b.o3d_viz.O3DVis(original_intrinsics)"
   ]
  },
  {
   "cell_type": "code",
   "execution_count": null,
   "metadata": {
    "tags": []
   },
   "outputs": [],
   "source": [
    "contact_plane = b.t3d.inverse_pose(b.t3d.transform_from_pos_target_up(\n",
    "    jnp.array([0.0, 1.5, 1.0]),\n",
    "    jnp.array([0.0, 0.0, 0.0]),\n",
    "    jnp.array([0.0, 0.0, 1.0]),\n",
    "))\n",
    "\n",
    "\n",
    "contact_poses_parallel_jit = jax.jit(\n",
    "    jax.vmap(\n",
    "        b.scene_graph.relative_pose_from_edge,\n",
    "        in_axes=(0, None, 0),\n",
    "    )\n",
    ")\n",
    "contact_poses_jit = jax.jit(\n",
    "    jax.vmap(\n",
    "        b.scene_graph.relative_pose_from_edge,\n",
    "        in_axes=(0, None, None),\n",
    "    )\n",
    ")\n",
    "\n",
    "# TODO: 4 different distinguishable colors\n",
    "# TODO: colored pad (make it an object)\n",
    "# Top down containment\n",
    "# TODO: Different shapes\n",
    "\n",
    "distinct_colors = b.distinct_colors(4)\n",
    "ids = jnp.array([0, 1, 2, 2, 3, 1, 2])\n",
    "color = jnp.array([0, 1, 2, 3, 0, 0, 1])\n",
    "contact_params = jnp.array([\n",
    "    [-0.2, -0.2, 0.0],\n",
    "    [0.3, -0.3, 0.0],\n",
    "    [0.25, 0.2, 0.0],\n",
    "    [0.4, 0.1, 0.0],\n",
    "    [0.5, -0.1, 0.0],\n",
    "    [0.5, -0.2, 0.0],\n",
    "    [-0.5, -0.2, 0.0],\n",
    "])\n",
    "poses = contact_plane @ contact_poses_parallel_jit(\n",
    "    contact_params,\n",
    "    3,\n",
    "    renderer.model_box_dims[ids]\n",
    ")\n",
    "viz.clear()\n",
    "\n",
    "viz.make_trimesh(table_mesh, contact_plane, np.array([221, 174, 126, 255.0])/255.0)\n",
    "for i in range(len(poses)):\n",
    "    viz.make_trimesh(renderer.meshes[ids[i]], poses[i], np.array([*distinct_colors[color[i]], 1.0]))\n",
    "    \n",
    "rgbd = viz.capture_image(original_intrinsics, jnp.eye(4))\n",
    "np.savez(\"rgbd.npz\",rgbd)\n",
    "b.get_rgb_image(rgbd.rgb)\n"
   ]
  },
  {
   "cell_type": "code",
   "execution_count": null,
   "metadata": {
    "tags": []
   },
   "outputs": [],
   "source": [
    "rgbd_original = np.load(\"rgbd.npz\",allow_pickle=True)[\"arr_0\"].item()\n",
    "SCALING_FACTOR = 0.35\n",
    "rgbd = b.scale_rgbd(rgbd_original, SCALING_FACTOR)"
   ]
  },
  {
   "cell_type": "code",
   "execution_count": null,
   "metadata": {
    "tags": []
   },
   "outputs": [],
   "source": [
    "intrinsics = rgbd.intrinsics\n",
    "observed_point_cloud_image = b.t3d.unproject_depth(rgbd.depth, intrinsics)[:,:,:3]\n",
    "observed_point_cloud_image = (\n",
    "    observed_point_cloud_image *\n",
    "    (b.t3d.apply_transform(observed_point_cloud_image, b.t3d.inverse_pose(contact_plane))[:,:,2]>0.02)[...,None]\n",
    ")\n",
    "observed_point_cloud_image = b.t3d.unproject_depth(observed_point_cloud_image[:,:,2], intrinsics)\n",
    "b.clear()\n",
    "b.show_cloud(\"1\", observed_point_cloud_image[:,:,:3].reshape(-1,3))"
   ]
  },
  {
   "cell_type": "code",
   "execution_count": null,
   "metadata": {
    "tags": []
   },
   "outputs": [],
   "source": [
    "# observed_point_cloud_image = renderer.render_multiobject(poses, [0 for _ in range(len(poses))])[:,:,:3]\n",
    "# b.clear()\n",
    "# b.show_cloud(\"1\", observed_point_cloud_image[:,:,:3].reshape(-1,3))\n",
    "# b.get_depth_image(observed_point_cloud_image[:,:,2])\n"
   ]
  },
  {
   "cell_type": "code",
   "execution_count": null,
   "metadata": {
    "tags": []
   },
   "outputs": [],
   "source": [
    "grid_params = [\n",
    "    (0.6, jnp.pi, (11,11,11)), (0.6, jnp.pi/3, (11,11,11)), (0.4, jnp.pi/5, (11,11,1)),\n",
    "    (0.0, jnp.pi/2, (1,1,11*11)), (0.2, jnp.pi/5, (11,11,11)), \n",
    "    (0.1, 0.0, (16,16,1)),\n",
    "    (0.0, jnp.pi/10, (1,1,11*11)),\n",
    "    (0.05, 0.0, (16,16,1)),\n",
    "    (0.0, jnp.pi/2, (1,1,11*11)),\n",
    "    (0.0, jnp.pi/20, (1,1,11*11)),\n",
    "]\n",
    "contact_param_gridding_schedule = [\n",
    "    b.make_translation_grid_enumeration_3d(\n",
    "        -x, -x, -ang,\n",
    "        x, x, ang,\n",
    "        *nums\n",
    "    )\n",
    "    for (x,ang,nums) in grid_params\n",
    "]\n",
    "\n",
    "renderer = b.Renderer(intrinsics)\n",
    "renderer.add_mesh(b.mesh.make_cuboid_mesh(jnp.array([0.1, 0.1, 0.1])))\n",
    "renderer.add_mesh_from_file(os.path.join(b.utils.get_assets_dir(), \"sample_objs/sphere.obj\"),scaling_factor=1.0/10.0)\n",
    "renderer.add_mesh_from_file(os.path.join(b.utils.get_assets_dir(), \"sample_objs/pyramid.obj\"),scaling_factor=1.0/10.0)\n",
    "renderer.add_mesh(b.mesh.make_cuboid_mesh(jnp.array([0.7, 0.7, 0.02])))"
   ]
  },
  {
   "cell_type": "code",
   "execution_count": null,
   "metadata": {
    "tags": []
   },
   "outputs": [],
   "source": [
    "# trace = Trace(\n",
    "#     plane_pose[None,...], [21],\n",
    "#     VARIANCE, 0.01,\n",
    "#     observed_point_cloud_image\n",
    "# )\n",
    "VARIANCE_GRID = jnp.array([0.005])\n",
    "OUTLIER_GRID = jnp.array([ 0.001])\n",
    "gt_trace = b.Trace(\n",
    "    poses, [0 for _ in range(len(poses))], VARIANCE_GRID[0], OUTLIER_GRID[0], 1e-20,\n",
    "    observed_point_cloud_image\n",
    ")\n",
    "b.show_cloud(\"rerender\", b.render_image(gt_trace, renderer)[:,:,:3].reshape(-1,3),color=b.RED)\n",
    "\n",
    "trace = b.Trace(\n",
    "    jnp.zeros((0,4,4)), [],\n",
    "    VARIANCE_GRID[0], OUTLIER_GRID[0], 0.1,\n",
    "    observed_point_cloud_image\n",
    ")\n",
    "b.viz_trace_meshcat(trace, renderer)"
   ]
  },
  {
   "cell_type": "code",
   "execution_count": 11,
   "metadata": {
    "tags": []
   },
   "outputs": [
    {
     "name": "stderr",
     "output_type": "stream",
     "text": [
      "  0%|                                | 0/4 [00:00<?, ?it/s]2023-05-12 15:36:20.070279: W external/xla/xla/service/hlo_rematerialization.cc:2194] Can't reduce memory use below 29.56GiB (31736020992 bytes) by rematerialization; only reduced to 30.34GiB (32582895972 bytes)\n",
      "2023-05-12 15:36:30.288517: W external/tsl/tsl/framework/bfc_allocator.cc:485] Allocator (GPU_0_bfc) ran out of memory trying to allocate 30.34GiB (rounded to 32582880512)requested by op \n",
      "2023-05-12 15:36:30.288681: W external/tsl/tsl/framework/bfc_allocator.cc:497] __**_*****************************__________________***************************************_________\n",
      "2023-05-12 15:36:30.288941: E external/xla/xla/pjrt/pjrt_stream_executor_client.cc:2432] Execution of replica 0 failed: RESOURCE_EXHAUSTED: Out of memory while trying to allocate 32582880272 bytes.\n",
      "BufferAssignment OOM Debugging.\n",
      "BufferAssignment stats:\n",
      "             parameter allocation:  609.74MiB\n",
      "              constant allocation:         4B\n",
      "        maybe_live_out allocation:    15.6KiB\n",
      "     preallocated temp allocation:   30.34GiB\n",
      "  preallocated temp fragmentation:         0B (0.00%)\n",
      "                 total allocation:   30.94GiB\n",
      "              total fragmentation:    15.9KiB (0.00%)\n",
      "Peak buffers:\n",
      "\tBuffer 1:\n",
      "\t\tSize: 29.15GiB\n",
      "\t\tOperator: op_name=\"jit(threedp3_likelihood)/jit(main)/reduce_max[axes=(4, 5)]\" source_file=\"/home/nishadgothoskar/bayes3d/bayes3d/likelihood.py\" source_line=128\n",
      "\t\tXLA Label: fusion\n",
      "\t\tShape: f32[1331,3,200,200,7,7]\n",
      "\t\t==========================\n",
      "\n",
      "\tBuffer 2:\n",
      "\t\tSize: 609.28MiB\n",
      "\t\tOperator: op_name=\"jit(threedp3_likelihood)/jit(main)/reduce_sum[axes=(4, 5)]\" source_file=\"/home/nishadgothoskar/bayes3d/bayes3d/likelihood.py\" source_line=128\n",
      "\t\tXLA Label: fusion\n",
      "\t\tShape: f32[1331,3,200,200]\n",
      "\t\t==========================\n",
      "\n",
      "\tBuffer 3:\n",
      "\t\tSize: 609.28MiB\n",
      "\t\tOperator: op_name=\"jit(threedp3_likelihood)/jit(main)/reduce_max[axes=(4, 5)]\" source_file=\"/home/nishadgothoskar/bayes3d/bayes3d/likelihood.py\" source_line=128\n",
      "\t\tXLA Label: fusion\n",
      "\t\tShape: f32[1331,3,200,200]\n",
      "\t\t==========================\n",
      "\n",
      "\tBuffer 4:\n",
      "\t\tSize: 609.28MiB\n",
      "\t\tEntry Parameter Subshape: f32[1331,200,200,3]\n",
      "\t\t==========================\n",
      "\n",
      "\tBuffer 5:\n",
      "\t\tSize: 468.8KiB\n",
      "\t\tEntry Parameter Subshape: f32[200,200,3]\n",
      "\t\t==========================\n",
      "\n",
      "\tBuffer 6:\n",
      "\t\tSize: 15.6KiB\n",
      "\t\tXLA Label: reduce\n",
      "\t\tShape: f32[1331,3]\n",
      "\t\t==========================\n",
      "\n",
      "\tBuffer 7:\n",
      "\t\tSize: 16B\n",
      "\t\tOperator: op_name=\"jit(threedp3_likelihood)/jit(main)/log\" source_file=\"/home/nishadgothoskar/bayes3d/bayes3d/likelihood.py\" source_line=135\n",
      "\t\tXLA Label: fusion\n",
      "\t\tShape: (f32[1], f32[1])\n",
      "\t\t==========================\n",
      "\n",
      "\tBuffer 8:\n",
      "\t\tSize: 16B\n",
      "\t\tOperator: op_name=\"jit(threedp3_likelihood)/jit(main)/log\" source_file=\"/home/nishadgothoskar/bayes3d/bayes3d/likelihood.py\" source_line=129\n",
      "\t\tXLA Label: fusion\n",
      "\t\tShape: (f32[3], f32[3])\n",
      "\t\t==========================\n",
      "\n",
      "\tBuffer 9:\n",
      "\t\tSize: 16B\n",
      "\t\tOperator: op_name=\"jit(threedp3_likelihood)/jit(main)/reduce_max[axes=(4, 5)]\" source_file=\"/home/nishadgothoskar/bayes3d/bayes3d/likelihood.py\" source_line=128\n",
      "\t\tXLA Label: fusion\n",
      "\t\tShape: (f32[1331,3,200,200], f32[1331,3,200,200,7,7])\n",
      "\t\t==========================\n",
      "\n",
      "\tBuffer 10:\n",
      "\t\tSize: 12B\n",
      "\t\tEntry Parameter Subshape: f32[3]\n",
      "\t\t==========================\n",
      "\n",
      "\tBuffer 11:\n",
      "\t\tSize: 4B\n",
      "\t\tXLA Label: parameter\n",
      "\t\tShape: f32[]\n",
      "\t\t==========================\n",
      "\n",
      "\tBuffer 12:\n",
      "\t\tSize: 4B\n",
      "\t\tXLA Label: parameter\n",
      "\t\tShape: f32[]\n",
      "\t\t==========================\n",
      "\n",
      "\tBuffer 13:\n",
      "\t\tSize: 4B\n",
      "\t\tOperator: op_name=\"jit(threedp3_likelihood)/jit(main)/reduce_max[axes=(4, 5)]\" source_file=\"/home/nishadgothoskar/bayes3d/bayes3d/likelihood.py\" source_line=128\n",
      "\t\tXLA Label: maximum\n",
      "\t\tShape: f32[]\n",
      "\t\t==========================\n",
      "\n",
      "\tBuffer 14:\n",
      "\t\tSize: 4B\n",
      "\t\tXLA Label: constant\n",
      "\t\tShape: f32[]\n",
      "\t\t==========================\n",
      "\n",
      "\tBuffer 15:\n",
      "\t\tSize: 4B\n",
      "\t\tEntry Parameter Subshape: f32[]\n",
      "\t\t==========================\n",
      "\n",
      "\n",
      "  0%|                                | 0/4 [00:11<?, ?it/s]\n"
     ]
    },
    {
     "ename": "XlaRuntimeError",
     "evalue": "RESOURCE_EXHAUSTED: Out of memory while trying to allocate 32582880272 bytes.\nBufferAssignment OOM Debugging.\nBufferAssignment stats:\n             parameter allocation:  609.74MiB\n              constant allocation:         4B\n        maybe_live_out allocation:    15.6KiB\n     preallocated temp allocation:   30.34GiB\n  preallocated temp fragmentation:         0B (0.00%)\n                 total allocation:   30.94GiB\n              total fragmentation:    15.9KiB (0.00%)\nPeak buffers:\n\tBuffer 1:\n\t\tSize: 29.15GiB\n\t\tOperator: op_name=\"jit(threedp3_likelihood)/jit(main)/reduce_max[axes=(4, 5)]\" source_file=\"/home/nishadgothoskar/bayes3d/bayes3d/likelihood.py\" source_line=128\n\t\tXLA Label: fusion\n\t\tShape: f32[1331,3,200,200,7,7]\n\t\t==========================\n\n\tBuffer 2:\n\t\tSize: 609.28MiB\n\t\tOperator: op_name=\"jit(threedp3_likelihood)/jit(main)/reduce_sum[axes=(4, 5)]\" source_file=\"/home/nishadgothoskar/bayes3d/bayes3d/likelihood.py\" source_line=128\n\t\tXLA Label: fusion\n\t\tShape: f32[1331,3,200,200]\n\t\t==========================\n\n\tBuffer 3:\n\t\tSize: 609.28MiB\n\t\tOperator: op_name=\"jit(threedp3_likelihood)/jit(main)/reduce_max[axes=(4, 5)]\" source_file=\"/home/nishadgothoskar/bayes3d/bayes3d/likelihood.py\" source_line=128\n\t\tXLA Label: fusion\n\t\tShape: f32[1331,3,200,200]\n\t\t==========================\n\n\tBuffer 4:\n\t\tSize: 609.28MiB\n\t\tEntry Parameter Subshape: f32[1331,200,200,3]\n\t\t==========================\n\n\tBuffer 5:\n\t\tSize: 468.8KiB\n\t\tEntry Parameter Subshape: f32[200,200,3]\n\t\t==========================\n\n\tBuffer 6:\n\t\tSize: 15.6KiB\n\t\tXLA Label: reduce\n\t\tShape: f32[1331,3]\n\t\t==========================\n\n\tBuffer 7:\n\t\tSize: 16B\n\t\tOperator: op_name=\"jit(threedp3_likelihood)/jit(main)/log\" source_file=\"/home/nishadgothoskar/bayes3d/bayes3d/likelihood.py\" source_line=135\n\t\tXLA Label: fusion\n\t\tShape: (f32[1], f32[1])\n\t\t==========================\n\n\tBuffer 8:\n\t\tSize: 16B\n\t\tOperator: op_name=\"jit(threedp3_likelihood)/jit(main)/log\" source_file=\"/home/nishadgothoskar/bayes3d/bayes3d/likelihood.py\" source_line=129\n\t\tXLA Label: fusion\n\t\tShape: (f32[3], f32[3])\n\t\t==========================\n\n\tBuffer 9:\n\t\tSize: 16B\n\t\tOperator: op_name=\"jit(threedp3_likelihood)/jit(main)/reduce_max[axes=(4, 5)]\" source_file=\"/home/nishadgothoskar/bayes3d/bayes3d/likelihood.py\" source_line=128\n\t\tXLA Label: fusion\n\t\tShape: (f32[1331,3,200,200], f32[1331,3,200,200,7,7])\n\t\t==========================\n\n\tBuffer 10:\n\t\tSize: 12B\n\t\tEntry Parameter Subshape: f32[3]\n\t\t==========================\n\n\tBuffer 11:\n\t\tSize: 4B\n\t\tXLA Label: parameter\n\t\tShape: f32[]\n\t\t==========================\n\n\tBuffer 12:\n\t\tSize: 4B\n\t\tXLA Label: parameter\n\t\tShape: f32[]\n\t\t==========================\n\n\tBuffer 13:\n\t\tSize: 4B\n\t\tOperator: op_name=\"jit(threedp3_likelihood)/jit(main)/reduce_max[axes=(4, 5)]\" source_file=\"/home/nishadgothoskar/bayes3d/bayes3d/likelihood.py\" source_line=128\n\t\tXLA Label: maximum\n\t\tShape: f32[]\n\t\t==========================\n\n\tBuffer 14:\n\t\tSize: 4B\n\t\tXLA Label: constant\n\t\tShape: f32[]\n\t\t==========================\n\n\tBuffer 15:\n\t\tSize: 4B\n\t\tEntry Parameter Subshape: f32[]\n\t\t==========================\n\n",
     "output_type": "error",
     "traceback": [
      "\u001b[0;31m---------------------------------------------------------------------------\u001b[0m",
      "\u001b[0;31mXlaRuntimeError\u001b[0m                           Traceback (most recent call last)",
      "Cell \u001b[0;32mIn[11], line 27\u001b[0m\n\u001b[1;32m     16\u001b[0m potential_poses \u001b[38;5;241m=\u001b[39m jnp\u001b[38;5;241m.\u001b[39mconcatenate(\n\u001b[1;32m     17\u001b[0m     [\n\u001b[1;32m     18\u001b[0m         jnp\u001b[38;5;241m.\u001b[39mtile(trace\u001b[38;5;241m.\u001b[39mposes[:,\u001b[38;5;28;01mNone\u001b[39;00m,\u001b[38;5;241m.\u001b[39m\u001b[38;5;241m.\u001b[39m\u001b[38;5;241m.\u001b[39m], (\u001b[38;5;241m1\u001b[39m,potential_new_object_poses\u001b[38;5;241m.\u001b[39mshape[\u001b[38;5;241m0\u001b[39m],\u001b[38;5;241m1\u001b[39m,\u001b[38;5;241m1\u001b[39m)),\n\u001b[1;32m     19\u001b[0m         potential_new_object_poses[\u001b[38;5;28;01mNone\u001b[39;00m,\u001b[38;5;241m.\u001b[39m\u001b[38;5;241m.\u001b[39m\u001b[38;5;241m.\u001b[39m]\n\u001b[1;32m     20\u001b[0m     ]\n\u001b[1;32m     21\u001b[0m )\n\u001b[1;32m     23\u001b[0m traces \u001b[38;5;241m=\u001b[39m b\u001b[38;5;241m.\u001b[39mTraces(\n\u001b[1;32m     24\u001b[0m     potential_poses, trace\u001b[38;5;241m.\u001b[39mids \u001b[38;5;241m+\u001b[39m [obj_id], VARIANCE_GRID, OUTLIER_GRID,\n\u001b[1;32m     25\u001b[0m     trace\u001b[38;5;241m.\u001b[39moutlier_volume, trace\u001b[38;5;241m.\u001b[39mobservation\n\u001b[1;32m     26\u001b[0m )\n\u001b[0;32m---> 27\u001b[0m p \u001b[38;5;241m=\u001b[39m \u001b[43mb\u001b[49m\u001b[38;5;241;43m.\u001b[39;49m\u001b[43mscore_traces\u001b[49m\u001b[43m(\u001b[49m\u001b[43mtraces\u001b[49m\u001b[43m,\u001b[49m\u001b[43m \u001b[49m\u001b[43mrenderer\u001b[49m\u001b[43m)\u001b[49m      \n\u001b[1;32m     29\u001b[0m ii,jj,kk \u001b[38;5;241m=\u001b[39m jnp\u001b[38;5;241m.\u001b[39munravel_index(p\u001b[38;5;241m.\u001b[39margmax(), p\u001b[38;5;241m.\u001b[39mshape)\n\u001b[1;32m     30\u001b[0m contact_param \u001b[38;5;241m=\u001b[39m contact_param_grid[ii]\n",
      "File \u001b[0;32m~/bayes3d/bayes3d/trace.py:87\u001b[0m, in \u001b[0;36mscore_traces\u001b[0;34m(traces, renderer, filter_size)\u001b[0m\n\u001b[1;32m     85\u001b[0m \u001b[38;5;28;01mdef\u001b[39;00m \u001b[38;5;21mscore_traces\u001b[39m(traces, renderer, filter_size\u001b[38;5;241m=\u001b[39m\u001b[38;5;241m3\u001b[39m):\n\u001b[1;32m     86\u001b[0m     reconstruction \u001b[38;5;241m=\u001b[39m render_images(traces, renderer)\n\u001b[0;32m---> 87\u001b[0m     p \u001b[38;5;241m=\u001b[39m \u001b[43mb\u001b[49m\u001b[38;5;241;43m.\u001b[39;49m\u001b[43mthreedp3_likelihood_full_hierarchical_bayes_jit\u001b[49m\u001b[43m(\u001b[49m\n\u001b[1;32m     88\u001b[0m \u001b[43m        \u001b[49m\u001b[43mtraces\u001b[49m\u001b[38;5;241;43m.\u001b[39;49m\u001b[43mobservation\u001b[49m\u001b[43m,\u001b[49m\u001b[43m \u001b[49m\u001b[43mreconstruction\u001b[49m\u001b[43m[\u001b[49m\u001b[43m:\u001b[49m\u001b[43m,\u001b[49m\u001b[43m:\u001b[49m\u001b[43m,\u001b[49m\u001b[43m:\u001b[49m\u001b[43m,\u001b[49m\u001b[43m:\u001b[49m\u001b[38;5;241;43m3\u001b[39;49m\u001b[43m]\u001b[49m\u001b[43m,\u001b[49m\n\u001b[1;32m     89\u001b[0m \u001b[43m        \u001b[49m\u001b[43mtraces\u001b[49m\u001b[38;5;241;43m.\u001b[39;49m\u001b[43mall_variances\u001b[49m\u001b[43m,\u001b[49m\u001b[43m \u001b[49m\u001b[43mtraces\u001b[49m\u001b[38;5;241;43m.\u001b[39;49m\u001b[43mall_outlier_prob\u001b[49m\u001b[43m,\u001b[49m\u001b[43m \u001b[49m\u001b[43mtraces\u001b[49m\u001b[38;5;241;43m.\u001b[39;49m\u001b[43moutlier_volume\u001b[49m\u001b[43m,\u001b[49m\n\u001b[1;32m     90\u001b[0m \u001b[43m        \u001b[49m\u001b[43mfilter_size\u001b[49m\n\u001b[1;32m     91\u001b[0m \u001b[43m    \u001b[49m\u001b[43m)\u001b[49m\n\u001b[1;32m     92\u001b[0m     \u001b[38;5;28;01mreturn\u001b[39;00m p\n",
      "    \u001b[0;31m[... skipping hidden 8 frame]\u001b[0m\n",
      "File \u001b[0;32m~/anaconda3/envs/bayes3d/lib/python3.8/site-packages/jax/_src/interpreters/pxla.py:1916\u001b[0m, in \u001b[0;36mExecuteReplicated.__call__\u001b[0;34m(self, *args)\u001b[0m\n\u001b[1;32m   1911\u001b[0m   \u001b[38;5;28mself\u001b[39m\u001b[38;5;241m.\u001b[39m_handle_token_bufs(\n\u001b[1;32m   1912\u001b[0m       results\u001b[38;5;241m.\u001b[39mdisassemble_prefix_into_single_device_arrays(\n\u001b[1;32m   1913\u001b[0m           \u001b[38;5;28mlen\u001b[39m(\u001b[38;5;28mself\u001b[39m\u001b[38;5;241m.\u001b[39mordered_effects)),\n\u001b[1;32m   1914\u001b[0m       results\u001b[38;5;241m.\u001b[39mconsume_token())\n\u001b[1;32m   1915\u001b[0m \u001b[38;5;28;01melse\u001b[39;00m:\n\u001b[0;32m-> 1916\u001b[0m   results \u001b[38;5;241m=\u001b[39m \u001b[38;5;28;43mself\u001b[39;49m\u001b[38;5;241;43m.\u001b[39;49m\u001b[43mxla_executable\u001b[49m\u001b[38;5;241;43m.\u001b[39;49m\u001b[43mexecute_sharded\u001b[49m\u001b[43m(\u001b[49m\u001b[43minput_bufs\u001b[49m\u001b[43m)\u001b[49m\n\u001b[1;32m   1917\u001b[0m \u001b[38;5;28;01mif\u001b[39;00m dispatch\u001b[38;5;241m.\u001b[39mneeds_check_special():\n\u001b[1;32m   1918\u001b[0m   out_arrays \u001b[38;5;241m=\u001b[39m results\u001b[38;5;241m.\u001b[39mdisassemble_into_single_device_arrays()\n",
      "\u001b[0;31mXlaRuntimeError\u001b[0m: RESOURCE_EXHAUSTED: Out of memory while trying to allocate 32582880272 bytes.\nBufferAssignment OOM Debugging.\nBufferAssignment stats:\n             parameter allocation:  609.74MiB\n              constant allocation:         4B\n        maybe_live_out allocation:    15.6KiB\n     preallocated temp allocation:   30.34GiB\n  preallocated temp fragmentation:         0B (0.00%)\n                 total allocation:   30.94GiB\n              total fragmentation:    15.9KiB (0.00%)\nPeak buffers:\n\tBuffer 1:\n\t\tSize: 29.15GiB\n\t\tOperator: op_name=\"jit(threedp3_likelihood)/jit(main)/reduce_max[axes=(4, 5)]\" source_file=\"/home/nishadgothoskar/bayes3d/bayes3d/likelihood.py\" source_line=128\n\t\tXLA Label: fusion\n\t\tShape: f32[1331,3,200,200,7,7]\n\t\t==========================\n\n\tBuffer 2:\n\t\tSize: 609.28MiB\n\t\tOperator: op_name=\"jit(threedp3_likelihood)/jit(main)/reduce_sum[axes=(4, 5)]\" source_file=\"/home/nishadgothoskar/bayes3d/bayes3d/likelihood.py\" source_line=128\n\t\tXLA Label: fusion\n\t\tShape: f32[1331,3,200,200]\n\t\t==========================\n\n\tBuffer 3:\n\t\tSize: 609.28MiB\n\t\tOperator: op_name=\"jit(threedp3_likelihood)/jit(main)/reduce_max[axes=(4, 5)]\" source_file=\"/home/nishadgothoskar/bayes3d/bayes3d/likelihood.py\" source_line=128\n\t\tXLA Label: fusion\n\t\tShape: f32[1331,3,200,200]\n\t\t==========================\n\n\tBuffer 4:\n\t\tSize: 609.28MiB\n\t\tEntry Parameter Subshape: f32[1331,200,200,3]\n\t\t==========================\n\n\tBuffer 5:\n\t\tSize: 468.8KiB\n\t\tEntry Parameter Subshape: f32[200,200,3]\n\t\t==========================\n\n\tBuffer 6:\n\t\tSize: 15.6KiB\n\t\tXLA Label: reduce\n\t\tShape: f32[1331,3]\n\t\t==========================\n\n\tBuffer 7:\n\t\tSize: 16B\n\t\tOperator: op_name=\"jit(threedp3_likelihood)/jit(main)/log\" source_file=\"/home/nishadgothoskar/bayes3d/bayes3d/likelihood.py\" source_line=135\n\t\tXLA Label: fusion\n\t\tShape: (f32[1], f32[1])\n\t\t==========================\n\n\tBuffer 8:\n\t\tSize: 16B\n\t\tOperator: op_name=\"jit(threedp3_likelihood)/jit(main)/log\" source_file=\"/home/nishadgothoskar/bayes3d/bayes3d/likelihood.py\" source_line=129\n\t\tXLA Label: fusion\n\t\tShape: (f32[3], f32[3])\n\t\t==========================\n\n\tBuffer 9:\n\t\tSize: 16B\n\t\tOperator: op_name=\"jit(threedp3_likelihood)/jit(main)/reduce_max[axes=(4, 5)]\" source_file=\"/home/nishadgothoskar/bayes3d/bayes3d/likelihood.py\" source_line=128\n\t\tXLA Label: fusion\n\t\tShape: (f32[1331,3,200,200], f32[1331,3,200,200,7,7])\n\t\t==========================\n\n\tBuffer 10:\n\t\tSize: 12B\n\t\tEntry Parameter Subshape: f32[3]\n\t\t==========================\n\n\tBuffer 11:\n\t\tSize: 4B\n\t\tXLA Label: parameter\n\t\tShape: f32[]\n\t\t==========================\n\n\tBuffer 12:\n\t\tSize: 4B\n\t\tXLA Label: parameter\n\t\tShape: f32[]\n\t\t==========================\n\n\tBuffer 13:\n\t\tSize: 4B\n\t\tOperator: op_name=\"jit(threedp3_likelihood)/jit(main)/reduce_max[axes=(4, 5)]\" source_file=\"/home/nishadgothoskar/bayes3d/bayes3d/likelihood.py\" source_line=128\n\t\tXLA Label: maximum\n\t\tShape: f32[]\n\t\t==========================\n\n\tBuffer 14:\n\t\tSize: 4B\n\t\tXLA Label: constant\n\t\tShape: f32[]\n\t\t==========================\n\n\tBuffer 15:\n\t\tSize: 4B\n\t\tEntry Parameter Subshape: f32[]\n\t\t==========================\n\n"
     ]
    }
   ],
   "source": [
    "for _ in range(10):\n",
    "    all_traces = []\n",
    "    for obj_id in tqdm(range(len(renderer.meshes))):\n",
    "        contact_param = jnp.zeros(3)\n",
    "        p = None\n",
    "        traces = None\n",
    "        for c2f_iter in range(len(contact_param_gridding_schedule)):\n",
    "            contact_param_grid = contact_param_gridding_schedule[c2f_iter] + contact_param\n",
    "\n",
    "            potential_new_object_poses = contact_plane @ contact_poses_jit(\n",
    "                contact_param_grid,\n",
    "                3,\n",
    "                renderer.model_box_dims[obj_id],\n",
    "            )\n",
    "\n",
    "            potential_poses = jnp.concatenate(\n",
    "                [\n",
    "                    jnp.tile(trace.poses[:,None,...], (1,potential_new_object_poses.shape[0],1,1)),\n",
    "                    potential_new_object_poses[None,...]\n",
    "                ]\n",
    "            )\n",
    "\n",
    "            traces = b.Traces(\n",
    "                potential_poses, trace.ids + [obj_id], VARIANCE_GRID, OUTLIER_GRID,\n",
    "                trace.outlier_volume, trace.observation\n",
    "            )\n",
    "            p = b.score_traces(traces, renderer)      \n",
    "\n",
    "            ii,jj,kk = jnp.unravel_index(p.argmax(), p.shape)\n",
    "            contact_param = contact_param_grid[ii]\n",
    "\n",
    "        best_trace = b.Trace(\n",
    "            traces.all_poses[:,ii], traces.ids, traces.all_variances[jj],\n",
    "            traces.all_outlier_prob[kk], traces.outlier_volume,\n",
    "            traces.observation\n",
    "        )\n",
    "\n",
    "        all_traces.append(\n",
    "            best_trace\n",
    "        )\n",
    "\n",
    "\n",
    "    scores = jnp.array([b.score_trace(t, renderer) for t in all_traces])\n",
    "    normalized_scores = b.utils.normalize_log_scores(scores)\n",
    "    print([\"{:0.3f}\".format(n) for n in normalized_scores])\n",
    "    order = jnp.argsort(-scores)\n",
    "    print(order)\n",
    "\n",
    "    \n",
    "    prev_score = b.score_trace(trace, renderer)\n",
    "    new_trace = all_traces[jnp.argmax(scores)]\n",
    "    print(new_trace.ids)\n",
    "    new_score = b.score_trace(new_trace, renderer)\n",
    "    score_delta = new_score - prev_score\n",
    "    print(score_delta)\n",
    "    if score_delta < 10.0:\n",
    "        print(\"Done parsing\")\n",
    "        break\n",
    "    \n",
    "    trace = new_trace\n",
    "    b.viz_trace_meshcat(trace, renderer)\n",
    "\n",
    "    \n",
    "# b.viz_trace_meshcat(new_trace, renderer)\n"
   ]
  },
  {
   "cell_type": "code",
   "execution_count": 64,
   "metadata": {
    "tags": []
   },
   "outputs": [],
   "source": [
    "b.viz_trace_meshcat(trace, renderer)\n",
    "b.show_cloud(\"rerender\", b.render_image(trace,renderer)[:,:,:3].reshape(-1,3),color=b.RED)"
   ]
  },
  {
   "cell_type": "code",
   "execution_count": 51,
   "metadata": {
    "tags": []
   },
   "outputs": [
    {
     "data": {
      "text/plain": [
       "Array(1565758., dtype=float32)"
      ]
     },
     "execution_count": 51,
     "metadata": {},
     "output_type": "execute_result"
    }
   ],
   "source": [
    "b.score_trace(gt_trace, renderer, filter_size=i)"
   ]
  },
  {
   "cell_type": "code",
   "execution_count": 53,
   "metadata": {
    "tags": []
   },
   "outputs": [],
   "source": [
    "x = b.render_image(gt_trace, renderer)[:,:,:3]\n",
    "b.clear()\n",
    "b.show_cloud(\"1\", x.reshape(-1,3))"
   ]
  },
  {
   "cell_type": "code",
   "execution_count": 28,
   "metadata": {},
   "outputs": [
    {
     "data": {
      "text/plain": [
       "Array([46415184., 46415184., 46415184., 46415184.], dtype=float32)"
      ]
     },
     "execution_count": 28,
     "metadata": {},
     "output_type": "execute_result"
    }
   ],
   "source": [
    "scores"
   ]
  },
  {
   "cell_type": "code",
   "execution_count": 57,
   "metadata": {
    "tags": []
   },
   "outputs": [
    {
     "name": "stdout",
     "output_type": "stream",
     "text": [
      "0\n",
      "39.143948\n",
      "1\n",
      "39.143948\n",
      "2\n",
      "39.143948\n",
      "3\n",
      "39.143948\n",
      "4\n",
      "39.143948\n",
      "5\n",
      "39.143948\n"
     ]
    }
   ],
   "source": []
  },
  {
   "cell_type": "code",
   "execution_count": null,
   "metadata": {},
   "outputs": [],
   "source": []
  },
  {
   "cell_type": "code",
   "execution_count": 79,
   "metadata": {
    "tags": []
   },
   "outputs": [
    {
     "name": "stdout",
     "output_type": "stream",
     "text": [
      "[15 14]\n"
     ]
    },
    {
     "data": {
      "text/plain": [
       "Array([[4.21553057e-31, 2.49202155e-21, 1.81754445e-15, 1.63620419e-13,\n",
       "        1.81767426e-15, 2.49202155e-21, 4.21643100e-31],\n",
       "       [2.49113297e-21, 1.47263955e-11, 1.07406295e-05, 9.66901367e-04,\n",
       "        1.07413971e-05, 1.47263955e-11, 2.49166531e-21],\n",
       "       [1.81728611e-15, 1.07429332e-05, 7.83530903e+00, 7.05356323e+02,\n",
       "        7.83586931e+00, 1.07429332e-05, 1.81767426e-15],\n",
       "       [1.63585481e-13, 9.67039727e-04, 7.05305969e+02, 6.34936094e+04,\n",
       "        7.05356323e+02, 9.67039727e-04, 1.63620419e-13],\n",
       "       [1.81728611e-15, 1.07429332e-05, 7.83530903e+00, 7.05356323e+02,\n",
       "        7.83586931e+00, 1.07429332e-05, 1.81767426e-15],\n",
       "       [2.49148921e-21, 1.47285031e-11, 1.07421656e-05, 9.67039727e-04,\n",
       "        1.07429332e-05, 1.47285031e-11, 2.49202155e-21],\n",
       "       [4.21553057e-31, 2.49202155e-21, 1.81754445e-15, 1.63620419e-13,\n",
       "        1.81767426e-15, 2.49202155e-21, 4.21643100e-31]], dtype=float32)"
      ]
     },
     "execution_count": 79,
     "metadata": {},
     "output_type": "execute_result"
    }
   ],
   "source": []
  },
  {
   "cell_type": "code",
   "execution_count": 74,
   "metadata": {
    "tags": []
   },
   "outputs": [
    {
     "data": {
      "text/plain": [
       "Array([[[2.6608486, 2.6608543, 3.9894223],\n",
       "        [3.332247 , 2.6608543, 3.9894223],\n",
       "        [3.8138752, 2.6608543, 3.9894223],\n",
       "        [3.9894223, 2.6608543, 3.9894223],\n",
       "        [3.813878 , 2.6608543, 3.9894223],\n",
       "        [3.332247 , 2.6608543, 3.9894223],\n",
       "        [2.6608543, 2.6608543, 3.9894223]],\n",
       "\n",
       "       [[2.6608486, 3.3322425, 3.9894223],\n",
       "        [3.332247 , 3.3322425, 3.9894223],\n",
       "        [3.8138752, 3.3322425, 3.9894223],\n",
       "        [3.9894223, 3.3322425, 3.9894223],\n",
       "        [3.813878 , 3.3322425, 3.9894223],\n",
       "        [3.332247 , 3.3322425, 3.9894223],\n",
       "        [2.6608543, 3.3322425, 3.9894223]],\n",
       "\n",
       "       [[2.6608486, 3.813878 , 3.9894223],\n",
       "        [3.332247 , 3.813878 , 3.9894223],\n",
       "        [3.8138752, 3.813878 , 3.9894223],\n",
       "        [3.9894223, 3.813878 , 3.9894223],\n",
       "        [3.813878 , 3.813878 , 3.9894223],\n",
       "        [3.332247 , 3.813878 , 3.9894223],\n",
       "        [2.6608543, 3.813878 , 3.9894223]],\n",
       "\n",
       "       [[2.6608486, 3.9894223, 3.9894223],\n",
       "        [3.332247 , 3.9894223, 3.9894223],\n",
       "        [3.8138752, 3.9894223, 3.9894223],\n",
       "        [3.9894223, 3.9894223, 3.9894223],\n",
       "        [3.813878 , 3.9894223, 3.9894223],\n",
       "        [3.332247 , 3.9894223, 3.9894223],\n",
       "        [2.6608543, 3.9894223, 3.9894223]],\n",
       "\n",
       "       [[2.6608486, 3.813878 , 3.9894223],\n",
       "        [3.332247 , 3.813878 , 3.9894223],\n",
       "        [3.8138752, 3.813878 , 3.9894223],\n",
       "        [3.9894223, 3.813878 , 3.9894223],\n",
       "        [3.813878 , 3.813878 , 3.9894223],\n",
       "        [3.332247 , 3.813878 , 3.9894223],\n",
       "        [2.6608543, 3.813878 , 3.9894223]],\n",
       "\n",
       "       [[2.6608486, 3.332247 , 3.9894223],\n",
       "        [3.332247 , 3.332247 , 3.9894223],\n",
       "        [3.8138752, 3.332247 , 3.9894223],\n",
       "        [3.9894223, 3.332247 , 3.9894223],\n",
       "        [3.813878 , 3.332247 , 3.9894223],\n",
       "        [3.332247 , 3.332247 , 3.9894223],\n",
       "        [2.6608543, 3.332247 , 3.9894223]],\n",
       "\n",
       "       [[2.6608486, 2.6608543, 3.9894223],\n",
       "        [3.332247 , 2.6608543, 3.9894223],\n",
       "        [3.8138752, 2.6608543, 3.9894223],\n",
       "        [3.9894223, 2.6608543, 3.9894223],\n",
       "        [3.813878 , 2.6608543, 3.9894223],\n",
       "        [3.332247 , 2.6608543, 3.9894223],\n",
       "        [2.6608543, 2.6608543, 3.9894223]]], dtype=float32)"
      ]
     },
     "execution_count": 74,
     "metadata": {},
     "output_type": "execute_result"
    }
   ],
   "source": []
  },
  {
   "cell_type": "code",
   "execution_count": null,
   "metadata": {},
   "outputs": [],
   "source": [
    "# object_types: cube, sphere, pyramid, pad\n",
    "# Output\n",
    "# List of (object_type, color, contact_params)"
   ]
  }
 ],
 "metadata": {
  "kernelspec": {
   "display_name": "Python 3 (ipykernel)",
   "language": "python",
   "name": "python3"
  },
  "language_info": {
   "codemirror_mode": {
    "name": "ipython",
    "version": 3
   },
   "file_extension": ".py",
   "mimetype": "text/x-python",
   "name": "python",
   "nbconvert_exporter": "python",
   "pygments_lexer": "ipython3",
   "version": "3.8.16"
  }
 },
 "nbformat": 4,
 "nbformat_minor": 4
}
