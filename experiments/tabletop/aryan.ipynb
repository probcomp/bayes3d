{
 "cells": [
  {
   "cell_type": "code",
   "execution_count": 1,
   "metadata": {
    "tags": []
   },
   "outputs": [
    {
     "name": "stderr",
     "output_type": "stream",
     "text": [
      "2023-06-27 17:23:42.643922: W tensorflow/compiler/tf2tensorrt/utils/py_utils.cc:38] TF-TRT Warning: Could not find TensorRT\n"
     ]
    }
   ],
   "source": [
    "import bayes3d as b\n",
    "import genjax\n",
    "import jax.numpy as jnp\n",
    "import jax\n",
    "import os\n",
    "import matplotlib.pyplot as plt\n",
    "import jax.tree_util as jtu\n",
    "from tqdm import tqdm\n",
    "import bayes3d.tabletop_model\n",
    "from genjax._src.core.transforms.incremental import NoChange\n",
    "from genjax._src.core.transforms.incremental import UnknownChange\n",
    "from genjax._src.core.transforms.incremental import Diff\n",
    "\n",
    "from genjax.generative_functions.distributions import ExactDensity\n",
    "import bayes3d as b\n",
    "from dataclasses import dataclass\n",
    "console = genjax.pretty(show_locals=False)\n",
    "import matplotlib"
   ]
  },
  {
   "cell_type": "code",
   "execution_count": 2,
   "metadata": {},
   "outputs": [
    {
     "name": "stdout",
     "output_type": "stream",
     "text": [
      "You can open the visualizer by visiting the following URL:\n",
      "http://127.0.0.1:7015/static/\n"
     ]
    }
   ],
   "source": [
    "b.setup_visualizer()"
   ]
  },
  {
   "cell_type": "code",
   "execution_count": 3,
   "metadata": {
    "tags": []
   },
   "outputs": [
    {
     "name": "stderr",
     "output_type": "stream",
     "text": [
      "[E rasterize_gl.cpp:121] OpenGL version reported as 4.6\n"
     ]
    },
    {
     "name": "stdout",
     "output_type": "stream",
     "text": [
      "Increasing frame buffer size to (width, height, depth) = (128, 128, 1024)\n"
     ]
    }
   ],
   "source": [
    "b.RENDERER = None\n",
    "intrinsics = b.Intrinsics(\n",
    "    height=100,\n",
    "    width=100,\n",
    "    fx=100.0, fy=100.0,\n",
    "    cx=50.0, cy=50.0,\n",
    "    near=0.01, far=2.0\n",
    ")\n",
    "\n",
    "b.setup_renderer(intrinsics)\n",
    "\n",
    "cube = b.mesh.make_cuboid_mesh(jnp.array([0.02, 0.02, 0.02]))\n",
    "b.RENDERER.add_mesh(cube)\n",
    "cube2 = b.mesh.make_cuboid_mesh(jnp.array([0.1, 0.02, 0.1]))\n",
    "b.RENDERER.add_mesh(cube2)\n",
    "\n",
    "table = b.mesh.make_cuboid_mesh(jnp.array([1.0, 1.0, 0.001]))\n",
    "b.RENDERER.add_mesh(table)"
   ]
  },
  {
   "cell_type": "code",
   "execution_count": 4,
   "metadata": {},
   "outputs": [],
   "source": [
    "contact_plane = b.t3d.inverse_pose(\n",
    "    b.t3d.transform_from_pos_target_up(\n",
    "        jnp.array([0.0, 0.6, 0.3]),\n",
    "        jnp.array([0.0, 0.0, 0.0]),\n",
    "        jnp.array([0.0, 0.0, 1.0]),\n",
    "    )\n",
    ")\n",
    "root_poses = jnp.tile(contact_plane[None, ...],(4,1,1))\n",
    "all_box_dims = b.RENDERER.model_box_dims\n",
    "key = jax.random.PRNGKey(13)"
   ]
  },
  {
   "cell_type": "code",
   "execution_count": 5,
   "metadata": {},
   "outputs": [],
   "source": [
    "enumerator_trace = lambda trace, key, c: trace.update(\n",
    "    key,\n",
    "    genjax.choice_map({\n",
    "        \"contact_params\": c, \n",
    "    }),\n",
    "    jtu.tree_map(lambda v: Diff(v, UnknownChange), trace.args),\n",
    ")[1][2]\n",
    "enumerator_trace_vmap_jit = jax.jit(jax.vmap(\n",
    "    enumerator_trace, in_axes=(None, None, 0)))\n",
    "\n"
   ]
  },
  {
   "cell_type": "code",
   "execution_count": 6,
   "metadata": {},
   "outputs": [],
   "source": [
    "@genjax.gen\n",
    "def sample_indices(object, possible_vals):\n",
    "    b.tabletop_model.uniform_discrete(possible_vals) @ f\"id_{i}\""
   ]
  },
  {
   "cell_type": "code",
   "execution_count": 7,
   "metadata": {},
   "outputs": [],
   "source": [
    "\n",
    "@dataclass\n",
    "class ContactParamsUniform(ExactDensity):\n",
    "    def sample(self, key, low, high):\n",
    "        return jax.random.uniform(key, shape=(1,3)) * (high - low) + low\n",
    "\n",
    "    def logpdf(self, sampled_val, low, high, **kwargs):\n",
    "        valid = ((low <= sampled_val) & (sampled_val <= high))\n",
    "        log_probs = jnp.log((valid * 1.0) * (jnp.ones_like(sampled_val) / (high-low)))\n",
    "        return log_probs.sum()\n",
    "contact_params_uniform = ContactParamsUniform()"
   ]
  },
  {
   "cell_type": "code",
   "execution_count": 11,
   "metadata": {},
   "outputs": [],
   "source": [
    "@genjax.gen\n",
    "def tabletop_model(array, possible_object_indices, root_poses, all_box_dims, outlier_volume):\n",
    "\n",
    "    indices = jnp.array([], dtype=jnp.int32)\n",
    "    contact_params = jnp.zeros((0,3))\n",
    "    faces_parents = jnp.array([], dtype=jnp.int32)\n",
    "    faces_child = jnp.array([], dtype=jnp.int32)\n",
    "    parents = jnp.array([], dtype=jnp.int32)\n",
    "    for i in range(array.shape[0]):\n",
    "        index = b.tabletop_model.uniform_discrete(possible_object_indices) @ f\"id_{i}\"\n",
    "        indices = jnp.concatenate([indices, jnp.array([index])])\n",
    "        \n",
    "        params = contact_params_uniform(\n",
    "            jnp.array([[-0.2,-0.2, -2*jnp.pi]]), \n",
    "            jnp.array([[0.2,0.2, 2*jnp.pi]])) @ f\"contact_params_{i}\"\n",
    "        contact_params = jnp.concatenate([contact_params, params])\n",
    "\n",
    "        parent_obj = b.tabletop_model.uniform_discrete(jnp.arange(-1,array.shape[0] - 1)) @ f\"parent_{i}\"\n",
    "        parents = jnp.concatenate([parents, jnp.array([parent_obj])])\n",
    "        parent_face = b.tabletop_model.uniform_discrete(jnp.arange(0,6)) @ f\"face_parent_{i}\"\n",
    "        faces_parents = jnp.concatenate([faces_parents, jnp.array([parent_face])])\n",
    "        child_face = b.tabletop_model.uniform_discrete(jnp.arange(0,6)) @ f\"face_child_{i}\"\n",
    "        faces_child = jnp.concatenate([faces_child, jnp.array([child_face])])\n",
    "    \n",
    "    box_dims = all_box_dims[indices]\n",
    "    poses = b.scene_graph.poses_from_scene_graph(\n",
    "        root_poses, box_dims, parents, contact_params, faces_parents, faces_child)\n",
    "    rendered = b.RENDERER.render_jax(\n",
    "        poses , indices\n",
    "    )[...,:3]\n",
    "\n",
    "    variance = genjax.distributions.tfp_uniform(0.00001, 0.1) @ \"variance\"\n",
    "    outlier_prob  = genjax.distributions.tfp_uniform(0.00001, 0.01) @ \"outlier_prob\"\n",
    "    image = b.tabletop_model.image_likelihood(rendered, variance, outlier_prob, outlier_volume) @ \"image\"\n",
    "    return rendered, indices, poses, image, parents, contact_params, faces_parents, faces_child\n",
    "importance_jit = jax.jit(tabletop_model.importance)"
   ]
  },
  {
   "cell_type": "code",
   "execution_count": null,
   "metadata": {},
   "outputs": [],
   "source": []
  },
  {
   "cell_type": "code",
   "execution_count": 65,
   "metadata": {},
   "outputs": [
    {
     "name": "stdout",
     "output_type": "stream",
     "text": [
      "57306.66\n",
      "[2 1]\n",
      "[[0.0148695  0.09750523 0.08485603]]\n"
     ]
    },
    {
     "data": {
      "image/png": "[encoded data removed]"
     },
     "execution_count": 65,
     "metadata": {},
     "output_type": "execute_result"
    }
   ],
   "source": [
    "N = 2\n",
    "key, (_,trace) = importance_jit(key, genjax.choice_map({\n",
    "    \"parent_0\": -1,\n",
    "    \"parent_1\": 0,\n",
    "    \"id_0\": jnp.int32(2),\n",
    "    \"id_1\": jnp.int32(1),\n",
    "    \"face_parent_1\": jnp.int32(2),\n",
    "    \"face_child_1\": jnp.int32(3),\n",
    "    \"variance\": 0.00001,\n",
    "    \"outlier_prob\": 0.0001,\n",
    "}), (jnp.arange(N), jnp.arange(3), root_poses[:N], all_box_dims, 10000.0,))\n",
    "b.clear()\n",
    "print(trace.get_score())\n",
    "b.tabletop_model.viz_trace_meshcat(trace)\n",
    "observed_image = trace.get_retval()[0]\n",
    "print(trace[\"contact_params_0\"])\n",
    "b.get_depth_image(observed_image[...,2])"
   ]
  },
  {
   "cell_type": "code",
   "execution_count": null,
   "metadata": {},
   "outputs": [],
   "source": [
    "key, (_,trace) = importance_jit(key, genjax.choice_map({\n",
    "    \"parent_0\": -1,\n",
    "    \"parent_1\": 0,\n",
    "    \"id_0\": jnp.int32(2),\n",
    "    \"id_1\": jnp.int32(1),\n",
    "    \"face_parent_1\": jnp.int32(2),\n",
    "    \"face_child_1\": jnp.int32(3),\n",
    "    \"face_parent_2\": jnp.int32(2),\n",
    "    \"face_child_2\": jnp.int32(3),\n",
    "    \"variance\": 0.00001,\n",
    "    \"outlier_prob\": 0.0001,\n",
    "})"
   ]
  },
  {
   "cell_type": "code",
   "execution_count": 141,
   "metadata": {},
   "outputs": [
    {
     "data": {
      "text/html": [
       "<pre style=\"white-space:pre;overflow-x:auto;line-height:normal;font-family:Menlo,'DejaVu Sans Mono',consolas,'Courier New',monospace\"><span style=\"color: #800000; text-decoration-color: #800000\">╭─────────────────────────────── </span><span style=\"color: #800000; text-decoration-color: #800000; font-weight: bold\">Traceback </span><span style=\"color: #bf7f7f; text-decoration-color: #bf7f7f; font-weight: bold\">(most recent call last)</span><span style=\"color: #800000; text-decoration-color: #800000\"> ────────────────────────────────╮</span>\n",
       "<span style=\"color: #800000; text-decoration-color: #800000\">│</span> <span style=\"color: #bfbf7f; text-decoration-color: #bfbf7f\">/tmp/ipykernel_328778/</span><span style=\"color: #808000; text-decoration-color: #808000; font-weight: bold\">802726590.py</span>:<span style=\"color: #0000ff; text-decoration-color: #0000ff\">5</span> in <span style=\"color: #00ff00; text-decoration-color: #00ff00\">&lt;module&gt;</span>                                                 <span style=\"color: #800000; text-decoration-color: #800000\">│</span>\n",
       "<span style=\"color: #800000; text-decoration-color: #800000\">│</span>                                                                                                  <span style=\"color: #800000; text-decoration-color: #800000\">│</span>\n",
       "<span style=\"color: #800000; text-decoration-color: #800000\">│</span> <span style=\"color: #800000; text-decoration-color: #800000; font-style: italic\">[Errno 2] No such file or directory: '/tmp/ipykernel_328778/802726590.py'</span>                        <span style=\"color: #800000; text-decoration-color: #800000\">│</span>\n",
       "<span style=\"color: #800000; text-decoration-color: #800000\">│</span>                                                                                                  <span style=\"color: #800000; text-decoration-color: #800000\">│</span>\n",
       "<span style=\"color: #800000; text-decoration-color: #800000\">│</span> <span style=\"color: #bfbf7f; text-decoration-color: #bfbf7f\">/home/ubuntu/genjax/src/genjax/_src/generative_functions/builtin/</span><span style=\"color: #808000; text-decoration-color: #808000; font-weight: bold\">builtin_datatypes.py</span>:<span style=\"color: #0000ff; text-decoration-color: #0000ff\">145</span> in     <span style=\"color: #800000; text-decoration-color: #800000\">│</span>\n",
       "<span style=\"color: #800000; text-decoration-color: #800000\">│</span> <span style=\"color: #00ff00; text-decoration-color: #00ff00\">__hash__</span>                                                                                         <span style=\"color: #800000; text-decoration-color: #800000\">│</span>\n",
       "<span style=\"color: #800000; text-decoration-color: #800000\">│</span>                                                                                                  <span style=\"color: #800000; text-decoration-color: #800000\">│</span>\n",
       "<span style=\"color: #800000; text-decoration-color: #800000\">│</span>   <span style=\"color: #7f7f7f; text-decoration-color: #7f7f7f\">142 │   │   </span><span style=\"color: #00ffff; text-decoration-color: #00ffff\">self</span>.trie[k] = v                                                                   <span style=\"color: #800000; text-decoration-color: #800000\">│</span>\n",
       "<span style=\"color: #800000; text-decoration-color: #800000\">│</span>   <span style=\"color: #7f7f7f; text-decoration-color: #7f7f7f\">143 │   </span>                                                                                       <span style=\"color: #800000; text-decoration-color: #800000\">│</span>\n",
       "<span style=\"color: #800000; text-decoration-color: #800000\">│</span>   <span style=\"color: #7f7f7f; text-decoration-color: #7f7f7f\">144 │   </span><span style=\"color: #0000ff; text-decoration-color: #0000ff\">def</span> <span style=\"color: #00ff00; text-decoration-color: #00ff00\">__hash__</span>(<span style=\"color: #00ffff; text-decoration-color: #00ffff\">self</span>):                                                                    <span style=\"color: #800000; text-decoration-color: #800000\">│</span>\n",
       "<span style=\"color: #800000; text-decoration-color: #800000\">│</span> <span style=\"color: #800000; text-decoration-color: #800000\">❱ </span>145 <span style=\"color: #7f7f7f; text-decoration-color: #7f7f7f\">│   │   </span><span style=\"color: #0000ff; text-decoration-color: #0000ff\">return</span> <span style=\"color: #00ffff; text-decoration-color: #00ffff\">hash</span>(<span style=\"color: #00ffff; text-decoration-color: #00ffff\">self</span>.trie)                                                             <span style=\"color: #800000; text-decoration-color: #800000\">│</span>\n",
       "<span style=\"color: #800000; text-decoration-color: #800000\">│</span>   <span style=\"color: #7f7f7f; text-decoration-color: #7f7f7f\">146 </span>                                                                                           <span style=\"color: #800000; text-decoration-color: #800000\">│</span>\n",
       "<span style=\"color: #800000; text-decoration-color: #800000\">│</span>   <span style=\"color: #7f7f7f; text-decoration-color: #7f7f7f\">147 </span>                                                                                           <span style=\"color: #800000; text-decoration-color: #800000\">│</span>\n",
       "<span style=\"color: #800000; text-decoration-color: #800000\">│</span>   <span style=\"color: #7f7f7f; text-decoration-color: #7f7f7f\">148 ##############</span>                                                                             <span style=\"color: #800000; text-decoration-color: #800000\">│</span>\n",
       "<span style=\"color: #800000; text-decoration-color: #800000\">│</span>                                                                                                  <span style=\"color: #800000; text-decoration-color: #800000\">│</span>\n",
       "<span style=\"color: #800000; text-decoration-color: #800000\">│</span> <span style=\"color: #bfbf7f; text-decoration-color: #bfbf7f\">/home/ubuntu/genjax/src/genjax/_src/core/datatypes/</span><span style=\"color: #808000; text-decoration-color: #808000; font-weight: bold\">trie.py</span>:<span style=\"color: #0000ff; text-decoration-color: #0000ff\">121</span> in <span style=\"color: #00ff00; text-decoration-color: #00ff00\">__hash__</span>                       <span style=\"color: #800000; text-decoration-color: #800000\">│</span>\n",
       "<span style=\"color: #800000; text-decoration-color: #800000\">│</span>                                                                                                  <span style=\"color: #800000; text-decoration-color: #800000\">│</span>\n",
       "<span style=\"color: #800000; text-decoration-color: #800000\">│</span>   <span style=\"color: #7f7f7f; text-decoration-color: #7f7f7f\">118 │   │   </span><span style=\"color: #0000ff; text-decoration-color: #0000ff\">return</span> <span style=\"color: #00ffff; text-decoration-color: #00ffff\">self</span>.has_subtree(k)                                                         <span style=\"color: #800000; text-decoration-color: #800000\">│</span>\n",
       "<span style=\"color: #800000; text-decoration-color: #800000\">│</span>   <span style=\"color: #7f7f7f; text-decoration-color: #7f7f7f\">119 │   </span>                                                                                       <span style=\"color: #800000; text-decoration-color: #800000\">│</span>\n",
       "<span style=\"color: #800000; text-decoration-color: #800000\">│</span>   <span style=\"color: #7f7f7f; text-decoration-color: #7f7f7f\">120 │   </span><span style=\"color: #0000ff; text-decoration-color: #0000ff\">def</span> <span style=\"color: #00ff00; text-decoration-color: #00ff00\">__hash__</span>(<span style=\"color: #00ffff; text-decoration-color: #00ffff\">self</span>):                                                                    <span style=\"color: #800000; text-decoration-color: #800000\">│</span>\n",
       "<span style=\"color: #800000; text-decoration-color: #800000\">│</span> <span style=\"color: #800000; text-decoration-color: #800000\">❱ </span>121 <span style=\"color: #7f7f7f; text-decoration-color: #7f7f7f\">│   │   </span><span style=\"color: #0000ff; text-decoration-color: #0000ff\">return</span> <span style=\"color: #00ffff; text-decoration-color: #00ffff\">hash</span>(<span style=\"color: #00ffff; text-decoration-color: #00ffff\">self</span>.inner)                                                            <span style=\"color: #800000; text-decoration-color: #800000\">│</span>\n",
       "<span style=\"color: #800000; text-decoration-color: #800000\">│</span>   <span style=\"color: #7f7f7f; text-decoration-color: #7f7f7f\">122 │   </span>                                                                                       <span style=\"color: #800000; text-decoration-color: #800000\">│</span>\n",
       "<span style=\"color: #800000; text-decoration-color: #800000\">│</span>   <span style=\"color: #7f7f7f; text-decoration-color: #7f7f7f\">123 │   </span><span style=\"color: #0000ff; text-decoration-color: #0000ff\">def</span> <span style=\"color: #00ff00; text-decoration-color: #00ff00\">pformat_tree</span>(<span style=\"color: #00ffff; text-decoration-color: #00ffff\">self</span>, **kwargs):                                                      <span style=\"color: #800000; text-decoration-color: #800000\">│</span>\n",
       "<span style=\"color: #800000; text-decoration-color: #800000\">│</span>   <span style=\"color: #7f7f7f; text-decoration-color: #7f7f7f\">124 │   │   </span>tree = rich.tree.Tree(<span style=\"color: #808000; text-decoration-color: #808000\">f\"[b]{</span><span style=\"color: #00ffff; text-decoration-color: #00ffff\">self</span>.<span style=\"color: #ff0000; text-decoration-color: #ff0000\">__class__</span>.<span style=\"color: #ff0000; text-decoration-color: #ff0000\">__name__</span><span style=\"color: #808000; text-decoration-color: #808000\">}[/b]\"</span>)                         <span style=\"color: #800000; text-decoration-color: #800000\">│</span>\n",
       "<span style=\"color: #800000; text-decoration-color: #800000\">│</span>                                                                                                  <span style=\"color: #800000; text-decoration-color: #800000\">│</span>\n",
       "<span style=\"color: #800000; text-decoration-color: #800000\">│</span> <span style=\"color: #bfbf7f; text-decoration-color: #bfbf7f\">/home/ubuntu/genjax/src/genjax/_src/core/datatypes/</span><span style=\"color: #808000; text-decoration-color: #808000; font-weight: bold\">hashabledict.py</span>:<span style=\"color: #0000ff; text-decoration-color: #0000ff\">29</span> in <span style=\"color: #00ff00; text-decoration-color: #00ff00\">__hash__</span>                <span style=\"color: #800000; text-decoration-color: #800000\">│</span>\n",
       "<span style=\"color: #800000; text-decoration-color: #800000\">│</span>                                                                                                  <span style=\"color: #800000; text-decoration-color: #800000\">│</span>\n",
       "<span style=\"color: #800000; text-decoration-color: #800000\">│</span>   <span style=\"color: #7f7f7f; text-decoration-color: #7f7f7f\">26 │   │   </span><span style=\"color: #0000ff; text-decoration-color: #0000ff\">return</span> <span style=\"color: #00ffff; text-decoration-color: #00ffff\">tuple</span>((k, <span style=\"color: #00ffff; text-decoration-color: #00ffff\">self</span>[k]) <span style=\"color: #0000ff; text-decoration-color: #0000ff\">for</span> k <span style=\"color: #ff00ff; text-decoration-color: #ff00ff\">in</span> <span style=\"color: #00ffff; text-decoration-color: #00ffff\">sorted</span>(<span style=\"color: #00ffff; text-decoration-color: #00ffff\">self</span>))                                    <span style=\"color: #800000; text-decoration-color: #800000\">│</span>\n",
       "<span style=\"color: #800000; text-decoration-color: #800000\">│</span>   <span style=\"color: #7f7f7f; text-decoration-color: #7f7f7f\">27 │   </span>                                                                                        <span style=\"color: #800000; text-decoration-color: #800000\">│</span>\n",
       "<span style=\"color: #800000; text-decoration-color: #800000\">│</span>   <span style=\"color: #7f7f7f; text-decoration-color: #7f7f7f\">28 │   </span><span style=\"color: #0000ff; text-decoration-color: #0000ff\">def</span> <span style=\"color: #00ff00; text-decoration-color: #00ff00\">__hash__</span>(<span style=\"color: #00ffff; text-decoration-color: #00ffff\">self</span>):                                                                     <span style=\"color: #800000; text-decoration-color: #800000\">│</span>\n",
       "<span style=\"color: #800000; text-decoration-color: #800000\">│</span> <span style=\"color: #800000; text-decoration-color: #800000\">❱ </span>29 <span style=\"color: #7f7f7f; text-decoration-color: #7f7f7f\">│   │   </span><span style=\"color: #0000ff; text-decoration-color: #0000ff\">return</span> <span style=\"color: #00ffff; text-decoration-color: #00ffff\">hash</span>(<span style=\"color: #00ffff; text-decoration-color: #00ffff\">self</span>.__key())                                                           <span style=\"color: #800000; text-decoration-color: #800000\">│</span>\n",
       "<span style=\"color: #800000; text-decoration-color: #800000\">│</span>   <span style=\"color: #7f7f7f; text-decoration-color: #7f7f7f\">30 │   </span>                                                                                        <span style=\"color: #800000; text-decoration-color: #800000\">│</span>\n",
       "<span style=\"color: #800000; text-decoration-color: #800000\">│</span>   <span style=\"color: #7f7f7f; text-decoration-color: #7f7f7f\">31 │   </span><span style=\"color: #0000ff; text-decoration-color: #0000ff\">def</span> <span style=\"color: #00ff00; text-decoration-color: #00ff00\">__eq__</span>(<span style=\"color: #00ffff; text-decoration-color: #00ffff\">self</span>, other):                                                                <span style=\"color: #800000; text-decoration-color: #800000\">│</span>\n",
       "<span style=\"color: #800000; text-decoration-color: #800000\">│</span>   <span style=\"color: #7f7f7f; text-decoration-color: #7f7f7f\">32 │   │   </span><span style=\"color: #0000ff; text-decoration-color: #0000ff\">return</span> <span style=\"color: #00ffff; text-decoration-color: #00ffff\">self</span>.__key() == other.__key()                                                <span style=\"color: #800000; text-decoration-color: #800000\">│</span>\n",
       "<span style=\"color: #800000; text-decoration-color: #800000\">╰──────────────────────────────────────────────────────────────────────────────────────────────────╯</span>\n",
       "<span style=\"color: #ff0000; text-decoration-color: #ff0000; font-weight: bold\">TypeError: </span>unhashable type: <span style=\"color: #008000; text-decoration-color: #008000\">'DistributionTrace'</span>\n",
       "</pre>\n"
      ],
      "text/plain": [
       "\u001b[31m╭─\u001b[0m\u001b[31m──────────────────────────────\u001b[0m\u001b[31m \u001b[0m\u001b[1;31mTraceback \u001b[0m\u001b[1;2;31m(most recent call last)\u001b[0m\u001b[31m \u001b[0m\u001b[31m───────────────────────────────\u001b[0m\u001b[31m─╮\u001b[0m\n",
       "\u001b[31m│\u001b[0m \u001b[2;33m/tmp/ipykernel_328778/\u001b[0m\u001b[1;33m802726590.py\u001b[0m:\u001b[94m5\u001b[0m in \u001b[92m<module>\u001b[0m                                                 \u001b[31m│\u001b[0m\n",
       "\u001b[31m│\u001b[0m                                                                                                  \u001b[31m│\u001b[0m\n",
       "\u001b[31m│\u001b[0m \u001b[3;31m[Errno 2] No such file or directory: '/tmp/ipykernel_328778/802726590.py'\u001b[0m                        \u001b[31m│\u001b[0m\n",
       "\u001b[31m│\u001b[0m                                                                                                  \u001b[31m│\u001b[0m\n",
       "\u001b[31m│\u001b[0m \u001b[2;33m/home/ubuntu/genjax/src/genjax/_src/generative_functions/builtin/\u001b[0m\u001b[1;33mbuiltin_datatypes.py\u001b[0m:\u001b[94m145\u001b[0m in     \u001b[31m│\u001b[0m\n",
       "\u001b[31m│\u001b[0m \u001b[92m__hash__\u001b[0m                                                                                         \u001b[31m│\u001b[0m\n",
       "\u001b[31m│\u001b[0m                                                                                                  \u001b[31m│\u001b[0m\n",
       "\u001b[31m│\u001b[0m   \u001b[2m142 \u001b[0m\u001b[2m│   │   \u001b[0m\u001b[96mself\u001b[0m.trie[k] = v                                                                   \u001b[31m│\u001b[0m\n",
       "\u001b[31m│\u001b[0m   \u001b[2m143 \u001b[0m\u001b[2m│   \u001b[0m                                                                                       \u001b[31m│\u001b[0m\n",
       "\u001b[31m│\u001b[0m   \u001b[2m144 \u001b[0m\u001b[2m│   \u001b[0m\u001b[94mdef\u001b[0m \u001b[92m__hash__\u001b[0m(\u001b[96mself\u001b[0m):                                                                    \u001b[31m│\u001b[0m\n",
       "\u001b[31m│\u001b[0m \u001b[31m❱ \u001b[0m145 \u001b[2m│   │   \u001b[0m\u001b[94mreturn\u001b[0m \u001b[96mhash\u001b[0m(\u001b[96mself\u001b[0m.trie)                                                             \u001b[31m│\u001b[0m\n",
       "\u001b[31m│\u001b[0m   \u001b[2m146 \u001b[0m                                                                                           \u001b[31m│\u001b[0m\n",
       "\u001b[31m│\u001b[0m   \u001b[2m147 \u001b[0m                                                                                           \u001b[31m│\u001b[0m\n",
       "\u001b[31m│\u001b[0m   \u001b[2m148 \u001b[0m\u001b[2m##############\u001b[0m                                                                             \u001b[31m│\u001b[0m\n",
       "\u001b[31m│\u001b[0m                                                                                                  \u001b[31m│\u001b[0m\n",
       "\u001b[31m│\u001b[0m \u001b[2;33m/home/ubuntu/genjax/src/genjax/_src/core/datatypes/\u001b[0m\u001b[1;33mtrie.py\u001b[0m:\u001b[94m121\u001b[0m in \u001b[92m__hash__\u001b[0m                       \u001b[31m│\u001b[0m\n",
       "\u001b[31m│\u001b[0m                                                                                                  \u001b[31m│\u001b[0m\n",
       "\u001b[31m│\u001b[0m   \u001b[2m118 \u001b[0m\u001b[2m│   │   \u001b[0m\u001b[94mreturn\u001b[0m \u001b[96mself\u001b[0m.has_subtree(k)                                                         \u001b[31m│\u001b[0m\n",
       "\u001b[31m│\u001b[0m   \u001b[2m119 \u001b[0m\u001b[2m│   \u001b[0m                                                                                       \u001b[31m│\u001b[0m\n",
       "\u001b[31m│\u001b[0m   \u001b[2m120 \u001b[0m\u001b[2m│   \u001b[0m\u001b[94mdef\u001b[0m \u001b[92m__hash__\u001b[0m(\u001b[96mself\u001b[0m):                                                                    \u001b[31m│\u001b[0m\n",
       "\u001b[31m│\u001b[0m \u001b[31m❱ \u001b[0m121 \u001b[2m│   │   \u001b[0m\u001b[94mreturn\u001b[0m \u001b[96mhash\u001b[0m(\u001b[96mself\u001b[0m.inner)                                                            \u001b[31m│\u001b[0m\n",
       "\u001b[31m│\u001b[0m   \u001b[2m122 \u001b[0m\u001b[2m│   \u001b[0m                                                                                       \u001b[31m│\u001b[0m\n",
       "\u001b[31m│\u001b[0m   \u001b[2m123 \u001b[0m\u001b[2m│   \u001b[0m\u001b[94mdef\u001b[0m \u001b[92mpformat_tree\u001b[0m(\u001b[96mself\u001b[0m, **kwargs):                                                      \u001b[31m│\u001b[0m\n",
       "\u001b[31m│\u001b[0m   \u001b[2m124 \u001b[0m\u001b[2m│   │   \u001b[0mtree = rich.tree.Tree(\u001b[33mf\u001b[0m\u001b[33m\"\u001b[0m\u001b[33m[b]\u001b[0m\u001b[33m{\u001b[0m\u001b[96mself\u001b[0m.\u001b[91m__class__\u001b[0m.\u001b[91m__name__\u001b[0m\u001b[33m}\u001b[0m\u001b[33m[/b]\u001b[0m\u001b[33m\"\u001b[0m)                         \u001b[31m│\u001b[0m\n",
       "\u001b[31m│\u001b[0m                                                                                                  \u001b[31m│\u001b[0m\n",
       "\u001b[31m│\u001b[0m \u001b[2;33m/home/ubuntu/genjax/src/genjax/_src/core/datatypes/\u001b[0m\u001b[1;33mhashabledict.py\u001b[0m:\u001b[94m29\u001b[0m in \u001b[92m__hash__\u001b[0m                \u001b[31m│\u001b[0m\n",
       "\u001b[31m│\u001b[0m                                                                                                  \u001b[31m│\u001b[0m\n",
       "\u001b[31m│\u001b[0m   \u001b[2m26 \u001b[0m\u001b[2m│   │   \u001b[0m\u001b[94mreturn\u001b[0m \u001b[96mtuple\u001b[0m((k, \u001b[96mself\u001b[0m[k]) \u001b[94mfor\u001b[0m k \u001b[95min\u001b[0m \u001b[96msorted\u001b[0m(\u001b[96mself\u001b[0m))                                    \u001b[31m│\u001b[0m\n",
       "\u001b[31m│\u001b[0m   \u001b[2m27 \u001b[0m\u001b[2m│   \u001b[0m                                                                                        \u001b[31m│\u001b[0m\n",
       "\u001b[31m│\u001b[0m   \u001b[2m28 \u001b[0m\u001b[2m│   \u001b[0m\u001b[94mdef\u001b[0m \u001b[92m__hash__\u001b[0m(\u001b[96mself\u001b[0m):                                                                     \u001b[31m│\u001b[0m\n",
       "\u001b[31m│\u001b[0m \u001b[31m❱ \u001b[0m29 \u001b[2m│   │   \u001b[0m\u001b[94mreturn\u001b[0m \u001b[96mhash\u001b[0m(\u001b[96mself\u001b[0m.__key())                                                           \u001b[31m│\u001b[0m\n",
       "\u001b[31m│\u001b[0m   \u001b[2m30 \u001b[0m\u001b[2m│   \u001b[0m                                                                                        \u001b[31m│\u001b[0m\n",
       "\u001b[31m│\u001b[0m   \u001b[2m31 \u001b[0m\u001b[2m│   \u001b[0m\u001b[94mdef\u001b[0m \u001b[92m__eq__\u001b[0m(\u001b[96mself\u001b[0m, other):                                                                \u001b[31m│\u001b[0m\n",
       "\u001b[31m│\u001b[0m   \u001b[2m32 \u001b[0m\u001b[2m│   │   \u001b[0m\u001b[94mreturn\u001b[0m \u001b[96mself\u001b[0m.__key() == other.__key()                                                \u001b[31m│\u001b[0m\n",
       "\u001b[31m╰──────────────────────────────────────────────────────────────────────────────────────────────────╯\u001b[0m\n",
       "\u001b[1;91mTypeError: \u001b[0munhashable type: \u001b[32m'DistributionTrace'\u001b[0m\n"
      ]
     },
     "metadata": {},
     "output_type": "display_data"
    }
   ],
   "source": [
    "N = 3\n",
    "choices = trace_.get_choices()\n",
    "choices[\"id_2\"] = jnp.int32(0)\n",
    "choices[\"parent_2\"] = jnp.int32(0)\n",
    "key, (_,trace_) = importance_jit(key, genjax.choice_map({\n",
    "    choices\n",
    "}), (jnp.arange(N), jnp.arange(3), root_poses[:N], all_box_dims, 10000.0,))\n",
    "\n",
    "\n",
    "object_index=2\n",
    "contact_param_deltas = b.enumerations.make_translation_grid_enumeration_3d(-0.4, -0.4, 0.0, 0.4, 0.4, 0.0, 70, 70, 1)\n",
    "contact_param_grid = contact_param_deltas\n",
    "contact_param_full = jnp.tile(trace_[\"contact_params\"][None,...], (contact_param_grid.shape[0],1,1))\n",
    "contact_param_full = contact_param_full.at[:,object_index].set(contact_param_grid)\n",
    "\n",
    "traces = enumerator_trace_vmap_jit(trace_, key, contact_param_full)\n",
    "scores = traces.get_score()\n",
    "plt.plot(b.utils.normalize_log_scores(scores));\n",
    "\n",
    "sampled_index = jax.random.categorical(key, scores)\n",
    "print(sampled_index)\n",
    "keys = jax.random.split(key, 1)\n",
    "key = keys[0]\n",
    "print(traces.slice(sampled_index).get_score())\n",
    "b.tabletop_model.viz_trace_meshcat(traces.slice(sampled_index))\n",
    "\n",
    "poses = b.tabletop_model.get_poses(traces)\n",
    "\n",
    "sampled_indices = jax.random.categorical(key, scores, shape=(500,))\n",
    "\n",
    "poses_subset = poses[sampled_indices]\n",
    "\n",
    "img = b.render_point_cloud(poses_subset[:,2,:3,3], intrinsics,pixel_smudge=0.4)\n",
    "overlay = b.get_depth_image(img[:,:,2], cmap=matplotlib.colormaps['Greys'])\n",
    "\n",
    "b.scale_image(b.overlay_image(b.get_depth_image(trace_[\"image\"][...,2]), overlay, 0.5), 5.0)"
   ]
  },
  {
   "cell_type": "code",
   "execution_count": null,
   "metadata": {},
   "outputs": [],
   "source": []
  },
  {
   "cell_type": "code",
   "execution_count": null,
   "metadata": {},
   "outputs": [],
   "source": []
  }
 ],
 "metadata": {
  "kernelspec": {
   "display_name": "Python 3 (ipykernel)",
   "language": "python",
   "name": "python3"
  },
  "language_info": {
   "codemirror_mode": {
    "name": "ipython",
    "version": 3
   },
   "file_extension": ".py",
   "mimetype": "text/x-python",
   "name": "python",
   "nbconvert_exporter": "python",
   "pygments_lexer": "ipython3",
   "version": "3.8.16"
  }
 },
 "nbformat": 4,
 "nbformat_minor": 4
}
