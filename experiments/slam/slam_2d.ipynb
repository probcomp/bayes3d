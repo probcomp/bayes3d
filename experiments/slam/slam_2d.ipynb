{
 "cells": [
  {
   "cell_type": "code",
   "execution_count": 1,
   "id": "8ea57f2f-c77e-4db6-859e-52352ca614ae",
   "metadata": {},
   "outputs": [
    {
     "name": "stdout",
     "output_type": "stream",
     "text": [
      "gpu\n"
     ]
    }
   ],
   "source": [
    "import bayes3d as b\n",
    "import jax.numpy as jnp\n",
    "import jax\n",
    "import os\n",
    "import matplotlib.pyplot as plt\n",
    "import jax.tree_util as jtu\n",
    "import numpy as np\n",
    "\n",
    "from jax.lib import xla_bridge\n",
    "print(xla_bridge.get_backend().platform)"
   ]
  },
  {
   "cell_type": "code",
   "execution_count": 3,
   "id": "1b791e3f",
   "metadata": {},
   "outputs": [],
   "source": [
    "import genjax\n",
    "console = genjax.pretty(show_locals=False)"
   ]
  },
  {
   "cell_type": "code",
   "execution_count": 4,
   "id": "311d5475",
   "metadata": {},
   "outputs": [
    {
     "data": {
      "text/html": [
       "<pre style=\"white-space:pre;overflow-x:auto;line-height:normal;font-family:Menlo,'DejaVu Sans Mono',consolas,'Courier New',monospace\"><span style=\"color: #800080; text-decoration-color: #800080; font-weight: bold\">dict_keys</span><span style=\"font-weight: bold\">([</span><span style=\"color: #008000; text-decoration-color: #008000\">'env_name'</span>, <span style=\"color: #008000; text-decoration-color: #008000\">'paths'</span>, <span style=\"color: #008000; text-decoration-color: #008000\">'verts'</span>, <span style=\"color: #008000; text-decoration-color: #008000\">'clutter_verts'</span>, <span style=\"color: #008000; text-decoration-color: #008000\">'segs'</span>, <span style=\"color: #008000; text-decoration-color: #008000\">'clutter_segs'</span><span style=\"font-weight: bold\">])</span>\n",
       "</pre>\n"
      ],
      "text/plain": [
       "\u001b[1;35mdict_keys\u001b[0m\u001b[1m(\u001b[0m\u001b[1m[\u001b[0m\u001b[32m'env_name'\u001b[0m, \u001b[32m'paths'\u001b[0m, \u001b[32m'verts'\u001b[0m, \u001b[32m'clutter_verts'\u001b[0m, \u001b[32m'segs'\u001b[0m, \u001b[32m'clutter_segs'\u001b[0m\u001b[1m]\u001b[0m\u001b[1m)\u001b[0m\n"
      ]
     },
     "metadata": {},
     "output_type": "display_data"
    }
   ],
   "source": [
    "import json\n",
    "\n",
    "\n",
    "fname = \"test_env_4.json\"\n",
    "with open(fname, 'r') as f:\n",
    "    env_data = json.load(f)\n",
    "\n",
    "env_data.keys()"
   ]
  },
  {
   "cell_type": "code",
   "execution_count": 5,
   "id": "25421e64-5f56-4cbe-aa20-104e7400d8e6",
   "metadata": {},
   "outputs": [
    {
     "name": "stderr",
     "output_type": "stream",
     "text": [
      "[E rasterize_gl.cpp:121] OpenGL version reported as 4.6\n"
     ]
    },
    {
     "name": "stdout",
     "output_type": "stream",
     "text": [
      "Increasing frame buffer size to (width, height, depth) = (64, 32, 1024)\n"
     ]
    }
   ],
   "source": [
    "intrinsics = b.Intrinsics(\n",
    "    height=1,\n",
    "    width=50,\n",
    "    fx=10.0, fy=1.0,\n",
    "    cx=25.0, cy=0.0,\n",
    "    near=0.01, far=20.0\n",
    ")\n",
    "b.setup_renderer(intrinsics)"
   ]
  },
  {
   "cell_type": "code",
   "execution_count": 6,
   "id": "00c9ee51-8744-470b-aeac-59ccb04d0ca6",
   "metadata": {},
   "outputs": [
    {
     "name": "stdout",
     "output_type": "stream",
     "text": [
      "You can open the visualizer by visiting the following URL:\n",
      "http://127.0.0.1:7000/static/\n"
     ]
    }
   ],
   "source": [
    "b.setup_visualizer()"
   ]
  },
  {
   "cell_type": "code",
   "execution_count": 7,
   "id": "0a4a8491-6a12-48ee-87a0-563eef4f8ed3",
   "metadata": {},
   "outputs": [],
   "source": [
    "import trimesh"
   ]
  },
  {
   "cell_type": "code",
   "execution_count": 8,
   "id": "8f4023a3-9168-4ffa-ab1d-f19407bceea9",
   "metadata": {},
   "outputs": [
    {
     "name": "stdout",
     "output_type": "stream",
     "text": [
      "014e6d1cee6e6a1297a78f761fbc6700.json\n"
     ]
    },
    {
     "data": {
      "image/png": "[encoded data removed]"
     },
     "metadata": {},
     "output_type": "display_data"
    }
   ],
   "source": [
    "print(env_data[\"env_name\"])\n",
    "# print(data[\"paths\"]);\n",
    "# print(data[\"verts\"]);\n",
    "\n",
    "segs = jnp.array(env_data[\"segs\"])\n",
    "boxes = jnp.array(env_data[\"clutter_segs\"])\n",
    "path = jnp.array(env_data[\"paths\"][0]) \n",
    "# points = jnp.array(env_data[\"verts\"])\n",
    "# plt.plot(points[:,0],points[:,1])\n",
    "# paths = jnp.array(env_data[\"paths\"][0])\n",
    "# plt.plot(paths[:,0], paths[:,1])\n",
    "\n",
    "\n",
    "# -------------------\n",
    "plt.gca().set_aspect(1.0)\n",
    "plt.plot(segs[:,[0,2]].T, segs[:,[1,3]].T, c=\"C0\");\n",
    "for segs_ in boxes:\n",
    "    plt.plot(segs_[:,[0,2]].T, segs_[:,[1,3]].T, c=\"magenta\");\n",
    "plt.plot(path[:,0], path[:,1], c=\"C1\");"
   ]
  },
  {
   "cell_type": "code",
   "execution_count": 9,
   "id": "f668239b",
   "metadata": {},
   "outputs": [],
   "source": [
    "pieces = []\n",
    "\n",
    "for s in segs:\n",
    "    x = s[:2]\n",
    "    y = s[2:]\n",
    "    p = b.t3d.transform_from_pos(\n",
    "            jnp.concatenate([(x + y)/2 , jnp.array([0.])])\n",
    "    )\n",
    "\n",
    "    dimensions = np.array(jnp.concatenate([jnp.abs(x - y) , jnp.array([1.0])]))\n",
    "\n",
    "    piece = trimesh.creation.box(dimensions, p)\n",
    "\n",
    "    # print(\"==============================\")\n",
    "    # print(\"point_1 \", point_1)\n",
    "    # print(\"point_2 \", point_2)\n",
    "    # print(\"pose \", p)\n",
    "    # print(\"dimensions \", dimensions)\n",
    "    # print(piece.vertices)\n",
    "    pieces.append(piece)"
   ]
  },
  {
   "cell_type": "code",
   "execution_count": 10,
   "id": "78d7acce-be20-4df7-9723-b48616a76761",
   "metadata": {},
   "outputs": [],
   "source": [
    "final_mesh = trimesh.util.concatenate(pieces)\n",
    "b.show_trimesh(\"1\", final_mesh)"
   ]
  },
  {
   "cell_type": "code",
   "execution_count": 11,
   "id": "38d3d1cd-1597-459e-9bda-90306dd05204",
   "metadata": {},
   "outputs": [
    {
     "name": "stderr",
     "output_type": "stream",
     "text": [
      "[E rasterize_gl.cpp:121] OpenGL version reported as 4.6\n"
     ]
    },
    {
     "name": "stdout",
     "output_type": "stream",
     "text": [
      "Increasing frame buffer size to (width, height, depth) = (64, 32, 1024)\n"
     ]
    }
   ],
   "source": [
    "b.setup_renderer(intrinsics)\n",
    "b.RENDERER.add_mesh(final_mesh) "
   ]
  },
  {
   "cell_type": "code",
   "execution_count": 12,
   "id": "db1b6a2e-3dc5-4f02-b104-cae653a094bf",
   "metadata": {},
   "outputs": [],
   "source": [
    "pose_from_position = lambda p: b.t3d.transform_from_rot_and_pos(b.t3d.rotation_from_axis_angle(jnp.array([1.0, 0.0, 0.0]), -jnp.pi/2), jnp.concatenate([p, jnp.array([0.0])]))\n",
    "pose_sequence = jax.vmap(pose_from_position)(path)"
   ]
  },
  {
   "cell_type": "code",
   "execution_count": 13,
   "id": "0942f33b-7f00-4b21-9961-455e0982ff64",
   "metadata": {},
   "outputs": [],
   "source": [
    "b.show_pose(\"2\", pose_sequence[10])"
   ]
  },
  {
   "cell_type": "code",
   "execution_count": 34,
   "id": "379591cc-5d7e-4894-8dce-45b961760853",
   "metadata": {},
   "outputs": [
    {
     "data": {
      "text/html": [
       "<pre style=\"white-space:pre;overflow-x:auto;line-height:normal;font-family:Menlo,'DejaVu Sans Mono',consolas,'Courier New',monospace\"><span style=\"font-weight: bold\">(</span><span style=\"color: #008080; text-decoration-color: #008080; font-weight: bold\">1</span>, <span style=\"color: #008080; text-decoration-color: #008080; font-weight: bold\">50</span>, <span style=\"color: #008080; text-decoration-color: #008080; font-weight: bold\">4</span><span style=\"font-weight: bold\">)</span>\n",
       "</pre>\n"
      ],
      "text/plain": [
       "\u001b[1m(\u001b[0m\u001b[1;36m1\u001b[0m, \u001b[1;36m50\u001b[0m, \u001b[1;36m4\u001b[0m\u001b[1m)\u001b[0m\n"
      ]
     },
     "metadata": {},
     "output_type": "display_data"
    }
   ],
   "source": [
    "img = b.RENDERER.render_single_object(\n",
    "    b.t3d.inverse_pose(pose_sequence[10]), \n",
    "    jnp.int32(0) # index of mesh you want to render\n",
    ")\n",
    "img.shape"
   ]
  },
  {
   "cell_type": "code",
   "execution_count": 15,
   "id": "7f77f2f1-3044-4188-92c4-c2676e506470",
   "metadata": {},
   "outputs": [],
   "source": [
    "cloud = b.t3d.unproject_depth_jit(img[:,:,2], intrinsics)\n",
    "b.show_cloud(\"reproject\", b.t3d.apply_transform(cloud, pose_sequence[10]).reshape(-1,3))"
   ]
  },
  {
   "cell_type": "code",
   "execution_count": 36,
   "id": "b1785dfd-b374-451c-a33a-49655a0fde49",
   "metadata": {},
   "outputs": [
    {
     "data": {
      "text/html": [
       "<pre style=\"white-space:pre;overflow-x:auto;line-height:normal;font-family:Menlo,'DejaVu Sans Mono',consolas,'Courier New',monospace\"><span style=\"font-weight: bold\">[&lt;</span><span style=\"color: #ff00ff; text-decoration-color: #ff00ff; font-weight: bold\">matplotlib.lines.Line2D</span><span style=\"color: #000000; text-decoration-color: #000000\"> object at </span><span style=\"color: #008080; text-decoration-color: #008080; font-weight: bold\">0x7fdb306c2d30</span><span style=\"font-weight: bold\">&gt;]</span>\n",
       "</pre>\n"
      ],
      "text/plain": [
       "\u001b[1m[\u001b[0m\u001b[1m<\u001b[0m\u001b[1;95mmatplotlib.lines.Line2D\u001b[0m\u001b[39m object at \u001b[0m\u001b[1;36m0x7fdb306c2d30\u001b[0m\u001b[1m>\u001b[0m\u001b[1m]\u001b[0m\n"
      ]
     },
     "metadata": {},
     "output_type": "display_data"
    },
    {
     "data": {
      "image/png": "[encoded data removed]"
     },
     "metadata": {},
     "output_type": "display_data"
    }
   ],
   "source": [
    "# plt.imshow(img[0,:,:])\n",
    "plt.plot(img[0,:,0]) # x\n",
    "plt.plot(img[0,:,1]) # y\n",
    "plt.plot(img[0,:,2]) # z\n",
    "plt.plot(img[0,:,3]) # segmentation mask, 0 - hit nothing, 1 - idx 0, 2 - idx 1 , ... , i - idx i-1"
   ]
  },
  {
   "cell_type": "code",
   "execution_count": null,
   "id": "ccacc4a9",
   "metadata": {},
   "outputs": [],
   "source": [
    "jnp.swapaxes(img, 3,2)"
   ]
  },
  {
   "cell_type": "code",
   "execution_count": 37,
   "id": "da847cc8-9ed2-4e4f-a47d-87c20a218e5d",
   "metadata": {},
   "outputs": [
    {
     "name": "stderr",
     "output_type": "stream",
     "text": [
      "Clipping input data to the valid range for imshow with RGB data ([0..1] for floats or [0..255] for integers).\n"
     ]
    },
    {
     "name": "stdout",
     "output_type": "stream",
     "text": [
      "(1, 50, 4)\n"
     ]
    },
    {
     "data": {
      "image/png": "[encoded data removed]"
     },
     "metadata": {},
     "output_type": "display_data"
    }
   ],
   "source": [
    "img_ = jnp.stack([\n",
    "    img[:,:,0],\n",
    "    img[:,:,1],\n",
    "    img[:,:,3],\n",
    "    img[:,:,2],\n",
    "], axis=2)\n",
    "print(img_.shape)\n",
    "# plt.imshow(img_[:,:,:])\n",
    "plt.imshow(img[:,:,:])"
   ]
  },
  {
   "cell_type": "code",
   "execution_count": 38,
   "id": "24c7c61a",
   "metadata": {},
   "outputs": [],
   "source": [
    "import genjax\n",
    "from genjax import GenerativeFunction, ChoiceMap, Selection, trace\n",
    "\n",
    "# Pretty printing.\n",
    "console = genjax.pretty(width=80)\n",
    "\n",
    "# Reproducibility.\n",
    "key = jax.random.PRNGKey(314159)"
   ]
  },
  {
   "attachments": {},
   "cell_type": "markdown",
   "id": "3e609ee7",
   "metadata": {},
   "source": [
    "```julia\n",
    "#nbx\n",
    "# This works on GPU only\n",
    "@gen function sensor_model_GPU(p, segs, w, s_noise, outlier, outlier_vol, zmax=100.0)\n",
    "    segs_ = CuArray(stack(Vector.(segs)))\n",
    "    p_    = CuArray(Vector(p))\n",
    "    ps_   = reshape(p_, 1, 3)\n",
    "\n",
    "    zs_      = cast_cu(ps_, segs_; fov=_fov)\n",
    "    as_      = CuArray(_as)\n",
    "    y_tilde_ = get_2d_mixture_components(zs_, as_, w)[1,:,:,:]\n",
    "\n",
    "    x ~ sensordist_2dp3(y_tilde_, s_noise, outlier, outlier_vol)    \n",
    "    return x\n",
    "end;\n",
    "```"
   ]
  },
  {
   "attachments": {},
   "cell_type": "markdown",
   "id": "af62997f",
   "metadata": {},
   "source": [
    "```julia\n",
    "\"\"\"\n",
    "    u = control_prior_model(dx_noise=0.25, dhd_noise=45/360*2π)\n",
    "\n",
    "Prior over what action the agent will take next.\n",
    "\"\"\"\n",
    "@gen function control_prior_model(dx_noise=0.25, dhd_noise=45/360*2π)\n",
    "    dx  ~ diagnormal([0;0], [dx_noise, dx_noise])\n",
    "    dhd ~ normal(0, dhd_noise)\n",
    "    return Control(dx, dhd)\n",
    "end;\n",
    "\n",
    "\n",
    "\"\"\"\n",
    "    p = pose_prior_model(p::Union{Pose,Tuple}, x_noise=0.25, hd_noise=45.)\n",
    "\n",
    "Takes a pose or a bounding box and returns a pose sampled from a prior.\n",
    "\"\"\"\n",
    "@gen function pose_prior_model(p::Union{Pose,Tuple}, x_noise=0.25, hd_noise=45/360*2π)\n",
    "    # Todo: better signature would be to ask if p is pose or a bounding box\n",
    "    if typeof(p) == Pose\n",
    "        x  ~ diagnormal(p.x, [x_noise, x_noise])\n",
    "        hd ~ normal(p.hd, hd_noise)\n",
    "    else\n",
    "        x  ~ mvuniform(p...)\n",
    "        hd ~ uniform(0,2π)\n",
    "    end\n",
    "\n",
    "    return Pose(x, hd)\n",
    "end;\n",
    "\n",
    "\n",
    "\"\"\"\n",
    "    q = motion_model(p, u, x_noise, hd_noise)\n",
    "\n",
    "Sample a new pose `q` given the previous pose `p`, \n",
    "some control data `u = Control(dx, dhd)`, and noise levels\n",
    "`x_noise` and `hd_noise`.\n",
    "\"\"\"\n",
    "@gen function motion_model(p, u, x_noise, hd_noise)\n",
    "    dx, dhd = u.dx, u.dhd\n",
    "    x   ~ diagnormal(p.x  + dx , [x_noise, x_noise])\n",
    "    hd  ~ normal(p.hd + dhd, hd_noise)\n",
    "    return Pose(x, hd)\n",
    "end;\n",
    "\n",
    "\n",
    "#nbx\n",
    "@gen function slam_kernel(t, state, m, us, x_noise, hd_noise, w, s_noise, outlier, outlier_vol)\n",
    "    \n",
    "    p,_ = state\n",
    "    u = us[t]\n",
    "\n",
    "    p  = {:pose}   ~ motion_model(p, u, x_noise, hd_noise)\n",
    "    x  = {:sensor} ~ sensor_model(p, m, w, s_noise, outlier, outlier_vol)\n",
    "    \n",
    "    state = (p, x)\n",
    "return state\n",
    "end\n",
    "\n",
    "slam_chain = Gen.Unfold(slam_kernel)\n",
    "Gen.@load_generated_functions\n",
    "\n",
    "\n",
    "\n",
    "#nbx\n",
    "@gen (static) function static_slam_model(T, \n",
    "        m,\n",
    "        us, \n",
    "        p0, x0_noise, hd0_noise,  \n",
    "        x_noise, hd_noise, \n",
    "        w, s_noise, outlier, outlier_vol)\n",
    "    \n",
    "    # Start the Markov chain; \n",
    "    # No motion, just the prior\n",
    "    p  = { :pose   } ~ pose_prior_model(p0, x0_noise, hd0_noise)\n",
    "    x  = { :sensor } ~ sensor_model(p, m, w, s_noise, outlier, outlier_vol) # GPU accelerated\n",
    "    \n",
    "    # Unfold the MArkov chain\n",
    "    chain ~ slam_chain(T, (p, x), m, us, \n",
    "        x_noise, hd_noise, \n",
    "        w, s_noise, outlier, outlier_vol)\n",
    "    \n",
    "    return [(p,x);chain]\n",
    "end\n",
    "\n",
    "Gen.@load_generated_functions\n",
    "```"
   ]
  },
  {
   "cell_type": "code",
   "execution_count": 42,
   "id": "417d2c23",
   "metadata": {},
   "outputs": [],
   "source": [
    "from genjax.generative_functions.distributions import ExactDensity\n",
    "from dataclasses import dataclass\n",
    "\n",
    "@dataclass\n",
    "class ImageLikelihood(ExactDensity):\n",
    "    def sample(self, key, img, variance, outlier_prob, outlier_volume):\n",
    "        return img\n",
    "\n",
    "    def logpdf(self, image, s, variance, outlier_prob, outlier_volume):\n",
    "        return b.threedp3_likelihood(image, s, variance, outlier_prob, outlier_volume,5)\n",
    "\n",
    "image_likelihood = ImageLikelihood()"
   ]
  },
  {
   "attachments": {},
   "cell_type": "markdown",
   "id": "758544e3",
   "metadata": {},
   "source": [
    "```julia\n",
    "\"\"\"\n",
    "    u = control_prior_model(dx_noise=0.25, dhd_noise=45/360*2π)\n",
    "\n",
    "Prior over what action the agent will take next.\n",
    "\"\"\"\n",
    "@gen function control_prior_model(dx_noise=0.25, dhd_noise=45/360*2π)\n",
    "    dx  ~ diagnormal([0;0], [dx_noise, dx_noise])\n",
    "    dhd ~ normal(0, dhd_noise)\n",
    "    return Control(dx, dhd)\n",
    "end;\n",
    "```"
   ]
  },
  {
   "cell_type": "code",
   "execution_count": 50,
   "id": "aae68a1c",
   "metadata": {},
   "outputs": [
    {
     "name": "stdout",
     "output_type": "stream",
     "text": [
      "\u001b[0;31mSignature:\u001b[0m   \u001b[0mgenjax\u001b[0m\u001b[0;34m.\u001b[0m\u001b[0mgenerative_functions\u001b[0m\u001b[0;34m.\u001b[0m\u001b[0mdistributions\u001b[0m\u001b[0;34m.\u001b[0m\u001b[0mmv_normal\u001b[0m\u001b[0;34m(\u001b[0m\u001b[0;34m*\u001b[0m\u001b[0margs\u001b[0m\u001b[0;34m,\u001b[0m \u001b[0;34m**\u001b[0m\u001b[0mkwargs\u001b[0m\u001b[0;34m)\u001b[0m \u001b[0;34m->\u001b[0m \u001b[0mgenjax\u001b[0m\u001b[0;34m.\u001b[0m\u001b[0m_src\u001b[0m\u001b[0;34m.\u001b[0m\u001b[0mgenerative_functions\u001b[0m\u001b[0;34m.\u001b[0m\u001b[0mbuiltin\u001b[0m\u001b[0;34m.\u001b[0m\u001b[0mbuiltin_gen_fn\u001b[0m\u001b[0;34m.\u001b[0m\u001b[0mDeferredGenerativeFunctionCall\u001b[0m\u001b[0;34m\u001b[0m\u001b[0;34m\u001b[0m\u001b[0m\n",
      "\u001b[0;31mType:\u001b[0m        MultivariateNormal\n",
      "\u001b[0;31mString form:\u001b[0m MultivariateNormal()\n",
      "\u001b[0;31mFile:\u001b[0m        ~/genjax/src/genjax/_src/generative_functions/distributions/scipy/multivariate_normal.py\n",
      "\u001b[0;31mDocstring:\u001b[0m   MultivariateNormal()"
     ]
    }
   ],
   "source": [
    "?genjax.generative_functions.distributions.mv_normal"
   ]
  },
  {
   "cell_type": "code",
   "execution_count": 70,
   "id": "089337aa",
   "metadata": {},
   "outputs": [
    {
     "data": {
      "text/html": [
       "<pre style=\"white-space:pre;overflow-x:auto;line-height:normal;font-family:Menlo,'DejaVu Sans Mono',consolas,'Courier New',monospace\"></pre>\n"
      ],
      "text/plain": []
     },
     "metadata": {},
     "output_type": "display_data"
    },
    {
     "name": "stdout",
     "output_type": "stream",
     "text": [
      "```raw\n",
      "-0.62537825\n",
      "```\n"
     ]
    },
    {
     "data": {
      "text/html": [
       "<pre style=\"white-space:pre;overflow-x:auto;line-height:normal;font-family:Menlo,'DejaVu Sans Mono',consolas,'Courier New',monospace\"><span style=\"color: #800080; text-decoration-color: #800080; font-weight: bold\">Array</span><span style=\"font-weight: bold\">([</span><span style=\"color: #008080; text-decoration-color: #008080; font-weight: bold\">-0.49884072</span>,  <span style=\"color: #008080; text-decoration-color: #008080; font-weight: bold\">0.8985987</span> <span style=\"font-weight: bold\">]</span>, <span style=\"color: #808000; text-decoration-color: #808000\">dtype</span>=<span style=\"color: #800080; text-decoration-color: #800080\">float32</span><span style=\"font-weight: bold\">)</span>\n",
       "</pre>\n"
      ],
      "text/plain": [
       "\u001b[1;35mArray\u001b[0m\u001b[1m(\u001b[0m\u001b[1m[\u001b[0m\u001b[1;36m-0.49884072\u001b[0m,  \u001b[1;36m0.8985987\u001b[0m \u001b[1m]\u001b[0m, \u001b[33mdtype\u001b[0m=\u001b[35mfloat32\u001b[0m\u001b[1m)\u001b[0m\n"
      ]
     },
     "metadata": {},
     "output_type": "display_data"
    }
   ],
   "source": [
    "# normal = genjax.generative_functions.distributions.normal()\n",
    "# normal.sample(key, 0,1)\n",
    "# genjax.generative_functions.distributions.normal(key, 0,1)\n",
    "\n",
    "key = jax.random.PRNGKey(314159)\n",
    "v = genjax.normal.sample(key, 0.0, 1.0)\n",
    "print(console.render(v))\n",
    "\n",
    "genjax.mv_normal.sample(key, jnp.zeros(2), jnp.eye(2))"
   ]
  },
  {
   "cell_type": "code",
   "execution_count": 154,
   "id": "3f5dc785",
   "metadata": {},
   "outputs": [],
   "source": [
    "PI = jnp.pi\n",
    "TWO_PI = 2.0 * PI\n",
    "\n",
    "\n",
    "@genjax.gen\n",
    "def control_prior_model(dx_noise=0.25, dhd_noise=45/360*TWO_PI):\n",
    "    \n",
    "    dx  = genjax.mv_normal(jnp.zeros(2), jnp.eye(2)) @ \"dx\"\n",
    "    dhd = genjax.normal(jnp.zeros(2), jnp.eye(2)) @ \"dhd\"\n",
    "\n",
    "    return (dx, dhd)\n",
    "\n",
    "\n",
    "key, tr = control_prior_model.simulate(key, (0.25, 45/360*TWO_PI))\n",
    "\n"
   ]
  },
  {
   "cell_type": "code",
   "execution_count": 153,
   "id": "757c300b",
   "metadata": {},
   "outputs": [
    {
     "data": {
      "text/html": [
       "<pre style=\"white-space:pre;overflow-x:auto;line-height:normal;font-family:Menlo,'DejaVu Sans Mono',consolas,'Courier New',monospace\">\n",
       "<span style=\"font-weight: bold\">(</span>\n",
       "    <span style=\"color: #800080; text-decoration-color: #800080; font-weight: bold\">Array</span><span style=\"font-weight: bold\">([</span><span style=\"color: #008080; text-decoration-color: #008080; font-weight: bold\">14.579575</span>, <span style=\"color: #008080; text-decoration-color: #008080; font-weight: bold\">14.469172</span><span style=\"font-weight: bold\">]</span>, <span style=\"color: #808000; text-decoration-color: #808000\">dtype</span>=<span style=\"color: #800080; text-decoration-color: #800080\">float32</span><span style=\"font-weight: bold\">)</span>,\n",
       "    <span style=\"color: #800080; text-decoration-color: #800080; font-weight: bold\">Array</span><span style=\"font-weight: bold\">([</span><span style=\"color: #008080; text-decoration-color: #008080; font-weight: bold\">14.551785</span> , <span style=\"color: #008080; text-decoration-color: #008080; font-weight: bold\">14.469523</span> , <span style=\"color: #008080; text-decoration-color: #008080; font-weight: bold\">-2.2455373</span><span style=\"font-weight: bold\">]</span>, <span style=\"color: #808000; text-decoration-color: #808000\">dtype</span>=<span style=\"color: #800080; text-decoration-color: #800080\">float32</span><span style=\"font-weight: bold\">)</span>\n",
       "<span style=\"font-weight: bold\">)</span>\n",
       "</pre>\n"
      ],
      "text/plain": [
       "\n",
       "\u001b[1m(\u001b[0m\n",
       "    \u001b[1;35mArray\u001b[0m\u001b[1m(\u001b[0m\u001b[1m[\u001b[0m\u001b[1;36m14.579575\u001b[0m, \u001b[1;36m14.469172\u001b[0m\u001b[1m]\u001b[0m, \u001b[33mdtype\u001b[0m=\u001b[35mfloat32\u001b[0m\u001b[1m)\u001b[0m,\n",
       "    \u001b[1;35mArray\u001b[0m\u001b[1m(\u001b[0m\u001b[1m[\u001b[0m\u001b[1;36m14.551785\u001b[0m , \u001b[1;36m14.469523\u001b[0m , \u001b[1;36m-2.2455373\u001b[0m\u001b[1m]\u001b[0m, \u001b[33mdtype\u001b[0m=\u001b[35mfloat32\u001b[0m\u001b[1m)\u001b[0m\n",
       "\u001b[1m)\u001b[0m\n"
      ]
     },
     "metadata": {},
     "output_type": "display_data"
    }
   ],
   "source": [
    "@genjax.gen\n",
    "def motion_model(p, u, x_noise, hd_noise):\n",
    "    dx, dhd = u[:2],u[3]\n",
    "    \n",
    "    x  = genjax.mv_normal(p[:2] + dx, x_noise*jnp.eye(2)) @ \"x\"\n",
    "    hd = genjax.normal(p[3] + dhd, hd_noise)              @ \"hd\"\n",
    "\n",
    "    return jnp.array([x[0],x[1],hd])\n",
    "\n",
    "key, tr = motion_model.simulate(key, (ps[1], us[1], 0.001, 0.1/360*TWO_PI))\n",
    "tr[\"x\"], ps[2]"
   ]
  },
  {
   "cell_type": "code",
   "execution_count": 45,
   "id": "2b6ad828",
   "metadata": {},
   "outputs": [],
   "source": [
    "@genjax.gen\n",
    "def sensor(p, i=0):\n",
    "    variance      = genjax.distributions.tfp_uniform(0.00001, 0.1)   @ \"variance\"\n",
    "    outlier_prob  = genjax.distributions.tfp_uniform(0.00001, 0.001) @ \"outlier_prob\"\n",
    "    \n",
    "    img = b.RENDERER.render_single_object(b.t3d.inverse_pose(p), jnp.int32(i))\n",
    "    obs = image_likelihood(img, variance, outlier_prob, 100.0) @ \"image\"\n",
    "\n",
    "    return obs,"
   ]
  },
  {
   "cell_type": "code",
   "execution_count": 134,
   "id": "e4a3dde9",
   "metadata": {},
   "outputs": [
    {
     "name": "stdout",
     "output_type": "stream",
     "text": [
      "(50, 3) (49, 3)\n"
     ]
    }
   ],
   "source": [
    "xs   = path\n",
    "dxs  = xs[1:] - xs[:-1]\n",
    "hds  = jnp.arctan2(dxs[:,1], dxs[:,0])\n",
    "dhds = hds[1:] - hds[:-1]\n",
    "\n",
    "xs  = xs[:len(hds)]\n",
    "dxs = dxs[:len(dhds)]\n",
    "\n",
    "\n",
    "ps = jnp.concatenate([xs, hds[:,None]], axis=1)\n",
    "us = jnp.concatenate([dxs, dhds[:,None]], axis=1)\n",
    "\n",
    "print(ps.shape, us.shape)"
   ]
  },
  {
   "attachments": {},
   "cell_type": "markdown",
   "id": "d40e0da0",
   "metadata": {},
   "source": [
    "```julia\n",
    "        us[t-2]     us[t-1]\n",
    "         |           |\n",
    "...  --> ps[t-1] --> ps[t]\n",
    "         |           |\n",
    "        zs[t-1]     zs[t]\n",
    "         |          /\n",
    "        renderer \n",
    "```"
   ]
  },
  {
   "cell_type": "code",
   "execution_count": 97,
   "id": "d108b2e1",
   "metadata": {},
   "outputs": [
    {
     "data": {
      "text/html": [
       "<pre style=\"white-space:pre;overflow-x:auto;line-height:normal;font-family:Menlo,'DejaVu Sans Mono',consolas,'Courier New',monospace\"><span style=\"color: #800080; text-decoration-color: #800080; font-weight: bold\">Array</span><span style=\"font-weight: bold\">([</span> <span style=\"color: #008080; text-decoration-color: #008080; font-weight: bold\">0.000000e+00</span>,  <span style=\"color: #008080; text-decoration-color: #008080; font-weight: bold\">1.000000e+00</span>, <span style=\"color: #008080; text-decoration-color: #008080; font-weight: bold\">-4.371139e-08</span><span style=\"font-weight: bold\">]</span>, <span style=\"color: #808000; text-decoration-color: #808000\">dtype</span>=<span style=\"color: #800080; text-decoration-color: #800080\">float32</span><span style=\"font-weight: bold\">)</span>\n",
       "</pre>\n"
      ],
      "text/plain": [
       "\u001b[1;35mArray\u001b[0m\u001b[1m(\u001b[0m\u001b[1m[\u001b[0m \u001b[1;36m0.000000e+00\u001b[0m,  \u001b[1;36m1.000000e+00\u001b[0m, \u001b[1;36m-4.371139e-08\u001b[0m\u001b[1m]\u001b[0m, \u001b[33mdtype\u001b[0m=\u001b[35mfloat32\u001b[0m\u001b[1m)\u001b[0m\n"
      ]
     },
     "metadata": {},
     "output_type": "display_data"
    }
   ],
   "source": [
    "\n",
    "\n",
    "x = pose_sequence[0][:2,3]\n",
    "pose_sequence[0][:3,:3]@jnp.array([0.0, 0.0, 1.0])\n",
    "jnp.arctan"
   ]
  },
  {
   "cell_type": "code",
   "execution_count": null,
   "id": "c7dae36d",
   "metadata": {},
   "outputs": [],
   "source": [
    "pose_from_position_hd = lambda position, hd: b.t3d.transform_from_rot_and_pos(\n",
    "    b.t3d.rotation_from_axis_angle(jnp.array([0.0, 0.0, 1.0]), hd) @ b.t3d.rotation_from_axis_angle(jnp.array([1.0, 0.0, 0.0]), -jnp.pi/2),\n",
    "    jnp.concatenate([p, jnp.array([0.0])])\n",
    ")\n"
   ]
  },
  {
   "cell_type": "code",
   "execution_count": null,
   "id": "dac3bb49",
   "metadata": {},
   "outputs": [],
   "source": []
  }
 ],
 "metadata": {
  "kernelspec": {
   "display_name": "Python 3 (ipykernel)",
   "language": "python",
   "name": "python3"
  },
  "language_info": {
   "codemirror_mode": {
    "name": "ipython",
    "version": 3
   },
   "file_extension": ".py",
   "mimetype": "text/x-python",
   "name": "python",
   "nbconvert_exporter": "python",
   "pygments_lexer": "ipython3",
   "version": "3.8.17"
  }
 },
 "nbformat": 4,
 "nbformat_minor": 5
}
