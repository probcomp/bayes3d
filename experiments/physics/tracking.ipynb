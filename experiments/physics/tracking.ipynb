{
 "cells": [
  {
   "cell_type": "code",
   "execution_count": 1,
   "metadata": {},
   "outputs": [
    {
     "name": "stderr",
     "output_type": "stream",
     "text": [
      "/opt/conda/envs/bayes3d/lib/python3.9/site-packages/glfw/__init__.py:916: GLFWError: (65544) b'X11: The DISPLAY environment variable is missing'\n",
      "  warnings.warn(message, GLFWError)\n"
     ]
    }
   ],
   "source": [
    "import bayes3d as b\n",
    "import bayes3d.transforms_3d as t3d\n",
    "import numpy as np \n",
    "import jax.numpy as jnp\n",
    "import matplotlib.pyplot as plt\n",
    "import jax\n",
    "from jax.debug import print as jprint\n",
    "import physics_priors as p\n",
    "import pose_update as u\n",
    "import importlib\n",
    "importlib.reload(p)\n",
    "importlib.reload(u)\n",
    "import time\n",
    "import PIL.Image\n",
    "from math import sqrt\n",
    "import matplotlib\n",
    "import matplotlib.animation as animation\n",
    "import matplotlib.pyplot as plt\n",
    "from IPython.display import HTML\n",
    "import plotly.graph_objects as go\n",
    "%matplotlib inline \n"
   ]
  },
  {
   "cell_type": "code",
   "execution_count": 2,
   "metadata": {},
   "outputs": [],
   "source": [
    "def display_video(frames, framerate=30):\n",
    "    if type(frames[0]) == PIL.Image.Image:\n",
    "      frames = [np.array(frames[i]) for i in range(len(depths))]\n",
    "    height, width, _ = frames[0].shape\n",
    "    dpi = 70\n",
    "    orig_backend = matplotlib.get_backend()\n",
    "    matplotlib.use('Agg')  # Switch to headless 'Agg' to inhibit figure rendering.\n",
    "    fig, ax = plt.subplots(1, 1, figsize=(width / dpi, height / dpi), dpi=dpi)\n",
    "    matplotlib.use(orig_backend)  # Switch back to the original backend.\n",
    "    ax.set_axis_off()\n",
    "    ax.set_aspect('equal')\n",
    "    ax.set_position([0, 0, 1, 1])\n",
    "    im = ax.imshow(frames[0])\n",
    "    def update(frame):\n",
    "      im.set_data(frame)\n",
    "      return [im]\n",
    "    interval = 1000/framerate\n",
    "    anim = animation.FuncAnimation(fig=fig, func=update, frames=frames,\n",
    "                                   interval=interval, blit=True, repeat=False)\n",
    "    return HTML(anim.to_html5_video())"
   ]
  },
  {
   "cell_type": "code",
   "execution_count": 3,
   "metadata": {},
   "outputs": [],
   "source": [
    "intrinsics = b.Intrinsics(\n",
    "    height=360,\n",
    "    width=480,\n",
    "    fx=180*sqrt(3), fy=180*sqrt(3),\n",
    "    cx=240.0, cy=180.0,\n",
    "    near=0.1, far=100.0\n",
    ")\n",
    "# intrinsics = b.Intrinsics(\n",
    "#     height=300,\n",
    "#     width=300,\n",
    "#     fx=200.0, fy=200.0,\n",
    "#     cx=150.0, cy=150.0,\n",
    "#     near=0.001, far=6.0\n",
    "# )"
   ]
  },
  {
   "cell_type": "code",
   "execution_count": 4,
   "metadata": {},
   "outputs": [
    {
     "name": "stderr",
     "output_type": "stream",
     "text": [
      "[E rasterize_gl.cpp:121] OpenGL version reported as 4.6\n"
     ]
    },
    {
     "name": "stdout",
     "output_type": "stream",
     "text": [
      "Increasing frame buffer size to (width, height, depth) = (480, 384, 1024)\n"
     ]
    }
   ],
   "source": [
    "b.setup_renderer(intrinsics)\n",
    "# b.RENDERER.add_mesh_from_file(\"assets/cube.obj\",mesh_name=\"cube_0\", scaling_factor=0.5)"
   ]
  },
  {
   "cell_type": "code",
   "execution_count": 5,
   "metadata": {},
   "outputs": [
    {
     "name": "stderr",
     "output_type": "stream",
     "text": [
      "WARNING:trimesh:unable to load materials from: cube.mtl\n"
     ]
    },
    {
     "name": "stderr",
     "output_type": "stream",
     "text": [
      "WARNING:trimesh:unable to load materials from: plane.mtl\n"
     ]
    }
   ],
   "source": [
    "b.RENDERER.add_mesh_from_file(\"assets/cube.obj\",mesh_name=\"cube_0\", scaling_factor=[0.5,0.5,0.5])\n",
    "b.RENDERER.add_mesh_from_file(\"assets/plane.obj\",mesh_name=\"occluder\", scaling_factor=[0.0667,0.0667,0.0667])"
   ]
  },
  {
   "cell_type": "code",
   "execution_count": 6,
   "metadata": {},
   "outputs": [],
   "source": [
    "loaded_poses = np.load('scenario_test.npz')"
   ]
  },
  {
   "cell_type": "code",
   "execution_count": 7,
   "metadata": {},
   "outputs": [],
   "source": [
    "occ_pose = loaded_poses['occ']\n",
    "occ_pose[1:3] *= -1\n",
    "occ_pose = jnp.array(occ_pose)\n",
    "\n",
    "loaded_box_poses = loaded_poses['box']\n",
    "gt_poses = []\n",
    "occ_poses = []\n",
    "for i in range(loaded_box_poses.shape[0]):\n",
    "    pose = loaded_box_poses[i,...]\n",
    "    pose[1:3] *= -1 # convert to CV2 convention (bayes3d currently assumes input is in cv2 coordinate frame)\n",
    "    gt_poses.append(jnp.array(pose))\n",
    "    occ_poses.append(occ_pose)\n",
    "gt_poses = jnp.stack(gt_poses)\n",
    "occ_poses = jnp.stack(occ_poses)\n",
    "\n",
    "total_gt_poses = jnp.stack([gt_poses, occ_poses])\n",
    "\n",
    "# cv2 convention of cam pose\n",
    "cam_pose = loaded_poses['cam_pose']\n",
    "world2cam = np.linalg.inv(cam_pose)\n",
    "world2cam[1:3] *= -1\n",
    "world2cam = jnp.array(world2cam)\n",
    "cam_pose = jnp.linalg.inv(world2cam) "
   ]
  },
  {
   "cell_type": "code",
   "execution_count": 8,
   "metadata": {},
   "outputs": [],
   "source": [
    "# gt_images = jax.vmap(b.RENDERER.render_single_object, in_axes=(0, None))(gt_poses, jnp.int32(0))\n",
    "gt_images = b.RENDERER.render_multiobject_parallel(total_gt_poses, [0,1])\n",
    "\n",
    "# gt_images = jnp.stack([b.RENDERER.render_multiobject(\n",
    "#     jnp.array([gt_poses[i], occ_pose]),\n",
    "#     [0, 1]\n",
    "# ) for i in range(gt_poses.shape[0])])\n",
    "\n"
   ]
  },
  {
   "cell_type": "code",
   "execution_count": 9,
   "metadata": {},
   "outputs": [],
   "source": [
    "depths = [b.viz.get_depth_image(gt_images[i,:,:,2]) for i in range(gt_images.shape[0])]\n"
   ]
  },
  {
   "cell_type": "code",
   "execution_count": 10,
   "metadata": {},
   "outputs": [],
   "source": [
    "# proposals = jnp.einsum(\"ij,ajk->aik\", gt_poses[42], translation_deltas)\n",
    "# prop_renders = b.RENDERER.render_multiobject_parallel(jnp.stack([proposals, occ_poses_trans]), jnp.array([0,1]))\n",
    "# # scores = b.threedp3_likelihood_parallel(gt_images[42], prop_renders, 0.05, 0.1, 10**3, 3)\n",
    "# print(b.threedp3_likelihood(gt_images[42], prop_renders[103], 0.05, 0.1, 10**3, 3))"
   ]
  },
  {
   "cell_type": "code",
   "execution_count": 11,
   "metadata": {},
   "outputs": [
    {
     "data": {
      "text/html": [
       "<video width=\"480\" height=\"360\" controls autoplay>\n",
       "  <source type=\"video/mp4\" src=\"data:video/mp4;base64,AAAAHGZ0eXBNNFYgAAACAGlzb21pc28yYXZjMQAAAAhmcmVlAAAky21kYXQAAAKvBgX//6vcRem9\n",
       "5tlIt5Ys2CDZI+7veDI2NCAtIGNvcmUgMTU1IHIyOTE3IDBhODRkOTggLSBILjI2NC9NUEVHLTQg\n",
       "QVZDIGNvZGVjIC0gQ29weWxlZnQgMjAwMy0yMDE4IC0gaHR0cDovL3d3dy52aWRlb2xhbi5vcmcv\n",
       "eDI2NC5odG1sIC0gb3B0aW9uczogY2FiYWM9MSByZWY9MyBkZWJsb2NrPTE6MDowIGFuYWx5c2U9\n",
       "MHgzOjB4MTEzIG1lPWhleCBzdWJtZT03IHBzeT0xIHBzeV9yZD0xLjAwOjAuMDAgbWl4ZWRfcmVm\n",
       "PTEgbWVfcmFuZ2U9MTYgY2hyb21hX21lPTEgdHJlbGxpcz0xIDh4OGRjdD0xIGNxbT0wIGRlYWR6\n",
       "b25lPTIxLDExIGZhc3RfcHNraXA9MSBjaHJvbWFfcXBfb2Zmc2V0PS0yIHRocmVhZHM9MTEgbG9v\n",
       "a2FoZWFkX3RocmVhZHM9MSBzbGljZWRfdGhyZWFkcz0wIG5yPTAgZGVjaW1hdGU9MSBpbnRlcmxh\n",
       "Y2VkPTAgYmx1cmF5X2NvbXBhdD0wIGNvbnN0cmFpbmVkX2ludHJhPTAgYmZyYW1lcz0zIGJfcHly\n",
       "YW1pZD0yIGJfYWRhcHQ9MSBiX2JpYXM9MCBkaXJlY3Q9MSB3ZWlnaHRiPTEgb3Blbl9nb3A9MCB3\n",
       "ZWlnaHRwPTIga2V5aW50PTI1MCBrZXlpbnRfbWluPTI1IHNjZW5lY3V0PTQwIGludHJhX3JlZnJl\n",
       "c2g9MCByY19sb29rYWhlYWQ9NDAgcmM9Y3JmIG1idHJlZT0xIGNyZj0yMy4wIHFjb21wPTAuNjAg\n",
       "cXBtaW49MCBxcG1heD02OSBxcHN0ZXA9NCBpcF9yYXRpbz0xLjQwIGFxPTE6MS4wMACAAAADYWWI\n",
       "hAA3//7hA/gU1pIeYk/hTgbJXLkbcSl0zZ85AYj10FcQRgAAAwAAAwBf75kImJZUYeBrSkJvCpcC\n",
       "D7ZHkYGgxE7QlrtIaVtJbdCzEb3iDCu5Nda8550Tsn6BoK2VlWyfeeS+MyzzXPkoUfJfEKV1H5Ep\n",
       "AADjgLR7au1P2iYtgxE9ReSXWbxfkm4DNwiu4hYdd8v8UfLNCWSGSedRLirpNQpfy4J2qIOAQBFl\n",
       "rZ0iFwHPaYaiI8NOcef3GtDpYVORIJGCOnnlrBdSpIx8Q7NBfh2cNarmmLhZALKne+BZPsmDeMlT\n",
       "MarKR98ZTzi7o5NS/xGcvafHrBgShs5bgu95+9luoSPeYpsUKlzWwJvPX66iE8ACGsqNC2L7Ez0T\n",
       "0I8zEmQICaUNRqtetwLfzxjzl+n1ELTOkhi+7vS6ctjkW9ovntWc6Ws44R/+4am77BaEjKxQ5zER\n",
       "86kO+m19Eo9sVn9VbgQ+j4Nsx4KU9H9RPQylSQw0G4b60SA+kL3j4TpGImETFKxfcNVdI03PJmMd\n",
       "/AmSPdfQgvvw/0jCcdP+A4gTkRjJsYXvDrms26H2UJVSk42o30Hnea1eaSVKL5JT326dyscTmxj+\n",
       "JVMvqTKbny16TlbkqdkBaWW+XTPZj3TwcwBPtwbKCNp+lQPEIOPUnA4YdRbR112pXLnKegiiBrE5\n",
       "35hxS5MRkszoGZh7v1DKlXxKueNoFYlWtbuLN0L9t7t01PGslxf4Eli7/4ifSx5oQwV8FElk5ha0\n",
       "dhG9CaNa8dMlinrHj+z3q1kOeQKNFyEswbXL3yWP81MYJFx8ym/D3P9c8k8OI5r2DEfd8JJxzM76\n",
       "eB/5F9N285rhF4JIabi9ZAUvBBN7uXBj4OLGx7MiIOai90D/u3xpgGFgNPvq7p6iuCK7pkmjhXgp\n",
       "1Nqd+ctbcdHFWm819X4O037Mk1UanomtfizCVHyWy9tPpxaTb0Jbs2zgBRNj/bZWjuq5HCDh3pI0\n",
       "MjA/wVpEiZe3DRQx6tVHWekwXptxncJuDSwcIszDLfCz+9lGOe+7vNAcsknfKArfdn/7BgO6dpw0\n",
       "q3OXA3v/3Kdle1tv8ryo3pA5sQucHDFVLzxcgfl42MjkxrsN0Us0U8ycIQIPoEAmAAADAAADAAAD\n",
       "AAADAAADA9MAAACoQZokbEN//qeEAHEjVTVZRsp72TET3/EARDT86X58MVNSI+P6/+1fMsI476Ga\n",
       "HHaxK+zP2TUR00UpPKRKfX/rLL8WaMf8+VsbAlMN7TYcNy1putwebOTbjPQBjYrnDj7nT5imlpnT\n",
       "XJrumxP3HpQGNc2tEawk/aBVXWGs9aU8pRgHgyJ5KLnsHu9IM45EznUMecQ+hv5xMAmVc1ubImhI\n",
       "XcDyHb3+/diAAAAAtEGeQniFfwAG6H8wh9wART5aUAlTdQnSdytHL6IagG/POwdJUqjft9hfjoqr\n",
       "ZMX3rHK71iZwKwWenbgHOJZ8oohpY10L5ZXjtQCM1Mov8icIOpMHjzDs9O1GHeXkod3W+AM5qRHE\n",
       "5GE7QYCKkJJkAgUK6vmk4K4GT5ea2y8JxznIEA6DrCVonrjG0NTFisk6yiUc5k+np4QgSNC2mzqa\n",
       "M7ssO5hs9zMWwktwOHPMSw1pV2sCDwAAAJ8BnmF0Qn8ACO2FCAUC+/QYn/26TsD6HAPoo8zqGb9N\n",
       "dwMwCsvcRzkdn+6kKckkUvwaQWYvELhGUMWjHr1TF0VXclyCzGIqqkOFQFkx1T/aCGdGsjv0fMlh\n",
       "6cuH/bxsRXb/E7QyMBNRZypBFyujpvx7mAzmyWV/Sh2vLrpuPB0d2mVfFDS5DemhJnvQAe+VdgW3\n",
       "D21Ryia4L6nUAF5WA+YAAACBAZ5jakJ/AAjsJOx8AVuy26TNnfVoxRxecu71Te0s+eBRbYKLnG6J\n",
       "XPx0FMNnzHvZAEQSDRw8dqqaGPk4Slo/TFfSUaUvba3DQYwYGxefulMpUyyqKGd3ejNFoU+o2xRD\n",
       "AFgYzsdjnoDutHa/NQ+kJ/4cvWYI+gXaY838t1hhx4Z9AAAAqkGaaEmoQWiZTAhv//6nhAAIN8jV\n",
       "vCcHD0zz/tXEALch8oPRnCBvK+0b4SeOsT8FrcwJz9p+e7bBJ1nXuHjqNsRx2aV6Necdn3xc3udC\n",
       "l9Nr+IBlwRdy3VjQuCVyLdIqayZyqE499+W7mz2osCBewfgpxFdH1UpZT8J6vei85/wNqUNAVjvD\n",
       "mjYMSkCcABKH8In+CzKg6CJXoEFS58Ymr+v191rojKTJmYo7AAAAn0GehkURLCv/AAbAfy/B36y+\n",
       "MLdagCp63sCZutfp39s3rnxDnsEahApbGmHC8xbdu+q7dZJ/d0k/Kj4UWE37Ukaw6KXHPJBPbd2e\n",
       "SUx+Nvr/BAK1xpkduewPkKHLjDnnsvnvtU2AHX96cwG4e/p6lxLdal1rK1aMz1zT0jMz8N60Vd8j\n",
       "/YBaukUNjaDALVrK8zZStaqjoA9BOzk7KChswQAAAIoBnqV0Qn8ACKtOsQAK0ox0yR+Fy/z1/qaS\n",
       "cbczf7Hv4KHUE92xVKrQo+RnutJ3/7BRTWBRyC3Q1zixY8oW5JJDxsHceMsNHGI6LSN2vlf7NafF\n",
       "+YWVRTwHaV3qVr0umE8pyuGE3mPEAhC5MccDFPer2B3SakYSo66+TkzYZZiFlmgw7Tq0D7zFBg0A\n",
       "AABmAZ6nakJ/AAhuar8h/wBWviDnb4zPPMVuzlCyd6J4N5HdqHr/3/QHvfx3TlHK+T+QH4c3vrZs\n",
       "lkZ3tqN9PtubHfVObFCxred8UsJL3PgdMYMm8DnnvyetCon/hOpjjcdS7yRgShgwAAAAmUGarEmo\n",
       "QWyZTAhv//6nhAAHy9k4jCAC3/V5l4K1qfY/j1z5pRgKz3whxCs5owhVwLJxq1o2fEovKzUtjpfW\n",
       "ef9a4pMX1kcgbO4uT0kly+cyyBA/nnB81ZXNA7sMGYGvELmQJn5/9Gt1TLHb6V0sJ7jB04hSLqaZ\n",
       "z/SJRdxGMBubGeOZBb7TiAdnfo3HHGR8xcdjcJVcirSRcAAAAH1BnspFFSwr/wAGcZoe6YAqLivq\n",
       "29hFV1hafseTz1J8c8LGmY+QMg4NpkMqVatliVVVDzk5ZhIhnVyfdKb2es24nCN/AKbc5MmZptuc\n",
       "B+pvvta3mJgHXfAHaFDLMOU2VkXTOS6jdX6GbmSD+JXUHgpYxGdFF4oMCNIvgZBDwQAAAFEBnul0\n",
       "Qn8ADzTKFeH8NSF7oAieTNgUyHfcB/hvfW+rq3TWYT3VsvR0rqQPbv2z2PGuUUfDLkYoehJK5qQP\n",
       "PbT1wbAXzskR3y4YyjYZlUXVDegAAAByAZ7rakJ/AA8wTAY7T0/u4NJgBP4DMw0UdDIJWB6Iw2hv\n",
       "c8kY9bfLAkyyo/rLSUGMfbRyWf+aFmVziwn2CjHfzbpKCLGLCfpxGqW8ZzEbYQ8Ei/2L/+ftfVzo\n",
       "P5A3NEY6JeqmSarZYltTl41NXUdq8D/AAAAAWEGa8EmoQWyZTAhv//6nhAAHy9lPwJFfvNAAb+Ex\n",
       "YjvxP8bpg2+qjMhnlYO8ZW+XP8fjUgMUrhmp4CnKqFBvbpCOxiEHW5y2VPv3sidErvSi/TO5ab92\n",
       "FnEAAABAQZ8ORRUsK/8ABkgSrCMAQHQjIJyX3VeZZzu25mnI4ObJKYrP5YMrNVRenuxBkM5HEnO0\n",
       "gvoDgYUgY+g5S6hjQQAAADkBny10Qn8AB9n9AAClPhdH0gf+WiVzbYGMEJ/B1F9ZnBSzpI036Vqs\n",
       "NoKeltbGWbU19d3nwqXoEnEAAABPAZ8vakJ/AAfwHN1PjuwL/0zAJdurRsKSZAZY/26Qer6GxOMC\n",
       "c+GtGwVnCkc/TpbOGpqi8MD9Ly2T/4ye2FAIcFUfYa1DLsRhlSEh/N8G9AAAADhBmzRJqEFsmUwI\n",
       "b//+p4QAB3PxoiSPwmD01HenXRWDqDtur0hjk9JJWWboQ2XiS2RfGbN+sEGCHgAAAF5Bn1JFFSwr\n",
       "/wAGIJlgBN50xbgyeY2+wW5YxrR6J2/V/ts6ndCncohH/eS8T35UnBukj/NY23CszvcH5rP7325N\n",
       "XQy1Gl+hXMHdHvVKbj91IRModKjykBKMc+ei4oPnAAAAPgGfcXRCfwAHxeAxQAEC7KCxGObOZHae\n",
       "MvKNAE9fV3MoWMIEI77eJ0Z8Xudri4fL7NmM8OqeEC/fMoDHIhZQAAAAXwGfc2pCfwAHyM+6X9Bz\n",
       "7A1lshADSVLLj23NDDw7rnRQzN5LBEFEAU4qQEm86ZXyeFeCwYi7cOzPTm4yarcHU00nxMa7L0ET\n",
       "jncdHVjUPJ6wHDP8/MILzYrU+0ytAuGLAAAAKkGbeEmoQWyZTAhv//6nhAAHR9k3/J6t12l1mU5o\n",
       "rv/fLTwL4BWhUADKgQAAAEBBn5ZFFSwr/wAF+IE1p2+pjvZZ5oAKsrlGFk26ID2JMpepzQfWMOFj\n",
       "XN7GPszaLj/MexzHZCJXUbSQHpqDUHTAAAAAMgGftXRCfwAHmd8XBGVqxypQvIoAE5D6z6ihHe9H\n",
       "aBzYNgDmCkhLugxkGS8ys5YxnYO7AAAAKgGft2pCfwAHbZ2mHsD/2luNYIAAUs4NeTTOkWoCwnYH\n",
       "jmt2yJTeuJA4IQAAAClBm7xJqEFsmUwIb//+p4QABxvZOf16aXS6so0JrRZGaWkAYBvcYQAM+AAA\n",
       "AFNBn9pFFSwr/wAF0aOy1AFTs1dpABDqVvsLeJSI5yBwhDSuSM43DZJpl6l6S0iT51b/cMn74lyL\n",
       "ZZ3xX8H/kw+yEPnaOiZuWYt4kwK0RUb84zwNuQAAACsBn/l0Qn8AB23ejA0IfO8NQAGmkYkBBPAa\n",
       "K6nfJSfoIO66JYKe2kze2BtwAAAAQAGf+2pCfwAHQZ/noACMFOI71noRgI7ejct/UFaYTqgBH89C\n",
       "hO87p/O7ODi8uQBYf0PGADWTOZ6geoxvxw0IHNEAAAB7QZvgSahBbJlMCG///qeEAAbvXqtULVoR\n",
       "+EIcgkJHjwaQY7lqciD6EyBdS+3an0Od6JlSGyBjKH5P+eqIr2qK2KCiGUP6c4nOebrDuRPnFqhX\n",
       "uTkl1t26MLxu3jYEVEWKpxOVPfscRuMdFBwvC6jzdQXMTrb47mZUAAalAAAAJUGeHkUVLCv/AAWr\n",
       "t3p49DYbnuIATkV2fyfv9BNavHJPCMgpgtoAAAAsAZ49dEJ/AAc/ehAGts3moL8W8bAzC5+HfRaV\n",
       "mJhh4NiNyYI2vQyHeNX5IU0AAAAMAZ4/akJ/AAADAAK3AAAAGEGaJEmoQWyZTAhv//6nhAAG5tQt\n",
       "4ACpgAAAAA5BnkJFFSwr/wAAAwACDwAAAAwBnmF0Qn8AAAMAArYAAAAMAZ5jakJ/AAADAAK3AAAA\n",
       "FUGaaEmoQWyZTAhv//6nhAAAAwACkwAAAA5BnoZFFSwr/wAAAwACDwAAAAwBnqV0Qn8AAAMAArcA\n",
       "AAAMAZ6nakJ/AAADAAK2AAAAFUGarEmoQWyZTAhv//6nhAAAAwACkgAAAA5BnspFFSwr/wAAAwAC\n",
       "DwAAAAwBnul0Qn8AAAMAArYAAAAMAZ7rakJ/AAADAAK2AAAAFUGa8EmoQWyZTAhv//6nhAAAAwAC\n",
       "kwAAAA5Bnw5FFSwr/wAAAwACDwAAAAwBny10Qn8AAAMAArcAAAAMAZ8vakJ/AAADAAK2AAAAhEGb\n",
       "NEmoQWyZTAhv//6nhAAFPouG74ygAzsgnMG7rFlBIQcsPlacosTg/zqpHZoOdm8GRXkMM9T9RD6m\n",
       "LRf3TCQUZmdMteGhTBhwkz24JYA2U0sfbEVyZOwKcvoc1tkcKJfzGlcYL54BBibVyuRDMQmX/jYt\n",
       "6OhtnsQovCzAkGqc0GYR8AAAABlBn1JFFSwr/wAEN1+nroloQ8WEIPpCLoVtAAAADgGfcXRCfwAB\n",
       "LWpCgJOAAAAAUQGfc2pCfwAFjVaAHJ8tPDG8uur/nAtwlct4PNj3ISG8V2fFKCquXocSbaBU3eh3\n",
       "O1J3KuKq5zfSTjXFO+YKirXMU/U64JUu2VTBA+OSrwQ9IAAAAKZBm3hJqEFsmUwIb//+p4QABUd/\n",
       "0mz8AOSBKmJgADucisBVwzABwmnA8u5OprqesQdtG5Y5k7iJRodiHqT6NoQDn+BZs/U31nW8WOKN\n",
       "e4+uFFjw0TnjkhheK4l+bbG/TYHAj/9QffNvi1TEbJKc5CHeaw6crinnorvoxjUkRJX0/KwBK0iG\n",
       "8L7PHJMk9ljdOe/AKDKY/SQOglm1+G+hDLVXOnbjxg2ZAAAAW0GflkUVLCv/AAjuwEmLU4gCqPc9\n",
       "pWEKVYht/Vc0inzziGWSLuoG1pp95RWjlzfkVnS08TfLrYSRA8EfyJXDu+zU2Ui/p2pdh5MWuXUs\n",
       "GjZtHvNl9Pi5jOmKFJAAAABSAZ+1dEJ/AAWvS1/gCt7nOvnb87PcMqBpCGh2Q4LIxzW62EhreZns\n",
       "SY5vraxLI+RVDXK5Gx5DYtj4f+3q9Xa57bfdVNsi0lOliOiThETOF2gtoQAAAEkBn7dqQn8ABa/M\n",
       "vxYQBXuSobI1bO7E87m4U8zLFagfnSEyk/m46CIPIqRRvsOppgej81Yc4njiMN6Qn7EUj/Fs1upv\n",
       "SfdoSEGfAAAAX0GbvEmoQWyZTAhv//6nhAAFa94Vu4nwAz0vbLPXGhpULl0+nBMo/19XWFsPXZQh\n",
       "pyEkdWW78LGMFkE4zbE/AdRXXyiziKXQwRdm8EmEEb841uVbQtjKKS7V/TPN0If4AAAAYEGf2kUV\n",
       "LCv/AAjwZo+i45LuBuX4toA5kO/uvUajEUKqYP4TjE4QgPEbVSVc81PUOZPC8sV8OVhsE5A2GJBZ\n",
       "oqxTa6Ha30kVo1sBrOyQG3vUzGerO4cZmti6+KTWnOBlQQAAAEcBn/l0Qn8ABa0dSzdjAAFLM2+H\n",
       "Tw4DcgF/Ru0GAdQx26jGMCGhrYQcSocOrGCSPL9nneIpTHQxmR2ZWLtQ0ua5/oGonkQ9YAAAAD8B\n",
       "n/tqQn8AC6W/gECWIAA23VtxI9NWJQssthZG9zockFFct3se8T+e7I/H1CIDPg8SzUZ/6eaQiKT/\n",
       "EcPQPCEAAABiQZvgSahBbJlMCG///qeEAAT/kMmdiAZrgDqcy/PQqakm1VlmPKT0cc2vEUM7NtQN\n",
       "rBGb9vG/FTtiKRTbrkduvu9qBjMfv6iexIxfsM82ne8bd+/mVHUitUNs+cLjbutHAV8AAABlQZ4e\n",
       "RRUsK/8ACPBmhwEagDhvpdpj1DXKrGBkWagYFn1eQ5OWjF66yYq6h2jLNhcsfL0yZB0LSKmobWcW\n",
       "Pg2rQ5Vj+ZwkA3IdU1dhwERb2bCbaPPeZxpjVNLDWOJbx7yiSCqwz4AAAAA8AZ49dEJ/AAuiMvvG\n",
       "x2pEXsPAFcna3bMYxJaEdkktOa1nbz2fQV13/+NxBXmLj0fRbSzB4EhOVhj5WFtAAAAAUAGeP2pC\n",
       "fwALpcCb+MyYA1EfWoSatnOITycE6bpWh+bbuYIouPGZZc8FWJdv2oSkKZHyFj/nyz4OgP0YO9aO\n",
       "xfrGZmUusqrTRlGM8fYV+IGBAAAATkGaJEmoQWyZTAhv//6nhAAE1HzPSmqguAKs8DgEXBkjQckA\n",
       "D5OAObvElPYM+PClhI+xKaZXN0pj8dKcEUOUM/EIoz9KComiaO4/+KYGVAAAAGxBnkJFFSwr/wAI\n",
       "8GaFwRqAODgmL8x3F7DWm/ivfbQAbl1J2Ur7LbxWCObhwuqLIfXytX50rxMGTlOcWcowCH3vEHnK\n",
       "GVoYG0oU3vZPiwqnyVIt7J+FRNxe35CT5vvN/0LAjHa9MJ7KvMdzAR8AAABEAZ5hdEJ/AAuiMvZH\n",
       "LStAEO+PrLyNRxQxcYzL8sf+6Ru82bl7wEFuvt54v+YS25jPnrsoRfz2q6bp2jD7kWExqXpwC2gA\n",
       "AABdAZ5jakJ/AAulwJb4zJgDeNg+GNoxJsiQjqrjxy730W6dl9pj3MX/cdP6WpnmErbF/VjyYglZ\n",
       "fOMK5U1meYSAsV3orMfQqPMcXBe2WbuhE0CCGw2QB7Blm51ZEGLBAAAAjEGaaEmoQWyZTAhv//6n\n",
       "hAAFQfT8vwAC21X4hfELEZ9dga+m6JPFJDXU5ffPBTfb2WL+zGxuLgLW2NlApcXTgfPZNr7hlelY\n",
       "WBjcUzLup7CUS5dDDDnNfPfasbrJG8kvCp/lSMzuUlHEIliIC8sv6yd4Z2PeyVXFVXl07wk25yw/\n",
       "Mf7YnnQ+JJ5iQIJHAAAAcEGehkUVLCv/AAjwZo/QtEmCAOE+hH2xypXdaBIUbHaW0xvsexKXOsts\n",
       "3iS4XcEGspaL6adHkFJyLnj33hpy6tDNzP5uMYTv9uXUcwnmhOc8UHHc4v3cKU9Ikvik6CUF8S7a\n",
       "H3XkAvOoG3WQcLg0DekAAABBAZ6ldEJ/AAuiMvDd7htAEO+Ptn9GnlAgRsT43S1JSmsT4HTBCVA2\n",
       "s7cSEfV6NKdd81FmMiuM6Rpwgp2cDFLQVMEAAABsAZ6nakJ/AAulwL9NIlwbgByfLSP1puJdXCw2\n",
       "YhGlBGe7SzjlSsnYeBOhpMHjlh4eOSD29di94FP1Az3uOLa0o5CrYnjbim97pkWjB3CBw24JXGF4\n",
       "H6Q2J4SOLglu6Mqg/h8trgNn3HRFeGVAAAAA3UGarEmoQWyZTAhv//6nhAAFa94TYpEAQf6L2E+g\n",
       "EZ1mZLOnksUd5d8TqFzmYkvuDD0VmMOdHosxLSlPOplgDn9XdUs8raMP3gDrF6+YzEcWib/snGCW\n",
       "fNY9/G0GZb1dl9bzynrl/GNJXDwOiV4hB+8NmT01HRO8D7O6W2iTEB17qPLuZfbHHeoWrfhvTY+v\n",
       "GE35DABVEimJ+folu/qYjhc1zWShZ3oIrfhG7W0eOkLynaRPOSM5gCvKPLcIF7c0e9q32DDSVjhq\n",
       "Dpr1rVzRC3H08E5jweLcnECX5qM+AAAAgUGeykUVLCv/AAjwZo+h1JgCMebSwFud/W1xJlUyeSk3\n",
       "0iNwKvj6gPPIE4WucLxg7HdMbAGdATa+DBo1sqzVfe4+2k9bulAQ/XqUjYTVXP+BgHLi+qIj2VAh\n",
       "5TVB6oHJ0towr4YMzD+C3+QxjK0fUBNBKZ0byh3LcyESNosdFwyDZwAAAGsBnul0Qn8AC6IzInqp\n",
       "tMMARnZzQLfZHOr3cTlQVQwiGsL1IO80vx/BPyFWHa4L4LiCdqmYVECbAXo/jtwmGplyOj+3rj3R\n",
       "8uzulNSFFGqf8fz4ttMFyOLmsTw4omYvL5oifUSkk4H8VLiRgAAAAIwBnutqQn8AC6XAvkQ9QAsW\n",
       "GoNUAU6sfXK5QmdmBY/I8Z+J+NwcAs1bSTavlq7Gh7YXfprHjzgqebGdTBmgM36bHKadpQ7MQ6Mq\n",
       "7vKM8q69+L9jp4xFL1Vcs+NuDcqlWWSCMlTPSUooijVnzfnQ8s7U42Inm7JfvxR44q7NIqezRM3i\n",
       "Zxh79s9T4f0EnAAAALJBmvBJqEFsmUwIb//+p4QABT5y5G9hcb1py/AAFT3YCLGqyPaiugGsHTF+\n",
       "CrAF6lCZ5a4Nt9jh7PmEcsruYStpGpMVBpmKNrz6ka9/88cKIyYoE8xpF016OPI/joOg0/oyypT4\n",
       "cEc3pDD0mmB2xnvfj8w0455VLFdqsx2mZWt/KcjIhP6f7K2RS3NOVeH64g1DQMrhtrQ4nlPUsafY\n",
       "bKNXN7TZvdsetH5B7Bal4szKXJVJAAAAh0GfDkUVLCv/AAjwZos8jsAHGqO501ZeaWLXpD8uzQDG\n",
       "oPJDI4b09wmdBYalJj2h+LxOBNhJffxPoFYdQ6ms/AkHVe+xvkThEnq9I3m9vo5KSK0NCGo2Byhy\n",
       "0cT4QCvg/Ea/FtVgh3x7TMNaAdPYEFQL02fKNYYxh0u5AZYwxChWyv1dL4BywQAAAGYBny10Qn8A\n",
       "C6IzEL4AEHQZgROxRe9S4kBN4i8Likr21dO3d4ihwzY9LCOd/6HSG8rs+5QS70JMmDftXwgQamor\n",
       "BeStRj/DFKvEScwcmVphwrD2eaBp4u9zMgwGQ6ovzpG/DtwAl4EAAABnAZ8vakJ/AAulv5ngMIjf\n",
       "nAeyS/TMBW6TA0qiOJLpv1xQlDsO8E8q3Al1Jus32j+ZxzA4kkBy93qp8KDih665oKGAaOkuhOHy\n",
       "lKTpjrQsEzKwyRpTwUyRii0HLCeW/K24itBY+E1GLAAAAJ1BmzRJqEFsmUwIZ//+nhAAE/5l0Mxj\n",
       "udiDISgByJOJp6X+0ptgbUqv1qyGASJbHLINbN3wKSJbYw634Whd/mnauoSwbOqiQ/cE8uDtk+YR\n",
       "OoRV/KfGVVZDeAu6WQ6ZJT7iOh27txJzig/ZWZEv9Lkgf/MizGs9+SGNDXWUhlyNs3N9rpMi0xvj\n",
       "canbz96d5+d0KEJQDz2Td9ujK+6AAAAAhEGfUkUVLCv/AAQWWWADkTeu7IsldN+BNTCGqzMgLCAX\n",
       "VwSeW2vihgHZ6f/Saj63swaEWmvwYGC4b/w9lSZk/Gy92IBDMmsby/j/DaY4+C3pAYftb3WMuIfY\n",
       "tBIK5ijYx3sOjckrUPzLZjyDYS76PaB11W9h2YcX8qhLthL2B2Ab5XgUUQAAAGMBn3F0Qn8ABWlW\n",
       "gBYIGnPchvbpqXvYrmT3FxxGkmdPfVZ6vOzdf2pGjbPr76//7UC9RqFjCd2ta2tn5UqkYiiWlk9i\n",
       "IIVSh10glK0ujKEaOCvFH5Cb72E88PCBRmiyCT2YA1IAAABmAZ9zakJ/AAVpVoA1qSJTtLFD9JLI\n",
       "rlFiLS6vR2QeiFWHUoR8F8rGhIVwjQEwFT4tiVPqdeDpuY5U2gIFx77MidRkGooSFrinP5GDWytZ\n",
       "KbFVE8iKcWZzdI6TFKcoyI1uddGxK8IWAAAAe0GbeEmoQWyZTAhX//44QABLPUefmGaljAAbN9Lt\n",
       "P0+tDLPBJzJgUzFhyc+3TqabxKlJmXweyTFbo/e/9q40PVycZ1dYsutWo/2T67LCz0eUdyi2WHe/\n",
       "Q5bLd8x8ImJwOIDKWe0wrTvrMQ586hDj6XPFdM5r5q+k4L1pMwAAAK5Bn5ZFFSwr/wAD+kbAF++v\n",
       "jrZB0O8Epreay0+oZh0TZrFry4ZSvXzg1pH46E4Mj17IYs1zChQwdhXzhMCtDw+JQm718nOtbJWZ\n",
       "m0pecXbmOLyTc6dCHAp57ICNM6Bxi4xL3K/dhgbiJSIyQcVwLAyPP9aXayLO8LwOsO8CabWd7ppy\n",
       "JZr7TAFFiJndYdT1SOSmDYF7M9l5PUMDK/Y99MS2zuRuEHaje0khjJUcAtoAAABvAZ+1dEJ/AAVC\n",
       "4YR3NpKpMAUG0WyT+6TE/fQxvXD9F+vB/cXwxLbxZoILL3ELsoVafDuQYblHARt9fay9PbgFByXw\n",
       "cX1XVAJAPOQ6eorUaD9RwD7+F3LM8bsf/Q8kbRJvl/JAezv+kk//o11m4QEnAAAAgwGft2pCfwAF\n",
       "RVaAFBCV6JIcXfl+A3dWOBna6+FJaz5SJznKGY5+7vD/R+D4ko8sDpJ+rgsJMjMmAVxnsncv12VG\n",
       "u7CHf6Q1cfLcqJ98/2F0/F/cGmV4F/O7xjRn8CKJ84QMd+vZOMxUGVQzY4P+PrBOmM5RxokI5o/Z\n",
       "F3sdG1+1Z4nZAAAAXkGbuUmoQWyZTAhP//3xAAC6+ryRlmcZx+147r/j5A+vW1j7w/lrpHIUYrYD\n",
       "J0Z/H9F1VoWKTwvKnlSnVQ7DRn+BvzdzQMxrUjhp5GEuCqPi+FiJjjK4atlnx0FoHVAAAAdnbW9v\n",
       "dgAAAGxtdmhkAAAAAAAAAAAAAAAAAAAD6AAAC7gAAQAAAQAAAAAAAAAAAAAAAAEAAAAAAAAAAAAA\n",
       "AAAAAAABAAAAAAAAAAAAAAAAAABAAAAAAAAAAAAAAAAAAAAAAAAAAAAAAAAAAAAAAAAAAgAABpF0\n",
       "cmFrAAAAXHRraGQAAAADAAAAAAAAAAAAAAABAAAAAAAAC7gAAAAAAAAAAAAAAAAAAAAAAAEAAAAA\n",
       "AAAAAAAAAAAAAAABAAAAAAAAAAAAAAAAAABAAAAAAeAAAAFoAAAAAAAkZWR0cwAAABxlbHN0AAAA\n",
       "AAAAAAEAAAu4AAAEAAABAAAAAAYJbWRpYQAAACBtZGhkAAAAAAAAAAAAAAAAAAA8AAAAtABVxAAA\n",
       "AAAALWhkbHIAAAAAAAAAAHZpZGUAAAAAAAAAAAAAAABWaWRlb0hhbmRsZXIAAAAFtG1pbmYAAAAU\n",
       "dm1oZAAAAAEAAAAAAAAAAAAAACRkaW5mAAAAHGRyZWYAAAAAAAAAAQAAAAx1cmwgAAAAAQAABXRz\n",
       "dGJsAAAAtHN0c2QAAAAAAAAAAQAAAKRhdmMxAAAAAAAAAAEAAAAAAAAAAAAAAAAAAAAAAeABaABI\n",
       "AAAASAAAAAAAAAABAAAAAAAAAAAAAAAAAAAAAAAAAAAAAAAAAAAAAAAAAAAAGP//AAAAMmF2Y0MB\n",
       "ZAAe/+EAGWdkAB6s2UHgv+WEAAADAAQAAAMA8DxYtlgBAAZo6+PLIsAAAAAcdXVpZGtoQPJfJE/F\n",
       "ujmlG88DI/MAAAAAAAAAGHN0dHMAAAAAAAAAAQAAAFoAAAIAAAAAFHN0c3MAAAAAAAAAAQAAAAEA\n",
       "AALgY3R0cwAAAAAAAABaAAAAAQAABAAAAAABAAAKAAAAAAEAAAQAAAAAAQAAAAAAAAABAAACAAAA\n",
       "AAEAAAoAAAAAAQAABAAAAAABAAAAAAAAAAEAAAIAAAAAAQAACgAAAAABAAAEAAAAAAEAAAAAAAAA\n",
       "AQAAAgAAAAABAAAKAAAAAAEAAAQAAAAAAQAAAAAAAAABAAACAAAAAAEAAAoAAAAAAQAABAAAAAAB\n",
       "AAAAAAAAAAEAAAIAAAAAAQAACgAAAAABAAAEAAAAAAEAAAAAAAAAAQAAAgAAAAABAAAKAAAAAAEA\n",
       "AAQAAAAAAQAAAAAAAAABAAACAAAAAAEAAAoAAAAAAQAABAAAAAABAAAAAAAAAAEAAAIAAAAAAQAA\n",
       "CgAAAAABAAAEAAAAAAEAAAAAAAAAAQAAAgAAAAABAAAKAAAAAAEAAAQAAAAAAQAAAAAAAAABAAAC\n",
       "AAAAAAEAAAoAAAAAAQAABAAAAAABAAAAAAAAAAEAAAIAAAAAAQAACgAAAAABAAAEAAAAAAEAAAAA\n",
       "AAAAAQAAAgAAAAABAAAKAAAAAAEAAAQAAAAAAQAAAAAAAAABAAACAAAAAAEAAAoAAAAAAQAABAAA\n",
       "AAABAAAAAAAAAAEAAAIAAAAAAQAACgAAAAABAAAEAAAAAAEAAAAAAAAAAQAAAgAAAAABAAAKAAAA\n",
       "AAEAAAQAAAAAAQAAAAAAAAABAAACAAAAAAEAAAoAAAAAAQAABAAAAAABAAAAAAAAAAEAAAIAAAAA\n",
       "AQAACgAAAAABAAAEAAAAAAEAAAAAAAAAAQAAAgAAAAABAAAKAAAAAAEAAAQAAAAAAQAAAAAAAAAB\n",
       "AAACAAAAAAEAAAoAAAAAAQAABAAAAAABAAAAAAAAAAEAAAIAAAAAAQAACgAAAAABAAAEAAAAAAEA\n",
       "AAAAAAAAAQAAAgAAAAABAAAKAAAAAAEAAAQAAAAAAQAAAAAAAAABAAACAAAAAAEAAAQAAAAAHHN0\n",
       "c2MAAAAAAAAAAQAAAAEAAABaAAAAAQAAAXxzdHN6AAAAAAAAAAAAAABaAAAGGAAAAKwAAAC4AAAA\n",
       "owAAAIUAAACuAAAAowAAAI4AAABqAAAAnQAAAIEAAABVAAAAdgAAAFwAAABEAAAAPQAAAFMAAAA8\n",
       "AAAAYgAAAEIAAABjAAAALgAAAEQAAAA2AAAALgAAAC0AAABXAAAALwAAAEQAAAB/AAAAKQAAADAA\n",
       "AAAQAAAAHAAAABIAAAAQAAAAEAAAABkAAAASAAAAEAAAABAAAAAZAAAAEgAAABAAAAAQAAAAGQAA\n",
       "ABIAAAAQAAAAEAAAAIgAAAAdAAAAEgAAAFUAAACqAAAAXwAAAFYAAABNAAAAYwAAAGQAAABLAAAA\n",
       "QwAAAGYAAABpAAAAQAAAAFQAAABSAAAAcAAAAEgAAABhAAAAkAAAAHQAAABFAAAAcAAAAOEAAACF\n",
       "AAAAbwAAAJAAAAC2AAAAiwAAAGoAAABrAAAAoQAAAIgAAABnAAAAagAAAH8AAACyAAAAcwAAAIcA\n",
       "AABiAAAAFHN0Y28AAAAAAAAAAQAAACwAAABidWR0YQAAAFptZXRhAAAAAAAAACFoZGxyAAAAAAAA\n",
       "AABtZGlyYXBwbAAAAAAAAAAAAAAAAC1pbHN0AAAAJal0b28AAAAdZGF0YQAAAAEAAAAATGF2ZjU4\n",
       "LjI5LjEwMA==\n",
       "\">\n",
       "  Your browser does not support the video tag.\n",
       "</video>"
      ],
      "text/plain": [
       "<IPython.core.display.HTML object>"
      ]
     },
     "execution_count": 11,
     "metadata": {},
     "output_type": "execute_result"
    }
   ],
   "source": [
    "display_video(depths)"
   ]
  },
  {
   "cell_type": "code",
   "execution_count": 89,
   "metadata": {},
   "outputs": [],
   "source": [
    "dx, dy, dz = 0.15, 0.15, 0.15\n",
    "translation_deltas = b.make_translation_grid_enumeration(-dx, -dy, -dz, dx, dy, dz, 5, 5, 5)\n",
    "\n",
    "\n",
    "# dx, dy, dz = 2, 2, 2\n",
    "# gridding = [\n",
    "#     b.make_translation_grid_enumeration(\n",
    "#         -dx, -dy, -dz, dx, dy, dz, 5,5,5\n",
    "#     ),\n",
    "#     b.make_translation_grid_enumeration(\n",
    "#         -dx/2.0, -dy/2, -dz/2, dx/2, dy/2, dz/2, 5,5,5\n",
    "#     ),\n",
    "#     b.make_translation_grid_enumeration(\n",
    "#         -dx/10.0, -dy/10, -dz/10, dx/10, dy/10, dz/10, 5,5,5\n",
    "#     )\n",
    "# ]\n",
    "\n",
    "\n",
    "\n",
    "key = jax.random.PRNGKey(111)\n",
    "rotation_deltas = jax.vmap(lambda key: b.distributions.gaussian_vmf(key, 0.00001, 800.0))(\n",
    "    jax.random.split(key, 100)\n",
    ")\n",
    "\n",
    "pose_estimate = gt_poses[0]\n",
    "occ_poses_trans = jnp.stack([occ_pose for _ in range(translation_deltas.shape[0])])\n",
    "occ_poses_rot = jnp.stack([occ_pose for _ in range(rotation_deltas.shape[0])])"
   ]
  },
  {
   "cell_type": "code",
   "execution_count": 161,
   "metadata": {},
   "outputs": [
    {
     "data": {
      "text/plain": [
       "<module 'physics_priors' from '/home/ubuntu/bayes3d/experiments/physics/physics_priors.py'>"
      ]
     },
     "execution_count": 161,
     "metadata": {},
     "output_type": "execute_result"
    }
   ],
   "source": [
    "def update_pose_estimate(memory, gt_image):\n",
    "\n",
    "    old_pose_estimate, prev_pose, T = memory\n",
    "\n",
    "    threedp3_weight = 1\n",
    "    proposals = jnp.einsum(\"ij,ajk->aik\", old_pose_estimate, translation_deltas)\n",
    "    rendered_images = b.RENDERER.render_multiobject_parallel(jnp.stack([proposals, occ_poses_trans]), jnp.array([0,1]))\n",
    "\n",
    "    threedp3_scores = threedp3_weight * b.threedp3_likelihood_parallel(gt_image, rendered_images, 0.001, 0.1, 10**3, 3)\n",
    "    unique_best_3dp3_score = jnp.sum(threedp3_scores == threedp3_scores[jnp.argmax(threedp3_scores)]) == 1\n",
    "\n",
    "    physics_weight = jax.lax.cond(unique_best_3dp3_score, lambda _ : 0, lambda _ : 10000, None)\n",
    "\n",
    "    physics_estimated_pose = p.physics_prior_v1_jit(old_pose_estimate, prev_pose, jnp.array([1,1,1]), cam_pose, world2cam)\n",
    "\n",
    "    physics_scores = jax.lax.cond(jnp.greater(T, 1), \n",
    "    lambda _ : physics_weight * p.physics_prior_parallel_jit(proposals, physics_estimated_pose), \n",
    "    lambda _ : jnp.zeros(threedp3_scores.shape[0]), \n",
    "    None)\n",
    "\n",
    "    scores = threedp3_scores + physics_scores\n",
    "\n",
    "    pose_estimate = proposals[jnp.argmax(scores)]\n",
    "\n",
    "    # pose_world = cam_pose @ pose_estimate\n",
    "    # jprint(\"{}: {}, {}\", T, unique_best_3dp3_score, pose_world[:,3])\n",
    "\n",
    "    # proposals = jnp.einsum(\"ij,ajk->aik\", pose_estimate, rotation_deltas)\n",
    "    # rendered_images = b.RENDERER.render_multiobject_parallel(jnp.stack([proposals, occ_poses_rot]), jnp.array([0,1]))\n",
    "    # weights_new = b.threedp3_likelihood_parallel(gt_image, rendered_images, 0.05, 0.1, 10**3, 3)\n",
    "    # pose_estimate = proposals[jnp.argmax(weights_new)]\n",
    "\n",
    "    return (pose_estimate, old_pose_estimate, T+1), pose_estimate\n",
    "importlib.reload(p)\n"
   ]
  },
  {
   "cell_type": "code",
   "execution_count": 170,
   "metadata": {},
   "outputs": [
    {
     "name": "stdout",
     "output_type": "stream",
     "text": [
      "pred pos: [-2.4833472   0.          0.50007874]\n",
      "pred pos: [-2.4833472   0.          0.50007874]\n",
      "pred pos: [-2.3333471e+00  4.7683716e-07  5.0008005e-01]\n",
      "pred pos: [-2.258347e+00 -9.536743e-07  5.000815e-01]\n",
      "pred pos: [-2.1833470e+00 -4.7683716e-07  5.0008303e-01]\n",
      "pred pos: [-2.1083469e+00 -1.4305115e-06  5.0008440e-01]\n",
      "pred pos: [-2.183347e+00 -9.536743e-07  5.000843e-01]\n",
      "pred pos: [-2.0333469e+00 -9.5367432e-07  5.0008583e-01]\n",
      "pred pos: [-1.9583468e+00 -1.9073486e-06  5.0008732e-01]\n",
      "pred pos: [-1.8833468e+00 -1.4305115e-06  5.0008887e-01]\n",
      "pred pos: [-1.8083467e+00 -2.3841858e-06  5.0009006e-01]\n",
      "pred pos: [-1.7333467e+00 -1.9073486e-06  5.0009161e-01]\n",
      "pred pos: [-1.6583467e+00 -2.8610229e-06  5.0009298e-01]\n",
      "pred pos: [-1.7333467e+00 -2.3841858e-06  5.0009304e-01]\n",
      "pred pos: [-1.5833466e+00 -2.3841858e-06  5.0009441e-01]\n",
      "pred pos: [-1.5083466e+00 -3.3378601e-06  5.0009590e-01]\n",
      "pred pos: [-1.4333465e+00 -2.8610229e-06  5.0009733e-01]\n",
      "pred pos: [-1.3583465e+00 -3.8146973e-06  5.0009871e-01]\n",
      "pred pos: [-1.2833464e+00 -3.3378601e-06  5.0010026e-01]\n",
      "pred pos: [-1.2083464e+00 -4.2915344e-06  5.0010157e-01]\n",
      "pred pos: [-1.1333463e+00 -3.8146973e-06  5.0010300e-01]\n",
      "pred pos: [-1.2083464e+00 -3.8146973e-06  5.0010300e-01]\n",
      "pred pos: [-1.0583463e+00 -4.7683716e-06  5.0010449e-01]\n",
      "pred pos: [-9.8334622e-01 -4.2915344e-06  5.0010592e-01]\n",
      "pred pos: [-9.0834630e-01 -5.2452087e-06  5.0010729e-01]\n",
      "pred pos: [-8.3334631e-01 -4.7683716e-06  5.0010884e-01]\n",
      "pred pos: [-9.0834630e-01 -4.7683716e-06  5.0010884e-01]\n",
      "pred pos: [-7.583463e-01 -5.722046e-06  5.001102e-01]\n",
      "pred pos: [-6.8334633e-01 -5.2452087e-06  5.0011164e-01]\n",
      "pred pos: [-6.0834634e-01 -6.6757202e-06  5.0011319e-01]\n",
      "pred pos: [-5.3334635e-01 -5.7220459e-06  5.0011456e-01]\n",
      "pred pos: [-4.5834637e-01 -7.1525574e-06  5.0011599e-01]\n",
      "pred pos: [-3.8334638e-01 -6.1988831e-06  5.0011742e-01]\n",
      "pred pos: [-3.0834639e-01 -7.6293945e-06  5.0011885e-01]\n",
      "pred pos: [-2.333464e-01 -6.675720e-06  5.001202e-01]\n",
      "pred pos: [-1.5834638e-01 -8.1062317e-06  5.0012177e-01]\n",
      "pred pos: [-8.3346382e-02 -7.1525574e-06  5.0012314e-01]\n",
      "pred pos: [-8.346379e-03 -8.583069e-06  5.001246e-01]\n",
      "pred pos: [ 6.6653624e-02 -7.6293945e-06  5.0012606e-01]\n",
      "pred pos: [ 1.4165363e-01 -9.0599060e-06  5.0012749e-01]\n",
      "pred pos: [ 2.1665363e-01 -8.1062317e-06  5.0012881e-01]\n",
      "pred pos: [ 2.9165363e-01 -9.5367432e-06  5.0013041e-01]\n",
      "pred pos: [ 3.6665362e-01 -8.5830688e-06  5.0013173e-01]\n",
      "pred pos: [ 4.4165361e-01 -1.0013580e-05  5.0013316e-01]\n",
      "pred pos: [ 5.1665360e-01 -9.0599060e-06  5.0013465e-01]\n",
      "pred pos: [ 5.91653585e-01 -1.04904175e-05  5.00136077e-01]\n",
      "pred pos: [ 6.6665357e-01 -9.5367432e-06  5.0013745e-01]\n",
      "pred pos: [ 7.4165356e-01 -1.0967255e-05  5.0013888e-01]\n",
      "pred pos: [ 6.66653574e-01 -1.04904175e-05  5.00138938e-01]\n",
      "pred pos: [ 6.66653574e-01 -1.04904175e-05  5.00138938e-01]\n",
      "pred pos: [ 6.66653574e-01 -1.04904175e-05  5.00138938e-01]\n",
      "pred pos: [ 6.66653574e-01 -1.04904175e-05  5.00138938e-01]\n",
      "pred pos: [ 6.66653574e-01 -1.04904175e-05  5.00138938e-01]\n",
      "pred pos: [ 6.66653574e-01 -1.04904175e-05  5.00138938e-01]\n",
      "pred pos: [ 8.1665355e-01 -1.0013580e-05  5.0014037e-01]\n",
      "pred pos: [ 8.9165354e-01 -1.1444092e-05  5.0014180e-01]\n",
      "pred pos: [ 9.66653526e-01 -1.04904175e-05  5.00143230e-01]\n",
      "pred pos: [ 8.91653538e-01 -1.04904175e-05  5.00143230e-01]\n",
      "pred pos: [ 1.0416535e+00 -1.1920929e-05  5.0014466e-01]\n",
      "pred pos: [ 1.1166534e+00 -1.0967255e-05  5.0014603e-01]\n",
      "pred pos: [ 1.1916536e+00 -1.2397766e-05  5.0014746e-01]\n",
      "pred pos: [ 1.1166536e+00 -1.1920929e-05  5.0014752e-01]\n",
      "pred pos: [ 1.2666537e+00 -1.1920929e-05  5.0014889e-01]\n",
      "pred pos: [ 1.3416537e+00 -1.2874603e-05  5.0015026e-01]\n",
      "pred pos: [ 1.4166538e+00 -1.2397766e-05  5.0015193e-01]\n",
      "pred pos: [ 1.3416537e+00 -1.2397766e-05  5.0015193e-01]\n",
      "pred pos: [ 1.4916538e+00 -1.3351440e-05  5.0015330e-01]\n",
      "pred pos: [ 1.5666538e+00 -1.2874603e-05  5.0015473e-01]\n",
      "pred pos: [ 1.4916538e+00 -1.2874603e-05  5.0015473e-01]\n",
      "pred pos: [ 1.6416539e+00 -1.3828278e-05  5.0015610e-01]\n",
      "pred pos: [ 1.7166539e+00 -1.3351440e-05  5.0015754e-01]\n",
      "pred pos: [ 1.7916540e+00 -1.4305115e-05  5.0015897e-01]\n",
      "pred pos: [ 1.7166539e+00 -1.3828278e-05  5.0015903e-01]\n",
      "pred pos: [ 1.8666540e+00 -1.3828278e-05  5.0016052e-01]\n",
      "pred pos: [ 1.9416541e+00 -1.4781952e-05  5.0016189e-01]\n",
      "pred pos: [ 2.0166540e+00 -1.4305115e-05  5.0016332e-01]\n",
      "pred pos: [ 1.9416541e+00 -1.4305115e-05  5.0016332e-01]\n",
      "pred pos: [ 2.0916538e+00 -1.4781952e-05  5.0016469e-01]\n",
      "pred pos: [ 2.1666541e+00 -1.3828278e-05  5.0016618e-01]\n",
      "pred pos: [ 2.0916541e+00 -1.3828278e-05  5.0016618e-01]\n",
      "pred pos: [ 2.2416542e+00 -1.4781952e-05  5.0016749e-01]\n",
      "pred pos: [ 2.3166542e+00 -1.4305115e-05  5.0016904e-01]\n",
      "pred pos: [ 2.3916543e+00 -1.5258789e-05  5.0017041e-01]\n",
      "pred pos: [ 2.3166542e+00 -1.4781952e-05  5.0017047e-01]\n",
      "pred pos: [ 2.4666543e+00 -1.4781952e-05  5.0017184e-01]\n",
      "pred pos: [ 2.5416543e+00 -1.5258789e-05  5.0017321e-01]\n",
      "pred pos: [ 2.4666543e+00 -1.5258789e-05  5.0017333e-01]\n",
      "pred pos: [ 2.6166544e+00 -1.5258789e-05  5.0017476e-01]\n",
      "pred pos: [ 2.6916544e+00 -1.5735626e-05  5.0017601e-01]\n",
      "pred pos: [ 2.6166544e+00 -1.5258789e-05  5.0017607e-01]\n",
      "Time elapsed: 4.083794116973877\n",
      "FPS: 22.038329411838884\n"
     ]
    }
   ],
   "source": [
    "inference_program = jax.jit(lambda p,x: jax.lax.scan(\n",
    "    update_pose_estimate, \n",
    "    (p,p,1),\n",
    "    x)[1])\n",
    "\n",
    "start = time.time()\n",
    "inferred_poses = inference_program(gt_poses[0], gt_images)\n",
    "end = time.time()\n",
    "print (\"Time elapsed:\", end - start)\n",
    "print (\"FPS:\", gt_poses.shape[0] / (end - start))"
   ]
  },
  {
   "cell_type": "code",
   "execution_count": 178,
   "metadata": {},
   "outputs": [
    {
     "data": {
      "text/html": [
       "<video width=\"1460\" height=\"484\" controls autoplay>\n",
       "  <source type=\"video/mp4\" src=\"data:video/mp4;base64,AAAAHGZ0eXBNNFYgAAACAGlzb21pc28yYXZjMQAAAAhmcmVlAACJCm1kYXQAAAKvBgX//6vcRem9\n",
       "5tlIt5Ys2CDZI+7veDI2NCAtIGNvcmUgMTU1IHIyOTE3IDBhODRkOTggLSBILjI2NC9NUEVHLTQg\n",
       "QVZDIGNvZGVjIC0gQ29weWxlZnQgMjAwMy0yMDE4IC0gaHR0cDovL3d3dy52aWRlb2xhbi5vcmcv\n",
       "eDI2NC5odG1sIC0gb3B0aW9uczogY2FiYWM9MSByZWY9MyBkZWJsb2NrPTE6MDowIGFuYWx5c2U9\n",
       "MHgzOjB4MTEzIG1lPWhleCBzdWJtZT03IHBzeT0xIHBzeV9yZD0xLjAwOjAuMDAgbWl4ZWRfcmVm\n",
       "PTEgbWVfcmFuZ2U9MTYgY2hyb21hX21lPTEgdHJlbGxpcz0xIDh4OGRjdD0xIGNxbT0wIGRlYWR6\n",
       "b25lPTIxLDExIGZhc3RfcHNraXA9MSBjaHJvbWFfcXBfb2Zmc2V0PS0yIHRocmVhZHM9MTIgbG9v\n",
       "a2FoZWFkX3RocmVhZHM9MiBzbGljZWRfdGhyZWFkcz0wIG5yPTAgZGVjaW1hdGU9MSBpbnRlcmxh\n",
       "Y2VkPTAgYmx1cmF5X2NvbXBhdD0wIGNvbnN0cmFpbmVkX2ludHJhPTAgYmZyYW1lcz0zIGJfcHly\n",
       "YW1pZD0yIGJfYWRhcHQ9MSBiX2JpYXM9MCBkaXJlY3Q9MSB3ZWlnaHRiPTEgb3Blbl9nb3A9MCB3\n",
       "ZWlnaHRwPTIga2V5aW50PTI1MCBrZXlpbnRfbWluPTI1IHNjZW5lY3V0PTQwIGludHJhX3JlZnJl\n",
       "c2g9MCByY19sb29rYWhlYWQ9NDAgcmM9Y3JmIG1idHJlZT0xIGNyZj0yMy4wIHFjb21wPTAuNjAg\n",
       "cXBtaW49MCBxcG1heD02OSBxcHN0ZXA9NCBpcF9yYXRpbz0xLjQwIGFxPTE6MS4wMACAAAAynGWI\n",
       "hAAv//72rvzLK0cLlS4dWXuzUfLoSc6KsQTYOhoAAAMAAAMAAAMAAAMAA0aPkg6NfpkldQAAXTvh\n",
       "UiEgBocwD73ENMaR/UqB8jCjPU2x/SrSzE821vfcvI6ir6O8JeJUIxo1+6k4uXcTNiz3fU90bmMc\n",
       "X1U52GPfiwqBhaUUs0R03bT9EFRcCnjVvN6txTd7EclloZnTqC4ImPzSqWyLGdUaX92CsOtzdxgZ\n",
       "Dcd7wImKVLH5v1nST8sHXwvv94e6or7n3s/iUK4i7+K0Y18TjS2ONDBHZWrIABNVl0osIAifoSbt\n",
       "5HxH/ZvrQVXdW4g6b19NTKFMuWmhm12m1h86Q7zLjVjb/I7bHo/WeDLgzRR5uPxZTo2h9FK55+h7\n",
       "fm6YWc6AnSt2A28A5DtDYE6zqchNViK+mlUgD7RSZQ/fT6y2xF7fmCHk5jrwu/RdGXD6KNXlQayr\n",
       "z27tXxuBWOJ5HF0stjUnLaY4xeclfwc/p6GmJhy6CNtrbC6N3WpIwuGBAJjX5iwPxhT18sz18zXE\n",
       "/4IUa/I3QRgkjUxQ9hRWPAmz61Q16nPMKCj2qYvQucaXd6dIxJQdh6ES/FxVL5U4d60Zg/N1zxsq\n",
       "glkNJnykkWkDLHOZ1XXocj/eNoBI4ajpA5idsuU+ZRnlYVAIL1zfy7re7ksoKd74YVdTvsgJS51B\n",
       "ft2XP7+PGJeY+Aar+YuYLtHi/NtlV+aYWFf/JAILE08fXqTG/lg60SebY4QMfq3pqDVgOXJsHnXf\n",
       "GdNn0lF7XGkPvC4cRzEFoDJ/ILoJIexNc2zE+NZ2j8rD6ZpeDxAtqRUz60bbzrx4qluJAQ80KB9o\n",
       "t3FV0Y4Yf3t0ifvA3lplHrqcgx4zQFqISXwQ/T5sE49MG8FsfIXmy0f+nhKa36wCa6TPdwPqFXBB\n",
       "RpRa1WpjBvOc4ivYNqIZUG3uA/4qTpG2o8uKV9+RWSiiQCgCeRFyEcVWYeePpJFBJ5aGcnPWMIg9\n",
       "cig2IN66uM8ReYZQ7eSVjeRyvOQA9q297dZnwQG8G7ObnrhcTplrx6MTn2bSx1l+L7NUXqxshR36\n",
       "oeX2n69Hwvw4S+NZQuQ6OVm40mZHnH3bE2XID4Qaa7lbJ0YVXD1x9ZBxdF8vXvj8FNm9pgrH2gVW\n",
       "GFILoy2XTlSetHrv5HS/2j5FCQpFI5CFsY49SC0WSI3+Gb312amvTkkvn4quZ9H7vQEoP7JPju3y\n",
       "CQWj7HDcTwGzmx/g+2SDaycMK31v3BSYqFAowgoIzKnlYCs2QxuqMkvG6RxzMajK9mSPC7Id35mw\n",
       "RWPbMCyFeSreyfOXFsNercYVl8E3EKIkVnK7D5mjBZqN5Q9cKZJZV6vJjOy10wws+kj4hRAjpasJ\n",
       "2s3ywIjlLzFDVYKu3YPv+Bn3+6gXJRewdT4dYnxgJuVD62wkbStCqvcCY/2C/ANd6j5UovwK8d9q\n",
       "Urrv9jZ+ryJuksC/sBbhgh97q4LmvsN7r3W+58NRrmTGbxwcofl8xW2U1cL3/MNQe36Lvb/GtzsH\n",
       "OG0NM/BwJt7ae/VqebdNCvIwVBiS1vwpciKOJOmjzHcOQWXXNgYbKGgbj6tqsgl2DDq0V/UtK4nV\n",
       "7jWvrljezhc42njAY6QSocirGCSIxEtzGMtuYt0fakVYHyQ66xqYeX1wSh5nbpC6CCQiPnBuiIsj\n",
       "X/WmJjlbxk1z5k1Ujbw4ZLeHhykodPCZ3IyXHnkRXOFP7wU1OPHkuEOKDh70t2bpPR1tMAAPGIAz\n",
       "+jBCVsAjbknIRw0UCx0fX//+OgcSHlEqlB7HkKkWm9Ki2pqUUE7N3ROQC1VoaXDTHySchcUaMzx3\n",
       "XFbOX306NI1r6WlC8VyitsFzPdHgVz1+wk++X7O6yAiq88TmytYIpcT4fzirX/RgzKI2iaHE4Yoz\n",
       "+IdJfiK/0KIw6StHIc6G1QD5pwoHEUyc1Y0K58+iIkDnn72Qri+fh7cXQDu2ym3tZ+QYK0XCNkbn\n",
       "ute7S1obIbZpM7X0jm46X3oe7ltCg0DX6w1N7ExK733IpR3DAl+mmlF91qkl4CNd8uHCJJUIFE2D\n",
       "NxNzukBet0+7BnDOEHTT8lBfVXcYfIhQL0xcRr1I4vxmbc0ZAz7RDmS3IjQG+SL9AdhJzVqoQuwB\n",
       "3VB9YRND1eVeSlNMg81/z312oWhQaNXCVCbVF+6ims7JSrwABG5yz2so/bG6j8/Ofz48VeBdcBl9\n",
       "O3bUQUikOxPOvH0EqwNRheU47SS7jTKoU++LatUR1x5DU3XjS1gHgZWf5UB/2cSABqbBWANg9HaU\n",
       "2I+mdP0O54DJftXlu2O+RsUwkMo/kw7D7LrK82pUV1EQiByDICY4hCrYb+l1tDrWVT8H/4a/QEco\n",
       "Kt/uPCZRLByOAIq9pqngc7FxETYKNgY1GOzxJPJ09geOIOh7GtX1McJGQpiDZbefJxeBJ/xu3Q39\n",
       "ppymv7tPk+Xrrjw4gmaPEZJkyPrIteZD/hJWjbKov9T4kogluELG9SggnFc5ZcWj9J52KnZ1vB99\n",
       "uE+dAkXYGz7PaVFFUJ3gS37CmfeRZq6gATj5PS3766RRv6J7sDM3kli1vwC+HwO6B0l416EZ94Kj\n",
       "syraCR9AiU+Jk9InkbtNRtmqVQVm5OkNRRPr86a7PTPKE+mm6c8AhOZCQVUET00E9ym7EKLDdQNG\n",
       "1HeitFG+Z9U+xrGMfab84P6nX91fxI5X+6ZbW87iVTUyQ9S7Oie+zTI/KJV8z9zpZHR/9kJlGaJX\n",
       "EVW/BZjuqMgICAGeOlN/tYVQ1ZLlD3H1cIZwJ2TvIP/uSYzml/wFSg1zKWuVmLBPO78cPAA858lU\n",
       "PSx72ZrkaUiXjprGMH/Vx2QgRNC2jFo1eH26rB3iqc+np/C+AEYK9zT+qfraLnYlnVeVRTeZrGUr\n",
       "mB2uqDPjX9EURrvHp/jrbnribFKpFyBhFFXJemG0vM5hmhMTng3UHgbnS60HvbcEui7Z3R1gpqGt\n",
       "zV/N5Hkcmd32PYOI/QYxv04tbEIqfE+GDLHW5T5QB9wsMUmR9eW7KTuNqwEbW0FdWgJ9Ldxybtff\n",
       "lE6CDyDfOizM7+KVuMvKQHqT97nwmpmdFaUdqjN1uLFXHxTFNxj4M1+JGjdv7qpgFgTXoCIJc6PE\n",
       "nBvoENt0YoxI5rO+Mhxu5nq+cjaHylWs3WvUIVR8lofynuQwHuqpUFGc8fC42/aiE+9S5FAvFR0o\n",
       "kIoyK5RUs/k63d96Sc2GPewFqrotJkYZIVO99ybru4x9cvjyfKTHYqhW7WRM2BxrADvSEy8A7PTa\n",
       "O3EvIGw4G7xOY2OGx9OWsSvEGicJZdqVDdno0cux4uLc9jLcA7mIX4SNr9ZhnALpBErIdcArJgQF\n",
       "kHe4Y9T00HsXK7bS9wS1qA62TNFHZ4DiF5ER9GRQ8Xkn9XIgDJ6QpfRWu7k5vczan+a46jvOUM+p\n",
       "EXTVu5+owsqgXOw/Ow/UZDr+9RUfpemNItykujQtI1r/uHS0Cai7PbKs0rCO6KomS2uavLIlPqT7\n",
       "o22HBvMbuJJVit/632xxdqF4wjdJS+Z8V2xnlvjFEFkcxu70qbn/NymGx/e8r+Ybqxfbq1Zmy6Yl\n",
       "MRM19jvny0ef5AKEuSQtA/DP3efkWrYkmWQLNbHvUpdVmPuCQLePcgog6Pq259fSe66STMf0PnOX\n",
       "dpuJh19P4SSR9NfV0o4LrYS20Itpyl0gtrB9zFZPfRqI6ZA2Uk/VELwAElXuVIbMfUotFt6Ekn5Q\n",
       "hQPZvzIjxQ+J0rQIUOCVMZuN4xFesJAbh3oQoak+H/ESIvNsboFDDCK/gJN32PAsU0dV3AAx4Hlp\n",
       "+zLnhd7ZzgP+HU1lpuvkuDnUajMbD4zq0rowyiHb+KcXMvpocK5MbTuJQZ2Y6BbYWCrDmL1pvlc+\n",
       "AHfEsMPdRpBod8Puiba8sb1jjS2OqA0H21Nrp95aAvKKeBM33OAKvR20eLQ8yettmmpbM76C1RBB\n",
       "8TQOF9ggOqvn7WXsVKJ/HmSPz8ZIUThdCGxRt09QQp5t4hrW5mBrMuBp+PX2Z5hmcB0rxjeeQr6P\n",
       "/jwIlw3Ww/Gt+zOb9Jz6dvNOp9n6WveO5izfE/WAYYEXxPMPlqjeOE2i2iJ95iPVWJAtI5GQ8kZk\n",
       "DT7l5wpEFokgm1W27oCaWxep4Est3bHBR1NxquPhzvIx1n//9giZZqMQ4m5HpHUaO5YGKe7ewtwG\n",
       "hrPPeHjqN4AAAFyhZ+DXJDBW6HlRrGLePEnPavbJGl8siD9aGoLu6yQH+56AoLyulC0hIPXXkX3u\n",
       "MNELgb6rAmKriNLU//P9S0mMwvKcNuAs6GWN8sIPmXx5tylVwUNkpTbbDRO0AFjHwRJWZ2Cas6gX\n",
       "qQot4UXF5K+y6O3RMw0bu4Fcxr4ByZ7VHwodfj5etXNZLPo2JZ/N6c/JzyrtXG38jlmaBEm63Ayy\n",
       "kT7UoD/ixGQ+XRoyji0JTpxRv9Eo1KWRX4hyUHZAB2YAqUsfkVUIa5tQZMdvnBRJDrPvkRM+eUyw\n",
       "98xtuhmHwC7RIIBSLFMu9hanVI/YSQsO3/SeP+RfhofPwYRYqpK+5pkjHaKVUtPzXgJ2Wk+0dbrj\n",
       "yjTj0aFGcyp/5U6aQLRfJGB2XvxR/zv+SnUGFCJgA5tqpOy9QktquAMnusRZJLDvIJtDw7RJ+zVQ\n",
       "G0HWq3Iun477USXVVxL1F6rAyJGF3z+A2p+WfpmaYwjVUxn6SmHqdAA/a2VcUvUBDBhpZkJw0Jaw\n",
       "vSdJHvAntPiJxhspVCog8GPiRDlTvPJpv6NpK10FClYRzOAwTj75sKfBhlUEXWPlddTZhbEqVEix\n",
       "7iVHCA+1c+GqmEHYHzh3JzklEfIA0/XrMDvtflVXfSOe6U/IphbWR9rswN67ld3fTV3depbmRRhu\n",
       "z5RoEJuZi8izFAnb/p/TYopiYQk/NjXpXaWFEY6X0+ViOW7mz+eUzOTMieR2Iwzlnhsqwrz8qOYW\n",
       "Fgdk6RJRuaYfGIn7qzUFQOmWjEBb0FEom+aWtJZjRRA75efJbqhdQxJLIezGFS0A1npPxAs8FxhZ\n",
       "Uq+12YBEWW16tPIg9Q5AgxCp6x3EB+S64xx1eVUAd1C7WJ3M8IEBdY6zma+uH/rYJdKzDU5MyAVq\n",
       "OuZL3Amb9J0QXJcDOD6Xlr3wVt2N4MG3Uwa+M4NFdmLZb2mz4+vhBa8qHKe3GRfScPvSdTzyQKlR\n",
       "+TCw6+brJfCoKSCuZDBGl9Jm/dPAp3xhq7Ug8ytAwblSxFHQ+XrZqfZRs/PaEdsCH2tdq7meHzvQ\n",
       "L3KkhMNXduOWOpJBiNiXWi5sHhbxHAMTcpaWnr2cDvoLf475bNP+3N/z1GiBX+UEBEVo/7P5m8q7\n",
       "Axzue4M3orZ1hTRC+8hjA07m1TmO8bX28nqZDRnFDFO5EWBNBZ6CpboQzB8zg2MoFXqdosmunHfI\n",
       "h1CywnhhFydaVBCOkWYRHTCPHmfn2e+6eOamc5LahSxOhT4Z2tknRafc7Zl4rmNlGkQc0qH5JEow\n",
       "+mBPLt36VUFUXtVQyI3ZJ7eAwyhqut0fbpsRUmzeKRQZGFFlNKeUGI8aI4aoIDhBJxIOtBWxTlbU\n",
       "a78IMP02zeAhA6nirW+fBeg0r0S/BQuxblpcO8CBN0pu/Ih/rF5ACjYpJZ1LTg8Jqz2IS9HpP4tJ\n",
       "5svxZm4DJr+1rmK2GLZG0QI0sYji9xxymXSLrdiRZDSD1gW1TqhBv3ckpy/o41GZlxU8S9PqrDER\n",
       "jN7LMYrgHSK+6Zto5sOMIPyDeVu1sDSGk9pqIpJ3rBz0Vpu/rSzF6EUB9iqNKldBx8OcgB18QvJd\n",
       "iQs7zc3Do8dPTvLp1STtBJAils1gB1VMNl//XoAqgEAwdj+JFD22t/4F59El5nx/rgZUoNB1Sfqw\n",
       "feZP+MPNNP8pNsYyJJTP8zX9lCNU+n8LT22AD/V4pxBNufa6NX5NQKqRLesN2ODBfViE+QY/iDX3\n",
       "f1s58nYUDV5Jbv1xtbAcnBnSfQrenU+gJHbCCOl2fAawELrWH1rGV/0cnwidrxYN6TqgdoEzzSEp\n",
       "N2iLYOueRq46RncfB6Z5rgEVnKYhA8yuAi397Ptc3pZsl117q8fpxPa9bLb/DpTSSR9+G9Oa+f4y\n",
       "/OV8XOm2n+cM+PKVxi0rO6wunJnrKCMX3UXer93wbKZJEC6IEoo+jZXL6NP4RSSmRm8vlgdhuspH\n",
       "b29vDw3sH2yRe1jmxfW9JrDxruEvWPb9dli9I0Bhq8cMe0gVZzrUqwMQBuelmtlGwGh5jBmzp+PA\n",
       "cQS6y682Hh5+YutYE/XoitGRjVWp76Ogl6RmBBoAZIxraX1R72byZ1EGle4JJ6YtAUstvMQy66w8\n",
       "tAjbQbLMZENDmSiCmpToWvuHHqTjvxuGS1nfPkZg/iUwbQHj1P2aQ8jnctXZQOrF7Joq/hXoIdyR\n",
       "/YjjwdZ66/po09HsDC6qQvk+QokQMa4dKrqulnS+0ESrY31UfgAGZ3WK4Pge0b6THv53wdzfRcJK\n",
       "AXpijSgL64GSabEMeCEisuECYQvsq3dqk1c7UvVbpDxf/YLqIFuURPTpzy6+MZ5GXXlvDjpq/tey\n",
       "VgMBP83y/zdeZZWleXdkrufsS27EdoWe5DyMd74r0oJ4RfFuiGuw4hdvG58Or3ubwTDu5HZEHpGE\n",
       "gf511d/wPffmfJA32rVN+aUVlUdZs46rtqRWNqHB+DbcADNQjPsveEsXwidcbJMIKiH5Jk3kw8U2\n",
       "phZdzBKluuwJS1WW+z6eXq95YKQnHiFHrtmM3qKVkH46CHpqgZ9Rh3JZSFe6c6zo0JJieKpca6u2\n",
       "slc9fDE9//HqelLinfQO2YB4npCoUFyv9qhboBhCRtv09GqVtzivWQF9/4txU08Aaju0CqjCyzXG\n",
       "mwhaIQDEGAixFSlAuWHUlKjeLA14UWJKcTsecCz56VeeF7occ1mMRnWYtq9vaKEvxoNYYlBnmD4X\n",
       "p6UOuOO0aZRk3TtIP/zO5bYbme/Vvq761pI1CjmQlBGYGTeGnRiOTWPqq0EqBSWfGHrvN426H06Q\n",
       "G15ZpmjG8Myx3FcZAyVrX2ZFz60wmEW6VGWNteBP65wsIyBkEhNu5CzNnER7AocVkfd+NlcDHJDR\n",
       "9cM7JPQI2+gSGeFTsy3/t1FGb6ChAoigpz+oDHdPysbG4CzjWTOkwcAVtIoptKrqoaMKX8hVRY87\n",
       "WmVto9kPAeSFe/bdIEZAmSkIApjy6ZyoTJaMP8fDrm674h+k3aweGxV5WwJqAEOBjuKCfxNK6W7C\n",
       "EXBoWWhp6B+5tVjuguBXfIV0/0KqCCUJy7NqSXHthN//9z8Qo2nl79Lo23h+dmH+LcrizqKPCtkE\n",
       "w8Vy8bdCG3RM1LN7MJ4jufZ3v3M4e3EOVOk5molBniS+hTgHRsqc8chkukJ9mWk3jxnE/yLypeaa\n",
       "3FshUw31Roo33kLpMnDfmfUiiBuq4HOMZDvrkcZt6msDIxewwKY2BNUT5qcoCiFaZSxzSAgiAaQl\n",
       "IaZPxF0J//h2fPtrK4kKtQ20CfyChr+MI/ig9K7GEdaVkEmdk7lS6Qt4eIk6U83ssuufQcKEp5dt\n",
       "Uja8IXWfspNG4nStk9ajAHT87/NQ+pZZtrur7jHavsUdEfa/QWgfW4IsgR6IGT4EDipeA65l8u6c\n",
       "tSquqcma0w1NjKiplfgOPMukOSg4z/e8CcYukPvN27oaPTA0SnpMDD5nZ2BzL8/jQ2OmLTYj+VrQ\n",
       "CM1uxFTGpNOpZ4quOWQLINzhiw44QndDWGrdrGgF0O1BLJ3vFaZ7DajuNlTNt0fwQVP4Jyi9xFES\n",
       "l7+c7MjaU0jGTpUFsRcetW7QbgEcyWxAaZZjUHlRBPrl41hjN86T87rKBD854Wmt8P5e2yGlfyHp\n",
       "5pgcZfuJZjinkkl/BFDx4+lu3b1RRBIYppgaj35wlxG/Ft6/8InmiNWOCaHlL92yX3sltLgU35KY\n",
       "n8hmS4DGN4A4V/yBuTIeqZpwOi8aQFErA7CIKwSQO3ljI45Qhy0KAP/2UTpOabXvC4TONU/VgYaO\n",
       "WBpfzfOU7vPFC5j9bF6FaJuqx94DKTamum6KuA+4B0WMfmbc2dLMUF7fuhaTjTcvXKNsW1WsUkLQ\n",
       "C9PdoRkxEg34OjwclEabXpowYyfXP297eDL7QAazrH1jQ5ftZ0Y6lwJJ5lh0VBr9oBAF4PpflOJ3\n",
       "YsQIl6k4gOABeIi9yLr8zktf++Eiec7PHMg+KCmZmdYO0F6ZOi9Dgai4++C5kwJYYZayk2aV4RMu\n",
       "ppTYgTVXZLgh11LGxfn7b2zYeacUjrBx8WEukG9UBoUQXNCQGMHR6i2//vRtubmazls2okc3ulzr\n",
       "2GiZ/UVpvdP+uXjnenWgGavnN1GRM8gzCfD4mibH8rDrf7pOJX/0rWkr/K/XCXrABF/r9iIOgXkt\n",
       "BtaXhNYFRl1z6WknCGCGw00bWK9RJ13+a2OLFhFt7c+A/x0e9SI2f+17t3FUdE49soLdKe2sDf6d\n",
       "RzA4hFgV4gehWtF82zbiJ6fgIaJNBZOEVvorLBSByMB+1D8+75mZ1n7rwmM11u8ATPtP2rgqTlrq\n",
       "/O+LsvQD3G55qyRgnV2wLlA/AQysuSKN5sOoiWs0cIbQAaWhnBZWa2AjzfRbuyWoQIhJ5V6Ixwza\n",
       "JJXPRALAjHi4xN26njmXLDsUlOIp2+nT8Zmujo0PjR/cuYpLrRRf+/iaK9GPgnoOpQywR3R3EDHc\n",
       "uEZyYp7gy8hp/HfYEcICunGRzUbTl1XzNunr9sq6a7z5mR+uTLLVLEOdv0D9GQPZmhghD7PxO+X9\n",
       "fCSVoxleCKYHduELT8ydCXkzmAy2QrA33ghf0lzjNHIuu428WLru9JhyU5meLM7BmN/6G3utmRP/\n",
       "07LAA3T7wXTrJNsEEnl1kiwDT6dTdHVueYUVOdsYRyy66GyFREyniv1jZ5G9XE3lStD7DjF64SBn\n",
       "ucRdZIO/e7JrwpbM+XOM4qrscr5cJ5ZkFveAAmPvlV9a7Qm6GBauH8OeTuqAJRwKXnPgVPD3uNRl\n",
       "F1k/k7icuLdHDr7SXvNQdu3ew6bZYNtOgWSz35F+aw2zwJ4ml/mKCoyenI44nHhkQGb2rCxWiu7B\n",
       "aQoiMD12PRtD1rVelaIOH1pM+MFnfXQ381GeARzJ4cQ6sLAXjuEBBkrXPc564n7kVu+Vyrt9wJ9I\n",
       "ZpEEdttOWIkfJhDfIYDdavBtfcbyFy8pIajJjGXdBhVSqWz1p+edUl3aKpsvVYrp/4+caI9kzjDU\n",
       "YBXIVfcSuy/0EDLJt7dnbCwYF08tlRmUkAJ54e3u8DgObhG7vXi3GMfc6ZxuZ2I6Ac0+t5hLCv65\n",
       "uM7mrpjF15MdVtYIHYaJ8mZwp4NqG8kwc18VNwPcL5H5MXn5uA7Ld1iRSAYgkoGANkmjgWnMDNUD\n",
       "dObx2AxV50/i0nIccm4eXGhG7jxs/S93CaBQjsTEg0gyu8GBaPTviKpyrXVjWuQ+vtFXCRfoWDVf\n",
       "SGOELIZ4p5Lm3WwcAtRVnN7bpyUL+SBlQdifoER4vM/eAdhMtLRIFa1fNQCUmb5DPQ5mfMsB3Vw5\n",
       "HFbRJ4/olRdN19rm8QQ2yTyI5b6Ky+omYgjEcPGqJouJHd7ZkY/UgXLXuHm5VV/kZQMwpSAFIOP+\n",
       "684wJ4yEiCD5NzVoY9OzfgNWS7DrD8sH+yWxbeTTC51Cx93zYiBoA7rFwHvtYiCMiCvm+0o5Lq+E\n",
       "vtXP1oXCvb8IJjNJA8xKVsmc2MpbWh/aLYCliUq1mf9o9BQNgRvFq470lXlLBLocVngGCkMbdNya\n",
       "IigVknjPpUmQX3/nYC1g3LwMR4NotGx0nnbWFAxFVJkbmnZA2avFJrzO9hVNqOSmOE1fmiubtJTe\n",
       "NBCMY7JvFRpkl+54eQ1cRuOMEtSbTyixVNbE++zMLMEkWH45lG/AQWKvOnMAUQ8wZBrA9Kt6C4S5\n",
       "ZWxM/OFiF9PIDrQuyrJGBT3tYGIh6DrLz0fHDugjHighvcY5yOPKODzaWuL+skNuBxxOtL3iLxK5\n",
       "vqaTqS11A5Xb4T9umvVF5LOtGi8AsX8HHsdwYUaw6gftFr0zR7yNIpQe8NSaddmbbvMb4eV8Ld7o\n",
       "6xhXoELEv5OuKBCydwWRQXDlANWAS5dOoi6ytYXgnBVyxsYIXS8pGe84Q01Xn4agul0lnhk8Boev\n",
       "53l5YPsNERhwUFS+hvadVFwASTGBxq0DUPnZWwSTIo/NRzpiiSTENvqqyDo0mZzRSx+JJ3qzeJcX\n",
       "h7p2bXiu3rSzStBRfZd7ca8WXmZxgMJFv5tbloaFrxKsJeg3VCYnKcAyaB1bI7UdKZCFuPFMdZYW\n",
       "LUla3phdR6O4TsMd87IkPf55af9gwmFZ86exdPlpqDN7yJ6ythD3QDf1ytz4+MmargwC2fxDudLY\n",
       "qMEv6V2TGm7nBnp6NC2XCc87zXYOnN17Yx4kd/sbvTJidxADtanhOjQsMlqHp4JS+j1wNdJyvbCV\n",
       "tsvlb0NzqMCIzHnLocGgyMdkymzTGF9MCp0nZNf7mhRsjWqHsFL2hAB4TX3hk3VeVwhqVThN3k1N\n",
       "en8CFosHtLnX2s16MllDqMZVDUtVgdbM+YJeZkadLTuJpQY+6ImfDdrVxeyImSwCXxBZndCRMQaX\n",
       "j7Iis7/430u/RxnTklXVR5Jw9QLLNMzaian7fj1lj/ua2+mqDAvTWdK2WchuBwznz9Na3kqPtS/g\n",
       "snfwpskPW0wvK5RoN52B88EXYUwSOlnRmS37ss0pSyJedR/M4K69Na0FHtFcC0RiOhKJ694zBivr\n",
       "V5mBZopY73oMrPV+4xt5zUAdRnMNI68sa+jj2KOIZOX8jZLiQ7035PNBYL+jevSGD4tE5FrD2K8E\n",
       "2UK6V922hnpN7dqk4d83OpSf/6ul9nIvSZlOgyJNNNqfgTmeP2LN9MSpKpNgm+Igx7g5/9TuaGXO\n",
       "z5IukI3OD6PsuhR5gPRWB3tM/S7brgfoE7PcErRdc+iwU2YYMgYmPBXS1b3NkQwQy99f6JxE8J6C\n",
       "+rgX1Pbq8LEEEyrirMrt3hTSGS7YZV5/jqWEu3vbJpHwt2G/eAhtzaHdLClr6du9M1S7u45+EFbY\n",
       "SdIHnMjLF7LV/9mMX40tUqq904Eq8Biy7036cuYDV6N3FhxfTRu4Ziajd5mwNbL+Y3Ky7j0XwrnE\n",
       "Beg3dDgFAnN3bVNZX4pP8Wu2fo7CqPsH99tYhEXMiEUZMomq4EbkC+AJStx9dtgtZQB9BX5YirWK\n",
       "toKFMN4GVOJ51Z+IaddZ98c9m1tYFhh+53rq4BVpx6RUHhIZJ9xFwdB77BZqrNEJkMEq+gWX0114\n",
       "KhOFIbQW+USf6cpnrE0qex3gXEe6wfIJs7MuLcPJDmz76IOFOoUumViIwJybCeahg62PRtGql122\n",
       "eYPzdQfcarYm0Xjt9s/bbHZ31c2cmJYHWvmTRTn4ALz4Nqp7/9rO7wnRWsnIGf2K+wv83MCyFCpf\n",
       "pAH3U8HNlmdkNC5v+vVuDzCwHcHFZb8d95ZHc9oHggEHSgr3ctBSWf1+kf6z19bEAezwOgDGD8n/\n",
       "K0ZwAIJXXEIRNjc8dnNDU2027eR5FWIjm7KBDIRO4v5KC0XwXVd6D4T/uB5xgOGMZCXQr5GSav+R\n",
       "mfgTdjbJeMuU4wJ9Km/P0ZXpbPoEkwFoFXGWDj3SgRwrIvj0Ta7jXi2SB5NcJnO7ZmW0r1Qd7FLJ\n",
       "pDGpFQazQoUK0v4tG24cEtqA3WmTcohsJdZcfyDZwKHYj2+aCvvSSF2e23c3cYlG/68aTseh3AD1\n",
       "NifOWVMCpPmSONvFx7QmYfjzn2DQSYKh0yrxd2yNwvj+CN+FtEFRTshg7pPd7W3CuODBA/r6YRVo\n",
       "gwhPh9zv8wz1pAbdfadZsbgmksggS/uac3urS8ZQQQmhxI/LEwDZUBavm39k9IOP5yVFFMF6OHJ3\n",
       "sp3ZsaSDLwqDWSruoW/LYvyy0l0YEX80gADqOqh3JxxSLBjek2oq37O4f0t4Vn5w3rFyeWIe8WRF\n",
       "cFXZ+KMS7Lrw9b3jpONetw0Dvh4KTSKwdp4sGEmgQO7xsWO+pOag3LBx7OGbcAMeF/hzxEVtzIOq\n",
       "rQfi9tI4h/zpIVpDXABOQd/0VL6TNr5mqKLJaXsPFkO1/aA7iefC4EOXiy8dimLI40IxY2unVu+b\n",
       "+o4AEQel40cEi0myoO0HBLCZaVZtvOkhPQA4BhYuxLMWiZoAWf+izY6ARP6xUQlFI+o5qyyyxAYH\n",
       "g47aR/oItZf+60oRSCsVOWsUzg4H3w3WVGbChhCE6y82+80zWYMOc17Y13aPWtzqGbeuM1qsHO+c\n",
       "6pvKvLPfhnyq9Z2kNDEThb6ekFLI0lIlPPTMI6oWYi3biNcY3qMCt7nv4B8Kng8FOBFTTr8TkFK4\n",
       "HlC93g3/eKX2Vaig/iS7L+YEEbObJOHOXk/NMGU7FJt3WiX0PYvfflCvykBqxCG6m7yibEhw//27\n",
       "EclTIhM5n+97Z1xXi/+O1bALBuvFL3ofupuoN2reyieWT8rROGRBElrT4OyW7twEjtVD9Xkdi4Pv\n",
       "YnZSYGvHj7wQteIZtgfB+GQRC5OYc3Vb/kC7xsKWWHhFq2SIHXf93PLodsrnMbCJcbGtVoA3dZ6x\n",
       "U5cpQuVRRVNHo9agkIRaS24Cy6k2gvaHmYF887uUqd7R0dE2uISoAyddXalNKGQqV8reMH5VvFWn\n",
       "LOa9zFdyNLeK3lWQds5zGdY/6fhHZSO17Yoj/LShwyZsx1xoqZeWLFqV541eVg4p9ei/MkFOWs9L\n",
       "ALy925LbwN+RfBlO/p/kC+TxipVxFZAOtaJbZCf5Y8ZkBk0vILMA2IUCdlQVoE/SMLZZyLRr3aq1\n",
       "ae/u7+1SZbxSIJJJkoaBAe1b2zfSfJiYkmq72pHcXj9eYvKxU6DEfsPnDZm5gb0EecS/FY90kvYp\n",
       "yfApnDx1oIACuMupA9kraYdT5yJqlxFgZd1X+C9J5OtJ5JqmRj6ouUZToTyqE0ULWV/D13kKts0w\n",
       "T4LzzbqOR6U+T7pLMa3zkL2Jq97hFl7ZLp6rJDidHHKJPLFGeSZoP1IjY5IyTMV4Eugee4Gg3G7t\n",
       "ahXP0V6Ef2oSso1coiItviwIp/X2He1VloX0evvxJF6Yp4G6yM/jyxuEX39BD9ky2ijP7P/GE8vT\n",
       "6Jajkmc4O/+JXn9pM73whWbBNHrVSxcZzHpgZzV8xlgUlByipXm5zFbu6zlbX8Id6viD2zkq2aEX\n",
       "wMeitcUt5Ic2+JW3E+amtNs8jQ/yfgNp/1NNlsYl2Y65ZaZkFPEfrWK+2apG1PUO5qFNDbFW2HFN\n",
       "6GUv2RLcNEaH/rwojJBMGyf/1O9LlB+K3bP9C0feoy9RFc532Xt7Bs7ihgxqyDsMXQKXBP610qT+\n",
       "HztogqYRjSErPckrQw6SrenzFOBcNPMFIDiBK/v3EpgZw6j8DgdZu0iyzqLVTCfJuuJSQEEoM4z8\n",
       "Mlsq0qqHon2dCJ5ZL9SzYZlLWH38iLlqDwfkZ5pSiyJDdUnvNsLUo51USWY/i/uCMBytnkdslgcM\n",
       "K0EgjZxxJdCfpsjrjxqWHp191ROPVJUCcV+dn6MkSBAle6FGTZ/H7TOsuQdG1Lv2ZraObp7X8njq\n",
       "KLYMcahMml3kUr6wjvdk0hoBEGs3bFhntA0/TS/WTMdXoQnUg7ETtAsnGExEGye2URtzzSL0KVh+\n",
       "SJjcj5pl0ivfgCAiPIX+TomB0N9Jliq/qYXxSD9peJDuLocID6Xlhim89Hk+QPWrD1tKpS/Y4HtT\n",
       "bd9xLPDFDxjbCdq69p+e6poCfNH8nOBWhSlhoztQ/a/J2beBk91CTIqyZI4I37TiDixwNgTrAxO2\n",
       "iLeCJL/UJoD6Sd5tt4V5J07m/JRbWrjfGWFN5WPOGo5YiSkcMaZjCoEsppxZGLDowi5GXmCYscgF\n",
       "e8AbAaaX1Furi8qlfT5wp6YnlMYznlmd6nfdlND6QAUjI+Ip3YMaqL08hjiavYF78cePV4WsjtPV\n",
       "G93FulP1Htg3dm7ZzmVRPC2DEXhAt1FTfCHPqrWQCO2gcTF8HOFwyFZA/EkW+S8tr3UMLyBMIohZ\n",
       "Si69ghSSB3QroAMBpmgtZyqej5W7xOj1n6h0IE0UtkNBsZXFnjJ2R44INSMXvdGM9OqNP8eRC3tk\n",
       "1EcdpUfN0OAJNV5VoSygXdm/3PwmYNsQRg0wZ9jF8wgV3/8xbZZ1yyrEzX1YjtmBjy6VvtOg+CDw\n",
       "Eg+wDk+bn9IGc0MAPhCZ2iIypM0nZyl05PCODHgrkHCQd89/PovftQFYbPx7iOtflbbir/qph5Ml\n",
       "BgZ30+uY+EXOlgni6pR1N8rq8MDCBf7RDDCmmn2VhzJZe9z4Wet/BOvOtOV4PSBctackynrFtRXr\n",
       "SbIX+REyRZ9yH9rKXI1d/jdwwuQn2I658MqTUBmnhehn1rCAD7px8pnawsIXPrbCcpWcCcPqowZY\n",
       "RkB+e/3KMYIkhh2YA+gCM2gr0JVpJDe4I2PEKBqdlZfFvemLNDmMvzUAPuLD6ZAItA8YY6dsbFD+\n",
       "5N9QolaK8LGzMqJZGHAjtudsdGf1OxeASCxCoQGw2jwIXZrD1g+6waL8vjttTA5mrcDbTGXeTyCy\n",
       "NyVm2kOaAKeLINxzcRhLB1wokj1/kwlMUL91F2kGnBnQw+rlWD7ESNid4WTOgjPB7nnFQBmE9vP2\n",
       "O1Kpmn+C2aWCNM8C0TAPI4tXTYviOwrUgy0GI+vp+VurFnyjTkfM+8v93kMuhiITXYSYv4Ia+44c\n",
       "JgPOoIIbbIR8xqDBJEg3uSvrhNSfSDuj5OnxE4jjhWQmcm/ZyKrwqG3YEMJhI2TsuXzLYxQ3rNgh\n",
       "0Ac/IvsIlN8L0El3GKFW35NjlQmu3nIUVq58io1CygkOOhwMXXYZO+KnYmwr/xWIMCpc169dL4q7\n",
       "q880eRVons7pJ5GhJ/yr99N1EQM4ix4dmxV/6kG5Fq1YnWXbbHajuFanMv80ctN8oTLOcCtn0GyA\n",
       "AAADAYmHmm0JXp2Hmjub/YPjI6SR4rQQsMq/dxqLAqswARQPvA5Grm2CX50FFqVnbhDR4+AxpI+J\n",
       "k6uKI153J1VrPEgDrNPgoom0OjPL9K/ts467tUNnJqWR85YKKzAKrZoyQW+u94LTk2dCm6ntrCXs\n",
       "PIDxfumvom52wJ3DzYAi9r6OKL5t1iywWAKWSLYA4YClwb2I6wXQBKGuJs3j39xnmv/qOsSA20l3\n",
       "kgUbYB5RJKILzxyjNMVQshdp+3AwFjPeoAABrGfGFyfuRLS6/kdDI6KzBmEYiGFdN/FzxgXAnQpA\n",
       "PIC1SrgkpsiK1itkNmQ7Jwwf7tZCjEzVHbFb5h2Z5duSDVVx/4gn4Kv7a+5O5TdTeaNr4tvJ/Z0S\n",
       "QTpV1czCnlLrNYiI0RtiBZlwDFPfyMq7JSnRaiHf7wl4T5LYJxzZGCJLdMRF5ID+0GrH0goWrFnO\n",
       "vszCl3b/QCPODjCUD/zA1PaF8Wo5KyVJK01HCTxaDUTA+TLUg+KFkvU7UygbkuI0tm1vrN1WJhu7\n",
       "V9MrCaUEB9HVwK/0prJSOvsUA/bbcusl17f99lfP0kv/wy+DqdNjsQXidELwswwHwNTtTn4EXeDo\n",
       "su5f3NHXMmFSa2XDruB3/HNvLTkLkRH/TjFIOvcspqhKsmUDEIVIs9xJ/4cmvQKScecxRsGHh7+a\n",
       "yDbRkHxChjlWNVFfOt6ZTk2ZAI5W7iMyIClb2B16xiEyyI3zgpJEubOYZAh7UYdgwibWmYxRTJ8F\n",
       "VCZ8c33vkGXxLjoS/y+/zMl6GkEfIm5HUgCYSwQpWj5tWp+b+hBlZXI/j0QtGegTAeOG3eOOsGpr\n",
       "nwgdx9Scl6J635CXiIon+OFXVj7GZf39zoDaFC8OPXCoVdbeonI1Hrln1MtryRiQnw/gQ3gZ4qq1\n",
       "E4eERlWFrWhJslfDY6aaPCLXLz4Sw2L3ZLSMj9mndqmvs9PKFTkqz1fUIu4qmMqBFd5xebbqHR2m\n",
       "6DAHGvI5sRGrBiBSq1Ehxgngx9wAtrh80P5VU/LRXsZJ76u+iD0Kz5NnmRKwJeMSDsWdwTpJSf98\n",
       "3cJ+xNo67iAskNQeKqWqL4cDIYjVgAbGDaYlJvCHpXtRpttm9Z6UnLVkkVVEFkaCT1grrQU26AW2\n",
       "wR4LmmyPA8sBkHRI5PW9ZUyxkgWO/qeflf8r85HoUOKBXvYXCZJEIEOgWUWLMBJdx3k/Ul5O/NoV\n",
       "hFvUWXfk0nBFnJEAdDugtUXXBkGtb7Nmcludr1jEy34yMpc07+aYZBnbdGGXTsluUM46VuvjAA5C\n",
       "lA1mZoMB/SjPvWQvuG2CCRhVyRV/GoVS8vRXH7NYJAqEqvBj2sAwamtp743O5bUJgmB+d2iVDAZM\n",
       "zN5rlSpnLl3Mk4CQCaMPmd86f5nZvWdntRhc9bO361N5xgYy7Gtvvd9dJwGJE9PNI/837YIRVQBu\n",
       "58TR2IgCG9s70oraUqG6XPBCvkgopphDCkChcw/LIKAKPueddwqWPfgqKm8IpbqNFkQXN7u1GFhR\n",
       "pIXgxL70+/A3jNTegbkAWRyhNIm3ffMk4c1BwwH0Cekzb6u2RiHK3dh2TVXqnyOzoZw3t5OdwIpC\n",
       "DiTaTXMkQZDVbpJllJHxn10+wfumMwNG1pMU60BIibmRYXzZ27gprbntzKf3a1yfjZejv9QYnYJt\n",
       "j5bZHPvJmdAwu6RcciQiSEnsRpBN2zH3zC3v191QTZUxgRjxZI/SJkiEaxIZ7EfYJyLe2NXyRmg3\n",
       "ObOA6/p99OCLHKpJU3Dil+VEnFweJVURDXRhcdPULnUM+dkHgFOhjQ4QtRBzob7fyWkCYhowy7+a\n",
       "+OCNEVlEQ14vJc6A8Ctk/0dxk+7u1nfSGxkUghiq+nn4niYxo9YXtnUIFG0wNSj0aOKCCEGBWinX\n",
       "tDYTvgQbi0s+Q72GCdhWRVMoe3FvoFjGf5zdEJolN5l/ayF5T86x8NuFltjAO98ksq8NgDtCh4jS\n",
       "kuxYNnA9EMBAhVQv44H+hbDSzwT0HzkMzPx8CyVl7MoZla3S0l5BKBx2nEcoHnPsN79gLTDrc4Uk\n",
       "gCq8hhCQRb9FS5wgTbGQOYQ7/vtL7ptZqaRuc22kgBAc7XNcdHt3DCAX0hyArklwyLjwZ+ukCHrg\n",
       "XkD3NhsldhDv6W4QWeb7FwcQm4D46sY7ksrB3h5/PYYpS8mRGJ0+w43rSll8JZpnV+gBAACuL594\n",
       "rqPimxpMOOh78UOc/VDJ9KxzHgQXJ+Vs9B5SmglMMft/L1Mn3FhpES4Z35AARQmyAcJCBXDF/hQA\n",
       "AAm+HKg+AAADAAPke6gsCNQABJlk0FO6wAANCp6BuPsAAGcpSA0NMAADkL6wklhAADrQ3wsJtAAD\n",
       "0bCQsMAAAECU2hJVUELBAAACz0GaJGxC//6MsAAehbqwA4+XztuaRbrVRwhb8r7/4WQbSOaU0Md5\n",
       "fgx5VWuha8CvxKfUE6guYByv2QZl0sJhXy7JUDHkUbNLA5H+BXNwjsGH0hz+QV83lw4WTeKvSqaw\n",
       "6vKRfonG4Z49PSW/KXbAztQdgcSwhUk6V0NlGTFCIWif1uiwGhzYBYNNTVGW/fwJDrR4cS/UR8N7\n",
       "gHZ0iW+HNe6f1j3aZQwYqHQ9cio+5KGct0Lt88VC4dQeHd9IMJVpz1qFmWMY6HMpGTPbmUhrACYc\n",
       "X5l9bm5N1BUCNxHtXXE7mCDgoOH4WGdkUn57j2gnI6bWc2/ckIKIo8YLo+JEXBmFHogJGmw84wcE\n",
       "UOZ3+rGMtQ8iuubBr7g+0TVBvy4B1S3oRieOD/ItHK5Fo9XtON0RKoUCG9F5B01SgTw5nv3rMNHx\n",
       "d0hhh9XbY22v/xSJorFl2Akw6qNdZSicRrMSgE/nsD8pbVjzbqsW/0/TsZAHu2sDTcJAGGAASWdS\n",
       "EjhkpfgSQMyBsbwCoXUbZ71srJdfHvdq1bS/kOrgUR6ZoNoEb41xVWt4WoKvRj6sZ5Ii08hyP0PD\n",
       "F29uFbCK5e2cYuFGLTf/eFdNKkZAPqOUFETmBq6AczbZ038Qrg98gfhub16NBirsFI03YLkUV6YE\n",
       "4T5CVea1/3uZFEQ1Dvw3NofGtTRiH9v2jGZRJ+16Bd6ERu4OOpxOgAyABdSeT3pjzSjm9TEZpoE3\n",
       "hpd+JLkH3oMvNiqLESFIgKMp4M2J7ERU1Wv3Zt9IoOm5Vip/HOdpwVceDOMJ4lrJgUChZGafubcS\n",
       "JAh5f0dyobbuDhEZYQjA4M2cNGK1mZeiDkeeiXAw+1kOb8BbVXnFJEdeeSBqjPWDf2Nr0AIvz4KZ\n",
       "pxt2CFFbuNJT6A0CiccFr87eOp1m+cN5/nKy/AFa7rgiBeHOr162TXZum8SiE4WbdSwaI5W+AAAC\n",
       "GUGeQniFfwAGcIpPbjrlnDBwzY/o9BsQCN4U4j4i2vfnGCnnK8F2rriQ0LJbG5oVjEvQfQbdLaxP\n",
       "XbS+AAa0VSYPeiguoew1QpX5hSg8x+BYPwHl/VzG06FFpW+q2dLAJ3H7j9Qw/nkHIm5/+aJxqVXp\n",
       "MNgm/xk9kQa0ec7qPRf9RH6Yk78j55Ni0FehcGd61UEDNaOUdLwg5g+PHFCtTMjdmWADuxxYNShQ\n",
       "zLY/gvBrZdRPhVAfz3VTY1lDMBZQ5TcY461TxljDXqJAIasYpk11480k5LwaLPx9heAkZPQa33n2\n",
       "SFLNTx5AawT/s26x9WHgerq7vHSvYPJ4KJrQbWtlwrpjBOswFiL6ZpIqbBOs1sugcaytBe4M3usp\n",
       "1//ORGVB3raEkBIt/dSUlxKFyUxGJgSPd5Pz3ZqOU+Tl5tMDQniEYguKM279YL8AYiypV7uoopCn\n",
       "XqauvxHUAaSY70p1axS0wEn52448EP14nQYdcsHK0DTKzm+YIx3mDnA81BR9t5AHFQ4RpB17osNm\n",
       "RqxQg2J+cI45ZcMeZKxjAu55j6g+BYkzYX93LZmlCRR3ioAhkqNHP4yF4+Zct3hHncLwJFgFvQoa\n",
       "8dz1B1MHkhjkxFct98e2mucOu1eu8uX8gZLRrye886VTo0VW2V5NJ0t2SGYlCKwTJpBgBeDB2iaH\n",
       "AUUlRUU10LCOLiIlRXZ/hQAAAwAAAwBWwQAAAYQBnmF0Qn8AB2tksqU+VHHgQhlmav7+oRGYvm3h\n",
       "/ooknsZgFJKO3otrflsIlmyfGIAAAA5/z1ACDESAT+AzMNEwuy3jGYxKOcShYSv8RYUhPrYxbC/h\n",
       "PBkFGF2EQndMThOodY4P48Z0pOCpQlM+3EoDX8fWagLkBADTA//ki7dMaU8Wh7Yy9Rcz6sKmu/M4\n",
       "ED/WbjNu+sxivCkQ2GtQ9meHPRZxrFjvrC3cmA85iGDFwJ4qZEUx5bWf1HrhnSZMNJscl8U8HJmN\n",
       "D4i4F5R/LuzpTxfodDG33gfDEudTnFfULxcuYLTbJ6KVXDjNlJVjmj3ntYRGueVVQGM7aqigbQbO\n",
       "dChzR2WxkllWJ0o4SsbpNCHb7oHQK5LTDIbvyn3tS6/X2KasShfaeTh8yc4LRX6SUgYQL1f595k9\n",
       "h1E/BNP0uT9sgqyq8R+zQ6/vq2m820OODSq4Se8lr0SC4YL3+jmzSfd/4HYrIAQWxA+rWJpopufc\n",
       "LVC9VpZ0nWTx1/AAAAMAAFTAAAABZQGeY2pCfwAACmTNojh5uVMqTggAnEx5GLhhTl3b+HxXJotj\n",
       "AFUe57oajABUZ3J9nsqkY16tF5CsGZ2+YEeagGXQmLlnPmQAxAlRBkWW6AP+ef1Uomy3IloNsGSY\n",
       "P+7VhqMMsk4YzWiOOFzPsZXwhpUif8/3p3dAPkU6pHJfZnPygqEPC7a/x0RHhS/Sal2aZcdUG0TQ\n",
       "N9C8wtomD6ZF0phGAmA4htM4aZ3GK4VsPczVfhkgLq6LGsbr6NlH21ymGC9NMquBQz3nwUrDprIY\n",
       "ll0VSwUWZ1bnTkVLzgzf2lgw1GRkAVy8PvSFoMuY0X04kBV1zen0yx9JhpORwcTCqhsBQNCUf9Jy\n",
       "7kCFCwQixG8+MwPmzdnbfwCsA7CGaHDqZ0+dNrZY9rx7TwW4mW41I8pNLpULuVE9Pglc1NB51Ewl\n",
       "kL2J1/ZO0a0sVDb4U7Qh1vhy2nYFMYos4bLMtJe4AAADAAAS8QAAAWFBmmhJqEFomUwIX//+jLAA\n",
       "HdgcFT5/fRPXqrGOOaHYVjcXLtWBc9LQ1K+tbEqeyHE0GyDfn5/6XMCU33+N3ELfBMq+IDon3LpV\n",
       "oObAGCNXFLeVGvgAtcVKySMyWVFWnLNtytM4iA9axtqfZCMOB18Z64i7+qwoW1sVbKDbriAepGye\n",
       "dr1CnavddKfZK8HyQGCkNUzZ1jycskdokF4h1tSYORnO+chbXwW4qIz3Dj88n2AANyMplwCujupI\n",
       "xeqcrZf/RYnHEv3TVMX11kSxxUtOAlSFAsZiCPYZH5Bw7tUm6DpXYxh7sT1K6GZO8e8ItagQHKSU\n",
       "v5Uwx61NHOcwi0/rbokBLB1sSQCK5keydS9Tqr1Dlzqv8gaNp38CmugWMlPGOkaS0vpUY6rYUkXC\n",
       "gqQUp/bW19SUEOj87uH/NAJD4W7RoqX2tX36fIR+cW53wvz3NggZk+Wz07ORwSTguJ2f7wAAAVBB\n",
       "noZFESwr/wAADoV6nbJLnuS9478BPwsAAAMDxuCrttGnQSr35KAgDMnhqfR+ACp9+B2qOhDFb02y\n",
       "72d0FwGZNGO+INjxv+keK6c5A8sOWCBzdvStQQG6jt65FLC2Uw0rO/+1yUoPjv3B6mSoyQ/j9LK2\n",
       "4NZfgXgBGHQ3k0foPyxtYApOtw0PUaSAJI2dsKDF6Y/893AI8ciC5Ik89NGjjibFxqREiw+3MUC3\n",
       "JNrSMiss677QnwQh1f9S9hw5YRRIQndqhLj0e/yDwTsVLZkN3RVJ+Jk1MW9bDArM0owqHLjKOG6N\n",
       "/chC066ZQbH8286MliyLg4AO643c+44CyLbIotQY2rjHgJiquHnH/yOeGkEOSmSYoP0YodxGoX6Q\n",
       "ygL6WUt/YhdotFZYprTNfHxsgFAWlbCFh8Vl1DHwezLJ9wADtg1wonUQUAAAAwAAl4EAAAC0AZ6l\n",
       "dEJ/AAAKgjdcfdZ6kekIAJvMQ8J1fgWeSaQ3ZaxSAHCZwMBVKypLusBKg+WiCP/wrzCXvjiqeHZa\n",
       "w64dnjCGiHHcTo5GwKotISmcoFHOHXveAM/kwFu6YMfdtW5+SUqNuJHdpQ++C7UjV2v5p3ceWAgN\n",
       "AdupewcgFzu7fsbqyLSEB1m2vjB63lscZAXuWLw3hgMNOZFjAl8MBSW8nKSK37FK55LtHLGgWuTY\n",
       "AAADAAF5AAABSgGep2pCfwAAAwAAAwAAAwGweOaxpIK7gTYvQlmAK14ImFU5TCq1PQc1/yDFZ1sY\n",
       "mXySzDgPlwEVmZ5bLNioZZe7DOuaPAUj2wWGxJY8E0hdJnmriYmg9Byp+Wxmb0d1MC8+RIt3SWCz\n",
       "6REHPcpQ8JsHcUhhlwbgK9mT4IELzK0JKs0SJv53faf2MLOXVwRq+BVK6Pak7aSr7LvrHYXEfVwP\n",
       "zrkSm1RgUbhWhuPN1QqO0ka2KM7WSiB90uNuEznglouWjtjm1AVjyjVDRDtUWTCZN0yYtB079eZY\n",
       "A5/v0b0FiDbW830p0mcyczeP+GB9lTbUDJgOHXSwdMXoXgqGXekr+Z8grp+PPbpxobP4492RSb1M\n",
       "Z58O7Gxx/mXq+dqVvq8yMKHhGHaIbDiaG9YcwJjBpwmAGU+8VNM77Xy4MS2o9X9/AAADAAAS8AAA\n",
       "ATFBmqxJqEFsmUwIZ//+nhAAAAMAAAQU6kNZgzvsdVHonbtwBBm6qsDDeLL1jeQhwHgH/tfrFkMx\n",
       "XZ4HjcwPjAwBGSwrlDyJjyjc+6sb4hQDn6qkeq3gf9k06SbKLQ4v3wOciaRd7XDr/lI0VZTcrUeh\n",
       "ehFD+5obWqO97sDiin5poIrQNqI3TfrDBDrLhM11CCxA1UoVqIKN2ajLuNBXkWgaXYhGvQHdf0Zd\n",
       "Zp0ilS0+M1XrJwaRqoBwim4at568av9CTPS8Kg48bpfnLjbxiNoY04kGhSKtAb4cOiO8bCL1KiQm\n",
       "PlHyQ+aGnUEw0jZ2thWyfrB1UgsQ3DRXczO7fWWIo1t//MP4HegqyC5N6UDl3kfF8GRLdxafh8pW\n",
       "DeVUmZCaEh/cRira1NdD+f0k5sDOVAAAAWhBnspFFSwr/wAADoV564SOS8IeOAABfUmPwE3xsNT1\n",
       "QiH6PyjhoVxkz1ZJ5yADOXRCPGW81M1SFZgb3psRicXdXxYxV3EWEXpis7PMD+mymaF38c7Jzi74\n",
       "0AzKhbJsTgWuO7+VVkk+7hGlfYHugycYmeBGL/6YIs96r5ULbl3dFZfZdD3v6ecgg9k4YIHsedf+\n",
       "TgtfCFWowgCo4pw3P7lbF0d12q76qlmRs8LGh37dCEjjGjzG1e3y9Yx3rGED7EC13ZYMD/tH0gOn\n",
       "tPatapUjm9uPYIQk/4nu6ORxZeQOy9vEsY8LQ0KxUHMorTFk6GwyyBCjmLijCu5TcR310exyouCf\n",
       "iWWivbVDEyOdcCLovY/6Sl+PDp/ISPENlV0IpdGG5r7RUbLXn3QK5Nm+xyzhpHhllv7QJnBPxSSa\n",
       "n3/8WxAk1NnudM9nuIugh0r1U+oSSE3itkRWEQ2o22BjJOn0QgAAAwAAB6UAAAEyAZ7pdEJ/AAAD\n",
       "AAADAAADA/exA3rq76m690rLtPpuGMdrYAE5FSPVG33sviYMGOVNFg+qt9YDHqLcNKUZwjEjqwKG\n",
       "f79kLi9CbnlvGkMxLGMGBxEltvBJhLr1h1vif5GlTEFT0KJ5w3iiUcYr7wH4BG28Cf0jP81ogHJf\n",
       "zVrM6k3MmhTPy0kSDWD0eCyi28xKIrIZv+ijbpM7x/XAc11RIKyAR8T28FDj96uXIQ8IclzezJ0h\n",
       "sTcwVzgNikMiNNNBgW+vgxmjEX8FvEcIe0x716RNulClHJYhBnbW5heAb+uvayq228xBGV3xNqWs\n",
       "o/6T66l7PbqHZKRRgzdz2u9IysodbPwYNqtkc5qoU4TVgu09Yy0rpxcOB3i2jorw7nlen5rcRBQG\n",
       "kbWx8FaAAAADABSQAAAA0AGe62pCfwAAAwAAAwAAAwPiFssW9gVOLqdPVCXlSsVSNE0hD+hPiJ+c\n",
       "24SNQCA2bJVKFf5i4SZpgSWnteJjqxJy0bWL+iOLkn9oNknPO4KKkk0cQ5oQJhz7v7JTBwMo7F89\n",
       "xtwx6Y7cstU4VXJv6GmkTIma0clXcI/1DXO3yPUuDMhc9/sLn2mK1KAqVLR9pGq9y2OcgLaeFsvA\n",
       "XBrT2fzD9bloGk1A4u6y2C6UdOQeCAeM39dyuorjz9phFtBPo1PrJqI2YEV9jAAAAwAAN6AAAAGB\n",
       "QZrwSahBbJlMCF///oywAAADAAADAAAfX1vBK6m9gE85NtIVwIaz6548x/sLG7BOBFHWexxRI3Tt\n",
       "EGeufm8oI/XKd+O8jeFlYHb+HV7Oe5NYCMraek0+TeaSBzA7ogTMtOErUok93AEdG5GwBnhM8G/m\n",
       "xB99Frzkx5/rChIkr3XiwnXFLSRJK2+b++d/M/UXsB0EMbgAWH7jqVFb9YI6QbGOyTxt0YYskOfE\n",
       "qg/Zb8mQ6GHAlauu5bM0Lsx4NDiGPjpOPuLoMqV0M3F1TxA6lMOZWqAJLvLXCorXG40yk1P0AbKC\n",
       "UfPgKobSd0A1G49O/Huawqc7oNvVEn7OJsokZs+OPN84JcnXqVtxwi/ovgBzVWZHg68NabL/1jzm\n",
       "LXTy+BzeOZB5fMDgU8lsR+yN+42rddWCWfH+IIPgpify3l0Yweu6M6+PzTNfWB/VtSYu23BDMRUv\n",
       "u3OW5VRDw6BYjfF7kBpXv+2Ql82zk97e7i0toUOWDh/pnAIlG45J+DGzxwAAAThBnw5FFSwr/wAA\n",
       "DoV564SOS8IeOAABWVvT1OZPwODic/NPXcAT7HiE0Tmb6eIVhKVvkhvFhLNQBdkRd3SVe64+fawe\n",
       "RqqpDffxjfGADaSl0RM7tVUp2YaWBpocgxvKLJGSJZIVqxCSkcIW3KB0k3ONy+PMp4rjTjCCLDhF\n",
       "M1mcRZoqFm7yaguWMB+kzfc/ZisoUNOOn14wIUVOIJeFuFg+fC3ONhMOqYkMmG64VYD57LiLVYJ6\n",
       "BZyMMoQSwtURU2e1D8znRO2xuHLyQwQtMLyc5jwiqzi1V7SOoLJ7nZxOGPTYIcwzFYlTTuMTXUAX\n",
       "EuO1FStWT02DVMMDEh5TFe6M3DiCtI3mltkhrkeGk/zg4p7xBd6sng312U+rjdvDcw7alAXt23rV\n",
       "PK+fHoWuvr+mxoAAAAMACbkAAAEIAZ8tdEJ/AAADAAADAAADA80vwLGGYegwwxBvS/YABP72aZPh\n",
       "qNIPMEWsT3dISYfcglnlpwaI0vUsLNIHv7ItlPWRj8pG0iD09fhgfhp94M8/v5sjXxQuw0Aok3E1\n",
       "7SkuGpghz0NoMCEr+BZog/KpbzslaR8knpys9BiuK5liMWSs/tNCilcMu7SKvoHxjeafcrVw/Gll\n",
       "ZGUmEq+XxLz660CqMCB74N81wxcwfQy5xGWy7xZIlJjuVCXscvMD02lCHi5t5bjCL6kE75kF8CQg\n",
       "p9lTTry9Fv/qG0JzvMsEIOolEECk5oFq8snB02zLpHP2z8tbM21fzSxlVbdLZY/X2aLwAAADAAk5\n",
       "AAAA1gGfL2pCfwAAAwAAAwAAAwPMDSQLYPftjAHlaEH9SsA8u8j1NgnGVmUJWnywJU7WBTaee/vv\n",
       "T2tXfM6fusAFbM6rc2qUVG75qloTQL4fJzNeWfhis89ecPJ7jehQ5DzMXJrr6/HeBsTHsVytJhqq\n",
       "oYU96A8ZQa0cjY0/8JxDzwOp1yYTnDRgZ+ok3tscSr6RnpKKMC4plrYXDKqOafWWFx8vvm7LaCET\n",
       "Gygh6Du4aheKxQbJw8lJzDd9wdZ5IiKa/XL47F4wyHLzP/zMJ8i97GAAAAMAAtoAAADNQZs0SahB\n",
       "bJlMCF///oywAAADAAADAAAer1u+X9Tlgdirn6Hm01DDvw1ARxQey698/KWL1cp2L38dymAbTSHl\n",
       "+XPo9/kuzzW/8r9q/FTStPE9v+9k73D1DwaPgKHWyhD7sBP5pMjwhkFbV3EpjY8OGs51iPIPLYt9\n",
       "M8ia/Bsl6x2PbhjKUozwqM//qZj8FTTW1ElI4eW58dLc4H839vSohhQzVsRYNDiI396pIzubnqRB\n",
       "BBXhCyF0Y36l9V5PLzKLSVEvzDhsJQAAAwADKgAAAT9Bn1JFFSwr/wAADoV564SOS8IeOAABWVyz\n",
       "iDppwGNbS4BF5eF0fQZ8iAy7vJF4KVt6hD+lT5F93nZW06Ca381QEOxI5wjHnFb3ghrJ2WRcCYv+\n",
       "517WinntHIiGYPNJHPPEwZe5o9hvcaD5FHqxTZFpiFaC/0HZjxg/8W9fKFibdL0KxXeFxupYrrvg\n",
       "NztiGMKU4ZCgLwAJbmYMJYeW307+Zgn5QDzqWdlYz0hkXBDQlmfEJvGtM9Rd4MEdrWPnx6nHKihQ\n",
       "9DfwEPBWAPIiFNXs//rlNp/nKwMMLXSy2pCSfURL257vaClnygpiY18j/RGQHx6erpHWAd47Uj4w\n",
       "r6h6DeklcHt7ogjttU3JeJkcar/uad6H+/d6c7KxYGJwRARJvtmnIIOKNc4G5g2fO0l7/zgUxPnh\n",
       "WlxwAAADAFBBAAAA2AGfcXRCfwAAAwAAAwAAAwNNMaxT/jafTXOi4Kr67NZTK2wABW0DcJhWjBu9\n",
       "hUYhWBeA1663Jz9y57VoJHuT/TGhVr7nhgjCkLJcAazDW2lIxiEKucOvvVMBRULkW5InbxlDHujY\n",
       "PljI6mtNu0Ior6ershBCYN684x6pfun0yF91jMaNwBAdZG28EAAsT0PlMhAGdCTmC0/a/FS8luaa\n",
       "Jt3zuXqGsr0tZx2qhkLS7g36inJrrCYZwqtrF/dPVRhQzKjlPaVQrzI/+ttJmvSH3cyuAAADAABs\n",
       "wAAAAIMBn3NqQn8AAAMAAAMAAAMDTCmyf9H/SLvN5KwV8Wj1v9iT4BAFEEIKmDfrOZQDzK7EMXnu\n",
       "wa4Lu4qUeSabBmkvsoew0m7jjaamiDxET4ROD0Wxm8kLn8vRAXo+eqZacBVrRosVWEfDYBIB1doj\n",
       "3T5BCUrGBnNXwzSW31hD4AAAAwAoIAAAAPxBm3hJqEFsmUwIX//+jLAAAAMAAAwDqgiOSxbXilSb\n",
       "KEigE/MukM1xeA4zCTrmhYrX97lmMKFFYD/YTUucbzftT92EbM+pWHURKOjwaEi5PH4Spob67/OM\n",
       "pbMnhlSWpj9ClGgHL+ra4QBpEtfsWrsZ84V24juAxjRLOLm9Qmi/BBYcb3JMx4LfQZVIYUT1pbc8\n",
       "RWSR3AYcrq3Y7fzESSkOTrn5cWLF4qNrJT5YBvsUjqD11TwTUMtvfLjbpXSFT28q3PucPZn5F3pd\n",
       "M2avLPE2oSUwPi70oCp7i6F5UHSBND1/eVC+OdnroQDoCia0Qt3vDFtVqOQAAAMABZUAAADzQZ+W\n",
       "RRUsK/8AAA6FeeuEjkvCHjgAAVhk4hWwdhENwvW4NCyBTQkQAVp7qLaLaU306zK4MbkjIt3+DgLc\n",
       "cI6KltHSv14druUPaiggTDjaeMUK+vPW+BUUrC40MkULKVqvjwHT1FZlJ9XyO5f1cWxzYLsBPdIF\n",
       "beGVsw8A0dg32e7Lm6DLEct6zTi2cjt0nX1K4WuFoyj1MLa3x+eKXDxGuJFIJgkjk9ZyPY3M+WKS\n",
       "RcqRVT8+E45BHtHN6lBSvNfHqyRfQKRVTRidaA3HsOU6rfe+J+nLRXIsgW+MomB8Rh2WXb1ip4Dk\n",
       "GbuFXcAAAAMAAELAAAAAtQGftXRCfwAAAwAAAwAAAwOftaaVSOgcAwkS0ovHOTMZLXH+CgCNlpBE\n",
       "ky95PqL9GHdl8Q29/lpeOcml0eRYFYsZRQv6XITFqGEVDIMmzQF16eexdfTOUvN5vAvtU0wHYScm\n",
       "XMh5H3N88hp7alfmXfIFBX0h2B4qPoDbwaTgMnd+tOQQWasCfUDSxCYtEy313g7EG5J13SWLeSdt\n",
       "Ue5jQtWV3C+w/r8+j2DlEAi4PoAAAAMAFlEAAACoAZ+3akJ/AAADAAADAAADA4rxvuWqSjPvmwp4\n",
       "+JDPWgHARsjCESIui/42EtEnbwtSp/a2he+3E7C9QczRtmKD5fN13HIU/Umc9RRgDwl9foqN6How\n",
       "5MwycwoM2hn2vqx9ewb7orM9EKWOPtKTBzv+ZzcgTD/7pFdlBb9reWoyofkXdle66134jgUsWiLI\n",
       "092lCy7Mc5jXCO8CFQ1tIR/jFAAAAwAAAwMrAAAAsEGbvEmoQWyZTAhf//6MsAAAAwAADAOqCIxD\n",
       "RSAafhPEa+LdhsftaS4DHUluc7aesZMge7rYjie06COraX+458YNZ4kWoYnfdKLnxJI8OcltJ7Sn\n",
       "2qnmpY01o83FJT3/tL+I74MKy+udiZ31edkiqbz6H/YLBOYnzu3fGRgNgt6ToubtYV47MU436eP1\n",
       "6+5YahFGDxrAb3oFTcL/k8B9RL4ntAwnBRl99n1EJjZzkrTAAAABEEGf2kUVLCv/AAAOhXnrhI5L\n",
       "wh44AAFPbEI4Dwt7S8QgDiCu6KqU33i0WZkhL2ozhF7Q2+OvnSDNyoi+GMAPdUfgb1zqAn7p5NTZ\n",
       "x8q3iHUFamqqaHBI834fIKNqnwD+cq0N2j8DPDFcZtcbX1f7qb0NbFhDnAiN0dBJ1H3uK0qlBxbp\n",
       "zEJS9lh5BjxXx4izaqZgzmQTIwkQa1Vb+NyYn3U6lIV4ihagxnsGWrOYTyWhBpd5BLPGV7Yg0JBD\n",
       "RhQQrKs565EMN0x2hSwnIJei2txwcQ004xL8qYxaHl2KKCA9GwRxRGL26zq+iTcRKkV//1jELXYL\n",
       "LUXN8/gBPABqNmeLBAT0ZN8mV+EAAAMAAK2BAAAAqwGf+XRCfwAAAwAAAwAAAwOKfWKoc1bNsyKh\n",
       "VFQ/Pz3Qeq3holP6RWxxAJMc/f+FbWTTXQzF76I08Xj5Ouq7hW1a2w0S7T2N45nDaLw+bBVph9Vb\n",
       "/AktraOuIGdzLjxAu8KpHMPE3EKITFgdzTNHLgNRefbwgFwB87wL2DMzt5U8+27+cBva7BB+XmMe\n",
       "Y8o2ZBx0jmR62NnirkU9z+HF5fODA39AAAADAAAd0AAAALIBn/tqQn8AAAMAAAMAAAMDig9OlRdG\n",
       "AZT2XO7DZhT+5QAK0ozCDtFUjORQYkJhpXuknCFS1/U8Oi5zfpUgAy8PZkm+Eqk63dPT8pg8Wu7B\n",
       "Sj7eHYxT8eWseIDrzlcc6GvxhcvTe0HWrVBfF5ORRKkZ+S2wACX7zwiJoesvZKFSj0ADiUcYNvMX\n",
       "tIPO/YlrvFfWNsnW+AvoxV+8FvOnUnURj540PyeEn/CcLWYAAAMAADPhAAABWEGb4EmoQWyZTAhv\n",
       "//6nhAAAAwAAAwAAAwFj94UMt44i4EG/7CjTsrxgbMDSEpUx/6Ude0TugX3YdkUoTqfDKGxHVu4/\n",
       "PrxfMznjHaPu8HTYxjMdS7Yhx3S3D5BXes55ONvD6B3VCxbZY+229xW9paQfi/J25+Tl0DznL2Vd\n",
       "7Ha/r2gK/8bx3WmzYgZGGMuFGjb+V32Nt/kYALYTiKBVNu89APZQdDkFz0kwY2qbmvR6t93ZodOJ\n",
       "K9/9s694nHTNrP4W0Z8Y5rV9QNfFH+2BfNulhrP6RWRCkUsTIwRgUqD2ll0USDcD1d4rPe2nW8+A\n",
       "i1kiINPF0KyJhvvenNDcosniAOHBeW/Kaho9kC4M+KC4BOAGJ1MCHfvwnov1N1cSaMZJbqsBN+IV\n",
       "OhW0066bJ0pyWpL9g419d5S3hzPtAEuCli6TEu4HfYudZ9E0yEFjbPcxkefVOrARAAAAwkGeHkUV\n",
       "LCv/AAAOhXnrhI5Lwh44AAFHerQn0qdjDFa2qnM2MyNDmrcAXa+++skUU6FcmtHaspv57qawpuKT\n",
       "VxhQxxGsDCxHQVWbWYExJFaH8iHufqC0LrYJcEF/Nfzw4c3AKwcGNUg85z6iyU51yni+ck8OeOw+\n",
       "WXjjTzNKPwnItQR6vPG8x4KTH9glf4g1LiA3xqyYqYGmIjlCAdzJ4YqEAFCpBy67pX+lT4EQx5zP\n",
       "Ct8ToVqLwdgDk0QAAAMAAATcAAAAqgGePXRCfwAAAwAAAwAAAwMRMmgUgj6/YtnEL3hj1hbCk6Lv\n",
       "2knW+rkHDaHGgCM3mGCwUUpTPAqW/Wc5jtqZisBXHInZhbAuxawg/w8F7jYKHWI9QmD77cgTr6jk\n",
       "WZCTZD1zn71b8NgSV6L1DMChDvapogODwu3wO0nILCLbiZvN8z5j59sWjdAFWm6Xeipi/UWzwmkv\n",
       "3KzI5iZ6hTAZRl1w7TAAAAMAAKSAAAAAhwGeP2pCfwAAAwAAAwAAAwMQKpuP6hwgdgrLhwACjCBR\n",
       "oOB8emrAJujtN25+F1hDxQdPLIX2VUMpOChZvBvr2J9FfNvz7BWFmm6h1Yi6arrByc8kQ59VIxGx\n",
       "4XWC8CRp5FG7QpUBqvCxcamAFt9jfo8zlBxACo5MyFYiRu8sWVRGIoAAAAMBUwAAALNBmiRJqEFs\n",
       "mUwIb//+p4QAAAMAAAMAAAMBdfeE8n670JG9RLFrdXFm2EPC1aY6Ht6AjnN61aVJwBDl0a/DyPC9\n",
       "kCgDnZPxYfqpW1rCXVYKw6dXONKMRa++bYq3V4XsicXqEdzazIvtmiB57duKefG9wc6Hc9OJ54iy\n",
       "M2KT7cmkFH9MpOCgZYnp5yLOCcyscJuWqKMzXgWQBDjHftqxwqUYEQbipESa0Ze1N1tv/nCsNVQ/\n",
       "EAAAALVBnkJFFSwr/wAADoV564SOS8IeOAABR0oT3OohFiaG2XUuQjo4AhLBqbUUTZ5da6SZBPKx\n",
       "XcVU4y2LRcaxNrfgTTk+59J1Z4i3WooU/pFAsKKnUXC6jLvL8VZEYklS6/oAXePgpKrUNjUGYHaB\n",
       "0kw5WMbl+m2ulUta6NYq3qb9JGtnTEgjWU9d8iFD3ybAOO6lypVnaXggquL+qwMbpDVxbIKYUlog\n",
       "6QhMiD/fjowAAAMAAAXdAAAAlAGeYXRCfwAAAwAAAwAAAwNNL8sjqTNSDaqQIzwPGYmBADg3PYSh\n",
       "H1OnClUvBpVdlvmAKnYOtXndW13pOP95BQfoATNeCEGLFhU9E+Bo0ikUqT2lCgbugnrhcQgNu1VL\n",
       "InF7HabRrU+7IVQiO/hsXup11rPIRJZ/Bbwi89+7w4rZRZg8RifWCuOBuyUxdVAAAAMAA44AAAB5\n",
       "AZ5jakJ/AAADAAADAAADA0wmTuTcM07zXNv61p7Hnq4Rr9KLDI6kALE+yveejU2V+FcyUHow2sIx\n",
       "ZFaD/XueWzVSY4qtKL6pgXxnGx8/jfh8RgO8NUq4NSgEJysbAurE66ujA/wnGOHP6yLJheJ1P5lA\n",
       "AAADAAAu4QAAAJZBmmhJqEFsmUwIb//+p4QAAAMAAAMDDwvQBOo3doA/vCez0a4y9b2WKNPD6tpL\n",
       "sp5FydVkR7R692Qrnec7rdr/2EMBT61FOOLgnsayXgPpjcaSMPDnn60A7xJgLx/l9rjnW6IZklF0\n",
       "XEcvICXB4VGyjCgWBWHwi31Fdi/LIq48gEkfQR59cDqS1ukkx5pZC91mZUeUhhkAAAChQZ6GRRUs\n",
       "K/8AAA6FeeuEjkvCHjgAAUdKnQ1DvBQ1ZtnyAB/aa1rvrQeOgkgGGpfdHgXYvAX6/W2A/FwRFCoB\n",
       "LUORRcOuNBF2VfH8eR+cnZluGP+fqnJ/ojFut49x0I1ibGqpseL7LWgEav7C7cGvJVNGbyVdeodX\n",
       "u0wbVQcMg5jJ3D5G/0rhKNH4JsoFyxTCxJuFsD6fc03oQAAAAwAA3oEAAABjAZ6ldEJ/AAADAAAD\n",
       "AAADAziB8qtV4hVo/WdsSkTvhXz35r7PPhBufjhTUAWbZUjn0dxO3HIGL+HISkLjvFCg9XLPY+gF\n",
       "wpY/GM2KYmdmK9arwEktmOZVgYAp5SwAAAMAAAalAAAAeAGep2pCfwAAAwAAAwAAAwM4Jk5JlMMi\n",
       "thtuPNw0ukojb2x8sXHyxnlFTGUJK9w0QC1e3925zA+rOu+7e2907LGKwJpS7+IBAMi7yMe+yxIF\n",
       "iQHYeAN02/AHRjsz+p/sw7U0SGLYGAVqWhWTnfuEE7qkAAADAAAS8AAAALRBmqxJqEFsmUwIb//+\n",
       "p4QAAAMAAAMDDwvQBNoK+xR4poJoSntPjab8rs8pZLqgfZKMq+ltYT/qB8hip/K9cjiSz957CAKq\n",
       "r0CuDB5veYz+GBpf2fy4j2fs61Ztx30CHRCSh1YSs3wMC9TgreaxNOa4NZGBQEomtjHK416MYQyh\n",
       "UcYcyMwDThqEr4UB9jePHOJlU1BQxT7imJRSsmkFKA3c7e5NwHHNzE/WXj7KD1z+AkRAbAYAAACm\n",
       "QZ7KRRUsK/8AAA6FeeuEjkvCHjgAAUdIxX0fCjKLWbfywUEAl2sDFp7lJVTgt0gtOcn1ENwnqTJ9\n",
       "AviZL+X3YX11WvfJdGyQxpH34SOI3Ae6NKjoPKEuom0/evUp3TOyz2xMS/BN7wWuONxJKCQb9lOk\n",
       "IHZfgFIlirYvkImwKPRGD+oYoqUL/1qBDp0tq9BqrH7ScjCQi5Hu2Y7PT0EdgAAAAwABZwAAAGMB\n",
       "nul0Qn8AAAMAAAMAAAMBUPENi8lQBiR+L3i91RdxQX1bDw61+jzsxzFumenY6LAM9QBtexF6ff+z\n",
       "pybjpUoD54c1LDywhbjvYsMEECvWpCGKkKWNVuLOR+zLiyAAAAMAA/wAAAB0AZ7rakJ/AAADAAAD\n",
       "AAADAxF71T7YxBX/7puLwkAEJWJrQcD5mDNkPXBhQVlN6e4TwHNn5S2Xd4VQpSjOoY4Bso9wVJVO\n",
       "zxUWyP6EO2Nr9W8y+sGwRY6wUEGVvsesgIeoM7FHgRTLww0ZG99kAAADAAADAYEAAADRQZrwSahB\n",
       "bJlMCG///qeEAAADAAADAw8L0ATqN3aAg3Te9Jop5UMYts49hpVEoSXYzE3jxbg0eL8v9PP917rv\n",
       "zaTEJjaNCoO20iR9N51coS6Y909Jv0tK+JJQnjYSgXwHLesWJzcd6e61wjDEwwUzTxr6tu47gxJv\n",
       "bb6kNeWBa/OL4VNc61dt2cpchnWws9+0WsX0RbglFKKMTOkoeXCAQzoZFbt5IvIlld2EzBqnph5y\n",
       "jiZefLLxPWkJghzGKbOR6gVGC4V6nGPrzyAAAAMABj0AAABLQZ8ORRUsK/8AAA6FeeuEjkvCHjgA\n",
       "AUdKPmb8BH+zqrIZWqALOA0EhJiaUSDunZXYdcRBC4ljW07iPEbIfiTbbXsK0PgAAAMAAAfNAAAA\n",
       "UwGfLXRCfwAAAwAAAwAAAwMP5cUkv5Q5E/Tn9PSQI2wzsk0GiiXFdIM9FYPY0B0V9rVGMeZqAPsK\n",
       "uG6bo10nelglOwoy645aG32R20YAAAMAAA65AAAALgGfL2pCfwAAAwAAAwAAAwL8LZJeymFJt7AD\n",
       "672423NsS1yX0U97LAAAAwAACPgAAACcQZs0SahBbJlMCG///qeEAAADAAADAw8L0ATaCvaAc91a\n",
       "o39FCFKnvYmVlR26fq7nDPSYmqKXu9ldiUMHJ0uJ2+HJ9pB27VIceDPW901mEmvLgJGo5AoLgueL\n",
       "iuX0oMfZNTa47ZTZoKErzoqOs5TLD6Ar3tH7A+Z1BPCrRrxl/No8v3U+83oTt2rV3kfTd9luK5uc\n",
       "gpzJAAADAAFNAAAAOUGfUkUVLCv/AAAOhXnrhI5Lwh44AAFHSaIp4uXlMzohOMjzqnVAI10k/wjR\n",
       "R542LhboAAADAAAJeQAAACUBn3F0Qn8AAAMAAAMAAAMCsowaHsqZxKLZNnclEYPAAAADABgQAAAA\n",
       "XwGfc2pCfwAAAwAAAwAAAwKzb8miqAHJ8tHbQAOlDxK2r8yhOChak0aM4Q36nJZxXiBn6UY8NDSS\n",
       "t/X4SazvwpvaCqboo0BvyyTG2yFZXi12j2mPErwGGIpMAAADAAIOAAABa0GbeEmoQWyZTAhv//6n\n",
       "hAAAAwAAAwMPC9AE6jd2gHPWp52fl5u0O3sKOctdHWLfSEWoEPRTLb4ulcBG8z/0cilrBPT3WRZv\n",
       "94sX8MQXZz0FFz4pzd9TCXLoGtfjjguAQQi8xOUoV7iLf8gm19Faro+KrBfikd8bp6UwMoKALZfY\n",
       "2+1pzXpqLd41eMmzAW/unMNwZLnBifYJl4QVPH/t0hj0WA1sRb1D0t2uNbNb9h7F+CTHPrCwEegd\n",
       "CeUhMpV7evHkccZytWFDb9Yabk2AlUqIuc8vITmUkH32kZPa32tzlLaZ+FCsAhgae76v+9Ilk9Hb\n",
       "UIzvN56uPZopvdgYHMszZ+kI714PrmGjjF93HHfC+wldcqMBubnSLV27IwysklU8GvsuS4UVK1ba\n",
       "Wuk7wyxEFedgeV3965z0Poj4JPPrbXJ29+27iQP+a2u6dlpD+k0jZGqh1PXF6ypzCL4dpHtHEW+t\n",
       "AAADAAASMQAAAQhBn5ZFFSwr/wAADoV564SOS8IeOAABR0nys37FypNYilzygEufAZMmN+raeuYN\n",
       "8ldMn31u+ESI3XQG64zFjxCHwEA2fvLq+WS2f7fJmjK/CAODqsgs3qQLegYR8y7khFh6XeEnOayH\n",
       "Jbkd4QMDeldv/NsXmBihlYfBdK4tkzcpzUmpx4MaQQKnlw3BsoLAkToK9xm6so/iVFO7ZJNbb87N\n",
       "hllKaznUaAPH2x0QLTTPxYoa6Gn7VbYCekjJf+03Of8LtET7nmA8Xq2E5f6T1lFAYUZnuG/uQNH7\n",
       "qupKC56Y3EXckGctrCPtC5qMAy0FYrUlQrwVPse4KzDCymjxPvZlQAAAAwAA+YAAAAC/AZ+1dEJ/\n",
       "AAADAAADAAADArMaCIgdccdrgqCGHKFrtwzuwhu7aoOWHmazrY6YQv/dq/yk7A0T1MynDHUW4YqE\n",
       "LWrqcyFEhBeiODy94qr4ir/pBNA9b76ZsZDUq/c11NY3RaAdpXOv08usato6kLhWJLfBJ4g7NSvM\n",
       "bgbLqEbK765l6XmuF55qE4Q9FXqTEu9Ltjp/5vw0KraqAmwkzAhMhIiKLYNXS1xddX+amxkHQWz0\n",
       "URuOkNe7AAADAAADAS8AAACLAZ+3akJ/AAADAAADAAADAulwJv2yCH/kq8ZrQADh/QIh6KBoT/z/\n",
       "bQfU8rBQSqsect4drTWsacheMpLGgF4AG372nlX1JMmIFGILAqz3UV5/8/bKWnPFgltoNFVb/f53\n",
       "OZZUTTMDCQV8rFVBxDBMVKEc5F/LQtjD2b3ZEH43DuOfL1WAAAADAAAM+QAAAPVBm7xJqEFsmUwI\n",
       "b//+p4QAAAMAAAMDDwvQBNoK9oDyukvxr/wt5w6V96h855l5b2N9KIKz3YhayPI2ilJzKq8cTU0a\n",
       "/wjK4aHZhPeXcZWzOj10KCDkMvEzWu0mcAlKRiziQ3wDiOwGv2jhEGwyrBG6aUe3pjWYrx0TA86H\n",
       "rmbPclKXuNGdmxrjegPSGqtavJeAq8yYEnNh4NZrPufTaVdBmJX9rKO6L8aGy1ccPm3ercDWUAXH\n",
       "MqESQZPXKLIZDD4WI1i2rTNOohjur/AkD+JJmKxVH3HXBmWHdE7pjuCAL0OEIPbSUR4/Pp/pI3VF\n",
       "jNw74d/fdwAAAORBn9pFFSwr/wAADoV564SOS8IeOAABR0oT03NXVmu3guH0Fjx1FovN2WsyHrkA\n",
       "E+pjygwEh3jN32dxxuJg/R5eBCOJLdbLJ2AyfSC0Ndyp3gG36rAmQ4oY51JfRDSOxh9je7o4BwSu\n",
       "TWzc5zW26e/+RRh/M4IWV5xI07V7cfPCCDCmkTTgCA/lbpdMkE0q1n783/vyzaxetspMEB7hP2LZ\n",
       "0hqeRCx5a4FHmgGtegOypro4RHb+bxqw4TPLLHjrDQrvUBWEQITSYwvtKcPMs0setv7/v03scSfX\n",
       "faSfwAAAAwAABgUAAAC1AZ/5dEJ/AAADAAADAAAFr8R1iei0qKQbPBSkxoTyIHDo3Yz/gAjQJgC1\n",
       "QPKrXKdGYYFuLWJwcusYAtLT/M8u9sCDjT2EjsdbNrZAxrHWgF1A51EKvu9u8h1S0CXvCtOmsOn4\n",
       "7Uly8LfIX0lh7TcOBwtn7fEivOtq1FcghDVLEyVN6SnBB2Ik7BczCVuJSge5E685iz9TD4fUP3uA\n",
       "esxI+ksJiNalwdzrtd2A6+ZqAAADAAAKKAAAAJUBn/tqQn8AAAMAAAMAAAMC6MsY3tmbG+e/PRrw\n",
       "sUBEMFjrbgZOl8ANhBSthEZfPRSDOzndBpzBAptEMxjLCLP5nNv1sOrgYRENsZj3jpLHSNf0/+4G\n",
       "brQgXzWYwgyi9Myzucwzvz6nAh8ZPd4q4v9dlvOdS4ChM+00iQclqlD7RdJ8u1PolUPITgNueP7+\n",
       "AAADAAALSQAAAOdBm+BJqEFsmUwIb//+p4QAAAMAAAMAAAVkJlYgmmlpjSTsFytcBbdp8PG3Jb8u\n",
       "j9kalQvcX9/tUsobP+8Temqts9ASaWM2mBTpD4FzwKR4UdodPg5SBqRXOFPA8r0olj6ZJqmmjbTj\n",
       "zcBjKpQa0hAWm/6NuRnxsriBrr9Iww/HoXRycl54PzxQgmu4R1oq+kbgWxKXXBRtsGqsSGjCV2qL\n",
       "GbaN03L1hhRnuUW/p+0y0Vy2oUsuuImBFdKpgfYGI3oiT4o/AM4hi3VtwtBCp7SWTq73bYqlAu5R\n",
       "n+wq452VOKx4Xx8xducAAAErQZ4eRRUsK/8AAA6FeeuEjkvCHjgAAfvt1/X8kt5WVDQVBDaqbXRC\n",
       "36g/PZ0HVkZYh8W2VVcpWHjqdoBlWnmW5GDMlvDPRH5Q1DWDZQ5sleUEoWcw/8Gk8nCBEV9UYl/A\n",
       "ni+sfAn6PQAsehX/zIvU7I0DVj1FRFYMUIe7IvSouoc9TFxBXvzgFnFHRSZVyDhh4Ni3i0e2FThp\n",
       "IkwDw/2gjLNMpmkiRiU0LgJlCw7OkScoBlOOmh3dlbSanJzKiR0mTBUeLOOzkP2LQNx8YIB1Mo+J\n",
       "1x+ow48WeWn73d6swRIyyZQrxh26CKq3oVigqd84V6c1yQv6FcIZDMj2Ng9A0+UstPSYvcI53jyB\n",
       "W9/gzgPG05wYoaB1+GUPXZsnzhD5FFMiAAADAAADATsAAADfAZ49dEJ/AAADAAADAAADAo8aCIgd\n",
       "ccgpWxS9yC6gjyLo1FmM9BkuocGGiprZFybQagj7fUrFKvh8V7/i9ibNtjP1flOm7Oj/WkzrgkOz\n",
       "kI6vl7kKYyKcdFPmW43l2RcXWfEYzHNBdy33C/NSfyUrRG9n0NoUntHG47dBDhQtoss6WwKGrote\n",
       "HMQqCxE+bQIx3CwaU+fkhSHALU96GCey0Kf+REbzTEpUGYhDCxeS1O0jD2T/OKO/5NV4tbe7Zk12\n",
       "ADRlJcA2ahCOyFnY14rX5sSsk3h0eX+2AAADAAAFbAAAAKUBnj9qQn8AAAMAAAMAAAMBR8jYLOJS\n",
       "MusUtemlMjp6aAA2YZzj1dGgtjDN0+rML/+I32A7nEOMkLk3jRzQi9JV/hjTu0q5l8LpJB2WFwAc\n",
       "H++JevdyBYqEQ8k6nppLUBO1FgYeHDuv9ZnAklyGlzeDKzPfJ6Dygk8t05pSOmNt2fhkdTcYutpi\n",
       "XqfJUzDm6Fm6Qj9lz24RqXnKNNynGAAAAwAAFNEAAADhQZokSahBbJlMCGf//p4QAAADAAADAAAU\n",
       "/coCERHUfy9hXafIkmaPYCTskgmJzRqJl4Kc4oZ/OL6mYL1ifT1lgGk2kLORLwutfeqFC5DfAOWM\n",
       "1r2MB4NZ/FMGoR93+u56qX2rwKmavbHyopQgz1uxPcMldU4TfGdKLnerY+ANOgpYDtuFJjBDqIwU\n",
       "IsimSMv/hgLx9QD7sMgG9MSQyYJcO6e8c2J4PX/ZjeKZjPYKcZAx4l77AlRaS1CGb+/54jtJnHkW\n",
       "3fyZO1b0uZdhQ2BIH0sjWq/pEnkFdlHAAAADAA1IAAABSEGeQkUVLCv/AAAOhXnrhI5Lwh44AAIK\n",
       "CycO2yTy4ecwkeeBTaLJsBe9izSgEuJdkSFaZHkuoGTd7+Wbvejj9fd143nkOXEz2IDOE6UokD4/\n",
       "XOQCKZFBsyMBYI46wTpEImJP1vDpWvImvqqEQN/YSBU/VbnIKL4QsIPd+QTVH4un08MjGdJ0DIS2\n",
       "5A964FH9/8r8pWj0c3IfB/wiwJ143QGJdzbBL50jO6bP3lVVJVf3RVzZv5otuL8R+EWuVseHSA2H\n",
       "gqiLHEzCDsMe2TSR+gxEkTf94o/2UI8W3QYyF9sPcXMmxDw73BsFUXAGhFuMJJBdfYM66rxMUkK6\n",
       "jUFP4Fe1MyVq2y8CvS5NlcORpK4NS2M72wPFbNQOcRbgf2TU7KmbxLWewFpa6l6Ba327N9CZcczD\n",
       "yiEEWVf1tiSjoQYJeoAAAAMAAR8AAADtAZ5hdEJ/AAADAAADAAADAtaK5fv0hhMZEAXqT9KaO5VA\n",
       "BrKKu5Y6Uhj2UIZfBvWaJQml9IBMA7m5OIA0wxVpPapzJyGdWlF6YK7tH7fMAMbT18PV/cXCTUUI\n",
       "YMed79SFpBwtUZ5BjqqFGFZZGD6qpWLw4/glWqTivJxP4tUD0fNW+QTLRwNtZEES3PaK0aJtwpBy\n",
       "Ccaos2h5l1/du9IZnUGHA02WD52ODOnB3lm0tsBr70O+kV3TBGQsGn2iMqgC9vWnZXyV+Zs18kBH\n",
       "JnPinSX9qxTnBHFQaFfKgsWDlEdon44Vx9AAAAMAAEXAAAAAowGeY2pCfwAAAwAAAwAABWfOOEu3\n",
       "keZWTttTchUOcB1gDh+Wj1HrZvGgFNXSG830QOTaIePF7qHeAcjdFZB9qjF2Uam9aI6JKUAWR3mO\n",
       "3LfcQp6xHTjOrsWY9EYz8B4+FMucWLWwXtpxKNxO88tN4ScJkN+CxOQQs+kbN0sSa6/yy79kQHIR\n",
       "W/Ywd8uWn9yaPF+BA5q7OOPOExUAAAMAAAMAG9EAAAFYQZpoSahBbJlMCF///oywAAADAAADAAAT\n",
       "hHxgIJmDdN6uRW2QqzQv7eb0rrQkaqGItLsEeKRbah8P0FAWLLGATRwjoUDWmL0ODDTDu4CTZglW\n",
       "uo5OvZKNUz6BUtcltM2lQbqfrRsY1DFN+QjO68vgm2EEZS77wPTl9ycZnW6b3slpZusEctnY48G5\n",
       "8ZZqwdWcyiEqfYG0lKcO40Ry/zLfkmejQcXy2PKktWpo68py7CyZ2qtv3dW4RD6IahD7511u81EZ\n",
       "1Xmid9/PyJB17sQ9XO8uYzB6tfUr4OSjv6GkbykI+2RmacjWUn+NQYg1XUq5JYnOOpY8ex241kTY\n",
       "53yguv10I57QNoI2o4qP24nZHlQzGvb6Dk4UX8/gSz1XAhY2jpCuvKNmLktcPYc7LM+feU+ES6EB\n",
       "N4GaZ8FrhyQw/GhNRTuuLjVcPLjVIz0UuIunPt1KSDLZoMUAAAEYQZ6GRRUsK/8AAA6FeeuEjkvC\n",
       "HjgAAgsMYcalCvBbU0PY1abZ0KIIsjxoywBdw+tJMn1ejCieKDNr1OTjG9kMMStDzTqoWggy6O+W\n",
       "YkoFUSlBVZugLW0z4dsdfpXRt9X4eFdmrCsBHsETgDHZRYJKFv5qEtWLBItLQBpkB30njMIT06da\n",
       "ryWBXO+Q62FS76ita1mJ+stsRkLqhDOSnWO3WL/aJchPp8KNwrni8IqpF66Vs5GLMSavemrEW3hs\n",
       "7yOLK2wLszHgZesikAH+iHghKKd9t0EfN0UroOIN9zlTYx9Rnp9LryT1uxdNOnogWVeuF864BE/6\n",
       "BWsHC5VS9CMP0DzqQFzrITnwLw2E+5SEMqegAAADAABWwQAAAOQBnqV0Qn8AAAMAAAMAAAMCoao0\n",
       "D4Rl/U7IsZKklEGMPLVdUi/IA0ZbKiQieU76Kwoz1N5hb9K9COm/viOzPbuEUdNuIGahmZpwTaBT\n",
       "QwJZLXzdZk/czS4DsRDsqcRfeGEdZ34izwKkx1owS2GnNsBxE0+I/fInJWPkBz8FQAxlEocwtcUH\n",
       "pFTNlmnAAWoPPq11OHkhCmEMKPtesGo7u/CBG0MQC72mMKXljhHOLQ+KMjrlOk62EuscLlM1ZBJ5\n",
       "aHlzHITL0mNxOhjAbkk4MG8qItHc6vbWYQRSCCDQLgAAAwAAC2kAAACbAZ6nakJ/AAADAAADAAAD\n",
       "AqHnmbQAJYKyN10cUxXZQigAHJ8tHJVXtAZu7GFEKrDqac6Gb2Xfi5Zi9PN3Bczcuz1gB/CvGUrn\n",
       "aZ1naKuUmvlNQaDGqkbMcogKcZFEGA6a7arMtXU+9s3J6WnPofv6VMtHUCtMV9dvq27djaCqiiNJ\n",
       "swzWUQ6IZkPFZk0BKWZQjm7liAAAAwAACDgAAAGJQZqsSahBbJlMCG///qeEAAADAAADAAAFh9i4\n",
       "UkRAEkP2EI17u09Zejne6JgTX9p5FiTzO4XPeJHT2FyS4UxipC2ZiehR9BM/y8BvGzFIvDkrc7s0\n",
       "Zbeh6sjl6/PqbrRqUDqbRrI9oH4YWQ1yhZIn4j8lWAWB0kF+n9hS/xhzmSV1Q+qbsNrJ+zEe9La9\n",
       "yTYY6hn+Mkh317219Y381K0qpZntI4El8rDxPkLBN2RaJ3TbXsLezLhemalCnRF25cbMuE38WDnj\n",
       "ioPSkGdb+NiV4rihiQ07r412TZkw/1Z27H0JYx6JGwbTOjNMq/jMPZ7Nnq3gv6PewSrtEtUZu9fX\n",
       "An0Mg6gh3NBKDoROLVZ4PbiRapNgddC9rEoALBgGD81He9r0IrJ/VTG8v7TqqMtCx3ckNE5QJTcZ\n",
       "RDxTNm7+zumKaC8pwWykFgU2QjZ7ZezgN+ueQkTuDsIsFEfayHkuKOF9aY0YlAy1JsvaYjN953cY\n",
       "tb5FxRFbzo0lmFQZ/E+/JTqAAAADAAb0AAABwkGeykUVLCv/AAAOhXnrhI5Lwh44AAILDGFCllbj\n",
       "xu1SbKYX2/BXOrZ4YzmAOIG8AvstVumq5NrlItQyVke063RcTWxpHu/N4Jsl0u8BfzzY/07rHbCL\n",
       "CI5WCRAL37NB7stRNEAj2wZZmni25WCClVLkwVAonWvroNY4Fil41qm61Nh8yy55+rmo1Li5W33M\n",
       "KU7SbSdkcnWWlDNvDxmdfzZY0Iws6MJaooOgJzKILheW3MS2M+7UD0TE3raskuZJu2zS/uVrk9AI\n",
       "+U+dqQ4miOfM9IwMOkQnl4Lr+xLDHuC+jBHybaSonuZ1FDCBupJ/lumlVjVc45CbJaEt60BK/h5r\n",
       "G18YKWdwdyog4hxVCbBwfHWWLELdcU8zcPvyLfyt120IQZQIYngdcz7Ltm7Ppjm6ekB250dHnTOi\n",
       "MqgKOyqKdXKXyqiZcjye33LOLtESboPCj2gyVPYb7be/lIFJjjy2h4Q9iC34dKLiUzw5XDiq5k5K\n",
       "oyQx91YWLHbYXdhvwpKiYfUbU7vRGzWjGiXUQOVUcEKEb7AXtwUNBTDw+E7wvy9GIsdxIoMG1vz3\n",
       "levqpN5eitCbvq6BIQAAAwAAAwDjgQAAATkBnul0Qn8AAAMAAAMAAAMBKk39bkfgayq5OoBYkmXU\n",
       "2kpENLMNFawSp12Lk9D3IL1lBkvHQSu776ehTDaQuN/2BFgIe2W67zDvF7irg1SgocfV8thQCiMb\n",
       "TmiDJfrVjWsVaxuHlfhWusFP9uWizzZASnQaUG1k+T/k9m65YoG8oTZUsbgEyghZ6CimDuo2FTiZ\n",
       "LwNNJvA9dsZ7tFB3Bc5bEvfsDnAi0ePuqQPs2i9Fp5G2ZU8zZb2v+pcWuHcnwq3LekmC+o4sHF12\n",
       "YF/II8raMLqqtZwn9pZ2LjPcGStY0GCnQQjb4lBfCe0H+0GHAEb/nf+kUdhbnpP3OfZqVR2SjTt+\n",
       "xKn5wRI29rEDpd8MNpmcMOjp3jxe+PPVBbiwLl7uJdSSgeUZyPQnXYo5MgsUWhAAAAMAABiwAAAA\n",
       "5AGe62pCfwAAAwAAAwAABR4+STcRC5QDRwXgABYsQFm9K6cGEnzOuRPi/kgr/fhj+g85/57JXOnA\n",
       "FdGepeIC2Xx8kidVJWG3tn6reFUpGOnzsZOEN+UaG7jv2D2aM8mCZWgNXfk0dCeQ9i/pkiiXb2h4\n",
       "hbwlT1uxs9IE43Gtk+7bAb2/0Px5cyTnFQojG8Lpa+zdmKrOEAxlFbroyL4m3ODhTQPmWmMUBjdq\n",
       "hHkdSUG8c+lT1rC2OKtd2cEQWsVf9l03wuLwCt01fPSvRqdTz6EoE3EzAvISjHSwj4egAAADAAAW\n",
       "0AAAAaFBmvBJqEFsmUwIb//+p4QAAAMAAAMAAAVj2LhTqvoUEBVlNN8Ty3GBPULtK9zkCu6Avofi\n",
       "z+Rnw9NH+mvMGt9y6V+cVdIkeGkCmlq6TtYoFCHm2O9TpEbi5FXY5vnF7oXb3kuGpeCZOAnnqSV1\n",
       "1ALgBG9cvO6IKKpnPPg2nQEvv6cLGFNJJnfzYT6zzpWK3EyfQXkMnmhlP4N3GEa/zW6KUL9FwWQH\n",
       "4gLa1I1cnRODud2iB9GIN4b/lQteZUlEZwlsWcI+Jz5RHnw654cyiUlAaNpkg/3T0kBJ9Ga9TY6p\n",
       "b19a69UCr65fHpHCiiVL1Eg9v3ypzkkpGGKqhKjJ08RJevhNRDclh+3koBj5tYDNT5mDUCWJuzJO\n",
       "QB83TqI+oX+3F1k6PkoW+2cv8aOAuuTzoxwUfNSSpqmo4SvRaTTJDxayz91lM9IgXaFv69/KuoXF\n",
       "CjeLgccqFEJZgldVnU6uHA3AN8C9HehIWZnorqn936ld3Wj3fdMO6D8xyokXe/Gb4RmZURcZPNNO\n",
       "7tiDZonu+tO5tkbO1Elwl8WkmFHMg2EAAAF5QZ8ORRUsK/8AAA6FeeuEjkvCHjgAAfvqy0Xcc02g\n",
       "mfQBvnQUYpcv0Alvf7eDoWnZrkFYLeVLYLPH9Do/4aKzMWU7151JrcOqr3D74Wwcpdt9AOgypUet\n",
       "kO5kSDQFo9gEMyPpdrUQD2BbAGRO8CPWaXZyh3JPcJvkBqPpfRd9bJrTzJXbFoy64o3CUjvZr2bo\n",
       "MoVKqePU1Ex5X0UI1DNhpcB1R9zEKQxxBG4XR1C3Vz65WgyokHXUWSfqLKcARDxKzIl19vNd89Vh\n",
       "ozScAgj7k3Z4zWCBJnESd9K9EoN33HfLvVo2YCDMTWMprtZPPPAjia6njuyrDcclJrc4r28JXynk\n",
       "qGzhZqe5QIQBEmo9e0Hca0u0swSQDxX4oDe1BBTSTog3fwgaeHWqBVIkdbDHMc1nxep0Omq7WOYB\n",
       "yjmxO2L9YqMkBIYmu8ZJ1ix5ANvi2cPVevbbf5XgrFo/Cme9g1hw5LoAF1h2rxj4xia3+AjpGAAA\n",
       "AwAAB00AAACxAZ8tdEJ/AAADAAADAAAFi8RfNCsScnybcYAn3HY+V0Hgz+J1TCGoMeswlpan5808\n",
       "mpD4nEaslS8TPLAz+dx4hLKaO+Fb68Eg1+cIzN7ZFmTdCWLuxK/Easf3qVDwokDENpKv0IwJMiwT\n",
       "9dAYwvDZyVAGS/aKKkU0N8mEIMgRQj5FoI2xtFSIP+ORsqFobC6bBoL5ZXNT6zXvr0bS8PmFRDjC\n",
       "MLRGnCUpY3QAAAMAAA6ZAAABAgGfL2pCfwAAAwAAAwAABYvns30J7EwRRnRYgwo6iWQArW4Augy9\n",
       "QIyrV9NZ9oNdyahakDR1XLaoqnAQE7W8XrVQHviZI4ubNMY+8uiG/WiZy1/hP3lzm4cgR2YlQme4\n",
       "RtPprOHGfITNROkaxq1q6gEofsGOcekTXDAZkK66yA/8VOTj/tIXcF9Ok8Laivuc3SxvO7POKTwB\n",
       "5vRmt1c4TCLShjWTXMEYQ5iO2/LuV0qZbFOB1uq5MKr6aTeRzimsuwRDtkiVVLSYYXh3GgRG/c1z\n",
       "ht7vKkP3CoKB5Wk/guaA0MEr/Z7RQi0V3ROmPDBTMDaC+xkxMYEFXkWSAAADAAAI+AAAASlBmzRJ\n",
       "qEFsmUwIZ//+nhAAAAMAAAMAABRuKWamdsbRCIgUUBBktCK9DDXhO+7yGhX/VGDdQqUHtfZQgyVs\n",
       "+5az/zOobs3wWAcbxyrJlhA24edR50V9SfaFhj2DD9eoInL6q3clDbWaROpvzZz8EQOluKQu0yYQ\n",
       "uQX0Q/tXAVlzT9sJ7V/owHYIeajJFgwRYp+7KBElWuypuYfgFG4B1fkgMy3Syjr09Jnojg7sugE1\n",
       "axOuOQ6Recr0eHQTL3SCWoBe124NqjFw8RFHV9kDWgRo7KklyKTrrQbrBPOxwypQk6w9o+wEh5P6\n",
       "J6SPMkvH3dFrdf8fuqLpdDc8b/zstwBQpPEQQA8r1YxdAEOMO0PuaPCYdF8jJn64fGHwABxSsgEA\n",
       "mBlJclHotZoAAAF+QZ9SRRUsK/8AAA6FeeuEjkvCHjgAAc9KmTtpT23t6qwzC9ViUyDJroAqd/TQ\n",
       "qkiFx64P8xmLaWHnM3phtCcBwEnL7/58d9xylyZRv8qWNoxVyg9qwbpSWXtRwso8G+buOuFgP3S1\n",
       "dAKtGbe07bZ1VaIKbLfo1yI3YW28pfZ4wijxvxiac+ohi2pOCu7Kwi9+ThUmycg1oEOLf9I2SELI\n",
       "r5T/+SxdStVmlBTRVTiSOfdvC/pWyLJd9E1RKh2I+ulMJY3qr1tVJlKvdaffRVbHion2ZRYJDKJk\n",
       "t160tCdJrM4USFlAhTxGOcWSBiXTzbQSkTObKRf5vqH3+ZOKRQKGk9laS5bpBUc5kDGlpwCXlQU6\n",
       "jlUc/nTgrrk7lCDO4sFXpLLksl5IPmTF7fGH3WmziCUbIBk8X2POTL3M+c0SvC4jXW4o5mI/gXBc\n",
       "OkNfZOWTn5NjFJy7R44eGstZOm59hPizrAvFEcUVDg3nSiBJcT1PTf/KfSnAAAADAAA9IQAAAQQB\n",
       "n3F0Qn8AAAMAAAMAAAVlgJd7A6LVfLBcrTmqxHI5H7mgARjnrwtT/WpRh5lLlO5PSbAhItgwWwqa\n",
       "PfKE3RpL8Skf7aI3voOyriQVrhccORy759RLobsMgbNUQBhkxjFKEuk9xhHc8JXMR0zBpCZ62Ke4\n",
       "qFp1TAkYQIJPYhUKJBqVw6VlBkbDuz7dDMA3Qz6XKwiuNImve0sDwKlHlSmZGB9FKPXCcrqZ35GK\n",
       "BaOtFVpv0l9bKmMmkUicU5sMlhvwAn+E30arYniVHfNJmgSJAlqzRqMnC7bUv6+yiWEHzGv/1aot\n",
       "5Zf/GpefFnNudL/2qxgu9rNhOhiMWy6AAAADAACLgAAAAVkBn3NqQn8AAAMAAAMAAAVnNwWjBb+x\n",
       "icmYW6HpgkzIJpSukSgE4fT2G5Pm04uiPc3uva/L+TOUrb7OrjvYuM8WrPuR0/Nf74edF2agRlEq\n",
       "Hl7+ixOkSVO1gECk8naKjGvjwEenX3oUzNitKjymwBM1ifRQLSLAWt2tLjK927armPAsdCPjozeu\n",
       "+Y1DZepd/A+S2qq+bMXtc5a6lczbyhxJJTbUjtI7MCvmxSIcj6FtGGWJqeUzSAuNLGugNOHaE4jW\n",
       "5A50tPiFMRK2TxjbSibzZvMM6Oa5Qb7LvOSLP5DuOQQopPEJmS26GhPnBhTOR5tTRBg2MHr9xcte\n",
       "jRP8J84PEzlkFA6w3D1m0BxStLan28wjflnf1n+hS8upGOnv/uJx9E+8yteLGNAOlNVzWW7gPlmd\n",
       "+/1LG+R7eYxXzSIY262IEyxkFuLKeVqST3KDbsO/mAAAAwAAFJAAAADyQZt4SahBbJlMCFf//jhA\n",
       "AAADAAADAABFSl14Z+Nw5eY2VCIrN03mbXuAACdgXtPL0RBt7V4YIBB61NHMknpnIImuJLjS5E92\n",
       "nMXWo5aL+7l+cEVCEayU5kpnJVHUheCXcuItvOKj7AbL2sWtk0JNL51tz0whhZWXL/pEzCJa8W+d\n",
       "G5cNTKwaQdxT0VgZMi1uoO9dvMtoVrZ8tU1FwCvPxT1FGTh9/mNbnaCVTfqCBRgtQy8R9Uw47s8u\n",
       "fzGsx4y8QRyT87aURh7qAColSTNYvaWzOqLluz9ZAtzLCfyRxaXEzItdLvC9SeWrORATSpNL5ksA\n",
       "AAFOQZ+WRRUsK/8AAA6FeeuEjkvCHjgAAet+Rf9aBVSAD/rcCukD08oLPu5nA6mvVpkY1AXzAEaH\n",
       "GEkrK61TqQ35S1w6rlN32JiB0Jb/OcrWDTUhL2Re5OuJYveGOHoQAzVjhrQpiBmu2NYR4Y5wfeyh\n",
       "MwsrDz8bZYyCZvTgu8LclgBeyIEFcuT8nKJzieKVSR56EcFubSF4TxXKom4QP9ciIiyZVkxDCxjS\n",
       "cNzGw2afRvuV2c0BgdnPpQBPS/LnTVly2m28KHmDiI+siEaZnJqtS49IzLrAolGLA0hvIjkaPjN1\n",
       "XFBZc29eWssZi0vigXJhaOHOQhZDcK6mlI7WDohYXM00YDL5GEohEnct+swdj2pmMjBQg3ghDaRp\n",
       "cBAnWKhM7hBsSvXuun035tLztwu4gpaAc+ONa+AHAfb48HRb+KyOlwnfcJwAAAMAAAMDpgAAAKgB\n",
       "n7V0Qn8AAAMAAAMAAAMCawhKwO9QtcKl8QKQI1aXAABcszgiACNAh6x31ugU2/jMgj2FToz1Z9Qn\n",
       "6ZtMJMX6nqLhR8wDE88nGV7bkMar4hD2DFEbeyYOjA+KBAHMCe4U3KgMCLpqK+xxrf1UJb5I+DvZ\n",
       "xDU2ut7WEd/RC/X2jFh0y2M7m1tFlpGIoTv6eiNtQVXD/03ozMYbDo2s15wAAAMAAAMAR8EAAAD0\n",
       "AZ+3akJ/AAADAAADAAADAmSb5WUvDJSh87SL2IUF9Wi/jAHDvvbif/PeMyZNZO0V0BFWg0cf5sAN\n",
       "O+woPLA8u0HF3BlZoPnfRi6Rsz9HASpPCeww/T+AMEApP8lJpCmqyMYKNRW4HZgJmljFRHG7Hb+c\n",
       "eAfcwY6gIc3VrVnhY914P0isQW+MLy9zfjNn/EH9pSB5+x0Hyc6AQUD8OwCejoAGBvPecQo/s1DF\n",
       "DlO7QguQejJjqPUTqvghvVfQbmETt/55Jluu9yn3SdlmrcW3P67WK0n5S1y1QTkF6IhK8IAlwmIQ\n",
       "i6yJAZ62WzL0AAADAAAPSQAAAJ1Bm7lJqEFsmUwIT//98QAAAwAAAwAAAwBWvYivT0wDCxdmEpGy\n",
       "DoK5sAI6RZvmtx5AJgYsvQYI6TQrK0WcxwLlBDYwP6G/RPsK5yNDknUck9x8QQw3/6qh12JFi5+f\n",
       "soVMX2dOvL7Rio9wz8OwnqcZVhcT6hLIFMGOuh6YGbSpGDvUfAgU78yZw+ME3QpgSrzLQRA8xCNw\n",
       "zVQEUijjAAAHaG1vb3YAAABsbXZoZAAAAAAAAAAAAAAAAAAAA+gAAAu4AAEAAAEAAAAAAAAAAAAA\n",
       "AAABAAAAAAAAAAAAAAAAAAAAAQAAAAAAAAAAAAAAAAAAQAAAAAAAAAAAAAAAAAAAAAAAAAAAAAAA\n",
       "AAAAAAAAAAIAAAaSdHJhawAAAFx0a2hkAAAAAwAAAAAAAAAAAAAAAQAAAAAAAAu4AAAAAAAAAAAA\n",
       "AAAAAAAAAAABAAAAAAAAAAAAAAAAAAAAAQAAAAAAAAAAAAAAAAAAQAAAAAW0AAAB5AAAAAAAJGVk\n",
       "dHMAAAAcZWxzdAAAAAAAAAABAAALuAAABAAAAQAAAAAGCm1kaWEAAAAgbWRoZAAAAAAAAAAAAAAA\n",
       "AAAAPAAAALQAVcQAAAAAAC1oZGxyAAAAAAAAAAB2aWRlAAAAAAAAAAAAAAAAVmlkZW9IYW5kbGVy\n",
       "AAAABbVtaW5mAAAAFHZtaGQAAAABAAAAAAAAAAAAAAAkZGluZgAAABxkcmVmAAAAAAAAAAEAAAAM\n",
       "dXJsIAAAAAEAAAV1c3RibAAAALVzdHNkAAAAAAAAAAEAAAClYXZjMQAAAAAAAAABAAAAAAAAAAAA\n",
       "AAAAAAAAAAW0AeQASAAAAEgAAAAAAAAAAQAAAAAAAAAAAAAAAAAAAAAAAAAAAAAAAAAAAAAAAAAA\n",
       "ABj//wAAADNhdmNDAWQAH//hABpnZAAfrNlAXA/554QAAAMABAAAAwDwPGDGWAEABmjr48siwAAA\n",
       "ABx1dWlka2hA8l8kT8W6OaUbzwMj8wAAAAAAAAAYc3R0cwAAAAAAAAABAAAAWgAAAgAAAAAUc3Rz\n",
       "cwAAAAAAAAABAAAAAQAAAuBjdHRzAAAAAAAAAFoAAAABAAAEAAAAAAEAAAoAAAAAAQAABAAAAAAB\n",
       "AAAAAAAAAAEAAAIAAAAAAQAACgAAAAABAAAEAAAAAAEAAAAAAAAAAQAAAgAAAAABAAAKAAAAAAEA\n",
       "AAQAAAAAAQAAAAAAAAABAAACAAAAAAEAAAoAAAAAAQAABAAAAAABAAAAAAAAAAEAAAIAAAAAAQAA\n",
       "CgAAAAABAAAEAAAAAAEAAAAAAAAAAQAAAgAAAAABAAAKAAAAAAEAAAQAAAAAAQAAAAAAAAABAAAC\n",
       "AAAAAAEAAAoAAAAAAQAABAAAAAABAAAAAAAAAAEAAAIAAAAAAQAACgAAAAABAAAEAAAAAAEAAAAA\n",
       "AAAAAQAAAgAAAAABAAAKAAAAAAEAAAQAAAAAAQAAAAAAAAABAAACAAAAAAEAAAoAAAAAAQAABAAA\n",
       "AAABAAAAAAAAAAEAAAIAAAAAAQAACgAAAAABAAAEAAAAAAEAAAAAAAAAAQAAAgAAAAABAAAKAAAA\n",
       "AAEAAAQAAAAAAQAAAAAAAAABAAACAAAAAAEAAAoAAAAAAQAABAAAAAABAAAAAAAAAAEAAAIAAAAA\n",
       "AQAACgAAAAABAAAEAAAAAAEAAAAAAAAAAQAAAgAAAAABAAAKAAAAAAEAAAQAAAAAAQAAAAAAAAAB\n",
       "AAACAAAAAAEAAAoAAAAAAQAABAAAAAABAAAAAAAAAAEAAAIAAAAAAQAACgAAAAABAAAEAAAAAAEA\n",
       "AAAAAAAAAQAAAgAAAAABAAAKAAAAAAEAAAQAAAAAAQAAAAAAAAABAAACAAAAAAEAAAoAAAAAAQAA\n",
       "BAAAAAABAAAAAAAAAAEAAAIAAAAAAQAACgAAAAABAAAEAAAAAAEAAAAAAAAAAQAAAgAAAAABAAAK\n",
       "AAAAAAEAAAQAAAAAAQAAAAAAAAABAAACAAAAAAEAAAoAAAAAAQAABAAAAAABAAAAAAAAAAEAAAIA\n",
       "AAAAAQAABAAAAAAcc3RzYwAAAAAAAAABAAAAAQAAAFoAAAABAAABfHN0c3oAAAAAAAAAAAAAAFoA\n",
       "ADVTAAAC0wAAAh0AAAGIAAABaQAAAWUAAAFUAAAAuAAAAU4AAAE1AAABbAAAATYAAADUAAABhQAA\n",
       "ATwAAAEMAAAA2gAAANEAAAFDAAAA3AAAAIcAAAEAAAAA9wAAALkAAACsAAAAtAAAARQAAACvAAAA\n",
       "tgAAAVwAAADGAAAArgAAAIsAAAC3AAAAuQAAAJgAAAB9AAAAmgAAAKUAAABnAAAAfAAAALgAAACq\n",
       "AAAAZwAAAHgAAADVAAAATwAAAFcAAAAyAAAAoAAAAD0AAAApAAAAYwAAAW8AAAEMAAAAwwAAAI8A\n",
       "AAD5AAAA6AAAALkAAACZAAAA6wAAAS8AAADjAAAAqQAAAOUAAAFMAAAA8QAAAKcAAAFcAAABHAAA\n",
       "AOgAAACfAAABjQAAAcYAAAE9AAAA6AAAAaUAAAF9AAAAtQAAAQYAAAEtAAABggAAAQgAAAFdAAAA\n",
       "9gAAAVIAAACsAAAA+AAAAKEAAAAUc3RjbwAAAAAAAAABAAAALAAAAGJ1ZHRhAAAAWm1ldGEAAAAA\n",
       "AAAAIWhkbHIAAAAAAAAAAG1kaXJhcHBsAAAAAAAAAAAAAAAALWlsc3QAAAAlqXRvbwAAAB1kYXRh\n",
       "AAAAAQAAAABMYXZmNTguMjkuMTAw\n",
       "\">\n",
       "  Your browser does not support the video tag.\n",
       "</video>"
      ],
      "text/plain": [
       "<IPython.core.display.HTML object>"
      ]
     },
     "execution_count": 178,
     "metadata": {},
     "output_type": "execute_result"
    }
   ],
   "source": [
    "viz_images = []\n",
    "max_depth = 10.0\n",
    "\n",
    "inferred_poses_with_occ = jnp.stack([inferred_poses, occ_poses])\n",
    "\n",
    "pred_images = b.RENDERER.render_multiobject_parallel(inferred_poses[None, ...], jnp.array([0]))\n",
    "occ_image = b.viz.get_depth_image(b.RENDERER.render_single_object(occ_poses[0], 1)[:,:,2])\n",
    "\n",
    "pred_with_occ_images = [b.overlay_image(b.viz.get_depth_image(pred_images[i,:,:,2]), \n",
    "occ_image, alpha=0.4) for i in range(pred_images.shape[0])]\n",
    "# pred_images = b.RENDERER.render_multiobject_parallel(inferred_poses_with_occ, jnp.array([0,1]))\n",
    "\n",
    "viz_images = [\n",
    "    b.viz.multi_panel(\n",
    "        [b.viz.get_depth_image(g[:,:,2]), b.viz.get_depth_image(p[:,:,2]), po],\n",
    "        labels = [\"Ground Truth\", \"Reconstruction w/o Occluder\", \"Reconstruction w Occluder\"],\n",
    "        title = \"Physics Tracking Inference\",\n",
    "        # bottom_text = \"3DP3 + Physics Prior v1\"\n",
    "\n",
    "    )\n",
    "    for (g, p, po) in zip(gt_images, pred_images, pred_with_occ_images)\n",
    "]\n",
    "display_video(viz_images)\n",
    "\n",
    "\n",
    "# labels=None, title=None, bottom_text=None, title_fontsize=40, label_fontsize=30,  bottom_fontsize=20, middle_width=10"
   ]
  },
  {
   "cell_type": "code",
   "execution_count": 175,
   "metadata": {},
   "outputs": [
    {
     "data": {
      "text/plain": [
       "(90, 360, 480, 4)"
      ]
     },
     "execution_count": 175,
     "metadata": {},
     "output_type": "execute_result"
    }
   ],
   "source": [
    "rerendered_images.shape"
   ]
  },
  {
   "cell_type": "code",
   "execution_count": 17,
   "metadata": {},
   "outputs": [
    {
     "ename": "NameError",
     "evalue": "name 'plot_physics_posterior' is not defined",
     "output_type": "error",
     "traceback": [
      "\u001b[0;31m---------------------------------------------------------------------------\u001b[0m",
      "\u001b[0;31mNameError\u001b[0m                                 Traceback (most recent call last)",
      "Cell \u001b[0;32mIn[17], line 23\u001b[0m\n\u001b[1;32m     21\u001b[0m proposals \u001b[39m=\u001b[39m jnp\u001b[39m.\u001b[39meinsum(\u001b[39m\"\u001b[39m\u001b[39mij,ajk->aik\u001b[39m\u001b[39m\"\u001b[39m, prev_pose, translation_deltas)\n\u001b[1;32m     22\u001b[0m weights \u001b[39m=\u001b[39m physics_prior_v1_parallel(proposals, prev_pose, prev_prev_pose, jnp\u001b[39m.\u001b[39marray([\u001b[39m1\u001b[39m,\u001b[39m1\u001b[39m,\u001b[39m1\u001b[39m]), cam_pose, world2cam)\n\u001b[0;32m---> 23\u001b[0m plot_physics_posterior(proposals, prev_pose, prev_prev_pose,weights, best_pose)\n",
      "\u001b[0;31mNameError\u001b[0m: name 'plot_physics_posterior' is not defined"
     ]
    }
   ],
   "source": [
    "### DUMMY VALUES #########\n",
    "\n",
    "translation_deltas = b.make_translation_grid_enumeration(-0.2, -0.2, -0.2, 0.2, 0.2, 0.2, 10, 10, 10)\n",
    "\n",
    "# MANUALLY SPECIFY THESE\n",
    "prev_prev_pose = jnp.array([[1., 0., 0., -0.1],\n",
    "                        [0., 1., 0., 0.],\n",
    "                        [0., 0., 1., 0.],\n",
    "                        [0., 0., 0., 1.]])\n",
    "prev_pose = jnp.array([[1., 0., 0., -0.0],\n",
    "                        [0., 1., 0., 0.],\n",
    "                        [0., 0., 1., 0.],\n",
    "                        [0., 0., 0., 1.]])\n",
    "\n",
    "best_pose = jnp.array([[1., 0., 0., 0.1],\n",
    "                        [0., 1., 0., 0.],\n",
    "                        [0., 0., 1., 0.],\n",
    "                        [0., 0., 0., 1.]])\n",
    "\n",
    "\n",
    "proposals = jnp.einsum(\"ij,ajk->aik\", prev_pose, translation_deltas)\n",
    "weights = physics_prior_v1_parallel(proposals, prev_pose, prev_prev_pose, jnp.array([1,1,1]), cam_pose, world2cam)\n",
    "plot_physics_posterior(proposals, prev_pose, prev_prev_pose,weights, best_pose)"
   ]
  },
  {
   "cell_type": "code",
   "execution_count": 92,
   "metadata": {},
   "outputs": [],
   "source": [
    "def plot_physics_posterior(proposals, pp, ppp, weights, best_pose = None):\n",
    "    xs = np.asarray(proposals[:,0,3])\n",
    "    ys = np.asarray(proposals[:,1,3])\n",
    "    zs = np.asarray(proposals[:,2,3])\n",
    "\n",
    "    prev = np.asarray(pp[:3,3])\n",
    "    prev_prev = np.asarray(ppp[:3,3])    \n",
    "\n",
    "    anns = [dict(\n",
    "        showarrow=False,\n",
    "        x=prev_prev[0],\n",
    "        y=prev_prev[1],\n",
    "        z=prev_prev[2],\n",
    "        text=\"T-2\",\n",
    "        xanchor=\"left\",\n",
    "        xshift=5,\n",
    "        opacity=0.7,\n",
    "        font=dict(\n",
    "            size=9  # Adjust the font size of the annotation\n",
    "        )\n",
    "    ),\n",
    "    dict(\n",
    "        showarrow=False,\n",
    "        x=prev[0],\n",
    "        y=prev[1],\n",
    "        z=prev[2],\n",
    "        text=\"T-1\",\n",
    "        xanchor=\"left\",\n",
    "        xshift=5,\n",
    "        opacity=0.7,\n",
    "        font=dict(\n",
    "            size=9  # Adjust the font size of the annotation\n",
    "        )\n",
    "    )]\n",
    "\n",
    "    pts = [go.Scatter3d(x=[prev_prev[0]],\n",
    "                y=[prev_prev[1]],\n",
    "                z=[prev_prev[2]],\n",
    "                mode='markers',\n",
    "                marker=dict(\n",
    "                color='black',  # Specify the color values for each data point here\n",
    "                size=2,\n",
    "                symbol ='x'\n",
    "                ),\n",
    "            ),\n",
    "    go.Scatter3d(x=[prev[0]],\n",
    "                y=[prev[1]],\n",
    "                z=[prev[2]],\n",
    "                mode='markers',\n",
    "                marker=dict(\n",
    "                color='black',  # Specify the color values for each data point here\n",
    "                size=2,\n",
    "                symbol ='x'\n",
    "                ),\n",
    "            )]\n",
    "\n",
    "\n",
    "    if best_pose != None:\n",
    "        best = np.asarray(best_pose[:3,3])\n",
    "        anns.append(dict(\n",
    "                    showarrow=False,\n",
    "                    x=best[0],\n",
    "                    y=best[1],\n",
    "                    z=best[2],\n",
    "                    text=\"T-0 Best\",\n",
    "                    xanchor=\"left\",\n",
    "                    xshift=5,\n",
    "                    opacity=0.7,\n",
    "                    font=dict(\n",
    "                        size=9  # Adjust the font size of the annotation\n",
    "                    )\n",
    "                ))\n",
    "        pts.append( go.Scatter3d(x=[best[0]],\n",
    "                    y=[best[1]],\n",
    "                    z=[best[2]],\n",
    "                    mode='markers',\n",
    "                    marker=dict(\n",
    "                    color='black',  # Specify the color values for each data point here\n",
    "                    size=2,\n",
    "                    symbol ='x'\n",
    "                    ),\n",
    "                ))\n",
    "\n",
    "    fig = go.Figure(data=go.Volume(\n",
    "        x=xs, y=ys, z=zs,\n",
    "        value=np.asarray(weights),\n",
    "        isomin=float(jnp.min(weights)),\n",
    "        isomax=float(jnp.max(weights)),\n",
    "        opacity=0.1,\n",
    "        surface_count=25,\n",
    "        ))\n",
    "    fig.update_layout(title = 'Physics Posterior (Translation)',\n",
    "                        scene_xaxis_showticklabels=True,\n",
    "                    scene_yaxis_showticklabels=True,\n",
    "                    scene_zaxis_showticklabels=True,\n",
    "                    scene=dict(\n",
    "            annotations=anns\n",
    "        )\n",
    "    )\n",
    "    fig.add_traces(pts)\n",
    "\n",
    "    fig.show()\n"
   ]
  },
  {
   "cell_type": "code",
   "execution_count": 94,
   "metadata": {},
   "outputs": [
    {
     "data": {
      "application/vnd.plotly.v1+json": {
       "config": {
        "plotlyServerURL": "https://plot.ly"
       },
       "data": [
        {
         "isomax": 3.1112189292907715,
         "isomin": -0.6856555938720703,
         "opacity": 0.1,
         "surface": {
          "count": 25
         },
         "type": "volume",
         "value": [
          0.4393444061279297,
          0.5799694061279297,
          0.4393444061279297,
          0.017469406127929688,
          -0.6856555938720703,
          1.1424694061279297,
          1.2830944061279297,
          1.1424694061279297,
          0.7205944061279297,
          0.017469406127929688,
          1.5643444061279297,
          1.7049694061279297,
          1.5643444061279297,
          1.1424694061279297,
          0.4393444061279297,
          1.7049694061279297,
          1.8455944061279297,
          1.7049694061279297,
          1.2830944061279297,
          0.5799694061279297,
          1.5643444061279297,
          1.7049694061279297,
          1.5643444061279297,
          1.1424694061279297,
          0.4393444061279297,
          1.1424689292907715,
          1.2830939292907715,
          1.1424689292907715,
          0.7205939292907715,
          0.017468929290771484,
          1.8455944061279297,
          1.9862194061279297,
          1.8455944061279297,
          1.4237194061279297,
          0.7205944061279297,
          2.2674691677093506,
          2.4080941677093506,
          2.2674691677093506,
          1.8455944061279297,
          1.1424689292907715,
          2.4080941677093506,
          2.5487191677093506,
          2.4080939292907715,
          1.9862189292907715,
          1.2830939292907715,
          2.2674691677093506,
          2.4080939292907715,
          2.2674689292907715,
          1.8455939292907715,
          1.1424689292907715,
          1.5643439292907715,
          1.7049689292907715,
          1.5643439292907715,
          1.1424684524536133,
          0.4393434524536133,
          2.2674691677093506,
          2.4080941677093506,
          2.2674691677093506,
          1.8455939292907715,
          1.1424689292907715,
          2.6893439292907715,
          2.8299689292907715,
          2.6893439292907715,
          2.2674689292907715,
          1.5643439292907715,
          2.8299689292907715,
          2.9705939292907715,
          2.8299689292907715,
          2.4080939292907715,
          1.7049689292907715,
          2.6893439292907715,
          2.8299689292907715,
          2.6893439292907715,
          2.2674689292907715,
          1.5643439292907715,
          1.7049689292907715,
          1.8455939292907715,
          1.7049689292907715,
          1.2830934524536133,
          0.5799684524536133,
          2.4080941677093506,
          2.5487191677093506,
          2.4080939292907715,
          1.9862189292907715,
          1.2830939292907715,
          2.8299689292907715,
          2.9705939292907715,
          2.8299689292907715,
          2.4080939292907715,
          1.7049689292907715,
          2.9705939292907715,
          3.1112189292907715,
          2.9705939292907715,
          2.5487189292907715,
          1.8455939292907715,
          2.8299689292907715,
          2.9705939292907715,
          2.8299689292907715,
          2.4080939292907715,
          1.7049689292907715,
          1.5643439292907715,
          1.7049689292907715,
          1.5643439292907715,
          1.1424684524536133,
          0.4393434524536133,
          2.2674691677093506,
          2.4080941677093506,
          2.2674691677093506,
          1.8455939292907715,
          1.1424689292907715,
          2.6893439292907715,
          2.8299689292907715,
          2.6893439292907715,
          2.2674689292907715,
          1.5643439292907715,
          2.8299689292907715,
          2.9705939292907715,
          2.8299689292907715,
          2.4080939292907715,
          1.7049689292907715,
          2.6893439292907715,
          2.8299689292907715,
          2.6893439292907715,
          2.2674689292907715,
          1.5643439292907715
         ],
         "x": [
          -0.6833000183105469,
          -0.6833000183105469,
          -0.6833000183105469,
          -0.6833000183105469,
          -0.6833000183105469,
          -0.608299970626831,
          -0.608299970626831,
          -0.608299970626831,
          -0.608299970626831,
          -0.608299970626831,
          -0.53329998254776,
          -0.53329998254776,
          -0.53329998254776,
          -0.53329998254776,
          -0.53329998254776,
          -0.45829999446868896,
          -0.45829999446868896,
          -0.45829999446868896,
          -0.45829999446868896,
          -0.45829999446868896,
          -0.38329997658729553,
          -0.38329997658729553,
          -0.38329997658729553,
          -0.38329997658729553,
          -0.38329997658729553,
          -0.6833000183105469,
          -0.6833000183105469,
          -0.6833000183105469,
          -0.6833000183105469,
          -0.6833000183105469,
          -0.608299970626831,
          -0.608299970626831,
          -0.608299970626831,
          -0.608299970626831,
          -0.608299970626831,
          -0.53329998254776,
          -0.53329998254776,
          -0.53329998254776,
          -0.53329998254776,
          -0.53329998254776,
          -0.45829999446868896,
          -0.45829999446868896,
          -0.45829999446868896,
          -0.45829999446868896,
          -0.45829999446868896,
          -0.38329997658729553,
          -0.38329997658729553,
          -0.38329997658729553,
          -0.38329997658729553,
          -0.38329997658729553,
          -0.6833000183105469,
          -0.6833000183105469,
          -0.6833000183105469,
          -0.6833000183105469,
          -0.6833000183105469,
          -0.608299970626831,
          -0.608299970626831,
          -0.608299970626831,
          -0.608299970626831,
          -0.608299970626831,
          -0.53329998254776,
          -0.53329998254776,
          -0.53329998254776,
          -0.53329998254776,
          -0.53329998254776,
          -0.45829999446868896,
          -0.45829999446868896,
          -0.45829999446868896,
          -0.45829999446868896,
          -0.45829999446868896,
          -0.38329997658729553,
          -0.38329997658729553,
          -0.38329997658729553,
          -0.38329997658729553,
          -0.38329997658729553,
          -0.6833000183105469,
          -0.6833000183105469,
          -0.6833000183105469,
          -0.6833000183105469,
          -0.6833000183105469,
          -0.608299970626831,
          -0.608299970626831,
          -0.608299970626831,
          -0.608299970626831,
          -0.608299970626831,
          -0.53329998254776,
          -0.53329998254776,
          -0.53329998254776,
          -0.53329998254776,
          -0.53329998254776,
          -0.45829999446868896,
          -0.45829999446868896,
          -0.45829999446868896,
          -0.45829999446868896,
          -0.45829999446868896,
          -0.38329997658729553,
          -0.38329997658729553,
          -0.38329997658729553,
          -0.38329997658729553,
          -0.38329997658729553,
          -0.6833000183105469,
          -0.6833000183105469,
          -0.6833000183105469,
          -0.6833000183105469,
          -0.6833000183105469,
          -0.608299970626831,
          -0.608299970626831,
          -0.608299970626831,
          -0.608299970626831,
          -0.608299970626831,
          -0.53329998254776,
          -0.53329998254776,
          -0.53329998254776,
          -0.53329998254776,
          -0.53329998254776,
          -0.45829999446868896,
          -0.45829999446868896,
          -0.45829999446868896,
          -0.45829999446868896,
          -0.45829999446868896,
          -0.38329997658729553,
          -0.38329997658729553,
          -0.38329997658729553,
          -0.38329997658729553,
          -0.38329997658729553
         ],
         "y": [
          -0.375,
          -0.30000001192092896,
          -0.22499999403953552,
          -0.14999999105930328,
          -0.07499998807907104,
          -0.375,
          -0.30000001192092896,
          -0.22499999403953552,
          -0.14999999105930328,
          -0.07499998807907104,
          -0.375,
          -0.30000001192092896,
          -0.22499999403953552,
          -0.14999999105930328,
          -0.07499998807907104,
          -0.375,
          -0.30000001192092896,
          -0.22499999403953552,
          -0.14999999105930328,
          -0.07499998807907104,
          -0.375,
          -0.30000001192092896,
          -0.22499999403953552,
          -0.14999999105930328,
          -0.07499998807907104,
          -0.375,
          -0.30000001192092896,
          -0.22499999403953552,
          -0.14999999105930328,
          -0.07499998807907104,
          -0.375,
          -0.30000001192092896,
          -0.22499999403953552,
          -0.14999999105930328,
          -0.07499998807907104,
          -0.375,
          -0.30000001192092896,
          -0.22499999403953552,
          -0.14999999105930328,
          -0.07499998807907104,
          -0.375,
          -0.30000001192092896,
          -0.22499999403953552,
          -0.14999999105930328,
          -0.07499998807907104,
          -0.375,
          -0.30000001192092896,
          -0.22499999403953552,
          -0.14999999105930328,
          -0.07499998807907104,
          -0.375,
          -0.30000001192092896,
          -0.22499999403953552,
          -0.14999999105930328,
          -0.07499998807907104,
          -0.375,
          -0.30000001192092896,
          -0.22499999403953552,
          -0.14999999105930328,
          -0.07499998807907104,
          -0.375,
          -0.30000001192092896,
          -0.22499999403953552,
          -0.14999999105930328,
          -0.07499998807907104,
          -0.375,
          -0.30000001192092896,
          -0.22499999403953552,
          -0.14999999105930328,
          -0.07499998807907104,
          -0.375,
          -0.30000001192092896,
          -0.22499999403953552,
          -0.14999999105930328,
          -0.07499998807907104,
          -0.375,
          -0.30000001192092896,
          -0.22499999403953552,
          -0.14999999105930328,
          -0.07499998807907104,
          -0.375,
          -0.30000001192092896,
          -0.22499999403953552,
          -0.14999999105930328,
          -0.07499998807907104,
          -0.375,
          -0.30000001192092896,
          -0.22499999403953552,
          -0.14999999105930328,
          -0.07499998807907104,
          -0.375,
          -0.30000001192092896,
          -0.22499999403953552,
          -0.14999999105930328,
          -0.07499998807907104,
          -0.375,
          -0.30000001192092896,
          -0.22499999403953552,
          -0.14999999105930328,
          -0.07499998807907104,
          -0.375,
          -0.30000001192092896,
          -0.22499999403953552,
          -0.14999999105930328,
          -0.07499998807907104,
          -0.375,
          -0.30000001192092896,
          -0.22499999403953552,
          -0.14999999105930328,
          -0.07499998807907104,
          -0.375,
          -0.30000001192092896,
          -0.22499999403953552,
          -0.14999999105930328,
          -0.07499998807907104,
          -0.375,
          -0.30000001192092896,
          -0.22499999403953552,
          -0.14999999105930328,
          -0.07499998807907104,
          -0.375,
          -0.30000001192092896,
          -0.22499999403953552,
          -0.14999999105930328,
          -0.07499998807907104
         ],
         "z": [
          0.5001000165939331,
          0.5001000165939331,
          0.5001000165939331,
          0.5001000165939331,
          0.5001000165939331,
          0.5001000165939331,
          0.5001000165939331,
          0.5001000165939331,
          0.5001000165939331,
          0.5001000165939331,
          0.5001000165939331,
          0.5001000165939331,
          0.5001000165939331,
          0.5001000165939331,
          0.5001000165939331,
          0.5001000165939331,
          0.5001000165939331,
          0.5001000165939331,
          0.5001000165939331,
          0.5001000165939331,
          0.5001000165939331,
          0.5001000165939331,
          0.5001000165939331,
          0.5001000165939331,
          0.5001000165939331,
          0.5751000046730042,
          0.5751000046730042,
          0.5751000046730042,
          0.5751000046730042,
          0.5751000046730042,
          0.5751000046730042,
          0.5751000046730042,
          0.5751000046730042,
          0.5751000046730042,
          0.5751000046730042,
          0.5751000046730042,
          0.5751000046730042,
          0.5751000046730042,
          0.5751000046730042,
          0.5751000046730042,
          0.5751000046730042,
          0.5751000046730042,
          0.5751000046730042,
          0.5751000046730042,
          0.5751000046730042,
          0.5751000046730042,
          0.5751000046730042,
          0.5751000046730042,
          0.5751000046730042,
          0.5751000046730042,
          0.6500999927520752,
          0.6500999927520752,
          0.6500999927520752,
          0.6500999927520752,
          0.6500999927520752,
          0.6500999927520752,
          0.6500999927520752,
          0.6500999927520752,
          0.6500999927520752,
          0.6500999927520752,
          0.6500999927520752,
          0.6500999927520752,
          0.6500999927520752,
          0.6500999927520752,
          0.6500999927520752,
          0.6500999927520752,
          0.6500999927520752,
          0.6500999927520752,
          0.6500999927520752,
          0.6500999927520752,
          0.6500999927520752,
          0.6500999927520752,
          0.6500999927520752,
          0.6500999927520752,
          0.6500999927520752,
          0.7250999808311462,
          0.7250999808311462,
          0.7250999808311462,
          0.7250999808311462,
          0.7250999808311462,
          0.7250999808311462,
          0.7250999808311462,
          0.7250999808311462,
          0.7250999808311462,
          0.7250999808311462,
          0.7250999808311462,
          0.7250999808311462,
          0.7250999808311462,
          0.7250999808311462,
          0.7250999808311462,
          0.7250999808311462,
          0.7250999808311462,
          0.7250999808311462,
          0.7250999808311462,
          0.7250999808311462,
          0.7250999808311462,
          0.7250999808311462,
          0.7250999808311462,
          0.7250999808311462,
          0.7250999808311462,
          0.8000999689102173,
          0.8000999689102173,
          0.8000999689102173,
          0.8000999689102173,
          0.8000999689102173,
          0.8000999689102173,
          0.8000999689102173,
          0.8000999689102173,
          0.8000999689102173,
          0.8000999689102173,
          0.8000999689102173,
          0.8000999689102173,
          0.8000999689102173,
          0.8000999689102173,
          0.8000999689102173,
          0.8000999689102173,
          0.8000999689102173,
          0.8000999689102173,
          0.8000999689102173,
          0.8000999689102173,
          0.8000999689102173,
          0.8000999689102173,
          0.8000999689102173,
          0.8000999689102173,
          0.8000999689102173
         ]
        },
        {
         "marker": {
          "color": "black",
          "size": 2,
          "symbol": "x"
         },
         "mode": "markers",
         "type": "scatter3d",
         "x": [
          -0.608299970626831
         ],
         "y": [
          -0.14999999105930328
         ],
         "z": [
          0.5751000046730042
         ]
        },
        {
         "marker": {
          "color": "black",
          "size": 2,
          "symbol": "x"
         },
         "mode": "markers",
         "type": "scatter3d",
         "x": [
          -0.53329998254776
         ],
         "y": [
          -0.22499999403953552
         ],
         "z": [
          0.6500999927520752
         ]
        }
       ],
       "layout": {
        "scene": {
         "annotations": [
          {
           "font": {
            "size": 9
           },
           "opacity": 0.7,
           "showarrow": false,
           "text": "T-2",
           "x": -0.608299970626831,
           "xanchor": "left",
           "xshift": 5,
           "y": -0.14999999105930328,
           "z": 0.5751000046730042
          },
          {
           "font": {
            "size": 9
           },
           "opacity": 0.7,
           "showarrow": false,
           "text": "T-1",
           "x": -0.53329998254776,
           "xanchor": "left",
           "xshift": 5,
           "y": -0.22499999403953552,
           "z": 0.6500999927520752
          }
         ],
         "xaxis": {
          "showticklabels": true
         },
         "yaxis": {
          "showticklabels": true
         },
         "zaxis": {
          "showticklabels": true
         }
        },
        "template": {
         "data": {
          "bar": [
           {
            "error_x": {
             "color": "#2a3f5f"
            },
            "error_y": {
             "color": "#2a3f5f"
            },
            "marker": {
             "line": {
              "color": "#E5ECF6",
              "width": 0.5
             },
             "pattern": {
              "fillmode": "overlay",
              "size": 10,
              "solidity": 0.2
             }
            },
            "type": "bar"
           }
          ],
          "barpolar": [
           {
            "marker": {
             "line": {
              "color": "#E5ECF6",
              "width": 0.5
             },
             "pattern": {
              "fillmode": "overlay",
              "size": 10,
              "solidity": 0.2
             }
            },
            "type": "barpolar"
           }
          ],
          "carpet": [
           {
            "aaxis": {
             "endlinecolor": "#2a3f5f",
             "gridcolor": "white",
             "linecolor": "white",
             "minorgridcolor": "white",
             "startlinecolor": "#2a3f5f"
            },
            "baxis": {
             "endlinecolor": "#2a3f5f",
             "gridcolor": "white",
             "linecolor": "white",
             "minorgridcolor": "white",
             "startlinecolor": "#2a3f5f"
            },
            "type": "carpet"
           }
          ],
          "choropleth": [
           {
            "colorbar": {
             "outlinewidth": 0,
             "ticks": ""
            },
            "type": "choropleth"
           }
          ],
          "contour": [
           {
            "colorbar": {
             "outlinewidth": 0,
             "ticks": ""
            },
            "colorscale": [
             [
              0,
              "#0d0887"
             ],
             [
              0.1111111111111111,
              "#46039f"
             ],
             [
              0.2222222222222222,
              "#7201a8"
             ],
             [
              0.3333333333333333,
              "#9c179e"
             ],
             [
              0.4444444444444444,
              "#bd3786"
             ],
             [
              0.5555555555555556,
              "#d8576b"
             ],
             [
              0.6666666666666666,
              "#ed7953"
             ],
             [
              0.7777777777777778,
              "#fb9f3a"
             ],
             [
              0.8888888888888888,
              "#fdca26"
             ],
             [
              1,
              "#f0f921"
             ]
            ],
            "type": "contour"
           }
          ],
          "contourcarpet": [
           {
            "colorbar": {
             "outlinewidth": 0,
             "ticks": ""
            },
            "type": "contourcarpet"
           }
          ],
          "heatmap": [
           {
            "colorbar": {
             "outlinewidth": 0,
             "ticks": ""
            },
            "colorscale": [
             [
              0,
              "#0d0887"
             ],
             [
              0.1111111111111111,
              "#46039f"
             ],
             [
              0.2222222222222222,
              "#7201a8"
             ],
             [
              0.3333333333333333,
              "#9c179e"
             ],
             [
              0.4444444444444444,
              "#bd3786"
             ],
             [
              0.5555555555555556,
              "#d8576b"
             ],
             [
              0.6666666666666666,
              "#ed7953"
             ],
             [
              0.7777777777777778,
              "#fb9f3a"
             ],
             [
              0.8888888888888888,
              "#fdca26"
             ],
             [
              1,
              "#f0f921"
             ]
            ],
            "type": "heatmap"
           }
          ],
          "heatmapgl": [
           {
            "colorbar": {
             "outlinewidth": 0,
             "ticks": ""
            },
            "colorscale": [
             [
              0,
              "#0d0887"
             ],
             [
              0.1111111111111111,
              "#46039f"
             ],
             [
              0.2222222222222222,
              "#7201a8"
             ],
             [
              0.3333333333333333,
              "#9c179e"
             ],
             [
              0.4444444444444444,
              "#bd3786"
             ],
             [
              0.5555555555555556,
              "#d8576b"
             ],
             [
              0.6666666666666666,
              "#ed7953"
             ],
             [
              0.7777777777777778,
              "#fb9f3a"
             ],
             [
              0.8888888888888888,
              "#fdca26"
             ],
             [
              1,
              "#f0f921"
             ]
            ],
            "type": "heatmapgl"
           }
          ],
          "histogram": [
           {
            "marker": {
             "pattern": {
              "fillmode": "overlay",
              "size": 10,
              "solidity": 0.2
             }
            },
            "type": "histogram"
           }
          ],
          "histogram2d": [
           {
            "colorbar": {
             "outlinewidth": 0,
             "ticks": ""
            },
            "colorscale": [
             [
              0,
              "#0d0887"
             ],
             [
              0.1111111111111111,
              "#46039f"
             ],
             [
              0.2222222222222222,
              "#7201a8"
             ],
             [
              0.3333333333333333,
              "#9c179e"
             ],
             [
              0.4444444444444444,
              "#bd3786"
             ],
             [
              0.5555555555555556,
              "#d8576b"
             ],
             [
              0.6666666666666666,
              "#ed7953"
             ],
             [
              0.7777777777777778,
              "#fb9f3a"
             ],
             [
              0.8888888888888888,
              "#fdca26"
             ],
             [
              1,
              "#f0f921"
             ]
            ],
            "type": "histogram2d"
           }
          ],
          "histogram2dcontour": [
           {
            "colorbar": {
             "outlinewidth": 0,
             "ticks": ""
            },
            "colorscale": [
             [
              0,
              "#0d0887"
             ],
             [
              0.1111111111111111,
              "#46039f"
             ],
             [
              0.2222222222222222,
              "#7201a8"
             ],
             [
              0.3333333333333333,
              "#9c179e"
             ],
             [
              0.4444444444444444,
              "#bd3786"
             ],
             [
              0.5555555555555556,
              "#d8576b"
             ],
             [
              0.6666666666666666,
              "#ed7953"
             ],
             [
              0.7777777777777778,
              "#fb9f3a"
             ],
             [
              0.8888888888888888,
              "#fdca26"
             ],
             [
              1,
              "#f0f921"
             ]
            ],
            "type": "histogram2dcontour"
           }
          ],
          "mesh3d": [
           {
            "colorbar": {
             "outlinewidth": 0,
             "ticks": ""
            },
            "type": "mesh3d"
           }
          ],
          "parcoords": [
           {
            "line": {
             "colorbar": {
              "outlinewidth": 0,
              "ticks": ""
             }
            },
            "type": "parcoords"
           }
          ],
          "pie": [
           {
            "automargin": true,
            "type": "pie"
           }
          ],
          "scatter": [
           {
            "fillpattern": {
             "fillmode": "overlay",
             "size": 10,
             "solidity": 0.2
            },
            "type": "scatter"
           }
          ],
          "scatter3d": [
           {
            "line": {
             "colorbar": {
              "outlinewidth": 0,
              "ticks": ""
             }
            },
            "marker": {
             "colorbar": {
              "outlinewidth": 0,
              "ticks": ""
             }
            },
            "type": "scatter3d"
           }
          ],
          "scattercarpet": [
           {
            "marker": {
             "colorbar": {
              "outlinewidth": 0,
              "ticks": ""
             }
            },
            "type": "scattercarpet"
           }
          ],
          "scattergeo": [
           {
            "marker": {
             "colorbar": {
              "outlinewidth": 0,
              "ticks": ""
             }
            },
            "type": "scattergeo"
           }
          ],
          "scattergl": [
           {
            "marker": {
             "colorbar": {
              "outlinewidth": 0,
              "ticks": ""
             }
            },
            "type": "scattergl"
           }
          ],
          "scattermapbox": [
           {
            "marker": {
             "colorbar": {
              "outlinewidth": 0,
              "ticks": ""
             }
            },
            "type": "scattermapbox"
           }
          ],
          "scatterpolar": [
           {
            "marker": {
             "colorbar": {
              "outlinewidth": 0,
              "ticks": ""
             }
            },
            "type": "scatterpolar"
           }
          ],
          "scatterpolargl": [
           {
            "marker": {
             "colorbar": {
              "outlinewidth": 0,
              "ticks": ""
             }
            },
            "type": "scatterpolargl"
           }
          ],
          "scatterternary": [
           {
            "marker": {
             "colorbar": {
              "outlinewidth": 0,
              "ticks": ""
             }
            },
            "type": "scatterternary"
           }
          ],
          "surface": [
           {
            "colorbar": {
             "outlinewidth": 0,
             "ticks": ""
            },
            "colorscale": [
             [
              0,
              "#0d0887"
             ],
             [
              0.1111111111111111,
              "#46039f"
             ],
             [
              0.2222222222222222,
              "#7201a8"
             ],
             [
              0.3333333333333333,
              "#9c179e"
             ],
             [
              0.4444444444444444,
              "#bd3786"
             ],
             [
              0.5555555555555556,
              "#d8576b"
             ],
             [
              0.6666666666666666,
              "#ed7953"
             ],
             [
              0.7777777777777778,
              "#fb9f3a"
             ],
             [
              0.8888888888888888,
              "#fdca26"
             ],
             [
              1,
              "#f0f921"
             ]
            ],
            "type": "surface"
           }
          ],
          "table": [
           {
            "cells": {
             "fill": {
              "color": "#EBF0F8"
             },
             "line": {
              "color": "white"
             }
            },
            "header": {
             "fill": {
              "color": "#C8D4E3"
             },
             "line": {
              "color": "white"
             }
            },
            "type": "table"
           }
          ]
         },
         "layout": {
          "annotationdefaults": {
           "arrowcolor": "#2a3f5f",
           "arrowhead": 0,
           "arrowwidth": 1
          },
          "autotypenumbers": "strict",
          "coloraxis": {
           "colorbar": {
            "outlinewidth": 0,
            "ticks": ""
           }
          },
          "colorscale": {
           "diverging": [
            [
             0,
             "#8e0152"
            ],
            [
             0.1,
             "#c51b7d"
            ],
            [
             0.2,
             "#de77ae"
            ],
            [
             0.3,
             "#f1b6da"
            ],
            [
             0.4,
             "#fde0ef"
            ],
            [
             0.5,
             "#f7f7f7"
            ],
            [
             0.6,
             "#e6f5d0"
            ],
            [
             0.7,
             "#b8e186"
            ],
            [
             0.8,
             "#7fbc41"
            ],
            [
             0.9,
             "#4d9221"
            ],
            [
             1,
             "#276419"
            ]
           ],
           "sequential": [
            [
             0,
             "#0d0887"
            ],
            [
             0.1111111111111111,
             "#46039f"
            ],
            [
             0.2222222222222222,
             "#7201a8"
            ],
            [
             0.3333333333333333,
             "#9c179e"
            ],
            [
             0.4444444444444444,
             "#bd3786"
            ],
            [
             0.5555555555555556,
             "#d8576b"
            ],
            [
             0.6666666666666666,
             "#ed7953"
            ],
            [
             0.7777777777777778,
             "#fb9f3a"
            ],
            [
             0.8888888888888888,
             "#fdca26"
            ],
            [
             1,
             "#f0f921"
            ]
           ],
           "sequentialminus": [
            [
             0,
             "#0d0887"
            ],
            [
             0.1111111111111111,
             "#46039f"
            ],
            [
             0.2222222222222222,
             "#7201a8"
            ],
            [
             0.3333333333333333,
             "#9c179e"
            ],
            [
             0.4444444444444444,
             "#bd3786"
            ],
            [
             0.5555555555555556,
             "#d8576b"
            ],
            [
             0.6666666666666666,
             "#ed7953"
            ],
            [
             0.7777777777777778,
             "#fb9f3a"
            ],
            [
             0.8888888888888888,
             "#fdca26"
            ],
            [
             1,
             "#f0f921"
            ]
           ]
          },
          "colorway": [
           "#636efa",
           "#EF553B",
           "#00cc96",
           "#ab63fa",
           "#FFA15A",
           "#19d3f3",
           "#FF6692",
           "#B6E880",
           "#FF97FF",
           "#FECB52"
          ],
          "font": {
           "color": "#2a3f5f"
          },
          "geo": {
           "bgcolor": "white",
           "lakecolor": "white",
           "landcolor": "#E5ECF6",
           "showlakes": true,
           "showland": true,
           "subunitcolor": "white"
          },
          "hoverlabel": {
           "align": "left"
          },
          "hovermode": "closest",
          "mapbox": {
           "style": "light"
          },
          "paper_bgcolor": "white",
          "plot_bgcolor": "#E5ECF6",
          "polar": {
           "angularaxis": {
            "gridcolor": "white",
            "linecolor": "white",
            "ticks": ""
           },
           "bgcolor": "#E5ECF6",
           "radialaxis": {
            "gridcolor": "white",
            "linecolor": "white",
            "ticks": ""
           }
          },
          "scene": {
           "xaxis": {
            "backgroundcolor": "#E5ECF6",
            "gridcolor": "white",
            "gridwidth": 2,
            "linecolor": "white",
            "showbackground": true,
            "ticks": "",
            "zerolinecolor": "white"
           },
           "yaxis": {
            "backgroundcolor": "#E5ECF6",
            "gridcolor": "white",
            "gridwidth": 2,
            "linecolor": "white",
            "showbackground": true,
            "ticks": "",
            "zerolinecolor": "white"
           },
           "zaxis": {
            "backgroundcolor": "#E5ECF6",
            "gridcolor": "white",
            "gridwidth": 2,
            "linecolor": "white",
            "showbackground": true,
            "ticks": "",
            "zerolinecolor": "white"
           }
          },
          "shapedefaults": {
           "line": {
            "color": "#2a3f5f"
           }
          },
          "ternary": {
           "aaxis": {
            "gridcolor": "white",
            "linecolor": "white",
            "ticks": ""
           },
           "baxis": {
            "gridcolor": "white",
            "linecolor": "white",
            "ticks": ""
           },
           "bgcolor": "#E5ECF6",
           "caxis": {
            "gridcolor": "white",
            "linecolor": "white",
            "ticks": ""
           }
          },
          "title": {
           "x": 0.05
          },
          "xaxis": {
           "automargin": true,
           "gridcolor": "white",
           "linecolor": "white",
           "ticks": "",
           "title": {
            "standoff": 15
           },
           "zerolinecolor": "white",
           "zerolinewidth": 2
          },
          "yaxis": {
           "automargin": true,
           "gridcolor": "white",
           "linecolor": "white",
           "ticks": "",
           "title": {
            "standoff": 15
           },
           "zerolinecolor": "white",
           "zerolinewidth": 2
          }
         }
        },
        "title": {
         "text": "Physics Posterior (Translation)"
        }
       }
      },
      "text/html": [
       "<div>                            <div id=\"312640ca-19ec-4d65-8ab7-2e7efa631785\" class=\"plotly-graph-div\" style=\"height:525px; width:100%;\"></div>            <script type=\"text/javascript\">                require([\"plotly\"], function(Plotly) {                    window.PLOTLYENV=window.PLOTLYENV || {};                                    if (document.getElementById(\"312640ca-19ec-4d65-8ab7-2e7efa631785\")) {                    Plotly.newPlot(                        \"312640ca-19ec-4d65-8ab7-2e7efa631785\",                        [{\"isomax\":3.1112189292907715,\"isomin\":-0.6856555938720703,\"opacity\":0.1,\"surface\":{\"count\":25},\"value\":[0.4393444061279297,0.5799694061279297,0.4393444061279297,0.017469406127929688,-0.6856555938720703,1.1424694061279297,1.2830944061279297,1.1424694061279297,0.7205944061279297,0.017469406127929688,1.5643444061279297,1.7049694061279297,1.5643444061279297,1.1424694061279297,0.4393444061279297,1.7049694061279297,1.8455944061279297,1.7049694061279297,1.2830944061279297,0.5799694061279297,1.5643444061279297,1.7049694061279297,1.5643444061279297,1.1424694061279297,0.4393444061279297,1.1424689292907715,1.2830939292907715,1.1424689292907715,0.7205939292907715,0.017468929290771484,1.8455944061279297,1.9862194061279297,1.8455944061279297,1.4237194061279297,0.7205944061279297,2.2674691677093506,2.4080941677093506,2.2674691677093506,1.8455944061279297,1.1424689292907715,2.4080941677093506,2.5487191677093506,2.4080939292907715,1.9862189292907715,1.2830939292907715,2.2674691677093506,2.4080939292907715,2.2674689292907715,1.8455939292907715,1.1424689292907715,1.5643439292907715,1.7049689292907715,1.5643439292907715,1.1424684524536133,0.4393434524536133,2.2674691677093506,2.4080941677093506,2.2674691677093506,1.8455939292907715,1.1424689292907715,2.6893439292907715,2.8299689292907715,2.6893439292907715,2.2674689292907715,1.5643439292907715,2.8299689292907715,2.9705939292907715,2.8299689292907715,2.4080939292907715,1.7049689292907715,2.6893439292907715,2.8299689292907715,2.6893439292907715,2.2674689292907715,1.5643439292907715,1.7049689292907715,1.8455939292907715,1.7049689292907715,1.2830934524536133,0.5799684524536133,2.4080941677093506,2.5487191677093506,2.4080939292907715,1.9862189292907715,1.2830939292907715,2.8299689292907715,2.9705939292907715,2.8299689292907715,2.4080939292907715,1.7049689292907715,2.9705939292907715,3.1112189292907715,2.9705939292907715,2.5487189292907715,1.8455939292907715,2.8299689292907715,2.9705939292907715,2.8299689292907715,2.4080939292907715,1.7049689292907715,1.5643439292907715,1.7049689292907715,1.5643439292907715,1.1424684524536133,0.4393434524536133,2.2674691677093506,2.4080941677093506,2.2674691677093506,1.8455939292907715,1.1424689292907715,2.6893439292907715,2.8299689292907715,2.6893439292907715,2.2674689292907715,1.5643439292907715,2.8299689292907715,2.9705939292907715,2.8299689292907715,2.4080939292907715,1.7049689292907715,2.6893439292907715,2.8299689292907715,2.6893439292907715,2.2674689292907715,1.5643439292907715],\"x\":[-0.6833000183105469,-0.6833000183105469,-0.6833000183105469,-0.6833000183105469,-0.6833000183105469,-0.608299970626831,-0.608299970626831,-0.608299970626831,-0.608299970626831,-0.608299970626831,-0.53329998254776,-0.53329998254776,-0.53329998254776,-0.53329998254776,-0.53329998254776,-0.45829999446868896,-0.45829999446868896,-0.45829999446868896,-0.45829999446868896,-0.45829999446868896,-0.38329997658729553,-0.38329997658729553,-0.38329997658729553,-0.38329997658729553,-0.38329997658729553,-0.6833000183105469,-0.6833000183105469,-0.6833000183105469,-0.6833000183105469,-0.6833000183105469,-0.608299970626831,-0.608299970626831,-0.608299970626831,-0.608299970626831,-0.608299970626831,-0.53329998254776,-0.53329998254776,-0.53329998254776,-0.53329998254776,-0.53329998254776,-0.45829999446868896,-0.45829999446868896,-0.45829999446868896,-0.45829999446868896,-0.45829999446868896,-0.38329997658729553,-0.38329997658729553,-0.38329997658729553,-0.38329997658729553,-0.38329997658729553,-0.6833000183105469,-0.6833000183105469,-0.6833000183105469,-0.6833000183105469,-0.6833000183105469,-0.608299970626831,-0.608299970626831,-0.608299970626831,-0.608299970626831,-0.608299970626831,-0.53329998254776,-0.53329998254776,-0.53329998254776,-0.53329998254776,-0.53329998254776,-0.45829999446868896,-0.45829999446868896,-0.45829999446868896,-0.45829999446868896,-0.45829999446868896,-0.38329997658729553,-0.38329997658729553,-0.38329997658729553,-0.38329997658729553,-0.38329997658729553,-0.6833000183105469,-0.6833000183105469,-0.6833000183105469,-0.6833000183105469,-0.6833000183105469,-0.608299970626831,-0.608299970626831,-0.608299970626831,-0.608299970626831,-0.608299970626831,-0.53329998254776,-0.53329998254776,-0.53329998254776,-0.53329998254776,-0.53329998254776,-0.45829999446868896,-0.45829999446868896,-0.45829999446868896,-0.45829999446868896,-0.45829999446868896,-0.38329997658729553,-0.38329997658729553,-0.38329997658729553,-0.38329997658729553,-0.38329997658729553,-0.6833000183105469,-0.6833000183105469,-0.6833000183105469,-0.6833000183105469,-0.6833000183105469,-0.608299970626831,-0.608299970626831,-0.608299970626831,-0.608299970626831,-0.608299970626831,-0.53329998254776,-0.53329998254776,-0.53329998254776,-0.53329998254776,-0.53329998254776,-0.45829999446868896,-0.45829999446868896,-0.45829999446868896,-0.45829999446868896,-0.45829999446868896,-0.38329997658729553,-0.38329997658729553,-0.38329997658729553,-0.38329997658729553,-0.38329997658729553],\"y\":[-0.375,-0.30000001192092896,-0.22499999403953552,-0.14999999105930328,-0.07499998807907104,-0.375,-0.30000001192092896,-0.22499999403953552,-0.14999999105930328,-0.07499998807907104,-0.375,-0.30000001192092896,-0.22499999403953552,-0.14999999105930328,-0.07499998807907104,-0.375,-0.30000001192092896,-0.22499999403953552,-0.14999999105930328,-0.07499998807907104,-0.375,-0.30000001192092896,-0.22499999403953552,-0.14999999105930328,-0.07499998807907104,-0.375,-0.30000001192092896,-0.22499999403953552,-0.14999999105930328,-0.07499998807907104,-0.375,-0.30000001192092896,-0.22499999403953552,-0.14999999105930328,-0.07499998807907104,-0.375,-0.30000001192092896,-0.22499999403953552,-0.14999999105930328,-0.07499998807907104,-0.375,-0.30000001192092896,-0.22499999403953552,-0.14999999105930328,-0.07499998807907104,-0.375,-0.30000001192092896,-0.22499999403953552,-0.14999999105930328,-0.07499998807907104,-0.375,-0.30000001192092896,-0.22499999403953552,-0.14999999105930328,-0.07499998807907104,-0.375,-0.30000001192092896,-0.22499999403953552,-0.14999999105930328,-0.07499998807907104,-0.375,-0.30000001192092896,-0.22499999403953552,-0.14999999105930328,-0.07499998807907104,-0.375,-0.30000001192092896,-0.22499999403953552,-0.14999999105930328,-0.07499998807907104,-0.375,-0.30000001192092896,-0.22499999403953552,-0.14999999105930328,-0.07499998807907104,-0.375,-0.30000001192092896,-0.22499999403953552,-0.14999999105930328,-0.07499998807907104,-0.375,-0.30000001192092896,-0.22499999403953552,-0.14999999105930328,-0.07499998807907104,-0.375,-0.30000001192092896,-0.22499999403953552,-0.14999999105930328,-0.07499998807907104,-0.375,-0.30000001192092896,-0.22499999403953552,-0.14999999105930328,-0.07499998807907104,-0.375,-0.30000001192092896,-0.22499999403953552,-0.14999999105930328,-0.07499998807907104,-0.375,-0.30000001192092896,-0.22499999403953552,-0.14999999105930328,-0.07499998807907104,-0.375,-0.30000001192092896,-0.22499999403953552,-0.14999999105930328,-0.07499998807907104,-0.375,-0.30000001192092896,-0.22499999403953552,-0.14999999105930328,-0.07499998807907104,-0.375,-0.30000001192092896,-0.22499999403953552,-0.14999999105930328,-0.07499998807907104,-0.375,-0.30000001192092896,-0.22499999403953552,-0.14999999105930328,-0.07499998807907104],\"z\":[0.5001000165939331,0.5001000165939331,0.5001000165939331,0.5001000165939331,0.5001000165939331,0.5001000165939331,0.5001000165939331,0.5001000165939331,0.5001000165939331,0.5001000165939331,0.5001000165939331,0.5001000165939331,0.5001000165939331,0.5001000165939331,0.5001000165939331,0.5001000165939331,0.5001000165939331,0.5001000165939331,0.5001000165939331,0.5001000165939331,0.5001000165939331,0.5001000165939331,0.5001000165939331,0.5001000165939331,0.5001000165939331,0.5751000046730042,0.5751000046730042,0.5751000046730042,0.5751000046730042,0.5751000046730042,0.5751000046730042,0.5751000046730042,0.5751000046730042,0.5751000046730042,0.5751000046730042,0.5751000046730042,0.5751000046730042,0.5751000046730042,0.5751000046730042,0.5751000046730042,0.5751000046730042,0.5751000046730042,0.5751000046730042,0.5751000046730042,0.5751000046730042,0.5751000046730042,0.5751000046730042,0.5751000046730042,0.5751000046730042,0.5751000046730042,0.6500999927520752,0.6500999927520752,0.6500999927520752,0.6500999927520752,0.6500999927520752,0.6500999927520752,0.6500999927520752,0.6500999927520752,0.6500999927520752,0.6500999927520752,0.6500999927520752,0.6500999927520752,0.6500999927520752,0.6500999927520752,0.6500999927520752,0.6500999927520752,0.6500999927520752,0.6500999927520752,0.6500999927520752,0.6500999927520752,0.6500999927520752,0.6500999927520752,0.6500999927520752,0.6500999927520752,0.6500999927520752,0.7250999808311462,0.7250999808311462,0.7250999808311462,0.7250999808311462,0.7250999808311462,0.7250999808311462,0.7250999808311462,0.7250999808311462,0.7250999808311462,0.7250999808311462,0.7250999808311462,0.7250999808311462,0.7250999808311462,0.7250999808311462,0.7250999808311462,0.7250999808311462,0.7250999808311462,0.7250999808311462,0.7250999808311462,0.7250999808311462,0.7250999808311462,0.7250999808311462,0.7250999808311462,0.7250999808311462,0.7250999808311462,0.8000999689102173,0.8000999689102173,0.8000999689102173,0.8000999689102173,0.8000999689102173,0.8000999689102173,0.8000999689102173,0.8000999689102173,0.8000999689102173,0.8000999689102173,0.8000999689102173,0.8000999689102173,0.8000999689102173,0.8000999689102173,0.8000999689102173,0.8000999689102173,0.8000999689102173,0.8000999689102173,0.8000999689102173,0.8000999689102173,0.8000999689102173,0.8000999689102173,0.8000999689102173,0.8000999689102173,0.8000999689102173],\"type\":\"volume\"},{\"marker\":{\"color\":\"black\",\"size\":2,\"symbol\":\"x\"},\"mode\":\"markers\",\"x\":[-0.608299970626831],\"y\":[-0.14999999105930328],\"z\":[0.5751000046730042],\"type\":\"scatter3d\"},{\"marker\":{\"color\":\"black\",\"size\":2,\"symbol\":\"x\"},\"mode\":\"markers\",\"x\":[-0.53329998254776],\"y\":[-0.22499999403953552],\"z\":[0.6500999927520752],\"type\":\"scatter3d\"}],                        {\"template\":{\"data\":{\"histogram2dcontour\":[{\"type\":\"histogram2dcontour\",\"colorbar\":{\"outlinewidth\":0,\"ticks\":\"\"},\"colorscale\":[[0.0,\"#0d0887\"],[0.1111111111111111,\"#46039f\"],[0.2222222222222222,\"#7201a8\"],[0.3333333333333333,\"#9c179e\"],[0.4444444444444444,\"#bd3786\"],[0.5555555555555556,\"#d8576b\"],[0.6666666666666666,\"#ed7953\"],[0.7777777777777778,\"#fb9f3a\"],[0.8888888888888888,\"#fdca26\"],[1.0,\"#f0f921\"]]}],\"choropleth\":[{\"type\":\"choropleth\",\"colorbar\":{\"outlinewidth\":0,\"ticks\":\"\"}}],\"histogram2d\":[{\"type\":\"histogram2d\",\"colorbar\":{\"outlinewidth\":0,\"ticks\":\"\"},\"colorscale\":[[0.0,\"#0d0887\"],[0.1111111111111111,\"#46039f\"],[0.2222222222222222,\"#7201a8\"],[0.3333333333333333,\"#9c179e\"],[0.4444444444444444,\"#bd3786\"],[0.5555555555555556,\"#d8576b\"],[0.6666666666666666,\"#ed7953\"],[0.7777777777777778,\"#fb9f3a\"],[0.8888888888888888,\"#fdca26\"],[1.0,\"#f0f921\"]]}],\"heatmap\":[{\"type\":\"heatmap\",\"colorbar\":{\"outlinewidth\":0,\"ticks\":\"\"},\"colorscale\":[[0.0,\"#0d0887\"],[0.1111111111111111,\"#46039f\"],[0.2222222222222222,\"#7201a8\"],[0.3333333333333333,\"#9c179e\"],[0.4444444444444444,\"#bd3786\"],[0.5555555555555556,\"#d8576b\"],[0.6666666666666666,\"#ed7953\"],[0.7777777777777778,\"#fb9f3a\"],[0.8888888888888888,\"#fdca26\"],[1.0,\"#f0f921\"]]}],\"heatmapgl\":[{\"type\":\"heatmapgl\",\"colorbar\":{\"outlinewidth\":0,\"ticks\":\"\"},\"colorscale\":[[0.0,\"#0d0887\"],[0.1111111111111111,\"#46039f\"],[0.2222222222222222,\"#7201a8\"],[0.3333333333333333,\"#9c179e\"],[0.4444444444444444,\"#bd3786\"],[0.5555555555555556,\"#d8576b\"],[0.6666666666666666,\"#ed7953\"],[0.7777777777777778,\"#fb9f3a\"],[0.8888888888888888,\"#fdca26\"],[1.0,\"#f0f921\"]]}],\"contourcarpet\":[{\"type\":\"contourcarpet\",\"colorbar\":{\"outlinewidth\":0,\"ticks\":\"\"}}],\"contour\":[{\"type\":\"contour\",\"colorbar\":{\"outlinewidth\":0,\"ticks\":\"\"},\"colorscale\":[[0.0,\"#0d0887\"],[0.1111111111111111,\"#46039f\"],[0.2222222222222222,\"#7201a8\"],[0.3333333333333333,\"#9c179e\"],[0.4444444444444444,\"#bd3786\"],[0.5555555555555556,\"#d8576b\"],[0.6666666666666666,\"#ed7953\"],[0.7777777777777778,\"#fb9f3a\"],[0.8888888888888888,\"#fdca26\"],[1.0,\"#f0f921\"]]}],\"surface\":[{\"type\":\"surface\",\"colorbar\":{\"outlinewidth\":0,\"ticks\":\"\"},\"colorscale\":[[0.0,\"#0d0887\"],[0.1111111111111111,\"#46039f\"],[0.2222222222222222,\"#7201a8\"],[0.3333333333333333,\"#9c179e\"],[0.4444444444444444,\"#bd3786\"],[0.5555555555555556,\"#d8576b\"],[0.6666666666666666,\"#ed7953\"],[0.7777777777777778,\"#fb9f3a\"],[0.8888888888888888,\"#fdca26\"],[1.0,\"#f0f921\"]]}],\"mesh3d\":[{\"type\":\"mesh3d\",\"colorbar\":{\"outlinewidth\":0,\"ticks\":\"\"}}],\"scatter\":[{\"fillpattern\":{\"fillmode\":\"overlay\",\"size\":10,\"solidity\":0.2},\"type\":\"scatter\"}],\"parcoords\":[{\"type\":\"parcoords\",\"line\":{\"colorbar\":{\"outlinewidth\":0,\"ticks\":\"\"}}}],\"scatterpolargl\":[{\"type\":\"scatterpolargl\",\"marker\":{\"colorbar\":{\"outlinewidth\":0,\"ticks\":\"\"}}}],\"bar\":[{\"error_x\":{\"color\":\"#2a3f5f\"},\"error_y\":{\"color\":\"#2a3f5f\"},\"marker\":{\"line\":{\"color\":\"#E5ECF6\",\"width\":0.5},\"pattern\":{\"fillmode\":\"overlay\",\"size\":10,\"solidity\":0.2}},\"type\":\"bar\"}],\"scattergeo\":[{\"type\":\"scattergeo\",\"marker\":{\"colorbar\":{\"outlinewidth\":0,\"ticks\":\"\"}}}],\"scatterpolar\":[{\"type\":\"scatterpolar\",\"marker\":{\"colorbar\":{\"outlinewidth\":0,\"ticks\":\"\"}}}],\"histogram\":[{\"marker\":{\"pattern\":{\"fillmode\":\"overlay\",\"size\":10,\"solidity\":0.2}},\"type\":\"histogram\"}],\"scattergl\":[{\"type\":\"scattergl\",\"marker\":{\"colorbar\":{\"outlinewidth\":0,\"ticks\":\"\"}}}],\"scatter3d\":[{\"type\":\"scatter3d\",\"line\":{\"colorbar\":{\"outlinewidth\":0,\"ticks\":\"\"}},\"marker\":{\"colorbar\":{\"outlinewidth\":0,\"ticks\":\"\"}}}],\"scattermapbox\":[{\"type\":\"scattermapbox\",\"marker\":{\"colorbar\":{\"outlinewidth\":0,\"ticks\":\"\"}}}],\"scatterternary\":[{\"type\":\"scatterternary\",\"marker\":{\"colorbar\":{\"outlinewidth\":0,\"ticks\":\"\"}}}],\"scattercarpet\":[{\"type\":\"scattercarpet\",\"marker\":{\"colorbar\":{\"outlinewidth\":0,\"ticks\":\"\"}}}],\"carpet\":[{\"aaxis\":{\"endlinecolor\":\"#2a3f5f\",\"gridcolor\":\"white\",\"linecolor\":\"white\",\"minorgridcolor\":\"white\",\"startlinecolor\":\"#2a3f5f\"},\"baxis\":{\"endlinecolor\":\"#2a3f5f\",\"gridcolor\":\"white\",\"linecolor\":\"white\",\"minorgridcolor\":\"white\",\"startlinecolor\":\"#2a3f5f\"},\"type\":\"carpet\"}],\"table\":[{\"cells\":{\"fill\":{\"color\":\"#EBF0F8\"},\"line\":{\"color\":\"white\"}},\"header\":{\"fill\":{\"color\":\"#C8D4E3\"},\"line\":{\"color\":\"white\"}},\"type\":\"table\"}],\"barpolar\":[{\"marker\":{\"line\":{\"color\":\"#E5ECF6\",\"width\":0.5},\"pattern\":{\"fillmode\":\"overlay\",\"size\":10,\"solidity\":0.2}},\"type\":\"barpolar\"}],\"pie\":[{\"automargin\":true,\"type\":\"pie\"}]},\"layout\":{\"autotypenumbers\":\"strict\",\"colorway\":[\"#636efa\",\"#EF553B\",\"#00cc96\",\"#ab63fa\",\"#FFA15A\",\"#19d3f3\",\"#FF6692\",\"#B6E880\",\"#FF97FF\",\"#FECB52\"],\"font\":{\"color\":\"#2a3f5f\"},\"hovermode\":\"closest\",\"hoverlabel\":{\"align\":\"left\"},\"paper_bgcolor\":\"white\",\"plot_bgcolor\":\"#E5ECF6\",\"polar\":{\"bgcolor\":\"#E5ECF6\",\"angularaxis\":{\"gridcolor\":\"white\",\"linecolor\":\"white\",\"ticks\":\"\"},\"radialaxis\":{\"gridcolor\":\"white\",\"linecolor\":\"white\",\"ticks\":\"\"}},\"ternary\":{\"bgcolor\":\"#E5ECF6\",\"aaxis\":{\"gridcolor\":\"white\",\"linecolor\":\"white\",\"ticks\":\"\"},\"baxis\":{\"gridcolor\":\"white\",\"linecolor\":\"white\",\"ticks\":\"\"},\"caxis\":{\"gridcolor\":\"white\",\"linecolor\":\"white\",\"ticks\":\"\"}},\"coloraxis\":{\"colorbar\":{\"outlinewidth\":0,\"ticks\":\"\"}},\"colorscale\":{\"sequential\":[[0.0,\"#0d0887\"],[0.1111111111111111,\"#46039f\"],[0.2222222222222222,\"#7201a8\"],[0.3333333333333333,\"#9c179e\"],[0.4444444444444444,\"#bd3786\"],[0.5555555555555556,\"#d8576b\"],[0.6666666666666666,\"#ed7953\"],[0.7777777777777778,\"#fb9f3a\"],[0.8888888888888888,\"#fdca26\"],[1.0,\"#f0f921\"]],\"sequentialminus\":[[0.0,\"#0d0887\"],[0.1111111111111111,\"#46039f\"],[0.2222222222222222,\"#7201a8\"],[0.3333333333333333,\"#9c179e\"],[0.4444444444444444,\"#bd3786\"],[0.5555555555555556,\"#d8576b\"],[0.6666666666666666,\"#ed7953\"],[0.7777777777777778,\"#fb9f3a\"],[0.8888888888888888,\"#fdca26\"],[1.0,\"#f0f921\"]],\"diverging\":[[0,\"#8e0152\"],[0.1,\"#c51b7d\"],[0.2,\"#de77ae\"],[0.3,\"#f1b6da\"],[0.4,\"#fde0ef\"],[0.5,\"#f7f7f7\"],[0.6,\"#e6f5d0\"],[0.7,\"#b8e186\"],[0.8,\"#7fbc41\"],[0.9,\"#4d9221\"],[1,\"#276419\"]]},\"xaxis\":{\"gridcolor\":\"white\",\"linecolor\":\"white\",\"ticks\":\"\",\"title\":{\"standoff\":15},\"zerolinecolor\":\"white\",\"automargin\":true,\"zerolinewidth\":2},\"yaxis\":{\"gridcolor\":\"white\",\"linecolor\":\"white\",\"ticks\":\"\",\"title\":{\"standoff\":15},\"zerolinecolor\":\"white\",\"automargin\":true,\"zerolinewidth\":2},\"scene\":{\"xaxis\":{\"backgroundcolor\":\"#E5ECF6\",\"gridcolor\":\"white\",\"linecolor\":\"white\",\"showbackground\":true,\"ticks\":\"\",\"zerolinecolor\":\"white\",\"gridwidth\":2},\"yaxis\":{\"backgroundcolor\":\"#E5ECF6\",\"gridcolor\":\"white\",\"linecolor\":\"white\",\"showbackground\":true,\"ticks\":\"\",\"zerolinecolor\":\"white\",\"gridwidth\":2},\"zaxis\":{\"backgroundcolor\":\"#E5ECF6\",\"gridcolor\":\"white\",\"linecolor\":\"white\",\"showbackground\":true,\"ticks\":\"\",\"zerolinecolor\":\"white\",\"gridwidth\":2}},\"shapedefaults\":{\"line\":{\"color\":\"#2a3f5f\"}},\"annotationdefaults\":{\"arrowcolor\":\"#2a3f5f\",\"arrowhead\":0,\"arrowwidth\":1},\"geo\":{\"bgcolor\":\"white\",\"landcolor\":\"#E5ECF6\",\"subunitcolor\":\"white\",\"showland\":true,\"showlakes\":true,\"lakecolor\":\"white\"},\"title\":{\"x\":0.05},\"mapbox\":{\"style\":\"light\"}}},\"scene\":{\"xaxis\":{\"showticklabels\":true},\"yaxis\":{\"showticklabels\":true},\"zaxis\":{\"showticklabels\":true},\"annotations\":[{\"font\":{\"size\":9},\"opacity\":0.7,\"showarrow\":false,\"text\":\"T-2\",\"x\":-0.608299970626831,\"xanchor\":\"left\",\"xshift\":5,\"y\":-0.14999999105930328,\"z\":0.5751000046730042},{\"font\":{\"size\":9},\"opacity\":0.7,\"showarrow\":false,\"text\":\"T-1\",\"x\":-0.53329998254776,\"xanchor\":\"left\",\"xshift\":5,\"y\":-0.22499999403953552,\"z\":0.6500999927520752}]},\"title\":{\"text\":\"Physics Posterior (Translation)\"}},                        {\"responsive\": true}                    ).then(function(){\n",
       "                            \n",
       "var gd = document.getElementById('312640ca-19ec-4d65-8ab7-2e7efa631785');\n",
       "var x = new MutationObserver(function (mutations, observer) {{\n",
       "        var display = window.getComputedStyle(gd).display;\n",
       "        if (!display || display === 'none') {{\n",
       "            console.log([gd, 'removed!']);\n",
       "            Plotly.purge(gd);\n",
       "            observer.disconnect();\n",
       "        }}\n",
       "}});\n",
       "\n",
       "// Listen for the removal of the full notebook cells\n",
       "var notebookContainer = gd.closest('#notebook-container');\n",
       "if (notebookContainer) {{\n",
       "    x.observe(notebookContainer, {childList: true});\n",
       "}}\n",
       "\n",
       "// Listen for the clearing of the current output cell\n",
       "var outputEl = gd.closest('.output');\n",
       "if (outputEl) {{\n",
       "    x.observe(outputEl, {childList: true});\n",
       "}}\n",
       "\n",
       "                        })                };                });            </script>        </div>"
      ]
     },
     "metadata": {},
     "output_type": "display_data"
    }
   ],
   "source": [
    "ppp = jnp.around(cam_pose @ pose_estimates_over_time[29], 4)\n",
    "pp = jnp.around(cam_pose @ pose_estimates_over_time[30], 4)\n",
    "# translation_deltas = b.make_translation_grid_enumeration(-0.2, -0.2, -0.2, 0.2, 0.2, 0.2, 5, 5, 5)\n",
    "proposals1 = jnp.einsum(\"ij,ajk->aik\", pp, translation_deltas)\n",
    "weights1 = physics_prior_v1_parallel(proposals1, pp, ppp, jnp.array([1,1,1]), cam_pose, world2cam)\n",
    "plot_physics_posterior(proposals1, pp, ppp,weights1)\n"
   ]
  },
  {
   "cell_type": "code",
   "execution_count": null,
   "metadata": {},
   "outputs": [],
   "source": []
  },
  {
   "cell_type": "code",
   "execution_count": 22,
   "metadata": {},
   "outputs": [
    {
     "data": {
      "image/png": "[encoded data removed]",
      "text/plain": [
       "<PIL.Image.Image image mode=RGBA size=970x431>"
      ]
     },
     "execution_count": 22,
     "metadata": {},
     "output_type": "execute_result"
    }
   ],
   "source": [
    "viz_images[16]"
   ]
  }
 ],
 "metadata": {
  "kernelspec": {
   "display_name": "Python 3 (ipykernel)",
   "language": "python",
   "name": "python3"
  },
  "language_info": {
   "codemirror_mode": {
    "name": "ipython",
    "version": 3
   },
   "file_extension": ".py",
   "mimetype": "text/x-python",
   "name": "python",
   "nbconvert_exporter": "python",
   "pygments_lexer": "ipython3",
   "version": "3.9.16"
  },
  "orig_nbformat": 4
 },
 "nbformat": 4,
 "nbformat_minor": 2
}
