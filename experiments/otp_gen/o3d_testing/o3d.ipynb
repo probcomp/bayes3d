{
 "cells": [
  {
   "cell_type": "code",
   "execution_count": null,
   "metadata": {},
   "outputs": [],
   "source": [
    "# o3d_scenes\n",
    "import open3d as o3d\n",
    "import numpy as np\n",
    "import bayes3d.o3d_viz as test \n",
    "import bayes3d as j \n",
    "\n",
    "sample_intrinsics = j.Intrinsics(\n",
    "    1000,1000,\n",
    "    1000.0,\n",
    "    1000.0,\n",
    "    500.0,\n",
    "    500.0,\n",
    "    0.01,\n",
    "    2000.0\n",
    ")\n",
    "\n",
    "\n",
    "vis = test.O3DVis(sample_intrinsics)\n",
    "vis.capture_image(sample_intrinsics, np.eye(4))\n"
   ]
  }
 ],
 "metadata": {
  "language_info": {
   "name": "python"
  },
  "orig_nbformat": 4
 },
 "nbformat": 4,
 "nbformat_minor": 2
}
