{
 "cells": [
  {
   "cell_type": "code",
   "execution_count": 1,
   "metadata": {},
   "outputs": [
    {
     "name": "stderr",
     "output_type": "stream",
     "text": [
      "pybullet build time: Jun 12 2023 15:17:43\n"
     ]
    },
    {
     "ename": "RuntimeError",
     "evalue": "\u001b[1;31m[Open3D Error] (open3d::visualization::rendering::EngineInstance::EngineInstance()) /Users/renes/development/open3d_work/Open3D/cpp/open3d/visualization/rendering/filament/FilamentEngine.cpp:104: EGL Headless is not supported on this platform.\n\u001b[0;m",
     "output_type": "error",
     "traceback": [
      "\u001b[0;31m---------------------------------------------------------------------------\u001b[0m",
      "\u001b[0;31mRuntimeError\u001b[0m                              Traceback (most recent call last)",
      "Cell \u001b[0;32mIn[1], line 18\u001b[0m\n\u001b[1;32m      5\u001b[0m \u001b[39mimport\u001b[39;00m \u001b[39mbayes3d\u001b[39;00m \u001b[39mas\u001b[39;00m \u001b[39mj\u001b[39;00m \n\u001b[1;32m      7\u001b[0m sample_intrinsics \u001b[39m=\u001b[39m j\u001b[39m.\u001b[39mIntrinsics(\n\u001b[1;32m      8\u001b[0m     \u001b[39m1000\u001b[39m,\u001b[39m1000\u001b[39m,\n\u001b[1;32m      9\u001b[0m     \u001b[39m1000.0\u001b[39m,\n\u001b[0;32m   (...)\u001b[0m\n\u001b[1;32m     14\u001b[0m     \u001b[39m2000.0\u001b[39m\n\u001b[1;32m     15\u001b[0m )\n\u001b[0;32m---> 18\u001b[0m vis \u001b[39m=\u001b[39m test\u001b[39m.\u001b[39;49mO3DVis(sample_intrinsics)\n\u001b[1;32m     19\u001b[0m vis\u001b[39m.\u001b[39mcapture_image(sample_intrinsics, np\u001b[39m.\u001b[39meye(\u001b[39m4\u001b[39m))\n",
      "File \u001b[0;32m~/Documents/mcs/bayes3d/bayes3d/o3d_viz.py:15\u001b[0m, in \u001b[0;36mO3DVis.__init__\u001b[0;34m(self, intrinsics)\u001b[0m\n\u001b[1;32m     14\u001b[0m \u001b[39mdef\u001b[39;00m \u001b[39m__init__\u001b[39m(\u001b[39mself\u001b[39m, intrinsics):\n\u001b[0;32m---> 15\u001b[0m     \u001b[39mself\u001b[39m\u001b[39m.\u001b[39mrender \u001b[39m=\u001b[39m o3d\u001b[39m.\u001b[39;49mvisualization\u001b[39m.\u001b[39;49mrendering\u001b[39m.\u001b[39;49mOffscreenRenderer(intrinsics\u001b[39m.\u001b[39;49mwidth, intrinsics\u001b[39m.\u001b[39;49mheight)\n\u001b[1;32m     16\u001b[0m     \u001b[39m# self.set_background(np.array([0.0, 0.0, 0.0, 0.0]))\u001b[39;00m\n\u001b[1;32m     17\u001b[0m     \u001b[39mself\u001b[39m\u001b[39m.\u001b[39mrender\u001b[39m.\u001b[39mscene\u001b[39m.\u001b[39mset_background(np\u001b[39m.\u001b[39marray([\u001b[39m1.0\u001b[39m, \u001b[39m1.0\u001b[39m, \u001b[39m1.0\u001b[39m, \u001b[39m1.0\u001b[39m]))\n",
      "\u001b[0;31mRuntimeError\u001b[0m: \u001b[1;31m[Open3D Error] (open3d::visualization::rendering::EngineInstance::EngineInstance()) /Users/renes/development/open3d_work/Open3D/cpp/open3d/visualization/rendering/filament/FilamentEngine.cpp:104: EGL Headless is not supported on this platform.\n\u001b[0;m"
     ]
    }
   ],
   "source": [
    "# o3d_scenes\n",
    "import open3d as o3d\n",
    "import numpy as np\n",
    "import bayes3d.o3d_viz as test \n",
    "import bayes3d as j \n",
    "from PIL import Image as im \n",
    "\n",
    "sample_intrinsics = j.Intrinsics(\n",
    "    1000,1000,\n",
    "    1000.0,\n",
    "    1000.0,\n",
    "    500.0,\n",
    "    500.0,\n",
    "    0.01,\n",
    "    2000.0\n",
    ")\n",
    "\n",
    "\n",
    "vis = test.O3DVis(sample_intrinsics)\n",
    "image = vis.capture_image(sample_intrinsics, np.eye(4))\n",
    "array = np.array(image.rgb, dtype=np.uint8)"
   ]
  },
  {
   "attachments": {},
   "cell_type": "markdown",
   "metadata": {},
   "source": [
    "## Creating Simple Scenes with Open3DRendering "
   ]
  },
  {
   "cell_type": "code",
   "execution_count": null,
   "metadata": {},
   "outputs": [],
   "source": [
    "# create scene object \n",
    "# add custom mesh, native o3d to scene \n",
    "# render scene with o3d "
   ]
  },
  {
   "attachments": {},
   "cell_type": "markdown",
   "metadata": {},
   "source": [
    "## Adding O3D Textured Objects to the Scene"
   ]
  },
  {
   "cell_type": "code",
   "execution_count": null,
   "metadata": {},
   "outputs": [],
   "source": [
    "## create scene object \n",
    "## add ycb object to scene "
   ]
  },
  {
   "attachments": {},
   "cell_type": "markdown",
   "metadata": {},
   "source": [
    "## Adding Transparent Objects to a Scene"
   ]
  },
  {
   "cell_type": "code",
   "execution_count": null,
   "metadata": {},
   "outputs": [],
   "source": [
    "# Add YCB Object to a scene \n",
    "# Add occluder that passes by the object"
   ]
  },
  {
   "attachments": {},
   "cell_type": "markdown",
   "metadata": {},
   "source": [
    "## Adjusting Camera Position, Orientation "
   ]
  },
  {
   "cell_type": "code",
   "execution_count": null,
   "metadata": {},
   "outputs": [],
   "source": [
    "# Create scene with multiple walls \n",
    "# render scene\n",
    "# change camera pose to top down view \n",
    "# render scene"
   ]
  },
  {
   "attachments": {},
   "cell_type": "markdown",
   "metadata": {},
   "source": [
    "## Running Simulation with Pyb, rendering with O3D "
   ]
  },
  {
   "cell_type": "code",
   "execution_count": null,
   "metadata": {},
   "outputs": [],
   "source": [
    "# Scene where two balls collide behind a transparent occluder "
   ]
  },
  {
   "attachments": {},
   "cell_type": "markdown",
   "metadata": {},
   "source": [
    "## Runnign Simulation with Pyb, rendering o3d and depth \n"
   ]
  }
 ],
 "metadata": {
  "kernelspec": {
   "display_name": "bayes3d",
   "language": "python",
   "name": "python3"
  },
  "language_info": {
   "codemirror_mode": {
    "name": "ipython",
    "version": 3
   },
   "file_extension": ".py",
   "mimetype": "text/x-python",
   "name": "python",
   "nbconvert_exporter": "python",
   "pygments_lexer": "ipython3",
   "version": "3.8.16"
  },
  "orig_nbformat": 4
 },
 "nbformat": 4,
 "nbformat_minor": 2
}
