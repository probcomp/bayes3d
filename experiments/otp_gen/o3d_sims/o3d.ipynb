{
 "cells": [
  {
   "cell_type": "code",
   "execution_count": 1,
   "metadata": {},
   "outputs": [
    {
     "name": "stdout",
     "output_type": "stream",
     "text": [
      "Jupyter environment detected. Enabling Open3D WebVisualizer.\n",
      "[Open3D INFO] WebRTC GUI backend enabled.\n",
      "[Open3D INFO] WebRTCWindowSystem: HTTP handshake server disabled.\n",
      "[[525.    0.  319.5]\n",
      " [  0.  525.  239.5]\n",
      " [  0.    0.    1. ]]\n",
      "[Open3D INFO] EGL headless mode enabled.\n",
      "FEngine (64 bits) created at 0x7fe37c74b010 (threading is enabled)\n",
      "EGL(1.5)\n",
      "OpenGL(4.1)\n",
      "(1000, 1000, 4)\n"
     ]
    }
   ],
   "source": [
    "import open3d as o3d\n",
    "import bayes3d as j\n",
    "import numpy as np \n",
    "import jax.numpy as jnp\n",
    "from PIL import Image\n",
    "\n",
    "intrinsics = o3d.camera.PinholeCameraIntrinsic(640, 480, 525.0, 525.0, 319.5, 239.5)\n",
    "print(intrinsics.intrinsic_matrix)\\\n",
    "\n",
    "intrinsics = j.Intrinsics(\n",
    "    1000,1000,\n",
    "    1000.0,\n",
    "    1000.0,\n",
    "    500.0,\n",
    "    500.0,\n",
    "    0.01,\n",
    "    2000.0\n",
    ")\n",
    "\n",
    "vis = o3d.visualization.rendering.OffscreenRenderer(intrinsics.width, intrinsics.height)\n",
    "\n",
    "intr = o3d.camera.PinholeCameraIntrinsic(\n",
    "    intrinsics.width, intrinsics.height, intrinsics.fx, intrinsics.fy, intrinsics.cx, intrinsics.cy\n",
    ")\n",
    "vis.setup_camera(intr, np.linalg.inv(np.eye(4)))\n",
    "\n",
    "camera_pose = np.eye(4)\n",
    "\n",
    "# Look at the origin from the front (along the -Z direction, into the screen), with Y as Up.\n",
    "center = np.array(camera_pose[:3,3]) + np.array(camera_pose[:3,2])  # look_at target\n",
    "eye = np.array(camera_pose[:3,3])  # camera position\n",
    "up = -np.array(camera_pose[:3,1])\n",
    "vis.scene.camera.look_at(center, eye, up)\n",
    "img = np.array(vis.render_to_image())\n",
    "rgb = j.add_rgba_dimension(img)\n",
    "depth = jnp.array(vis.render_to_depth_image(z_in_view_space=True))\n",
    "\n",
    "print(rgb.shape)"
   ]
  }
 ],
 "metadata": {
  "kernelspec": {
   "display_name": "bayes3d",
   "language": "python",
   "name": "python3"
  },
  "language_info": {
   "codemirror_mode": {
    "name": "ipython",
    "version": 3
   },
   "file_extension": ".py",
   "mimetype": "text/x-python",
   "name": "python",
   "nbconvert_exporter": "python",
   "pygments_lexer": "ipython3",
   "version": "3.8.16"
  },
  "orig_nbformat": 4
 },
 "nbformat": 4,
 "nbformat_minor": 2
}
