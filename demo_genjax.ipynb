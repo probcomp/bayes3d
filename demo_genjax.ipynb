{
 "cells": [
  {
   "cell_type": "code",
   "execution_count": 1,
   "metadata": {},
   "outputs": [],
   "source": [
    "import numpy as np\n",
    "import jax.numpy as jnp\n",
    "import jax\n",
    "import bayes3d as b\n",
    "import time\n",
    "from PIL import Image\n",
    "from scipy.spatial.transform import Rotation as R\n",
    "import matplotlib.pyplot as plt\n",
    "import cv2\n",
    "import trimesh\n",
    "import os\n",
    "import glob\n",
    "import bayes3d.neural\n",
    "import pickle\n",
    "import genjax"
   ]
  },
  {
   "cell_type": "code",
   "execution_count": 2,
   "metadata": {},
   "outputs": [
    {
     "name": "stderr",
     "output_type": "stream",
     "text": [
      "[E rasterize_gl.cpp:121] OpenGL version reported as 4.6\n"
     ]
    },
    {
     "name": "stdout",
     "output_type": "stream",
     "text": [
      "Increasing frame buffer size to (width, height, depth) = (128, 128, 1024)\n"
     ]
    }
   ],
   "source": [
    "intrinsics = b.Intrinsics(\n",
    "    height=100,\n",
    "    width=100,\n",
    "    fx=150.0, fy=150.0,\n",
    "    cx=50.0, cy=50.0,\n",
    "    near=0.001, far=6.0\n",
    ")\n",
    "b.setup_renderer(intrinsics)\n",
    "model_dir = os.path.join(b.utils.get_assets_dir(),\"bop/ycbv/models\")\n",
    "mesh_path = os.path.join(model_dir,\"obj_\" + \"{}\".format(13+1).rjust(6, '0') + \".ply\")\n",
    "b.RENDERER.add_mesh_from_file(mesh_path, scaling_factor=1.0/1000.0)\n",
    "mesh_path = os.path.join(model_dir,\"obj_\" + \"{}\".format(10+1).rjust(6, '0') + \".ply\")\n",
    "b.RENDERER.add_mesh_from_file(mesh_path, scaling_factor=1.0/1000.0)\n",
    "b.RENDERER.add_mesh_from_file(os.path.join(b.utils.get_assets_dir(), \"sample_objs/cube.obj\"), scaling_factor=1.0/1000000000.0)"
   ]
  },
  {
   "cell_type": "code",
   "execution_count": 3,
   "metadata": {},
   "outputs": [
    {
     "data": {
      "text/plain": [
       "Array([[1.16966e-01, 9.30750e-02, 8.13840e-02],\n",
       "       [1.48997e-01, 1.44769e-01, 2.42640e-01],\n",
       "       [1.00000e-09, 1.00000e-09, 1.00000e-09]], dtype=float32)"
      ]
     },
     "execution_count": 3,
     "metadata": {},
     "output_type": "execute_result"
    }
   ],
   "source": [
    "b.RENDERER.model_box_dims"
   ]
  },
  {
   "cell_type": "code",
   "execution_count": 4,
   "metadata": {},
   "outputs": [],
   "source": [
    "importance_jit = jax.jit(b.model.importance)\n",
    "key = jax.random.PRNGKey(10)"
   ]
  },
  {
   "cell_type": "code",
   "execution_count": 5,
   "metadata": {},
   "outputs": [
    {
     "name": "stdout",
     "output_type": "stream",
     "text": [
      "You can open the visualizer by visiting the following URL:\n",
      "http://127.0.0.1:7003/static/\n"
     ]
    }
   ],
   "source": [
    "b.setup_visualizer()"
   ]
  },
  {
   "cell_type": "code",
   "execution_count": 6,
   "metadata": {},
   "outputs": [],
   "source": [
    "def viz_trace_meshcat(trace, colors=None):\n",
    "    b.clear_visualizer()\n",
    "    b.show_cloud(\"1\", b.apply_transform_jit(trace[\"image\"].reshape(-1,3), trace[\"camera_pose\"]))\n",
    "    b.show_cloud(\"2\", b.apply_transform_jit(b.get_rendered_image(trace).reshape(-1,3), trace[\"camera_pose\"]),color=b.RED)\n",
    "    indices = trace.get_retval()[1]\n",
    "    if colors is None:\n",
    "        colors = b.viz.distinct_colors(max(10, len(indices)))\n",
    "    for i in range(len(indices)):\n",
    "        b.show_trimesh(f\"obj_{i}\", b.RENDERER.meshes[indices[i]],color=colors[i])\n",
    "        b.set_pose(f\"obj_{i}\", trace.get_retval()[2][i])\n",
    "    b.show_pose(f\"camera_pose\", trace[\"camera_pose\"])\n"
   ]
  },
  {
   "cell_type": "code",
   "execution_count": 49,
   "metadata": {},
   "outputs": [
    {
     "name": "stdout",
     "output_type": "stream",
     "text": [
      "43.175415\n"
     ]
    },
    {
     "data": {
      "image/png": "[encoded data removed]",
      "text/plain": [
       "<PIL.Image.Image image mode=RGB size=100x100>"
      ]
     },
     "execution_count": 49,
     "metadata": {},
     "output_type": "execute_result"
    }
   ],
   "source": [
    "key = jax.random.split(key)[0]\n",
    "weight, trace = importance_jit(key, genjax.choice_map({\n",
    "    \"parent_0\": -1,\n",
    "    \"id_0\": jnp.int32(0),\n",
    "    \"camera_pose\": jnp.eye(4),\n",
    "    # # \"root_pose_0\": b.transform_from_pos(jnp.array([0.0, 0.0, 0.4])),\n",
    "    \"variance\": 0.02,\n",
    "    \"outlier_prob\": 0.0001,\n",
    "}), (\n",
    "    jnp.arange(1),\n",
    "    jnp.arange(3),\n",
    "    jnp.array([jnp.array([-0.1,-0.1,-0.1]), jnp.array([0.1,0.1,0.4])]),\n",
    "    jnp.array([jnp.array([-12.0, -12.0, -22*jnp.pi]), jnp.array([12.0, 12.0, 22*jnp.pi])]),\n",
    "    b.RENDERER.model_box_dims)\n",
    ")\n",
    "viz_trace_meshcat(trace)\n",
    "print(trace.get_score())\n",
    "obs_image = trace[\"image\"]\n",
    "b.get_depth_image(obs_image, max_val=0.8)"
   ]
  },
  {
   "cell_type": "code",
   "execution_count": 55,
   "metadata": {},
   "outputs": [],
   "source": [
    "key = jax.random.split(key)[0]\n",
    "def importance_sample(key):\n",
    "    weight, trace = importance_jit(key, genjax.choice_map({\n",
    "        \"parent_0\": -1,\n",
    "        \"id_0\": jnp.int32(0),\n",
    "        \"camera_pose\": jnp.eye(4),\n",
    "        # \"root_pose_0\": b.transform_from_pos(jnp.array([0.0, 0.0, 0.4])),\n",
    "        \"variance\": 0.02,\n",
    "        \"outlier_prob\": 0.0001,\n",
    "        \"image\": obs_image\n",
    "    }), (\n",
    "        jnp.arange(1),\n",
    "        jnp.arange(3),\n",
    "        jnp.array([jnp.array([-0.1,-0.1,-0.1]), jnp.array([0.1,0.1,0.4])]),\n",
    "        jnp.array([jnp.array([-12.0, -12.0, -22*jnp.pi]), jnp.array([12.0, 12.0, 22*jnp.pi])]),\n",
    "        b.RENDERER.model_box_dims)\n",
    "    )\n",
    "    return trace[\"root_pose_0\"], trace.get_score()\n",
    "\n",
    "importance_sample_vmap = jax.jit(jax.vmap(importance_sample, in_axes=(0)))"
   ]
  },
  {
   "cell_type": "code",
   "execution_count": 59,
   "metadata": {},
   "outputs": [
    {
     "name": "stdout",
     "output_type": "stream",
     "text": [
      "38.260414\n",
      "38.255413\n"
     ]
    },
    {
     "data": {
      "image/png": "[encoded data removed]",
      "text/plain": [
       "<PIL.Image.Image image mode=RGB size=100x100>"
      ]
     },
     "execution_count": 59,
     "metadata": {},
     "output_type": "execute_result"
    }
   ],
   "source": [
    "key = jax.random.split(key)[0]\n",
    "poses, weights = importance_sample_vmap(jax.random.split(key, 5000))\n",
    "print(weights.max())\n",
    "weight, trace = importance_jit(key, genjax.choice_map({\n",
    "    \"parent_0\": -1,\n",
    "    \"id_0\": jnp.int32(0),\n",
    "    \"camera_pose\": jnp.eye(4),\n",
    "    \"root_pose_0\": poses[weights.argmax()],\n",
    "    \"variance\": 0.02,\n",
    "    \"outlier_prob\": 0.0001,\n",
    "    \"image\": obs_image\n",
    "}), (\n",
    "    jnp.arange(1),\n",
    "    jnp.arange(3),\n",
    "    jnp.array([jnp.array([-0.1,-0.1,-0.1]), jnp.array([0.1,0.1,0.4])]),\n",
    "    jnp.array([jnp.array([-12.0, -12.0, -22*jnp.pi]), jnp.array([12.0, 12.0, 22*jnp.pi])]),\n",
    "    b.RENDERER.model_box_dims)\n",
    ")\n",
    "viz_trace_meshcat(trace)\n",
    "print(trace.get_score())\n",
    "b.get_depth_image(b.get_rendered_image(trace), max_val=0.8)"
   ]
  }
 ],
 "metadata": {
  "kernelspec": {
   "display_name": "bayes3d",
   "language": "python",
   "name": "python3"
  },
  "language_info": {
   "codemirror_mode": {
    "name": "ipython",
    "version": 3
   },
   "file_extension": ".py",
   "mimetype": "text/x-python",
   "name": "python",
   "nbconvert_exporter": "python",
   "pygments_lexer": "ipython3",
   "version": "3.9.18"
  }
 },
 "nbformat": 4,
 "nbformat_minor": 2
}
