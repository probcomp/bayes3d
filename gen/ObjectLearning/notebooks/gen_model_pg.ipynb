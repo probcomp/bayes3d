{
 "cells": [
  {
   "cell_type": "code",
   "execution_count": 1,
   "id": "e7e9d458",
   "metadata": {},
   "outputs": [],
   "source": [
    "using ObjectLearning\n",
    "O = ObjectLearning;"
   ]
  },
  {
   "cell_type": "code",
   "execution_count": 2,
   "id": "69e0aa6c",
   "metadata": {},
   "outputs": [],
   "source": [
    "table_mesh = O.Mesh(O.j.mesh.make_cuboid_mesh([20.0, 0.01, 20.0]));\n",
    "table_pose = O.IDENTITY_POSE\n",
    "table_node = O.FloatingNode(:table, table_mesh, table_pose);"
   ]
  },
  {
   "cell_type": "code",
   "execution_count": 3,
   "id": "a1110ca6",
   "metadata": {},
   "outputs": [],
   "source": [
    "mustard_bottle_mesh = O.load_ycb_mesh(5; scale=100)\n",
    "mustard_bottle_cparams = O.ContactParams(O.top, O.front, (0.0, 0.0, π/3))\n",
    "mustard_bottle_node = O.ChildNode(:mustard, mustard_bottle_mesh, mustard_bottle_cparams);"
   ]
  },
  {
   "cell_type": "code",
   "execution_count": 4,
   "id": "20bfa2e6",
   "metadata": {},
   "outputs": [],
   "source": [
    "ycb_scene = O.TableTopSceneGraph(table_node, [mustard_bottle_node]);"
   ]
  },
  {
   "cell_type": "code",
   "execution_count": 5,
   "id": "0490b20e",
   "metadata": {},
   "outputs": [],
   "source": [
    "pos = [0.0, -7.0, 7.0]\n",
    "target = [0.0, 0.0, 0.0]\n",
    "up = [0.0, -1.0, 0.0]\n",
    "cam_pose = O.cam_pose_from_pos_target_up(pos, target, up);"
   ]
  },
  {
   "cell_type": "code",
   "execution_count": 6,
   "id": "826c5005",
   "metadata": {},
   "outputs": [],
   "source": [
    "intrinsics = O.Intrinsics((height=300, width=300,\n",
    "           fx=200.0, fy=200.0,\n",
    "           cx=150.0, cy=150.0,\n",
    "           near=0.001, far=50.0));"
   ]
  },
  {
   "cell_type": "code",
   "execution_count": 7,
   "id": "3126ad06",
   "metadata": {},
   "outputs": [
    {
     "name": "stdout",
     "output_type": "stream",
     "text": [
      "Increasing frame buffer size to (width, height, depth) = (320, 320, 2048)\n"
     ]
    }
   ],
   "source": [
    "ycb_img = O.render_scene(ycb_scene, cam_pose, intrinsics);"
   ]
  },
  {
   "cell_type": "code",
   "execution_count": 11,
   "id": "7d40b680",
   "metadata": {},
   "outputs": [
    {
     "data": {
      "image/png": "[encoded data removed]",
      "text/plain": [
       "PyObject <PIL.Image.Image image mode=RGBA size=300x300 at 0x7FBB703E9AC0>"
      ]
     },
     "execution_count": 11,
     "metadata": {},
     "output_type": "execute_result"
    }
   ],
   "source": [
    "O.j.get_depth_image(O.np.array(ycb_img.arr)[:, :, 3]; max=10)"
   ]
  },
  {
   "cell_type": "code",
   "execution_count": 9,
   "id": "6e3a5dd8",
   "metadata": {},
   "outputs": [
    {
     "name": "stdout",
     "output_type": "stream",
     "text": [
      "Increasing frame buffer size to (width, height, depth) = (320, 320, 2048)\n"
     ]
    }
   ],
   "source": [
    "dimg = O.random(O.stoch_renderer, ycb_scene, cam_pose, intrinsics, 1e-3, 1e-2);"
   ]
  },
  {
   "cell_type": "code",
   "execution_count": 10,
   "id": "f38643af",
   "metadata": {},
   "outputs": [
    {
     "data": {
      "image/png": "[encoded data removed]",
      "text/plain": [
       "PyObject <PIL.Image.Image image mode=RGBA size=300x300 at 0x7FBB702CFCA0>"
      ]
     },
     "execution_count": 10,
     "metadata": {},
     "output_type": "execute_result"
    }
   ],
   "source": [
    "O.j.get_depth_image(O.np.array(dimg.arr)[:, :, 3]; max=10)"
   ]
  },
  {
   "cell_type": "code",
   "execution_count": null,
   "id": "b1c97e1e",
   "metadata": {},
   "outputs": [],
   "source": []
  }
 ],
 "metadata": {
  "kernelspec": {
   "display_name": "Julia (8 threads) 1.8.5",
   "language": "julia",
   "name": "julia-_8-threads_-1.8"
  },
  "language_info": {
   "file_extension": ".jl",
   "mimetype": "application/julia",
   "name": "julia",
   "version": "1.8.5"
  }
 },
 "nbformat": 4,
 "nbformat_minor": 5
}
