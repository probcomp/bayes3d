{
 "cells": [
  {
   "cell_type": "code",
   "execution_count": 1,
   "id": "ec88b004",
   "metadata": {},
   "outputs": [],
   "source": [
    "using PyCall"
   ]
  },
  {
   "cell_type": "code",
   "execution_count": 2,
   "id": "0f77ea6b",
   "metadata": {},
   "outputs": [],
   "source": [
    "using PoseComposition: Pose, IDENTITY_POSE, IDENTITY_ORN"
   ]
  },
  {
   "cell_type": "code",
   "execution_count": 3,
   "id": "940d6639",
   "metadata": {},
   "outputs": [],
   "source": [
    "using Parameters"
   ]
  },
  {
   "cell_type": "code",
   "execution_count": 67,
   "id": "65b14616",
   "metadata": {},
   "outputs": [
    {
     "name": "stderr",
     "output_type": "stream",
     "text": [
      "\u001b[36m\u001b[1m[ \u001b[22m\u001b[39m\u001b[36m\u001b[1mInfo: \u001b[22m\u001b[39mPrecompiling ObjectLearning [a21d6863-a99d-4c79-a19f-ed6f78174c87]\n"
     ]
    }
   ],
   "source": [
    "using ObjectLearning: VoxelGrid, shape_model, ShapeModelParams, SCALE"
   ]
  },
  {
   "cell_type": "code",
   "execution_count": 5,
   "id": "c5111a38",
   "metadata": {},
   "outputs": [],
   "source": [
    "using Gen"
   ]
  },
  {
   "cell_type": "code",
   "execution_count": 6,
   "id": "99709c17",
   "metadata": {},
   "outputs": [],
   "source": [
    "import Gen: random, logpdf"
   ]
  },
  {
   "cell_type": "code",
   "execution_count": 7,
   "id": "da53290e",
   "metadata": {},
   "outputs": [],
   "source": [
    "using Rotations"
   ]
  },
  {
   "cell_type": "code",
   "execution_count": 9,
   "id": "513c86ef",
   "metadata": {},
   "outputs": [],
   "source": [
    "j = pyimport(\"jax3dp3\");"
   ]
  },
  {
   "cell_type": "code",
   "execution_count": 10,
   "id": "19ad7f14",
   "metadata": {},
   "outputs": [],
   "source": [
    "jax = pyimport(\"jax\");"
   ]
  },
  {
   "cell_type": "code",
   "execution_count": 11,
   "id": "da1d30a9",
   "metadata": {},
   "outputs": [],
   "source": [
    "jnp = pyimport(\"jax.numpy\");"
   ]
  },
  {
   "cell_type": "code",
   "execution_count": 12,
   "id": "b7231d20",
   "metadata": {},
   "outputs": [],
   "source": [
    "np = pyimport(\"numpy\");"
   ]
  },
  {
   "cell_type": "code",
   "execution_count": 13,
   "id": "2a3f3c0f",
   "metadata": {},
   "outputs": [],
   "source": [
    "trimesh = pyimport(\"trimesh\");"
   ]
  },
  {
   "cell_type": "code",
   "execution_count": 14,
   "id": "9813b54b",
   "metadata": {},
   "outputs": [],
   "source": [
    "Intrinsics = @NamedTuple begin\n",
    "    height::Int64\n",
    "    width::Int64\n",
    "    fx::Float64\n",
    "    fy::Float64\n",
    "    cx::Float64\n",
    "    cy::Float64\n",
    "    near::Float64\n",
    "    far::Float64\n",
    "end;"
   ]
  },
  {
   "cell_type": "code",
   "execution_count": 15,
   "id": "b44e4f27",
   "metadata": {},
   "outputs": [],
   "source": [
    "intrinsics = Intrinsics((height=300, width=300,\n",
    "           fx=200.0, fy=200.0,\n",
    "           cx=150.0, cy=150.0,\n",
    "           near=0.001, far=50.0));"
   ]
  },
  {
   "cell_type": "code",
   "execution_count": 16,
   "id": "09abfeab",
   "metadata": {},
   "outputs": [],
   "source": [
    "struct JAXRenderer\n",
    "    pyobj::PyObject\n",
    "end"
   ]
  },
  {
   "cell_type": "code",
   "execution_count": 17,
   "id": "bf3eaac2",
   "metadata": {},
   "outputs": [],
   "source": [
    "struct Mesh\n",
    "    pyobj::PyObject\n",
    "end"
   ]
  },
  {
   "cell_type": "code",
   "execution_count": 18,
   "id": "76c45ff3",
   "metadata": {},
   "outputs": [
    {
     "data": {
      "text/plain": [
       "make_renderer (generic function with 1 method)"
      ]
     },
     "execution_count": 18,
     "metadata": {},
     "output_type": "execute_result"
    }
   ],
   "source": [
    "make_renderer(intrinsics::Intrinsics) = JAXRenderer(j.Renderer(intrinsics))"
   ]
  },
  {
   "cell_type": "code",
   "execution_count": 19,
   "id": "5befea9d",
   "metadata": {},
   "outputs": [
    {
     "data": {
      "text/plain": [
       "load_ycb_mesh (generic function with 1 method)"
      ]
     },
     "execution_count": 19,
     "metadata": {},
     "output_type": "execute_result"
    }
   ],
   "source": [
    "function load_ycb_mesh(idx::Int; scale=1000.0)\n",
    "    mesh_path = j.utils.get_assets_dir() * \"/bop/ycbv/models/obj_$(lpad(idx, 6, \"0\")).ply\"\n",
    "    pymesh = trimesh.load(mesh_path)\n",
    "    pymesh.vertices *= 1.0/scale\n",
    "    pymesh = j.mesh.center_mesh(pymesh)\n",
    "    Mesh(pymesh)\n",
    "end"
   ]
  },
  {
   "cell_type": "code",
   "execution_count": 20,
   "id": "91521124",
   "metadata": {},
   "outputs": [
    {
     "data": {
      "text/plain": [
       "add_mesh! (generic function with 1 method)"
      ]
     },
     "execution_count": 20,
     "metadata": {},
     "output_type": "execute_result"
    }
   ],
   "source": [
    "add_mesh!(renderer::JAXRenderer, mesh::Mesh) = renderer.pyobj.add_mesh(mesh.pyobj)"
   ]
  },
  {
   "cell_type": "code",
   "execution_count": 21,
   "id": "39860de3",
   "metadata": {},
   "outputs": [
    {
     "data": {
      "text/plain": [
       "homcoords (generic function with 1 method)"
      ]
     },
     "execution_count": 21,
     "metadata": {},
     "output_type": "execute_result"
    }
   ],
   "source": [
    "homcoords(p::Pose) = [p.orientation p.pos; 0 0 0 1]"
   ]
  },
  {
   "cell_type": "code",
   "execution_count": 22,
   "id": "9473ceff",
   "metadata": {},
   "outputs": [
    {
     "data": {
      "text/plain": [
       "homcoords_to_pose (generic function with 1 method)"
      ]
     },
     "execution_count": 22,
     "metadata": {},
     "output_type": "execute_result"
    }
   ],
   "source": [
    "homcoords_to_pose(h::Matrix{<:Real}) = Pose(h[1:3, 4], RotMatrix{3}(h[1:3, 1:3]))"
   ]
  },
  {
   "cell_type": "code",
   "execution_count": 23,
   "id": "1dbda8df",
   "metadata": {},
   "outputs": [
    {
     "data": {
      "text/plain": [
       "render_object_at_pose (generic function with 1 method)"
      ]
     },
     "execution_count": 23,
     "metadata": {},
     "output_type": "execute_result"
    }
   ],
   "source": [
    "render_object_at_pose(renderer::JAXRenderer, reg_idx::Int, p::Pose) =\n",
    "    np.array(renderer.pyobj.render_single_object(jnp.array(homcoords(p)), reg_idx))"
   ]
  },
  {
   "cell_type": "code",
   "execution_count": 24,
   "id": "a5c82a3e",
   "metadata": {},
   "outputs": [],
   "source": [
    "# renderer = make_renderer(intrinsics)"
   ]
  },
  {
   "cell_type": "code",
   "execution_count": 25,
   "id": "1b741f20",
   "metadata": {},
   "outputs": [],
   "source": [
    "# ycb_mesh = load_ycb_mesh(5)"
   ]
  },
  {
   "cell_type": "code",
   "execution_count": 26,
   "id": "734b6eee",
   "metadata": {},
   "outputs": [],
   "source": [
    "# add_mesh!(renderer, ycb_mesh)a"
   ]
  },
  {
   "cell_type": "code",
   "execution_count": 27,
   "id": "1ea7781f",
   "metadata": {},
   "outputs": [],
   "source": [
    "# gt_img = render_object_at_pose(renderer, 0, Pose(-0.25, 0, 0.5, RotX(π/2)));"
   ]
  },
  {
   "cell_type": "code",
   "execution_count": 28,
   "id": "89faaff6",
   "metadata": {},
   "outputs": [],
   "source": [
    "# j.get_depth_image(gt_img[:, :, 3])"
   ]
  },
  {
   "cell_type": "markdown",
   "id": "df0367f1",
   "metadata": {},
   "source": [
    "---"
   ]
  },
  {
   "cell_type": "code",
   "execution_count": 29,
   "id": "76f196cb",
   "metadata": {},
   "outputs": [
    {
     "ename": "LoadError",
     "evalue": "UndefVarError: ShapeModelParams not defined",
     "output_type": "error",
     "traceback": [
      "UndefVarError: ShapeModelParams not defined",
      "",
      "Stacktrace:",
      " [1] top-level scope",
      "   @ In[29]:1"
     ]
    }
   ],
   "source": [
    "shape_params = ShapeModelParams(rand(100, 100, 100));"
   ]
  },
  {
   "cell_type": "code",
   "execution_count": 30,
   "id": "6b390728",
   "metadata": {},
   "outputs": [
    {
     "ename": "LoadError",
     "evalue": "UndefVarError: shape_model not defined",
     "output_type": "error",
     "traceback": [
      "UndefVarError: shape_model not defined",
      "",
      "Stacktrace:",
      " [1] top-level scope",
      "   @ In[30]:1"
     ]
    }
   ],
   "source": [
    "shape = random(shape_model, shape_params);"
   ]
  },
  {
   "cell_type": "code",
   "execution_count": 31,
   "id": "502a2eed",
   "metadata": {},
   "outputs": [
    {
     "ename": "LoadError",
     "evalue": "UndefVarError: VoxelGrid not defined",
     "output_type": "error",
     "traceback": [
      "UndefVarError: VoxelGrid not defined",
      "",
      "Stacktrace:",
      " [1] top-level scope",
      "   @ In[31]:1"
     ]
    }
   ],
   "source": [
    "function make_mesh(shape::VoxelGrid)\n",
    "    occupied_centers = SCALE * vcat(map(cidx->[cidx.I...]', findall(shape.occupied))...)\n",
    "    pymesh = trimesh.voxel.ops.points_to_marching_cubes(occupied_centers, pitch=0.1)\n",
    "    pymesh.vertices *= 1.0/1000.0\n",
    "    pymesh = j.mesh.center_mesh(pymesh)\n",
    "    Mesh(pymesh)\n",
    "end"
   ]
  },
  {
   "cell_type": "code",
   "execution_count": 32,
   "id": "ab946d9b",
   "metadata": {},
   "outputs": [
    {
     "ename": "LoadError",
     "evalue": "UndefVarError: shape not defined",
     "output_type": "error",
     "traceback": [
      "UndefVarError: shape not defined",
      "",
      "Stacktrace:",
      " [1] top-level scope",
      "   @ In[32]:1"
     ]
    }
   ],
   "source": [
    "shape_mesh = make_mesh(shape);"
   ]
  },
  {
   "cell_type": "code",
   "execution_count": 33,
   "id": "c9936f6c",
   "metadata": {},
   "outputs": [],
   "source": [
    "# add_mesh!(renderer, shape_mesh)"
   ]
  },
  {
   "cell_type": "code",
   "execution_count": 34,
   "id": "93db5692",
   "metadata": {},
   "outputs": [],
   "source": [
    "# shape_img = render_object_at_pose(renderer, 1, Pose(0, 0, 0.5, IDENTITY_ORN));"
   ]
  },
  {
   "cell_type": "code",
   "execution_count": 35,
   "id": "fe70eb3b",
   "metadata": {},
   "outputs": [],
   "source": [
    "# j.get_depth_image(shape_img[:, :, 3])"
   ]
  },
  {
   "cell_type": "markdown",
   "id": "222c7979",
   "metadata": {},
   "source": [
    "---"
   ]
  },
  {
   "cell_type": "code",
   "execution_count": 36,
   "id": "8ba08dec",
   "metadata": {},
   "outputs": [],
   "source": [
    "table_mesh = Mesh(j.mesh.make_cuboid_mesh([10.0, 0.01, 10.0]));"
   ]
  },
  {
   "cell_type": "code",
   "execution_count": 37,
   "id": "5f3f17ea",
   "metadata": {},
   "outputs": [],
   "source": [
    "# add_mesh!(renderer, table_mesh)"
   ]
  },
  {
   "cell_type": "code",
   "execution_count": 38,
   "id": "acb31c51",
   "metadata": {},
   "outputs": [],
   "source": [
    "# table_img = render_object_at_pose(renderer, 2, Pose(0, 0, 10, RotX(π/3)));"
   ]
  },
  {
   "cell_type": "code",
   "execution_count": 39,
   "id": "1b5012a5",
   "metadata": {},
   "outputs": [],
   "source": [
    "# j.get_depth_image(table_img[:, :, 3])"
   ]
  },
  {
   "cell_type": "markdown",
   "id": "4f477c4e",
   "metadata": {},
   "source": [
    "---"
   ]
  },
  {
   "cell_type": "code",
   "execution_count": 40,
   "id": "e6846a80",
   "metadata": {},
   "outputs": [],
   "source": [
    "@enum ContactPlane begin #XXX bad names\n",
    "    bottom\n",
    "    top\n",
    "    back\n",
    "    front\n",
    "    left\n",
    "    right\n",
    "end"
   ]
  },
  {
   "cell_type": "code",
   "execution_count": 41,
   "id": "13eb0056",
   "metadata": {},
   "outputs": [
    {
     "data": {
      "text/plain": [
       "add_child_node! (generic function with 1 method)"
      ]
     },
     "execution_count": 41,
     "metadata": {},
     "output_type": "execute_result"
    }
   ],
   "source": [
    "struct ContactParams\n",
    "    parent_plane::ContactPlane\n",
    "    child_plane::ContactPlane\n",
    "    child_relative_pose::Tuple{Float64,Float64,Float64} #Δx, Δy, θ \n",
    "end\n",
    "\n",
    "abstract type SceneGraphNode end\n",
    "\n",
    "struct ChildNode <: SceneGraphNode\n",
    "    label::Symbol\n",
    "    mesh::Mesh\n",
    "    contact_params::ContactParams\n",
    "end\n",
    "\n",
    "struct FloatingNode <: SceneGraphNode\n",
    "    label::Symbol\n",
    "    mesh::Mesh\n",
    "    pose::Pose\n",
    "end\n",
    "\n",
    "\n",
    "struct TableTopSceneGraph \n",
    "    table_node::FloatingNode\n",
    "    object_nodes::Vector{ChildNode}\n",
    "end\n",
    "\n",
    "num_objs(scene::TableTopSceneGraph) = length(scene.object_nodes)\n",
    "\n",
    "TableTopSceneGraph(table_node) = TableTopSceneGraph(table_node, ChildNode[])\n",
    "\n",
    "add_child_node!(sg::TableTopSceneGraph, node::ChildNode) = \n",
    "    push!(sg.object_nodes, node)"
   ]
  },
  {
   "cell_type": "code",
   "execution_count": 42,
   "id": "a2abefad",
   "metadata": {},
   "outputs": [],
   "source": [
    "struct DepthImage\n",
    "    arr::Array{Float32,3}\n",
    "end"
   ]
  },
  {
   "cell_type": "code",
   "execution_count": 43,
   "id": "f3269613",
   "metadata": {},
   "outputs": [
    {
     "data": {
      "text/plain": [
       "image_to_cloud (generic function with 1 method)"
      ]
     },
     "execution_count": 43,
     "metadata": {},
     "output_type": "execute_result"
    }
   ],
   "source": [
    "function image_to_cloud(img::DepthImage)\n",
    "    idxs = findall(img.arr[:, :, 3] .> 0);\n",
    "    hcat([img.arr[idx.I..., 1:3] for idx in idxs]...)\n",
    "end"
   ]
  },
  {
   "cell_type": "code",
   "execution_count": 44,
   "id": "9681310c",
   "metadata": {},
   "outputs": [
    {
     "data": {
      "text/plain": [
       "add_scene_meshes! (generic function with 1 method)"
      ]
     },
     "execution_count": 44,
     "metadata": {},
     "output_type": "execute_result"
    }
   ],
   "source": [
    "function add_scene_meshes!(renderer::JAXRenderer, scene::TableTopSceneGraph)\n",
    "    add_mesh!(renderer, scene.table_node.mesh)\n",
    "    for node in scene.object_nodes\n",
    "        add_mesh!(renderer, node.mesh)\n",
    "    end\n",
    "end"
   ]
  },
  {
   "cell_type": "code",
   "execution_count": 45,
   "id": "a00665d8",
   "metadata": {},
   "outputs": [],
   "source": [
    "cam_pose_from_pos_target_up(pos, target, up) = \n",
    "    homcoords_to_pose(np.array(j.t3d.transform_from_pos_target_up(pos, target, up)));"
   ]
  },
  {
   "cell_type": "code",
   "execution_count": 46,
   "id": "879bb876",
   "metadata": {},
   "outputs": [
    {
     "data": {
      "text/plain": [
       "render_scene (generic function with 1 method)"
      ]
     },
     "execution_count": 46,
     "metadata": {},
     "output_type": "execute_result"
    }
   ],
   "source": [
    "function render_scene(scene::TableTopSceneGraph, cam_pose::Pose, cam_intrinsics::Intrinsics)\n",
    "    renderer = make_renderer(cam_intrinsics)\n",
    "    add_scene_meshes!(renderer, scene)\n",
    "    absolute_poses = jnp.array([homcoords(scene.table_node.pose),\n",
    "                                fill(homcoords(IDENTITY_POSE), length(scene.object_nodes))...])\n",
    "    edges = jnp.array([[-1,0], [[0,i] for i=1:num_objs(scene)]...])\n",
    "    contact_params = jnp.array([[0.0, 0.0, 0.0],\n",
    "                               [[n.contact_params.child_relative_pose...] for n in scene.object_nodes]...])\n",
    "    face_parents = jnp.array([Int(top),[Int(n.contact_params.parent_plane) for n in scene.object_nodes]...])\n",
    "    face_childs = jnp.array([Int(bottom),[Int(n.contact_params.child_plane) for n in scene.object_nodes]...])\n",
    "    poses = j.scene_graph.absolute_poses_from_scene_graph_jit(\n",
    "        absolute_poses, renderer.pyobj.model_box_dims, edges, contact_params, face_parents, face_childs)\n",
    "    img = np.array(renderer.pyobj.render_multiobject(\n",
    "        jnp.matmul(jnp.linalg.inv(homcoords(cam_pose)), poses),\n",
    "        0:length(scene.object_nodes)))\n",
    "    pydecref(renderer.pyobj)\n",
    "    img\n",
    "end"
   ]
  },
  {
   "cell_type": "code",
   "execution_count": 47,
   "id": "79490efd",
   "metadata": {},
   "outputs": [
    {
     "data": {
      "text/plain": [
       "render_scene_to_cloud (generic function with 1 method)"
      ]
     },
     "execution_count": 47,
     "metadata": {},
     "output_type": "execute_result"
    }
   ],
   "source": [
    "render_scene_to_cloud(scene::TableTopSceneGraph, cam_pose::Pose, cam_intrinsics::Intrinsics) =\n",
    "    image_to_cloud(DepthImage(render_scene(scene, cam_pose, cam_intrinsics)))"
   ]
  },
  {
   "cell_type": "code",
   "execution_count": 48,
   "id": "df57f4ee",
   "metadata": {},
   "outputs": [],
   "source": [
    "TABLE_MESH = Mesh(j.mesh.make_cuboid_mesh([20.0, 0.01, 20.0]));\n",
    "TABLE_POSE = IDENTITY_POSE\n",
    "TABLE_NODE = FloatingNode(:table, TABLE_MESH, TABLE_POSE);"
   ]
  },
  {
   "cell_type": "code",
   "execution_count": 49,
   "id": "2a144c2f",
   "metadata": {},
   "outputs": [],
   "source": [
    "mustard_bottle_mesh = load_ycb_mesh(5; scale=100)\n",
    "mustard_bottle_cparams = ContactParams(top, front, (0.0, 0.0, π/3))\n",
    "mustard_bottle_node = ChildNode(:mustard, mustard_bottle_mesh, mustard_bottle_cparams);"
   ]
  },
  {
   "cell_type": "code",
   "execution_count": 50,
   "id": "1b775f8d",
   "metadata": {},
   "outputs": [],
   "source": [
    "ycb_scene = TableTopSceneGraph(TABLE_NODE, [mustard_bottle_node]);"
   ]
  },
  {
   "cell_type": "code",
   "execution_count": 71,
   "id": "81a7b719",
   "metadata": {},
   "outputs": [],
   "source": [
    "pos = [0.0, -7.0, 7.0]\n",
    "target = [0.0, 0.0, 0.0]\n",
    "up = [0.0, -1.0, 0.0]\n",
    "cam_pose = cam_pose_from_pos_target_up(pos, target, up);"
   ]
  },
  {
   "cell_type": "code",
   "execution_count": 72,
   "id": "2f38f080",
   "metadata": {},
   "outputs": [
    {
     "data": {
      "text/plain": [
       "Pose⟨pos=Float32[0.0, -7.0, 7.0], orientation=(w=0.0, x=-0.0, y=0.9238795, z=0.38268346)⟩"
      ]
     },
     "execution_count": 72,
     "metadata": {},
     "output_type": "execute_result"
    }
   ],
   "source": [
    "cam_pose"
   ]
  },
  {
   "cell_type": "code",
   "execution_count": 52,
   "id": "0929e650",
   "metadata": {},
   "outputs": [],
   "source": [
    "# bunny_mesh = trimesh.load(j.utils.get_assets_dir() * \"/sample_objs/bunny.obj\")\n",
    "# bunny_mesh = Mesh(j.mesh.center_mesh(bunny_mesh))"
   ]
  },
  {
   "cell_type": "code",
   "execution_count": 53,
   "id": "702857dd",
   "metadata": {},
   "outputs": [
    {
     "name": "stdout",
     "output_type": "stream",
     "text": [
      "Increasing frame buffer size to (width, height, depth) = (320, 320, 2048)\n"
     ]
    }
   ],
   "source": [
    "ycb_img = render_scene(ycb_scene, cam_pose, intrinsics);"
   ]
  },
  {
   "cell_type": "code",
   "execution_count": 54,
   "id": "e51d5825",
   "metadata": {},
   "outputs": [
    {
     "data": {
      "image/png": "[encoded data removed]",
      "text/plain": [
       "PyObject <PIL.Image.Image image mode=RGBA size=300x300 at 0x7FC4D71F2C70>"
      ]
     },
     "execution_count": 54,
     "metadata": {},
     "output_type": "execute_result"
    }
   ],
   "source": [
    "j.get_depth_image(np.array(ycb_img)[:, :, 3]; max=10)"
   ]
  },
  {
   "cell_type": "code",
   "execution_count": 55,
   "id": "1c30de4e",
   "metadata": {},
   "outputs": [
    {
     "name": "stdout",
     "output_type": "stream",
     "text": [
      "You can open the visualizer by visiting the following URL:\n",
      "http://127.0.0.1:7002/static/\n"
     ]
    }
   ],
   "source": [
    "j.meshcat.setup_visualizer()"
   ]
  },
  {
   "cell_type": "code",
   "execution_count": 56,
   "id": "ad863221",
   "metadata": {},
   "outputs": [
    {
     "data": {
      "text/plain": [
       "3×68876 Matrix{Float32}:\n",
       "  9.95897      9.89257      9.82706     …  -4.23554     -4.22341\n",
       " -0.00499916  -0.00499868  -0.00499868     -0.00500011  -0.00499964\n",
       " -4.78373     -4.65854     -4.535           5.95475      5.97779"
      ]
     },
     "execution_count": 56,
     "metadata": {},
     "output_type": "execute_result"
    }
   ],
   "source": [
    "pc = cam_pose * image_to_cloud(DepthImage(ycb_img))"
   ]
  },
  {
   "cell_type": "code",
   "execution_count": 57,
   "id": "69589286",
   "metadata": {},
   "outputs": [],
   "source": [
    "j.meshcat.show_cloud(\"cloud\", pc')"
   ]
  },
  {
   "cell_type": "code",
   "execution_count": 58,
   "id": "32dd17cf",
   "metadata": {},
   "outputs": [
    {
     "data": {
      "text/plain": [
       "3000"
      ]
     },
     "execution_count": 58,
     "metadata": {},
     "output_type": "execute_result"
    }
   ],
   "source": [
    "OBS_CLOUD_SIZE = 3000"
   ]
  },
  {
   "cell_type": "code",
   "execution_count": 59,
   "id": "8c0d8070",
   "metadata": {},
   "outputs": [
    {
     "data": {
      "text/plain": [
       "(10, 10, 10)"
      ]
     },
     "execution_count": 59,
     "metadata": {},
     "output_type": "execute_result"
    }
   ],
   "source": [
    "OUTLIER_ΔX, OUTLIER_ΔY, OUTLIER_ΔZ = 10, 10, 10"
   ]
  },
  {
   "cell_type": "code",
   "execution_count": 60,
   "id": "bf4eed29",
   "metadata": {},
   "outputs": [
    {
     "data": {
      "text/plain": [
       "logpdf (generic function with 26 methods)"
      ]
     },
     "execution_count": 60,
     "metadata": {},
     "output_type": "execute_result"
    }
   ],
   "source": [
    "struct StochRenderer <: Distribution{DepthImage} end\n",
    "stoch_render = StochRenderer()\n",
    "\n",
    "\n",
    "function random(::StochRenderer, scene, cam_pose, cam_intrinsics, p_outlier, noise)\n",
    "    full_cloud = render_scene_to_cloud(scene, cam_pose, cam_intrinsics)\n",
    "    obs_cloud = Array{Float32, 2}(undef, 3, OBS_CLOUD_SIZE)\n",
    "    outlier_idxs = findall(rand(OBS_CLOUD_SIZE) .< p_outlier)\n",
    "    inlier_idxs = filter(x -> !in(x, outlier_idxs), 1:OBS_CLOUD_SIZE)\n",
    "    obs_cloud[:, inlier_idxs] = full_cloud[:, rand(1:size(full_cloud, 2), length(inlier_idxs))]\n",
    "    obs_cloud[:, outlier_idxs] = rand(3, length(outlier_idxs)) .* [OUTLIER_ΔX, OUTLIER_ΔY, OUTLIER_ΔZ]\n",
    "    jax_normal = jax.vmap(key->jax.random.multivariate_normal(key, jnp.zeros(3), jnp.eye(3)*noise))\n",
    "    noise_cloud = np.array(jax_normal(jax.random.split(jax.random.PRNGKey(3), length(inlier_idxs))))\n",
    "    obs_cloud[:, inlier_idxs] += noise_cloud'\n",
    "    DepthImage(np.array(j.render_point_cloud(obs_cloud', cam_intrinsics)))\n",
    "end\n",
    "\n",
    "# XXX not parallel friendly\n",
    "# XXX unsound, implement different sound versions\n",
    "function logpdf(::StochRenderer, depth_img, scene, cam_pose, cam_intrinsics, p_outlier, noise)\n",
    "    full_cloud = render_scene_to_cloud(renderer, scene, cam_pose, cam_intrinsics)\n",
    "    obs_cloud = image_to_cloud(depth_img)\n",
    "    j.threedp3_likelihood_jit(full, rendered_img, [noise], p_outlier, OUTLIER_VOLUME)\n",
    "end\n"
   ]
  },
  {
   "cell_type": "code",
   "execution_count": null,
   "id": "4637e91d",
   "metadata": {},
   "outputs": [],
   "source": []
  },
  {
   "cell_type": "code",
   "execution_count": 61,
   "id": "08d205bb",
   "metadata": {},
   "outputs": [
    {
     "name": "stdout",
     "output_type": "stream",
     "text": [
      "Increasing frame buffer size to (width, height, depth) = (320, 320, 2048)\n"
     ]
    },
    {
     "data": {
      "text/plain": [
       "DepthImage([0.0 0.0 … 0.0 0.0; 0.0 0.0 … 0.0 0.0; … ; 0.0 0.0 … 0.0 0.0; 0.0 0.0 … 0.0 0.0;;; 0.0 0.0 … 0.0 0.0; 0.0 0.0 … 0.0 0.0; … ; 0.0 0.0 … 0.0 0.0; 0.0 0.0 … 0.0 0.0;;; 0.0 0.0 … 0.0 0.0; 0.0 0.0 … 0.0 0.0; … ; 0.0 0.0 … 0.0 0.0; 0.0 0.0 … 0.0 0.0])"
      ]
     },
     "execution_count": 61,
     "metadata": {},
     "output_type": "execute_result"
    }
   ],
   "source": [
    "dimg = random(stoch_render, ycb_scene, cam_pose, intrinsics, 1e-3, 1e-2)"
   ]
  },
  {
   "cell_type": "code",
   "execution_count": 62,
   "id": "40248243",
   "metadata": {},
   "outputs": [],
   "source": [
    "j.meshcat.clear()"
   ]
  },
  {
   "cell_type": "code",
   "execution_count": 63,
   "id": "ae338dc9",
   "metadata": {},
   "outputs": [
    {
     "data": {
      "text/plain": [
       "3×2887 Matrix{Float32}:\n",
       "  9.53665     9.13934     6.19016    5.62278    …  -5.12524     -4.8741\n",
       "  0.0743108  -0.0832667  -0.258344  -0.0995779      0.00449133  -0.0979443\n",
       " -3.9348     -3.26994     2.08707    3.27142        4.2544       4.63745"
      ]
     },
     "execution_count": 63,
     "metadata": {},
     "output_type": "execute_result"
    }
   ],
   "source": [
    "pc = cam_pose * image_to_cloud(dimg)"
   ]
  },
  {
   "cell_type": "code",
   "execution_count": 64,
   "id": "02a84af8",
   "metadata": {},
   "outputs": [],
   "source": [
    "j.meshcat.show_cloud(\"cloud\", pc')"
   ]
  },
  {
   "cell_type": "code",
   "execution_count": null,
   "id": "482a4599",
   "metadata": {},
   "outputs": [],
   "source": []
  }
 ],
 "metadata": {
  "kernelspec": {
   "display_name": "Julia 1.8.5",
   "language": "julia",
   "name": "julia-1.8"
  },
  "language_info": {
   "file_extension": ".jl",
   "mimetype": "application/julia",
   "name": "julia",
   "version": "1.8.5"
  }
 },
 "nbformat": 4,
 "nbformat_minor": 5
}
